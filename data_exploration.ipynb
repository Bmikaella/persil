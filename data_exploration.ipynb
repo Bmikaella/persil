{
 "cells": [
  {
   "cell_type": "markdown",
   "metadata": {},
   "source": [
    "Exploration of the dataset"
   ]
  },
  {
   "cell_type": "code",
   "execution_count": 15,
   "metadata": {},
   "outputs": [],
   "source": [
    "import pandas as pd\n",
    "from sklearn.datasets import make_blobs\n",
    "import numpy as np\n",
    "import matplotlib.pyplot as plt"
   ]
  },
  {
   "cell_type": "code",
   "execution_count": 9,
   "metadata": {},
   "outputs": [],
   "source": [
    "DATASETS_LOCATION = '/home/mibo/Datasets/m9k/'\n",
    "#AUTHORS_DATA_LOCATION = DATASETS_LOCATION + 'author_profiles.csv'\n",
    "#COMMENTS_DATA_LOCATION = DATASETS_LOCATION + 'comments_style_stat.csv'\n",
    "FEATURES_DATA_LOCATION = DATASETS_LOCATION + 'mb10k_features.csv'\n",
    "COMMENTS_LOCATION = '/home/mibo/Datasets/comments_last_100_min_20com_per_auth_w_wc_10_200.csv'"
   ]
  },
  {
   "cell_type": "code",
   "execution_count": 12,
   "metadata": {},
   "outputs": [],
   "source": [
    "authors_df = pd.read_csv(FEATURES_DATA_LOCATION)\n",
    "comments_df = pd.read_csv(COMMENTS_LOCATION)"
   ]
  },
  {
   "cell_type": "code",
   "execution_count": 19,
   "metadata": {},
   "outputs": [],
   "source": [
    "agree_df = authors_df['agreeableness']\n",
    "open_df = authors_df['openness']\n",
    "concis_df = authors_df['conscientiousness']\n",
    "extra_df = authors_df['extraversion']\n",
    "neuro_df = authors_df['neuroticism']"
   ]
  },
  {
   "cell_type": "code",
   "execution_count": 124,
   "metadata": {},
   "outputs": [],
   "source": [
    "authors_with_mbti = list(authors_df[authors_df.introverted.notnull()]['author'])\n",
    "authors_with_big5 = list(authors_df[authors_df.agreeableness.notnull()]['author'])"
   ]
  },
  {
   "cell_type": "code",
   "execution_count": 105,
   "metadata": {},
   "outputs": [],
   "source": [
    "mbti_labels = ['introverted', 'intuitive', 'thinking', 'perceiving']\n",
    "big5_labels = ['agreeableness', 'openness', 'conscientiousness', 'extraversion', 'neuroticism']"
   ]
  },
  {
   "cell_type": "code",
   "execution_count": 80,
   "metadata": {},
   "outputs": [],
   "source": [
    "#Checking the percentage of features and elements we have for each author\n",
    "authors_analysis = pd.DataFrame(list(zip(list(authors_df.columns), list(authors_df.isnull().sum(axis = 0)))), columns=['feature', 'nan_count'])\n",
    "authors_analysis['percentage'] = authors_analysis['nan_count']/len(authors_df)"
   ]
  },
  {
   "cell_type": "code",
   "execution_count": 85,
   "metadata": {},
   "outputs": [
    {
     "data": {
      "text/html": [
       "<div>\n",
       "<style scoped>\n",
       "    .dataframe tbody tr th:only-of-type {\n",
       "        vertical-align: middle;\n",
       "    }\n",
       "\n",
       "    .dataframe tbody tr th {\n",
       "        vertical-align: top;\n",
       "    }\n",
       "\n",
       "    .dataframe thead th {\n",
       "        text-align: right;\n",
       "    }\n",
       "</style>\n",
       "<table border=\"1\" class=\"dataframe\">\n",
       "  <thead>\n",
       "    <tr style=\"text-align: right;\">\n",
       "      <th></th>\n",
       "      <th>feature</th>\n",
       "      <th>nan_count</th>\n",
       "      <th>percentage</th>\n",
       "    </tr>\n",
       "  </thead>\n",
       "  <tbody>\n",
       "    <tr>\n",
       "      <th>1</th>\n",
       "      <td>mbti_type</td>\n",
       "      <td>1207</td>\n",
       "      <td>0.1207</td>\n",
       "    </tr>\n",
       "    <tr>\n",
       "      <th>2</th>\n",
       "      <td>introverted</td>\n",
       "      <td>1207</td>\n",
       "      <td>0.1207</td>\n",
       "    </tr>\n",
       "    <tr>\n",
       "      <th>3</th>\n",
       "      <td>intuitive</td>\n",
       "      <td>1207</td>\n",
       "      <td>0.1207</td>\n",
       "    </tr>\n",
       "    <tr>\n",
       "      <th>4</th>\n",
       "      <td>thinking</td>\n",
       "      <td>1207</td>\n",
       "      <td>0.1207</td>\n",
       "    </tr>\n",
       "    <tr>\n",
       "      <th>5</th>\n",
       "      <td>perceiving</td>\n",
       "      <td>1207</td>\n",
       "      <td>0.1207</td>\n",
       "    </tr>\n",
       "    <tr>\n",
       "      <th>6</th>\n",
       "      <td>gender</td>\n",
       "      <td>7134</td>\n",
       "      <td>0.7134</td>\n",
       "    </tr>\n",
       "    <tr>\n",
       "      <th>7</th>\n",
       "      <td>age</td>\n",
       "      <td>8256</td>\n",
       "      <td>0.8256</td>\n",
       "    </tr>\n",
       "    <tr>\n",
       "      <th>8</th>\n",
       "      <td>enneagram</td>\n",
       "      <td>9231</td>\n",
       "      <td>0.9231</td>\n",
       "    </tr>\n",
       "    <tr>\n",
       "      <th>9</th>\n",
       "      <td>country</td>\n",
       "      <td>7974</td>\n",
       "      <td>0.7974</td>\n",
       "    </tr>\n",
       "    <tr>\n",
       "      <th>10</th>\n",
       "      <td>state</td>\n",
       "      <td>9190</td>\n",
       "      <td>0.9190</td>\n",
       "    </tr>\n",
       "    <tr>\n",
       "      <th>11</th>\n",
       "      <td>type</td>\n",
       "      <td>8432</td>\n",
       "      <td>0.8432</td>\n",
       "    </tr>\n",
       "    <tr>\n",
       "      <th>12</th>\n",
       "      <td>agreeableness</td>\n",
       "      <td>8433</td>\n",
       "      <td>0.8433</td>\n",
       "    </tr>\n",
       "    <tr>\n",
       "      <th>13</th>\n",
       "      <td>openness</td>\n",
       "      <td>8432</td>\n",
       "      <td>0.8432</td>\n",
       "    </tr>\n",
       "    <tr>\n",
       "      <th>14</th>\n",
       "      <td>conscientiousness</td>\n",
       "      <td>8436</td>\n",
       "      <td>0.8436</td>\n",
       "    </tr>\n",
       "    <tr>\n",
       "      <th>15</th>\n",
       "      <td>extraversion</td>\n",
       "      <td>8432</td>\n",
       "      <td>0.8432</td>\n",
       "    </tr>\n",
       "    <tr>\n",
       "      <th>16</th>\n",
       "      <td>neuroticism</td>\n",
       "      <td>8434</td>\n",
       "      <td>0.8434</td>\n",
       "    </tr>\n",
       "    <tr>\n",
       "      <th>17</th>\n",
       "      <td>is_description</td>\n",
       "      <td>9853</td>\n",
       "      <td>0.9853</td>\n",
       "    </tr>\n",
       "    <tr>\n",
       "      <th>18</th>\n",
       "      <td>is_percentile</td>\n",
       "      <td>9647</td>\n",
       "      <td>0.9647</td>\n",
       "    </tr>\n",
       "    <tr>\n",
       "      <th>19</th>\n",
       "      <td>is_score</td>\n",
       "      <td>8926</td>\n",
       "      <td>0.8926</td>\n",
       "    </tr>\n",
       "    <tr>\n",
       "      <th>20</th>\n",
       "      <td>contains_details</td>\n",
       "      <td>8643</td>\n",
       "      <td>0.8643</td>\n",
       "    </tr>\n",
       "    <tr>\n",
       "      <th>24</th>\n",
       "      <td>region</td>\n",
       "      <td>9194</td>\n",
       "      <td>0.9194</td>\n",
       "    </tr>\n",
       "    <tr>\n",
       "      <th>25</th>\n",
       "      <td>continent</td>\n",
       "      <td>7974</td>\n",
       "      <td>0.7974</td>\n",
       "    </tr>\n",
       "    <tr>\n",
       "      <th>26</th>\n",
       "      <td>country_code</td>\n",
       "      <td>7936</td>\n",
       "      <td>0.7936</td>\n",
       "    </tr>\n",
       "    <tr>\n",
       "      <th>27</th>\n",
       "      <td>enneagram_type</td>\n",
       "      <td>9231</td>\n",
       "      <td>0.9231</td>\n",
       "    </tr>\n",
       "    <tr>\n",
       "      <th>28</th>\n",
       "      <td>enneagram_wing</td>\n",
       "      <td>9235</td>\n",
       "      <td>0.9235</td>\n",
       "    </tr>\n",
       "    <tr>\n",
       "      <th>29</th>\n",
       "      <td>is_native_english_country</td>\n",
       "      <td>7936</td>\n",
       "      <td>0.7936</td>\n",
       "    </tr>\n",
       "    <tr>\n",
       "      <th>30</th>\n",
       "      <td>predicted_test</td>\n",
       "      <td>9348</td>\n",
       "      <td>0.9348</td>\n",
       "    </tr>\n",
       "    <tr>\n",
       "      <th>31</th>\n",
       "      <td>test_name</td>\n",
       "      <td>8366</td>\n",
       "      <td>0.8366</td>\n",
       "    </tr>\n",
       "    <tr>\n",
       "      <th>32</th>\n",
       "      <td>test_scale</td>\n",
       "      <td>8366</td>\n",
       "      <td>0.8366</td>\n",
       "    </tr>\n",
       "    <tr>\n",
       "      <th>33</th>\n",
       "      <td>16pers_ta</td>\n",
       "      <td>9992</td>\n",
       "      <td>0.9992</td>\n",
       "    </tr>\n",
       "    <tr>\n",
       "      <th>34</th>\n",
       "      <td>test_result_type</td>\n",
       "      <td>8366</td>\n",
       "      <td>0.8366</td>\n",
       "    </tr>\n",
       "  </tbody>\n",
       "</table>\n",
       "</div>"
      ],
      "text/plain": [
       "                      feature  nan_count  percentage\n",
       "1                   mbti_type       1207      0.1207\n",
       "2                 introverted       1207      0.1207\n",
       "3                   intuitive       1207      0.1207\n",
       "4                    thinking       1207      0.1207\n",
       "5                  perceiving       1207      0.1207\n",
       "6                      gender       7134      0.7134\n",
       "7                         age       8256      0.8256\n",
       "8                   enneagram       9231      0.9231\n",
       "9                     country       7974      0.7974\n",
       "10                      state       9190      0.9190\n",
       "11                       type       8432      0.8432\n",
       "12              agreeableness       8433      0.8433\n",
       "13                   openness       8432      0.8432\n",
       "14          conscientiousness       8436      0.8436\n",
       "15               extraversion       8432      0.8432\n",
       "16                neuroticism       8434      0.8434\n",
       "17             is_description       9853      0.9853\n",
       "18              is_percentile       9647      0.9647\n",
       "19                   is_score       8926      0.8926\n",
       "20           contains_details       8643      0.8643\n",
       "24                     region       9194      0.9194\n",
       "25                  continent       7974      0.7974\n",
       "26               country_code       7936      0.7936\n",
       "27             enneagram_type       9231      0.9231\n",
       "28             enneagram_wing       9235      0.9235\n",
       "29  is_native_english_country       7936      0.7936\n",
       "30             predicted_test       9348      0.9348\n",
       "31                  test_name       8366      0.8366\n",
       "32                 test_scale       8366      0.8366\n",
       "33                  16pers_ta       9992      0.9992\n",
       "34           test_result_type       8366      0.8366"
      ]
     },
     "execution_count": 85,
     "metadata": {},
     "output_type": "execute_result"
    }
   ],
   "source": [
    "features_with_nan = authors_analysis[authors_analysis['nan_count'] != 0]\n",
    "features_with_nan"
   ]
  },
  {
   "cell_type": "code",
   "execution_count": 86,
   "metadata": {},
   "outputs": [],
   "source": [
    "a1 = authors_df['mbti_type'].isnull() \n",
    "a2 = authors_df['openness'].isnull()\n",
    "authors_with_no_personality = [a[2] for a in list(zip(a1,a2, range(0,len(authors_df)))) if a[0] == True and a[1] == True]"
   ]
  },
  {
   "cell_type": "code",
   "execution_count": 87,
   "metadata": {},
   "outputs": [
    {
     "data": {
      "text/html": [
       "<div>\n",
       "<style scoped>\n",
       "    .dataframe tbody tr th:only-of-type {\n",
       "        vertical-align: middle;\n",
       "    }\n",
       "\n",
       "    .dataframe tbody tr th {\n",
       "        vertical-align: top;\n",
       "    }\n",
       "\n",
       "    .dataframe thead th {\n",
       "        text-align: right;\n",
       "    }\n",
       "</style>\n",
       "<table border=\"1\" class=\"dataframe\">\n",
       "  <thead>\n",
       "    <tr style=\"text-align: right;\">\n",
       "      <th></th>\n",
       "      <th>author</th>\n",
       "      <th>mbti_type</th>\n",
       "      <th>introverted</th>\n",
       "      <th>intuitive</th>\n",
       "      <th>thinking</th>\n",
       "      <th>perceiving</th>\n",
       "      <th>gender</th>\n",
       "      <th>age</th>\n",
       "      <th>enneagram</th>\n",
       "      <th>country</th>\n",
       "      <th>state</th>\n",
       "      <th>type</th>\n",
       "      <th>agreeableness</th>\n",
       "      <th>openness</th>\n",
       "      <th>conscientiousness</th>\n",
       "    </tr>\n",
       "  </thead>\n",
       "  <tbody>\n",
       "    <tr>\n",
       "      <th>371</th>\n",
       "      <td>ApricotAmber</td>\n",
       "      <td>NaN</td>\n",
       "      <td>NaN</td>\n",
       "      <td>NaN</td>\n",
       "      <td>NaN</td>\n",
       "      <td>NaN</td>\n",
       "      <td>NaN</td>\n",
       "      <td>NaN</td>\n",
       "      <td>NaN</td>\n",
       "      <td>NaN</td>\n",
       "      <td>NaN</td>\n",
       "      <td>NaN</td>\n",
       "      <td>NaN</td>\n",
       "      <td>NaN</td>\n",
       "      <td>NaN</td>\n",
       "    </tr>\n",
       "    <tr>\n",
       "      <th>2464</th>\n",
       "      <td>Komatik</td>\n",
       "      <td>NaN</td>\n",
       "      <td>NaN</td>\n",
       "      <td>NaN</td>\n",
       "      <td>NaN</td>\n",
       "      <td>NaN</td>\n",
       "      <td>NaN</td>\n",
       "      <td>NaN</td>\n",
       "      <td>NaN</td>\n",
       "      <td>NaN</td>\n",
       "      <td>NaN</td>\n",
       "      <td>NaN</td>\n",
       "      <td>NaN</td>\n",
       "      <td>NaN</td>\n",
       "      <td>NaN</td>\n",
       "    </tr>\n",
       "    <tr>\n",
       "      <th>2499</th>\n",
       "      <td>KuteKitteh</td>\n",
       "      <td>NaN</td>\n",
       "      <td>NaN</td>\n",
       "      <td>NaN</td>\n",
       "      <td>NaN</td>\n",
       "      <td>NaN</td>\n",
       "      <td>NaN</td>\n",
       "      <td>NaN</td>\n",
       "      <td>NaN</td>\n",
       "      <td>NaN</td>\n",
       "      <td>NaN</td>\n",
       "      <td>NaN</td>\n",
       "      <td>NaN</td>\n",
       "      <td>NaN</td>\n",
       "      <td>NaN</td>\n",
       "    </tr>\n",
       "    <tr>\n",
       "      <th>3038</th>\n",
       "      <td>NYPunk</td>\n",
       "      <td>NaN</td>\n",
       "      <td>NaN</td>\n",
       "      <td>NaN</td>\n",
       "      <td>NaN</td>\n",
       "      <td>NaN</td>\n",
       "      <td>NaN</td>\n",
       "      <td>NaN</td>\n",
       "      <td>NaN</td>\n",
       "      <td>NaN</td>\n",
       "      <td>NaN</td>\n",
       "      <td>NaN</td>\n",
       "      <td>NaN</td>\n",
       "      <td>NaN</td>\n",
       "      <td>NaN</td>\n",
       "    </tr>\n",
       "    <tr>\n",
       "      <th>5124</th>\n",
       "      <td>_reLight_</td>\n",
       "      <td>NaN</td>\n",
       "      <td>NaN</td>\n",
       "      <td>NaN</td>\n",
       "      <td>NaN</td>\n",
       "      <td>NaN</td>\n",
       "      <td>NaN</td>\n",
       "      <td>NaN</td>\n",
       "      <td>NaN</td>\n",
       "      <td>NaN</td>\n",
       "      <td>NaN</td>\n",
       "      <td>NaN</td>\n",
       "      <td>NaN</td>\n",
       "      <td>NaN</td>\n",
       "      <td>NaN</td>\n",
       "    </tr>\n",
       "  </tbody>\n",
       "</table>\n",
       "</div>"
      ],
      "text/plain": [
       "            author mbti_type  introverted  intuitive  thinking  perceiving  \\\n",
       "371   ApricotAmber       NaN          NaN        NaN       NaN         NaN   \n",
       "2464       Komatik       NaN          NaN        NaN       NaN         NaN   \n",
       "2499    KuteKitteh       NaN          NaN        NaN       NaN         NaN   \n",
       "3038        NYPunk       NaN          NaN        NaN       NaN         NaN   \n",
       "5124     _reLight_       NaN          NaN        NaN       NaN         NaN   \n",
       "\n",
       "     gender  age enneagram country state type  agreeableness  openness  \\\n",
       "371     NaN  NaN       NaN     NaN   NaN  NaN            NaN       NaN   \n",
       "2464    NaN  NaN       NaN     NaN   NaN  NaN            NaN       NaN   \n",
       "2499    NaN  NaN       NaN     NaN   NaN  NaN            NaN       NaN   \n",
       "3038    NaN  NaN       NaN     NaN   NaN  NaN            NaN       NaN   \n",
       "5124    NaN  NaN       NaN     NaN   NaN  NaN            NaN       NaN   \n",
       "\n",
       "      conscientiousness  \n",
       "371                 NaN  \n",
       "2464                NaN  \n",
       "2499                NaN  \n",
       "3038                NaN  \n",
       "5124                NaN  "
      ]
     },
     "execution_count": 87,
     "metadata": {},
     "output_type": "execute_result"
    }
   ],
   "source": [
    "authors_df.iloc[authors_with_no_personality, :15]"
   ]
  },
  {
   "cell_type": "code",
   "execution_count": 181,
   "metadata": {},
   "outputs": [
    {
     "data": {
      "image/png": "[encoded data removed]",
      "text/plain": [
       "<Figure size 432x288 with 2 Axes>"
      ]
     },
     "metadata": {
      "needs_background": "light"
     },
     "output_type": "display_data"
    },
    {
     "data": {
      "image/png": "[encoded data removed]",
      "text/plain": [
       "<Figure size 432x288 with 2 Axes>"
      ]
     },
     "metadata": {
      "needs_background": "light"
     },
     "output_type": "display_data"
    },
    {
     "data": {
      "image/png": "[encoded data removed]",
      "text/plain": [
       "<Figure size 432x288 with 2 Axes>"
      ]
     },
     "metadata": {
      "needs_background": "light"
     },
     "output_type": "display_data"
    },
    {
     "data": {
      "image/png": "[encoded data removed]",
      "text/plain": [
       "<Figure size 432x288 with 2 Axes>"
      ]
     },
     "metadata": {
      "needs_background": "light"
     },
     "output_type": "display_data"
    },
    {
     "data": {
      "image/png": "[encoded data removed]",
      "text/plain": [
       "<Figure size 432x288 with 2 Axes>"
      ]
     },
     "metadata": {
      "needs_background": "light"
     },
     "output_type": "display_data"
    }
   ],
   "source": [
    "for big5_trait in big5_labels:\n",
    "    plt.figure(1)\n",
    "    plt.subplots_adjust(hspace=0.6)\n",
    "    plt.subplot(211)\n",
    "    authors_df[(authors_df[big5_trait].notnull()) & (authors_df.test_scale=='percentiles')][big5_trait].apply(lambda x : round(x/100,1)).value_counts().sort_index().plot.bar()\n",
    "    plt.xlabel(big5_trait+'_percentiles')\n",
    "    plt.subplot(212)\n",
    "    authors_df[(authors_df[big5_trait].notnull()) & (authors_df.test_scale=='scores')][big5_trait].apply(lambda x : round(x/100,1)).value_counts().sort_index().plot.bar()\n",
    "    plt.xlabel(big5_trait+'_scores')\n",
    "    plt.show()"
   ]
  },
  {
   "cell_type": "code",
   "execution_count": 150,
   "metadata": {},
   "outputs": [
    {
     "data": {
      "text/plain": [
       "366"
      ]
     },
     "execution_count": 150,
     "metadata": {},
     "output_type": "execute_result"
    }
   ],
   "source": [
    "authors_with_both_persos = [a[2] for a in list(zip(a1,a2, range(0,len(authors_df)))) if a[0] == False and a[1] == False]\n",
    "len(authors_with_both_persos)"
   ]
  },
  {
   "cell_type": "code",
   "execution_count": 182,
   "metadata": {},
   "outputs": [
    {
     "name": "stdout",
     "output_type": "stream",
     "text": [
      "introverted 0.6945 : 0.3055\n",
      "intuitive 0.7787 : 0.22130000000000005\n",
      "thinking 0.566 : 0.43400000000000005\n",
      "perceiving 0.5156 : 0.48440000000000005\n"
     ]
    }
   ],
   "source": [
    "for mbti_trait in mbti_labels:\n",
    "    mbti_cur_per = authors_df[mbti_trait].sum()/len(authors_df)\n",
    "    print(f'{mbti_trait} {mbti_cur_per} : {1-mbti_cur_per}')"
   ]
  },
  {
   "cell_type": "code",
   "execution_count": 130,
   "metadata": {},
   "outputs": [
    {
     "data": {
      "image/png": "[encoded data removed]",
      "text/plain": [
       "<Figure size 432x288 with 1 Axes>"
      ]
     },
     "metadata": {
      "needs_background": "light"
     },
     "output_type": "display_data"
    },
    {
     "data": {
      "image/png": "[encoded data removed]",
      "text/plain": [
       "<Figure size 432x288 with 1 Axes>"
      ]
     },
     "metadata": {
      "needs_background": "light"
     },
     "output_type": "display_data"
    },
    {
     "data": {
      "image/png": "[encoded data removed]",
      "text/plain": [
       "<Figure size 432x288 with 1 Axes>"
      ]
     },
     "metadata": {
      "needs_background": "light"
     },
     "output_type": "display_data"
    },
    {
     "data": {
      "image/png": "[encoded data removed]",
      "text/plain": [
       "<Figure size 432x288 with 1 Axes>"
      ]
     },
     "metadata": {
      "needs_background": "light"
     },
     "output_type": "display_data"
    }
   ],
   "source": [
    "for mbti_trait in mbti_labels:\n",
    "    authors_df.groupby([mbti_trait])[mbti_trait].count().plot.bar()\n",
    "    plt.show()"
   ]
  },
  {
   "cell_type": "code",
   "execution_count": 171,
   "metadata": {},
   "outputs": [
    {
     "name": "stdout",
     "output_type": "stream",
     "text": [
      "730\n",
      "904\n"
     ]
    }
   ],
   "source": [
    "print(len(authors_df[authors_df.test_scale == 'scores']['openness']))\n",
    "print(len(authors_df[authors_df.test_scale == 'percentiles']['openness']))"
   ]
  },
  {
   "cell_type": "code",
   "execution_count": 21,
   "metadata": {},
   "outputs": [
    {
     "data": {
      "text/plain": [
       "['author',\n",
       " 'mbti_type',\n",
       " 'introverted',\n",
       " 'intuitive',\n",
       " 'thinking',\n",
       " 'perceiving',\n",
       " 'gender',\n",
       " 'age',\n",
       " 'enneagram',\n",
       " 'country',\n",
       " 'state',\n",
       " 'type',\n",
       " 'agreeableness',\n",
       " 'openness',\n",
       " 'conscientiousness',\n",
       " 'extraversion',\n",
       " 'neuroticism',\n",
       " 'is_description',\n",
       " 'is_percentile',\n",
       " 'is_score',\n",
       " 'contains_details',\n",
       " 'num_comments',\n",
       " 'en_comments',\n",
       " 'en_comments_percentage',\n",
       " 'region',\n",
       " 'continent',\n",
       " 'country_code',\n",
       " 'enneagram_type',\n",
       " 'enneagram_wing',\n",
       " 'is_native_english_country',\n",
       " 'predicted_test',\n",
       " 'test_name',\n",
       " 'test_scale',\n",
       " '16pers_ta',\n",
       " 'test_result_type',\n",
       " 'wc',\n",
       " 'help',\n",
       " 'office',\n",
       " 'dance',\n",
       " 'money_x',\n",
       " 'wedding',\n",
       " 'domestic_work',\n",
       " 'sleep',\n",
       " 'medical_emergency',\n",
       " 'cold',\n",
       " 'hate',\n",
       " 'cheerfulness',\n",
       " 'aggression',\n",
       " 'occupation',\n",
       " 'envy',\n",
       " 'anticipation_x',\n",
       " 'family_x',\n",
       " 'vacation',\n",
       " 'crime',\n",
       " 'attractive',\n",
       " 'masculine',\n",
       " 'prison',\n",
       " 'health_x',\n",
       " 'pride',\n",
       " 'dispute',\n",
       " 'nervousness',\n",
       " 'government',\n",
       " 'weakness',\n",
       " 'horror',\n",
       " 'swearing_terms',\n",
       " 'leisure_x',\n",
       " 'suffering',\n",
       " 'royalty',\n",
       " 'wealthy',\n",
       " 'tourism',\n",
       " 'furniture',\n",
       " 'school',\n",
       " 'magic',\n",
       " 'beach',\n",
       " 'journalism',\n",
       " 'morning',\n",
       " 'banking',\n",
       " 'social_media',\n",
       " 'exercise',\n",
       " 'night',\n",
       " 'kill',\n",
       " 'blue_collar_job',\n",
       " 'art',\n",
       " 'ridicule',\n",
       " 'play',\n",
       " 'computer',\n",
       " 'college',\n",
       " 'optimism',\n",
       " 'stealing',\n",
       " 'real_estate',\n",
       " 'home_x',\n",
       " 'divine',\n",
       " 'sexual_x',\n",
       " 'fear_x',\n",
       " 'irritability',\n",
       " 'superhero',\n",
       " 'business',\n",
       " 'driving',\n",
       " 'pet',\n",
       " 'childish',\n",
       " 'cooking',\n",
       " 'exasperation',\n",
       " 'religion',\n",
       " 'hipster',\n",
       " 'internet',\n",
       " 'surprise_x',\n",
       " 'reading',\n",
       " 'worship',\n",
       " 'leader',\n",
       " 'independence',\n",
       " 'movement',\n",
       " 'bodyr__x',\n",
       " 'noise',\n",
       " 'eating',\n",
       " 'medieval',\n",
       " 'zest',\n",
       " 'confusion',\n",
       " 'water',\n",
       " 'sports',\n",
       " 'death_x',\n",
       " 'healing',\n",
       " 'legend',\n",
       " 'heroic',\n",
       " 'celebration',\n",
       " 'restaurant',\n",
       " 'violence',\n",
       " 'programming',\n",
       " 'dominant_heirarchical',\n",
       " 'military',\n",
       " 'neglect',\n",
       " 'swimming',\n",
       " 'exotic',\n",
       " 'love',\n",
       " 'hiking',\n",
       " 'communication',\n",
       " 'hearing',\n",
       " 'order',\n",
       " 'sympathy',\n",
       " 'hygiene',\n",
       " 'weather',\n",
       " 'anonymity',\n",
       " 'trust_x',\n",
       " 'ancient',\n",
       " 'deception',\n",
       " 'fabric',\n",
       " 'air_travel',\n",
       " 'fight',\n",
       " 'dominant_personality',\n",
       " 'music',\n",
       " 'vehicle',\n",
       " 'politeness',\n",
       " 'toy',\n",
       " 'farming',\n",
       " 'meeting',\n",
       " 'war',\n",
       " 'speaking',\n",
       " 'listen',\n",
       " 'urban',\n",
       " 'shopping',\n",
       " 'disgust_x',\n",
       " 'fire',\n",
       " 'tool',\n",
       " 'phone',\n",
       " 'gain',\n",
       " 'sound',\n",
       " 'injury',\n",
       " 'sailing',\n",
       " 'rage',\n",
       " 'science',\n",
       " 'work_x',\n",
       " 'appearance',\n",
       " 'valuable',\n",
       " 'warmth',\n",
       " 'youth',\n",
       " 'sadness_x',\n",
       " 'fun',\n",
       " 'emotional',\n",
       " 'joy_x',\n",
       " 'affection',\n",
       " 'traveling',\n",
       " 'fashion',\n",
       " 'ugliness',\n",
       " 'lust',\n",
       " 'shame',\n",
       " 'torment',\n",
       " 'economics',\n",
       " 'anger_x',\n",
       " 'politics',\n",
       " 'ship',\n",
       " 'clothing',\n",
       " 'car',\n",
       " 'strength',\n",
       " 'technology',\n",
       " 'breaking',\n",
       " 'shape_and_size',\n",
       " 'power_x',\n",
       " 'white_collar_job',\n",
       " 'animal',\n",
       " 'party',\n",
       " 'terrorism',\n",
       " 'smell',\n",
       " 'disappointment',\n",
       " 'poor',\n",
       " 'plant',\n",
       " 'pain',\n",
       " 'beauty',\n",
       " 'timidity',\n",
       " 'philosophy',\n",
       " 'negotiate',\n",
       " 'negative_emotion',\n",
       " 'cleaning',\n",
       " 'messaging',\n",
       " 'competing',\n",
       " 'law',\n",
       " 'friends',\n",
       " 'payment',\n",
       " 'achievement',\n",
       " 'alcohol',\n",
       " 'liquid',\n",
       " 'feminine',\n",
       " 'weapon',\n",
       " 'children',\n",
       " 'monster',\n",
       " 'ocean',\n",
       " 'giving',\n",
       " 'contentment',\n",
       " 'writing',\n",
       " 'rural',\n",
       " 'positive_emotion',\n",
       " 'musical',\n",
       " 'function',\n",
       " 'pronoun',\n",
       " 'ppron',\n",
       " 'i',\n",
       " 'we',\n",
       " 'you',\n",
       " 'shehe',\n",
       " 'they',\n",
       " 'ipron',\n",
       " 'article',\n",
       " 'prep',\n",
       " 'auxverb',\n",
       " 'adverb',\n",
       " 'conj',\n",
       " 'negate',\n",
       " 'verb',\n",
       " 'adj',\n",
       " 'compare',\n",
       " 'interrog',\n",
       " 'number',\n",
       " 'quant',\n",
       " 'affect',\n",
       " 'posemo',\n",
       " 'negemo',\n",
       " 'anx',\n",
       " 'anger_y',\n",
       " 'sad',\n",
       " 'social',\n",
       " 'family_y',\n",
       " 'friend',\n",
       " 'female',\n",
       " 'male',\n",
       " 'cogproc',\n",
       " 'insight',\n",
       " 'cause',\n",
       " 'discrep',\n",
       " 'tentat',\n",
       " 'certain',\n",
       " 'differ',\n",
       " 'percept',\n",
       " 'see',\n",
       " 'hear',\n",
       " 'feel',\n",
       " 'bio',\n",
       " 'bodyr__y',\n",
       " 'health_y',\n",
       " 'sexual_y',\n",
       " 'ingest',\n",
       " 'drives',\n",
       " 'affiliation',\n",
       " 'achiev',\n",
       " 'power_y',\n",
       " 'reward',\n",
       " 'risk',\n",
       " 'focuspast',\n",
       " 'focuspresent',\n",
       " 'focusfuture',\n",
       " 'relativ',\n",
       " 'motion',\n",
       " 'space',\n",
       " 'time',\n",
       " 'work_y',\n",
       " 'leisure_y',\n",
       " 'home_y',\n",
       " 'money_y',\n",
       " 'relig',\n",
       " 'death_y',\n",
       " 'informal',\n",
       " 'swear',\n",
       " 'netspeak',\n",
       " 'assent',\n",
       " 'nonflu',\n",
       " 'filler',\n",
       " 'anticipation_y',\n",
       " 'disgust_y',\n",
       " 'fear_y',\n",
       " 'joy_y',\n",
       " 'negative',\n",
       " 'positive',\n",
       " 'sadness_y',\n",
       " 'surprise_y',\n",
       " 'trust_y',\n",
       " 'anger']"
      ]
     },
     "execution_count": 21,
     "metadata": {},
     "output_type": "execute_result"
    }
   ],
   "source": [
    "list(authors_df.columns)"
   ]
  },
  {
   "cell_type": "code",
   "execution_count": 101,
   "metadata": {},
   "outputs": [
    {
     "name": "stderr",
     "output_type": "stream",
     "text": [
      "No handles with labels found to put in legend.\n"
     ]
    },
    {
     "data": {
      "text/plain": [
       "<matplotlib.legend.Legend at 0x7fd3d6c72780>"
      ]
     },
     "execution_count": 101,
     "metadata": {},
     "output_type": "execute_result"
    },
    {
     "data": {
      "image/png": "[encoded data removed]",
      "text/plain": [
       "<Figure size 432x288 with 1 Axes>"
      ]
     },
     "metadata": {
      "needs_background": "light"
     },
     "output_type": "display_data"
    }
   ],
   "source": []
  },
  {
   "cell_type": "code",
   "execution_count": 102,
   "metadata": {},
   "outputs": [],
   "source": [
    "ka = pd.read_csv(AUTHORS_DATA_LOCATION)"
   ]
  },
  {
   "cell_type": "code",
   "execution_count": 104,
   "metadata": {},
   "outputs": [
    {
     "data": {
      "text/plain": [
       "Index(['author', 'mbti_type', 'introverted', 'intuitive', 'thinking',\n",
       "       'perceiving', 'gender', 'age', 'enneagram', 'country', 'state', 'type',\n",
       "       'agreeableness', 'openness', 'conscientiousness', 'extraversion',\n",
       "       'neuroticism', 'is_description', 'is_percentile', 'is_score',\n",
       "       'contains_details', 'num_comments', 'en_comments',\n",
       "       'en_comments_percentage', 'region', 'continent', 'country_code',\n",
       "       'enneagram_type', 'enneagram_wing', 'is_native_english_country',\n",
       "       'predicted_test', 'test_name', 'test_scale', '16pers_ta',\n",
       "       'test_result_type'],\n",
       "      dtype='object')"
      ]
     },
     "execution_count": 104,
     "metadata": {},
     "output_type": "execute_result"
    }
   ],
   "source": [
    "ka.columns"
   ]
  }
 ],
 "metadata": {
  "kernelspec": {
   "display_name": "Python 3",
   "language": "python",
   "name": "python3"
  },
  "language_info": {
   "codemirror_mode": {
    "name": "ipython",
    "version": 3
   },
   "file_extension": ".py",
   "mimetype": "text/x-python",
   "name": "python",
   "nbconvert_exporter": "python",
   "pygments_lexer": "ipython3",
   "version": "3.7.3"
  }
 },
 "nbformat": 4,
 "nbformat_minor": 2
}
