{
 "cells": [
  {
   "cell_type": "code",
   "execution_count": 1,
   "metadata": {},
   "outputs": [],
   "source": [
    "import sys, argparse\n",
    "import parser\n",
    "import json\n",
    "from data_operators import *\n",
    "from helpers import * \n",
    "from experiment import *\n",
    "import os\n",
    "from debugger import Debugger\n",
    "from importlib import *"
   ]
  },
  {
   "cell_type": "code",
   "execution_count": 2,
   "metadata": {},
   "outputs": [
    {
     "ename": "NameError",
     "evalue": "name 'models' is not defined",
     "output_type": "error",
     "traceback": [
      "\u001b[0;31m---------------------------------------------------------------------------\u001b[0m",
      "\u001b[0;31mNameError\u001b[0m                                 Traceback (most recent call last)",
      "\u001b[0;32m<ipython-input-2-06cd878c6964>\u001b[0m in \u001b[0;36m<module>\u001b[0;34m\u001b[0m\n\u001b[1;32m      1\u001b[0m \u001b[0mreload\u001b[0m\u001b[0;34m(\u001b[0m\u001b[0mhelpers\u001b[0m\u001b[0;34m)\u001b[0m\u001b[0;34m\u001b[0m\u001b[0;34m\u001b[0m\u001b[0m\n\u001b[0;32m----> 2\u001b[0;31m \u001b[0mreload\u001b[0m\u001b[0;34m(\u001b[0m\u001b[0mmodels\u001b[0m\u001b[0;34m)\u001b[0m\u001b[0;34m\u001b[0m\u001b[0;34m\u001b[0m\u001b[0m\n\u001b[0m",
      "\u001b[0;31mNameError\u001b[0m: name 'models' is not defined"
     ]
    }
   ],
   "source": [
    "reload(helpers)\n",
    "reload(models)"
   ]
  },
  {
   "cell_type": "code",
   "execution_count": 3,
   "metadata": {},
   "outputs": [
    {
     "name": "stdout",
     "output_type": "stream",
     "text": [
      "Parsing the /home/mbosnjak/PERO/persil2/persil/modelsData to obtain model and parameters.\n",
      "{'models_name': 'convo_carpet', 'experiments_name': 'big5_as_regression', 'targets': [['agreeableness'], ['openness'], ['conscientiousness'], ['extraversion'], ['neuroticism']], 'prediction_type': 'regression', 'folds': [0], 'run_identificator': 'big5_test11', 'debug': 'False', 'cuda_device': 1, 'use_GPU': 'True', 'random_state': 56, 'output_directorys_location': '/home/mbosnjak/PERO/', 'results_import_location': 'None', 'input_location': '/home/mbosnjak/Datasets/embedded_comments_last_100_min_20com_per_auth_w_wc_10_200_no_mbti.csv', 'folds_location': '/home/mbosnjak/Datasets/comments_last_100_min_20com_per_auth_w_wc_10_200.csv.folds.csv', 'output_location': '/home/mbosnjak/Datasets/author_profiles.csv', 'max_sentences_per_author': 10000, 'min_padding_per_author': 10, 'nrows': 'None', 'balance_data': 'False', 'validation_set_percentage': 0.2, 'print_status_batch': 100, 'max_constant_f1': 6, 'n_epochs': 400, 'decay_rate': 0.9, 'decay_epoch': 100, 'optimization_params': {'learning_rate': [0.01, 0.005], 'batch_size': [64], 'kernels_count': [8], 'sentences_count': [4], 'hidden_layer_1': [4], 'alpha': [0.1978], 'regularization_type': ['None']}}\n"
     ]
    },
    {
     "name": "stderr",
     "output_type": "stream",
     "text": [
      "/home/mbosnjak/PERO/persil2/persil/data_operators.py:12: FutureWarning: Method .as_matrix will be removed in a future version. Use .values instead.\n",
      "  carpet = sentences[:maximal_carpet_size].as_matrix(columns=sentences.columns[1:1025])\n"
     ]
    }
   ],
   "source": [
    "OUTPUT_DIRECTORYS_LOCATION = 'output_directorys_location'\n",
    "\n",
    "INPUT_LOCATION = 'input_location'\n",
    "FOLDS_LOCATION = 'folds_location'\n",
    "OUTPUT_LOCATION = 'output_location'\n",
    "\n",
    "CUDA_DEVICE = 'cuda_device'\n",
    "RANDOM_STATE = 'random_state'\n",
    "USE_GPU  ='use_GPU'\n",
    "VALIDATION_SET_PERCENTAGE = 'validation_set_percentage'\n",
    "MAX_SENTENCES_PER_AUTHOR = 'max_sentences_per_author'\n",
    "MIN_PADDING_PER_AUTHOR = 'min_padding_per_author'\n",
    "PRINT_BATCH_STATUS = 'print_status_batch'     \n",
    "MAX_CONSTANT_F1 = 'max_constant_f1'\n",
    "NUMBER_OF_EPOCHS = 'n_epochs'\n",
    "NUMBER_OF_ROWS = 'nrows'\n",
    "\n",
    "MODELS_NAME = 'models_name'\n",
    "EXPERIMENTS_NAME = 'experiments_name'\n",
    "TARGETS = 'targets'\n",
    "PREDICTION_TYPE = 'prediction_type'\n",
    "\n",
    "FOLDS = 'folds'\n",
    "RUN_IDENTIFICATOR = 'run_identificator'\n",
    "BALANCE_DATA = 'balance_data'\n",
    "\n",
    "RESULTS_IMPORT_LOCATION = 'results_import_location'\n",
    "  \n",
    "OPTIMIZATION_PARAMETERS = 'optimization_params'\n",
    "\n",
    "DECAY_RATE  = \"decay_rate\"\n",
    "DECAY_EPOCH = \"decay_epoch\"\n",
    "\n",
    "DEBUG_STATUS = 'debug'\n",
    "\n",
    "CLASSIFICATION = 'classification'\n",
    "REGRESSION = 'regression'\n",
    "\n",
    "# PODUPLANO S OBZIROM NA CELIJU ISPOD, ZATO STO ZELIMO PRVO UCITATI PODATKE KOJI CE MANJE VISE BIT KONZISTENTNI A POSLIJE \n",
    "# CEMO DODAVATI PODATKE VEZANE UZ EKSPERMIENTE\n",
    "location = '/home/mbosnjak/PERO/persil2/persil/modelsData'\n",
    "print(f'Parsing the {location} to obtain model and parameters.')\n",
    "models_data = json.load(open(location, 'r'))\n",
    "debugger = Debugger(models_data[DEBUG_STATUS])\n",
    "\n",
    "print(models_data)\n",
    "models_name = models_data[MODELS_NAME]\n",
    "\n",
    "nrows = get_optional(models_data, NUMBER_OF_ROWS)\n",
    "output_directory = get_output_directory_name(models_data[OUTPUT_DIRECTORYS_LOCATION], models_name)    \n",
    "if(not os.path.isdir(output_directory)):\n",
    "    os.makedirs(output_directory)\n",
    "\n",
    "# ------ KRAJ PODUPLANOG DIJELA \n",
    "    \n",
    "data_frame = InputOutputFrame(debugger, models_data[INPUT_LOCATION], models_data[OUTPUT_LOCATION], models_data[FOLDS_LOCATION], \\\n",
    "    models_data[MAX_SENTENCES_PER_AUTHOR], models_data[MIN_PADDING_PER_AUTHOR], nrows=nrows)\n",
    "\n",
    "#parse the parameters\n",
    "#prepare data\n",
    "#prepara a performance saver\n",
    "#choose model\n",
    "#clean and prepare the data \n",
    "#optimeze hyper parameters \n",
    "#-> train model\n",
    "#choose the best model and apply"
   ]
  },
  {
   "cell_type": "code",
   "execution_count": 4,
   "metadata": {},
   "outputs": [
    {
     "name": "stdout",
     "output_type": "stream",
     "text": [
      "Parsing the /home/mbosnjak/PERO/persil2/persil/modelsData to obtain model and parameters.\n",
      "{'models_name': 'convo_carpet', 'experiments_name': 'big5_as_regression', 'targets': [['agreeableness'], ['openness'], ['conscientiousness'], ['extraversion'], ['neuroticism']], 'prediction_type': 'regression', 'folds': [0], 'run_identificator': 'big5_test11', 'debug': 'False', 'cuda_device': 1, 'use_GPU': 'True', 'random_state': 56, 'output_directorys_location': '/home/mbosnjak/PERO/', 'results_import_location': 'None', 'input_location': '/home/mbosnjak/Datasets/embedded_comments_last_100_min_20com_per_auth_w_wc_10_200_no_mbti.csv', 'folds_location': '/home/mbosnjak/Datasets/comments_last_100_min_20com_per_auth_w_wc_10_200.csv.folds.csv', 'output_location': '/home/mbosnjak/Datasets/author_profiles.csv', 'max_sentences_per_author': 10000, 'min_padding_per_author': 10, 'nrows': 'None', 'balance_data': 'False', 'validation_set_percentage': 0.2, 'print_status_batch': 100, 'max_constant_f1': 6, 'n_epochs': 400, 'decay_rate': 0.9, 'decay_epoch': 100, 'optimization_params': {'learning_rate': [0.01, 0.005], 'batch_size': [64], 'kernels_count': [8], 'sentences_count': [4], 'hidden_layer_1': [4], 'alpha': [0.1978], 'regularization_type': ['None']}}\n",
      "Starting the experiments.\n",
      "-------------------------\n",
      "Starting experiment big5_as_regression...\n",
      "-------------------------\n",
      "Processing fold: 0 and target: ['agreeableness']\n",
      "-------------------------\n",
      "Train size: 832\n",
      "Validation size: 209\n",
      "Test size: 264\n",
      "-------------------------\n",
      "Starting training for: {'learning_rate': 0.01, 'batch_size': 64, 'kernels_count': 8, 'sentences_count': 4, 'hidden_layer_1': 4, 'alpha': 0.1978, 'regularization_type': 'None'}\n",
      "-------------------------\n",
      "Epoch 0 end: 1.4324069023132324, TRAIN MSE is: 1978.152099609375\n",
      "Validation loss: 215699.0781250 - MSE score: 1032.0529785\n",
      "Validation pearson is: 0.1183866010543756\n",
      "Validation r2_score is: -0.029002870456409813\n",
      "-------------------------\n",
      "Epoch 1 end: 1.0620007514953613, TRAIN MSE is: 1008.9669189453125\n",
      "Validation loss: 206990.2812500 - MSE score: 990.3840332\n",
      "Validation pearson is: 0.11752226611308617\n",
      "Validation r2_score is: 0.012542892696851049\n",
      "-------------------------\n",
      "Epoch 2 end: 1.0514557361602783, TRAIN MSE is: 938.6610717773438\n",
      "Validation loss: 207479.0937500 - MSE score: 992.7229614\n",
      "Validation pearson is: 0.12033950331928689\n",
      "Validation r2_score is: 0.01021099318914831\n",
      "-------------------------\n",
      "Epoch 3 end: 1.0112969875335693, TRAIN MSE is: 908.9000854492188\n",
      "Validation loss: 206721.4218750 - MSE score: 989.0976562\n",
      "Validation pearson is: 0.11773148406995573\n",
      "Validation r2_score is: 0.013825479089211612\n",
      "-------------------------\n",
      "Epoch 4 end: 0.9619753360748291, TRAIN MSE is: 884.873291015625\n",
      "Validation loss: 206508.7656250 - MSE score: 988.0802002\n",
      "Validation pearson is: 0.12811523100287614\n",
      "Validation r2_score is: 0.014839957093650824\n",
      "-------------------------\n",
      "Epoch 5 end: 1.0000724792480469, TRAIN MSE is: 856.6697998046875\n",
      "Validation loss: 206512.3125000 - MSE score: 988.0972900\n",
      "Validation pearson is: 0.13693411201919783\n",
      "Validation r2_score is: 0.014822999974131834\n",
      "-------------------------\n",
      "Epoch 6 end: 1.0178632736206055, TRAIN MSE is: 821.0357666015625\n",
      "Validation loss: 204952.0312500 - MSE score: 980.6318970\n",
      "Validation pearson is: 0.15008714109586063\n",
      "Validation r2_score is: 0.02226634299896535\n",
      "-------------------------\n",
      "Epoch 7 end: 1.0072908401489258, TRAIN MSE is: 774.6884765625\n",
      "Validation loss: 204444.4687500 - MSE score: 978.2031250\n",
      "Validation pearson is: 0.15721013149185797\n",
      "Validation r2_score is: 0.024687843087862538\n",
      "-------------------------\n",
      "Epoch 8 end: 0.9865915775299072, TRAIN MSE is: 706.3321533203125\n",
      "Validation loss: 205130.0781250 - MSE score: 981.4837036\n",
      "Validation pearson is: 0.1543101544680003\n",
      "Validation r2_score is: 0.02141704518696219\n",
      "-------------------------\n",
      "Epoch 9 end: 1.0160491466522217, TRAIN MSE is: 645.094482421875\n",
      "Validation loss: 207121.0000000 - MSE score: 991.0095825\n",
      "Validation pearson is: 0.14722416030939345\n",
      "Validation r2_score is: 0.011919269563738233\n",
      "-------------------------\n",
      "Epoch 10 end: 1.004955530166626, TRAIN MSE is: 564.368408203125\n",
      "Validation loss: 210532.5312500 - MSE score: 1007.3327026\n",
      "Validation pearson is: 0.13053892261551936\n",
      "Validation r2_score is: -0.004355584940108237\n",
      "-------------------------\n",
      "Epoch 11 end: 0.997490406036377, TRAIN MSE is: 473.7621765136719\n",
      "Validation loss: 216302.2968750 - MSE score: 1034.9393311\n",
      "Validation pearson is: 0.12247133109735753\n",
      "Validation r2_score is: -0.031880604842885685\n",
      "-------------------------\n",
      "Epoch 12 end: 1.008441686630249, TRAIN MSE is: 382.91485595703125\n",
      "Validation loss: 219925.8750000 - MSE score: 1052.2768555\n",
      "Validation pearson is: 0.14813356700275043\n",
      "Validation r2_score is: -0.0491670188509723\n",
      "-------------------------\n",
      "Epoch 13 end: 1.0205261707305908, TRAIN MSE is: 297.85296630859375\n",
      "Validation loss: 226702.6250000 - MSE score: 1084.7015381\n",
      "Validation pearson is: 0.14007026511449583\n",
      "Validation r2_score is: -0.08149581011366025\n",
      "-------------------------\n",
      "Starting training for: {'learning_rate': 0.005, 'batch_size': 64, 'kernels_count': 8, 'sentences_count': 4, 'hidden_layer_1': 4, 'alpha': 0.1978, 'regularization_type': 'None'}\n",
      "-------------------------\n",
      "Epoch 0 end: 1.06691575050354, TRAIN MSE is: 2381.1083984375\n",
      "Validation loss: 385432.9062500 - MSE score: 1844.1763916\n",
      "Validation pearson is: 0.09441737394253523\n",
      "Validation r2_score is: -0.8387262178562118\n",
      "-------------------------\n",
      "Epoch 1 end: 0.9700064659118652, TRAIN MSE is: 1276.743408203125\n",
      "Validation loss: 208237.7656250 - MSE score: 996.3530273\n",
      "Validation pearson is: 0.08817060728442934\n",
      "Validation r2_score is: 0.0065916278984607946\n",
      "-------------------------\n",
      "Epoch 2 end: 0.9819784164428711, TRAIN MSE is: 981.5670166015625\n",
      "Validation loss: 212207.2187500 - MSE score: 1015.3454590\n",
      "Validation pearson is: 0.09142405734863629\n",
      "Validation r2_score is: -0.0123447364306708\n",
      "-------------------------\n",
      "Epoch 3 end: 1.0092601776123047, TRAIN MSE is: 915.2752685546875\n",
      "Validation loss: 211836.4531250 - MSE score: 1013.5715942\n",
      "Validation pearson is: 0.09468009295627376\n",
      "Validation r2_score is: -0.010576026889608903\n",
      "-------------------------\n",
      "Epoch 4 end: 0.9641575813293457, TRAIN MSE is: 905.2032470703125\n",
      "Validation loss: 208271.4375000 - MSE score: 996.5140381\n",
      "Validation pearson is: 0.09233985276900177\n",
      "Validation r2_score is: 0.006431034739469044\n",
      "-------------------------\n",
      "Epoch 5 end: 0.9883131980895996, TRAIN MSE is: 892.7180786132812\n",
      "Validation loss: 207862.7500000 - MSE score: 994.5585938\n",
      "Validation pearson is: 0.09569002593023254\n",
      "Validation r2_score is: 0.00838072230085618\n",
      "-------------------------\n",
      "Epoch 6 end: 1.006026029586792, TRAIN MSE is: 880.332763671875\n",
      "Validation loss: 208759.7187500 - MSE score: 998.8504028\n",
      "Validation pearson is: 0.08715721976556104\n",
      "Validation r2_score is: 0.004101590389638976\n",
      "-------------------------\n",
      "Epoch 7 end: 1.012939691543579, TRAIN MSE is: 856.7437133789062\n",
      "Validation loss: 208810.8593750 - MSE score: 999.0950928\n",
      "Validation pearson is: 0.0873646440090377\n",
      "Validation r2_score is: 0.0038576800209836337\n",
      "-------------------------\n",
      "Epoch 8 end: 0.9888701438903809, TRAIN MSE is: 836.0930786132812\n",
      "Validation loss: 209041.6250000 - MSE score: 1000.1991577\n",
      "Validation pearson is: 0.08112047965656978\n",
      "Validation r2_score is: 0.002756806036990911\n",
      "-------------------------\n",
      "Epoch 9 end: 1.0171380043029785, TRAIN MSE is: 811.666748046875\n",
      "Validation loss: 208872.9218750 - MSE score: 999.3920288\n",
      "Validation pearson is: 0.08595993451566292\n",
      "Validation r2_score is: 0.0035616361707402344\n",
      "-------------------------\n",
      "Epoch 10 end: 0.9943323135375977, TRAIN MSE is: 782.9071655273438\n",
      "Validation loss: 209114.5625000 - MSE score: 1000.5481567\n",
      "Validation pearson is: 0.08616414955844723\n",
      "Validation r2_score is: 0.002408806201011804\n",
      "-------------------------\n",
      "Epoch 11 end: 0.9954595565795898, TRAIN MSE is: 753.1155395507812\n",
      "Validation loss: 209373.5000000 - MSE score: 1001.7871094\n",
      "Validation pearson is: 0.08880249918385724\n",
      "Validation r2_score is: 0.0011736136775365447\n",
      "-------------------------\n",
      "Apply best model to test for ['agreeableness'] on fold 0.\n",
      "Test loss: 275133.71875 - MSE score: 1042.1733398 \n",
      "Test pearson is: 0.08075345591619376\n",
      "Test r2_score is: -0.2006329528926074\n",
      "-------------------------\n",
      "+++ Finished with training and testing model for ['agreeableness'] on fold 0. +++\n",
      "-------------------------\n",
      "-------------------------\n",
      "Processing fold: 0 and target: ['openness']\n",
      "-------------------------\n",
      "Train size: 826\n",
      "Validation size: 207\n",
      "Test size: 259\n",
      "-------------------------\n",
      "Starting training for: {'learning_rate': 0.01, 'batch_size': 64, 'kernels_count': 8, 'sentences_count': 4, 'hidden_layer_1': 4, 'alpha': 0.1978, 'regularization_type': 'None'}\n",
      "-------------------------\n"
     ]
    },
    {
     "name": "stdout",
     "output_type": "stream",
     "text": [
      "Epoch 0 end: 1.027942419052124, TRAIN MSE is: 2508.737548828125\n",
      "Validation loss: 174631.0468750 - MSE score: 843.6282349\n",
      "Validation pearson is: -0.027426644223265673\n",
      "Validation r2_score is: -0.15514045667506937\n",
      "-------------------------\n",
      "Epoch 1 end: 0.9753470420837402, TRAIN MSE is: 956.6787109375\n",
      "Validation loss: 173824.5000000 - MSE score: 839.7318115\n",
      "Validation pearson is: -0.02070527218009919\n",
      "Validation r2_score is: -0.14980526123692228\n",
      "-------------------------\n",
      "Epoch 2 end: 0.9739103317260742, TRAIN MSE is: 753.9525756835938\n",
      "Validation loss: 158627.5312500 - MSE score: 766.3165894\n",
      "Validation pearson is: -0.009730622293918897\n",
      "Validation r2_score is: -0.049281217966932855\n",
      "-------------------------\n",
      "Epoch 3 end: 1.001093864440918, TRAIN MSE is: 708.878173828125\n",
      "Validation loss: 157236.4062500 - MSE score: 759.5960083\n",
      "Validation pearson is: -0.00635730699902963\n",
      "Validation r2_score is: -0.04007917703578623\n",
      "-------------------------\n",
      "Epoch 4 end: 1.0042834281921387, TRAIN MSE is: 683.220947265625\n",
      "Validation loss: 155838.5312500 - MSE score: 752.8431396\n",
      "Validation pearson is: 0.00443124681386417\n",
      "Validation r2_score is: -0.030832724150917867\n",
      "-------------------------\n",
      "Epoch 5 end: 1.0236036777496338, TRAIN MSE is: 668.66015625\n",
      "Validation loss: 155875.6718750 - MSE score: 753.0225830\n",
      "Validation pearson is: 0.004974434833935074\n",
      "Validation r2_score is: -0.03107839527328493\n",
      "-------------------------\n",
      "Epoch 6 end: 1.0292079448699951, TRAIN MSE is: 656.7423706054688\n",
      "Validation loss: 156064.0468750 - MSE score: 753.9324951\n",
      "Validation pearson is: 0.002251272444380545\n",
      "Validation r2_score is: -0.03232434548170593\n",
      "-------------------------\n",
      "Epoch 7 end: 0.9986779689788818, TRAIN MSE is: 644.6231079101562\n",
      "Validation loss: 155783.2812500 - MSE score: 752.5762329\n",
      "Validation pearson is: 0.010035408452855797\n",
      "Validation r2_score is: -0.030467222588782317\n",
      "-------------------------\n",
      "Epoch 8 end: 0.9942593574523926, TRAIN MSE is: 636.6792602539062\n",
      "Validation loss: 156601.6406250 - MSE score: 756.5296021\n",
      "Validation pearson is: -0.00012755548476595102\n",
      "Validation r2_score is: -0.035880431267816926\n",
      "-------------------------\n",
      "Epoch 9 end: 1.0613484382629395, TRAIN MSE is: 620.9364624023438\n",
      "Validation loss: 156649.8437500 - MSE score: 756.7625122\n",
      "Validation pearson is: 0.0007661317291215788\n",
      "Validation r2_score is: -0.03619936768582899\n",
      "-------------------------\n",
      "Epoch 10 end: 1.0216484069824219, TRAIN MSE is: 600.6282958984375\n",
      "Validation loss: 160396.3281250 - MSE score: 774.8615112\n",
      "Validation pearson is: -0.031216881600305862\n",
      "Validation r2_score is: -0.06098137859224528\n",
      "-------------------------\n",
      "Epoch 11 end: 0.9927096366882324, TRAIN MSE is: 577.0526123046875\n",
      "Validation loss: 162431.9218750 - MSE score: 784.6951904\n",
      "Validation pearson is: -0.04959345664162427\n",
      "Validation r2_score is: -0.07444630481967973\n",
      "-------------------------\n",
      "Epoch 12 end: 1.032994031906128, TRAIN MSE is: 529.9961547851562\n",
      "Validation loss: 165350.3437500 - MSE score: 798.7938843\n",
      "Validation pearson is: -0.04173718635441777\n",
      "Validation r2_score is: -0.09375094416919749\n",
      "-------------------------\n",
      "Epoch 13 end: 1.0063667297363281, TRAIN MSE is: 488.15631103515625\n",
      "Validation loss: 168261.8437500 - MSE score: 812.8591309\n",
      "Validation pearson is: -0.017748762075620355\n",
      "Validation r2_score is: -0.11300985439727129\n",
      "-------------------------\n",
      "Starting training for: {'learning_rate': 0.005, 'batch_size': 64, 'kernels_count': 8, 'sentences_count': 4, 'hidden_layer_1': 4, 'alpha': 0.1978, 'regularization_type': 'None'}\n",
      "-------------------------\n"
     ]
    },
    {
     "name": "stderr",
     "output_type": "stream",
     "text": [
      "/home/mbosnjak/.conda/envs/pero/lib/python3.7/site-packages/scipy/stats/stats.py:3399: PearsonRConstantInputWarning: An input array is constant; the correlation coefficent is not defined.\n",
      "  warnings.warn(PearsonRConstantInputWarning())\n"
     ]
    },
    {
     "name": "stdout",
     "output_type": "stream",
     "text": [
      "Epoch 0 end: 1.140934944152832, TRAIN MSE is: 4633.66064453125\n",
      "Validation loss: 968637.6250000 - MSE score: 4679.4086914\n",
      "Validation pearson is: nan\n",
      "Validation r2_score is: -5.407294420358945\n",
      "-------------------------\n"
     ]
    },
    {
     "name": "stderr",
     "output_type": "stream",
     "text": [
      "/home/mbosnjak/.conda/envs/pero/lib/python3.7/site-packages/scipy/stats/stats.py:3399: PearsonRConstantInputWarning: An input array is constant; the correlation coefficent is not defined.\n",
      "  warnings.warn(PearsonRConstantInputWarning())\n"
     ]
    },
    {
     "name": "stdout",
     "output_type": "stream",
     "text": [
      "Epoch 1 end: 1.0084896087646484, TRAIN MSE is: 4625.59765625\n",
      "Validation loss: 966954.5000000 - MSE score: 4671.2778320\n",
      "Validation pearson is: nan\n",
      "Validation r2_score is: -5.396160842992379\n",
      "-------------------------\n"
     ]
    },
    {
     "name": "stderr",
     "output_type": "stream",
     "text": [
      "/home/mbosnjak/.conda/envs/pero/lib/python3.7/site-packages/scipy/stats/stats.py:3399: PearsonRConstantInputWarning: An input array is constant; the correlation coefficent is not defined.\n",
      "  warnings.warn(PearsonRConstantInputWarning())\n"
     ]
    },
    {
     "name": "stdout",
     "output_type": "stream",
     "text": [
      "Epoch 2 end: 0.9850070476531982, TRAIN MSE is: 4617.49462890625\n",
      "Validation loss: 965277.5000000 - MSE score: 4663.1762695\n",
      "Validation pearson is: nan\n",
      "Validation r2_score is: -5.385067942946142\n",
      "-------------------------\n"
     ]
    },
    {
     "name": "stderr",
     "output_type": "stream",
     "text": [
      "/home/mbosnjak/.conda/envs/pero/lib/python3.7/site-packages/scipy/stats/stats.py:3399: PearsonRConstantInputWarning: An input array is constant; the correlation coefficent is not defined.\n",
      "  warnings.warn(PearsonRConstantInputWarning())\n"
     ]
    },
    {
     "name": "stdout",
     "output_type": "stream",
     "text": [
      "Epoch 3 end: 1.0028178691864014, TRAIN MSE is: 4609.45703125\n",
      "Validation loss: 963595.6250000 - MSE score: 4655.0512695\n",
      "Validation pearson is: nan\n",
      "Validation r2_score is: -5.373942798243618\n",
      "-------------------------\n"
     ]
    },
    {
     "name": "stderr",
     "output_type": "stream",
     "text": [
      "/home/mbosnjak/.conda/envs/pero/lib/python3.7/site-packages/scipy/stats/stats.py:3399: PearsonRConstantInputWarning: An input array is constant; the correlation coefficent is not defined.\n",
      "  warnings.warn(PearsonRConstantInputWarning())\n"
     ]
    },
    {
     "name": "stdout",
     "output_type": "stream",
     "text": [
      "Epoch 4 end: 0.978952169418335, TRAIN MSE is: 4601.40283203125\n",
      "Validation loss: 961916.6875000 - MSE score: 4646.9409180\n",
      "Validation pearson is: nan\n",
      "Validation r2_score is: -5.3628374193681365\n",
      "-------------------------\n"
     ]
    },
    {
     "name": "stderr",
     "output_type": "stream",
     "text": [
      "/home/mbosnjak/.conda/envs/pero/lib/python3.7/site-packages/scipy/stats/stats.py:3399: PearsonRConstantInputWarning: An input array is constant; the correlation coefficent is not defined.\n",
      "  warnings.warn(PearsonRConstantInputWarning())\n"
     ]
    },
    {
     "name": "stdout",
     "output_type": "stream",
     "text": [
      "Epoch 5 end: 1.0346262454986572, TRAIN MSE is: 4593.3330078125\n",
      "Validation loss: 960245.5000000 - MSE score: 4638.8671875\n",
      "Validation pearson is: nan\n",
      "Validation r2_score is: -5.351782575727633\n",
      "-------------------------\n"
     ]
    },
    {
     "name": "stderr",
     "output_type": "stream",
     "text": [
      "/home/mbosnjak/.conda/envs/pero/lib/python3.7/site-packages/scipy/stats/stats.py:3399: PearsonRConstantInputWarning: An input array is constant; the correlation coefficent is not defined.\n",
      "  warnings.warn(PearsonRConstantInputWarning())\n"
     ]
    },
    {
     "name": "stdout",
     "output_type": "stream",
     "text": [
      "Epoch 6 end: 1.0072121620178223, TRAIN MSE is: 4585.31103515625\n",
      "Validation loss: 958572.0625000 - MSE score: 4630.7832031\n",
      "Validation pearson is: nan\n",
      "Validation r2_score is: -5.340712910127415\n",
      "-------------------------\n"
     ]
    },
    {
     "name": "stderr",
     "output_type": "stream",
     "text": [
      "/home/mbosnjak/.conda/envs/pero/lib/python3.7/site-packages/scipy/stats/stats.py:3399: PearsonRConstantInputWarning: An input array is constant; the correlation coefficent is not defined.\n",
      "  warnings.warn(PearsonRConstantInputWarning())\n"
     ]
    },
    {
     "name": "stdout",
     "output_type": "stream",
     "text": [
      "Epoch 7 end: 1.057959794998169, TRAIN MSE is: 4577.3466796875\n",
      "Validation loss: 956889.8750000 - MSE score: 4622.6562500\n",
      "Validation pearson is: nan\n",
      "Validation r2_score is: -5.329585561042871\n",
      "-------------------------\n"
     ]
    },
    {
     "name": "stderr",
     "output_type": "stream",
     "text": [
      "/home/mbosnjak/.conda/envs/pero/lib/python3.7/site-packages/scipy/stats/stats.py:3399: PearsonRConstantInputWarning: An input array is constant; the correlation coefficent is not defined.\n",
      "  warnings.warn(PearsonRConstantInputWarning())\n"
     ]
    },
    {
     "name": "stdout",
     "output_type": "stream",
     "text": [
      "Epoch 8 end: 1.0175817012786865, TRAIN MSE is: 4569.2763671875\n",
      "Validation loss: 955225.8750000 - MSE score: 4614.6181641\n",
      "Validation pearson is: nan\n",
      "Validation r2_score is: -5.31857936245381\n",
      "-------------------------\n"
     ]
    },
    {
     "name": "stderr",
     "output_type": "stream",
     "text": [
      "/home/mbosnjak/.conda/envs/pero/lib/python3.7/site-packages/scipy/stats/stats.py:3399: PearsonRConstantInputWarning: An input array is constant; the correlation coefficent is not defined.\n",
      "  warnings.warn(PearsonRConstantInputWarning())\n"
     ]
    },
    {
     "name": "stdout",
     "output_type": "stream",
     "text": [
      "Epoch 9 end: 1.0219123363494873, TRAIN MSE is: 4561.28271484375\n",
      "Validation loss: 953563.8125000 - MSE score: 4606.5883789\n",
      "Validation pearson is: nan\n",
      "Validation r2_score is: -5.307584642167111\n",
      "-------------------------\n"
     ]
    },
    {
     "name": "stderr",
     "output_type": "stream",
     "text": [
      "/home/mbosnjak/.conda/envs/pero/lib/python3.7/site-packages/scipy/stats/stats.py:3399: PearsonRConstantInputWarning: An input array is constant; the correlation coefficent is not defined.\n",
      "  warnings.warn(PearsonRConstantInputWarning())\n"
     ]
    },
    {
     "name": "stdout",
     "output_type": "stream",
     "text": [
      "Epoch 10 end: 1.0143225193023682, TRAIN MSE is: 4553.30908203125\n",
      "Validation loss: 951901.3750000 - MSE score: 4598.5571289\n",
      "Validation pearson is: nan\n",
      "Validation r2_score is: -5.296588030805974\n",
      "-------------------------\n"
     ]
    },
    {
     "name": "stderr",
     "output_type": "stream",
     "text": [
      "/home/mbosnjak/.conda/envs/pero/lib/python3.7/site-packages/scipy/stats/stats.py:3399: PearsonRConstantInputWarning: An input array is constant; the correlation coefficent is not defined.\n",
      "  warnings.warn(PearsonRConstantInputWarning())\n"
     ]
    },
    {
     "name": "stdout",
     "output_type": "stream",
     "text": [
      "Epoch 11 end: 1.0147175788879395, TRAIN MSE is: 4545.32568359375\n",
      "Validation loss: 950243.4375000 - MSE score: 4590.5483398\n",
      "Validation pearson is: nan\n",
      "Validation r2_score is: -5.285621378093239\n",
      "-------------------------\n"
     ]
    },
    {
     "name": "stderr",
     "output_type": "stream",
     "text": [
      "/home/mbosnjak/.conda/envs/pero/lib/python3.7/site-packages/scipy/stats/stats.py:3399: PearsonRConstantInputWarning: An input array is constant; the correlation coefficent is not defined.\n",
      "  warnings.warn(PearsonRConstantInputWarning())\n"
     ]
    },
    {
     "name": "stdout",
     "output_type": "stream",
     "text": [
      "Epoch 12 end: 1.00095534324646, TRAIN MSE is: 4537.40380859375\n",
      "Validation loss: 948578.3125000 - MSE score: 4582.5043945\n",
      "Validation pearson is: nan\n",
      "Validation r2_score is: -5.274607462221434\n",
      "-------------------------\n"
     ]
    },
    {
     "name": "stderr",
     "output_type": "stream",
     "text": [
      "/home/mbosnjak/.conda/envs/pero/lib/python3.7/site-packages/scipy/stats/stats.py:3399: PearsonRConstantInputWarning: An input array is constant; the correlation coefficent is not defined.\n",
      "  warnings.warn(PearsonRConstantInputWarning())\n"
     ]
    },
    {
     "name": "stdout",
     "output_type": "stream",
     "text": [
      "Epoch 13 end: 1.007779598236084, TRAIN MSE is: 4529.455078125\n",
      "Validation loss: 946917.2500000 - MSE score: 4574.4790039\n",
      "Validation pearson is: nan\n",
      "Validation r2_score is: -5.263619339201362\n",
      "-------------------------\n"
     ]
    },
    {
     "name": "stderr",
     "output_type": "stream",
     "text": [
      "/home/mbosnjak/.conda/envs/pero/lib/python3.7/site-packages/scipy/stats/stats.py:3399: PearsonRConstantInputWarning: An input array is constant; the correlation coefficent is not defined.\n",
      "  warnings.warn(PearsonRConstantInputWarning())\n"
     ]
    },
    {
     "name": "stdout",
     "output_type": "stream",
     "text": [
      "Epoch 14 end: 1.0141808986663818, TRAIN MSE is: 4521.47802734375\n",
      "Validation loss: 945269.3125000 - MSE score: 4566.5180664\n",
      "Validation pearson is: nan\n",
      "Validation r2_score is: -5.252719033973466\n",
      "-------------------------\n"
     ]
    },
    {
     "name": "stderr",
     "output_type": "stream",
     "text": [
      "/home/mbosnjak/.conda/envs/pero/lib/python3.7/site-packages/scipy/stats/stats.py:3399: PearsonRConstantInputWarning: An input array is constant; the correlation coefficent is not defined.\n",
      "  warnings.warn(PearsonRConstantInputWarning())\n"
     ]
    },
    {
     "name": "stdout",
     "output_type": "stream",
     "text": [
      "Epoch 15 end: 1.0236101150512695, TRAIN MSE is: 4513.56494140625\n",
      "Validation loss: 943621.1875000 - MSE score: 4558.5566406\n",
      "Validation pearson is: nan\n",
      "Validation r2_score is: -5.241816844583388\n",
      "-------------------------\n"
     ]
    },
    {
     "name": "stderr",
     "output_type": "stream",
     "text": [
      "/home/mbosnjak/.conda/envs/pero/lib/python3.7/site-packages/scipy/stats/stats.py:3399: PearsonRConstantInputWarning: An input array is constant; the correlation coefficent is not defined.\n",
      "  warnings.warn(PearsonRConstantInputWarning())\n"
     ]
    },
    {
     "name": "stdout",
     "output_type": "stream",
     "text": [
      "Epoch 16 end: 1.0215370655059814, TRAIN MSE is: 4505.71923828125\n",
      "Validation loss: 941960.1250000 - MSE score: 4550.5322266\n",
      "Validation pearson is: nan\n",
      "Validation r2_score is: -5.230829731325223\n",
      "-------------------------\n"
     ]
    },
    {
     "name": "stderr",
     "output_type": "stream",
     "text": [
      "/home/mbosnjak/.conda/envs/pero/lib/python3.7/site-packages/scipy/stats/stats.py:3399: PearsonRConstantInputWarning: An input array is constant; the correlation coefficent is not defined.\n",
      "  warnings.warn(PearsonRConstantInputWarning())\n"
     ]
    },
    {
     "name": "stdout",
     "output_type": "stream",
     "text": [
      "Epoch 17 end: 1.0133707523345947, TRAIN MSE is: 4497.71533203125\n",
      "Validation loss: 940328.8750000 - MSE score: 4542.6513672\n",
      "Validation pearson is: nan\n",
      "Validation r2_score is: -5.220039298960412\n",
      "-------------------------\n"
     ]
    },
    {
     "name": "stderr",
     "output_type": "stream",
     "text": [
      "/home/mbosnjak/.conda/envs/pero/lib/python3.7/site-packages/scipy/stats/stats.py:3399: PearsonRConstantInputWarning: An input array is constant; the correlation coefficent is not defined.\n",
      "  warnings.warn(PearsonRConstantInputWarning())\n"
     ]
    },
    {
     "name": "stdout",
     "output_type": "stream",
     "text": [
      "Epoch 18 end: 1.0257582664489746, TRAIN MSE is: 4489.8818359375\n",
      "Validation loss: 938685.5000000 - MSE score: 4534.7124023\n",
      "Validation pearson is: nan\n",
      "Validation r2_score is: -5.209168802058744\n",
      "-------------------------\n"
     ]
    },
    {
     "name": "stderr",
     "output_type": "stream",
     "text": [
      "/home/mbosnjak/.conda/envs/pero/lib/python3.7/site-packages/scipy/stats/stats.py:3399: PearsonRConstantInputWarning: An input array is constant; the correlation coefficent is not defined.\n",
      "  warnings.warn(PearsonRConstantInputWarning())\n"
     ]
    },
    {
     "name": "stdout",
     "output_type": "stream",
     "text": [
      "Epoch 19 end: 1.0251753330230713, TRAIN MSE is: 4482.029296875\n",
      "Validation loss: 937039.8125000 - MSE score: 4526.7622070\n",
      "Validation pearson is: nan\n",
      "Validation r2_score is: -5.1982824111613875\n",
      "-------------------------\n"
     ]
    },
    {
     "name": "stderr",
     "output_type": "stream",
     "text": [
      "/home/mbosnjak/.conda/envs/pero/lib/python3.7/site-packages/scipy/stats/stats.py:3399: PearsonRConstantInputWarning: An input array is constant; the correlation coefficent is not defined.\n",
      "  warnings.warn(PearsonRConstantInputWarning())\n"
     ]
    },
    {
     "name": "stdout",
     "output_type": "stream",
     "text": [
      "Epoch 20 end: 1.0248336791992188, TRAIN MSE is: 4474.1259765625\n",
      "Validation loss: 935406.4375000 - MSE score: 4518.8715820\n",
      "Validation pearson is: nan\n",
      "Validation r2_score is: -5.187478397359646\n",
      "-------------------------\n"
     ]
    },
    {
     "name": "stderr",
     "output_type": "stream",
     "text": [
      "/home/mbosnjak/.conda/envs/pero/lib/python3.7/site-packages/scipy/stats/stats.py:3399: PearsonRConstantInputWarning: An input array is constant; the correlation coefficent is not defined.\n",
      "  warnings.warn(PearsonRConstantInputWarning())\n"
     ]
    },
    {
     "name": "stdout",
     "output_type": "stream",
     "text": [
      "Epoch 21 end: 1.024707317352295, TRAIN MSE is: 4466.30078125\n",
      "Validation loss: 933769.0000000 - MSE score: 4510.9609375\n",
      "Validation pearson is: nan\n",
      "Validation r2_score is: -5.176646916064676\n",
      "-------------------------\n"
     ]
    },
    {
     "name": "stderr",
     "output_type": "stream",
     "text": [
      "/home/mbosnjak/.conda/envs/pero/lib/python3.7/site-packages/scipy/stats/stats.py:3399: PearsonRConstantInputWarning: An input array is constant; the correlation coefficent is not defined.\n",
      "  warnings.warn(PearsonRConstantInputWarning())\n"
     ]
    },
    {
     "name": "stdout",
     "output_type": "stream",
     "text": [
      "Epoch 22 end: 1.012420654296875, TRAIN MSE is: 4458.4287109375\n",
      "Validation loss: 932142.2500000 - MSE score: 4503.1030273\n",
      "Validation pearson is: nan\n",
      "Validation r2_score is: -5.1658871471685055\n",
      "-------------------------\n"
     ]
    },
    {
     "name": "stderr",
     "output_type": "stream",
     "text": [
      "/home/mbosnjak/.conda/envs/pero/lib/python3.7/site-packages/scipy/stats/stats.py:3399: PearsonRConstantInputWarning: An input array is constant; the correlation coefficent is not defined.\n",
      "  warnings.warn(PearsonRConstantInputWarning())\n"
     ]
    },
    {
     "name": "stdout",
     "output_type": "stream",
     "text": [
      "Epoch 23 end: 1.0174541473388672, TRAIN MSE is: 4450.6552734375\n",
      "Validation loss: 930504.3125000 - MSE score: 4495.1904297\n",
      "Validation pearson is: nan\n",
      "Validation r2_score is: -5.1550524867367145\n",
      "-------------------------\n"
     ]
    },
    {
     "name": "stderr",
     "output_type": "stream",
     "text": [
      "/home/mbosnjak/.conda/envs/pero/lib/python3.7/site-packages/scipy/stats/stats.py:3399: PearsonRConstantInputWarning: An input array is constant; the correlation coefficent is not defined.\n",
      "  warnings.warn(PearsonRConstantInputWarning())\n"
     ]
    },
    {
     "name": "stdout",
     "output_type": "stream",
     "text": [
      "Epoch 24 end: 1.0195987224578857, TRAIN MSE is: 4442.80224609375\n",
      "Validation loss: 928879.0625000 - MSE score: 4487.3383789\n",
      "Validation pearson is: nan\n",
      "Validation r2_score is: -5.144301191995662\n",
      "-------------------------\n"
     ]
    },
    {
     "name": "stderr",
     "output_type": "stream",
     "text": [
      "/home/mbosnjak/.conda/envs/pero/lib/python3.7/site-packages/scipy/stats/stats.py:3399: PearsonRConstantInputWarning: An input array is constant; the correlation coefficent is not defined.\n",
      "  warnings.warn(PearsonRConstantInputWarning())\n"
     ]
    },
    {
     "name": "stdout",
     "output_type": "stream",
     "text": [
      "Epoch 25 end: 1.039825201034546, TRAIN MSE is: 4435.02294921875\n",
      "Validation loss: 927250.3750000 - MSE score: 4479.4702148\n",
      "Validation pearson is: nan\n",
      "Validation r2_score is: -5.1335278018205495\n",
      "-------------------------\n"
     ]
    },
    {
     "name": "stderr",
     "output_type": "stream",
     "text": [
      "/home/mbosnjak/.conda/envs/pero/lib/python3.7/site-packages/scipy/stats/stats.py:3399: PearsonRConstantInputWarning: An input array is constant; the correlation coefficent is not defined.\n",
      "  warnings.warn(PearsonRConstantInputWarning())\n"
     ]
    },
    {
     "name": "stdout",
     "output_type": "stream",
     "text": [
      "Epoch 26 end: 1.0184416770935059, TRAIN MSE is: 4427.18603515625\n",
      "Validation loss: 925635.8750000 - MSE score: 4471.6708984\n",
      "Validation pearson is: nan\n",
      "Validation r2_score is: -5.122848656721908\n",
      "-------------------------\n"
     ]
    },
    {
     "name": "stderr",
     "output_type": "stream",
     "text": [
      "/home/mbosnjak/.conda/envs/pero/lib/python3.7/site-packages/scipy/stats/stats.py:3399: PearsonRConstantInputWarning: An input array is constant; the correlation coefficent is not defined.\n",
      "  warnings.warn(PearsonRConstantInputWarning())\n"
     ]
    },
    {
     "name": "stdout",
     "output_type": "stream",
     "text": [
      "Epoch 27 end: 1.0405998229980469, TRAIN MSE is: 4419.5\n",
      "Validation loss: 924000.1250000 - MSE score: 4463.7690430\n",
      "Validation pearson is: nan\n",
      "Validation r2_score is: -5.112028647429905\n",
      "-------------------------\n"
     ]
    },
    {
     "name": "stderr",
     "output_type": "stream",
     "text": [
      "/home/mbosnjak/.conda/envs/pero/lib/python3.7/site-packages/scipy/stats/stats.py:3399: PearsonRConstantInputWarning: An input array is constant; the correlation coefficent is not defined.\n",
      "  warnings.warn(PearsonRConstantInputWarning())\n"
     ]
    },
    {
     "name": "stdout",
     "output_type": "stream",
     "text": [
      "Epoch 28 end: 1.032306432723999, TRAIN MSE is: 4411.6669921875\n",
      "Validation loss: 922384.8750000 - MSE score: 4455.9658203\n",
      "Validation pearson is: nan\n",
      "Validation r2_score is: -5.1013439085749335\n",
      "-------------------------\n"
     ]
    },
    {
     "name": "stderr",
     "output_type": "stream",
     "text": [
      "/home/mbosnjak/.conda/envs/pero/lib/python3.7/site-packages/scipy/stats/stats.py:3399: PearsonRConstantInputWarning: An input array is constant; the correlation coefficent is not defined.\n",
      "  warnings.warn(PearsonRConstantInputWarning())\n"
     ]
    },
    {
     "name": "stdout",
     "output_type": "stream",
     "text": [
      "Epoch 29 end: 1.0195775032043457, TRAIN MSE is: 4403.88671875\n",
      "Validation loss: 920778.6250000 - MSE score: 4448.2060547\n",
      "Validation pearson is: nan\n",
      "Validation r2_score is: -5.090718857446513\n",
      "-------------------------\n"
     ]
    },
    {
     "name": "stderr",
     "output_type": "stream",
     "text": [
      "/home/mbosnjak/.conda/envs/pero/lib/python3.7/site-packages/scipy/stats/stats.py:3399: PearsonRConstantInputWarning: An input array is constant; the correlation coefficent is not defined.\n",
      "  warnings.warn(PearsonRConstantInputWarning())\n"
     ]
    },
    {
     "name": "stdout",
     "output_type": "stream",
     "text": [
      "Epoch 30 end: 1.031999111175537, TRAIN MSE is: 4396.1953125\n",
      "Validation loss: 919161.0625000 - MSE score: 4440.3920898\n",
      "Validation pearson is: nan\n",
      "Validation r2_score is: -5.080019482978293\n",
      "-------------------------\n"
     ]
    },
    {
     "name": "stderr",
     "output_type": "stream",
     "text": [
      "/home/mbosnjak/.conda/envs/pero/lib/python3.7/site-packages/scipy/stats/stats.py:3399: PearsonRConstantInputWarning: An input array is constant; the correlation coefficent is not defined.\n",
      "  warnings.warn(PearsonRConstantInputWarning())\n"
     ]
    },
    {
     "name": "stdout",
     "output_type": "stream",
     "text": [
      "Epoch 31 end: 1.0489754676818848, TRAIN MSE is: 4388.46630859375\n",
      "Validation loss: 917546.1250000 - MSE score: 4432.5898438\n",
      "Validation pearson is: nan\n",
      "Validation r2_score is: -5.069336547855333\n",
      "-------------------------\n"
     ]
    },
    {
     "name": "stderr",
     "output_type": "stream",
     "text": [
      "/home/mbosnjak/.conda/envs/pero/lib/python3.7/site-packages/scipy/stats/stats.py:3399: PearsonRConstantInputWarning: An input array is constant; the correlation coefficent is not defined.\n",
      "  warnings.warn(PearsonRConstantInputWarning())\n"
     ]
    },
    {
     "name": "stdout",
     "output_type": "stream",
     "text": [
      "Epoch 32 end: 1.066232442855835, TRAIN MSE is: 4380.71240234375\n",
      "Validation loss: 915942.5625000 - MSE score: 4424.8427734\n",
      "Validation pearson is: nan\n",
      "Validation r2_score is: -5.058729576892323\n",
      "-------------------------\n"
     ]
    },
    {
     "name": "stderr",
     "output_type": "stream",
     "text": [
      "/home/mbosnjak/.conda/envs/pero/lib/python3.7/site-packages/scipy/stats/stats.py:3399: PearsonRConstantInputWarning: An input array is constant; the correlation coefficent is not defined.\n",
      "  warnings.warn(PearsonRConstantInputWarning())\n"
     ]
    },
    {
     "name": "stdout",
     "output_type": "stream",
     "text": [
      "Epoch 33 end: 1.0257923603057861, TRAIN MSE is: 4372.99267578125\n",
      "Validation loss: 914344.1875000 - MSE score: 4417.1215820\n",
      "Validation pearson is: nan\n",
      "Validation r2_score is: -5.048156544257212\n",
      "-------------------------\n"
     ]
    },
    {
     "name": "stderr",
     "output_type": "stream",
     "text": [
      "/home/mbosnjak/.conda/envs/pero/lib/python3.7/site-packages/scipy/stats/stats.py:3399: PearsonRConstantInputWarning: An input array is constant; the correlation coefficent is not defined.\n",
      "  warnings.warn(PearsonRConstantInputWarning())\n"
     ]
    },
    {
     "name": "stdout",
     "output_type": "stream",
     "text": [
      "Epoch 34 end: 1.0532894134521484, TRAIN MSE is: 4365.3876953125\n",
      "Validation loss: 912724.9375000 - MSE score: 4409.2993164\n",
      "Validation pearson is: nan\n",
      "Validation r2_score is: -5.037446224685591\n",
      "-------------------------\n"
     ]
    },
    {
     "name": "stderr",
     "output_type": "stream",
     "text": [
      "/home/mbosnjak/.conda/envs/pero/lib/python3.7/site-packages/scipy/stats/stats.py:3399: PearsonRConstantInputWarning: An input array is constant; the correlation coefficent is not defined.\n",
      "  warnings.warn(PearsonRConstantInputWarning())\n"
     ]
    },
    {
     "name": "stdout",
     "output_type": "stream",
     "text": [
      "Epoch 35 end: 1.0511729717254639, TRAIN MSE is: 4357.6240234375\n",
      "Validation loss: 911129.3750000 - MSE score: 4401.5908203\n",
      "Validation pearson is: nan\n",
      "Validation r2_score is: -5.026891446008809\n",
      "-------------------------\n"
     ]
    },
    {
     "name": "stderr",
     "output_type": "stream",
     "text": [
      "/home/mbosnjak/.conda/envs/pero/lib/python3.7/site-packages/scipy/stats/stats.py:3399: PearsonRConstantInputWarning: An input array is constant; the correlation coefficent is not defined.\n",
      "  warnings.warn(PearsonRConstantInputWarning())\n"
     ]
    },
    {
     "name": "stdout",
     "output_type": "stream",
     "text": [
      "Epoch 36 end: 1.0332574844360352, TRAIN MSE is: 4349.93603515625\n",
      "Validation loss: 909539.8750000 - MSE score: 4393.9125977\n",
      "Validation pearson is: nan\n",
      "Validation r2_score is: -5.016377320231092\n",
      "-------------------------\n"
     ]
    },
    {
     "name": "stderr",
     "output_type": "stream",
     "text": [
      "/home/mbosnjak/.conda/envs/pero/lib/python3.7/site-packages/scipy/stats/stats.py:3399: PearsonRConstantInputWarning: An input array is constant; the correlation coefficent is not defined.\n",
      "  warnings.warn(PearsonRConstantInputWarning())\n"
     ]
    },
    {
     "name": "stdout",
     "output_type": "stream",
     "text": [
      "Epoch 37 end: 1.0149693489074707, TRAIN MSE is: 4342.31494140625\n",
      "Validation loss: 907941.5625000 - MSE score: 4386.1914062\n",
      "Validation pearson is: nan\n",
      "Validation r2_score is: -5.005805547286811\n",
      "-------------------------\n"
     ]
    },
    {
     "name": "stderr",
     "output_type": "stream",
     "text": [
      "/home/mbosnjak/.conda/envs/pero/lib/python3.7/site-packages/scipy/stats/stats.py:3399: PearsonRConstantInputWarning: An input array is constant; the correlation coefficent is not defined.\n",
      "  warnings.warn(PearsonRConstantInputWarning())\n"
     ]
    },
    {
     "name": "stdout",
     "output_type": "stream",
     "text": [
      "Epoch 38 end: 1.011420488357544, TRAIN MSE is: 4334.6923828125\n",
      "Validation loss: 906339.0625000 - MSE score: 4378.4492188\n",
      "Validation pearson is: nan\n",
      "Validation r2_score is: -4.995204724575965\n",
      "-------------------------\n"
     ]
    },
    {
     "name": "stderr",
     "output_type": "stream",
     "text": [
      "/home/mbosnjak/.conda/envs/pero/lib/python3.7/site-packages/scipy/stats/stats.py:3399: PearsonRConstantInputWarning: An input array is constant; the correlation coefficent is not defined.\n",
      "  warnings.warn(PearsonRConstantInputWarning())\n"
     ]
    },
    {
     "name": "stdout",
     "output_type": "stream",
     "text": [
      "Epoch 39 end: 1.0418879985809326, TRAIN MSE is: 4327.005859375\n",
      "Validation loss: 904751.6875000 - MSE score: 4370.7807617\n",
      "Validation pearson is: nan\n",
      "Validation r2_score is: -4.984704576669723\n",
      "-------------------------\n"
     ]
    },
    {
     "name": "stderr",
     "output_type": "stream",
     "text": [
      "/home/mbosnjak/.conda/envs/pero/lib/python3.7/site-packages/scipy/stats/stats.py:3399: PearsonRConstantInputWarning: An input array is constant; the correlation coefficent is not defined.\n",
      "  warnings.warn(PearsonRConstantInputWarning())\n"
     ]
    },
    {
     "name": "stdout",
     "output_type": "stream",
     "text": [
      "Epoch 40 end: 1.0461604595184326, TRAIN MSE is: 4319.3818359375\n",
      "Validation loss: 903165.5625000 - MSE score: 4363.1186523\n",
      "Validation pearson is: nan\n",
      "Validation r2_score is: -4.974213162704605\n",
      "-------------------------\n"
     ]
    },
    {
     "name": "stderr",
     "output_type": "stream",
     "text": [
      "/home/mbosnjak/.conda/envs/pero/lib/python3.7/site-packages/scipy/stats/stats.py:3399: PearsonRConstantInputWarning: An input array is constant; the correlation coefficent is not defined.\n",
      "  warnings.warn(PearsonRConstantInputWarning())\n"
     ]
    },
    {
     "name": "stdout",
     "output_type": "stream",
     "text": [
      "Epoch 41 end: 1.0213799476623535, TRAIN MSE is: 4311.7646484375\n",
      "Validation loss: 901582.0000000 - MSE score: 4355.4687500\n",
      "Validation pearson is: nan\n",
      "Validation r2_score is: -4.963738738029478\n",
      "-------------------------\n"
     ]
    },
    {
     "name": "stderr",
     "output_type": "stream",
     "text": [
      "/home/mbosnjak/.conda/envs/pero/lib/python3.7/site-packages/scipy/stats/stats.py:3399: PearsonRConstantInputWarning: An input array is constant; the correlation coefficent is not defined.\n",
      "  warnings.warn(PearsonRConstantInputWarning())\n"
     ]
    },
    {
     "name": "stdout",
     "output_type": "stream",
     "text": [
      "Epoch 42 end: 1.0442991256713867, TRAIN MSE is: 4304.1748046875\n",
      "Validation loss: 899996.6875000 - MSE score: 4347.8105469\n",
      "Validation pearson is: nan\n",
      "Validation r2_score is: -4.9532518452479115\n",
      "-------------------------\n"
     ]
    },
    {
     "name": "stderr",
     "output_type": "stream",
     "text": [
      "/home/mbosnjak/.conda/envs/pero/lib/python3.7/site-packages/scipy/stats/stats.py:3399: PearsonRConstantInputWarning: An input array is constant; the correlation coefficent is not defined.\n",
      "  warnings.warn(PearsonRConstantInputWarning())\n"
     ]
    },
    {
     "name": "stdout",
     "output_type": "stream",
     "text": [
      "Epoch 43 end: 1.0435855388641357, TRAIN MSE is: 4296.60595703125\n",
      "Validation loss: 898407.8125000 - MSE score: 4340.1342773\n",
      "Validation pearson is: nan\n",
      "Validation r2_score is: -4.94274162023638\n",
      "-------------------------\n"
     ]
    },
    {
     "name": "stderr",
     "output_type": "stream",
     "text": [
      "/home/mbosnjak/.conda/envs/pero/lib/python3.7/site-packages/scipy/stats/stats.py:3399: PearsonRConstantInputWarning: An input array is constant; the correlation coefficent is not defined.\n",
      "  warnings.warn(PearsonRConstantInputWarning())\n"
     ]
    },
    {
     "name": "stdout",
     "output_type": "stream",
     "text": [
      "Epoch 44 end: 1.02718186378479, TRAIN MSE is: 4289.02734375\n",
      "Validation loss: 896821.0000000 - MSE score: 4332.4687500\n",
      "Validation pearson is: nan\n",
      "Validation r2_score is: -4.932245392067709\n",
      "-------------------------\n"
     ]
    },
    {
     "name": "stderr",
     "output_type": "stream",
     "text": [
      "/home/mbosnjak/.conda/envs/pero/lib/python3.7/site-packages/scipy/stats/stats.py:3399: PearsonRConstantInputWarning: An input array is constant; the correlation coefficent is not defined.\n",
      "  warnings.warn(PearsonRConstantInputWarning())\n"
     ]
    },
    {
     "name": "stdout",
     "output_type": "stream",
     "text": [
      "Epoch 45 end: 1.0355379581451416, TRAIN MSE is: 4281.404296875\n",
      "Validation loss: 895250.6875000 - MSE score: 4324.8823242\n",
      "Validation pearson is: nan\n",
      "Validation r2_score is: -4.921858180706824\n",
      "-------------------------\n"
     ]
    },
    {
     "name": "stderr",
     "output_type": "stream",
     "text": [
      "/home/mbosnjak/.conda/envs/pero/lib/python3.7/site-packages/scipy/stats/stats.py:3399: PearsonRConstantInputWarning: An input array is constant; the correlation coefficent is not defined.\n",
      "  warnings.warn(PearsonRConstantInputWarning())\n"
     ]
    },
    {
     "name": "stdout",
     "output_type": "stream",
     "text": [
      "Epoch 46 end: 1.057142972946167, TRAIN MSE is: 4273.90478515625\n",
      "Validation loss: 893667.2500000 - MSE score: 4317.2329102\n",
      "Validation pearson is: nan\n",
      "Validation r2_score is: -4.911384133258526\n",
      "-------------------------\n"
     ]
    },
    {
     "name": "stderr",
     "output_type": "stream",
     "text": [
      "/home/mbosnjak/.conda/envs/pero/lib/python3.7/site-packages/scipy/stats/stats.py:3399: PearsonRConstantInputWarning: An input array is constant; the correlation coefficent is not defined.\n",
      "  warnings.warn(PearsonRConstantInputWarning())\n"
     ]
    },
    {
     "name": "stdout",
     "output_type": "stream",
     "text": [
      "Epoch 47 end: 1.0581443309783936, TRAIN MSE is: 4266.31494140625\n",
      "Validation loss: 892097.9375000 - MSE score: 4309.6523438\n",
      "Validation pearson is: nan\n",
      "Validation r2_score is: -4.901003787019081\n",
      "-------------------------\n"
     ]
    },
    {
     "name": "stderr",
     "output_type": "stream",
     "text": [
      "/home/mbosnjak/.conda/envs/pero/lib/python3.7/site-packages/scipy/stats/stats.py:3399: PearsonRConstantInputWarning: An input array is constant; the correlation coefficent is not defined.\n",
      "  warnings.warn(PearsonRConstantInputWarning())\n"
     ]
    },
    {
     "name": "stdout",
     "output_type": "stream",
     "text": [
      "Epoch 48 end: 1.0368130207061768, TRAIN MSE is: 4258.7783203125\n",
      "Validation loss: 890531.2500000 - MSE score: 4302.0834961\n",
      "Validation pearson is: nan\n",
      "Validation r2_score is: -4.890640875987122\n",
      "-------------------------\n"
     ]
    },
    {
     "name": "stderr",
     "output_type": "stream",
     "text": [
      "/home/mbosnjak/.conda/envs/pero/lib/python3.7/site-packages/scipy/stats/stats.py:3399: PearsonRConstantInputWarning: An input array is constant; the correlation coefficent is not defined.\n",
      "  warnings.warn(PearsonRConstantInputWarning())\n"
     ]
    },
    {
     "name": "stdout",
     "output_type": "stream",
     "text": [
      "Epoch 49 end: 1.0286953449249268, TRAIN MSE is: 4251.279296875\n",
      "Validation loss: 888960.8750000 - MSE score: 4294.4965820\n",
      "Validation pearson is: nan\n",
      "Validation r2_score is: -4.880252310751001\n",
      "-------------------------\n"
     ]
    },
    {
     "name": "stderr",
     "output_type": "stream",
     "text": [
      "/home/mbosnjak/.conda/envs/pero/lib/python3.7/site-packages/scipy/stats/stats.py:3399: PearsonRConstantInputWarning: An input array is constant; the correlation coefficent is not defined.\n",
      "  warnings.warn(PearsonRConstantInputWarning())\n"
     ]
    },
    {
     "name": "stdout",
     "output_type": "stream",
     "text": [
      "Epoch 50 end: 1.0440831184387207, TRAIN MSE is: 4243.716796875\n",
      "Validation loss: 887405.6250000 - MSE score: 4286.9833984\n",
      "Validation pearson is: nan\n",
      "Validation r2_score is: -4.869964786635678\n",
      "-------------------------\n"
     ]
    },
    {
     "name": "stderr",
     "output_type": "stream",
     "text": [
      "/home/mbosnjak/.conda/envs/pero/lib/python3.7/site-packages/scipy/stats/stats.py:3399: PearsonRConstantInputWarning: An input array is constant; the correlation coefficent is not defined.\n",
      "  warnings.warn(PearsonRConstantInputWarning())\n"
     ]
    },
    {
     "name": "stdout",
     "output_type": "stream",
     "text": [
      "Epoch 51 end: 1.0488502979278564, TRAIN MSE is: 4236.27587890625\n",
      "Validation loss: 885836.2500000 - MSE score: 4279.4023438\n",
      "Validation pearson is: nan\n",
      "Validation r2_score is: -4.859583655420951\n",
      "-------------------------\n"
     ]
    },
    {
     "name": "stderr",
     "output_type": "stream",
     "text": [
      "/home/mbosnjak/.conda/envs/pero/lib/python3.7/site-packages/scipy/stats/stats.py:3399: PearsonRConstantInputWarning: An input array is constant; the correlation coefficent is not defined.\n",
      "  warnings.warn(PearsonRConstantInputWarning())\n"
     ]
    },
    {
     "name": "stdout",
     "output_type": "stream",
     "text": [
      "Epoch 52 end: 1.0440142154693604, TRAIN MSE is: 4228.78271484375\n",
      "Validation loss: 884270.6875000 - MSE score: 4271.8388672\n",
      "Validation pearson is: nan\n",
      "Validation r2_score is: -4.849228226563639\n",
      "-------------------------\n"
     ]
    },
    {
     "name": "stderr",
     "output_type": "stream",
     "text": [
      "/home/mbosnjak/.conda/envs/pero/lib/python3.7/site-packages/scipy/stats/stats.py:3399: PearsonRConstantInputWarning: An input array is constant; the correlation coefficent is not defined.\n",
      "  warnings.warn(PearsonRConstantInputWarning())\n"
     ]
    },
    {
     "name": "stdout",
     "output_type": "stream",
     "text": [
      "Epoch 53 end: 1.0253803730010986, TRAIN MSE is: 4221.26123046875\n",
      "Validation loss: 882718.4375000 - MSE score: 4264.3408203\n",
      "Validation pearson is: nan\n",
      "Validation r2_score is: -4.838961039353647\n",
      "-------------------------\n"
     ]
    },
    {
     "name": "stderr",
     "output_type": "stream",
     "text": [
      "/home/mbosnjak/.conda/envs/pero/lib/python3.7/site-packages/scipy/stats/stats.py:3399: PearsonRConstantInputWarning: An input array is constant; the correlation coefficent is not defined.\n",
      "  warnings.warn(PearsonRConstantInputWarning())\n"
     ]
    },
    {
     "name": "stdout",
     "output_type": "stream",
     "text": [
      "Epoch 54 end: 1.0411045551300049, TRAIN MSE is: 4213.8447265625\n",
      "Validation loss: 881155.1875000 - MSE score: 4256.7885742\n",
      "Validation pearson is: nan\n",
      "Validation r2_score is: -4.828620046257112\n",
      "-------------------------\n"
     ]
    },
    {
     "name": "stderr",
     "output_type": "stream",
     "text": [
      "/home/mbosnjak/.conda/envs/pero/lib/python3.7/site-packages/scipy/stats/stats.py:3399: PearsonRConstantInputWarning: An input array is constant; the correlation coefficent is not defined.\n",
      "  warnings.warn(PearsonRConstantInputWarning())\n"
     ]
    },
    {
     "name": "stdout",
     "output_type": "stream",
     "text": [
      "Epoch 55 end: 1.0464413166046143, TRAIN MSE is: 4206.3515625\n",
      "Validation loss: 879603.9375000 - MSE score: 4249.2944336\n",
      "Validation pearson is: nan\n",
      "Validation r2_score is: -4.818358910733803\n",
      "-------------------------\n"
     ]
    },
    {
     "name": "stderr",
     "output_type": "stream",
     "text": [
      "/home/mbosnjak/.conda/envs/pero/lib/python3.7/site-packages/scipy/stats/stats.py:3399: PearsonRConstantInputWarning: An input array is constant; the correlation coefficent is not defined.\n",
      "  warnings.warn(PearsonRConstantInputWarning())\n"
     ]
    },
    {
     "name": "stdout",
     "output_type": "stream",
     "text": [
      "Epoch 56 end: 1.0281620025634766, TRAIN MSE is: 4198.9560546875\n",
      "Validation loss: 878042.2500000 - MSE score: 4241.7504883\n",
      "Validation pearson is: nan\n",
      "Validation r2_score is: -4.808028881109599\n",
      "-------------------------\n"
     ]
    },
    {
     "name": "stderr",
     "output_type": "stream",
     "text": [
      "/home/mbosnjak/.conda/envs/pero/lib/python3.7/site-packages/scipy/stats/stats.py:3399: PearsonRConstantInputWarning: An input array is constant; the correlation coefficent is not defined.\n",
      "  warnings.warn(PearsonRConstantInputWarning())\n"
     ]
    },
    {
     "name": "stdout",
     "output_type": "stream",
     "text": [
      "Epoch 57 end: 1.0356783866882324, TRAIN MSE is: 4191.45166015625\n",
      "Validation loss: 876501.7500000 - MSE score: 4234.3081055\n",
      "Validation pearson is: nan\n",
      "Validation r2_score is: -4.797838818410921\n",
      "-------------------------\n"
     ]
    },
    {
     "name": "stderr",
     "output_type": "stream",
     "text": [
      "/home/mbosnjak/.conda/envs/pero/lib/python3.7/site-packages/scipy/stats/stats.py:3399: PearsonRConstantInputWarning: An input array is constant; the correlation coefficent is not defined.\n",
      "  warnings.warn(PearsonRConstantInputWarning())\n"
     ]
    },
    {
     "name": "stdout",
     "output_type": "stream",
     "text": [
      "Epoch 58 end: 1.0347142219543457, TRAIN MSE is: 4184.05322265625\n",
      "Validation loss: 874956.7500000 - MSE score: 4226.8442383\n",
      "Validation pearson is: nan\n",
      "Validation r2_score is: -4.78761898091024\n",
      "-------------------------\n"
     ]
    },
    {
     "name": "stderr",
     "output_type": "stream",
     "text": [
      "/home/mbosnjak/.conda/envs/pero/lib/python3.7/site-packages/scipy/stats/stats.py:3399: PearsonRConstantInputWarning: An input array is constant; the correlation coefficent is not defined.\n",
      "  warnings.warn(PearsonRConstantInputWarning())\n"
     ]
    },
    {
     "name": "stdout",
     "output_type": "stream",
     "text": [
      "Epoch 59 end: 1.0313782691955566, TRAIN MSE is: 4176.64111328125\n",
      "Validation loss: 873414.1875000 - MSE score: 4219.3925781\n",
      "Validation pearson is: nan\n",
      "Validation r2_score is: -4.777415808251287\n",
      "-------------------------\n"
     ]
    },
    {
     "name": "stderr",
     "output_type": "stream",
     "text": [
      "/home/mbosnjak/.conda/envs/pero/lib/python3.7/site-packages/scipy/stats/stats.py:3399: PearsonRConstantInputWarning: An input array is constant; the correlation coefficent is not defined.\n",
      "  warnings.warn(PearsonRConstantInputWarning())\n"
     ]
    },
    {
     "name": "stdout",
     "output_type": "stream",
     "text": [
      "Epoch 60 end: 1.044769525527954, TRAIN MSE is: 4169.28466796875\n",
      "Validation loss: 871862.4375000 - MSE score: 4211.8955078\n",
      "Validation pearson is: nan\n",
      "Validation r2_score is: -4.76715075209008\n",
      "-------------------------\n"
     ]
    },
    {
     "name": "stderr",
     "output_type": "stream",
     "text": [
      "/home/mbosnjak/.conda/envs/pero/lib/python3.7/site-packages/scipy/stats/stats.py:3399: PearsonRConstantInputWarning: An input array is constant; the correlation coefficent is not defined.\n",
      "  warnings.warn(PearsonRConstantInputWarning())\n"
     ]
    },
    {
     "name": "stdout",
     "output_type": "stream",
     "text": [
      "Epoch 61 end: 1.044569969177246, TRAIN MSE is: 4161.8525390625\n",
      "Validation loss: 870324.3750000 - MSE score: 4204.4658203\n",
      "Validation pearson is: nan\n",
      "Validation r2_score is: -4.756977284702871\n",
      "-------------------------\n"
     ]
    },
    {
     "name": "stderr",
     "output_type": "stream",
     "text": [
      "/home/mbosnjak/.conda/envs/pero/lib/python3.7/site-packages/scipy/stats/stats.py:3399: PearsonRConstantInputWarning: An input array is constant; the correlation coefficent is not defined.\n",
      "  warnings.warn(PearsonRConstantInputWarning())\n"
     ]
    },
    {
     "name": "stdout",
     "output_type": "stream",
     "text": [
      "Epoch 62 end: 1.0572619438171387, TRAIN MSE is: 4154.498046875\n",
      "Validation loss: 868782.8125000 - MSE score: 4197.0185547\n",
      "Validation pearson is: nan\n",
      "Validation r2_score is: -4.746779805826086\n",
      "-------------------------\n"
     ]
    },
    {
     "name": "stderr",
     "output_type": "stream",
     "text": [
      "/home/mbosnjak/.conda/envs/pero/lib/python3.7/site-packages/scipy/stats/stats.py:3399: PearsonRConstantInputWarning: An input array is constant; the correlation coefficent is not defined.\n",
      "  warnings.warn(PearsonRConstantInputWarning())\n"
     ]
    },
    {
     "name": "stdout",
     "output_type": "stream",
     "text": [
      "Epoch 63 end: 1.0412445068359375, TRAIN MSE is: 4147.08984375\n",
      "Validation loss: 867254.3750000 - MSE score: 4189.6347656\n",
      "Validation pearson is: nan\n",
      "Validation r2_score is: -4.736669431619042\n",
      "-------------------------\n"
     ]
    },
    {
     "name": "stderr",
     "output_type": "stream",
     "text": [
      "/home/mbosnjak/.conda/envs/pero/lib/python3.7/site-packages/scipy/stats/stats.py:3399: PearsonRConstantInputWarning: An input array is constant; the correlation coefficent is not defined.\n",
      "  warnings.warn(PearsonRConstantInputWarning())\n"
     ]
    },
    {
     "name": "stdout",
     "output_type": "stream",
     "text": [
      "Epoch 64 end: 1.037954568862915, TRAIN MSE is: 4139.74658203125\n",
      "Validation loss: 865724.5000000 - MSE score: 4182.2431641\n",
      "Validation pearson is: nan\n",
      "Validation r2_score is: -4.726549316246728\n",
      "-------------------------\n"
     ]
    },
    {
     "name": "stderr",
     "output_type": "stream",
     "text": [
      "/home/mbosnjak/.conda/envs/pero/lib/python3.7/site-packages/scipy/stats/stats.py:3399: PearsonRConstantInputWarning: An input array is constant; the correlation coefficent is not defined.\n",
      "  warnings.warn(PearsonRConstantInputWarning())\n"
     ]
    },
    {
     "name": "stdout",
     "output_type": "stream",
     "text": [
      "Epoch 65 end: 1.0340452194213867, TRAIN MSE is: 4132.45703125\n",
      "Validation loss: 864182.3750000 - MSE score: 4174.7939453\n",
      "Validation pearson is: nan\n",
      "Validation r2_score is: -4.716349087363353\n",
      "-------------------------\n"
     ]
    },
    {
     "name": "stderr",
     "output_type": "stream",
     "text": [
      "/home/mbosnjak/.conda/envs/pero/lib/python3.7/site-packages/scipy/stats/stats.py:3399: PearsonRConstantInputWarning: An input array is constant; the correlation coefficent is not defined.\n",
      "  warnings.warn(PearsonRConstantInputWarning())\n"
     ]
    },
    {
     "name": "stdout",
     "output_type": "stream",
     "text": [
      "Epoch 66 end: 1.0450403690338135, TRAIN MSE is: 4125.08056640625\n",
      "Validation loss: 862654.0625000 - MSE score: 4167.4111328\n",
      "Validation pearson is: nan\n",
      "Validation r2_score is: -4.7062395967806365\n",
      "-------------------------\n"
     ]
    },
    {
     "name": "stderr",
     "output_type": "stream",
     "text": [
      "/home/mbosnjak/.conda/envs/pero/lib/python3.7/site-packages/scipy/stats/stats.py:3399: PearsonRConstantInputWarning: An input array is constant; the correlation coefficent is not defined.\n",
      "  warnings.warn(PearsonRConstantInputWarning())\n"
     ]
    },
    {
     "name": "stdout",
     "output_type": "stream",
     "text": [
      "Epoch 67 end: 1.0478816032409668, TRAIN MSE is: 4117.7451171875\n",
      "Validation loss: 861131.3750000 - MSE score: 4160.0551758\n",
      "Validation pearson is: nan\n",
      "Validation r2_score is: -4.6961676668281855\n",
      "-------------------------\n"
     ]
    },
    {
     "name": "stderr",
     "output_type": "stream",
     "text": [
      "/home/mbosnjak/.conda/envs/pero/lib/python3.7/site-packages/scipy/stats/stats.py:3399: PearsonRConstantInputWarning: An input array is constant; the correlation coefficent is not defined.\n",
      "  warnings.warn(PearsonRConstantInputWarning())\n"
     ]
    },
    {
     "name": "stdout",
     "output_type": "stream",
     "text": [
      "Epoch 68 end: 1.0507097244262695, TRAIN MSE is: 4110.46044921875\n",
      "Validation loss: 859603.7500000 - MSE score: 4152.6752930\n",
      "Validation pearson is: nan\n",
      "Validation r2_score is: -4.686062477675489\n",
      "-------------------------\n"
     ]
    },
    {
     "name": "stderr",
     "output_type": "stream",
     "text": [
      "/home/mbosnjak/.conda/envs/pero/lib/python3.7/site-packages/scipy/stats/stats.py:3399: PearsonRConstantInputWarning: An input array is constant; the correlation coefficent is not defined.\n",
      "  warnings.warn(PearsonRConstantInputWarning())\n"
     ]
    },
    {
     "name": "stdout",
     "output_type": "stream",
     "text": [
      "Epoch 69 end: 1.048166036605835, TRAIN MSE is: 4103.0927734375\n",
      "Validation loss: 858095.8125000 - MSE score: 4145.3906250\n",
      "Validation pearson is: nan\n",
      "Validation r2_score is: -4.676088130833392\n",
      "-------------------------\n"
     ]
    },
    {
     "name": "stderr",
     "output_type": "stream",
     "text": [
      "/home/mbosnjak/.conda/envs/pero/lib/python3.7/site-packages/scipy/stats/stats.py:3399: PearsonRConstantInputWarning: An input array is constant; the correlation coefficent is not defined.\n",
      "  warnings.warn(PearsonRConstantInputWarning())\n"
     ]
    },
    {
     "name": "stdout",
     "output_type": "stream",
     "text": [
      "Epoch 70 end: 1.0742111206054688, TRAIN MSE is: 4095.86376953125\n",
      "Validation loss: 856573.2500000 - MSE score: 4138.0351562\n",
      "Validation pearson is: nan\n",
      "Validation r2_score is: -4.666016774536314\n",
      "-------------------------\n"
     ]
    },
    {
     "name": "stderr",
     "output_type": "stream",
     "text": [
      "/home/mbosnjak/.conda/envs/pero/lib/python3.7/site-packages/scipy/stats/stats.py:3399: PearsonRConstantInputWarning: An input array is constant; the correlation coefficent is not defined.\n",
      "  warnings.warn(PearsonRConstantInputWarning())\n"
     ]
    },
    {
     "name": "stdout",
     "output_type": "stream",
     "text": [
      "Epoch 71 end: 1.0463500022888184, TRAIN MSE is: 4088.600830078125\n",
      "Validation loss: 855048.8125000 - MSE score: 4130.6704102\n",
      "Validation pearson is: nan\n",
      "Validation r2_score is: -4.655932386148221\n",
      "-------------------------\n"
     ]
    },
    {
     "name": "stderr",
     "output_type": "stream",
     "text": [
      "/home/mbosnjak/.conda/envs/pero/lib/python3.7/site-packages/scipy/stats/stats.py:3399: PearsonRConstantInputWarning: An input array is constant; the correlation coefficent is not defined.\n",
      "  warnings.warn(PearsonRConstantInputWarning())\n"
     ]
    },
    {
     "name": "stdout",
     "output_type": "stream",
     "text": [
      "Epoch 72 end: 1.0456669330596924, TRAIN MSE is: 4081.299560546875\n",
      "Validation loss: 853535.3750000 - MSE score: 4123.3593750\n",
      "Validation pearson is: nan\n",
      "Validation r2_score is: -4.645921667901421\n",
      "-------------------------\n"
     ]
    },
    {
     "name": "stderr",
     "output_type": "stream",
     "text": [
      "/home/mbosnjak/.conda/envs/pero/lib/python3.7/site-packages/scipy/stats/stats.py:3399: PearsonRConstantInputWarning: An input array is constant; the correlation coefficent is not defined.\n",
      "  warnings.warn(PearsonRConstantInputWarning())\n"
     ]
    },
    {
     "name": "stdout",
     "output_type": "stream",
     "text": [
      "Epoch 73 end: 1.063089370727539, TRAIN MSE is: 4074.033203125\n",
      "Validation loss: 852026.1875000 - MSE score: 4116.0688477\n",
      "Validation pearson is: nan\n",
      "Validation r2_score is: -4.635939150963157\n",
      "-------------------------\n"
     ]
    },
    {
     "name": "stderr",
     "output_type": "stream",
     "text": [
      "/home/mbosnjak/.conda/envs/pero/lib/python3.7/site-packages/scipy/stats/stats.py:3399: PearsonRConstantInputWarning: An input array is constant; the correlation coefficent is not defined.\n",
      "  warnings.warn(PearsonRConstantInputWarning())\n"
     ]
    },
    {
     "name": "stdout",
     "output_type": "stream",
     "text": [
      "Epoch 74 end: 1.0413413047790527, TRAIN MSE is: 4066.826171875\n",
      "Validation loss: 850509.0625000 - MSE score: 4108.7397461\n",
      "Validation pearson is: nan\n",
      "Validation r2_score is: -4.6259037003585775\n",
      "-------------------------\n"
     ]
    },
    {
     "name": "stderr",
     "output_type": "stream",
     "text": [
      "/home/mbosnjak/.conda/envs/pero/lib/python3.7/site-packages/scipy/stats/stats.py:3399: PearsonRConstantInputWarning: An input array is constant; the correlation coefficent is not defined.\n",
      "  warnings.warn(PearsonRConstantInputWarning())\n"
     ]
    },
    {
     "name": "stdout",
     "output_type": "stream",
     "text": [
      "Epoch 75 end: 1.0613641738891602, TRAIN MSE is: 4059.5732421875\n",
      "Validation loss: 848998.6250000 - MSE score: 4101.4428711\n",
      "Validation pearson is: nan\n",
      "Validation r2_score is: -4.615912538598936\n",
      "-------------------------\n"
     ]
    },
    {
     "name": "stderr",
     "output_type": "stream",
     "text": [
      "/home/mbosnjak/.conda/envs/pero/lib/python3.7/site-packages/scipy/stats/stats.py:3399: PearsonRConstantInputWarning: An input array is constant; the correlation coefficent is not defined.\n",
      "  warnings.warn(PearsonRConstantInputWarning())\n"
     ]
    },
    {
     "name": "stdout",
     "output_type": "stream",
     "text": [
      "Epoch 76 end: 1.0764331817626953, TRAIN MSE is: 4052.31103515625\n",
      "Validation loss: 847500.1875000 - MSE score: 4094.2038574\n",
      "Validation pearson is: nan\n",
      "Validation r2_score is: -4.60600073021328\n",
      "-------------------------\n"
     ]
    },
    {
     "name": "stderr",
     "output_type": "stream",
     "text": [
      "/home/mbosnjak/.conda/envs/pero/lib/python3.7/site-packages/scipy/stats/stats.py:3399: PearsonRConstantInputWarning: An input array is constant; the correlation coefficent is not defined.\n",
      "  warnings.warn(PearsonRConstantInputWarning())\n"
     ]
    },
    {
     "name": "stdout",
     "output_type": "stream",
     "text": [
      "Epoch 77 end: 1.0632624626159668, TRAIN MSE is: 4045.099365234375\n",
      "Validation loss: 846002.8750000 - MSE score: 4086.9697266\n",
      "Validation pearson is: nan\n",
      "Validation r2_score is: -4.596095990327045\n",
      "-------------------------\n"
     ]
    },
    {
     "name": "stderr",
     "output_type": "stream",
     "text": [
      "/home/mbosnjak/.conda/envs/pero/lib/python3.7/site-packages/scipy/stats/stats.py:3399: PearsonRConstantInputWarning: An input array is constant; the correlation coefficent is not defined.\n",
      "  warnings.warn(PearsonRConstantInputWarning())\n"
     ]
    },
    {
     "name": "stdout",
     "output_type": "stream",
     "text": [
      "Epoch 78 end: 1.128138780593872, TRAIN MSE is: 4037.9306640625\n",
      "Validation loss: 844497.9375000 - MSE score: 4079.7004395\n",
      "Validation pearson is: nan\n",
      "Validation r2_score is: -4.586141742330347\n",
      "-------------------------\n"
     ]
    },
    {
     "name": "stderr",
     "output_type": "stream",
     "text": [
      "/home/mbosnjak/.conda/envs/pero/lib/python3.7/site-packages/scipy/stats/stats.py:3399: PearsonRConstantInputWarning: An input array is constant; the correlation coefficent is not defined.\n",
      "  warnings.warn(PearsonRConstantInputWarning())\n"
     ]
    },
    {
     "name": "stdout",
     "output_type": "stream",
     "text": [
      "Epoch 79 end: 1.0570485591888428, TRAIN MSE is: 4030.74755859375\n",
      "Validation loss: 842992.6875000 - MSE score: 4072.4287109\n",
      "Validation pearson is: nan\n",
      "Validation r2_score is: -4.576184623925361\n",
      "-------------------------\n"
     ]
    },
    {
     "name": "stderr",
     "output_type": "stream",
     "text": [
      "/home/mbosnjak/.conda/envs/pero/lib/python3.7/site-packages/scipy/stats/stats.py:3399: PearsonRConstantInputWarning: An input array is constant; the correlation coefficent is not defined.\n",
      "  warnings.warn(PearsonRConstantInputWarning())\n"
     ]
    },
    {
     "name": "stdout",
     "output_type": "stream",
     "text": [
      "Epoch 80 end: 1.0702028274536133, TRAIN MSE is: 4023.5634765625\n",
      "Validation loss: 841490.0000000 - MSE score: 4065.1691895\n",
      "Validation pearson is: nan\n",
      "Validation r2_score is: -4.566244827075323\n",
      "-------------------------\n"
     ]
    },
    {
     "name": "stderr",
     "output_type": "stream",
     "text": [
      "/home/mbosnjak/.conda/envs/pero/lib/python3.7/site-packages/scipy/stats/stats.py:3399: PearsonRConstantInputWarning: An input array is constant; the correlation coefficent is not defined.\n",
      "  warnings.warn(PearsonRConstantInputWarning())\n"
     ]
    },
    {
     "name": "stdout",
     "output_type": "stream",
     "text": [
      "Epoch 81 end: 1.052262306213379, TRAIN MSE is: 4016.329345703125\n",
      "Validation loss: 840006.0625000 - MSE score: 4058.0002441\n",
      "Validation pearson is: nan\n",
      "Validation r2_score is: -4.556428832856795\n",
      "-------------------------\n"
     ]
    },
    {
     "name": "stderr",
     "output_type": "stream",
     "text": [
      "/home/mbosnjak/.conda/envs/pero/lib/python3.7/site-packages/scipy/stats/stats.py:3399: PearsonRConstantInputWarning: An input array is constant; the correlation coefficent is not defined.\n",
      "  warnings.warn(PearsonRConstantInputWarning())\n"
     ]
    },
    {
     "name": "stdout",
     "output_type": "stream",
     "text": [
      "Epoch 82 end: 1.0603454113006592, TRAIN MSE is: 4009.223388671875\n",
      "Validation loss: 838509.1250000 - MSE score: 4050.7687988\n",
      "Validation pearson is: nan\n",
      "Validation r2_score is: -4.546527181067788\n",
      "-------------------------\n"
     ]
    },
    {
     "name": "stderr",
     "output_type": "stream",
     "text": [
      "/home/mbosnjak/.conda/envs/pero/lib/python3.7/site-packages/scipy/stats/stats.py:3399: PearsonRConstantInputWarning: An input array is constant; the correlation coefficent is not defined.\n",
      "  warnings.warn(PearsonRConstantInputWarning())\n"
     ]
    },
    {
     "name": "stdout",
     "output_type": "stream",
     "text": [
      "Epoch 83 end: 1.0972778797149658, TRAIN MSE is: 4002.059814453125\n",
      "Validation loss: 837017.8125000 - MSE score: 4043.5646973\n",
      "Validation pearson is: nan\n",
      "Validation r2_score is: -4.53666268691806\n",
      "-------------------------\n"
     ]
    },
    {
     "name": "stderr",
     "output_type": "stream",
     "text": [
      "/home/mbosnjak/.conda/envs/pero/lib/python3.7/site-packages/scipy/stats/stats.py:3399: PearsonRConstantInputWarning: An input array is constant; the correlation coefficent is not defined.\n",
      "  warnings.warn(PearsonRConstantInputWarning())\n"
     ]
    },
    {
     "name": "stdout",
     "output_type": "stream",
     "text": [
      "Epoch 84 end: 1.1026153564453125, TRAIN MSE is: 3994.94482421875\n",
      "Validation loss: 835522.1875000 - MSE score: 4036.3393555\n",
      "Validation pearson is: nan\n",
      "Validation r2_score is: -4.526769277583969\n",
      "-------------------------\n"
     ]
    },
    {
     "name": "stderr",
     "output_type": "stream",
     "text": [
      "/home/mbosnjak/.conda/envs/pero/lib/python3.7/site-packages/scipy/stats/stats.py:3399: PearsonRConstantInputWarning: An input array is constant; the correlation coefficent is not defined.\n",
      "  warnings.warn(PearsonRConstantInputWarning())\n"
     ]
    },
    {
     "name": "stdout",
     "output_type": "stream",
     "text": [
      "Epoch 85 end: 1.0511195659637451, TRAIN MSE is: 3987.7509765625\n",
      "Validation loss: 834045.6250000 - MSE score: 4029.2055664\n",
      "Validation pearson is: nan\n",
      "Validation r2_score is: -4.5170018354285615\n",
      "-------------------------\n"
     ]
    },
    {
     "name": "stderr",
     "output_type": "stream",
     "text": [
      "/home/mbosnjak/.conda/envs/pero/lib/python3.7/site-packages/scipy/stats/stats.py:3399: PearsonRConstantInputWarning: An input array is constant; the correlation coefficent is not defined.\n",
      "  warnings.warn(PearsonRConstantInputWarning())\n"
     ]
    },
    {
     "name": "stdout",
     "output_type": "stream",
     "text": [
      "Epoch 86 end: 1.049025535583496, TRAIN MSE is: 3980.700927734375\n",
      "Validation loss: 832552.5000000 - MSE score: 4021.9926758\n",
      "Validation pearson is: nan\n",
      "Validation r2_score is: -4.507125354084635\n",
      "-------------------------\n"
     ]
    },
    {
     "name": "stderr",
     "output_type": "stream",
     "text": [
      "/home/mbosnjak/.conda/envs/pero/lib/python3.7/site-packages/scipy/stats/stats.py:3399: PearsonRConstantInputWarning: An input array is constant; the correlation coefficent is not defined.\n",
      "  warnings.warn(PearsonRConstantInputWarning())\n"
     ]
    },
    {
     "name": "stdout",
     "output_type": "stream",
     "text": [
      "Epoch 87 end: 1.0471367835998535, TRAIN MSE is: 3973.566162109375\n",
      "Validation loss: 831068.5000000 - MSE score: 4014.8239746\n",
      "Validation pearson is: nan\n",
      "Validation r2_score is: -4.497309498210626\n",
      "-------------------------\n"
     ]
    },
    {
     "name": "stderr",
     "output_type": "stream",
     "text": [
      "/home/mbosnjak/.conda/envs/pero/lib/python3.7/site-packages/scipy/stats/stats.py:3399: PearsonRConstantInputWarning: An input array is constant; the correlation coefficent is not defined.\n",
      "  warnings.warn(PearsonRConstantInputWarning())\n"
     ]
    },
    {
     "name": "stdout",
     "output_type": "stream",
     "text": [
      "Epoch 88 end: 1.0814838409423828, TRAIN MSE is: 3966.42724609375\n",
      "Validation loss: 829597.6250000 - MSE score: 4007.7180176\n",
      "Validation pearson is: nan\n",
      "Validation r2_score is: -4.487579919431023\n",
      "-------------------------\n"
     ]
    },
    {
     "name": "stderr",
     "output_type": "stream",
     "text": [
      "/home/mbosnjak/.conda/envs/pero/lib/python3.7/site-packages/scipy/stats/stats.py:3399: PearsonRConstantInputWarning: An input array is constant; the correlation coefficent is not defined.\n",
      "  warnings.warn(PearsonRConstantInputWarning())\n"
     ]
    },
    {
     "name": "stdout",
     "output_type": "stream",
     "text": [
      "Epoch 89 end: 1.0460963249206543, TRAIN MSE is: 3959.367919921875\n",
      "Validation loss: 828120.8125000 - MSE score: 4000.5832520\n",
      "Validation pearson is: nan\n",
      "Validation r2_score is: -4.477810855729342\n",
      "-------------------------\n"
     ]
    },
    {
     "name": "stderr",
     "output_type": "stream",
     "text": [
      "/home/mbosnjak/.conda/envs/pero/lib/python3.7/site-packages/scipy/stats/stats.py:3399: PearsonRConstantInputWarning: An input array is constant; the correlation coefficent is not defined.\n",
      "  warnings.warn(PearsonRConstantInputWarning())\n"
     ]
    },
    {
     "name": "stdout",
     "output_type": "stream",
     "text": [
      "Epoch 90 end: 1.0659167766571045, TRAIN MSE is: 3952.310791015625\n",
      "Validation loss: 826640.8125000 - MSE score: 3993.4335938\n",
      "Validation pearson is: nan\n",
      "Validation r2_score is: -4.4680210759727\n",
      "-------------------------\n"
     ]
    },
    {
     "name": "stderr",
     "output_type": "stream",
     "text": [
      "/home/mbosnjak/.conda/envs/pero/lib/python3.7/site-packages/scipy/stats/stats.py:3399: PearsonRConstantInputWarning: An input array is constant; the correlation coefficent is not defined.\n",
      "  warnings.warn(PearsonRConstantInputWarning())\n"
     ]
    },
    {
     "name": "stdout",
     "output_type": "stream",
     "text": [
      "Epoch 91 end: 1.0317254066467285, TRAIN MSE is: 3945.203369140625\n",
      "Validation loss: 825173.6875000 - MSE score: 3986.3459473\n",
      "Validation pearson is: nan\n",
      "Validation r2_score is: -4.45831612842542\n",
      "-------------------------\n"
     ]
    },
    {
     "name": "stderr",
     "output_type": "stream",
     "text": [
      "/home/mbosnjak/.conda/envs/pero/lib/python3.7/site-packages/scipy/stats/stats.py:3399: PearsonRConstantInputWarning: An input array is constant; the correlation coefficent is not defined.\n",
      "  warnings.warn(PearsonRConstantInputWarning())\n"
     ]
    },
    {
     "name": "stdout",
     "output_type": "stream",
     "text": [
      "Epoch 92 end: 1.056419849395752, TRAIN MSE is: 3938.196044921875\n",
      "Validation loss: 823695.2500000 - MSE score: 3979.2045898\n",
      "Validation pearson is: nan\n",
      "Validation r2_score is: -4.448537159945595\n",
      "-------------------------\n"
     ]
    },
    {
     "name": "stderr",
     "output_type": "stream",
     "text": [
      "/home/mbosnjak/.conda/envs/pero/lib/python3.7/site-packages/scipy/stats/stats.py:3399: PearsonRConstantInputWarning: An input array is constant; the correlation coefficent is not defined.\n",
      "  warnings.warn(PearsonRConstantInputWarning())\n"
     ]
    },
    {
     "name": "stdout",
     "output_type": "stream",
     "text": [
      "Epoch 93 end: 1.0254106521606445, TRAIN MSE is: 3931.115966796875\n",
      "Validation loss: 822227.9375000 - MSE score: 3972.1152344\n",
      "Validation pearson is: nan\n",
      "Validation r2_score is: -4.438830935563651\n",
      "-------------------------\n"
     ]
    },
    {
     "name": "stderr",
     "output_type": "stream",
     "text": [
      "/home/mbosnjak/.conda/envs/pero/lib/python3.7/site-packages/scipy/stats/stats.py:3399: PearsonRConstantInputWarning: An input array is constant; the correlation coefficent is not defined.\n",
      "  warnings.warn(PearsonRConstantInputWarning())\n"
     ]
    },
    {
     "name": "stdout",
     "output_type": "stream",
     "text": [
      "Epoch 94 end: 1.0805327892303467, TRAIN MSE is: 3924.0859375\n",
      "Validation loss: 820760.8750000 - MSE score: 3965.0283203\n",
      "Validation pearson is: nan\n",
      "Validation r2_score is: -4.4291268240385415\n",
      "-------------------------\n"
     ]
    },
    {
     "name": "stderr",
     "output_type": "stream",
     "text": [
      "/home/mbosnjak/.conda/envs/pero/lib/python3.7/site-packages/scipy/stats/stats.py:3399: PearsonRConstantInputWarning: An input array is constant; the correlation coefficent is not defined.\n",
      "  warnings.warn(PearsonRConstantInputWarning())\n"
     ]
    },
    {
     "name": "stdout",
     "output_type": "stream",
     "text": [
      "Epoch 95 end: 1.05605149269104, TRAIN MSE is: 3917.041748046875\n",
      "Validation loss: 819300.9375000 - MSE score: 3957.9755859\n",
      "Validation pearson is: nan\n",
      "Validation r2_score is: -4.419469787746198\n",
      "-------------------------\n"
     ]
    },
    {
     "name": "stderr",
     "output_type": "stream",
     "text": [
      "/home/mbosnjak/.conda/envs/pero/lib/python3.7/site-packages/scipy/stats/stats.py:3399: PearsonRConstantInputWarning: An input array is constant; the correlation coefficent is not defined.\n",
      "  warnings.warn(PearsonRConstantInputWarning())\n"
     ]
    },
    {
     "name": "stdout",
     "output_type": "stream",
     "text": [
      "Epoch 96 end: 1.0652799606323242, TRAIN MSE is: 3910.04833984375\n",
      "Validation loss: 817837.0000000 - MSE score: 3950.9033203\n",
      "Validation pearson is: nan\n",
      "Validation r2_score is: -4.409785934014756\n",
      "-------------------------\n"
     ]
    },
    {
     "name": "stderr",
     "output_type": "stream",
     "text": [
      "/home/mbosnjak/.conda/envs/pero/lib/python3.7/site-packages/scipy/stats/stats.py:3399: PearsonRConstantInputWarning: An input array is constant; the correlation coefficent is not defined.\n",
      "  warnings.warn(PearsonRConstantInputWarning())\n"
     ]
    },
    {
     "name": "stdout",
     "output_type": "stream",
     "text": [
      "Epoch 97 end: 1.0483033657073975, TRAIN MSE is: 3903.05322265625\n",
      "Validation loss: 816372.5625000 - MSE score: 3943.8288574\n",
      "Validation pearson is: nan\n",
      "Validation r2_score is: -4.40009943666371\n",
      "-------------------------\n"
     ]
    },
    {
     "name": "stderr",
     "output_type": "stream",
     "text": [
      "/home/mbosnjak/.conda/envs/pero/lib/python3.7/site-packages/scipy/stats/stats.py:3399: PearsonRConstantInputWarning: An input array is constant; the correlation coefficent is not defined.\n",
      "  warnings.warn(PearsonRConstantInputWarning())\n"
     ]
    },
    {
     "name": "stdout",
     "output_type": "stream",
     "text": [
      "Epoch 98 end: 1.0361802577972412, TRAIN MSE is: 3896.033203125\n",
      "Validation loss: 814916.9375000 - MSE score: 3936.7968750\n",
      "Validation pearson is: nan\n",
      "Validation r2_score is: -4.390470714199754\n",
      "-------------------------\n"
     ]
    },
    {
     "name": "stderr",
     "output_type": "stream",
     "text": [
      "/home/mbosnjak/.conda/envs/pero/lib/python3.7/site-packages/scipy/stats/stats.py:3399: PearsonRConstantInputWarning: An input array is constant; the correlation coefficent is not defined.\n",
      "  warnings.warn(PearsonRConstantInputWarning())\n"
     ]
    },
    {
     "name": "stdout",
     "output_type": "stream",
     "text": [
      "Epoch 99 end: 1.0651841163635254, TRAIN MSE is: 3889.09130859375\n",
      "Validation loss: 813452.1875000 - MSE score: 3929.7209473\n",
      "Validation pearson is: nan\n",
      "Validation r2_score is: -4.380781975579796\n",
      "-------------------------\n"
     ]
    },
    {
     "name": "stderr",
     "output_type": "stream",
     "text": [
      "/home/mbosnjak/.conda/envs/pero/lib/python3.7/site-packages/scipy/stats/stats.py:3399: PearsonRConstantInputWarning: An input array is constant; the correlation coefficent is not defined.\n",
      "  warnings.warn(PearsonRConstantInputWarning())\n"
     ]
    },
    {
     "name": "stdout",
     "output_type": "stream",
     "text": [
      "Epoch 100 end: 1.0727226734161377, TRAIN MSE is: 3882.401123046875\n",
      "Validation loss: 812143.7500000 - MSE score: 3923.3994141\n",
      "Validation pearson is: nan\n",
      "Validation r2_score is: -4.372126304750198\n",
      "-------------------------\n"
     ]
    },
    {
     "name": "stderr",
     "output_type": "stream",
     "text": [
      "/home/mbosnjak/.conda/envs/pero/lib/python3.7/site-packages/scipy/stats/stats.py:3399: PearsonRConstantInputWarning: An input array is constant; the correlation coefficent is not defined.\n",
      "  warnings.warn(PearsonRConstantInputWarning())\n"
     ]
    },
    {
     "name": "stdout",
     "output_type": "stream",
     "text": [
      "Epoch 101 end: 1.03057861328125, TRAIN MSE is: 3876.129638671875\n",
      "Validation loss: 810837.6250000 - MSE score: 3917.0900879\n",
      "Validation pearson is: nan\n",
      "Validation r2_score is: -4.3634871196568215\n",
      "-------------------------\n"
     ]
    },
    {
     "name": "stderr",
     "output_type": "stream",
     "text": [
      "/home/mbosnjak/.conda/envs/pero/lib/python3.7/site-packages/scipy/stats/stats.py:3399: PearsonRConstantInputWarning: An input array is constant; the correlation coefficent is not defined.\n",
      "  warnings.warn(PearsonRConstantInputWarning())\n"
     ]
    },
    {
     "name": "stdout",
     "output_type": "stream",
     "text": [
      "Epoch 102 end: 1.0354933738708496, TRAIN MSE is: 3869.85888671875\n",
      "Validation loss: 809535.9375000 - MSE score: 3910.8015137\n",
      "Validation pearson is: nan\n",
      "Validation r2_score is: -4.354876729268439\n",
      "-------------------------\n"
     ]
    },
    {
     "name": "stderr",
     "output_type": "stream",
     "text": [
      "/home/mbosnjak/.conda/envs/pero/lib/python3.7/site-packages/scipy/stats/stats.py:3399: PearsonRConstantInputWarning: An input array is constant; the correlation coefficent is not defined.\n",
      "  warnings.warn(PearsonRConstantInputWarning())\n"
     ]
    },
    {
     "name": "stdout",
     "output_type": "stream",
     "text": [
      "Epoch 103 end: 1.0451679229736328, TRAIN MSE is: 3863.616943359375\n",
      "Validation loss: 808232.8750000 - MSE score: 3904.5063477\n",
      "Validation pearson is: nan\n",
      "Validation r2_score is: -4.346257298054153\n",
      "-------------------------\n"
     ]
    },
    {
     "name": "stderr",
     "output_type": "stream",
     "text": [
      "/home/mbosnjak/.conda/envs/pero/lib/python3.7/site-packages/scipy/stats/stats.py:3399: PearsonRConstantInputWarning: An input array is constant; the correlation coefficent is not defined.\n",
      "  warnings.warn(PearsonRConstantInputWarning())\n"
     ]
    },
    {
     "name": "stdout",
     "output_type": "stream",
     "text": [
      "Epoch 104 end: 1.0566041469573975, TRAIN MSE is: 3857.37744140625\n",
      "Validation loss: 806930.1250000 - MSE score: 3898.2138672\n",
      "Validation pearson is: nan\n",
      "Validation r2_score is: -4.337640059660913\n",
      "-------------------------\n"
     ]
    },
    {
     "name": "stderr",
     "output_type": "stream",
     "text": [
      "/home/mbosnjak/.conda/envs/pero/lib/python3.7/site-packages/scipy/stats/stats.py:3399: PearsonRConstantInputWarning: An input array is constant; the correlation coefficent is not defined.\n",
      "  warnings.warn(PearsonRConstantInputWarning())\n"
     ]
    },
    {
     "name": "stdout",
     "output_type": "stream",
     "text": [
      "Epoch 105 end: 1.0426290035247803, TRAIN MSE is: 3851.1435546875\n",
      "Validation loss: 805628.0625000 - MSE score: 3891.9233398\n",
      "Validation pearson is: nan\n",
      "Validation r2_score is: -4.329027150235857\n",
      "-------------------------\n"
     ]
    },
    {
     "name": "stderr",
     "output_type": "stream",
     "text": [
      "/home/mbosnjak/.conda/envs/pero/lib/python3.7/site-packages/scipy/stats/stats.py:3399: PearsonRConstantInputWarning: An input array is constant; the correlation coefficent is not defined.\n",
      "  warnings.warn(PearsonRConstantInputWarning())\n"
     ]
    },
    {
     "name": "stdout",
     "output_type": "stream",
     "text": [
      "Epoch 106 end: 1.038041114807129, TRAIN MSE is: 3844.922607421875\n",
      "Validation loss: 804325.5000000 - MSE score: 3885.6306152\n",
      "Validation pearson is: nan\n",
      "Validation r2_score is: -4.320411047503481\n",
      "-------------------------\n"
     ]
    },
    {
     "name": "stderr",
     "output_type": "stream",
     "text": [
      "/home/mbosnjak/.conda/envs/pero/lib/python3.7/site-packages/scipy/stats/stats.py:3399: PearsonRConstantInputWarning: An input array is constant; the correlation coefficent is not defined.\n",
      "  warnings.warn(PearsonRConstantInputWarning())\n"
     ]
    },
    {
     "name": "stdout",
     "output_type": "stream",
     "text": [
      "Epoch 107 end: 1.0182678699493408, TRAIN MSE is: 3838.6943359375\n",
      "Validation loss: 803026.6250000 - MSE score: 3879.3557129\n",
      "Validation pearson is: nan\n",
      "Validation r2_score is: -4.311819598470494\n",
      "-------------------------\n"
     ]
    },
    {
     "name": "stderr",
     "output_type": "stream",
     "text": [
      "/home/mbosnjak/.conda/envs/pero/lib/python3.7/site-packages/scipy/stats/stats.py:3399: PearsonRConstantInputWarning: An input array is constant; the correlation coefficent is not defined.\n",
      "  warnings.warn(PearsonRConstantInputWarning())\n"
     ]
    },
    {
     "name": "stdout",
     "output_type": "stream",
     "text": [
      "Epoch 108 end: 1.0373077392578125, TRAIN MSE is: 3832.4404296875\n",
      "Validation loss: 801740.0000000 - MSE score: 3873.1401367\n",
      "Validation pearson is: nan\n",
      "Validation r2_score is: -4.3033084994717745\n",
      "-------------------------\n"
     ]
    },
    {
     "name": "stderr",
     "output_type": "stream",
     "text": [
      "/home/mbosnjak/.conda/envs/pero/lib/python3.7/site-packages/scipy/stats/stats.py:3399: PearsonRConstantInputWarning: An input array is constant; the correlation coefficent is not defined.\n",
      "  warnings.warn(PearsonRConstantInputWarning())\n"
     ]
    },
    {
     "name": "stdout",
     "output_type": "stream",
     "text": [
      "Epoch 109 end: 1.036813735961914, TRAIN MSE is: 3826.271728515625\n",
      "Validation loss: 800445.0000000 - MSE score: 3866.8840332\n",
      "Validation pearson is: nan\n",
      "Validation r2_score is: -4.2947423471069595\n",
      "-------------------------\n"
     ]
    },
    {
     "name": "stderr",
     "output_type": "stream",
     "text": [
      "/home/mbosnjak/.conda/envs/pero/lib/python3.7/site-packages/scipy/stats/stats.py:3399: PearsonRConstantInputWarning: An input array is constant; the correlation coefficent is not defined.\n",
      "  warnings.warn(PearsonRConstantInputWarning())\n"
     ]
    },
    {
     "name": "stdout",
     "output_type": "stream",
     "text": [
      "Epoch 110 end: 1.058915376663208, TRAIN MSE is: 3820.056884765625\n",
      "Validation loss: 799155.7500000 - MSE score: 3860.6555176\n",
      "Validation pearson is: nan\n",
      "Validation r2_score is: -4.28621430794618\n",
      "-------------------------\n"
     ]
    },
    {
     "name": "stderr",
     "output_type": "stream",
     "text": [
      "/home/mbosnjak/.conda/envs/pero/lib/python3.7/site-packages/scipy/stats/stats.py:3399: PearsonRConstantInputWarning: An input array is constant; the correlation coefficent is not defined.\n",
      "  warnings.warn(PearsonRConstantInputWarning())\n"
     ]
    },
    {
     "name": "stdout",
     "output_type": "stream",
     "text": [
      "Epoch 111 end: 1.0739386081695557, TRAIN MSE is: 3813.899169921875\n",
      "Validation loss: 797859.5625000 - MSE score: 3854.3940430\n",
      "Validation pearson is: nan\n",
      "Validation r2_score is: -4.277640546421428\n",
      "-------------------------\n"
     ]
    },
    {
     "name": "stderr",
     "output_type": "stream",
     "text": [
      "/home/mbosnjak/.conda/envs/pero/lib/python3.7/site-packages/scipy/stats/stats.py:3399: PearsonRConstantInputWarning: An input array is constant; the correlation coefficent is not defined.\n",
      "  warnings.warn(PearsonRConstantInputWarning())\n"
     ]
    },
    {
     "name": "stdout",
     "output_type": "stream",
     "text": [
      "Epoch 112 end: 1.0684587955474854, TRAIN MSE is: 3807.695556640625\n",
      "Validation loss: 796570.5625000 - MSE score: 3848.1669922\n",
      "Validation pearson is: nan\n",
      "Validation r2_score is: -4.269114084125121\n",
      "-------------------------\n"
     ]
    },
    {
     "name": "stderr",
     "output_type": "stream",
     "text": [
      "/home/mbosnjak/.conda/envs/pero/lib/python3.7/site-packages/scipy/stats/stats.py:3399: PearsonRConstantInputWarning: An input array is constant; the correlation coefficent is not defined.\n",
      "  warnings.warn(PearsonRConstantInputWarning())\n"
     ]
    },
    {
     "name": "stdout",
     "output_type": "stream",
     "text": [
      "Epoch 113 end: 1.0596718788146973, TRAIN MSE is: 3801.506103515625\n",
      "Validation loss: 795287.0625000 - MSE score: 3841.9667969\n",
      "Validation pearson is: nan\n",
      "Validation r2_score is: -4.260624102939072\n",
      "-------------------------\n"
     ]
    },
    {
     "name": "stderr",
     "output_type": "stream",
     "text": [
      "/home/mbosnjak/.conda/envs/pero/lib/python3.7/site-packages/scipy/stats/stats.py:3399: PearsonRConstantInputWarning: An input array is constant; the correlation coefficent is not defined.\n",
      "  warnings.warn(PearsonRConstantInputWarning())\n"
     ]
    },
    {
     "name": "stdout",
     "output_type": "stream",
     "text": [
      "Epoch 114 end: 1.0511665344238281, TRAIN MSE is: 3795.34130859375\n",
      "Validation loss: 794004.3750000 - MSE score: 3835.7695312\n",
      "Validation pearson is: nan\n",
      "Validation r2_score is: -4.252139170500042\n",
      "-------------------------\n"
     ]
    },
    {
     "name": "stderr",
     "output_type": "stream",
     "text": [
      "/home/mbosnjak/.conda/envs/pero/lib/python3.7/site-packages/scipy/stats/stats.py:3399: PearsonRConstantInputWarning: An input array is constant; the correlation coefficent is not defined.\n",
      "  warnings.warn(PearsonRConstantInputWarning())\n"
     ]
    },
    {
     "name": "stdout",
     "output_type": "stream",
     "text": [
      "Epoch 115 end: 1.0587692260742188, TRAIN MSE is: 3789.17919921875\n",
      "Validation loss: 792723.8750000 - MSE score: 3829.5839844\n",
      "Validation pearson is: nan\n",
      "Validation r2_score is: -4.243669374325465\n",
      "-------------------------\n"
     ]
    },
    {
     "name": "stderr",
     "output_type": "stream",
     "text": [
      "/home/mbosnjak/.conda/envs/pero/lib/python3.7/site-packages/scipy/stats/stats.py:3399: PearsonRConstantInputWarning: An input array is constant; the correlation coefficent is not defined.\n",
      "  warnings.warn(PearsonRConstantInputWarning())\n"
     ]
    },
    {
     "name": "stdout",
     "output_type": "stream",
     "text": [
      "Epoch 116 end: 1.0593197345733643, TRAIN MSE is: 3783.105224609375\n",
      "Validation loss: 791424.2500000 - MSE score: 3823.3056641\n",
      "Validation pearson is: nan\n",
      "Validation r2_score is: -4.235072651184033\n",
      "-------------------------\n"
     ]
    },
    {
     "name": "stderr",
     "output_type": "stream",
     "text": [
      "/home/mbosnjak/.conda/envs/pero/lib/python3.7/site-packages/scipy/stats/stats.py:3399: PearsonRConstantInputWarning: An input array is constant; the correlation coefficent is not defined.\n",
      "  warnings.warn(PearsonRConstantInputWarning())\n"
     ]
    },
    {
     "name": "stdout",
     "output_type": "stream",
     "text": [
      "Epoch 117 end: 1.047553300857544, TRAIN MSE is: 3776.888671875\n",
      "Validation loss: 790146.0625000 - MSE score: 3817.1303711\n",
      "Validation pearson is: nan\n",
      "Validation r2_score is: -4.226617443216894\n",
      "-------------------------\n"
     ]
    },
    {
     "name": "stderr",
     "output_type": "stream",
     "text": [
      "/home/mbosnjak/.conda/envs/pero/lib/python3.7/site-packages/scipy/stats/stats.py:3399: PearsonRConstantInputWarning: An input array is constant; the correlation coefficent is not defined.\n",
      "  warnings.warn(PearsonRConstantInputWarning())\n"
     ]
    },
    {
     "name": "stdout",
     "output_type": "stream",
     "text": [
      "Epoch 118 end: 1.0628879070281982, TRAIN MSE is: 3770.760986328125\n",
      "Validation loss: 788867.0625000 - MSE score: 3810.9523926\n",
      "Validation pearson is: nan\n",
      "Validation r2_score is: -4.218157463021454\n",
      "-------------------------\n"
     ]
    },
    {
     "name": "stderr",
     "output_type": "stream",
     "text": [
      "/home/mbosnjak/.conda/envs/pero/lib/python3.7/site-packages/scipy/stats/stats.py:3399: PearsonRConstantInputWarning: An input array is constant; the correlation coefficent is not defined.\n",
      "  warnings.warn(PearsonRConstantInputWarning())\n"
     ]
    },
    {
     "name": "stdout",
     "output_type": "stream",
     "text": [
      "Epoch 119 end: 1.0463206768035889, TRAIN MSE is: 3764.6123046875\n",
      "Validation loss: 787595.1250000 - MSE score: 3804.8073730\n",
      "Validation pearson is: nan\n",
      "Validation r2_score is: -4.209743577841126\n",
      "-------------------------\n"
     ]
    },
    {
     "name": "stderr",
     "output_type": "stream",
     "text": [
      "/home/mbosnjak/.conda/envs/pero/lib/python3.7/site-packages/scipy/stats/stats.py:3399: PearsonRConstantInputWarning: An input array is constant; the correlation coefficent is not defined.\n",
      "  warnings.warn(PearsonRConstantInputWarning())\n"
     ]
    },
    {
     "name": "stdout",
     "output_type": "stream",
     "text": [
      "Epoch 120 end: 1.0589587688446045, TRAIN MSE is: 3758.531494140625\n",
      "Validation loss: 786313.7500000 - MSE score: 3798.6171875\n",
      "Validation pearson is: nan\n",
      "Validation r2_score is: -4.201267808309681\n",
      "-------------------------\n"
     ]
    },
    {
     "name": "stderr",
     "output_type": "stream",
     "text": [
      "/home/mbosnjak/.conda/envs/pero/lib/python3.7/site-packages/scipy/stats/stats.py:3399: PearsonRConstantInputWarning: An input array is constant; the correlation coefficent is not defined.\n",
      "  warnings.warn(PearsonRConstantInputWarning())\n"
     ]
    },
    {
     "name": "stdout",
     "output_type": "stream",
     "text": [
      "Epoch 121 end: 1.0461161136627197, TRAIN MSE is: 3752.389892578125\n",
      "Validation loss: 785041.8750000 - MSE score: 3792.4731445\n",
      "Validation pearson is: nan\n",
      "Validation r2_score is: -4.192854813652218\n",
      "-------------------------\n"
     ]
    },
    {
     "name": "stderr",
     "output_type": "stream",
     "text": [
      "/home/mbosnjak/.conda/envs/pero/lib/python3.7/site-packages/scipy/stats/stats.py:3399: PearsonRConstantInputWarning: An input array is constant; the correlation coefficent is not defined.\n",
      "  warnings.warn(PearsonRConstantInputWarning())\n"
     ]
    },
    {
     "name": "stdout",
     "output_type": "stream",
     "text": [
      "Epoch 122 end: 1.0603375434875488, TRAIN MSE is: 3746.321533203125\n",
      "Validation loss: 783761.7500000 - MSE score: 3786.2883301\n",
      "Validation pearson is: nan\n",
      "Validation r2_score is: -4.184386808752307\n",
      "-------------------------\n"
     ]
    },
    {
     "name": "stderr",
     "output_type": "stream",
     "text": [
      "/home/mbosnjak/.conda/envs/pero/lib/python3.7/site-packages/scipy/stats/stats.py:3399: PearsonRConstantInputWarning: An input array is constant; the correlation coefficent is not defined.\n",
      "  warnings.warn(PearsonRConstantInputWarning())\n"
     ]
    },
    {
     "name": "stdout",
     "output_type": "stream",
     "text": [
      "Epoch 123 end: 1.0505094528198242, TRAIN MSE is: 3740.192138671875\n",
      "Validation loss: 782491.5625000 - MSE score: 3780.1528320\n",
      "Validation pearson is: nan\n",
      "Validation r2_score is: -4.175985050757169\n",
      "-------------------------\n"
     ]
    },
    {
     "name": "stderr",
     "output_type": "stream",
     "text": [
      "/home/mbosnjak/.conda/envs/pero/lib/python3.7/site-packages/scipy/stats/stats.py:3399: PearsonRConstantInputWarning: An input array is constant; the correlation coefficent is not defined.\n",
      "  warnings.warn(PearsonRConstantInputWarning())\n"
     ]
    },
    {
     "name": "stdout",
     "output_type": "stream",
     "text": [
      "Epoch 124 end: 1.0449633598327637, TRAIN MSE is: 3734.08203125\n",
      "Validation loss: 781228.4375000 - MSE score: 3774.0505371\n",
      "Validation pearson is: nan\n",
      "Validation r2_score is: -4.167629689895005\n",
      "-------------------------\n"
     ]
    },
    {
     "name": "stderr",
     "output_type": "stream",
     "text": [
      "/home/mbosnjak/.conda/envs/pero/lib/python3.7/site-packages/scipy/stats/stats.py:3399: PearsonRConstantInputWarning: An input array is constant; the correlation coefficent is not defined.\n",
      "  warnings.warn(PearsonRConstantInputWarning())\n"
     ]
    },
    {
     "name": "stdout",
     "output_type": "stream",
     "text": [
      "Epoch 125 end: 1.039170265197754, TRAIN MSE is: 3728.07275390625\n",
      "Validation loss: 779947.6250000 - MSE score: 3767.8630371\n",
      "Validation pearson is: nan\n",
      "Validation r2_score is: -4.159157472399567\n",
      "-------------------------\n"
     ]
    },
    {
     "name": "stderr",
     "output_type": "stream",
     "text": [
      "/home/mbosnjak/.conda/envs/pero/lib/python3.7/site-packages/scipy/stats/stats.py:3399: PearsonRConstantInputWarning: An input array is constant; the correlation coefficent is not defined.\n",
      "  warnings.warn(PearsonRConstantInputWarning())\n"
     ]
    },
    {
     "name": "stdout",
     "output_type": "stream",
     "text": [
      "Epoch 126 end: 1.0513291358947754, TRAIN MSE is: 3721.9423828125\n",
      "Validation loss: 778683.2500000 - MSE score: 3761.7546387\n",
      "Validation pearson is: nan\n",
      "Validation r2_score is: -4.150793688705659\n",
      "-------------------------\n"
     ]
    },
    {
     "name": "stderr",
     "output_type": "stream",
     "text": [
      "/home/mbosnjak/.conda/envs/pero/lib/python3.7/site-packages/scipy/stats/stats.py:3399: PearsonRConstantInputWarning: An input array is constant; the correlation coefficent is not defined.\n",
      "  warnings.warn(PearsonRConstantInputWarning())\n"
     ]
    },
    {
     "name": "stdout",
     "output_type": "stream",
     "text": [
      "Epoch 127 end: 1.0525250434875488, TRAIN MSE is: 3715.858642578125\n",
      "Validation loss: 777424.9375000 - MSE score: 3755.6762695\n",
      "Validation pearson is: nan\n",
      "Validation r2_score is: -4.142470477654647\n",
      "-------------------------\n"
     ]
    },
    {
     "name": "stderr",
     "output_type": "stream",
     "text": [
      "/home/mbosnjak/.conda/envs/pero/lib/python3.7/site-packages/scipy/stats/stats.py:3399: PearsonRConstantInputWarning: An input array is constant; the correlation coefficent is not defined.\n",
      "  warnings.warn(PearsonRConstantInputWarning())\n"
     ]
    },
    {
     "name": "stdout",
     "output_type": "stream",
     "text": [
      "Epoch 128 end: 1.0374150276184082, TRAIN MSE is: 3709.84375\n",
      "Validation loss: 776156.3125000 - MSE score: 3749.5471191\n",
      "Validation pearson is: nan\n",
      "Validation r2_score is: -4.13407866459639\n",
      "-------------------------\n"
     ]
    },
    {
     "name": "stderr",
     "output_type": "stream",
     "text": [
      "/home/mbosnjak/.conda/envs/pero/lib/python3.7/site-packages/scipy/stats/stats.py:3399: PearsonRConstantInputWarning: An input array is constant; the correlation coefficent is not defined.\n",
      "  warnings.warn(PearsonRConstantInputWarning())\n"
     ]
    },
    {
     "name": "stdout",
     "output_type": "stream",
     "text": [
      "Epoch 129 end: 1.037355899810791, TRAIN MSE is: 3703.78515625\n",
      "Validation loss: 774891.3750000 - MSE score: 3743.4362793\n",
      "Validation pearson is: nan\n",
      "Validation r2_score is: -4.125711455269354\n",
      "-------------------------\n"
     ]
    },
    {
     "name": "stderr",
     "output_type": "stream",
     "text": [
      "/home/mbosnjak/.conda/envs/pero/lib/python3.7/site-packages/scipy/stats/stats.py:3399: PearsonRConstantInputWarning: An input array is constant; the correlation coefficent is not defined.\n",
      "  warnings.warn(PearsonRConstantInputWarning())\n"
     ]
    },
    {
     "name": "stdout",
     "output_type": "stream",
     "text": [
      "Epoch 130 end: 1.0477676391601562, TRAIN MSE is: 3697.70947265625\n",
      "Validation loss: 773636.5625000 - MSE score: 3737.3747559\n",
      "Validation pearson is: nan\n",
      "Validation r2_score is: -4.117411226335473\n",
      "-------------------------\n"
     ]
    },
    {
     "name": "stderr",
     "output_type": "stream",
     "text": [
      "/home/mbosnjak/.conda/envs/pero/lib/python3.7/site-packages/scipy/stats/stats.py:3399: PearsonRConstantInputWarning: An input array is constant; the correlation coefficent is not defined.\n",
      "  warnings.warn(PearsonRConstantInputWarning())\n"
     ]
    },
    {
     "name": "stdout",
     "output_type": "stream",
     "text": [
      "Epoch 131 end: 1.0474839210510254, TRAIN MSE is: 3691.7080078125\n",
      "Validation loss: 772373.8750000 - MSE score: 3731.2753906\n",
      "Validation pearson is: nan\n",
      "Validation r2_score is: -4.109059667192456\n",
      "-------------------------\n"
     ]
    },
    {
     "name": "stderr",
     "output_type": "stream",
     "text": [
      "/home/mbosnjak/.conda/envs/pero/lib/python3.7/site-packages/scipy/stats/stats.py:3399: PearsonRConstantInputWarning: An input array is constant; the correlation coefficent is not defined.\n",
      "  warnings.warn(PearsonRConstantInputWarning())\n"
     ]
    },
    {
     "name": "stdout",
     "output_type": "stream",
     "text": [
      "Epoch 132 end: 1.0543723106384277, TRAIN MSE is: 3685.71435546875\n",
      "Validation loss: 771104.6250000 - MSE score: 3725.1428223\n",
      "Validation pearson is: nan\n",
      "Validation r2_score is: -4.100662965008073\n",
      "-------------------------\n"
     ]
    },
    {
     "name": "stderr",
     "output_type": "stream",
     "text": [
      "/home/mbosnjak/.conda/envs/pero/lib/python3.7/site-packages/scipy/stats/stats.py:3399: PearsonRConstantInputWarning: An input array is constant; the correlation coefficent is not defined.\n",
      "  warnings.warn(PearsonRConstantInputWarning())\n"
     ]
    },
    {
     "name": "stdout",
     "output_type": "stream",
     "text": [
      "Epoch 133 end: 1.055556058883667, TRAIN MSE is: 3679.5908203125\n",
      "Validation loss: 769863.8750000 - MSE score: 3719.1489258\n",
      "Validation pearson is: nan\n",
      "Validation r2_score is: -4.0924555018849045\n",
      "-------------------------\n"
     ]
    },
    {
     "name": "stderr",
     "output_type": "stream",
     "text": [
      "/home/mbosnjak/.conda/envs/pero/lib/python3.7/site-packages/scipy/stats/stats.py:3399: PearsonRConstantInputWarning: An input array is constant; the correlation coefficent is not defined.\n",
      "  warnings.warn(PearsonRConstantInputWarning())\n"
     ]
    },
    {
     "name": "stdout",
     "output_type": "stream",
     "text": [
      "Epoch 134 end: 1.0381066799163818, TRAIN MSE is: 3673.60693359375\n",
      "Validation loss: 768616.4375000 - MSE score: 3713.1228027\n",
      "Validation pearson is: nan\n",
      "Validation r2_score is: -4.084204821177645\n",
      "-------------------------\n"
     ]
    },
    {
     "name": "stderr",
     "output_type": "stream",
     "text": [
      "/home/mbosnjak/.conda/envs/pero/lib/python3.7/site-packages/scipy/stats/stats.py:3399: PearsonRConstantInputWarning: An input array is constant; the correlation coefficent is not defined.\n",
      "  warnings.warn(PearsonRConstantInputWarning())\n"
     ]
    },
    {
     "name": "stdout",
     "output_type": "stream",
     "text": [
      "Epoch 135 end: 1.047807216644287, TRAIN MSE is: 3667.665771484375\n",
      "Validation loss: 767353.3750000 - MSE score: 3707.0212402\n",
      "Validation pearson is: nan\n",
      "Validation r2_score is: -4.075849742453328\n",
      "-------------------------\n"
     ]
    },
    {
     "name": "stderr",
     "output_type": "stream",
     "text": [
      "/home/mbosnjak/.conda/envs/pero/lib/python3.7/site-packages/scipy/stats/stats.py:3399: PearsonRConstantInputWarning: An input array is constant; the correlation coefficent is not defined.\n",
      "  warnings.warn(PearsonRConstantInputWarning())\n"
     ]
    },
    {
     "name": "stdout",
     "output_type": "stream",
     "text": [
      "Epoch 136 end: 1.0637924671173096, TRAIN MSE is: 3661.637451171875\n",
      "Validation loss: 766100.1250000 - MSE score: 3700.9667969\n",
      "Validation pearson is: nan\n",
      "Validation r2_score is: -4.067559751535951\n",
      "-------------------------\n"
     ]
    },
    {
     "name": "stderr",
     "output_type": "stream",
     "text": [
      "/home/mbosnjak/.conda/envs/pero/lib/python3.7/site-packages/scipy/stats/stats.py:3399: PearsonRConstantInputWarning: An input array is constant; the correlation coefficent is not defined.\n",
      "  warnings.warn(PearsonRConstantInputWarning())\n"
     ]
    },
    {
     "name": "stdout",
     "output_type": "stream",
     "text": [
      "Epoch 137 end: 1.0490829944610596, TRAIN MSE is: 3655.620361328125\n",
      "Validation loss: 764855.5625000 - MSE score: 3694.9545898\n",
      "Validation pearson is: nan\n",
      "Validation r2_score is: -4.059327124965201\n",
      "-------------------------\n"
     ]
    },
    {
     "name": "stderr",
     "output_type": "stream",
     "text": [
      "/home/mbosnjak/.conda/envs/pero/lib/python3.7/site-packages/scipy/stats/stats.py:3399: PearsonRConstantInputWarning: An input array is constant; the correlation coefficent is not defined.\n",
      "  warnings.warn(PearsonRConstantInputWarning())\n"
     ]
    },
    {
     "name": "stdout",
     "output_type": "stream",
     "text": [
      "Epoch 138 end: 1.0480899810791016, TRAIN MSE is: 3649.62744140625\n",
      "Validation loss: 763614.8750000 - MSE score: 3688.9606934\n",
      "Validation pearson is: nan\n",
      "Validation r2_score is: -4.051120351085466\n",
      "-------------------------\n"
     ]
    },
    {
     "name": "stderr",
     "output_type": "stream",
     "text": [
      "/home/mbosnjak/.conda/envs/pero/lib/python3.7/site-packages/scipy/stats/stats.py:3399: PearsonRConstantInputWarning: An input array is constant; the correlation coefficent is not defined.\n",
      "  warnings.warn(PearsonRConstantInputWarning())\n"
     ]
    },
    {
     "name": "stdout",
     "output_type": "stream",
     "text": [
      "Epoch 139 end: 1.0585064888000488, TRAIN MSE is: 3643.691162109375\n",
      "Validation loss: 762365.1250000 - MSE score: 3682.9233398\n",
      "Validation pearson is: nan\n",
      "Validation r2_score is: -4.0428534913231235\n",
      "-------------------------\n"
     ]
    },
    {
     "name": "stderr",
     "output_type": "stream",
     "text": [
      "/home/mbosnjak/.conda/envs/pero/lib/python3.7/site-packages/scipy/stats/stats.py:3399: PearsonRConstantInputWarning: An input array is constant; the correlation coefficent is not defined.\n",
      "  warnings.warn(PearsonRConstantInputWarning())\n"
     ]
    },
    {
     "name": "stdout",
     "output_type": "stream",
     "text": [
      "Epoch 140 end: 1.0478284358978271, TRAIN MSE is: 3637.721435546875\n",
      "Validation loss: 761117.3125000 - MSE score: 3676.8952637\n",
      "Validation pearson is: nan\n",
      "Validation r2_score is: -4.034599634999427\n",
      "-------------------------\n"
     ]
    },
    {
     "name": "stderr",
     "output_type": "stream",
     "text": [
      "/home/mbosnjak/.conda/envs/pero/lib/python3.7/site-packages/scipy/stats/stats.py:3399: PearsonRConstantInputWarning: An input array is constant; the correlation coefficent is not defined.\n",
      "  warnings.warn(PearsonRConstantInputWarning())\n"
     ]
    },
    {
     "name": "stdout",
     "output_type": "stream",
     "text": [
      "Epoch 141 end: 1.0622050762176514, TRAIN MSE is: 3631.757568359375\n",
      "Validation loss: 759872.1875000 - MSE score: 3670.8798828\n",
      "Validation pearson is: nan\n",
      "Validation r2_score is: -4.026363216934523\n",
      "-------------------------\n"
     ]
    },
    {
     "name": "stderr",
     "output_type": "stream",
     "text": [
      "/home/mbosnjak/.conda/envs/pero/lib/python3.7/site-packages/scipy/stats/stats.py:3399: PearsonRConstantInputWarning: An input array is constant; the correlation coefficent is not defined.\n",
      "  warnings.warn(PearsonRConstantInputWarning())\n"
     ]
    },
    {
     "name": "stdout",
     "output_type": "stream",
     "text": [
      "Epoch 142 end: 1.0585787296295166, TRAIN MSE is: 3625.79541015625\n",
      "Validation loss: 758631.1250000 - MSE score: 3664.8850098\n",
      "Validation pearson is: nan\n",
      "Validation r2_score is: -4.018154357865436\n",
      "-------------------------\n"
     ]
    },
    {
     "name": "stderr",
     "output_type": "stream",
     "text": [
      "/home/mbosnjak/.conda/envs/pero/lib/python3.7/site-packages/scipy/stats/stats.py:3399: PearsonRConstantInputWarning: An input array is constant; the correlation coefficent is not defined.\n",
      "  warnings.warn(PearsonRConstantInputWarning())\n"
     ]
    },
    {
     "name": "stdout",
     "output_type": "stream",
     "text": [
      "Epoch 143 end: 1.0676705837249756, TRAIN MSE is: 3619.85107421875\n",
      "Validation loss: 757391.3125000 - MSE score: 3658.8952637\n",
      "Validation pearson is: nan\n",
      "Validation r2_score is: -4.009953067870093\n",
      "-------------------------\n"
     ]
    },
    {
     "name": "stderr",
     "output_type": "stream",
     "text": [
      "/home/mbosnjak/.conda/envs/pero/lib/python3.7/site-packages/scipy/stats/stats.py:3399: PearsonRConstantInputWarning: An input array is constant; the correlation coefficent is not defined.\n",
      "  warnings.warn(PearsonRConstantInputWarning())\n"
     ]
    },
    {
     "name": "stdout",
     "output_type": "stream",
     "text": [
      "Epoch 144 end: 1.045851469039917, TRAIN MSE is: 3613.898681640625\n",
      "Validation loss: 756156.9375000 - MSE score: 3652.9321289\n",
      "Validation pearson is: nan\n",
      "Validation r2_score is: -4.0017881723189985\n",
      "-------------------------\n"
     ]
    },
    {
     "name": "stderr",
     "output_type": "stream",
     "text": [
      "/home/mbosnjak/.conda/envs/pero/lib/python3.7/site-packages/scipy/stats/stats.py:3399: PearsonRConstantInputWarning: An input array is constant; the correlation coefficent is not defined.\n",
      "  warnings.warn(PearsonRConstantInputWarning())\n"
     ]
    },
    {
     "name": "stdout",
     "output_type": "stream",
     "text": [
      "Epoch 145 end: 1.1609416007995605, TRAIN MSE is: 3608.00341796875\n",
      "Validation loss: 754914.7500000 - MSE score: 3646.9311523\n",
      "Validation pearson is: nan\n",
      "Validation r2_score is: -3.993570939095301\n",
      "-------------------------\n"
     ]
    },
    {
     "name": "stderr",
     "output_type": "stream",
     "text": [
      "/home/mbosnjak/.conda/envs/pero/lib/python3.7/site-packages/scipy/stats/stats.py:3399: PearsonRConstantInputWarning: An input array is constant; the correlation coefficent is not defined.\n",
      "  warnings.warn(PearsonRConstantInputWarning())\n"
     ]
    },
    {
     "name": "stdout",
     "output_type": "stream",
     "text": [
      "Epoch 146 end: 1.0414681434631348, TRAIN MSE is: 3602.056884765625\n",
      "Validation loss: 753680.3125000 - MSE score: 3640.9680176\n",
      "Validation pearson is: nan\n",
      "Validation r2_score is: -3.985405722637422\n",
      "-------------------------\n"
     ]
    },
    {
     "name": "stderr",
     "output_type": "stream",
     "text": [
      "/home/mbosnjak/.conda/envs/pero/lib/python3.7/site-packages/scipy/stats/stats.py:3399: PearsonRConstantInputWarning: An input array is constant; the correlation coefficent is not defined.\n",
      "  warnings.warn(PearsonRConstantInputWarning())\n"
     ]
    },
    {
     "name": "stdout",
     "output_type": "stream",
     "text": [
      "Epoch 147 end: 1.0325560569763184, TRAIN MSE is: 3596.160400390625\n",
      "Validation loss: 752442.6250000 - MSE score: 3634.9885254\n",
      "Validation pearson is: nan\n",
      "Validation r2_score is: -3.9772185821938146\n",
      "-------------------------\n"
     ]
    },
    {
     "name": "stderr",
     "output_type": "stream",
     "text": [
      "/home/mbosnjak/.conda/envs/pero/lib/python3.7/site-packages/scipy/stats/stats.py:3399: PearsonRConstantInputWarning: An input array is constant; the correlation coefficent is not defined.\n",
      "  warnings.warn(PearsonRConstantInputWarning())\n"
     ]
    },
    {
     "name": "stdout",
     "output_type": "stream",
     "text": [
      "Epoch 148 end: 1.062793493270874, TRAIN MSE is: 3590.2099609375\n",
      "Validation loss: 751217.8750000 - MSE score: 3629.0717773\n",
      "Validation pearson is: nan\n",
      "Validation r2_score is: -3.9691175683104305\n",
      "-------------------------\n"
     ]
    },
    {
     "name": "stderr",
     "output_type": "stream",
     "text": [
      "/home/mbosnjak/.conda/envs/pero/lib/python3.7/site-packages/scipy/stats/stats.py:3399: PearsonRConstantInputWarning: An input array is constant; the correlation coefficent is not defined.\n",
      "  warnings.warn(PearsonRConstantInputWarning())\n"
     ]
    },
    {
     "name": "stdout",
     "output_type": "stream",
     "text": [
      "Epoch 149 end: 1.038644552230835, TRAIN MSE is: 3584.348388671875\n",
      "Validation loss: 749984.2500000 - MSE score: 3623.1123047\n",
      "Validation pearson is: nan\n",
      "Validation r2_score is: -3.9609572802830577\n",
      "-------------------------\n"
     ]
    },
    {
     "name": "stderr",
     "output_type": "stream",
     "text": [
      "/home/mbosnjak/.conda/envs/pero/lib/python3.7/site-packages/scipy/stats/stats.py:3399: PearsonRConstantInputWarning: An input array is constant; the correlation coefficent is not defined.\n",
      "  warnings.warn(PearsonRConstantInputWarning())\n"
     ]
    },
    {
     "name": "stdout",
     "output_type": "stream",
     "text": [
      "Epoch 150 end: 1.0276155471801758, TRAIN MSE is: 3578.439208984375\n",
      "Validation loss: 748756.6250000 - MSE score: 3617.1818848\n",
      "Validation pearson is: nan\n",
      "Validation r2_score is: -3.95283708874641\n",
      "-------------------------\n"
     ]
    },
    {
     "name": "stderr",
     "output_type": "stream",
     "text": [
      "/home/mbosnjak/.conda/envs/pero/lib/python3.7/site-packages/scipy/stats/stats.py:3399: PearsonRConstantInputWarning: An input array is constant; the correlation coefficent is not defined.\n",
      "  warnings.warn(PearsonRConstantInputWarning())\n"
     ]
    },
    {
     "name": "stdout",
     "output_type": "stream",
     "text": [
      "Epoch 151 end: 1.0436396598815918, TRAIN MSE is: 3572.6005859375\n",
      "Validation loss: 747518.3750000 - MSE score: 3611.1999512\n",
      "Validation pearson is: nan\n",
      "Validation r2_score is: -3.944646350465134\n",
      "-------------------------\n"
     ]
    },
    {
     "name": "stderr",
     "output_type": "stream",
     "text": [
      "/home/mbosnjak/.conda/envs/pero/lib/python3.7/site-packages/scipy/stats/stats.py:3399: PearsonRConstantInputWarning: An input array is constant; the correlation coefficent is not defined.\n",
      "  warnings.warn(PearsonRConstantInputWarning())\n"
     ]
    },
    {
     "name": "stdout",
     "output_type": "stream",
     "text": [
      "Epoch 152 end: 1.0363810062408447, TRAIN MSE is: 3566.6708984375\n",
      "Validation loss: 746295.5625000 - MSE score: 3605.2929688\n",
      "Validation pearson is: nan\n",
      "Validation r2_score is: -3.936557243386013\n",
      "-------------------------\n"
     ]
    },
    {
     "name": "stderr",
     "output_type": "stream",
     "text": [
      "/home/mbosnjak/.conda/envs/pero/lib/python3.7/site-packages/scipy/stats/stats.py:3399: PearsonRConstantInputWarning: An input array is constant; the correlation coefficent is not defined.\n",
      "  warnings.warn(PearsonRConstantInputWarning())\n"
     ]
    },
    {
     "name": "stdout",
     "output_type": "stream",
     "text": [
      "Epoch 153 end: 1.0432500839233398, TRAIN MSE is: 3560.7919921875\n",
      "Validation loss: 745076.4375000 - MSE score: 3599.4033203\n",
      "Validation pearson is: nan\n",
      "Validation r2_score is: -3.9284932410684075\n",
      "-------------------------\n"
     ]
    },
    {
     "name": "stderr",
     "output_type": "stream",
     "text": [
      "/home/mbosnjak/.conda/envs/pero/lib/python3.7/site-packages/scipy/stats/stats.py:3399: PearsonRConstantInputWarning: An input array is constant; the correlation coefficent is not defined.\n",
      "  warnings.warn(PearsonRConstantInputWarning())\n"
     ]
    },
    {
     "name": "stdout",
     "output_type": "stream",
     "text": [
      "Epoch 154 end: 1.073472261428833, TRAIN MSE is: 3554.962890625\n",
      "Validation loss: 743850.0000000 - MSE score: 3593.4780273\n",
      "Validation pearson is: nan\n",
      "Validation r2_score is: -3.9203804340987736\n",
      "-------------------------\n"
     ]
    },
    {
     "name": "stderr",
     "output_type": "stream",
     "text": [
      "/home/mbosnjak/.conda/envs/pero/lib/python3.7/site-packages/scipy/stats/stats.py:3399: PearsonRConstantInputWarning: An input array is constant; the correlation coefficent is not defined.\n",
      "  warnings.warn(PearsonRConstantInputWarning())\n"
     ]
    },
    {
     "name": "stdout",
     "output_type": "stream",
     "text": [
      "Epoch 155 end: 1.0841021537780762, TRAIN MSE is: 3549.0576171875\n",
      "Validation loss: 742638.3750000 - MSE score: 3587.6252441\n",
      "Validation pearson is: nan\n",
      "Validation r2_score is: -3.9123665536497567\n",
      "-------------------------\n"
     ]
    },
    {
     "name": "stderr",
     "output_type": "stream",
     "text": [
      "/home/mbosnjak/.conda/envs/pero/lib/python3.7/site-packages/scipy/stats/stats.py:3399: PearsonRConstantInputWarning: An input array is constant; the correlation coefficent is not defined.\n",
      "  warnings.warn(PearsonRConstantInputWarning())\n"
     ]
    },
    {
     "name": "stdout",
     "output_type": "stream",
     "text": [
      "Epoch 156 end: 1.0754144191741943, TRAIN MSE is: 3543.266357421875\n",
      "Validation loss: 741412.9375000 - MSE score: 3581.7050781\n",
      "Validation pearson is: nan\n",
      "Validation r2_score is: -3.904260250005305\n",
      "-------------------------\n"
     ]
    },
    {
     "name": "stderr",
     "output_type": "stream",
     "text": [
      "/home/mbosnjak/.conda/envs/pero/lib/python3.7/site-packages/scipy/stats/stats.py:3399: PearsonRConstantInputWarning: An input array is constant; the correlation coefficent is not defined.\n",
      "  warnings.warn(PearsonRConstantInputWarning())\n"
     ]
    },
    {
     "name": "stdout",
     "output_type": "stream",
     "text": [
      "Epoch 157 end: 1.0683362483978271, TRAIN MSE is: 3537.4541015625\n",
      "Validation loss: 740182.0625000 - MSE score: 3575.7587891\n",
      "Validation pearson is: nan\n",
      "Validation r2_score is: -3.896118337703193\n",
      "-------------------------\n"
     ]
    },
    {
     "name": "stderr",
     "output_type": "stream",
     "text": [
      "/home/mbosnjak/.conda/envs/pero/lib/python3.7/site-packages/scipy/stats/stats.py:3399: PearsonRConstantInputWarning: An input array is constant; the correlation coefficent is not defined.\n",
      "  warnings.warn(PearsonRConstantInputWarning())\n"
     ]
    },
    {
     "name": "stdout",
     "output_type": "stream",
     "text": [
      "Epoch 158 end: 1.0502123832702637, TRAIN MSE is: 3531.579345703125\n",
      "Validation loss: 738964.0000000 - MSE score: 3569.8745117\n",
      "Validation pearson is: nan\n",
      "Validation r2_score is: -3.888061181002058\n",
      "-------------------------\n"
     ]
    },
    {
     "name": "stderr",
     "output_type": "stream",
     "text": [
      "/home/mbosnjak/.conda/envs/pero/lib/python3.7/site-packages/scipy/stats/stats.py:3399: PearsonRConstantInputWarning: An input array is constant; the correlation coefficent is not defined.\n",
      "  warnings.warn(PearsonRConstantInputWarning())\n"
     ]
    },
    {
     "name": "stdout",
     "output_type": "stream",
     "text": [
      "Epoch 159 end: 1.0647430419921875, TRAIN MSE is: 3525.72802734375\n",
      "Validation loss: 737754.3125000 - MSE score: 3564.0305176\n",
      "Validation pearson is: nan\n",
      "Validation r2_score is: -3.880059280270901\n",
      "-------------------------\n"
     ]
    },
    {
     "name": "stderr",
     "output_type": "stream",
     "text": [
      "/home/mbosnjak/.conda/envs/pero/lib/python3.7/site-packages/scipy/stats/stats.py:3399: PearsonRConstantInputWarning: An input array is constant; the correlation coefficent is not defined.\n",
      "  warnings.warn(PearsonRConstantInputWarning())\n"
     ]
    },
    {
     "name": "stdout",
     "output_type": "stream",
     "text": [
      "Epoch 160 end: 1.0678846836090088, TRAIN MSE is: 3519.892333984375\n",
      "Validation loss: 736551.1250000 - MSE score: 3558.2180176\n",
      "Validation pearson is: nan\n",
      "Validation r2_score is: -3.8721002748560807\n",
      "-------------------------\n"
     ]
    },
    {
     "name": "stderr",
     "output_type": "stream",
     "text": [
      "/home/mbosnjak/.conda/envs/pero/lib/python3.7/site-packages/scipy/stats/stats.py:3399: PearsonRConstantInputWarning: An input array is constant; the correlation coefficent is not defined.\n",
      "  warnings.warn(PearsonRConstantInputWarning())\n"
     ]
    },
    {
     "name": "stdout",
     "output_type": "stream",
     "text": [
      "Epoch 161 end: 1.0608971118927002, TRAIN MSE is: 3514.171630859375\n",
      "Validation loss: 735325.3750000 - MSE score: 3552.2963867\n",
      "Validation pearson is: nan\n",
      "Validation r2_score is: -3.863992468370019\n",
      "-------------------------\n"
     ]
    },
    {
     "name": "stderr",
     "output_type": "stream",
     "text": [
      "/home/mbosnjak/.conda/envs/pero/lib/python3.7/site-packages/scipy/stats/stats.py:3399: PearsonRConstantInputWarning: An input array is constant; the correlation coefficent is not defined.\n",
      "  warnings.warn(PearsonRConstantInputWarning())\n"
     ]
    },
    {
     "name": "stdout",
     "output_type": "stream",
     "text": [
      "Epoch 162 end: 1.0553042888641357, TRAIN MSE is: 3508.294189453125\n",
      "Validation loss: 734121.2500000 - MSE score: 3546.4794922\n",
      "Validation pearson is: nan\n",
      "Validation r2_score is: -3.8560275829484167\n",
      "-------------------------\n"
     ]
    },
    {
     "name": "stderr",
     "output_type": "stream",
     "text": [
      "/home/mbosnjak/.conda/envs/pero/lib/python3.7/site-packages/scipy/stats/stats.py:3399: PearsonRConstantInputWarning: An input array is constant; the correlation coefficent is not defined.\n",
      "  warnings.warn(PearsonRConstantInputWarning())\n"
     ]
    },
    {
     "name": "stdout",
     "output_type": "stream",
     "text": [
      "Epoch 163 end: 1.057856559753418, TRAIN MSE is: 3502.53662109375\n",
      "Validation loss: 732908.6250000 - MSE score: 3540.6213379\n",
      "Validation pearson is: nan\n",
      "Validation r2_score is: -3.8480064767975133\n",
      "-------------------------\n"
     ]
    },
    {
     "name": "stderr",
     "output_type": "stream",
     "text": [
      "/home/mbosnjak/.conda/envs/pero/lib/python3.7/site-packages/scipy/stats/stats.py:3399: PearsonRConstantInputWarning: An input array is constant; the correlation coefficent is not defined.\n",
      "  warnings.warn(PearsonRConstantInputWarning())\n"
     ]
    },
    {
     "name": "stdout",
     "output_type": "stream",
     "text": [
      "Epoch 164 end: 1.0842692852020264, TRAIN MSE is: 3496.728515625\n",
      "Validation loss: 731702.8750000 - MSE score: 3534.7963867\n",
      "Validation pearson is: nan\n",
      "Validation r2_score is: -3.8400305746703047\n",
      "-------------------------\n"
     ]
    },
    {
     "name": "stderr",
     "output_type": "stream",
     "text": [
      "/home/mbosnjak/.conda/envs/pero/lib/python3.7/site-packages/scipy/stats/stats.py:3399: PearsonRConstantInputWarning: An input array is constant; the correlation coefficent is not defined.\n",
      "  warnings.warn(PearsonRConstantInputWarning())\n"
     ]
    },
    {
     "name": "stdout",
     "output_type": "stream",
     "text": [
      "Epoch 165 end: 1.0731451511383057, TRAIN MSE is: 3490.956298828125\n",
      "Validation loss: 730496.5000000 - MSE score: 3528.9685059\n",
      "Validation pearson is: nan\n",
      "Validation r2_score is: -3.8320506676893844\n",
      "-------------------------\n"
     ]
    },
    {
     "name": "stderr",
     "output_type": "stream",
     "text": [
      "/home/mbosnjak/.conda/envs/pero/lib/python3.7/site-packages/scipy/stats/stats.py:3399: PearsonRConstantInputWarning: An input array is constant; the correlation coefficent is not defined.\n",
      "  warnings.warn(PearsonRConstantInputWarning())\n"
     ]
    },
    {
     "name": "stdout",
     "output_type": "stream",
     "text": [
      "Epoch 166 end: 1.0949008464813232, TRAIN MSE is: 3485.17724609375\n",
      "Validation loss: 729293.3125000 - MSE score: 3523.1564941\n",
      "Validation pearson is: nan\n",
      "Validation r2_score is: -3.8240920104419773\n",
      "-------------------------\n"
     ]
    },
    {
     "name": "stderr",
     "output_type": "stream",
     "text": [
      "/home/mbosnjak/.conda/envs/pero/lib/python3.7/site-packages/scipy/stats/stats.py:3399: PearsonRConstantInputWarning: An input array is constant; the correlation coefficent is not defined.\n",
      "  warnings.warn(PearsonRConstantInputWarning())\n"
     ]
    },
    {
     "name": "stdout",
     "output_type": "stream",
     "text": [
      "Epoch 167 end: 1.0883936882019043, TRAIN MSE is: 3479.39892578125\n",
      "Validation loss: 728094.9375000 - MSE score: 3517.3671875\n",
      "Validation pearson is: nan\n",
      "Validation r2_score is: -3.816165300166446\n",
      "-------------------------\n"
     ]
    },
    {
     "name": "stderr",
     "output_type": "stream",
     "text": [
      "/home/mbosnjak/.conda/envs/pero/lib/python3.7/site-packages/scipy/stats/stats.py:3399: PearsonRConstantInputWarning: An input array is constant; the correlation coefficent is not defined.\n",
      "  warnings.warn(PearsonRConstantInputWarning())\n"
     ]
    },
    {
     "name": "stdout",
     "output_type": "stream",
     "text": [
      "Epoch 168 end: 1.059783697128296, TRAIN MSE is: 3473.67431640625\n",
      "Validation loss: 726889.0000000 - MSE score: 3511.5410156\n",
      "Validation pearson is: nan\n",
      "Validation r2_score is: -3.8081879290429814\n",
      "-------------------------\n"
     ]
    },
    {
     "name": "stderr",
     "output_type": "stream",
     "text": [
      "/home/mbosnjak/.conda/envs/pero/lib/python3.7/site-packages/scipy/stats/stats.py:3399: PearsonRConstantInputWarning: An input array is constant; the correlation coefficent is not defined.\n",
      "  warnings.warn(PearsonRConstantInputWarning())\n"
     ]
    },
    {
     "name": "stdout",
     "output_type": "stream",
     "text": [
      "Epoch 169 end: 1.0570952892303467, TRAIN MSE is: 3467.904541015625\n",
      "Validation loss: 725689.6250000 - MSE score: 3505.7470703\n",
      "Validation pearson is: nan\n",
      "Validation r2_score is: -3.800254617447739\n",
      "-------------------------\n"
     ]
    },
    {
     "name": "stderr",
     "output_type": "stream",
     "text": [
      "/home/mbosnjak/.conda/envs/pero/lib/python3.7/site-packages/scipy/stats/stats.py:3399: PearsonRConstantInputWarning: An input array is constant; the correlation coefficent is not defined.\n",
      "  warnings.warn(PearsonRConstantInputWarning())\n"
     ]
    },
    {
     "name": "stdout",
     "output_type": "stream",
     "text": [
      "Epoch 170 end: 1.046661138534546, TRAIN MSE is: 3462.16943359375\n",
      "Validation loss: 724489.6875000 - MSE score: 3499.9504395\n",
      "Validation pearson is: nan\n",
      "Validation r2_score is: -3.792317223951277\n",
      "-------------------------\n"
     ]
    },
    {
     "name": "stderr",
     "output_type": "stream",
     "text": [
      "/home/mbosnjak/.conda/envs/pero/lib/python3.7/site-packages/scipy/stats/stats.py:3399: PearsonRConstantInputWarning: An input array is constant; the correlation coefficent is not defined.\n",
      "  warnings.warn(PearsonRConstantInputWarning())\n"
     ]
    },
    {
     "name": "stdout",
     "output_type": "stream",
     "text": [
      "Epoch 171 end: 1.0566673278808594, TRAIN MSE is: 3456.446044921875\n",
      "Validation loss: 723287.9375000 - MSE score: 3494.1450195\n",
      "Validation pearson is: nan\n",
      "Validation r2_score is: -3.784368113772877\n",
      "-------------------------\n"
     ]
    },
    {
     "name": "stderr",
     "output_type": "stream",
     "text": [
      "/home/mbosnjak/.conda/envs/pero/lib/python3.7/site-packages/scipy/stats/stats.py:3399: PearsonRConstantInputWarning: An input array is constant; the correlation coefficent is not defined.\n",
      "  warnings.warn(PearsonRConstantInputWarning())\n"
     ]
    },
    {
     "name": "stdout",
     "output_type": "stream",
     "text": [
      "Epoch 172 end: 1.054591178894043, TRAIN MSE is: 3450.665771484375\n",
      "Validation loss: 722101.8125000 - MSE score: 3488.4147949\n",
      "Validation pearson is: nan\n",
      "Validation r2_score is: -3.776522177444111\n",
      "-------------------------\n"
     ]
    },
    {
     "name": "stderr",
     "output_type": "stream",
     "text": [
      "/home/mbosnjak/.conda/envs/pero/lib/python3.7/site-packages/scipy/stats/stats.py:3399: PearsonRConstantInputWarning: An input array is constant; the correlation coefficent is not defined.\n",
      "  warnings.warn(PearsonRConstantInputWarning())\n"
     ]
    },
    {
     "name": "stdout",
     "output_type": "stream",
     "text": [
      "Epoch 173 end: 1.0696768760681152, TRAIN MSE is: 3444.973876953125\n",
      "Validation loss: 720909.3750000 - MSE score: 3482.6540527\n",
      "Validation pearson is: nan\n",
      "Validation r2_score is: -3.768634615532431\n",
      "-------------------------\n"
     ]
    },
    {
     "name": "stderr",
     "output_type": "stream",
     "text": [
      "/home/mbosnjak/.conda/envs/pero/lib/python3.7/site-packages/scipy/stats/stats.py:3399: PearsonRConstantInputWarning: An input array is constant; the correlation coefficent is not defined.\n",
      "  warnings.warn(PearsonRConstantInputWarning())\n"
     ]
    },
    {
     "name": "stdout",
     "output_type": "stream",
     "text": [
      "Epoch 174 end: 1.0727159976959229, TRAIN MSE is: 3439.27685546875\n",
      "Validation loss: 719714.3125000 - MSE score: 3476.8811035\n",
      "Validation pearson is: nan\n",
      "Validation r2_score is: -3.7607292280548767\n",
      "-------------------------\n"
     ]
    },
    {
     "name": "stderr",
     "output_type": "stream",
     "text": [
      "/home/mbosnjak/.conda/envs/pero/lib/python3.7/site-packages/scipy/stats/stats.py:3399: PearsonRConstantInputWarning: An input array is constant; the correlation coefficent is not defined.\n",
      "  warnings.warn(PearsonRConstantInputWarning())\n"
     ]
    },
    {
     "name": "stdout",
     "output_type": "stream",
     "text": [
      "Epoch 175 end: 1.0596189498901367, TRAIN MSE is: 3433.551513671875\n",
      "Validation loss: 718526.2500000 - MSE score: 3471.1413574\n",
      "Validation pearson is: nan\n",
      "Validation r2_score is: -3.7528706342488602\n",
      "-------------------------\n"
     ]
    },
    {
     "name": "stderr",
     "output_type": "stream",
     "text": [
      "/home/mbosnjak/.conda/envs/pero/lib/python3.7/site-packages/scipy/stats/stats.py:3399: PearsonRConstantInputWarning: An input array is constant; the correlation coefficent is not defined.\n",
      "  warnings.warn(PearsonRConstantInputWarning())\n"
     ]
    },
    {
     "name": "stdout",
     "output_type": "stream",
     "text": [
      "Epoch 176 end: 1.056457281112671, TRAIN MSE is: 3427.8896484375\n",
      "Validation loss: 717330.3750000 - MSE score: 3465.3640137\n",
      "Validation pearson is: nan\n",
      "Validation r2_score is: -3.7449600012341078\n",
      "-------------------------\n"
     ]
    },
    {
     "name": "stderr",
     "output_type": "stream",
     "text": [
      "/home/mbosnjak/.conda/envs/pero/lib/python3.7/site-packages/scipy/stats/stats.py:3399: PearsonRConstantInputWarning: An input array is constant; the correlation coefficent is not defined.\n",
      "  warnings.warn(PearsonRConstantInputWarning())\n"
     ]
    },
    {
     "name": "stdout",
     "output_type": "stream",
     "text": [
      "Epoch 177 end: 1.049156904220581, TRAIN MSE is: 3422.146728515625\n",
      "Validation loss: 716150.3750000 - MSE score: 3459.6640625\n",
      "Validation pearson is: nan\n",
      "Validation r2_score is: -3.737155065320506\n",
      "-------------------------\n"
     ]
    },
    {
     "name": "stderr",
     "output_type": "stream",
     "text": [
      "/home/mbosnjak/.conda/envs/pero/lib/python3.7/site-packages/scipy/stats/stats.py:3399: PearsonRConstantInputWarning: An input array is constant; the correlation coefficent is not defined.\n",
      "  warnings.warn(PearsonRConstantInputWarning())\n"
     ]
    },
    {
     "name": "stdout",
     "output_type": "stream",
     "text": [
      "Epoch 178 end: 1.0704522132873535, TRAIN MSE is: 3416.49755859375\n",
      "Validation loss: 714963.4375000 - MSE score: 3453.9299316\n",
      "Validation pearson is: nan\n",
      "Validation r2_score is: -3.7293034943288887\n",
      "-------------------------\n"
     ]
    },
    {
     "name": "stderr",
     "output_type": "stream",
     "text": [
      "/home/mbosnjak/.conda/envs/pero/lib/python3.7/site-packages/scipy/stats/stats.py:3399: PearsonRConstantInputWarning: An input array is constant; the correlation coefficent is not defined.\n",
      "  warnings.warn(PearsonRConstantInputWarning())\n"
     ]
    },
    {
     "name": "stdout",
     "output_type": "stream",
     "text": [
      "Epoch 179 end: 1.0760993957519531, TRAIN MSE is: 3410.791748046875\n",
      "Validation loss: 713787.1875000 - MSE score: 3448.2475586\n",
      "Validation pearson is: nan\n",
      "Validation r2_score is: -3.721522926630759\n",
      "-------------------------\n"
     ]
    },
    {
     "name": "stderr",
     "output_type": "stream",
     "text": [
      "/home/mbosnjak/.conda/envs/pero/lib/python3.7/site-packages/scipy/stats/stats.py:3399: PearsonRConstantInputWarning: An input array is constant; the correlation coefficent is not defined.\n",
      "  warnings.warn(PearsonRConstantInputWarning())\n"
     ]
    },
    {
     "name": "stdout",
     "output_type": "stream",
     "text": [
      "Epoch 180 end: 1.0619916915893555, TRAIN MSE is: 3405.1796875\n",
      "Validation loss: 712597.8125000 - MSE score: 3442.5017090\n",
      "Validation pearson is: nan\n",
      "Validation r2_score is: -3.713655363767562\n",
      "-------------------------\n"
     ]
    },
    {
     "name": "stderr",
     "output_type": "stream",
     "text": [
      "/home/mbosnjak/.conda/envs/pero/lib/python3.7/site-packages/scipy/stats/stats.py:3399: PearsonRConstantInputWarning: An input array is constant; the correlation coefficent is not defined.\n",
      "  warnings.warn(PearsonRConstantInputWarning())\n"
     ]
    },
    {
     "name": "stdout",
     "output_type": "stream",
     "text": [
      "Epoch 181 end: 1.0567080974578857, TRAIN MSE is: 3399.51806640625\n",
      "Validation loss: 711411.3125000 - MSE score: 3436.7695312\n",
      "Validation pearson is: nan\n",
      "Validation r2_score is: -3.705806838542748\n",
      "-------------------------\n"
     ]
    },
    {
     "name": "stderr",
     "output_type": "stream",
     "text": [
      "/home/mbosnjak/.conda/envs/pero/lib/python3.7/site-packages/scipy/stats/stats.py:3399: PearsonRConstantInputWarning: An input array is constant; the correlation coefficent is not defined.\n",
      "  warnings.warn(PearsonRConstantInputWarning())\n"
     ]
    },
    {
     "name": "stdout",
     "output_type": "stream",
     "text": [
      "Epoch 182 end: 1.083052158355713, TRAIN MSE is: 3393.81787109375\n",
      "Validation loss: 710240.4375000 - MSE score: 3431.1132812\n",
      "Validation pearson is: nan\n",
      "Validation r2_score is: -3.6980618873265874\n",
      "-------------------------\n"
     ]
    },
    {
     "name": "stderr",
     "output_type": "stream",
     "text": [
      "/home/mbosnjak/.conda/envs/pero/lib/python3.7/site-packages/scipy/stats/stats.py:3399: PearsonRConstantInputWarning: An input array is constant; the correlation coefficent is not defined.\n",
      "  warnings.warn(PearsonRConstantInputWarning())\n"
     ]
    },
    {
     "name": "stdout",
     "output_type": "stream",
     "text": [
      "Epoch 183 end: 1.0475833415985107, TRAIN MSE is: 3388.218505859375\n",
      "Validation loss: 709060.2500000 - MSE score: 3425.4118652\n",
      "Validation pearson is: nan\n",
      "Validation r2_score is: -3.690255011990387\n",
      "-------------------------\n"
     ]
    },
    {
     "name": "stderr",
     "output_type": "stream",
     "text": [
      "/home/mbosnjak/.conda/envs/pero/lib/python3.7/site-packages/scipy/stats/stats.py:3399: PearsonRConstantInputWarning: An input array is constant; the correlation coefficent is not defined.\n",
      "  warnings.warn(PearsonRConstantInputWarning())\n"
     ]
    },
    {
     "name": "stdout",
     "output_type": "stream",
     "text": [
      "Epoch 184 end: 1.0586624145507812, TRAIN MSE is: 3382.568359375\n",
      "Validation loss: 707886.3125000 - MSE score: 3419.7402344\n",
      "Validation pearson is: nan\n",
      "Validation r2_score is: -3.6824898349058355\n",
      "-------------------------\n"
     ]
    },
    {
     "name": "stderr",
     "output_type": "stream",
     "text": [
      "/home/mbosnjak/.conda/envs/pero/lib/python3.7/site-packages/scipy/stats/stats.py:3399: PearsonRConstantInputWarning: An input array is constant; the correlation coefficent is not defined.\n",
      "  warnings.warn(PearsonRConstantInputWarning())\n"
     ]
    },
    {
     "name": "stdout",
     "output_type": "stream",
     "text": [
      "Epoch 185 end: 1.0525901317596436, TRAIN MSE is: 3376.95703125\n",
      "Validation loss: 706710.5000000 - MSE score: 3414.0603027\n",
      "Validation pearson is: nan\n",
      "Validation r2_score is: -3.6747123161515622\n",
      "-------------------------\n"
     ]
    },
    {
     "name": "stderr",
     "output_type": "stream",
     "text": [
      "/home/mbosnjak/.conda/envs/pero/lib/python3.7/site-packages/scipy/stats/stats.py:3399: PearsonRConstantInputWarning: An input array is constant; the correlation coefficent is not defined.\n",
      "  warnings.warn(PearsonRConstantInputWarning())\n"
     ]
    },
    {
     "name": "stdout",
     "output_type": "stream",
     "text": [
      "Epoch 186 end: 1.0755696296691895, TRAIN MSE is: 3371.32275390625\n",
      "Validation loss: 705541.4375000 - MSE score: 3408.4130859\n",
      "Validation pearson is: nan\n",
      "Validation r2_score is: -3.6669794060082888\n",
      "-------------------------\n"
     ]
    },
    {
     "name": "stderr",
     "output_type": "stream",
     "text": [
      "/home/mbosnjak/.conda/envs/pero/lib/python3.7/site-packages/scipy/stats/stats.py:3399: PearsonRConstantInputWarning: An input array is constant; the correlation coefficent is not defined.\n",
      "  warnings.warn(PearsonRConstantInputWarning())\n"
     ]
    },
    {
     "name": "stdout",
     "output_type": "stream",
     "text": [
      "Epoch 187 end: 1.0730514526367188, TRAIN MSE is: 3365.742919921875\n",
      "Validation loss: 704366.4375000 - MSE score: 3402.7368164\n",
      "Validation pearson is: nan\n",
      "Validation r2_score is: -3.659207416106211\n",
      "-------------------------\n"
     ]
    },
    {
     "name": "stderr",
     "output_type": "stream",
     "text": [
      "/home/mbosnjak/.conda/envs/pero/lib/python3.7/site-packages/scipy/stats/stats.py:3399: PearsonRConstantInputWarning: An input array is constant; the correlation coefficent is not defined.\n",
      "  warnings.warn(PearsonRConstantInputWarning())\n"
     ]
    },
    {
     "name": "stdout",
     "output_type": "stream",
     "text": [
      "Epoch 188 end: 1.0703604221343994, TRAIN MSE is: 3360.10302734375\n",
      "Validation loss: 703204.3750000 - MSE score: 3397.1225586\n",
      "Validation pearson is: nan\n",
      "Validation r2_score is: -3.651520182639718\n",
      "-------------------------\n"
     ]
    },
    {
     "name": "stderr",
     "output_type": "stream",
     "text": [
      "/home/mbosnjak/.conda/envs/pero/lib/python3.7/site-packages/scipy/stats/stats.py:3399: PearsonRConstantInputWarning: An input array is constant; the correlation coefficent is not defined.\n",
      "  warnings.warn(PearsonRConstantInputWarning())\n"
     ]
    },
    {
     "name": "stdout",
     "output_type": "stream",
     "text": [
      "Epoch 189 end: 1.0744211673736572, TRAIN MSE is: 3354.552001953125\n",
      "Validation loss: 702033.3750000 - MSE score: 3391.4655762\n",
      "Validation pearson is: nan\n",
      "Validation r2_score is: -3.643774239193317\n",
      "-------------------------\n"
     ]
    },
    {
     "name": "stderr",
     "output_type": "stream",
     "text": [
      "/home/mbosnjak/.conda/envs/pero/lib/python3.7/site-packages/scipy/stats/stats.py:3399: PearsonRConstantInputWarning: An input array is constant; the correlation coefficent is not defined.\n",
      "  warnings.warn(PearsonRConstantInputWarning())\n"
     ]
    },
    {
     "name": "stdout",
     "output_type": "stream",
     "text": [
      "Epoch 190 end: 1.069028377532959, TRAIN MSE is: 3348.963623046875\n",
      "Validation loss: 700865.6875000 - MSE score: 3385.8249512\n",
      "Validation pearson is: nan\n",
      "Validation r2_score is: -3.6360505099119065\n",
      "-------------------------\n"
     ]
    },
    {
     "name": "stderr",
     "output_type": "stream",
     "text": [
      "/home/mbosnjak/.conda/envs/pero/lib/python3.7/site-packages/scipy/stats/stats.py:3399: PearsonRConstantInputWarning: An input array is constant; the correlation coefficent is not defined.\n",
      "  warnings.warn(PearsonRConstantInputWarning())\n"
     ]
    },
    {
     "name": "stdout",
     "output_type": "stream",
     "text": [
      "Epoch 191 end: 1.0585062503814697, TRAIN MSE is: 3343.36083984375\n",
      "Validation loss: 699707.6875000 - MSE score: 3380.2307129\n",
      "Validation pearson is: nan\n",
      "Validation r2_score is: -3.628390722260904\n",
      "-------------------------\n"
     ]
    },
    {
     "name": "stderr",
     "output_type": "stream",
     "text": [
      "/home/mbosnjak/.conda/envs/pero/lib/python3.7/site-packages/scipy/stats/stats.py:3399: PearsonRConstantInputWarning: An input array is constant; the correlation coefficent is not defined.\n",
      "  warnings.warn(PearsonRConstantInputWarning())\n"
     ]
    },
    {
     "name": "stdout",
     "output_type": "stream",
     "text": [
      "Epoch 192 end: 1.0815110206604004, TRAIN MSE is: 3337.82568359375\n",
      "Validation loss: 698543.4375000 - MSE score: 3374.6057129\n",
      "Validation pearson is: nan\n",
      "Validation r2_score is: -3.620689126620853\n",
      "-------------------------\n"
     ]
    },
    {
     "name": "stderr",
     "output_type": "stream",
     "text": [
      "/home/mbosnjak/.conda/envs/pero/lib/python3.7/site-packages/scipy/stats/stats.py:3399: PearsonRConstantInputWarning: An input array is constant; the correlation coefficent is not defined.\n",
      "  warnings.warn(PearsonRConstantInputWarning())\n"
     ]
    },
    {
     "name": "stdout",
     "output_type": "stream",
     "text": [
      "Epoch 193 end: 1.0667128562927246, TRAIN MSE is: 3332.254150390625\n",
      "Validation loss: 697385.0000000 - MSE score: 3369.0092773\n",
      "Validation pearson is: nan\n",
      "Validation r2_score is: -3.6130261971808704\n",
      "-------------------------\n"
     ]
    },
    {
     "name": "stderr",
     "output_type": "stream",
     "text": [
      "/home/mbosnjak/.conda/envs/pero/lib/python3.7/site-packages/scipy/stats/stats.py:3399: PearsonRConstantInputWarning: An input array is constant; the correlation coefficent is not defined.\n",
      "  warnings.warn(PearsonRConstantInputWarning())\n"
     ]
    },
    {
     "name": "stdout",
     "output_type": "stream",
     "text": [
      "Epoch 194 end: 1.1487834453582764, TRAIN MSE is: 3326.702880859375\n",
      "Validation loss: 696229.5625000 - MSE score: 3363.4272461\n",
      "Validation pearson is: nan\n",
      "Validation r2_score is: -3.6053831770060203\n",
      "-------------------------\n"
     ]
    },
    {
     "name": "stderr",
     "output_type": "stream",
     "text": [
      "/home/mbosnjak/.conda/envs/pero/lib/python3.7/site-packages/scipy/stats/stats.py:3399: PearsonRConstantInputWarning: An input array is constant; the correlation coefficent is not defined.\n",
      "  warnings.warn(PearsonRConstantInputWarning())\n"
     ]
    },
    {
     "name": "stdout",
     "output_type": "stream",
     "text": [
      "Epoch 195 end: 1.1103055477142334, TRAIN MSE is: 3321.172607421875\n",
      "Validation loss: 695073.4375000 - MSE score: 3357.8422852\n",
      "Validation pearson is: nan\n",
      "Validation r2_score is: -3.597735872999478\n",
      "-------------------------\n"
     ]
    },
    {
     "name": "stderr",
     "output_type": "stream",
     "text": [
      "/home/mbosnjak/.conda/envs/pero/lib/python3.7/site-packages/scipy/stats/stats.py:3399: PearsonRConstantInputWarning: An input array is constant; the correlation coefficent is not defined.\n",
      "  warnings.warn(PearsonRConstantInputWarning())\n"
     ]
    },
    {
     "name": "stdout",
     "output_type": "stream",
     "text": [
      "Epoch 196 end: 1.0711145401000977, TRAIN MSE is: 3315.6435546875\n",
      "Validation loss: 693919.0625000 - MSE score: 3352.2663574\n",
      "Validation pearson is: nan\n",
      "Validation r2_score is: -3.590100473131555\n",
      "-------------------------\n"
     ]
    },
    {
     "name": "stderr",
     "output_type": "stream",
     "text": [
      "/home/mbosnjak/.conda/envs/pero/lib/python3.7/site-packages/scipy/stats/stats.py:3399: PearsonRConstantInputWarning: An input array is constant; the correlation coefficent is not defined.\n",
      "  warnings.warn(PearsonRConstantInputWarning())\n"
     ]
    },
    {
     "name": "stdout",
     "output_type": "stream",
     "text": [
      "Epoch 197 end: 1.0775108337402344, TRAIN MSE is: 3310.1083984375\n",
      "Validation loss: 692770.3125000 - MSE score: 3346.7160645\n",
      "Validation pearson is: nan\n",
      "Validation r2_score is: -3.582501401271065\n",
      "-------------------------\n"
     ]
    },
    {
     "name": "stderr",
     "output_type": "stream",
     "text": [
      "/home/mbosnjak/.conda/envs/pero/lib/python3.7/site-packages/scipy/stats/stats.py:3399: PearsonRConstantInputWarning: An input array is constant; the correlation coefficent is not defined.\n",
      "  warnings.warn(PearsonRConstantInputWarning())\n"
     ]
    },
    {
     "name": "stdout",
     "output_type": "stream",
     "text": [
      "Epoch 198 end: 1.055281162261963, TRAIN MSE is: 3304.63427734375\n",
      "Validation loss: 691613.0000000 - MSE score: 3341.1254883\n",
      "Validation pearson is: nan\n",
      "Validation r2_score is: -3.574846143755016\n",
      "-------------------------\n"
     ]
    },
    {
     "name": "stderr",
     "output_type": "stream",
     "text": [
      "/home/mbosnjak/.conda/envs/pero/lib/python3.7/site-packages/scipy/stats/stats.py:3399: PearsonRConstantInputWarning: An input array is constant; the correlation coefficent is not defined.\n",
      "  warnings.warn(PearsonRConstantInputWarning())\n"
     ]
    },
    {
     "name": "stdout",
     "output_type": "stream",
     "text": [
      "Epoch 199 end: 1.0597755908966064, TRAIN MSE is: 3299.067138671875\n",
      "Validation loss: 690474.8125000 - MSE score: 3335.6271973\n",
      "Validation pearson is: nan\n",
      "Validation r2_score is: -3.5673172372558497\n",
      "-------------------------\n"
     ]
    },
    {
     "name": "stderr",
     "output_type": "stream",
     "text": [
      "/home/mbosnjak/.conda/envs/pero/lib/python3.7/site-packages/scipy/stats/stats.py:3399: PearsonRConstantInputWarning: An input array is constant; the correlation coefficent is not defined.\n",
      "  warnings.warn(PearsonRConstantInputWarning())\n"
     ]
    },
    {
     "name": "stdout",
     "output_type": "stream",
     "text": [
      "Epoch 200 end: 1.0582056045532227, TRAIN MSE is: 3293.87890625\n",
      "Validation loss: 689438.6875000 - MSE score: 3330.6220703\n",
      "Validation pearson is: nan\n",
      "Validation r2_score is: -3.5604636080055787\n",
      "-------------------------\n"
     ]
    },
    {
     "name": "stderr",
     "output_type": "stream",
     "text": [
      "/home/mbosnjak/.conda/envs/pero/lib/python3.7/site-packages/scipy/stats/stats.py:3399: PearsonRConstantInputWarning: An input array is constant; the correlation coefficent is not defined.\n",
      "  warnings.warn(PearsonRConstantInputWarning())\n"
     ]
    },
    {
     "name": "stdout",
     "output_type": "stream",
     "text": [
      "Epoch 201 end: 1.061467170715332, TRAIN MSE is: 3288.912109375\n",
      "Validation loss: 688411.9375000 - MSE score: 3325.6611328\n",
      "Validation pearson is: nan\n",
      "Validation r2_score is: -3.5536716442781735\n",
      "-------------------------\n"
     ]
    },
    {
     "name": "stderr",
     "output_type": "stream",
     "text": [
      "/home/mbosnjak/.conda/envs/pero/lib/python3.7/site-packages/scipy/stats/stats.py:3399: PearsonRConstantInputWarning: An input array is constant; the correlation coefficent is not defined.\n",
      "  warnings.warn(PearsonRConstantInputWarning())\n"
     ]
    },
    {
     "name": "stdout",
     "output_type": "stream",
     "text": [
      "Epoch 202 end: 1.0527570247650146, TRAIN MSE is: 3284.002197265625\n",
      "Validation loss: 687381.3125000 - MSE score: 3320.6823730\n",
      "Validation pearson is: nan\n",
      "Validation r2_score is: -3.5468543202952727\n",
      "-------------------------\n"
     ]
    },
    {
     "name": "stderr",
     "output_type": "stream",
     "text": [
      "/home/mbosnjak/.conda/envs/pero/lib/python3.7/site-packages/scipy/stats/stats.py:3399: PearsonRConstantInputWarning: An input array is constant; the correlation coefficent is not defined.\n",
      "  warnings.warn(PearsonRConstantInputWarning())\n"
     ]
    },
    {
     "name": "stdout",
     "output_type": "stream",
     "text": [
      "Epoch 203 end: 1.0734789371490479, TRAIN MSE is: 3279.06103515625\n",
      "Validation loss: 686356.6250000 - MSE score: 3315.7324219\n",
      "Validation pearson is: nan\n",
      "Validation r2_score is: -3.540076483063353\n",
      "-------------------------\n"
     ]
    },
    {
     "name": "stderr",
     "output_type": "stream",
     "text": [
      "/home/mbosnjak/.conda/envs/pero/lib/python3.7/site-packages/scipy/stats/stats.py:3399: PearsonRConstantInputWarning: An input array is constant; the correlation coefficent is not defined.\n",
      "  warnings.warn(PearsonRConstantInputWarning())\n"
     ]
    },
    {
     "name": "stdout",
     "output_type": "stream",
     "text": [
      "Epoch 204 end: 1.0511581897735596, TRAIN MSE is: 3274.15576171875\n",
      "Validation loss: 685330.3750000 - MSE score: 3310.7746582\n",
      "Validation pearson is: nan\n",
      "Validation r2_score is: -3.5332881438436994\n",
      "-------------------------\n"
     ]
    },
    {
     "name": "stderr",
     "output_type": "stream",
     "text": [
      "/home/mbosnjak/.conda/envs/pero/lib/python3.7/site-packages/scipy/stats/stats.py:3399: PearsonRConstantInputWarning: An input array is constant; the correlation coefficent is not defined.\n",
      "  warnings.warn(PearsonRConstantInputWarning())\n"
     ]
    },
    {
     "name": "stdout",
     "output_type": "stream",
     "text": [
      "Epoch 205 end: 1.0554351806640625, TRAIN MSE is: 3269.259033203125\n",
      "Validation loss: 684302.2500000 - MSE score: 3305.8076172\n",
      "Validation pearson is: nan\n",
      "Validation r2_score is: -3.526487233677818\n",
      "-------------------------\n"
     ]
    },
    {
     "name": "stderr",
     "output_type": "stream",
     "text": [
      "/home/mbosnjak/.conda/envs/pero/lib/python3.7/site-packages/scipy/stats/stats.py:3399: PearsonRConstantInputWarning: An input array is constant; the correlation coefficent is not defined.\n",
      "  warnings.warn(PearsonRConstantInputWarning())\n"
     ]
    },
    {
     "name": "stdout",
     "output_type": "stream",
     "text": [
      "Epoch 206 end: 1.0732135772705078, TRAIN MSE is: 3264.3505859375\n",
      "Validation loss: 683277.2500000 - MSE score: 3300.8566895\n",
      "Validation pearson is: nan\n",
      "Validation r2_score is: -3.519707426825051\n",
      "-------------------------\n"
     ]
    },
    {
     "name": "stderr",
     "output_type": "stream",
     "text": [
      "/home/mbosnjak/.conda/envs/pero/lib/python3.7/site-packages/scipy/stats/stats.py:3399: PearsonRConstantInputWarning: An input array is constant; the correlation coefficent is not defined.\n",
      "  warnings.warn(PearsonRConstantInputWarning())\n"
     ]
    },
    {
     "name": "stdout",
     "output_type": "stream",
     "text": [
      "Epoch 207 end: 1.0601036548614502, TRAIN MSE is: 3259.422607421875\n",
      "Validation loss: 682262.8125000 - MSE score: 3295.9555664\n",
      "Validation pearson is: nan\n",
      "Validation r2_score is: -3.5129968674626237\n",
      "-------------------------\n"
     ]
    },
    {
     "name": "stderr",
     "output_type": "stream",
     "text": [
      "/home/mbosnjak/.conda/envs/pero/lib/python3.7/site-packages/scipy/stats/stats.py:3399: PearsonRConstantInputWarning: An input array is constant; the correlation coefficent is not defined.\n",
      "  warnings.warn(PearsonRConstantInputWarning())\n"
     ]
    },
    {
     "name": "stdout",
     "output_type": "stream",
     "text": [
      "Epoch 208 end: 1.0625402927398682, TRAIN MSE is: 3254.587158203125\n",
      "Validation loss: 681235.5625000 - MSE score: 3290.9926758\n",
      "Validation pearson is: nan\n",
      "Validation r2_score is: -3.5062018259734833\n",
      "-------------------------\n"
     ]
    },
    {
     "name": "stderr",
     "output_type": "stream",
     "text": [
      "/home/mbosnjak/.conda/envs/pero/lib/python3.7/site-packages/scipy/stats/stats.py:3399: PearsonRConstantInputWarning: An input array is constant; the correlation coefficent is not defined.\n",
      "  warnings.warn(PearsonRConstantInputWarning())\n"
     ]
    },
    {
     "name": "stdout",
     "output_type": "stream",
     "text": [
      "Epoch 209 end: 1.0714874267578125, TRAIN MSE is: 3249.665771484375\n",
      "Validation loss: 680220.8125000 - MSE score: 3286.0905762\n",
      "Validation pearson is: nan\n",
      "Validation r2_score is: -3.4994891963770955\n",
      "-------------------------\n"
     ]
    },
    {
     "name": "stderr",
     "output_type": "stream",
     "text": [
      "/home/mbosnjak/.conda/envs/pero/lib/python3.7/site-packages/scipy/stats/stats.py:3399: PearsonRConstantInputWarning: An input array is constant; the correlation coefficent is not defined.\n",
      "  warnings.warn(PearsonRConstantInputWarning())\n"
     ]
    },
    {
     "name": "stdout",
     "output_type": "stream",
     "text": [
      "Epoch 210 end: 1.0591621398925781, TRAIN MSE is: 3244.8056640625\n",
      "Validation loss: 679203.6250000 - MSE score: 3281.1770020\n",
      "Validation pearson is: nan\n",
      "Validation r2_score is: -3.4927615077284138\n",
      "-------------------------\n"
     ]
    },
    {
     "name": "stderr",
     "output_type": "stream",
     "text": [
      "/home/mbosnjak/.conda/envs/pero/lib/python3.7/site-packages/scipy/stats/stats.py:3399: PearsonRConstantInputWarning: An input array is constant; the correlation coefficent is not defined.\n",
      "  warnings.warn(PearsonRConstantInputWarning())\n"
     ]
    },
    {
     "name": "stdout",
     "output_type": "stream",
     "text": [
      "Epoch 211 end: 1.0626776218414307, TRAIN MSE is: 3239.958740234375\n",
      "Validation loss: 678182.8125000 - MSE score: 3276.2458496\n",
      "Validation pearson is: nan\n",
      "Validation r2_score is: -3.486008993099203\n",
      "-------------------------\n"
     ]
    },
    {
     "name": "stderr",
     "output_type": "stream",
     "text": [
      "/home/mbosnjak/.conda/envs/pero/lib/python3.7/site-packages/scipy/stats/stats.py:3399: PearsonRConstantInputWarning: An input array is constant; the correlation coefficent is not defined.\n",
      "  warnings.warn(PearsonRConstantInputWarning())\n"
     ]
    },
    {
     "name": "stdout",
     "output_type": "stream",
     "text": [
      "Epoch 212 end: 1.06632661819458, TRAIN MSE is: 3235.086181640625\n",
      "Validation loss: 677167.3125000 - MSE score: 3271.3400879\n",
      "Validation pearson is: nan\n",
      "Validation r2_score is: -3.4792916511636918\n",
      "-------------------------\n"
     ]
    },
    {
     "name": "stderr",
     "output_type": "stream",
     "text": [
      "/home/mbosnjak/.conda/envs/pero/lib/python3.7/site-packages/scipy/stats/stats.py:3399: PearsonRConstantInputWarning: An input array is constant; the correlation coefficent is not defined.\n",
      "  warnings.warn(PearsonRConstantInputWarning())\n"
     ]
    },
    {
     "name": "stdout",
     "output_type": "stream",
     "text": [
      "Epoch 213 end: 1.0608909130096436, TRAIN MSE is: 3230.196044921875\n",
      "Validation loss: 676163.8125000 - MSE score: 3266.4921875\n",
      "Validation pearson is: nan\n",
      "Validation r2_score is: -3.47265361006198\n",
      "-------------------------\n"
     ]
    },
    {
     "name": "stderr",
     "output_type": "stream",
     "text": [
      "/home/mbosnjak/.conda/envs/pero/lib/python3.7/site-packages/scipy/stats/stats.py:3399: PearsonRConstantInputWarning: An input array is constant; the correlation coefficent is not defined.\n",
      "  warnings.warn(PearsonRConstantInputWarning())\n"
     ]
    },
    {
     "name": "stdout",
     "output_type": "stream",
     "text": [
      "Epoch 214 end: 1.0630521774291992, TRAIN MSE is: 3225.4052734375\n",
      "Validation loss: 675147.2500000 - MSE score: 3261.5805664\n",
      "Validation pearson is: nan\n",
      "Validation r2_score is: -3.4659291859373136\n",
      "-------------------------\n"
     ]
    },
    {
     "name": "stderr",
     "output_type": "stream",
     "text": [
      "/home/mbosnjak/.conda/envs/pero/lib/python3.7/site-packages/scipy/stats/stats.py:3399: PearsonRConstantInputWarning: An input array is constant; the correlation coefficent is not defined.\n",
      "  warnings.warn(PearsonRConstantInputWarning())\n"
     ]
    },
    {
     "name": "stdout",
     "output_type": "stream",
     "text": [
      "Epoch 215 end: 1.0747642517089844, TRAIN MSE is: 3220.539306640625\n",
      "Validation loss: 674140.0625000 - MSE score: 3256.7150879\n",
      "Validation pearson is: nan\n",
      "Validation r2_score is: -3.4592667268218893\n",
      "-------------------------\n"
     ]
    },
    {
     "name": "stderr",
     "output_type": "stream",
     "text": [
      "/home/mbosnjak/.conda/envs/pero/lib/python3.7/site-packages/scipy/stats/stats.py:3399: PearsonRConstantInputWarning: An input array is constant; the correlation coefficent is not defined.\n",
      "  warnings.warn(PearsonRConstantInputWarning())\n"
     ]
    },
    {
     "name": "stdout",
     "output_type": "stream",
     "text": [
      "Epoch 216 end: 1.0791332721710205, TRAIN MSE is: 3215.713134765625\n",
      "Validation loss: 673133.4375000 - MSE score: 3251.8525391\n",
      "Validation pearson is: nan\n",
      "Validation r2_score is: -3.45260877688061\n",
      "-------------------------\n"
     ]
    },
    {
     "name": "stderr",
     "output_type": "stream",
     "text": [
      "/home/mbosnjak/.conda/envs/pero/lib/python3.7/site-packages/scipy/stats/stats.py:3399: PearsonRConstantInputWarning: An input array is constant; the correlation coefficent is not defined.\n",
      "  warnings.warn(PearsonRConstantInputWarning())\n"
     ]
    },
    {
     "name": "stdout",
     "output_type": "stream",
     "text": [
      "Epoch 217 end: 1.0883708000183105, TRAIN MSE is: 3210.913330078125\n",
      "Validation loss: 672122.4375000 - MSE score: 3246.9680176\n",
      "Validation pearson is: nan\n",
      "Validation r2_score is: -3.445920859422964\n",
      "-------------------------\n"
     ]
    },
    {
     "name": "stderr",
     "output_type": "stream",
     "text": [
      "/home/mbosnjak/.conda/envs/pero/lib/python3.7/site-packages/scipy/stats/stats.py:3399: PearsonRConstantInputWarning: An input array is constant; the correlation coefficent is not defined.\n",
      "  warnings.warn(PearsonRConstantInputWarning())\n"
     ]
    },
    {
     "name": "stdout",
     "output_type": "stream",
     "text": [
      "Epoch 218 end: 1.0525259971618652, TRAIN MSE is: 3206.114990234375\n",
      "Validation loss: 671108.6250000 - MSE score: 3242.0705566\n",
      "Validation pearson is: nan\n",
      "Validation r2_score is: -3.4392147774127277\n",
      "-------------------------\n"
     ]
    },
    {
     "name": "stderr",
     "output_type": "stream",
     "text": [
      "/home/mbosnjak/.conda/envs/pero/lib/python3.7/site-packages/scipy/stats/stats.py:3399: PearsonRConstantInputWarning: An input array is constant; the correlation coefficent is not defined.\n",
      "  warnings.warn(PearsonRConstantInputWarning())\n"
     ]
    },
    {
     "name": "stdout",
     "output_type": "stream",
     "text": [
      "Epoch 219 end: 1.0701401233673096, TRAIN MSE is: 3201.23583984375\n",
      "Validation loss: 670115.7500000 - MSE score: 3237.2741699\n",
      "Validation pearson is: nan\n",
      "Validation r2_score is: -3.432647285652477\n",
      "-------------------------\n"
     ]
    },
    {
     "name": "stderr",
     "output_type": "stream",
     "text": [
      "/home/mbosnjak/.conda/envs/pero/lib/python3.7/site-packages/scipy/stats/stats.py:3399: PearsonRConstantInputWarning: An input array is constant; the correlation coefficent is not defined.\n",
      "  warnings.warn(PearsonRConstantInputWarning())\n"
     ]
    },
    {
     "name": "stdout",
     "output_type": "stream",
     "text": [
      "Epoch 220 end: 1.1827785968780518, TRAIN MSE is: 3196.483642578125\n",
      "Validation loss: 669111.5000000 - MSE score: 3232.4226074\n",
      "Validation pearson is: nan\n",
      "Validation r2_score is: -3.426004582156253\n",
      "-------------------------\n"
     ]
    },
    {
     "name": "stderr",
     "output_type": "stream",
     "text": [
      "/home/mbosnjak/.conda/envs/pero/lib/python3.7/site-packages/scipy/stats/stats.py:3399: PearsonRConstantInputWarning: An input array is constant; the correlation coefficent is not defined.\n",
      "  warnings.warn(PearsonRConstantInputWarning())\n"
     ]
    },
    {
     "name": "stdout",
     "output_type": "stream",
     "text": [
      "Epoch 221 end: 1.1826863288879395, TRAIN MSE is: 3191.68310546875\n",
      "Validation loss: 668110.8750000 - MSE score: 3227.5883789\n",
      "Validation pearson is: nan\n",
      "Validation r2_score is: -3.4193852365169732\n",
      "-------------------------\n"
     ]
    },
    {
     "name": "stderr",
     "output_type": "stream",
     "text": [
      "/home/mbosnjak/.conda/envs/pero/lib/python3.7/site-packages/scipy/stats/stats.py:3399: PearsonRConstantInputWarning: An input array is constant; the correlation coefficent is not defined.\n",
      "  warnings.warn(PearsonRConstantInputWarning())\n"
     ]
    },
    {
     "name": "stdout",
     "output_type": "stream",
     "text": [
      "Epoch 222 end: 1.1189546585083008, TRAIN MSE is: 3186.897705078125\n",
      "Validation loss: 667112.0625000 - MSE score: 3222.7639160\n",
      "Validation pearson is: nan\n",
      "Validation r2_score is: -3.4127789772819295\n",
      "-------------------------\n"
     ]
    },
    {
     "name": "stderr",
     "output_type": "stream",
     "text": [
      "/home/mbosnjak/.conda/envs/pero/lib/python3.7/site-packages/scipy/stats/stats.py:3399: PearsonRConstantInputWarning: An input array is constant; the correlation coefficent is not defined.\n",
      "  warnings.warn(PearsonRConstantInputWarning())\n"
     ]
    },
    {
     "name": "stdout",
     "output_type": "stream",
     "text": [
      "Epoch 223 end: 1.069561243057251, TRAIN MSE is: 3182.129638671875\n",
      "Validation loss: 666112.2500000 - MSE score: 3217.9335938\n",
      "Validation pearson is: nan\n",
      "Validation r2_score is: -3.40616511310784\n",
      "-------------------------\n"
     ]
    },
    {
     "name": "stderr",
     "output_type": "stream",
     "text": [
      "/home/mbosnjak/.conda/envs/pero/lib/python3.7/site-packages/scipy/stats/stats.py:3399: PearsonRConstantInputWarning: An input array is constant; the correlation coefficent is not defined.\n",
      "  warnings.warn(PearsonRConstantInputWarning())\n"
     ]
    },
    {
     "name": "stdout",
     "output_type": "stream",
     "text": [
      "Epoch 224 end: 1.1051559448242188, TRAIN MSE is: 3177.33837890625\n",
      "Validation loss: 665119.6250000 - MSE score: 3213.1381836\n",
      "Validation pearson is: nan\n",
      "Validation r2_score is: -3.399599305241348\n",
      "-------------------------\n"
     ]
    },
    {
     "name": "stderr",
     "output_type": "stream",
     "text": [
      "/home/mbosnjak/.conda/envs/pero/lib/python3.7/site-packages/scipy/stats/stats.py:3399: PearsonRConstantInputWarning: An input array is constant; the correlation coefficent is not defined.\n",
      "  warnings.warn(PearsonRConstantInputWarning())\n"
     ]
    },
    {
     "name": "stdout",
     "output_type": "stream",
     "text": [
      "Epoch 225 end: 1.126786470413208, TRAIN MSE is: 3172.57373046875\n",
      "Validation loss: 664129.3750000 - MSE score: 3208.3544922\n",
      "Validation pearson is: nan\n",
      "Validation r2_score is: -3.393048742222743\n",
      "-------------------------\n"
     ]
    },
    {
     "name": "stderr",
     "output_type": "stream",
     "text": [
      "/home/mbosnjak/.conda/envs/pero/lib/python3.7/site-packages/scipy/stats/stats.py:3399: PearsonRConstantInputWarning: An input array is constant; the correlation coefficent is not defined.\n",
      "  warnings.warn(PearsonRConstantInputWarning())\n"
     ]
    },
    {
     "name": "stdout",
     "output_type": "stream",
     "text": [
      "Epoch 226 end: 1.0692379474639893, TRAIN MSE is: 3167.8505859375\n",
      "Validation loss: 663132.0625000 - MSE score: 3203.5368652\n",
      "Validation pearson is: nan\n",
      "Validation r2_score is: -3.386452009469325\n",
      "-------------------------\n"
     ]
    },
    {
     "name": "stderr",
     "output_type": "stream",
     "text": [
      "/home/mbosnjak/.conda/envs/pero/lib/python3.7/site-packages/scipy/stats/stats.py:3399: PearsonRConstantInputWarning: An input array is constant; the correlation coefficent is not defined.\n",
      "  warnings.warn(PearsonRConstantInputWarning())\n"
     ]
    },
    {
     "name": "stdout",
     "output_type": "stream",
     "text": [
      "Epoch 227 end: 1.0843572616577148, TRAIN MSE is: 3163.092041015625\n",
      "Validation loss: 662139.5000000 - MSE score: 3198.7409668\n",
      "Validation pearson is: nan\n",
      "Validation r2_score is: -3.3798861398200906\n",
      "-------------------------\n"
     ]
    },
    {
     "name": "stderr",
     "output_type": "stream",
     "text": [
      "/home/mbosnjak/.conda/envs/pero/lib/python3.7/site-packages/scipy/stats/stats.py:3399: PearsonRConstantInputWarning: An input array is constant; the correlation coefficent is not defined.\n",
      "  warnings.warn(PearsonRConstantInputWarning())\n"
     ]
    },
    {
     "name": "stdout",
     "output_type": "stream",
     "text": [
      "Epoch 228 end: 1.0766286849975586, TRAIN MSE is: 3158.3232421875\n",
      "Validation loss: 661156.1875000 - MSE score: 3193.9912109\n",
      "Validation pearson is: nan\n",
      "Validation r2_score is: -3.3733818544767136\n",
      "-------------------------\n"
     ]
    },
    {
     "name": "stderr",
     "output_type": "stream",
     "text": [
      "/home/mbosnjak/.conda/envs/pero/lib/python3.7/site-packages/scipy/stats/stats.py:3399: PearsonRConstantInputWarning: An input array is constant; the correlation coefficent is not defined.\n",
      "  warnings.warn(PearsonRConstantInputWarning())\n"
     ]
    },
    {
     "name": "stdout",
     "output_type": "stream",
     "text": [
      "Epoch 229 end: 1.0967323780059814, TRAIN MSE is: 3153.617431640625\n",
      "Validation loss: 660167.5000000 - MSE score: 3189.2150879\n",
      "Validation pearson is: nan\n",
      "Validation r2_score is: -3.366842111396463\n",
      "-------------------------\n"
     ]
    },
    {
     "name": "stderr",
     "output_type": "stream",
     "text": [
      "/home/mbosnjak/.conda/envs/pero/lib/python3.7/site-packages/scipy/stats/stats.py:3399: PearsonRConstantInputWarning: An input array is constant; the correlation coefficent is not defined.\n",
      "  warnings.warn(PearsonRConstantInputWarning())\n"
     ]
    },
    {
     "name": "stdout",
     "output_type": "stream",
     "text": [
      "Epoch 230 end: 1.0723097324371338, TRAIN MSE is: 3148.8994140625\n",
      "Validation loss: 659178.6250000 - MSE score: 3184.4377441\n",
      "Validation pearson is: nan\n",
      "Validation r2_score is: -3.360300870772675\n",
      "-------------------------\n"
     ]
    },
    {
     "name": "stderr",
     "output_type": "stream",
     "text": [
      "/home/mbosnjak/.conda/envs/pero/lib/python3.7/site-packages/scipy/stats/stats.py:3399: PearsonRConstantInputWarning: An input array is constant; the correlation coefficent is not defined.\n",
      "  warnings.warn(PearsonRConstantInputWarning())\n"
     ]
    },
    {
     "name": "stdout",
     "output_type": "stream",
     "text": [
      "Epoch 231 end: 1.0694341659545898, TRAIN MSE is: 3144.165283203125\n",
      "Validation loss: 658195.8750000 - MSE score: 3179.6901855\n",
      "Validation pearson is: nan\n",
      "Validation r2_score is: -3.3538001501479515\n",
      "-------------------------\n"
     ]
    },
    {
     "name": "stderr",
     "output_type": "stream",
     "text": [
      "/home/mbosnjak/.conda/envs/pero/lib/python3.7/site-packages/scipy/stats/stats.py:3399: PearsonRConstantInputWarning: An input array is constant; the correlation coefficent is not defined.\n",
      "  warnings.warn(PearsonRConstantInputWarning())\n"
     ]
    },
    {
     "name": "stdout",
     "output_type": "stream",
     "text": [
      "Epoch 232 end: 1.0502538681030273, TRAIN MSE is: 3139.461669921875\n",
      "Validation loss: 657213.3125000 - MSE score: 3174.9438477\n",
      "Validation pearson is: nan\n",
      "Validation r2_score is: -3.3473008942171214\n",
      "-------------------------\n"
     ]
    },
    {
     "name": "stderr",
     "output_type": "stream",
     "text": [
      "/home/mbosnjak/.conda/envs/pero/lib/python3.7/site-packages/scipy/stats/stats.py:3399: PearsonRConstantInputWarning: An input array is constant; the correlation coefficent is not defined.\n",
      "  warnings.warn(PearsonRConstantInputWarning())\n"
     ]
    },
    {
     "name": "stdout",
     "output_type": "stream",
     "text": [
      "Epoch 233 end: 1.0457265377044678, TRAIN MSE is: 3134.728515625\n",
      "Validation loss: 656240.9375000 - MSE score: 3170.2460938\n",
      "Validation pearson is: nan\n",
      "Validation r2_score is: -3.340868750879669\n",
      "-------------------------\n"
     ]
    },
    {
     "name": "stderr",
     "output_type": "stream",
     "text": [
      "/home/mbosnjak/.conda/envs/pero/lib/python3.7/site-packages/scipy/stats/stats.py:3399: PearsonRConstantInputWarning: An input array is constant; the correlation coefficent is not defined.\n",
      "  warnings.warn(PearsonRConstantInputWarning())\n"
     ]
    },
    {
     "name": "stdout",
     "output_type": "stream",
     "text": [
      "Epoch 234 end: 1.0621178150177002, TRAIN MSE is: 3130.09326171875\n",
      "Validation loss: 655254.2500000 - MSE score: 3165.4797363\n",
      "Validation pearson is: nan\n",
      "Validation r2_score is: -3.3343422904888467\n",
      "-------------------------\n"
     ]
    },
    {
     "name": "stderr",
     "output_type": "stream",
     "text": [
      "/home/mbosnjak/.conda/envs/pero/lib/python3.7/site-packages/scipy/stats/stats.py:3399: PearsonRConstantInputWarning: An input array is constant; the correlation coefficent is not defined.\n",
      "  warnings.warn(PearsonRConstantInputWarning())\n"
     ]
    },
    {
     "name": "stdout",
     "output_type": "stream",
     "text": [
      "Epoch 235 end: 1.1014399528503418, TRAIN MSE is: 3125.3896484375\n",
      "Validation loss: 654274.0000000 - MSE score: 3160.7436523\n",
      "Validation pearson is: nan\n",
      "Validation r2_score is: -3.327858003433973\n",
      "-------------------------\n"
     ]
    },
    {
     "name": "stderr",
     "output_type": "stream",
     "text": [
      "/home/mbosnjak/.conda/envs/pero/lib/python3.7/site-packages/scipy/stats/stats.py:3399: PearsonRConstantInputWarning: An input array is constant; the correlation coefficent is not defined.\n",
      "  warnings.warn(PearsonRConstantInputWarning())\n"
     ]
    },
    {
     "name": "stdout",
     "output_type": "stream",
     "text": [
      "Epoch 236 end: 1.0637991428375244, TRAIN MSE is: 3120.69970703125\n",
      "Validation loss: 653298.2500000 - MSE score: 3156.0302734\n",
      "Validation pearson is: nan\n",
      "Validation r2_score is: -3.3214037260152542\n",
      "-------------------------\n"
     ]
    },
    {
     "name": "stderr",
     "output_type": "stream",
     "text": [
      "/home/mbosnjak/.conda/envs/pero/lib/python3.7/site-packages/scipy/stats/stats.py:3399: PearsonRConstantInputWarning: An input array is constant; the correlation coefficent is not defined.\n",
      "  warnings.warn(PearsonRConstantInputWarning())\n"
     ]
    },
    {
     "name": "stdout",
     "output_type": "stream",
     "text": [
      "Epoch 237 end: 1.1125719547271729, TRAIN MSE is: 3116.060546875\n",
      "Validation loss: 652315.7500000 - MSE score: 3151.2839355\n",
      "Validation pearson is: nan\n",
      "Validation r2_score is: -3.3149047943133763\n",
      "-------------------------\n"
     ]
    },
    {
     "name": "stderr",
     "output_type": "stream",
     "text": [
      "/home/mbosnjak/.conda/envs/pero/lib/python3.7/site-packages/scipy/stats/stats.py:3399: PearsonRConstantInputWarning: An input array is constant; the correlation coefficent is not defined.\n",
      "  warnings.warn(PearsonRConstantInputWarning())\n"
     ]
    },
    {
     "name": "stdout",
     "output_type": "stream",
     "text": [
      "Epoch 238 end: 1.0909841060638428, TRAIN MSE is: 3111.362548828125\n",
      "Validation loss: 651344.3125000 - MSE score: 3146.5908203\n",
      "Validation pearson is: nan\n",
      "Validation r2_score is: -3.308478770867379\n",
      "-------------------------\n"
     ]
    },
    {
     "name": "stderr",
     "output_type": "stream",
     "text": [
      "/home/mbosnjak/.conda/envs/pero/lib/python3.7/site-packages/scipy/stats/stats.py:3399: PearsonRConstantInputWarning: An input array is constant; the correlation coefficent is not defined.\n",
      "  warnings.warn(PearsonRConstantInputWarning())\n"
     ]
    },
    {
     "name": "stdout",
     "output_type": "stream",
     "text": [
      "Epoch 239 end: 1.089562177658081, TRAIN MSE is: 3106.720458984375\n",
      "Validation loss: 650371.0000000 - MSE score: 3141.8889160\n",
      "Validation pearson is: nan\n",
      "Validation r2_score is: -3.302040480875613\n",
      "-------------------------\n"
     ]
    },
    {
     "name": "stderr",
     "output_type": "stream",
     "text": [
      "/home/mbosnjak/.conda/envs/pero/lib/python3.7/site-packages/scipy/stats/stats.py:3399: PearsonRConstantInputWarning: An input array is constant; the correlation coefficent is not defined.\n",
      "  warnings.warn(PearsonRConstantInputWarning())\n"
     ]
    },
    {
     "name": "stdout",
     "output_type": "stream",
     "text": [
      "Epoch 240 end: 1.089968204498291, TRAIN MSE is: 3102.059326171875\n",
      "Validation loss: 649402.7500000 - MSE score: 3137.2119141\n",
      "Validation pearson is: nan\n",
      "Validation r2_score is: -3.2956360896823123\n",
      "-------------------------\n"
     ]
    },
    {
     "name": "stderr",
     "output_type": "stream",
     "text": [
      "/home/mbosnjak/.conda/envs/pero/lib/python3.7/site-packages/scipy/stats/stats.py:3399: PearsonRConstantInputWarning: An input array is constant; the correlation coefficent is not defined.\n",
      "  warnings.warn(PearsonRConstantInputWarning())\n"
     ]
    },
    {
     "name": "stdout",
     "output_type": "stream",
     "text": [
      "Epoch 241 end: 1.1010470390319824, TRAIN MSE is: 3097.412841796875\n",
      "Validation loss: 648437.8750000 - MSE score: 3132.5500488\n",
      "Validation pearson is: nan\n",
      "Validation r2_score is: -3.2892533213623274\n",
      "-------------------------\n"
     ]
    },
    {
     "name": "stderr",
     "output_type": "stream",
     "text": [
      "/home/mbosnjak/.conda/envs/pero/lib/python3.7/site-packages/scipy/stats/stats.py:3399: PearsonRConstantInputWarning: An input array is constant; the correlation coefficent is not defined.\n",
      "  warnings.warn(PearsonRConstantInputWarning())\n"
     ]
    },
    {
     "name": "stdout",
     "output_type": "stream",
     "text": [
      "Epoch 242 end: 1.1006052494049072, TRAIN MSE is: 3092.79296875\n",
      "Validation loss: 647471.1875000 - MSE score: 3127.8803711\n",
      "Validation pearson is: nan\n",
      "Validation r2_score is: -3.2828593719036014\n",
      "-------------------------\n"
     ]
    },
    {
     "name": "stderr",
     "output_type": "stream",
     "text": [
      "/home/mbosnjak/.conda/envs/pero/lib/python3.7/site-packages/scipy/stats/stats.py:3399: PearsonRConstantInputWarning: An input array is constant; the correlation coefficent is not defined.\n",
      "  warnings.warn(PearsonRConstantInputWarning())\n"
     ]
    },
    {
     "name": "stdout",
     "output_type": "stream",
     "text": [
      "Epoch 243 end: 1.0672812461853027, TRAIN MSE is: 3088.190673828125\n",
      "Validation loss: 646500.3125000 - MSE score: 3123.1901855\n",
      "Validation pearson is: nan\n",
      "Validation r2_score is: -3.2764370576404076\n",
      "-------------------------\n"
     ]
    },
    {
     "name": "stderr",
     "output_type": "stream",
     "text": [
      "/home/mbosnjak/.conda/envs/pero/lib/python3.7/site-packages/scipy/stats/stats.py:3399: PearsonRConstantInputWarning: An input array is constant; the correlation coefficent is not defined.\n",
      "  warnings.warn(PearsonRConstantInputWarning())\n"
     ]
    },
    {
     "name": "stdout",
     "output_type": "stream",
     "text": [
      "Epoch 244 end: 1.070542812347412, TRAIN MSE is: 3083.553466796875\n",
      "Validation loss: 645536.5000000 - MSE score: 3118.5339355\n",
      "Validation pearson is: nan\n",
      "Validation r2_score is: -3.2700614796488354\n",
      "-------------------------\n"
     ]
    },
    {
     "name": "stderr",
     "output_type": "stream",
     "text": [
      "/home/mbosnjak/.conda/envs/pero/lib/python3.7/site-packages/scipy/stats/stats.py:3399: PearsonRConstantInputWarning: An input array is constant; the correlation coefficent is not defined.\n",
      "  warnings.warn(PearsonRConstantInputWarning())\n"
     ]
    },
    {
     "name": "stdout",
     "output_type": "stream",
     "text": [
      "Epoch 245 end: 1.0548279285430908, TRAIN MSE is: 3078.9521484375\n",
      "Validation loss: 644572.3750000 - MSE score: 3113.8759766\n",
      "Validation pearson is: nan\n",
      "Validation r2_score is: -3.2636841604534776\n",
      "-------------------------\n"
     ]
    },
    {
     "name": "stderr",
     "output_type": "stream",
     "text": [
      "/home/mbosnjak/.conda/envs/pero/lib/python3.7/site-packages/scipy/stats/stats.py:3399: PearsonRConstantInputWarning: An input array is constant; the correlation coefficent is not defined.\n",
      "  warnings.warn(PearsonRConstantInputWarning())\n"
     ]
    },
    {
     "name": "stdout",
     "output_type": "stream",
     "text": [
      "Epoch 246 end: 1.0882000923156738, TRAIN MSE is: 3074.319091796875\n",
      "Validation loss: 643618.3125000 - MSE score: 3109.2668457\n",
      "Validation pearson is: nan\n",
      "Validation r2_score is: -3.257373197918504\n",
      "-------------------------\n"
     ]
    },
    {
     "name": "stderr",
     "output_type": "stream",
     "text": [
      "/home/mbosnjak/.conda/envs/pero/lib/python3.7/site-packages/scipy/stats/stats.py:3399: PearsonRConstantInputWarning: An input array is constant; the correlation coefficent is not defined.\n",
      "  warnings.warn(PearsonRConstantInputWarning())\n"
     ]
    },
    {
     "name": "stdout",
     "output_type": "stream",
     "text": [
      "Epoch 247 end: 1.0642447471618652, TRAIN MSE is: 3069.753662109375\n",
      "Validation loss: 642658.3750000 - MSE score: 3104.6296387\n",
      "Validation pearson is: nan\n",
      "Validation r2_score is: -3.251023521557224\n",
      "-------------------------\n"
     ]
    },
    {
     "name": "stderr",
     "output_type": "stream",
     "text": [
      "/home/mbosnjak/.conda/envs/pero/lib/python3.7/site-packages/scipy/stats/stats.py:3399: PearsonRConstantInputWarning: An input array is constant; the correlation coefficent is not defined.\n",
      "  warnings.warn(PearsonRConstantInputWarning())\n"
     ]
    },
    {
     "name": "stdout",
     "output_type": "stream",
     "text": [
      "Epoch 248 end: 1.0638115406036377, TRAIN MSE is: 3065.16064453125\n",
      "Validation loss: 641702.0625000 - MSE score: 3100.0100098\n",
      "Validation pearson is: nan\n",
      "Validation r2_score is: -3.2446975689021063\n",
      "-------------------------\n"
     ]
    },
    {
     "name": "stderr",
     "output_type": "stream",
     "text": [
      "/home/mbosnjak/.conda/envs/pero/lib/python3.7/site-packages/scipy/stats/stats.py:3399: PearsonRConstantInputWarning: An input array is constant; the correlation coefficent is not defined.\n",
      "  warnings.warn(PearsonRConstantInputWarning())\n"
     ]
    },
    {
     "name": "stdout",
     "output_type": "stream",
     "text": [
      "Epoch 249 end: 1.0510549545288086, TRAIN MSE is: 3060.5830078125\n",
      "Validation loss: 640747.2500000 - MSE score: 3095.3977051\n",
      "Validation pearson is: nan\n",
      "Validation r2_score is: -3.23838218226627\n",
      "-------------------------\n"
     ]
    },
    {
     "name": "stderr",
     "output_type": "stream",
     "text": [
      "/home/mbosnjak/.conda/envs/pero/lib/python3.7/site-packages/scipy/stats/stats.py:3399: PearsonRConstantInputWarning: An input array is constant; the correlation coefficent is not defined.\n",
      "  warnings.warn(PearsonRConstantInputWarning())\n"
     ]
    },
    {
     "name": "stdout",
     "output_type": "stream",
     "text": [
      "Epoch 250 end: 1.059166669845581, TRAIN MSE is: 3056.030029296875\n",
      "Validation loss: 639789.6250000 - MSE score: 3090.7712402\n",
      "Validation pearson is: nan\n",
      "Validation r2_score is: -3.23204743033002\n",
      "-------------------------\n"
     ]
    },
    {
     "name": "stderr",
     "output_type": "stream",
     "text": [
      "/home/mbosnjak/.conda/envs/pero/lib/python3.7/site-packages/scipy/stats/stats.py:3399: PearsonRConstantInputWarning: An input array is constant; the correlation coefficent is not defined.\n",
      "  warnings.warn(PearsonRConstantInputWarning())\n"
     ]
    },
    {
     "name": "stdout",
     "output_type": "stream",
     "text": [
      "Epoch 251 end: 1.0671803951263428, TRAIN MSE is: 3051.44677734375\n",
      "Validation loss: 638839.1250000 - MSE score: 3086.1794434\n",
      "Validation pearson is: nan\n",
      "Validation r2_score is: -3.2257600404847544\n",
      "-------------------------\n"
     ]
    },
    {
     "name": "stderr",
     "output_type": "stream",
     "text": [
      "/home/mbosnjak/.conda/envs/pero/lib/python3.7/site-packages/scipy/stats/stats.py:3399: PearsonRConstantInputWarning: An input array is constant; the correlation coefficent is not defined.\n",
      "  warnings.warn(PearsonRConstantInputWarning())\n"
     ]
    },
    {
     "name": "stdout",
     "output_type": "stream",
     "text": [
      "Epoch 252 end: 1.0698633193969727, TRAIN MSE is: 3046.861328125\n",
      "Validation loss: 637899.0000000 - MSE score: 3081.6376953\n",
      "Validation pearson is: nan\n",
      "Validation r2_score is: -3.2195411655051362\n",
      "-------------------------\n"
     ]
    },
    {
     "name": "stderr",
     "output_type": "stream",
     "text": [
      "/home/mbosnjak/.conda/envs/pero/lib/python3.7/site-packages/scipy/stats/stats.py:3399: PearsonRConstantInputWarning: An input array is constant; the correlation coefficent is not defined.\n",
      "  warnings.warn(PearsonRConstantInputWarning())\n"
     ]
    },
    {
     "name": "stdout",
     "output_type": "stream",
     "text": [
      "Epoch 253 end: 1.128272533416748, TRAIN MSE is: 3042.395263671875\n",
      "Validation loss: 636938.5625000 - MSE score: 3076.9975586\n",
      "Validation pearson is: nan\n",
      "Validation r2_score is: -3.213188245798145\n",
      "-------------------------\n"
     ]
    },
    {
     "name": "stderr",
     "output_type": "stream",
     "text": [
      "/home/mbosnjak/.conda/envs/pero/lib/python3.7/site-packages/scipy/stats/stats.py:3399: PearsonRConstantInputWarning: An input array is constant; the correlation coefficent is not defined.\n",
      "  warnings.warn(PearsonRConstantInputWarning())\n"
     ]
    },
    {
     "name": "stdout",
     "output_type": "stream",
     "text": [
      "Epoch 254 end: 1.0977065563201904, TRAIN MSE is: 3037.822021484375\n",
      "Validation loss: 635989.0000000 - MSE score: 3072.4106445\n",
      "Validation pearson is: nan\n",
      "Validation r2_score is: -3.2069070885583155\n",
      "-------------------------\n"
     ]
    },
    {
     "name": "stderr",
     "output_type": "stream",
     "text": [
      "/home/mbosnjak/.conda/envs/pero/lib/python3.7/site-packages/scipy/stats/stats.py:3399: PearsonRConstantInputWarning: An input array is constant; the correlation coefficent is not defined.\n",
      "  warnings.warn(PearsonRConstantInputWarning())\n"
     ]
    },
    {
     "name": "stdout",
     "output_type": "stream",
     "text": [
      "Epoch 255 end: 1.0663690567016602, TRAIN MSE is: 3033.25927734375\n",
      "Validation loss: 635049.5000000 - MSE score: 3067.8720703\n",
      "Validation pearson is: nan\n",
      "Validation r2_score is: -3.2006926770365762\n",
      "-------------------------\n"
     ]
    },
    {
     "name": "stderr",
     "output_type": "stream",
     "text": [
      "/home/mbosnjak/.conda/envs/pero/lib/python3.7/site-packages/scipy/stats/stats.py:3399: PearsonRConstantInputWarning: An input array is constant; the correlation coefficent is not defined.\n",
      "  warnings.warn(PearsonRConstantInputWarning())\n"
     ]
    },
    {
     "name": "stdout",
     "output_type": "stream",
     "text": [
      "Epoch 256 end: 1.0862541198730469, TRAIN MSE is: 3028.7509765625\n",
      "Validation loss: 634107.6875000 - MSE score: 3063.3225098\n",
      "Validation pearson is: nan\n",
      "Validation r2_score is: -3.1944633537463893\n",
      "-------------------------\n"
     ]
    },
    {
     "name": "stderr",
     "output_type": "stream",
     "text": [
      "/home/mbosnjak/.conda/envs/pero/lib/python3.7/site-packages/scipy/stats/stats.py:3399: PearsonRConstantInputWarning: An input array is constant; the correlation coefficent is not defined.\n",
      "  warnings.warn(PearsonRConstantInputWarning())\n"
     ]
    },
    {
     "name": "stdout",
     "output_type": "stream",
     "text": [
      "Epoch 257 end: 1.0570271015167236, TRAIN MSE is: 3024.265625\n",
      "Validation loss: 633159.6875000 - MSE score: 3058.7426758\n",
      "Validation pearson is: nan\n",
      "Validation r2_score is: -3.1881922731991237\n",
      "-------------------------\n"
     ]
    },
    {
     "name": "stderr",
     "output_type": "stream",
     "text": [
      "/home/mbosnjak/.conda/envs/pero/lib/python3.7/site-packages/scipy/stats/stats.py:3399: PearsonRConstantInputWarning: An input array is constant; the correlation coefficent is not defined.\n",
      "  warnings.warn(PearsonRConstantInputWarning())\n"
     ]
    },
    {
     "name": "stdout",
     "output_type": "stream",
     "text": [
      "Epoch 258 end: 1.075934648513794, TRAIN MSE is: 3019.738525390625\n",
      "Validation loss: 632218.4375000 - MSE score: 3054.1950684\n",
      "Validation pearson is: nan\n",
      "Validation r2_score is: -3.1819657791612794\n",
      "-------------------------\n"
     ]
    },
    {
     "name": "stderr",
     "output_type": "stream",
     "text": [
      "/home/mbosnjak/.conda/envs/pero/lib/python3.7/site-packages/scipy/stats/stats.py:3399: PearsonRConstantInputWarning: An input array is constant; the correlation coefficent is not defined.\n",
      "  warnings.warn(PearsonRConstantInputWarning())\n"
     ]
    },
    {
     "name": "stdout",
     "output_type": "stream",
     "text": [
      "Epoch 259 end: 1.079099416732788, TRAIN MSE is: 3015.2353515625\n",
      "Validation loss: 631279.7500000 - MSE score: 3049.6599121\n",
      "Validation pearson is: nan\n",
      "Validation r2_score is: -3.1757564894435593\n",
      "-------------------------\n"
     ]
    },
    {
     "name": "stderr",
     "output_type": "stream",
     "text": [
      "/home/mbosnjak/.conda/envs/pero/lib/python3.7/site-packages/scipy/stats/stats.py:3399: PearsonRConstantInputWarning: An input array is constant; the correlation coefficent is not defined.\n",
      "  warnings.warn(PearsonRConstantInputWarning())\n"
     ]
    },
    {
     "name": "stdout",
     "output_type": "stream",
     "text": [
      "Epoch 260 end: 1.077343225479126, TRAIN MSE is: 3010.762939453125\n",
      "Validation loss: 630337.5000000 - MSE score: 3045.1086426\n",
      "Validation pearson is: nan\n",
      "Validation r2_score is: -3.1695241148816287\n",
      "-------------------------\n"
     ]
    },
    {
     "name": "stderr",
     "output_type": "stream",
     "text": [
      "/home/mbosnjak/.conda/envs/pero/lib/python3.7/site-packages/scipy/stats/stats.py:3399: PearsonRConstantInputWarning: An input array is constant; the correlation coefficent is not defined.\n",
      "  warnings.warn(PearsonRConstantInputWarning())\n"
     ]
    },
    {
     "name": "stdout",
     "output_type": "stream",
     "text": [
      "Epoch 261 end: 1.0706684589385986, TRAIN MSE is: 3006.235107421875\n",
      "Validation loss: 629408.7500000 - MSE score: 3040.6225586\n",
      "Validation pearson is: nan\n",
      "Validation r2_score is: -3.1633809989079387\n",
      "-------------------------\n"
     ]
    },
    {
     "name": "stderr",
     "output_type": "stream",
     "text": [
      "/home/mbosnjak/.conda/envs/pero/lib/python3.7/site-packages/scipy/stats/stats.py:3399: PearsonRConstantInputWarning: An input array is constant; the correlation coefficent is not defined.\n",
      "  warnings.warn(PearsonRConstantInputWarning())\n"
     ]
    },
    {
     "name": "stdout",
     "output_type": "stream",
     "text": [
      "Epoch 262 end: 1.081491231918335, TRAIN MSE is: 3001.776611328125\n",
      "Validation loss: 628476.6250000 - MSE score: 3036.1188965\n",
      "Validation pearson is: nan\n",
      "Validation r2_score is: -3.1572151684573475\n",
      "-------------------------\n"
     ]
    },
    {
     "name": "stderr",
     "output_type": "stream",
     "text": [
      "/home/mbosnjak/.conda/envs/pero/lib/python3.7/site-packages/scipy/stats/stats.py:3399: PearsonRConstantInputWarning: An input array is constant; the correlation coefficent is not defined.\n",
      "  warnings.warn(PearsonRConstantInputWarning())\n"
     ]
    },
    {
     "name": "stdout",
     "output_type": "stream",
     "text": [
      "Epoch 263 end: 1.0645244121551514, TRAIN MSE is: 2997.319580078125\n",
      "Validation loss: 627543.2500000 - MSE score: 3031.6093750\n",
      "Validation pearson is: nan\n",
      "Validation r2_score is: -3.1510409328546585\n",
      "-------------------------\n"
     ]
    },
    {
     "name": "stderr",
     "output_type": "stream",
     "text": [
      "/home/mbosnjak/.conda/envs/pero/lib/python3.7/site-packages/scipy/stats/stats.py:3399: PearsonRConstantInputWarning: An input array is constant; the correlation coefficent is not defined.\n",
      "  warnings.warn(PearsonRConstantInputWarning())\n"
     ]
    },
    {
     "name": "stdout",
     "output_type": "stream",
     "text": [
      "Epoch 264 end: 1.0576434135437012, TRAIN MSE is: 2992.853515625\n",
      "Validation loss: 626612.9375000 - MSE score: 3027.1152344\n",
      "Validation pearson is: nan\n",
      "Validation r2_score is: -3.144886910501614\n",
      "-------------------------\n"
     ]
    },
    {
     "name": "stderr",
     "output_type": "stream",
     "text": [
      "/home/mbosnjak/.conda/envs/pero/lib/python3.7/site-packages/scipy/stats/stats.py:3399: PearsonRConstantInputWarning: An input array is constant; the correlation coefficent is not defined.\n",
      "  warnings.warn(PearsonRConstantInputWarning())\n"
     ]
    },
    {
     "name": "stdout",
     "output_type": "stream",
     "text": [
      "Epoch 265 end: 1.0593838691711426, TRAIN MSE is: 2988.394775390625\n",
      "Validation loss: 625686.0000000 - MSE score: 3022.6376953\n",
      "Validation pearson is: nan\n",
      "Validation r2_score is: -3.138755165959485\n",
      "-------------------------\n"
     ]
    },
    {
     "name": "stderr",
     "output_type": "stream",
     "text": [
      "/home/mbosnjak/.conda/envs/pero/lib/python3.7/site-packages/scipy/stats/stats.py:3399: PearsonRConstantInputWarning: An input array is constant; the correlation coefficent is not defined.\n",
      "  warnings.warn(PearsonRConstantInputWarning())\n"
     ]
    },
    {
     "name": "stdout",
     "output_type": "stream",
     "text": [
      "Epoch 266 end: 1.0828955173492432, TRAIN MSE is: 2983.973876953125\n",
      "Validation loss: 624754.0625000 - MSE score: 3018.1352539\n",
      "Validation pearson is: nan\n",
      "Validation r2_score is: -3.1325912106081306\n",
      "-------------------------\n"
     ]
    },
    {
     "name": "stderr",
     "output_type": "stream",
     "text": [
      "/home/mbosnjak/.conda/envs/pero/lib/python3.7/site-packages/scipy/stats/stats.py:3399: PearsonRConstantInputWarning: An input array is constant; the correlation coefficent is not defined.\n",
      "  warnings.warn(PearsonRConstantInputWarning())\n"
     ]
    },
    {
     "name": "stdout",
     "output_type": "stream",
     "text": [
      "Epoch 267 end: 1.0700981616973877, TRAIN MSE is: 2979.526611328125\n",
      "Validation loss: 623826.7500000 - MSE score: 3013.6555176\n",
      "Validation pearson is: nan\n",
      "Validation r2_score is: -3.1264570316613938\n",
      "-------------------------\n"
     ]
    },
    {
     "name": "stderr",
     "output_type": "stream",
     "text": [
      "/home/mbosnjak/.conda/envs/pero/lib/python3.7/site-packages/scipy/stats/stats.py:3399: PearsonRConstantInputWarning: An input array is constant; the correlation coefficent is not defined.\n",
      "  warnings.warn(PearsonRConstantInputWarning())\n"
     ]
    },
    {
     "name": "stdout",
     "output_type": "stream",
     "text": [
      "Epoch 268 end: 1.115384817123413, TRAIN MSE is: 2975.10400390625\n",
      "Validation loss: 622899.0625000 - MSE score: 3009.1738281\n",
      "Validation pearson is: nan\n",
      "Validation r2_score is: -3.1203205280269435\n",
      "-------------------------\n"
     ]
    },
    {
     "name": "stderr",
     "output_type": "stream",
     "text": [
      "/home/mbosnjak/.conda/envs/pero/lib/python3.7/site-packages/scipy/stats/stats.py:3399: PearsonRConstantInputWarning: An input array is constant; the correlation coefficent is not defined.\n",
      "  warnings.warn(PearsonRConstantInputWarning())\n"
     ]
    },
    {
     "name": "stdout",
     "output_type": "stream",
     "text": [
      "Epoch 269 end: 1.0613346099853516, TRAIN MSE is: 2970.65380859375\n",
      "Validation loss: 621981.0000000 - MSE score: 3004.7390137\n",
      "Validation pearson is: nan\n",
      "Validation r2_score is: -3.1142481982280383\n",
      "-------------------------\n"
     ]
    },
    {
     "name": "stderr",
     "output_type": "stream",
     "text": [
      "/home/mbosnjak/.conda/envs/pero/lib/python3.7/site-packages/scipy/stats/stats.py:3399: PearsonRConstantInputWarning: An input array is constant; the correlation coefficent is not defined.\n",
      "  warnings.warn(PearsonRConstantInputWarning())\n"
     ]
    },
    {
     "name": "stdout",
     "output_type": "stream",
     "text": [
      "Epoch 270 end: 1.0833590030670166, TRAIN MSE is: 2966.28759765625\n",
      "Validation loss: 621051.9375000 - MSE score: 3000.2504883\n",
      "Validation pearson is: nan\n",
      "Validation r2_score is: -3.108102410985964\n",
      "-------------------------\n"
     ]
    },
    {
     "name": "stderr",
     "output_type": "stream",
     "text": [
      "/home/mbosnjak/.conda/envs/pero/lib/python3.7/site-packages/scipy/stats/stats.py:3399: PearsonRConstantInputWarning: An input array is constant; the correlation coefficent is not defined.\n",
      "  warnings.warn(PearsonRConstantInputWarning())\n"
     ]
    },
    {
     "name": "stdout",
     "output_type": "stream",
     "text": [
      "Epoch 271 end: 1.0783336162567139, TRAIN MSE is: 2961.84423828125\n",
      "Validation loss: 620134.5000000 - MSE score: 2995.8190918\n",
      "Validation pearson is: nan\n",
      "Validation r2_score is: -3.1020342841919986\n",
      "-------------------------\n"
     ]
    },
    {
     "name": "stderr",
     "output_type": "stream",
     "text": [
      "/home/mbosnjak/.conda/envs/pero/lib/python3.7/site-packages/scipy/stats/stats.py:3399: PearsonRConstantInputWarning: An input array is constant; the correlation coefficent is not defined.\n",
      "  warnings.warn(PearsonRConstantInputWarning())\n"
     ]
    },
    {
     "name": "stdout",
     "output_type": "stream",
     "text": [
      "Epoch 272 end: 1.065467119216919, TRAIN MSE is: 2957.431640625\n",
      "Validation loss: 619223.0625000 - MSE score: 2991.4160156\n",
      "Validation pearson is: nan\n",
      "Validation r2_score is: -3.0960048354156484\n",
      "-------------------------\n"
     ]
    },
    {
     "name": "stderr",
     "output_type": "stream",
     "text": [
      "/home/mbosnjak/.conda/envs/pero/lib/python3.7/site-packages/scipy/stats/stats.py:3399: PearsonRConstantInputWarning: An input array is constant; the correlation coefficent is not defined.\n",
      "  warnings.warn(PearsonRConstantInputWarning())\n"
     ]
    },
    {
     "name": "stdout",
     "output_type": "stream",
     "text": [
      "Epoch 273 end: 1.098120927810669, TRAIN MSE is: 2953.076171875\n",
      "Validation loss: 618303.8125000 - MSE score: 2986.9746094\n",
      "Validation pearson is: nan\n",
      "Validation r2_score is: -3.0899239187727554\n",
      "-------------------------\n"
     ]
    },
    {
     "name": "stderr",
     "output_type": "stream",
     "text": [
      "/home/mbosnjak/.conda/envs/pero/lib/python3.7/site-packages/scipy/stats/stats.py:3399: PearsonRConstantInputWarning: An input array is constant; the correlation coefficent is not defined.\n",
      "  warnings.warn(PearsonRConstantInputWarning())\n"
     ]
    },
    {
     "name": "stdout",
     "output_type": "stream",
     "text": [
      "Epoch 274 end: 1.0602047443389893, TRAIN MSE is: 2948.66650390625\n",
      "Validation loss: 617393.6875000 - MSE score: 2982.5778809\n",
      "Validation pearson is: nan\n",
      "Validation r2_score is: -3.0839038451890683\n",
      "-------------------------\n"
     ]
    },
    {
     "name": "stderr",
     "output_type": "stream",
     "text": [
      "/home/mbosnjak/.conda/envs/pero/lib/python3.7/site-packages/scipy/stats/stats.py:3399: PearsonRConstantInputWarning: An input array is constant; the correlation coefficent is not defined.\n",
      "  warnings.warn(PearsonRConstantInputWarning())\n"
     ]
    },
    {
     "name": "stdout",
     "output_type": "stream",
     "text": [
      "Epoch 275 end: 1.0609221458435059, TRAIN MSE is: 2944.345703125\n",
      "Validation loss: 616470.5625000 - MSE score: 2978.1188965\n",
      "Validation pearson is: nan\n",
      "Validation r2_score is: -3.0777982840745706\n",
      "-------------------------\n"
     ]
    },
    {
     "name": "stderr",
     "output_type": "stream",
     "text": [
      "/home/mbosnjak/.conda/envs/pero/lib/python3.7/site-packages/scipy/stats/stats.py:3399: PearsonRConstantInputWarning: An input array is constant; the correlation coefficent is not defined.\n",
      "  warnings.warn(PearsonRConstantInputWarning())\n"
     ]
    },
    {
     "name": "stdout",
     "output_type": "stream",
     "text": [
      "Epoch 276 end: 1.0502903461456299, TRAIN MSE is: 2939.961669921875\n",
      "Validation loss: 615554.3125000 - MSE score: 2973.6921387\n",
      "Validation pearson is: nan\n",
      "Validation r2_score is: -3.0717369284755085\n",
      "-------------------------\n"
     ]
    },
    {
     "name": "stderr",
     "output_type": "stream",
     "text": [
      "/home/mbosnjak/.conda/envs/pero/lib/python3.7/site-packages/scipy/stats/stats.py:3399: PearsonRConstantInputWarning: An input array is constant; the correlation coefficent is not defined.\n",
      "  warnings.warn(PearsonRConstantInputWarning())\n"
     ]
    },
    {
     "name": "stdout",
     "output_type": "stream",
     "text": [
      "Epoch 277 end: 1.062924861907959, TRAIN MSE is: 2935.57275390625\n",
      "Validation loss: 614647.5625000 - MSE score: 2969.3120117\n",
      "Validation pearson is: nan\n",
      "Validation r2_score is: -3.0657390349653424\n",
      "-------------------------\n"
     ]
    },
    {
     "name": "stderr",
     "output_type": "stream",
     "text": [
      "/home/mbosnjak/.conda/envs/pero/lib/python3.7/site-packages/scipy/stats/stats.py:3399: PearsonRConstantInputWarning: An input array is constant; the correlation coefficent is not defined.\n",
      "  warnings.warn(PearsonRConstantInputWarning())\n"
     ]
    },
    {
     "name": "stdout",
     "output_type": "stream",
     "text": [
      "Epoch 278 end: 1.0788209438323975, TRAIN MSE is: 2931.2353515625\n",
      "Validation loss: 613738.8125000 - MSE score: 2964.9221191\n",
      "Validation pearson is: nan\n",
      "Validation r2_score is: -3.0597281522879136\n",
      "-------------------------\n"
     ]
    },
    {
     "name": "stderr",
     "output_type": "stream",
     "text": [
      "/home/mbosnjak/.conda/envs/pero/lib/python3.7/site-packages/scipy/stats/stats.py:3399: PearsonRConstantInputWarning: An input array is constant; the correlation coefficent is not defined.\n",
      "  warnings.warn(PearsonRConstantInputWarning())\n"
     ]
    },
    {
     "name": "stdout",
     "output_type": "stream",
     "text": [
      "Epoch 279 end: 1.058384656906128, TRAIN MSE is: 2926.88671875\n",
      "Validation loss: 612833.3125000 - MSE score: 2960.5471191\n",
      "Validation pearson is: nan\n",
      "Validation r2_score is: -3.0537380695084826\n",
      "-------------------------\n"
     ]
    },
    {
     "name": "stderr",
     "output_type": "stream",
     "text": [
      "/home/mbosnjak/.conda/envs/pero/lib/python3.7/site-packages/scipy/stats/stats.py:3399: PearsonRConstantInputWarning: An input array is constant; the correlation coefficent is not defined.\n",
      "  warnings.warn(PearsonRConstantInputWarning())\n"
     ]
    },
    {
     "name": "stdout",
     "output_type": "stream",
     "text": [
      "Epoch 280 end: 1.0685083866119385, TRAIN MSE is: 2922.5517578125\n",
      "Validation loss: 611929.4375000 - MSE score: 2956.1811523\n",
      "Validation pearson is: nan\n",
      "Validation r2_score is: -3.0477595280892897\n",
      "-------------------------\n"
     ]
    },
    {
     "name": "stderr",
     "output_type": "stream",
     "text": [
      "/home/mbosnjak/.conda/envs/pero/lib/python3.7/site-packages/scipy/stats/stats.py:3399: PearsonRConstantInputWarning: An input array is constant; the correlation coefficent is not defined.\n",
      "  warnings.warn(PearsonRConstantInputWarning())\n"
     ]
    },
    {
     "name": "stdout",
     "output_type": "stream",
     "text": [
      "Epoch 281 end: 1.0556771755218506, TRAIN MSE is: 2918.216796875\n",
      "Validation loss: 611029.3125000 - MSE score: 2951.8320312\n",
      "Validation pearson is: nan\n",
      "Validation r2_score is: -3.0418051765213887\n",
      "-------------------------\n"
     ]
    },
    {
     "name": "stderr",
     "output_type": "stream",
     "text": [
      "/home/mbosnjak/.conda/envs/pero/lib/python3.7/site-packages/scipy/stats/stats.py:3399: PearsonRConstantInputWarning: An input array is constant; the correlation coefficent is not defined.\n",
      "  warnings.warn(PearsonRConstantInputWarning())\n"
     ]
    },
    {
     "name": "stdout",
     "output_type": "stream",
     "text": [
      "Epoch 282 end: 1.0793514251708984, TRAIN MSE is: 2913.9111328125\n",
      "Validation loss: 610127.1875000 - MSE score: 2947.4746094\n",
      "Validation pearson is: nan\n",
      "Validation r2_score is: -3.0358383344287\n",
      "-------------------------\n"
     ]
    },
    {
     "name": "stderr",
     "output_type": "stream",
     "text": [
      "/home/mbosnjak/.conda/envs/pero/lib/python3.7/site-packages/scipy/stats/stats.py:3399: PearsonRConstantInputWarning: An input array is constant; the correlation coefficent is not defined.\n",
      "  warnings.warn(PearsonRConstantInputWarning())\n"
     ]
    },
    {
     "name": "stdout",
     "output_type": "stream",
     "text": [
      "Epoch 283 end: 1.0661184787750244, TRAIN MSE is: 2909.57861328125\n",
      "Validation loss: 609232.3750000 - MSE score: 2943.1516113\n",
      "Validation pearson is: nan\n",
      "Validation r2_score is: -3.029919027812559\n",
      "-------------------------\n"
     ]
    },
    {
     "name": "stderr",
     "output_type": "stream",
     "text": [
      "/home/mbosnjak/.conda/envs/pero/lib/python3.7/site-packages/scipy/stats/stats.py:3399: PearsonRConstantInputWarning: An input array is constant; the correlation coefficent is not defined.\n",
      "  warnings.warn(PearsonRConstantInputWarning())\n"
     ]
    },
    {
     "name": "stdout",
     "output_type": "stream",
     "text": [
      "Epoch 284 end: 1.0598978996276855, TRAIN MSE is: 2905.3046875\n",
      "Validation loss: 608331.0625000 - MSE score: 2938.7976074\n",
      "Validation pearson is: nan\n",
      "Validation r2_score is: -3.023956942124687\n",
      "-------------------------\n"
     ]
    },
    {
     "name": "stderr",
     "output_type": "stream",
     "text": [
      "/home/mbosnjak/.conda/envs/pero/lib/python3.7/site-packages/scipy/stats/stats.py:3399: PearsonRConstantInputWarning: An input array is constant; the correlation coefficent is not defined.\n",
      "  warnings.warn(PearsonRConstantInputWarning())\n"
     ]
    },
    {
     "name": "stdout",
     "output_type": "stream",
     "text": [
      "Epoch 285 end: 1.1075351238250732, TRAIN MSE is: 2901.034912109375\n",
      "Validation loss: 607424.5625000 - MSE score: 2934.4182129\n",
      "Validation pearson is: nan\n",
      "Validation r2_score is: -3.017960775338821\n",
      "-------------------------\n"
     ]
    },
    {
     "name": "stderr",
     "output_type": "stream",
     "text": [
      "/home/mbosnjak/.conda/envs/pero/lib/python3.7/site-packages/scipy/stats/stats.py:3399: PearsonRConstantInputWarning: An input array is constant; the correlation coefficent is not defined.\n",
      "  warnings.warn(PearsonRConstantInputWarning())\n"
     ]
    },
    {
     "name": "stdout",
     "output_type": "stream",
     "text": [
      "Epoch 286 end: 1.124774694442749, TRAIN MSE is: 2896.685302734375\n",
      "Validation loss: 606536.1875000 - MSE score: 2930.1262207\n",
      "Validation pearson is: nan\n",
      "Validation r2_score is: -3.012084168156284\n",
      "-------------------------\n"
     ]
    },
    {
     "name": "stderr",
     "output_type": "stream",
     "text": [
      "/home/mbosnjak/.conda/envs/pero/lib/python3.7/site-packages/scipy/stats/stats.py:3399: PearsonRConstantInputWarning: An input array is constant; the correlation coefficent is not defined.\n",
      "  warnings.warn(PearsonRConstantInputWarning())\n"
     ]
    },
    {
     "name": "stdout",
     "output_type": "stream",
     "text": [
      "Epoch 287 end: 1.0871272087097168, TRAIN MSE is: 2892.44970703125\n",
      "Validation loss: 605637.3750000 - MSE score: 2925.7844238\n",
      "Validation pearson is: nan\n",
      "Validation r2_score is: -3.0061388958901416\n",
      "-------------------------\n"
     ]
    },
    {
     "name": "stderr",
     "output_type": "stream",
     "text": [
      "/home/mbosnjak/.conda/envs/pero/lib/python3.7/site-packages/scipy/stats/stats.py:3399: PearsonRConstantInputWarning: An input array is constant; the correlation coefficent is not defined.\n",
      "  warnings.warn(PearsonRConstantInputWarning())\n"
     ]
    },
    {
     "name": "stdout",
     "output_type": "stream",
     "text": [
      "Epoch 288 end: 1.0738322734832764, TRAIN MSE is: 2888.170654296875\n",
      "Validation loss: 604741.9375000 - MSE score: 2921.4587402\n",
      "Validation pearson is: nan\n",
      "Validation r2_score is: -3.0002161795481808\n",
      "-------------------------\n"
     ]
    },
    {
     "name": "stderr",
     "output_type": "stream",
     "text": [
      "/home/mbosnjak/.conda/envs/pero/lib/python3.7/site-packages/scipy/stats/stats.py:3399: PearsonRConstantInputWarning: An input array is constant; the correlation coefficent is not defined.\n",
      "  warnings.warn(PearsonRConstantInputWarning())\n"
     ]
    },
    {
     "name": "stdout",
     "output_type": "stream",
     "text": [
      "Epoch 289 end: 1.061697244644165, TRAIN MSE is: 2883.853515625\n",
      "Validation loss: 603862.6875000 - MSE score: 2917.2114258\n",
      "Validation pearson is: nan\n",
      "Validation r2_score is: -2.9943998930836515\n",
      "-------------------------\n"
     ]
    },
    {
     "name": "stderr",
     "output_type": "stream",
     "text": [
      "/home/mbosnjak/.conda/envs/pero/lib/python3.7/site-packages/scipy/stats/stats.py:3399: PearsonRConstantInputWarning: An input array is constant; the correlation coefficent is not defined.\n",
      "  warnings.warn(PearsonRConstantInputWarning())\n"
     ]
    },
    {
     "name": "stdout",
     "output_type": "stream",
     "text": [
      "Epoch 290 end: 1.0747299194335938, TRAIN MSE is: 2879.647705078125\n",
      "Validation loss: 602971.1875000 - MSE score: 2912.9040527\n",
      "Validation pearson is: nan\n",
      "Validation r2_score is: -2.9885024191960508\n",
      "-------------------------\n"
     ]
    },
    {
     "name": "stderr",
     "output_type": "stream",
     "text": [
      "/home/mbosnjak/.conda/envs/pero/lib/python3.7/site-packages/scipy/stats/stats.py:3399: PearsonRConstantInputWarning: An input array is constant; the correlation coefficent is not defined.\n",
      "  warnings.warn(PearsonRConstantInputWarning())\n"
     ]
    },
    {
     "name": "stdout",
     "output_type": "stream",
     "text": [
      "Epoch 291 end: 1.0852913856506348, TRAIN MSE is: 2875.38427734375\n",
      "Validation loss: 602084.8750000 - MSE score: 2908.6225586\n",
      "Validation pearson is: nan\n",
      "Validation r2_score is: -2.982639990605694\n",
      "-------------------------\n"
     ]
    },
    {
     "name": "stderr",
     "output_type": "stream",
     "text": [
      "/home/mbosnjak/.conda/envs/pero/lib/python3.7/site-packages/scipy/stats/stats.py:3399: PearsonRConstantInputWarning: An input array is constant; the correlation coefficent is not defined.\n",
      "  warnings.warn(PearsonRConstantInputWarning())\n"
     ]
    },
    {
     "name": "stdout",
     "output_type": "stream",
     "text": [
      "Epoch 292 end: 1.0862698554992676, TRAIN MSE is: 2871.14306640625\n",
      "Validation loss: 601200.0625000 - MSE score: 2904.3483887\n",
      "Validation pearson is: nan\n",
      "Validation r2_score is: -2.976787446634703\n",
      "-------------------------\n"
     ]
    },
    {
     "name": "stderr",
     "output_type": "stream",
     "text": [
      "/home/mbosnjak/.conda/envs/pero/lib/python3.7/site-packages/scipy/stats/stats.py:3399: PearsonRConstantInputWarning: An input array is constant; the correlation coefficent is not defined.\n",
      "  warnings.warn(PearsonRConstantInputWarning())\n"
     ]
    },
    {
     "name": "stdout",
     "output_type": "stream",
     "text": [
      "Epoch 293 end: 1.0649902820587158, TRAIN MSE is: 2866.922607421875\n",
      "Validation loss: 600313.5000000 - MSE score: 2900.0651855\n",
      "Validation pearson is: nan\n",
      "Validation r2_score is: -2.970922667127627\n",
      "-------------------------\n"
     ]
    },
    {
     "name": "stderr",
     "output_type": "stream",
     "text": [
      "/home/mbosnjak/.conda/envs/pero/lib/python3.7/site-packages/scipy/stats/stats.py:3399: PearsonRConstantInputWarning: An input array is constant; the correlation coefficent is not defined.\n",
      "  warnings.warn(PearsonRConstantInputWarning())\n"
     ]
    },
    {
     "name": "stdout",
     "output_type": "stream",
     "text": [
      "Epoch 294 end: 1.0547101497650146, TRAIN MSE is: 2862.69580078125\n",
      "Validation loss: 599428.7500000 - MSE score: 2895.7910156\n",
      "Validation pearson is: nan\n",
      "Validation r2_score is: -2.965070717270321\n",
      "-------------------------\n"
     ]
    },
    {
     "name": "stderr",
     "output_type": "stream",
     "text": [
      "/home/mbosnjak/.conda/envs/pero/lib/python3.7/site-packages/scipy/stats/stats.py:3399: PearsonRConstantInputWarning: An input array is constant; the correlation coefficent is not defined.\n",
      "  warnings.warn(PearsonRConstantInputWarning())\n"
     ]
    },
    {
     "name": "stdout",
     "output_type": "stream",
     "text": [
      "Epoch 295 end: 1.0675091743469238, TRAIN MSE is: 2858.46923828125\n",
      "Validation loss: 598548.0625000 - MSE score: 2891.5366211\n",
      "Validation pearson is: nan\n",
      "Validation r2_score is: -2.959244906258203\n",
      "-------------------------\n"
     ]
    },
    {
     "name": "stderr",
     "output_type": "stream",
     "text": [
      "/home/mbosnjak/.conda/envs/pero/lib/python3.7/site-packages/scipy/stats/stats.py:3399: PearsonRConstantInputWarning: An input array is constant; the correlation coefficent is not defined.\n",
      "  warnings.warn(PearsonRConstantInputWarning())\n"
     ]
    },
    {
     "name": "stdout",
     "output_type": "stream",
     "text": [
      "Epoch 296 end: 1.0648183822631836, TRAIN MSE is: 2854.26171875\n",
      "Validation loss: 597668.3125000 - MSE score: 2887.2861328\n",
      "Validation pearson is: nan\n",
      "Validation r2_score is: -2.9534255923341677\n",
      "-------------------------\n"
     ]
    },
    {
     "name": "stderr",
     "output_type": "stream",
     "text": [
      "/home/mbosnjak/.conda/envs/pero/lib/python3.7/site-packages/scipy/stats/stats.py:3399: PearsonRConstantInputWarning: An input array is constant; the correlation coefficent is not defined.\n",
      "  warnings.warn(PearsonRConstantInputWarning())\n"
     ]
    },
    {
     "name": "stdout",
     "output_type": "stream",
     "text": [
      "Epoch 297 end: 1.1054437160491943, TRAIN MSE is: 2850.0400390625\n",
      "Validation loss: 596795.3125000 - MSE score: 2883.0690918\n",
      "Validation pearson is: nan\n",
      "Validation r2_score is: -2.947651192729314\n",
      "-------------------------\n"
     ]
    },
    {
     "name": "stderr",
     "output_type": "stream",
     "text": [
      "/home/mbosnjak/.conda/envs/pero/lib/python3.7/site-packages/scipy/stats/stats.py:3399: PearsonRConstantInputWarning: An input array is constant; the correlation coefficent is not defined.\n",
      "  warnings.warn(PearsonRConstantInputWarning())\n"
     ]
    },
    {
     "name": "stdout",
     "output_type": "stream",
     "text": [
      "Epoch 298 end: 1.0553789138793945, TRAIN MSE is: 2845.894775390625\n",
      "Validation loss: 595910.7500000 - MSE score: 2878.7958984\n",
      "Validation pearson is: nan\n",
      "Validation r2_score is: -2.9418000048725483\n",
      "-------------------------\n"
     ]
    },
    {
     "name": "stderr",
     "output_type": "stream",
     "text": [
      "/home/mbosnjak/.conda/envs/pero/lib/python3.7/site-packages/scipy/stats/stats.py:3399: PearsonRConstantInputWarning: An input array is constant; the correlation coefficent is not defined.\n",
      "  warnings.warn(PearsonRConstantInputWarning())\n"
     ]
    },
    {
     "name": "stdout",
     "output_type": "stream",
     "text": [
      "Epoch 299 end: 1.0628128051757812, TRAIN MSE is: 2841.66943359375\n",
      "Validation loss: 595038.1875000 - MSE score: 2874.5805664\n",
      "Validation pearson is: nan\n",
      "Validation r2_score is: -2.936028033002635\n",
      "-------------------------\n"
     ]
    },
    {
     "name": "stderr",
     "output_type": "stream",
     "text": [
      "/home/mbosnjak/.conda/envs/pero/lib/python3.7/site-packages/scipy/stats/stats.py:3399: PearsonRConstantInputWarning: An input array is constant; the correlation coefficent is not defined.\n",
      "  warnings.warn(PearsonRConstantInputWarning())\n"
     ]
    },
    {
     "name": "stdout",
     "output_type": "stream",
     "text": [
      "Epoch 300 end: 1.1568987369537354, TRAIN MSE is: 2837.678466796875\n",
      "Validation loss: 594254.6250000 - MSE score: 2870.7949219\n",
      "Validation pearson is: nan\n",
      "Validation r2_score is: -2.9308448370286904\n",
      "-------------------------\n"
     ]
    },
    {
     "name": "stderr",
     "output_type": "stream",
     "text": [
      "/home/mbosnjak/.conda/envs/pero/lib/python3.7/site-packages/scipy/stats/stats.py:3399: PearsonRConstantInputWarning: An input array is constant; the correlation coefficent is not defined.\n",
      "  warnings.warn(PearsonRConstantInputWarning())\n"
     ]
    },
    {
     "name": "stdout",
     "output_type": "stream",
     "text": [
      "Epoch 301 end: 1.088951587677002, TRAIN MSE is: 2833.914306640625\n",
      "Validation loss: 593475.1250000 - MSE score: 2867.0295410\n",
      "Validation pearson is: nan\n",
      "Validation r2_score is: -2.92568882154915\n",
      "-------------------------\n"
     ]
    },
    {
     "name": "stderr",
     "output_type": "stream",
     "text": [
      "/home/mbosnjak/.conda/envs/pero/lib/python3.7/site-packages/scipy/stats/stats.py:3399: PearsonRConstantInputWarning: An input array is constant; the correlation coefficent is not defined.\n",
      "  warnings.warn(PearsonRConstantInputWarning())\n"
     ]
    },
    {
     "name": "stdout",
     "output_type": "stream",
     "text": [
      "Epoch 302 end: 1.0715734958648682, TRAIN MSE is: 2830.170654296875\n",
      "Validation loss: 592695.3750000 - MSE score: 2863.2626953\n",
      "Validation pearson is: nan\n",
      "Validation r2_score is: -2.9205311480187883\n",
      "-------------------------\n"
     ]
    },
    {
     "name": "stderr",
     "output_type": "stream",
     "text": [
      "/home/mbosnjak/.conda/envs/pero/lib/python3.7/site-packages/scipy/stats/stats.py:3399: PearsonRConstantInputWarning: An input array is constant; the correlation coefficent is not defined.\n",
      "  warnings.warn(PearsonRConstantInputWarning())\n"
     ]
    },
    {
     "name": "stdout",
     "output_type": "stream",
     "text": [
      "Epoch 303 end: 1.0781543254852295, TRAIN MSE is: 2826.4619140625\n",
      "Validation loss: 591908.0625000 - MSE score: 2859.4589844\n",
      "Validation pearson is: nan\n",
      "Validation r2_score is: -2.9153228667485727\n",
      "-------------------------\n"
     ]
    },
    {
     "name": "stderr",
     "output_type": "stream",
     "text": [
      "/home/mbosnjak/.conda/envs/pero/lib/python3.7/site-packages/scipy/stats/stats.py:3399: PearsonRConstantInputWarning: An input array is constant; the correlation coefficent is not defined.\n",
      "  warnings.warn(PearsonRConstantInputWarning())\n"
     ]
    },
    {
     "name": "stdout",
     "output_type": "stream",
     "text": [
      "Epoch 304 end: 1.0395119190216064, TRAIN MSE is: 2822.7041015625\n",
      "Validation loss: 591127.8750000 - MSE score: 2855.6901855\n",
      "Validation pearson is: nan\n",
      "Validation r2_score is: -2.9101623825962712\n",
      "-------------------------\n"
     ]
    },
    {
     "name": "stderr",
     "output_type": "stream",
     "text": [
      "/home/mbosnjak/.conda/envs/pero/lib/python3.7/site-packages/scipy/stats/stats.py:3399: PearsonRConstantInputWarning: An input array is constant; the correlation coefficent is not defined.\n",
      "  warnings.warn(PearsonRConstantInputWarning())\n"
     ]
    },
    {
     "name": "stdout",
     "output_type": "stream",
     "text": [
      "Epoch 305 end: 1.0869345664978027, TRAIN MSE is: 2818.95703125\n",
      "Validation loss: 590353.6250000 - MSE score: 2851.9499512\n",
      "Validation pearson is: nan\n",
      "Validation r2_score is: -2.9050405664092085\n",
      "-------------------------\n"
     ]
    },
    {
     "name": "stderr",
     "output_type": "stream",
     "text": [
      "/home/mbosnjak/.conda/envs/pero/lib/python3.7/site-packages/scipy/stats/stats.py:3399: PearsonRConstantInputWarning: An input array is constant; the correlation coefficent is not defined.\n",
      "  warnings.warn(PearsonRConstantInputWarning())\n"
     ]
    },
    {
     "name": "stdout",
     "output_type": "stream",
     "text": [
      "Epoch 306 end: 1.0675804615020752, TRAIN MSE is: 2815.285400390625\n",
      "Validation loss: 589566.6250000 - MSE score: 2848.1479492\n",
      "Validation pearson is: nan\n",
      "Validation r2_score is: -2.8998348290200204\n",
      "-------------------------\n"
     ]
    },
    {
     "name": "stderr",
     "output_type": "stream",
     "text": [
      "/home/mbosnjak/.conda/envs/pero/lib/python3.7/site-packages/scipy/stats/stats.py:3399: PearsonRConstantInputWarning: An input array is constant; the correlation coefficent is not defined.\n",
      "  warnings.warn(PearsonRConstantInputWarning())\n"
     ]
    },
    {
     "name": "stdout",
     "output_type": "stream",
     "text": [
      "Epoch 307 end: 1.075326681137085, TRAIN MSE is: 2811.525634765625\n",
      "Validation loss: 588792.3125000 - MSE score: 2844.4072266\n",
      "Validation pearson is: nan\n",
      "Validation r2_score is: -2.894713050939781\n",
      "-------------------------\n"
     ]
    },
    {
     "name": "stderr",
     "output_type": "stream",
     "text": [
      "/home/mbosnjak/.conda/envs/pero/lib/python3.7/site-packages/scipy/stats/stats.py:3399: PearsonRConstantInputWarning: An input array is constant; the correlation coefficent is not defined.\n",
      "  warnings.warn(PearsonRConstantInputWarning())\n"
     ]
    },
    {
     "name": "stdout",
     "output_type": "stream",
     "text": [
      "Epoch 308 end: 1.0676579475402832, TRAIN MSE is: 2807.813232421875\n",
      "Validation loss: 588019.3125000 - MSE score: 2840.6730957\n",
      "Validation pearson is: nan\n",
      "Validation r2_score is: -2.8896000851320798\n",
      "-------------------------\n"
     ]
    },
    {
     "name": "stderr",
     "output_type": "stream",
     "text": [
      "/home/mbosnjak/.conda/envs/pero/lib/python3.7/site-packages/scipy/stats/stats.py:3399: PearsonRConstantInputWarning: An input array is constant; the correlation coefficent is not defined.\n",
      "  warnings.warn(PearsonRConstantInputWarning())\n"
     ]
    },
    {
     "name": "stdout",
     "output_type": "stream",
     "text": [
      "Epoch 309 end: 1.0842432975769043, TRAIN MSE is: 2804.114501953125\n",
      "Validation loss: 587246.2500000 - MSE score: 2836.9384766\n",
      "Validation pearson is: nan\n",
      "Validation r2_score is: -2.884486200797335\n",
      "-------------------------\n"
     ]
    },
    {
     "name": "stderr",
     "output_type": "stream",
     "text": [
      "/home/mbosnjak/.conda/envs/pero/lib/python3.7/site-packages/scipy/stats/stats.py:3399: PearsonRConstantInputWarning: An input array is constant; the correlation coefficent is not defined.\n",
      "  warnings.warn(PearsonRConstantInputWarning())\n"
     ]
    },
    {
     "name": "stdout",
     "output_type": "stream",
     "text": [
      "Epoch 310 end: 1.0655560493469238, TRAIN MSE is: 2800.419677734375\n",
      "Validation loss: 586473.1875000 - MSE score: 2833.2036133\n",
      "Validation pearson is: nan\n",
      "Validation r2_score is: -2.8793726722449966\n",
      "-------------------------\n"
     ]
    },
    {
     "name": "stderr",
     "output_type": "stream",
     "text": [
      "/home/mbosnjak/.conda/envs/pero/lib/python3.7/site-packages/scipy/stats/stats.py:3399: PearsonRConstantInputWarning: An input array is constant; the correlation coefficent is not defined.\n",
      "  warnings.warn(PearsonRConstantInputWarning())\n"
     ]
    },
    {
     "name": "stdout",
     "output_type": "stream",
     "text": [
      "Epoch 311 end: 1.0705080032348633, TRAIN MSE is: 2796.736328125\n",
      "Validation loss: 585699.0625000 - MSE score: 2829.4643555\n",
      "Validation pearson is: nan\n",
      "Validation r2_score is: -2.874252234705927\n",
      "-------------------------\n"
     ]
    },
    {
     "name": "stderr",
     "output_type": "stream",
     "text": [
      "/home/mbosnjak/.conda/envs/pero/lib/python3.7/site-packages/scipy/stats/stats.py:3399: PearsonRConstantInputWarning: An input array is constant; the correlation coefficent is not defined.\n",
      "  warnings.warn(PearsonRConstantInputWarning())\n"
     ]
    },
    {
     "name": "stdout",
     "output_type": "stream",
     "text": [
      "Epoch 312 end: 1.0934388637542725, TRAIN MSE is: 2793.039306640625\n",
      "Validation loss: 584929.0625000 - MSE score: 2825.7446289\n",
      "Validation pearson is: nan\n",
      "Validation r2_score is: -2.8691588234993786\n",
      "-------------------------\n"
     ]
    },
    {
     "name": "stderr",
     "output_type": "stream",
     "text": [
      "/home/mbosnjak/.conda/envs/pero/lib/python3.7/site-packages/scipy/stats/stats.py:3399: PearsonRConstantInputWarning: An input array is constant; the correlation coefficent is not defined.\n",
      "  warnings.warn(PearsonRConstantInputWarning())\n"
     ]
    },
    {
     "name": "stdout",
     "output_type": "stream",
     "text": [
      "Epoch 313 end: 1.0807273387908936, TRAIN MSE is: 2789.347412109375\n",
      "Validation loss: 584163.5625000 - MSE score: 2822.0458984\n",
      "Validation pearson is: nan\n",
      "Validation r2_score is: -2.8640950391966538\n",
      "-------------------------\n"
     ]
    },
    {
     "name": "stderr",
     "output_type": "stream",
     "text": [
      "/home/mbosnjak/.conda/envs/pero/lib/python3.7/site-packages/scipy/stats/stats.py:3399: PearsonRConstantInputWarning: An input array is constant; the correlation coefficent is not defined.\n",
      "  warnings.warn(PearsonRConstantInputWarning())\n"
     ]
    },
    {
     "name": "stdout",
     "output_type": "stream",
     "text": [
      "Epoch 314 end: 1.0637023448944092, TRAIN MSE is: 2785.665283203125\n",
      "Validation loss: 583401.6875000 - MSE score: 2818.3659668\n",
      "Validation pearson is: nan\n",
      "Validation r2_score is: -2.8590554391257474\n",
      "-------------------------\n"
     ]
    },
    {
     "name": "stderr",
     "output_type": "stream",
     "text": [
      "/home/mbosnjak/.conda/envs/pero/lib/python3.7/site-packages/scipy/stats/stats.py:3399: PearsonRConstantInputWarning: An input array is constant; the correlation coefficent is not defined.\n",
      "  warnings.warn(PearsonRConstantInputWarning())\n"
     ]
    },
    {
     "name": "stdout",
     "output_type": "stream",
     "text": [
      "Epoch 315 end: 1.061523675918579, TRAIN MSE is: 2782.036865234375\n",
      "Validation loss: 582630.1875000 - MSE score: 2814.6389160\n",
      "Validation pearson is: nan\n",
      "Validation r2_score is: -2.853952201290856\n",
      "-------------------------\n"
     ]
    },
    {
     "name": "stderr",
     "output_type": "stream",
     "text": [
      "/home/mbosnjak/.conda/envs/pero/lib/python3.7/site-packages/scipy/stats/stats.py:3399: PearsonRConstantInputWarning: An input array is constant; the correlation coefficent is not defined.\n",
      "  warnings.warn(PearsonRConstantInputWarning())\n"
     ]
    },
    {
     "name": "stdout",
     "output_type": "stream",
     "text": [
      "Epoch 316 end: 1.093686819076538, TRAIN MSE is: 2778.34619140625\n",
      "Validation loss: 581867.6875000 - MSE score: 2810.9550781\n",
      "Validation pearson is: nan\n",
      "Validation r2_score is: -2.8489087296803017\n",
      "-------------------------\n"
     ]
    },
    {
     "name": "stderr",
     "output_type": "stream",
     "text": [
      "/home/mbosnjak/.conda/envs/pero/lib/python3.7/site-packages/scipy/stats/stats.py:3399: PearsonRConstantInputWarning: An input array is constant; the correlation coefficent is not defined.\n",
      "  warnings.warn(PearsonRConstantInputWarning())\n"
     ]
    },
    {
     "name": "stdout",
     "output_type": "stream",
     "text": [
      "Epoch 317 end: 1.0889441967010498, TRAIN MSE is: 2774.6982421875\n",
      "Validation loss: 581104.3750000 - MSE score: 2807.2678223\n",
      "Validation pearson is: nan\n",
      "Validation r2_score is: -2.8438597414954154\n",
      "-------------------------\n"
     ]
    },
    {
     "name": "stderr",
     "output_type": "stream",
     "text": [
      "/home/mbosnjak/.conda/envs/pero/lib/python3.7/site-packages/scipy/stats/stats.py:3399: PearsonRConstantInputWarning: An input array is constant; the correlation coefficent is not defined.\n",
      "  warnings.warn(PearsonRConstantInputWarning())\n"
     ]
    },
    {
     "name": "stdout",
     "output_type": "stream",
     "text": [
      "Epoch 318 end: 1.0833022594451904, TRAIN MSE is: 2771.0810546875\n",
      "Validation loss: 580333.9375000 - MSE score: 2803.5456543\n",
      "Validation pearson is: nan\n",
      "Validation r2_score is: -2.8387631226043846\n",
      "-------------------------\n"
     ]
    },
    {
     "name": "stderr",
     "output_type": "stream",
     "text": [
      "/home/mbosnjak/.conda/envs/pero/lib/python3.7/site-packages/scipy/stats/stats.py:3399: PearsonRConstantInputWarning: An input array is constant; the correlation coefficent is not defined.\n",
      "  warnings.warn(PearsonRConstantInputWarning())\n"
     ]
    },
    {
     "name": "stdout",
     "output_type": "stream",
     "text": [
      "Epoch 319 end: 1.093165397644043, TRAIN MSE is: 2767.4111328125\n",
      "Validation loss: 579571.7500000 - MSE score: 2799.8635254\n",
      "Validation pearson is: nan\n",
      "Validation r2_score is: -2.833721440814379\n",
      "-------------------------\n"
     ]
    },
    {
     "name": "stderr",
     "output_type": "stream",
     "text": [
      "/home/mbosnjak/.conda/envs/pero/lib/python3.7/site-packages/scipy/stats/stats.py:3399: PearsonRConstantInputWarning: An input array is constant; the correlation coefficent is not defined.\n",
      "  warnings.warn(PearsonRConstantInputWarning())\n"
     ]
    },
    {
     "name": "stdout",
     "output_type": "stream",
     "text": [
      "Epoch 320 end: 1.0740470886230469, TRAIN MSE is: 2763.76513671875\n",
      "Validation loss: 578813.2500000 - MSE score: 2796.1994629\n",
      "Validation pearson is: nan\n",
      "Validation r2_score is: -2.828704223994281\n",
      "-------------------------\n"
     ]
    },
    {
     "name": "stderr",
     "output_type": "stream",
     "text": [
      "/home/mbosnjak/.conda/envs/pero/lib/python3.7/site-packages/scipy/stats/stats.py:3399: PearsonRConstantInputWarning: An input array is constant; the correlation coefficent is not defined.\n",
      "  warnings.warn(PearsonRConstantInputWarning())\n"
     ]
    },
    {
     "name": "stdout",
     "output_type": "stream",
     "text": [
      "Epoch 321 end: 1.0633981227874756, TRAIN MSE is: 2760.15673828125\n",
      "Validation loss: 578050.1250000 - MSE score: 2792.5126953\n",
      "Validation pearson is: nan\n",
      "Validation r2_score is: -2.823656366914718\n",
      "-------------------------\n"
     ]
    },
    {
     "name": "stderr",
     "output_type": "stream",
     "text": [
      "/home/mbosnjak/.conda/envs/pero/lib/python3.7/site-packages/scipy/stats/stats.py:3399: PearsonRConstantInputWarning: An input array is constant; the correlation coefficent is not defined.\n",
      "  warnings.warn(PearsonRConstantInputWarning())\n"
     ]
    },
    {
     "name": "stdout",
     "output_type": "stream",
     "text": [
      "Epoch 322 end: 1.0643401145935059, TRAIN MSE is: 2756.484375\n",
      "Validation loss: 577301.1875000 - MSE score: 2788.8945312\n",
      "Validation pearson is: nan\n",
      "Validation r2_score is: -2.8187020703987407\n",
      "-------------------------\n"
     ]
    },
    {
     "name": "stderr",
     "output_type": "stream",
     "text": [
      "/home/mbosnjak/.conda/envs/pero/lib/python3.7/site-packages/scipy/stats/stats.py:3399: PearsonRConstantInputWarning: An input array is constant; the correlation coefficent is not defined.\n",
      "  warnings.warn(PearsonRConstantInputWarning())\n"
     ]
    },
    {
     "name": "stdout",
     "output_type": "stream",
     "text": [
      "Epoch 323 end: 1.0608596801757812, TRAIN MSE is: 2752.8837890625\n",
      "Validation loss: 576548.2500000 - MSE score: 2785.2573242\n",
      "Validation pearson is: nan\n",
      "Validation r2_score is: -2.8137218157269603\n",
      "-------------------------\n"
     ]
    },
    {
     "name": "stderr",
     "output_type": "stream",
     "text": [
      "/home/mbosnjak/.conda/envs/pero/lib/python3.7/site-packages/scipy/stats/stats.py:3399: PearsonRConstantInputWarning: An input array is constant; the correlation coefficent is not defined.\n",
      "  warnings.warn(PearsonRConstantInputWarning())\n"
     ]
    },
    {
     "name": "stdout",
     "output_type": "stream",
     "text": [
      "Epoch 324 end: 1.0733861923217773, TRAIN MSE is: 2749.309814453125\n",
      "Validation loss: 575786.4375000 - MSE score: 2781.5773926\n",
      "Validation pearson is: nan\n",
      "Validation r2_score is: -2.8086826105401017\n",
      "-------------------------\n"
     ]
    },
    {
     "name": "stderr",
     "output_type": "stream",
     "text": [
      "/home/mbosnjak/.conda/envs/pero/lib/python3.7/site-packages/scipy/stats/stats.py:3399: PearsonRConstantInputWarning: An input array is constant; the correlation coefficent is not defined.\n",
      "  warnings.warn(PearsonRConstantInputWarning())\n"
     ]
    },
    {
     "name": "stdout",
     "output_type": "stream",
     "text": [
      "Epoch 325 end: 1.0626213550567627, TRAIN MSE is: 2745.67138671875\n",
      "Validation loss: 575034.5000000 - MSE score: 2777.9440918\n",
      "Validation pearson is: nan\n",
      "Validation r2_score is: -2.8037085848474126\n",
      "-------------------------\n"
     ]
    },
    {
     "name": "stderr",
     "output_type": "stream",
     "text": [
      "/home/mbosnjak/.conda/envs/pero/lib/python3.7/site-packages/scipy/stats/stats.py:3399: PearsonRConstantInputWarning: An input array is constant; the correlation coefficent is not defined.\n",
      "  warnings.warn(PearsonRConstantInputWarning())\n"
     ]
    },
    {
     "name": "stdout",
     "output_type": "stream",
     "text": [
      "Epoch 326 end: 1.061729907989502, TRAIN MSE is: 2742.067138671875\n",
      "Validation loss: 574284.6875000 - MSE score: 2774.3222656\n",
      "Validation pearson is: nan\n",
      "Validation r2_score is: -2.798748727479675\n",
      "-------------------------\n"
     ]
    },
    {
     "name": "stderr",
     "output_type": "stream",
     "text": [
      "/home/mbosnjak/.conda/envs/pero/lib/python3.7/site-packages/scipy/stats/stats.py:3399: PearsonRConstantInputWarning: An input array is constant; the correlation coefficent is not defined.\n",
      "  warnings.warn(PearsonRConstantInputWarning())\n"
     ]
    },
    {
     "name": "stdout",
     "output_type": "stream",
     "text": [
      "Epoch 327 end: 1.060572624206543, TRAIN MSE is: 2738.48583984375\n",
      "Validation loss: 573532.5625000 - MSE score: 2770.6889648\n",
      "Validation pearson is: nan\n",
      "Validation r2_score is: -2.7937741049038025\n",
      "-------------------------\n"
     ]
    },
    {
     "name": "stderr",
     "output_type": "stream",
     "text": [
      "/home/mbosnjak/.conda/envs/pero/lib/python3.7/site-packages/scipy/stats/stats.py:3399: PearsonRConstantInputWarning: An input array is constant; the correlation coefficent is not defined.\n",
      "  warnings.warn(PearsonRConstantInputWarning())\n"
     ]
    },
    {
     "name": "stdout",
     "output_type": "stream",
     "text": [
      "Epoch 328 end: 1.069640874862671, TRAIN MSE is: 2734.894775390625\n",
      "Validation loss: 572782.6875000 - MSE score: 2767.0659180\n",
      "Validation pearson is: nan\n",
      "Validation r2_score is: -2.788813200560067\n",
      "-------------------------\n"
     ]
    },
    {
     "name": "stderr",
     "output_type": "stream",
     "text": [
      "/home/mbosnjak/.conda/envs/pero/lib/python3.7/site-packages/scipy/stats/stats.py:3399: PearsonRConstantInputWarning: An input array is constant; the correlation coefficent is not defined.\n",
      "  warnings.warn(PearsonRConstantInputWarning())\n"
     ]
    },
    {
     "name": "stdout",
     "output_type": "stream",
     "text": [
      "Epoch 329 end: 1.1074798107147217, TRAIN MSE is: 2731.3056640625\n",
      "Validation loss: 572035.8750000 - MSE score: 2763.4582520\n",
      "Validation pearson is: nan\n",
      "Validation r2_score is: -2.7838735410635014\n",
      "-------------------------\n"
     ]
    },
    {
     "name": "stderr",
     "output_type": "stream",
     "text": [
      "/home/mbosnjak/.conda/envs/pero/lib/python3.7/site-packages/scipy/stats/stats.py:3399: PearsonRConstantInputWarning: An input array is constant; the correlation coefficent is not defined.\n",
      "  warnings.warn(PearsonRConstantInputWarning())\n"
     ]
    },
    {
     "name": "stdout",
     "output_type": "stream",
     "text": [
      "Epoch 330 end: 1.0587689876556396, TRAIN MSE is: 2727.74755859375\n",
      "Validation loss: 571285.3750000 - MSE score: 2759.8327637\n",
      "Validation pearson is: nan\n",
      "Validation r2_score is: -2.7789091465229965\n",
      "-------------------------\n"
     ]
    },
    {
     "name": "stderr",
     "output_type": "stream",
     "text": [
      "/home/mbosnjak/.conda/envs/pero/lib/python3.7/site-packages/scipy/stats/stats.py:3399: PearsonRConstantInputWarning: An input array is constant; the correlation coefficent is not defined.\n",
      "  warnings.warn(PearsonRConstantInputWarning())\n"
     ]
    },
    {
     "name": "stdout",
     "output_type": "stream",
     "text": [
      "Epoch 331 end: 1.0692765712738037, TRAIN MSE is: 2724.1591796875\n",
      "Validation loss: 570541.1875000 - MSE score: 2756.2380371\n",
      "Validation pearson is: nan\n",
      "Validation r2_score is: -2.773986755181486\n",
      "-------------------------\n"
     ]
    },
    {
     "name": "stderr",
     "output_type": "stream",
     "text": [
      "/home/mbosnjak/.conda/envs/pero/lib/python3.7/site-packages/scipy/stats/stats.py:3399: PearsonRConstantInputWarning: An input array is constant; the correlation coefficent is not defined.\n",
      "  warnings.warn(PearsonRConstantInputWarning())\n"
     ]
    },
    {
     "name": "stdout",
     "output_type": "stream",
     "text": [
      "Epoch 332 end: 1.053187370300293, TRAIN MSE is: 2720.60107421875\n",
      "Validation loss: 569796.8125000 - MSE score: 2752.6420898\n",
      "Validation pearson is: nan\n",
      "Validation r2_score is: -2.7690631043176954\n",
      "-------------------------\n"
     ]
    },
    {
     "name": "stderr",
     "output_type": "stream",
     "text": [
      "/home/mbosnjak/.conda/envs/pero/lib/python3.7/site-packages/scipy/stats/stats.py:3399: PearsonRConstantInputWarning: An input array is constant; the correlation coefficent is not defined.\n",
      "  warnings.warn(PearsonRConstantInputWarning())\n"
     ]
    },
    {
     "name": "stdout",
     "output_type": "stream",
     "text": [
      "Epoch 333 end: 1.0869755744934082, TRAIN MSE is: 2717.03955078125\n",
      "Validation loss: 569054.8125000 - MSE score: 2749.0568848\n",
      "Validation pearson is: nan\n",
      "Validation r2_score is: -2.7641541661259916\n",
      "-------------------------\n"
     ]
    },
    {
     "name": "stderr",
     "output_type": "stream",
     "text": [
      "/home/mbosnjak/.conda/envs/pero/lib/python3.7/site-packages/scipy/stats/stats.py:3399: PearsonRConstantInputWarning: An input array is constant; the correlation coefficent is not defined.\n",
      "  warnings.warn(PearsonRConstantInputWarning())\n"
     ]
    },
    {
     "name": "stdout",
     "output_type": "stream",
     "text": [
      "Epoch 334 end: 1.1203255653381348, TRAIN MSE is: 2713.49267578125\n",
      "Validation loss: 568312.5625000 - MSE score: 2745.4716797\n",
      "Validation pearson is: nan\n",
      "Validation r2_score is: -2.759244837984957\n",
      "-------------------------\n"
     ]
    },
    {
     "name": "stderr",
     "output_type": "stream",
     "text": [
      "/home/mbosnjak/.conda/envs/pero/lib/python3.7/site-packages/scipy/stats/stats.py:3399: PearsonRConstantInputWarning: An input array is constant; the correlation coefficent is not defined.\n",
      "  warnings.warn(PearsonRConstantInputWarning())\n"
     ]
    },
    {
     "name": "stdout",
     "output_type": "stream",
     "text": [
      "Epoch 335 end: 1.0850093364715576, TRAIN MSE is: 2709.958740234375\n",
      "Validation loss: 567568.5000000 - MSE score: 2741.8767090\n",
      "Validation pearson is: nan\n",
      "Validation r2_score is: -2.7543228935217794\n",
      "-------------------------\n"
     ]
    },
    {
     "name": "stderr",
     "output_type": "stream",
     "text": [
      "/home/mbosnjak/.conda/envs/pero/lib/python3.7/site-packages/scipy/stats/stats.py:3399: PearsonRConstantInputWarning: An input array is constant; the correlation coefficent is not defined.\n",
      "  warnings.warn(PearsonRConstantInputWarning())\n"
     ]
    },
    {
     "name": "stdout",
     "output_type": "stream",
     "text": [
      "Epoch 336 end: 1.0804047584533691, TRAIN MSE is: 2706.3935546875\n",
      "Validation loss: 566832.6250000 - MSE score: 2738.3217773\n",
      "Validation pearson is: nan\n",
      "Validation r2_score is: -2.749455318009097\n",
      "-------------------------\n"
     ]
    },
    {
     "name": "stderr",
     "output_type": "stream",
     "text": [
      "/home/mbosnjak/.conda/envs/pero/lib/python3.7/site-packages/scipy/stats/stats.py:3399: PearsonRConstantInputWarning: An input array is constant; the correlation coefficent is not defined.\n",
      "  warnings.warn(PearsonRConstantInputWarning())\n"
     ]
    },
    {
     "name": "stdout",
     "output_type": "stream",
     "text": [
      "Epoch 337 end: 1.0733642578125, TRAIN MSE is: 2702.869140625\n",
      "Validation loss: 566095.5625000 - MSE score: 2734.7612305\n",
      "Validation pearson is: nan\n",
      "Validation r2_score is: -2.7445796963089752\n",
      "-------------------------\n"
     ]
    },
    {
     "name": "stderr",
     "output_type": "stream",
     "text": [
      "/home/mbosnjak/.conda/envs/pero/lib/python3.7/site-packages/scipy/stats/stats.py:3399: PearsonRConstantInputWarning: An input array is constant; the correlation coefficent is not defined.\n",
      "  warnings.warn(PearsonRConstantInputWarning())\n"
     ]
    },
    {
     "name": "stdout",
     "output_type": "stream",
     "text": [
      "Epoch 338 end: 1.0985465049743652, TRAIN MSE is: 2699.34130859375\n",
      "Validation loss: 565360.0000000 - MSE score: 2731.2077637\n",
      "Validation pearson is: nan\n",
      "Validation r2_score is: -2.7397140313556907\n",
      "-------------------------\n"
     ]
    },
    {
     "name": "stderr",
     "output_type": "stream",
     "text": [
      "/home/mbosnjak/.conda/envs/pero/lib/python3.7/site-packages/scipy/stats/stats.py:3399: PearsonRConstantInputWarning: An input array is constant; the correlation coefficent is not defined.\n",
      "  warnings.warn(PearsonRConstantInputWarning())\n"
     ]
    },
    {
     "name": "stdout",
     "output_type": "stream",
     "text": [
      "Epoch 339 end: 1.0770771503448486, TRAIN MSE is: 2695.82373046875\n",
      "Validation loss: 564624.6250000 - MSE score: 2727.6547852\n",
      "Validation pearson is: nan\n",
      "Validation r2_score is: -2.734849843540291\n",
      "-------------------------\n"
     ]
    },
    {
     "name": "stderr",
     "output_type": "stream",
     "text": [
      "/home/mbosnjak/.conda/envs/pero/lib/python3.7/site-packages/scipy/stats/stats.py:3399: PearsonRConstantInputWarning: An input array is constant; the correlation coefficent is not defined.\n",
      "  warnings.warn(PearsonRConstantInputWarning())\n"
     ]
    },
    {
     "name": "stdout",
     "output_type": "stream",
     "text": [
      "Epoch 340 end: 1.0766074657440186, TRAIN MSE is: 2692.3193359375\n",
      "Validation loss: 563887.6875000 - MSE score: 2724.0947266\n",
      "Validation pearson is: nan\n",
      "Validation r2_score is: -2.729975028387523\n",
      "-------------------------\n"
     ]
    },
    {
     "name": "stderr",
     "output_type": "stream",
     "text": [
      "/home/mbosnjak/.conda/envs/pero/lib/python3.7/site-packages/scipy/stats/stats.py:3399: PearsonRConstantInputWarning: An input array is constant; the correlation coefficent is not defined.\n",
      "  warnings.warn(PearsonRConstantInputWarning())\n"
     ]
    },
    {
     "name": "stdout",
     "output_type": "stream",
     "text": [
      "Epoch 341 end: 1.1014149188995361, TRAIN MSE is: 2688.780029296875\n",
      "Validation loss: 563159.9375000 - MSE score: 2720.5793457\n",
      "Validation pearson is: nan\n",
      "Validation r2_score is: -2.7251615200690202\n",
      "-------------------------\n"
     ]
    },
    {
     "name": "stderr",
     "output_type": "stream",
     "text": [
      "/home/mbosnjak/.conda/envs/pero/lib/python3.7/site-packages/scipy/stats/stats.py:3399: PearsonRConstantInputWarning: An input array is constant; the correlation coefficent is not defined.\n",
      "  warnings.warn(PearsonRConstantInputWarning())\n"
     ]
    },
    {
     "name": "stdout",
     "output_type": "stream",
     "text": [
      "Epoch 342 end: 1.0857393741607666, TRAIN MSE is: 2685.309326171875\n",
      "Validation loss: 562424.5625000 - MSE score: 2717.0270996\n",
      "Validation pearson is: nan\n",
      "Validation r2_score is: -2.720296963962315\n",
      "-------------------------\n"
     ]
    },
    {
     "name": "stderr",
     "output_type": "stream",
     "text": [
      "/home/mbosnjak/.conda/envs/pero/lib/python3.7/site-packages/scipy/stats/stats.py:3399: PearsonRConstantInputWarning: An input array is constant; the correlation coefficent is not defined.\n",
      "  warnings.warn(PearsonRConstantInputWarning())\n"
     ]
    },
    {
     "name": "stdout",
     "output_type": "stream",
     "text": [
      "Epoch 343 end: 1.0719025135040283, TRAIN MSE is: 2681.79248046875\n",
      "Validation loss: 561695.6250000 - MSE score: 2713.5053711\n",
      "Validation pearson is: nan\n",
      "Validation r2_score is: -2.7154753978857387\n",
      "-------------------------\n"
     ]
    },
    {
     "name": "stderr",
     "output_type": "stream",
     "text": [
      "/home/mbosnjak/.conda/envs/pero/lib/python3.7/site-packages/scipy/stats/stats.py:3399: PearsonRConstantInputWarning: An input array is constant; the correlation coefficent is not defined.\n",
      "  warnings.warn(PearsonRConstantInputWarning())\n"
     ]
    },
    {
     "name": "stdout",
     "output_type": "stream",
     "text": [
      "Epoch 344 end: 1.1097562313079834, TRAIN MSE is: 2678.3310546875\n",
      "Validation loss: 560960.0000000 - MSE score: 2709.9523926\n",
      "Validation pearson is: nan\n",
      "Validation r2_score is: -2.7106096398568025\n",
      "-------------------------\n"
     ]
    },
    {
     "name": "stderr",
     "output_type": "stream",
     "text": [
      "/home/mbosnjak/.conda/envs/pero/lib/python3.7/site-packages/scipy/stats/stats.py:3399: PearsonRConstantInputWarning: An input array is constant; the correlation coefficent is not defined.\n",
      "  warnings.warn(PearsonRConstantInputWarning())\n"
     ]
    },
    {
     "name": "stdout",
     "output_type": "stream",
     "text": [
      "Epoch 345 end: 1.0824205875396729, TRAIN MSE is: 2674.80810546875\n",
      "Validation loss: 560235.8750000 - MSE score: 2706.4538574\n",
      "Validation pearson is: nan\n",
      "Validation r2_score is: -2.705819630030114\n",
      "-------------------------\n"
     ]
    },
    {
     "name": "stderr",
     "output_type": "stream",
     "text": [
      "/home/mbosnjak/.conda/envs/pero/lib/python3.7/site-packages/scipy/stats/stats.py:3399: PearsonRConstantInputWarning: An input array is constant; the correlation coefficent is not defined.\n",
      "  warnings.warn(PearsonRConstantInputWarning())\n"
     ]
    },
    {
     "name": "stdout",
     "output_type": "stream",
     "text": [
      "Epoch 346 end: 1.0649690628051758, TRAIN MSE is: 2671.340087890625\n",
      "Validation loss: 559510.0000000 - MSE score: 2702.9467773\n",
      "Validation pearson is: nan\n",
      "Validation r2_score is: -2.7010180937339174\n",
      "-------------------------\n"
     ]
    },
    {
     "name": "stderr",
     "output_type": "stream",
     "text": [
      "/home/mbosnjak/.conda/envs/pero/lib/python3.7/site-packages/scipy/stats/stats.py:3399: PearsonRConstantInputWarning: An input array is constant; the correlation coefficent is not defined.\n",
      "  warnings.warn(PearsonRConstantInputWarning())\n"
     ]
    },
    {
     "name": "stdout",
     "output_type": "stream",
     "text": [
      "Epoch 347 end: 1.07004714012146, TRAIN MSE is: 2667.85888671875\n",
      "Validation loss: 558787.6250000 - MSE score: 2699.4567871\n",
      "Validation pearson is: nan\n",
      "Validation r2_score is: -2.696239431896346\n",
      "-------------------------\n"
     ]
    },
    {
     "name": "stderr",
     "output_type": "stream",
     "text": [
      "/home/mbosnjak/.conda/envs/pero/lib/python3.7/site-packages/scipy/stats/stats.py:3399: PearsonRConstantInputWarning: An input array is constant; the correlation coefficent is not defined.\n",
      "  warnings.warn(PearsonRConstantInputWarning())\n"
     ]
    },
    {
     "name": "stdout",
     "output_type": "stream",
     "text": [
      "Epoch 348 end: 1.0547070503234863, TRAIN MSE is: 2664.419189453125\n",
      "Validation loss: 558058.8125000 - MSE score: 2695.9360352\n",
      "Validation pearson is: nan\n",
      "Validation r2_score is: -2.6914187324871475\n",
      "-------------------------\n"
     ]
    },
    {
     "name": "stderr",
     "output_type": "stream",
     "text": [
      "/home/mbosnjak/.conda/envs/pero/lib/python3.7/site-packages/scipy/stats/stats.py:3399: PearsonRConstantInputWarning: An input array is constant; the correlation coefficent is not defined.\n",
      "  warnings.warn(PearsonRConstantInputWarning())\n"
     ]
    },
    {
     "name": "stdout",
     "output_type": "stream",
     "text": [
      "Epoch 349 end: 1.0617294311523438, TRAIN MSE is: 2660.94091796875\n",
      "Validation loss: 557335.8125000 - MSE score: 2692.4436035\n",
      "Validation pearson is: nan\n",
      "Validation r2_score is: -2.686636396363731\n",
      "-------------------------\n"
     ]
    },
    {
     "name": "stderr",
     "output_type": "stream",
     "text": [
      "/home/mbosnjak/.conda/envs/pero/lib/python3.7/site-packages/scipy/stats/stats.py:3399: PearsonRConstantInputWarning: An input array is constant; the correlation coefficent is not defined.\n",
      "  warnings.warn(PearsonRConstantInputWarning())\n"
     ]
    },
    {
     "name": "stdout",
     "output_type": "stream",
     "text": [
      "Epoch 350 end: 1.073258876800537, TRAIN MSE is: 2657.493408203125\n",
      "Validation loss: 556612.0000000 - MSE score: 2688.9467773\n",
      "Validation pearson is: nan\n",
      "Validation r2_score is: -2.6818482944262487\n",
      "-------------------------\n"
     ]
    },
    {
     "name": "stderr",
     "output_type": "stream",
     "text": [
      "/home/mbosnjak/.conda/envs/pero/lib/python3.7/site-packages/scipy/stats/stats.py:3399: PearsonRConstantInputWarning: An input array is constant; the correlation coefficent is not defined.\n",
      "  warnings.warn(PearsonRConstantInputWarning())\n"
     ]
    },
    {
     "name": "stdout",
     "output_type": "stream",
     "text": [
      "Epoch 351 end: 1.0703589916229248, TRAIN MSE is: 2654.0205078125\n",
      "Validation loss: 555896.0625000 - MSE score: 2685.4882812\n",
      "Validation pearson is: nan\n",
      "Validation r2_score is: -2.677112438814985\n",
      "-------------------------\n"
     ]
    },
    {
     "name": "stderr",
     "output_type": "stream",
     "text": [
      "/home/mbosnjak/.conda/envs/pero/lib/python3.7/site-packages/scipy/stats/stats.py:3399: PearsonRConstantInputWarning: An input array is constant; the correlation coefficent is not defined.\n",
      "  warnings.warn(PearsonRConstantInputWarning())\n"
     ]
    },
    {
     "name": "stdout",
     "output_type": "stream",
     "text": [
      "Epoch 352 end: 1.0569512844085693, TRAIN MSE is: 2650.58056640625\n",
      "Validation loss: 555180.3125000 - MSE score: 2682.0305176\n",
      "Validation pearson is: nan\n",
      "Validation r2_score is: -2.6723780701485733\n",
      "-------------------------\n"
     ]
    },
    {
     "name": "stderr",
     "output_type": "stream",
     "text": [
      "/home/mbosnjak/.conda/envs/pero/lib/python3.7/site-packages/scipy/stats/stats.py:3399: PearsonRConstantInputWarning: An input array is constant; the correlation coefficent is not defined.\n",
      "  warnings.warn(PearsonRConstantInputWarning())\n"
     ]
    },
    {
     "name": "stdout",
     "output_type": "stream",
     "text": [
      "Epoch 353 end: 1.0969266891479492, TRAIN MSE is: 2647.181884765625\n",
      "Validation loss: 554455.2500000 - MSE score: 2678.5278320\n",
      "Validation pearson is: nan\n",
      "Validation r2_score is: -2.667582315787049\n",
      "-------------------------\n"
     ]
    },
    {
     "name": "stderr",
     "output_type": "stream",
     "text": [
      "/home/mbosnjak/.conda/envs/pero/lib/python3.7/site-packages/scipy/stats/stats.py:3399: PearsonRConstantInputWarning: An input array is constant; the correlation coefficent is not defined.\n",
      "  warnings.warn(PearsonRConstantInputWarning())\n"
     ]
    },
    {
     "name": "stdout",
     "output_type": "stream",
     "text": [
      "Epoch 354 end: 1.075631856918335, TRAIN MSE is: 2643.72216796875\n",
      "Validation loss: 553739.1250000 - MSE score: 2675.0686035\n",
      "Validation pearson is: nan\n",
      "Validation r2_score is: -2.6628453275976174\n",
      "-------------------------\n"
     ]
    },
    {
     "name": "stderr",
     "output_type": "stream",
     "text": [
      "/home/mbosnjak/.conda/envs/pero/lib/python3.7/site-packages/scipy/stats/stats.py:3399: PearsonRConstantInputWarning: An input array is constant; the correlation coefficent is not defined.\n",
      "  warnings.warn(PearsonRConstantInputWarning())\n"
     ]
    },
    {
     "name": "stdout",
     "output_type": "stream",
     "text": [
      "Epoch 355 end: 1.0846021175384521, TRAIN MSE is: 2640.29638671875\n",
      "Validation loss: 553024.5000000 - MSE score: 2671.6159668\n",
      "Validation pearson is: nan\n",
      "Validation r2_score is: -2.6581179870034886\n",
      "-------------------------\n"
     ]
    },
    {
     "name": "stderr",
     "output_type": "stream",
     "text": [
      "/home/mbosnjak/.conda/envs/pero/lib/python3.7/site-packages/scipy/stats/stats.py:3399: PearsonRConstantInputWarning: An input array is constant; the correlation coefficent is not defined.\n",
      "  warnings.warn(PearsonRConstantInputWarning())\n"
     ]
    },
    {
     "name": "stdout",
     "output_type": "stream",
     "text": [
      "Epoch 356 end: 1.0905952453613281, TRAIN MSE is: 2636.878662109375\n",
      "Validation loss: 552310.5000000 - MSE score: 2668.1660156\n",
      "Validation pearson is: nan\n",
      "Validation r2_score is: -2.653394915715365\n",
      "-------------------------\n"
     ]
    },
    {
     "name": "stderr",
     "output_type": "stream",
     "text": [
      "/home/mbosnjak/.conda/envs/pero/lib/python3.7/site-packages/scipy/stats/stats.py:3399: PearsonRConstantInputWarning: An input array is constant; the correlation coefficent is not defined.\n",
      "  warnings.warn(PearsonRConstantInputWarning())\n"
     ]
    },
    {
     "name": "stdout",
     "output_type": "stream",
     "text": [
      "Epoch 357 end: 1.1102309226989746, TRAIN MSE is: 2633.478759765625\n",
      "Validation loss: 551593.8750000 - MSE score: 2664.7043457\n",
      "Validation pearson is: nan\n",
      "Validation r2_score is: -2.6486546948792546\n",
      "-------------------------\n"
     ]
    },
    {
     "name": "stderr",
     "output_type": "stream",
     "text": [
      "/home/mbosnjak/.conda/envs/pero/lib/python3.7/site-packages/scipy/stats/stats.py:3399: PearsonRConstantInputWarning: An input array is constant; the correlation coefficent is not defined.\n",
      "  warnings.warn(PearsonRConstantInputWarning())\n"
     ]
    },
    {
     "name": "stdout",
     "output_type": "stream",
     "text": [
      "Epoch 358 end: 1.0859549045562744, TRAIN MSE is: 2630.049560546875\n",
      "Validation loss: 550884.3125000 - MSE score: 2661.2768555\n",
      "Validation pearson is: nan\n",
      "Validation r2_score is: -2.643961338166015\n",
      "-------------------------\n"
     ]
    },
    {
     "name": "stderr",
     "output_type": "stream",
     "text": [
      "/home/mbosnjak/.conda/envs/pero/lib/python3.7/site-packages/scipy/stats/stats.py:3399: PearsonRConstantInputWarning: An input array is constant; the correlation coefficent is not defined.\n",
      "  warnings.warn(PearsonRConstantInputWarning())\n"
     ]
    },
    {
     "name": "stdout",
     "output_type": "stream",
     "text": [
      "Epoch 359 end: 1.0864880084991455, TRAIN MSE is: 2626.645263671875\n",
      "Validation loss: 550176.6250000 - MSE score: 2657.8583984\n",
      "Validation pearson is: nan\n",
      "Validation r2_score is: -2.639280188349463\n",
      "-------------------------\n"
     ]
    },
    {
     "name": "stderr",
     "output_type": "stream",
     "text": [
      "/home/mbosnjak/.conda/envs/pero/lib/python3.7/site-packages/scipy/stats/stats.py:3399: PearsonRConstantInputWarning: An input array is constant; the correlation coefficent is not defined.\n",
      "  warnings.warn(PearsonRConstantInputWarning())\n"
     ]
    },
    {
     "name": "stdout",
     "output_type": "stream",
     "text": [
      "Epoch 360 end: 1.094419240951538, TRAIN MSE is: 2623.27685546875\n",
      "Validation loss: 549462.8125000 - MSE score: 2654.4094238\n",
      "Validation pearson is: nan\n",
      "Validation r2_score is: -2.6345582201725457\n",
      "-------------------------\n"
     ]
    },
    {
     "name": "stderr",
     "output_type": "stream",
     "text": [
      "/home/mbosnjak/.conda/envs/pero/lib/python3.7/site-packages/scipy/stats/stats.py:3399: PearsonRConstantInputWarning: An input array is constant; the correlation coefficent is not defined.\n",
      "  warnings.warn(PearsonRConstantInputWarning())\n"
     ]
    },
    {
     "name": "stdout",
     "output_type": "stream",
     "text": [
      "Epoch 361 end: 1.0763435363769531, TRAIN MSE is: 2619.89404296875\n",
      "Validation loss: 548748.1875000 - MSE score: 2650.9577637\n",
      "Validation pearson is: nan\n",
      "Validation r2_score is: -2.6298313972546006\n",
      "-------------------------\n"
     ]
    },
    {
     "name": "stderr",
     "output_type": "stream",
     "text": [
      "/home/mbosnjak/.conda/envs/pero/lib/python3.7/site-packages/scipy/stats/stats.py:3399: PearsonRConstantInputWarning: An input array is constant; the correlation coefficent is not defined.\n",
      "  warnings.warn(PearsonRConstantInputWarning())\n"
     ]
    },
    {
     "name": "stdout",
     "output_type": "stream",
     "text": [
      "Epoch 362 end: 1.0767052173614502, TRAIN MSE is: 2616.492919921875\n",
      "Validation loss: 548039.5000000 - MSE score: 2647.5341797\n",
      "Validation pearson is: nan\n",
      "Validation r2_score is: -2.625143593271873\n",
      "-------------------------\n"
     ]
    },
    {
     "name": "stderr",
     "output_type": "stream",
     "text": [
      "/home/mbosnjak/.conda/envs/pero/lib/python3.7/site-packages/scipy/stats/stats.py:3399: PearsonRConstantInputWarning: An input array is constant; the correlation coefficent is not defined.\n",
      "  warnings.warn(PearsonRConstantInputWarning())\n"
     ]
    },
    {
     "name": "stdout",
     "output_type": "stream",
     "text": [
      "Epoch 363 end: 1.0893175601959229, TRAIN MSE is: 2613.08251953125\n",
      "Validation loss: 547340.6875000 - MSE score: 2644.1579590\n",
      "Validation pearson is: nan\n",
      "Validation r2_score is: -2.620521121171316\n",
      "-------------------------\n"
     ]
    },
    {
     "name": "stderr",
     "output_type": "stream",
     "text": [
      "/home/mbosnjak/.conda/envs/pero/lib/python3.7/site-packages/scipy/stats/stats.py:3399: PearsonRConstantInputWarning: An input array is constant; the correlation coefficent is not defined.\n",
      "  warnings.warn(PearsonRConstantInputWarning())\n"
     ]
    },
    {
     "name": "stdout",
     "output_type": "stream",
     "text": [
      "Epoch 364 end: 1.0847609043121338, TRAIN MSE is: 2609.728759765625\n",
      "Validation loss: 546637.9375000 - MSE score: 2640.7629395\n",
      "Validation pearson is: nan\n",
      "Validation r2_score is: -2.615872708895684\n",
      "-------------------------\n"
     ]
    },
    {
     "name": "stderr",
     "output_type": "stream",
     "text": [
      "/home/mbosnjak/.conda/envs/pero/lib/python3.7/site-packages/scipy/stats/stats.py:3399: PearsonRConstantInputWarning: An input array is constant; the correlation coefficent is not defined.\n",
      "  warnings.warn(PearsonRConstantInputWarning())\n"
     ]
    },
    {
     "name": "stdout",
     "output_type": "stream",
     "text": [
      "Epoch 365 end: 1.0750055313110352, TRAIN MSE is: 2606.36474609375\n",
      "Validation loss: 545935.8750000 - MSE score: 2637.3713379\n",
      "Validation pearson is: nan\n",
      "Validation r2_score is: -2.611228323677131\n",
      "-------------------------\n"
     ]
    },
    {
     "name": "stderr",
     "output_type": "stream",
     "text": [
      "/home/mbosnjak/.conda/envs/pero/lib/python3.7/site-packages/scipy/stats/stats.py:3399: PearsonRConstantInputWarning: An input array is constant; the correlation coefficent is not defined.\n",
      "  warnings.warn(PearsonRConstantInputWarning())\n"
     ]
    },
    {
     "name": "stdout",
     "output_type": "stream",
     "text": [
      "Epoch 366 end: 1.1246998310089111, TRAIN MSE is: 2603.0166015625\n",
      "Validation loss: 545231.5000000 - MSE score: 2633.9689941\n",
      "Validation pearson is: nan\n",
      "Validation r2_score is: -2.6065696773772102\n",
      "-------------------------\n"
     ]
    },
    {
     "name": "stderr",
     "output_type": "stream",
     "text": [
      "/home/mbosnjak/.conda/envs/pero/lib/python3.7/site-packages/scipy/stats/stats.py:3399: PearsonRConstantInputWarning: An input array is constant; the correlation coefficent is not defined.\n",
      "  warnings.warn(PearsonRConstantInputWarning())\n"
     ]
    },
    {
     "name": "stdout",
     "output_type": "stream",
     "text": [
      "Epoch 367 end: 1.077584981918335, TRAIN MSE is: 2599.673095703125\n",
      "Validation loss: 544525.5000000 - MSE score: 2630.5578613\n",
      "Validation pearson is: nan\n",
      "Validation r2_score is: -2.601899223842189\n",
      "-------------------------\n"
     ]
    },
    {
     "name": "stderr",
     "output_type": "stream",
     "text": [
      "/home/mbosnjak/.conda/envs/pero/lib/python3.7/site-packages/scipy/stats/stats.py:3399: PearsonRConstantInputWarning: An input array is constant; the correlation coefficent is not defined.\n",
      "  warnings.warn(PearsonRConstantInputWarning())\n"
     ]
    },
    {
     "name": "stdout",
     "output_type": "stream",
     "text": [
      "Epoch 368 end: 1.103245735168457, TRAIN MSE is: 2596.3154296875\n",
      "Validation loss: 543823.0625000 - MSE score: 2627.1643066\n",
      "Validation pearson is: nan\n",
      "Validation r2_score is: -2.597252724439911\n",
      "-------------------------\n"
     ]
    },
    {
     "name": "stderr",
     "output_type": "stream",
     "text": [
      "/home/mbosnjak/.conda/envs/pero/lib/python3.7/site-packages/scipy/stats/stats.py:3399: PearsonRConstantInputWarning: An input array is constant; the correlation coefficent is not defined.\n",
      "  warnings.warn(PearsonRConstantInputWarning())\n"
     ]
    },
    {
     "name": "stdout",
     "output_type": "stream",
     "text": [
      "Epoch 369 end: 1.13429856300354, TRAIN MSE is: 2592.949951171875\n",
      "Validation loss: 543127.6875000 - MSE score: 2623.8051758\n",
      "Validation pearson is: nan\n",
      "Validation r2_score is: -2.592653121624415\n",
      "-------------------------\n"
     ]
    },
    {
     "name": "stderr",
     "output_type": "stream",
     "text": [
      "/home/mbosnjak/.conda/envs/pero/lib/python3.7/site-packages/scipy/stats/stats.py:3399: PearsonRConstantInputWarning: An input array is constant; the correlation coefficent is not defined.\n",
      "  warnings.warn(PearsonRConstantInputWarning())\n"
     ]
    },
    {
     "name": "stdout",
     "output_type": "stream",
     "text": [
      "Epoch 370 end: 1.07120680809021, TRAIN MSE is: 2589.6337890625\n",
      "Validation loss: 542428.0000000 - MSE score: 2620.4255371\n",
      "Validation pearson is: nan\n",
      "Validation r2_score is: -2.5880249142122174\n",
      "-------------------------\n"
     ]
    },
    {
     "name": "stderr",
     "output_type": "stream",
     "text": [
      "/home/mbosnjak/.conda/envs/pero/lib/python3.7/site-packages/scipy/stats/stats.py:3399: PearsonRConstantInputWarning: An input array is constant; the correlation coefficent is not defined.\n",
      "  warnings.warn(PearsonRConstantInputWarning())\n"
     ]
    },
    {
     "name": "stdout",
     "output_type": "stream",
     "text": [
      "Epoch 371 end: 1.0626647472381592, TRAIN MSE is: 2586.302734375\n",
      "Validation loss: 541729.3750000 - MSE score: 2617.0500488\n",
      "Validation pearson is: nan\n",
      "Validation r2_score is: -2.5834036130482754\n",
      "-------------------------\n"
     ]
    },
    {
     "name": "stderr",
     "output_type": "stream",
     "text": [
      "/home/mbosnjak/.conda/envs/pero/lib/python3.7/site-packages/scipy/stats/stats.py:3399: PearsonRConstantInputWarning: An input array is constant; the correlation coefficent is not defined.\n",
      "  warnings.warn(PearsonRConstantInputWarning())\n"
     ]
    },
    {
     "name": "stdout",
     "output_type": "stream",
     "text": [
      "Epoch 372 end: 1.0879366397857666, TRAIN MSE is: 2582.95361328125\n",
      "Validation loss: 541038.3750000 - MSE score: 2613.7119141\n",
      "Validation pearson is: nan\n",
      "Validation r2_score is: -2.5788325626881954\n",
      "-------------------------\n"
     ]
    },
    {
     "name": "stderr",
     "output_type": "stream",
     "text": [
      "/home/mbosnjak/.conda/envs/pero/lib/python3.7/site-packages/scipy/stats/stats.py:3399: PearsonRConstantInputWarning: An input array is constant; the correlation coefficent is not defined.\n",
      "  warnings.warn(PearsonRConstantInputWarning())\n"
     ]
    },
    {
     "name": "stdout",
     "output_type": "stream",
     "text": [
      "Epoch 373 end: 1.0548408031463623, TRAIN MSE is: 2579.626708984375\n",
      "Validation loss: 540350.3750000 - MSE score: 2610.3881836\n",
      "Validation pearson is: nan\n",
      "Validation r2_score is: -2.574281941628231\n",
      "-------------------------\n"
     ]
    },
    {
     "name": "stderr",
     "output_type": "stream",
     "text": [
      "/home/mbosnjak/.conda/envs/pero/lib/python3.7/site-packages/scipy/stats/stats.py:3399: PearsonRConstantInputWarning: An input array is constant; the correlation coefficent is not defined.\n",
      "  warnings.warn(PearsonRConstantInputWarning())\n"
     ]
    },
    {
     "name": "stdout",
     "output_type": "stream",
     "text": [
      "Epoch 374 end: 1.0580580234527588, TRAIN MSE is: 2576.334716796875\n",
      "Validation loss: 539657.6875000 - MSE score: 2607.0417480\n",
      "Validation pearson is: nan\n",
      "Validation r2_score is: -2.569699828490707\n",
      "-------------------------\n"
     ]
    },
    {
     "name": "stderr",
     "output_type": "stream",
     "text": [
      "/home/mbosnjak/.conda/envs/pero/lib/python3.7/site-packages/scipy/stats/stats.py:3399: PearsonRConstantInputWarning: An input array is constant; the correlation coefficent is not defined.\n",
      "  warnings.warn(PearsonRConstantInputWarning())\n"
     ]
    },
    {
     "name": "stdout",
     "output_type": "stream",
     "text": [
      "Epoch 375 end: 1.051593542098999, TRAIN MSE is: 2573.008056640625\n",
      "Validation loss: 538971.1250000 - MSE score: 2603.7253418\n",
      "Validation pearson is: nan\n",
      "Validation r2_score is: -2.5651583557764686\n",
      "-------------------------\n"
     ]
    },
    {
     "name": "stderr",
     "output_type": "stream",
     "text": [
      "/home/mbosnjak/.conda/envs/pero/lib/python3.7/site-packages/scipy/stats/stats.py:3399: PearsonRConstantInputWarning: An input array is constant; the correlation coefficent is not defined.\n",
      "  warnings.warn(PearsonRConstantInputWarning())\n"
     ]
    },
    {
     "name": "stdout",
     "output_type": "stream",
     "text": [
      "Epoch 376 end: 1.0687429904937744, TRAIN MSE is: 2569.74072265625\n",
      "Validation loss: 538276.1250000 - MSE score: 2600.3674316\n",
      "Validation pearson is: nan\n",
      "Validation r2_score is: -2.5605611184916808\n",
      "-------------------------\n"
     ]
    },
    {
     "name": "stderr",
     "output_type": "stream",
     "text": [
      "/home/mbosnjak/.conda/envs/pero/lib/python3.7/site-packages/scipy/stats/stats.py:3399: PearsonRConstantInputWarning: An input array is constant; the correlation coefficent is not defined.\n",
      "  warnings.warn(PearsonRConstantInputWarning())\n"
     ]
    },
    {
     "name": "stdout",
     "output_type": "stream",
     "text": [
      "Epoch 377 end: 1.0685474872589111, TRAIN MSE is: 2566.43017578125\n",
      "Validation loss: 537586.2500000 - MSE score: 2597.0349121\n",
      "Validation pearson is: nan\n",
      "Validation r2_score is: -2.5559977256030835\n",
      "-------------------------\n"
     ]
    },
    {
     "name": "stderr",
     "output_type": "stream",
     "text": [
      "/home/mbosnjak/.conda/envs/pero/lib/python3.7/site-packages/scipy/stats/stats.py:3399: PearsonRConstantInputWarning: An input array is constant; the correlation coefficent is not defined.\n",
      "  warnings.warn(PearsonRConstantInputWarning())\n"
     ]
    },
    {
     "name": "stdout",
     "output_type": "stream",
     "text": [
      "Epoch 378 end: 1.079007863998413, TRAIN MSE is: 2563.154541015625\n",
      "Validation loss: 536893.2500000 - MSE score: 2593.6872559\n",
      "Validation pearson is: nan\n",
      "Validation r2_score is: -2.5514140723958176\n",
      "-------------------------\n"
     ]
    },
    {
     "name": "stderr",
     "output_type": "stream",
     "text": [
      "/home/mbosnjak/.conda/envs/pero/lib/python3.7/site-packages/scipy/stats/stats.py:3399: PearsonRConstantInputWarning: An input array is constant; the correlation coefficent is not defined.\n",
      "  warnings.warn(PearsonRConstantInputWarning())\n"
     ]
    },
    {
     "name": "stdout",
     "output_type": "stream",
     "text": [
      "Epoch 379 end: 1.0691168308258057, TRAIN MSE is: 2559.844482421875\n",
      "Validation loss: 536208.4375000 - MSE score: 2590.3789062\n",
      "Validation pearson is: nan\n",
      "Validation r2_score is: -2.5468840953431946\n",
      "-------------------------\n"
     ]
    },
    {
     "name": "stderr",
     "output_type": "stream",
     "text": [
      "/home/mbosnjak/.conda/envs/pero/lib/python3.7/site-packages/scipy/stats/stats.py:3399: PearsonRConstantInputWarning: An input array is constant; the correlation coefficent is not defined.\n",
      "  warnings.warn(PearsonRConstantInputWarning())\n"
     ]
    },
    {
     "name": "stdout",
     "output_type": "stream",
     "text": [
      "Epoch 380 end: 1.0588226318359375, TRAIN MSE is: 2556.549072265625\n",
      "Validation loss: 535529.0000000 - MSE score: 2587.0964355\n",
      "Validation pearson is: nan\n",
      "Validation r2_score is: -2.5423896356542866\n",
      "-------------------------\n"
     ]
    },
    {
     "name": "stderr",
     "output_type": "stream",
     "text": [
      "/home/mbosnjak/.conda/envs/pero/lib/python3.7/site-packages/scipy/stats/stats.py:3399: PearsonRConstantInputWarning: An input array is constant; the correlation coefficent is not defined.\n",
      "  warnings.warn(PearsonRConstantInputWarning())\n"
     ]
    },
    {
     "name": "stdout",
     "output_type": "stream",
     "text": [
      "Epoch 381 end: 1.1292121410369873, TRAIN MSE is: 2553.326904296875\n",
      "Validation loss: 534836.8750000 - MSE score: 2583.7529297\n",
      "Validation pearson is: nan\n",
      "Validation r2_score is: -2.5378110825524285\n",
      "-------------------------\n"
     ]
    },
    {
     "name": "stderr",
     "output_type": "stream",
     "text": [
      "/home/mbosnjak/.conda/envs/pero/lib/python3.7/site-packages/scipy/stats/stats.py:3399: PearsonRConstantInputWarning: An input array is constant; the correlation coefficent is not defined.\n",
      "  warnings.warn(PearsonRConstantInputWarning())\n"
     ]
    },
    {
     "name": "stdout",
     "output_type": "stream",
     "text": [
      "Epoch 382 end: 1.1174354553222656, TRAIN MSE is: 2550.008544921875\n",
      "Validation loss: 534159.6875000 - MSE score: 2580.4812012\n",
      "Validation pearson is: nan\n",
      "Validation r2_score is: -2.5333318826993683\n",
      "-------------------------\n"
     ]
    },
    {
     "name": "stderr",
     "output_type": "stream",
     "text": [
      "/home/mbosnjak/.conda/envs/pero/lib/python3.7/site-packages/scipy/stats/stats.py:3399: PearsonRConstantInputWarning: An input array is constant; the correlation coefficent is not defined.\n",
      "  warnings.warn(PearsonRConstantInputWarning())\n"
     ]
    },
    {
     "name": "stdout",
     "output_type": "stream",
     "text": [
      "Epoch 383 end: 1.0639984607696533, TRAIN MSE is: 2546.765380859375\n",
      "Validation loss: 533478.3125000 - MSE score: 2577.1901855\n",
      "Validation pearson is: nan\n",
      "Validation r2_score is: -2.528825125671036\n",
      "-------------------------\n"
     ]
    },
    {
     "name": "stderr",
     "output_type": "stream",
     "text": [
      "/home/mbosnjak/.conda/envs/pero/lib/python3.7/site-packages/scipy/stats/stats.py:3399: PearsonRConstantInputWarning: An input array is constant; the correlation coefficent is not defined.\n",
      "  warnings.warn(PearsonRConstantInputWarning())\n"
     ]
    },
    {
     "name": "stdout",
     "output_type": "stream",
     "text": [
      "Epoch 384 end: 1.07820725440979, TRAIN MSE is: 2543.50146484375\n",
      "Validation loss: 532800.3125000 - MSE score: 2573.9147949\n",
      "Validation pearson is: nan\n",
      "Validation r2_score is: -2.524340366250793\n",
      "-------------------------\n"
     ]
    },
    {
     "name": "stderr",
     "output_type": "stream",
     "text": [
      "/home/mbosnjak/.conda/envs/pero/lib/python3.7/site-packages/scipy/stats/stats.py:3399: PearsonRConstantInputWarning: An input array is constant; the correlation coefficent is not defined.\n",
      "  warnings.warn(PearsonRConstantInputWarning())\n"
     ]
    },
    {
     "name": "stdout",
     "output_type": "stream",
     "text": [
      "Epoch 385 end: 1.100761890411377, TRAIN MSE is: 2540.26220703125\n",
      "Validation loss: 532120.5000000 - MSE score: 2570.6303711\n",
      "Validation pearson is: nan\n",
      "Validation r2_score is: -2.519843518218818\n",
      "-------------------------\n"
     ]
    },
    {
     "name": "stderr",
     "output_type": "stream",
     "text": [
      "/home/mbosnjak/.conda/envs/pero/lib/python3.7/site-packages/scipy/stats/stats.py:3399: PearsonRConstantInputWarning: An input array is constant; the correlation coefficent is not defined.\n",
      "  warnings.warn(PearsonRConstantInputWarning())\n"
     ]
    },
    {
     "name": "stdout",
     "output_type": "stream",
     "text": [
      "Epoch 386 end: 1.0790653228759766, TRAIN MSE is: 2537.024169921875\n",
      "Validation loss: 531439.8125000 - MSE score: 2567.3417969\n",
      "Validation pearson is: nan\n",
      "Validation r2_score is: -2.5153407250390756\n",
      "-------------------------\n"
     ]
    },
    {
     "name": "stderr",
     "output_type": "stream",
     "text": [
      "/home/mbosnjak/.conda/envs/pero/lib/python3.7/site-packages/scipy/stats/stats.py:3399: PearsonRConstantInputWarning: An input array is constant; the correlation coefficent is not defined.\n",
      "  warnings.warn(PearsonRConstantInputWarning())\n"
     ]
    },
    {
     "name": "stdout",
     "output_type": "stream",
     "text": [
      "Epoch 387 end: 1.0801472663879395, TRAIN MSE is: 2533.778076171875\n",
      "Validation loss: 530762.1250000 - MSE score: 2564.0681152\n",
      "Validation pearson is: nan\n",
      "Validation r2_score is: -2.5108581117907725\n",
      "-------------------------\n"
     ]
    },
    {
     "name": "stderr",
     "output_type": "stream",
     "text": [
      "/home/mbosnjak/.conda/envs/pero/lib/python3.7/site-packages/scipy/stats/stats.py:3399: PearsonRConstantInputWarning: An input array is constant; the correlation coefficent is not defined.\n",
      "  warnings.warn(PearsonRConstantInputWarning())\n"
     ]
    },
    {
     "name": "stdout",
     "output_type": "stream",
     "text": [
      "Epoch 388 end: 1.0779132843017578, TRAIN MSE is: 2530.538818359375\n",
      "Validation loss: 530087.1250000 - MSE score: 2560.8073730\n",
      "Validation pearson is: nan\n",
      "Validation r2_score is: -2.5063929185733045\n",
      "-------------------------\n"
     ]
    },
    {
     "name": "stderr",
     "output_type": "stream",
     "text": [
      "/home/mbosnjak/.conda/envs/pero/lib/python3.7/site-packages/scipy/stats/stats.py:3399: PearsonRConstantInputWarning: An input array is constant; the correlation coefficent is not defined.\n",
      "  warnings.warn(PearsonRConstantInputWarning())\n"
     ]
    },
    {
     "name": "stdout",
     "output_type": "stream",
     "text": [
      "Epoch 389 end: 1.065425157546997, TRAIN MSE is: 2527.337890625\n",
      "Validation loss: 529406.1875000 - MSE score: 2557.5178223\n",
      "Validation pearson is: nan\n",
      "Validation r2_score is: -2.5018888067778504\n",
      "-------------------------\n"
     ]
    },
    {
     "name": "stderr",
     "output_type": "stream",
     "text": [
      "/home/mbosnjak/.conda/envs/pero/lib/python3.7/site-packages/scipy/stats/stats.py:3399: PearsonRConstantInputWarning: An input array is constant; the correlation coefficent is not defined.\n",
      "  warnings.warn(PearsonRConstantInputWarning())\n"
     ]
    },
    {
     "name": "stdout",
     "output_type": "stream",
     "text": [
      "Epoch 390 end: 1.0727663040161133, TRAIN MSE is: 2524.08251953125\n",
      "Validation loss: 528735.4375000 - MSE score: 2554.2775879\n",
      "Validation pearson is: nan\n",
      "Validation r2_score is: -2.497452138701602\n",
      "-------------------------\n"
     ]
    },
    {
     "name": "stderr",
     "output_type": "stream",
     "text": [
      "/home/mbosnjak/.conda/envs/pero/lib/python3.7/site-packages/scipy/stats/stats.py:3399: PearsonRConstantInputWarning: An input array is constant; the correlation coefficent is not defined.\n",
      "  warnings.warn(PearsonRConstantInputWarning())\n"
     ]
    },
    {
     "name": "stdout",
     "output_type": "stream",
     "text": [
      "Epoch 391 end: 1.0561597347259521, TRAIN MSE is: 2520.86669921875\n",
      "Validation loss: 528065.6250000 - MSE score: 2551.0417480\n",
      "Validation pearson is: nan\n",
      "Validation r2_score is: -2.493021161332779\n",
      "-------------------------\n"
     ]
    },
    {
     "name": "stderr",
     "output_type": "stream",
     "text": [
      "/home/mbosnjak/.conda/envs/pero/lib/python3.7/site-packages/scipy/stats/stats.py:3399: PearsonRConstantInputWarning: An input array is constant; the correlation coefficent is not defined.\n",
      "  warnings.warn(PearsonRConstantInputWarning())\n"
     ]
    },
    {
     "name": "stdout",
     "output_type": "stream",
     "text": [
      "Epoch 392 end: 1.0855088233947754, TRAIN MSE is: 2517.66552734375\n",
      "Validation loss: 527394.1250000 - MSE score: 2547.7980957\n",
      "Validation pearson is: nan\n",
      "Validation r2_score is: -2.488579852913174\n",
      "-------------------------\n"
     ]
    },
    {
     "name": "stderr",
     "output_type": "stream",
     "text": [
      "/home/mbosnjak/.conda/envs/pero/lib/python3.7/site-packages/scipy/stats/stats.py:3399: PearsonRConstantInputWarning: An input array is constant; the correlation coefficent is not defined.\n",
      "  warnings.warn(PearsonRConstantInputWarning())\n"
     ]
    },
    {
     "name": "stdout",
     "output_type": "stream",
     "text": [
      "Epoch 393 end: 1.0495021343231201, TRAIN MSE is: 2514.4609375\n",
      "Validation loss: 526723.8125000 - MSE score: 2544.5595703\n",
      "Validation pearson is: nan\n",
      "Validation r2_score is: -2.484145436125014\n",
      "-------------------------\n"
     ]
    },
    {
     "name": "stderr",
     "output_type": "stream",
     "text": [
      "/home/mbosnjak/.conda/envs/pero/lib/python3.7/site-packages/scipy/stats/stats.py:3399: PearsonRConstantInputWarning: An input array is constant; the correlation coefficent is not defined.\n",
      "  warnings.warn(PearsonRConstantInputWarning())\n"
     ]
    },
    {
     "name": "stdout",
     "output_type": "stream",
     "text": [
      "Epoch 394 end: 1.0673737525939941, TRAIN MSE is: 2511.26025390625\n",
      "Validation loss: 526054.8750000 - MSE score: 2541.3278809\n",
      "Validation pearson is: nan\n",
      "Validation r2_score is: -2.479720729294688\n",
      "-------------------------\n"
     ]
    },
    {
     "name": "stderr",
     "output_type": "stream",
     "text": [
      "/home/mbosnjak/.conda/envs/pero/lib/python3.7/site-packages/scipy/stats/stats.py:3399: PearsonRConstantInputWarning: An input array is constant; the correlation coefficent is not defined.\n",
      "  warnings.warn(PearsonRConstantInputWarning())\n"
     ]
    },
    {
     "name": "stdout",
     "output_type": "stream",
     "text": [
      "Epoch 395 end: 1.0956056118011475, TRAIN MSE is: 2508.075439453125\n",
      "Validation loss: 525384.6250000 - MSE score: 2538.0900879\n",
      "Validation pearson is: nan\n",
      "Validation r2_score is: -2.4752874897822674\n",
      "-------------------------\n"
     ]
    },
    {
     "name": "stderr",
     "output_type": "stream",
     "text": [
      "/home/mbosnjak/.conda/envs/pero/lib/python3.7/site-packages/scipy/stats/stats.py:3399: PearsonRConstantInputWarning: An input array is constant; the correlation coefficent is not defined.\n",
      "  warnings.warn(PearsonRConstantInputWarning())\n"
     ]
    },
    {
     "name": "stdout",
     "output_type": "stream",
     "text": [
      "Epoch 396 end: 1.0413458347320557, TRAIN MSE is: 2504.890625\n",
      "Validation loss: 524714.6250000 - MSE score: 2534.8532715\n",
      "Validation pearson is: nan\n",
      "Validation r2_score is: -2.470855411940686\n",
      "-------------------------\n"
     ]
    },
    {
     "name": "stderr",
     "output_type": "stream",
     "text": [
      "/home/mbosnjak/.conda/envs/pero/lib/python3.7/site-packages/scipy/stats/stats.py:3399: PearsonRConstantInputWarning: An input array is constant; the correlation coefficent is not defined.\n",
      "  warnings.warn(PearsonRConstantInputWarning())\n"
     ]
    },
    {
     "name": "stdout",
     "output_type": "stream",
     "text": [
      "Epoch 397 end: 1.0548090934753418, TRAIN MSE is: 2501.666259765625\n",
      "Validation loss: 524057.1875000 - MSE score: 2531.6772461\n",
      "Validation pearson is: nan\n",
      "Validation r2_score is: -2.466506588294204\n",
      "-------------------------\n"
     ]
    },
    {
     "name": "stderr",
     "output_type": "stream",
     "text": [
      "/home/mbosnjak/.conda/envs/pero/lib/python3.7/site-packages/scipy/stats/stats.py:3399: PearsonRConstantInputWarning: An input array is constant; the correlation coefficent is not defined.\n",
      "  warnings.warn(PearsonRConstantInputWarning())\n"
     ]
    },
    {
     "name": "stdout",
     "output_type": "stream",
     "text": [
      "Epoch 398 end: 1.115447759628296, TRAIN MSE is: 2498.530517578125\n",
      "Validation loss: 523389.6250000 - MSE score: 2528.4523926\n",
      "Validation pearson is: nan\n",
      "Validation r2_score is: -2.462090578330143\n",
      "-------------------------\n"
     ]
    },
    {
     "name": "stderr",
     "output_type": "stream",
     "text": [
      "/home/mbosnjak/.conda/envs/pero/lib/python3.7/site-packages/scipy/stats/stats.py:3399: PearsonRConstantInputWarning: An input array is constant; the correlation coefficent is not defined.\n",
      "  warnings.warn(PearsonRConstantInputWarning())\n"
     ]
    },
    {
     "name": "stdout",
     "output_type": "stream",
     "text": [
      "Epoch 399 end: 1.086576223373413, TRAIN MSE is: 2495.326904296875\n",
      "Validation loss: 522731.9375000 - MSE score: 2525.2751465\n",
      "Validation pearson is: nan\n",
      "Validation r2_score is: -2.457740416691058\n",
      "-------------------------\n",
      "Apply best model to test for ['openness'] on fold 0.\n",
      "Test loss: 233653.42188 - MSE score: 902.1365967 \n",
      "Test pearson is: 0.05205404568034637\n",
      "Test r2_score is: -0.04863055887512013\n",
      "-------------------------\n",
      "+++ Finished with training and testing model for ['openness'] on fold 0. +++\n",
      "-------------------------\n",
      "-------------------------\n",
      "Processing fold: 0 and target: ['conscientiousness']\n",
      "-------------------------\n",
      "Train size: 832\n",
      "Validation size: 208\n",
      "Test size: 263\n",
      "-------------------------\n",
      "Starting training for: {'learning_rate': 0.01, 'batch_size': 64, 'kernels_count': 8, 'sentences_count': 4, 'hidden_layer_1': 4, 'alpha': 0.1978, 'regularization_type': 'None'}\n",
      "-------------------------\n",
      "Epoch 0 end: 1.2972512245178223, TRAIN MSE is: 2136.657958984375\n",
      "Validation loss: 352991.3750000 - MSE score: 1697.0739746\n",
      "Validation pearson is: 0.05167190185165204\n",
      "Validation r2_score is: -0.8795570758923075\n",
      "-------------------------\n",
      "Epoch 1 end: 0.9976491928100586, TRAIN MSE is: 1041.76806640625\n",
      "Validation loss: 212021.8437500 - MSE score: 1019.3358154\n",
      "Validation pearson is: 0.05476081108364006\n",
      "Validation r2_score is: -0.12894307912825198\n",
      "-------------------------\n",
      "Epoch 2 end: 1.0067787170410156, TRAIN MSE is: 949.0074462890625\n",
      "Validation loss: 207128.1875000 - MSE score: 995.8086548\n",
      "Validation pearson is: 0.05004809759742792\n",
      "Validation r2_score is: -0.10288608590441095\n",
      "-------------------------\n",
      "Epoch 3 end: 1.017366886138916, TRAIN MSE is: 885.4405517578125\n",
      "Validation loss: 187872.2812500 - MSE score: 903.2321167\n",
      "Validation pearson is: 0.05207228077079691\n",
      "Validation r2_score is: -0.0003549832171758638\n",
      "-------------------------\n",
      "Epoch 4 end: 1.0041141510009766, TRAIN MSE is: 862.173828125\n",
      "Validation loss: 190508.0312500 - MSE score: 915.9039917\n",
      "Validation pearson is: 0.05238600525059892\n",
      "Validation r2_score is: -0.014389518499398735\n",
      "-------------------------\n",
      "Epoch 5 end: 1.0300514698028564, TRAIN MSE is: 843.5468139648438\n",
      "Validation loss: 189133.7812500 - MSE score: 909.2968750\n",
      "Validation pearson is: 0.055526477713967876\n",
      "Validation r2_score is: -0.007071954487326337\n",
      "-------------------------\n",
      "Epoch 6 end: 1.031177043914795, TRAIN MSE is: 830.4829711914062\n",
      "Validation loss: 187664.3593750 - MSE score: 902.2324829\n",
      "Validation pearson is: 0.06567428415911838\n",
      "Validation r2_score is: 0.0007521256240178298\n",
      "-------------------------\n",
      "Epoch 7 end: 1.0410242080688477, TRAIN MSE is: 813.298828125\n",
      "Validation loss: 188570.1093750 - MSE score: 906.5869141\n",
      "Validation pearson is: 0.06985757006923224\n",
      "Validation r2_score is: -0.00407057007252809\n",
      "-------------------------\n",
      "Epoch 8 end: 1.0296218395233154, TRAIN MSE is: 794.9656982421875\n",
      "Validation loss: 186796.1562500 - MSE score: 898.0583496\n",
      "Validation pearson is: 0.08940929932289945\n",
      "Validation r2_score is: 0.005375052460005358\n",
      "-------------------------\n",
      "Epoch 9 end: 1.0364859104156494, TRAIN MSE is: 766.5582885742188\n",
      "Validation loss: 190444.1250000 - MSE score: 915.5967407\n",
      "Validation pearson is: 0.06991971189542484\n",
      "Validation r2_score is: -0.014049137097892794\n",
      "-------------------------\n",
      "Epoch 10 end: 1.0660738945007324, TRAIN MSE is: 689.7786254882812\n",
      "Validation loss: 195498.8437500 - MSE score: 939.8983765\n",
      "Validation pearson is: 0.034705612003668125\n",
      "Validation r2_score is: -0.0409638097921452\n",
      "-------------------------\n",
      "Epoch 11 end: 1.0741007328033447, TRAIN MSE is: 594.8668212890625\n",
      "Validation loss: 204543.8125000 - MSE score: 983.3837891\n",
      "Validation pearson is: 0.01576353463498539\n",
      "Validation r2_score is: -0.08912515841813162\n",
      "-------------------------\n",
      "Epoch 12 end: 1.0441691875457764, TRAIN MSE is: 485.3175048828125\n",
      "Validation loss: 218516.7343750 - MSE score: 1050.5611572\n",
      "Validation pearson is: -0.005549477187084515\n",
      "Validation r2_score is: -0.16352607680154163\n",
      "-------------------------\n",
      "Epoch 13 end: 1.0427894592285156, TRAIN MSE is: 393.35736083984375\n",
      "Validation loss: 223290.5312500 - MSE score: 1073.5120850\n",
      "Validation pearson is: -0.0008556356217874969\n",
      "Validation r2_score is: -0.1889448755759804\n",
      "-------------------------\n",
      "Epoch 14 end: 1.045452356338501, TRAIN MSE is: 313.13714599609375\n",
      "Validation loss: 234119.4531250 - MSE score: 1125.5743408\n",
      "Validation pearson is: -0.0003457804506918176\n",
      "Validation r2_score is: -0.2466052238634675\n",
      "-------------------------\n",
      "Starting training for: {'learning_rate': 0.005, 'batch_size': 64, 'kernels_count': 8, 'sentences_count': 4, 'hidden_layer_1': 4, 'alpha': 0.1978, 'regularization_type': 'None'}\n",
      "-------------------------\n"
     ]
    },
    {
     "name": "stderr",
     "output_type": "stream",
     "text": [
      "/home/mbosnjak/.conda/envs/pero/lib/python3.7/site-packages/scipy/stats/stats.py:3399: PearsonRConstantInputWarning: An input array is constant; the correlation coefficent is not defined.\n",
      "  warnings.warn(PearsonRConstantInputWarning())\n"
     ]
    },
    {
     "name": "stdout",
     "output_type": "stream",
     "text": [
      "Epoch 0 end: 1.140519618988037, TRAIN MSE is: 2452.258544921875\n",
      "Validation loss: 561150.6250000 - MSE score: 2697.8398438\n",
      "Validation pearson is: nan\n",
      "Validation r2_score is: -1.987933383241633\n",
      "-------------------------\n"
     ]
    },
    {
     "name": "stderr",
     "output_type": "stream",
     "text": [
      "/home/mbosnjak/.conda/envs/pero/lib/python3.7/site-packages/scipy/stats/stats.py:3399: PearsonRConstantInputWarning: An input array is constant; the correlation coefficent is not defined.\n",
      "  warnings.warn(PearsonRConstantInputWarning())\n"
     ]
    },
    {
     "name": "stdout",
     "output_type": "stream",
     "text": [
      "Epoch 1 end: 1.0402698516845703, TRAIN MSE is: 2442.55517578125\n",
      "Validation loss: 560009.7500000 - MSE score: 2692.3544922\n",
      "Validation pearson is: nan\n",
      "Validation r2_score is: -1.9818583680892776\n",
      "-------------------------\n"
     ]
    },
    {
     "name": "stderr",
     "output_type": "stream",
     "text": [
      "/home/mbosnjak/.conda/envs/pero/lib/python3.7/site-packages/scipy/stats/stats.py:3399: PearsonRConstantInputWarning: An input array is constant; the correlation coefficent is not defined.\n",
      "  warnings.warn(PearsonRConstantInputWarning())\n"
     ]
    },
    {
     "name": "stdout",
     "output_type": "stream",
     "text": [
      "Epoch 2 end: 1.0133860111236572, TRAIN MSE is: 2437.46826171875\n",
      "Validation loss: 558870.0625000 - MSE score: 2686.8754883\n",
      "Validation pearson is: nan\n",
      "Validation r2_score is: -1.9757901422516388\n",
      "-------------------------\n"
     ]
    },
    {
     "name": "stderr",
     "output_type": "stream",
     "text": [
      "/home/mbosnjak/.conda/envs/pero/lib/python3.7/site-packages/scipy/stats/stats.py:3399: PearsonRConstantInputWarning: An input array is constant; the correlation coefficent is not defined.\n",
      "  warnings.warn(PearsonRConstantInputWarning())\n"
     ]
    },
    {
     "name": "stdout",
     "output_type": "stream",
     "text": [
      "Epoch 3 end: 1.0106885433197021, TRAIN MSE is: 2432.35498046875\n",
      "Validation loss: 557738.8125000 - MSE score: 2681.4365234\n",
      "Validation pearson is: nan\n",
      "Validation r2_score is: -1.9697663999043562\n",
      "-------------------------\n"
     ]
    },
    {
     "name": "stderr",
     "output_type": "stream",
     "text": [
      "/home/mbosnjak/.conda/envs/pero/lib/python3.7/site-packages/scipy/stats/stats.py:3399: PearsonRConstantInputWarning: An input array is constant; the correlation coefficent is not defined.\n",
      "  warnings.warn(PearsonRConstantInputWarning())\n"
     ]
    },
    {
     "name": "stdout",
     "output_type": "stream",
     "text": [
      "Epoch 4 end: 1.0248794555664062, TRAIN MSE is: 2427.26611328125\n",
      "Validation loss: 556609.6875000 - MSE score: 2676.0078125\n",
      "Validation pearson is: nan\n",
      "Validation r2_score is: -1.9637542606586322\n",
      "-------------------------\n"
     ]
    },
    {
     "name": "stderr",
     "output_type": "stream",
     "text": [
      "/home/mbosnjak/.conda/envs/pero/lib/python3.7/site-packages/scipy/stats/stats.py:3399: PearsonRConstantInputWarning: An input array is constant; the correlation coefficent is not defined.\n",
      "  warnings.warn(PearsonRConstantInputWarning())\n"
     ]
    },
    {
     "name": "stdout",
     "output_type": "stream",
     "text": [
      "Epoch 5 end: 1.046938180923462, TRAIN MSE is: 2422.22705078125\n",
      "Validation loss: 555475.2500000 - MSE score: 2670.5541992\n",
      "Validation pearson is: nan\n",
      "Validation r2_score is: -1.9577138039331246\n",
      "-------------------------\n"
     ]
    },
    {
     "name": "stderr",
     "output_type": "stream",
     "text": [
      "/home/mbosnjak/.conda/envs/pero/lib/python3.7/site-packages/scipy/stats/stats.py:3399: PearsonRConstantInputWarning: An input array is constant; the correlation coefficent is not defined.\n",
      "  warnings.warn(PearsonRConstantInputWarning())\n"
     ]
    },
    {
     "name": "stdout",
     "output_type": "stream",
     "text": [
      "Epoch 6 end: 1.0287303924560547, TRAIN MSE is: 2417.17529296875\n",
      "Validation loss: 554344.6875000 - MSE score: 2665.1186523\n",
      "Validation pearson is: nan\n",
      "Validation r2_score is: -1.951693965479496\n",
      "-------------------------\n"
     ]
    },
    {
     "name": "stderr",
     "output_type": "stream",
     "text": [
      "/home/mbosnjak/.conda/envs/pero/lib/python3.7/site-packages/scipy/stats/stats.py:3399: PearsonRConstantInputWarning: An input array is constant; the correlation coefficent is not defined.\n",
      "  warnings.warn(PearsonRConstantInputWarning())\n"
     ]
    },
    {
     "name": "stdout",
     "output_type": "stream",
     "text": [
      "Epoch 7 end: 1.0261354446411133, TRAIN MSE is: 2412.08544921875\n",
      "Validation loss: 553229.4375000 - MSE score: 2659.7565918\n",
      "Validation pearson is: nan\n",
      "Validation r2_score is: -1.9457555824787507\n",
      "-------------------------\n"
     ]
    },
    {
     "name": "stderr",
     "output_type": "stream",
     "text": [
      "/home/mbosnjak/.conda/envs/pero/lib/python3.7/site-packages/scipy/stats/stats.py:3399: PearsonRConstantInputWarning: An input array is constant; the correlation coefficent is not defined.\n",
      "  warnings.warn(PearsonRConstantInputWarning())\n"
     ]
    },
    {
     "name": "stdout",
     "output_type": "stream",
     "text": [
      "Epoch 8 end: 1.031172275543213, TRAIN MSE is: 2407.06640625\n",
      "Validation loss: 552111.2500000 - MSE score: 2654.3811035\n",
      "Validation pearson is: nan\n",
      "Validation r2_score is: -1.9398015666454098\n",
      "-------------------------\n"
     ]
    },
    {
     "name": "stderr",
     "output_type": "stream",
     "text": [
      "/home/mbosnjak/.conda/envs/pero/lib/python3.7/site-packages/scipy/stats/stats.py:3399: PearsonRConstantInputWarning: An input array is constant; the correlation coefficent is not defined.\n",
      "  warnings.warn(PearsonRConstantInputWarning())\n"
     ]
    },
    {
     "name": "stdout",
     "output_type": "stream",
     "text": [
      "Epoch 9 end: 1.0648419857025146, TRAIN MSE is: 2402.032958984375\n",
      "Validation loss: 550997.4375000 - MSE score: 2649.0261230\n",
      "Validation pearson is: nan\n",
      "Validation r2_score is: -1.93387110008325\n",
      "-------------------------\n"
     ]
    },
    {
     "name": "stderr",
     "output_type": "stream",
     "text": [
      "/home/mbosnjak/.conda/envs/pero/lib/python3.7/site-packages/scipy/stats/stats.py:3399: PearsonRConstantInputWarning: An input array is constant; the correlation coefficent is not defined.\n",
      "  warnings.warn(PearsonRConstantInputWarning())\n"
     ]
    },
    {
     "name": "stdout",
     "output_type": "stream",
     "text": [
      "Epoch 10 end: 1.0397233963012695, TRAIN MSE is: 2397.118896484375\n",
      "Validation loss: 549863.1250000 - MSE score: 2643.5727539\n",
      "Validation pearson is: nan\n",
      "Validation r2_score is: -1.9278309908362772\n",
      "-------------------------\n"
     ]
    },
    {
     "name": "stderr",
     "output_type": "stream",
     "text": [
      "/home/mbosnjak/.conda/envs/pero/lib/python3.7/site-packages/scipy/stats/stats.py:3399: PearsonRConstantInputWarning: An input array is constant; the correlation coefficent is not defined.\n",
      "  warnings.warn(PearsonRConstantInputWarning())\n"
     ]
    },
    {
     "name": "stdout",
     "output_type": "stream",
     "text": [
      "Epoch 11 end: 1.0561864376068115, TRAIN MSE is: 2392.044189453125\n",
      "Validation loss: 548754.5625000 - MSE score: 2638.2426758\n",
      "Validation pearson is: nan\n",
      "Validation r2_score is: -1.92192830560594\n",
      "-------------------------\n"
     ]
    },
    {
     "name": "stderr",
     "output_type": "stream",
     "text": [
      "/home/mbosnjak/.conda/envs/pero/lib/python3.7/site-packages/scipy/stats/stats.py:3399: PearsonRConstantInputWarning: An input array is constant; the correlation coefficent is not defined.\n",
      "  warnings.warn(PearsonRConstantInputWarning())\n"
     ]
    },
    {
     "name": "stdout",
     "output_type": "stream",
     "text": [
      "Epoch 12 end: 1.063028335571289, TRAIN MSE is: 2387.01416015625\n",
      "Validation loss: 547660.1250000 - MSE score: 2632.9814453\n",
      "Validation pearson is: nan\n",
      "Validation r2_score is: -1.9161009304915106\n",
      "-------------------------\n"
     ]
    },
    {
     "name": "stderr",
     "output_type": "stream",
     "text": [
      "/home/mbosnjak/.conda/envs/pero/lib/python3.7/site-packages/scipy/stats/stats.py:3399: PearsonRConstantInputWarning: An input array is constant; the correlation coefficent is not defined.\n",
      "  warnings.warn(PearsonRConstantInputWarning())\n"
     ]
    },
    {
     "name": "stdout",
     "output_type": "stream",
     "text": [
      "Epoch 13 end: 1.122065544128418, TRAIN MSE is: 2382.1328125\n",
      "Validation loss: 546543.4375000 - MSE score: 2627.6123047\n",
      "Validation pearson is: nan\n",
      "Validation r2_score is: -1.9101546999509957\n",
      "-------------------------\n"
     ]
    },
    {
     "name": "stderr",
     "output_type": "stream",
     "text": [
      "/home/mbosnjak/.conda/envs/pero/lib/python3.7/site-packages/scipy/stats/stats.py:3399: PearsonRConstantInputWarning: An input array is constant; the correlation coefficent is not defined.\n",
      "  warnings.warn(PearsonRConstantInputWarning())\n"
     ]
    },
    {
     "name": "stdout",
     "output_type": "stream",
     "text": [
      "Epoch 14 end: 1.0630743503570557, TRAIN MSE is: 2377.12939453125\n",
      "Validation loss: 545441.2500000 - MSE score: 2622.3137207\n",
      "Validation pearson is: nan\n",
      "Validation r2_score is: -1.9042861707856673\n",
      "-------------------------\n"
     ]
    },
    {
     "name": "stderr",
     "output_type": "stream",
     "text": [
      "/home/mbosnjak/.conda/envs/pero/lib/python3.7/site-packages/scipy/stats/stats.py:3399: PearsonRConstantInputWarning: An input array is constant; the correlation coefficent is not defined.\n",
      "  warnings.warn(PearsonRConstantInputWarning())\n"
     ]
    },
    {
     "name": "stdout",
     "output_type": "stream",
     "text": [
      "Epoch 15 end: 1.0424447059631348, TRAIN MSE is: 2372.17724609375\n",
      "Validation loss: 544341.8750000 - MSE score: 2617.0283203\n",
      "Validation pearson is: nan\n",
      "Validation r2_score is: -1.898432537741023\n",
      "-------------------------\n"
     ]
    },
    {
     "name": "stderr",
     "output_type": "stream",
     "text": [
      "/home/mbosnjak/.conda/envs/pero/lib/python3.7/site-packages/scipy/stats/stats.py:3399: PearsonRConstantInputWarning: An input array is constant; the correlation coefficent is not defined.\n",
      "  warnings.warn(PearsonRConstantInputWarning())\n"
     ]
    },
    {
     "name": "stdout",
     "output_type": "stream",
     "text": [
      "Epoch 16 end: 1.0522582530975342, TRAIN MSE is: 2367.305419921875\n",
      "Validation loss: 543228.5625000 - MSE score: 2611.6757812\n",
      "Validation pearson is: nan\n",
      "Validation r2_score is: -1.892504481710528\n",
      "-------------------------\n"
     ]
    },
    {
     "name": "stderr",
     "output_type": "stream",
     "text": [
      "/home/mbosnjak/.conda/envs/pero/lib/python3.7/site-packages/scipy/stats/stats.py:3399: PearsonRConstantInputWarning: An input array is constant; the correlation coefficent is not defined.\n",
      "  warnings.warn(PearsonRConstantInputWarning())\n"
     ]
    },
    {
     "name": "stdout",
     "output_type": "stream",
     "text": [
      "Epoch 17 end: 1.0694334506988525, TRAIN MSE is: 2362.2822265625\n",
      "Validation loss: 542145.6250000 - MSE score: 2606.4692383\n",
      "Validation pearson is: nan\n",
      "Validation r2_score is: -1.886737942238851\n",
      "-------------------------\n"
     ]
    },
    {
     "name": "stderr",
     "output_type": "stream",
     "text": [
      "/home/mbosnjak/.conda/envs/pero/lib/python3.7/site-packages/scipy/stats/stats.py:3399: PearsonRConstantInputWarning: An input array is constant; the correlation coefficent is not defined.\n",
      "  warnings.warn(PearsonRConstantInputWarning())\n"
     ]
    },
    {
     "name": "stdout",
     "output_type": "stream",
     "text": [
      "Epoch 18 end: 1.0460002422332764, TRAIN MSE is: 2357.428466796875\n",
      "Validation loss: 541047.8750000 - MSE score: 2601.1916504\n",
      "Validation pearson is: nan\n",
      "Validation r2_score is: -1.88089299449766\n",
      "-------------------------\n"
     ]
    },
    {
     "name": "stderr",
     "output_type": "stream",
     "text": [
      "/home/mbosnjak/.conda/envs/pero/lib/python3.7/site-packages/scipy/stats/stats.py:3399: PearsonRConstantInputWarning: An input array is constant; the correlation coefficent is not defined.\n",
      "  warnings.warn(PearsonRConstantInputWarning())\n"
     ]
    },
    {
     "name": "stdout",
     "output_type": "stream",
     "text": [
      "Epoch 19 end: 1.0501952171325684, TRAIN MSE is: 2352.51513671875\n",
      "Validation loss: 539956.3750000 - MSE score: 2595.9443359\n",
      "Validation pearson is: nan\n",
      "Validation r2_score is: -1.8750811846312296\n",
      "-------------------------\n"
     ]
    },
    {
     "name": "stderr",
     "output_type": "stream",
     "text": [
      "/home/mbosnjak/.conda/envs/pero/lib/python3.7/site-packages/scipy/stats/stats.py:3399: PearsonRConstantInputWarning: An input array is constant; the correlation coefficent is not defined.\n",
      "  warnings.warn(PearsonRConstantInputWarning())\n"
     ]
    },
    {
     "name": "stdout",
     "output_type": "stream",
     "text": [
      "Epoch 20 end: 1.0585641860961914, TRAIN MSE is: 2347.609130859375\n",
      "Validation loss: 538871.7500000 - MSE score: 2590.7292480\n",
      "Validation pearson is: nan\n",
      "Validation r2_score is: -1.8693056318947656\n",
      "-------------------------\n"
     ]
    },
    {
     "name": "stderr",
     "output_type": "stream",
     "text": [
      "/home/mbosnjak/.conda/envs/pero/lib/python3.7/site-packages/scipy/stats/stats.py:3399: PearsonRConstantInputWarning: An input array is constant; the correlation coefficent is not defined.\n",
      "  warnings.warn(PearsonRConstantInputWarning())\n"
     ]
    },
    {
     "name": "stdout",
     "output_type": "stream",
     "text": [
      "Epoch 21 end: 1.0385017395019531, TRAIN MSE is: 2342.78173828125\n",
      "Validation loss: 537775.8125000 - MSE score: 2585.4609375\n",
      "Validation pearson is: nan\n",
      "Validation r2_score is: -1.8634705616853742\n",
      "-------------------------\n"
     ]
    },
    {
     "name": "stderr",
     "output_type": "stream",
     "text": [
      "/home/mbosnjak/.conda/envs/pero/lib/python3.7/site-packages/scipy/stats/stats.py:3399: PearsonRConstantInputWarning: An input array is constant; the correlation coefficent is not defined.\n",
      "  warnings.warn(PearsonRConstantInputWarning())\n"
     ]
    },
    {
     "name": "stdout",
     "output_type": "stream",
     "text": [
      "Epoch 22 end: 1.0553488731384277, TRAIN MSE is: 2337.880126953125\n",
      "Validation loss: 536693.1250000 - MSE score: 2580.2553711\n",
      "Validation pearson is: nan\n",
      "Validation r2_score is: -1.8577055358141084\n",
      "-------------------------\n"
     ]
    },
    {
     "name": "stderr",
     "output_type": "stream",
     "text": [
      "/home/mbosnjak/.conda/envs/pero/lib/python3.7/site-packages/scipy/stats/stats.py:3399: PearsonRConstantInputWarning: An input array is constant; the correlation coefficent is not defined.\n",
      "  warnings.warn(PearsonRConstantInputWarning())\n"
     ]
    },
    {
     "name": "stdout",
     "output_type": "stream",
     "text": [
      "Epoch 23 end: 1.0443451404571533, TRAIN MSE is: 2333.0625\n",
      "Validation loss: 535603.3125000 - MSE score: 2575.0158691\n",
      "Validation pearson is: nan\n",
      "Validation r2_score is: -1.8519026085649979\n",
      "-------------------------\n"
     ]
    },
    {
     "name": "stderr",
     "output_type": "stream",
     "text": [
      "/home/mbosnjak/.conda/envs/pero/lib/python3.7/site-packages/scipy/stats/stats.py:3399: PearsonRConstantInputWarning: An input array is constant; the correlation coefficent is not defined.\n",
      "  warnings.warn(PearsonRConstantInputWarning())\n"
     ]
    },
    {
     "name": "stdout",
     "output_type": "stream",
     "text": [
      "Epoch 24 end: 1.0507426261901855, TRAIN MSE is: 2328.205322265625\n",
      "Validation loss: 534521.2500000 - MSE score: 2569.8137207\n",
      "Validation pearson is: nan\n",
      "Validation r2_score is: -1.8461406891534242\n",
      "-------------------------\n"
     ]
    },
    {
     "name": "stderr",
     "output_type": "stream",
     "text": [
      "/home/mbosnjak/.conda/envs/pero/lib/python3.7/site-packages/scipy/stats/stats.py:3399: PearsonRConstantInputWarning: An input array is constant; the correlation coefficent is not defined.\n",
      "  warnings.warn(PearsonRConstantInputWarning())\n"
     ]
    },
    {
     "name": "stdout",
     "output_type": "stream",
     "text": [
      "Epoch 25 end: 1.057032585144043, TRAIN MSE is: 2323.362060546875\n",
      "Validation loss: 533445.5000000 - MSE score: 2564.6418457\n",
      "Validation pearson is: nan\n",
      "Validation r2_score is: -1.8404130438831987\n",
      "-------------------------\n"
     ]
    },
    {
     "name": "stderr",
     "output_type": "stream",
     "text": [
      "/home/mbosnjak/.conda/envs/pero/lib/python3.7/site-packages/scipy/stats/stats.py:3399: PearsonRConstantInputWarning: An input array is constant; the correlation coefficent is not defined.\n",
      "  warnings.warn(PearsonRConstantInputWarning())\n"
     ]
    },
    {
     "name": "stdout",
     "output_type": "stream",
     "text": [
      "Epoch 26 end: 1.051734209060669, TRAIN MSE is: 2318.5224609375\n",
      "Validation loss: 532378.3125000 - MSE score: 2559.5112305\n",
      "Validation pearson is: nan\n",
      "Validation r2_score is: -1.8347305841454182\n",
      "-------------------------\n"
     ]
    },
    {
     "name": "stderr",
     "output_type": "stream",
     "text": [
      "/home/mbosnjak/.conda/envs/pero/lib/python3.7/site-packages/scipy/stats/stats.py:3399: PearsonRConstantInputWarning: An input array is constant; the correlation coefficent is not defined.\n",
      "  warnings.warn(PearsonRConstantInputWarning())\n"
     ]
    },
    {
     "name": "stdout",
     "output_type": "stream",
     "text": [
      "Epoch 27 end: 1.2079567909240723, TRAIN MSE is: 2313.787841796875\n",
      "Validation loss: 531293.9375000 - MSE score: 2554.2978516\n",
      "Validation pearson is: nan\n",
      "Validation r2_score is: -1.8289565869624878\n",
      "-------------------------\n"
     ]
    },
    {
     "name": "stderr",
     "output_type": "stream",
     "text": [
      "/home/mbosnjak/.conda/envs/pero/lib/python3.7/site-packages/scipy/stats/stats.py:3399: PearsonRConstantInputWarning: An input array is constant; the correlation coefficent is not defined.\n",
      "  warnings.warn(PearsonRConstantInputWarning())\n"
     ]
    },
    {
     "name": "stdout",
     "output_type": "stream",
     "text": [
      "Epoch 28 end: 1.0368225574493408, TRAIN MSE is: 2308.93701171875\n",
      "Validation loss: 530228.1250000 - MSE score: 2549.1735840\n",
      "Validation pearson is: nan\n",
      "Validation r2_score is: -1.823281619273382\n",
      "-------------------------\n"
     ]
    },
    {
     "name": "stderr",
     "output_type": "stream",
     "text": [
      "/home/mbosnjak/.conda/envs/pero/lib/python3.7/site-packages/scipy/stats/stats.py:3399: PearsonRConstantInputWarning: An input array is constant; the correlation coefficent is not defined.\n",
      "  warnings.warn(PearsonRConstantInputWarning())\n"
     ]
    },
    {
     "name": "stdout",
     "output_type": "stream",
     "text": [
      "Epoch 29 end: 1.0502018928527832, TRAIN MSE is: 2304.124267578125\n",
      "Validation loss: 529173.0000000 - MSE score: 2544.1010742\n",
      "Validation pearson is: nan\n",
      "Validation r2_score is: -1.8176633368061927\n",
      "-------------------------\n"
     ]
    },
    {
     "name": "stderr",
     "output_type": "stream",
     "text": [
      "/home/mbosnjak/.conda/envs/pero/lib/python3.7/site-packages/scipy/stats/stats.py:3399: PearsonRConstantInputWarning: An input array is constant; the correlation coefficent is not defined.\n",
      "  warnings.warn(PearsonRConstantInputWarning())\n"
     ]
    },
    {
     "name": "stdout",
     "output_type": "stream",
     "text": [
      "Epoch 30 end: 1.0950233936309814, TRAIN MSE is: 2299.429931640625\n",
      "Validation loss: 528098.0625000 - MSE score: 2538.9326172\n",
      "Validation pearson is: nan\n",
      "Validation r2_score is: -1.811939699157246\n",
      "-------------------------\n"
     ]
    },
    {
     "name": "stderr",
     "output_type": "stream",
     "text": [
      "/home/mbosnjak/.conda/envs/pero/lib/python3.7/site-packages/scipy/stats/stats.py:3399: PearsonRConstantInputWarning: An input array is constant; the correlation coefficent is not defined.\n",
      "  warnings.warn(PearsonRConstantInputWarning())\n"
     ]
    },
    {
     "name": "stdout",
     "output_type": "stream",
     "text": [
      "Epoch 31 end: 1.1177871227264404, TRAIN MSE is: 2294.622314453125\n",
      "Validation loss: 527039.2500000 - MSE score: 2533.8425293\n",
      "Validation pearson is: nan\n",
      "Validation r2_score is: -1.8063019527158963\n",
      "-------------------------\n"
     ]
    },
    {
     "name": "stderr",
     "output_type": "stream",
     "text": [
      "/home/mbosnjak/.conda/envs/pero/lib/python3.7/site-packages/scipy/stats/stats.py:3399: PearsonRConstantInputWarning: An input array is constant; the correlation coefficent is not defined.\n",
      "  warnings.warn(PearsonRConstantInputWarning())\n"
     ]
    },
    {
     "name": "stdout",
     "output_type": "stream",
     "text": [
      "Epoch 32 end: 1.062237024307251, TRAIN MSE is: 2289.90478515625\n",
      "Validation loss: 525974.1875000 - MSE score: 2528.7216797\n",
      "Validation pearson is: nan\n",
      "Validation r2_score is: -1.8006307124794252\n",
      "-------------------------\n"
     ]
    },
    {
     "name": "stderr",
     "output_type": "stream",
     "text": [
      "/home/mbosnjak/.conda/envs/pero/lib/python3.7/site-packages/scipy/stats/stats.py:3399: PearsonRConstantInputWarning: An input array is constant; the correlation coefficent is not defined.\n",
      "  warnings.warn(PearsonRConstantInputWarning())\n"
     ]
    },
    {
     "name": "stdout",
     "output_type": "stream",
     "text": [
      "Epoch 33 end: 1.0584337711334229, TRAIN MSE is: 2285.170654296875\n",
      "Validation loss: 524911.3125000 - MSE score: 2523.6120605\n",
      "Validation pearson is: nan\n",
      "Validation r2_score is: -1.7949713744828575\n",
      "-------------------------\n"
     ]
    },
    {
     "name": "stderr",
     "output_type": "stream",
     "text": [
      "/home/mbosnjak/.conda/envs/pero/lib/python3.7/site-packages/scipy/stats/stats.py:3399: PearsonRConstantInputWarning: An input array is constant; the correlation coefficent is not defined.\n",
      "  warnings.warn(PearsonRConstantInputWarning())\n"
     ]
    },
    {
     "name": "stdout",
     "output_type": "stream",
     "text": [
      "Epoch 34 end: 1.0503268241882324, TRAIN MSE is: 2280.436279296875\n",
      "Validation loss: 523854.2500000 - MSE score: 2518.5297852\n",
      "Validation pearson is: nan\n",
      "Validation r2_score is: -1.789342766892121\n",
      "-------------------------\n"
     ]
    },
    {
     "name": "stderr",
     "output_type": "stream",
     "text": [
      "/home/mbosnjak/.conda/envs/pero/lib/python3.7/site-packages/scipy/stats/stats.py:3399: PearsonRConstantInputWarning: An input array is constant; the correlation coefficent is not defined.\n",
      "  warnings.warn(PearsonRConstantInputWarning())\n"
     ]
    },
    {
     "name": "stdout",
     "output_type": "stream",
     "text": [
      "Epoch 35 end: 1.063223123550415, TRAIN MSE is: 2275.703369140625\n",
      "Validation loss: 522805.0000000 - MSE score: 2513.4855957\n",
      "Validation pearson is: nan\n",
      "Validation r2_score is: -1.7837559253890003\n",
      "-------------------------\n"
     ]
    },
    {
     "name": "stderr",
     "output_type": "stream",
     "text": [
      "/home/mbosnjak/.conda/envs/pero/lib/python3.7/site-packages/scipy/stats/stats.py:3399: PearsonRConstantInputWarning: An input array is constant; the correlation coefficent is not defined.\n",
      "  warnings.warn(PearsonRConstantInputWarning())\n"
     ]
    },
    {
     "name": "stdout",
     "output_type": "stream",
     "text": [
      "Epoch 36 end: 1.0660512447357178, TRAIN MSE is: 2271.016845703125\n",
      "Validation loss: 521753.9687500 - MSE score: 2508.4326172\n",
      "Validation pearson is: nan\n",
      "Validation r2_score is: -1.778159509826935\n",
      "-------------------------\n"
     ]
    },
    {
     "name": "stderr",
     "output_type": "stream",
     "text": [
      "/home/mbosnjak/.conda/envs/pero/lib/python3.7/site-packages/scipy/stats/stats.py:3399: PearsonRConstantInputWarning: An input array is constant; the correlation coefficent is not defined.\n",
      "  warnings.warn(PearsonRConstantInputWarning())\n"
     ]
    },
    {
     "name": "stdout",
     "output_type": "stream",
     "text": [
      "Epoch 37 end: 1.0679593086242676, TRAIN MSE is: 2266.28955078125\n",
      "Validation loss: 520715.3750000 - MSE score: 2503.4392090\n",
      "Validation pearson is: nan\n",
      "Validation r2_score is: -1.7726294526637942\n",
      "-------------------------\n"
     ]
    },
    {
     "name": "stderr",
     "output_type": "stream",
     "text": [
      "/home/mbosnjak/.conda/envs/pero/lib/python3.7/site-packages/scipy/stats/stats.py:3399: PearsonRConstantInputWarning: An input array is constant; the correlation coefficent is not defined.\n",
      "  warnings.warn(PearsonRConstantInputWarning())\n"
     ]
    },
    {
     "name": "stdout",
     "output_type": "stream",
     "text": [
      "Epoch 38 end: 1.0500288009643555, TRAIN MSE is: 2261.71044921875\n",
      "Validation loss: 519651.3437500 - MSE score: 2498.3237305\n",
      "Validation pearson is: nan\n",
      "Validation r2_score is: -1.7669637555449986\n",
      "-------------------------\n"
     ]
    },
    {
     "name": "stderr",
     "output_type": "stream",
     "text": [
      "/home/mbosnjak/.conda/envs/pero/lib/python3.7/site-packages/scipy/stats/stats.py:3399: PearsonRConstantInputWarning: An input array is constant; the correlation coefficent is not defined.\n",
      "  warnings.warn(PearsonRConstantInputWarning())\n"
     ]
    },
    {
     "name": "stdout",
     "output_type": "stream",
     "text": [
      "Epoch 39 end: 1.0466117858886719, TRAIN MSE is: 2256.96240234375\n",
      "Validation loss: 518612.5000000 - MSE score: 2493.3293457\n",
      "Validation pearson is: nan\n",
      "Validation r2_score is: -1.7614323043344968\n",
      "-------------------------\n"
     ]
    },
    {
     "name": "stderr",
     "output_type": "stream",
     "text": [
      "/home/mbosnjak/.conda/envs/pero/lib/python3.7/site-packages/scipy/stats/stats.py:3399: PearsonRConstantInputWarning: An input array is constant; the correlation coefficent is not defined.\n",
      "  warnings.warn(PearsonRConstantInputWarning())\n"
     ]
    },
    {
     "name": "stdout",
     "output_type": "stream",
     "text": [
      "Epoch 40 end: 1.0789039134979248, TRAIN MSE is: 2252.285400390625\n",
      "Validation loss: 517581.7187500 - MSE score: 2488.3735352\n",
      "Validation pearson is: nan\n",
      "Validation r2_score is: -1.7559438391365334\n",
      "-------------------------\n"
     ]
    },
    {
     "name": "stderr",
     "output_type": "stream",
     "text": [
      "/home/mbosnjak/.conda/envs/pero/lib/python3.7/site-packages/scipy/stats/stats.py:3399: PearsonRConstantInputWarning: An input array is constant; the correlation coefficent is not defined.\n",
      "  warnings.warn(PearsonRConstantInputWarning())\n"
     ]
    },
    {
     "name": "stdout",
     "output_type": "stream",
     "text": [
      "Epoch 41 end: 1.0566718578338623, TRAIN MSE is: 2247.6884765625\n",
      "Validation loss: 516538.9687500 - MSE score: 2483.3605957\n",
      "Validation pearson is: nan\n",
      "Validation r2_score is: -1.7503915609533642\n",
      "-------------------------\n"
     ]
    },
    {
     "name": "stderr",
     "output_type": "stream",
     "text": [
      "/home/mbosnjak/.conda/envs/pero/lib/python3.7/site-packages/scipy/stats/stats.py:3399: PearsonRConstantInputWarning: An input array is constant; the correlation coefficent is not defined.\n",
      "  warnings.warn(PearsonRConstantInputWarning())\n"
     ]
    },
    {
     "name": "stdout",
     "output_type": "stream",
     "text": [
      "Epoch 42 end: 1.0688581466674805, TRAIN MSE is: 2243.050537109375\n",
      "Validation loss: 515500.1875000 - MSE score: 2478.3666992\n",
      "Validation pearson is: nan\n",
      "Validation r2_score is: -1.7448605439784903\n",
      "-------------------------\n"
     ]
    },
    {
     "name": "stderr",
     "output_type": "stream",
     "text": [
      "/home/mbosnjak/.conda/envs/pero/lib/python3.7/site-packages/scipy/stats/stats.py:3399: PearsonRConstantInputWarning: An input array is constant; the correlation coefficent is not defined.\n",
      "  warnings.warn(PearsonRConstantInputWarning())\n"
     ]
    },
    {
     "name": "stdout",
     "output_type": "stream",
     "text": [
      "Epoch 43 end: 1.049168348312378, TRAIN MSE is: 2238.4208984375\n",
      "Validation loss: 514465.6562500 - MSE score: 2473.3928223\n",
      "Validation pearson is: nan\n",
      "Validation r2_score is: -1.739351913726066\n",
      "-------------------------\n"
     ]
    },
    {
     "name": "stderr",
     "output_type": "stream",
     "text": [
      "/home/mbosnjak/.conda/envs/pero/lib/python3.7/site-packages/scipy/stats/stats.py:3399: PearsonRConstantInputWarning: An input array is constant; the correlation coefficent is not defined.\n",
      "  warnings.warn(PearsonRConstantInputWarning())\n"
     ]
    },
    {
     "name": "stdout",
     "output_type": "stream",
     "text": [
      "Epoch 44 end: 1.0420646667480469, TRAIN MSE is: 2233.826416015625\n",
      "Validation loss: 513429.0312500 - MSE score: 2468.4086914\n",
      "Validation pearson is: nan\n",
      "Validation r2_score is: -1.7338322036403193\n",
      "-------------------------\n"
     ]
    },
    {
     "name": "stderr",
     "output_type": "stream",
     "text": [
      "/home/mbosnjak/.conda/envs/pero/lib/python3.7/site-packages/scipy/stats/stats.py:3399: PearsonRConstantInputWarning: An input array is constant; the correlation coefficent is not defined.\n",
      "  warnings.warn(PearsonRConstantInputWarning())\n"
     ]
    },
    {
     "name": "stdout",
     "output_type": "stream",
     "text": [
      "Epoch 45 end: 1.0753521919250488, TRAIN MSE is: 2229.16943359375\n",
      "Validation loss: 512410.9687500 - MSE score: 2463.5141602\n",
      "Validation pearson is: nan\n",
      "Validation r2_score is: -1.7284111105792896\n",
      "-------------------------\n"
     ]
    },
    {
     "name": "stderr",
     "output_type": "stream",
     "text": [
      "/home/mbosnjak/.conda/envs/pero/lib/python3.7/site-packages/scipy/stats/stats.py:3399: PearsonRConstantInputWarning: An input array is constant; the correlation coefficent is not defined.\n",
      "  warnings.warn(PearsonRConstantInputWarning())\n"
     ]
    },
    {
     "name": "stdout",
     "output_type": "stream",
     "text": [
      "Epoch 46 end: 1.0579960346221924, TRAIN MSE is: 2224.6259765625\n",
      "Validation loss: 511381.4687500 - MSE score: 2458.5649414\n",
      "Validation pearson is: nan\n",
      "Validation r2_score is: -1.7229297655642326\n",
      "-------------------------\n"
     ]
    },
    {
     "name": "stderr",
     "output_type": "stream",
     "text": [
      "/home/mbosnjak/.conda/envs/pero/lib/python3.7/site-packages/scipy/stats/stats.py:3399: PearsonRConstantInputWarning: An input array is constant; the correlation coefficent is not defined.\n",
      "  warnings.warn(PearsonRConstantInputWarning())\n"
     ]
    },
    {
     "name": "stdout",
     "output_type": "stream",
     "text": [
      "Epoch 47 end: 1.0495634078979492, TRAIN MSE is: 2220.0751953125\n",
      "Validation loss: 510347.3125000 - MSE score: 2453.5927734\n",
      "Validation pearson is: nan\n",
      "Validation r2_score is: -1.7174230114097861\n",
      "-------------------------\n"
     ]
    },
    {
     "name": "stderr",
     "output_type": "stream",
     "text": [
      "/home/mbosnjak/.conda/envs/pero/lib/python3.7/site-packages/scipy/stats/stats.py:3399: PearsonRConstantInputWarning: An input array is constant; the correlation coefficent is not defined.\n",
      "  warnings.warn(PearsonRConstantInputWarning())\n"
     ]
    },
    {
     "name": "stdout",
     "output_type": "stream",
     "text": [
      "Epoch 48 end: 1.0703024864196777, TRAIN MSE is: 2215.44677734375\n",
      "Validation loss: 509332.7812500 - MSE score: 2448.7153320\n",
      "Validation pearson is: nan\n",
      "Validation r2_score is: -1.71202117235029\n",
      "-------------------------\n"
     ]
    },
    {
     "name": "stderr",
     "output_type": "stream",
     "text": [
      "/home/mbosnjak/.conda/envs/pero/lib/python3.7/site-packages/scipy/stats/stats.py:3399: PearsonRConstantInputWarning: An input array is constant; the correlation coefficent is not defined.\n",
      "  warnings.warn(PearsonRConstantInputWarning())\n"
     ]
    },
    {
     "name": "stdout",
     "output_type": "stream",
     "text": [
      "Epoch 49 end: 1.055375337600708, TRAIN MSE is: 2210.906982421875\n",
      "Validation loss: 508315.8125000 - MSE score: 2443.8259277\n",
      "Validation pearson is: nan\n",
      "Validation r2_score is: -1.7066060475044806\n",
      "-------------------------\n"
     ]
    },
    {
     "name": "stderr",
     "output_type": "stream",
     "text": [
      "/home/mbosnjak/.conda/envs/pero/lib/python3.7/site-packages/scipy/stats/stats.py:3399: PearsonRConstantInputWarning: An input array is constant; the correlation coefficent is not defined.\n",
      "  warnings.warn(PearsonRConstantInputWarning())\n"
     ]
    },
    {
     "name": "stdout",
     "output_type": "stream",
     "text": [
      "Epoch 50 end: 1.0501415729522705, TRAIN MSE is: 2206.40673828125\n",
      "Validation loss: 507288.5937500 - MSE score: 2438.8876953\n",
      "Validation pearson is: nan\n",
      "Validation r2_score is: -1.7011364738517418\n",
      "-------------------------\n"
     ]
    },
    {
     "name": "stderr",
     "output_type": "stream",
     "text": [
      "/home/mbosnjak/.conda/envs/pero/lib/python3.7/site-packages/scipy/stats/stats.py:3399: PearsonRConstantInputWarning: An input array is constant; the correlation coefficent is not defined.\n",
      "  warnings.warn(PearsonRConstantInputWarning())\n"
     ]
    },
    {
     "name": "stdout",
     "output_type": "stream",
     "text": [
      "Epoch 51 end: 1.0542421340942383, TRAIN MSE is: 2201.852783203125\n",
      "Validation loss: 506270.0937500 - MSE score: 2433.9907227\n",
      "Validation pearson is: nan\n",
      "Validation r2_score is: -1.6957131533618761\n",
      "-------------------------\n"
     ]
    },
    {
     "name": "stderr",
     "output_type": "stream",
     "text": [
      "/home/mbosnjak/.conda/envs/pero/lib/python3.7/site-packages/scipy/stats/stats.py:3399: PearsonRConstantInputWarning: An input array is constant; the correlation coefficent is not defined.\n",
      "  warnings.warn(PearsonRConstantInputWarning())\n"
     ]
    },
    {
     "name": "stdout",
     "output_type": "stream",
     "text": [
      "Epoch 52 end: 1.0595519542694092, TRAIN MSE is: 2197.277099609375\n",
      "Validation loss: 505269.1250000 - MSE score: 2429.1782227\n",
      "Validation pearson is: nan\n",
      "Validation r2_score is: -1.6903834290534792\n",
      "-------------------------\n"
     ]
    },
    {
     "name": "stderr",
     "output_type": "stream",
     "text": [
      "/home/mbosnjak/.conda/envs/pero/lib/python3.7/site-packages/scipy/stats/stats.py:3399: PearsonRConstantInputWarning: An input array is constant; the correlation coefficent is not defined.\n",
      "  warnings.warn(PearsonRConstantInputWarning())\n"
     ]
    },
    {
     "name": "stdout",
     "output_type": "stream",
     "text": [
      "Epoch 53 end: 1.0781872272491455, TRAIN MSE is: 2192.83203125\n",
      "Validation loss: 504251.4062500 - MSE score: 2424.2856445\n",
      "Validation pearson is: nan\n",
      "Validation r2_score is: -1.6849645674123486\n",
      "-------------------------\n"
     ]
    },
    {
     "name": "stderr",
     "output_type": "stream",
     "text": [
      "/home/mbosnjak/.conda/envs/pero/lib/python3.7/site-packages/scipy/stats/stats.py:3399: PearsonRConstantInputWarning: An input array is constant; the correlation coefficent is not defined.\n",
      "  warnings.warn(PearsonRConstantInputWarning())\n"
     ]
    },
    {
     "name": "stdout",
     "output_type": "stream",
     "text": [
      "Epoch 54 end: 1.079059362411499, TRAIN MSE is: 2188.265869140625\n",
      "Validation loss: 503254.8125000 - MSE score: 2419.4943848\n",
      "Validation pearson is: nan\n",
      "Validation r2_score is: -1.6796580086922384\n",
      "-------------------------\n"
     ]
    },
    {
     "name": "stderr",
     "output_type": "stream",
     "text": [
      "/home/mbosnjak/.conda/envs/pero/lib/python3.7/site-packages/scipy/stats/stats.py:3399: PearsonRConstantInputWarning: An input array is constant; the correlation coefficent is not defined.\n",
      "  warnings.warn(PearsonRConstantInputWarning())\n"
     ]
    },
    {
     "name": "stdout",
     "output_type": "stream",
     "text": [
      "Epoch 55 end: 1.0524182319641113, TRAIN MSE is: 2183.79736328125\n",
      "Validation loss: 502253.9062500 - MSE score: 2414.6821289\n",
      "Validation pearson is: nan\n",
      "Validation r2_score is: -1.6743283087516545\n",
      "-------------------------\n"
     ]
    },
    {
     "name": "stderr",
     "output_type": "stream",
     "text": [
      "/home/mbosnjak/.conda/envs/pero/lib/python3.7/site-packages/scipy/stats/stats.py:3399: PearsonRConstantInputWarning: An input array is constant; the correlation coefficent is not defined.\n",
      "  warnings.warn(PearsonRConstantInputWarning())\n"
     ]
    },
    {
     "name": "stdout",
     "output_type": "stream",
     "text": [
      "Epoch 56 end: 1.0444529056549072, TRAIN MSE is: 2179.38134765625\n",
      "Validation loss: 501237.7187500 - MSE score: 2409.7966309\n",
      "Validation pearson is: nan\n",
      "Validation r2_score is: -1.6689175101429665\n",
      "-------------------------\n"
     ]
    },
    {
     "name": "stderr",
     "output_type": "stream",
     "text": [
      "/home/mbosnjak/.conda/envs/pero/lib/python3.7/site-packages/scipy/stats/stats.py:3399: PearsonRConstantInputWarning: An input array is constant; the correlation coefficent is not defined.\n",
      "  warnings.warn(PearsonRConstantInputWarning())\n"
     ]
    },
    {
     "name": "stdout",
     "output_type": "stream",
     "text": [
      "Epoch 57 end: 1.059399127960205, TRAIN MSE is: 2174.863525390625\n",
      "Validation loss: 500238.0312500 - MSE score: 2404.9904785\n",
      "Validation pearson is: nan\n",
      "Validation r2_score is: -1.6635948123235242\n",
      "-------------------------\n"
     ]
    },
    {
     "name": "stderr",
     "output_type": "stream",
     "text": [
      "/home/mbosnjak/.conda/envs/pero/lib/python3.7/site-packages/scipy/stats/stats.py:3399: PearsonRConstantInputWarning: An input array is constant; the correlation coefficent is not defined.\n",
      "  warnings.warn(PearsonRConstantInputWarning())\n"
     ]
    },
    {
     "name": "stdout",
     "output_type": "stream",
     "text": [
      "Epoch 58 end: 1.0990092754364014, TRAIN MSE is: 2170.35888671875\n",
      "Validation loss: 499254.3125000 - MSE score: 2400.2612305\n",
      "Validation pearson is: nan\n",
      "Validation r2_score is: -1.6583566916419392\n",
      "-------------------------\n"
     ]
    },
    {
     "name": "stderr",
     "output_type": "stream",
     "text": [
      "/home/mbosnjak/.conda/envs/pero/lib/python3.7/site-packages/scipy/stats/stats.py:3399: PearsonRConstantInputWarning: An input array is constant; the correlation coefficent is not defined.\n",
      "  warnings.warn(PearsonRConstantInputWarning())\n"
     ]
    },
    {
     "name": "stdout",
     "output_type": "stream",
     "text": [
      "Epoch 59 end: 1.0703027248382568, TRAIN MSE is: 2165.981689453125\n",
      "Validation loss: 498252.2187500 - MSE score: 2395.4436035\n",
      "Validation pearson is: nan\n",
      "Validation r2_score is: -1.653020904010626\n",
      "-------------------------\n"
     ]
    },
    {
     "name": "stderr",
     "output_type": "stream",
     "text": [
      "/home/mbosnjak/.conda/envs/pero/lib/python3.7/site-packages/scipy/stats/stats.py:3399: PearsonRConstantInputWarning: An input array is constant; the correlation coefficent is not defined.\n",
      "  warnings.warn(PearsonRConstantInputWarning())\n"
     ]
    },
    {
     "name": "stdout",
     "output_type": "stream",
     "text": [
      "Epoch 60 end: 1.0827240943908691, TRAIN MSE is: 2161.54736328125\n",
      "Validation loss: 497252.3750000 - MSE score: 2390.6364746\n",
      "Validation pearson is: nan\n",
      "Validation r2_score is: -1.6476970475090909\n",
      "-------------------------\n"
     ]
    },
    {
     "name": "stderr",
     "output_type": "stream",
     "text": [
      "/home/mbosnjak/.conda/envs/pero/lib/python3.7/site-packages/scipy/stats/stats.py:3399: PearsonRConstantInputWarning: An input array is constant; the correlation coefficent is not defined.\n",
      "  warnings.warn(PearsonRConstantInputWarning())\n"
     ]
    },
    {
     "name": "stdout",
     "output_type": "stream",
     "text": [
      "Epoch 61 end: 1.0534024238586426, TRAIN MSE is: 2157.1064453125\n",
      "Validation loss: 496259.4062500 - MSE score: 2385.8627930\n",
      "Validation pearson is: nan\n",
      "Validation r2_score is: -1.6424098684625386\n",
      "-------------------------\n"
     ]
    },
    {
     "name": "stderr",
     "output_type": "stream",
     "text": [
      "/home/mbosnjak/.conda/envs/pero/lib/python3.7/site-packages/scipy/stats/stats.py:3399: PearsonRConstantInputWarning: An input array is constant; the correlation coefficent is not defined.\n",
      "  warnings.warn(PearsonRConstantInputWarning())\n"
     ]
    },
    {
     "name": "stdout",
     "output_type": "stream",
     "text": [
      "Epoch 62 end: 1.0481140613555908, TRAIN MSE is: 2152.6923828125\n",
      "Validation loss: 495268.8437500 - MSE score: 2381.1000977\n",
      "Validation pearson is: nan\n",
      "Validation r2_score is: -1.637135385031585\n",
      "-------------------------\n"
     ]
    },
    {
     "name": "stderr",
     "output_type": "stream",
     "text": [
      "/home/mbosnjak/.conda/envs/pero/lib/python3.7/site-packages/scipy/stats/stats.py:3399: PearsonRConstantInputWarning: An input array is constant; the correlation coefficent is not defined.\n",
      "  warnings.warn(PearsonRConstantInputWarning())\n"
     ]
    },
    {
     "name": "stdout",
     "output_type": "stream",
     "text": [
      "Epoch 63 end: 1.0611231327056885, TRAIN MSE is: 2148.294189453125\n",
      "Validation loss: 494279.2187500 - MSE score: 2376.3425293\n",
      "Validation pearson is: nan\n",
      "Validation r2_score is: -1.6318662166624383\n",
      "-------------------------\n"
     ]
    },
    {
     "name": "stderr",
     "output_type": "stream",
     "text": [
      "/home/mbosnjak/.conda/envs/pero/lib/python3.7/site-packages/scipy/stats/stats.py:3399: PearsonRConstantInputWarning: An input array is constant; the correlation coefficent is not defined.\n",
      "  warnings.warn(PearsonRConstantInputWarning())\n"
     ]
    },
    {
     "name": "stdout",
     "output_type": "stream",
     "text": [
      "Epoch 64 end: 1.055150032043457, TRAIN MSE is: 2143.85595703125\n",
      "Validation loss: 493305.0625000 - MSE score: 2371.6586914\n",
      "Validation pearson is: nan\n",
      "Validation r2_score is: -1.6266788835883976\n",
      "-------------------------\n"
     ]
    },
    {
     "name": "stderr",
     "output_type": "stream",
     "text": [
      "/home/mbosnjak/.conda/envs/pero/lib/python3.7/site-packages/scipy/stats/stats.py:3399: PearsonRConstantInputWarning: An input array is constant; the correlation coefficent is not defined.\n",
      "  warnings.warn(PearsonRConstantInputWarning())\n"
     ]
    },
    {
     "name": "stdout",
     "output_type": "stream",
     "text": [
      "Epoch 65 end: 1.0513296127319336, TRAIN MSE is: 2139.555908203125\n",
      "Validation loss: 492309.4375000 - MSE score: 2366.8723145\n",
      "Validation pearson is: nan\n",
      "Validation r2_score is: -1.6213776931314001\n",
      "-------------------------\n"
     ]
    },
    {
     "name": "stderr",
     "output_type": "stream",
     "text": [
      "/home/mbosnjak/.conda/envs/pero/lib/python3.7/site-packages/scipy/stats/stats.py:3399: PearsonRConstantInputWarning: An input array is constant; the correlation coefficent is not defined.\n",
      "  warnings.warn(PearsonRConstantInputWarning())\n"
     ]
    },
    {
     "name": "stdout",
     "output_type": "stream",
     "text": [
      "Epoch 66 end: 1.0382072925567627, TRAIN MSE is: 2135.119873046875\n",
      "Validation loss: 491335.0625000 - MSE score: 2362.1879883\n",
      "Validation pearson is: nan\n",
      "Validation r2_score is: -1.6161894517547974\n",
      "-------------------------\n"
     ]
    },
    {
     "name": "stderr",
     "output_type": "stream",
     "text": [
      "/home/mbosnjak/.conda/envs/pero/lib/python3.7/site-packages/scipy/stats/stats.py:3399: PearsonRConstantInputWarning: An input array is constant; the correlation coefficent is not defined.\n",
      "  warnings.warn(PearsonRConstantInputWarning())\n"
     ]
    },
    {
     "name": "stdout",
     "output_type": "stream",
     "text": [
      "Epoch 67 end: 1.0638091564178467, TRAIN MSE is: 2130.77392578125\n",
      "Validation loss: 490358.2187500 - MSE score: 2357.4912109\n",
      "Validation pearson is: nan\n",
      "Validation r2_score is: -1.6109880185862435\n",
      "-------------------------\n"
     ]
    },
    {
     "name": "stderr",
     "output_type": "stream",
     "text": [
      "/home/mbosnjak/.conda/envs/pero/lib/python3.7/site-packages/scipy/stats/stats.py:3399: PearsonRConstantInputWarning: An input array is constant; the correlation coefficent is not defined.\n",
      "  warnings.warn(PearsonRConstantInputWarning())\n"
     ]
    },
    {
     "name": "stdout",
     "output_type": "stream",
     "text": [
      "Epoch 68 end: 1.0563688278198242, TRAIN MSE is: 2126.449951171875\n",
      "Validation loss: 489376.4062500 - MSE score: 2352.7712402\n",
      "Validation pearson is: nan\n",
      "Validation r2_score is: -1.605760340249438\n",
      "-------------------------\n"
     ]
    },
    {
     "name": "stderr",
     "output_type": "stream",
     "text": [
      "/home/mbosnjak/.conda/envs/pero/lib/python3.7/site-packages/scipy/stats/stats.py:3399: PearsonRConstantInputWarning: An input array is constant; the correlation coefficent is not defined.\n",
      "  warnings.warn(PearsonRConstantInputWarning())\n"
     ]
    },
    {
     "name": "stdout",
     "output_type": "stream",
     "text": [
      "Epoch 69 end: 1.0393788814544678, TRAIN MSE is: 2122.0771484375\n",
      "Validation loss: 488406.3125000 - MSE score: 2348.1071777\n",
      "Validation pearson is: nan\n",
      "Validation r2_score is: -1.600594924883055\n",
      "-------------------------\n"
     ]
    },
    {
     "name": "stderr",
     "output_type": "stream",
     "text": [
      "/home/mbosnjak/.conda/envs/pero/lib/python3.7/site-packages/scipy/stats/stats.py:3399: PearsonRConstantInputWarning: An input array is constant; the correlation coefficent is not defined.\n",
      "  warnings.warn(PearsonRConstantInputWarning())\n"
     ]
    },
    {
     "name": "stdout",
     "output_type": "stream",
     "text": [
      "Epoch 70 end: 1.0610840320587158, TRAIN MSE is: 2117.761962890625\n",
      "Validation loss: 487434.5000000 - MSE score: 2343.4350586\n",
      "Validation pearson is: nan\n",
      "Validation r2_score is: -1.5954201585600565\n",
      "-------------------------\n"
     ]
    },
    {
     "name": "stderr",
     "output_type": "stream",
     "text": [
      "/home/mbosnjak/.conda/envs/pero/lib/python3.7/site-packages/scipy/stats/stats.py:3399: PearsonRConstantInputWarning: An input array is constant; the correlation coefficent is not defined.\n",
      "  warnings.warn(PearsonRConstantInputWarning())\n"
     ]
    },
    {
     "name": "stdout",
     "output_type": "stream",
     "text": [
      "Epoch 71 end: 1.0626826286315918, TRAIN MSE is: 2113.40576171875\n",
      "Validation loss: 486475.7812500 - MSE score: 2338.8259277\n",
      "Validation pearson is: nan\n",
      "Validation r2_score is: -1.590315579557279\n",
      "-------------------------\n"
     ]
    },
    {
     "name": "stderr",
     "output_type": "stream",
     "text": [
      "/home/mbosnjak/.conda/envs/pero/lib/python3.7/site-packages/scipy/stats/stats.py:3399: PearsonRConstantInputWarning: An input array is constant; the correlation coefficent is not defined.\n",
      "  warnings.warn(PearsonRConstantInputWarning())\n"
     ]
    },
    {
     "name": "stdout",
     "output_type": "stream",
     "text": [
      "Epoch 72 end: 1.100475549697876, TRAIN MSE is: 2109.161376953125\n",
      "Validation loss: 485500.5000000 - MSE score: 2334.1369629\n",
      "Validation pearson is: nan\n",
      "Validation r2_score is: -1.5851223814823716\n",
      "-------------------------\n"
     ]
    },
    {
     "name": "stderr",
     "output_type": "stream",
     "text": [
      "/home/mbosnjak/.conda/envs/pero/lib/python3.7/site-packages/scipy/stats/stats.py:3399: PearsonRConstantInputWarning: An input array is constant; the correlation coefficent is not defined.\n",
      "  warnings.warn(PearsonRConstantInputWarning())\n"
     ]
    },
    {
     "name": "stdout",
     "output_type": "stream",
     "text": [
      "Epoch 73 end: 1.0594482421875, TRAIN MSE is: 2104.865966796875\n",
      "Validation loss: 484527.4687500 - MSE score: 2329.4587402\n",
      "Validation pearson is: nan\n",
      "Validation r2_score is: -1.5799412009128941\n",
      "-------------------------\n"
     ]
    },
    {
     "name": "stderr",
     "output_type": "stream",
     "text": [
      "/home/mbosnjak/.conda/envs/pero/lib/python3.7/site-packages/scipy/stats/stats.py:3399: PearsonRConstantInputWarning: An input array is constant; the correlation coefficent is not defined.\n",
      "  warnings.warn(PearsonRConstantInputWarning())\n"
     ]
    },
    {
     "name": "stdout",
     "output_type": "stream",
     "text": [
      "Epoch 74 end: 1.0946903228759766, TRAIN MSE is: 2100.527587890625\n",
      "Validation loss: 483571.6250000 - MSE score: 2324.8635254\n",
      "Validation pearson is: nan\n",
      "Validation r2_score is: -1.5748517976097136\n",
      "-------------------------\n"
     ]
    },
    {
     "name": "stderr",
     "output_type": "stream",
     "text": [
      "/home/mbosnjak/.conda/envs/pero/lib/python3.7/site-packages/scipy/stats/stats.py:3399: PearsonRConstantInputWarning: An input array is constant; the correlation coefficent is not defined.\n",
      "  warnings.warn(PearsonRConstantInputWarning())\n"
     ]
    },
    {
     "name": "stdout",
     "output_type": "stream",
     "text": [
      "Epoch 75 end: 1.1030340194702148, TRAIN MSE is: 2096.281494140625\n",
      "Validation loss: 482609.2187500 - MSE score: 2320.2365723\n",
      "Validation pearson is: nan\n",
      "Validation r2_score is: -1.5697272939102933\n",
      "-------------------------\n"
     ]
    },
    {
     "name": "stderr",
     "output_type": "stream",
     "text": [
      "/home/mbosnjak/.conda/envs/pero/lib/python3.7/site-packages/scipy/stats/stats.py:3399: PearsonRConstantInputWarning: An input array is constant; the correlation coefficent is not defined.\n",
      "  warnings.warn(PearsonRConstantInputWarning())\n"
     ]
    },
    {
     "name": "stdout",
     "output_type": "stream",
     "text": [
      "Epoch 76 end: 1.1218645572662354, TRAIN MSE is: 2092.010009765625\n",
      "Validation loss: 481650.8437500 - MSE score: 2315.6291504\n",
      "Validation pearson is: nan\n",
      "Validation r2_score is: -1.5646243109051543\n",
      "-------------------------\n"
     ]
    },
    {
     "name": "stderr",
     "output_type": "stream",
     "text": [
      "/home/mbosnjak/.conda/envs/pero/lib/python3.7/site-packages/scipy/stats/stats.py:3399: PearsonRConstantInputWarning: An input array is constant; the correlation coefficent is not defined.\n",
      "  warnings.warn(PearsonRConstantInputWarning())\n"
     ]
    },
    {
     "name": "stdout",
     "output_type": "stream",
     "text": [
      "Epoch 77 end: 1.0897469520568848, TRAIN MSE is: 2087.738525390625\n",
      "Validation loss: 480699.1875000 - MSE score: 2311.0537109\n",
      "Validation pearson is: nan\n",
      "Validation r2_score is: -1.5595570739802094\n",
      "-------------------------\n"
     ]
    },
    {
     "name": "stderr",
     "output_type": "stream",
     "text": [
      "/home/mbosnjak/.conda/envs/pero/lib/python3.7/site-packages/scipy/stats/stats.py:3399: PearsonRConstantInputWarning: An input array is constant; the correlation coefficent is not defined.\n",
      "  warnings.warn(PearsonRConstantInputWarning())\n"
     ]
    },
    {
     "name": "stdout",
     "output_type": "stream",
     "text": [
      "Epoch 78 end: 1.0503323078155518, TRAIN MSE is: 2083.512939453125\n",
      "Validation loss: 479743.9375000 - MSE score: 2306.4611816\n",
      "Validation pearson is: nan\n",
      "Validation r2_score is: -1.5544707059776526\n",
      "-------------------------\n"
     ]
    },
    {
     "name": "stderr",
     "output_type": "stream",
     "text": [
      "/home/mbosnjak/.conda/envs/pero/lib/python3.7/site-packages/scipy/stats/stats.py:3399: PearsonRConstantInputWarning: An input array is constant; the correlation coefficent is not defined.\n",
      "  warnings.warn(PearsonRConstantInputWarning())\n"
     ]
    },
    {
     "name": "stdout",
     "output_type": "stream",
     "text": [
      "Epoch 79 end: 1.0572102069854736, TRAIN MSE is: 2079.30712890625\n",
      "Validation loss: 478783.2500000 - MSE score: 2301.8425293\n",
      "Validation pearson is: nan\n",
      "Validation r2_score is: -1.5493554940274952\n",
      "-------------------------\n"
     ]
    },
    {
     "name": "stderr",
     "output_type": "stream",
     "text": [
      "/home/mbosnjak/.conda/envs/pero/lib/python3.7/site-packages/scipy/stats/stats.py:3399: PearsonRConstantInputWarning: An input array is constant; the correlation coefficent is not defined.\n",
      "  warnings.warn(PearsonRConstantInputWarning())\n"
     ]
    },
    {
     "name": "stdout",
     "output_type": "stream",
     "text": [
      "Epoch 80 end: 1.0502655506134033, TRAIN MSE is: 2075.03369140625\n",
      "Validation loss: 477838.5937500 - MSE score: 2297.3012695\n",
      "Validation pearson is: nan\n",
      "Validation r2_score is: -1.5443256883232501\n",
      "-------------------------\n"
     ]
    },
    {
     "name": "stderr",
     "output_type": "stream",
     "text": [
      "/home/mbosnjak/.conda/envs/pero/lib/python3.7/site-packages/scipy/stats/stats.py:3399: PearsonRConstantInputWarning: An input array is constant; the correlation coefficent is not defined.\n",
      "  warnings.warn(PearsonRConstantInputWarning())\n"
     ]
    },
    {
     "name": "stdout",
     "output_type": "stream",
     "text": [
      "Epoch 81 end: 1.0544791221618652, TRAIN MSE is: 2070.8388671875\n",
      "Validation loss: 476890.7187500 - MSE score: 2292.7438965\n",
      "Validation pearson is: nan\n",
      "Validation r2_score is: -1.5392783387932418\n",
      "-------------------------\n"
     ]
    },
    {
     "name": "stderr",
     "output_type": "stream",
     "text": [
      "/home/mbosnjak/.conda/envs/pero/lib/python3.7/site-packages/scipy/stats/stats.py:3399: PearsonRConstantInputWarning: An input array is constant; the correlation coefficent is not defined.\n",
      "  warnings.warn(PearsonRConstantInputWarning())\n"
     ]
    },
    {
     "name": "stdout",
     "output_type": "stream",
     "text": [
      "Epoch 82 end: 1.0601041316986084, TRAIN MSE is: 2066.632568359375\n",
      "Validation loss: 475945.8750000 - MSE score: 2288.2014160\n",
      "Validation pearson is: nan\n",
      "Validation r2_score is: -1.5342473297530965\n",
      "-------------------------\n"
     ]
    },
    {
     "name": "stderr",
     "output_type": "stream",
     "text": [
      "/home/mbosnjak/.conda/envs/pero/lib/python3.7/site-packages/scipy/stats/stats.py:3399: PearsonRConstantInputWarning: An input array is constant; the correlation coefficent is not defined.\n",
      "  warnings.warn(PearsonRConstantInputWarning())\n"
     ]
    },
    {
     "name": "stdout",
     "output_type": "stream",
     "text": [
      "Epoch 83 end: 1.0650320053100586, TRAIN MSE is: 2062.44970703125\n",
      "Validation loss: 475000.1250000 - MSE score: 2283.6545410\n",
      "Validation pearson is: nan\n",
      "Validation r2_score is: -1.5292113982523738\n",
      "-------------------------\n"
     ]
    },
    {
     "name": "stderr",
     "output_type": "stream",
     "text": [
      "/home/mbosnjak/.conda/envs/pero/lib/python3.7/site-packages/scipy/stats/stats.py:3399: PearsonRConstantInputWarning: An input array is constant; the correlation coefficent is not defined.\n",
      "  warnings.warn(PearsonRConstantInputWarning())\n"
     ]
    },
    {
     "name": "stdout",
     "output_type": "stream",
     "text": [
      "Epoch 84 end: 1.0834698677062988, TRAIN MSE is: 2058.25244140625\n",
      "Validation loss: 474060.7812500 - MSE score: 2279.1384277\n",
      "Validation pearson is: nan\n",
      "Validation r2_score is: -1.5242099895491936\n",
      "-------------------------\n"
     ]
    },
    {
     "name": "stderr",
     "output_type": "stream",
     "text": [
      "/home/mbosnjak/.conda/envs/pero/lib/python3.7/site-packages/scipy/stats/stats.py:3399: PearsonRConstantInputWarning: An input array is constant; the correlation coefficent is not defined.\n",
      "  warnings.warn(PearsonRConstantInputWarning())\n"
     ]
    },
    {
     "name": "stdout",
     "output_type": "stream",
     "text": [
      "Epoch 85 end: 1.065828800201416, TRAIN MSE is: 2054.05322265625\n",
      "Validation loss: 473131.0312500 - MSE score: 2274.6684570\n",
      "Validation pearson is: nan\n",
      "Validation r2_score is: -1.5192593852575316\n",
      "-------------------------\n"
     ]
    },
    {
     "name": "stderr",
     "output_type": "stream",
     "text": [
      "/home/mbosnjak/.conda/envs/pero/lib/python3.7/site-packages/scipy/stats/stats.py:3399: PearsonRConstantInputWarning: An input array is constant; the correlation coefficent is not defined.\n",
      "  warnings.warn(PearsonRConstantInputWarning())\n"
     ]
    },
    {
     "name": "stdout",
     "output_type": "stream",
     "text": [
      "Epoch 86 end: 1.1252284049987793, TRAIN MSE is: 2049.92724609375\n",
      "Validation loss: 472192.6250000 - MSE score: 2270.1567383\n",
      "Validation pearson is: nan\n",
      "Validation r2_score is: -1.5142626352222845\n",
      "-------------------------\n"
     ]
    },
    {
     "name": "stderr",
     "output_type": "stream",
     "text": [
      "/home/mbosnjak/.conda/envs/pero/lib/python3.7/site-packages/scipy/stats/stats.py:3399: PearsonRConstantInputWarning: An input array is constant; the correlation coefficent is not defined.\n",
      "  warnings.warn(PearsonRConstantInputWarning())\n"
     ]
    },
    {
     "name": "stdout",
     "output_type": "stream",
     "text": [
      "Epoch 87 end: 1.0411558151245117, TRAIN MSE is: 2045.784912109375\n",
      "Validation loss: 471253.5937500 - MSE score: 2265.6420898\n",
      "Validation pearson is: nan\n",
      "Validation r2_score is: -1.5092625483096693\n",
      "-------------------------\n"
     ]
    },
    {
     "name": "stderr",
     "output_type": "stream",
     "text": [
      "/home/mbosnjak/.conda/envs/pero/lib/python3.7/site-packages/scipy/stats/stats.py:3399: PearsonRConstantInputWarning: An input array is constant; the correlation coefficent is not defined.\n",
      "  warnings.warn(PearsonRConstantInputWarning())\n"
     ]
    },
    {
     "name": "stdout",
     "output_type": "stream",
     "text": [
      "Epoch 88 end: 1.0551073551177979, TRAIN MSE is: 2041.6224365234375\n",
      "Validation loss: 470322.3437500 - MSE score: 2261.1650391\n",
      "Validation pearson is: nan\n",
      "Validation r2_score is: -1.5043039014829405\n",
      "-------------------------\n"
     ]
    },
    {
     "name": "stderr",
     "output_type": "stream",
     "text": [
      "/home/mbosnjak/.conda/envs/pero/lib/python3.7/site-packages/scipy/stats/stats.py:3399: PearsonRConstantInputWarning: An input array is constant; the correlation coefficent is not defined.\n",
      "  warnings.warn(PearsonRConstantInputWarning())\n"
     ]
    },
    {
     "name": "stdout",
     "output_type": "stream",
     "text": [
      "Epoch 89 end: 1.0591566562652588, TRAIN MSE is: 2037.492431640625\n",
      "Validation loss: 469392.3750000 - MSE score: 2256.6940918\n",
      "Validation pearson is: nan\n",
      "Validation r2_score is: -1.499352178876339\n",
      "-------------------------\n"
     ]
    },
    {
     "name": "stderr",
     "output_type": "stream",
     "text": [
      "/home/mbosnjak/.conda/envs/pero/lib/python3.7/site-packages/scipy/stats/stats.py:3399: PearsonRConstantInputWarning: An input array is constant; the correlation coefficent is not defined.\n",
      "  warnings.warn(PearsonRConstantInputWarning())\n"
     ]
    },
    {
     "name": "stdout",
     "output_type": "stream",
     "text": [
      "Epoch 90 end: 1.0607855319976807, TRAIN MSE is: 2033.3299560546875\n",
      "Validation loss: 468476.1875000 - MSE score: 2252.2893066\n",
      "Validation pearson is: nan\n",
      "Validation r2_score is: -1.4944737977144724\n",
      "-------------------------\n"
     ]
    },
    {
     "name": "stderr",
     "output_type": "stream",
     "text": [
      "/home/mbosnjak/.conda/envs/pero/lib/python3.7/site-packages/scipy/stats/stats.py:3399: PearsonRConstantInputWarning: An input array is constant; the correlation coefficent is not defined.\n",
      "  warnings.warn(PearsonRConstantInputWarning())\n"
     ]
    },
    {
     "name": "stdout",
     "output_type": "stream",
     "text": [
      "Epoch 91 end: 1.2016212940216064, TRAIN MSE is: 2029.273193359375\n",
      "Validation loss: 467545.6562500 - MSE score: 2247.8156738\n",
      "Validation pearson is: nan\n",
      "Validation r2_score is: -1.4895190758151675\n",
      "-------------------------\n"
     ]
    },
    {
     "name": "stderr",
     "output_type": "stream",
     "text": [
      "/home/mbosnjak/.conda/envs/pero/lib/python3.7/site-packages/scipy/stats/stats.py:3399: PearsonRConstantInputWarning: An input array is constant; the correlation coefficent is not defined.\n",
      "  warnings.warn(PearsonRConstantInputWarning())\n"
     ]
    },
    {
     "name": "stdout",
     "output_type": "stream",
     "text": [
      "Epoch 92 end: 1.1137728691101074, TRAIN MSE is: 2025.1783447265625\n",
      "Validation loss: 466615.0937500 - MSE score: 2243.3417969\n",
      "Validation pearson is: nan\n",
      "Validation r2_score is: -1.4845640799504154\n",
      "-------------------------\n"
     ]
    },
    {
     "name": "stderr",
     "output_type": "stream",
     "text": [
      "/home/mbosnjak/.conda/envs/pero/lib/python3.7/site-packages/scipy/stats/stats.py:3399: PearsonRConstantInputWarning: An input array is constant; the correlation coefficent is not defined.\n",
      "  warnings.warn(PearsonRConstantInputWarning())\n"
     ]
    },
    {
     "name": "stdout",
     "output_type": "stream",
     "text": [
      "Epoch 93 end: 1.0902016162872314, TRAIN MSE is: 2021.0430908203125\n",
      "Validation loss: 465698.9062500 - MSE score: 2238.9370117\n",
      "Validation pearson is: nan\n",
      "Validation r2_score is: -1.4796855601471481\n",
      "-------------------------\n"
     ]
    },
    {
     "name": "stderr",
     "output_type": "stream",
     "text": [
      "/home/mbosnjak/.conda/envs/pero/lib/python3.7/site-packages/scipy/stats/stats.py:3399: PearsonRConstantInputWarning: An input array is constant; the correlation coefficent is not defined.\n",
      "  warnings.warn(PearsonRConstantInputWarning())\n"
     ]
    },
    {
     "name": "stdout",
     "output_type": "stream",
     "text": [
      "Epoch 94 end: 1.061772346496582, TRAIN MSE is: 2017.00390625\n",
      "Validation loss: 464772.3750000 - MSE score: 2234.4826660\n",
      "Validation pearson is: nan\n",
      "Validation r2_score is: -1.4747523882714622\n",
      "-------------------------\n"
     ]
    },
    {
     "name": "stderr",
     "output_type": "stream",
     "text": [
      "/home/mbosnjak/.conda/envs/pero/lib/python3.7/site-packages/scipy/stats/stats.py:3399: PearsonRConstantInputWarning: An input array is constant; the correlation coefficent is not defined.\n",
      "  warnings.warn(PearsonRConstantInputWarning())\n"
     ]
    },
    {
     "name": "stdout",
     "output_type": "stream",
     "text": [
      "Epoch 95 end: 1.045656442642212, TRAIN MSE is: 2012.89892578125\n",
      "Validation loss: 463857.4062500 - MSE score: 2230.0834961\n",
      "Validation pearson is: nan\n",
      "Validation r2_score is: -1.4698803536985987\n",
      "-------------------------\n"
     ]
    },
    {
     "name": "stderr",
     "output_type": "stream",
     "text": [
      "/home/mbosnjak/.conda/envs/pero/lib/python3.7/site-packages/scipy/stats/stats.py:3399: PearsonRConstantInputWarning: An input array is constant; the correlation coefficent is not defined.\n",
      "  warnings.warn(PearsonRConstantInputWarning())\n"
     ]
    },
    {
     "name": "stdout",
     "output_type": "stream",
     "text": [
      "Epoch 96 end: 1.0562396049499512, TRAIN MSE is: 2008.8489990234375\n",
      "Validation loss: 462940.8125000 - MSE score: 2225.6770020\n",
      "Validation pearson is: nan\n",
      "Validation r2_score is: -1.4649999216651413\n",
      "-------------------------\n"
     ]
    },
    {
     "name": "stderr",
     "output_type": "stream",
     "text": [
      "/home/mbosnjak/.conda/envs/pero/lib/python3.7/site-packages/scipy/stats/stats.py:3399: PearsonRConstantInputWarning: An input array is constant; the correlation coefficent is not defined.\n",
      "  warnings.warn(PearsonRConstantInputWarning())\n"
     ]
    },
    {
     "name": "stdout",
     "output_type": "stream",
     "text": [
      "Epoch 97 end: 1.064246416091919, TRAIN MSE is: 2004.8016357421875\n",
      "Validation loss: 462024.9375000 - MSE score: 2221.2736816\n",
      "Validation pearson is: nan\n",
      "Validation r2_score is: -1.4601230246209855\n",
      "-------------------------\n"
     ]
    },
    {
     "name": "stderr",
     "output_type": "stream",
     "text": [
      "/home/mbosnjak/.conda/envs/pero/lib/python3.7/site-packages/scipy/stats/stats.py:3399: PearsonRConstantInputWarning: An input array is constant; the correlation coefficent is not defined.\n",
      "  warnings.warn(PearsonRConstantInputWarning())\n"
     ]
    },
    {
     "name": "stdout",
     "output_type": "stream",
     "text": [
      "Epoch 98 end: 1.0571322441101074, TRAIN MSE is: 2000.706787109375\n",
      "Validation loss: 461125.8437500 - MSE score: 2216.9511719\n",
      "Validation pearson is: nan\n",
      "Validation r2_score is: -1.4553357653224341\n",
      "-------------------------\n"
     ]
    },
    {
     "name": "stderr",
     "output_type": "stream",
     "text": [
      "/home/mbosnjak/.conda/envs/pero/lib/python3.7/site-packages/scipy/stats/stats.py:3399: PearsonRConstantInputWarning: An input array is constant; the correlation coefficent is not defined.\n",
      "  warnings.warn(PearsonRConstantInputWarning())\n"
     ]
    },
    {
     "name": "stdout",
     "output_type": "stream",
     "text": [
      "Epoch 99 end: 1.0558748245239258, TRAIN MSE is: 1996.6951904296875\n",
      "Validation loss: 460221.9375000 - MSE score: 2212.6054688\n",
      "Validation pearson is: nan\n",
      "Validation r2_score is: -1.4505228893931972\n",
      "-------------------------\n"
     ]
    },
    {
     "name": "stderr",
     "output_type": "stream",
     "text": [
      "/home/mbosnjak/.conda/envs/pero/lib/python3.7/site-packages/scipy/stats/stats.py:3399: PearsonRConstantInputWarning: An input array is constant; the correlation coefficent is not defined.\n",
      "  warnings.warn(PearsonRConstantInputWarning())\n"
     ]
    },
    {
     "name": "stdout",
     "output_type": "stream",
     "text": [
      "Epoch 100 end: 1.0561833381652832, TRAIN MSE is: 1992.9083251953125\n",
      "Validation loss: 459396.5625000 - MSE score: 2208.6372070\n",
      "Validation pearson is: nan\n",
      "Validation r2_score is: -1.4461279389303394\n",
      "-------------------------\n"
     ]
    },
    {
     "name": "stderr",
     "output_type": "stream",
     "text": [
      "/home/mbosnjak/.conda/envs/pero/lib/python3.7/site-packages/scipy/stats/stats.py:3399: PearsonRConstantInputWarning: An input array is constant; the correlation coefficent is not defined.\n",
      "  warnings.warn(PearsonRConstantInputWarning())\n"
     ]
    },
    {
     "name": "stdout",
     "output_type": "stream",
     "text": [
      "Epoch 101 end: 1.1111276149749756, TRAIN MSE is: 1989.2193603515625\n",
      "Validation loss: 458594.6562500 - MSE score: 2204.7822266\n",
      "Validation pearson is: nan\n",
      "Validation r2_score is: -1.4418582858424127\n",
      "-------------------------\n"
     ]
    },
    {
     "name": "stderr",
     "output_type": "stream",
     "text": [
      "/home/mbosnjak/.conda/envs/pero/lib/python3.7/site-packages/scipy/stats/stats.py:3399: PearsonRConstantInputWarning: An input array is constant; the correlation coefficent is not defined.\n",
      "  warnings.warn(PearsonRConstantInputWarning())\n"
     ]
    },
    {
     "name": "stdout",
     "output_type": "stream",
     "text": [
      "Epoch 102 end: 1.0441503524780273, TRAIN MSE is: 1985.69580078125\n",
      "Validation loss: 457770.0625000 - MSE score: 2200.8178711\n",
      "Validation pearson is: nan\n",
      "Validation r2_score is: -1.4374675485747486\n",
      "-------------------------\n"
     ]
    },
    {
     "name": "stderr",
     "output_type": "stream",
     "text": [
      "/home/mbosnjak/.conda/envs/pero/lib/python3.7/site-packages/scipy/stats/stats.py:3399: PearsonRConstantInputWarning: An input array is constant; the correlation coefficent is not defined.\n",
      "  warnings.warn(PearsonRConstantInputWarning())\n"
     ]
    },
    {
     "name": "stdout",
     "output_type": "stream",
     "text": [
      "Epoch 103 end: 1.0773329734802246, TRAIN MSE is: 1982.048095703125\n",
      "Validation loss: 456961.7187500 - MSE score: 2196.9313965\n",
      "Validation pearson is: nan\n",
      "Validation r2_score is: -1.4331631919103223\n",
      "-------------------------\n"
     ]
    },
    {
     "name": "stderr",
     "output_type": "stream",
     "text": [
      "/home/mbosnjak/.conda/envs/pero/lib/python3.7/site-packages/scipy/stats/stats.py:3399: PearsonRConstantInputWarning: An input array is constant; the correlation coefficent is not defined.\n",
      "  warnings.warn(PearsonRConstantInputWarning())\n"
     ]
    },
    {
     "name": "stdout",
     "output_type": "stream",
     "text": [
      "Epoch 104 end: 1.0999767780303955, TRAIN MSE is: 1978.4876708984375\n",
      "Validation loss: 456145.6875000 - MSE score: 2193.0080566\n",
      "Validation pearson is: nan\n",
      "Validation r2_score is: -1.4288181671454736\n",
      "-------------------------\n"
     ]
    },
    {
     "name": "stderr",
     "output_type": "stream",
     "text": [
      "/home/mbosnjak/.conda/envs/pero/lib/python3.7/site-packages/scipy/stats/stats.py:3399: PearsonRConstantInputWarning: An input array is constant; the correlation coefficent is not defined.\n",
      "  warnings.warn(PearsonRConstantInputWarning())\n"
     ]
    },
    {
     "name": "stdout",
     "output_type": "stream",
     "text": [
      "Epoch 105 end: 1.0917634963989258, TRAIN MSE is: 1974.875732421875\n",
      "Validation loss: 455339.5312500 - MSE score: 2189.1325684\n",
      "Validation pearson is: nan\n",
      "Validation r2_score is: -1.4245256760671823\n",
      "-------------------------\n"
     ]
    },
    {
     "name": "stderr",
     "output_type": "stream",
     "text": [
      "/home/mbosnjak/.conda/envs/pero/lib/python3.7/site-packages/scipy/stats/stats.py:3399: PearsonRConstantInputWarning: An input array is constant; the correlation coefficent is not defined.\n",
      "  warnings.warn(PearsonRConstantInputWarning())\n"
     ]
    },
    {
     "name": "stdout",
     "output_type": "stream",
     "text": [
      "Epoch 106 end: 1.0484535694122314, TRAIN MSE is: 1971.28759765625\n",
      "Validation loss: 454538.3750000 - MSE score: 2185.2807617\n",
      "Validation pearson is: nan\n",
      "Validation r2_score is: -1.4202597839989286\n",
      "-------------------------\n"
     ]
    },
    {
     "name": "stderr",
     "output_type": "stream",
     "text": [
      "/home/mbosnjak/.conda/envs/pero/lib/python3.7/site-packages/scipy/stats/stats.py:3399: PearsonRConstantInputWarning: An input array is constant; the correlation coefficent is not defined.\n",
      "  warnings.warn(PearsonRConstantInputWarning())\n"
     ]
    },
    {
     "name": "stdout",
     "output_type": "stream",
     "text": [
      "Epoch 107 end: 1.0709996223449707, TRAIN MSE is: 1967.7337646484375\n",
      "Validation loss: 453734.4062500 - MSE score: 2181.4152832\n",
      "Validation pearson is: nan\n",
      "Validation r2_score is: -1.4159788212592144\n",
      "-------------------------\n"
     ]
    },
    {
     "name": "stderr",
     "output_type": "stream",
     "text": [
      "/home/mbosnjak/.conda/envs/pero/lib/python3.7/site-packages/scipy/stats/stats.py:3399: PearsonRConstantInputWarning: An input array is constant; the correlation coefficent is not defined.\n",
      "  warnings.warn(PearsonRConstantInputWarning())\n"
     ]
    },
    {
     "name": "stdout",
     "output_type": "stream",
     "text": [
      "Epoch 108 end: 1.0457024574279785, TRAIN MSE is: 1964.1842041015625\n",
      "Validation loss: 452928.5937500 - MSE score: 2177.5415039\n",
      "Validation pearson is: nan\n",
      "Validation r2_score is: -1.4116883237558695\n",
      "-------------------------\n"
     ]
    },
    {
     "name": "stderr",
     "output_type": "stream",
     "text": [
      "/home/mbosnjak/.conda/envs/pero/lib/python3.7/site-packages/scipy/stats/stats.py:3399: PearsonRConstantInputWarning: An input array is constant; the correlation coefficent is not defined.\n",
      "  warnings.warn(PearsonRConstantInputWarning())\n"
     ]
    },
    {
     "name": "stdout",
     "output_type": "stream",
     "text": [
      "Epoch 109 end: 1.0521550178527832, TRAIN MSE is: 1960.6171875\n",
      "Validation loss: 452128.2812500 - MSE score: 2173.6936035\n",
      "Validation pearson is: nan\n",
      "Validation r2_score is: -1.4074268208684981\n",
      "-------------------------\n"
     ]
    },
    {
     "name": "stderr",
     "output_type": "stream",
     "text": [
      "/home/mbosnjak/.conda/envs/pero/lib/python3.7/site-packages/scipy/stats/stats.py:3399: PearsonRConstantInputWarning: An input array is constant; the correlation coefficent is not defined.\n",
      "  warnings.warn(PearsonRConstantInputWarning())\n"
     ]
    },
    {
     "name": "stdout",
     "output_type": "stream",
     "text": [
      "Epoch 110 end: 1.0587844848632812, TRAIN MSE is: 1957.07763671875\n",
      "Validation loss: 451327.5625000 - MSE score: 2169.8439941\n",
      "Validation pearson is: nan\n",
      "Validation r2_score is: -1.4031632695330059\n",
      "-------------------------\n"
     ]
    },
    {
     "name": "stderr",
     "output_type": "stream",
     "text": [
      "/home/mbosnjak/.conda/envs/pero/lib/python3.7/site-packages/scipy/stats/stats.py:3399: PearsonRConstantInputWarning: An input array is constant; the correlation coefficent is not defined.\n",
      "  warnings.warn(PearsonRConstantInputWarning())\n"
     ]
    },
    {
     "name": "stdout",
     "output_type": "stream",
     "text": [
      "Epoch 111 end: 1.0400753021240234, TRAIN MSE is: 1953.56494140625\n",
      "Validation loss: 450521.5625000 - MSE score: 2165.9689941\n",
      "Validation pearson is: nan\n",
      "Validation r2_score is: -1.3988717042000993\n",
      "-------------------------\n"
     ]
    },
    {
     "name": "stderr",
     "output_type": "stream",
     "text": [
      "/home/mbosnjak/.conda/envs/pero/lib/python3.7/site-packages/scipy/stats/stats.py:3399: PearsonRConstantInputWarning: An input array is constant; the correlation coefficent is not defined.\n",
      "  warnings.warn(PearsonRConstantInputWarning())\n"
     ]
    },
    {
     "name": "stdout",
     "output_type": "stream",
     "text": [
      "Epoch 112 end: 1.0401647090911865, TRAIN MSE is: 1949.990966796875\n",
      "Validation loss: 449729.2812500 - MSE score: 2162.1599121\n",
      "Validation pearson is: nan\n",
      "Validation r2_score is: -1.3946530940815682\n",
      "-------------------------\n"
     ]
    },
    {
     "name": "stderr",
     "output_type": "stream",
     "text": [
      "/home/mbosnjak/.conda/envs/pero/lib/python3.7/site-packages/scipy/stats/stats.py:3399: PearsonRConstantInputWarning: An input array is constant; the correlation coefficent is not defined.\n",
      "  warnings.warn(PearsonRConstantInputWarning())\n"
     ]
    },
    {
     "name": "stdout",
     "output_type": "stream",
     "text": [
      "Epoch 113 end: 1.0402796268463135, TRAIN MSE is: 1946.501708984375\n",
      "Validation loss: 448928.8125000 - MSE score: 2158.3115234\n",
      "Validation pearson is: nan\n",
      "Validation r2_score is: -1.3903908940735752\n",
      "-------------------------\n"
     ]
    },
    {
     "name": "stderr",
     "output_type": "stream",
     "text": [
      "/home/mbosnjak/.conda/envs/pero/lib/python3.7/site-packages/scipy/stats/stats.py:3399: PearsonRConstantInputWarning: An input array is constant; the correlation coefficent is not defined.\n",
      "  warnings.warn(PearsonRConstantInputWarning())\n"
     ]
    },
    {
     "name": "stdout",
     "output_type": "stream",
     "text": [
      "Epoch 114 end: 1.0624797344207764, TRAIN MSE is: 1942.966064453125\n",
      "Validation loss: 448135.8125000 - MSE score: 2154.4990234\n",
      "Validation pearson is: nan\n",
      "Validation r2_score is: -1.3861682675518647\n",
      "-------------------------\n"
     ]
    },
    {
     "name": "stderr",
     "output_type": "stream",
     "text": [
      "/home/mbosnjak/.conda/envs/pero/lib/python3.7/site-packages/scipy/stats/stats.py:3399: PearsonRConstantInputWarning: An input array is constant; the correlation coefficent is not defined.\n",
      "  warnings.warn(PearsonRConstantInputWarning())\n"
     ]
    },
    {
     "name": "stdout",
     "output_type": "stream",
     "text": [
      "Epoch 115 end: 1.0804078578948975, TRAIN MSE is: 1939.434814453125\n",
      "Validation loss: 447350.5625000 - MSE score: 2150.7236328\n",
      "Validation pearson is: nan\n",
      "Validation r2_score is: -1.3819870556039602\n",
      "-------------------------\n"
     ]
    },
    {
     "name": "stderr",
     "output_type": "stream",
     "text": [
      "/home/mbosnjak/.conda/envs/pero/lib/python3.7/site-packages/scipy/stats/stats.py:3399: PearsonRConstantInputWarning: An input array is constant; the correlation coefficent is not defined.\n",
      "  warnings.warn(PearsonRConstantInputWarning())\n"
     ]
    },
    {
     "name": "stdout",
     "output_type": "stream",
     "text": [
      "Epoch 116 end: 1.0459189414978027, TRAIN MSE is: 1935.969970703125\n",
      "Validation loss: 446556.1250000 - MSE score: 2146.9045410\n",
      "Validation pearson is: nan\n",
      "Validation r2_score is: -1.3777572477558664\n",
      "-------------------------\n"
     ]
    },
    {
     "name": "stderr",
     "output_type": "stream",
     "text": [
      "/home/mbosnjak/.conda/envs/pero/lib/python3.7/site-packages/scipy/stats/stats.py:3399: PearsonRConstantInputWarning: An input array is constant; the correlation coefficent is not defined.\n",
      "  warnings.warn(PearsonRConstantInputWarning())\n"
     ]
    },
    {
     "name": "stdout",
     "output_type": "stream",
     "text": [
      "Epoch 117 end: 1.0588011741638184, TRAIN MSE is: 1932.45068359375\n",
      "Validation loss: 445770.6250000 - MSE score: 2143.1279297\n",
      "Validation pearson is: nan\n",
      "Validation r2_score is: -1.3735743363027062\n",
      "-------------------------\n"
     ]
    },
    {
     "name": "stderr",
     "output_type": "stream",
     "text": [
      "/home/mbosnjak/.conda/envs/pero/lib/python3.7/site-packages/scipy/stats/stats.py:3399: PearsonRConstantInputWarning: An input array is constant; the correlation coefficent is not defined.\n",
      "  warnings.warn(PearsonRConstantInputWarning())\n"
     ]
    },
    {
     "name": "stdout",
     "output_type": "stream",
     "text": [
      "Epoch 118 end: 1.0691657066345215, TRAIN MSE is: 1928.9681396484375\n",
      "Validation loss: 444985.0000000 - MSE score: 2139.3510742\n",
      "Validation pearson is: nan\n",
      "Validation r2_score is: -1.3693913885363709\n",
      "-------------------------\n"
     ]
    },
    {
     "name": "stderr",
     "output_type": "stream",
     "text": [
      "/home/mbosnjak/.conda/envs/pero/lib/python3.7/site-packages/scipy/stats/stats.py:3399: PearsonRConstantInputWarning: An input array is constant; the correlation coefficent is not defined.\n",
      "  warnings.warn(PearsonRConstantInputWarning())\n"
     ]
    },
    {
     "name": "stdout",
     "output_type": "stream",
     "text": [
      "Epoch 119 end: 1.081144094467163, TRAIN MSE is: 1925.5206298828125\n",
      "Validation loss: 444191.7500000 - MSE score: 2135.5373535\n",
      "Validation pearson is: nan\n",
      "Validation r2_score is: -1.365167691077049\n",
      "-------------------------\n"
     ]
    },
    {
     "name": "stderr",
     "output_type": "stream",
     "text": [
      "/home/mbosnjak/.conda/envs/pero/lib/python3.7/site-packages/scipy/stats/stats.py:3399: PearsonRConstantInputWarning: An input array is constant; the correlation coefficent is not defined.\n",
      "  warnings.warn(PearsonRConstantInputWarning())\n"
     ]
    },
    {
     "name": "stdout",
     "output_type": "stream",
     "text": [
      "Epoch 120 end: 1.0561490058898926, TRAIN MSE is: 1922.01318359375\n",
      "Validation loss: 443410.3437500 - MSE score: 2131.7807617\n",
      "Validation pearson is: nan\n",
      "Validation r2_score is: -1.3610069767095228\n",
      "-------------------------\n"
     ]
    },
    {
     "name": "stderr",
     "output_type": "stream",
     "text": [
      "/home/mbosnjak/.conda/envs/pero/lib/python3.7/site-packages/scipy/stats/stats.py:3399: PearsonRConstantInputWarning: An input array is constant; the correlation coefficent is not defined.\n",
      "  warnings.warn(PearsonRConstantInputWarning())\n"
     ]
    },
    {
     "name": "stdout",
     "output_type": "stream",
     "text": [
      "Epoch 121 end: 1.0902955532073975, TRAIN MSE is: 1918.569091796875\n",
      "Validation loss: 442624.3750000 - MSE score: 2128.0017090\n",
      "Validation pearson is: nan\n",
      "Validation r2_score is: -1.356821769366194\n",
      "-------------------------\n"
     ]
    },
    {
     "name": "stderr",
     "output_type": "stream",
     "text": [
      "/home/mbosnjak/.conda/envs/pero/lib/python3.7/site-packages/scipy/stats/stats.py:3399: PearsonRConstantInputWarning: An input array is constant; the correlation coefficent is not defined.\n",
      "  warnings.warn(PearsonRConstantInputWarning())\n"
     ]
    },
    {
     "name": "stdout",
     "output_type": "stream",
     "text": [
      "Epoch 122 end: 1.0758228302001953, TRAIN MSE is: 1915.079345703125\n",
      "Validation loss: 441849.2500000 - MSE score: 2124.2751465\n",
      "Validation pearson is: nan\n",
      "Validation r2_score is: -1.3526945798923213\n",
      "-------------------------\n"
     ]
    },
    {
     "name": "stderr",
     "output_type": "stream",
     "text": [
      "/home/mbosnjak/.conda/envs/pero/lib/python3.7/site-packages/scipy/stats/stats.py:3399: PearsonRConstantInputWarning: An input array is constant; the correlation coefficent is not defined.\n",
      "  warnings.warn(PearsonRConstantInputWarning())\n"
     ]
    },
    {
     "name": "stdout",
     "output_type": "stream",
     "text": [
      "Epoch 123 end: 1.0811212062835693, TRAIN MSE is: 1911.668212890625\n",
      "Validation loss: 441063.9687500 - MSE score: 2120.5000000\n",
      "Validation pearson is: nan\n",
      "Validation r2_score is: -1.3485132435391312\n",
      "-------------------------\n"
     ]
    },
    {
     "name": "stderr",
     "output_type": "stream",
     "text": [
      "/home/mbosnjak/.conda/envs/pero/lib/python3.7/site-packages/scipy/stats/stats.py:3399: PearsonRConstantInputWarning: An input array is constant; the correlation coefficent is not defined.\n",
      "  warnings.warn(PearsonRConstantInputWarning())\n"
     ]
    },
    {
     "name": "stdout",
     "output_type": "stream",
     "text": [
      "Epoch 124 end: 1.0627224445343018, TRAIN MSE is: 1908.19677734375\n",
      "Validation loss: 440288.4687500 - MSE score: 2116.7717285\n",
      "Validation pearson is: nan\n",
      "Validation r2_score is: -1.344383967751571\n",
      "-------------------------\n"
     ]
    },
    {
     "name": "stderr",
     "output_type": "stream",
     "text": [
      "/home/mbosnjak/.conda/envs/pero/lib/python3.7/site-packages/scipy/stats/stats.py:3399: PearsonRConstantInputWarning: An input array is constant; the correlation coefficent is not defined.\n",
      "  warnings.warn(PearsonRConstantInputWarning())\n"
     ]
    },
    {
     "name": "stdout",
     "output_type": "stream",
     "text": [
      "Epoch 125 end: 1.0639734268188477, TRAIN MSE is: 1904.7735595703125\n",
      "Validation loss: 439510.8125000 - MSE score: 2113.0327148\n",
      "Validation pearson is: nan\n",
      "Validation r2_score is: -1.3402431178873973\n",
      "-------------------------\n"
     ]
    },
    {
     "name": "stderr",
     "output_type": "stream",
     "text": [
      "/home/mbosnjak/.conda/envs/pero/lib/python3.7/site-packages/scipy/stats/stats.py:3399: PearsonRConstantInputWarning: An input array is constant; the correlation coefficent is not defined.\n",
      "  warnings.warn(PearsonRConstantInputWarning())\n"
     ]
    },
    {
     "name": "stdout",
     "output_type": "stream",
     "text": [
      "Epoch 126 end: 1.046680212020874, TRAIN MSE is: 1901.3509521484375\n",
      "Validation loss: 438732.9375000 - MSE score: 2109.2929688\n",
      "Validation pearson is: nan\n",
      "Validation r2_score is: -1.336101332119902\n",
      "-------------------------\n"
     ]
    },
    {
     "name": "stderr",
     "output_type": "stream",
     "text": [
      "/home/mbosnjak/.conda/envs/pero/lib/python3.7/site-packages/scipy/stats/stats.py:3399: PearsonRConstantInputWarning: An input array is constant; the correlation coefficent is not defined.\n",
      "  warnings.warn(PearsonRConstantInputWarning())\n"
     ]
    },
    {
     "name": "stdout",
     "output_type": "stream",
     "text": [
      "Epoch 127 end: 1.045278787612915, TRAIN MSE is: 1897.9276123046875\n",
      "Validation loss: 437957.2500000 - MSE score: 2105.5634766\n",
      "Validation pearson is: nan\n",
      "Validation r2_score is: -1.331970930561094\n",
      "-------------------------\n"
     ]
    },
    {
     "name": "stderr",
     "output_type": "stream",
     "text": [
      "/home/mbosnjak/.conda/envs/pero/lib/python3.7/site-packages/scipy/stats/stats.py:3399: PearsonRConstantInputWarning: An input array is constant; the correlation coefficent is not defined.\n",
      "  warnings.warn(PearsonRConstantInputWarning())\n"
     ]
    },
    {
     "name": "stdout",
     "output_type": "stream",
     "text": [
      "Epoch 128 end: 1.0433833599090576, TRAIN MSE is: 1894.52880859375\n",
      "Validation loss: 437179.0000000 - MSE score: 2101.8220215\n",
      "Validation pearson is: nan\n",
      "Validation r2_score is: -1.3278271736997893\n",
      "-------------------------\n"
     ]
    },
    {
     "name": "stderr",
     "output_type": "stream",
     "text": [
      "/home/mbosnjak/.conda/envs/pero/lib/python3.7/site-packages/scipy/stats/stats.py:3399: PearsonRConstantInputWarning: An input array is constant; the correlation coefficent is not defined.\n",
      "  warnings.warn(PearsonRConstantInputWarning())\n"
     ]
    },
    {
     "name": "stdout",
     "output_type": "stream",
     "text": [
      "Epoch 129 end: 1.0393271446228027, TRAIN MSE is: 1891.0948486328125\n",
      "Validation loss: 436410.3437500 - MSE score: 2098.1267090\n",
      "Validation pearson is: nan\n",
      "Validation r2_score is: -1.3237342822110638\n",
      "-------------------------\n"
     ]
    },
    {
     "name": "stderr",
     "output_type": "stream",
     "text": [
      "/home/mbosnjak/.conda/envs/pero/lib/python3.7/site-packages/scipy/stats/stats.py:3399: PearsonRConstantInputWarning: An input array is constant; the correlation coefficent is not defined.\n",
      "  warnings.warn(PearsonRConstantInputWarning())\n"
     ]
    },
    {
     "name": "stdout",
     "output_type": "stream",
     "text": [
      "Epoch 130 end: 1.0538229942321777, TRAIN MSE is: 1887.6815185546875\n",
      "Validation loss: 435647.6875000 - MSE score: 2094.4599609\n",
      "Validation pearson is: nan\n",
      "Validation r2_score is: -1.3196733704819206\n",
      "-------------------------\n"
     ]
    },
    {
     "name": "stderr",
     "output_type": "stream",
     "text": [
      "/home/mbosnjak/.conda/envs/pero/lib/python3.7/site-packages/scipy/stats/stats.py:3399: PearsonRConstantInputWarning: An input array is constant; the correlation coefficent is not defined.\n",
      "  warnings.warn(PearsonRConstantInputWarning())\n"
     ]
    },
    {
     "name": "stdout",
     "output_type": "stream",
     "text": [
      "Epoch 131 end: 1.0664901733398438, TRAIN MSE is: 1884.28759765625\n",
      "Validation loss: 434887.0937500 - MSE score: 2090.8032227\n",
      "Validation pearson is: nan\n",
      "Validation r2_score is: -1.3156233398549055\n",
      "-------------------------\n"
     ]
    },
    {
     "name": "stderr",
     "output_type": "stream",
     "text": [
      "/home/mbosnjak/.conda/envs/pero/lib/python3.7/site-packages/scipy/stats/stats.py:3399: PearsonRConstantInputWarning: An input array is constant; the correlation coefficent is not defined.\n",
      "  warnings.warn(PearsonRConstantInputWarning())\n"
     ]
    },
    {
     "name": "stdout",
     "output_type": "stream",
     "text": [
      "Epoch 132 end: 1.0357282161712646, TRAIN MSE is: 1880.9444580078125\n",
      "Validation loss: 434115.8437500 - MSE score: 2087.0952148\n",
      "Validation pearson is: nan\n",
      "Validation r2_score is: -1.3115167613339214\n",
      "-------------------------\n"
     ]
    },
    {
     "name": "stderr",
     "output_type": "stream",
     "text": [
      "/home/mbosnjak/.conda/envs/pero/lib/python3.7/site-packages/scipy/stats/stats.py:3399: PearsonRConstantInputWarning: An input array is constant; the correlation coefficent is not defined.\n",
      "  warnings.warn(PearsonRConstantInputWarning())\n"
     ]
    },
    {
     "name": "stdout",
     "output_type": "stream",
     "text": [
      "Epoch 133 end: 1.08036208152771, TRAIN MSE is: 1877.5382080078125\n",
      "Validation loss: 433354.5312500 - MSE score: 2083.4350586\n",
      "Validation pearson is: nan\n",
      "Validation r2_score is: -1.3074630119773398\n",
      "-------------------------\n"
     ]
    },
    {
     "name": "stderr",
     "output_type": "stream",
     "text": [
      "/home/mbosnjak/.conda/envs/pero/lib/python3.7/site-packages/scipy/stats/stats.py:3399: PearsonRConstantInputWarning: An input array is constant; the correlation coefficent is not defined.\n",
      "  warnings.warn(PearsonRConstantInputWarning())\n"
     ]
    },
    {
     "name": "stdout",
     "output_type": "stream",
     "text": [
      "Epoch 134 end: 1.113452672958374, TRAIN MSE is: 1874.166748046875\n",
      "Validation loss: 432595.0625000 - MSE score: 2079.7839355\n",
      "Validation pearson is: nan\n",
      "Validation r2_score is: -1.3034191530529284\n",
      "-------------------------\n"
     ]
    },
    {
     "name": "stderr",
     "output_type": "stream",
     "text": [
      "/home/mbosnjak/.conda/envs/pero/lib/python3.7/site-packages/scipy/stats/stats.py:3399: PearsonRConstantInputWarning: An input array is constant; the correlation coefficent is not defined.\n",
      "  warnings.warn(PearsonRConstantInputWarning())\n"
     ]
    },
    {
     "name": "stdout",
     "output_type": "stream",
     "text": [
      "Epoch 135 end: 1.0214793682098389, TRAIN MSE is: 1870.8077392578125\n",
      "Validation loss: 431835.7500000 - MSE score: 2076.1335449\n",
      "Validation pearson is: nan\n",
      "Validation r2_score is: -1.2993762387133696\n",
      "-------------------------\n"
     ]
    },
    {
     "name": "stderr",
     "output_type": "stream",
     "text": [
      "/home/mbosnjak/.conda/envs/pero/lib/python3.7/site-packages/scipy/stats/stats.py:3399: PearsonRConstantInputWarning: An input array is constant; the correlation coefficent is not defined.\n",
      "  warnings.warn(PearsonRConstantInputWarning())\n"
     ]
    },
    {
     "name": "stdout",
     "output_type": "stream",
     "text": [
      "Epoch 136 end: 1.0710783004760742, TRAIN MSE is: 1867.4552001953125\n",
      "Validation loss: 431076.9687500 - MSE score: 2072.4855957\n",
      "Validation pearson is: nan\n",
      "Validation r2_score is: -1.295336032262707\n",
      "-------------------------\n"
     ]
    },
    {
     "name": "stderr",
     "output_type": "stream",
     "text": [
      "/home/mbosnjak/.conda/envs/pero/lib/python3.7/site-packages/scipy/stats/stats.py:3399: PearsonRConstantInputWarning: An input array is constant; the correlation coefficent is not defined.\n",
      "  warnings.warn(PearsonRConstantInputWarning())\n"
     ]
    },
    {
     "name": "stdout",
     "output_type": "stream",
     "text": [
      "Epoch 137 end: 1.069462537765503, TRAIN MSE is: 1864.1217041015625\n",
      "Validation loss: 430315.0937500 - MSE score: 2068.8225098\n",
      "Validation pearson is: nan\n",
      "Validation r2_score is: -1.2912791097529244\n",
      "-------------------------\n"
     ]
    },
    {
     "name": "stderr",
     "output_type": "stream",
     "text": [
      "/home/mbosnjak/.conda/envs/pero/lib/python3.7/site-packages/scipy/stats/stats.py:3399: PearsonRConstantInputWarning: An input array is constant; the correlation coefficent is not defined.\n",
      "  warnings.warn(PearsonRConstantInputWarning())\n"
     ]
    },
    {
     "name": "stdout",
     "output_type": "stream",
     "text": [
      "Epoch 138 end: 1.0307667255401611, TRAIN MSE is: 1860.7857666015625\n",
      "Validation loss: 429553.3125000 - MSE score: 2065.1601562\n",
      "Validation pearson is: nan\n",
      "Validation r2_score is: -1.2872228135763737\n",
      "-------------------------\n"
     ]
    },
    {
     "name": "stderr",
     "output_type": "stream",
     "text": [
      "/home/mbosnjak/.conda/envs/pero/lib/python3.7/site-packages/scipy/stats/stats.py:3399: PearsonRConstantInputWarning: An input array is constant; the correlation coefficent is not defined.\n",
      "  warnings.warn(PearsonRConstantInputWarning())\n"
     ]
    },
    {
     "name": "stdout",
     "output_type": "stream",
     "text": [
      "Epoch 139 end: 1.0492265224456787, TRAIN MSE is: 1857.433837890625\n",
      "Validation loss: 428798.4687500 - MSE score: 2061.5310059\n",
      "Validation pearson is: nan\n",
      "Validation r2_score is: -1.283203510717842\n",
      "-------------------------\n"
     ]
    },
    {
     "name": "stderr",
     "output_type": "stream",
     "text": [
      "/home/mbosnjak/.conda/envs/pero/lib/python3.7/site-packages/scipy/stats/stats.py:3399: PearsonRConstantInputWarning: An input array is constant; the correlation coefficent is not defined.\n",
      "  warnings.warn(PearsonRConstantInputWarning())\n"
     ]
    },
    {
     "name": "stdout",
     "output_type": "stream",
     "text": [
      "Epoch 140 end: 1.0708739757537842, TRAIN MSE is: 1854.1217041015625\n",
      "Validation loss: 428041.0625000 - MSE score: 2057.8896484\n",
      "Validation pearson is: nan\n",
      "Validation r2_score is: -1.2791706993623428\n",
      "-------------------------\n"
     ]
    },
    {
     "name": "stderr",
     "output_type": "stream",
     "text": [
      "/home/mbosnjak/.conda/envs/pero/lib/python3.7/site-packages/scipy/stats/stats.py:3399: PearsonRConstantInputWarning: An input array is constant; the correlation coefficent is not defined.\n",
      "  warnings.warn(PearsonRConstantInputWarning())\n"
     ]
    },
    {
     "name": "stdout",
     "output_type": "stream",
     "text": [
      "Epoch 141 end: 1.0415642261505127, TRAIN MSE is: 1850.7467041015625\n",
      "Validation loss: 427302.2187500 - MSE score: 2054.3376465\n",
      "Validation pearson is: nan\n",
      "Validation r2_score is: -1.275236723977362\n",
      "-------------------------\n"
     ]
    },
    {
     "name": "stderr",
     "output_type": "stream",
     "text": [
      "/home/mbosnjak/.conda/envs/pero/lib/python3.7/site-packages/scipy/stats/stats.py:3399: PearsonRConstantInputWarning: An input array is constant; the correlation coefficent is not defined.\n",
      "  warnings.warn(PearsonRConstantInputWarning())\n"
     ]
    },
    {
     "name": "stdout",
     "output_type": "stream",
     "text": [
      "Epoch 142 end: 1.0522401332855225, TRAIN MSE is: 1847.53173828125\n",
      "Validation loss: 426536.5000000 - MSE score: 2050.6560059\n",
      "Validation pearson is: nan\n",
      "Validation r2_score is: -1.2711593045101401\n",
      "-------------------------\n"
     ]
    },
    {
     "name": "stderr",
     "output_type": "stream",
     "text": [
      "/home/mbosnjak/.conda/envs/pero/lib/python3.7/site-packages/scipy/stats/stats.py:3399: PearsonRConstantInputWarning: An input array is constant; the correlation coefficent is not defined.\n",
      "  warnings.warn(PearsonRConstantInputWarning())\n"
     ]
    },
    {
     "name": "stdout",
     "output_type": "stream",
     "text": [
      "Epoch 143 end: 1.0603787899017334, TRAIN MSE is: 1844.1854248046875\n",
      "Validation loss: 425784.4375000 - MSE score: 2047.0405273\n",
      "Validation pearson is: nan\n",
      "Validation r2_score is: -1.2671549122507\n",
      "-------------------------\n"
     ]
    },
    {
     "name": "stderr",
     "output_type": "stream",
     "text": [
      "/home/mbosnjak/.conda/envs/pero/lib/python3.7/site-packages/scipy/stats/stats.py:3399: PearsonRConstantInputWarning: An input array is constant; the correlation coefficent is not defined.\n",
      "  warnings.warn(PearsonRConstantInputWarning())\n"
     ]
    },
    {
     "name": "stdout",
     "output_type": "stream",
     "text": [
      "Epoch 144 end: 1.0587706565856934, TRAIN MSE is: 1840.8680419921875\n",
      "Validation loss: 425040.1875000 - MSE score: 2043.4622803\n",
      "Validation pearson is: nan\n",
      "Validation r2_score is: -1.263191923391672\n",
      "-------------------------\n"
     ]
    },
    {
     "name": "stderr",
     "output_type": "stream",
     "text": [
      "/home/mbosnjak/.conda/envs/pero/lib/python3.7/site-packages/scipy/stats/stats.py:3399: PearsonRConstantInputWarning: An input array is constant; the correlation coefficent is not defined.\n",
      "  warnings.warn(PearsonRConstantInputWarning())\n"
     ]
    },
    {
     "name": "stdout",
     "output_type": "stream",
     "text": [
      "Epoch 145 end: 1.0515055656433105, TRAIN MSE is: 1837.56103515625\n",
      "Validation loss: 424302.6562500 - MSE score: 2039.9167480\n",
      "Validation pearson is: nan\n",
      "Validation r2_score is: -1.2592650665384388\n",
      "-------------------------\n"
     ]
    },
    {
     "name": "stderr",
     "output_type": "stream",
     "text": [
      "/home/mbosnjak/.conda/envs/pero/lib/python3.7/site-packages/scipy/stats/stats.py:3399: PearsonRConstantInputWarning: An input array is constant; the correlation coefficent is not defined.\n",
      "  warnings.warn(PearsonRConstantInputWarning())\n"
     ]
    },
    {
     "name": "stdout",
     "output_type": "stream",
     "text": [
      "Epoch 146 end: 1.0796000957489014, TRAIN MSE is: 1834.293212890625\n",
      "Validation loss: 423562.7187500 - MSE score: 2036.3593750\n",
      "Validation pearson is: nan\n",
      "Validation r2_score is: -1.2553252606171612\n",
      "-------------------------\n"
     ]
    },
    {
     "name": "stderr",
     "output_type": "stream",
     "text": [
      "/home/mbosnjak/.conda/envs/pero/lib/python3.7/site-packages/scipy/stats/stats.py:3399: PearsonRConstantInputWarning: An input array is constant; the correlation coefficent is not defined.\n",
      "  warnings.warn(PearsonRConstantInputWarning())\n"
     ]
    },
    {
     "name": "stdout",
     "output_type": "stream",
     "text": [
      "Epoch 147 end: 1.1184685230255127, TRAIN MSE is: 1831.069091796875\n",
      "Validation loss: 422809.5937500 - MSE score: 2032.7385254\n",
      "Validation pearson is: nan\n",
      "Validation r2_score is: -1.2513150932775758\n",
      "-------------------------\n"
     ]
    },
    {
     "name": "stderr",
     "output_type": "stream",
     "text": [
      "/home/mbosnjak/.conda/envs/pero/lib/python3.7/site-packages/scipy/stats/stats.py:3399: PearsonRConstantInputWarning: An input array is constant; the correlation coefficent is not defined.\n",
      "  warnings.warn(PearsonRConstantInputWarning())\n"
     ]
    },
    {
     "name": "stdout",
     "output_type": "stream",
     "text": [
      "Epoch 148 end: 1.104780673980713, TRAIN MSE is: 1827.74365234375\n",
      "Validation loss: 422075.5000000 - MSE score: 2029.2089844\n",
      "Validation pearson is: nan\n",
      "Validation r2_score is: -1.2474059973740839\n",
      "-------------------------\n"
     ]
    },
    {
     "name": "stderr",
     "output_type": "stream",
     "text": [
      "/home/mbosnjak/.conda/envs/pero/lib/python3.7/site-packages/scipy/stats/stats.py:3399: PearsonRConstantInputWarning: An input array is constant; the correlation coefficent is not defined.\n",
      "  warnings.warn(PearsonRConstantInputWarning())\n"
     ]
    },
    {
     "name": "stdout",
     "output_type": "stream",
     "text": [
      "Epoch 149 end: 1.0827233791351318, TRAIN MSE is: 1824.4991455078125\n",
      "Validation loss: 421338.6250000 - MSE score: 2025.6665039\n",
      "Validation pearson is: nan\n",
      "Validation r2_score is: -1.2434826890079953\n",
      "-------------------------\n"
     ]
    },
    {
     "name": "stderr",
     "output_type": "stream",
     "text": [
      "/home/mbosnjak/.conda/envs/pero/lib/python3.7/site-packages/scipy/stats/stats.py:3399: PearsonRConstantInputWarning: An input array is constant; the correlation coefficent is not defined.\n",
      "  warnings.warn(PearsonRConstantInputWarning())\n"
     ]
    },
    {
     "name": "stdout",
     "output_type": "stream",
     "text": [
      "Epoch 150 end: 1.0778470039367676, TRAIN MSE is: 1821.283447265625\n",
      "Validation loss: 420593.0000000 - MSE score: 2022.0817871\n",
      "Validation pearson is: nan\n",
      "Validation r2_score is: -1.2395124066379677\n",
      "-------------------------\n"
     ]
    },
    {
     "name": "stderr",
     "output_type": "stream",
     "text": [
      "/home/mbosnjak/.conda/envs/pero/lib/python3.7/site-packages/scipy/stats/stats.py:3399: PearsonRConstantInputWarning: An input array is constant; the correlation coefficent is not defined.\n",
      "  warnings.warn(PearsonRConstantInputWarning())\n"
     ]
    },
    {
     "name": "stdout",
     "output_type": "stream",
     "text": [
      "Epoch 151 end: 1.052516222000122, TRAIN MSE is: 1818.000244140625\n",
      "Validation loss: 419860.7500000 - MSE score: 2018.5612793\n",
      "Validation pearson is: nan\n",
      "Validation r2_score is: -1.235613408396723\n",
      "-------------------------\n"
     ]
    },
    {
     "name": "stderr",
     "output_type": "stream",
     "text": [
      "/home/mbosnjak/.conda/envs/pero/lib/python3.7/site-packages/scipy/stats/stats.py:3399: PearsonRConstantInputWarning: An input array is constant; the correlation coefficent is not defined.\n",
      "  warnings.warn(PearsonRConstantInputWarning())\n"
     ]
    },
    {
     "name": "stdout",
     "output_type": "stream",
     "text": [
      "Epoch 152 end: 1.0434966087341309, TRAIN MSE is: 1814.7830810546875\n",
      "Validation loss: 419124.5937500 - MSE score: 2015.0220947\n",
      "Validation pearson is: nan\n",
      "Validation r2_score is: -1.2316936079908865\n",
      "-------------------------\n"
     ]
    },
    {
     "name": "stderr",
     "output_type": "stream",
     "text": [
      "/home/mbosnjak/.conda/envs/pero/lib/python3.7/site-packages/scipy/stats/stats.py:3399: PearsonRConstantInputWarning: An input array is constant; the correlation coefficent is not defined.\n",
      "  warnings.warn(PearsonRConstantInputWarning())\n"
     ]
    },
    {
     "name": "stdout",
     "output_type": "stream",
     "text": [
      "Epoch 153 end: 1.0633718967437744, TRAIN MSE is: 1811.5235595703125\n",
      "Validation loss: 418399.6875000 - MSE score: 2011.5369873\n",
      "Validation pearson is: nan\n",
      "Validation r2_score is: -1.2278337736571827\n",
      "-------------------------\n"
     ]
    },
    {
     "name": "stderr",
     "output_type": "stream",
     "text": [
      "/home/mbosnjak/.conda/envs/pero/lib/python3.7/site-packages/scipy/stats/stats.py:3399: PearsonRConstantInputWarning: An input array is constant; the correlation coefficent is not defined.\n",
      "  warnings.warn(PearsonRConstantInputWarning())\n"
     ]
    },
    {
     "name": "stdout",
     "output_type": "stream",
     "text": [
      "Epoch 154 end: 1.033524751663208, TRAIN MSE is: 1808.3599853515625\n",
      "Validation loss: 417659.6875000 - MSE score: 2007.9792480\n",
      "Validation pearson is: nan\n",
      "Validation r2_score is: -1.223893488574153\n",
      "-------------------------\n"
     ]
    },
    {
     "name": "stderr",
     "output_type": "stream",
     "text": [
      "/home/mbosnjak/.conda/envs/pero/lib/python3.7/site-packages/scipy/stats/stats.py:3399: PearsonRConstantInputWarning: An input array is constant; the correlation coefficent is not defined.\n",
      "  warnings.warn(PearsonRConstantInputWarning())\n"
     ]
    },
    {
     "name": "stdout",
     "output_type": "stream",
     "text": [
      "Epoch 155 end: 1.0624725818634033, TRAIN MSE is: 1805.1282958984375\n",
      "Validation loss: 416927.0625000 - MSE score: 2004.4572754\n",
      "Validation pearson is: nan\n",
      "Validation r2_score is: -1.2199927750233335\n",
      "-------------------------\n"
     ]
    },
    {
     "name": "stderr",
     "output_type": "stream",
     "text": [
      "/home/mbosnjak/.conda/envs/pero/lib/python3.7/site-packages/scipy/stats/stats.py:3399: PearsonRConstantInputWarning: An input array is constant; the correlation coefficent is not defined.\n",
      "  warnings.warn(PearsonRConstantInputWarning())\n"
     ]
    },
    {
     "name": "stdout",
     "output_type": "stream",
     "text": [
      "Epoch 156 end: 1.054316759109497, TRAIN MSE is: 1801.884033203125\n",
      "Validation loss: 416208.2500000 - MSE score: 2001.0012207\n",
      "Validation pearson is: nan\n",
      "Validation r2_score is: -1.2161650665392418\n",
      "-------------------------\n"
     ]
    },
    {
     "name": "stderr",
     "output_type": "stream",
     "text": [
      "/home/mbosnjak/.conda/envs/pero/lib/python3.7/site-packages/scipy/stats/stats.py:3399: PearsonRConstantInputWarning: An input array is constant; the correlation coefficent is not defined.\n",
      "  warnings.warn(PearsonRConstantInputWarning())\n"
     ]
    },
    {
     "name": "stdout",
     "output_type": "stream",
     "text": [
      "Epoch 157 end: 1.0501577854156494, TRAIN MSE is: 1798.7235107421875\n",
      "Validation loss: 415480.4062500 - MSE score: 1997.5018311\n",
      "Validation pearson is: nan\n",
      "Validation r2_score is: -1.2122895160811558\n",
      "-------------------------\n"
     ]
    },
    {
     "name": "stderr",
     "output_type": "stream",
     "text": [
      "/home/mbosnjak/.conda/envs/pero/lib/python3.7/site-packages/scipy/stats/stats.py:3399: PearsonRConstantInputWarning: An input array is constant; the correlation coefficent is not defined.\n",
      "  warnings.warn(PearsonRConstantInputWarning())\n"
     ]
    },
    {
     "name": "stdout",
     "output_type": "stream",
     "text": [
      "Epoch 158 end: 1.0547418594360352, TRAIN MSE is: 1795.5499267578125\n",
      "Validation loss: 414750.0625000 - MSE score: 1993.9907227\n",
      "Validation pearson is: nan\n",
      "Validation r2_score is: -1.2084006595121912\n",
      "-------------------------\n"
     ]
    },
    {
     "name": "stderr",
     "output_type": "stream",
     "text": [
      "/home/mbosnjak/.conda/envs/pero/lib/python3.7/site-packages/scipy/stats/stats.py:3399: PearsonRConstantInputWarning: An input array is constant; the correlation coefficent is not defined.\n",
      "  warnings.warn(PearsonRConstantInputWarning())\n"
     ]
    },
    {
     "name": "stdout",
     "output_type": "stream",
     "text": [
      "Epoch 159 end: 1.0669834613800049, TRAIN MSE is: 1792.357421875\n",
      "Validation loss: 414025.1875000 - MSE score: 1990.5057373\n",
      "Validation pearson is: nan\n",
      "Validation r2_score is: -1.204540895498301\n",
      "-------------------------\n"
     ]
    },
    {
     "name": "stderr",
     "output_type": "stream",
     "text": [
      "/home/mbosnjak/.conda/envs/pero/lib/python3.7/site-packages/scipy/stats/stats.py:3399: PearsonRConstantInputWarning: An input array is constant; the correlation coefficent is not defined.\n",
      "  warnings.warn(PearsonRConstantInputWarning())\n"
     ]
    },
    {
     "name": "stdout",
     "output_type": "stream",
     "text": [
      "Epoch 160 end: 1.0357320308685303, TRAIN MSE is: 1789.1749267578125\n",
      "Validation loss: 413305.0937500 - MSE score: 1987.0435791\n",
      "Validation pearson is: nan\n",
      "Validation r2_score is: -1.2007067526237432\n",
      "-------------------------\n"
     ]
    },
    {
     "name": "stderr",
     "output_type": "stream",
     "text": [
      "/home/mbosnjak/.conda/envs/pero/lib/python3.7/site-packages/scipy/stats/stats.py:3399: PearsonRConstantInputWarning: An input array is constant; the correlation coefficent is not defined.\n",
      "  warnings.warn(PearsonRConstantInputWarning())\n"
     ]
    },
    {
     "name": "stdout",
     "output_type": "stream",
     "text": [
      "Epoch 161 end: 1.1050162315368652, TRAIN MSE is: 1785.98974609375\n",
      "Validation loss: 412593.0312500 - MSE score: 1983.6204834\n",
      "Validation pearson is: nan\n",
      "Validation r2_score is: -1.19691538216646\n",
      "-------------------------\n"
     ]
    },
    {
     "name": "stderr",
     "output_type": "stream",
     "text": [
      "/home/mbosnjak/.conda/envs/pero/lib/python3.7/site-packages/scipy/stats/stats.py:3399: PearsonRConstantInputWarning: An input array is constant; the correlation coefficent is not defined.\n",
      "  warnings.warn(PearsonRConstantInputWarning())\n"
     ]
    },
    {
     "name": "stdout",
     "output_type": "stream",
     "text": [
      "Epoch 162 end: 1.1555895805358887, TRAIN MSE is: 1782.87109375\n",
      "Validation loss: 411872.0312500 - MSE score: 1980.1541748\n",
      "Validation pearson is: nan\n",
      "Validation r2_score is: -1.1930762614855892\n",
      "-------------------------\n"
     ]
    },
    {
     "name": "stderr",
     "output_type": "stream",
     "text": [
      "/home/mbosnjak/.conda/envs/pero/lib/python3.7/site-packages/scipy/stats/stats.py:3399: PearsonRConstantInputWarning: An input array is constant; the correlation coefficent is not defined.\n",
      "  warnings.warn(PearsonRConstantInputWarning())\n"
     ]
    },
    {
     "name": "stdout",
     "output_type": "stream",
     "text": [
      "Epoch 163 end: 1.0682573318481445, TRAIN MSE is: 1779.69384765625\n",
      "Validation loss: 411161.4375000 - MSE score: 1976.7376709\n",
      "Validation pearson is: nan\n",
      "Validation r2_score is: -1.1892925682107665\n",
      "-------------------------\n"
     ]
    },
    {
     "name": "stderr",
     "output_type": "stream",
     "text": [
      "/home/mbosnjak/.conda/envs/pero/lib/python3.7/site-packages/scipy/stats/stats.py:3399: PearsonRConstantInputWarning: An input array is constant; the correlation coefficent is not defined.\n",
      "  warnings.warn(PearsonRConstantInputWarning())\n"
     ]
    },
    {
     "name": "stdout",
     "output_type": "stream",
     "text": [
      "Epoch 164 end: 1.0502498149871826, TRAIN MSE is: 1776.578125\n",
      "Validation loss: 410445.6250000 - MSE score: 1973.2962646\n",
      "Validation pearson is: nan\n",
      "Validation r2_score is: -1.1854811126824725\n",
      "-------------------------\n"
     ]
    },
    {
     "name": "stderr",
     "output_type": "stream",
     "text": [
      "/home/mbosnjak/.conda/envs/pero/lib/python3.7/site-packages/scipy/stats/stats.py:3399: PearsonRConstantInputWarning: An input array is constant; the correlation coefficent is not defined.\n",
      "  warnings.warn(PearsonRConstantInputWarning())\n"
     ]
    },
    {
     "name": "stdout",
     "output_type": "stream",
     "text": [
      "Epoch 165 end: 1.0642459392547607, TRAIN MSE is: 1773.4432373046875\n",
      "Validation loss: 409732.7500000 - MSE score: 1969.8690186\n",
      "Validation pearson is: nan\n",
      "Validation r2_score is: -1.1816852227946057\n",
      "-------------------------\n"
     ]
    },
    {
     "name": "stderr",
     "output_type": "stream",
     "text": [
      "/home/mbosnjak/.conda/envs/pero/lib/python3.7/site-packages/scipy/stats/stats.py:3399: PearsonRConstantInputWarning: An input array is constant; the correlation coefficent is not defined.\n",
      "  warnings.warn(PearsonRConstantInputWarning())\n"
     ]
    },
    {
     "name": "stdout",
     "output_type": "stream",
     "text": [
      "Epoch 166 end: 1.0641069412231445, TRAIN MSE is: 1770.2977294921875\n",
      "Validation loss: 409028.5937500 - MSE score: 1966.4837646\n",
      "Validation pearson is: nan\n",
      "Validation r2_score is: -1.1779360510019141\n",
      "-------------------------\n"
     ]
    },
    {
     "name": "stderr",
     "output_type": "stream",
     "text": [
      "/home/mbosnjak/.conda/envs/pero/lib/python3.7/site-packages/scipy/stats/stats.py:3399: PearsonRConstantInputWarning: An input array is constant; the correlation coefficent is not defined.\n",
      "  warnings.warn(PearsonRConstantInputWarning())\n"
     ]
    },
    {
     "name": "stdout",
     "output_type": "stream",
     "text": [
      "Epoch 167 end: 1.0638008117675781, TRAIN MSE is: 1767.207275390625\n",
      "Validation loss: 408318.9375000 - MSE score: 1963.0717773\n",
      "Validation pearson is: nan\n",
      "Validation r2_score is: -1.174157202256311\n",
      "-------------------------\n"
     ]
    },
    {
     "name": "stderr",
     "output_type": "stream",
     "text": [
      "/home/mbosnjak/.conda/envs/pero/lib/python3.7/site-packages/scipy/stats/stats.py:3399: PearsonRConstantInputWarning: An input array is constant; the correlation coefficent is not defined.\n",
      "  warnings.warn(PearsonRConstantInputWarning())\n"
     ]
    },
    {
     "name": "stdout",
     "output_type": "stream",
     "text": [
      "Epoch 168 end: 1.0479135513305664, TRAIN MSE is: 1764.10302734375\n",
      "Validation loss: 407610.5312500 - MSE score: 1959.6660156\n",
      "Validation pearson is: nan\n",
      "Validation r2_score is: -1.1703852344868242\n",
      "-------------------------\n"
     ]
    },
    {
     "name": "stderr",
     "output_type": "stream",
     "text": [
      "/home/mbosnjak/.conda/envs/pero/lib/python3.7/site-packages/scipy/stats/stats.py:3399: PearsonRConstantInputWarning: An input array is constant; the correlation coefficent is not defined.\n",
      "  warnings.warn(PearsonRConstantInputWarning())\n"
     ]
    },
    {
     "name": "stdout",
     "output_type": "stream",
     "text": [
      "Epoch 169 end: 1.0551519393920898, TRAIN MSE is: 1760.9969482421875\n",
      "Validation loss: 406906.4062500 - MSE score: 1956.2810059\n",
      "Validation pearson is: nan\n",
      "Validation r2_score is: -1.166636062638592\n",
      "-------------------------\n"
     ]
    },
    {
     "name": "stderr",
     "output_type": "stream",
     "text": [
      "/home/mbosnjak/.conda/envs/pero/lib/python3.7/site-packages/scipy/stats/stats.py:3399: PearsonRConstantInputWarning: An input array is constant; the correlation coefficent is not defined.\n",
      "  warnings.warn(PearsonRConstantInputWarning())\n"
     ]
    },
    {
     "name": "stdout",
     "output_type": "stream",
     "text": [
      "Epoch 170 end: 1.0413687229156494, TRAIN MSE is: 1757.89306640625\n",
      "Validation loss: 406208.6250000 - MSE score: 1952.9260254\n",
      "Validation pearson is: nan\n",
      "Validation r2_score is: -1.1629207018561942\n",
      "-------------------------\n"
     ]
    },
    {
     "name": "stderr",
     "output_type": "stream",
     "text": [
      "/home/mbosnjak/.conda/envs/pero/lib/python3.7/site-packages/scipy/stats/stats.py:3399: PearsonRConstantInputWarning: An input array is constant; the correlation coefficent is not defined.\n",
      "  warnings.warn(PearsonRConstantInputWarning())\n"
     ]
    },
    {
     "name": "stdout",
     "output_type": "stream",
     "text": [
      "Epoch 171 end: 1.0449819564819336, TRAIN MSE is: 1754.833251953125\n",
      "Validation loss: 405506.2500000 - MSE score: 1949.5493164\n",
      "Validation pearson is: nan\n",
      "Validation r2_score is: -1.1591807757203214\n",
      "-------------------------\n"
     ]
    },
    {
     "name": "stderr",
     "output_type": "stream",
     "text": [
      "/home/mbosnjak/.conda/envs/pero/lib/python3.7/site-packages/scipy/stats/stats.py:3399: PearsonRConstantInputWarning: An input array is constant; the correlation coefficent is not defined.\n",
      "  warnings.warn(PearsonRConstantInputWarning())\n"
     ]
    },
    {
     "name": "stdout",
     "output_type": "stream",
     "text": [
      "Epoch 172 end: 1.0495469570159912, TRAIN MSE is: 1751.769775390625\n",
      "Validation loss: 404802.9687500 - MSE score: 1946.1680908\n",
      "Validation pearson is: nan\n",
      "Validation r2_score is: -1.1554359785926724\n",
      "-------------------------\n"
     ]
    },
    {
     "name": "stderr",
     "output_type": "stream",
     "text": [
      "/home/mbosnjak/.conda/envs/pero/lib/python3.7/site-packages/scipy/stats/stats.py:3399: PearsonRConstantInputWarning: An input array is constant; the correlation coefficent is not defined.\n",
      "  warnings.warn(PearsonRConstantInputWarning())\n"
     ]
    },
    {
     "name": "stdout",
     "output_type": "stream",
     "text": [
      "Epoch 173 end: 1.0581908226013184, TRAIN MSE is: 1748.6688232421875\n",
      "Validation loss: 404112.7812500 - MSE score: 1942.8500977\n",
      "Validation pearson is: nan\n",
      "Validation r2_score is: -1.1517610217153074\n",
      "-------------------------\n"
     ]
    },
    {
     "name": "stderr",
     "output_type": "stream",
     "text": [
      "/home/mbosnjak/.conda/envs/pero/lib/python3.7/site-packages/scipy/stats/stats.py:3399: PearsonRConstantInputWarning: An input array is constant; the correlation coefficent is not defined.\n",
      "  warnings.warn(PearsonRConstantInputWarning())\n"
     ]
    },
    {
     "name": "stdout",
     "output_type": "stream",
     "text": [
      "Epoch 174 end: 1.0646822452545166, TRAIN MSE is: 1745.638671875\n",
      "Validation loss: 403416.4687500 - MSE score: 1939.5021973\n",
      "Validation pearson is: nan\n",
      "Validation r2_score is: -1.148053368396691\n",
      "-------------------------\n"
     ]
    },
    {
     "name": "stderr",
     "output_type": "stream",
     "text": [
      "/home/mbosnjak/.conda/envs/pero/lib/python3.7/site-packages/scipy/stats/stats.py:3399: PearsonRConstantInputWarning: An input array is constant; the correlation coefficent is not defined.\n",
      "  warnings.warn(PearsonRConstantInputWarning())\n"
     ]
    },
    {
     "name": "stdout",
     "output_type": "stream",
     "text": [
      "Epoch 175 end: 1.0428810119628906, TRAIN MSE is: 1742.6087646484375\n",
      "Validation loss: 402717.0625000 - MSE score: 1936.1395264\n",
      "Validation pearson is: nan\n",
      "Validation r2_score is: -1.1443290563867703\n",
      "-------------------------\n"
     ]
    },
    {
     "name": "stderr",
     "output_type": "stream",
     "text": [
      "/home/mbosnjak/.conda/envs/pero/lib/python3.7/site-packages/scipy/stats/stats.py:3399: PearsonRConstantInputWarning: An input array is constant; the correlation coefficent is not defined.\n",
      "  warnings.warn(PearsonRConstantInputWarning())\n"
     ]
    },
    {
     "name": "stdout",
     "output_type": "stream",
     "text": [
      "Epoch 176 end: 1.0926737785339355, TRAIN MSE is: 1739.541015625\n",
      "Validation loss: 402028.0625000 - MSE score: 1932.8272705\n",
      "Validation pearson is: nan\n",
      "Validation r2_score is: -1.1406603887307973\n",
      "-------------------------\n"
     ]
    },
    {
     "name": "stderr",
     "output_type": "stream",
     "text": [
      "/home/mbosnjak/.conda/envs/pero/lib/python3.7/site-packages/scipy/stats/stats.py:3399: PearsonRConstantInputWarning: An input array is constant; the correlation coefficent is not defined.\n",
      "  warnings.warn(PearsonRConstantInputWarning())\n"
     ]
    },
    {
     "name": "stdout",
     "output_type": "stream",
     "text": [
      "Epoch 177 end: 1.0622539520263672, TRAIN MSE is: 1736.5242919921875\n",
      "Validation loss: 401336.9062500 - MSE score: 1929.5043945\n",
      "Validation pearson is: nan\n",
      "Validation r2_score is: -1.1369802952458419\n",
      "-------------------------\n"
     ]
    },
    {
     "name": "stderr",
     "output_type": "stream",
     "text": [
      "/home/mbosnjak/.conda/envs/pero/lib/python3.7/site-packages/scipy/stats/stats.py:3399: PearsonRConstantInputWarning: An input array is constant; the correlation coefficent is not defined.\n",
      "  warnings.warn(PearsonRConstantInputWarning())\n"
     ]
    },
    {
     "name": "stdout",
     "output_type": "stream",
     "text": [
      "Epoch 178 end: 1.047511339187622, TRAIN MSE is: 1733.527587890625\n",
      "Validation loss: 400640.2812500 - MSE score: 1926.1550293\n",
      "Validation pearson is: nan\n",
      "Validation r2_score is: -1.1332710118016087\n",
      "-------------------------\n"
     ]
    },
    {
     "name": "stderr",
     "output_type": "stream",
     "text": [
      "/home/mbosnjak/.conda/envs/pero/lib/python3.7/site-packages/scipy/stats/stats.py:3399: PearsonRConstantInputWarning: An input array is constant; the correlation coefficent is not defined.\n",
      "  warnings.warn(PearsonRConstantInputWarning())\n"
     ]
    },
    {
     "name": "stdout",
     "output_type": "stream",
     "text": [
      "Epoch 179 end: 1.0667181015014648, TRAIN MSE is: 1730.47705078125\n",
      "Validation loss: 399956.5937500 - MSE score: 1922.8680420\n",
      "Validation pearson is: nan\n",
      "Validation r2_score is: -1.1296306543726615\n",
      "-------------------------\n"
     ]
    },
    {
     "name": "stderr",
     "output_type": "stream",
     "text": [
      "/home/mbosnjak/.conda/envs/pero/lib/python3.7/site-packages/scipy/stats/stats.py:3399: PearsonRConstantInputWarning: An input array is constant; the correlation coefficent is not defined.\n",
      "  warnings.warn(PearsonRConstantInputWarning())\n"
     ]
    },
    {
     "name": "stdout",
     "output_type": "stream",
     "text": [
      "Epoch 180 end: 1.071098804473877, TRAIN MSE is: 1727.494140625\n",
      "Validation loss: 399268.4687500 - MSE score: 1919.5599365\n",
      "Validation pearson is: nan\n",
      "Validation r2_score is: -1.1259666661788361\n",
      "-------------------------\n"
     ]
    },
    {
     "name": "stderr",
     "output_type": "stream",
     "text": [
      "/home/mbosnjak/.conda/envs/pero/lib/python3.7/site-packages/scipy/stats/stats.py:3399: PearsonRConstantInputWarning: An input array is constant; the correlation coefficent is not defined.\n",
      "  warnings.warn(PearsonRConstantInputWarning())\n"
     ]
    },
    {
     "name": "stdout",
     "output_type": "stream",
     "text": [
      "Epoch 181 end: 1.0788483619689941, TRAIN MSE is: 1724.477783203125\n",
      "Validation loss: 398588.1562500 - MSE score: 1916.2890625\n",
      "Validation pearson is: nan\n",
      "Validation r2_score is: -1.1223441395877973\n",
      "-------------------------\n"
     ]
    },
    {
     "name": "stderr",
     "output_type": "stream",
     "text": [
      "/home/mbosnjak/.conda/envs/pero/lib/python3.7/site-packages/scipy/stats/stats.py:3399: PearsonRConstantInputWarning: An input array is constant; the correlation coefficent is not defined.\n",
      "  warnings.warn(PearsonRConstantInputWarning())\n"
     ]
    },
    {
     "name": "stdout",
     "output_type": "stream",
     "text": [
      "Epoch 182 end: 1.0801210403442383, TRAIN MSE is: 1721.5059814453125\n",
      "Validation loss: 397905.1250000 - MSE score: 1913.0053711\n",
      "Validation pearson is: nan\n",
      "Validation r2_score is: -1.1187072701320524\n",
      "-------------------------\n"
     ]
    },
    {
     "name": "stderr",
     "output_type": "stream",
     "text": [
      "/home/mbosnjak/.conda/envs/pero/lib/python3.7/site-packages/scipy/stats/stats.py:3399: PearsonRConstantInputWarning: An input array is constant; the correlation coefficent is not defined.\n",
      "  warnings.warn(PearsonRConstantInputWarning())\n"
     ]
    },
    {
     "name": "stdout",
     "output_type": "stream",
     "text": [
      "Epoch 183 end: 1.0989158153533936, TRAIN MSE is: 1718.490966796875\n",
      "Validation loss: 397235.0000000 - MSE score: 1909.7836914\n",
      "Validation pearson is: nan\n",
      "Validation r2_score is: -1.1151389743931293\n",
      "-------------------------\n"
     ]
    },
    {
     "name": "stderr",
     "output_type": "stream",
     "text": [
      "/home/mbosnjak/.conda/envs/pero/lib/python3.7/site-packages/scipy/stats/stats.py:3399: PearsonRConstantInputWarning: An input array is constant; the correlation coefficent is not defined.\n",
      "  warnings.warn(PearsonRConstantInputWarning())\n"
     ]
    },
    {
     "name": "stdout",
     "output_type": "stream",
     "text": [
      "Epoch 184 end: 1.0725693702697754, TRAIN MSE is: 1715.554443359375\n",
      "Validation loss: 396556.6250000 - MSE score: 1906.5222168\n",
      "Validation pearson is: nan\n",
      "Validation r2_score is: -1.1115269374314733\n",
      "-------------------------\n"
     ]
    },
    {
     "name": "stderr",
     "output_type": "stream",
     "text": [
      "/home/mbosnjak/.conda/envs/pero/lib/python3.7/site-packages/scipy/stats/stats.py:3399: PearsonRConstantInputWarning: An input array is constant; the correlation coefficent is not defined.\n",
      "  warnings.warn(PearsonRConstantInputWarning())\n"
     ]
    },
    {
     "name": "stdout",
     "output_type": "stream",
     "text": [
      "Epoch 185 end: 1.0541324615478516, TRAIN MSE is: 1712.6209716796875\n",
      "Validation loss: 395871.9687500 - MSE score: 1903.2307129\n",
      "Validation pearson is: nan\n",
      "Validation r2_score is: -1.107881513611332\n",
      "-------------------------\n"
     ]
    },
    {
     "name": "stderr",
     "output_type": "stream",
     "text": [
      "/home/mbosnjak/.conda/envs/pero/lib/python3.7/site-packages/scipy/stats/stats.py:3399: PearsonRConstantInputWarning: An input array is constant; the correlation coefficent is not defined.\n",
      "  warnings.warn(PearsonRConstantInputWarning())\n"
     ]
    },
    {
     "name": "stdout",
     "output_type": "stream",
     "text": [
      "Epoch 186 end: 1.0788824558258057, TRAIN MSE is: 1709.618896484375\n",
      "Validation loss: 395203.7812500 - MSE score: 1900.0180664\n",
      "Validation pearson is: nan\n",
      "Validation r2_score is: -1.1043235383238028\n",
      "-------------------------\n"
     ]
    },
    {
     "name": "stderr",
     "output_type": "stream",
     "text": [
      "/home/mbosnjak/.conda/envs/pero/lib/python3.7/site-packages/scipy/stats/stats.py:3399: PearsonRConstantInputWarning: An input array is constant; the correlation coefficent is not defined.\n",
      "  warnings.warn(PearsonRConstantInputWarning())\n"
     ]
    },
    {
     "name": "stdout",
     "output_type": "stream",
     "text": [
      "Epoch 187 end: 1.086940050125122, TRAIN MSE is: 1706.70849609375\n",
      "Validation loss: 394527.4375000 - MSE score: 1896.7664795\n",
      "Validation pearson is: nan\n",
      "Validation r2_score is: -1.1007223097481873\n",
      "-------------------------\n"
     ]
    },
    {
     "name": "stderr",
     "output_type": "stream",
     "text": [
      "/home/mbosnjak/.conda/envs/pero/lib/python3.7/site-packages/scipy/stats/stats.py:3399: PearsonRConstantInputWarning: An input array is constant; the correlation coefficent is not defined.\n",
      "  warnings.warn(PearsonRConstantInputWarning())\n"
     ]
    },
    {
     "name": "stdout",
     "output_type": "stream",
     "text": [
      "Epoch 188 end: 1.0858466625213623, TRAIN MSE is: 1703.7315673828125\n",
      "Validation loss: 393865.1875000 - MSE score: 1893.5826416\n",
      "Validation pearson is: nan\n",
      "Validation r2_score is: -1.097195973184116\n",
      "-------------------------\n"
     ]
    },
    {
     "name": "stderr",
     "output_type": "stream",
     "text": [
      "/home/mbosnjak/.conda/envs/pero/lib/python3.7/site-packages/scipy/stats/stats.py:3399: PearsonRConstantInputWarning: An input array is constant; the correlation coefficent is not defined.\n",
      "  warnings.warn(PearsonRConstantInputWarning())\n"
     ]
    },
    {
     "name": "stdout",
     "output_type": "stream",
     "text": [
      "Epoch 189 end: 1.1023404598236084, TRAIN MSE is: 1700.853271484375\n",
      "Validation loss: 393190.5937500 - MSE score: 1890.3393555\n",
      "Validation pearson is: nan\n",
      "Validation r2_score is: -1.0936039811858405\n",
      "-------------------------\n"
     ]
    },
    {
     "name": "stderr",
     "output_type": "stream",
     "text": [
      "/home/mbosnjak/.conda/envs/pero/lib/python3.7/site-packages/scipy/stats/stats.py:3399: PearsonRConstantInputWarning: An input array is constant; the correlation coefficent is not defined.\n",
      "  warnings.warn(PearsonRConstantInputWarning())\n"
     ]
    },
    {
     "name": "stdout",
     "output_type": "stream",
     "text": [
      "Epoch 190 end: 1.0362985134124756, TRAIN MSE is: 1697.9071044921875\n",
      "Validation loss: 392525.9687500 - MSE score: 1887.1442871\n",
      "Validation pearson is: nan\n",
      "Validation r2_score is: -1.0900652052233428\n",
      "-------------------------\n"
     ]
    },
    {
     "name": "stderr",
     "output_type": "stream",
     "text": [
      "/home/mbosnjak/.conda/envs/pero/lib/python3.7/site-packages/scipy/stats/stats.py:3399: PearsonRConstantInputWarning: An input array is constant; the correlation coefficent is not defined.\n",
      "  warnings.warn(PearsonRConstantInputWarning())\n"
     ]
    },
    {
     "name": "stdout",
     "output_type": "stream",
     "text": [
      "Epoch 191 end: 1.118436336517334, TRAIN MSE is: 1695.0064697265625\n",
      "Validation loss: 391860.5937500 - MSE score: 1883.9451904\n",
      "Validation pearson is: nan\n",
      "Validation r2_score is: -1.0865222538787718\n",
      "-------------------------\n"
     ]
    },
    {
     "name": "stderr",
     "output_type": "stream",
     "text": [
      "/home/mbosnjak/.conda/envs/pero/lib/python3.7/site-packages/scipy/stats/stats.py:3399: PearsonRConstantInputWarning: An input array is constant; the correlation coefficent is not defined.\n",
      "  warnings.warn(PearsonRConstantInputWarning())\n"
     ]
    },
    {
     "name": "stdout",
     "output_type": "stream",
     "text": [
      "Epoch 192 end: 1.0479063987731934, TRAIN MSE is: 1692.0799560546875\n",
      "Validation loss: 391204.8125000 - MSE score: 1880.7923584\n",
      "Validation pearson is: nan\n",
      "Validation r2_score is: -1.0830304905784058\n",
      "-------------------------\n"
     ]
    },
    {
     "name": "stderr",
     "output_type": "stream",
     "text": [
      "/home/mbosnjak/.conda/envs/pero/lib/python3.7/site-packages/scipy/stats/stats.py:3399: PearsonRConstantInputWarning: An input array is constant; the correlation coefficent is not defined.\n",
      "  warnings.warn(PearsonRConstantInputWarning())\n"
     ]
    },
    {
     "name": "stdout",
     "output_type": "stream",
     "text": [
      "Epoch 193 end: 1.0733251571655273, TRAIN MSE is: 1689.2325439453125\n",
      "Validation loss: 390537.7500000 - MSE score: 1877.5853271\n",
      "Validation pearson is: nan\n",
      "Validation r2_score is: -1.0794785409619236\n",
      "-------------------------\n"
     ]
    },
    {
     "name": "stderr",
     "output_type": "stream",
     "text": [
      "/home/mbosnjak/.conda/envs/pero/lib/python3.7/site-packages/scipy/stats/stats.py:3399: PearsonRConstantInputWarning: An input array is constant; the correlation coefficent is not defined.\n",
      "  warnings.warn(PearsonRConstantInputWarning())\n"
     ]
    },
    {
     "name": "stdout",
     "output_type": "stream",
     "text": [
      "Epoch 194 end: 1.0494143962860107, TRAIN MSE is: 1686.3197021484375\n",
      "Validation loss: 389881.1250000 - MSE score: 1874.4284668\n",
      "Validation pearson is: nan\n",
      "Validation r2_score is: -1.0759822110672932\n",
      "-------------------------\n"
     ]
    },
    {
     "name": "stderr",
     "output_type": "stream",
     "text": [
      "/home/mbosnjak/.conda/envs/pero/lib/python3.7/site-packages/scipy/stats/stats.py:3399: PearsonRConstantInputWarning: An input array is constant; the correlation coefficent is not defined.\n",
      "  warnings.warn(PearsonRConstantInputWarning())\n"
     ]
    },
    {
     "name": "stdout",
     "output_type": "stream",
     "text": [
      "Epoch 195 end: 1.060852289199829, TRAIN MSE is: 1683.437744140625\n",
      "Validation loss: 389228.4687500 - MSE score: 1871.2905273\n",
      "Validation pearson is: nan\n",
      "Validation r2_score is: -1.0725069325959442\n",
      "-------------------------\n"
     ]
    },
    {
     "name": "stderr",
     "output_type": "stream",
     "text": [
      "/home/mbosnjak/.conda/envs/pero/lib/python3.7/site-packages/scipy/stats/stats.py:3399: PearsonRConstantInputWarning: An input array is constant; the correlation coefficent is not defined.\n",
      "  warnings.warn(PearsonRConstantInputWarning())\n"
     ]
    },
    {
     "name": "stdout",
     "output_type": "stream",
     "text": [
      "Epoch 196 end: 1.0757911205291748, TRAIN MSE is: 1680.549072265625\n",
      "Validation loss: 388584.6250000 - MSE score: 1868.1951904\n",
      "Validation pearson is: nan\n",
      "Validation r2_score is: -1.0690787268424713\n",
      "-------------------------\n"
     ]
    },
    {
     "name": "stderr",
     "output_type": "stream",
     "text": [
      "/home/mbosnjak/.conda/envs/pero/lib/python3.7/site-packages/scipy/stats/stats.py:3399: PearsonRConstantInputWarning: An input array is constant; the correlation coefficent is not defined.\n",
      "  warnings.warn(PearsonRConstantInputWarning())\n"
     ]
    },
    {
     "name": "stdout",
     "output_type": "stream",
     "text": [
      "Epoch 197 end: 1.05344557762146, TRAIN MSE is: 1677.753662109375\n",
      "Validation loss: 387923.8125000 - MSE score: 1865.0180664\n",
      "Validation pearson is: nan\n",
      "Validation r2_score is: -1.065560114955555\n",
      "-------------------------\n"
     ]
    },
    {
     "name": "stderr",
     "output_type": "stream",
     "text": [
      "/home/mbosnjak/.conda/envs/pero/lib/python3.7/site-packages/scipy/stats/stats.py:3399: PearsonRConstantInputWarning: An input array is constant; the correlation coefficent is not defined.\n",
      "  warnings.warn(PearsonRConstantInputWarning())\n"
     ]
    },
    {
     "name": "stdout",
     "output_type": "stream",
     "text": [
      "Epoch 198 end: 1.0741395950317383, TRAIN MSE is: 1674.86083984375\n",
      "Validation loss: 387277.8437500 - MSE score: 1861.9125977\n",
      "Validation pearson is: nan\n",
      "Validation r2_score is: -1.0621205891436203\n",
      "-------------------------\n"
     ]
    },
    {
     "name": "stderr",
     "output_type": "stream",
     "text": [
      "/home/mbosnjak/.conda/envs/pero/lib/python3.7/site-packages/scipy/stats/stats.py:3399: PearsonRConstantInputWarning: An input array is constant; the correlation coefficent is not defined.\n",
      "  warnings.warn(PearsonRConstantInputWarning())\n"
     ]
    },
    {
     "name": "stdout",
     "output_type": "stream",
     "text": [
      "Epoch 199 end: 1.0724108219146729, TRAIN MSE is: 1672.069091796875\n",
      "Validation loss: 386619.4687500 - MSE score: 1858.7475586\n",
      "Validation pearson is: nan\n",
      "Validation r2_score is: -1.0586151153285632\n",
      "-------------------------\n"
     ]
    },
    {
     "name": "stderr",
     "output_type": "stream",
     "text": [
      "/home/mbosnjak/.conda/envs/pero/lib/python3.7/site-packages/scipy/stats/stats.py:3399: PearsonRConstantInputWarning: An input array is constant; the correlation coefficent is not defined.\n",
      "  warnings.warn(PearsonRConstantInputWarning())\n"
     ]
    },
    {
     "name": "stdout",
     "output_type": "stream",
     "text": [
      "Epoch 200 end: 1.0814208984375, TRAIN MSE is: 1669.336181640625\n",
      "Validation loss: 386036.6562500 - MSE score: 1855.9453125\n",
      "Validation pearson is: nan\n",
      "Validation r2_score is: -1.0555116696817048\n",
      "-------------------------\n"
     ]
    },
    {
     "name": "stderr",
     "output_type": "stream",
     "text": [
      "/home/mbosnjak/.conda/envs/pero/lib/python3.7/site-packages/scipy/stats/stats.py:3399: PearsonRConstantInputWarning: An input array is constant; the correlation coefficent is not defined.\n",
      "  warnings.warn(PearsonRConstantInputWarning())\n"
     ]
    },
    {
     "name": "stdout",
     "output_type": "stream",
     "text": [
      "Epoch 201 end: 1.0193662643432617, TRAIN MSE is: 1666.777587890625\n",
      "Validation loss: 385460.4375000 - MSE score: 1853.1751709\n",
      "Validation pearson is: nan\n",
      "Validation r2_score is: -1.0524436442507095\n",
      "-------------------------\n"
     ]
    },
    {
     "name": "stderr",
     "output_type": "stream",
     "text": [
      "/home/mbosnjak/.conda/envs/pero/lib/python3.7/site-packages/scipy/stats/stats.py:3399: PearsonRConstantInputWarning: An input array is constant; the correlation coefficent is not defined.\n",
      "  warnings.warn(PearsonRConstantInputWarning())\n"
     ]
    },
    {
     "name": "stdout",
     "output_type": "stream",
     "text": [
      "Epoch 202 end: 1.0212199687957764, TRAIN MSE is: 1664.25634765625\n",
      "Validation loss: 384881.9062500 - MSE score: 1850.3936768\n",
      "Validation pearson is: nan\n",
      "Validation r2_score is: -1.0493630429023266\n",
      "-------------------------\n"
     ]
    },
    {
     "name": "stderr",
     "output_type": "stream",
     "text": [
      "/home/mbosnjak/.conda/envs/pero/lib/python3.7/site-packages/scipy/stats/stats.py:3399: PearsonRConstantInputWarning: An input array is constant; the correlation coefficent is not defined.\n",
      "  warnings.warn(PearsonRConstantInputWarning())\n"
     ]
    },
    {
     "name": "stdout",
     "output_type": "stream",
     "text": [
      "Epoch 203 end: 0.9922752380371094, TRAIN MSE is: 1661.7313232421875\n",
      "Validation loss: 384304.0000000 - MSE score: 1847.6154785\n",
      "Validation pearson is: nan\n",
      "Validation r2_score is: -1.0462861794410068\n",
      "-------------------------\n"
     ]
    },
    {
     "name": "stderr",
     "output_type": "stream",
     "text": [
      "/home/mbosnjak/.conda/envs/pero/lib/python3.7/site-packages/scipy/stats/stats.py:3399: PearsonRConstantInputWarning: An input array is constant; the correlation coefficent is not defined.\n",
      "  warnings.warn(PearsonRConstantInputWarning())\n"
     ]
    },
    {
     "name": "stdout",
     "output_type": "stream",
     "text": [
      "Epoch 204 end: 1.0726938247680664, TRAIN MSE is: 1659.229248046875\n",
      "Validation loss: 383722.3750000 - MSE score: 1844.8190918\n",
      "Validation pearson is: nan\n",
      "Validation r2_score is: -1.0431890744900292\n",
      "-------------------------\n"
     ]
    },
    {
     "name": "stderr",
     "output_type": "stream",
     "text": [
      "/home/mbosnjak/.conda/envs/pero/lib/python3.7/site-packages/scipy/stats/stats.py:3399: PearsonRConstantInputWarning: An input array is constant; the correlation coefficent is not defined.\n",
      "  warnings.warn(PearsonRConstantInputWarning())\n"
     ]
    },
    {
     "name": "stdout",
     "output_type": "stream",
     "text": [
      "Epoch 205 end: 1.0834684371948242, TRAIN MSE is: 1656.7039794921875\n",
      "Validation loss: 383145.6250000 - MSE score: 1842.0461426\n",
      "Validation pearson is: nan\n",
      "Validation r2_score is: -1.0401179043287603\n",
      "-------------------------\n"
     ]
    },
    {
     "name": "stderr",
     "output_type": "stream",
     "text": [
      "/home/mbosnjak/.conda/envs/pero/lib/python3.7/site-packages/scipy/stats/stats.py:3399: PearsonRConstantInputWarning: An input array is constant; the correlation coefficent is not defined.\n",
      "  warnings.warn(PearsonRConstantInputWarning())\n"
     ]
    },
    {
     "name": "stdout",
     "output_type": "stream",
     "text": [
      "Epoch 206 end: 1.0595104694366455, TRAIN MSE is: 1654.1932373046875\n",
      "Validation loss: 382571.6562500 - MSE score: 1839.2868652\n",
      "Validation pearson is: nan\n",
      "Validation r2_score is: -1.0370618952320245\n",
      "-------------------------\n"
     ]
    },
    {
     "name": "stderr",
     "output_type": "stream",
     "text": [
      "/home/mbosnjak/.conda/envs/pero/lib/python3.7/site-packages/scipy/stats/stats.py:3399: PearsonRConstantInputWarning: An input array is constant; the correlation coefficent is not defined.\n",
      "  warnings.warn(PearsonRConstantInputWarning())\n"
     ]
    },
    {
     "name": "stdout",
     "output_type": "stream",
     "text": [
      "Epoch 207 end: 1.0592546463012695, TRAIN MSE is: 1651.667236328125\n",
      "Validation loss: 382007.0937500 - MSE score: 1836.5727539\n",
      "Validation pearson is: nan\n",
      "Validation r2_score is: -1.0340559147114434\n",
      "-------------------------\n"
     ]
    },
    {
     "name": "stderr",
     "output_type": "stream",
     "text": [
      "/home/mbosnjak/.conda/envs/pero/lib/python3.7/site-packages/scipy/stats/stats.py:3399: PearsonRConstantInputWarning: An input array is constant; the correlation coefficent is not defined.\n",
      "  warnings.warn(PearsonRConstantInputWarning())\n"
     ]
    },
    {
     "name": "stdout",
     "output_type": "stream",
     "text": [
      "Epoch 208 end: 1.0613682270050049, TRAIN MSE is: 1649.200927734375\n",
      "Validation loss: 381436.2812500 - MSE score: 1833.8281250\n",
      "Validation pearson is: nan\n",
      "Validation r2_score is: -1.0310162926736317\n",
      "-------------------------\n"
     ]
    },
    {
     "name": "stderr",
     "output_type": "stream",
     "text": [
      "/home/mbosnjak/.conda/envs/pero/lib/python3.7/site-packages/scipy/stats/stats.py:3399: PearsonRConstantInputWarning: An input array is constant; the correlation coefficent is not defined.\n",
      "  warnings.warn(PearsonRConstantInputWarning())\n"
     ]
    },
    {
     "name": "stdout",
     "output_type": "stream",
     "text": [
      "Epoch 209 end: 1.06156587600708, TRAIN MSE is: 1646.7178955078125\n",
      "Validation loss: 380865.9375000 - MSE score: 1831.0861816\n",
      "Validation pearson is: nan\n",
      "Validation r2_score is: -1.0279794569590517\n",
      "-------------------------\n"
     ]
    },
    {
     "name": "stderr",
     "output_type": "stream",
     "text": [
      "/home/mbosnjak/.conda/envs/pero/lib/python3.7/site-packages/scipy/stats/stats.py:3399: PearsonRConstantInputWarning: An input array is constant; the correlation coefficent is not defined.\n",
      "  warnings.warn(PearsonRConstantInputWarning())\n"
     ]
    },
    {
     "name": "stdout",
     "output_type": "stream",
     "text": [
      "Epoch 210 end: 1.0781059265136719, TRAIN MSE is: 1644.2471923828125\n",
      "Validation loss: 380294.7187500 - MSE score: 1828.3400879\n",
      "Validation pearson is: nan\n",
      "Validation r2_score is: -1.0249381086041378\n",
      "-------------------------\n"
     ]
    },
    {
     "name": "stderr",
     "output_type": "stream",
     "text": [
      "/home/mbosnjak/.conda/envs/pero/lib/python3.7/site-packages/scipy/stats/stats.py:3399: PearsonRConstantInputWarning: An input array is constant; the correlation coefficent is not defined.\n",
      "  warnings.warn(PearsonRConstantInputWarning())\n"
     ]
    },
    {
     "name": "stdout",
     "output_type": "stream",
     "text": [
      "Epoch 211 end: 1.0891785621643066, TRAIN MSE is: 1641.738037109375\n",
      "Validation loss: 379736.5000000 - MSE score: 1825.6562500\n",
      "Validation pearson is: nan\n",
      "Validation r2_score is: -1.02196569391388\n",
      "-------------------------\n"
     ]
    },
    {
     "name": "stderr",
     "output_type": "stream",
     "text": [
      "/home/mbosnjak/.conda/envs/pero/lib/python3.7/site-packages/scipy/stats/stats.py:3399: PearsonRConstantInputWarning: An input array is constant; the correlation coefficent is not defined.\n",
      "  warnings.warn(PearsonRConstantInputWarning())\n"
     ]
    },
    {
     "name": "stdout",
     "output_type": "stream",
     "text": [
      "Epoch 212 end: 1.065026044845581, TRAIN MSE is: 1639.3201904296875\n",
      "Validation loss: 379165.2187500 - MSE score: 1822.9099121\n",
      "Validation pearson is: nan\n",
      "Validation r2_score is: -1.018923893369057\n",
      "-------------------------\n"
     ]
    },
    {
     "name": "stderr",
     "output_type": "stream",
     "text": [
      "/home/mbosnjak/.conda/envs/pero/lib/python3.7/site-packages/scipy/stats/stats.py:3399: PearsonRConstantInputWarning: An input array is constant; the correlation coefficent is not defined.\n",
      "  warnings.warn(PearsonRConstantInputWarning())\n"
     ]
    },
    {
     "name": "stdout",
     "output_type": "stream",
     "text": [
      "Epoch 213 end: 1.0507843494415283, TRAIN MSE is: 1636.8350830078125\n",
      "Validation loss: 378603.5625000 - MSE score: 1820.2094727\n",
      "Validation pearson is: nan\n",
      "Validation r2_score is: -1.0159330862309344\n",
      "-------------------------\n"
     ]
    },
    {
     "name": "stderr",
     "output_type": "stream",
     "text": [
      "/home/mbosnjak/.conda/envs/pero/lib/python3.7/site-packages/scipy/stats/stats.py:3399: PearsonRConstantInputWarning: An input array is constant; the correlation coefficent is not defined.\n",
      "  warnings.warn(PearsonRConstantInputWarning())\n"
     ]
    },
    {
     "name": "stdout",
     "output_type": "stream",
     "text": [
      "Epoch 214 end: 1.047407865524292, TRAIN MSE is: 1634.4034423828125\n",
      "Validation loss: 378037.5937500 - MSE score: 1817.4885254\n",
      "Validation pearson is: nan\n",
      "Validation r2_score is: -1.0129196032414134\n",
      "-------------------------\n"
     ]
    },
    {
     "name": "stderr",
     "output_type": "stream",
     "text": [
      "/home/mbosnjak/.conda/envs/pero/lib/python3.7/site-packages/scipy/stats/stats.py:3399: PearsonRConstantInputWarning: An input array is constant; the correlation coefficent is not defined.\n",
      "  warnings.warn(PearsonRConstantInputWarning())\n"
     ]
    },
    {
     "name": "stdout",
     "output_type": "stream",
     "text": [
      "Epoch 215 end: 1.0524134635925293, TRAIN MSE is: 1631.9490966796875\n",
      "Validation loss: 377476.2500000 - MSE score: 1814.7896729\n",
      "Validation pearson is: nan\n",
      "Validation r2_score is: -1.0099305011368074\n",
      "-------------------------\n"
     ]
    },
    {
     "name": "stderr",
     "output_type": "stream",
     "text": [
      "/home/mbosnjak/.conda/envs/pero/lib/python3.7/site-packages/scipy/stats/stats.py:3399: PearsonRConstantInputWarning: An input array is constant; the correlation coefficent is not defined.\n",
      "  warnings.warn(PearsonRConstantInputWarning())\n"
     ]
    },
    {
     "name": "stdout",
     "output_type": "stream",
     "text": [
      "Epoch 216 end: 1.0638952255249023, TRAIN MSE is: 1629.490966796875\n",
      "Validation loss: 376922.3750000 - MSE score: 1812.1269531\n",
      "Validation pearson is: nan\n",
      "Validation r2_score is: -1.006981480825694\n",
      "-------------------------\n"
     ]
    },
    {
     "name": "stderr",
     "output_type": "stream",
     "text": [
      "/home/mbosnjak/.conda/envs/pero/lib/python3.7/site-packages/scipy/stats/stats.py:3399: PearsonRConstantInputWarning: An input array is constant; the correlation coefficent is not defined.\n",
      "  warnings.warn(PearsonRConstantInputWarning())\n"
     ]
    },
    {
     "name": "stdout",
     "output_type": "stream",
     "text": [
      "Epoch 217 end: 1.112417221069336, TRAIN MSE is: 1627.05859375\n",
      "Validation loss: 376370.6875000 - MSE score: 1809.4744873\n",
      "Validation pearson is: nan\n",
      "Validation r2_score is: -1.0040438666846057\n",
      "-------------------------\n"
     ]
    },
    {
     "name": "stderr",
     "output_type": "stream",
     "text": [
      "/home/mbosnjak/.conda/envs/pero/lib/python3.7/site-packages/scipy/stats/stats.py:3399: PearsonRConstantInputWarning: An input array is constant; the correlation coefficent is not defined.\n",
      "  warnings.warn(PearsonRConstantInputWarning())\n"
     ]
    },
    {
     "name": "stdout",
     "output_type": "stream",
     "text": [
      "Epoch 218 end: 1.0422296524047852, TRAIN MSE is: 1624.65380859375\n",
      "Validation loss: 375814.7500000 - MSE score: 1806.8016357\n",
      "Validation pearson is: nan\n",
      "Validation r2_score is: -1.0010836341488978\n",
      "-------------------------\n"
     ]
    },
    {
     "name": "stderr",
     "output_type": "stream",
     "text": [
      "/home/mbosnjak/.conda/envs/pero/lib/python3.7/site-packages/scipy/stats/stats.py:3399: PearsonRConstantInputWarning: An input array is constant; the correlation coefficent is not defined.\n",
      "  warnings.warn(PearsonRConstantInputWarning())\n"
     ]
    },
    {
     "name": "stdout",
     "output_type": "stream",
     "text": [
      "Epoch 219 end: 1.0612878799438477, TRAIN MSE is: 1622.246826171875\n",
      "Validation loss: 375257.3750000 - MSE score: 1804.1219482\n",
      "Validation pearson is: nan\n",
      "Validation r2_score is: -0.998115743917352\n",
      "-------------------------\n"
     ]
    },
    {
     "name": "stderr",
     "output_type": "stream",
     "text": [
      "/home/mbosnjak/.conda/envs/pero/lib/python3.7/site-packages/scipy/stats/stats.py:3399: PearsonRConstantInputWarning: An input array is constant; the correlation coefficent is not defined.\n",
      "  warnings.warn(PearsonRConstantInputWarning())\n"
     ]
    },
    {
     "name": "stdout",
     "output_type": "stream",
     "text": [
      "Epoch 220 end: 1.105661153793335, TRAIN MSE is: 1619.837646484375\n",
      "Validation loss: 374701.4062500 - MSE score: 1801.4490967\n",
      "Validation pearson is: nan\n",
      "Validation r2_score is: -0.995155533975826\n",
      "-------------------------\n"
     ]
    },
    {
     "name": "stderr",
     "output_type": "stream",
     "text": [
      "/home/mbosnjak/.conda/envs/pero/lib/python3.7/site-packages/scipy/stats/stats.py:3399: PearsonRConstantInputWarning: An input array is constant; the correlation coefficent is not defined.\n",
      "  warnings.warn(PearsonRConstantInputWarning())\n"
     ]
    },
    {
     "name": "stdout",
     "output_type": "stream",
     "text": [
      "Epoch 221 end: 1.0358376502990723, TRAIN MSE is: 1617.41015625\n",
      "Validation loss: 374154.2187500 - MSE score: 1798.8184814\n",
      "Validation pearson is: nan\n",
      "Validation r2_score is: -0.9922419381409666\n",
      "-------------------------\n"
     ]
    },
    {
     "name": "stderr",
     "output_type": "stream",
     "text": [
      "/home/mbosnjak/.conda/envs/pero/lib/python3.7/site-packages/scipy/stats/stats.py:3399: PearsonRConstantInputWarning: An input array is constant; the correlation coefficent is not defined.\n",
      "  warnings.warn(PearsonRConstantInputWarning())\n"
     ]
    },
    {
     "name": "stdout",
     "output_type": "stream",
     "text": [
      "Epoch 222 end: 1.0619330406188965, TRAIN MSE is: 1615.0435791015625\n",
      "Validation loss: 373599.8125000 - MSE score: 1796.1529541\n",
      "Validation pearson is: nan\n",
      "Validation r2_score is: -0.9892899765824994\n",
      "-------------------------\n"
     ]
    },
    {
     "name": "stderr",
     "output_type": "stream",
     "text": [
      "/home/mbosnjak/.conda/envs/pero/lib/python3.7/site-packages/scipy/stats/stats.py:3399: PearsonRConstantInputWarning: An input array is constant; the correlation coefficent is not defined.\n",
      "  warnings.warn(PearsonRConstantInputWarning())\n"
     ]
    },
    {
     "name": "stdout",
     "output_type": "stream",
     "text": [
      "Epoch 223 end: 1.068115472793579, TRAIN MSE is: 1612.628662109375\n",
      "Validation loss: 373054.4687500 - MSE score: 1793.5310059\n",
      "Validation pearson is: nan\n",
      "Validation r2_score is: -0.986385994506606\n",
      "-------------------------\n"
     ]
    },
    {
     "name": "stderr",
     "output_type": "stream",
     "text": [
      "/home/mbosnjak/.conda/envs/pero/lib/python3.7/site-packages/scipy/stats/stats.py:3399: PearsonRConstantInputWarning: An input array is constant; the correlation coefficent is not defined.\n",
      "  warnings.warn(PearsonRConstantInputWarning())\n"
     ]
    },
    {
     "name": "stdout",
     "output_type": "stream",
     "text": [
      "Epoch 224 end: 1.069509744644165, TRAIN MSE is: 1610.2364501953125\n",
      "Validation loss: 372513.6562500 - MSE score: 1790.9310303\n",
      "Validation pearson is: nan\n",
      "Validation r2_score is: -0.9835065614471157\n",
      "-------------------------\n"
     ]
    },
    {
     "name": "stderr",
     "output_type": "stream",
     "text": [
      "/home/mbosnjak/.conda/envs/pero/lib/python3.7/site-packages/scipy/stats/stats.py:3399: PearsonRConstantInputWarning: An input array is constant; the correlation coefficent is not defined.\n",
      "  warnings.warn(PearsonRConstantInputWarning())\n"
     ]
    },
    {
     "name": "stdout",
     "output_type": "stream",
     "text": [
      "Epoch 225 end: 1.076286792755127, TRAIN MSE is: 1607.88134765625\n",
      "Validation loss: 371968.2812500 - MSE score: 1788.3088379\n",
      "Validation pearson is: nan\n",
      "Validation r2_score is: -0.9806025402778695\n",
      "-------------------------\n"
     ]
    },
    {
     "name": "stderr",
     "output_type": "stream",
     "text": [
      "/home/mbosnjak/.conda/envs/pero/lib/python3.7/site-packages/scipy/stats/stats.py:3399: PearsonRConstantInputWarning: An input array is constant; the correlation coefficent is not defined.\n",
      "  warnings.warn(PearsonRConstantInputWarning())\n"
     ]
    },
    {
     "name": "stdout",
     "output_type": "stream",
     "text": [
      "Epoch 226 end: 1.0426630973815918, TRAIN MSE is: 1605.5184326171875\n",
      "Validation loss: 371422.9375000 - MSE score: 1785.6870117\n",
      "Validation pearson is: nan\n",
      "Validation r2_score is: -0.9776986919493085\n",
      "-------------------------\n"
     ]
    },
    {
     "name": "stderr",
     "output_type": "stream",
     "text": [
      "/home/mbosnjak/.conda/envs/pero/lib/python3.7/site-packages/scipy/stats/stats.py:3399: PearsonRConstantInputWarning: An input array is constant; the correlation coefficent is not defined.\n",
      "  warnings.warn(PearsonRConstantInputWarning())\n"
     ]
    },
    {
     "name": "stdout",
     "output_type": "stream",
     "text": [
      "Epoch 227 end: 1.0811183452606201, TRAIN MSE is: 1603.134033203125\n",
      "Validation loss: 370885.6250000 - MSE score: 1783.1040039\n",
      "Validation pearson is: nan\n",
      "Validation r2_score is: -0.9748377734667417\n",
      "-------------------------\n"
     ]
    },
    {
     "name": "stderr",
     "output_type": "stream",
     "text": [
      "/home/mbosnjak/.conda/envs/pero/lib/python3.7/site-packages/scipy/stats/stats.py:3399: PearsonRConstantInputWarning: An input array is constant; the correlation coefficent is not defined.\n",
      "  warnings.warn(PearsonRConstantInputWarning())\n"
     ]
    },
    {
     "name": "stdout",
     "output_type": "stream",
     "text": [
      "Epoch 228 end: 1.0697059631347656, TRAIN MSE is: 1600.83984375\n",
      "Validation loss: 370332.5625000 - MSE score: 1780.4451904\n",
      "Validation pearson is: nan\n",
      "Validation r2_score is: -0.9718930455808399\n",
      "-------------------------\n"
     ]
    },
    {
     "name": "stderr",
     "output_type": "stream",
     "text": [
      "/home/mbosnjak/.conda/envs/pero/lib/python3.7/site-packages/scipy/stats/stats.py:3399: PearsonRConstantInputWarning: An input array is constant; the correlation coefficent is not defined.\n",
      "  warnings.warn(PearsonRConstantInputWarning())\n"
     ]
    },
    {
     "name": "stdout",
     "output_type": "stream",
     "text": [
      "Epoch 229 end: 1.0772624015808105, TRAIN MSE is: 1598.41943359375\n",
      "Validation loss: 369801.9062500 - MSE score: 1777.8939209\n",
      "Validation pearson is: nan\n",
      "Validation r2_score is: -0.969067342170596\n",
      "-------------------------\n"
     ]
    },
    {
     "name": "stderr",
     "output_type": "stream",
     "text": [
      "/home/mbosnjak/.conda/envs/pero/lib/python3.7/site-packages/scipy/stats/stats.py:3399: PearsonRConstantInputWarning: An input array is constant; the correlation coefficent is not defined.\n",
      "  warnings.warn(PearsonRConstantInputWarning())\n"
     ]
    },
    {
     "name": "stdout",
     "output_type": "stream",
     "text": [
      "Epoch 230 end: 1.0831360816955566, TRAIN MSE is: 1596.1209716796875\n",
      "Validation loss: 369259.9687500 - MSE score: 1775.2884521\n",
      "Validation pearson is: nan\n",
      "Validation r2_score is: -0.9661817501076726\n",
      "-------------------------\n"
     ]
    },
    {
     "name": "stderr",
     "output_type": "stream",
     "text": [
      "/home/mbosnjak/.conda/envs/pero/lib/python3.7/site-packages/scipy/stats/stats.py:3399: PearsonRConstantInputWarning: An input array is constant; the correlation coefficent is not defined.\n",
      "  warnings.warn(PearsonRConstantInputWarning())\n"
     ]
    },
    {
     "name": "stdout",
     "output_type": "stream",
     "text": [
      "Epoch 231 end: 1.0730469226837158, TRAIN MSE is: 1593.74609375\n",
      "Validation loss: 368731.9062500 - MSE score: 1772.7497559\n",
      "Validation pearson is: nan\n",
      "Validation r2_score is: -0.963370115254975\n",
      "-------------------------\n"
     ]
    },
    {
     "name": "stderr",
     "output_type": "stream",
     "text": [
      "/home/mbosnjak/.conda/envs/pero/lib/python3.7/site-packages/scipy/stats/stats.py:3399: PearsonRConstantInputWarning: An input array is constant; the correlation coefficent is not defined.\n",
      "  warnings.warn(PearsonRConstantInputWarning())\n"
     ]
    },
    {
     "name": "stdout",
     "output_type": "stream",
     "text": [
      "Epoch 232 end: 1.07110595703125, TRAIN MSE is: 1591.4549560546875\n",
      "Validation loss: 368194.2187500 - MSE score: 1770.1643066\n",
      "Validation pearson is: nan\n",
      "Validation r2_score is: -0.9605069688293766\n",
      "-------------------------\n"
     ]
    },
    {
     "name": "stderr",
     "output_type": "stream",
     "text": [
      "/home/mbosnjak/.conda/envs/pero/lib/python3.7/site-packages/scipy/stats/stats.py:3399: PearsonRConstantInputWarning: An input array is constant; the correlation coefficent is not defined.\n",
      "  warnings.warn(PearsonRConstantInputWarning())\n"
     ]
    },
    {
     "name": "stdout",
     "output_type": "stream",
     "text": [
      "Epoch 233 end: 1.1491734981536865, TRAIN MSE is: 1589.1434326171875\n",
      "Validation loss: 367655.4687500 - MSE score: 1767.5744629\n",
      "Validation pearson is: nan\n",
      "Validation r2_score is: -0.9576384028209888\n",
      "-------------------------\n"
     ]
    },
    {
     "name": "stderr",
     "output_type": "stream",
     "text": [
      "/home/mbosnjak/.conda/envs/pero/lib/python3.7/site-packages/scipy/stats/stats.py:3399: PearsonRConstantInputWarning: An input array is constant; the correlation coefficent is not defined.\n",
      "  warnings.warn(PearsonRConstantInputWarning())\n"
     ]
    },
    {
     "name": "stdout",
     "output_type": "stream",
     "text": [
      "Epoch 234 end: 1.1143841743469238, TRAIN MSE is: 1586.805908203125\n",
      "Validation loss: 367125.2187500 - MSE score: 1765.0249023\n",
      "Validation pearson is: nan\n",
      "Validation r2_score is: -0.9548149046984995\n",
      "-------------------------\n"
     ]
    },
    {
     "name": "stderr",
     "output_type": "stream",
     "text": [
      "/home/mbosnjak/.conda/envs/pero/lib/python3.7/site-packages/scipy/stats/stats.py:3399: PearsonRConstantInputWarning: An input array is constant; the correlation coefficent is not defined.\n",
      "  warnings.warn(PearsonRConstantInputWarning())\n"
     ]
    },
    {
     "name": "stdout",
     "output_type": "stream",
     "text": [
      "Epoch 235 end: 1.0640692710876465, TRAIN MSE is: 1584.5377197265625\n",
      "Validation loss: 366585.4062500 - MSE score: 1762.4298096\n",
      "Validation pearson is: nan\n",
      "Validation r2_score is: -0.9519406024483088\n",
      "-------------------------\n"
     ]
    },
    {
     "name": "stderr",
     "output_type": "stream",
     "text": [
      "/home/mbosnjak/.conda/envs/pero/lib/python3.7/site-packages/scipy/stats/stats.py:3399: PearsonRConstantInputWarning: An input array is constant; the correlation coefficent is not defined.\n",
      "  warnings.warn(PearsonRConstantInputWarning())\n"
     ]
    },
    {
     "name": "stdout",
     "output_type": "stream",
     "text": [
      "Epoch 236 end: 1.0685136318206787, TRAIN MSE is: 1582.174560546875\n",
      "Validation loss: 366065.4375000 - MSE score: 1759.9301758\n",
      "Validation pearson is: nan\n",
      "Validation r2_score is: -0.9491720692660188\n",
      "-------------------------\n"
     ]
    },
    {
     "name": "stderr",
     "output_type": "stream",
     "text": [
      "/home/mbosnjak/.conda/envs/pero/lib/python3.7/site-packages/scipy/stats/stats.py:3399: PearsonRConstantInputWarning: An input array is constant; the correlation coefficent is not defined.\n",
      "  warnings.warn(PearsonRConstantInputWarning())\n"
     ]
    },
    {
     "name": "stdout",
     "output_type": "stream",
     "text": [
      "Epoch 237 end: 1.0973856449127197, TRAIN MSE is: 1579.9219970703125\n",
      "Validation loss: 365535.3125000 - MSE score: 1757.3811035\n",
      "Validation pearson is: nan\n",
      "Validation r2_score is: -0.946349056418393\n",
      "-------------------------\n"
     ]
    },
    {
     "name": "stderr",
     "output_type": "stream",
     "text": [
      "/home/mbosnjak/.conda/envs/pero/lib/python3.7/site-packages/scipy/stats/stats.py:3399: PearsonRConstantInputWarning: An input array is constant; the correlation coefficent is not defined.\n",
      "  warnings.warn(PearsonRConstantInputWarning())\n"
     ]
    },
    {
     "name": "stdout",
     "output_type": "stream",
     "text": [
      "Epoch 238 end: 1.0532264709472656, TRAIN MSE is: 1577.6380615234375\n",
      "Validation loss: 365005.5937500 - MSE score: 1754.8345947\n",
      "Validation pearson is: nan\n",
      "Validation r2_score is: -0.9435286316170863\n",
      "-------------------------\n"
     ]
    },
    {
     "name": "stderr",
     "output_type": "stream",
     "text": [
      "/home/mbosnjak/.conda/envs/pero/lib/python3.7/site-packages/scipy/stats/stats.py:3399: PearsonRConstantInputWarning: An input array is constant; the correlation coefficent is not defined.\n",
      "  warnings.warn(PearsonRConstantInputWarning())\n"
     ]
    },
    {
     "name": "stdout",
     "output_type": "stream",
     "text": [
      "Epoch 239 end: 1.0839195251464844, TRAIN MSE is: 1575.305908203125\n",
      "Validation loss: 364492.9375000 - MSE score: 1752.3699951\n",
      "Validation pearson is: nan\n",
      "Validation r2_score is: -0.9407990854656045\n",
      "-------------------------\n"
     ]
    },
    {
     "name": "stderr",
     "output_type": "stream",
     "text": [
      "/home/mbosnjak/.conda/envs/pero/lib/python3.7/site-packages/scipy/stats/stats.py:3399: PearsonRConstantInputWarning: An input array is constant; the correlation coefficent is not defined.\n",
      "  warnings.warn(PearsonRConstantInputWarning())\n"
     ]
    },
    {
     "name": "stdout",
     "output_type": "stream",
     "text": [
      "Epoch 240 end: 1.0727250576019287, TRAIN MSE is: 1573.0494384765625\n",
      "Validation loss: 363977.0625000 - MSE score: 1749.8897705\n",
      "Validation pearson is: nan\n",
      "Validation r2_score is: -0.9380520495541425\n",
      "-------------------------\n"
     ]
    },
    {
     "name": "stderr",
     "output_type": "stream",
     "text": [
      "/home/mbosnjak/.conda/envs/pero/lib/python3.7/site-packages/scipy/stats/stats.py:3399: PearsonRConstantInputWarning: An input array is constant; the correlation coefficent is not defined.\n",
      "  warnings.warn(PearsonRConstantInputWarning())\n"
     ]
    },
    {
     "name": "stdout",
     "output_type": "stream",
     "text": [
      "Epoch 241 end: 1.0715787410736084, TRAIN MSE is: 1570.84228515625\n",
      "Validation loss: 363444.9687500 - MSE score: 1747.3315430\n",
      "Validation pearson is: nan\n",
      "Validation r2_score is: -0.9352188427370689\n",
      "-------------------------\n"
     ]
    },
    {
     "name": "stderr",
     "output_type": "stream",
     "text": [
      "/home/mbosnjak/.conda/envs/pero/lib/python3.7/site-packages/scipy/stats/stats.py:3399: PearsonRConstantInputWarning: An input array is constant; the correlation coefficent is not defined.\n",
      "  warnings.warn(PearsonRConstantInputWarning())\n"
     ]
    },
    {
     "name": "stdout",
     "output_type": "stream",
     "text": [
      "Epoch 242 end: 1.0363192558288574, TRAIN MSE is: 1568.5162353515625\n",
      "Validation loss: 362934.1875000 - MSE score: 1744.8758545\n",
      "Validation pearson is: nan\n",
      "Validation r2_score is: -0.932499260065554\n",
      "-------------------------\n"
     ]
    },
    {
     "name": "stderr",
     "output_type": "stream",
     "text": [
      "/home/mbosnjak/.conda/envs/pero/lib/python3.7/site-packages/scipy/stats/stats.py:3399: PearsonRConstantInputWarning: An input array is constant; the correlation coefficent is not defined.\n",
      "  warnings.warn(PearsonRConstantInputWarning())\n"
     ]
    },
    {
     "name": "stdout",
     "output_type": "stream",
     "text": [
      "Epoch 243 end: 1.0429213047027588, TRAIN MSE is: 1566.2955322265625\n",
      "Validation loss: 362415.2187500 - MSE score: 1742.3807373\n",
      "Validation pearson is: nan\n",
      "Validation r2_score is: -0.929735744743877\n",
      "-------------------------\n"
     ]
    },
    {
     "name": "stderr",
     "output_type": "stream",
     "text": [
      "/home/mbosnjak/.conda/envs/pero/lib/python3.7/site-packages/scipy/stats/stats.py:3399: PearsonRConstantInputWarning: An input array is constant; the correlation coefficent is not defined.\n",
      "  warnings.warn(PearsonRConstantInputWarning())\n"
     ]
    },
    {
     "name": "stdout",
     "output_type": "stream",
     "text": [
      "Epoch 244 end: 1.0437099933624268, TRAIN MSE is: 1564.0440673828125\n",
      "Validation loss: 361899.5000000 - MSE score: 1739.9014893\n",
      "Validation pearson is: nan\n",
      "Validation r2_score is: -0.9269897011618551\n",
      "-------------------------\n"
     ]
    },
    {
     "name": "stderr",
     "output_type": "stream",
     "text": [
      "/home/mbosnjak/.conda/envs/pero/lib/python3.7/site-packages/scipy/stats/stats.py:3399: PearsonRConstantInputWarning: An input array is constant; the correlation coefficent is not defined.\n",
      "  warnings.warn(PearsonRConstantInputWarning())\n"
     ]
    },
    {
     "name": "stdout",
     "output_type": "stream",
     "text": [
      "Epoch 245 end: 1.0353856086730957, TRAIN MSE is: 1561.845947265625\n",
      "Validation loss: 361373.0312500 - MSE score: 1737.3702393\n",
      "Validation pearson is: nan\n",
      "Validation r2_score is: -0.9241865266995675\n",
      "-------------------------\n"
     ]
    },
    {
     "name": "stderr",
     "output_type": "stream",
     "text": [
      "/home/mbosnjak/.conda/envs/pero/lib/python3.7/site-packages/scipy/stats/stats.py:3399: PearsonRConstantInputWarning: An input array is constant; the correlation coefficent is not defined.\n",
      "  warnings.warn(PearsonRConstantInputWarning())\n"
     ]
    },
    {
     "name": "stdout",
     "output_type": "stream",
     "text": [
      "Epoch 246 end: 1.0546624660491943, TRAIN MSE is: 1559.5772705078125\n",
      "Validation loss: 360858.9062500 - MSE score: 1734.8984375\n",
      "Validation pearson is: nan\n",
      "Validation r2_score is: -0.921448888860632\n",
      "-------------------------\n"
     ]
    },
    {
     "name": "stderr",
     "output_type": "stream",
     "text": [
      "/home/mbosnjak/.conda/envs/pero/lib/python3.7/site-packages/scipy/stats/stats.py:3399: PearsonRConstantInputWarning: An input array is constant; the correlation coefficent is not defined.\n",
      "  warnings.warn(PearsonRConstantInputWarning())\n"
     ]
    },
    {
     "name": "stdout",
     "output_type": "stream",
     "text": [
      "Epoch 247 end: 1.0380260944366455, TRAIN MSE is: 1557.3419189453125\n",
      "Validation loss: 360348.8437500 - MSE score: 1732.4465332\n",
      "Validation pearson is: nan\n",
      "Validation r2_score is: -0.9187332294277408\n",
      "-------------------------\n"
     ]
    },
    {
     "name": "stderr",
     "output_type": "stream",
     "text": [
      "/home/mbosnjak/.conda/envs/pero/lib/python3.7/site-packages/scipy/stats/stats.py:3399: PearsonRConstantInputWarning: An input array is constant; the correlation coefficent is not defined.\n",
      "  warnings.warn(PearsonRConstantInputWarning())\n"
     ]
    },
    {
     "name": "stdout",
     "output_type": "stream",
     "text": [
      "Epoch 248 end: 1.059708595275879, TRAIN MSE is: 1555.1219482421875\n",
      "Validation loss: 359840.6562500 - MSE score: 1730.0031738\n",
      "Validation pearson is: nan\n",
      "Validation r2_score is: -0.9160271415350811\n",
      "-------------------------\n"
     ]
    },
    {
     "name": "stderr",
     "output_type": "stream",
     "text": [
      "/home/mbosnjak/.conda/envs/pero/lib/python3.7/site-packages/scipy/stats/stats.py:3399: PearsonRConstantInputWarning: An input array is constant; the correlation coefficent is not defined.\n",
      "  warnings.warn(PearsonRConstantInputWarning())\n"
     ]
    },
    {
     "name": "stdout",
     "output_type": "stream",
     "text": [
      "Epoch 249 end: 1.053924322128296, TRAIN MSE is: 1552.9346923828125\n",
      "Validation loss: 359326.5312500 - MSE score: 1727.5314941\n",
      "Validation pearson is: nan\n",
      "Validation r2_score is: -0.9132896367117127\n",
      "-------------------------\n"
     ]
    },
    {
     "name": "stderr",
     "output_type": "stream",
     "text": [
      "/home/mbosnjak/.conda/envs/pero/lib/python3.7/site-packages/scipy/stats/stats.py:3399: PearsonRConstantInputWarning: An input array is constant; the correlation coefficent is not defined.\n",
      "  warnings.warn(PearsonRConstantInputWarning())\n"
     ]
    },
    {
     "name": "stdout",
     "output_type": "stream",
     "text": [
      "Epoch 250 end: 1.0569813251495361, TRAIN MSE is: 1550.6983642578125\n",
      "Validation loss: 358822.9062500 - MSE score: 1725.1101074\n",
      "Validation pearson is: nan\n",
      "Validation r2_score is: -0.9106079395412974\n",
      "-------------------------\n"
     ]
    },
    {
     "name": "stderr",
     "output_type": "stream",
     "text": [
      "/home/mbosnjak/.conda/envs/pero/lib/python3.7/site-packages/scipy/stats/stats.py:3399: PearsonRConstantInputWarning: An input array is constant; the correlation coefficent is not defined.\n",
      "  warnings.warn(PearsonRConstantInputWarning())\n"
     ]
    },
    {
     "name": "stdout",
     "output_type": "stream",
     "text": [
      "Epoch 251 end: 1.0798120498657227, TRAIN MSE is: 1548.50634765625\n",
      "Validation loss: 358318.6875000 - MSE score: 1722.6860352\n",
      "Validation pearson is: nan\n",
      "Validation r2_score is: -0.9079232701332529\n",
      "-------------------------\n"
     ]
    },
    {
     "name": "stderr",
     "output_type": "stream",
     "text": [
      "/home/mbosnjak/.conda/envs/pero/lib/python3.7/site-packages/scipy/stats/stats.py:3399: PearsonRConstantInputWarning: An input array is constant; the correlation coefficent is not defined.\n",
      "  warnings.warn(PearsonRConstantInputWarning())\n"
     ]
    },
    {
     "name": "stdout",
     "output_type": "stream",
     "text": [
      "Epoch 252 end: 1.0670483112335205, TRAIN MSE is: 1546.3487548828125\n",
      "Validation loss: 357805.8750000 - MSE score: 1720.2205811\n",
      "Validation pearson is: nan\n",
      "Validation r2_score is: -0.9051925294658967\n",
      "-------------------------\n"
     ]
    },
    {
     "name": "stderr",
     "output_type": "stream",
     "text": [
      "/home/mbosnjak/.conda/envs/pero/lib/python3.7/site-packages/scipy/stats/stats.py:3399: PearsonRConstantInputWarning: An input array is constant; the correlation coefficent is not defined.\n",
      "  warnings.warn(PearsonRConstantInputWarning())\n"
     ]
    },
    {
     "name": "stdout",
     "output_type": "stream",
     "text": [
      "Epoch 253 end: 1.0580739974975586, TRAIN MSE is: 1544.1295166015625\n",
      "Validation loss: 357304.1875000 - MSE score: 1717.8085938\n",
      "Validation pearson is: nan\n",
      "Validation r2_score is: -0.9025212903041249\n",
      "-------------------------\n"
     ]
    },
    {
     "name": "stderr",
     "output_type": "stream",
     "text": [
      "/home/mbosnjak/.conda/envs/pero/lib/python3.7/site-packages/scipy/stats/stats.py:3399: PearsonRConstantInputWarning: An input array is constant; the correlation coefficent is not defined.\n",
      "  warnings.warn(PearsonRConstantInputWarning())\n"
     ]
    },
    {
     "name": "stdout",
     "output_type": "stream",
     "text": [
      "Epoch 254 end: 1.0372157096862793, TRAIN MSE is: 1541.9342041015625\n",
      "Validation loss: 356809.0312500 - MSE score: 1715.4282227\n",
      "Validation pearson is: nan\n",
      "Validation r2_score is: -0.8998848775323629\n",
      "-------------------------\n"
     ]
    },
    {
     "name": "stderr",
     "output_type": "stream",
     "text": [
      "/home/mbosnjak/.conda/envs/pero/lib/python3.7/site-packages/scipy/stats/stats.py:3399: PearsonRConstantInputWarning: An input array is constant; the correlation coefficent is not defined.\n",
      "  warnings.warn(PearsonRConstantInputWarning())\n"
     ]
    },
    {
     "name": "stdout",
     "output_type": "stream",
     "text": [
      "Epoch 255 end: 1.050292730331421, TRAIN MSE is: 1539.7713623046875\n",
      "Validation loss: 356312.4375000 - MSE score: 1713.0405273\n",
      "Validation pearson is: nan\n",
      "Validation r2_score is: -0.8972407319124727\n",
      "-------------------------\n"
     ]
    },
    {
     "name": "stderr",
     "output_type": "stream",
     "text": [
      "/home/mbosnjak/.conda/envs/pero/lib/python3.7/site-packages/scipy/stats/stats.py:3399: PearsonRConstantInputWarning: An input array is constant; the correlation coefficent is not defined.\n",
      "  warnings.warn(PearsonRConstantInputWarning())\n"
     ]
    },
    {
     "name": "stdout",
     "output_type": "stream",
     "text": [
      "Epoch 256 end: 1.1057698726654053, TRAIN MSE is: 1537.6236572265625\n",
      "Validation loss: 355811.7187500 - MSE score: 1710.6333008\n",
      "Validation pearson is: nan\n",
      "Validation r2_score is: -0.8945744725249019\n",
      "-------------------------\n"
     ]
    },
    {
     "name": "stderr",
     "output_type": "stream",
     "text": [
      "/home/mbosnjak/.conda/envs/pero/lib/python3.7/site-packages/scipy/stats/stats.py:3399: PearsonRConstantInputWarning: An input array is constant; the correlation coefficent is not defined.\n",
      "  warnings.warn(PearsonRConstantInputWarning())\n"
     ]
    },
    {
     "name": "stdout",
     "output_type": "stream",
     "text": [
      "Epoch 257 end: 1.047443151473999, TRAIN MSE is: 1535.46240234375\n",
      "Validation loss: 355313.0000000 - MSE score: 1708.2357178\n",
      "Validation pearson is: nan\n",
      "Validation r2_score is: -0.8919190945182727\n",
      "-------------------------\n"
     ]
    },
    {
     "name": "stderr",
     "output_type": "stream",
     "text": [
      "/home/mbosnjak/.conda/envs/pero/lib/python3.7/site-packages/scipy/stats/stats.py:3399: PearsonRConstantInputWarning: An input array is constant; the correlation coefficent is not defined.\n",
      "  warnings.warn(PearsonRConstantInputWarning())\n"
     ]
    },
    {
     "name": "stdout",
     "output_type": "stream",
     "text": [
      "Epoch 258 end: 1.054396390914917, TRAIN MSE is: 1533.319580078125\n",
      "Validation loss: 354812.8750000 - MSE score: 1705.8311768\n",
      "Validation pearson is: nan\n",
      "Validation r2_score is: -0.8892559622075948\n",
      "-------------------------\n"
     ]
    },
    {
     "name": "stderr",
     "output_type": "stream",
     "text": [
      "/home/mbosnjak/.conda/envs/pero/lib/python3.7/site-packages/scipy/stats/stats.py:3399: PearsonRConstantInputWarning: An input array is constant; the correlation coefficent is not defined.\n",
      "  warnings.warn(PearsonRConstantInputWarning())\n"
     ]
    },
    {
     "name": "stdout",
     "output_type": "stream",
     "text": [
      "Epoch 259 end: 1.0460803508758545, TRAIN MSE is: 1531.154296875\n",
      "Validation loss: 354319.9062500 - MSE score: 1703.4609375\n",
      "Validation pearson is: nan\n",
      "Validation r2_score is: -0.8866309727653259\n",
      "-------------------------\n"
     ]
    },
    {
     "name": "stderr",
     "output_type": "stream",
     "text": [
      "/home/mbosnjak/.conda/envs/pero/lib/python3.7/site-packages/scipy/stats/stats.py:3399: PearsonRConstantInputWarning: An input array is constant; the correlation coefficent is not defined.\n",
      "  warnings.warn(PearsonRConstantInputWarning())\n"
     ]
    },
    {
     "name": "stdout",
     "output_type": "stream",
     "text": [
      "Epoch 260 end: 1.05877685546875, TRAIN MSE is: 1529.0435791015625\n",
      "Validation loss: 353819.8750000 - MSE score: 1701.0571289\n",
      "Validation pearson is: nan\n",
      "Validation r2_score is: -0.8839685809096138\n",
      "-------------------------\n"
     ]
    },
    {
     "name": "stderr",
     "output_type": "stream",
     "text": [
      "/home/mbosnjak/.conda/envs/pero/lib/python3.7/site-packages/scipy/stats/stats.py:3399: PearsonRConstantInputWarning: An input array is constant; the correlation coefficent is not defined.\n",
      "  warnings.warn(PearsonRConstantInputWarning())\n"
     ]
    },
    {
     "name": "stdout",
     "output_type": "stream",
     "text": [
      "Epoch 261 end: 1.050405740737915, TRAIN MSE is: 1526.877685546875\n",
      "Validation loss: 353331.0312500 - MSE score: 1698.7069092\n",
      "Validation pearson is: nan\n",
      "Validation r2_score is: -0.88136571277758\n",
      "-------------------------\n"
     ]
    },
    {
     "name": "stderr",
     "output_type": "stream",
     "text": [
      "/home/mbosnjak/.conda/envs/pero/lib/python3.7/site-packages/scipy/stats/stats.py:3399: PearsonRConstantInputWarning: An input array is constant; the correlation coefficent is not defined.\n",
      "  warnings.warn(PearsonRConstantInputWarning())\n"
     ]
    },
    {
     "name": "stdout",
     "output_type": "stream",
     "text": [
      "Epoch 262 end: 1.0656795501708984, TRAIN MSE is: 1524.77490234375\n",
      "Validation loss: 352836.5625000 - MSE score: 1696.3295898\n",
      "Validation pearson is: nan\n",
      "Validation r2_score is: -0.8787327977880801\n",
      "-------------------------\n"
     ]
    },
    {
     "name": "stderr",
     "output_type": "stream",
     "text": [
      "/home/mbosnjak/.conda/envs/pero/lib/python3.7/site-packages/scipy/stats/stats.py:3399: PearsonRConstantInputWarning: An input array is constant; the correlation coefficent is not defined.\n",
      "  warnings.warn(PearsonRConstantInputWarning())\n"
     ]
    },
    {
     "name": "stdout",
     "output_type": "stream",
     "text": [
      "Epoch 263 end: 1.038029670715332, TRAIN MSE is: 1522.622314453125\n",
      "Validation loss: 352353.4687500 - MSE score: 1694.0070801\n",
      "Validation pearson is: nan\n",
      "Validation r2_score is: -0.8761603508401203\n",
      "-------------------------\n"
     ]
    },
    {
     "name": "stderr",
     "output_type": "stream",
     "text": [
      "/home/mbosnjak/.conda/envs/pero/lib/python3.7/site-packages/scipy/stats/stats.py:3399: PearsonRConstantInputWarning: An input array is constant; the correlation coefficent is not defined.\n",
      "  warnings.warn(PearsonRConstantInputWarning())\n"
     ]
    },
    {
     "name": "stdout",
     "output_type": "stream",
     "text": [
      "Epoch 264 end: 1.0609753131866455, TRAIN MSE is: 1520.5086669921875\n",
      "Validation loss: 351872.1250000 - MSE score: 1691.6928711\n",
      "Validation pearson is: nan\n",
      "Validation r2_score is: -0.8735974963143804\n",
      "-------------------------\n"
     ]
    },
    {
     "name": "stderr",
     "output_type": "stream",
     "text": [
      "/home/mbosnjak/.conda/envs/pero/lib/python3.7/site-packages/scipy/stats/stats.py:3399: PearsonRConstantInputWarning: An input array is constant; the correlation coefficent is not defined.\n",
      "  warnings.warn(PearsonRConstantInputWarning())\n"
     ]
    },
    {
     "name": "stdout",
     "output_type": "stream",
     "text": [
      "Epoch 265 end: 1.0629150867462158, TRAIN MSE is: 1518.4532470703125\n",
      "Validation loss: 351376.5937500 - MSE score: 1689.3104248\n",
      "Validation pearson is: nan\n",
      "Validation r2_score is: -0.8709588922954163\n",
      "-------------------------\n"
     ]
    },
    {
     "name": "stderr",
     "output_type": "stream",
     "text": [
      "/home/mbosnjak/.conda/envs/pero/lib/python3.7/site-packages/scipy/stats/stats.py:3399: PearsonRConstantInputWarning: An input array is constant; the correlation coefficent is not defined.\n",
      "  warnings.warn(PearsonRConstantInputWarning())\n"
     ]
    },
    {
     "name": "stdout",
     "output_type": "stream",
     "text": [
      "Epoch 266 end: 1.0544939041137695, TRAIN MSE is: 1516.312744140625\n",
      "Validation loss: 350894.8125000 - MSE score: 1686.9942627\n",
      "Validation pearson is: nan\n",
      "Validation r2_score is: -0.8683937408943314\n",
      "-------------------------\n"
     ]
    },
    {
     "name": "stderr",
     "output_type": "stream",
     "text": [
      "/home/mbosnjak/.conda/envs/pero/lib/python3.7/site-packages/scipy/stats/stats.py:3399: PearsonRConstantInputWarning: An input array is constant; the correlation coefficent is not defined.\n",
      "  warnings.warn(PearsonRConstantInputWarning())\n"
     ]
    },
    {
     "name": "stdout",
     "output_type": "stream",
     "text": [
      "Epoch 267 end: 1.0434770584106445, TRAIN MSE is: 1514.2342529296875\n",
      "Validation loss: 350409.6250000 - MSE score: 1684.6616211\n",
      "Validation pearson is: nan\n",
      "Validation r2_score is: -0.8658100312354862\n",
      "-------------------------\n"
     ]
    },
    {
     "name": "stderr",
     "output_type": "stream",
     "text": [
      "/home/mbosnjak/.conda/envs/pero/lib/python3.7/site-packages/scipy/stats/stats.py:3399: PearsonRConstantInputWarning: An input array is constant; the correlation coefficent is not defined.\n",
      "  warnings.warn(PearsonRConstantInputWarning())\n"
     ]
    },
    {
     "name": "stdout",
     "output_type": "stream",
     "text": [
      "Epoch 268 end: 1.053429126739502, TRAIN MSE is: 1512.1361083984375\n",
      "Validation loss: 349929.0937500 - MSE score: 1682.3513184\n",
      "Validation pearson is: nan\n",
      "Validation r2_score is: -0.8632514065135497\n",
      "-------------------------\n"
     ]
    },
    {
     "name": "stderr",
     "output_type": "stream",
     "text": [
      "/home/mbosnjak/.conda/envs/pero/lib/python3.7/site-packages/scipy/stats/stats.py:3399: PearsonRConstantInputWarning: An input array is constant; the correlation coefficent is not defined.\n",
      "  warnings.warn(PearsonRConstantInputWarning())\n"
     ]
    },
    {
     "name": "stdout",
     "output_type": "stream",
     "text": [
      "Epoch 269 end: 1.064298391342163, TRAIN MSE is: 1510.0643310546875\n",
      "Validation loss: 349447.1250000 - MSE score: 1680.0344238\n",
      "Validation pearson is: nan\n",
      "Validation r2_score is: -0.860685271151717\n",
      "-------------------------\n"
     ]
    },
    {
     "name": "stderr",
     "output_type": "stream",
     "text": [
      "/home/mbosnjak/.conda/envs/pero/lib/python3.7/site-packages/scipy/stats/stats.py:3399: PearsonRConstantInputWarning: An input array is constant; the correlation coefficent is not defined.\n",
      "  warnings.warn(PearsonRConstantInputWarning())\n"
     ]
    },
    {
     "name": "stdout",
     "output_type": "stream",
     "text": [
      "Epoch 270 end: 1.0723633766174316, TRAIN MSE is: 1508.00927734375\n",
      "Validation loss: 348961.1562500 - MSE score: 1677.6979980\n",
      "Validation pearson is: nan\n",
      "Validation r2_score is: -0.8580976565240359\n",
      "-------------------------\n"
     ]
    },
    {
     "name": "stderr",
     "output_type": "stream",
     "text": [
      "/home/mbosnjak/.conda/envs/pero/lib/python3.7/site-packages/scipy/stats/stats.py:3399: PearsonRConstantInputWarning: An input array is constant; the correlation coefficent is not defined.\n",
      "  warnings.warn(PearsonRConstantInputWarning())\n"
     ]
    },
    {
     "name": "stdout",
     "output_type": "stream",
     "text": [
      "Epoch 271 end: 1.0326974391937256, TRAIN MSE is: 1505.907958984375\n",
      "Validation loss: 348486.3750000 - MSE score: 1675.4152832\n",
      "Validation pearson is: nan\n",
      "Validation r2_score is: -0.8555695904329776\n",
      "-------------------------\n"
     ]
    },
    {
     "name": "stderr",
     "output_type": "stream",
     "text": [
      "/home/mbosnjak/.conda/envs/pero/lib/python3.7/site-packages/scipy/stats/stats.py:3399: PearsonRConstantInputWarning: An input array is constant; the correlation coefficent is not defined.\n",
      "  warnings.warn(PearsonRConstantInputWarning())\n"
     ]
    },
    {
     "name": "stdout",
     "output_type": "stream",
     "text": [
      "Epoch 272 end: 1.1281359195709229, TRAIN MSE is: 1503.8673095703125\n",
      "Validation loss: 348006.6875000 - MSE score: 1673.1091309\n",
      "Validation pearson is: nan\n",
      "Validation r2_score is: -0.8530153463999046\n",
      "-------------------------\n"
     ]
    },
    {
     "name": "stderr",
     "output_type": "stream",
     "text": [
      "/home/mbosnjak/.conda/envs/pero/lib/python3.7/site-packages/scipy/stats/stats.py:3399: PearsonRConstantInputWarning: An input array is constant; the correlation coefficent is not defined.\n",
      "  warnings.warn(PearsonRConstantInputWarning())\n"
     ]
    },
    {
     "name": "stdout",
     "output_type": "stream",
     "text": [
      "Epoch 273 end: 1.0370619297027588, TRAIN MSE is: 1501.798828125\n",
      "Validation loss: 347532.3437500 - MSE score: 1670.8287354\n",
      "Validation pearson is: nan\n",
      "Validation r2_score is: -0.8504897649322571\n",
      "-------------------------\n"
     ]
    },
    {
     "name": "stderr",
     "output_type": "stream",
     "text": [
      "/home/mbosnjak/.conda/envs/pero/lib/python3.7/site-packages/scipy/stats/stats.py:3399: PearsonRConstantInputWarning: An input array is constant; the correlation coefficent is not defined.\n",
      "  warnings.warn(PearsonRConstantInputWarning())\n"
     ]
    },
    {
     "name": "stdout",
     "output_type": "stream",
     "text": [
      "Epoch 274 end: 1.0638318061828613, TRAIN MSE is: 1499.7569580078125\n",
      "Validation loss: 347057.4375000 - MSE score: 1668.5454102\n",
      "Validation pearson is: nan\n",
      "Validation r2_score is: -0.8479609206934526\n",
      "-------------------------\n"
     ]
    },
    {
     "name": "stderr",
     "output_type": "stream",
     "text": [
      "/home/mbosnjak/.conda/envs/pero/lib/python3.7/site-packages/scipy/stats/stats.py:3399: PearsonRConstantInputWarning: An input array is constant; the correlation coefficent is not defined.\n",
      "  warnings.warn(PearsonRConstantInputWarning())\n"
     ]
    },
    {
     "name": "stdout",
     "output_type": "stream",
     "text": [
      "Epoch 275 end: 1.0687830448150635, TRAIN MSE is: 1497.690185546875\n",
      "Validation loss: 346591.3125000 - MSE score: 1666.3041992\n",
      "Validation pearson is: nan\n",
      "Validation r2_score is: -0.8454787969079927\n",
      "-------------------------\n"
     ]
    },
    {
     "name": "stderr",
     "output_type": "stream",
     "text": [
      "/home/mbosnjak/.conda/envs/pero/lib/python3.7/site-packages/scipy/stats/stats.py:3399: PearsonRConstantInputWarning: An input array is constant; the correlation coefficent is not defined.\n",
      "  warnings.warn(PearsonRConstantInputWarning())\n"
     ]
    },
    {
     "name": "stdout",
     "output_type": "stream",
     "text": [
      "Epoch 276 end: 1.0599579811096191, TRAIN MSE is: 1495.66748046875\n",
      "Validation loss: 346122.4062500 - MSE score: 1664.0500488\n",
      "Validation pearson is: nan\n",
      "Validation r2_score is: -0.8429822423430278\n",
      "-------------------------\n"
     ]
    },
    {
     "name": "stderr",
     "output_type": "stream",
     "text": [
      "/home/mbosnjak/.conda/envs/pero/lib/python3.7/site-packages/scipy/stats/stats.py:3399: PearsonRConstantInputWarning: An input array is constant; the correlation coefficent is not defined.\n",
      "  warnings.warn(PearsonRConstantInputWarning())\n"
     ]
    },
    {
     "name": "stdout",
     "output_type": "stream",
     "text": [
      "Epoch 277 end: 1.056291103363037, TRAIN MSE is: 1493.6326904296875\n",
      "Validation loss: 345656.6250000 - MSE score: 1661.8107910\n",
      "Validation pearson is: nan\n",
      "Validation r2_score is: -0.8405021574082159\n",
      "-------------------------\n"
     ]
    },
    {
     "name": "stderr",
     "output_type": "stream",
     "text": [
      "/home/mbosnjak/.conda/envs/pero/lib/python3.7/site-packages/scipy/stats/stats.py:3399: PearsonRConstantInputWarning: An input array is constant; the correlation coefficent is not defined.\n",
      "  warnings.warn(PearsonRConstantInputWarning())\n"
     ]
    },
    {
     "name": "stdout",
     "output_type": "stream",
     "text": [
      "Epoch 278 end: 1.061333417892456, TRAIN MSE is: 1491.6517333984375\n",
      "Validation loss: 345179.4375000 - MSE score: 1659.5164795\n",
      "Validation pearson is: nan\n",
      "Validation r2_score is: -0.8379612520250181\n",
      "-------------------------\n"
     ]
    },
    {
     "name": "stderr",
     "output_type": "stream",
     "text": [
      "/home/mbosnjak/.conda/envs/pero/lib/python3.7/site-packages/scipy/stats/stats.py:3399: PearsonRConstantInputWarning: An input array is constant; the correlation coefficent is not defined.\n",
      "  warnings.warn(PearsonRConstantInputWarning())\n"
     ]
    },
    {
     "name": "stdout",
     "output_type": "stream",
     "text": [
      "Epoch 279 end: 1.0682625770568848, TRAIN MSE is: 1489.581787109375\n",
      "Validation loss: 344719.7500000 - MSE score: 1657.3063965\n",
      "Validation pearson is: nan\n",
      "Validation r2_score is: -0.8355134239554947\n",
      "-------------------------\n"
     ]
    },
    {
     "name": "stderr",
     "output_type": "stream",
     "text": [
      "/home/mbosnjak/.conda/envs/pero/lib/python3.7/site-packages/scipy/stats/stats.py:3399: PearsonRConstantInputWarning: An input array is constant; the correlation coefficent is not defined.\n",
      "  warnings.warn(PearsonRConstantInputWarning())\n"
     ]
    },
    {
     "name": "stdout",
     "output_type": "stream",
     "text": [
      "Epoch 280 end: 1.0722613334655762, TRAIN MSE is: 1487.6085205078125\n",
      "Validation loss: 344249.9062500 - MSE score: 1655.0477295\n",
      "Validation pearson is: nan\n",
      "Validation r2_score is: -0.8330119280150288\n",
      "-------------------------\n"
     ]
    },
    {
     "name": "stderr",
     "output_type": "stream",
     "text": [
      "/home/mbosnjak/.conda/envs/pero/lib/python3.7/site-packages/scipy/stats/stats.py:3399: PearsonRConstantInputWarning: An input array is constant; the correlation coefficent is not defined.\n",
      "  warnings.warn(PearsonRConstantInputWarning())\n"
     ]
    },
    {
     "name": "stdout",
     "output_type": "stream",
     "text": [
      "Epoch 281 end: 1.0647003650665283, TRAIN MSE is: 1485.563720703125\n",
      "Validation loss: 343794.1562500 - MSE score: 1652.8565674\n",
      "Validation pearson is: nan\n",
      "Validation r2_score is: -0.8305851291010387\n",
      "-------------------------\n"
     ]
    },
    {
     "name": "stderr",
     "output_type": "stream",
     "text": [
      "/home/mbosnjak/.conda/envs/pero/lib/python3.7/site-packages/scipy/stats/stats.py:3399: PearsonRConstantInputWarning: An input array is constant; the correlation coefficent is not defined.\n",
      "  warnings.warn(PearsonRConstantInputWarning())\n"
     ]
    },
    {
     "name": "stdout",
     "output_type": "stream",
     "text": [
      "Epoch 282 end: 1.0676753520965576, TRAIN MSE is: 1483.597900390625\n",
      "Validation loss: 343329.5000000 - MSE score: 1650.6225586\n",
      "Validation pearson is: nan\n",
      "Validation r2_score is: -0.8281108805018815\n",
      "-------------------------\n"
     ]
    },
    {
     "name": "stderr",
     "output_type": "stream",
     "text": [
      "/home/mbosnjak/.conda/envs/pero/lib/python3.7/site-packages/scipy/stats/stats.py:3399: PearsonRConstantInputWarning: An input array is constant; the correlation coefficent is not defined.\n",
      "  warnings.warn(PearsonRConstantInputWarning())\n"
     ]
    },
    {
     "name": "stdout",
     "output_type": "stream",
     "text": [
      "Epoch 283 end: 1.0562231540679932, TRAIN MSE is: 1481.599853515625\n",
      "Validation loss: 342867.9687500 - MSE score: 1648.4038086\n",
      "Validation pearson is: nan\n",
      "Validation r2_score is: -0.8256534822843673\n",
      "-------------------------\n"
     ]
    },
    {
     "name": "stderr",
     "output_type": "stream",
     "text": [
      "/home/mbosnjak/.conda/envs/pero/lib/python3.7/site-packages/scipy/stats/stats.py:3399: PearsonRConstantInputWarning: An input array is constant; the correlation coefficent is not defined.\n",
      "  warnings.warn(PearsonRConstantInputWarning())\n"
     ]
    },
    {
     "name": "stdout",
     "output_type": "stream",
     "text": [
      "Epoch 284 end: 1.0850510597229004, TRAIN MSE is: 1479.611572265625\n",
      "Validation loss: 342408.6875000 - MSE score: 1646.1955566\n",
      "Validation pearson is: nan\n",
      "Validation r2_score is: -0.8232079272947457\n",
      "-------------------------\n"
     ]
    },
    {
     "name": "stderr",
     "output_type": "stream",
     "text": [
      "/home/mbosnjak/.conda/envs/pero/lib/python3.7/site-packages/scipy/stats/stats.py:3399: PearsonRConstantInputWarning: An input array is constant; the correlation coefficent is not defined.\n",
      "  warnings.warn(PearsonRConstantInputWarning())\n"
     ]
    },
    {
     "name": "stdout",
     "output_type": "stream",
     "text": [
      "Epoch 285 end: 1.047501802444458, TRAIN MSE is: 1477.63671875\n",
      "Validation loss: 341949.3750000 - MSE score: 1643.9875488\n",
      "Validation pearson is: nan\n",
      "Validation r2_score is: -0.8207623111913815\n",
      "-------------------------\n"
     ]
    },
    {
     "name": "stderr",
     "output_type": "stream",
     "text": [
      "/home/mbosnjak/.conda/envs/pero/lib/python3.7/site-packages/scipy/stats/stats.py:3399: PearsonRConstantInputWarning: An input array is constant; the correlation coefficent is not defined.\n",
      "  warnings.warn(PearsonRConstantInputWarning())\n"
     ]
    },
    {
     "name": "stdout",
     "output_type": "stream",
     "text": [
      "Epoch 286 end: 1.1366283893585205, TRAIN MSE is: 1475.6553955078125\n",
      "Validation loss: 341493.9687500 - MSE score: 1641.7980957\n",
      "Validation pearson is: nan\n",
      "Validation r2_score is: -0.8183374551005045\n",
      "-------------------------\n"
     ]
    },
    {
     "name": "stderr",
     "output_type": "stream",
     "text": [
      "/home/mbosnjak/.conda/envs/pero/lib/python3.7/site-packages/scipy/stats/stats.py:3399: PearsonRConstantInputWarning: An input array is constant; the correlation coefficent is not defined.\n",
      "  warnings.warn(PearsonRConstantInputWarning())\n"
     ]
    },
    {
     "name": "stdout",
     "output_type": "stream",
     "text": [
      "Epoch 287 end: 1.1374876499176025, TRAIN MSE is: 1473.705810546875\n",
      "Validation loss: 341034.7187500 - MSE score: 1639.5899658\n",
      "Validation pearson is: nan\n",
      "Validation r2_score is: -0.815891982965274\n",
      "-------------------------\n"
     ]
    },
    {
     "name": "stderr",
     "output_type": "stream",
     "text": [
      "/home/mbosnjak/.conda/envs/pero/lib/python3.7/site-packages/scipy/stats/stats.py:3399: PearsonRConstantInputWarning: An input array is constant; the correlation coefficent is not defined.\n",
      "  warnings.warn(PearsonRConstantInputWarning())\n"
     ]
    },
    {
     "name": "stdout",
     "output_type": "stream",
     "text": [
      "Epoch 288 end: 1.067249059677124, TRAIN MSE is: 1471.74560546875\n",
      "Validation loss: 340576.5937500 - MSE score: 1637.3874512\n",
      "Validation pearson is: nan\n",
      "Validation r2_score is: -0.8134527026423677\n",
      "-------------------------\n"
     ]
    },
    {
     "name": "stderr",
     "output_type": "stream",
     "text": [
      "/home/mbosnjak/.conda/envs/pero/lib/python3.7/site-packages/scipy/stats/stats.py:3399: PearsonRConstantInputWarning: An input array is constant; the correlation coefficent is not defined.\n",
      "  warnings.warn(PearsonRConstantInputWarning())\n"
     ]
    },
    {
     "name": "stdout",
     "output_type": "stream",
     "text": [
      "Epoch 289 end: 1.048980474472046, TRAIN MSE is: 1469.7923583984375\n",
      "Validation loss: 340119.4375000 - MSE score: 1635.1895752\n",
      "Validation pearson is: nan\n",
      "Validation r2_score is: -0.8110185438466713\n",
      "-------------------------\n"
     ]
    },
    {
     "name": "stderr",
     "output_type": "stream",
     "text": [
      "/home/mbosnjak/.conda/envs/pero/lib/python3.7/site-packages/scipy/stats/stats.py:3399: PearsonRConstantInputWarning: An input array is constant; the correlation coefficent is not defined.\n",
      "  warnings.warn(PearsonRConstantInputWarning())\n"
     ]
    },
    {
     "name": "stdout",
     "output_type": "stream",
     "text": [
      "Epoch 290 end: 1.061906337738037, TRAIN MSE is: 1467.84375\n",
      "Validation loss: 339663.9062500 - MSE score: 1632.9995117\n",
      "Validation pearson is: nan\n",
      "Validation r2_score is: -0.8085929422654365\n",
      "-------------------------\n"
     ]
    },
    {
     "name": "stderr",
     "output_type": "stream",
     "text": [
      "/home/mbosnjak/.conda/envs/pero/lib/python3.7/site-packages/scipy/stats/stats.py:3399: PearsonRConstantInputWarning: An input array is constant; the correlation coefficent is not defined.\n",
      "  warnings.warn(PearsonRConstantInputWarning())\n"
     ]
    },
    {
     "name": "stdout",
     "output_type": "stream",
     "text": [
      "Epoch 291 end: 1.0555665493011475, TRAIN MSE is: 1465.8834228515625\n",
      "Validation loss: 339214.8750000 - MSE score: 1630.8406982\n",
      "Validation pearson is: nan\n",
      "Validation r2_score is: -0.8062020916436015\n",
      "-------------------------\n"
     ]
    },
    {
     "name": "stderr",
     "output_type": "stream",
     "text": [
      "/home/mbosnjak/.conda/envs/pero/lib/python3.7/site-packages/scipy/stats/stats.py:3399: PearsonRConstantInputWarning: An input array is constant; the correlation coefficent is not defined.\n",
      "  warnings.warn(PearsonRConstantInputWarning())\n"
     ]
    },
    {
     "name": "stdout",
     "output_type": "stream",
     "text": [
      "Epoch 292 end: 1.0496470928192139, TRAIN MSE is: 1463.898193359375\n",
      "Validation loss: 338783.3437500 - MSE score: 1628.7661133\n",
      "Validation pearson is: nan\n",
      "Validation r2_score is: -0.8039042358782182\n",
      "-------------------------\n"
     ]
    },
    {
     "name": "stderr",
     "output_type": "stream",
     "text": [
      "/home/mbosnjak/.conda/envs/pero/lib/python3.7/site-packages/scipy/stats/stats.py:3399: PearsonRConstantInputWarning: An input array is constant; the correlation coefficent is not defined.\n",
      "  warnings.warn(PearsonRConstantInputWarning())\n"
     ]
    },
    {
     "name": "stdout",
     "output_type": "stream",
     "text": [
      "Epoch 293 end: 1.063795566558838, TRAIN MSE is: 1462.03173828125\n",
      "Validation loss: 338332.8125000 - MSE score: 1626.6000977\n",
      "Validation pearson is: nan\n",
      "Validation r2_score is: -0.8015052310720061\n",
      "-------------------------\n"
     ]
    },
    {
     "name": "stderr",
     "output_type": "stream",
     "text": [
      "/home/mbosnjak/.conda/envs/pero/lib/python3.7/site-packages/scipy/stats/stats.py:3399: PearsonRConstantInputWarning: An input array is constant; the correlation coefficent is not defined.\n",
      "  warnings.warn(PearsonRConstantInputWarning())\n"
     ]
    },
    {
     "name": "stdout",
     "output_type": "stream",
     "text": [
      "Epoch 294 end: 1.0674488544464111, TRAIN MSE is: 1460.1282958984375\n",
      "Validation loss: 337877.3750000 - MSE score: 1624.4104004\n",
      "Validation pearson is: nan\n",
      "Validation r2_score is: -0.7990803129172082\n",
      "-------------------------\n"
     ]
    },
    {
     "name": "stderr",
     "output_type": "stream",
     "text": [
      "/home/mbosnjak/.conda/envs/pero/lib/python3.7/site-packages/scipy/stats/stats.py:3399: PearsonRConstantInputWarning: An input array is constant; the correlation coefficent is not defined.\n",
      "  warnings.warn(PearsonRConstantInputWarning())\n"
     ]
    },
    {
     "name": "stdout",
     "output_type": "stream",
     "text": [
      "Epoch 295 end: 1.0605645179748535, TRAIN MSE is: 1458.1932373046875\n",
      "Validation loss: 337428.6250000 - MSE score: 1622.2530518\n",
      "Validation pearson is: nan\n",
      "Validation r2_score is: -0.7966908878093892\n",
      "-------------------------\n"
     ]
    },
    {
     "name": "stderr",
     "output_type": "stream",
     "text": [
      "/home/mbosnjak/.conda/envs/pero/lib/python3.7/site-packages/scipy/stats/stats.py:3399: PearsonRConstantInputWarning: An input array is constant; the correlation coefficent is not defined.\n",
      "  warnings.warn(PearsonRConstantInputWarning())\n"
     ]
    },
    {
     "name": "stdout",
     "output_type": "stream",
     "text": [
      "Epoch 296 end: 1.0505354404449463, TRAIN MSE is: 1456.2635498046875\n",
      "Validation loss: 336986.6562500 - MSE score: 1620.1280518\n",
      "Validation pearson is: nan\n",
      "Validation r2_score is: -0.7943373907884532\n",
      "-------------------------\n"
     ]
    },
    {
     "name": "stderr",
     "output_type": "stream",
     "text": [
      "/home/mbosnjak/.conda/envs/pero/lib/python3.7/site-packages/scipy/stats/stats.py:3399: PearsonRConstantInputWarning: An input array is constant; the correlation coefficent is not defined.\n",
      "  warnings.warn(PearsonRConstantInputWarning())\n"
     ]
    },
    {
     "name": "stdout",
     "output_type": "stream",
     "text": [
      "Epoch 297 end: 1.0377781391143799, TRAIN MSE is: 1454.372314453125\n",
      "Validation loss: 336541.7187500 - MSE score: 1617.9891357\n",
      "Validation pearson is: nan\n",
      "Validation r2_score is: -0.7919684183555251\n",
      "-------------------------\n"
     ]
    },
    {
     "name": "stderr",
     "output_type": "stream",
     "text": [
      "/home/mbosnjak/.conda/envs/pero/lib/python3.7/site-packages/scipy/stats/stats.py:3399: PearsonRConstantInputWarning: An input array is constant; the correlation coefficent is not defined.\n",
      "  warnings.warn(PearsonRConstantInputWarning())\n"
     ]
    },
    {
     "name": "stdout",
     "output_type": "stream",
     "text": [
      "Epoch 298 end: 1.0758635997772217, TRAIN MSE is: 1452.4346923828125\n",
      "Validation loss: 336109.9062500 - MSE score: 1615.9128418\n",
      "Validation pearson is: nan\n",
      "Validation r2_score is: -0.7896690635719978\n",
      "-------------------------\n"
     ]
    },
    {
     "name": "stderr",
     "output_type": "stream",
     "text": [
      "/home/mbosnjak/.conda/envs/pero/lib/python3.7/site-packages/scipy/stats/stats.py:3399: PearsonRConstantInputWarning: An input array is constant; the correlation coefficent is not defined.\n",
      "  warnings.warn(PearsonRConstantInputWarning())\n"
     ]
    },
    {
     "name": "stdout",
     "output_type": "stream",
     "text": [
      "Epoch 299 end: 1.096400499343872, TRAIN MSE is: 1450.593017578125\n",
      "Validation loss: 335663.5000000 - MSE score: 1613.7668457\n",
      "Validation pearson is: nan\n",
      "Validation r2_score is: -0.7872921964478252\n",
      "-------------------------\n"
     ]
    },
    {
     "name": "stderr",
     "output_type": "stream",
     "text": [
      "/home/mbosnjak/.conda/envs/pero/lib/python3.7/site-packages/scipy/stats/stats.py:3399: PearsonRConstantInputWarning: An input array is constant; the correlation coefficent is not defined.\n",
      "  warnings.warn(PearsonRConstantInputWarning())\n"
     ]
    },
    {
     "name": "stdout",
     "output_type": "stream",
     "text": [
      "Epoch 300 end: 1.05845308303833, TRAIN MSE is: 1448.761962890625\n",
      "Validation loss: 335271.2187500 - MSE score: 1611.8807373\n",
      "Validation pearson is: nan\n",
      "Validation r2_score is: -0.785203366295707\n",
      "-------------------------\n"
     ]
    },
    {
     "name": "stderr",
     "output_type": "stream",
     "text": [
      "/home/mbosnjak/.conda/envs/pero/lib/python3.7/site-packages/scipy/stats/stats.py:3399: PearsonRConstantInputWarning: An input array is constant; the correlation coefficent is not defined.\n",
      "  warnings.warn(PearsonRConstantInputWarning())\n"
     ]
    },
    {
     "name": "stdout",
     "output_type": "stream",
     "text": [
      "Epoch 301 end: 1.0553162097930908, TRAIN MSE is: 1447.091064453125\n",
      "Validation loss: 334873.1875000 - MSE score: 1609.9674072\n",
      "Validation pearson is: nan\n",
      "Validation r2_score is: -0.7830841744263828\n",
      "-------------------------\n"
     ]
    },
    {
     "name": "stderr",
     "output_type": "stream",
     "text": [
      "/home/mbosnjak/.conda/envs/pero/lib/python3.7/site-packages/scipy/stats/stats.py:3399: PearsonRConstantInputWarning: An input array is constant; the correlation coefficent is not defined.\n",
      "  warnings.warn(PearsonRConstantInputWarning())\n"
     ]
    },
    {
     "name": "stdout",
     "output_type": "stream",
     "text": [
      "Epoch 302 end: 1.1076736450195312, TRAIN MSE is: 1445.381591796875\n",
      "Validation loss: 334482.4062500 - MSE score: 1608.0885010\n",
      "Validation pearson is: nan\n",
      "Validation r2_score is: -0.7810032060261203\n",
      "-------------------------\n"
     ]
    },
    {
     "name": "stderr",
     "output_type": "stream",
     "text": [
      "/home/mbosnjak/.conda/envs/pero/lib/python3.7/site-packages/scipy/stats/stats.py:3399: PearsonRConstantInputWarning: An input array is constant; the correlation coefficent is not defined.\n",
      "  warnings.warn(PearsonRConstantInputWarning())\n"
     ]
    },
    {
     "name": "stdout",
     "output_type": "stream",
     "text": [
      "Epoch 303 end: 1.0615296363830566, TRAIN MSE is: 1443.69384765625\n",
      "Validation loss: 334093.8437500 - MSE score: 1606.2205811\n",
      "Validation pearson is: nan\n",
      "Validation r2_score is: -0.7789343871844965\n",
      "-------------------------\n"
     ]
    },
    {
     "name": "stderr",
     "output_type": "stream",
     "text": [
      "/home/mbosnjak/.conda/envs/pero/lib/python3.7/site-packages/scipy/stats/stats.py:3399: PearsonRConstantInputWarning: An input array is constant; the correlation coefficent is not defined.\n",
      "  warnings.warn(PearsonRConstantInputWarning())\n"
     ]
    },
    {
     "name": "stdout",
     "output_type": "stream",
     "text": [
      "Epoch 304 end: 1.0627365112304688, TRAIN MSE is: 1442.0460205078125\n",
      "Validation loss: 333697.0312500 - MSE score: 1604.3126221\n",
      "Validation pearson is: nan\n",
      "Validation r2_score is: -0.7768213494012104\n",
      "-------------------------\n"
     ]
    },
    {
     "name": "stderr",
     "output_type": "stream",
     "text": [
      "/home/mbosnjak/.conda/envs/pero/lib/python3.7/site-packages/scipy/stats/stats.py:3399: PearsonRConstantInputWarning: An input array is constant; the correlation coefficent is not defined.\n",
      "  warnings.warn(PearsonRConstantInputWarning())\n"
     ]
    },
    {
     "name": "stdout",
     "output_type": "stream",
     "text": [
      "Epoch 305 end: 1.050363302230835, TRAIN MSE is: 1440.329345703125\n",
      "Validation loss: 333314.0000000 - MSE score: 1602.4711914\n",
      "Validation pearson is: nan\n",
      "Validation r2_score is: -0.7747817821287228\n",
      "-------------------------\n"
     ]
    },
    {
     "name": "stderr",
     "output_type": "stream",
     "text": [
      "/home/mbosnjak/.conda/envs/pero/lib/python3.7/site-packages/scipy/stats/stats.py:3399: PearsonRConstantInputWarning: An input array is constant; the correlation coefficent is not defined.\n",
      "  warnings.warn(PearsonRConstantInputWarning())\n"
     ]
    },
    {
     "name": "stdout",
     "output_type": "stream",
     "text": [
      "Epoch 306 end: 1.0751819610595703, TRAIN MSE is: 1438.6883544921875\n",
      "Validation loss: 332923.2187500 - MSE score: 1600.5922852\n",
      "Validation pearson is: nan\n",
      "Validation r2_score is: -0.7727010409975403\n",
      "-------------------------\n"
     ]
    },
    {
     "name": "stderr",
     "output_type": "stream",
     "text": [
      "/home/mbosnjak/.conda/envs/pero/lib/python3.7/site-packages/scipy/stats/stats.py:3399: PearsonRConstantInputWarning: An input array is constant; the correlation coefficent is not defined.\n",
      "  warnings.warn(PearsonRConstantInputWarning())\n"
     ]
    },
    {
     "name": "stdout",
     "output_type": "stream",
     "text": [
      "Epoch 307 end: 1.0558488368988037, TRAIN MSE is: 1437.010986328125\n",
      "Validation loss: 332537.2812500 - MSE score: 1598.7369385\n",
      "Validation pearson is: nan\n",
      "Validation r2_score is: -0.7706460527238812\n",
      "-------------------------\n"
     ]
    },
    {
     "name": "stderr",
     "output_type": "stream",
     "text": [
      "/home/mbosnjak/.conda/envs/pero/lib/python3.7/site-packages/scipy/stats/stats.py:3399: PearsonRConstantInputWarning: An input array is constant; the correlation coefficent is not defined.\n",
      "  warnings.warn(PearsonRConstantInputWarning())\n"
     ]
    },
    {
     "name": "stdout",
     "output_type": "stream",
     "text": [
      "Epoch 308 end: 1.0589714050292969, TRAIN MSE is: 1435.34912109375\n",
      "Validation loss: 332152.9687500 - MSE score: 1596.8894043\n",
      "Validation pearson is: nan\n",
      "Validation r2_score is: -0.7685998161561305\n",
      "-------------------------\n"
     ]
    },
    {
     "name": "stderr",
     "output_type": "stream",
     "text": [
      "/home/mbosnjak/.conda/envs/pero/lib/python3.7/site-packages/scipy/stats/stats.py:3399: PearsonRConstantInputWarning: An input array is constant; the correlation coefficent is not defined.\n",
      "  warnings.warn(PearsonRConstantInputWarning())\n"
     ]
    },
    {
     "name": "stdout",
     "output_type": "stream",
     "text": [
      "Epoch 309 end: 1.0586614608764648, TRAIN MSE is: 1433.6986083984375\n",
      "Validation loss: 331768.3125000 - MSE score: 1595.0401611\n",
      "Validation pearson is: nan\n",
      "Validation r2_score is: -0.7665516170640689\n",
      "-------------------------\n"
     ]
    },
    {
     "name": "stderr",
     "output_type": "stream",
     "text": [
      "/home/mbosnjak/.conda/envs/pero/lib/python3.7/site-packages/scipy/stats/stats.py:3399: PearsonRConstantInputWarning: An input array is constant; the correlation coefficent is not defined.\n",
      "  warnings.warn(PearsonRConstantInputWarning())\n"
     ]
    },
    {
     "name": "stdout",
     "output_type": "stream",
     "text": [
      "Epoch 310 end: 1.0629959106445312, TRAIN MSE is: 1432.0352783203125\n",
      "Validation loss: 331388.8125000 - MSE score: 1593.2154541\n",
      "Validation pearson is: nan\n",
      "Validation r2_score is: -0.7645309189376206\n",
      "-------------------------\n"
     ]
    },
    {
     "name": "stderr",
     "output_type": "stream",
     "text": [
      "/home/mbosnjak/.conda/envs/pero/lib/python3.7/site-packages/scipy/stats/stats.py:3399: PearsonRConstantInputWarning: An input array is constant; the correlation coefficent is not defined.\n",
      "  warnings.warn(PearsonRConstantInputWarning())\n"
     ]
    },
    {
     "name": "stdout",
     "output_type": "stream",
     "text": [
      "Epoch 311 end: 1.057098388671875, TRAIN MSE is: 1430.424560546875\n",
      "Validation loss: 330999.8437500 - MSE score: 1591.3452148\n",
      "Validation pearson is: nan\n",
      "Validation r2_score is: -0.7624596647392079\n",
      "-------------------------\n"
     ]
    },
    {
     "name": "stderr",
     "output_type": "stream",
     "text": [
      "/home/mbosnjak/.conda/envs/pero/lib/python3.7/site-packages/scipy/stats/stats.py:3399: PearsonRConstantInputWarning: An input array is constant; the correlation coefficent is not defined.\n",
      "  warnings.warn(PearsonRConstantInputWarning())\n"
     ]
    },
    {
     "name": "stdout",
     "output_type": "stream",
     "text": [
      "Epoch 312 end: 1.0689854621887207, TRAIN MSE is: 1428.769775390625\n",
      "Validation loss: 330615.9375000 - MSE score: 1589.4997559\n",
      "Validation pearson is: nan\n",
      "Validation r2_score is: -0.7604156039184042\n",
      "-------------------------\n"
     ]
    },
    {
     "name": "stderr",
     "output_type": "stream",
     "text": [
      "/home/mbosnjak/.conda/envs/pero/lib/python3.7/site-packages/scipy/stats/stats.py:3399: PearsonRConstantInputWarning: An input array is constant; the correlation coefficent is not defined.\n",
      "  warnings.warn(PearsonRConstantInputWarning())\n"
     ]
    },
    {
     "name": "stdout",
     "output_type": "stream",
     "text": [
      "Epoch 313 end: 1.0616257190704346, TRAIN MSE is: 1427.1112060546875\n",
      "Validation loss: 330239.6875000 - MSE score: 1587.6907959\n",
      "Validation pearson is: nan\n",
      "Validation r2_score is: -0.758412288036278\n",
      "-------------------------\n"
     ]
    },
    {
     "name": "stderr",
     "output_type": "stream",
     "text": [
      "/home/mbosnjak/.conda/envs/pero/lib/python3.7/site-packages/scipy/stats/stats.py:3399: PearsonRConstantInputWarning: An input array is constant; the correlation coefficent is not defined.\n",
      "  warnings.warn(PearsonRConstantInputWarning())\n"
     ]
    },
    {
     "name": "stdout",
     "output_type": "stream",
     "text": [
      "Epoch 314 end: 1.0926804542541504, TRAIN MSE is: 1425.4891357421875\n",
      "Validation loss: 329861.5000000 - MSE score: 1585.8725586\n",
      "Validation pearson is: nan\n",
      "Validation r2_score is: -0.7563984962787227\n",
      "-------------------------\n"
     ]
    },
    {
     "name": "stderr",
     "output_type": "stream",
     "text": [
      "/home/mbosnjak/.conda/envs/pero/lib/python3.7/site-packages/scipy/stats/stats.py:3399: PearsonRConstantInputWarning: An input array is constant; the correlation coefficent is not defined.\n",
      "  warnings.warn(PearsonRConstantInputWarning())\n"
     ]
    },
    {
     "name": "stdout",
     "output_type": "stream",
     "text": [
      "Epoch 315 end: 1.0974633693695068, TRAIN MSE is: 1423.881103515625\n",
      "Validation loss: 329478.6875000 - MSE score: 1584.0319824\n",
      "Validation pearson is: nan\n",
      "Validation r2_score is: -0.7543601263265443\n",
      "-------------------------\n"
     ]
    },
    {
     "name": "stderr",
     "output_type": "stream",
     "text": [
      "/home/mbosnjak/.conda/envs/pero/lib/python3.7/site-packages/scipy/stats/stats.py:3399: PearsonRConstantInputWarning: An input array is constant; the correlation coefficent is not defined.\n",
      "  warnings.warn(PearsonRConstantInputWarning())\n"
     ]
    },
    {
     "name": "stdout",
     "output_type": "stream",
     "text": [
      "Epoch 316 end: 1.0950071811676025, TRAIN MSE is: 1422.2537841796875\n",
      "Validation loss: 329098.5000000 - MSE score: 1582.2043457\n",
      "Validation pearson is: nan\n",
      "Validation r2_score is: -0.7523357421894712\n",
      "-------------------------\n"
     ]
    },
    {
     "name": "stderr",
     "output_type": "stream",
     "text": [
      "/home/mbosnjak/.conda/envs/pero/lib/python3.7/site-packages/scipy/stats/stats.py:3399: PearsonRConstantInputWarning: An input array is constant; the correlation coefficent is not defined.\n",
      "  warnings.warn(PearsonRConstantInputWarning())\n"
     ]
    },
    {
     "name": "stdout",
     "output_type": "stream",
     "text": [
      "Epoch 317 end: 1.0729188919067383, TRAIN MSE is: 1420.6124267578125\n",
      "Validation loss: 328726.5937500 - MSE score: 1580.4162598\n",
      "Validation pearson is: nan\n",
      "Validation r2_score is: -0.7503555347248381\n",
      "-------------------------\n"
     ]
    },
    {
     "name": "stderr",
     "output_type": "stream",
     "text": [
      "/home/mbosnjak/.conda/envs/pero/lib/python3.7/site-packages/scipy/stats/stats.py:3399: PearsonRConstantInputWarning: An input array is constant; the correlation coefficent is not defined.\n",
      "  warnings.warn(PearsonRConstantInputWarning())\n"
     ]
    },
    {
     "name": "stdout",
     "output_type": "stream",
     "text": [
      "Epoch 318 end: 1.0748281478881836, TRAIN MSE is: 1419.020751953125\n",
      "Validation loss: 328349.1875000 - MSE score: 1578.6018066\n",
      "Validation pearson is: nan\n",
      "Validation r2_score is: -0.7483458923904551\n",
      "-------------------------\n"
     ]
    },
    {
     "name": "stderr",
     "output_type": "stream",
     "text": [
      "/home/mbosnjak/.conda/envs/pero/lib/python3.7/site-packages/scipy/stats/stats.py:3399: PearsonRConstantInputWarning: An input array is constant; the correlation coefficent is not defined.\n",
      "  warnings.warn(PearsonRConstantInputWarning())\n"
     ]
    },
    {
     "name": "stdout",
     "output_type": "stream",
     "text": [
      "Epoch 319 end: 1.04903244972229, TRAIN MSE is: 1417.392822265625\n",
      "Validation loss: 327978.8437500 - MSE score: 1576.8210449\n",
      "Validation pearson is: nan\n",
      "Validation r2_score is: -0.7463737907979997\n",
      "-------------------------\n"
     ]
    },
    {
     "name": "stderr",
     "output_type": "stream",
     "text": [
      "/home/mbosnjak/.conda/envs/pero/lib/python3.7/site-packages/scipy/stats/stats.py:3399: PearsonRConstantInputWarning: An input array is constant; the correlation coefficent is not defined.\n",
      "  warnings.warn(PearsonRConstantInputWarning())\n"
     ]
    },
    {
     "name": "stdout",
     "output_type": "stream",
     "text": [
      "Epoch 320 end: 1.0795421600341797, TRAIN MSE is: 1415.830078125\n",
      "Validation loss: 327597.2500000 - MSE score: 1574.9869385\n",
      "Validation pearson is: nan\n",
      "Validation r2_score is: -0.7443422323398545\n",
      "-------------------------\n"
     ]
    },
    {
     "name": "stderr",
     "output_type": "stream",
     "text": [
      "/home/mbosnjak/.conda/envs/pero/lib/python3.7/site-packages/scipy/stats/stats.py:3399: PearsonRConstantInputWarning: An input array is constant; the correlation coefficent is not defined.\n",
      "  warnings.warn(PearsonRConstantInputWarning())\n"
     ]
    },
    {
     "name": "stdout",
     "output_type": "stream",
     "text": [
      "Epoch 321 end: 1.0571792125701904, TRAIN MSE is: 1414.233154296875\n",
      "Validation loss: 327216.5625000 - MSE score: 1573.1564941\n",
      "Validation pearson is: nan\n",
      "Validation r2_score is: -0.7423151664492402\n",
      "-------------------------\n"
     ]
    },
    {
     "name": "stderr",
     "output_type": "stream",
     "text": [
      "/home/mbosnjak/.conda/envs/pero/lib/python3.7/site-packages/scipy/stats/stats.py:3399: PearsonRConstantInputWarning: An input array is constant; the correlation coefficent is not defined.\n",
      "  warnings.warn(PearsonRConstantInputWarning())\n"
     ]
    },
    {
     "name": "stdout",
     "output_type": "stream",
     "text": [
      "Epoch 322 end: 1.053877353668213, TRAIN MSE is: 1412.589599609375\n",
      "Validation loss: 326851.0625000 - MSE score: 1571.3992920\n",
      "Validation pearson is: nan\n",
      "Validation r2_score is: -0.7403690594824595\n",
      "-------------------------\n"
     ]
    },
    {
     "name": "stderr",
     "output_type": "stream",
     "text": [
      "/home/mbosnjak/.conda/envs/pero/lib/python3.7/site-packages/scipy/stats/stats.py:3399: PearsonRConstantInputWarning: An input array is constant; the correlation coefficent is not defined.\n",
      "  warnings.warn(PearsonRConstantInputWarning())\n"
     ]
    },
    {
     "name": "stdout",
     "output_type": "stream",
     "text": [
      "Epoch 323 end: 1.0445904731750488, TRAIN MSE is: 1411.02197265625\n",
      "Validation loss: 326480.0937500 - MSE score: 1569.6157227\n",
      "Validation pearson is: nan\n",
      "Validation r2_score is: -0.7383936619205129\n",
      "-------------------------\n"
     ]
    },
    {
     "name": "stderr",
     "output_type": "stream",
     "text": [
      "/home/mbosnjak/.conda/envs/pero/lib/python3.7/site-packages/scipy/stats/stats.py:3399: PearsonRConstantInputWarning: An input array is constant; the correlation coefficent is not defined.\n",
      "  warnings.warn(PearsonRConstantInputWarning())\n"
     ]
    },
    {
     "name": "stdout",
     "output_type": "stream",
     "text": [
      "Epoch 324 end: 1.069817066192627, TRAIN MSE is: 1409.43505859375\n",
      "Validation loss: 326110.4687500 - MSE score: 1567.8389893\n",
      "Validation pearson is: nan\n",
      "Validation r2_score is: -0.7364256917518217\n",
      "-------------------------\n"
     ]
    },
    {
     "name": "stderr",
     "output_type": "stream",
     "text": [
      "/home/mbosnjak/.conda/envs/pero/lib/python3.7/site-packages/scipy/stats/stats.py:3399: PearsonRConstantInputWarning: An input array is constant; the correlation coefficent is not defined.\n",
      "  warnings.warn(PearsonRConstantInputWarning())\n"
     ]
    },
    {
     "name": "stdout",
     "output_type": "stream",
     "text": [
      "Epoch 325 end: 1.0520179271697998, TRAIN MSE is: 1407.84912109375\n",
      "Validation loss: 325743.5625000 - MSE score: 1566.0749512\n",
      "Validation pearson is: nan\n",
      "Validation r2_score is: -0.7344719854414539\n",
      "-------------------------\n"
     ]
    },
    {
     "name": "stderr",
     "output_type": "stream",
     "text": [
      "/home/mbosnjak/.conda/envs/pero/lib/python3.7/site-packages/scipy/stats/stats.py:3399: PearsonRConstantInputWarning: An input array is constant; the correlation coefficent is not defined.\n",
      "  warnings.warn(PearsonRConstantInputWarning())\n"
     ]
    },
    {
     "name": "stdout",
     "output_type": "stream",
     "text": [
      "Epoch 326 end: 1.0642693042755127, TRAIN MSE is: 1406.2586669921875\n",
      "Validation loss: 325382.2500000 - MSE score: 1564.3377686\n",
      "Validation pearson is: nan\n",
      "Validation r2_score is: -0.7325480430787079\n",
      "-------------------------\n"
     ]
    },
    {
     "name": "stderr",
     "output_type": "stream",
     "text": [
      "/home/mbosnjak/.conda/envs/pero/lib/python3.7/site-packages/scipy/stats/stats.py:3399: PearsonRConstantInputWarning: An input array is constant; the correlation coefficent is not defined.\n",
      "  warnings.warn(PearsonRConstantInputWarning())\n"
     ]
    },
    {
     "name": "stdout",
     "output_type": "stream",
     "text": [
      "Epoch 327 end: 1.0772898197174072, TRAIN MSE is: 1404.7296142578125\n",
      "Validation loss: 325009.0625000 - MSE score: 1562.5435791\n",
      "Validation pearson is: nan\n",
      "Validation r2_score is: -0.7305609892598439\n",
      "-------------------------\n"
     ]
    },
    {
     "name": "stderr",
     "output_type": "stream",
     "text": [
      "/home/mbosnjak/.conda/envs/pero/lib/python3.7/site-packages/scipy/stats/stats.py:3399: PearsonRConstantInputWarning: An input array is constant; the correlation coefficent is not defined.\n",
      "  warnings.warn(PearsonRConstantInputWarning())\n"
     ]
    },
    {
     "name": "stdout",
     "output_type": "stream",
     "text": [
      "Epoch 328 end: 1.0959415435791016, TRAIN MSE is: 1403.122314453125\n",
      "Validation loss: 324649.0937500 - MSE score: 1560.8129883\n",
      "Validation pearson is: nan\n",
      "Validation r2_score is: -0.7286442476103594\n",
      "-------------------------\n"
     ]
    },
    {
     "name": "stderr",
     "output_type": "stream",
     "text": [
      "/home/mbosnjak/.conda/envs/pero/lib/python3.7/site-packages/scipy/stats/stats.py:3399: PearsonRConstantInputWarning: An input array is constant; the correlation coefficent is not defined.\n",
      "  warnings.warn(PearsonRConstantInputWarning())\n"
     ]
    },
    {
     "name": "stdout",
     "output_type": "stream",
     "text": [
      "Epoch 329 end: 1.1059319972991943, TRAIN MSE is: 1401.579345703125\n",
      "Validation loss: 324284.1562500 - MSE score: 1559.0584717\n",
      "Validation pearson is: nan\n",
      "Validation r2_score is: -0.7267010265637339\n",
      "-------------------------\n"
     ]
    },
    {
     "name": "stderr",
     "output_type": "stream",
     "text": [
      "/home/mbosnjak/.conda/envs/pero/lib/python3.7/site-packages/scipy/stats/stats.py:3399: PearsonRConstantInputWarning: An input array is constant; the correlation coefficent is not defined.\n",
      "  warnings.warn(PearsonRConstantInputWarning())\n"
     ]
    },
    {
     "name": "stdout",
     "output_type": "stream",
     "text": [
      "Epoch 330 end: 1.0613141059875488, TRAIN MSE is: 1400.0030517578125\n",
      "Validation loss: 323926.1250000 - MSE score: 1557.3370361\n",
      "Validation pearson is: nan\n",
      "Validation r2_score is: -0.7247945174013939\n",
      "-------------------------\n"
     ]
    },
    {
     "name": "stderr",
     "output_type": "stream",
     "text": [
      "/home/mbosnjak/.conda/envs/pero/lib/python3.7/site-packages/scipy/stats/stats.py:3399: PearsonRConstantInputWarning: An input array is constant; the correlation coefficent is not defined.\n",
      "  warnings.warn(PearsonRConstantInputWarning())\n"
     ]
    },
    {
     "name": "stdout",
     "output_type": "stream",
     "text": [
      "Epoch 331 end: 1.063481330871582, TRAIN MSE is: 1398.4805908203125\n",
      "Validation loss: 323559.2500000 - MSE score: 1555.5733643\n",
      "Validation pearson is: nan\n",
      "Validation r2_score is: -0.7228413326862153\n",
      "-------------------------\n"
     ]
    },
    {
     "name": "stderr",
     "output_type": "stream",
     "text": [
      "/home/mbosnjak/.conda/envs/pero/lib/python3.7/site-packages/scipy/stats/stats.py:3399: PearsonRConstantInputWarning: An input array is constant; the correlation coefficent is not defined.\n",
      "  warnings.warn(PearsonRConstantInputWarning())\n"
     ]
    },
    {
     "name": "stdout",
     "output_type": "stream",
     "text": [
      "Epoch 332 end: 1.0790815353393555, TRAIN MSE is: 1396.9405517578125\n",
      "Validation loss: 323191.1250000 - MSE score: 1553.8038330\n",
      "Validation pearson is: nan\n",
      "Validation r2_score is: -0.720881280752455\n",
      "-------------------------\n"
     ]
    },
    {
     "name": "stderr",
     "output_type": "stream",
     "text": [
      "/home/mbosnjak/.conda/envs/pero/lib/python3.7/site-packages/scipy/stats/stats.py:3399: PearsonRConstantInputWarning: An input array is constant; the correlation coefficent is not defined.\n",
      "  warnings.warn(PearsonRConstantInputWarning())\n"
     ]
    },
    {
     "name": "stdout",
     "output_type": "stream",
     "text": [
      "Epoch 333 end: 1.0743911266326904, TRAIN MSE is: 1395.3729248046875\n",
      "Validation loss: 322831.0000000 - MSE score: 1552.0721436\n",
      "Validation pearson is: nan\n",
      "Validation r2_score is: -0.7189634995669962\n",
      "-------------------------\n"
     ]
    },
    {
     "name": "stderr",
     "output_type": "stream",
     "text": [
      "/home/mbosnjak/.conda/envs/pero/lib/python3.7/site-packages/scipy/stats/stats.py:3399: PearsonRConstantInputWarning: An input array is constant; the correlation coefficent is not defined.\n",
      "  warnings.warn(PearsonRConstantInputWarning())\n"
     ]
    },
    {
     "name": "stdout",
     "output_type": "stream",
     "text": [
      "Epoch 334 end: 1.0638854503631592, TRAIN MSE is: 1393.828125\n",
      "Validation loss: 322473.3125000 - MSE score: 1550.3524170\n",
      "Validation pearson is: nan\n",
      "Validation r2_score is: -0.7170590561175338\n",
      "-------------------------\n"
     ]
    },
    {
     "name": "stderr",
     "output_type": "stream",
     "text": [
      "/home/mbosnjak/.conda/envs/pero/lib/python3.7/site-packages/scipy/stats/stats.py:3399: PearsonRConstantInputWarning: An input array is constant; the correlation coefficent is not defined.\n",
      "  warnings.warn(PearsonRConstantInputWarning())\n"
     ]
    },
    {
     "name": "stdout",
     "output_type": "stream",
     "text": [
      "Epoch 335 end: 1.045032262802124, TRAIN MSE is: 1392.29931640625\n",
      "Validation loss: 322114.9062500 - MSE score: 1548.6295166\n",
      "Validation pearson is: nan\n",
      "Validation r2_score is: -0.7151506651872874\n",
      "-------------------------\n"
     ]
    },
    {
     "name": "stderr",
     "output_type": "stream",
     "text": [
      "/home/mbosnjak/.conda/envs/pero/lib/python3.7/site-packages/scipy/stats/stats.py:3399: PearsonRConstantInputWarning: An input array is constant; the correlation coefficent is not defined.\n",
      "  warnings.warn(PearsonRConstantInputWarning())\n"
     ]
    },
    {
     "name": "stdout",
     "output_type": "stream",
     "text": [
      "Epoch 336 end: 1.0603795051574707, TRAIN MSE is: 1390.7740478515625\n",
      "Validation loss: 321755.6250000 - MSE score: 1546.9020996\n",
      "Validation pearson is: nan\n",
      "Validation r2_score is: -0.7132375017288652\n",
      "-------------------------\n"
     ]
    },
    {
     "name": "stderr",
     "output_type": "stream",
     "text": [
      "/home/mbosnjak/.conda/envs/pero/lib/python3.7/site-packages/scipy/stats/stats.py:3399: PearsonRConstantInputWarning: An input array is constant; the correlation coefficent is not defined.\n",
      "  warnings.warn(PearsonRConstantInputWarning())\n"
     ]
    },
    {
     "name": "stdout",
     "output_type": "stream",
     "text": [
      "Epoch 337 end: 1.0736517906188965, TRAIN MSE is: 1389.254638671875\n",
      "Validation loss: 321395.2812500 - MSE score: 1545.1696777\n",
      "Validation pearson is: nan\n",
      "Validation r2_score is: -0.7113188116844873\n",
      "-------------------------\n"
     ]
    },
    {
     "name": "stderr",
     "output_type": "stream",
     "text": [
      "/home/mbosnjak/.conda/envs/pero/lib/python3.7/site-packages/scipy/stats/stats.py:3399: PearsonRConstantInputWarning: An input array is constant; the correlation coefficent is not defined.\n",
      "  warnings.warn(PearsonRConstantInputWarning())\n"
     ]
    },
    {
     "name": "stdout",
     "output_type": "stream",
     "text": [
      "Epoch 338 end: 1.06630277633667, TRAIN MSE is: 1387.7239990234375\n",
      "Validation loss: 321038.7187500 - MSE score: 1543.4553223\n",
      "Validation pearson is: nan\n",
      "Validation r2_score is: -0.7094202112334735\n",
      "-------------------------\n"
     ]
    },
    {
     "name": "stderr",
     "output_type": "stream",
     "text": [
      "/home/mbosnjak/.conda/envs/pero/lib/python3.7/site-packages/scipy/stats/stats.py:3399: PearsonRConstantInputWarning: An input array is constant; the correlation coefficent is not defined.\n",
      "  warnings.warn(PearsonRConstantInputWarning())\n"
     ]
    },
    {
     "name": "stdout",
     "output_type": "stream",
     "text": [
      "Epoch 339 end: 1.1381137371063232, TRAIN MSE is: 1386.18115234375\n",
      "Validation loss: 320690.8750000 - MSE score: 1541.7830811\n",
      "Validation pearson is: nan\n",
      "Validation r2_score is: -0.7075681507302161\n",
      "-------------------------\n"
     ]
    },
    {
     "name": "stderr",
     "output_type": "stream",
     "text": [
      "/home/mbosnjak/.conda/envs/pero/lib/python3.7/site-packages/scipy/stats/stats.py:3399: PearsonRConstantInputWarning: An input array is constant; the correlation coefficent is not defined.\n",
      "  warnings.warn(PearsonRConstantInputWarning())\n"
     ]
    },
    {
     "name": "stdout",
     "output_type": "stream",
     "text": [
      "Epoch 340 end: 1.0883877277374268, TRAIN MSE is: 1384.6881103515625\n",
      "Validation loss: 320337.7500000 - MSE score: 1540.0853271\n",
      "Validation pearson is: nan\n",
      "Validation r2_score is: -0.7056877382159341\n",
      "-------------------------\n"
     ]
    },
    {
     "name": "stderr",
     "output_type": "stream",
     "text": [
      "/home/mbosnjak/.conda/envs/pero/lib/python3.7/site-packages/scipy/stats/stats.py:3399: PearsonRConstantInputWarning: An input array is constant; the correlation coefficent is not defined.\n",
      "  warnings.warn(PearsonRConstantInputWarning())\n"
     ]
    },
    {
     "name": "stdout",
     "output_type": "stream",
     "text": [
      "Epoch 341 end: 1.0676584243774414, TRAIN MSE is: 1383.18603515625\n",
      "Validation loss: 319983.5937500 - MSE score: 1538.3825684\n",
      "Validation pearson is: nan\n",
      "Validation r2_score is: -0.7038019693631175\n",
      "-------------------------\n"
     ]
    },
    {
     "name": "stderr",
     "output_type": "stream",
     "text": [
      "/home/mbosnjak/.conda/envs/pero/lib/python3.7/site-packages/scipy/stats/stats.py:3399: PearsonRConstantInputWarning: An input array is constant; the correlation coefficent is not defined.\n",
      "  warnings.warn(PearsonRConstantInputWarning())\n"
     ]
    },
    {
     "name": "stdout",
     "output_type": "stream",
     "text": [
      "Epoch 342 end: 1.0862455368041992, TRAIN MSE is: 1381.66162109375\n",
      "Validation loss: 319636.6875000 - MSE score: 1536.7148438\n",
      "Validation pearson is: nan\n",
      "Validation r2_score is: -0.7019549381430776\n",
      "-------------------------\n"
     ]
    },
    {
     "name": "stderr",
     "output_type": "stream",
     "text": [
      "/home/mbosnjak/.conda/envs/pero/lib/python3.7/site-packages/scipy/stats/stats.py:3399: PearsonRConstantInputWarning: An input array is constant; the correlation coefficent is not defined.\n",
      "  warnings.warn(PearsonRConstantInputWarning())\n"
     ]
    },
    {
     "name": "stdout",
     "output_type": "stream",
     "text": [
      "Epoch 343 end: 1.0534110069274902, TRAIN MSE is: 1380.170654296875\n",
      "Validation loss: 319287.9375000 - MSE score: 1535.0382080\n",
      "Validation pearson is: nan\n",
      "Validation r2_score is: -0.7000979012444635\n",
      "-------------------------\n"
     ]
    },
    {
     "name": "stderr",
     "output_type": "stream",
     "text": [
      "/home/mbosnjak/.conda/envs/pero/lib/python3.7/site-packages/scipy/stats/stats.py:3399: PearsonRConstantInputWarning: An input array is constant; the correlation coefficent is not defined.\n",
      "  warnings.warn(PearsonRConstantInputWarning())\n"
     ]
    },
    {
     "name": "stdout",
     "output_type": "stream",
     "text": [
      "Epoch 344 end: 1.1038591861724854, TRAIN MSE is: 1378.708740234375\n",
      "Validation loss: 318930.0000000 - MSE score: 1533.3172607\n",
      "Validation pearson is: nan\n",
      "Validation r2_score is: -0.6981921621027116\n",
      "-------------------------\n"
     ]
    },
    {
     "name": "stderr",
     "output_type": "stream",
     "text": [
      "/home/mbosnjak/.conda/envs/pero/lib/python3.7/site-packages/scipy/stats/stats.py:3399: PearsonRConstantInputWarning: An input array is constant; the correlation coefficent is not defined.\n",
      "  warnings.warn(PearsonRConstantInputWarning())\n"
     ]
    },
    {
     "name": "stdout",
     "output_type": "stream",
     "text": [
      "Epoch 345 end: 1.111182689666748, TRAIN MSE is: 1377.1849365234375\n",
      "Validation loss: 318582.9062500 - MSE score: 1531.6486816\n",
      "Validation pearson is: nan\n",
      "Validation r2_score is: -0.6963439271993661\n",
      "-------------------------\n"
     ]
    },
    {
     "name": "stderr",
     "output_type": "stream",
     "text": [
      "/home/mbosnjak/.conda/envs/pero/lib/python3.7/site-packages/scipy/stats/stats.py:3399: PearsonRConstantInputWarning: An input array is constant; the correlation coefficent is not defined.\n",
      "  warnings.warn(PearsonRConstantInputWarning())\n"
     ]
    },
    {
     "name": "stdout",
     "output_type": "stream",
     "text": [
      "Epoch 346 end: 1.073695421218872, TRAIN MSE is: 1375.718994140625\n",
      "Validation loss: 318230.5312500 - MSE score: 1529.9543457\n",
      "Validation pearson is: nan\n",
      "Validation r2_score is: -0.6944675570946937\n",
      "-------------------------\n"
     ]
    },
    {
     "name": "stderr",
     "output_type": "stream",
     "text": [
      "/home/mbosnjak/.conda/envs/pero/lib/python3.7/site-packages/scipy/stats/stats.py:3399: PearsonRConstantInputWarning: An input array is constant; the correlation coefficent is not defined.\n",
      "  warnings.warn(PearsonRConstantInputWarning())\n"
     ]
    },
    {
     "name": "stdout",
     "output_type": "stream",
     "text": [
      "Epoch 347 end: 1.0450754165649414, TRAIN MSE is: 1374.2039794921875\n",
      "Validation loss: 317889.1562500 - MSE score: 1528.3133545\n",
      "Validation pearson is: nan\n",
      "Validation r2_score is: -0.6926499102904149\n",
      "-------------------------\n"
     ]
    },
    {
     "name": "stderr",
     "output_type": "stream",
     "text": [
      "/home/mbosnjak/.conda/envs/pero/lib/python3.7/site-packages/scipy/stats/stats.py:3399: PearsonRConstantInputWarning: An input array is constant; the correlation coefficent is not defined.\n",
      "  warnings.warn(PearsonRConstantInputWarning())\n"
     ]
    },
    {
     "name": "stdout",
     "output_type": "stream",
     "text": [
      "Epoch 348 end: 1.0516390800476074, TRAIN MSE is: 1372.7513427734375\n",
      "Validation loss: 317540.7812500 - MSE score: 1526.6385498\n",
      "Validation pearson is: nan\n",
      "Validation r2_score is: -0.6907950153898368\n",
      "-------------------------\n"
     ]
    },
    {
     "name": "stderr",
     "output_type": "stream",
     "text": [
      "/home/mbosnjak/.conda/envs/pero/lib/python3.7/site-packages/scipy/stats/stats.py:3399: PearsonRConstantInputWarning: An input array is constant; the correlation coefficent is not defined.\n",
      "  warnings.warn(PearsonRConstantInputWarning())\n"
     ]
    },
    {
     "name": "stdout",
     "output_type": "stream",
     "text": [
      "Epoch 349 end: 1.040327787399292, TRAIN MSE is: 1371.261474609375\n",
      "Validation loss: 317198.5000000 - MSE score: 1524.9929199\n",
      "Validation pearson is: nan\n",
      "Validation r2_score is: -0.6889724998955575\n",
      "-------------------------\n"
     ]
    },
    {
     "name": "stderr",
     "output_type": "stream",
     "text": [
      "/home/mbosnjak/.conda/envs/pero/lib/python3.7/site-packages/scipy/stats/stats.py:3399: PearsonRConstantInputWarning: An input array is constant; the correlation coefficent is not defined.\n",
      "  warnings.warn(PearsonRConstantInputWarning())\n"
     ]
    },
    {
     "name": "stdout",
     "output_type": "stream",
     "text": [
      "Epoch 350 end: 1.0419466495513916, TRAIN MSE is: 1369.8145751953125\n",
      "Validation loss: 316850.4375000 - MSE score: 1523.3194580\n",
      "Validation pearson is: nan\n",
      "Validation r2_score is: -0.6871191525449105\n",
      "-------------------------\n"
     ]
    },
    {
     "name": "stderr",
     "output_type": "stream",
     "text": [
      "/home/mbosnjak/.conda/envs/pero/lib/python3.7/site-packages/scipy/stats/stats.py:3399: PearsonRConstantInputWarning: An input array is constant; the correlation coefficent is not defined.\n",
      "  warnings.warn(PearsonRConstantInputWarning())\n"
     ]
    },
    {
     "name": "stdout",
     "output_type": "stream",
     "text": [
      "Epoch 351 end: 1.0792105197906494, TRAIN MSE is: 1368.33203125\n",
      "Validation loss: 316508.8125000 - MSE score: 1521.6770020\n",
      "Validation pearson is: nan\n",
      "Validation r2_score is: -0.6852999410861389\n",
      "-------------------------\n"
     ]
    },
    {
     "name": "stderr",
     "output_type": "stream",
     "text": [
      "/home/mbosnjak/.conda/envs/pero/lib/python3.7/site-packages/scipy/stats/stats.py:3399: PearsonRConstantInputWarning: An input array is constant; the correlation coefficent is not defined.\n",
      "  warnings.warn(PearsonRConstantInputWarning())\n"
     ]
    },
    {
     "name": "stdout",
     "output_type": "stream",
     "text": [
      "Epoch 352 end: 1.076303243637085, TRAIN MSE is: 1366.884033203125\n",
      "Validation loss: 316164.0000000 - MSE score: 1520.0192871\n",
      "Validation pearson is: nan\n",
      "Validation r2_score is: -0.6834639856750384\n",
      "-------------------------\n"
     ]
    },
    {
     "name": "stderr",
     "output_type": "stream",
     "text": [
      "/home/mbosnjak/.conda/envs/pero/lib/python3.7/site-packages/scipy/stats/stats.py:3399: PearsonRConstantInputWarning: An input array is constant; the correlation coefficent is not defined.\n",
      "  warnings.warn(PearsonRConstantInputWarning())\n"
     ]
    },
    {
     "name": "stdout",
     "output_type": "stream",
     "text": [
      "Epoch 353 end: 1.0641450881958008, TRAIN MSE is: 1365.4173583984375\n",
      "Validation loss: 315823.0625000 - MSE score: 1518.3801270\n",
      "Validation pearson is: nan\n",
      "Validation r2_score is: -0.6816486716614314\n",
      "-------------------------\n"
     ]
    },
    {
     "name": "stderr",
     "output_type": "stream",
     "text": [
      "/home/mbosnjak/.conda/envs/pero/lib/python3.7/site-packages/scipy/stats/stats.py:3399: PearsonRConstantInputWarning: An input array is constant; the correlation coefficent is not defined.\n",
      "  warnings.warn(PearsonRConstantInputWarning())\n"
     ]
    },
    {
     "name": "stdout",
     "output_type": "stream",
     "text": [
      "Epoch 354 end: 1.0570144653320312, TRAIN MSE is: 1363.957275390625\n",
      "Validation loss: 315485.6562500 - MSE score: 1516.7579346\n",
      "Validation pearson is: nan\n",
      "Validation r2_score is: -0.6798521157414794\n",
      "-------------------------\n"
     ]
    },
    {
     "name": "stderr",
     "output_type": "stream",
     "text": [
      "/home/mbosnjak/.conda/envs/pero/lib/python3.7/site-packages/scipy/stats/stats.py:3399: PearsonRConstantInputWarning: An input array is constant; the correlation coefficent is not defined.\n",
      "  warnings.warn(PearsonRConstantInputWarning())\n"
     ]
    },
    {
     "name": "stdout",
     "output_type": "stream",
     "text": [
      "Epoch 355 end: 1.0665125846862793, TRAIN MSE is: 1362.543701171875\n",
      "Validation loss: 315138.9687500 - MSE score: 1515.0911865\n",
      "Validation pearson is: nan\n",
      "Validation r2_score is: -0.6780060495333646\n",
      "-------------------------\n"
     ]
    },
    {
     "name": "stderr",
     "output_type": "stream",
     "text": [
      "/home/mbosnjak/.conda/envs/pero/lib/python3.7/site-packages/scipy/stats/stats.py:3399: PearsonRConstantInputWarning: An input array is constant; the correlation coefficent is not defined.\n",
      "  warnings.warn(PearsonRConstantInputWarning())\n"
     ]
    },
    {
     "name": "stdout",
     "output_type": "stream",
     "text": [
      "Epoch 356 end: 1.069870948791504, TRAIN MSE is: 1361.0626220703125\n",
      "Validation loss: 314804.3750000 - MSE score: 1513.4825439\n",
      "Validation pearson is: nan\n",
      "Validation r2_score is: -0.6762246125251068\n",
      "-------------------------\n"
     ]
    },
    {
     "name": "stderr",
     "output_type": "stream",
     "text": [
      "/home/mbosnjak/.conda/envs/pero/lib/python3.7/site-packages/scipy/stats/stats.py:3399: PearsonRConstantInputWarning: An input array is constant; the correlation coefficent is not defined.\n",
      "  warnings.warn(PearsonRConstantInputWarning())\n"
     ]
    },
    {
     "name": "stdout",
     "output_type": "stream",
     "text": [
      "Epoch 357 end: 1.0744400024414062, TRAIN MSE is: 1359.6270751953125\n",
      "Validation loss: 314469.5937500 - MSE score: 1511.8731689\n",
      "Validation pearson is: nan\n",
      "Validation r2_score is: -0.6744419562964923\n",
      "-------------------------\n"
     ]
    },
    {
     "name": "stderr",
     "output_type": "stream",
     "text": [
      "/home/mbosnjak/.conda/envs/pero/lib/python3.7/site-packages/scipy/stats/stats.py:3399: PearsonRConstantInputWarning: An input array is constant; the correlation coefficent is not defined.\n",
      "  warnings.warn(PearsonRConstantInputWarning())\n"
     ]
    },
    {
     "name": "stdout",
     "output_type": "stream",
     "text": [
      "Epoch 358 end: 1.0546934604644775, TRAIN MSE is: 1358.1986083984375\n",
      "Validation loss: 314133.6875000 - MSE score: 1510.2580566\n",
      "Validation pearson is: nan\n",
      "Validation r2_score is: -0.6726532875545075\n",
      "-------------------------\n"
     ]
    },
    {
     "name": "stderr",
     "output_type": "stream",
     "text": [
      "/home/mbosnjak/.conda/envs/pero/lib/python3.7/site-packages/scipy/stats/stats.py:3399: PearsonRConstantInputWarning: An input array is constant; the correlation coefficent is not defined.\n",
      "  warnings.warn(PearsonRConstantInputWarning())\n"
     ]
    },
    {
     "name": "stdout",
     "output_type": "stream",
     "text": [
      "Epoch 359 end: 1.0415279865264893, TRAIN MSE is: 1356.77783203125\n",
      "Validation loss: 313795.6875000 - MSE score: 1508.6330566\n",
      "Validation pearson is: nan\n",
      "Validation r2_score is: -0.6708536188905958\n",
      "-------------------------\n"
     ]
    },
    {
     "name": "stderr",
     "output_type": "stream",
     "text": [
      "/home/mbosnjak/.conda/envs/pero/lib/python3.7/site-packages/scipy/stats/stats.py:3399: PearsonRConstantInputWarning: An input array is constant; the correlation coefficent is not defined.\n",
      "  warnings.warn(PearsonRConstantInputWarning())\n"
     ]
    },
    {
     "name": "stdout",
     "output_type": "stream",
     "text": [
      "Epoch 360 end: 1.0807299613952637, TRAIN MSE is: 1355.327392578125\n",
      "Validation loss: 313465.8750000 - MSE score: 1507.0474854\n",
      "Validation pearson is: nan\n",
      "Validation r2_score is: -0.6690974928105788\n",
      "-------------------------\n"
     ]
    },
    {
     "name": "stderr",
     "output_type": "stream",
     "text": [
      "/home/mbosnjak/.conda/envs/pero/lib/python3.7/site-packages/scipy/stats/stats.py:3399: PearsonRConstantInputWarning: An input array is constant; the correlation coefficent is not defined.\n",
      "  warnings.warn(PearsonRConstantInputWarning())\n"
     ]
    },
    {
     "name": "stdout",
     "output_type": "stream",
     "text": [
      "Epoch 361 end: 1.078345775604248, TRAIN MSE is: 1353.917724609375\n",
      "Validation loss: 313132.8125000 - MSE score: 1505.4461670\n",
      "Validation pearson is: nan\n",
      "Validation r2_score is: -0.6673241821999327\n",
      "-------------------------\n"
     ]
    },
    {
     "name": "stderr",
     "output_type": "stream",
     "text": [
      "/home/mbosnjak/.conda/envs/pero/lib/python3.7/site-packages/scipy/stats/stats.py:3399: PearsonRConstantInputWarning: An input array is constant; the correlation coefficent is not defined.\n",
      "  warnings.warn(PearsonRConstantInputWarning())\n"
     ]
    },
    {
     "name": "stdout",
     "output_type": "stream",
     "text": [
      "Epoch 362 end: 1.0827772617340088, TRAIN MSE is: 1352.49462890625\n",
      "Validation loss: 312802.2500000 - MSE score: 1503.8569336\n",
      "Validation pearson is: nan\n",
      "Validation r2_score is: -0.6655639826644506\n",
      "-------------------------\n"
     ]
    },
    {
     "name": "stderr",
     "output_type": "stream",
     "text": [
      "/home/mbosnjak/.conda/envs/pero/lib/python3.7/site-packages/scipy/stats/stats.py:3399: PearsonRConstantInputWarning: An input array is constant; the correlation coefficent is not defined.\n",
      "  warnings.warn(PearsonRConstantInputWarning())\n"
     ]
    },
    {
     "name": "stdout",
     "output_type": "stream",
     "text": [
      "Epoch 363 end: 1.0489296913146973, TRAIN MSE is: 1351.096435546875\n",
      "Validation loss: 312467.6250000 - MSE score: 1502.2481689\n",
      "Validation pearson is: nan\n",
      "Validation r2_score is: -0.6637821216164177\n",
      "-------------------------\n"
     ]
    },
    {
     "name": "stderr",
     "output_type": "stream",
     "text": [
      "/home/mbosnjak/.conda/envs/pero/lib/python3.7/site-packages/scipy/stats/stats.py:3399: PearsonRConstantInputWarning: An input array is constant; the correlation coefficent is not defined.\n",
      "  warnings.warn(PearsonRConstantInputWarning())\n"
     ]
    },
    {
     "name": "stdout",
     "output_type": "stream",
     "text": [
      "Epoch 364 end: 1.0808143615722656, TRAIN MSE is: 1349.6749267578125\n",
      "Validation loss: 312137.5000000 - MSE score: 1500.6608887\n",
      "Validation pearson is: nan\n",
      "Validation r2_score is: -0.6620241497292056\n",
      "-------------------------\n"
     ]
    },
    {
     "name": "stderr",
     "output_type": "stream",
     "text": [
      "/home/mbosnjak/.conda/envs/pero/lib/python3.7/site-packages/scipy/stats/stats.py:3399: PearsonRConstantInputWarning: An input array is constant; the correlation coefficent is not defined.\n",
      "  warnings.warn(PearsonRConstantInputWarning())\n"
     ]
    },
    {
     "name": "stdout",
     "output_type": "stream",
     "text": [
      "Epoch 365 end: 1.0801010131835938, TRAIN MSE is: 1348.28076171875\n",
      "Validation loss: 311804.5000000 - MSE score: 1499.0599365\n",
      "Validation pearson is: nan\n",
      "Validation r2_score is: -0.6602511726743336\n",
      "-------------------------\n"
     ]
    },
    {
     "name": "stderr",
     "output_type": "stream",
     "text": [
      "/home/mbosnjak/.conda/envs/pero/lib/python3.7/site-packages/scipy/stats/stats.py:3399: PearsonRConstantInputWarning: An input array is constant; the correlation coefficent is not defined.\n",
      "  warnings.warn(PearsonRConstantInputWarning())\n"
     ]
    },
    {
     "name": "stdout",
     "output_type": "stream",
     "text": [
      "Epoch 366 end: 1.0744609832763672, TRAIN MSE is: 1346.87890625\n",
      "Validation loss: 311472.5312500 - MSE score: 1497.4639893\n",
      "Validation pearson is: nan\n",
      "Validation r2_score is: -0.6584835377424916\n",
      "-------------------------\n"
     ]
    },
    {
     "name": "stderr",
     "output_type": "stream",
     "text": [
      "/home/mbosnjak/.conda/envs/pero/lib/python3.7/site-packages/scipy/stats/stats.py:3399: PearsonRConstantInputWarning: An input array is constant; the correlation coefficent is not defined.\n",
      "  warnings.warn(PearsonRConstantInputWarning())\n"
     ]
    },
    {
     "name": "stdout",
     "output_type": "stream",
     "text": [
      "Epoch 367 end: 1.0738859176635742, TRAIN MSE is: 1345.4642333984375\n",
      "Validation loss: 311146.7500000 - MSE score: 1495.8978271\n",
      "Validation pearson is: nan\n",
      "Validation r2_score is: -0.6567489322807447\n",
      "-------------------------\n"
     ]
    },
    {
     "name": "stderr",
     "output_type": "stream",
     "text": [
      "/home/mbosnjak/.conda/envs/pero/lib/python3.7/site-packages/scipy/stats/stats.py:3399: PearsonRConstantInputWarning: An input array is constant; the correlation coefficent is not defined.\n",
      "  warnings.warn(PearsonRConstantInputWarning())\n"
     ]
    },
    {
     "name": "stdout",
     "output_type": "stream",
     "text": [
      "Epoch 368 end: 1.0642123222351074, TRAIN MSE is: 1344.068603515625\n",
      "Validation loss: 310822.6562500 - MSE score: 1494.3398438\n",
      "Validation pearson is: nan\n",
      "Validation r2_score is: -0.6550233030669492\n",
      "-------------------------\n"
     ]
    },
    {
     "name": "stderr",
     "output_type": "stream",
     "text": [
      "/home/mbosnjak/.conda/envs/pero/lib/python3.7/site-packages/scipy/stats/stats.py:3399: PearsonRConstantInputWarning: An input array is constant; the correlation coefficent is not defined.\n",
      "  warnings.warn(PearsonRConstantInputWarning())\n"
     ]
    },
    {
     "name": "stdout",
     "output_type": "stream",
     "text": [
      "Epoch 369 end: 1.0601832866668701, TRAIN MSE is: 1342.70068359375\n",
      "Validation loss: 310492.8437500 - MSE score: 1492.7541504\n",
      "Validation pearson is: nan\n",
      "Validation r2_score is: -0.6532672318628643\n",
      "-------------------------\n"
     ]
    },
    {
     "name": "stderr",
     "output_type": "stream",
     "text": [
      "/home/mbosnjak/.conda/envs/pero/lib/python3.7/site-packages/scipy/stats/stats.py:3399: PearsonRConstantInputWarning: An input array is constant; the correlation coefficent is not defined.\n",
      "  warnings.warn(PearsonRConstantInputWarning())\n"
     ]
    },
    {
     "name": "stdout",
     "output_type": "stream",
     "text": [
      "Epoch 370 end: 1.06184983253479, TRAIN MSE is: 1341.2974853515625\n",
      "Validation loss: 310169.4062500 - MSE score: 1491.1990967\n",
      "Validation pearson is: nan\n",
      "Validation r2_score is: -0.6515448459437287\n",
      "-------------------------\n"
     ]
    },
    {
     "name": "stderr",
     "output_type": "stream",
     "text": [
      "/home/mbosnjak/.conda/envs/pero/lib/python3.7/site-packages/scipy/stats/stats.py:3399: PearsonRConstantInputWarning: An input array is constant; the correlation coefficent is not defined.\n",
      "  warnings.warn(PearsonRConstantInputWarning())\n"
     ]
    },
    {
     "name": "stdout",
     "output_type": "stream",
     "text": [
      "Epoch 371 end: 1.0439698696136475, TRAIN MSE is: 1339.9344482421875\n",
      "Validation loss: 309841.1250000 - MSE score: 1489.6209717\n",
      "Validation pearson is: nan\n",
      "Validation r2_score is: -0.6497970264176611\n",
      "-------------------------\n"
     ]
    },
    {
     "name": "stderr",
     "output_type": "stream",
     "text": [
      "/home/mbosnjak/.conda/envs/pero/lib/python3.7/site-packages/scipy/stats/stats.py:3399: PearsonRConstantInputWarning: An input array is constant; the correlation coefficent is not defined.\n",
      "  warnings.warn(PearsonRConstantInputWarning())\n"
     ]
    },
    {
     "name": "stdout",
     "output_type": "stream",
     "text": [
      "Epoch 372 end: 1.0781586170196533, TRAIN MSE is: 1338.52978515625\n",
      "Validation loss: 309522.3125000 - MSE score: 1488.0880127\n",
      "Validation pearson is: nan\n",
      "Validation r2_score is: -0.64809936593734\n",
      "-------------------------\n"
     ]
    },
    {
     "name": "stderr",
     "output_type": "stream",
     "text": [
      "/home/mbosnjak/.conda/envs/pero/lib/python3.7/site-packages/scipy/stats/stats.py:3399: PearsonRConstantInputWarning: An input array is constant; the correlation coefficent is not defined.\n",
      "  warnings.warn(PearsonRConstantInputWarning())\n"
     ]
    },
    {
     "name": "stdout",
     "output_type": "stream",
     "text": [
      "Epoch 373 end: 1.052900791168213, TRAIN MSE is: 1337.197509765625\n",
      "Validation loss: 309191.9062500 - MSE score: 1486.4997559\n",
      "Validation pearson is: nan\n",
      "Validation r2_score is: -0.6463402215684488\n",
      "-------------------------\n"
     ]
    },
    {
     "name": "stderr",
     "output_type": "stream",
     "text": [
      "/home/mbosnjak/.conda/envs/pero/lib/python3.7/site-packages/scipy/stats/stats.py:3399: PearsonRConstantInputWarning: An input array is constant; the correlation coefficent is not defined.\n",
      "  warnings.warn(PearsonRConstantInputWarning())\n"
     ]
    },
    {
     "name": "stdout",
     "output_type": "stream",
     "text": [
      "Epoch 374 end: 1.101243257522583, TRAIN MSE is: 1335.7860107421875\n",
      "Validation loss: 308875.2812500 - MSE score: 1484.9772949\n",
      "Validation pearson is: nan\n",
      "Validation r2_score is: -0.6446540393760005\n",
      "-------------------------\n"
     ]
    },
    {
     "name": "stderr",
     "output_type": "stream",
     "text": [
      "/home/mbosnjak/.conda/envs/pero/lib/python3.7/site-packages/scipy/stats/stats.py:3399: PearsonRConstantInputWarning: An input array is constant; the correlation coefficent is not defined.\n",
      "  warnings.warn(PearsonRConstantInputWarning())\n"
     ]
    },
    {
     "name": "stdout",
     "output_type": "stream",
     "text": [
      "Epoch 375 end: 1.0612514019012451, TRAIN MSE is: 1334.4639892578125\n",
      "Validation loss: 308546.6250000 - MSE score: 1483.3972168\n",
      "Validation pearson is: nan\n",
      "Validation r2_score is: -0.6429040697901103\n",
      "-------------------------\n"
     ]
    },
    {
     "name": "stderr",
     "output_type": "stream",
     "text": [
      "/home/mbosnjak/.conda/envs/pero/lib/python3.7/site-packages/scipy/stats/stats.py:3399: PearsonRConstantInputWarning: An input array is constant; the correlation coefficent is not defined.\n",
      "  warnings.warn(PearsonRConstantInputWarning())\n"
     ]
    },
    {
     "name": "stdout",
     "output_type": "stream",
     "text": [
      "Epoch 376 end: 1.1062963008880615, TRAIN MSE is: 1333.06298828125\n",
      "Validation loss: 308230.8750000 - MSE score: 1481.8790283\n",
      "Validation pearson is: nan\n",
      "Validation r2_score is: -0.6412227452445645\n",
      "-------------------------\n"
     ]
    },
    {
     "name": "stderr",
     "output_type": "stream",
     "text": [
      "/home/mbosnjak/.conda/envs/pero/lib/python3.7/site-packages/scipy/stats/stats.py:3399: PearsonRConstantInputWarning: An input array is constant; the correlation coefficent is not defined.\n",
      "  warnings.warn(PearsonRConstantInputWarning())\n"
     ]
    },
    {
     "name": "stdout",
     "output_type": "stream",
     "text": [
      "Epoch 377 end: 1.1759467124938965, TRAIN MSE is: 1331.7381591796875\n",
      "Validation loss: 307906.3437500 - MSE score: 1480.3189697\n",
      "Validation pearson is: nan\n",
      "Validation r2_score is: -0.6394949115149406\n",
      "-------------------------\n"
     ]
    },
    {
     "name": "stderr",
     "output_type": "stream",
     "text": [
      "/home/mbosnjak/.conda/envs/pero/lib/python3.7/site-packages/scipy/stats/stats.py:3399: PearsonRConstantInputWarning: An input array is constant; the correlation coefficent is not defined.\n",
      "  warnings.warn(PearsonRConstantInputWarning())\n"
     ]
    },
    {
     "name": "stdout",
     "output_type": "stream",
     "text": [
      "Epoch 378 end: 1.0544953346252441, TRAIN MSE is: 1330.34619140625\n",
      "Validation loss: 307594.6250000 - MSE score: 1478.8204346\n",
      "Validation pearson is: nan\n",
      "Validation r2_score is: -0.6378351262782116\n",
      "-------------------------\n"
     ]
    },
    {
     "name": "stderr",
     "output_type": "stream",
     "text": [
      "/home/mbosnjak/.conda/envs/pero/lib/python3.7/site-packages/scipy/stats/stats.py:3399: PearsonRConstantInputWarning: An input array is constant; the correlation coefficent is not defined.\n",
      "  warnings.warn(PearsonRConstantInputWarning())\n"
     ]
    },
    {
     "name": "stdout",
     "output_type": "stream",
     "text": [
      "Epoch 379 end: 1.0485491752624512, TRAIN MSE is: 1329.0318603515625\n",
      "Validation loss: 307273.2812500 - MSE score: 1477.2752686\n",
      "Validation pearson is: nan\n",
      "Validation r2_score is: -0.6361238950313997\n",
      "-------------------------\n"
     ]
    },
    {
     "name": "stderr",
     "output_type": "stream",
     "text": [
      "/home/mbosnjak/.conda/envs/pero/lib/python3.7/site-packages/scipy/stats/stats.py:3399: PearsonRConstantInputWarning: An input array is constant; the correlation coefficent is not defined.\n",
      "  warnings.warn(PearsonRConstantInputWarning())\n"
     ]
    },
    {
     "name": "stdout",
     "output_type": "stream",
     "text": [
      "Epoch 380 end: 1.068108320236206, TRAIN MSE is: 1327.65283203125\n",
      "Validation loss: 306963.1250000 - MSE score: 1475.7843018\n",
      "Validation pearson is: nan\n",
      "Validation r2_score is: -0.6344726191504138\n",
      "-------------------------\n"
     ]
    },
    {
     "name": "stderr",
     "output_type": "stream",
     "text": [
      "/home/mbosnjak/.conda/envs/pero/lib/python3.7/site-packages/scipy/stats/stats.py:3399: PearsonRConstantInputWarning: An input array is constant; the correlation coefficent is not defined.\n",
      "  warnings.warn(PearsonRConstantInputWarning())\n"
     ]
    },
    {
     "name": "stdout",
     "output_type": "stream",
     "text": [
      "Epoch 381 end: 1.0803020000457764, TRAIN MSE is: 1326.3341064453125\n",
      "Validation loss: 306646.8750000 - MSE score: 1474.2637939\n",
      "Validation pearson is: nan\n",
      "Validation r2_score is: -0.6327887632181981\n",
      "-------------------------\n"
     ]
    },
    {
     "name": "stderr",
     "output_type": "stream",
     "text": [
      "/home/mbosnjak/.conda/envs/pero/lib/python3.7/site-packages/scipy/stats/stats.py:3399: PearsonRConstantInputWarning: An input array is constant; the correlation coefficent is not defined.\n",
      "  warnings.warn(PearsonRConstantInputWarning())\n"
     ]
    },
    {
     "name": "stdout",
     "output_type": "stream",
     "text": [
      "Epoch 382 end: 1.0707976818084717, TRAIN MSE is: 1325.001220703125\n",
      "Validation loss: 306330.2812500 - MSE score: 1472.7419434\n",
      "Validation pearson is: nan\n",
      "Validation r2_score is: -0.6311029897864695\n",
      "-------------------------\n"
     ]
    },
    {
     "name": "stderr",
     "output_type": "stream",
     "text": [
      "/home/mbosnjak/.conda/envs/pero/lib/python3.7/site-packages/scipy/stats/stats.py:3399: PearsonRConstantInputWarning: An input array is constant; the correlation coefficent is not defined.\n",
      "  warnings.warn(PearsonRConstantInputWarning())\n"
     ]
    },
    {
     "name": "stdout",
     "output_type": "stream",
     "text": [
      "Epoch 383 end: 1.083099603652954, TRAIN MSE is: 1323.660400390625\n",
      "Validation loss: 306016.9687500 - MSE score: 1471.2354736\n",
      "Validation pearson is: nan\n",
      "Validation r2_score is: -0.629434574813716\n",
      "-------------------------\n"
     ]
    },
    {
     "name": "stderr",
     "output_type": "stream",
     "text": [
      "/home/mbosnjak/.conda/envs/pero/lib/python3.7/site-packages/scipy/stats/stats.py:3399: PearsonRConstantInputWarning: An input array is constant; the correlation coefficent is not defined.\n",
      "  warnings.warn(PearsonRConstantInputWarning())\n"
     ]
    },
    {
     "name": "stdout",
     "output_type": "stream",
     "text": [
      "Epoch 384 end: 1.0728418827056885, TRAIN MSE is: 1322.3428955078125\n",
      "Validation loss: 305700.9062500 - MSE score: 1469.7160645\n",
      "Validation pearson is: nan\n",
      "Validation r2_score is: -0.6277517896993177\n",
      "-------------------------\n"
     ]
    },
    {
     "name": "stderr",
     "output_type": "stream",
     "text": [
      "/home/mbosnjak/.conda/envs/pero/lib/python3.7/site-packages/scipy/stats/stats.py:3399: PearsonRConstantInputWarning: An input array is constant; the correlation coefficent is not defined.\n",
      "  warnings.warn(PearsonRConstantInputWarning())\n"
     ]
    },
    {
     "name": "stdout",
     "output_type": "stream",
     "text": [
      "Epoch 385 end: 1.0497941970825195, TRAIN MSE is: 1320.993408203125\n",
      "Validation loss: 305393.5000000 - MSE score: 1468.2380371\n",
      "Validation pearson is: nan\n",
      "Validation r2_score is: -0.6261149081922559\n",
      "-------------------------\n"
     ]
    },
    {
     "name": "stderr",
     "output_type": "stream",
     "text": [
      "/home/mbosnjak/.conda/envs/pero/lib/python3.7/site-packages/scipy/stats/stats.py:3399: PearsonRConstantInputWarning: An input array is constant; the correlation coefficent is not defined.\n",
      "  warnings.warn(PearsonRConstantInputWarning())\n"
     ]
    },
    {
     "name": "stdout",
     "output_type": "stream",
     "text": [
      "Epoch 386 end: 1.0661113262176514, TRAIN MSE is: 1319.6895751953125\n",
      "Validation loss: 305081.4062500 - MSE score: 1466.7374268\n",
      "Validation pearson is: nan\n",
      "Validation r2_score is: -0.6244529357762558\n",
      "-------------------------\n"
     ]
    },
    {
     "name": "stderr",
     "output_type": "stream",
     "text": [
      "/home/mbosnjak/.conda/envs/pero/lib/python3.7/site-packages/scipy/stats/stats.py:3399: PearsonRConstantInputWarning: An input array is constant; the correlation coefficent is not defined.\n",
      "  warnings.warn(PearsonRConstantInputWarning())\n"
     ]
    },
    {
     "name": "stdout",
     "output_type": "stream",
     "text": [
      "Epoch 387 end: 1.124645471572876, TRAIN MSE is: 1318.369140625\n",
      "Validation loss: 304771.1250000 - MSE score: 1465.2456055\n",
      "Validation pearson is: nan\n",
      "Validation r2_score is: -0.6228008510116732\n",
      "-------------------------\n"
     ]
    },
    {
     "name": "stderr",
     "output_type": "stream",
     "text": [
      "/home/mbosnjak/.conda/envs/pero/lib/python3.7/site-packages/scipy/stats/stats.py:3399: PearsonRConstantInputWarning: An input array is constant; the correlation coefficent is not defined.\n",
      "  warnings.warn(PearsonRConstantInputWarning())\n"
     ]
    },
    {
     "name": "stdout",
     "output_type": "stream",
     "text": [
      "Epoch 388 end: 1.145233392715454, TRAIN MSE is: 1317.06494140625\n",
      "Validation loss: 304458.9062500 - MSE score: 1463.7446289\n",
      "Validation pearson is: nan\n",
      "Validation r2_score is: -0.6211383578588221\n",
      "-------------------------\n"
     ]
    },
    {
     "name": "stderr",
     "output_type": "stream",
     "text": [
      "/home/mbosnjak/.conda/envs/pero/lib/python3.7/site-packages/scipy/stats/stats.py:3399: PearsonRConstantInputWarning: An input array is constant; the correlation coefficent is not defined.\n",
      "  warnings.warn(PearsonRConstantInputWarning())\n"
     ]
    },
    {
     "name": "stdout",
     "output_type": "stream",
     "text": [
      "Epoch 389 end: 1.1401848793029785, TRAIN MSE is: 1315.7540283203125\n",
      "Validation loss: 304148.1250000 - MSE score: 1462.2506104\n",
      "Validation pearson is: nan\n",
      "Validation r2_score is: -0.6194836626090534\n",
      "-------------------------\n"
     ]
    },
    {
     "name": "stderr",
     "output_type": "stream",
     "text": [
      "/home/mbosnjak/.conda/envs/pero/lib/python3.7/site-packages/scipy/stats/stats.py:3399: PearsonRConstantInputWarning: An input array is constant; the correlation coefficent is not defined.\n",
      "  warnings.warn(PearsonRConstantInputWarning())\n"
     ]
    },
    {
     "name": "stdout",
     "output_type": "stream",
     "text": [
      "Epoch 390 end: 1.1332738399505615, TRAIN MSE is: 1314.4383544921875\n",
      "Validation loss: 303841.0937500 - MSE score: 1460.7746582\n",
      "Validation pearson is: nan\n",
      "Validation r2_score is: -0.6178489659522801\n",
      "-------------------------\n"
     ]
    },
    {
     "name": "stderr",
     "output_type": "stream",
     "text": [
      "/home/mbosnjak/.conda/envs/pero/lib/python3.7/site-packages/scipy/stats/stats.py:3399: PearsonRConstantInputWarning: An input array is constant; the correlation coefficent is not defined.\n",
      "  warnings.warn(PearsonRConstantInputWarning())\n"
     ]
    },
    {
     "name": "stdout",
     "output_type": "stream",
     "text": [
      "Epoch 391 end: 1.0706593990325928, TRAIN MSE is: 1313.126220703125\n",
      "Validation loss: 303538.4062500 - MSE score: 1459.3190918\n",
      "Validation pearson is: nan\n",
      "Validation r2_score is: -0.6162370438270939\n",
      "-------------------------\n"
     ]
    },
    {
     "name": "stderr",
     "output_type": "stream",
     "text": [
      "/home/mbosnjak/.conda/envs/pero/lib/python3.7/site-packages/scipy/stats/stats.py:3399: PearsonRConstantInputWarning: An input array is constant; the correlation coefficent is not defined.\n",
      "  warnings.warn(PearsonRConstantInputWarning())\n"
     ]
    },
    {
     "name": "stdout",
     "output_type": "stream",
     "text": [
      "Epoch 392 end: 1.0550940036773682, TRAIN MSE is: 1311.8448486328125\n",
      "Validation loss: 303231.2187500 - MSE score: 1457.8424072\n",
      "Validation pearson is: nan\n",
      "Validation r2_score is: -0.6146014484413491\n",
      "-------------------------\n"
     ]
    },
    {
     "name": "stderr",
     "output_type": "stream",
     "text": [
      "/home/mbosnjak/.conda/envs/pero/lib/python3.7/site-packages/scipy/stats/stats.py:3399: PearsonRConstantInputWarning: An input array is constant; the correlation coefficent is not defined.\n",
      "  warnings.warn(PearsonRConstantInputWarning())\n"
     ]
    },
    {
     "name": "stdout",
     "output_type": "stream",
     "text": [
      "Epoch 393 end: 1.051905870437622, TRAIN MSE is: 1310.5535888671875\n",
      "Validation loss: 302924.0625000 - MSE score: 1456.3657227\n",
      "Validation pearson is: nan\n",
      "Validation r2_score is: -0.6129658512257838\n",
      "-------------------------\n"
     ]
    },
    {
     "name": "stderr",
     "output_type": "stream",
     "text": [
      "/home/mbosnjak/.conda/envs/pero/lib/python3.7/site-packages/scipy/stats/stats.py:3399: PearsonRConstantInputWarning: An input array is constant; the correlation coefficent is not defined.\n",
      "  warnings.warn(PearsonRConstantInputWarning())\n"
     ]
    },
    {
     "name": "stdout",
     "output_type": "stream",
     "text": [
      "Epoch 394 end: 1.0786693096160889, TRAIN MSE is: 1309.2520751953125\n",
      "Validation loss: 302621.2812500 - MSE score: 1454.9101562\n",
      "Validation pearson is: nan\n",
      "Validation r2_score is: -0.611353853942435\n",
      "-------------------------\n"
     ]
    },
    {
     "name": "stderr",
     "output_type": "stream",
     "text": [
      "/home/mbosnjak/.conda/envs/pero/lib/python3.7/site-packages/scipy/stats/stats.py:3399: PearsonRConstantInputWarning: An input array is constant; the correlation coefficent is not defined.\n",
      "  warnings.warn(PearsonRConstantInputWarning())\n"
     ]
    },
    {
     "name": "stdout",
     "output_type": "stream",
     "text": [
      "Epoch 395 end: 1.0745861530303955, TRAIN MSE is: 1307.982421875\n",
      "Validation loss: 302314.3750000 - MSE score: 1453.4344482\n",
      "Validation pearson is: nan\n",
      "Validation r2_score is: -0.6097196101539579\n",
      "-------------------------\n"
     ]
    },
    {
     "name": "stderr",
     "output_type": "stream",
     "text": [
      "/home/mbosnjak/.conda/envs/pero/lib/python3.7/site-packages/scipy/stats/stats.py:3399: PearsonRConstantInputWarning: An input array is constant; the correlation coefficent is not defined.\n",
      "  warnings.warn(PearsonRConstantInputWarning())\n"
     ]
    },
    {
     "name": "stdout",
     "output_type": "stream",
     "text": [
      "Epoch 396 end: 1.0592453479766846, TRAIN MSE is: 1306.6944580078125\n",
      "Validation loss: 302010.0937500 - MSE score: 1451.9714355\n",
      "Validation pearson is: nan\n",
      "Validation r2_score is: -0.6080992137192842\n",
      "-------------------------\n"
     ]
    },
    {
     "name": "stderr",
     "output_type": "stream",
     "text": [
      "/home/mbosnjak/.conda/envs/pero/lib/python3.7/site-packages/scipy/stats/stats.py:3399: PearsonRConstantInputWarning: An input array is constant; the correlation coefficent is not defined.\n",
      "  warnings.warn(PearsonRConstantInputWarning())\n"
     ]
    },
    {
     "name": "stdout",
     "output_type": "stream",
     "text": [
      "Epoch 397 end: 1.053035020828247, TRAIN MSE is: 1305.402099609375\n",
      "Validation loss: 301710.5937500 - MSE score: 1450.5314941\n",
      "Validation pearson is: nan\n",
      "Validation r2_score is: -0.6065046296884247\n",
      "-------------------------\n"
     ]
    },
    {
     "name": "stderr",
     "output_type": "stream",
     "text": [
      "/home/mbosnjak/.conda/envs/pero/lib/python3.7/site-packages/scipy/stats/stats.py:3399: PearsonRConstantInputWarning: An input array is constant; the correlation coefficent is not defined.\n",
      "  warnings.warn(PearsonRConstantInputWarning())\n"
     ]
    },
    {
     "name": "stdout",
     "output_type": "stream",
     "text": [
      "Epoch 398 end: 1.0661346912384033, TRAIN MSE is: 1304.1297607421875\n",
      "Validation loss: 301411.3437500 - MSE score: 1449.0931396\n",
      "Validation pearson is: nan\n",
      "Validation r2_score is: -0.6049114180944122\n",
      "-------------------------\n"
     ]
    },
    {
     "name": "stderr",
     "output_type": "stream",
     "text": [
      "/home/mbosnjak/.conda/envs/pero/lib/python3.7/site-packages/scipy/stats/stats.py:3399: PearsonRConstantInputWarning: An input array is constant; the correlation coefficent is not defined.\n",
      "  warnings.warn(PearsonRConstantInputWarning())\n"
     ]
    },
    {
     "name": "stdout",
     "output_type": "stream",
     "text": [
      "Epoch 399 end: 1.0748522281646729, TRAIN MSE is: 1302.8482666015625\n",
      "Validation loss: 301116.2500000 - MSE score: 1447.6745605\n",
      "Validation pearson is: nan\n",
      "Validation r2_score is: -0.6033401529051137\n",
      "-------------------------\n",
      "Apply best model to test for ['conscientiousness'] on fold 0.\n",
      "Test loss: 300136.40625 - MSE score: 1141.2028809 \n",
      "Test pearson is: 0.09803206238794394\n",
      "Test r2_score is: -0.12459105628769951\n",
      "-------------------------\n",
      "+++ Finished with training and testing model for ['conscientiousness'] on fold 0. +++\n",
      "-------------------------\n",
      "-------------------------\n",
      "Processing fold: 0 and target: ['extraversion']\n",
      "-------------------------\n",
      "Train size: 836\n",
      "Validation size: 209\n",
      "Test size: 262\n",
      "-------------------------\n",
      "Starting training for: {'learning_rate': 0.01, 'batch_size': 64, 'kernels_count': 8, 'sentences_count': 4, 'hidden_layer_1': 4, 'alpha': 0.1978, 'regularization_type': 'None'}\n",
      "-------------------------\n",
      "Epoch 0 end: 1.250551700592041, TRAIN MSE is: 1530.1856689453125\n",
      "Validation loss: 219311.8750000 - MSE score: 1049.3391113\n",
      "Validation pearson is: -0.005005500177334946\n",
      "Validation r2_score is: -0.25468803362601977\n",
      "-------------------------\n",
      "Epoch 1 end: 1.0202884674072266, TRAIN MSE is: 1003.1044311523438\n",
      "Validation loss: 187587.9531250 - MSE score: 897.5501099\n",
      "Validation pearson is: 0.006390529926009978\n",
      "Validation r2_score is: -0.07319478488398268\n",
      "-------------------------\n",
      "Epoch 2 end: 1.0273878574371338, TRAIN MSE is: 922.3806762695312\n",
      "Validation loss: 178090.5937500 - MSE score: 852.1081543\n",
      "Validation pearson is: 0.016681025173752563\n",
      "Validation r2_score is: -0.01886022934998355\n",
      "-------------------------\n",
      "Epoch 3 end: 1.0259535312652588, TRAIN MSE is: 881.0977783203125\n",
      "Validation loss: 175114.8750000 - MSE score: 837.8702393\n",
      "Validation pearson is: 0.032474469007397755\n",
      "Validation r2_score is: -0.0018360152079179848\n",
      "-------------------------\n",
      "Epoch 4 end: 0.9927358627319336, TRAIN MSE is: 865.1320190429688\n",
      "Validation loss: 175027.3125000 - MSE score: 837.4512329\n",
      "Validation pearson is: 0.0549761670407206\n",
      "Validation r2_score is: -0.0013350055305141328\n",
      "-------------------------\n",
      "Epoch 5 end: 1.0064947605133057, TRAIN MSE is: 849.0993041992188\n",
      "Validation loss: 174135.1406250 - MSE score: 833.1824341\n",
      "Validation pearson is: 0.06576550161002082\n",
      "Validation r2_score is: 0.003769149436906316\n",
      "-------------------------\n",
      "Epoch 6 end: 1.029442548751831, TRAIN MSE is: 822.2968139648438\n",
      "Validation loss: 174118.1875000 - MSE score: 833.1013794\n",
      "Validation pearson is: 0.07474150121617798\n",
      "Validation r2_score is: 0.0038660801589914806\n",
      "-------------------------\n",
      "Epoch 7 end: 0.9989991188049316, TRAIN MSE is: 763.1058349609375\n",
      "Validation loss: 174957.2343750 - MSE score: 837.1159668\n",
      "Validation pearson is: 0.1456967193792773\n",
      "Validation r2_score is: -0.0009341551082824306\n",
      "-------------------------\n",
      "Epoch 8 end: 1.0334467887878418, TRAIN MSE is: 648.8757934570312\n",
      "Validation loss: 174673.4375000 - MSE score: 835.7580566\n",
      "Validation pearson is: 0.13053155618042095\n",
      "Validation r2_score is: 0.0006894654931554056\n",
      "-------------------------\n",
      "Epoch 9 end: 1.0160033702850342, TRAIN MSE is: 479.7301025390625\n",
      "Validation loss: 186021.6093750 - MSE score: 890.0554810\n",
      "Validation pearson is: 0.11905071605870263\n",
      "Validation r2_score is: -0.06423364667430054\n",
      "-------------------------\n",
      "Epoch 10 end: 1.0482358932495117, TRAIN MSE is: 331.5057067871094\n",
      "Validation loss: 194800.0937500 - MSE score: 932.0578613\n",
      "Validation pearson is: 0.11293341868542559\n",
      "Validation r2_score is: -0.11445556409654123\n",
      "-------------------------\n",
      "Epoch 11 end: 1.015925645828247, TRAIN MSE is: 208.09901428222656\n",
      "Validation loss: 194943.4218750 - MSE score: 932.7437134\n",
      "Validation pearson is: 0.12242473170705781\n",
      "Validation r2_score is: -0.11527558227505086\n",
      "-------------------------\n",
      "Epoch 12 end: 1.0350711345672607, TRAIN MSE is: 121.70357513427734\n",
      "Validation loss: 212167.7812500 - MSE score: 1015.1569214\n",
      "Validation pearson is: 0.11792336456578092\n",
      "Validation r2_score is: -0.2138165468973987\n",
      "-------------------------\n",
      "Starting training for: {'learning_rate': 0.005, 'batch_size': 64, 'kernels_count': 8, 'sentences_count': 4, 'hidden_layer_1': 4, 'alpha': 0.1978, 'regularization_type': 'None'}\n",
      "-------------------------\n",
      "Epoch 0 end: 1.1979315280914307, TRAIN MSE is: 1788.583984375\n",
      "Validation loss: 196950.9375000 - MSE score: 942.3489380\n",
      "Validation pearson is: -0.03927903867121539\n",
      "Validation r2_score is: -0.12676050370053193\n",
      "-------------------------\n",
      "Epoch 1 end: 1.0201544761657715, TRAIN MSE is: 1013.2749633789062\n",
      "Validation loss: 179677.7656250 - MSE score: 859.7023315\n",
      "Validation pearson is: -0.024066934454216194\n",
      "Validation r2_score is: -0.027940417962357245\n",
      "-------------------------\n",
      "Epoch 2 end: 1.0070366859436035, TRAIN MSE is: 927.2962036132812\n",
      "Validation loss: 177465.3750000 - MSE score: 849.1164551\n",
      "Validation pearson is: -0.0025475783887225732\n",
      "Validation r2_score is: -0.015283161578056426\n",
      "-------------------------\n",
      "Epoch 3 end: 1.0306649208068848, TRAIN MSE is: 903.8717041015625\n",
      "Validation loss: 177255.3750000 - MSE score: 848.1118164\n",
      "Validation pearson is: 0.027950026964727925\n",
      "Validation r2_score is: -0.01408179163639689\n",
      "-------------------------\n",
      "Epoch 4 end: 0.9932065010070801, TRAIN MSE is: 877.311767578125\n",
      "Validation loss: 174800.5468750 - MSE score: 836.3662720\n",
      "Validation pearson is: 0.05431808538936965\n",
      "Validation r2_score is: -3.7678636441329516e-05\n",
      "-------------------------\n",
      "Epoch 5 end: 1.0148417949676514, TRAIN MSE is: 864.4358520507812\n",
      "Validation loss: 175001.8593750 - MSE score: 837.3295288\n",
      "Validation pearson is: 0.06899386846299123\n",
      "Validation r2_score is: -0.0011894519098452072\n",
      "-------------------------\n",
      "Epoch 6 end: 1.0071706771850586, TRAIN MSE is: 852.3546752929688\n",
      "Validation loss: 173425.2343750 - MSE score: 829.7858887\n",
      "Validation pearson is: 0.09267361176614711\n",
      "Validation r2_score is: 0.00783049517377743\n",
      "-------------------------\n",
      "Epoch 7 end: 0.9954643249511719, TRAIN MSE is: 835.039794921875\n",
      "Validation loss: 176208.1250000 - MSE score: 843.1010742\n",
      "Validation pearson is: 0.10317409098641926\n",
      "Validation r2_score is: -0.008090439466938548\n",
      "-------------------------\n",
      "Epoch 8 end: 1.0143218040466309, TRAIN MSE is: 812.5782470703125\n",
      "Validation loss: 172645.5000000 - MSE score: 826.0550537\n",
      "Validation pearson is: 0.11380242937917248\n",
      "Validation r2_score is: 0.012291261529461583\n",
      "-------------------------\n",
      "Epoch 9 end: 1.012328863143921, TRAIN MSE is: 790.1865844726562\n",
      "Validation loss: 172084.8906250 - MSE score: 823.3726196\n",
      "Validation pearson is: 0.12926019521474316\n",
      "Validation r2_score is: 0.015498690384060487\n",
      "-------------------------\n",
      "Epoch 10 end: 0.9900617599487305, TRAIN MSE is: 762.0601196289062\n",
      "Validation loss: 173770.1718750 - MSE score: 831.4362183\n",
      "Validation pearson is: 0.13827431533923598\n",
      "Validation r2_score is: 0.005857097909035214\n",
      "-------------------------\n",
      "Epoch 11 end: 1.0091135501861572, TRAIN MSE is: 720.5256958007812\n",
      "Validation loss: 172879.5000000 - MSE score: 827.1746216\n",
      "Validation pearson is: 0.1263325953272992\n",
      "Validation r2_score is: 0.010952664159553649\n",
      "-------------------------\n",
      "Epoch 12 end: 1.018937110900879, TRAIN MSE is: 675.5792236328125\n",
      "Validation loss: 172464.0937500 - MSE score: 825.1870728\n",
      "Validation pearson is: 0.12300433865013521\n",
      "Validation r2_score is: 0.013329217102599378\n",
      "-------------------------\n",
      "Epoch 13 end: 1.0139949321746826, TRAIN MSE is: 614.6410522460938\n",
      "Validation loss: 173071.7500000 - MSE score: 828.0944824\n",
      "Validation pearson is: 0.12201882478778987\n",
      "Validation r2_score is: 0.009852887777931918\n",
      "-------------------------\n",
      "Epoch 14 end: 1.001007080078125, TRAIN MSE is: 539.4270629882812\n",
      "Validation loss: 178195.4687500 - MSE score: 852.6099243\n",
      "Validation pearson is: 0.14163597315057994\n",
      "Validation r2_score is: -0.019460094676281736\n",
      "-------------------------\n",
      "Epoch 15 end: 0.9862310886383057, TRAIN MSE is: 433.794677734375\n",
      "Validation loss: 188229.7187500 - MSE score: 900.6206665\n",
      "Validation pearson is: 0.11708697230523117\n",
      "Validation r2_score is: -0.0768662807180347\n",
      "-------------------------\n",
      "Apply best model to test for ['extraversion'] on fold 0.\n",
      "Test loss: 251924.59375 - MSE score: 961.5443115 \n",
      "Test pearson is: 0.12122868390386002\n",
      "Test r2_score is: -0.06488878461094338\n",
      "-------------------------\n",
      "+++ Finished with training and testing model for ['extraversion'] on fold 0. +++\n",
      "-------------------------\n",
      "-------------------------\n",
      "Processing fold: 0 and target: ['neuroticism']\n",
      "-------------------------\n",
      "Train size: 833\n",
      "Validation size: 209\n",
      "Test size: 260\n",
      "-------------------------\n",
      "Starting training for: {'learning_rate': 0.01, 'batch_size': 64, 'kernels_count': 8, 'sentences_count': 4, 'hidden_layer_1': 4, 'alpha': 0.1978, 'regularization_type': 'None'}\n",
      "-------------------------\n"
     ]
    },
    {
     "name": "stdout",
     "output_type": "stream",
     "text": [
      "Epoch 0 end: 1.2243704795837402, TRAIN MSE is: 1880.750244140625\n",
      "Validation loss: 279731.0312500 - MSE score: 1338.4260254\n",
      "Validation pearson is: 0.07238592217572175\n",
      "Validation r2_score is: -0.3312377286452046\n",
      "-------------------------\n",
      "Epoch 1 end: 0.9892275333404541, TRAIN MSE is: 1168.8753662109375\n",
      "Validation loss: 246954.5156250 - MSE score: 1181.6004639\n",
      "Validation pearson is: 0.10028851028766697\n",
      "Validation r2_score is: -0.17525458350345935\n",
      "-------------------------\n",
      "Epoch 2 end: 0.9956979751586914, TRAIN MSE is: 1049.2813720703125\n",
      "Validation loss: 210687.2187500 - MSE score: 1008.0728760\n",
      "Validation pearson is: 0.09330917809960004\n",
      "Validation r2_score is: -0.002658895713480325\n",
      "-------------------------\n",
      "Epoch 3 end: 0.9980390071868896, TRAIN MSE is: 1002.232666015625\n",
      "Validation loss: 212391.1718750 - MSE score: 1016.2256470\n",
      "Validation pearson is: 0.11285976752153859\n",
      "Validation r2_score is: -0.010767882537152662\n",
      "-------------------------\n",
      "Epoch 4 end: 0.9938786029815674, TRAIN MSE is: 977.3970336914062\n",
      "Validation loss: 210454.7031250 - MSE score: 1006.9603271\n",
      "Validation pearson is: 0.12493008793604707\n",
      "Validation r2_score is: -0.0015522706077690795\n",
      "-------------------------\n",
      "Epoch 5 end: 1.0047142505645752, TRAIN MSE is: 951.2590942382812\n",
      "Validation loss: 206719.9062500 - MSE score: 989.0906372\n",
      "Validation pearson is: 0.12863772153899503\n",
      "Validation r2_score is: 0.016221540370475518\n",
      "-------------------------\n",
      "Epoch 6 end: 1.00223970413208, TRAIN MSE is: 934.297119140625\n",
      "Validation loss: 213701.7500000 - MSE score: 1022.4963989\n",
      "Validation pearson is: 0.14603879256256125\n",
      "Validation r2_score is: -0.01700494356593807\n",
      "-------------------------\n",
      "Epoch 7 end: 1.0204241275787354, TRAIN MSE is: 913.6448974609375\n",
      "Validation loss: 206109.7812500 - MSE score: 986.1712036\n",
      "Validation pearson is: 0.1414319620775282\n",
      "Validation r2_score is: 0.019125182495523085\n",
      "-------------------------\n",
      "Epoch 8 end: 0.9799399375915527, TRAIN MSE is: 895.5447387695312\n",
      "Validation loss: 206628.0000000 - MSE score: 988.6508179\n",
      "Validation pearson is: 0.14802349407789273\n",
      "Validation r2_score is: 0.016658904947211783\n",
      "-------------------------\n",
      "Epoch 9 end: 0.9768509864807129, TRAIN MSE is: 875.4031372070312\n",
      "Validation loss: 211508.0312500 - MSE score: 1012.0001221\n",
      "Validation pearson is: 0.16499797939411034\n",
      "Validation r2_score is: -0.006565034233505296\n",
      "-------------------------\n",
      "Epoch 10 end: 0.9772412776947021, TRAIN MSE is: 852.2186279296875\n",
      "Validation loss: 205276.2031250 - MSE score: 982.1828613\n",
      "Validation pearson is: 0.15898150879677284\n",
      "Validation r2_score is: 0.02309212455209675\n",
      "-------------------------\n",
      "Epoch 11 end: 0.9848816394805908, TRAIN MSE is: 822.2054443359375\n",
      "Validation loss: 204926.3437500 - MSE score: 980.5088501\n",
      "Validation pearson is: 0.16875027477592405\n",
      "Validation r2_score is: 0.024757147067270613\n",
      "-------------------------\n",
      "Epoch 12 end: 0.9693171977996826, TRAIN MSE is: 779.9620361328125\n",
      "Validation loss: 207292.2968750 - MSE score: 991.8292236\n",
      "Validation pearson is: 0.1290684687483391\n",
      "Validation r2_score is: 0.013497566535260463\n",
      "-------------------------\n",
      "Epoch 13 end: 1.0303452014923096, TRAIN MSE is: 690.0084228515625\n",
      "Validation loss: 212458.3906250 - MSE score: 1016.5473022\n",
      "Validation pearson is: 0.12575460156840537\n",
      "Validation r2_score is: -0.011087775313418202\n",
      "-------------------------\n",
      "Epoch 14 end: 0.9970583915710449, TRAIN MSE is: 556.8291625976562\n",
      "Validation loss: 238171.5625000 - MSE score: 1139.5769043\n",
      "Validation pearson is: 0.11038246092506973\n",
      "Validation r2_score is: -0.13345657551319068\n",
      "-------------------------\n",
      "Epoch 15 end: 0.9879753589630127, TRAIN MSE is: 430.80535888671875\n",
      "Validation loss: 230422.3750000 - MSE score: 1102.4993896\n",
      "Validation pearson is: 0.10396516428435819\n",
      "Validation r2_score is: -0.09657823074196048\n",
      "-------------------------\n",
      "Epoch 16 end: 1.0115869045257568, TRAIN MSE is: 309.5985107421875\n",
      "Validation loss: 233791.6718750 - MSE score: 1118.6204834\n",
      "Validation pearson is: 0.1097644152313737\n",
      "Validation r2_score is: -0.11261282324759159\n",
      "-------------------------\n",
      "Epoch 17 end: 1.0297250747680664, TRAIN MSE is: 218.506103515625\n",
      "Validation loss: 244329.8906250 - MSE score: 1169.0424805\n",
      "Validation pearson is: 0.10097798271227759\n",
      "Validation r2_score is: -0.1627640218034654\n",
      "-------------------------\n",
      "Starting training for: {'learning_rate': 0.005, 'batch_size': 64, 'kernels_count': 8, 'sentences_count': 4, 'hidden_layer_1': 4, 'alpha': 0.1978, 'regularization_type': 'None'}\n",
      "-------------------------\n"
     ]
    },
    {
     "name": "stderr",
     "output_type": "stream",
     "text": [
      "/home/mbosnjak/.conda/envs/pero/lib/python3.7/site-packages/scipy/stats/stats.py:3399: PearsonRConstantInputWarning: An input array is constant; the correlation coefficent is not defined.\n",
      "  warnings.warn(PearsonRConstantInputWarning())\n"
     ]
    },
    {
     "name": "stdout",
     "output_type": "stream",
     "text": [
      "Epoch 0 end: 1.1939198970794678, TRAIN MSE is: 3367.673828125\n",
      "Validation loss: 741409.5625000 - MSE score: 3547.4138184\n",
      "Validation pearson is: nan\n",
      "Validation r2_score is: -2.5283620763649406\n",
      "-------------------------\n"
     ]
    },
    {
     "name": "stderr",
     "output_type": "stream",
     "text": [
      "/home/mbosnjak/.conda/envs/pero/lib/python3.7/site-packages/scipy/stats/stats.py:3399: PearsonRConstantInputWarning: An input array is constant; the correlation coefficent is not defined.\n",
      "  warnings.warn(PearsonRConstantInputWarning())\n"
     ]
    },
    {
     "name": "stdout",
     "output_type": "stream",
     "text": [
      "Epoch 1 end: 0.9909102916717529, TRAIN MSE is: 3359.336181640625\n",
      "Validation loss: 740001.1875000 - MSE score: 3540.6755371\n",
      "Validation pearson is: nan\n",
      "Validation r2_score is: -2.521659651075589\n",
      "-------------------------\n"
     ]
    },
    {
     "name": "stderr",
     "output_type": "stream",
     "text": [
      "/home/mbosnjak/.conda/envs/pero/lib/python3.7/site-packages/scipy/stats/stats.py:3399: PearsonRConstantInputWarning: An input array is constant; the correlation coefficent is not defined.\n",
      "  warnings.warn(PearsonRConstantInputWarning())\n"
     ]
    },
    {
     "name": "stdout",
     "output_type": "stream",
     "text": [
      "Epoch 2 end: 0.9919795989990234, TRAIN MSE is: 3352.883056640625\n",
      "Validation loss: 738596.1875000 - MSE score: 3533.9533691\n",
      "Validation pearson is: nan\n",
      "Validation r2_score is: -2.5149737076076417\n",
      "-------------------------\n"
     ]
    },
    {
     "name": "stderr",
     "output_type": "stream",
     "text": [
      "/home/mbosnjak/.conda/envs/pero/lib/python3.7/site-packages/scipy/stats/stats.py:3399: PearsonRConstantInputWarning: An input array is constant; the correlation coefficent is not defined.\n",
      "  warnings.warn(PearsonRConstantInputWarning())\n"
     ]
    },
    {
     "name": "stdout",
     "output_type": "stream",
     "text": [
      "Epoch 3 end: 0.9816322326660156, TRAIN MSE is: 3346.4345703125\n",
      "Validation loss: 737191.7500000 - MSE score: 3527.2331543\n",
      "Validation pearson is: nan\n",
      "Validation r2_score is: -2.508289647777257\n",
      "-------------------------\n"
     ]
    },
    {
     "name": "stderr",
     "output_type": "stream",
     "text": [
      "/home/mbosnjak/.conda/envs/pero/lib/python3.7/site-packages/scipy/stats/stats.py:3399: PearsonRConstantInputWarning: An input array is constant; the correlation coefficent is not defined.\n",
      "  warnings.warn(PearsonRConstantInputWarning())\n"
     ]
    },
    {
     "name": "stdout",
     "output_type": "stream",
     "text": [
      "Epoch 4 end: 0.9819893836975098, TRAIN MSE is: 3340.0615234375\n",
      "Validation loss: 735777.6250000 - MSE score: 3520.4670410\n",
      "Validation pearson is: nan\n",
      "Validation r2_score is: -2.5015599429332225\n",
      "-------------------------\n"
     ]
    },
    {
     "name": "stderr",
     "output_type": "stream",
     "text": [
      "/home/mbosnjak/.conda/envs/pero/lib/python3.7/site-packages/scipy/stats/stats.py:3399: PearsonRConstantInputWarning: An input array is constant; the correlation coefficent is not defined.\n",
      "  warnings.warn(PearsonRConstantInputWarning())\n"
     ]
    },
    {
     "name": "stdout",
     "output_type": "stream",
     "text": [
      "Epoch 5 end: 0.9957470893859863, TRAIN MSE is: 3333.60693359375\n",
      "Validation loss: 734376.1250000 - MSE score: 3513.7614746\n",
      "Validation pearson is: nan\n",
      "Validation r2_score is: -2.4948902462685516\n",
      "-------------------------\n"
     ]
    },
    {
     "name": "stderr",
     "output_type": "stream",
     "text": [
      "/home/mbosnjak/.conda/envs/pero/lib/python3.7/site-packages/scipy/stats/stats.py:3399: PearsonRConstantInputWarning: An input array is constant; the correlation coefficent is not defined.\n",
      "  warnings.warn(PearsonRConstantInputWarning())\n"
     ]
    },
    {
     "name": "stdout",
     "output_type": "stream",
     "text": [
      "Epoch 6 end: 0.9993090629577637, TRAIN MSE is: 3327.22412109375\n",
      "Validation loss: 732971.7500000 - MSE score: 3507.0422363\n",
      "Validation pearson is: nan\n",
      "Validation r2_score is: -2.4882071370933927\n",
      "-------------------------\n"
     ]
    },
    {
     "name": "stderr",
     "output_type": "stream",
     "text": [
      "/home/mbosnjak/.conda/envs/pero/lib/python3.7/site-packages/scipy/stats/stats.py:3399: PearsonRConstantInputWarning: An input array is constant; the correlation coefficent is not defined.\n",
      "  warnings.warn(PearsonRConstantInputWarning())\n"
     ]
    },
    {
     "name": "stdout",
     "output_type": "stream",
     "text": [
      "Epoch 7 end: 1.0005226135253906, TRAIN MSE is: 3320.75146484375\n",
      "Validation loss: 731588.0625000 - MSE score: 3500.4211426\n",
      "Validation pearson is: nan\n",
      "Validation r2_score is: -2.481621682582896\n",
      "-------------------------\n"
     ]
    },
    {
     "name": "stderr",
     "output_type": "stream",
     "text": [
      "/home/mbosnjak/.conda/envs/pero/lib/python3.7/site-packages/scipy/stats/stats.py:3399: PearsonRConstantInputWarning: An input array is constant; the correlation coefficent is not defined.\n",
      "  warnings.warn(PearsonRConstantInputWarning())\n"
     ]
    },
    {
     "name": "stdout",
     "output_type": "stream",
     "text": [
      "Epoch 8 end: 0.9844622611999512, TRAIN MSE is: 3314.409912109375\n",
      "Validation loss: 730191.8125000 - MSE score: 3493.7409668\n",
      "Validation pearson is: nan\n",
      "Validation r2_score is: -2.4749772006480306\n",
      "-------------------------\n"
     ]
    },
    {
     "name": "stderr",
     "output_type": "stream",
     "text": [
      "/home/mbosnjak/.conda/envs/pero/lib/python3.7/site-packages/scipy/stats/stats.py:3399: PearsonRConstantInputWarning: An input array is constant; the correlation coefficent is not defined.\n",
      "  warnings.warn(PearsonRConstantInputWarning())\n"
     ]
    },
    {
     "name": "stdout",
     "output_type": "stream",
     "text": [
      "Epoch 9 end: 0.9949650764465332, TRAIN MSE is: 3308.054931640625\n",
      "Validation loss: 728792.6250000 - MSE score: 3487.0461426\n",
      "Validation pearson is: nan\n",
      "Validation r2_score is: -2.468318477111589\n",
      "-------------------------\n"
     ]
    },
    {
     "name": "stderr",
     "output_type": "stream",
     "text": [
      "/home/mbosnjak/.conda/envs/pero/lib/python3.7/site-packages/scipy/stats/stats.py:3399: PearsonRConstantInputWarning: An input array is constant; the correlation coefficent is not defined.\n",
      "  warnings.warn(PearsonRConstantInputWarning())\n"
     ]
    },
    {
     "name": "stdout",
     "output_type": "stream",
     "text": [
      "Epoch 10 end: 0.9887223243713379, TRAIN MSE is: 3301.71240234375\n",
      "Validation loss: 727392.7500000 - MSE score: 3480.3481445\n",
      "Validation pearson is: nan\n",
      "Validation r2_score is: -2.4616564003605927\n",
      "-------------------------\n"
     ]
    },
    {
     "name": "stderr",
     "output_type": "stream",
     "text": [
      "/home/mbosnjak/.conda/envs/pero/lib/python3.7/site-packages/scipy/stats/stats.py:3399: PearsonRConstantInputWarning: An input array is constant; the correlation coefficent is not defined.\n",
      "  warnings.warn(PearsonRConstantInputWarning())\n"
     ]
    },
    {
     "name": "stdout",
     "output_type": "stream",
     "text": [
      "Epoch 11 end: 0.9912941455841064, TRAIN MSE is: 3295.281005859375\n",
      "Validation loss: 726018.0000000 - MSE score: 3473.7700195\n",
      "Validation pearson is: nan\n",
      "Validation r2_score is: -2.4551137864284036\n",
      "-------------------------\n"
     ]
    },
    {
     "name": "stderr",
     "output_type": "stream",
     "text": [
      "/home/mbosnjak/.conda/envs/pero/lib/python3.7/site-packages/scipy/stats/stats.py:3399: PearsonRConstantInputWarning: An input array is constant; the correlation coefficent is not defined.\n",
      "  warnings.warn(PearsonRConstantInputWarning())\n"
     ]
    },
    {
     "name": "stdout",
     "output_type": "stream",
     "text": [
      "Epoch 12 end: 0.9995644092559814, TRAIN MSE is: 3289.00048828125\n",
      "Validation loss: 724629.6875000 - MSE score: 3467.1276855\n",
      "Validation pearson is: nan\n",
      "Validation r2_score is: -2.4485069108528466\n",
      "-------------------------\n"
     ]
    },
    {
     "name": "stderr",
     "output_type": "stream",
     "text": [
      "/home/mbosnjak/.conda/envs/pero/lib/python3.7/site-packages/scipy/stats/stats.py:3399: PearsonRConstantInputWarning: An input array is constant; the correlation coefficent is not defined.\n",
      "  warnings.warn(PearsonRConstantInputWarning())\n"
     ]
    },
    {
     "name": "stdout",
     "output_type": "stream",
     "text": [
      "Epoch 13 end: 0.9462056159973145, TRAIN MSE is: 3282.66650390625\n",
      "Validation loss: 723247.0625000 - MSE score: 3460.5122070\n",
      "Validation pearson is: nan\n",
      "Validation r2_score is: -2.441926901805991\n",
      "-------------------------\n"
     ]
    },
    {
     "name": "stderr",
     "output_type": "stream",
     "text": [
      "/home/mbosnjak/.conda/envs/pero/lib/python3.7/site-packages/scipy/stats/stats.py:3399: PearsonRConstantInputWarning: An input array is constant; the correlation coefficent is not defined.\n",
      "  warnings.warn(PearsonRConstantInputWarning())\n"
     ]
    },
    {
     "name": "stdout",
     "output_type": "stream",
     "text": [
      "Epoch 14 end: 0.9833571910858154, TRAIN MSE is: 3276.35205078125\n",
      "Validation loss: 721867.5000000 - MSE score: 3453.9118652\n",
      "Validation pearson is: nan\n",
      "Validation r2_score is: -2.435362112633455\n",
      "-------------------------\n"
     ]
    },
    {
     "name": "stderr",
     "output_type": "stream",
     "text": [
      "/home/mbosnjak/.conda/envs/pero/lib/python3.7/site-packages/scipy/stats/stats.py:3399: PearsonRConstantInputWarning: An input array is constant; the correlation coefficent is not defined.\n",
      "  warnings.warn(PearsonRConstantInputWarning())\n"
     ]
    },
    {
     "name": "stdout",
     "output_type": "stream",
     "text": [
      "Epoch 15 end: 1.0143001079559326, TRAIN MSE is: 3270.03515625\n",
      "Validation loss: 720495.3750000 - MSE score: 3447.3461914\n",
      "Validation pearson is: nan\n",
      "Validation r2_score is: -2.4288318638528685\n",
      "-------------------------\n"
     ]
    },
    {
     "name": "stderr",
     "output_type": "stream",
     "text": [
      "/home/mbosnjak/.conda/envs/pero/lib/python3.7/site-packages/scipy/stats/stats.py:3399: PearsonRConstantInputWarning: An input array is constant; the correlation coefficent is not defined.\n",
      "  warnings.warn(PearsonRConstantInputWarning())\n"
     ]
    },
    {
     "name": "stdout",
     "output_type": "stream",
     "text": [
      "Epoch 16 end: 1.0197210311889648, TRAIN MSE is: 3263.788330078125\n",
      "Validation loss: 719114.5625000 - MSE score: 3440.7397461\n",
      "Validation pearson is: nan\n",
      "Validation r2_score is: -2.422260627157241\n",
      "-------------------------\n"
     ]
    },
    {
     "name": "stderr",
     "output_type": "stream",
     "text": [
      "/home/mbosnjak/.conda/envs/pero/lib/python3.7/site-packages/scipy/stats/stats.py:3399: PearsonRConstantInputWarning: An input array is constant; the correlation coefficent is not defined.\n",
      "  warnings.warn(PearsonRConstantInputWarning())\n"
     ]
    },
    {
     "name": "stdout",
     "output_type": "stream",
     "text": [
      "Epoch 17 end: 1.0074617862701416, TRAIN MSE is: 3257.48291015625\n",
      "Validation loss: 717745.3750000 - MSE score: 3434.1879883\n",
      "Validation pearson is: nan\n",
      "Validation r2_score is: -2.415744536684961\n",
      "-------------------------\n"
     ]
    },
    {
     "name": "stderr",
     "output_type": "stream",
     "text": [
      "/home/mbosnjak/.conda/envs/pero/lib/python3.7/site-packages/scipy/stats/stats.py:3399: PearsonRConstantInputWarning: An input array is constant; the correlation coefficent is not defined.\n",
      "  warnings.warn(PearsonRConstantInputWarning())\n"
     ]
    },
    {
     "name": "stdout",
     "output_type": "stream",
     "text": [
      "Epoch 18 end: 0.9835522174835205, TRAIN MSE is: 3251.25634765625\n",
      "Validation loss: 716370.0000000 - MSE score: 3427.6076660\n",
      "Validation pearson is: nan\n",
      "Validation r2_score is: -2.409199007153636\n",
      "-------------------------\n"
     ]
    },
    {
     "name": "stderr",
     "output_type": "stream",
     "text": [
      "/home/mbosnjak/.conda/envs/pero/lib/python3.7/site-packages/scipy/stats/stats.py:3399: PearsonRConstantInputWarning: An input array is constant; the correlation coefficent is not defined.\n",
      "  warnings.warn(PearsonRConstantInputWarning())\n"
     ]
    },
    {
     "name": "stdout",
     "output_type": "stream",
     "text": [
      "Epoch 19 end: 1.008208990097046, TRAIN MSE is: 3244.951171875\n",
      "Validation loss: 715013.2500000 - MSE score: 3421.1159668\n",
      "Validation pearson is: nan\n",
      "Validation r2_score is: -2.4027422898683106\n",
      "-------------------------\n"
     ]
    },
    {
     "name": "stderr",
     "output_type": "stream",
     "text": [
      "/home/mbosnjak/.conda/envs/pero/lib/python3.7/site-packages/scipy/stats/stats.py:3399: PearsonRConstantInputWarning: An input array is constant; the correlation coefficent is not defined.\n",
      "  warnings.warn(PearsonRConstantInputWarning())\n"
     ]
    },
    {
     "name": "stdout",
     "output_type": "stream",
     "text": [
      "Epoch 20 end: 0.9989326000213623, TRAIN MSE is: 3238.731689453125\n",
      "Validation loss: 713652.8750000 - MSE score: 3414.6071777\n",
      "Validation pearson is: nan\n",
      "Validation r2_score is: -2.3962683984346493\n",
      "-------------------------\n"
     ]
    },
    {
     "name": "stderr",
     "output_type": "stream",
     "text": [
      "/home/mbosnjak/.conda/envs/pero/lib/python3.7/site-packages/scipy/stats/stats.py:3399: PearsonRConstantInputWarning: An input array is constant; the correlation coefficent is not defined.\n",
      "  warnings.warn(PearsonRConstantInputWarning())\n"
     ]
    },
    {
     "name": "stdout",
     "output_type": "stream",
     "text": [
      "Epoch 21 end: 0.9806501865386963, TRAIN MSE is: 3232.54736328125\n",
      "Validation loss: 712284.3750000 - MSE score: 3408.0585938\n",
      "Validation pearson is: nan\n",
      "Validation r2_score is: -2.389755306144899\n",
      "-------------------------\n"
     ]
    },
    {
     "name": "stderr",
     "output_type": "stream",
     "text": [
      "/home/mbosnjak/.conda/envs/pero/lib/python3.7/site-packages/scipy/stats/stats.py:3399: PearsonRConstantInputWarning: An input array is constant; the correlation coefficent is not defined.\n",
      "  warnings.warn(PearsonRConstantInputWarning())\n"
     ]
    },
    {
     "name": "stdout",
     "output_type": "stream",
     "text": [
      "Epoch 22 end: 1.0020978450775146, TRAIN MSE is: 3226.307373046875\n",
      "Validation loss: 710927.0625000 - MSE score: 3401.5649414\n",
      "Validation pearson is: nan\n",
      "Validation r2_score is: -2.3832963232200184\n",
      "-------------------------\n"
     ]
    },
    {
     "name": "stderr",
     "output_type": "stream",
     "text": [
      "/home/mbosnjak/.conda/envs/pero/lib/python3.7/site-packages/scipy/stats/stats.py:3399: PearsonRConstantInputWarning: An input array is constant; the correlation coefficent is not defined.\n",
      "  warnings.warn(PearsonRConstantInputWarning())\n"
     ]
    },
    {
     "name": "stdout",
     "output_type": "stream",
     "text": [
      "Epoch 23 end: 0.9988617897033691, TRAIN MSE is: 3220.09912109375\n",
      "Validation loss: 709575.1875000 - MSE score: 3395.0961914\n",
      "Validation pearson is: nan\n",
      "Validation r2_score is: -2.376862560818859\n",
      "-------------------------\n"
     ]
    },
    {
     "name": "stderr",
     "output_type": "stream",
     "text": [
      "/home/mbosnjak/.conda/envs/pero/lib/python3.7/site-packages/scipy/stats/stats.py:3399: PearsonRConstantInputWarning: An input array is constant; the correlation coefficent is not defined.\n",
      "  warnings.warn(PearsonRConstantInputWarning())\n"
     ]
    },
    {
     "name": "stdout",
     "output_type": "stream",
     "text": [
      "Epoch 24 end: 0.9856202602386475, TRAIN MSE is: 3213.923583984375\n",
      "Validation loss: 708222.5000000 - MSE score: 3388.6240234\n",
      "Validation pearson is: nan\n",
      "Validation r2_score is: -2.370425034391601\n",
      "-------------------------\n"
     ]
    },
    {
     "name": "stderr",
     "output_type": "stream",
     "text": [
      "/home/mbosnjak/.conda/envs/pero/lib/python3.7/site-packages/scipy/stats/stats.py:3399: PearsonRConstantInputWarning: An input array is constant; the correlation coefficent is not defined.\n",
      "  warnings.warn(PearsonRConstantInputWarning())\n"
     ]
    },
    {
     "name": "stdout",
     "output_type": "stream",
     "text": [
      "Epoch 25 end: 1.0106863975524902, TRAIN MSE is: 3207.75439453125\n",
      "Validation loss: 706871.5000000 - MSE score: 3382.1606445\n",
      "Validation pearson is: nan\n",
      "Validation r2_score is: -2.363995933864164\n",
      "-------------------------\n"
     ]
    },
    {
     "name": "stderr",
     "output_type": "stream",
     "text": [
      "/home/mbosnjak/.conda/envs/pero/lib/python3.7/site-packages/scipy/stats/stats.py:3399: PearsonRConstantInputWarning: An input array is constant; the correlation coefficent is not defined.\n",
      "  warnings.warn(PearsonRConstantInputWarning())\n"
     ]
    },
    {
     "name": "stdout",
     "output_type": "stream",
     "text": [
      "Epoch 26 end: 0.9962432384490967, TRAIN MSE is: 3201.617919921875\n",
      "Validation loss: 705516.4375000 - MSE score: 3375.6765137\n",
      "Validation pearson is: nan\n",
      "Validation r2_score is: -2.3575470544307775\n",
      "-------------------------\n"
     ]
    },
    {
     "name": "stderr",
     "output_type": "stream",
     "text": [
      "/home/mbosnjak/.conda/envs/pero/lib/python3.7/site-packages/scipy/stats/stats.py:3399: PearsonRConstantInputWarning: An input array is constant; the correlation coefficent is not defined.\n",
      "  warnings.warn(PearsonRConstantInputWarning())\n"
     ]
    },
    {
     "name": "stdout",
     "output_type": "stream",
     "text": [
      "Epoch 27 end: 0.9850931167602539, TRAIN MSE is: 3195.46044921875\n",
      "Validation loss: 704167.8750000 - MSE score: 3369.2243652\n",
      "Validation pearson is: nan\n",
      "Validation r2_score is: -2.3511291348500265\n",
      "-------------------------\n"
     ]
    },
    {
     "name": "stderr",
     "output_type": "stream",
     "text": [
      "/home/mbosnjak/.conda/envs/pero/lib/python3.7/site-packages/scipy/stats/stats.py:3399: PearsonRConstantInputWarning: An input array is constant; the correlation coefficent is not defined.\n",
      "  warnings.warn(PearsonRConstantInputWarning())\n"
     ]
    },
    {
     "name": "stdout",
     "output_type": "stream",
     "text": [
      "Epoch 28 end: 1.0335016250610352, TRAIN MSE is: 3189.276123046875\n",
      "Validation loss: 702835.2500000 - MSE score: 3362.8481445\n",
      "Validation pearson is: nan\n",
      "Validation r2_score is: -2.344787435034474\n",
      "-------------------------\n"
     ]
    },
    {
     "name": "stderr",
     "output_type": "stream",
     "text": [
      "/home/mbosnjak/.conda/envs/pero/lib/python3.7/site-packages/scipy/stats/stats.py:3399: PearsonRConstantInputWarning: An input array is constant; the correlation coefficent is not defined.\n",
      "  warnings.warn(PearsonRConstantInputWarning())\n"
     ]
    },
    {
     "name": "stdout",
     "output_type": "stream",
     "text": [
      "Epoch 29 end: 1.0470566749572754, TRAIN MSE is: 3183.18115234375\n",
      "Validation loss: 701496.4375000 - MSE score: 3356.4426270\n",
      "Validation pearson is: nan\n",
      "Validation r2_score is: -2.33841637847001\n",
      "-------------------------\n"
     ]
    },
    {
     "name": "stderr",
     "output_type": "stream",
     "text": [
      "/home/mbosnjak/.conda/envs/pero/lib/python3.7/site-packages/scipy/stats/stats.py:3399: PearsonRConstantInputWarning: An input array is constant; the correlation coefficent is not defined.\n",
      "  warnings.warn(PearsonRConstantInputWarning())\n"
     ]
    },
    {
     "name": "stdout",
     "output_type": "stream",
     "text": [
      "Epoch 30 end: 0.9940745830535889, TRAIN MSE is: 3177.04736328125\n",
      "Validation loss: 700166.3750000 - MSE score: 3350.0776367\n",
      "Validation pearson is: nan\n",
      "Validation r2_score is: -2.3320859775690765\n",
      "-------------------------\n"
     ]
    },
    {
     "name": "stderr",
     "output_type": "stream",
     "text": [
      "/home/mbosnjak/.conda/envs/pero/lib/python3.7/site-packages/scipy/stats/stats.py:3399: PearsonRConstantInputWarning: An input array is constant; the correlation coefficent is not defined.\n",
      "  warnings.warn(PearsonRConstantInputWarning())\n"
     ]
    },
    {
     "name": "stdout",
     "output_type": "stream",
     "text": [
      "Epoch 31 end: 0.992260217666626, TRAIN MSE is: 3170.956787109375\n",
      "Validation loss: 698835.5000000 - MSE score: 3343.7104492\n",
      "Validation pearson is: nan\n",
      "Validation r2_score is: -2.3257527406127396\n",
      "-------------------------\n"
     ]
    },
    {
     "name": "stderr",
     "output_type": "stream",
     "text": [
      "/home/mbosnjak/.conda/envs/pero/lib/python3.7/site-packages/scipy/stats/stats.py:3399: PearsonRConstantInputWarning: An input array is constant; the correlation coefficent is not defined.\n",
      "  warnings.warn(PearsonRConstantInputWarning())\n"
     ]
    },
    {
     "name": "stdout",
     "output_type": "stream",
     "text": [
      "Epoch 32 end: 1.0012555122375488, TRAIN MSE is: 3164.90625\n",
      "Validation loss: 697496.6250000 - MSE score: 3337.3044434\n",
      "Validation pearson is: nan\n",
      "Validation r2_score is: -2.3193810535578563\n",
      "-------------------------\n"
     ]
    },
    {
     "name": "stderr",
     "output_type": "stream",
     "text": [
      "/home/mbosnjak/.conda/envs/pero/lib/python3.7/site-packages/scipy/stats/stats.py:3399: PearsonRConstantInputWarning: An input array is constant; the correlation coefficent is not defined.\n",
      "  warnings.warn(PearsonRConstantInputWarning())\n"
     ]
    },
    {
     "name": "stdout",
     "output_type": "stream",
     "text": [
      "Epoch 33 end: 0.9873545169830322, TRAIN MSE is: 3158.846923828125\n",
      "Validation loss: 696156.8125000 - MSE score: 3330.8940430\n",
      "Validation pearson is: nan\n",
      "Validation r2_score is: -2.3130047779863534\n",
      "-------------------------\n"
     ]
    },
    {
     "name": "stderr",
     "output_type": "stream",
     "text": [
      "/home/mbosnjak/.conda/envs/pero/lib/python3.7/site-packages/scipy/stats/stats.py:3399: PearsonRConstantInputWarning: An input array is constant; the correlation coefficent is not defined.\n",
      "  warnings.warn(PearsonRConstantInputWarning())\n"
     ]
    },
    {
     "name": "stdout",
     "output_type": "stream",
     "text": [
      "Epoch 34 end: 0.9851231575012207, TRAIN MSE is: 3152.715087890625\n",
      "Validation loss: 694839.3750000 - MSE score: 3324.5900879\n",
      "Validation pearson is: nan\n",
      "Validation r2_score is: -2.3067347843156867\n",
      "-------------------------\n"
     ]
    },
    {
     "name": "stderr",
     "output_type": "stream",
     "text": [
      "/home/mbosnjak/.conda/envs/pero/lib/python3.7/site-packages/scipy/stats/stats.py:3399: PearsonRConstantInputWarning: An input array is constant; the correlation coefficent is not defined.\n",
      "  warnings.warn(PearsonRConstantInputWarning())\n"
     ]
    },
    {
     "name": "stdout",
     "output_type": "stream",
     "text": [
      "Epoch 35 end: 1.0094120502471924, TRAIN MSE is: 3146.704345703125\n",
      "Validation loss: 693513.7500000 - MSE score: 3318.2475586\n",
      "Validation pearson is: nan\n",
      "Validation r2_score is: -2.300426467921874\n",
      "-------------------------\n"
     ]
    },
    {
     "name": "stderr",
     "output_type": "stream",
     "text": [
      "/home/mbosnjak/.conda/envs/pero/lib/python3.7/site-packages/scipy/stats/stats.py:3399: PearsonRConstantInputWarning: An input array is constant; the correlation coefficent is not defined.\n",
      "  warnings.warn(PearsonRConstantInputWarning())\n"
     ]
    },
    {
     "name": "stdout",
     "output_type": "stream",
     "text": [
      "Epoch 36 end: 1.013176441192627, TRAIN MSE is: 3140.690673828125\n",
      "Validation loss: 692184.4375000 - MSE score: 3311.8869629\n",
      "Validation pearson is: nan\n",
      "Validation r2_score is: -2.2941003702405496\n",
      "-------------------------\n"
     ]
    },
    {
     "name": "stderr",
     "output_type": "stream",
     "text": [
      "/home/mbosnjak/.conda/envs/pero/lib/python3.7/site-packages/scipy/stats/stats.py:3399: PearsonRConstantInputWarning: An input array is constant; the correlation coefficent is not defined.\n",
      "  warnings.warn(PearsonRConstantInputWarning())\n"
     ]
    },
    {
     "name": "stdout",
     "output_type": "stream",
     "text": [
      "Epoch 37 end: 0.9988350868225098, TRAIN MSE is: 3134.61474609375\n",
      "Validation loss: 690872.1875000 - MSE score: 3305.6088867\n",
      "Validation pearson is: nan\n",
      "Validation r2_score is: -2.2878553198027123\n",
      "-------------------------\n"
     ]
    },
    {
     "name": "stderr",
     "output_type": "stream",
     "text": [
      "/home/mbosnjak/.conda/envs/pero/lib/python3.7/site-packages/scipy/stats/stats.py:3399: PearsonRConstantInputWarning: An input array is constant; the correlation coefficent is not defined.\n",
      "  warnings.warn(PearsonRConstantInputWarning())\n"
     ]
    },
    {
     "name": "stdout",
     "output_type": "stream",
     "text": [
      "Epoch 38 end: 1.0018534660339355, TRAIN MSE is: 3128.655517578125\n",
      "Validation loss: 689548.3750000 - MSE score: 3299.2744141\n",
      "Validation pearson is: nan\n",
      "Validation r2_score is: -2.2815553160212083\n",
      "-------------------------\n"
     ]
    },
    {
     "name": "stderr",
     "output_type": "stream",
     "text": [
      "/home/mbosnjak/.conda/envs/pero/lib/python3.7/site-packages/scipy/stats/stats.py:3399: PearsonRConstantInputWarning: An input array is constant; the correlation coefficent is not defined.\n",
      "  warnings.warn(PearsonRConstantInputWarning())\n"
     ]
    },
    {
     "name": "stdout",
     "output_type": "stream",
     "text": [
      "Epoch 39 end: 1.0215651988983154, TRAIN MSE is: 3122.58984375\n",
      "Validation loss: 688246.1250000 - MSE score: 3293.0437012\n",
      "Validation pearson is: nan\n",
      "Validation r2_score is: -2.275357833861327\n",
      "-------------------------\n"
     ]
    },
    {
     "name": "stderr",
     "output_type": "stream",
     "text": [
      "/home/mbosnjak/.conda/envs/pero/lib/python3.7/site-packages/scipy/stats/stats.py:3399: PearsonRConstantInputWarning: An input array is constant; the correlation coefficent is not defined.\n",
      "  warnings.warn(PearsonRConstantInputWarning())\n"
     ]
    },
    {
     "name": "stdout",
     "output_type": "stream",
     "text": [
      "Epoch 40 end: 1.0074021816253662, TRAIN MSE is: 3116.62255859375\n",
      "Validation loss: 686940.4375000 - MSE score: 3286.7961426\n",
      "Validation pearson is: nan\n",
      "Validation r2_score is: -2.2691439483323332\n",
      "-------------------------\n"
     ]
    },
    {
     "name": "stderr",
     "output_type": "stream",
     "text": [
      "/home/mbosnjak/.conda/envs/pero/lib/python3.7/site-packages/scipy/stats/stats.py:3399: PearsonRConstantInputWarning: An input array is constant; the correlation coefficent is not defined.\n",
      "  warnings.warn(PearsonRConstantInputWarning())\n"
     ]
    },
    {
     "name": "stdout",
     "output_type": "stream",
     "text": [
      "Epoch 41 end: 0.9991810321807861, TRAIN MSE is: 3110.69287109375\n",
      "Validation loss: 685624.7500000 - MSE score: 3280.5012207\n",
      "Validation pearson is: nan\n",
      "Validation r2_score is: -2.2628828825755614\n",
      "-------------------------\n"
     ]
    },
    {
     "name": "stderr",
     "output_type": "stream",
     "text": [
      "/home/mbosnjak/.conda/envs/pero/lib/python3.7/site-packages/scipy/stats/stats.py:3399: PearsonRConstantInputWarning: An input array is constant; the correlation coefficent is not defined.\n",
      "  warnings.warn(PearsonRConstantInputWarning())\n"
     ]
    },
    {
     "name": "stdout",
     "output_type": "stream",
     "text": [
      "Epoch 42 end: 1.031195878982544, TRAIN MSE is: 3104.7138671875\n",
      "Validation loss: 684316.8750000 - MSE score: 3274.2434082\n",
      "Validation pearson is: nan\n",
      "Validation r2_score is: -2.2566586649425266\n",
      "-------------------------\n"
     ]
    },
    {
     "name": "stderr",
     "output_type": "stream",
     "text": [
      "/home/mbosnjak/.conda/envs/pero/lib/python3.7/site-packages/scipy/stats/stats.py:3399: PearsonRConstantInputWarning: An input array is constant; the correlation coefficent is not defined.\n",
      "  warnings.warn(PearsonRConstantInputWarning())\n"
     ]
    },
    {
     "name": "stdout",
     "output_type": "stream",
     "text": [
      "Epoch 43 end: 1.0058815479278564, TRAIN MSE is: 3098.777099609375\n",
      "Validation loss: 683008.2500000 - MSE score: 3267.9821777\n",
      "Validation pearson is: nan\n",
      "Validation r2_score is: -2.2504309638778475\n",
      "-------------------------\n"
     ]
    },
    {
     "name": "stderr",
     "output_type": "stream",
     "text": [
      "/home/mbosnjak/.conda/envs/pero/lib/python3.7/site-packages/scipy/stats/stats.py:3399: PearsonRConstantInputWarning: An input array is constant; the correlation coefficent is not defined.\n",
      "  warnings.warn(PearsonRConstantInputWarning())\n"
     ]
    },
    {
     "name": "stdout",
     "output_type": "stream",
     "text": [
      "Epoch 44 end: 1.014768362045288, TRAIN MSE is: 3092.7763671875\n",
      "Validation loss: 681720.3750000 - MSE score: 3261.8200684\n",
      "Validation pearson is: nan\n",
      "Validation r2_score is: -2.244301755342608\n",
      "-------------------------\n"
     ]
    },
    {
     "name": "stderr",
     "output_type": "stream",
     "text": [
      "/home/mbosnjak/.conda/envs/pero/lib/python3.7/site-packages/scipy/stats/stats.py:3399: PearsonRConstantInputWarning: An input array is constant; the correlation coefficent is not defined.\n",
      "  warnings.warn(PearsonRConstantInputWarning())\n"
     ]
    },
    {
     "name": "stdout",
     "output_type": "stream",
     "text": [
      "Epoch 45 end: 1.0173544883728027, TRAIN MSE is: 3086.964599609375\n",
      "Validation loss: 680403.0000000 - MSE score: 3255.5168457\n",
      "Validation pearson is: nan\n",
      "Validation r2_score is: -2.2380326520170017\n",
      "-------------------------\n"
     ]
    },
    {
     "name": "stderr",
     "output_type": "stream",
     "text": [
      "/home/mbosnjak/.conda/envs/pero/lib/python3.7/site-packages/scipy/stats/stats.py:3399: PearsonRConstantInputWarning: An input array is constant; the correlation coefficent is not defined.\n",
      "  warnings.warn(PearsonRConstantInputWarning())\n"
     ]
    },
    {
     "name": "stdout",
     "output_type": "stream",
     "text": [
      "Epoch 46 end: 1.0058343410491943, TRAIN MSE is: 3080.932861328125\n",
      "Validation loss: 679122.2500000 - MSE score: 3249.3886719\n",
      "Validation pearson is: nan\n",
      "Validation r2_score is: -2.231937374292453\n",
      "-------------------------\n"
     ]
    },
    {
     "name": "stderr",
     "output_type": "stream",
     "text": [
      "/home/mbosnjak/.conda/envs/pero/lib/python3.7/site-packages/scipy/stats/stats.py:3399: PearsonRConstantInputWarning: An input array is constant; the correlation coefficent is not defined.\n",
      "  warnings.warn(PearsonRConstantInputWarning())\n"
     ]
    },
    {
     "name": "stdout",
     "output_type": "stream",
     "text": [
      "Epoch 47 end: 0.9842627048492432, TRAIN MSE is: 3075.0546875\n",
      "Validation loss: 677836.6250000 - MSE score: 3243.2375488\n",
      "Validation pearson is: nan\n",
      "Validation r2_score is: -2.225819248359888\n",
      "-------------------------\n"
     ]
    },
    {
     "name": "stderr",
     "output_type": "stream",
     "text": [
      "/home/mbosnjak/.conda/envs/pero/lib/python3.7/site-packages/scipy/stats/stats.py:3399: PearsonRConstantInputWarning: An input array is constant; the correlation coefficent is not defined.\n",
      "  warnings.warn(PearsonRConstantInputWarning())\n"
     ]
    },
    {
     "name": "stdout",
     "output_type": "stream",
     "text": [
      "Epoch 48 end: 1.0026509761810303, TRAIN MSE is: 3069.20068359375\n",
      "Validation loss: 676542.6250000 - MSE score: 3237.0461426\n",
      "Validation pearson is: nan\n",
      "Validation r2_score is: -2.219661153949405\n",
      "-------------------------\n"
     ]
    },
    {
     "name": "stderr",
     "output_type": "stream",
     "text": [
      "/home/mbosnjak/.conda/envs/pero/lib/python3.7/site-packages/scipy/stats/stats.py:3399: PearsonRConstantInputWarning: An input array is constant; the correlation coefficent is not defined.\n",
      "  warnings.warn(PearsonRConstantInputWarning())\n"
     ]
    },
    {
     "name": "stdout",
     "output_type": "stream",
     "text": [
      "Epoch 49 end: 1.003093957901001, TRAIN MSE is: 3063.324951171875\n",
      "Validation loss: 675250.2500000 - MSE score: 3230.8625488\n",
      "Validation pearson is: nan\n",
      "Validation r2_score is: -2.213510581863795\n",
      "-------------------------\n"
     ]
    },
    {
     "name": "stderr",
     "output_type": "stream",
     "text": [
      "/home/mbosnjak/.conda/envs/pero/lib/python3.7/site-packages/scipy/stats/stats.py:3399: PearsonRConstantInputWarning: An input array is constant; the correlation coefficent is not defined.\n",
      "  warnings.warn(PearsonRConstantInputWarning())\n"
     ]
    },
    {
     "name": "stdout",
     "output_type": "stream",
     "text": [
      "Epoch 50 end: 1.0027194023132324, TRAIN MSE is: 3057.427978515625\n",
      "Validation loss: 673969.6875000 - MSE score: 3224.7351074\n",
      "Validation pearson is: nan\n",
      "Validation r2_score is: -2.2074162052869966\n",
      "-------------------------\n"
     ]
    },
    {
     "name": "stderr",
     "output_type": "stream",
     "text": [
      "/home/mbosnjak/.conda/envs/pero/lib/python3.7/site-packages/scipy/stats/stats.py:3399: PearsonRConstantInputWarning: An input array is constant; the correlation coefficent is not defined.\n",
      "  warnings.warn(PearsonRConstantInputWarning())\n"
     ]
    },
    {
     "name": "stdout",
     "output_type": "stream",
     "text": [
      "Epoch 51 end: 0.9996445178985596, TRAIN MSE is: 3051.60888671875\n",
      "Validation loss: 672681.1875000 - MSE score: 3218.5703125\n",
      "Validation pearson is: nan\n",
      "Validation r2_score is: -2.2012844137987093\n",
      "-------------------------\n"
     ]
    },
    {
     "name": "stderr",
     "output_type": "stream",
     "text": [
      "/home/mbosnjak/.conda/envs/pero/lib/python3.7/site-packages/scipy/stats/stats.py:3399: PearsonRConstantInputWarning: An input array is constant; the correlation coefficent is not defined.\n",
      "  warnings.warn(PearsonRConstantInputWarning())\n"
     ]
    },
    {
     "name": "stdout",
     "output_type": "stream",
     "text": [
      "Epoch 52 end: 1.1077609062194824, TRAIN MSE is: 3045.747314453125\n",
      "Validation loss: 671401.1250000 - MSE score: 3212.4455566\n",
      "Validation pearson is: nan\n",
      "Validation r2_score is: -2.195192608667697\n",
      "-------------------------\n"
     ]
    },
    {
     "name": "stderr",
     "output_type": "stream",
     "text": [
      "/home/mbosnjak/.conda/envs/pero/lib/python3.7/site-packages/scipy/stats/stats.py:3399: PearsonRConstantInputWarning: An input array is constant; the correlation coefficent is not defined.\n",
      "  warnings.warn(PearsonRConstantInputWarning())\n"
     ]
    },
    {
     "name": "stdout",
     "output_type": "stream",
     "text": [
      "Epoch 53 end: 0.9554097652435303, TRAIN MSE is: 3039.899169921875\n",
      "Validation loss: 670128.5000000 - MSE score: 3206.3564453\n",
      "Validation pearson is: nan\n",
      "Validation r2_score is: -2.189136346258934\n",
      "-------------------------\n"
     ]
    },
    {
     "name": "stderr",
     "output_type": "stream",
     "text": [
      "/home/mbosnjak/.conda/envs/pero/lib/python3.7/site-packages/scipy/stats/stats.py:3399: PearsonRConstantInputWarning: An input array is constant; the correlation coefficent is not defined.\n",
      "  warnings.warn(PearsonRConstantInputWarning())\n"
     ]
    },
    {
     "name": "stdout",
     "output_type": "stream",
     "text": [
      "Epoch 54 end: 1.0305263996124268, TRAIN MSE is: 3034.097900390625\n",
      "Validation loss: 668853.1250000 - MSE score: 3200.2536621\n",
      "Validation pearson is: nan\n",
      "Validation r2_score is: -2.1830663648680466\n",
      "-------------------------\n"
     ]
    },
    {
     "name": "stderr",
     "output_type": "stream",
     "text": [
      "/home/mbosnjak/.conda/envs/pero/lib/python3.7/site-packages/scipy/stats/stats.py:3399: PearsonRConstantInputWarning: An input array is constant; the correlation coefficent is not defined.\n",
      "  warnings.warn(PearsonRConstantInputWarning())\n"
     ]
    },
    {
     "name": "stdout",
     "output_type": "stream",
     "text": [
      "Epoch 55 end: 1.0332541465759277, TRAIN MSE is: 3028.29150390625\n",
      "Validation loss: 667580.1250000 - MSE score: 3194.1630859\n",
      "Validation pearson is: nan\n",
      "Validation r2_score is: -2.1770084283384756\n",
      "-------------------------\n"
     ]
    },
    {
     "name": "stderr",
     "output_type": "stream",
     "text": [
      "/home/mbosnjak/.conda/envs/pero/lib/python3.7/site-packages/scipy/stats/stats.py:3399: PearsonRConstantInputWarning: An input array is constant; the correlation coefficent is not defined.\n",
      "  warnings.warn(PearsonRConstantInputWarning())\n"
     ]
    },
    {
     "name": "stdout",
     "output_type": "stream",
     "text": [
      "Epoch 56 end: 1.075566053390503, TRAIN MSE is: 3022.49560546875\n",
      "Validation loss: 666309.6250000 - MSE score: 3188.0842285\n",
      "Validation pearson is: nan\n",
      "Validation r2_score is: -2.17096242723492\n",
      "-------------------------\n"
     ]
    },
    {
     "name": "stderr",
     "output_type": "stream",
     "text": [
      "/home/mbosnjak/.conda/envs/pero/lib/python3.7/site-packages/scipy/stats/stats.py:3399: PearsonRConstantInputWarning: An input array is constant; the correlation coefficent is not defined.\n",
      "  warnings.warn(PearsonRConstantInputWarning())\n"
     ]
    },
    {
     "name": "stdout",
     "output_type": "stream",
     "text": [
      "Epoch 57 end: 1.0028443336486816, TRAIN MSE is: 3016.7158203125\n",
      "Validation loss: 665040.8750000 - MSE score: 3182.0136719\n",
      "Validation pearson is: nan\n",
      "Validation r2_score is: -2.1649242110635343\n",
      "-------------------------\n"
     ]
    },
    {
     "name": "stderr",
     "output_type": "stream",
     "text": [
      "/home/mbosnjak/.conda/envs/pero/lib/python3.7/site-packages/scipy/stats/stats.py:3399: PearsonRConstantInputWarning: An input array is constant; the correlation coefficent is not defined.\n",
      "  warnings.warn(PearsonRConstantInputWarning())\n"
     ]
    },
    {
     "name": "stdout",
     "output_type": "stream",
     "text": [
      "Epoch 58 end: 1.0074901580810547, TRAIN MSE is: 3010.904541015625\n",
      "Validation loss: 663785.9375000 - MSE score: 3176.0095215\n",
      "Validation pearson is: nan\n",
      "Validation r2_score is: -2.1589520394309343\n",
      "-------------------------\n"
     ]
    },
    {
     "name": "stderr",
     "output_type": "stream",
     "text": [
      "/home/mbosnjak/.conda/envs/pero/lib/python3.7/site-packages/scipy/stats/stats.py:3399: PearsonRConstantInputWarning: An input array is constant; the correlation coefficent is not defined.\n",
      "  warnings.warn(PearsonRConstantInputWarning())\n"
     ]
    },
    {
     "name": "stdout",
     "output_type": "stream",
     "text": [
      "Epoch 59 end: 1.0017976760864258, TRAIN MSE is: 3005.177734375\n",
      "Validation loss: 662523.6250000 - MSE score: 3169.9694824\n",
      "Validation pearson is: nan\n",
      "Validation r2_score is: -2.152944671503832\n",
      "-------------------------\n"
     ]
    },
    {
     "name": "stderr",
     "output_type": "stream",
     "text": [
      "/home/mbosnjak/.conda/envs/pero/lib/python3.7/site-packages/scipy/stats/stats.py:3399: PearsonRConstantInputWarning: An input array is constant; the correlation coefficent is not defined.\n",
      "  warnings.warn(PearsonRConstantInputWarning())\n"
     ]
    },
    {
     "name": "stdout",
     "output_type": "stream",
     "text": [
      "Epoch 60 end: 1.0050430297851562, TRAIN MSE is: 2999.507568359375\n",
      "Validation loss: 661241.8125000 - MSE score: 3163.8366699\n",
      "Validation pearson is: nan\n",
      "Validation r2_score is: -2.1468446473787957\n",
      "-------------------------\n"
     ]
    },
    {
     "name": "stderr",
     "output_type": "stream",
     "text": [
      "/home/mbosnjak/.conda/envs/pero/lib/python3.7/site-packages/scipy/stats/stats.py:3399: PearsonRConstantInputWarning: An input array is constant; the correlation coefficent is not defined.\n",
      "  warnings.warn(PearsonRConstantInputWarning())\n"
     ]
    },
    {
     "name": "stdout",
     "output_type": "stream",
     "text": [
      "Epoch 61 end: 1.0176727771759033, TRAIN MSE is: 2993.661376953125\n",
      "Validation loss: 659993.7500000 - MSE score: 3157.8647461\n",
      "Validation pearson is: nan\n",
      "Validation r2_score is: -2.140904870448789\n",
      "-------------------------\n"
     ]
    },
    {
     "name": "stderr",
     "output_type": "stream",
     "text": [
      "/home/mbosnjak/.conda/envs/pero/lib/python3.7/site-packages/scipy/stats/stats.py:3399: PearsonRConstantInputWarning: An input array is constant; the correlation coefficent is not defined.\n",
      "  warnings.warn(PearsonRConstantInputWarning())\n"
     ]
    },
    {
     "name": "stdout",
     "output_type": "stream",
     "text": [
      "Epoch 62 end: 0.9958698749542236, TRAIN MSE is: 2987.9541015625\n",
      "Validation loss: 658743.0625000 - MSE score: 3151.8806152\n",
      "Validation pearson is: nan\n",
      "Validation r2_score is: -2.1349529719342377\n",
      "-------------------------\n"
     ]
    },
    {
     "name": "stderr",
     "output_type": "stream",
     "text": [
      "/home/mbosnjak/.conda/envs/pero/lib/python3.7/site-packages/scipy/stats/stats.py:3399: PearsonRConstantInputWarning: An input array is constant; the correlation coefficent is not defined.\n",
      "  warnings.warn(PearsonRConstantInputWarning())\n"
     ]
    },
    {
     "name": "stdout",
     "output_type": "stream",
     "text": [
      "Epoch 63 end: 1.0250623226165771, TRAIN MSE is: 2982.2763671875\n",
      "Validation loss: 657485.1875000 - MSE score: 3145.8625488\n",
      "Validation pearson is: nan\n",
      "Validation r2_score is: -2.128966935352409\n",
      "-------------------------\n"
     ]
    },
    {
     "name": "stderr",
     "output_type": "stream",
     "text": [
      "/home/mbosnjak/.conda/envs/pero/lib/python3.7/site-packages/scipy/stats/stats.py:3399: PearsonRConstantInputWarning: An input array is constant; the correlation coefficent is not defined.\n",
      "  warnings.warn(PearsonRConstantInputWarning())\n"
     ]
    },
    {
     "name": "stdout",
     "output_type": "stream",
     "text": [
      "Epoch 64 end: 1.0010783672332764, TRAIN MSE is: 2976.561279296875\n",
      "Validation loss: 656234.0625000 - MSE score: 3139.8759766\n",
      "Validation pearson is: nan\n",
      "Validation r2_score is: -2.1230126867279897\n",
      "-------------------------\n"
     ]
    },
    {
     "name": "stderr",
     "output_type": "stream",
     "text": [
      "/home/mbosnjak/.conda/envs/pero/lib/python3.7/site-packages/scipy/stats/stats.py:3399: PearsonRConstantInputWarning: An input array is constant; the correlation coefficent is not defined.\n",
      "  warnings.warn(PearsonRConstantInputWarning())\n"
     ]
    },
    {
     "name": "stdout",
     "output_type": "stream",
     "text": [
      "Epoch 65 end: 1.0470445156097412, TRAIN MSE is: 2970.870849609375\n",
      "Validation loss: 654985.0000000 - MSE score: 3133.8994141\n",
      "Validation pearson is: nan\n",
      "Validation r2_score is: -2.117068692821905\n",
      "-------------------------\n"
     ]
    },
    {
     "name": "stderr",
     "output_type": "stream",
     "text": [
      "/home/mbosnjak/.conda/envs/pero/lib/python3.7/site-packages/scipy/stats/stats.py:3399: PearsonRConstantInputWarning: An input array is constant; the correlation coefficent is not defined.\n",
      "  warnings.warn(PearsonRConstantInputWarning())\n"
     ]
    },
    {
     "name": "stdout",
     "output_type": "stream",
     "text": [
      "Epoch 66 end: 1.0992381572723389, TRAIN MSE is: 2965.18505859375\n",
      "Validation loss: 653740.3750000 - MSE score: 3127.9440918\n",
      "Validation pearson is: nan\n",
      "Validation r2_score is: -2.111145107736714\n",
      "-------------------------\n"
     ]
    },
    {
     "name": "stderr",
     "output_type": "stream",
     "text": [
      "/home/mbosnjak/.conda/envs/pero/lib/python3.7/site-packages/scipy/stats/stats.py:3399: PearsonRConstantInputWarning: An input array is constant; the correlation coefficent is not defined.\n",
      "  warnings.warn(PearsonRConstantInputWarning())\n"
     ]
    },
    {
     "name": "stdout",
     "output_type": "stream",
     "text": [
      "Epoch 67 end: 1.055215835571289, TRAIN MSE is: 2959.532958984375\n",
      "Validation loss: 652494.5000000 - MSE score: 3121.9836426\n",
      "Validation pearson is: nan\n",
      "Validation r2_score is: -2.1052164602156878\n",
      "-------------------------\n"
     ]
    },
    {
     "name": "stderr",
     "output_type": "stream",
     "text": [
      "/home/mbosnjak/.conda/envs/pero/lib/python3.7/site-packages/scipy/stats/stats.py:3399: PearsonRConstantInputWarning: An input array is constant; the correlation coefficent is not defined.\n",
      "  warnings.warn(PearsonRConstantInputWarning())\n"
     ]
    },
    {
     "name": "stdout",
     "output_type": "stream",
     "text": [
      "Epoch 68 end: 1.0266144275665283, TRAIN MSE is: 2953.864990234375\n",
      "Validation loss: 651255.1875000 - MSE score: 3116.0537109\n",
      "Validation pearson is: nan\n",
      "Validation r2_score is: -2.099318465996353\n",
      "-------------------------\n"
     ]
    },
    {
     "name": "stderr",
     "output_type": "stream",
     "text": [
      "/home/mbosnjak/.conda/envs/pero/lib/python3.7/site-packages/scipy/stats/stats.py:3399: PearsonRConstantInputWarning: An input array is constant; the correlation coefficent is not defined.\n",
      "  warnings.warn(PearsonRConstantInputWarning())\n"
     ]
    },
    {
     "name": "stdout",
     "output_type": "stream",
     "text": [
      "Epoch 69 end: 1.0117406845092773, TRAIN MSE is: 2948.22021484375\n",
      "Validation loss: 650018.4375000 - MSE score: 3110.1364746\n",
      "Validation pearson is: nan\n",
      "Validation r2_score is: -2.09343277545403\n",
      "-------------------------\n"
     ]
    },
    {
     "name": "stderr",
     "output_type": "stream",
     "text": [
      "/home/mbosnjak/.conda/envs/pero/lib/python3.7/site-packages/scipy/stats/stats.py:3399: PearsonRConstantInputWarning: An input array is constant; the correlation coefficent is not defined.\n",
      "  warnings.warn(PearsonRConstantInputWarning())\n"
     ]
    },
    {
     "name": "stdout",
     "output_type": "stream",
     "text": [
      "Epoch 70 end: 1.0076799392700195, TRAIN MSE is: 2942.62353515625\n",
      "Validation loss: 648774.1250000 - MSE score: 3104.1823730\n",
      "Validation pearson is: nan\n",
      "Validation r2_score is: -2.0875110688211813\n",
      "-------------------------\n"
     ]
    },
    {
     "name": "stderr",
     "output_type": "stream",
     "text": [
      "/home/mbosnjak/.conda/envs/pero/lib/python3.7/site-packages/scipy/stats/stats.py:3399: PearsonRConstantInputWarning: An input array is constant; the correlation coefficent is not defined.\n",
      "  warnings.warn(PearsonRConstantInputWarning())\n"
     ]
    },
    {
     "name": "stdout",
     "output_type": "stream",
     "text": [
      "Epoch 71 end: 1.0265276432037354, TRAIN MSE is: 2936.925048828125\n",
      "Validation loss: 647554.8125000 - MSE score: 3098.3483887\n",
      "Validation pearson is: nan\n",
      "Validation r2_score is: -2.0817080451354477\n",
      "-------------------------\n"
     ]
    },
    {
     "name": "stderr",
     "output_type": "stream",
     "text": [
      "/home/mbosnjak/.conda/envs/pero/lib/python3.7/site-packages/scipy/stats/stats.py:3399: PearsonRConstantInputWarning: An input array is constant; the correlation coefficent is not defined.\n",
      "  warnings.warn(PearsonRConstantInputWarning())\n"
     ]
    },
    {
     "name": "stdout",
     "output_type": "stream",
     "text": [
      "Epoch 72 end: 1.000199556350708, TRAIN MSE is: 2931.361328125\n",
      "Validation loss: 646323.8750000 - MSE score: 3092.4589844\n",
      "Validation pearson is: nan\n",
      "Validation r2_score is: -2.075850534942295\n",
      "-------------------------\n"
     ]
    },
    {
     "name": "stderr",
     "output_type": "stream",
     "text": [
      "/home/mbosnjak/.conda/envs/pero/lib/python3.7/site-packages/scipy/stats/stats.py:3399: PearsonRConstantInputWarning: An input array is constant; the correlation coefficent is not defined.\n",
      "  warnings.warn(PearsonRConstantInputWarning())\n"
     ]
    },
    {
     "name": "stdout",
     "output_type": "stream",
     "text": [
      "Epoch 73 end: 1.0015037059783936, TRAIN MSE is: 2925.75341796875\n",
      "Validation loss: 645098.2500000 - MSE score: 3086.5944824\n",
      "Validation pearson is: nan\n",
      "Validation r2_score is: -2.0700174326185805\n",
      "-------------------------\n"
     ]
    },
    {
     "name": "stderr",
     "output_type": "stream",
     "text": [
      "/home/mbosnjak/.conda/envs/pero/lib/python3.7/site-packages/scipy/stats/stats.py:3399: PearsonRConstantInputWarning: An input array is constant; the correlation coefficent is not defined.\n",
      "  warnings.warn(PearsonRConstantInputWarning())\n"
     ]
    },
    {
     "name": "stdout",
     "output_type": "stream",
     "text": [
      "Epoch 74 end: 1.010286808013916, TRAIN MSE is: 2920.191162109375\n",
      "Validation loss: 643867.4375000 - MSE score: 3080.7050781\n",
      "Validation pearson is: nan\n",
      "Validation r2_score is: -2.064160036008631\n",
      "-------------------------\n"
     ]
    },
    {
     "name": "stderr",
     "output_type": "stream",
     "text": [
      "/home/mbosnjak/.conda/envs/pero/lib/python3.7/site-packages/scipy/stats/stats.py:3399: PearsonRConstantInputWarning: An input array is constant; the correlation coefficent is not defined.\n",
      "  warnings.warn(PearsonRConstantInputWarning())\n"
     ]
    },
    {
     "name": "stdout",
     "output_type": "stream",
     "text": [
      "Epoch 75 end: 1.010408878326416, TRAIN MSE is: 2914.592529296875\n",
      "Validation loss: 642645.6250000 - MSE score: 3074.8593750\n",
      "Validation pearson is: nan\n",
      "Validation r2_score is: -2.058345397581182\n",
      "-------------------------\n"
     ]
    },
    {
     "name": "stderr",
     "output_type": "stream",
     "text": [
      "/home/mbosnjak/.conda/envs/pero/lib/python3.7/site-packages/scipy/stats/stats.py:3399: PearsonRConstantInputWarning: An input array is constant; the correlation coefficent is not defined.\n",
      "  warnings.warn(PearsonRConstantInputWarning())\n"
     ]
    },
    {
     "name": "stdout",
     "output_type": "stream",
     "text": [
      "Epoch 76 end: 1.0068354606628418, TRAIN MSE is: 2909.058837890625\n",
      "Validation loss: 641418.1250000 - MSE score: 3068.9863281\n",
      "Validation pearson is: nan\n",
      "Validation r2_score is: -2.052503811469874\n",
      "-------------------------\n"
     ]
    },
    {
     "name": "stderr",
     "output_type": "stream",
     "text": [
      "/home/mbosnjak/.conda/envs/pero/lib/python3.7/site-packages/scipy/stats/stats.py:3399: PearsonRConstantInputWarning: An input array is constant; the correlation coefficent is not defined.\n",
      "  warnings.warn(PearsonRConstantInputWarning())\n"
     ]
    },
    {
     "name": "stdout",
     "output_type": "stream",
     "text": [
      "Epoch 77 end: 1.0478932857513428, TRAIN MSE is: 2903.4716796875\n",
      "Validation loss: 640202.6250000 - MSE score: 3063.1704102\n",
      "Validation pearson is: nan\n",
      "Validation r2_score is: -2.0467194090694956\n",
      "-------------------------\n"
     ]
    },
    {
     "name": "stderr",
     "output_type": "stream",
     "text": [
      "/home/mbosnjak/.conda/envs/pero/lib/python3.7/site-packages/scipy/stats/stats.py:3399: PearsonRConstantInputWarning: An input array is constant; the correlation coefficent is not defined.\n",
      "  warnings.warn(PearsonRConstantInputWarning())\n"
     ]
    },
    {
     "name": "stdout",
     "output_type": "stream",
     "text": [
      "Epoch 78 end: 1.0049090385437012, TRAIN MSE is: 2897.962890625\n",
      "Validation loss: 638980.0625000 - MSE score: 3057.3212891\n",
      "Validation pearson is: nan\n",
      "Validation r2_score is: -2.0409012337819883\n",
      "-------------------------\n"
     ]
    },
    {
     "name": "stderr",
     "output_type": "stream",
     "text": [
      "/home/mbosnjak/.conda/envs/pero/lib/python3.7/site-packages/scipy/stats/stats.py:3399: PearsonRConstantInputWarning: An input array is constant; the correlation coefficent is not defined.\n",
      "  warnings.warn(PearsonRConstantInputWarning())\n"
     ]
    },
    {
     "name": "stdout",
     "output_type": "stream",
     "text": [
      "Epoch 79 end: 0.985886812210083, TRAIN MSE is: 2892.4033203125\n",
      "Validation loss: 637768.0625000 - MSE score: 3051.5222168\n",
      "Validation pearson is: nan\n",
      "Validation r2_score is: -2.035133316839014\n",
      "-------------------------\n"
     ]
    },
    {
     "name": "stderr",
     "output_type": "stream",
     "text": [
      "/home/mbosnjak/.conda/envs/pero/lib/python3.7/site-packages/scipy/stats/stats.py:3399: PearsonRConstantInputWarning: An input array is constant; the correlation coefficent is not defined.\n",
      "  warnings.warn(PearsonRConstantInputWarning())\n"
     ]
    },
    {
     "name": "stdout",
     "output_type": "stream",
     "text": [
      "Epoch 80 end: 0.9933879375457764, TRAIN MSE is: 2886.862548828125\n",
      "Validation loss: 636564.8125000 - MSE score: 3045.7648926\n",
      "Validation pearson is: nan\n",
      "Validation r2_score is: -2.02940707355282\n",
      "-------------------------\n"
     ]
    },
    {
     "name": "stderr",
     "output_type": "stream",
     "text": [
      "/home/mbosnjak/.conda/envs/pero/lib/python3.7/site-packages/scipy/stats/stats.py:3399: PearsonRConstantInputWarning: An input array is constant; the correlation coefficent is not defined.\n",
      "  warnings.warn(PearsonRConstantInputWarning())\n"
     ]
    },
    {
     "name": "stdout",
     "output_type": "stream",
     "text": [
      "Epoch 81 end: 1.0233886241912842, TRAIN MSE is: 2881.393798828125\n",
      "Validation loss: 635352.1875000 - MSE score: 3039.9628906\n",
      "Validation pearson is: nan\n",
      "Validation r2_score is: -2.0236360214348457\n",
      "-------------------------\n"
     ]
    },
    {
     "name": "stderr",
     "output_type": "stream",
     "text": [
      "/home/mbosnjak/.conda/envs/pero/lib/python3.7/site-packages/scipy/stats/stats.py:3399: PearsonRConstantInputWarning: An input array is constant; the correlation coefficent is not defined.\n",
      "  warnings.warn(PearsonRConstantInputWarning())\n"
     ]
    },
    {
     "name": "stdout",
     "output_type": "stream",
     "text": [
      "Epoch 82 end: 1.038278579711914, TRAIN MSE is: 2875.860107421875\n",
      "Validation loss: 634152.1875000 - MSE score: 3034.2209473\n",
      "Validation pearson is: nan\n",
      "Validation r2_score is: -2.0179253952439615\n",
      "-------------------------\n"
     ]
    },
    {
     "name": "stderr",
     "output_type": "stream",
     "text": [
      "/home/mbosnjak/.conda/envs/pero/lib/python3.7/site-packages/scipy/stats/stats.py:3399: PearsonRConstantInputWarning: An input array is constant; the correlation coefficent is not defined.\n",
      "  warnings.warn(PearsonRConstantInputWarning())\n"
     ]
    },
    {
     "name": "stdout",
     "output_type": "stream",
     "text": [
      "Epoch 83 end: 1.00654935836792, TRAIN MSE is: 2870.4189453125\n",
      "Validation loss: 632941.1250000 - MSE score: 3028.4265137\n",
      "Validation pearson is: nan\n",
      "Validation r2_score is: -2.012161947783208\n",
      "-------------------------\n"
     ]
    },
    {
     "name": "stderr",
     "output_type": "stream",
     "text": [
      "/home/mbosnjak/.conda/envs/pero/lib/python3.7/site-packages/scipy/stats/stats.py:3399: PearsonRConstantInputWarning: An input array is constant; the correlation coefficent is not defined.\n",
      "  warnings.warn(PearsonRConstantInputWarning())\n"
     ]
    },
    {
     "name": "stdout",
     "output_type": "stream",
     "text": [
      "Epoch 84 end: 1.0001990795135498, TRAIN MSE is: 2864.917724609375\n",
      "Validation loss: 631740.0000000 - MSE score: 3022.6794434\n",
      "Validation pearson is: nan\n",
      "Validation r2_score is: -2.006445642081782\n",
      "-------------------------\n"
     ]
    },
    {
     "name": "stderr",
     "output_type": "stream",
     "text": [
      "/home/mbosnjak/.conda/envs/pero/lib/python3.7/site-packages/scipy/stats/stats.py:3399: PearsonRConstantInputWarning: An input array is constant; the correlation coefficent is not defined.\n",
      "  warnings.warn(PearsonRConstantInputWarning())\n"
     ]
    },
    {
     "name": "stdout",
     "output_type": "stream",
     "text": [
      "Epoch 85 end: 1.0061869621276855, TRAIN MSE is: 2859.511962890625\n",
      "Validation loss: 630524.7500000 - MSE score: 3016.8647461\n",
      "Validation pearson is: nan\n",
      "Validation r2_score is: -2.0006624203841397\n",
      "-------------------------\n"
     ]
    },
    {
     "name": "stderr",
     "output_type": "stream",
     "text": [
      "/home/mbosnjak/.conda/envs/pero/lib/python3.7/site-packages/scipy/stats/stats.py:3399: PearsonRConstantInputWarning: An input array is constant; the correlation coefficent is not defined.\n",
      "  warnings.warn(PearsonRConstantInputWarning())\n"
     ]
    },
    {
     "name": "stdout",
     "output_type": "stream",
     "text": [
      "Epoch 86 end: 0.9987151622772217, TRAIN MSE is: 2853.97607421875\n",
      "Validation loss: 629335.7500000 - MSE score: 3011.1757812\n",
      "Validation pearson is: nan\n",
      "Validation r2_score is: -1.9950039311338115\n",
      "-------------------------\n"
     ]
    },
    {
     "name": "stderr",
     "output_type": "stream",
     "text": [
      "/home/mbosnjak/.conda/envs/pero/lib/python3.7/site-packages/scipy/stats/stats.py:3399: PearsonRConstantInputWarning: An input array is constant; the correlation coefficent is not defined.\n",
      "  warnings.warn(PearsonRConstantInputWarning())\n"
     ]
    },
    {
     "name": "stdout",
     "output_type": "stream",
     "text": [
      "Epoch 87 end: 1.0197978019714355, TRAIN MSE is: 2848.56005859375\n",
      "Validation loss: 628141.4375000 - MSE score: 3005.4614258\n",
      "Validation pearson is: nan\n",
      "Validation r2_score is: -1.9893201688268491\n",
      "-------------------------\n"
     ]
    },
    {
     "name": "stderr",
     "output_type": "stream",
     "text": [
      "/home/mbosnjak/.conda/envs/pero/lib/python3.7/site-packages/scipy/stats/stats.py:3399: PearsonRConstantInputWarning: An input array is constant; the correlation coefficent is not defined.\n",
      "  warnings.warn(PearsonRConstantInputWarning())\n"
     ]
    },
    {
     "name": "stdout",
     "output_type": "stream",
     "text": [
      "Epoch 88 end: 1.0029001235961914, TRAIN MSE is: 2843.106201171875\n",
      "Validation loss: 626956.2500000 - MSE score: 2999.7907715\n",
      "Validation pearson is: nan\n",
      "Validation r2_score is: -1.983679832526982\n",
      "-------------------------\n"
     ]
    },
    {
     "name": "stderr",
     "output_type": "stream",
     "text": [
      "/home/mbosnjak/.conda/envs/pero/lib/python3.7/site-packages/scipy/stats/stats.py:3399: PearsonRConstantInputWarning: An input array is constant; the correlation coefficent is not defined.\n",
      "  warnings.warn(PearsonRConstantInputWarning())\n"
     ]
    },
    {
     "name": "stdout",
     "output_type": "stream",
     "text": [
      "Epoch 89 end: 0.9972028732299805, TRAIN MSE is: 2837.72119140625\n",
      "Validation loss: 625762.3125000 - MSE score: 2994.0781250\n",
      "Validation pearson is: nan\n",
      "Validation r2_score is: -1.9779979869057032\n",
      "-------------------------\n"
     ]
    },
    {
     "name": "stderr",
     "output_type": "stream",
     "text": [
      "/home/mbosnjak/.conda/envs/pero/lib/python3.7/site-packages/scipy/stats/stats.py:3399: PearsonRConstantInputWarning: An input array is constant; the correlation coefficent is not defined.\n",
      "  warnings.warn(PearsonRConstantInputWarning())\n"
     ]
    },
    {
     "name": "stdout",
     "output_type": "stream",
     "text": [
      "Epoch 90 end: 1.0107944011688232, TRAIN MSE is: 2832.284423828125\n",
      "Validation loss: 624578.6250000 - MSE score: 2988.4150391\n",
      "Validation pearson is: nan\n",
      "Validation r2_score is: -1.9723650478426529\n",
      "-------------------------\n"
     ]
    },
    {
     "name": "stderr",
     "output_type": "stream",
     "text": [
      "/home/mbosnjak/.conda/envs/pero/lib/python3.7/site-packages/scipy/stats/stats.py:3399: PearsonRConstantInputWarning: An input array is constant; the correlation coefficent is not defined.\n",
      "  warnings.warn(PearsonRConstantInputWarning())\n"
     ]
    },
    {
     "name": "stdout",
     "output_type": "stream",
     "text": [
      "Epoch 91 end: 1.0158562660217285, TRAIN MSE is: 2826.905517578125\n",
      "Validation loss: 623391.1250000 - MSE score: 2982.7326660\n",
      "Validation pearson is: nan\n",
      "Validation r2_score is: -1.9667134176005199\n",
      "-------------------------\n"
     ]
    },
    {
     "name": "stderr",
     "output_type": "stream",
     "text": [
      "/home/mbosnjak/.conda/envs/pero/lib/python3.7/site-packages/scipy/stats/stats.py:3399: PearsonRConstantInputWarning: An input array is constant; the correlation coefficent is not defined.\n",
      "  warnings.warn(PearsonRConstantInputWarning())\n"
     ]
    },
    {
     "name": "stdout",
     "output_type": "stream",
     "text": [
      "Epoch 92 end: 1.0202786922454834, TRAIN MSE is: 2821.525146484375\n",
      "Validation loss: 622203.4375000 - MSE score: 2977.0502930\n",
      "Validation pearson is: nan\n",
      "Validation r2_score is: -1.9610614847373156\n",
      "-------------------------\n"
     ]
    },
    {
     "name": "stderr",
     "output_type": "stream",
     "text": [
      "/home/mbosnjak/.conda/envs/pero/lib/python3.7/site-packages/scipy/stats/stats.py:3399: PearsonRConstantInputWarning: An input array is constant; the correlation coefficent is not defined.\n",
      "  warnings.warn(PearsonRConstantInputWarning())\n"
     ]
    },
    {
     "name": "stdout",
     "output_type": "stream",
     "text": [
      "Epoch 93 end: 1.024406909942627, TRAIN MSE is: 2816.150146484375\n",
      "Validation loss: 621017.9375000 - MSE score: 2971.3776855\n",
      "Validation pearson is: nan\n",
      "Validation r2_score is: -1.9554194959922873\n",
      "-------------------------\n"
     ]
    },
    {
     "name": "stderr",
     "output_type": "stream",
     "text": [
      "/home/mbosnjak/.conda/envs/pero/lib/python3.7/site-packages/scipy/stats/stats.py:3399: PearsonRConstantInputWarning: An input array is constant; the correlation coefficent is not defined.\n",
      "  warnings.warn(PearsonRConstantInputWarning())\n"
     ]
    },
    {
     "name": "stdout",
     "output_type": "stream",
     "text": [
      "Epoch 94 end: 1.0029401779174805, TRAIN MSE is: 2810.78125\n",
      "Validation loss: 619836.0000000 - MSE score: 2965.7224121\n",
      "Validation pearson is: nan\n",
      "Validation r2_score is: -1.9497947098313198\n",
      "-------------------------\n"
     ]
    },
    {
     "name": "stderr",
     "output_type": "stream",
     "text": [
      "/home/mbosnjak/.conda/envs/pero/lib/python3.7/site-packages/scipy/stats/stats.py:3399: PearsonRConstantInputWarning: An input array is constant; the correlation coefficent is not defined.\n",
      "  warnings.warn(PearsonRConstantInputWarning())\n"
     ]
    },
    {
     "name": "stdout",
     "output_type": "stream",
     "text": [
      "Epoch 95 end: 1.0037999153137207, TRAIN MSE is: 2805.420166015625\n",
      "Validation loss: 618658.3750000 - MSE score: 2960.0878906\n",
      "Validation pearson is: nan\n",
      "Validation r2_score is: -1.9441904306827373\n",
      "-------------------------\n"
     ]
    },
    {
     "name": "stderr",
     "output_type": "stream",
     "text": [
      "/home/mbosnjak/.conda/envs/pero/lib/python3.7/site-packages/scipy/stats/stats.py:3399: PearsonRConstantInputWarning: An input array is constant; the correlation coefficent is not defined.\n",
      "  warnings.warn(PearsonRConstantInputWarning())\n"
     ]
    },
    {
     "name": "stdout",
     "output_type": "stream",
     "text": [
      "Epoch 96 end: 1.0391268730163574, TRAIN MSE is: 2800.121337890625\n",
      "Validation loss: 617470.9375000 - MSE score: 2954.4067383\n",
      "Validation pearson is: nan\n",
      "Validation r2_score is: -1.9385393807280011\n",
      "-------------------------\n"
     ]
    },
    {
     "name": "stderr",
     "output_type": "stream",
     "text": [
      "/home/mbosnjak/.conda/envs/pero/lib/python3.7/site-packages/scipy/stats/stats.py:3399: PearsonRConstantInputWarning: An input array is constant; the correlation coefficent is not defined.\n",
      "  warnings.warn(PearsonRConstantInputWarning())\n"
     ]
    },
    {
     "name": "stdout",
     "output_type": "stream",
     "text": [
      "Epoch 97 end: 1.0787668228149414, TRAIN MSE is: 2794.71240234375\n",
      "Validation loss: 616307.4375000 - MSE score: 2948.8393555\n",
      "Validation pearson is: nan\n",
      "Validation r2_score is: -1.9330023000254757\n",
      "-------------------------\n"
     ]
    },
    {
     "name": "stderr",
     "output_type": "stream",
     "text": [
      "/home/mbosnjak/.conda/envs/pero/lib/python3.7/site-packages/scipy/stats/stats.py:3399: PearsonRConstantInputWarning: An input array is constant; the correlation coefficent is not defined.\n",
      "  warnings.warn(PearsonRConstantInputWarning())\n"
     ]
    },
    {
     "name": "stdout",
     "output_type": "stream",
     "text": [
      "Epoch 98 end: 0.9988918304443359, TRAIN MSE is: 2789.41259765625\n",
      "Validation loss: 615139.8750000 - MSE score: 2943.2529297\n",
      "Validation pearson is: nan\n",
      "Validation r2_score is: -1.9274456905274233\n",
      "-------------------------\n"
     ]
    },
    {
     "name": "stderr",
     "output_type": "stream",
     "text": [
      "/home/mbosnjak/.conda/envs/pero/lib/python3.7/site-packages/scipy/stats/stats.py:3399: PearsonRConstantInputWarning: An input array is constant; the correlation coefficent is not defined.\n",
      "  warnings.warn(PearsonRConstantInputWarning())\n"
     ]
    },
    {
     "name": "stdout",
     "output_type": "stream",
     "text": [
      "Epoch 99 end: 1.0184476375579834, TRAIN MSE is: 2784.0947265625\n",
      "Validation loss: 613976.1250000 - MSE score: 2937.6848145\n",
      "Validation pearson is: nan\n",
      "Validation r2_score is: -1.9219076771996857\n",
      "-------------------------\n"
     ]
    },
    {
     "name": "stderr",
     "output_type": "stream",
     "text": [
      "/home/mbosnjak/.conda/envs/pero/lib/python3.7/site-packages/scipy/stats/stats.py:3399: PearsonRConstantInputWarning: An input array is constant; the correlation coefficent is not defined.\n",
      "  warnings.warn(PearsonRConstantInputWarning())\n"
     ]
    },
    {
     "name": "stdout",
     "output_type": "stream",
     "text": [
      "Epoch 100 end: 1.011979103088379, TRAIN MSE is: 2779.052734375\n",
      "Validation loss: 612921.3125000 - MSE score: 2932.6381836\n",
      "Validation pearson is: nan\n",
      "Validation r2_score is: -1.916887646908251\n",
      "-------------------------\n"
     ]
    },
    {
     "name": "stderr",
     "output_type": "stream",
     "text": [
      "/home/mbosnjak/.conda/envs/pero/lib/python3.7/site-packages/scipy/stats/stats.py:3399: PearsonRConstantInputWarning: An input array is constant; the correlation coefficent is not defined.\n",
      "  warnings.warn(PearsonRConstantInputWarning())\n"
     ]
    },
    {
     "name": "stdout",
     "output_type": "stream",
     "text": [
      "Epoch 101 end: 1.0100665092468262, TRAIN MSE is: 2774.2373046875\n",
      "Validation loss: 611883.4375000 - MSE score: 2927.6718750\n",
      "Validation pearson is: nan\n",
      "Validation r2_score is: -1.9119484018021535\n",
      "-------------------------\n"
     ]
    },
    {
     "name": "stderr",
     "output_type": "stream",
     "text": [
      "/home/mbosnjak/.conda/envs/pero/lib/python3.7/site-packages/scipy/stats/stats.py:3399: PearsonRConstantInputWarning: An input array is constant; the correlation coefficent is not defined.\n",
      "  warnings.warn(PearsonRConstantInputWarning())\n"
     ]
    },
    {
     "name": "stdout",
     "output_type": "stream",
     "text": [
      "Epoch 102 end: 1.012660264968872, TRAIN MSE is: 2769.526611328125\n",
      "Validation loss: 610834.4375000 - MSE score: 2922.6530762\n",
      "Validation pearson is: nan\n",
      "Validation r2_score is: -1.9069563531423537\n",
      "-------------------------\n"
     ]
    },
    {
     "name": "stderr",
     "output_type": "stream",
     "text": [
      "/home/mbosnjak/.conda/envs/pero/lib/python3.7/site-packages/scipy/stats/stats.py:3399: PearsonRConstantInputWarning: An input array is constant; the correlation coefficent is not defined.\n",
      "  warnings.warn(PearsonRConstantInputWarning())\n"
     ]
    },
    {
     "name": "stdout",
     "output_type": "stream",
     "text": [
      "Epoch 103 end: 1.025782823562622, TRAIN MSE is: 2764.754150390625\n",
      "Validation loss: 609794.8750000 - MSE score: 2917.6784668\n",
      "Validation pearson is: nan\n",
      "Validation r2_score is: -1.9020087456951784\n",
      "-------------------------\n"
     ]
    },
    {
     "name": "stderr",
     "output_type": "stream",
     "text": [
      "/home/mbosnjak/.conda/envs/pero/lib/python3.7/site-packages/scipy/stats/stats.py:3399: PearsonRConstantInputWarning: An input array is constant; the correlation coefficent is not defined.\n",
      "  warnings.warn(PearsonRConstantInputWarning())\n"
     ]
    },
    {
     "name": "stdout",
     "output_type": "stream",
     "text": [
      "Epoch 104 end: 1.0369701385498047, TRAIN MSE is: 2760.00537109375\n",
      "Validation loss: 608760.3125000 - MSE score: 2912.7285156\n",
      "Validation pearson is: nan\n",
      "Validation r2_score is: -1.8970854551827978\n",
      "-------------------------\n"
     ]
    },
    {
     "name": "stderr",
     "output_type": "stream",
     "text": [
      "/home/mbosnjak/.conda/envs/pero/lib/python3.7/site-packages/scipy/stats/stats.py:3399: PearsonRConstantInputWarning: An input array is constant; the correlation coefficent is not defined.\n",
      "  warnings.warn(PearsonRConstantInputWarning())\n"
     ]
    },
    {
     "name": "stdout",
     "output_type": "stream",
     "text": [
      "Epoch 105 end: 1.0322141647338867, TRAIN MSE is: 2755.333984375\n",
      "Validation loss: 607710.1250000 - MSE score: 2907.7038574\n",
      "Validation pearson is: nan\n",
      "Validation r2_score is: -1.8920879242161108\n",
      "-------------------------\n"
     ]
    },
    {
     "name": "stderr",
     "output_type": "stream",
     "text": [
      "/home/mbosnjak/.conda/envs/pero/lib/python3.7/site-packages/scipy/stats/stats.py:3399: PearsonRConstantInputWarning: An input array is constant; the correlation coefficent is not defined.\n",
      "  warnings.warn(PearsonRConstantInputWarning())\n"
     ]
    },
    {
     "name": "stdout",
     "output_type": "stream",
     "text": [
      "Epoch 106 end: 1.0493435859680176, TRAIN MSE is: 2750.587646484375\n",
      "Validation loss: 606669.1875000 - MSE score: 2902.7231445\n",
      "Validation pearson is: nan\n",
      "Validation r2_score is: -1.8871337130286854\n",
      "-------------------------\n"
     ]
    },
    {
     "name": "stderr",
     "output_type": "stream",
     "text": [
      "/home/mbosnjak/.conda/envs/pero/lib/python3.7/site-packages/scipy/stats/stats.py:3399: PearsonRConstantInputWarning: An input array is constant; the correlation coefficent is not defined.\n",
      "  warnings.warn(PearsonRConstantInputWarning())\n"
     ]
    },
    {
     "name": "stdout",
     "output_type": "stream",
     "text": [
      "Epoch 107 end: 1.0765328407287598, TRAIN MSE is: 2745.851806640625\n",
      "Validation loss: 605636.7500000 - MSE score: 2897.7834473\n",
      "Validation pearson is: nan\n",
      "Validation r2_score is: -1.8822204063608745\n",
      "-------------------------\n"
     ]
    },
    {
     "name": "stderr",
     "output_type": "stream",
     "text": [
      "/home/mbosnjak/.conda/envs/pero/lib/python3.7/site-packages/scipy/stats/stats.py:3399: PearsonRConstantInputWarning: An input array is constant; the correlation coefficent is not defined.\n",
      "  warnings.warn(PearsonRConstantInputWarning())\n"
     ]
    },
    {
     "name": "stdout",
     "output_type": "stream",
     "text": [
      "Epoch 108 end: 1.0842266082763672, TRAIN MSE is: 2741.146240234375\n",
      "Validation loss: 604606.0000000 - MSE score: 2892.8515625\n",
      "Validation pearson is: nan\n",
      "Validation r2_score is: -1.877315130003808\n",
      "-------------------------\n"
     ]
    },
    {
     "name": "stderr",
     "output_type": "stream",
     "text": [
      "/home/mbosnjak/.conda/envs/pero/lib/python3.7/site-packages/scipy/stats/stats.py:3399: PearsonRConstantInputWarning: An input array is constant; the correlation coefficent is not defined.\n",
      "  warnings.warn(PearsonRConstantInputWarning())\n"
     ]
    },
    {
     "name": "stdout",
     "output_type": "stream",
     "text": [
      "Epoch 109 end: 1.0448665618896484, TRAIN MSE is: 2736.4814453125\n",
      "Validation loss: 603567.3750000 - MSE score: 2887.8820801\n",
      "Validation pearson is: nan\n",
      "Validation r2_score is: -1.8723724615175312\n",
      "-------------------------\n"
     ]
    },
    {
     "name": "stderr",
     "output_type": "stream",
     "text": [
      "/home/mbosnjak/.conda/envs/pero/lib/python3.7/site-packages/scipy/stats/stats.py:3399: PearsonRConstantInputWarning: An input array is constant; the correlation coefficent is not defined.\n",
      "  warnings.warn(PearsonRConstantInputWarning())\n"
     ]
    },
    {
     "name": "stdout",
     "output_type": "stream",
     "text": [
      "Epoch 110 end: 1.0539000034332275, TRAIN MSE is: 2731.77587890625\n",
      "Validation loss: 602535.3125000 - MSE score: 2882.9440918\n",
      "Validation pearson is: nan\n",
      "Validation r2_score is: -1.8674607249074384\n",
      "-------------------------\n"
     ]
    },
    {
     "name": "stderr",
     "output_type": "stream",
     "text": [
      "/home/mbosnjak/.conda/envs/pero/lib/python3.7/site-packages/scipy/stats/stats.py:3399: PearsonRConstantInputWarning: An input array is constant; the correlation coefficent is not defined.\n",
      "  warnings.warn(PearsonRConstantInputWarning())\n"
     ]
    },
    {
     "name": "stdout",
     "output_type": "stream",
     "text": [
      "Epoch 111 end: 1.0396623611450195, TRAIN MSE is: 2727.08154296875\n",
      "Validation loss: 601508.7500000 - MSE score: 2878.0322266\n",
      "Validation pearson is: nan\n",
      "Validation r2_score is: -1.8625751482806412\n",
      "-------------------------\n"
     ]
    },
    {
     "name": "stderr",
     "output_type": "stream",
     "text": [
      "/home/mbosnjak/.conda/envs/pero/lib/python3.7/site-packages/scipy/stats/stats.py:3399: PearsonRConstantInputWarning: An input array is constant; the correlation coefficent is not defined.\n",
      "  warnings.warn(PearsonRConstantInputWarning())\n"
     ]
    },
    {
     "name": "stdout",
     "output_type": "stream",
     "text": [
      "Epoch 112 end: 1.021545171737671, TRAIN MSE is: 2722.432861328125\n",
      "Validation loss: 600477.2500000 - MSE score: 2873.0969238\n",
      "Validation pearson is: nan\n",
      "Validation r2_score is: -1.8576664715048041\n",
      "-------------------------\n"
     ]
    },
    {
     "name": "stderr",
     "output_type": "stream",
     "text": [
      "/home/mbosnjak/.conda/envs/pero/lib/python3.7/site-packages/scipy/stats/stats.py:3399: PearsonRConstantInputWarning: An input array is constant; the correlation coefficent is not defined.\n",
      "  warnings.warn(PearsonRConstantInputWarning())\n"
     ]
    },
    {
     "name": "stdout",
     "output_type": "stream",
     "text": [
      "Epoch 113 end: 1.0123615264892578, TRAIN MSE is: 2717.773193359375\n",
      "Validation loss: 599445.9375000 - MSE score: 2868.1621094\n",
      "Validation pearson is: nan\n",
      "Validation r2_score is: -1.8527585006295735\n",
      "-------------------------\n"
     ]
    },
    {
     "name": "stderr",
     "output_type": "stream",
     "text": [
      "/home/mbosnjak/.conda/envs/pero/lib/python3.7/site-packages/scipy/stats/stats.py:3399: PearsonRConstantInputWarning: An input array is constant; the correlation coefficent is not defined.\n",
      "  warnings.warn(PearsonRConstantInputWarning())\n"
     ]
    },
    {
     "name": "stdout",
     "output_type": "stream",
     "text": [
      "Epoch 114 end: 1.0213024616241455, TRAIN MSE is: 2713.10302734375\n",
      "Validation loss: 598420.6250000 - MSE score: 2863.2565918\n",
      "Validation pearson is: nan\n",
      "Validation r2_score is: -1.8478789124078232\n",
      "-------------------------\n"
     ]
    },
    {
     "name": "stderr",
     "output_type": "stream",
     "text": [
      "/home/mbosnjak/.conda/envs/pero/lib/python3.7/site-packages/scipy/stats/stats.py:3399: PearsonRConstantInputWarning: An input array is constant; the correlation coefficent is not defined.\n",
      "  warnings.warn(PearsonRConstantInputWarning())\n"
     ]
    },
    {
     "name": "stdout",
     "output_type": "stream",
     "text": [
      "Epoch 115 end: 1.0106627941131592, TRAIN MSE is: 2708.43115234375\n",
      "Validation loss: 597403.4375000 - MSE score: 2858.3896484\n",
      "Validation pearson is: nan\n",
      "Validation r2_score is: -1.84303812246546\n",
      "-------------------------\n"
     ]
    },
    {
     "name": "stderr",
     "output_type": "stream",
     "text": [
      "/home/mbosnjak/.conda/envs/pero/lib/python3.7/site-packages/scipy/stats/stats.py:3399: PearsonRConstantInputWarning: An input array is constant; the correlation coefficent is not defined.\n",
      "  warnings.warn(PearsonRConstantInputWarning())\n"
     ]
    },
    {
     "name": "stdout",
     "output_type": "stream",
     "text": [
      "Epoch 116 end: 1.0292952060699463, TRAIN MSE is: 2703.834228515625\n",
      "Validation loss: 596375.3750000 - MSE score: 2853.4707031\n",
      "Validation pearson is: nan\n",
      "Validation r2_score is: -1.8381455769510393\n",
      "-------------------------\n"
     ]
    },
    {
     "name": "stderr",
     "output_type": "stream",
     "text": [
      "/home/mbosnjak/.conda/envs/pero/lib/python3.7/site-packages/scipy/stats/stats.py:3399: PearsonRConstantInputWarning: An input array is constant; the correlation coefficent is not defined.\n",
      "  warnings.warn(PearsonRConstantInputWarning())\n"
     ]
    },
    {
     "name": "stdout",
     "output_type": "stream",
     "text": [
      "Epoch 117 end: 1.014281988143921, TRAIN MSE is: 2699.18896484375\n",
      "Validation loss: 595353.0000000 - MSE score: 2848.5788574\n",
      "Validation pearson is: nan\n",
      "Validation r2_score is: -1.8332802016299956\n",
      "-------------------------\n"
     ]
    },
    {
     "name": "stderr",
     "output_type": "stream",
     "text": [
      "/home/mbosnjak/.conda/envs/pero/lib/python3.7/site-packages/scipy/stats/stats.py:3399: PearsonRConstantInputWarning: An input array is constant; the correlation coefficent is not defined.\n",
      "  warnings.warn(PearsonRConstantInputWarning())\n"
     ]
    },
    {
     "name": "stdout",
     "output_type": "stream",
     "text": [
      "Epoch 118 end: 1.0212790966033936, TRAIN MSE is: 2694.545654296875\n",
      "Validation loss: 594338.1875000 - MSE score: 2843.7233887\n",
      "Validation pearson is: nan\n",
      "Validation r2_score is: -1.8284507483112544\n",
      "-------------------------\n"
     ]
    },
    {
     "name": "stderr",
     "output_type": "stream",
     "text": [
      "/home/mbosnjak/.conda/envs/pero/lib/python3.7/site-packages/scipy/stats/stats.py:3399: PearsonRConstantInputWarning: An input array is constant; the correlation coefficent is not defined.\n",
      "  warnings.warn(PearsonRConstantInputWarning())\n"
     ]
    },
    {
     "name": "stdout",
     "output_type": "stream",
     "text": [
      "Epoch 119 end: 1.0302836894989014, TRAIN MSE is: 2689.909423828125\n",
      "Validation loss: 593331.0000000 - MSE score: 2838.9042969\n",
      "Validation pearson is: nan\n",
      "Validation r2_score is: -1.8236574544921815\n",
      "-------------------------\n"
     ]
    },
    {
     "name": "stderr",
     "output_type": "stream",
     "text": [
      "/home/mbosnjak/.conda/envs/pero/lib/python3.7/site-packages/scipy/stats/stats.py:3399: PearsonRConstantInputWarning: An input array is constant; the correlation coefficent is not defined.\n",
      "  warnings.warn(PearsonRConstantInputWarning())\n"
     ]
    },
    {
     "name": "stdout",
     "output_type": "stream",
     "text": [
      "Epoch 120 end: 1.054255485534668, TRAIN MSE is: 2685.333251953125\n",
      "Validation loss: 592317.3125000 - MSE score: 2834.0541992\n",
      "Validation pearson is: nan\n",
      "Validation r2_score is: -1.8188333270960473\n",
      "-------------------------\n"
     ]
    },
    {
     "name": "stderr",
     "output_type": "stream",
     "text": [
      "/home/mbosnjak/.conda/envs/pero/lib/python3.7/site-packages/scipy/stats/stats.py:3399: PearsonRConstantInputWarning: An input array is constant; the correlation coefficent is not defined.\n",
      "  warnings.warn(PearsonRConstantInputWarning())\n"
     ]
    },
    {
     "name": "stdout",
     "output_type": "stream",
     "text": [
      "Epoch 121 end: 1.0299551486968994, TRAIN MSE is: 2680.770751953125\n",
      "Validation loss: 591293.2500000 - MSE score: 2829.1542969\n",
      "Validation pearson is: nan\n",
      "Validation r2_score is: -1.813959988849573\n",
      "-------------------------\n"
     ]
    },
    {
     "name": "stderr",
     "output_type": "stream",
     "text": [
      "/home/mbosnjak/.conda/envs/pero/lib/python3.7/site-packages/scipy/stats/stats.py:3399: PearsonRConstantInputWarning: An input array is constant; the correlation coefficent is not defined.\n",
      "  warnings.warn(PearsonRConstantInputWarning())\n"
     ]
    },
    {
     "name": "stdout",
     "output_type": "stream",
     "text": [
      "Epoch 122 end: 1.0415594577789307, TRAIN MSE is: 2676.0849609375\n",
      "Validation loss: 590299.5000000 - MSE score: 2824.3994141\n",
      "Validation pearson is: nan\n",
      "Validation r2_score is: -1.8092305407513258\n",
      "-------------------------\n"
     ]
    },
    {
     "name": "stderr",
     "output_type": "stream",
     "text": [
      "/home/mbosnjak/.conda/envs/pero/lib/python3.7/site-packages/scipy/stats/stats.py:3399: PearsonRConstantInputWarning: An input array is constant; the correlation coefficent is not defined.\n",
      "  warnings.warn(PearsonRConstantInputWarning())\n"
     ]
    },
    {
     "name": "stdout",
     "output_type": "stream",
     "text": [
      "Epoch 123 end: 1.059030532836914, TRAIN MSE is: 2671.61083984375\n",
      "Validation loss: 589274.6875000 - MSE score: 2819.4963379\n",
      "Validation pearson is: nan\n",
      "Validation r2_score is: -1.8043537883292613\n",
      "-------------------------\n"
     ]
    },
    {
     "name": "stderr",
     "output_type": "stream",
     "text": [
      "/home/mbosnjak/.conda/envs/pero/lib/python3.7/site-packages/scipy/stats/stats.py:3399: PearsonRConstantInputWarning: An input array is constant; the correlation coefficent is not defined.\n",
      "  warnings.warn(PearsonRConstantInputWarning())\n"
     ]
    },
    {
     "name": "stdout",
     "output_type": "stream",
     "text": [
      "Epoch 124 end: 1.0187819004058838, TRAIN MSE is: 2666.938720703125\n",
      "Validation loss: 588280.5625000 - MSE score: 2814.7397461\n",
      "Validation pearson is: nan\n",
      "Validation r2_score is: -1.7996226848724497\n",
      "-------------------------\n"
     ]
    },
    {
     "name": "stderr",
     "output_type": "stream",
     "text": [
      "/home/mbosnjak/.conda/envs/pero/lib/python3.7/site-packages/scipy/stats/stats.py:3399: PearsonRConstantInputWarning: An input array is constant; the correlation coefficent is not defined.\n",
      "  warnings.warn(PearsonRConstantInputWarning())\n"
     ]
    },
    {
     "name": "stdout",
     "output_type": "stream",
     "text": [
      "Epoch 125 end: 1.0188086032867432, TRAIN MSE is: 2662.4453125\n",
      "Validation loss: 587265.6250000 - MSE score: 2809.8833008\n",
      "Validation pearson is: nan\n",
      "Validation r2_score is: -1.7947923216361024\n",
      "-------------------------\n"
     ]
    },
    {
     "name": "stderr",
     "output_type": "stream",
     "text": [
      "/home/mbosnjak/.conda/envs/pero/lib/python3.7/site-packages/scipy/stats/stats.py:3399: PearsonRConstantInputWarning: An input array is constant; the correlation coefficent is not defined.\n",
      "  warnings.warn(PearsonRConstantInputWarning())\n"
     ]
    },
    {
     "name": "stdout",
     "output_type": "stream",
     "text": [
      "Epoch 126 end: 1.0255475044250488, TRAIN MSE is: 2657.8837890625\n",
      "Validation loss: 586253.3750000 - MSE score: 2805.0400391\n",
      "Validation pearson is: nan\n",
      "Validation r2_score is: -1.789975268812782\n",
      "-------------------------\n"
     ]
    },
    {
     "name": "stderr",
     "output_type": "stream",
     "text": [
      "/home/mbosnjak/.conda/envs/pero/lib/python3.7/site-packages/scipy/stats/stats.py:3399: PearsonRConstantInputWarning: An input array is constant; the correlation coefficent is not defined.\n",
      "  warnings.warn(PearsonRConstantInputWarning())\n"
     ]
    },
    {
     "name": "stdout",
     "output_type": "stream",
     "text": [
      "Epoch 127 end: 1.0251209735870361, TRAIN MSE is: 2653.337890625\n",
      "Validation loss: 585242.1250000 - MSE score: 2800.2016602\n",
      "Validation pearson is: nan\n",
      "Validation r2_score is: -1.785162479076564\n",
      "-------------------------\n"
     ]
    },
    {
     "name": "stderr",
     "output_type": "stream",
     "text": [
      "/home/mbosnjak/.conda/envs/pero/lib/python3.7/site-packages/scipy/stats/stats.py:3399: PearsonRConstantInputWarning: An input array is constant; the correlation coefficent is not defined.\n",
      "  warnings.warn(PearsonRConstantInputWarning())\n"
     ]
    },
    {
     "name": "stdout",
     "output_type": "stream",
     "text": [
      "Epoch 128 end: 0.9952335357666016, TRAIN MSE is: 2648.768798828125\n",
      "Validation loss: 584240.2500000 - MSE score: 2795.4082031\n",
      "Validation pearson is: nan\n",
      "Validation r2_score is: -1.780394831280089\n",
      "-------------------------\n"
     ]
    },
    {
     "name": "stderr",
     "output_type": "stream",
     "text": [
      "/home/mbosnjak/.conda/envs/pero/lib/python3.7/site-packages/scipy/stats/stats.py:3399: PearsonRConstantInputWarning: An input array is constant; the correlation coefficent is not defined.\n",
      "  warnings.warn(PearsonRConstantInputWarning())\n"
     ]
    },
    {
     "name": "stdout",
     "output_type": "stream",
     "text": [
      "Epoch 129 end: 1.026278018951416, TRAIN MSE is: 2644.182373046875\n",
      "Validation loss: 583255.1875000 - MSE score: 2790.6945801\n",
      "Validation pearson is: nan\n",
      "Validation r2_score is: -1.7757068262559303\n",
      "-------------------------\n"
     ]
    },
    {
     "name": "stderr",
     "output_type": "stream",
     "text": [
      "/home/mbosnjak/.conda/envs/pero/lib/python3.7/site-packages/scipy/stats/stats.py:3399: PearsonRConstantInputWarning: An input array is constant; the correlation coefficent is not defined.\n",
      "  warnings.warn(PearsonRConstantInputWarning())\n"
     ]
    },
    {
     "name": "stdout",
     "output_type": "stream",
     "text": [
      "Epoch 130 end: 1.0469748973846436, TRAIN MSE is: 2639.731201171875\n",
      "Validation loss: 582250.0000000 - MSE score: 2785.8852539\n",
      "Validation pearson is: nan\n",
      "Validation r2_score is: -1.7709229959453578\n",
      "-------------------------\n"
     ]
    },
    {
     "name": "stderr",
     "output_type": "stream",
     "text": [
      "/home/mbosnjak/.conda/envs/pero/lib/python3.7/site-packages/scipy/stats/stats.py:3399: PearsonRConstantInputWarning: An input array is constant; the correlation coefficent is not defined.\n",
      "  warnings.warn(PearsonRConstantInputWarning())\n"
     ]
    },
    {
     "name": "stdout",
     "output_type": "stream",
     "text": [
      "Epoch 131 end: 1.0118677616119385, TRAIN MSE is: 2635.177734375\n",
      "Validation loss: 581255.8125000 - MSE score: 2781.1281738\n",
      "Validation pearson is: nan\n",
      "Validation r2_score is: -1.7661918131518046\n",
      "-------------------------\n"
     ]
    },
    {
     "name": "stderr",
     "output_type": "stream",
     "text": [
      "/home/mbosnjak/.conda/envs/pero/lib/python3.7/site-packages/scipy/stats/stats.py:3399: PearsonRConstantInputWarning: An input array is constant; the correlation coefficent is not defined.\n",
      "  warnings.warn(PearsonRConstantInputWarning())\n"
     ]
    },
    {
     "name": "stdout",
     "output_type": "stream",
     "text": [
      "Epoch 132 end: 1.0106472969055176, TRAIN MSE is: 2630.654052734375\n",
      "Validation loss: 580267.2500000 - MSE score: 2776.3984375\n",
      "Validation pearson is: nan\n",
      "Validation r2_score is: -1.7614871685802482\n",
      "-------------------------\n"
     ]
    },
    {
     "name": "stderr",
     "output_type": "stream",
     "text": [
      "/home/mbosnjak/.conda/envs/pero/lib/python3.7/site-packages/scipy/stats/stats.py:3399: PearsonRConstantInputWarning: An input array is constant; the correlation coefficent is not defined.\n",
      "  warnings.warn(PearsonRConstantInputWarning())\n"
     ]
    },
    {
     "name": "stdout",
     "output_type": "stream",
     "text": [
      "Epoch 133 end: 1.0231995582580566, TRAIN MSE is: 2626.169677734375\n",
      "Validation loss: 579274.6250000 - MSE score: 2771.6489258\n",
      "Validation pearson is: nan\n",
      "Validation r2_score is: -1.7567632822668346\n",
      "-------------------------\n"
     ]
    },
    {
     "name": "stderr",
     "output_type": "stream",
     "text": [
      "/home/mbosnjak/.conda/envs/pero/lib/python3.7/site-packages/scipy/stats/stats.py:3399: PearsonRConstantInputWarning: An input array is constant; the correlation coefficent is not defined.\n",
      "  warnings.warn(PearsonRConstantInputWarning())\n"
     ]
    },
    {
     "name": "stdout",
     "output_type": "stream",
     "text": [
      "Epoch 134 end: 1.025871992111206, TRAIN MSE is: 2621.67626953125\n",
      "Validation loss: 578283.2500000 - MSE score: 2766.9055176\n",
      "Validation pearson is: nan\n",
      "Validation r2_score is: -1.7520454353656962\n",
      "-------------------------\n"
     ]
    },
    {
     "name": "stderr",
     "output_type": "stream",
     "text": [
      "/home/mbosnjak/.conda/envs/pero/lib/python3.7/site-packages/scipy/stats/stats.py:3399: PearsonRConstantInputWarning: An input array is constant; the correlation coefficent is not defined.\n",
      "  warnings.warn(PearsonRConstantInputWarning())\n"
     ]
    },
    {
     "name": "stdout",
     "output_type": "stream",
     "text": [
      "Epoch 135 end: 1.000643014907837, TRAIN MSE is: 2617.200439453125\n",
      "Validation loss: 577290.2500000 - MSE score: 2762.1542969\n",
      "Validation pearson is: nan\n",
      "Validation r2_score is: -1.747319708130668\n",
      "-------------------------\n"
     ]
    },
    {
     "name": "stderr",
     "output_type": "stream",
     "text": [
      "/home/mbosnjak/.conda/envs/pero/lib/python3.7/site-packages/scipy/stats/stats.py:3399: PearsonRConstantInputWarning: An input array is constant; the correlation coefficent is not defined.\n",
      "  warnings.warn(PearsonRConstantInputWarning())\n"
     ]
    },
    {
     "name": "stdout",
     "output_type": "stream",
     "text": [
      "Epoch 136 end: 1.011110544204712, TRAIN MSE is: 2612.69921875\n",
      "Validation loss: 576305.1875000 - MSE score: 2757.4414062\n",
      "Validation pearson is: nan\n",
      "Validation r2_score is: -1.7426319854185564\n",
      "-------------------------\n"
     ]
    },
    {
     "name": "stderr",
     "output_type": "stream",
     "text": [
      "/home/mbosnjak/.conda/envs/pero/lib/python3.7/site-packages/scipy/stats/stats.py:3399: PearsonRConstantInputWarning: An input array is constant; the correlation coefficent is not defined.\n",
      "  warnings.warn(PearsonRConstantInputWarning())\n"
     ]
    },
    {
     "name": "stdout",
     "output_type": "stream",
     "text": [
      "Epoch 137 end: 1.0191218852996826, TRAIN MSE is: 2608.273193359375\n",
      "Validation loss: 575309.3125000 - MSE score: 2752.6760254\n",
      "Validation pearson is: nan\n",
      "Validation r2_score is: -1.7378923781723272\n",
      "-------------------------\n"
     ]
    },
    {
     "name": "stderr",
     "output_type": "stream",
     "text": [
      "/home/mbosnjak/.conda/envs/pero/lib/python3.7/site-packages/scipy/stats/stats.py:3399: PearsonRConstantInputWarning: An input array is constant; the correlation coefficent is not defined.\n",
      "  warnings.warn(PearsonRConstantInputWarning())\n"
     ]
    },
    {
     "name": "stdout",
     "output_type": "stream",
     "text": [
      "Epoch 138 end: 1.0178487300872803, TRAIN MSE is: 2603.769775390625\n",
      "Validation loss: 574326.8125000 - MSE score: 2747.9755859\n",
      "Validation pearson is: nan\n",
      "Validation r2_score is: -1.7332168233347391\n",
      "-------------------------\n"
     ]
    },
    {
     "name": "stderr",
     "output_type": "stream",
     "text": [
      "/home/mbosnjak/.conda/envs/pero/lib/python3.7/site-packages/scipy/stats/stats.py:3399: PearsonRConstantInputWarning: An input array is constant; the correlation coefficent is not defined.\n",
      "  warnings.warn(PearsonRConstantInputWarning())\n"
     ]
    },
    {
     "name": "stdout",
     "output_type": "stream",
     "text": [
      "Epoch 139 end: 1.0082638263702393, TRAIN MSE is: 2599.29931640625\n",
      "Validation loss: 573350.5000000 - MSE score: 2743.3037109\n",
      "Validation pearson is: nan\n",
      "Validation r2_score is: -1.7285704880752877\n",
      "-------------------------\n"
     ]
    },
    {
     "name": "stderr",
     "output_type": "stream",
     "text": [
      "/home/mbosnjak/.conda/envs/pero/lib/python3.7/site-packages/scipy/stats/stats.py:3399: PearsonRConstantInputWarning: An input array is constant; the correlation coefficent is not defined.\n",
      "  warnings.warn(PearsonRConstantInputWarning())\n"
     ]
    },
    {
     "name": "stdout",
     "output_type": "stream",
     "text": [
      "Epoch 140 end: 1.0033690929412842, TRAIN MSE is: 2594.882568359375\n",
      "Validation loss: 572366.9375000 - MSE score: 2738.5974121\n",
      "Validation pearson is: nan\n",
      "Validation r2_score is: -1.7238895739977673\n",
      "-------------------------\n"
     ]
    },
    {
     "name": "stderr",
     "output_type": "stream",
     "text": [
      "/home/mbosnjak/.conda/envs/pero/lib/python3.7/site-packages/scipy/stats/stats.py:3399: PearsonRConstantInputWarning: An input array is constant; the correlation coefficent is not defined.\n",
      "  warnings.warn(PearsonRConstantInputWarning())\n"
     ]
    },
    {
     "name": "stdout",
     "output_type": "stream",
     "text": [
      "Epoch 141 end: 1.0218851566314697, TRAIN MSE is: 2590.420166015625\n",
      "Validation loss: 571391.5625000 - MSE score: 2733.9311523\n",
      "Validation pearson is: nan\n",
      "Validation r2_score is: -1.7192480715954952\n",
      "-------------------------\n"
     ]
    },
    {
     "name": "stderr",
     "output_type": "stream",
     "text": [
      "/home/mbosnjak/.conda/envs/pero/lib/python3.7/site-packages/scipy/stats/stats.py:3399: PearsonRConstantInputWarning: An input array is constant; the correlation coefficent is not defined.\n",
      "  warnings.warn(PearsonRConstantInputWarning())\n"
     ]
    },
    {
     "name": "stdout",
     "output_type": "stream",
     "text": [
      "Epoch 142 end: 1.0093414783477783, TRAIN MSE is: 2586.005615234375\n",
      "Validation loss: 570413.2500000 - MSE score: 2729.2500000\n",
      "Validation pearson is: nan\n",
      "Validation r2_score is: -1.7145921249918423\n",
      "-------------------------\n"
     ]
    },
    {
     "name": "stderr",
     "output_type": "stream",
     "text": [
      "/home/mbosnjak/.conda/envs/pero/lib/python3.7/site-packages/scipy/stats/stats.py:3399: PearsonRConstantInputWarning: An input array is constant; the correlation coefficent is not defined.\n",
      "  warnings.warn(PearsonRConstantInputWarning())\n"
     ]
    },
    {
     "name": "stdout",
     "output_type": "stream",
     "text": [
      "Epoch 143 end: 1.032137155532837, TRAIN MSE is: 2581.55908203125\n",
      "Validation loss: 569443.0000000 - MSE score: 2724.6074219\n",
      "Validation pearson is: nan\n",
      "Validation r2_score is: -1.7099744902456555\n",
      "-------------------------\n"
     ]
    },
    {
     "name": "stderr",
     "output_type": "stream",
     "text": [
      "/home/mbosnjak/.conda/envs/pero/lib/python3.7/site-packages/scipy/stats/stats.py:3399: PearsonRConstantInputWarning: An input array is constant; the correlation coefficent is not defined.\n",
      "  warnings.warn(PearsonRConstantInputWarning())\n"
     ]
    },
    {
     "name": "stdout",
     "output_type": "stream",
     "text": [
      "Epoch 144 end: 1.0039761066436768, TRAIN MSE is: 2577.200439453125\n",
      "Validation loss: 568458.1875000 - MSE score: 2719.8957520\n",
      "Validation pearson is: nan\n",
      "Validation r2_score is: -1.705287874589898\n",
      "-------------------------\n"
     ]
    },
    {
     "name": "stderr",
     "output_type": "stream",
     "text": [
      "/home/mbosnjak/.conda/envs/pero/lib/python3.7/site-packages/scipy/stats/stats.py:3399: PearsonRConstantInputWarning: An input array is constant; the correlation coefficent is not defined.\n",
      "  warnings.warn(PearsonRConstantInputWarning())\n"
     ]
    },
    {
     "name": "stdout",
     "output_type": "stream",
     "text": [
      "Epoch 145 end: 1.0133581161499023, TRAIN MSE is: 2572.710693359375\n",
      "Validation loss: 567499.3750000 - MSE score: 2715.3081055\n",
      "Validation pearson is: nan\n",
      "Validation r2_score is: -1.7007252679226008\n",
      "-------------------------\n"
     ]
    },
    {
     "name": "stderr",
     "output_type": "stream",
     "text": [
      "/home/mbosnjak/.conda/envs/pero/lib/python3.7/site-packages/scipy/stats/stats.py:3399: PearsonRConstantInputWarning: An input array is constant; the correlation coefficent is not defined.\n",
      "  warnings.warn(PearsonRConstantInputWarning())\n"
     ]
    },
    {
     "name": "stdout",
     "output_type": "stream",
     "text": [
      "Epoch 146 end: 1.015347957611084, TRAIN MSE is: 2568.369140625\n",
      "Validation loss: 566524.8750000 - MSE score: 2710.6452637\n",
      "Validation pearson is: nan\n",
      "Validation r2_score is: -1.696087361026322\n",
      "-------------------------\n"
     ]
    },
    {
     "name": "stderr",
     "output_type": "stream",
     "text": [
      "/home/mbosnjak/.conda/envs/pero/lib/python3.7/site-packages/scipy/stats/stats.py:3399: PearsonRConstantInputWarning: An input array is constant; the correlation coefficent is not defined.\n",
      "  warnings.warn(PearsonRConstantInputWarning())\n"
     ]
    },
    {
     "name": "stdout",
     "output_type": "stream",
     "text": [
      "Epoch 147 end: 1.0113539695739746, TRAIN MSE is: 2563.9794921875\n",
      "Validation loss: 565551.7500000 - MSE score: 2705.9892578\n",
      "Validation pearson is: nan\n",
      "Validation r2_score is: -1.6914566527790442\n",
      "-------------------------\n"
     ]
    },
    {
     "name": "stderr",
     "output_type": "stream",
     "text": [
      "/home/mbosnjak/.conda/envs/pero/lib/python3.7/site-packages/scipy/stats/stats.py:3399: PearsonRConstantInputWarning: An input array is constant; the correlation coefficent is not defined.\n",
      "  warnings.warn(PearsonRConstantInputWarning())\n"
     ]
    },
    {
     "name": "stdout",
     "output_type": "stream",
     "text": [
      "Epoch 148 end: 1.0206522941589355, TRAIN MSE is: 2559.60986328125\n",
      "Validation loss: 564577.0625000 - MSE score: 2701.3256836\n",
      "Validation pearson is: nan\n",
      "Validation r2_score is: -1.6868178092599613\n",
      "-------------------------\n"
     ]
    },
    {
     "name": "stderr",
     "output_type": "stream",
     "text": [
      "/home/mbosnjak/.conda/envs/pero/lib/python3.7/site-packages/scipy/stats/stats.py:3399: PearsonRConstantInputWarning: An input array is constant; the correlation coefficent is not defined.\n",
      "  warnings.warn(PearsonRConstantInputWarning())\n"
     ]
    },
    {
     "name": "stdout",
     "output_type": "stream",
     "text": [
      "Epoch 149 end: 1.0470499992370605, TRAIN MSE is: 2555.173583984375\n",
      "Validation loss: 563622.0000000 - MSE score: 2696.7558594\n",
      "Validation pearson is: nan\n",
      "Validation r2_score is: -1.682272722660271\n",
      "-------------------------\n"
     ]
    },
    {
     "name": "stderr",
     "output_type": "stream",
     "text": [
      "/home/mbosnjak/.conda/envs/pero/lib/python3.7/site-packages/scipy/stats/stats.py:3399: PearsonRConstantInputWarning: An input array is constant; the correlation coefficent is not defined.\n",
      "  warnings.warn(PearsonRConstantInputWarning())\n"
     ]
    },
    {
     "name": "stdout",
     "output_type": "stream",
     "text": [
      "Epoch 150 end: 0.9965841770172119, TRAIN MSE is: 2550.87451171875\n",
      "Validation loss: 562649.2500000 - MSE score: 2692.1015625\n",
      "Validation pearson is: nan\n",
      "Validation r2_score is: -1.6776433551484367\n",
      "-------------------------\n"
     ]
    },
    {
     "name": "stderr",
     "output_type": "stream",
     "text": [
      "/home/mbosnjak/.conda/envs/pero/lib/python3.7/site-packages/scipy/stats/stats.py:3399: PearsonRConstantInputWarning: An input array is constant; the correlation coefficent is not defined.\n",
      "  warnings.warn(PearsonRConstantInputWarning())\n"
     ]
    },
    {
     "name": "stdout",
     "output_type": "stream",
     "text": [
      "Epoch 151 end: 1.0283148288726807, TRAIN MSE is: 2546.515380859375\n",
      "Validation loss: 561679.6250000 - MSE score: 2687.4624023\n",
      "Validation pearson is: nan\n",
      "Validation r2_score is: -1.6730290810209971\n",
      "-------------------------\n"
     ]
    },
    {
     "name": "stderr",
     "output_type": "stream",
     "text": [
      "/home/mbosnjak/.conda/envs/pero/lib/python3.7/site-packages/scipy/stats/stats.py:3399: PearsonRConstantInputWarning: An input array is constant; the correlation coefficent is not defined.\n",
      "  warnings.warn(PearsonRConstantInputWarning())\n"
     ]
    },
    {
     "name": "stdout",
     "output_type": "stream",
     "text": [
      "Epoch 152 end: 1.0100889205932617, TRAIN MSE is: 2542.079345703125\n",
      "Validation loss: 560736.2500000 - MSE score: 2682.9484863\n",
      "Validation pearson is: nan\n",
      "Validation r2_score is: -1.66853940623463\n",
      "-------------------------\n"
     ]
    },
    {
     "name": "stderr",
     "output_type": "stream",
     "text": [
      "/home/mbosnjak/.conda/envs/pero/lib/python3.7/site-packages/scipy/stats/stats.py:3399: PearsonRConstantInputWarning: An input array is constant; the correlation coefficent is not defined.\n",
      "  warnings.warn(PearsonRConstantInputWarning())\n"
     ]
    },
    {
     "name": "stdout",
     "output_type": "stream",
     "text": [
      "Epoch 153 end: 1.0307796001434326, TRAIN MSE is: 2537.773193359375\n",
      "Validation loss: 559784.9375000 - MSE score: 2678.3964844\n",
      "Validation pearson is: nan\n",
      "Validation r2_score is: -1.6640120786176933\n",
      "-------------------------\n"
     ]
    },
    {
     "name": "stderr",
     "output_type": "stream",
     "text": [
      "/home/mbosnjak/.conda/envs/pero/lib/python3.7/site-packages/scipy/stats/stats.py:3399: PearsonRConstantInputWarning: An input array is constant; the correlation coefficent is not defined.\n",
      "  warnings.warn(PearsonRConstantInputWarning())\n"
     ]
    },
    {
     "name": "stdout",
     "output_type": "stream",
     "text": [
      "Epoch 154 end: 1.0268950462341309, TRAIN MSE is: 2533.4716796875\n",
      "Validation loss: 558826.3125000 - MSE score: 2673.8103027\n",
      "Validation pearson is: nan\n",
      "Validation r2_score is: -1.6594500592017618\n",
      "-------------------------\n"
     ]
    },
    {
     "name": "stderr",
     "output_type": "stream",
     "text": [
      "/home/mbosnjak/.conda/envs/pero/lib/python3.7/site-packages/scipy/stats/stats.py:3399: PearsonRConstantInputWarning: An input array is constant; the correlation coefficent is not defined.\n",
      "  warnings.warn(PearsonRConstantInputWarning())\n"
     ]
    },
    {
     "name": "stdout",
     "output_type": "stream",
     "text": [
      "Epoch 155 end: 1.0182430744171143, TRAIN MSE is: 2529.156005859375\n",
      "Validation loss: 557866.5625000 - MSE score: 2669.2177734\n",
      "Validation pearson is: nan\n",
      "Validation r2_score is: -1.654882549185769\n",
      "-------------------------\n"
     ]
    },
    {
     "name": "stderr",
     "output_type": "stream",
     "text": [
      "/home/mbosnjak/.conda/envs/pero/lib/python3.7/site-packages/scipy/stats/stats.py:3399: PearsonRConstantInputWarning: An input array is constant; the correlation coefficent is not defined.\n",
      "  warnings.warn(PearsonRConstantInputWarning())\n"
     ]
    },
    {
     "name": "stdout",
     "output_type": "stream",
     "text": [
      "Epoch 156 end: 0.9942636489868164, TRAIN MSE is: 2524.82421875\n",
      "Validation loss: 556913.5000000 - MSE score: 2664.6579590\n",
      "Validation pearson is: nan\n",
      "Validation r2_score is: -1.650346824014885\n",
      "-------------------------\n"
     ]
    },
    {
     "name": "stderr",
     "output_type": "stream",
     "text": [
      "/home/mbosnjak/.conda/envs/pero/lib/python3.7/site-packages/scipy/stats/stats.py:3399: PearsonRConstantInputWarning: An input array is constant; the correlation coefficent is not defined.\n",
      "  warnings.warn(PearsonRConstantInputWarning())\n"
     ]
    },
    {
     "name": "stdout",
     "output_type": "stream",
     "text": [
      "Epoch 157 end: 1.023695468902588, TRAIN MSE is: 2520.515380859375\n",
      "Validation loss: 555963.3750000 - MSE score: 2660.1118164\n",
      "Validation pearson is: nan\n",
      "Validation r2_score is: -1.6458252337411432\n",
      "-------------------------\n"
     ]
    },
    {
     "name": "stderr",
     "output_type": "stream",
     "text": [
      "/home/mbosnjak/.conda/envs/pero/lib/python3.7/site-packages/scipy/stats/stats.py:3399: PearsonRConstantInputWarning: An input array is constant; the correlation coefficent is not defined.\n",
      "  warnings.warn(PearsonRConstantInputWarning())\n"
     ]
    },
    {
     "name": "stdout",
     "output_type": "stream",
     "text": [
      "Epoch 158 end: 1.019723892211914, TRAIN MSE is: 2516.201171875\n",
      "Validation loss: 555019.7500000 - MSE score: 2655.5969238\n",
      "Validation pearson is: nan\n",
      "Validation r2_score is: -1.6413343836870808\n",
      "-------------------------\n"
     ]
    },
    {
     "name": "stderr",
     "output_type": "stream",
     "text": [
      "/home/mbosnjak/.conda/envs/pero/lib/python3.7/site-packages/scipy/stats/stats.py:3399: PearsonRConstantInputWarning: An input array is constant; the correlation coefficent is not defined.\n",
      "  warnings.warn(PearsonRConstantInputWarning())\n"
     ]
    },
    {
     "name": "stdout",
     "output_type": "stream",
     "text": [
      "Epoch 159 end: 1.0025243759155273, TRAIN MSE is: 2511.95703125\n",
      "Validation loss: 554064.8125000 - MSE score: 2651.0278320\n",
      "Validation pearson is: nan\n",
      "Validation r2_score is: -1.6367900566108893\n",
      "-------------------------\n"
     ]
    },
    {
     "name": "stderr",
     "output_type": "stream",
     "text": [
      "/home/mbosnjak/.conda/envs/pero/lib/python3.7/site-packages/scipy/stats/stats.py:3399: PearsonRConstantInputWarning: An input array is constant; the correlation coefficent is not defined.\n",
      "  warnings.warn(PearsonRConstantInputWarning())\n"
     ]
    },
    {
     "name": "stdout",
     "output_type": "stream",
     "text": [
      "Epoch 160 end: 1.0534117221832275, TRAIN MSE is: 2507.69140625\n",
      "Validation loss: 553108.3750000 - MSE score: 2646.4516602\n",
      "Validation pearson is: nan\n",
      "Validation r2_score is: -1.6322385015426208\n",
      "-------------------------\n"
     ]
    },
    {
     "name": "stderr",
     "output_type": "stream",
     "text": [
      "/home/mbosnjak/.conda/envs/pero/lib/python3.7/site-packages/scipy/stats/stats.py:3399: PearsonRConstantInputWarning: An input array is constant; the correlation coefficent is not defined.\n",
      "  warnings.warn(PearsonRConstantInputWarning())\n"
     ]
    },
    {
     "name": "stdout",
     "output_type": "stream",
     "text": [
      "Epoch 161 end: 1.0987212657928467, TRAIN MSE is: 2503.364990234375\n",
      "Validation loss: 552169.3750000 - MSE score: 2641.9587402\n",
      "Validation pearson is: nan\n",
      "Validation r2_score is: -1.6277699031987765\n",
      "-------------------------\n"
     ]
    },
    {
     "name": "stderr",
     "output_type": "stream",
     "text": [
      "/home/mbosnjak/.conda/envs/pero/lib/python3.7/site-packages/scipy/stats/stats.py:3399: PearsonRConstantInputWarning: An input array is constant; the correlation coefficent is not defined.\n",
      "  warnings.warn(PearsonRConstantInputWarning())\n"
     ]
    },
    {
     "name": "stdout",
     "output_type": "stream",
     "text": [
      "Epoch 162 end: 1.0394339561462402, TRAIN MSE is: 2499.1123046875\n",
      "Validation loss: 551229.4375000 - MSE score: 2637.4614258\n",
      "Validation pearson is: nan\n",
      "Validation r2_score is: -1.6232966619688676\n",
      "-------------------------\n"
     ]
    },
    {
     "name": "stderr",
     "output_type": "stream",
     "text": [
      "/home/mbosnjak/.conda/envs/pero/lib/python3.7/site-packages/scipy/stats/stats.py:3399: PearsonRConstantInputWarning: An input array is constant; the correlation coefficent is not defined.\n",
      "  warnings.warn(PearsonRConstantInputWarning())\n"
     ]
    },
    {
     "name": "stdout",
     "output_type": "stream",
     "text": [
      "Epoch 163 end: 1.0822973251342773, TRAIN MSE is: 2494.84521484375\n",
      "Validation loss: 550295.6875000 - MSE score: 2632.9934082\n",
      "Validation pearson is: nan\n",
      "Validation r2_score is: -1.618852718271365\n",
      "-------------------------\n"
     ]
    },
    {
     "name": "stderr",
     "output_type": "stream",
     "text": [
      "/home/mbosnjak/.conda/envs/pero/lib/python3.7/site-packages/scipy/stats/stats.py:3399: PearsonRConstantInputWarning: An input array is constant; the correlation coefficent is not defined.\n",
      "  warnings.warn(PearsonRConstantInputWarning())\n"
     ]
    },
    {
     "name": "stdout",
     "output_type": "stream",
     "text": [
      "Epoch 164 end: 1.022446632385254, TRAIN MSE is: 2490.614501953125\n",
      "Validation loss: 549360.3125000 - MSE score: 2628.5183105\n",
      "Validation pearson is: nan\n",
      "Validation r2_score is: -1.614401384301166\n",
      "-------------------------\n"
     ]
    },
    {
     "name": "stderr",
     "output_type": "stream",
     "text": [
      "/home/mbosnjak/.conda/envs/pero/lib/python3.7/site-packages/scipy/stats/stats.py:3399: PearsonRConstantInputWarning: An input array is constant; the correlation coefficent is not defined.\n",
      "  warnings.warn(PearsonRConstantInputWarning())\n"
     ]
    },
    {
     "name": "stdout",
     "output_type": "stream",
     "text": [
      "Epoch 165 end: 1.0038669109344482, TRAIN MSE is: 2486.392822265625\n",
      "Validation loss: 548422.6875000 - MSE score: 2624.0319824\n",
      "Validation pearson is: nan\n",
      "Validation r2_score is: -1.6099391136560262\n",
      "-------------------------\n"
     ]
    },
    {
     "name": "stderr",
     "output_type": "stream",
     "text": [
      "/home/mbosnjak/.conda/envs/pero/lib/python3.7/site-packages/scipy/stats/stats.py:3399: PearsonRConstantInputWarning: An input array is constant; the correlation coefficent is not defined.\n",
      "  warnings.warn(PearsonRConstantInputWarning())\n"
     ]
    },
    {
     "name": "stdout",
     "output_type": "stream",
     "text": [
      "Epoch 166 end: 1.0288562774658203, TRAIN MSE is: 2482.171630859375\n",
      "Validation loss: 547485.8750000 - MSE score: 2619.5500488\n",
      "Validation pearson is: nan\n",
      "Validation r2_score is: -1.605481202519596\n",
      "-------------------------\n"
     ]
    },
    {
     "name": "stderr",
     "output_type": "stream",
     "text": [
      "/home/mbosnjak/.conda/envs/pero/lib/python3.7/site-packages/scipy/stats/stats.py:3399: PearsonRConstantInputWarning: An input array is constant; the correlation coefficent is not defined.\n",
      "  warnings.warn(PearsonRConstantInputWarning())\n"
     ]
    },
    {
     "name": "stdout",
     "output_type": "stream",
     "text": [
      "Epoch 167 end: 1.0380842685699463, TRAIN MSE is: 2477.93798828125\n",
      "Validation loss: 546555.5625000 - MSE score: 2615.0986328\n",
      "Validation pearson is: nan\n",
      "Validation r2_score is: -1.6010537553608826\n",
      "-------------------------\n"
     ]
    },
    {
     "name": "stderr",
     "output_type": "stream",
     "text": [
      "/home/mbosnjak/.conda/envs/pero/lib/python3.7/site-packages/scipy/stats/stats.py:3399: PearsonRConstantInputWarning: An input array is constant; the correlation coefficent is not defined.\n",
      "  warnings.warn(PearsonRConstantInputWarning())\n"
     ]
    },
    {
     "name": "stdout",
     "output_type": "stream",
     "text": [
      "Epoch 168 end: 1.010908603668213, TRAIN MSE is: 2473.739013671875\n",
      "Validation loss: 545625.2500000 - MSE score: 2610.6474609\n",
      "Validation pearson is: nan\n",
      "Validation r2_score is: -1.5966263885205088\n",
      "-------------------------\n"
     ]
    },
    {
     "name": "stderr",
     "output_type": "stream",
     "text": [
      "/home/mbosnjak/.conda/envs/pero/lib/python3.7/site-packages/scipy/stats/stats.py:3399: PearsonRConstantInputWarning: An input array is constant; the correlation coefficent is not defined.\n",
      "  warnings.warn(PearsonRConstantInputWarning())\n"
     ]
    },
    {
     "name": "stdout",
     "output_type": "stream",
     "text": [
      "Epoch 169 end: 1.0194900035858154, TRAIN MSE is: 2469.518798828125\n",
      "Validation loss: 544703.3750000 - MSE score: 2606.2365723\n",
      "Validation pearson is: nan\n",
      "Validation r2_score is: -1.592239279230908\n",
      "-------------------------\n"
     ]
    },
    {
     "name": "stderr",
     "output_type": "stream",
     "text": [
      "/home/mbosnjak/.conda/envs/pero/lib/python3.7/site-packages/scipy/stats/stats.py:3399: PearsonRConstantInputWarning: An input array is constant; the correlation coefficent is not defined.\n",
      "  warnings.warn(PearsonRConstantInputWarning())\n"
     ]
    },
    {
     "name": "stdout",
     "output_type": "stream",
     "text": [
      "Epoch 170 end: 1.0145883560180664, TRAIN MSE is: 2465.3896484375\n",
      "Validation loss: 543765.6875000 - MSE score: 2601.7500000\n",
      "Validation pearson is: nan\n",
      "Validation r2_score is: -1.5877767995373135\n",
      "-------------------------\n"
     ]
    },
    {
     "name": "stderr",
     "output_type": "stream",
     "text": [
      "/home/mbosnjak/.conda/envs/pero/lib/python3.7/site-packages/scipy/stats/stats.py:3399: PearsonRConstantInputWarning: An input array is constant; the correlation coefficent is not defined.\n",
      "  warnings.warn(PearsonRConstantInputWarning())\n"
     ]
    },
    {
     "name": "stdout",
     "output_type": "stream",
     "text": [
      "Epoch 171 end: 1.0104584693908691, TRAIN MSE is: 2461.17626953125\n",
      "Validation loss: 542840.0000000 - MSE score: 2597.3205566\n",
      "Validation pearson is: nan\n",
      "Validation r2_score is: -1.5833713547741657\n",
      "-------------------------\n"
     ]
    },
    {
     "name": "stderr",
     "output_type": "stream",
     "text": [
      "/home/mbosnjak/.conda/envs/pero/lib/python3.7/site-packages/scipy/stats/stats.py:3399: PearsonRConstantInputWarning: An input array is constant; the correlation coefficent is not defined.\n",
      "  warnings.warn(PearsonRConstantInputWarning())\n"
     ]
    },
    {
     "name": "stdout",
     "output_type": "stream",
     "text": [
      "Epoch 172 end: 1.0247747898101807, TRAIN MSE is: 2456.9833984375\n",
      "Validation loss: 541922.8125000 - MSE score: 2592.9323730\n",
      "Validation pearson is: nan\n",
      "Validation r2_score is: -1.5790065104280506\n",
      "-------------------------\n"
     ]
    },
    {
     "name": "stderr",
     "output_type": "stream",
     "text": [
      "/home/mbosnjak/.conda/envs/pero/lib/python3.7/site-packages/scipy/stats/stats.py:3399: PearsonRConstantInputWarning: An input array is constant; the correlation coefficent is not defined.\n",
      "  warnings.warn(PearsonRConstantInputWarning())\n"
     ]
    },
    {
     "name": "stdout",
     "output_type": "stream",
     "text": [
      "Epoch 173 end: 1.0185909271240234, TRAIN MSE is: 2452.826416015625\n",
      "Validation loss: 541006.8125000 - MSE score: 2588.5495605\n",
      "Validation pearson is: nan\n",
      "Validation r2_score is: -1.5746473073753537\n",
      "-------------------------\n"
     ]
    },
    {
     "name": "stderr",
     "output_type": "stream",
     "text": [
      "/home/mbosnjak/.conda/envs/pero/lib/python3.7/site-packages/scipy/stats/stats.py:3399: PearsonRConstantInputWarning: An input array is constant; the correlation coefficent is not defined.\n",
      "  warnings.warn(PearsonRConstantInputWarning())\n"
     ]
    },
    {
     "name": "stdout",
     "output_type": "stream",
     "text": [
      "Epoch 174 end: 1.017397403717041, TRAIN MSE is: 2448.683349609375\n",
      "Validation loss: 540090.1875000 - MSE score: 2584.1638184\n",
      "Validation pearson is: nan\n",
      "Validation r2_score is: -1.5702849592500128\n",
      "-------------------------\n"
     ]
    },
    {
     "name": "stderr",
     "output_type": "stream",
     "text": [
      "/home/mbosnjak/.conda/envs/pero/lib/python3.7/site-packages/scipy/stats/stats.py:3399: PearsonRConstantInputWarning: An input array is constant; the correlation coefficent is not defined.\n",
      "  warnings.warn(PearsonRConstantInputWarning())\n"
     ]
    },
    {
     "name": "stdout",
     "output_type": "stream",
     "text": [
      "Epoch 175 end: 1.028398036956787, TRAIN MSE is: 2444.544677734375\n",
      "Validation loss: 539174.3125000 - MSE score: 2579.7810059\n",
      "Validation pearson is: nan\n",
      "Validation r2_score is: -1.5659262460174435\n",
      "-------------------------\n"
     ]
    },
    {
     "name": "stderr",
     "output_type": "stream",
     "text": [
      "/home/mbosnjak/.conda/envs/pero/lib/python3.7/site-packages/scipy/stats/stats.py:3399: PearsonRConstantInputWarning: An input array is constant; the correlation coefficent is not defined.\n",
      "  warnings.warn(PearsonRConstantInputWarning())\n"
     ]
    },
    {
     "name": "stdout",
     "output_type": "stream",
     "text": [
      "Epoch 176 end: 1.0223357677459717, TRAIN MSE is: 2440.3857421875\n",
      "Validation loss: 538268.6250000 - MSE score: 2575.4482422\n",
      "Validation pearson is: nan\n",
      "Validation r2_score is: -1.561616318834147\n",
      "-------------------------\n"
     ]
    },
    {
     "name": "stderr",
     "output_type": "stream",
     "text": [
      "/home/mbosnjak/.conda/envs/pero/lib/python3.7/site-packages/scipy/stats/stats.py:3399: PearsonRConstantInputWarning: An input array is constant; the correlation coefficent is not defined.\n",
      "  warnings.warn(PearsonRConstantInputWarning())\n"
     ]
    },
    {
     "name": "stdout",
     "output_type": "stream",
     "text": [
      "Epoch 177 end: 1.0106277465820312, TRAIN MSE is: 2436.279296875\n",
      "Validation loss: 537360.2500000 - MSE score: 2571.1015625\n",
      "Validation pearson is: nan\n",
      "Validation r2_score is: -1.557293222902603\n",
      "-------------------------\n"
     ]
    },
    {
     "name": "stderr",
     "output_type": "stream",
     "text": [
      "/home/mbosnjak/.conda/envs/pero/lib/python3.7/site-packages/scipy/stats/stats.py:3399: PearsonRConstantInputWarning: An input array is constant; the correlation coefficent is not defined.\n",
      "  warnings.warn(PearsonRConstantInputWarning())\n"
     ]
    },
    {
     "name": "stdout",
     "output_type": "stream",
     "text": [
      "Epoch 178 end: 1.0076305866241455, TRAIN MSE is: 2432.205078125\n",
      "Validation loss: 536441.8750000 - MSE score: 2566.7075195\n",
      "Validation pearson is: nan\n",
      "Validation r2_score is: -1.5529225056284859\n",
      "-------------------------\n"
     ]
    },
    {
     "name": "stderr",
     "output_type": "stream",
     "text": [
      "/home/mbosnjak/.conda/envs/pero/lib/python3.7/site-packages/scipy/stats/stats.py:3399: PearsonRConstantInputWarning: An input array is constant; the correlation coefficent is not defined.\n",
      "  warnings.warn(PearsonRConstantInputWarning())\n"
     ]
    },
    {
     "name": "stdout",
     "output_type": "stream",
     "text": [
      "Epoch 179 end: 1.0128538608551025, TRAIN MSE is: 2428.06689453125\n",
      "Validation loss: 535535.0000000 - MSE score: 2562.3686523\n",
      "Validation pearson is: nan\n",
      "Validation r2_score is: -1.5486071370637418\n",
      "-------------------------\n"
     ]
    },
    {
     "name": "stderr",
     "output_type": "stream",
     "text": [
      "/home/mbosnjak/.conda/envs/pero/lib/python3.7/site-packages/scipy/stats/stats.py:3399: PearsonRConstantInputWarning: An input array is constant; the correlation coefficent is not defined.\n",
      "  warnings.warn(PearsonRConstantInputWarning())\n"
     ]
    },
    {
     "name": "stdout",
     "output_type": "stream",
     "text": [
      "Epoch 180 end: 1.013251781463623, TRAIN MSE is: 2423.980224609375\n",
      "Validation loss: 534628.1250000 - MSE score: 2558.0292969\n",
      "Validation pearson is: nan\n",
      "Validation r2_score is: -1.5442911174039602\n",
      "-------------------------\n"
     ]
    },
    {
     "name": "stderr",
     "output_type": "stream",
     "text": [
      "/home/mbosnjak/.conda/envs/pero/lib/python3.7/site-packages/scipy/stats/stats.py:3399: PearsonRConstantInputWarning: An input array is constant; the correlation coefficent is not defined.\n",
      "  warnings.warn(PearsonRConstantInputWarning())\n"
     ]
    },
    {
     "name": "stdout",
     "output_type": "stream",
     "text": [
      "Epoch 181 end: 1.0456414222717285, TRAIN MSE is: 2419.913818359375\n",
      "Validation loss: 533717.8750000 - MSE score: 2553.6740723\n",
      "Validation pearson is: nan\n",
      "Validation r2_score is: -1.5399591398534187\n",
      "-------------------------\n"
     ]
    },
    {
     "name": "stderr",
     "output_type": "stream",
     "text": [
      "/home/mbosnjak/.conda/envs/pero/lib/python3.7/site-packages/scipy/stats/stats.py:3399: PearsonRConstantInputWarning: An input array is constant; the correlation coefficent is not defined.\n",
      "  warnings.warn(PearsonRConstantInputWarning())\n"
     ]
    },
    {
     "name": "stdout",
     "output_type": "stream",
     "text": [
      "Epoch 182 end: 1.0370712280273438, TRAIN MSE is: 2415.78271484375\n",
      "Validation loss: 532826.3125000 - MSE score: 2549.4082031\n",
      "Validation pearson is: nan\n",
      "Validation r2_score is: -1.5357162091930716\n",
      "-------------------------\n"
     ]
    },
    {
     "name": "stderr",
     "output_type": "stream",
     "text": [
      "/home/mbosnjak/.conda/envs/pero/lib/python3.7/site-packages/scipy/stats/stats.py:3399: PearsonRConstantInputWarning: An input array is constant; the correlation coefficent is not defined.\n",
      "  warnings.warn(PearsonRConstantInputWarning())\n"
     ]
    },
    {
     "name": "stdout",
     "output_type": "stream",
     "text": [
      "Epoch 183 end: 1.0195949077606201, TRAIN MSE is: 2411.764404296875\n",
      "Validation loss: 531922.5000000 - MSE score: 2545.0834961\n",
      "Validation pearson is: nan\n",
      "Validation r2_score is: -1.5314147133420661\n",
      "-------------------------\n"
     ]
    },
    {
     "name": "stderr",
     "output_type": "stream",
     "text": [
      "/home/mbosnjak/.conda/envs/pero/lib/python3.7/site-packages/scipy/stats/stats.py:3399: PearsonRConstantInputWarning: An input array is constant; the correlation coefficent is not defined.\n",
      "  warnings.warn(PearsonRConstantInputWarning())\n"
     ]
    },
    {
     "name": "stdout",
     "output_type": "stream",
     "text": [
      "Epoch 184 end: 1.0479743480682373, TRAIN MSE is: 2407.700439453125\n",
      "Validation loss: 531023.5000000 - MSE score: 2540.7822266\n",
      "Validation pearson is: nan\n",
      "Validation r2_score is: -1.5271364978982578\n",
      "-------------------------\n"
     ]
    },
    {
     "name": "stderr",
     "output_type": "stream",
     "text": [
      "/home/mbosnjak/.conda/envs/pero/lib/python3.7/site-packages/scipy/stats/stats.py:3399: PearsonRConstantInputWarning: An input array is constant; the correlation coefficent is not defined.\n",
      "  warnings.warn(PearsonRConstantInputWarning())\n"
     ]
    },
    {
     "name": "stdout",
     "output_type": "stream",
     "text": [
      "Epoch 185 end: 1.0210649967193604, TRAIN MSE is: 2403.65234375\n",
      "Validation loss: 530126.7500000 - MSE score: 2536.4916992\n",
      "Validation pearson is: nan\n",
      "Validation r2_score is: -1.5228691397091114\n",
      "-------------------------\n"
     ]
    },
    {
     "name": "stderr",
     "output_type": "stream",
     "text": [
      "/home/mbosnjak/.conda/envs/pero/lib/python3.7/site-packages/scipy/stats/stats.py:3399: PearsonRConstantInputWarning: An input array is constant; the correlation coefficent is not defined.\n",
      "  warnings.warn(PearsonRConstantInputWarning())\n"
     ]
    },
    {
     "name": "stdout",
     "output_type": "stream",
     "text": [
      "Epoch 186 end: 1.038072109222412, TRAIN MSE is: 2399.606689453125\n",
      "Validation loss: 529234.8750000 - MSE score: 2532.2238770\n",
      "Validation pearson is: nan\n",
      "Validation r2_score is: -1.5186246042284708\n",
      "-------------------------\n"
     ]
    },
    {
     "name": "stderr",
     "output_type": "stream",
     "text": [
      "/home/mbosnjak/.conda/envs/pero/lib/python3.7/site-packages/scipy/stats/stats.py:3399: PearsonRConstantInputWarning: An input array is constant; the correlation coefficent is not defined.\n",
      "  warnings.warn(PearsonRConstantInputWarning())\n"
     ]
    },
    {
     "name": "stdout",
     "output_type": "stream",
     "text": [
      "Epoch 187 end: 1.028439998626709, TRAIN MSE is: 2395.58349609375\n",
      "Validation loss: 528343.8125000 - MSE score: 2527.9604492\n",
      "Validation pearson is: nan\n",
      "Validation r2_score is: -1.5143839598637983\n",
      "-------------------------\n"
     ]
    },
    {
     "name": "stderr",
     "output_type": "stream",
     "text": [
      "/home/mbosnjak/.conda/envs/pero/lib/python3.7/site-packages/scipy/stats/stats.py:3399: PearsonRConstantInputWarning: An input array is constant; the correlation coefficent is not defined.\n",
      "  warnings.warn(PearsonRConstantInputWarning())\n"
     ]
    },
    {
     "name": "stdout",
     "output_type": "stream",
     "text": [
      "Epoch 188 end: 0.9980132579803467, TRAIN MSE is: 2391.5654296875\n",
      "Validation loss: 527454.9375000 - MSE score: 2523.7077637\n",
      "Validation pearson is: nan\n",
      "Validation r2_score is: -1.5101538988104735\n",
      "-------------------------\n"
     ]
    },
    {
     "name": "stderr",
     "output_type": "stream",
     "text": [
      "/home/mbosnjak/.conda/envs/pero/lib/python3.7/site-packages/scipy/stats/stats.py:3399: PearsonRConstantInputWarning: An input array is constant; the correlation coefficent is not defined.\n",
      "  warnings.warn(PearsonRConstantInputWarning())\n"
     ]
    },
    {
     "name": "stdout",
     "output_type": "stream",
     "text": [
      "Epoch 189 end: 0.9977433681488037, TRAIN MSE is: 2387.542236328125\n",
      "Validation loss: 526573.0625000 - MSE score: 2519.4880371\n",
      "Validation pearson is: nan\n",
      "Validation r2_score is: -1.5059568537040882\n",
      "-------------------------\n"
     ]
    },
    {
     "name": "stderr",
     "output_type": "stream",
     "text": [
      "/home/mbosnjak/.conda/envs/pero/lib/python3.7/site-packages/scipy/stats/stats.py:3399: PearsonRConstantInputWarning: An input array is constant; the correlation coefficent is not defined.\n",
      "  warnings.warn(PearsonRConstantInputWarning())\n"
     ]
    },
    {
     "name": "stdout",
     "output_type": "stream",
     "text": [
      "Epoch 190 end: 1.010141372680664, TRAIN MSE is: 2383.58984375\n",
      "Validation loss: 525680.0625000 - MSE score: 2515.2155762\n",
      "Validation pearson is: nan\n",
      "Validation r2_score is: -1.5017072007908223\n",
      "-------------------------\n"
     ]
    },
    {
     "name": "stderr",
     "output_type": "stream",
     "text": [
      "/home/mbosnjak/.conda/envs/pero/lib/python3.7/site-packages/scipy/stats/stats.py:3399: PearsonRConstantInputWarning: An input array is constant; the correlation coefficent is not defined.\n",
      "  warnings.warn(PearsonRConstantInputWarning())\n"
     ]
    },
    {
     "name": "stdout",
     "output_type": "stream",
     "text": [
      "Epoch 191 end: 1.0056486129760742, TRAIN MSE is: 2379.5498046875\n",
      "Validation loss: 524804.4375000 - MSE score: 2511.0261230\n",
      "Validation pearson is: nan\n",
      "Validation r2_score is: -1.4975403308358692\n",
      "-------------------------\n"
     ]
    },
    {
     "name": "stderr",
     "output_type": "stream",
     "text": [
      "/home/mbosnjak/.conda/envs/pero/lib/python3.7/site-packages/scipy/stats/stats.py:3399: PearsonRConstantInputWarning: An input array is constant; the correlation coefficent is not defined.\n",
      "  warnings.warn(PearsonRConstantInputWarning())\n"
     ]
    },
    {
     "name": "stdout",
     "output_type": "stream",
     "text": [
      "Epoch 192 end: 1.0087029933929443, TRAIN MSE is: 2375.607666015625\n",
      "Validation loss: 523919.8437500 - MSE score: 2506.7934570\n",
      "Validation pearson is: nan\n",
      "Validation r2_score is: -1.4933304422144626\n",
      "-------------------------\n"
     ]
    },
    {
     "name": "stderr",
     "output_type": "stream",
     "text": [
      "/home/mbosnjak/.conda/envs/pero/lib/python3.7/site-packages/scipy/stats/stats.py:3399: PearsonRConstantInputWarning: An input array is constant; the correlation coefficent is not defined.\n",
      "  warnings.warn(PearsonRConstantInputWarning())\n"
     ]
    },
    {
     "name": "stdout",
     "output_type": "stream",
     "text": [
      "Epoch 193 end: 1.0099267959594727, TRAIN MSE is: 2371.631103515625\n",
      "Validation loss: 523040.5937500 - MSE score: 2502.5866699\n",
      "Validation pearson is: nan\n",
      "Validation r2_score is: -1.489146192352727\n",
      "-------------------------\n"
     ]
    },
    {
     "name": "stderr",
     "output_type": "stream",
     "text": [
      "/home/mbosnjak/.conda/envs/pero/lib/python3.7/site-packages/scipy/stats/stats.py:3399: PearsonRConstantInputWarning: An input array is constant; the correlation coefficent is not defined.\n",
      "  warnings.warn(PearsonRConstantInputWarning())\n"
     ]
    },
    {
     "name": "stdout",
     "output_type": "stream",
     "text": [
      "Epoch 194 end: 1.0046825408935547, TRAIN MSE is: 2367.678955078125\n",
      "Validation loss: 522161.5312500 - MSE score: 2498.3806152\n",
      "Validation pearson is: nan\n",
      "Validation r2_score is: -1.4849625520570742\n",
      "-------------------------\n"
     ]
    },
    {
     "name": "stderr",
     "output_type": "stream",
     "text": [
      "/home/mbosnjak/.conda/envs/pero/lib/python3.7/site-packages/scipy/stats/stats.py:3399: PearsonRConstantInputWarning: An input array is constant; the correlation coefficent is not defined.\n",
      "  warnings.warn(PearsonRConstantInputWarning())\n"
     ]
    },
    {
     "name": "stdout",
     "output_type": "stream",
     "text": [
      "Epoch 195 end: 1.002636432647705, TRAIN MSE is: 2363.714599609375\n",
      "Validation loss: 521288.8437500 - MSE score: 2494.2050781\n",
      "Validation pearson is: nan\n",
      "Validation r2_score is: -1.480809508729088\n",
      "-------------------------\n"
     ]
    },
    {
     "name": "stderr",
     "output_type": "stream",
     "text": [
      "/home/mbosnjak/.conda/envs/pero/lib/python3.7/site-packages/scipy/stats/stats.py:3399: PearsonRConstantInputWarning: An input array is constant; the correlation coefficent is not defined.\n",
      "  warnings.warn(PearsonRConstantInputWarning())\n"
     ]
    },
    {
     "name": "stdout",
     "output_type": "stream",
     "text": [
      "Epoch 196 end: 1.0210838317871094, TRAIN MSE is: 2359.764404296875\n",
      "Validation loss: 520421.3750000 - MSE score: 2490.0541992\n",
      "Validation pearson is: nan\n",
      "Validation r2_score is: -1.4766812351196368\n",
      "-------------------------\n"
     ]
    },
    {
     "name": "stderr",
     "output_type": "stream",
     "text": [
      "/home/mbosnjak/.conda/envs/pero/lib/python3.7/site-packages/scipy/stats/stats.py:3399: PearsonRConstantInputWarning: An input array is constant; the correlation coefficent is not defined.\n",
      "  warnings.warn(PearsonRConstantInputWarning())\n"
     ]
    },
    {
     "name": "stdout",
     "output_type": "stream",
     "text": [
      "Epoch 197 end: 0.9970383644104004, TRAIN MSE is: 2355.85205078125\n",
      "Validation loss: 519550.8750000 - MSE score: 2485.8894043\n",
      "Validation pearson is: nan\n",
      "Validation r2_score is: -1.4725385938233884\n",
      "-------------------------\n"
     ]
    },
    {
     "name": "stderr",
     "output_type": "stream",
     "text": [
      "/home/mbosnjak/.conda/envs/pero/lib/python3.7/site-packages/scipy/stats/stats.py:3399: PearsonRConstantInputWarning: An input array is constant; the correlation coefficent is not defined.\n",
      "  warnings.warn(PearsonRConstantInputWarning())\n"
     ]
    },
    {
     "name": "stdout",
     "output_type": "stream",
     "text": [
      "Epoch 198 end: 1.0000205039978027, TRAIN MSE is: 2351.936279296875\n",
      "Validation loss: 518682.2500000 - MSE score: 2481.7331543\n",
      "Validation pearson is: nan\n",
      "Validation r2_score is: -1.4684046018994201\n",
      "-------------------------\n"
     ]
    },
    {
     "name": "stderr",
     "output_type": "stream",
     "text": [
      "/home/mbosnjak/.conda/envs/pero/lib/python3.7/site-packages/scipy/stats/stats.py:3399: PearsonRConstantInputWarning: An input array is constant; the correlation coefficent is not defined.\n",
      "  warnings.warn(PearsonRConstantInputWarning())\n"
     ]
    },
    {
     "name": "stdout",
     "output_type": "stream",
     "text": [
      "Epoch 199 end: 1.0304546356201172, TRAIN MSE is: 2348.04541015625\n",
      "Validation loss: 517809.8750000 - MSE score: 2477.5595703\n",
      "Validation pearson is: nan\n",
      "Validation r2_score is: -1.4642532566338113\n",
      "-------------------------\n"
     ]
    },
    {
     "name": "stderr",
     "output_type": "stream",
     "text": [
      "/home/mbosnjak/.conda/envs/pero/lib/python3.7/site-packages/scipy/stats/stats.py:3399: PearsonRConstantInputWarning: An input array is constant; the correlation coefficent is not defined.\n",
      "  warnings.warn(PearsonRConstantInputWarning())\n"
     ]
    },
    {
     "name": "stdout",
     "output_type": "stream",
     "text": [
      "Epoch 200 end: 1.0268340110778809, TRAIN MSE is: 2344.270751953125\n",
      "Validation loss: 517037.2812500 - MSE score: 2473.8627930\n",
      "Validation pearson is: nan\n",
      "Validation r2_score is: -1.460576432194959\n",
      "-------------------------\n"
     ]
    },
    {
     "name": "stderr",
     "output_type": "stream",
     "text": [
      "/home/mbosnjak/.conda/envs/pero/lib/python3.7/site-packages/scipy/stats/stats.py:3399: PearsonRConstantInputWarning: An input array is constant; the correlation coefficent is not defined.\n",
      "  warnings.warn(PearsonRConstantInputWarning())\n"
     ]
    },
    {
     "name": "stdout",
     "output_type": "stream",
     "text": [
      "Epoch 201 end: 1.024850845336914, TRAIN MSE is: 2340.78271484375\n",
      "Validation loss: 516262.5312500 - MSE score: 2470.1555176\n",
      "Validation pearson is: nan\n",
      "Validation r2_score is: -1.4568892821818396\n",
      "-------------------------\n"
     ]
    },
    {
     "name": "stderr",
     "output_type": "stream",
     "text": [
      "/home/mbosnjak/.conda/envs/pero/lib/python3.7/site-packages/scipy/stats/stats.py:3399: PearsonRConstantInputWarning: An input array is constant; the correlation coefficent is not defined.\n",
      "  warnings.warn(PearsonRConstantInputWarning())\n"
     ]
    },
    {
     "name": "stdout",
     "output_type": "stream",
     "text": [
      "Epoch 202 end: 0.989617109298706, TRAIN MSE is: 2337.30908203125\n",
      "Validation loss: 515483.5000000 - MSE score: 2466.4279785\n",
      "Validation pearson is: nan\n",
      "Validation r2_score is: -1.4531818372229819\n",
      "-------------------------\n"
     ]
    },
    {
     "name": "stderr",
     "output_type": "stream",
     "text": [
      "/home/mbosnjak/.conda/envs/pero/lib/python3.7/site-packages/scipy/stats/stats.py:3399: PearsonRConstantInputWarning: An input array is constant; the correlation coefficent is not defined.\n",
      "  warnings.warn(PearsonRConstantInputWarning())\n"
     ]
    },
    {
     "name": "stdout",
     "output_type": "stream",
     "text": [
      "Epoch 203 end: 0.9904608726501465, TRAIN MSE is: 2333.815673828125\n",
      "Validation loss: 514708.5312500 - MSE score: 2462.7202148\n",
      "Validation pearson is: nan\n",
      "Validation r2_score is: -1.449493874299475\n",
      "-------------------------\n"
     ]
    },
    {
     "name": "stderr",
     "output_type": "stream",
     "text": [
      "/home/mbosnjak/.conda/envs/pero/lib/python3.7/site-packages/scipy/stats/stats.py:3399: PearsonRConstantInputWarning: An input array is constant; the correlation coefficent is not defined.\n",
      "  warnings.warn(PearsonRConstantInputWarning())\n"
     ]
    },
    {
     "name": "stdout",
     "output_type": "stream",
     "text": [
      "Epoch 204 end: 1.0094377994537354, TRAIN MSE is: 2330.35693359375\n",
      "Validation loss: 513930.2500000 - MSE score: 2458.9965820\n",
      "Validation pearson is: nan\n",
      "Validation r2_score is: -1.445790082604856\n",
      "-------------------------\n"
     ]
    },
    {
     "name": "stderr",
     "output_type": "stream",
     "text": [
      "/home/mbosnjak/.conda/envs/pero/lib/python3.7/site-packages/scipy/stats/stats.py:3399: PearsonRConstantInputWarning: An input array is constant; the correlation coefficent is not defined.\n",
      "  warnings.warn(PearsonRConstantInputWarning())\n"
     ]
    },
    {
     "name": "stdout",
     "output_type": "stream",
     "text": [
      "Epoch 205 end: 1.0148210525512695, TRAIN MSE is: 2326.82080078125\n",
      "Validation loss: 513172.7812500 - MSE score: 2455.3720703\n",
      "Validation pearson is: nan\n",
      "Validation r2_score is: -1.442185271690998\n",
      "-------------------------\n"
     ]
    },
    {
     "name": "stderr",
     "output_type": "stream",
     "text": [
      "/home/mbosnjak/.conda/envs/pero/lib/python3.7/site-packages/scipy/stats/stats.py:3399: PearsonRConstantInputWarning: An input array is constant; the correlation coefficent is not defined.\n",
      "  warnings.warn(PearsonRConstantInputWarning())\n"
     ]
    },
    {
     "name": "stdout",
     "output_type": "stream",
     "text": [
      "Epoch 206 end: 0.9969608783721924, TRAIN MSE is: 2323.406005859375\n",
      "Validation loss: 512403.3750000 - MSE score: 2451.6906738\n",
      "Validation pearson is: nan\n",
      "Validation r2_score is: -1.438523646348834\n",
      "-------------------------\n"
     ]
    },
    {
     "name": "stderr",
     "output_type": "stream",
     "text": [
      "/home/mbosnjak/.conda/envs/pero/lib/python3.7/site-packages/scipy/stats/stats.py:3399: PearsonRConstantInputWarning: An input array is constant; the correlation coefficent is not defined.\n",
      "  warnings.warn(PearsonRConstantInputWarning())\n"
     ]
    },
    {
     "name": "stdout",
     "output_type": "stream",
     "text": [
      "Epoch 207 end: 1.0049328804016113, TRAIN MSE is: 2319.91650390625\n",
      "Validation loss: 511645.7187500 - MSE score: 2448.0656738\n",
      "Validation pearson is: nan\n",
      "Validation r2_score is: -1.4349178454551912\n",
      "-------------------------\n"
     ]
    },
    {
     "name": "stderr",
     "output_type": "stream",
     "text": [
      "/home/mbosnjak/.conda/envs/pero/lib/python3.7/site-packages/scipy/stats/stats.py:3399: PearsonRConstantInputWarning: An input array is constant; the correlation coefficent is not defined.\n",
      "  warnings.warn(PearsonRConstantInputWarning())\n"
     ]
    },
    {
     "name": "stdout",
     "output_type": "stream",
     "text": [
      "Epoch 208 end: 1.0128147602081299, TRAIN MSE is: 2316.52490234375\n",
      "Validation loss: 510873.6562500 - MSE score: 2444.3713379\n",
      "Validation pearson is: nan\n",
      "Validation r2_score is: -1.4312435805327977\n",
      "-------------------------\n"
     ]
    },
    {
     "name": "stderr",
     "output_type": "stream",
     "text": [
      "/home/mbosnjak/.conda/envs/pero/lib/python3.7/site-packages/scipy/stats/stats.py:3399: PearsonRConstantInputWarning: An input array is constant; the correlation coefficent is not defined.\n",
      "  warnings.warn(PearsonRConstantInputWarning())\n"
     ]
    },
    {
     "name": "stdout",
     "output_type": "stream",
     "text": [
      "Epoch 209 end: 1.0159599781036377, TRAIN MSE is: 2313.0498046875\n",
      "Validation loss: 510114.4375000 - MSE score: 2440.7385254\n",
      "Validation pearson is: nan\n",
      "Validation r2_score is: -1.427630494535041\n",
      "-------------------------\n"
     ]
    },
    {
     "name": "stderr",
     "output_type": "stream",
     "text": [
      "/home/mbosnjak/.conda/envs/pero/lib/python3.7/site-packages/scipy/stats/stats.py:3399: PearsonRConstantInputWarning: An input array is constant; the correlation coefficent is not defined.\n",
      "  warnings.warn(PearsonRConstantInputWarning())\n"
     ]
    },
    {
     "name": "stdout",
     "output_type": "stream",
     "text": [
      "Epoch 210 end: 1.0182268619537354, TRAIN MSE is: 2309.609375\n",
      "Validation loss: 509359.7187500 - MSE score: 2437.1279297\n",
      "Validation pearson is: nan\n",
      "Validation r2_score is: -1.4240389545883687\n",
      "-------------------------\n"
     ]
    },
    {
     "name": "stderr",
     "output_type": "stream",
     "text": [
      "/home/mbosnjak/.conda/envs/pero/lib/python3.7/site-packages/scipy/stats/stats.py:3399: PearsonRConstantInputWarning: An input array is constant; the correlation coefficent is not defined.\n",
      "  warnings.warn(PearsonRConstantInputWarning())\n"
     ]
    },
    {
     "name": "stdout",
     "output_type": "stream",
     "text": [
      "Epoch 211 end: 1.0581414699554443, TRAIN MSE is: 2306.24267578125\n",
      "Validation loss: 508590.0000000 - MSE score: 2433.4450684\n",
      "Validation pearson is: nan\n",
      "Validation r2_score is: -1.420375810088538\n",
      "-------------------------\n"
     ]
    },
    {
     "name": "stderr",
     "output_type": "stream",
     "text": [
      "/home/mbosnjak/.conda/envs/pero/lib/python3.7/site-packages/scipy/stats/stats.py:3399: PearsonRConstantInputWarning: An input array is constant; the correlation coefficent is not defined.\n",
      "  warnings.warn(PearsonRConstantInputWarning())\n"
     ]
    },
    {
     "name": "stdout",
     "output_type": "stream",
     "text": [
      "Epoch 212 end: 1.04036545753479, TRAIN MSE is: 2302.77880859375\n",
      "Validation loss: 507836.4375000 - MSE score: 2429.8391113\n",
      "Validation pearson is: nan\n",
      "Validation r2_score is: -1.41678952195391\n",
      "-------------------------\n"
     ]
    },
    {
     "name": "stderr",
     "output_type": "stream",
     "text": [
      "/home/mbosnjak/.conda/envs/pero/lib/python3.7/site-packages/scipy/stats/stats.py:3399: PearsonRConstantInputWarning: An input array is constant; the correlation coefficent is not defined.\n",
      "  warnings.warn(PearsonRConstantInputWarning())\n"
     ]
    },
    {
     "name": "stdout",
     "output_type": "stream",
     "text": [
      "Epoch 213 end: 1.105327844619751, TRAIN MSE is: 2299.382568359375\n",
      "Validation loss: 507081.9687500 - MSE score: 2426.2297363\n",
      "Validation pearson is: nan\n",
      "Validation r2_score is: -1.4131991844324046\n",
      "-------------------------\n"
     ]
    },
    {
     "name": "stderr",
     "output_type": "stream",
     "text": [
      "/home/mbosnjak/.conda/envs/pero/lib/python3.7/site-packages/scipy/stats/stats.py:3399: PearsonRConstantInputWarning: An input array is constant; the correlation coefficent is not defined.\n",
      "  warnings.warn(PearsonRConstantInputWarning())\n"
     ]
    },
    {
     "name": "stdout",
     "output_type": "stream",
     "text": [
      "Epoch 214 end: 1.0296885967254639, TRAIN MSE is: 2295.990966796875\n",
      "Validation loss: 506326.9062500 - MSE score: 2422.6169434\n",
      "Validation pearson is: nan\n",
      "Validation r2_score is: -1.4096058653597097\n",
      "-------------------------\n"
     ]
    },
    {
     "name": "stderr",
     "output_type": "stream",
     "text": [
      "/home/mbosnjak/.conda/envs/pero/lib/python3.7/site-packages/scipy/stats/stats.py:3399: PearsonRConstantInputWarning: An input array is constant; the correlation coefficent is not defined.\n",
      "  warnings.warn(PearsonRConstantInputWarning())\n"
     ]
    },
    {
     "name": "stdout",
     "output_type": "stream",
     "text": [
      "Epoch 215 end: 1.0241637229919434, TRAIN MSE is: 2292.6044921875\n",
      "Validation loss: 505572.4375000 - MSE score: 2419.0068359\n",
      "Validation pearson is: nan\n",
      "Validation r2_score is: -1.406015205251523\n",
      "-------------------------\n"
     ]
    },
    {
     "name": "stderr",
     "output_type": "stream",
     "text": [
      "/home/mbosnjak/.conda/envs/pero/lib/python3.7/site-packages/scipy/stats/stats.py:3399: PearsonRConstantInputWarning: An input array is constant; the correlation coefficent is not defined.\n",
      "  warnings.warn(PearsonRConstantInputWarning())\n"
     ]
    },
    {
     "name": "stdout",
     "output_type": "stream",
     "text": [
      "Epoch 216 end: 1.0157248973846436, TRAIN MSE is: 2289.205078125\n",
      "Validation loss: 504824.2187500 - MSE score: 2415.4270020\n",
      "Validation pearson is: nan\n",
      "Validation r2_score is: -1.4024544360946414\n",
      "-------------------------\n"
     ]
    },
    {
     "name": "stderr",
     "output_type": "stream",
     "text": [
      "/home/mbosnjak/.conda/envs/pero/lib/python3.7/site-packages/scipy/stats/stats.py:3399: PearsonRConstantInputWarning: An input array is constant; the correlation coefficent is not defined.\n",
      "  warnings.warn(PearsonRConstantInputWarning())\n"
     ]
    },
    {
     "name": "stdout",
     "output_type": "stream",
     "text": [
      "Epoch 217 end: 1.0318877696990967, TRAIN MSE is: 2285.8642578125\n",
      "Validation loss: 504068.0937500 - MSE score: 2411.8093262\n",
      "Validation pearson is: nan\n",
      "Validation r2_score is: -1.3988561062330174\n",
      "-------------------------\n"
     ]
    },
    {
     "name": "stderr",
     "output_type": "stream",
     "text": [
      "/home/mbosnjak/.conda/envs/pero/lib/python3.7/site-packages/scipy/stats/stats.py:3399: PearsonRConstantInputWarning: An input array is constant; the correlation coefficent is not defined.\n",
      "  warnings.warn(PearsonRConstantInputWarning())\n"
     ]
    },
    {
     "name": "stdout",
     "output_type": "stream",
     "text": [
      "Epoch 218 end: 1.009486198425293, TRAIN MSE is: 2282.472900390625\n",
      "Validation loss: 503320.8750000 - MSE score: 2408.2338867\n",
      "Validation pearson is: nan\n",
      "Validation r2_score is: -1.3953000829317421\n",
      "-------------------------\n"
     ]
    },
    {
     "name": "stderr",
     "output_type": "stream",
     "text": [
      "/home/mbosnjak/.conda/envs/pero/lib/python3.7/site-packages/scipy/stats/stats.py:3399: PearsonRConstantInputWarning: An input array is constant; the correlation coefficent is not defined.\n",
      "  warnings.warn(PearsonRConstantInputWarning())\n"
     ]
    },
    {
     "name": "stdout",
     "output_type": "stream",
     "text": [
      "Epoch 219 end: 1.0051796436309814, TRAIN MSE is: 2279.103515625\n",
      "Validation loss: 502578.4375000 - MSE score: 2404.6818848\n",
      "Validation pearson is: nan\n",
      "Validation r2_score is: -1.3917670726076703\n",
      "-------------------------\n"
     ]
    },
    {
     "name": "stderr",
     "output_type": "stream",
     "text": [
      "/home/mbosnjak/.conda/envs/pero/lib/python3.7/site-packages/scipy/stats/stats.py:3399: PearsonRConstantInputWarning: An input array is constant; the correlation coefficent is not defined.\n",
      "  warnings.warn(PearsonRConstantInputWarning())\n"
     ]
    },
    {
     "name": "stdout",
     "output_type": "stream",
     "text": [
      "Epoch 220 end: 1.0076837539672852, TRAIN MSE is: 2275.74951171875\n",
      "Validation loss: 501838.3750000 - MSE score: 2401.1406250\n",
      "Validation pearson is: nan\n",
      "Validation r2_score is: -1.3882448961069014\n",
      "-------------------------\n"
     ]
    },
    {
     "name": "stderr",
     "output_type": "stream",
     "text": [
      "/home/mbosnjak/.conda/envs/pero/lib/python3.7/site-packages/scipy/stats/stats.py:3399: PearsonRConstantInputWarning: An input array is constant; the correlation coefficent is not defined.\n",
      "  warnings.warn(PearsonRConstantInputWarning())\n"
     ]
    },
    {
     "name": "stdout",
     "output_type": "stream",
     "text": [
      "Epoch 221 end: 1.0114352703094482, TRAIN MSE is: 2272.421142578125\n",
      "Validation loss: 501095.6875000 - MSE score: 2397.5869141\n",
      "Validation pearson is: nan\n",
      "Validation r2_score is: -1.384710313226722\n",
      "-------------------------\n"
     ]
    },
    {
     "name": "stderr",
     "output_type": "stream",
     "text": [
      "/home/mbosnjak/.conda/envs/pero/lib/python3.7/site-packages/scipy/stats/stats.py:3399: PearsonRConstantInputWarning: An input array is constant; the correlation coefficent is not defined.\n",
      "  warnings.warn(PearsonRConstantInputWarning())\n"
     ]
    },
    {
     "name": "stdout",
     "output_type": "stream",
     "text": [
      "Epoch 222 end: 1.0226192474365234, TRAIN MSE is: 2269.10107421875\n",
      "Validation loss: 500350.1250000 - MSE score: 2394.0197754\n",
      "Validation pearson is: nan\n",
      "Validation r2_score is: -1.3811623604684389\n",
      "-------------------------\n"
     ]
    },
    {
     "name": "stderr",
     "output_type": "stream",
     "text": [
      "/home/mbosnjak/.conda/envs/pero/lib/python3.7/site-packages/scipy/stats/stats.py:3399: PearsonRConstantInputWarning: An input array is constant; the correlation coefficent is not defined.\n",
      "  warnings.warn(PearsonRConstantInputWarning())\n"
     ]
    },
    {
     "name": "stdout",
     "output_type": "stream",
     "text": [
      "Epoch 223 end: 1.005321979522705, TRAIN MSE is: 2265.7216796875\n",
      "Validation loss: 499621.6875000 - MSE score: 2390.5341797\n",
      "Validation pearson is: nan\n",
      "Validation r2_score is: -1.3776954615568826\n",
      "-------------------------\n"
     ]
    },
    {
     "name": "stderr",
     "output_type": "stream",
     "text": [
      "/home/mbosnjak/.conda/envs/pero/lib/python3.7/site-packages/scipy/stats/stats.py:3399: PearsonRConstantInputWarning: An input array is constant; the correlation coefficent is not defined.\n",
      "  warnings.warn(PearsonRConstantInputWarning())\n"
     ]
    },
    {
     "name": "stdout",
     "output_type": "stream",
     "text": [
      "Epoch 224 end: 0.9992067813873291, TRAIN MSE is: 2262.43701171875\n",
      "Validation loss: 498884.5000000 - MSE score: 2387.0070801\n",
      "Validation pearson is: nan\n",
      "Validation r2_score is: -1.3741874006663686\n",
      "-------------------------\n"
     ]
    },
    {
     "name": "stderr",
     "output_type": "stream",
     "text": [
      "/home/mbosnjak/.conda/envs/pero/lib/python3.7/site-packages/scipy/stats/stats.py:3399: PearsonRConstantInputWarning: An input array is constant; the correlation coefficent is not defined.\n",
      "  warnings.warn(PearsonRConstantInputWarning())\n"
     ]
    },
    {
     "name": "stdout",
     "output_type": "stream",
     "text": [
      "Epoch 225 end: 1.0237843990325928, TRAIN MSE is: 2259.13330078125\n",
      "Validation loss: 498147.0312500 - MSE score: 2383.4785156\n",
      "Validation pearson is: nan\n",
      "Validation r2_score is: -1.37067786258643\n",
      "-------------------------\n"
     ]
    },
    {
     "name": "stderr",
     "output_type": "stream",
     "text": [
      "/home/mbosnjak/.conda/envs/pero/lib/python3.7/site-packages/scipy/stats/stats.py:3399: PearsonRConstantInputWarning: An input array is constant; the correlation coefficent is not defined.\n",
      "  warnings.warn(PearsonRConstantInputWarning())\n"
     ]
    },
    {
     "name": "stdout",
     "output_type": "stream",
     "text": [
      "Epoch 226 end: 1.0354571342468262, TRAIN MSE is: 2255.8232421875\n",
      "Validation loss: 497413.5000000 - MSE score: 2379.9692383\n",
      "Validation pearson is: nan\n",
      "Validation r2_score is: -1.3671870083718862\n",
      "-------------------------\n"
     ]
    },
    {
     "name": "stderr",
     "output_type": "stream",
     "text": [
      "/home/mbosnjak/.conda/envs/pero/lib/python3.7/site-packages/scipy/stats/stats.py:3399: PearsonRConstantInputWarning: An input array is constant; the correlation coefficent is not defined.\n",
      "  warnings.warn(PearsonRConstantInputWarning())\n"
     ]
    },
    {
     "name": "stdout",
     "output_type": "stream",
     "text": [
      "Epoch 227 end: 1.0208535194396973, TRAIN MSE is: 2252.5078125\n",
      "Validation loss: 496687.2812500 - MSE score: 2376.4941406\n",
      "Validation pearson is: nan\n",
      "Validation r2_score is: -1.363730825381667\n",
      "-------------------------\n"
     ]
    },
    {
     "name": "stderr",
     "output_type": "stream",
     "text": [
      "/home/mbosnjak/.conda/envs/pero/lib/python3.7/site-packages/scipy/stats/stats.py:3399: PearsonRConstantInputWarning: An input array is constant; the correlation coefficent is not defined.\n",
      "  warnings.warn(PearsonRConstantInputWarning())\n"
     ]
    },
    {
     "name": "stdout",
     "output_type": "stream",
     "text": [
      "Epoch 228 end: 1.065035343170166, TRAIN MSE is: 2249.24365234375\n",
      "Validation loss: 495955.8437500 - MSE score: 2372.9943848\n",
      "Validation pearson is: nan\n",
      "Validation r2_score is: -1.3602499485583683\n",
      "-------------------------\n"
     ]
    },
    {
     "name": "stderr",
     "output_type": "stream",
     "text": [
      "/home/mbosnjak/.conda/envs/pero/lib/python3.7/site-packages/scipy/stats/stats.py:3399: PearsonRConstantInputWarning: An input array is constant; the correlation coefficent is not defined.\n",
      "  warnings.warn(PearsonRConstantInputWarning())\n"
     ]
    },
    {
     "name": "stdout",
     "output_type": "stream",
     "text": [
      "Epoch 229 end: 1.0475642681121826, TRAIN MSE is: 2245.951171875\n",
      "Validation loss: 495229.8125000 - MSE score: 2369.5207520\n",
      "Validation pearson is: nan\n",
      "Validation r2_score is: -1.3567948084053394\n",
      "-------------------------\n"
     ]
    },
    {
     "name": "stderr",
     "output_type": "stream",
     "text": [
      "/home/mbosnjak/.conda/envs/pero/lib/python3.7/site-packages/scipy/stats/stats.py:3399: PearsonRConstantInputWarning: An input array is constant; the correlation coefficent is not defined.\n",
      "  warnings.warn(PearsonRConstantInputWarning())\n"
     ]
    },
    {
     "name": "stdout",
     "output_type": "stream",
     "text": [
      "Epoch 230 end: 1.0215907096862793, TRAIN MSE is: 2242.722412109375\n",
      "Validation loss: 494493.2187500 - MSE score: 2365.9963379\n",
      "Validation pearson is: nan\n",
      "Validation r2_score is: -1.3532893398747183\n",
      "-------------------------\n"
     ]
    },
    {
     "name": "stderr",
     "output_type": "stream",
     "text": [
      "/home/mbosnjak/.conda/envs/pero/lib/python3.7/site-packages/scipy/stats/stats.py:3399: PearsonRConstantInputWarning: An input array is constant; the correlation coefficent is not defined.\n",
      "  warnings.warn(PearsonRConstantInputWarning())\n"
     ]
    },
    {
     "name": "stdout",
     "output_type": "stream",
     "text": [
      "Epoch 231 end: 0.9906303882598877, TRAIN MSE is: 2239.4189453125\n",
      "Validation loss: 493769.6250000 - MSE score: 2362.5341797\n",
      "Validation pearson is: nan\n",
      "Validation r2_score is: -1.3498458333407894\n",
      "-------------------------\n"
     ]
    },
    {
     "name": "stderr",
     "output_type": "stream",
     "text": [
      "/home/mbosnjak/.conda/envs/pero/lib/python3.7/site-packages/scipy/stats/stats.py:3399: PearsonRConstantInputWarning: An input array is constant; the correlation coefficent is not defined.\n",
      "  warnings.warn(PearsonRConstantInputWarning())\n"
     ]
    },
    {
     "name": "stdout",
     "output_type": "stream",
     "text": [
      "Epoch 232 end: 1.031834602355957, TRAIN MSE is: 2236.14892578125\n",
      "Validation loss: 493051.8125000 - MSE score: 2359.0996094\n",
      "Validation pearson is: nan\n",
      "Validation r2_score is: -1.3464296450365598\n",
      "-------------------------\n"
     ]
    },
    {
     "name": "stderr",
     "output_type": "stream",
     "text": [
      "/home/mbosnjak/.conda/envs/pero/lib/python3.7/site-packages/scipy/stats/stats.py:3399: PearsonRConstantInputWarning: An input array is constant; the correlation coefficent is not defined.\n",
      "  warnings.warn(PearsonRConstantInputWarning())\n"
     ]
    },
    {
     "name": "stdout",
     "output_type": "stream",
     "text": [
      "Epoch 233 end: 1.0101897716522217, TRAIN MSE is: 2232.9384765625\n",
      "Validation loss: 492324.5312500 - MSE score: 2355.6198730\n",
      "Validation pearson is: nan\n",
      "Validation r2_score is: -1.3429686882303544\n",
      "-------------------------\n"
     ]
    },
    {
     "name": "stderr",
     "output_type": "stream",
     "text": [
      "/home/mbosnjak/.conda/envs/pero/lib/python3.7/site-packages/scipy/stats/stats.py:3399: PearsonRConstantInputWarning: An input array is constant; the correlation coefficent is not defined.\n",
      "  warnings.warn(PearsonRConstantInputWarning())\n"
     ]
    },
    {
     "name": "stdout",
     "output_type": "stream",
     "text": [
      "Epoch 234 end: 1.0192601680755615, TRAIN MSE is: 2229.668701171875\n",
      "Validation loss: 491607.9687500 - MSE score: 2352.1911621\n",
      "Validation pearson is: nan\n",
      "Validation r2_score is: -1.3395584202664428\n",
      "-------------------------\n"
     ]
    },
    {
     "name": "stderr",
     "output_type": "stream",
     "text": [
      "/home/mbosnjak/.conda/envs/pero/lib/python3.7/site-packages/scipy/stats/stats.py:3399: PearsonRConstantInputWarning: An input array is constant; the correlation coefficent is not defined.\n",
      "  warnings.warn(PearsonRConstantInputWarning())\n"
     ]
    },
    {
     "name": "stdout",
     "output_type": "stream",
     "text": [
      "Epoch 235 end: 1.0253055095672607, TRAIN MSE is: 2226.43359375\n",
      "Validation loss: 490893.7812500 - MSE score: 2348.7741699\n",
      "Validation pearson is: nan\n",
      "Validation r2_score is: -1.3361597067712472\n",
      "-------------------------\n"
     ]
    },
    {
     "name": "stderr",
     "output_type": "stream",
     "text": [
      "/home/mbosnjak/.conda/envs/pero/lib/python3.7/site-packages/scipy/stats/stats.py:3399: PearsonRConstantInputWarning: An input array is constant; the correlation coefficent is not defined.\n",
      "  warnings.warn(PearsonRConstantInputWarning())\n"
     ]
    },
    {
     "name": "stdout",
     "output_type": "stream",
     "text": [
      "Epoch 236 end: 1.0152950286865234, TRAIN MSE is: 2223.245361328125\n",
      "Validation loss: 490170.9687500 - MSE score: 2345.3156738\n",
      "Validation pearson is: nan\n",
      "Validation r2_score is: -1.3327198122609558\n",
      "-------------------------\n"
     ]
    },
    {
     "name": "stderr",
     "output_type": "stream",
     "text": [
      "/home/mbosnjak/.conda/envs/pero/lib/python3.7/site-packages/scipy/stats/stats.py:3399: PearsonRConstantInputWarning: An input array is constant; the correlation coefficent is not defined.\n",
      "  warnings.warn(PearsonRConstantInputWarning())\n"
     ]
    },
    {
     "name": "stdout",
     "output_type": "stream",
     "text": [
      "Epoch 237 end: 1.0095245838165283, TRAIN MSE is: 2220.006103515625\n",
      "Validation loss: 489456.6250000 - MSE score: 2341.8979492\n",
      "Validation pearson is: nan\n",
      "Validation r2_score is: -1.3293203636397535\n",
      "-------------------------\n"
     ]
    },
    {
     "name": "stderr",
     "output_type": "stream",
     "text": [
      "/home/mbosnjak/.conda/envs/pero/lib/python3.7/site-packages/scipy/stats/stats.py:3399: PearsonRConstantInputWarning: An input array is constant; the correlation coefficent is not defined.\n",
      "  warnings.warn(PearsonRConstantInputWarning())\n"
     ]
    },
    {
     "name": "stdout",
     "output_type": "stream",
     "text": [
      "Epoch 238 end: 1.0145440101623535, TRAIN MSE is: 2216.796875\n",
      "Validation loss: 488744.0625000 - MSE score: 2338.4882812\n",
      "Validation pearson is: nan\n",
      "Validation r2_score is: -1.325929132211931\n",
      "-------------------------\n"
     ]
    },
    {
     "name": "stderr",
     "output_type": "stream",
     "text": [
      "/home/mbosnjak/.conda/envs/pero/lib/python3.7/site-packages/scipy/stats/stats.py:3399: PearsonRConstantInputWarning: An input array is constant; the correlation coefficent is not defined.\n",
      "  warnings.warn(PearsonRConstantInputWarning())\n"
     ]
    },
    {
     "name": "stdout",
     "output_type": "stream",
     "text": [
      "Epoch 239 end: 1.0265703201293945, TRAIN MSE is: 2213.602294921875\n",
      "Validation loss: 488031.5625000 - MSE score: 2335.0793457\n",
      "Validation pearson is: nan\n",
      "Validation r2_score is: -1.322538379301243\n",
      "-------------------------\n"
     ]
    },
    {
     "name": "stderr",
     "output_type": "stream",
     "text": [
      "/home/mbosnjak/.conda/envs/pero/lib/python3.7/site-packages/scipy/stats/stats.py:3399: PearsonRConstantInputWarning: An input array is constant; the correlation coefficent is not defined.\n",
      "  warnings.warn(PearsonRConstantInputWarning())\n"
     ]
    },
    {
     "name": "stdout",
     "output_type": "stream",
     "text": [
      "Epoch 240 end: 1.0020241737365723, TRAIN MSE is: 2210.41015625\n",
      "Validation loss: 487320.7812500 - MSE score: 2331.6784668\n",
      "Validation pearson is: nan\n",
      "Validation r2_score is: -1.3191558422438638\n",
      "-------------------------\n"
     ]
    },
    {
     "name": "stderr",
     "output_type": "stream",
     "text": [
      "/home/mbosnjak/.conda/envs/pero/lib/python3.7/site-packages/scipy/stats/stats.py:3399: PearsonRConstantInputWarning: An input array is constant; the correlation coefficent is not defined.\n",
      "  warnings.warn(PearsonRConstantInputWarning())\n"
     ]
    },
    {
     "name": "stdout",
     "output_type": "stream",
     "text": [
      "Epoch 241 end: 1.010798454284668, TRAIN MSE is: 2207.2001953125\n",
      "Validation loss: 486618.8750000 - MSE score: 2328.3200684\n",
      "Validation pearson is: nan\n",
      "Validation r2_score is: -1.315815253325955\n",
      "-------------------------\n"
     ]
    },
    {
     "name": "stderr",
     "output_type": "stream",
     "text": [
      "/home/mbosnjak/.conda/envs/pero/lib/python3.7/site-packages/scipy/stats/stats.py:3399: PearsonRConstantInputWarning: An input array is constant; the correlation coefficent is not defined.\n",
      "  warnings.warn(PearsonRConstantInputWarning())\n"
     ]
    },
    {
     "name": "stdout",
     "output_type": "stream",
     "text": [
      "Epoch 242 end: 1.0254838466644287, TRAIN MSE is: 2204.04638671875\n",
      "Validation loss: 485911.7187500 - MSE score: 2324.9365234\n",
      "Validation pearson is: nan\n",
      "Validation r2_score is: -1.3124500368809726\n",
      "-------------------------\n"
     ]
    },
    {
     "name": "stderr",
     "output_type": "stream",
     "text": [
      "/home/mbosnjak/.conda/envs/pero/lib/python3.7/site-packages/scipy/stats/stats.py:3399: PearsonRConstantInputWarning: An input array is constant; the correlation coefficent is not defined.\n",
      "  warnings.warn(PearsonRConstantInputWarning())\n"
     ]
    },
    {
     "name": "stdout",
     "output_type": "stream",
     "text": [
      "Epoch 243 end: 0.9982459545135498, TRAIN MSE is: 2200.90966796875\n",
      "Validation loss: 485197.3125000 - MSE score: 2321.5183105\n",
      "Validation pearson is: nan\n",
      "Validation r2_score is: -1.3090502493229534\n",
      "-------------------------\n"
     ]
    },
    {
     "name": "stderr",
     "output_type": "stream",
     "text": [
      "/home/mbosnjak/.conda/envs/pero/lib/python3.7/site-packages/scipy/stats/stats.py:3399: PearsonRConstantInputWarning: An input array is constant; the correlation coefficent is not defined.\n",
      "  warnings.warn(PearsonRConstantInputWarning())\n"
     ]
    },
    {
     "name": "stdout",
     "output_type": "stream",
     "text": [
      "Epoch 244 end: 1.05255126953125, TRAIN MSE is: 2197.688720703125\n",
      "Validation loss: 484501.8125000 - MSE score: 2318.1906738\n",
      "Validation pearson is: nan\n",
      "Validation r2_score is: -1.3057405443585508\n",
      "-------------------------\n"
     ]
    },
    {
     "name": "stderr",
     "output_type": "stream",
     "text": [
      "/home/mbosnjak/.conda/envs/pero/lib/python3.7/site-packages/scipy/stats/stats.py:3399: PearsonRConstantInputWarning: An input array is constant; the correlation coefficent is not defined.\n",
      "  warnings.warn(PearsonRConstantInputWarning())\n"
     ]
    },
    {
     "name": "stdout",
     "output_type": "stream",
     "text": [
      "Epoch 245 end: 1.0475339889526367, TRAIN MSE is: 2194.531005859375\n",
      "Validation loss: 483810.0312500 - MSE score: 2314.8803711\n",
      "Validation pearson is: nan\n",
      "Validation r2_score is: -1.3024479934643884\n",
      "-------------------------\n"
     ]
    },
    {
     "name": "stderr",
     "output_type": "stream",
     "text": [
      "/home/mbosnjak/.conda/envs/pero/lib/python3.7/site-packages/scipy/stats/stats.py:3399: PearsonRConstantInputWarning: An input array is constant; the correlation coefficent is not defined.\n",
      "  warnings.warn(PearsonRConstantInputWarning())\n"
     ]
    },
    {
     "name": "stdout",
     "output_type": "stream",
     "text": [
      "Epoch 246 end: 1.0293042659759521, TRAIN MSE is: 2191.431884765625\n",
      "Validation loss: 483105.4375000 - MSE score: 2311.5095215\n",
      "Validation pearson is: nan\n",
      "Validation r2_score is: -1.2990951804779178\n",
      "-------------------------\n"
     ]
    },
    {
     "name": "stderr",
     "output_type": "stream",
     "text": [
      "/home/mbosnjak/.conda/envs/pero/lib/python3.7/site-packages/scipy/stats/stats.py:3399: PearsonRConstantInputWarning: An input array is constant; the correlation coefficent is not defined.\n",
      "  warnings.warn(PearsonRConstantInputWarning())\n"
     ]
    },
    {
     "name": "stdout",
     "output_type": "stream",
     "text": [
      "Epoch 247 end: 1.0580739974975586, TRAIN MSE is: 2188.293701171875\n",
      "Validation loss: 482403.3750000 - MSE score: 2308.1501465\n",
      "Validation pearson is: nan\n",
      "Validation r2_score is: -1.2957538222202758\n",
      "-------------------------\n"
     ]
    },
    {
     "name": "stderr",
     "output_type": "stream",
     "text": [
      "/home/mbosnjak/.conda/envs/pero/lib/python3.7/site-packages/scipy/stats/stats.py:3399: PearsonRConstantInputWarning: An input array is constant; the correlation coefficent is not defined.\n",
      "  warnings.warn(PearsonRConstantInputWarning())\n"
     ]
    },
    {
     "name": "stdout",
     "output_type": "stream",
     "text": [
      "Epoch 248 end: 1.0349013805389404, TRAIN MSE is: 2185.1416015625\n",
      "Validation loss: 481709.0000000 - MSE score: 2304.8276367\n",
      "Validation pearson is: nan\n",
      "Validation r2_score is: -1.292449427338044\n",
      "-------------------------\n"
     ]
    },
    {
     "name": "stderr",
     "output_type": "stream",
     "text": [
      "/home/mbosnjak/.conda/envs/pero/lib/python3.7/site-packages/scipy/stats/stats.py:3399: PearsonRConstantInputWarning: An input array is constant; the correlation coefficent is not defined.\n",
      "  warnings.warn(PearsonRConstantInputWarning())\n"
     ]
    },
    {
     "name": "stdout",
     "output_type": "stream",
     "text": [
      "Epoch 249 end: 1.007068395614624, TRAIN MSE is: 2182.05712890625\n",
      "Validation loss: 481005.7812500 - MSE score: 2301.4631348\n",
      "Validation pearson is: nan\n",
      "Validation r2_score is: -1.2891028116232146\n",
      "-------------------------\n"
     ]
    },
    {
     "name": "stderr",
     "output_type": "stream",
     "text": [
      "/home/mbosnjak/.conda/envs/pero/lib/python3.7/site-packages/scipy/stats/stats.py:3399: PearsonRConstantInputWarning: An input array is constant; the correlation coefficent is not defined.\n",
      "  warnings.warn(PearsonRConstantInputWarning())\n"
     ]
    },
    {
     "name": "stdout",
     "output_type": "stream",
     "text": [
      "Epoch 250 end: 1.0144000053405762, TRAIN MSE is: 2178.894775390625\n",
      "Validation loss: 480318.4062500 - MSE score: 2298.1743164\n",
      "Validation pearson is: nan\n",
      "Validation r2_score is: -1.2858315756533796\n",
      "-------------------------\n"
     ]
    },
    {
     "name": "stderr",
     "output_type": "stream",
     "text": [
      "/home/mbosnjak/.conda/envs/pero/lib/python3.7/site-packages/scipy/stats/stats.py:3399: PearsonRConstantInputWarning: An input array is constant; the correlation coefficent is not defined.\n",
      "  warnings.warn(PearsonRConstantInputWarning())\n"
     ]
    },
    {
     "name": "stdout",
     "output_type": "stream",
     "text": [
      "Epoch 251 end: 1.0112926959991455, TRAIN MSE is: 2175.799560546875\n",
      "Validation loss: 479629.2187500 - MSE score: 2294.8767090\n",
      "Validation pearson is: nan\n",
      "Validation r2_score is: -1.2825517605017716\n",
      "-------------------------\n"
     ]
    },
    {
     "name": "stderr",
     "output_type": "stream",
     "text": [
      "/home/mbosnjak/.conda/envs/pero/lib/python3.7/site-packages/scipy/stats/stats.py:3399: PearsonRConstantInputWarning: An input array is constant; the correlation coefficent is not defined.\n",
      "  warnings.warn(PearsonRConstantInputWarning())\n"
     ]
    },
    {
     "name": "stdout",
     "output_type": "stream",
     "text": [
      "Epoch 252 end: 1.0210425853729248, TRAIN MSE is: 2172.707275390625\n",
      "Validation loss: 478940.1875000 - MSE score: 2291.5798340\n",
      "Validation pearson is: nan\n",
      "Validation r2_score is: -1.2792725960380724\n",
      "-------------------------\n"
     ]
    },
    {
     "name": "stderr",
     "output_type": "stream",
     "text": [
      "/home/mbosnjak/.conda/envs/pero/lib/python3.7/site-packages/scipy/stats/stats.py:3399: PearsonRConstantInputWarning: An input array is constant; the correlation coefficent is not defined.\n",
      "  warnings.warn(PearsonRConstantInputWarning())\n"
     ]
    },
    {
     "name": "stdout",
     "output_type": "stream",
     "text": [
      "Epoch 253 end: 0.9838526248931885, TRAIN MSE is: 2169.65234375\n",
      "Validation loss: 478242.5937500 - MSE score: 2288.2421875\n",
      "Validation pearson is: nan\n",
      "Validation r2_score is: -1.275952839948756\n",
      "-------------------------\n"
     ]
    },
    {
     "name": "stderr",
     "output_type": "stream",
     "text": [
      "/home/mbosnjak/.conda/envs/pero/lib/python3.7/site-packages/scipy/stats/stats.py:3399: PearsonRConstantInputWarning: An input array is constant; the correlation coefficent is not defined.\n",
      "  warnings.warn(PearsonRConstantInputWarning())\n"
     ]
    },
    {
     "name": "stdout",
     "output_type": "stream",
     "text": [
      "Epoch 254 end: 1.010019063949585, TRAIN MSE is: 2166.4951171875\n",
      "Validation loss: 477568.8125000 - MSE score: 2285.0183105\n",
      "Validation pearson is: nan\n",
      "Validation r2_score is: -1.2727461473411217\n",
      "-------------------------\n"
     ]
    },
    {
     "name": "stderr",
     "output_type": "stream",
     "text": [
      "/home/mbosnjak/.conda/envs/pero/lib/python3.7/site-packages/scipy/stats/stats.py:3399: PearsonRConstantInputWarning: An input array is constant; the correlation coefficent is not defined.\n",
      "  warnings.warn(PearsonRConstantInputWarning())\n"
     ]
    },
    {
     "name": "stdout",
     "output_type": "stream",
     "text": [
      "Epoch 255 end: 1.0054941177368164, TRAIN MSE is: 2163.4609375\n",
      "Validation loss: 476884.1562500 - MSE score: 2281.7424316\n",
      "Validation pearson is: nan\n",
      "Validation r2_score is: -1.2694880138433144\n",
      "-------------------------\n"
     ]
    },
    {
     "name": "stderr",
     "output_type": "stream",
     "text": [
      "/home/mbosnjak/.conda/envs/pero/lib/python3.7/site-packages/scipy/stats/stats.py:3399: PearsonRConstantInputWarning: An input array is constant; the correlation coefficent is not defined.\n",
      "  warnings.warn(PearsonRConstantInputWarning())\n"
     ]
    },
    {
     "name": "stdout",
     "output_type": "stream",
     "text": [
      "Epoch 256 end: 0.9882495403289795, TRAIN MSE is: 2160.4052734375\n",
      "Validation loss: 476197.4687500 - MSE score: 2278.4570312\n",
      "Validation pearson is: nan\n",
      "Validation r2_score is: -1.266220177770267\n",
      "-------------------------\n"
     ]
    },
    {
     "name": "stderr",
     "output_type": "stream",
     "text": [
      "/home/mbosnjak/.conda/envs/pero/lib/python3.7/site-packages/scipy/stats/stats.py:3399: PearsonRConstantInputWarning: An input array is constant; the correlation coefficent is not defined.\n",
      "  warnings.warn(PearsonRConstantInputWarning())\n"
     ]
    },
    {
     "name": "stdout",
     "output_type": "stream",
     "text": [
      "Epoch 257 end: 1.0235722064971924, TRAIN MSE is: 2157.336669921875\n",
      "Validation loss: 475515.3125000 - MSE score: 2275.1928711\n",
      "Validation pearson is: nan\n",
      "Validation r2_score is: -1.2629737623892647\n",
      "-------------------------\n"
     ]
    },
    {
     "name": "stderr",
     "output_type": "stream",
     "text": [
      "/home/mbosnjak/.conda/envs/pero/lib/python3.7/site-packages/scipy/stats/stats.py:3399: PearsonRConstantInputWarning: An input array is constant; the correlation coefficent is not defined.\n",
      "  warnings.warn(PearsonRConstantInputWarning())\n"
     ]
    },
    {
     "name": "stdout",
     "output_type": "stream",
     "text": [
      "Epoch 258 end: 1.029374361038208, TRAIN MSE is: 2154.27197265625\n",
      "Validation loss: 474839.1250000 - MSE score: 2271.9577637\n",
      "Validation pearson is: nan\n",
      "Validation r2_score is: -1.2597558059786733\n",
      "-------------------------\n"
     ]
    },
    {
     "name": "stderr",
     "output_type": "stream",
     "text": [
      "/home/mbosnjak/.conda/envs/pero/lib/python3.7/site-packages/scipy/stats/stats.py:3399: PearsonRConstantInputWarning: An input array is constant; the correlation coefficent is not defined.\n",
      "  warnings.warn(PearsonRConstantInputWarning())\n"
     ]
    },
    {
     "name": "stdout",
     "output_type": "stream",
     "text": [
      "Epoch 259 end: 1.0359654426574707, TRAIN MSE is: 2151.26611328125\n",
      "Validation loss: 474153.1250000 - MSE score: 2268.6750488\n",
      "Validation pearson is: nan\n",
      "Validation r2_score is: -1.2564908203059169\n",
      "-------------------------\n"
     ]
    },
    {
     "name": "stderr",
     "output_type": "stream",
     "text": [
      "/home/mbosnjak/.conda/envs/pero/lib/python3.7/site-packages/scipy/stats/stats.py:3399: PearsonRConstantInputWarning: An input array is constant; the correlation coefficent is not defined.\n",
      "  warnings.warn(PearsonRConstantInputWarning())\n"
     ]
    },
    {
     "name": "stdout",
     "output_type": "stream",
     "text": [
      "Epoch 260 end: 1.0351519584655762, TRAIN MSE is: 2148.1669921875\n",
      "Validation loss: 473487.0000000 - MSE score: 2265.4880371\n",
      "Validation pearson is: nan\n",
      "Validation r2_score is: -1.2533209040732771\n",
      "-------------------------\n"
     ]
    },
    {
     "name": "stderr",
     "output_type": "stream",
     "text": [
      "/home/mbosnjak/.conda/envs/pero/lib/python3.7/site-packages/scipy/stats/stats.py:3399: PearsonRConstantInputWarning: An input array is constant; the correlation coefficent is not defined.\n",
      "  warnings.warn(PearsonRConstantInputWarning())\n"
     ]
    },
    {
     "name": "stdout",
     "output_type": "stream",
     "text": [
      "Epoch 261 end: 1.0244641304016113, TRAIN MSE is: 2145.1767578125\n",
      "Validation loss: 472811.4687500 - MSE score: 2262.2558594\n",
      "Validation pearson is: nan\n",
      "Validation r2_score is: -1.2501061293015807\n",
      "-------------------------\n"
     ]
    },
    {
     "name": "stderr",
     "output_type": "stream",
     "text": [
      "/home/mbosnjak/.conda/envs/pero/lib/python3.7/site-packages/scipy/stats/stats.py:3399: PearsonRConstantInputWarning: An input array is constant; the correlation coefficent is not defined.\n",
      "  warnings.warn(PearsonRConstantInputWarning())\n"
     ]
    },
    {
     "name": "stdout",
     "output_type": "stream",
     "text": [
      "Epoch 262 end: 1.0388078689575195, TRAIN MSE is: 2142.15869140625\n",
      "Validation loss: 472136.5000000 - MSE score: 2259.0263672\n",
      "Validation pearson is: nan\n",
      "Validation r2_score is: -1.246893858572033\n",
      "-------------------------\n"
     ]
    },
    {
     "name": "stderr",
     "output_type": "stream",
     "text": [
      "/home/mbosnjak/.conda/envs/pero/lib/python3.7/site-packages/scipy/stats/stats.py:3399: PearsonRConstantInputWarning: An input array is constant; the correlation coefficent is not defined.\n",
      "  warnings.warn(PearsonRConstantInputWarning())\n"
     ]
    },
    {
     "name": "stdout",
     "output_type": "stream",
     "text": [
      "Epoch 263 end: 1.033240556716919, TRAIN MSE is: 2139.134033203125\n",
      "Validation loss: 471466.3437500 - MSE score: 2255.8195801\n",
      "Validation pearson is: nan\n",
      "Validation r2_score is: -1.2437045216375755\n",
      "-------------------------\n"
     ]
    },
    {
     "name": "stderr",
     "output_type": "stream",
     "text": [
      "/home/mbosnjak/.conda/envs/pero/lib/python3.7/site-packages/scipy/stats/stats.py:3399: PearsonRConstantInputWarning: An input array is constant; the correlation coefficent is not defined.\n",
      "  warnings.warn(PearsonRConstantInputWarning())\n"
     ]
    },
    {
     "name": "stdout",
     "output_type": "stream",
     "text": [
      "Epoch 264 end: 1.0211915969848633, TRAIN MSE is: 2136.132568359375\n",
      "Validation loss: 470796.8750000 - MSE score: 2252.6166992\n",
      "Validation pearson is: nan\n",
      "Validation r2_score is: -1.2405187398224569\n",
      "-------------------------\n"
     ]
    },
    {
     "name": "stderr",
     "output_type": "stream",
     "text": [
      "/home/mbosnjak/.conda/envs/pero/lib/python3.7/site-packages/scipy/stats/stats.py:3399: PearsonRConstantInputWarning: An input array is constant; the correlation coefficent is not defined.\n",
      "  warnings.warn(PearsonRConstantInputWarning())\n"
     ]
    },
    {
     "name": "stdout",
     "output_type": "stream",
     "text": [
      "Epoch 265 end: 1.0374584197998047, TRAIN MSE is: 2133.13134765625\n",
      "Validation loss: 470130.6875000 - MSE score: 2249.4289551\n",
      "Validation pearson is: nan\n",
      "Validation r2_score is: -1.2373481481428792\n",
      "-------------------------\n"
     ]
    },
    {
     "name": "stderr",
     "output_type": "stream",
     "text": [
      "/home/mbosnjak/.conda/envs/pero/lib/python3.7/site-packages/scipy/stats/stats.py:3399: PearsonRConstantInputWarning: An input array is constant; the correlation coefficent is not defined.\n",
      "  warnings.warn(PearsonRConstantInputWarning())\n"
     ]
    },
    {
     "name": "stdout",
     "output_type": "stream",
     "text": [
      "Epoch 266 end: 1.0321481227874756, TRAIN MSE is: 2130.129150390625\n",
      "Validation loss: 469469.2812500 - MSE score: 2246.2644043\n",
      "Validation pearson is: nan\n",
      "Validation r2_score is: -1.2342005651878676\n",
      "-------------------------\n"
     ]
    },
    {
     "name": "stderr",
     "output_type": "stream",
     "text": [
      "/home/mbosnjak/.conda/envs/pero/lib/python3.7/site-packages/scipy/stats/stats.py:3399: PearsonRConstantInputWarning: An input array is constant; the correlation coefficent is not defined.\n",
      "  warnings.warn(PearsonRConstantInputWarning())\n"
     ]
    },
    {
     "name": "stdout",
     "output_type": "stream",
     "text": [
      "Epoch 267 end: 1.0234096050262451, TRAIN MSE is: 2127.15625\n",
      "Validation loss: 468806.6875000 - MSE score: 2243.0942383\n",
      "Validation pearson is: nan\n",
      "Validation r2_score is: -1.23104722834209\n",
      "-------------------------\n"
     ]
    },
    {
     "name": "stderr",
     "output_type": "stream",
     "text": [
      "/home/mbosnjak/.conda/envs/pero/lib/python3.7/site-packages/scipy/stats/stats.py:3399: PearsonRConstantInputWarning: An input array is constant; the correlation coefficent is not defined.\n",
      "  warnings.warn(PearsonRConstantInputWarning())\n"
     ]
    },
    {
     "name": "stdout",
     "output_type": "stream",
     "text": [
      "Epoch 268 end: 1.0324137210845947, TRAIN MSE is: 2124.187255859375\n",
      "Validation loss: 468143.7187500 - MSE score: 2239.9218750\n",
      "Validation pearson is: nan\n",
      "Validation r2_score is: -1.2278921106191203\n",
      "-------------------------\n"
     ]
    },
    {
     "name": "stderr",
     "output_type": "stream",
     "text": [
      "/home/mbosnjak/.conda/envs/pero/lib/python3.7/site-packages/scipy/stats/stats.py:3399: PearsonRConstantInputWarning: An input array is constant; the correlation coefficent is not defined.\n",
      "  warnings.warn(PearsonRConstantInputWarning())\n"
     ]
    },
    {
     "name": "stdout",
     "output_type": "stream",
     "text": [
      "Epoch 269 end: 1.0208854675292969, TRAIN MSE is: 2121.2421875\n",
      "Validation loss: 467476.0000000 - MSE score: 2236.7270508\n",
      "Validation pearson is: nan\n",
      "Validation r2_score is: -1.224714455341692\n",
      "-------------------------\n"
     ]
    },
    {
     "name": "stderr",
     "output_type": "stream",
     "text": [
      "/home/mbosnjak/.conda/envs/pero/lib/python3.7/site-packages/scipy/stats/stats.py:3399: PearsonRConstantInputWarning: An input array is constant; the correlation coefficent is not defined.\n",
      "  warnings.warn(PearsonRConstantInputWarning())\n"
     ]
    },
    {
     "name": "stdout",
     "output_type": "stream",
     "text": [
      "Epoch 270 end: 0.9970495700836182, TRAIN MSE is: 2118.260986328125\n",
      "Validation loss: 466816.3750000 - MSE score: 2233.5712891\n",
      "Validation pearson is: nan\n",
      "Validation r2_score is: -1.2215755188801154\n",
      "-------------------------\n"
     ]
    },
    {
     "name": "stderr",
     "output_type": "stream",
     "text": [
      "/home/mbosnjak/.conda/envs/pero/lib/python3.7/site-packages/scipy/stats/stats.py:3399: PearsonRConstantInputWarning: An input array is constant; the correlation coefficent is not defined.\n",
      "  warnings.warn(PearsonRConstantInputWarning())\n"
     ]
    },
    {
     "name": "stdout",
     "output_type": "stream",
     "text": [
      "Epoch 271 end: 1.0100231170654297, TRAIN MSE is: 2115.272216796875\n",
      "Validation loss: 466169.8750000 - MSE score: 2230.4777832\n",
      "Validation pearson is: nan\n",
      "Validation r2_score is: -1.2184987329263093\n",
      "-------------------------\n"
     ]
    },
    {
     "name": "stderr",
     "output_type": "stream",
     "text": [
      "/home/mbosnjak/.conda/envs/pero/lib/python3.7/site-packages/scipy/stats/stats.py:3399: PearsonRConstantInputWarning: An input array is constant; the correlation coefficent is not defined.\n",
      "  warnings.warn(PearsonRConstantInputWarning())\n"
     ]
    },
    {
     "name": "stdout",
     "output_type": "stream",
     "text": [
      "Epoch 272 end: 1.0205705165863037, TRAIN MSE is: 2112.39013671875\n",
      "Validation loss: 465505.9375000 - MSE score: 2227.3010254\n",
      "Validation pearson is: nan\n",
      "Validation r2_score is: -1.2153391325349916\n",
      "-------------------------\n"
     ]
    },
    {
     "name": "stderr",
     "output_type": "stream",
     "text": [
      "/home/mbosnjak/.conda/envs/pero/lib/python3.7/site-packages/scipy/stats/stats.py:3399: PearsonRConstantInputWarning: An input array is constant; the correlation coefficent is not defined.\n",
      "  warnings.warn(PearsonRConstantInputWarning())\n"
     ]
    },
    {
     "name": "stdout",
     "output_type": "stream",
     "text": [
      "Epoch 273 end: 1.0624096393585205, TRAIN MSE is: 2109.423095703125\n",
      "Validation loss: 464852.6875000 - MSE score: 2224.1755371\n",
      "Validation pearson is: nan\n",
      "Validation r2_score is: -1.2122301997253238\n",
      "-------------------------\n"
     ]
    },
    {
     "name": "stderr",
     "output_type": "stream",
     "text": [
      "/home/mbosnjak/.conda/envs/pero/lib/python3.7/site-packages/scipy/stats/stats.py:3399: PearsonRConstantInputWarning: An input array is constant; the correlation coefficent is not defined.\n",
      "  warnings.warn(PearsonRConstantInputWarning())\n"
     ]
    },
    {
     "name": "stdout",
     "output_type": "stream",
     "text": [
      "Epoch 274 end: 1.0683925151824951, TRAIN MSE is: 2106.50390625\n",
      "Validation loss: 464198.5937500 - MSE score: 2221.0456543\n",
      "Validation pearson is: nan\n",
      "Validation r2_score is: -1.20911726453512\n",
      "-------------------------\n"
     ]
    },
    {
     "name": "stderr",
     "output_type": "stream",
     "text": [
      "/home/mbosnjak/.conda/envs/pero/lib/python3.7/site-packages/scipy/stats/stats.py:3399: PearsonRConstantInputWarning: An input array is constant; the correlation coefficent is not defined.\n",
      "  warnings.warn(PearsonRConstantInputWarning())\n"
     ]
    },
    {
     "name": "stdout",
     "output_type": "stream",
     "text": [
      "Epoch 275 end: 1.0397255420684814, TRAIN MSE is: 2103.572265625\n",
      "Validation loss: 463549.2500000 - MSE score: 2217.9389648\n",
      "Validation pearson is: nan\n",
      "Validation r2_score is: -1.2060272819359499\n",
      "-------------------------\n"
     ]
    },
    {
     "name": "stderr",
     "output_type": "stream",
     "text": [
      "/home/mbosnjak/.conda/envs/pero/lib/python3.7/site-packages/scipy/stats/stats.py:3399: PearsonRConstantInputWarning: An input array is constant; the correlation coefficent is not defined.\n",
      "  warnings.warn(PearsonRConstantInputWarning())\n"
     ]
    },
    {
     "name": "stdout",
     "output_type": "stream",
     "text": [
      "Epoch 276 end: 1.0110809803009033, TRAIN MSE is: 2100.67724609375\n",
      "Validation loss: 462895.1875000 - MSE score: 2214.8095703\n",
      "Validation pearson is: nan\n",
      "Validation r2_score is: -1.2029145201363431\n",
      "-------------------------\n"
     ]
    },
    {
     "name": "stderr",
     "output_type": "stream",
     "text": [
      "/home/mbosnjak/.conda/envs/pero/lib/python3.7/site-packages/scipy/stats/stats.py:3399: PearsonRConstantInputWarning: An input array is constant; the correlation coefficent is not defined.\n",
      "  warnings.warn(PearsonRConstantInputWarning())\n"
     ]
    },
    {
     "name": "stdout",
     "output_type": "stream",
     "text": [
      "Epoch 277 end: 1.0306990146636963, TRAIN MSE is: 2097.748291015625\n",
      "Validation loss: 462249.5937500 - MSE score: 2211.7204590\n",
      "Validation pearson is: nan\n",
      "Validation r2_score is: -1.1998420972464907\n",
      "-------------------------\n"
     ]
    },
    {
     "name": "stderr",
     "output_type": "stream",
     "text": [
      "/home/mbosnjak/.conda/envs/pero/lib/python3.7/site-packages/scipy/stats/stats.py:3399: PearsonRConstantInputWarning: An input array is constant; the correlation coefficent is not defined.\n",
      "  warnings.warn(PearsonRConstantInputWarning())\n"
     ]
    },
    {
     "name": "stdout",
     "output_type": "stream",
     "text": [
      "Epoch 278 end: 1.022665023803711, TRAIN MSE is: 2094.8759765625\n",
      "Validation loss: 461598.1562500 - MSE score: 2208.6037598\n",
      "Validation pearson is: nan\n",
      "Validation r2_score is: -1.1967420916957003\n",
      "-------------------------\n"
     ]
    },
    {
     "name": "stderr",
     "output_type": "stream",
     "text": [
      "/home/mbosnjak/.conda/envs/pero/lib/python3.7/site-packages/scipy/stats/stats.py:3399: PearsonRConstantInputWarning: An input array is constant; the correlation coefficent is not defined.\n",
      "  warnings.warn(PearsonRConstantInputWarning())\n"
     ]
    },
    {
     "name": "stdout",
     "output_type": "stream",
     "text": [
      "Epoch 279 end: 1.012920618057251, TRAIN MSE is: 2091.94384765625\n",
      "Validation loss: 460960.3125000 - MSE score: 2205.5517578\n",
      "Validation pearson is: nan\n",
      "Validation r2_score is: -1.1937064340973316\n",
      "-------------------------\n"
     ]
    },
    {
     "name": "stderr",
     "output_type": "stream",
     "text": [
      "/home/mbosnjak/.conda/envs/pero/lib/python3.7/site-packages/scipy/stats/stats.py:3399: PearsonRConstantInputWarning: An input array is constant; the correlation coefficent is not defined.\n",
      "  warnings.warn(PearsonRConstantInputWarning())\n"
     ]
    },
    {
     "name": "stdout",
     "output_type": "stream",
     "text": [
      "Epoch 280 end: 1.0282824039459229, TRAIN MSE is: 2089.082275390625\n",
      "Validation loss: 460316.9687500 - MSE score: 2202.4733887\n",
      "Validation pearson is: nan\n",
      "Validation r2_score is: -1.1906445965806056\n",
      "-------------------------\n"
     ]
    },
    {
     "name": "stderr",
     "output_type": "stream",
     "text": [
      "/home/mbosnjak/.conda/envs/pero/lib/python3.7/site-packages/scipy/stats/stats.py:3399: PearsonRConstantInputWarning: An input array is constant; the correlation coefficent is not defined.\n",
      "  warnings.warn(PearsonRConstantInputWarning())\n"
     ]
    },
    {
     "name": "stdout",
     "output_type": "stream",
     "text": [
      "Epoch 281 end: 1.032130241394043, TRAIN MSE is: 2086.218505859375\n",
      "Validation loss: 459671.6250000 - MSE score: 2199.3857422\n",
      "Validation pearson is: nan\n",
      "Validation r2_score is: -1.1875736826830767\n",
      "-------------------------\n"
     ]
    },
    {
     "name": "stderr",
     "output_type": "stream",
     "text": [
      "/home/mbosnjak/.conda/envs/pero/lib/python3.7/site-packages/scipy/stats/stats.py:3399: PearsonRConstantInputWarning: An input array is constant; the correlation coefficent is not defined.\n",
      "  warnings.warn(PearsonRConstantInputWarning())\n"
     ]
    },
    {
     "name": "stdout",
     "output_type": "stream",
     "text": [
      "Epoch 282 end: 1.0335969924926758, TRAIN MSE is: 2083.31591796875\n",
      "Validation loss: 459038.1562500 - MSE score: 2196.3549805\n",
      "Validation pearson is: nan\n",
      "Validation r2_score is: -1.1845591244777447\n",
      "-------------------------\n"
     ]
    },
    {
     "name": "stderr",
     "output_type": "stream",
     "text": [
      "/home/mbosnjak/.conda/envs/pero/lib/python3.7/site-packages/scipy/stats/stats.py:3399: PearsonRConstantInputWarning: An input array is constant; the correlation coefficent is not defined.\n",
      "  warnings.warn(PearsonRConstantInputWarning())\n"
     ]
    },
    {
     "name": "stdout",
     "output_type": "stream",
     "text": [
      "Epoch 283 end: 1.0184438228607178, TRAIN MSE is: 2080.4853515625\n",
      "Validation loss: 458396.8437500 - MSE score: 2193.2863770\n",
      "Validation pearson is: nan\n",
      "Validation r2_score is: -1.181507081717434\n",
      "-------------------------\n"
     ]
    },
    {
     "name": "stderr",
     "output_type": "stream",
     "text": [
      "/home/mbosnjak/.conda/envs/pero/lib/python3.7/site-packages/scipy/stats/stats.py:3399: PearsonRConstantInputWarning: An input array is constant; the correlation coefficent is not defined.\n",
      "  warnings.warn(PearsonRConstantInputWarning())\n"
     ]
    },
    {
     "name": "stdout",
     "output_type": "stream",
     "text": [
      "Epoch 284 end: 1.0257954597473145, TRAIN MSE is: 2077.61767578125\n",
      "Validation loss: 457761.0937500 - MSE score: 2190.2443848\n",
      "Validation pearson is: nan\n",
      "Validation r2_score is: -1.1784814145564795\n",
      "-------------------------\n"
     ]
    },
    {
     "name": "stderr",
     "output_type": "stream",
     "text": [
      "/home/mbosnjak/.conda/envs/pero/lib/python3.7/site-packages/scipy/stats/stats.py:3399: PearsonRConstantInputWarning: An input array is constant; the correlation coefficent is not defined.\n",
      "  warnings.warn(PearsonRConstantInputWarning())\n"
     ]
    },
    {
     "name": "stdout",
     "output_type": "stream",
     "text": [
      "Epoch 285 end: 1.0270111560821533, TRAIN MSE is: 2074.76025390625\n",
      "Validation loss: 457130.5625000 - MSE score: 2187.2275391\n",
      "Validation pearson is: nan\n",
      "Validation r2_score is: -1.1754806508445697\n",
      "-------------------------\n"
     ]
    },
    {
     "name": "stderr",
     "output_type": "stream",
     "text": [
      "/home/mbosnjak/.conda/envs/pero/lib/python3.7/site-packages/scipy/stats/stats.py:3399: PearsonRConstantInputWarning: An input array is constant; the correlation coefficent is not defined.\n",
      "  warnings.warn(PearsonRConstantInputWarning())\n"
     ]
    },
    {
     "name": "stdout",
     "output_type": "stream",
     "text": [
      "Epoch 286 end: 1.0096514225006104, TRAIN MSE is: 2071.925048828125\n",
      "Validation loss: 456500.0625000 - MSE score: 2184.2109375\n",
      "Validation pearson is: nan\n",
      "Validation r2_score is: -1.1724803107218271\n",
      "-------------------------\n"
     ]
    },
    {
     "name": "stderr",
     "output_type": "stream",
     "text": [
      "/home/mbosnjak/.conda/envs/pero/lib/python3.7/site-packages/scipy/stats/stats.py:3399: PearsonRConstantInputWarning: An input array is constant; the correlation coefficent is not defined.\n",
      "  warnings.warn(PearsonRConstantInputWarning())\n"
     ]
    },
    {
     "name": "stdout",
     "output_type": "stream",
     "text": [
      "Epoch 287 end: 1.0982584953308105, TRAIN MSE is: 2069.142333984375\n",
      "Validation loss: 455856.6875000 - MSE score: 2181.1328125\n",
      "Validation pearson is: nan\n",
      "Validation r2_score is: -1.169418490574059\n",
      "-------------------------\n"
     ]
    },
    {
     "name": "stderr",
     "output_type": "stream",
     "text": [
      "/home/mbosnjak/.conda/envs/pero/lib/python3.7/site-packages/scipy/stats/stats.py:3399: PearsonRConstantInputWarning: An input array is constant; the correlation coefficent is not defined.\n",
      "  warnings.warn(PearsonRConstantInputWarning())\n"
     ]
    },
    {
     "name": "stdout",
     "output_type": "stream",
     "text": [
      "Epoch 288 end: 1.03004789352417, TRAIN MSE is: 2066.282958984375\n",
      "Validation loss: 455225.7187500 - MSE score: 2178.1132812\n",
      "Validation pearson is: nan\n",
      "Validation r2_score is: -1.1664155272511647\n",
      "-------------------------\n"
     ]
    },
    {
     "name": "stderr",
     "output_type": "stream",
     "text": [
      "/home/mbosnjak/.conda/envs/pero/lib/python3.7/site-packages/scipy/stats/stats.py:3399: PearsonRConstantInputWarning: An input array is constant; the correlation coefficent is not defined.\n",
      "  warnings.warn(PearsonRConstantInputWarning())\n"
     ]
    },
    {
     "name": "stdout",
     "output_type": "stream",
     "text": [
      "Epoch 289 end: 1.0221517086029053, TRAIN MSE is: 2063.46630859375\n",
      "Validation loss: 454595.9687500 - MSE score: 2175.1000977\n",
      "Validation pearson is: nan\n",
      "Validation r2_score is: -1.1634185966494242\n",
      "-------------------------\n"
     ]
    },
    {
     "name": "stderr",
     "output_type": "stream",
     "text": [
      "/home/mbosnjak/.conda/envs/pero/lib/python3.7/site-packages/scipy/stats/stats.py:3399: PearsonRConstantInputWarning: An input array is constant; the correlation coefficent is not defined.\n",
      "  warnings.warn(PearsonRConstantInputWarning())\n"
     ]
    },
    {
     "name": "stdout",
     "output_type": "stream",
     "text": [
      "Epoch 290 end: 1.0110290050506592, TRAIN MSE is: 2060.653076171875\n",
      "Validation loss: 453968.7500000 - MSE score: 2172.0993652\n",
      "Validation pearson is: nan\n",
      "Validation r2_score is: -1.1604337329851537\n",
      "-------------------------\n"
     ]
    },
    {
     "name": "stderr",
     "output_type": "stream",
     "text": [
      "/home/mbosnjak/.conda/envs/pero/lib/python3.7/site-packages/scipy/stats/stats.py:3399: PearsonRConstantInputWarning: An input array is constant; the correlation coefficent is not defined.\n",
      "  warnings.warn(PearsonRConstantInputWarning())\n"
     ]
    },
    {
     "name": "stdout",
     "output_type": "stream",
     "text": [
      "Epoch 291 end: 1.0319020748138428, TRAIN MSE is: 2057.827392578125\n",
      "Validation loss: 453350.4375000 - MSE score: 2169.1411133\n",
      "Validation pearson is: nan\n",
      "Validation r2_score is: -1.157491337493607\n",
      "-------------------------\n"
     ]
    },
    {
     "name": "stderr",
     "output_type": "stream",
     "text": [
      "/home/mbosnjak/.conda/envs/pero/lib/python3.7/site-packages/scipy/stats/stats.py:3399: PearsonRConstantInputWarning: An input array is constant; the correlation coefficent is not defined.\n",
      "  warnings.warn(PearsonRConstantInputWarning())\n"
     ]
    },
    {
     "name": "stdout",
     "output_type": "stream",
     "text": [
      "Epoch 292 end: 1.0531370639801025, TRAIN MSE is: 2055.05126953125\n",
      "Validation loss: 452727.9375000 - MSE score: 2166.1621094\n",
      "Validation pearson is: nan\n",
      "Validation r2_score is: -1.154528566531976\n",
      "-------------------------\n"
     ]
    },
    {
     "name": "stderr",
     "output_type": "stream",
     "text": [
      "/home/mbosnjak/.conda/envs/pero/lib/python3.7/site-packages/scipy/stats/stats.py:3399: PearsonRConstantInputWarning: An input array is constant; the correlation coefficent is not defined.\n",
      "  warnings.warn(PearsonRConstantInputWarning())\n"
     ]
    },
    {
     "name": "stdout",
     "output_type": "stream",
     "text": [
      "Epoch 293 end: 1.0137434005737305, TRAIN MSE is: 2052.25830078125\n",
      "Validation loss: 452108.6562500 - MSE score: 2163.1992188\n",
      "Validation pearson is: nan\n",
      "Validation r2_score is: -1.1515815630511108\n",
      "-------------------------\n"
     ]
    },
    {
     "name": "stderr",
     "output_type": "stream",
     "text": [
      "/home/mbosnjak/.conda/envs/pero/lib/python3.7/site-packages/scipy/stats/stats.py:3399: PearsonRConstantInputWarning: An input array is constant; the correlation coefficent is not defined.\n",
      "  warnings.warn(PearsonRConstantInputWarning())\n"
     ]
    },
    {
     "name": "stdout",
     "output_type": "stream",
     "text": [
      "Epoch 294 end: 1.0001075267791748, TRAIN MSE is: 2049.52294921875\n",
      "Validation loss: 451477.6250000 - MSE score: 2160.1799316\n",
      "Validation pearson is: nan\n",
      "Validation r2_score is: -1.1485785221876688\n",
      "-------------------------\n"
     ]
    },
    {
     "name": "stderr",
     "output_type": "stream",
     "text": [
      "/home/mbosnjak/.conda/envs/pero/lib/python3.7/site-packages/scipy/stats/stats.py:3399: PearsonRConstantInputWarning: An input array is constant; the correlation coefficent is not defined.\n",
      "  warnings.warn(PearsonRConstantInputWarning())\n"
     ]
    },
    {
     "name": "stdout",
     "output_type": "stream",
     "text": [
      "Epoch 295 end: 1.00821852684021, TRAIN MSE is: 2046.7183837890625\n",
      "Validation loss: 450857.5000000 - MSE score: 2157.2128906\n",
      "Validation pearson is: nan\n",
      "Validation r2_score is: -1.145627305131785\n",
      "-------------------------\n"
     ]
    },
    {
     "name": "stderr",
     "output_type": "stream",
     "text": [
      "/home/mbosnjak/.conda/envs/pero/lib/python3.7/site-packages/scipy/stats/stats.py:3399: PearsonRConstantInputWarning: An input array is constant; the correlation coefficent is not defined.\n",
      "  warnings.warn(PearsonRConstantInputWarning())\n"
     ]
    },
    {
     "name": "stdout",
     "output_type": "stream",
     "text": [
      "Epoch 296 end: 1.0031278133392334, TRAIN MSE is: 2043.927978515625\n",
      "Validation loss: 450246.8125000 - MSE score: 2154.2910156\n",
      "Validation pearson is: nan\n",
      "Validation r2_score is: -1.1427210252129822\n",
      "-------------------------\n"
     ]
    },
    {
     "name": "stderr",
     "output_type": "stream",
     "text": [
      "/home/mbosnjak/.conda/envs/pero/lib/python3.7/site-packages/scipy/stats/stats.py:3399: PearsonRConstantInputWarning: An input array is constant; the correlation coefficent is not defined.\n",
      "  warnings.warn(PearsonRConstantInputWarning())\n"
     ]
    },
    {
     "name": "stdout",
     "output_type": "stream",
     "text": [
      "Epoch 297 end: 0.9927647113800049, TRAIN MSE is: 2041.197509765625\n",
      "Validation loss: 449629.0000000 - MSE score: 2151.3349609\n",
      "Validation pearson is: nan\n",
      "Validation r2_score is: -1.1397809164559294\n",
      "-------------------------\n"
     ]
    },
    {
     "name": "stderr",
     "output_type": "stream",
     "text": [
      "/home/mbosnjak/.conda/envs/pero/lib/python3.7/site-packages/scipy/stats/stats.py:3399: PearsonRConstantInputWarning: An input array is constant; the correlation coefficent is not defined.\n",
      "  warnings.warn(PearsonRConstantInputWarning())\n"
     ]
    },
    {
     "name": "stdout",
     "output_type": "stream",
     "text": [
      "Epoch 298 end: 0.9900913238525391, TRAIN MSE is: 2038.436279296875\n",
      "Validation loss: 449016.0000000 - MSE score: 2148.4018555\n",
      "Validation pearson is: nan\n",
      "Validation r2_score is: -1.1368635947631969\n",
      "-------------------------\n"
     ]
    },
    {
     "name": "stderr",
     "output_type": "stream",
     "text": [
      "/home/mbosnjak/.conda/envs/pero/lib/python3.7/site-packages/scipy/stats/stats.py:3399: PearsonRConstantInputWarning: An input array is constant; the correlation coefficent is not defined.\n",
      "  warnings.warn(PearsonRConstantInputWarning())\n"
     ]
    },
    {
     "name": "stdout",
     "output_type": "stream",
     "text": [
      "Epoch 299 end: 0.9930431842803955, TRAIN MSE is: 2035.744140625\n",
      "Validation loss: 448389.9062500 - MSE score: 2145.4060059\n",
      "Validation pearson is: nan\n",
      "Validation r2_score is: -1.1338839290561107\n",
      "-------------------------\n"
     ]
    },
    {
     "name": "stderr",
     "output_type": "stream",
     "text": [
      "/home/mbosnjak/.conda/envs/pero/lib/python3.7/site-packages/scipy/stats/stats.py:3399: PearsonRConstantInputWarning: An input array is constant; the correlation coefficent is not defined.\n",
      "  warnings.warn(PearsonRConstantInputWarning())\n"
     ]
    },
    {
     "name": "stdout",
     "output_type": "stream",
     "text": [
      "Epoch 300 end: 1.0029277801513672, TRAIN MSE is: 2033.0340576171875\n",
      "Validation loss: 447851.4375000 - MSE score: 2142.8300781\n",
      "Validation pearson is: nan\n",
      "Validation r2_score is: -1.1313216570991638\n",
      "-------------------------\n"
     ]
    },
    {
     "name": "stderr",
     "output_type": "stream",
     "text": [
      "/home/mbosnjak/.conda/envs/pero/lib/python3.7/site-packages/scipy/stats/stats.py:3399: PearsonRConstantInputWarning: An input array is constant; the correlation coefficent is not defined.\n",
      "  warnings.warn(PearsonRConstantInputWarning())\n"
     ]
    },
    {
     "name": "stdout",
     "output_type": "stream",
     "text": [
      "Epoch 301 end: 0.992753267288208, TRAIN MSE is: 2030.626220703125\n",
      "Validation loss: 447299.2187500 - MSE score: 2140.1875000\n",
      "Validation pearson is: nan\n",
      "Validation r2_score is: -1.1286933017944727\n",
      "-------------------------\n"
     ]
    },
    {
     "name": "stderr",
     "output_type": "stream",
     "text": [
      "/home/mbosnjak/.conda/envs/pero/lib/python3.7/site-packages/scipy/stats/stats.py:3399: PearsonRConstantInputWarning: An input array is constant; the correlation coefficent is not defined.\n",
      "  warnings.warn(PearsonRConstantInputWarning())\n"
     ]
    },
    {
     "name": "stdout",
     "output_type": "stream",
     "text": [
      "Epoch 302 end: 1.010324478149414, TRAIN MSE is: 2028.1693115234375\n",
      "Validation loss: 446750.0000000 - MSE score: 2137.5600586\n",
      "Validation pearson is: nan\n",
      "Validation r2_score is: -1.1260797170061623\n",
      "-------------------------\n"
     ]
    },
    {
     "name": "stderr",
     "output_type": "stream",
     "text": [
      "/home/mbosnjak/.conda/envs/pero/lib/python3.7/site-packages/scipy/stats/stats.py:3399: PearsonRConstantInputWarning: An input array is constant; the correlation coefficent is not defined.\n",
      "  warnings.warn(PearsonRConstantInputWarning())\n"
     ]
    },
    {
     "name": "stdout",
     "output_type": "stream",
     "text": [
      "Epoch 303 end: 1.0049993991851807, TRAIN MSE is: 2025.7061767578125\n",
      "Validation loss: 446207.8750000 - MSE score: 2134.9658203\n",
      "Validation pearson is: nan\n",
      "Validation r2_score is: -1.1234997996024876\n",
      "-------------------------\n"
     ]
    },
    {
     "name": "stderr",
     "output_type": "stream",
     "text": [
      "/home/mbosnjak/.conda/envs/pero/lib/python3.7/site-packages/scipy/stats/stats.py:3399: PearsonRConstantInputWarning: An input array is constant; the correlation coefficent is not defined.\n",
      "  warnings.warn(PearsonRConstantInputWarning())\n"
     ]
    },
    {
     "name": "stdout",
     "output_type": "stream",
     "text": [
      "Epoch 304 end: 1.0213255882263184, TRAIN MSE is: 2023.2841796875\n",
      "Validation loss: 445661.5000000 - MSE score: 2132.3515625\n",
      "Validation pearson is: nan\n",
      "Validation r2_score is: -1.1208995102094965\n",
      "-------------------------\n"
     ]
    },
    {
     "name": "stderr",
     "output_type": "stream",
     "text": [
      "/home/mbosnjak/.conda/envs/pero/lib/python3.7/site-packages/scipy/stats/stats.py:3399: PearsonRConstantInputWarning: An input array is constant; the correlation coefficent is not defined.\n",
      "  warnings.warn(PearsonRConstantInputWarning())\n"
     ]
    },
    {
     "name": "stdout",
     "output_type": "stream",
     "text": [
      "Epoch 305 end: 1.05574369430542, TRAIN MSE is: 2020.8240966796875\n",
      "Validation loss: 445124.6562500 - MSE score: 2129.7829590\n",
      "Validation pearson is: nan\n",
      "Validation r2_score is: -1.1183447475220616\n",
      "-------------------------\n"
     ]
    },
    {
     "name": "stderr",
     "output_type": "stream",
     "text": [
      "/home/mbosnjak/.conda/envs/pero/lib/python3.7/site-packages/scipy/stats/stats.py:3399: PearsonRConstantInputWarning: An input array is constant; the correlation coefficent is not defined.\n",
      "  warnings.warn(PearsonRConstantInputWarning())\n"
     ]
    },
    {
     "name": "stdout",
     "output_type": "stream",
     "text": [
      "Epoch 306 end: 1.022346019744873, TRAIN MSE is: 2018.4615478515625\n",
      "Validation loss: 444569.4687500 - MSE score: 2127.1267090\n",
      "Validation pearson is: nan\n",
      "Validation r2_score is: -1.115702544612474\n",
      "-------------------------\n"
     ]
    },
    {
     "name": "stderr",
     "output_type": "stream",
     "text": [
      "/home/mbosnjak/.conda/envs/pero/lib/python3.7/site-packages/scipy/stats/stats.py:3399: PearsonRConstantInputWarning: An input array is constant; the correlation coefficent is not defined.\n",
      "  warnings.warn(PearsonRConstantInputWarning())\n"
     ]
    },
    {
     "name": "stdout",
     "output_type": "stream",
     "text": [
      "Epoch 307 end: 1.001648187637329, TRAIN MSE is: 2015.99072265625\n",
      "Validation loss: 444029.8437500 - MSE score: 2124.5449219\n",
      "Validation pearson is: nan\n",
      "Validation r2_score is: -1.113134545952958\n",
      "-------------------------\n"
     ]
    },
    {
     "name": "stderr",
     "output_type": "stream",
     "text": [
      "/home/mbosnjak/.conda/envs/pero/lib/python3.7/site-packages/scipy/stats/stats.py:3399: PearsonRConstantInputWarning: An input array is constant; the correlation coefficent is not defined.\n",
      "  warnings.warn(PearsonRConstantInputWarning())\n"
     ]
    },
    {
     "name": "stdout",
     "output_type": "stream",
     "text": [
      "Epoch 308 end: 1.059049367904663, TRAIN MSE is: 2013.5797119140625\n",
      "Validation loss: 443489.8125000 - MSE score: 2121.9604492\n",
      "Validation pearson is: nan\n",
      "Validation r2_score is: -1.1105643250840602\n",
      "-------------------------\n"
     ]
    },
    {
     "name": "stderr",
     "output_type": "stream",
     "text": [
      "/home/mbosnjak/.conda/envs/pero/lib/python3.7/site-packages/scipy/stats/stats.py:3399: PearsonRConstantInputWarning: An input array is constant; the correlation coefficent is not defined.\n",
      "  warnings.warn(PearsonRConstantInputWarning())\n"
     ]
    },
    {
     "name": "stdout",
     "output_type": "stream",
     "text": [
      "Epoch 309 end: 1.068265438079834, TRAIN MSE is: 2011.16845703125\n",
      "Validation loss: 442951.0000000 - MSE score: 2119.3828125\n",
      "Validation pearson is: nan\n",
      "Validation r2_score is: -1.1080003072734632\n",
      "-------------------------\n"
     ]
    },
    {
     "name": "stderr",
     "output_type": "stream",
     "text": [
      "/home/mbosnjak/.conda/envs/pero/lib/python3.7/site-packages/scipy/stats/stats.py:3399: PearsonRConstantInputWarning: An input array is constant; the correlation coefficent is not defined.\n",
      "  warnings.warn(PearsonRConstantInputWarning())\n"
     ]
    },
    {
     "name": "stdout",
     "output_type": "stream",
     "text": [
      "Epoch 310 end: 1.033341884613037, TRAIN MSE is: 2008.7728271484375\n",
      "Validation loss: 442411.0312500 - MSE score: 2116.7990723\n",
      "Validation pearson is: nan\n",
      "Validation r2_score is: -1.1054305621358234\n",
      "-------------------------\n"
     ]
    },
    {
     "name": "stderr",
     "output_type": "stream",
     "text": [
      "/home/mbosnjak/.conda/envs/pero/lib/python3.7/site-packages/scipy/stats/stats.py:3399: PearsonRConstantInputWarning: An input array is constant; the correlation coefficent is not defined.\n",
      "  warnings.warn(PearsonRConstantInputWarning())\n"
     ]
    },
    {
     "name": "stdout",
     "output_type": "stream",
     "text": [
      "Epoch 311 end: 1.0093543529510498, TRAIN MSE is: 2006.3603515625\n",
      "Validation loss: 441876.4375000 - MSE score: 2114.2412109\n",
      "Validation pearson is: nan\n",
      "Validation r2_score is: -1.1028864522356732\n",
      "-------------------------\n"
     ]
    },
    {
     "name": "stderr",
     "output_type": "stream",
     "text": [
      "/home/mbosnjak/.conda/envs/pero/lib/python3.7/site-packages/scipy/stats/stats.py:3399: PearsonRConstantInputWarning: An input array is constant; the correlation coefficent is not defined.\n",
      "  warnings.warn(PearsonRConstantInputWarning())\n"
     ]
    },
    {
     "name": "stdout",
     "output_type": "stream",
     "text": [
      "Epoch 312 end: 1.0356864929199219, TRAIN MSE is: 2003.96337890625\n",
      "Validation loss: 441344.0000000 - MSE score: 2111.6936035\n",
      "Validation pearson is: nan\n",
      "Validation r2_score is: -1.1003525263706004\n",
      "-------------------------\n"
     ]
    },
    {
     "name": "stderr",
     "output_type": "stream",
     "text": [
      "/home/mbosnjak/.conda/envs/pero/lib/python3.7/site-packages/scipy/stats/stats.py:3399: PearsonRConstantInputWarning: An input array is constant; the correlation coefficent is not defined.\n",
      "  warnings.warn(PearsonRConstantInputWarning())\n"
     ]
    },
    {
     "name": "stdout",
     "output_type": "stream",
     "text": [
      "Epoch 313 end: 1.0268292427062988, TRAIN MSE is: 2001.60400390625\n",
      "Validation loss: 440804.6875000 - MSE score: 2109.1132812\n",
      "Validation pearson is: nan\n",
      "Validation r2_score is: -1.09778612182967\n",
      "-------------------------\n"
     ]
    },
    {
     "name": "stderr",
     "output_type": "stream",
     "text": [
      "/home/mbosnjak/.conda/envs/pero/lib/python3.7/site-packages/scipy/stats/stats.py:3399: PearsonRConstantInputWarning: An input array is constant; the correlation coefficent is not defined.\n",
      "  warnings.warn(PearsonRConstantInputWarning())\n"
     ]
    },
    {
     "name": "stdout",
     "output_type": "stream",
     "text": [
      "Epoch 314 end: 1.0245110988616943, TRAIN MSE is: 1999.1834716796875\n",
      "Validation loss: 440278.3437500 - MSE score: 2106.5949707\n",
      "Validation pearson is: nan\n",
      "Validation r2_score is: -1.0952811585199123\n",
      "-------------------------\n"
     ]
    },
    {
     "name": "stderr",
     "output_type": "stream",
     "text": [
      "/home/mbosnjak/.conda/envs/pero/lib/python3.7/site-packages/scipy/stats/stats.py:3399: PearsonRConstantInputWarning: An input array is constant; the correlation coefficent is not defined.\n",
      "  warnings.warn(PearsonRConstantInputWarning())\n"
     ]
    },
    {
     "name": "stdout",
     "output_type": "stream",
     "text": [
      "Epoch 315 end: 1.0273993015289307, TRAIN MSE is: 1996.8306884765625\n",
      "Validation loss: 439745.6875000 - MSE score: 2104.0463867\n",
      "Validation pearson is: nan\n",
      "Validation r2_score is: -1.0927463070854802\n",
      "-------------------------\n"
     ]
    },
    {
     "name": "stderr",
     "output_type": "stream",
     "text": [
      "/home/mbosnjak/.conda/envs/pero/lib/python3.7/site-packages/scipy/stats/stats.py:3399: PearsonRConstantInputWarning: An input array is constant; the correlation coefficent is not defined.\n",
      "  warnings.warn(PearsonRConstantInputWarning())\n"
     ]
    },
    {
     "name": "stdout",
     "output_type": "stream",
     "text": [
      "Epoch 316 end: 1.0336682796478271, TRAIN MSE is: 1994.4737548828125\n",
      "Validation loss: 439210.2812500 - MSE score: 2101.4848633\n",
      "Validation pearson is: nan\n",
      "Validation r2_score is: -1.0901983668784108\n",
      "-------------------------\n"
     ]
    },
    {
     "name": "stderr",
     "output_type": "stream",
     "text": [
      "/home/mbosnjak/.conda/envs/pero/lib/python3.7/site-packages/scipy/stats/stats.py:3399: PearsonRConstantInputWarning: An input array is constant; the correlation coefficent is not defined.\n",
      "  warnings.warn(PearsonRConstantInputWarning())\n"
     ]
    },
    {
     "name": "stdout",
     "output_type": "stream",
     "text": [
      "Epoch 317 end: 1.0234730243682861, TRAIN MSE is: 1992.0687255859375\n",
      "Validation loss: 438688.2812500 - MSE score: 2098.9870605\n",
      "Validation pearson is: nan\n",
      "Validation r2_score is: -1.0877140942068544\n",
      "-------------------------\n"
     ]
    },
    {
     "name": "stderr",
     "output_type": "stream",
     "text": [
      "/home/mbosnjak/.conda/envs/pero/lib/python3.7/site-packages/scipy/stats/stats.py:3399: PearsonRConstantInputWarning: An input array is constant; the correlation coefficent is not defined.\n",
      "  warnings.warn(PearsonRConstantInputWarning())\n"
     ]
    },
    {
     "name": "stdout",
     "output_type": "stream",
     "text": [
      "Epoch 318 end: 1.0357048511505127, TRAIN MSE is: 1989.7303466796875\n",
      "Validation loss: 438161.3125000 - MSE score: 2096.4655762\n",
      "Validation pearson is: nan\n",
      "Validation r2_score is: -1.0852060520025457\n",
      "-------------------------\n"
     ]
    },
    {
     "name": "stderr",
     "output_type": "stream",
     "text": [
      "/home/mbosnjak/.conda/envs/pero/lib/python3.7/site-packages/scipy/stats/stats.py:3399: PearsonRConstantInputWarning: An input array is constant; the correlation coefficent is not defined.\n",
      "  warnings.warn(PearsonRConstantInputWarning())\n"
     ]
    },
    {
     "name": "stdout",
     "output_type": "stream",
     "text": [
      "Epoch 319 end: 1.0111665725708008, TRAIN MSE is: 1987.3955078125\n",
      "Validation loss: 437629.6562500 - MSE score: 2093.9216309\n",
      "Validation pearson is: nan\n",
      "Validation r2_score is: -1.0826759479881916\n",
      "-------------------------\n"
     ]
    },
    {
     "name": "stderr",
     "output_type": "stream",
     "text": [
      "/home/mbosnjak/.conda/envs/pero/lib/python3.7/site-packages/scipy/stats/stats.py:3399: PearsonRConstantInputWarning: An input array is constant; the correlation coefficent is not defined.\n",
      "  warnings.warn(PearsonRConstantInputWarning())\n"
     ]
    },
    {
     "name": "stdout",
     "output_type": "stream",
     "text": [
      "Epoch 320 end: 1.0444493293762207, TRAIN MSE is: 1985.0240478515625\n",
      "Validation loss: 437106.3750000 - MSE score: 2091.4179688\n",
      "Validation pearson is: nan\n",
      "Validation r2_score is: -1.0801857633926026\n",
      "-------------------------\n"
     ]
    },
    {
     "name": "stderr",
     "output_type": "stream",
     "text": [
      "/home/mbosnjak/.conda/envs/pero/lib/python3.7/site-packages/scipy/stats/stats.py:3399: PearsonRConstantInputWarning: An input array is constant; the correlation coefficent is not defined.\n",
      "  warnings.warn(PearsonRConstantInputWarning())\n"
     ]
    },
    {
     "name": "stdout",
     "output_type": "stream",
     "text": [
      "Epoch 321 end: 1.0170118808746338, TRAIN MSE is: 1982.6795654296875\n",
      "Validation loss: 436585.1875000 - MSE score: 2088.9240723\n",
      "Validation pearson is: nan\n",
      "Validation r2_score is: -1.0777053290933472\n",
      "-------------------------\n"
     ]
    },
    {
     "name": "stderr",
     "output_type": "stream",
     "text": [
      "/home/mbosnjak/.conda/envs/pero/lib/python3.7/site-packages/scipy/stats/stats.py:3399: PearsonRConstantInputWarning: An input array is constant; the correlation coefficent is not defined.\n",
      "  warnings.warn(PearsonRConstantInputWarning())\n"
     ]
    },
    {
     "name": "stdout",
     "output_type": "stream",
     "text": [
      "Epoch 322 end: 1.0094382762908936, TRAIN MSE is: 1980.365966796875\n",
      "Validation loss: 436058.0000000 - MSE score: 2086.4018555\n",
      "Validation pearson is: nan\n",
      "Validation r2_score is: -1.0751965400881658\n",
      "-------------------------\n"
     ]
    },
    {
     "name": "stderr",
     "output_type": "stream",
     "text": [
      "/home/mbosnjak/.conda/envs/pero/lib/python3.7/site-packages/scipy/stats/stats.py:3399: PearsonRConstantInputWarning: An input array is constant; the correlation coefficent is not defined.\n",
      "  warnings.warn(PearsonRConstantInputWarning())\n"
     ]
    },
    {
     "name": "stdout",
     "output_type": "stream",
     "text": [
      "Epoch 323 end: 1.034316062927246, TRAIN MSE is: 1978.01171875\n",
      "Validation loss: 435539.3437500 - MSE score: 2083.9204102\n",
      "Validation pearson is: nan\n",
      "Validation r2_score is: -1.0727284330033386\n",
      "-------------------------\n"
     ]
    },
    {
     "name": "stderr",
     "output_type": "stream",
     "text": [
      "/home/mbosnjak/.conda/envs/pero/lib/python3.7/site-packages/scipy/stats/stats.py:3399: PearsonRConstantInputWarning: An input array is constant; the correlation coefficent is not defined.\n",
      "  warnings.warn(PearsonRConstantInputWarning())\n"
     ]
    },
    {
     "name": "stdout",
     "output_type": "stream",
     "text": [
      "Epoch 324 end: 1.02677321434021, TRAIN MSE is: 1975.72119140625\n",
      "Validation loss: 435011.5312500 - MSE score: 2081.3947754\n",
      "Validation pearson is: nan\n",
      "Validation r2_score is: -1.0702163844351888\n",
      "-------------------------\n"
     ]
    },
    {
     "name": "stderr",
     "output_type": "stream",
     "text": [
      "/home/mbosnjak/.conda/envs/pero/lib/python3.7/site-packages/scipy/stats/stats.py:3399: PearsonRConstantInputWarning: An input array is constant; the correlation coefficent is not defined.\n",
      "  warnings.warn(PearsonRConstantInputWarning())\n"
     ]
    },
    {
     "name": "stdout",
     "output_type": "stream",
     "text": [
      "Epoch 325 end: 1.0592539310455322, TRAIN MSE is: 1973.37451171875\n",
      "Validation loss: 434493.0000000 - MSE score: 2078.9135742\n",
      "Validation pearson is: nan\n",
      "Validation r2_score is: -1.0677485648515486\n",
      "-------------------------\n"
     ]
    },
    {
     "name": "stderr",
     "output_type": "stream",
     "text": [
      "/home/mbosnjak/.conda/envs/pero/lib/python3.7/site-packages/scipy/stats/stats.py:3399: PearsonRConstantInputWarning: An input array is constant; the correlation coefficent is not defined.\n",
      "  warnings.warn(PearsonRConstantInputWarning())\n"
     ]
    },
    {
     "name": "stdout",
     "output_type": "stream",
     "text": [
      "Epoch 326 end: 1.0628433227539062, TRAIN MSE is: 1971.04833984375\n",
      "Validation loss: 433979.1562500 - MSE score: 2076.4553223\n",
      "Validation pearson is: nan\n",
      "Validation r2_score is: -1.06530340966229\n",
      "-------------------------\n"
     ]
    },
    {
     "name": "stderr",
     "output_type": "stream",
     "text": [
      "/home/mbosnjak/.conda/envs/pero/lib/python3.7/site-packages/scipy/stats/stats.py:3399: PearsonRConstantInputWarning: An input array is constant; the correlation coefficent is not defined.\n",
      "  warnings.warn(PearsonRConstantInputWarning())\n"
     ]
    },
    {
     "name": "stdout",
     "output_type": "stream",
     "text": [
      "Epoch 327 end: 1.0092146396636963, TRAIN MSE is: 1968.73974609375\n",
      "Validation loss: 433466.0937500 - MSE score: 2074.0002441\n",
      "Validation pearson is: nan\n",
      "Validation r2_score is: -1.0628616825603503\n",
      "-------------------------\n"
     ]
    },
    {
     "name": "stderr",
     "output_type": "stream",
     "text": [
      "/home/mbosnjak/.conda/envs/pero/lib/python3.7/site-packages/scipy/stats/stats.py:3399: PearsonRConstantInputWarning: An input array is constant; the correlation coefficent is not defined.\n",
      "  warnings.warn(PearsonRConstantInputWarning())\n"
     ]
    },
    {
     "name": "stdout",
     "output_type": "stream",
     "text": [
      "Epoch 328 end: 1.0192797183990479, TRAIN MSE is: 1966.4639892578125\n",
      "Validation loss: 432946.0625000 - MSE score: 2071.5122070\n",
      "Validation pearson is: nan\n",
      "Validation r2_score is: -1.0603868917587334\n",
      "-------------------------\n"
     ]
    },
    {
     "name": "stderr",
     "output_type": "stream",
     "text": [
      "/home/mbosnjak/.conda/envs/pero/lib/python3.7/site-packages/scipy/stats/stats.py:3399: PearsonRConstantInputWarning: An input array is constant; the correlation coefficent is not defined.\n",
      "  warnings.warn(PearsonRConstantInputWarning())\n"
     ]
    },
    {
     "name": "stdout",
     "output_type": "stream",
     "text": [
      "Epoch 329 end: 1.015131950378418, TRAIN MSE is: 1964.1700439453125\n",
      "Validation loss: 432426.4375000 - MSE score: 2069.0261230\n",
      "Validation pearson is: nan\n",
      "Validation r2_score is: -1.0579139542849032\n",
      "-------------------------\n"
     ]
    },
    {
     "name": "stderr",
     "output_type": "stream",
     "text": [
      "/home/mbosnjak/.conda/envs/pero/lib/python3.7/site-packages/scipy/stats/stats.py:3399: PearsonRConstantInputWarning: An input array is constant; the correlation coefficent is not defined.\n",
      "  warnings.warn(PearsonRConstantInputWarning())\n"
     ]
    },
    {
     "name": "stdout",
     "output_type": "stream",
     "text": [
      "Epoch 330 end: 1.0150742530822754, TRAIN MSE is: 1961.845703125\n",
      "Validation loss: 431917.6875000 - MSE score: 2066.5920410\n",
      "Validation pearson is: nan\n",
      "Validation r2_score is: -1.05549297066811\n",
      "-------------------------\n"
     ]
    },
    {
     "name": "stderr",
     "output_type": "stream",
     "text": [
      "/home/mbosnjak/.conda/envs/pero/lib/python3.7/site-packages/scipy/stats/stats.py:3399: PearsonRConstantInputWarning: An input array is constant; the correlation coefficent is not defined.\n",
      "  warnings.warn(PearsonRConstantInputWarning())\n"
     ]
    },
    {
     "name": "stdout",
     "output_type": "stream",
     "text": [
      "Epoch 331 end: 1.0207395553588867, TRAIN MSE is: 1959.59375\n",
      "Validation loss: 431399.6562500 - MSE score: 2064.1130371\n",
      "Validation pearson is: nan\n",
      "Validation r2_score is: -1.053027584358789\n",
      "-------------------------\n"
     ]
    },
    {
     "name": "stderr",
     "output_type": "stream",
     "text": [
      "/home/mbosnjak/.conda/envs/pero/lib/python3.7/site-packages/scipy/stats/stats.py:3399: PearsonRConstantInputWarning: An input array is constant; the correlation coefficent is not defined.\n",
      "  warnings.warn(PearsonRConstantInputWarning())\n"
     ]
    },
    {
     "name": "stdout",
     "output_type": "stream",
     "text": [
      "Epoch 332 end: 1.0258982181549072, TRAIN MSE is: 1957.2862548828125\n",
      "Validation loss: 430890.8750000 - MSE score: 2061.6784668\n",
      "Validation pearson is: nan\n",
      "Validation r2_score is: -1.0506061918941292\n",
      "-------------------------\n"
     ]
    },
    {
     "name": "stderr",
     "output_type": "stream",
     "text": [
      "/home/mbosnjak/.conda/envs/pero/lib/python3.7/site-packages/scipy/stats/stats.py:3399: PearsonRConstantInputWarning: An input array is constant; the correlation coefficent is not defined.\n",
      "  warnings.warn(PearsonRConstantInputWarning())\n"
     ]
    },
    {
     "name": "stdout",
     "output_type": "stream",
     "text": [
      "Epoch 333 end: 1.027000904083252, TRAIN MSE is: 1954.9932861328125\n",
      "Validation loss: 430388.6250000 - MSE score: 2059.2756348\n",
      "Validation pearson is: nan\n",
      "Validation r2_score is: -1.0482161286683658\n",
      "-------------------------\n"
     ]
    },
    {
     "name": "stderr",
     "output_type": "stream",
     "text": [
      "/home/mbosnjak/.conda/envs/pero/lib/python3.7/site-packages/scipy/stats/stats.py:3399: PearsonRConstantInputWarning: An input array is constant; the correlation coefficent is not defined.\n",
      "  warnings.warn(PearsonRConstantInputWarning())\n"
     ]
    },
    {
     "name": "stdout",
     "output_type": "stream",
     "text": [
      "Epoch 334 end: 1.0323679447174072, TRAIN MSE is: 1952.753662109375\n",
      "Validation loss: 429878.0937500 - MSE score: 2056.8332520\n",
      "Validation pearson is: nan\n",
      "Validation r2_score is: -1.0457865980198675\n",
      "-------------------------\n"
     ]
    },
    {
     "name": "stderr",
     "output_type": "stream",
     "text": [
      "/home/mbosnjak/.conda/envs/pero/lib/python3.7/site-packages/scipy/stats/stats.py:3399: PearsonRConstantInputWarning: An input array is constant; the correlation coefficent is not defined.\n",
      "  warnings.warn(PearsonRConstantInputWarning())\n"
     ]
    },
    {
     "name": "stdout",
     "output_type": "stream",
     "text": [
      "Epoch 335 end: 1.0294225215911865, TRAIN MSE is: 1950.4873046875\n",
      "Validation loss: 429369.6562500 - MSE score: 2054.4003906\n",
      "Validation pearson is: nan\n",
      "Validation r2_score is: -1.0433668648018197\n",
      "-------------------------\n"
     ]
    },
    {
     "name": "stderr",
     "output_type": "stream",
     "text": [
      "/home/mbosnjak/.conda/envs/pero/lib/python3.7/site-packages/scipy/stats/stats.py:3399: PearsonRConstantInputWarning: An input array is constant; the correlation coefficent is not defined.\n",
      "  warnings.warn(PearsonRConstantInputWarning())\n"
     ]
    },
    {
     "name": "stdout",
     "output_type": "stream",
     "text": [
      "Epoch 336 end: 1.0318336486816406, TRAIN MSE is: 1948.2183837890625\n",
      "Validation loss: 428866.1250000 - MSE score: 2051.9909668\n",
      "Validation pearson is: nan\n",
      "Validation r2_score is: -1.0409704672267055\n",
      "-------------------------\n"
     ]
    },
    {
     "name": "stderr",
     "output_type": "stream",
     "text": [
      "/home/mbosnjak/.conda/envs/pero/lib/python3.7/site-packages/scipy/stats/stats.py:3399: PearsonRConstantInputWarning: An input array is constant; the correlation coefficent is not defined.\n",
      "  warnings.warn(PearsonRConstantInputWarning())\n"
     ]
    },
    {
     "name": "stdout",
     "output_type": "stream",
     "text": [
      "Epoch 337 end: 1.009045124053955, TRAIN MSE is: 1945.9771728515625\n",
      "Validation loss: 428359.1250000 - MSE score: 2049.5651855\n",
      "Validation pearson is: nan\n",
      "Validation r2_score is: -1.0385576683039002\n",
      "-------------------------\n"
     ]
    },
    {
     "name": "stderr",
     "output_type": "stream",
     "text": [
      "/home/mbosnjak/.conda/envs/pero/lib/python3.7/site-packages/scipy/stats/stats.py:3399: PearsonRConstantInputWarning: An input array is constant; the correlation coefficent is not defined.\n",
      "  warnings.warn(PearsonRConstantInputWarning())\n"
     ]
    },
    {
     "name": "stdout",
     "output_type": "stream",
     "text": [
      "Epoch 338 end: 1.0295696258544922, TRAIN MSE is: 1943.733642578125\n",
      "Validation loss: 427851.9062500 - MSE score: 2047.1383057\n",
      "Validation pearson is: nan\n",
      "Validation r2_score is: -1.0361437903168556\n",
      "-------------------------\n"
     ]
    },
    {
     "name": "stderr",
     "output_type": "stream",
     "text": [
      "/home/mbosnjak/.conda/envs/pero/lib/python3.7/site-packages/scipy/stats/stats.py:3399: PearsonRConstantInputWarning: An input array is constant; the correlation coefficent is not defined.\n",
      "  warnings.warn(PearsonRConstantInputWarning())\n"
     ]
    },
    {
     "name": "stdout",
     "output_type": "stream",
     "text": [
      "Epoch 339 end: 1.0923104286193848, TRAIN MSE is: 1941.4595947265625\n",
      "Validation loss: 427355.1250000 - MSE score: 2044.7613525\n",
      "Validation pearson is: nan\n",
      "Validation r2_score is: -1.0337796452188956\n",
      "-------------------------\n"
     ]
    },
    {
     "name": "stderr",
     "output_type": "stream",
     "text": [
      "/home/mbosnjak/.conda/envs/pero/lib/python3.7/site-packages/scipy/stats/stats.py:3399: PearsonRConstantInputWarning: An input array is constant; the correlation coefficent is not defined.\n",
      "  warnings.warn(PearsonRConstantInputWarning())\n"
     ]
    },
    {
     "name": "stdout",
     "output_type": "stream",
     "text": [
      "Epoch 340 end: 1.0697846412658691, TRAIN MSE is: 1939.2630615234375\n",
      "Validation loss: 426847.5000000 - MSE score: 2042.3326416\n",
      "Validation pearson is: nan\n",
      "Validation r2_score is: -1.0313640000550586\n",
      "-------------------------\n"
     ]
    },
    {
     "name": "stderr",
     "output_type": "stream",
     "text": [
      "/home/mbosnjak/.conda/envs/pero/lib/python3.7/site-packages/scipy/stats/stats.py:3399: PearsonRConstantInputWarning: An input array is constant; the correlation coefficent is not defined.\n",
      "  warnings.warn(PearsonRConstantInputWarning())\n"
     ]
    },
    {
     "name": "stdout",
     "output_type": "stream",
     "text": [
      "Epoch 341 end: 0.9963092803955078, TRAIN MSE is: 1937.015869140625\n",
      "Validation loss: 426345.4687500 - MSE score: 2039.9302979\n",
      "Validation pearson is: nan\n",
      "Validation r2_score is: -1.0289745567753474\n",
      "-------------------------\n"
     ]
    },
    {
     "name": "stderr",
     "output_type": "stream",
     "text": [
      "/home/mbosnjak/.conda/envs/pero/lib/python3.7/site-packages/scipy/stats/stats.py:3399: PearsonRConstantInputWarning: An input array is constant; the correlation coefficent is not defined.\n",
      "  warnings.warn(PearsonRConstantInputWarning())\n"
     ]
    },
    {
     "name": "stdout",
     "output_type": "stream",
     "text": [
      "Epoch 342 end: 1.0058822631835938, TRAIN MSE is: 1934.7730712890625\n",
      "Validation loss: 425849.3750000 - MSE score: 2037.5567627\n",
      "Validation pearson is: nan\n",
      "Validation r2_score is: -1.0266138798687998\n",
      "-------------------------\n"
     ]
    },
    {
     "name": "stderr",
     "output_type": "stream",
     "text": [
      "/home/mbosnjak/.conda/envs/pero/lib/python3.7/site-packages/scipy/stats/stats.py:3399: PearsonRConstantInputWarning: An input array is constant; the correlation coefficent is not defined.\n",
      "  warnings.warn(PearsonRConstantInputWarning())\n"
     ]
    },
    {
     "name": "stdout",
     "output_type": "stream",
     "text": [
      "Epoch 343 end: 1.0265758037567139, TRAIN MSE is: 1932.56298828125\n",
      "Validation loss: 425351.0937500 - MSE score: 2035.1728516\n",
      "Validation pearson is: nan\n",
      "Validation r2_score is: -1.0242425376857875\n",
      "-------------------------\n"
     ]
    },
    {
     "name": "stderr",
     "output_type": "stream",
     "text": [
      "/home/mbosnjak/.conda/envs/pero/lib/python3.7/site-packages/scipy/stats/stats.py:3399: PearsonRConstantInputWarning: An input array is constant; the correlation coefficent is not defined.\n",
      "  warnings.warn(PearsonRConstantInputWarning())\n"
     ]
    },
    {
     "name": "stdout",
     "output_type": "stream",
     "text": [
      "Epoch 344 end: 1.0132718086242676, TRAIN MSE is: 1930.372802734375\n",
      "Validation loss: 424846.6562500 - MSE score: 2032.7592773\n",
      "Validation pearson is: nan\n",
      "Validation r2_score is: -1.0218419279545121\n",
      "-------------------------\n"
     ]
    },
    {
     "name": "stderr",
     "output_type": "stream",
     "text": [
      "/home/mbosnjak/.conda/envs/pero/lib/python3.7/site-packages/scipy/stats/stats.py:3399: PearsonRConstantInputWarning: An input array is constant; the correlation coefficent is not defined.\n",
      "  warnings.warn(PearsonRConstantInputWarning())\n"
     ]
    },
    {
     "name": "stdout",
     "output_type": "stream",
     "text": [
      "Epoch 345 end: 1.0248486995697021, TRAIN MSE is: 1928.1075439453125\n",
      "Validation loss: 424359.7812500 - MSE score: 2030.4296875\n",
      "Validation pearson is: nan\n",
      "Validation r2_score is: -1.0195247865295718\n",
      "-------------------------\n"
     ]
    },
    {
     "name": "stderr",
     "output_type": "stream",
     "text": [
      "/home/mbosnjak/.conda/envs/pero/lib/python3.7/site-packages/scipy/stats/stats.py:3399: PearsonRConstantInputWarning: An input array is constant; the correlation coefficent is not defined.\n",
      "  warnings.warn(PearsonRConstantInputWarning())\n"
     ]
    },
    {
     "name": "stdout",
     "output_type": "stream",
     "text": [
      "Epoch 346 end: 1.0279450416564941, TRAIN MSE is: 1925.933837890625\n",
      "Validation loss: 423864.5000000 - MSE score: 2028.0598145\n",
      "Validation pearson is: nan\n",
      "Validation r2_score is: -1.017167684998808\n",
      "-------------------------\n"
     ]
    },
    {
     "name": "stderr",
     "output_type": "stream",
     "text": [
      "/home/mbosnjak/.conda/envs/pero/lib/python3.7/site-packages/scipy/stats/stats.py:3399: PearsonRConstantInputWarning: An input array is constant; the correlation coefficent is not defined.\n",
      "  warnings.warn(PearsonRConstantInputWarning())\n"
     ]
    },
    {
     "name": "stdout",
     "output_type": "stream",
     "text": [
      "Epoch 347 end: 1.03944993019104, TRAIN MSE is: 1923.718505859375\n",
      "Validation loss: 423375.2500000 - MSE score: 2025.7186279\n",
      "Validation pearson is: nan\n",
      "Validation r2_score is: -1.0148392860567275\n",
      "-------------------------\n"
     ]
    },
    {
     "name": "stderr",
     "output_type": "stream",
     "text": [
      "/home/mbosnjak/.conda/envs/pero/lib/python3.7/site-packages/scipy/stats/stats.py:3399: PearsonRConstantInputWarning: An input array is constant; the correlation coefficent is not defined.\n",
      "  warnings.warn(PearsonRConstantInputWarning())\n"
     ]
    },
    {
     "name": "stdout",
     "output_type": "stream",
     "text": [
      "Epoch 348 end: 1.147925615310669, TRAIN MSE is: 1921.560302734375\n",
      "Validation loss: 422876.1875000 - MSE score: 2023.3309326\n",
      "Validation pearson is: nan\n",
      "Validation r2_score is: -1.0124643534763944\n",
      "-------------------------\n"
     ]
    },
    {
     "name": "stderr",
     "output_type": "stream",
     "text": [
      "/home/mbosnjak/.conda/envs/pero/lib/python3.7/site-packages/scipy/stats/stats.py:3399: PearsonRConstantInputWarning: An input array is constant; the correlation coefficent is not defined.\n",
      "  warnings.warn(PearsonRConstantInputWarning())\n"
     ]
    },
    {
     "name": "stdout",
     "output_type": "stream",
     "text": [
      "Epoch 349 end: 1.0291800498962402, TRAIN MSE is: 1919.3594970703125\n",
      "Validation loss: 422382.1562500 - MSE score: 2020.9671631\n",
      "Validation pearson is: nan\n",
      "Validation r2_score is: -1.0101132852158763\n",
      "-------------------------\n"
     ]
    },
    {
     "name": "stderr",
     "output_type": "stream",
     "text": [
      "/home/mbosnjak/.conda/envs/pero/lib/python3.7/site-packages/scipy/stats/stats.py:3399: PearsonRConstantInputWarning: An input array is constant; the correlation coefficent is not defined.\n",
      "  warnings.warn(PearsonRConstantInputWarning())\n"
     ]
    },
    {
     "name": "stdout",
     "output_type": "stream",
     "text": [
      "Epoch 350 end: 1.0211281776428223, TRAIN MSE is: 1917.1539306640625\n",
      "Validation loss: 421895.8437500 - MSE score: 2018.6405029\n",
      "Validation pearson is: nan\n",
      "Validation r2_score is: -1.0077989954650115\n",
      "-------------------------\n"
     ]
    },
    {
     "name": "stderr",
     "output_type": "stream",
     "text": [
      "/home/mbosnjak/.conda/envs/pero/lib/python3.7/site-packages/scipy/stats/stats.py:3399: PearsonRConstantInputWarning: An input array is constant; the correlation coefficent is not defined.\n",
      "  warnings.warn(PearsonRConstantInputWarning())\n"
     ]
    },
    {
     "name": "stdout",
     "output_type": "stream",
     "text": [
      "Epoch 351 end: 1.0457875728607178, TRAIN MSE is: 1914.976318359375\n",
      "Validation loss: 421410.0625000 - MSE score: 2016.3160400\n",
      "Validation pearson is: nan\n",
      "Validation r2_score is: -1.0054871155060199\n",
      "-------------------------\n"
     ]
    },
    {
     "name": "stderr",
     "output_type": "stream",
     "text": [
      "/home/mbosnjak/.conda/envs/pero/lib/python3.7/site-packages/scipy/stats/stats.py:3399: PearsonRConstantInputWarning: An input array is constant; the correlation coefficent is not defined.\n",
      "  warnings.warn(PearsonRConstantInputWarning())\n"
     ]
    },
    {
     "name": "stdout",
     "output_type": "stream",
     "text": [
      "Epoch 352 end: 1.0435118675231934, TRAIN MSE is: 1912.8450927734375\n",
      "Validation loss: 420913.5000000 - MSE score: 2013.9400635\n",
      "Validation pearson is: nan\n",
      "Validation r2_score is: -1.003123921614788\n",
      "-------------------------\n"
     ]
    },
    {
     "name": "stderr",
     "output_type": "stream",
     "text": [
      "/home/mbosnjak/.conda/envs/pero/lib/python3.7/site-packages/scipy/stats/stats.py:3399: PearsonRConstantInputWarning: An input array is constant; the correlation coefficent is not defined.\n",
      "  warnings.warn(PearsonRConstantInputWarning())\n"
     ]
    },
    {
     "name": "stdout",
     "output_type": "stream",
     "text": [
      "Epoch 353 end: 1.0480310916900635, TRAIN MSE is: 1910.6353759765625\n",
      "Validation loss: 420430.1562500 - MSE score: 2011.6276855\n",
      "Validation pearson is: nan\n",
      "Validation r2_score is: -1.0008238826992115\n",
      "-------------------------\n"
     ]
    },
    {
     "name": "stderr",
     "output_type": "stream",
     "text": [
      "/home/mbosnjak/.conda/envs/pero/lib/python3.7/site-packages/scipy/stats/stats.py:3399: PearsonRConstantInputWarning: An input array is constant; the correlation coefficent is not defined.\n",
      "  warnings.warn(PearsonRConstantInputWarning())\n"
     ]
    },
    {
     "name": "stdout",
     "output_type": "stream",
     "text": [
      "Epoch 354 end: 1.0314433574676514, TRAIN MSE is: 1908.4771728515625\n",
      "Validation loss: 419947.0000000 - MSE score: 2009.3159180\n",
      "Validation pearson is: nan\n",
      "Validation r2_score is: -0.9985244903236921\n",
      "-------------------------\n"
     ]
    },
    {
     "name": "stderr",
     "output_type": "stream",
     "text": [
      "/home/mbosnjak/.conda/envs/pero/lib/python3.7/site-packages/scipy/stats/stats.py:3399: PearsonRConstantInputWarning: An input array is constant; the correlation coefficent is not defined.\n",
      "  warnings.warn(PearsonRConstantInputWarning())\n"
     ]
    },
    {
     "name": "stdout",
     "output_type": "stream",
     "text": [
      "Epoch 355 end: 1.025186538696289, TRAIN MSE is: 1906.3184814453125\n",
      "Validation loss: 419465.0937500 - MSE score: 2007.0101318\n",
      "Validation pearson is: nan\n",
      "Validation r2_score is: -0.9962310900559492\n",
      "-------------------------\n"
     ]
    },
    {
     "name": "stderr",
     "output_type": "stream",
     "text": [
      "/home/mbosnjak/.conda/envs/pero/lib/python3.7/site-packages/scipy/stats/stats.py:3399: PearsonRConstantInputWarning: An input array is constant; the correlation coefficent is not defined.\n",
      "  warnings.warn(PearsonRConstantInputWarning())\n"
     ]
    },
    {
     "name": "stdout",
     "output_type": "stream",
     "text": [
      "Epoch 356 end: 1.0316293239593506, TRAIN MSE is: 1904.1876220703125\n",
      "Validation loss: 418978.3125000 - MSE score: 2004.6809082\n",
      "Validation pearson is: nan\n",
      "Validation r2_score is: -0.9939144128266035\n",
      "-------------------------\n"
     ]
    },
    {
     "name": "stderr",
     "output_type": "stream",
     "text": [
      "/home/mbosnjak/.conda/envs/pero/lib/python3.7/site-packages/scipy/stats/stats.py:3399: PearsonRConstantInputWarning: An input array is constant; the correlation coefficent is not defined.\n",
      "  warnings.warn(PearsonRConstantInputWarning())\n"
     ]
    },
    {
     "name": "stdout",
     "output_type": "stream",
     "text": [
      "Epoch 357 end: 1.0254592895507812, TRAIN MSE is: 1902.0213623046875\n",
      "Validation loss: 418498.2187500 - MSE score: 2002.3837891\n",
      "Validation pearson is: nan\n",
      "Validation r2_score is: -0.991629657514018\n",
      "-------------------------\n"
     ]
    },
    {
     "name": "stderr",
     "output_type": "stream",
     "text": [
      "/home/mbosnjak/.conda/envs/pero/lib/python3.7/site-packages/scipy/stats/stats.py:3399: PearsonRConstantInputWarning: An input array is constant; the correlation coefficent is not defined.\n",
      "  warnings.warn(PearsonRConstantInputWarning())\n"
     ]
    },
    {
     "name": "stdout",
     "output_type": "stream",
     "text": [
      "Epoch 358 end: 1.0353567600250244, TRAIN MSE is: 1899.8819580078125\n",
      "Validation loss: 418018.4687500 - MSE score: 2000.0882568\n",
      "Validation pearson is: nan\n",
      "Validation r2_score is: -0.9893465842218137\n",
      "-------------------------\n"
     ]
    },
    {
     "name": "stderr",
     "output_type": "stream",
     "text": [
      "/home/mbosnjak/.conda/envs/pero/lib/python3.7/site-packages/scipy/stats/stats.py:3399: PearsonRConstantInputWarning: An input array is constant; the correlation coefficent is not defined.\n",
      "  warnings.warn(PearsonRConstantInputWarning())\n"
     ]
    },
    {
     "name": "stdout",
     "output_type": "stream",
     "text": [
      "Epoch 359 end: 1.015834093093872, TRAIN MSE is: 1897.73291015625\n",
      "Validation loss: 417544.4062500 - MSE score: 1997.8199463\n",
      "Validation pearson is: nan\n",
      "Validation r2_score is: -0.987090531787242\n",
      "-------------------------\n"
     ]
    },
    {
     "name": "stderr",
     "output_type": "stream",
     "text": [
      "/home/mbosnjak/.conda/envs/pero/lib/python3.7/site-packages/scipy/stats/stats.py:3399: PearsonRConstantInputWarning: An input array is constant; the correlation coefficent is not defined.\n",
      "  warnings.warn(PearsonRConstantInputWarning())\n"
     ]
    },
    {
     "name": "stdout",
     "output_type": "stream",
     "text": [
      "Epoch 360 end: 1.044398546218872, TRAIN MSE is: 1895.625732421875\n",
      "Validation loss: 417063.6562500 - MSE score: 1995.5197754\n",
      "Validation pearson is: nan\n",
      "Validation r2_score is: -0.9848025483894884\n",
      "-------------------------\n"
     ]
    },
    {
     "name": "stderr",
     "output_type": "stream",
     "text": [
      "/home/mbosnjak/.conda/envs/pero/lib/python3.7/site-packages/scipy/stats/stats.py:3399: PearsonRConstantInputWarning: An input array is constant; the correlation coefficent is not defined.\n",
      "  warnings.warn(PearsonRConstantInputWarning())\n"
     ]
    },
    {
     "name": "stdout",
     "output_type": "stream",
     "text": [
      "Epoch 361 end: 1.0386617183685303, TRAIN MSE is: 1893.5040283203125\n",
      "Validation loss: 416582.6562500 - MSE score: 1993.2186279\n",
      "Validation pearson is: nan\n",
      "Validation r2_score is: -0.9825136212398948\n",
      "-------------------------\n"
     ]
    },
    {
     "name": "stderr",
     "output_type": "stream",
     "text": [
      "/home/mbosnjak/.conda/envs/pero/lib/python3.7/site-packages/scipy/stats/stats.py:3399: PearsonRConstantInputWarning: An input array is constant; the correlation coefficent is not defined.\n",
      "  warnings.warn(PearsonRConstantInputWarning())\n"
     ]
    },
    {
     "name": "stdout",
     "output_type": "stream",
     "text": [
      "Epoch 362 end: 1.0670185089111328, TRAIN MSE is: 1891.364501953125\n",
      "Validation loss: 416109.0312500 - MSE score: 1990.9522705\n",
      "Validation pearson is: nan\n",
      "Validation r2_score is: -0.9802595417216997\n",
      "-------------------------\n"
     ]
    },
    {
     "name": "stderr",
     "output_type": "stream",
     "text": [
      "/home/mbosnjak/.conda/envs/pero/lib/python3.7/site-packages/scipy/stats/stats.py:3399: PearsonRConstantInputWarning: An input array is constant; the correlation coefficent is not defined.\n",
      "  warnings.warn(PearsonRConstantInputWarning())\n"
     ]
    },
    {
     "name": "stdout",
     "output_type": "stream",
     "text": [
      "Epoch 363 end: 1.0497558116912842, TRAIN MSE is: 1889.2652587890625\n",
      "Validation loss: 415631.4687500 - MSE score: 1988.6671143\n",
      "Validation pearson is: nan\n",
      "Validation r2_score is: -0.9779868266919474\n",
      "-------------------------\n"
     ]
    },
    {
     "name": "stderr",
     "output_type": "stream",
     "text": [
      "/home/mbosnjak/.conda/envs/pero/lib/python3.7/site-packages/scipy/stats/stats.py:3399: PearsonRConstantInputWarning: An input array is constant; the correlation coefficent is not defined.\n",
      "  warnings.warn(PearsonRConstantInputWarning())\n"
     ]
    },
    {
     "name": "stdout",
     "output_type": "stream",
     "text": [
      "Epoch 364 end: 1.0819001197814941, TRAIN MSE is: 1887.1468505859375\n",
      "Validation loss: 415157.0000000 - MSE score: 1986.3970947\n",
      "Validation pearson is: nan\n",
      "Validation r2_score is: -0.975728939529408\n",
      "-------------------------\n"
     ]
    },
    {
     "name": "stderr",
     "output_type": "stream",
     "text": [
      "/home/mbosnjak/.conda/envs/pero/lib/python3.7/site-packages/scipy/stats/stats.py:3399: PearsonRConstantInputWarning: An input array is constant; the correlation coefficent is not defined.\n",
      "  warnings.warn(PearsonRConstantInputWarning())\n"
     ]
    },
    {
     "name": "stdout",
     "output_type": "stream",
     "text": [
      "Epoch 365 end: 1.0475661754608154, TRAIN MSE is: 1885.0335693359375\n",
      "Validation loss: 414686.1562500 - MSE score: 1984.1441650\n",
      "Validation pearson is: nan\n",
      "Validation r2_score is: -0.9734881170454701\n",
      "-------------------------\n"
     ]
    },
    {
     "name": "stderr",
     "output_type": "stream",
     "text": [
      "/home/mbosnjak/.conda/envs/pero/lib/python3.7/site-packages/scipy/stats/stats.py:3399: PearsonRConstantInputWarning: An input array is constant; the correlation coefficent is not defined.\n",
      "  warnings.warn(PearsonRConstantInputWarning())\n"
     ]
    },
    {
     "name": "stdout",
     "output_type": "stream",
     "text": [
      "Epoch 366 end: 1.054445505142212, TRAIN MSE is: 1882.9384765625\n",
      "Validation loss: 414214.8437500 - MSE score: 1981.8890381\n",
      "Validation pearson is: nan\n",
      "Validation r2_score is: -0.9712449846702607\n",
      "-------------------------\n"
     ]
    },
    {
     "name": "stderr",
     "output_type": "stream",
     "text": [
      "/home/mbosnjak/.conda/envs/pero/lib/python3.7/site-packages/scipy/stats/stats.py:3399: PearsonRConstantInputWarning: An input array is constant; the correlation coefficent is not defined.\n",
      "  warnings.warn(PearsonRConstantInputWarning())\n"
     ]
    },
    {
     "name": "stdout",
     "output_type": "stream",
     "text": [
      "Epoch 367 end: 1.0181951522827148, TRAIN MSE is: 1880.857421875\n",
      "Validation loss: 413740.4375000 - MSE score: 1979.6192627\n",
      "Validation pearson is: nan\n",
      "Validation r2_score is: -0.9689874312364342\n",
      "-------------------------\n"
     ]
    },
    {
     "name": "stderr",
     "output_type": "stream",
     "text": [
      "/home/mbosnjak/.conda/envs/pero/lib/python3.7/site-packages/scipy/stats/stats.py:3399: PearsonRConstantInputWarning: An input array is constant; the correlation coefficent is not defined.\n",
      "  warnings.warn(PearsonRConstantInputWarning())\n"
     ]
    },
    {
     "name": "stdout",
     "output_type": "stream",
     "text": [
      "Epoch 368 end: 1.023740530014038, TRAIN MSE is: 1878.7362060546875\n",
      "Validation loss: 413276.7187500 - MSE score: 1977.4005127\n",
      "Validation pearson is: nan\n",
      "Validation r2_score is: -0.966780621510362\n",
      "-------------------------\n"
     ]
    },
    {
     "name": "stderr",
     "output_type": "stream",
     "text": [
      "/home/mbosnjak/.conda/envs/pero/lib/python3.7/site-packages/scipy/stats/stats.py:3399: PearsonRConstantInputWarning: An input array is constant; the correlation coefficent is not defined.\n",
      "  warnings.warn(PearsonRConstantInputWarning())\n"
     ]
    },
    {
     "name": "stdout",
     "output_type": "stream",
     "text": [
      "Epoch 369 end: 1.0432682037353516, TRAIN MSE is: 1876.6851806640625\n",
      "Validation loss: 412804.0625000 - MSE score: 1975.1389160\n",
      "Validation pearson is: nan\n",
      "Validation r2_score is: -0.9645311771194041\n",
      "-------------------------\n"
     ]
    },
    {
     "name": "stderr",
     "output_type": "stream",
     "text": [
      "/home/mbosnjak/.conda/envs/pero/lib/python3.7/site-packages/scipy/stats/stats.py:3399: PearsonRConstantInputWarning: An input array is constant; the correlation coefficent is not defined.\n",
      "  warnings.warn(PearsonRConstantInputWarning())\n"
     ]
    },
    {
     "name": "stdout",
     "output_type": "stream",
     "text": [
      "Epoch 370 end: 1.0098025798797607, TRAIN MSE is: 1874.5933837890625\n",
      "Validation loss: 412335.6875000 - MSE score: 1972.8980713\n",
      "Validation pearson is: nan\n",
      "Validation r2_score is: -0.962302277900744\n",
      "-------------------------\n"
     ]
    },
    {
     "name": "stderr",
     "output_type": "stream",
     "text": [
      "/home/mbosnjak/.conda/envs/pero/lib/python3.7/site-packages/scipy/stats/stats.py:3399: PearsonRConstantInputWarning: An input array is constant; the correlation coefficent is not defined.\n",
      "  warnings.warn(PearsonRConstantInputWarning())\n"
     ]
    },
    {
     "name": "stdout",
     "output_type": "stream",
     "text": [
      "Epoch 371 end: 1.0313045978546143, TRAIN MSE is: 1872.520751953125\n",
      "Validation loss: 411868.0312500 - MSE score: 1970.6602783\n",
      "Validation pearson is: nan\n",
      "Validation r2_score is: -0.9600767232970575\n",
      "-------------------------\n"
     ]
    },
    {
     "name": "stderr",
     "output_type": "stream",
     "text": [
      "/home/mbosnjak/.conda/envs/pero/lib/python3.7/site-packages/scipy/stats/stats.py:3399: PearsonRConstantInputWarning: An input array is constant; the correlation coefficent is not defined.\n",
      "  warnings.warn(PearsonRConstantInputWarning())\n"
     ]
    },
    {
     "name": "stdout",
     "output_type": "stream",
     "text": [
      "Epoch 372 end: 1.0325088500976562, TRAIN MSE is: 1870.45556640625\n",
      "Validation loss: 411400.1250000 - MSE score: 1968.4216309\n",
      "Validation pearson is: nan\n",
      "Validation r2_score is: -0.9578500522688154\n",
      "-------------------------\n"
     ]
    },
    {
     "name": "stderr",
     "output_type": "stream",
     "text": [
      "/home/mbosnjak/.conda/envs/pero/lib/python3.7/site-packages/scipy/stats/stats.py:3399: PearsonRConstantInputWarning: An input array is constant; the correlation coefficent is not defined.\n",
      "  warnings.warn(PearsonRConstantInputWarning())\n"
     ]
    },
    {
     "name": "stdout",
     "output_type": "stream",
     "text": [
      "Epoch 373 end: 1.0256283283233643, TRAIN MSE is: 1868.3763427734375\n",
      "Validation loss: 410937.7500000 - MSE score: 1966.2093506\n",
      "Validation pearson is: nan\n",
      "Validation r2_score is: -0.955649502056864\n",
      "-------------------------\n"
     ]
    },
    {
     "name": "stderr",
     "output_type": "stream",
     "text": [
      "/home/mbosnjak/.conda/envs/pero/lib/python3.7/site-packages/scipy/stats/stats.py:3399: PearsonRConstantInputWarning: An input array is constant; the correlation coefficent is not defined.\n",
      "  warnings.warn(PearsonRConstantInputWarning())\n"
     ]
    },
    {
     "name": "stdout",
     "output_type": "stream",
     "text": [
      "Epoch 374 end: 1.0203571319580078, TRAIN MSE is: 1866.3096923828125\n",
      "Validation loss: 410478.4062500 - MSE score: 1964.0117188\n",
      "Validation pearson is: nan\n",
      "Validation r2_score is: -0.953463612595083\n",
      "-------------------------\n"
     ]
    },
    {
     "name": "stderr",
     "output_type": "stream",
     "text": [
      "/home/mbosnjak/.conda/envs/pero/lib/python3.7/site-packages/scipy/stats/stats.py:3399: PearsonRConstantInputWarning: An input array is constant; the correlation coefficent is not defined.\n",
      "  warnings.warn(PearsonRConstantInputWarning())\n"
     ]
    },
    {
     "name": "stdout",
     "output_type": "stream",
     "text": [
      "Epoch 375 end: 1.023709774017334, TRAIN MSE is: 1864.2569580078125\n",
      "Validation loss: 410019.9687500 - MSE score: 1961.8178711\n",
      "Validation pearson is: nan\n",
      "Validation r2_score is: -0.951281700358569\n",
      "-------------------------\n"
     ]
    },
    {
     "name": "stderr",
     "output_type": "stream",
     "text": [
      "/home/mbosnjak/.conda/envs/pero/lib/python3.7/site-packages/scipy/stats/stats.py:3399: PearsonRConstantInputWarning: An input array is constant; the correlation coefficent is not defined.\n",
      "  warnings.warn(PearsonRConstantInputWarning())\n"
     ]
    },
    {
     "name": "stdout",
     "output_type": "stream",
     "text": [
      "Epoch 376 end: 1.0478289127349854, TRAIN MSE is: 1862.2247314453125\n",
      "Validation loss: 409557.2500000 - MSE score: 1959.6041260\n",
      "Validation pearson is: nan\n",
      "Validation r2_score is: -0.9490798058781689\n",
      "-------------------------\n"
     ]
    },
    {
     "name": "stderr",
     "output_type": "stream",
     "text": [
      "/home/mbosnjak/.conda/envs/pero/lib/python3.7/site-packages/scipy/stats/stats.py:3399: PearsonRConstantInputWarning: An input array is constant; the correlation coefficent is not defined.\n",
      "  warnings.warn(PearsonRConstantInputWarning())\n"
     ]
    },
    {
     "name": "stdout",
     "output_type": "stream",
     "text": [
      "Epoch 377 end: 1.0261294841766357, TRAIN MSE is: 1860.1734619140625\n",
      "Validation loss: 409098.1250000 - MSE score: 1957.4073486\n",
      "Validation pearson is: nan\n",
      "Validation r2_score is: -0.9468947408866644\n",
      "-------------------------\n"
     ]
    },
    {
     "name": "stderr",
     "output_type": "stream",
     "text": [
      "/home/mbosnjak/.conda/envs/pero/lib/python3.7/site-packages/scipy/stats/stats.py:3399: PearsonRConstantInputWarning: An input array is constant; the correlation coefficent is not defined.\n",
      "  warnings.warn(PearsonRConstantInputWarning())\n"
     ]
    },
    {
     "name": "stdout",
     "output_type": "stream",
     "text": [
      "Epoch 378 end: 1.07258939743042, TRAIN MSE is: 1858.1431884765625\n",
      "Validation loss: 408637.2812500 - MSE score: 1955.2023926\n",
      "Validation pearson is: nan\n",
      "Validation r2_score is: -0.944701656522654\n",
      "-------------------------\n"
     ]
    },
    {
     "name": "stderr",
     "output_type": "stream",
     "text": [
      "/home/mbosnjak/.conda/envs/pero/lib/python3.7/site-packages/scipy/stats/stats.py:3399: PearsonRConstantInputWarning: An input array is constant; the correlation coefficent is not defined.\n",
      "  warnings.warn(PearsonRConstantInputWarning())\n"
     ]
    },
    {
     "name": "stdout",
     "output_type": "stream",
     "text": [
      "Epoch 379 end: 1.0490608215332031, TRAIN MSE is: 1856.1044921875\n",
      "Validation loss: 408178.9375000 - MSE score: 1953.0092773\n",
      "Validation pearson is: nan\n",
      "Validation r2_score is: -0.9425203606662114\n",
      "-------------------------\n"
     ]
    },
    {
     "name": "stderr",
     "output_type": "stream",
     "text": [
      "/home/mbosnjak/.conda/envs/pero/lib/python3.7/site-packages/scipy/stats/stats.py:3399: PearsonRConstantInputWarning: An input array is constant; the correlation coefficent is not defined.\n",
      "  warnings.warn(PearsonRConstantInputWarning())\n"
     ]
    },
    {
     "name": "stdout",
     "output_type": "stream",
     "text": [
      "Epoch 380 end: 1.026123285293579, TRAIN MSE is: 1854.0791015625\n",
      "Validation loss: 407720.4687500 - MSE score: 1950.8156738\n",
      "Validation pearson is: nan\n",
      "Validation r2_score is: -0.9403384580263949\n",
      "-------------------------\n"
     ]
    },
    {
     "name": "stderr",
     "output_type": "stream",
     "text": [
      "/home/mbosnjak/.conda/envs/pero/lib/python3.7/site-packages/scipy/stats/stats.py:3399: PearsonRConstantInputWarning: An input array is constant; the correlation coefficent is not defined.\n",
      "  warnings.warn(PearsonRConstantInputWarning())\n"
     ]
    },
    {
     "name": "stdout",
     "output_type": "stream",
     "text": [
      "Epoch 381 end: 1.0216145515441895, TRAIN MSE is: 1852.0399169921875\n",
      "Validation loss: 407267.5937500 - MSE score: 1948.6486816\n",
      "Validation pearson is: nan\n",
      "Validation r2_score is: -0.9381832848326994\n",
      "-------------------------\n"
     ]
    },
    {
     "name": "stderr",
     "output_type": "stream",
     "text": [
      "/home/mbosnjak/.conda/envs/pero/lib/python3.7/site-packages/scipy/stats/stats.py:3399: PearsonRConstantInputWarning: An input array is constant; the correlation coefficent is not defined.\n",
      "  warnings.warn(PearsonRConstantInputWarning())\n"
     ]
    },
    {
     "name": "stdout",
     "output_type": "stream",
     "text": [
      "Epoch 382 end: 1.0126419067382812, TRAIN MSE is: 1850.017822265625\n",
      "Validation loss: 406816.3750000 - MSE score: 1946.4895020\n",
      "Validation pearson is: nan\n",
      "Validation r2_score is: -0.9360357258793288\n",
      "-------------------------\n"
     ]
    },
    {
     "name": "stderr",
     "output_type": "stream",
     "text": [
      "/home/mbosnjak/.conda/envs/pero/lib/python3.7/site-packages/scipy/stats/stats.py:3399: PearsonRConstantInputWarning: An input array is constant; the correlation coefficent is not defined.\n",
      "  warnings.warn(PearsonRConstantInputWarning())\n"
     ]
    },
    {
     "name": "stdout",
     "output_type": "stream",
     "text": [
      "Epoch 383 end: 1.0296757221221924, TRAIN MSE is: 1848.027587890625\n",
      "Validation loss: 406358.8437500 - MSE score: 1944.3006592\n",
      "Validation pearson is: nan\n",
      "Validation r2_score is: -0.9338585283478096\n",
      "-------------------------\n"
     ]
    },
    {
     "name": "stderr",
     "output_type": "stream",
     "text": [
      "/home/mbosnjak/.conda/envs/pero/lib/python3.7/site-packages/scipy/stats/stats.py:3399: PearsonRConstantInputWarning: An input array is constant; the correlation coefficent is not defined.\n",
      "  warnings.warn(PearsonRConstantInputWarning())\n"
     ]
    },
    {
     "name": "stdout",
     "output_type": "stream",
     "text": [
      "Epoch 384 end: 1.0055866241455078, TRAIN MSE is: 1846.024658203125\n",
      "Validation loss: 405900.7812500 - MSE score: 1942.1091309\n",
      "Validation pearson is: nan\n",
      "Validation r2_score is: -0.9316787621621649\n",
      "-------------------------\n"
     ]
    },
    {
     "name": "stderr",
     "output_type": "stream",
     "text": [
      "/home/mbosnjak/.conda/envs/pero/lib/python3.7/site-packages/scipy/stats/stats.py:3399: PearsonRConstantInputWarning: An input array is constant; the correlation coefficent is not defined.\n",
      "  warnings.warn(PearsonRConstantInputWarning())\n"
     ]
    },
    {
     "name": "stdout",
     "output_type": "stream",
     "text": [
      "Epoch 385 end: 1.0117864608764648, TRAIN MSE is: 1843.9654541015625\n",
      "Validation loss: 405460.5625000 - MSE score: 1940.0026855\n",
      "Validation pearson is: nan\n",
      "Validation r2_score is: -0.9295836542456586\n",
      "-------------------------\n"
     ]
    },
    {
     "name": "stderr",
     "output_type": "stream",
     "text": [
      "/home/mbosnjak/.conda/envs/pero/lib/python3.7/site-packages/scipy/stats/stats.py:3399: PearsonRConstantInputWarning: An input array is constant; the correlation coefficent is not defined.\n",
      "  warnings.warn(PearsonRConstantInputWarning())\n"
     ]
    },
    {
     "name": "stdout",
     "output_type": "stream",
     "text": [
      "Epoch 386 end: 1.0278475284576416, TRAIN MSE is: 1842.0150146484375\n",
      "Validation loss: 405005.9375000 - MSE score: 1937.8272705\n",
      "Validation pearson is: nan\n",
      "Validation r2_score is: -0.927419976366908\n",
      "-------------------------\n"
     ]
    },
    {
     "name": "stderr",
     "output_type": "stream",
     "text": [
      "/home/mbosnjak/.conda/envs/pero/lib/python3.7/site-packages/scipy/stats/stats.py:3399: PearsonRConstantInputWarning: An input array is constant; the correlation coefficent is not defined.\n",
      "  warnings.warn(PearsonRConstantInputWarning())\n"
     ]
    },
    {
     "name": "stdout",
     "output_type": "stream",
     "text": [
      "Epoch 387 end: 1.0295722484588623, TRAIN MSE is: 1840.0086669921875\n",
      "Validation loss: 404555.8750000 - MSE score: 1935.6739502\n",
      "Validation pearson is: nan\n",
      "Validation r2_score is: -0.9252782136764639\n",
      "-------------------------\n"
     ]
    },
    {
     "name": "stderr",
     "output_type": "stream",
     "text": [
      "/home/mbosnjak/.conda/envs/pero/lib/python3.7/site-packages/scipy/stats/stats.py:3399: PearsonRConstantInputWarning: An input array is constant; the correlation coefficent is not defined.\n",
      "  warnings.warn(PearsonRConstantInputWarning())\n"
     ]
    },
    {
     "name": "stdout",
     "output_type": "stream",
     "text": [
      "Epoch 388 end: 1.0304646492004395, TRAIN MSE is: 1838.0228271484375\n",
      "Validation loss: 404105.5937500 - MSE score: 1933.5194092\n",
      "Validation pearson is: nan\n",
      "Validation r2_score is: -0.9231352939222741\n",
      "-------------------------\n"
     ]
    },
    {
     "name": "stderr",
     "output_type": "stream",
     "text": [
      "/home/mbosnjak/.conda/envs/pero/lib/python3.7/site-packages/scipy/stats/stats.py:3399: PearsonRConstantInputWarning: An input array is constant; the correlation coefficent is not defined.\n",
      "  warnings.warn(PearsonRConstantInputWarning())\n"
     ]
    },
    {
     "name": "stdout",
     "output_type": "stream",
     "text": [
      "Epoch 389 end: 1.01033353805542, TRAIN MSE is: 1836.047119140625\n",
      "Validation loss: 403654.2187500 - MSE score: 1931.3598633\n",
      "Validation pearson is: nan\n",
      "Validation r2_score is: -0.9209871328833406\n",
      "-------------------------\n"
     ]
    },
    {
     "name": "stderr",
     "output_type": "stream",
     "text": [
      "/home/mbosnjak/.conda/envs/pero/lib/python3.7/site-packages/scipy/stats/stats.py:3399: PearsonRConstantInputWarning: An input array is constant; the correlation coefficent is not defined.\n",
      "  warnings.warn(PearsonRConstantInputWarning())\n"
     ]
    },
    {
     "name": "stdout",
     "output_type": "stream",
     "text": [
      "Epoch 390 end: 1.0227947235107422, TRAIN MSE is: 1834.026123046875\n",
      "Validation loss: 403215.7187500 - MSE score: 1929.2617188\n",
      "Validation pearson is: nan\n",
      "Validation r2_score is: -0.9189004122328674\n",
      "-------------------------\n"
     ]
    },
    {
     "name": "stderr",
     "output_type": "stream",
     "text": [
      "/home/mbosnjak/.conda/envs/pero/lib/python3.7/site-packages/scipy/stats/stats.py:3399: PearsonRConstantInputWarning: An input array is constant; the correlation coefficent is not defined.\n",
      "  warnings.warn(PearsonRConstantInputWarning())\n"
     ]
    },
    {
     "name": "stdout",
     "output_type": "stream",
     "text": [
      "Epoch 391 end: 1.0367794036865234, TRAIN MSE is: 1832.0792236328125\n",
      "Validation loss: 402769.4687500 - MSE score: 1927.1264648\n",
      "Validation pearson is: nan\n",
      "Validation r2_score is: -0.9167767355535854\n",
      "-------------------------\n"
     ]
    },
    {
     "name": "stderr",
     "output_type": "stream",
     "text": [
      "/home/mbosnjak/.conda/envs/pero/lib/python3.7/site-packages/scipy/stats/stats.py:3399: PearsonRConstantInputWarning: An input array is constant; the correlation coefficent is not defined.\n",
      "  warnings.warn(PearsonRConstantInputWarning())\n"
     ]
    },
    {
     "name": "stdout",
     "output_type": "stream",
     "text": [
      "Epoch 392 end: 1.0016789436340332, TRAIN MSE is: 1830.0924072265625\n",
      "Validation loss: 402329.2187500 - MSE score: 1925.0201416\n",
      "Validation pearson is: nan\n",
      "Validation r2_score is: -0.9146815755408875\n",
      "-------------------------\n"
     ]
    },
    {
     "name": "stderr",
     "output_type": "stream",
     "text": [
      "/home/mbosnjak/.conda/envs/pero/lib/python3.7/site-packages/scipy/stats/stats.py:3399: PearsonRConstantInputWarning: An input array is constant; the correlation coefficent is not defined.\n",
      "  warnings.warn(PearsonRConstantInputWarning())\n"
     ]
    },
    {
     "name": "stdout",
     "output_type": "stream",
     "text": [
      "Epoch 393 end: 1.0042212009429932, TRAIN MSE is: 1828.1290283203125\n",
      "Validation loss: 401889.5312500 - MSE score: 1922.9166260\n",
      "Validation pearson is: nan\n",
      "Validation r2_score is: -0.9125891441061669\n",
      "-------------------------\n"
     ]
    },
    {
     "name": "stderr",
     "output_type": "stream",
     "text": [
      "/home/mbosnjak/.conda/envs/pero/lib/python3.7/site-packages/scipy/stats/stats.py:3399: PearsonRConstantInputWarning: An input array is constant; the correlation coefficent is not defined.\n",
      "  warnings.warn(PearsonRConstantInputWarning())\n"
     ]
    },
    {
     "name": "stdout",
     "output_type": "stream",
     "text": [
      "Epoch 394 end: 1.0076205730438232, TRAIN MSE is: 1826.2081298828125\n",
      "Validation loss: 401439.0625000 - MSE score: 1920.7611084\n",
      "Validation pearson is: nan\n",
      "Validation r2_score is: -0.9104453789078921\n",
      "-------------------------\n"
     ]
    },
    {
     "name": "stderr",
     "output_type": "stream",
     "text": [
      "/home/mbosnjak/.conda/envs/pero/lib/python3.7/site-packages/scipy/stats/stats.py:3399: PearsonRConstantInputWarning: An input array is constant; the correlation coefficent is not defined.\n",
      "  warnings.warn(PearsonRConstantInputWarning())\n"
     ]
    },
    {
     "name": "stdout",
     "output_type": "stream",
     "text": [
      "Epoch 395 end: 1.026432752609253, TRAIN MSE is: 1824.2152099609375\n",
      "Validation loss: 401000.5000000 - MSE score: 1918.6627197\n",
      "Validation pearson is: nan\n",
      "Validation r2_score is: -0.9083582710803699\n",
      "-------------------------\n"
     ]
    },
    {
     "name": "stderr",
     "output_type": "stream",
     "text": [
      "/home/mbosnjak/.conda/envs/pero/lib/python3.7/site-packages/scipy/stats/stats.py:3399: PearsonRConstantInputWarning: An input array is constant; the correlation coefficent is not defined.\n",
      "  warnings.warn(PearsonRConstantInputWarning())\n"
     ]
    },
    {
     "name": "stdout",
     "output_type": "stream",
     "text": [
      "Epoch 396 end: 1.0332319736480713, TRAIN MSE is: 1822.2703857421875\n",
      "Validation loss: 400561.1875000 - MSE score: 1916.5606689\n",
      "Validation pearson is: nan\n",
      "Validation r2_score is: -0.9062675530457003\n",
      "-------------------------\n"
     ]
    },
    {
     "name": "stderr",
     "output_type": "stream",
     "text": [
      "/home/mbosnjak/.conda/envs/pero/lib/python3.7/site-packages/scipy/stats/stats.py:3399: PearsonRConstantInputWarning: An input array is constant; the correlation coefficent is not defined.\n",
      "  warnings.warn(PearsonRConstantInputWarning())\n"
     ]
    },
    {
     "name": "stdout",
     "output_type": "stream",
     "text": [
      "Epoch 397 end: 1.0189199447631836, TRAIN MSE is: 1820.3212890625\n",
      "Validation loss: 400123.6250000 - MSE score: 1914.4671631\n",
      "Validation pearson is: nan\n",
      "Validation r2_score is: -0.9041851247802339\n",
      "-------------------------\n"
     ]
    },
    {
     "name": "stderr",
     "output_type": "stream",
     "text": [
      "/home/mbosnjak/.conda/envs/pero/lib/python3.7/site-packages/scipy/stats/stats.py:3399: PearsonRConstantInputWarning: An input array is constant; the correlation coefficent is not defined.\n",
      "  warnings.warn(PearsonRConstantInputWarning())\n"
     ]
    },
    {
     "name": "stdout",
     "output_type": "stream",
     "text": [
      "Epoch 398 end: 1.073840618133545, TRAIN MSE is: 1818.3739013671875\n",
      "Validation loss: 399688.9062500 - MSE score: 1912.3870850\n",
      "Validation pearson is: nan\n",
      "Validation r2_score is: -0.902116372701284\n",
      "-------------------------\n"
     ]
    },
    {
     "name": "stderr",
     "output_type": "stream",
     "text": [
      "/home/mbosnjak/.conda/envs/pero/lib/python3.7/site-packages/scipy/stats/stats.py:3399: PearsonRConstantInputWarning: An input array is constant; the correlation coefficent is not defined.\n",
      "  warnings.warn(PearsonRConstantInputWarning())\n"
     ]
    },
    {
     "name": "stdout",
     "output_type": "stream",
     "text": [
      "Epoch 399 end: 1.091949224472046, TRAIN MSE is: 1816.453125\n",
      "Validation loss: 399250.3125000 - MSE score: 1910.2885742\n",
      "Validation pearson is: nan\n",
      "Validation r2_score is: -0.9000291041075921\n",
      "-------------------------\n",
      "Apply best model to test for ['neuroticism'] on fold 0.\n",
      "Test loss: 310184.56250 - MSE score: 1193.0172119 \n",
      "Test pearson is: 0.12782571848523608\n",
      "Test r2_score is: -0.12993082995138194\n",
      "-------------------------\n",
      "+++ Finished with training and testing model for ['neuroticism'] on fold 0. +++\n",
      "-------------------------\n",
      "-------------------------\n",
      "Experiment finished!\n"
     ]
    }
   ],
   "source": [
    "# ------ POCETAK PODUPLANOG DIJELA \n",
    "location = '/home/mbosnjak/PERO/persil2/persil/modelsData'\n",
    "print(f'Parsing the {location} to obtain model and parameters.')\n",
    "models_data = json.load(open(location, 'r'))\n",
    "debugger = Debugger(models_data[DEBUG_STATUS])\n",
    "\n",
    "print(models_data)\n",
    "models_name = models_data[MODELS_NAME]\n",
    "\n",
    "nrows = get_optional(models_data, NUMBER_OF_ROWS)\n",
    "output_directory = get_output_directory_name(models_data[OUTPUT_DIRECTORYS_LOCATION], models_name)    \n",
    "if(not os.path.isdir(output_directory)):\n",
    "    os.makedirs(output_directory)\n",
    "    \n",
    "# ------ KRAJ PODUPLANOG DIJELA \n",
    "    \n",
    "print(\"Starting the experiments.\")\n",
    "experiment = Experiment(debugger, output_directory,get_optional(models_data,RESULTS_IMPORT_LOCATION), data_frame, models_data[BALANCE_DATA], models_data[EXPERIMENTS_NAME], models_name,\\\n",
    "     models_data[RUN_IDENTIFICATOR], models_data[FOLDS], models_data[PREDICTION_TYPE], models_data[TARGETS], models_data[OPTIMIZATION_PARAMETERS],\\\n",
    "         models_data[PRINT_BATCH_STATUS], models_data[MAX_CONSTANT_F1], models_data[NUMBER_OF_EPOCHS], models_data[DECAY_RATE], models_data[DECAY_EPOCH],\\\n",
    "         models_data[VALIDATION_SET_PERCENTAGE], models_data[CUDA_DEVICE], models_data[USE_GPU], models_data[RANDOM_STATE])\n",
    "\n",
    "experiment.start()\n",
    "print(\"Experiment finished!\")"
   ]
  }
 ],
 "metadata": {
  "kernelspec": {
   "display_name": "Python 3",
   "language": "python",
   "name": "python3"
  },
  "language_info": {
   "codemirror_mode": {
    "name": "ipython",
    "version": 3
   },
   "file_extension": ".py",
   "mimetype": "text/x-python",
   "name": "python",
   "nbconvert_exporter": "python",
   "pygments_lexer": "ipython3",
   "version": "3.7.4"
  }
 },
 "nbformat": 4,
 "nbformat_minor": 2
}
