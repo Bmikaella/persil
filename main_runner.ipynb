{
 "cells": [
  {
   "cell_type": "code",
   "execution_count": 1,
   "metadata": {},
   "outputs": [],
   "source": [
    "import sys, argparse\n",
    "import parser\n",
    "import json\n",
    "from data_operators import *\n",
    "from helpers import * \n",
    "from experiment import *\n",
    "import os\n",
    "from debugger import Debugger\n",
    "from importlib import *"
   ]
  },
  {
   "cell_type": "code",
   "execution_count": 3,
   "metadata": {},
   "outputs": [],
   "source": [
    "%load_ext autoreload\n",
    "%autoreload 2\n"
   ]
  },
  {
   "cell_type": "code",
   "execution_count": 2,
   "metadata": {},
   "outputs": [
    {
     "name": "stdout",
     "output_type": "stream",
     "text": [
      "Parsing the /home/mbosnjak/PERO/persil2/persil/modelsData to obtain model and parameters.\n",
      "{'models_name': 'convo_carpet_deep', 'experiments_name': 'big5_as_regression', 'targets': [['agreeableness'], ['openness'], ['conscientiousness'], ['extraversion'], ['neuroticism']], 'prediction_type': 'regression', 'folds': [0], 'run_identificator': 'big5_test11', 'debug': 'False', 'cuda_device': 1, 'use_GPU': 'True', 'random_state': 56, 'output_directorys_location': '/home/mbosnjak/PERO/', 'results_import_location': 'None', 'input_location': '/home/mbosnjak/Datasets/embedded_comments_last_100_min_20com_per_auth_w_wc_10_200_no_mbti.csv', 'folds_location': '/home/mbosnjak/Datasets/comments_last_100_min_20com_per_auth_w_wc_10_200.csv.folds.csv', 'output_location': '/home/mbosnjak/Datasets/author_profiles.csv', 'max_sentences_per_author': 100000, 'min_padding_per_author': 16, 'nrows': 'None', 'balance_data': 'False', 'validation_set_percentage': 0.2, 'print_status_batch': 100, 'max_constant_f1': 6, 'n_epochs': 400, 'decay_rate': 0.9, 'decay_epoch': 100, 'optimization_params': {'learning_rate': [0.0001, 0.005, 1e-05], 'act_func': ['sig'], 'batch_size': [64], 'kernels_count': [16], 'sentences_count': [2], 'hidden_layers': [[20, 15, 10], [30, 10, 6]], 'dropout': [0.5], 'alpha': [0.1978], 'regularization_type': ['L2']}}\n"
     ]
    },
    {
     "name": "stderr",
     "output_type": "stream",
     "text": [
      "/home/mbosnjak/PERO/persil2/persil/data_operators.py:13: FutureWarning: Method .as_matrix will be removed in a future version. Use .values instead.\n",
      "  carpet = sentences[:maximal_carpet_size].as_matrix(columns=sentences.columns[1:1025])\n"
     ]
    }
   ],
   "source": [
    "OUTPUT_DIRECTORYS_LOCATION = 'output_directorys_location'\n",
    "\n",
    "INPUT_LOCATION = 'input_location'\n",
    "FOLDS_LOCATION = 'folds_location'\n",
    "OUTPUT_LOCATION = 'output_location'\n",
    "\n",
    "CUDA_DEVICE = 'cuda_device'\n",
    "RANDOM_STATE = 'random_state'\n",
    "USE_GPU  ='use_GPU'\n",
    "VALIDATION_SET_PERCENTAGE = 'validation_set_percentage'\n",
    "MAX_SENTENCES_PER_AUTHOR = 'max_sentences_per_author'\n",
    "MIN_PADDING_PER_AUTHOR = 'min_padding_per_author'\n",
    "PRINT_BATCH_STATUS = 'print_status_batch'     \n",
    "MAX_CONSTANT_F1 = 'max_constant_f1'\n",
    "NUMBER_OF_EPOCHS = 'n_epochs'\n",
    "NUMBER_OF_ROWS = 'nrows'\n",
    "\n",
    "MODELS_NAME = 'models_name'\n",
    "EXPERIMENTS_NAME = 'experiments_name'\n",
    "TARGETS = 'targets'\n",
    "PREDICTION_TYPE = 'prediction_type'\n",
    "\n",
    "FOLDS = 'folds'\n",
    "RUN_IDENTIFICATOR = 'run_identificator'\n",
    "BALANCE_DATA = 'balance_data'\n",
    "\n",
    "RESULTS_IMPORT_LOCATION = 'results_import_location'\n",
    "  \n",
    "OPTIMIZATION_PARAMETERS = 'optimization_params'\n",
    "\n",
    "DECAY_RATE  = \"decay_rate\"\n",
    "DECAY_EPOCH = \"decay_epoch\"\n",
    "\n",
    "DEBUG_STATUS = 'debug'\n",
    "\n",
    "CLASSIFICATION = 'classification'\n",
    "REGRESSION = 'regression'\n",
    "\n",
    "# PODUPLANO S OBZIROM NA CELIJU ISPOD, ZATO STO ZELIMO PRVO UCITATI PODATKE KOJI CE MANJE VISE BIT KONZISTENTNI A POSLIJE \n",
    "# CEMO DODAVATI PODATKE VEZANE UZ EKSPERMIENTE\n",
    "location = '/home/mbosnjak/PERO/persil2/persil/modelsData'\n",
    "print(f'Parsing the {location} to obtain model and parameters.')\n",
    "models_data = json.load(open(location, 'r'))\n",
    "debugger = Debugger(models_data[DEBUG_STATUS])\n",
    "\n",
    "print(models_data)\n",
    "models_name = models_data[MODELS_NAME]\n",
    "\n",
    "nrows = get_optional(models_data, NUMBER_OF_ROWS)\n",
    "output_directory = get_output_directory_name(models_data[OUTPUT_DIRECTORYS_LOCATION], models_name)    \n",
    "if(not os.path.isdir(output_directory)):\n",
    "    os.makedirs(output_directory)\n",
    "\n",
    "# ------ KRAJ PODUPLANOG DIJELA \n",
    "    \n",
    "data_frame = InputOutputFrame(debugger, models_data[INPUT_LOCATION], models_data[OUTPUT_LOCATION], models_data[FOLDS_LOCATION], \\\n",
    "    models_data[MAX_SENTENCES_PER_AUTHOR], models_data[MIN_PADDING_PER_AUTHOR], nrows=nrows)\n",
    "\n",
    "#parse the parameters\n",
    "#prepare data\n",
    "#prepara a performance saver\n",
    "#choose model\n",
    "#clean and prepare the data \n",
    "#optimeze hyper parameters \n",
    "#-> train model\n",
    "#choose the best model and apply"
   ]
  },
  {
   "cell_type": "code",
   "execution_count": 6,
   "metadata": {},
   "outputs": [
    {
     "name": "stdout",
     "output_type": "stream",
     "text": [
      "Parsing the /home/mbosnjak/PERO/persil2/persil/modelsData to obtain model and parameters.\n",
      "{'models_name': 'convo_carpet_deep', 'experiments_name': 'big5_as_regression', 'targets': [['agreeableness'], ['openness'], ['conscientiousness'], ['extraversion'], ['neuroticism']], 'prediction_type': 'regression', 'folds': [0], 'run_identificator': 'big5_test2', 'debug': 'False', 'cuda_device': 1, 'use_GPU': 'True', 'random_state': 1025, 'output_directorys_location': '/home/mbosnjak/PERO/', 'results_import_location': 'None', 'input_location': '/home/mbosnjak/Datasets/embedded_comments_last_100_min_20com_per_auth_w_wc_10_200_no_mbti.csv', 'folds_location': '/home/mbosnjak/Datasets/comments_last_100_min_20com_per_auth_w_wc_10_200.csv.folds.csv', 'output_location': '/home/mbosnjak/Datasets/author_profiles.csv', 'max_sentences_per_author': 100000, 'min_padding_per_author': 16, 'nrows': 'None', 'balance_data': 'False', 'validation_set_percentage': 0.2, 'print_status_batch': 100, 'max_constant_f1': 6, 'n_epochs': 400, 'decay_rate': 0.9, 'decay_epoch': 100, 'optimization_params': {'learning_rate': [0.01, 0.09, 0.3], 'act_func': ['sig'], 'batch_size': [64], 'kernels_count': [8], 'sentences_count': [2], 'hidden_layers': [[8, 6, 4]], 'dropout': [0.5], 'alpha': [0.1978], 'regularization_type': ['None']}}\n",
      "Starting the experiments.\n",
      "-------------------------\n",
      "Starting experiment big5_as_regression...\n",
      "-------------------------\n",
      "Processing fold: 0 and target: ['agreeableness']\n",
      "-------------------------\n",
      "Train size: 832\n",
      "Validation size: 209\n",
      "Test size: 264\n",
      "-------------------------\n",
      "Starting training for: {'learning_rate': 0.01, 'act_func': 'sig', 'batch_size': 64, 'kernels_count': 8, 'sentences_count': 2, 'hidden_layers': [8, 6, 4], 'dropout': 0.5, 'alpha': 0.1978, 'regularization_type': 'None'}\n",
      "-------------------------\n",
      "Epoch 0 end: 2.0425660610198975, TRAIN MSE is: 2830.6484375\n",
      "Validation loss: 547267.0625000 - MSE score: 2618.5029297\n",
      "Validation pearson is: -0.04643180505917108\n",
      "Validation r2_score is: -1.9173621654898354\n",
      "-------------------------\n"
     ]
    },
    {
     "name": "stderr",
     "output_type": "stream",
     "text": [
      "/home/mbosnjak/.conda/envs/pero/lib/python3.7/site-packages/scipy/stats/stats.py:3399: PearsonRConstantInputWarning: An input array is constant; the correlation coefficent is not defined.\n",
      "  warnings.warn(PearsonRConstantInputWarning())\n"
     ]
    },
    {
     "name": "stdout",
     "output_type": "stream",
     "text": [
      "Epoch 1 end: 1.6947789192199707, TRAIN MSE is: 2798.531494140625\n",
      "Validation loss: 540630.7500000 - MSE score: 2586.7500000\n",
      "Validation pearson is: nan\n",
      "Validation r2_score is: -1.8819852957616656\n",
      "-------------------------\n"
     ]
    },
    {
     "name": "stderr",
     "output_type": "stream",
     "text": [
      "/home/mbosnjak/.conda/envs/pero/lib/python3.7/site-packages/scipy/stats/stats.py:3399: PearsonRConstantInputWarning: An input array is constant; the correlation coefficent is not defined.\n",
      "  warnings.warn(PearsonRConstantInputWarning())\n"
     ]
    },
    {
     "name": "stdout",
     "output_type": "stream",
     "text": [
      "Epoch 2 end: 1.817763328552246, TRAIN MSE is: 2760.443603515625\n",
      "Validation loss: 531882.9375000 - MSE score: 2544.8940430\n",
      "Validation pearson is: nan\n",
      "Validation r2_score is: -1.8353524554408929\n",
      "-------------------------\n"
     ]
    },
    {
     "name": "stderr",
     "output_type": "stream",
     "text": [
      "/home/mbosnjak/.conda/envs/pero/lib/python3.7/site-packages/scipy/stats/stats.py:3399: PearsonRConstantInputWarning: An input array is constant; the correlation coefficent is not defined.\n",
      "  warnings.warn(PearsonRConstantInputWarning())\n"
     ]
    },
    {
     "name": "stdout",
     "output_type": "stream",
     "text": [
      "Epoch 3 end: 1.7615654468536377, TRAIN MSE is: 2717.115478515625\n",
      "Validation loss: 520926.6250000 - MSE score: 2492.4719238\n",
      "Validation pearson is: nan\n",
      "Validation r2_score is: -1.7769468880275823\n",
      "-------------------------\n"
     ]
    },
    {
     "name": "stderr",
     "output_type": "stream",
     "text": [
      "/home/mbosnjak/.conda/envs/pero/lib/python3.7/site-packages/scipy/stats/stats.py:3399: PearsonRConstantInputWarning: An input array is constant; the correlation coefficent is not defined.\n",
      "  warnings.warn(PearsonRConstantInputWarning())\n"
     ]
    },
    {
     "name": "stdout",
     "output_type": "stream",
     "text": [
      "Epoch 4 end: 1.7546210289001465, TRAIN MSE is: 2655.48486328125\n",
      "Validation loss: 508133.4062500 - MSE score: 2431.2602539\n",
      "Validation pearson is: nan\n",
      "Validation r2_score is: -1.7087490042621538\n",
      "-------------------------\n"
     ]
    },
    {
     "name": "stderr",
     "output_type": "stream",
     "text": [
      "/home/mbosnjak/.conda/envs/pero/lib/python3.7/site-packages/scipy/stats/stats.py:3399: PearsonRConstantInputWarning: An input array is constant; the correlation coefficent is not defined.\n",
      "  warnings.warn(PearsonRConstantInputWarning())\n"
     ]
    },
    {
     "name": "stdout",
     "output_type": "stream",
     "text": [
      "Epoch 5 end: 1.716611623764038, TRAIN MSE is: 2586.44189453125\n",
      "Validation loss: 493722.0312500 - MSE score: 2362.3066406\n",
      "Validation pearson is: nan\n",
      "Validation r2_score is: -1.6319251261899401\n",
      "-------------------------\n"
     ]
    },
    {
     "name": "stderr",
     "output_type": "stream",
     "text": [
      "/home/mbosnjak/.conda/envs/pero/lib/python3.7/site-packages/scipy/stats/stats.py:3399: PearsonRConstantInputWarning: An input array is constant; the correlation coefficent is not defined.\n",
      "  warnings.warn(PearsonRConstantInputWarning())\n"
     ]
    },
    {
     "name": "stdout",
     "output_type": "stream",
     "text": [
      "Epoch 6 end: 1.8074188232421875, TRAIN MSE is: 2524.627197265625\n",
      "Validation loss: 479320.2812500 - MSE score: 2293.3986816\n",
      "Validation pearson is: nan\n",
      "Validation r2_score is: -1.5551526593892144\n",
      "-------------------------\n"
     ]
    },
    {
     "name": "stderr",
     "output_type": "stream",
     "text": [
      "/home/mbosnjak/.conda/envs/pero/lib/python3.7/site-packages/scipy/stats/stats.py:3399: PearsonRConstantInputWarning: An input array is constant; the correlation coefficent is not defined.\n",
      "  warnings.warn(PearsonRConstantInputWarning())\n"
     ]
    },
    {
     "name": "stdout",
     "output_type": "stream",
     "text": [
      "Epoch 7 end: 1.650216817855835, TRAIN MSE is: 2455.265625\n",
      "Validation loss: 466193.0000000 - MSE score: 2230.5886230\n",
      "Validation pearson is: nan\n",
      "Validation r2_score is: -1.4851738476633929\n",
      "-------------------------\n"
     ]
    },
    {
     "name": "stderr",
     "output_type": "stream",
     "text": [
      "/home/mbosnjak/.conda/envs/pero/lib/python3.7/site-packages/scipy/stats/stats.py:3399: PearsonRConstantInputWarning: An input array is constant; the correlation coefficent is not defined.\n",
      "  warnings.warn(PearsonRConstantInputWarning())\n"
     ]
    },
    {
     "name": "stdout",
     "output_type": "stream",
     "text": [
      "Epoch 8 end: 1.6608874797821045, TRAIN MSE is: 2377.68701171875\n",
      "Validation loss: 454220.8750000 - MSE score: 2173.3054199\n",
      "Validation pearson is: nan\n",
      "Validation r2_score is: -1.4213528681117653\n",
      "-------------------------\n"
     ]
    },
    {
     "name": "stderr",
     "output_type": "stream",
     "text": [
      "/home/mbosnjak/.conda/envs/pero/lib/python3.7/site-packages/scipy/stats/stats.py:3399: PearsonRConstantInputWarning: An input array is constant; the correlation coefficent is not defined.\n",
      "  warnings.warn(PearsonRConstantInputWarning())\n"
     ]
    },
    {
     "name": "stdout",
     "output_type": "stream",
     "text": [
      "Epoch 9 end: 1.5037086009979248, TRAIN MSE is: 2344.95654296875\n",
      "Validation loss: 443194.1875000 - MSE score: 2120.5463867\n",
      "Validation pearson is: nan\n",
      "Validation r2_score is: -1.3625721696445474\n",
      "-------------------------\n"
     ]
    },
    {
     "name": "stderr",
     "output_type": "stream",
     "text": [
      "/home/mbosnjak/.conda/envs/pero/lib/python3.7/site-packages/scipy/stats/stats.py:3399: PearsonRConstantInputWarning: An input array is constant; the correlation coefficent is not defined.\n",
      "  warnings.warn(PearsonRConstantInputWarning())\n"
     ]
    },
    {
     "name": "stdout",
     "output_type": "stream",
     "text": [
      "Epoch 10 end: 1.4093990325927734, TRAIN MSE is: 2294.79052734375\n",
      "Validation loss: 432956.3437500 - MSE score: 2071.5615234\n",
      "Validation pearson is: nan\n",
      "Validation r2_score is: -1.3079965351358394\n",
      "-------------------------\n"
     ]
    },
    {
     "name": "stderr",
     "output_type": "stream",
     "text": [
      "/home/mbosnjak/.conda/envs/pero/lib/python3.7/site-packages/scipy/stats/stats.py:3399: PearsonRConstantInputWarning: An input array is constant; the correlation coefficent is not defined.\n",
      "  warnings.warn(PearsonRConstantInputWarning())\n"
     ]
    },
    {
     "name": "stdout",
     "output_type": "stream",
     "text": [
      "Epoch 11 end: 1.4184393882751465, TRAIN MSE is: 2233.320556640625\n",
      "Validation loss: 423050.9062500 - MSE score: 2024.1669922\n",
      "Validation pearson is: nan\n",
      "Validation r2_score is: -1.2551928201377907\n",
      "-------------------------\n"
     ]
    },
    {
     "name": "stderr",
     "output_type": "stream",
     "text": [
      "/home/mbosnjak/.conda/envs/pero/lib/python3.7/site-packages/scipy/stats/stats.py:3399: PearsonRConstantInputWarning: An input array is constant; the correlation coefficent is not defined.\n",
      "  warnings.warn(PearsonRConstantInputWarning())\n"
     ]
    },
    {
     "name": "stdout",
     "output_type": "stream",
     "text": [
      "Epoch 12 end: 1.5392041206359863, TRAIN MSE is: 2198.424072265625\n",
      "Validation loss: 413799.4062500 - MSE score: 1979.9016113\n",
      "Validation pearson is: nan\n",
      "Validation r2_score is: -1.2058750908689246\n",
      "-------------------------\n"
     ]
    },
    {
     "name": "stderr",
     "output_type": "stream",
     "text": [
      "/home/mbosnjak/.conda/envs/pero/lib/python3.7/site-packages/scipy/stats/stats.py:3399: PearsonRConstantInputWarning: An input array is constant; the correlation coefficent is not defined.\n",
      "  warnings.warn(PearsonRConstantInputWarning())\n"
     ]
    },
    {
     "name": "stdout",
     "output_type": "stream",
     "text": [
      "Epoch 13 end: 1.6232740879058838, TRAIN MSE is: 2144.6796875\n",
      "Validation loss: 404845.1875000 - MSE score: 1937.0583496\n",
      "Validation pearson is: nan\n",
      "Validation r2_score is: -1.158142033507323\n",
      "-------------------------\n"
     ]
    },
    {
     "name": "stderr",
     "output_type": "stream",
     "text": [
      "/home/mbosnjak/.conda/envs/pero/lib/python3.7/site-packages/scipy/stats/stats.py:3399: PearsonRConstantInputWarning: An input array is constant; the correlation coefficent is not defined.\n",
      "  warnings.warn(PearsonRConstantInputWarning())\n"
     ]
    },
    {
     "name": "stdout",
     "output_type": "stream",
     "text": [
      "Epoch 14 end: 1.7313048839569092, TRAIN MSE is: 2101.03857421875\n",
      "Validation loss: 396380.0937500 - MSE score: 1896.5554199\n",
      "Validation pearson is: nan\n",
      "Validation r2_score is: -1.1130164541289358\n",
      "-------------------------\n"
     ]
    },
    {
     "name": "stderr",
     "output_type": "stream",
     "text": [
      "/home/mbosnjak/.conda/envs/pero/lib/python3.7/site-packages/scipy/stats/stats.py:3399: PearsonRConstantInputWarning: An input array is constant; the correlation coefficent is not defined.\n",
      "  warnings.warn(PearsonRConstantInputWarning())\n"
     ]
    },
    {
     "name": "stdout",
     "output_type": "stream",
     "text": [
      "Epoch 15 end: 1.7310636043548584, TRAIN MSE is: 2060.1337890625\n",
      "Validation loss: 388127.2812500 - MSE score: 1857.0683594\n",
      "Validation pearson is: nan\n",
      "Validation r2_score is: -1.0690224482140724\n",
      "-------------------------\n"
     ]
    },
    {
     "name": "stderr",
     "output_type": "stream",
     "text": [
      "/home/mbosnjak/.conda/envs/pero/lib/python3.7/site-packages/scipy/stats/stats.py:3399: PearsonRConstantInputWarning: An input array is constant; the correlation coefficent is not defined.\n",
      "  warnings.warn(PearsonRConstantInputWarning())\n"
     ]
    },
    {
     "name": "stdout",
     "output_type": "stream",
     "text": [
      "Epoch 16 end: 1.7287063598632812, TRAIN MSE is: 2043.00048828125\n",
      "Validation loss: 380340.2187500 - MSE score: 1819.8096924\n",
      "Validation pearson is: nan\n",
      "Validation r2_score is: -1.027511246829203\n",
      "-------------------------\n"
     ]
    },
    {
     "name": "stderr",
     "output_type": "stream",
     "text": [
      "/home/mbosnjak/.conda/envs/pero/lib/python3.7/site-packages/scipy/stats/stats.py:3399: PearsonRConstantInputWarning: An input array is constant; the correlation coefficent is not defined.\n",
      "  warnings.warn(PearsonRConstantInputWarning())\n"
     ]
    },
    {
     "name": "stdout",
     "output_type": "stream",
     "text": [
      "Epoch 17 end: 1.706130027770996, TRAIN MSE is: 2002.3834228515625\n",
      "Validation loss: 372802.7500000 - MSE score: 1783.7451172\n",
      "Validation pearson is: nan\n",
      "Validation r2_score is: -0.9873305534279102\n",
      "-------------------------\n"
     ]
    },
    {
     "name": "stderr",
     "output_type": "stream",
     "text": [
      "/home/mbosnjak/.conda/envs/pero/lib/python3.7/site-packages/scipy/stats/stats.py:3399: PearsonRConstantInputWarning: An input array is constant; the correlation coefficent is not defined.\n",
      "  warnings.warn(PearsonRConstantInputWarning())\n"
     ]
    },
    {
     "name": "stdout",
     "output_type": "stream",
     "text": [
      "Epoch 18 end: 1.6764466762542725, TRAIN MSE is: 1959.354248046875\n",
      "Validation loss: 365696.4687500 - MSE score: 1749.7437744\n",
      "Validation pearson is: nan\n",
      "Validation r2_score is: -0.9494485527209124\n",
      "-------------------------\n"
     ]
    },
    {
     "name": "stderr",
     "output_type": "stream",
     "text": [
      "/home/mbosnjak/.conda/envs/pero/lib/python3.7/site-packages/scipy/stats/stats.py:3399: PearsonRConstantInputWarning: An input array is constant; the correlation coefficent is not defined.\n",
      "  warnings.warn(PearsonRConstantInputWarning())\n"
     ]
    },
    {
     "name": "stdout",
     "output_type": "stream",
     "text": [
      "Epoch 19 end: 1.5812792778015137, TRAIN MSE is: 1904.73974609375\n",
      "Validation loss: 358653.7187500 - MSE score: 1716.0463867\n",
      "Validation pearson is: nan\n",
      "Validation r2_score is: -0.911905183247151\n",
      "-------------------------\n"
     ]
    },
    {
     "name": "stderr",
     "output_type": "stream",
     "text": [
      "/home/mbosnjak/.conda/envs/pero/lib/python3.7/site-packages/scipy/stats/stats.py:3399: PearsonRConstantInputWarning: An input array is constant; the correlation coefficent is not defined.\n",
      "  warnings.warn(PearsonRConstantInputWarning())\n"
     ]
    },
    {
     "name": "stdout",
     "output_type": "stream",
     "text": [
      "Epoch 20 end: 1.6769776344299316, TRAIN MSE is: 1892.399169921875\n",
      "Validation loss: 351934.5000000 - MSE score: 1683.8970947\n",
      "Validation pearson is: nan\n",
      "Validation r2_score is: -0.8760864743489163\n",
      "-------------------------\n"
     ]
    },
    {
     "name": "stderr",
     "output_type": "stream",
     "text": [
      "/home/mbosnjak/.conda/envs/pero/lib/python3.7/site-packages/scipy/stats/stats.py:3399: PearsonRConstantInputWarning: An input array is constant; the correlation coefficent is not defined.\n",
      "  warnings.warn(PearsonRConstantInputWarning())\n"
     ]
    },
    {
     "name": "stdout",
     "output_type": "stream",
     "text": [
      "Epoch 21 end: 1.6908013820648193, TRAIN MSE is: 1868.2520751953125\n",
      "Validation loss: 345294.8125000 - MSE score: 1652.1282959\n",
      "Validation pearson is: nan\n",
      "Validation r2_score is: -0.8406917541016605\n",
      "-------------------------\n"
     ]
    },
    {
     "name": "stderr",
     "output_type": "stream",
     "text": [
      "/home/mbosnjak/.conda/envs/pero/lib/python3.7/site-packages/scipy/stats/stats.py:3399: PearsonRConstantInputWarning: An input array is constant; the correlation coefficent is not defined.\n",
      "  warnings.warn(PearsonRConstantInputWarning())\n"
     ]
    },
    {
     "name": "stdout",
     "output_type": "stream",
     "text": [
      "Epoch 22 end: 1.732842206954956, TRAIN MSE is: 1828.6041259765625\n",
      "Validation loss: 339066.9687500 - MSE score: 1622.3298340\n",
      "Validation pearson is: nan\n",
      "Validation r2_score is: -0.8074925720482387\n",
      "-------------------------\n"
     ]
    },
    {
     "name": "stderr",
     "output_type": "stream",
     "text": [
      "/home/mbosnjak/.conda/envs/pero/lib/python3.7/site-packages/scipy/stats/stats.py:3399: PearsonRConstantInputWarning: An input array is constant; the correlation coefficent is not defined.\n",
      "  warnings.warn(PearsonRConstantInputWarning())\n"
     ]
    },
    {
     "name": "stdout",
     "output_type": "stream",
     "text": [
      "Epoch 23 end: 1.6349692344665527, TRAIN MSE is: 1799.66015625\n",
      "Validation loss: 333100.4687500 - MSE score: 1593.7823486\n",
      "Validation pearson is: nan\n",
      "Validation r2_score is: -0.7756864401274697\n",
      "-------------------------\n"
     ]
    },
    {
     "name": "stderr",
     "output_type": "stream",
     "text": [
      "/home/mbosnjak/.conda/envs/pero/lib/python3.7/site-packages/scipy/stats/stats.py:3399: PearsonRConstantInputWarning: An input array is constant; the correlation coefficent is not defined.\n",
      "  warnings.warn(PearsonRConstantInputWarning())\n"
     ]
    },
    {
     "name": "stdout",
     "output_type": "stream",
     "text": [
      "Epoch 24 end: 1.4862287044525146, TRAIN MSE is: 1791.6593017578125\n",
      "Validation loss: 327291.7812500 - MSE score: 1565.9893799\n",
      "Validation pearson is: nan\n",
      "Validation r2_score is: -0.744721531446668\n",
      "-------------------------\n"
     ]
    },
    {
     "name": "stderr",
     "output_type": "stream",
     "text": [
      "/home/mbosnjak/.conda/envs/pero/lib/python3.7/site-packages/scipy/stats/stats.py:3399: PearsonRConstantInputWarning: An input array is constant; the correlation coefficent is not defined.\n",
      "  warnings.warn(PearsonRConstantInputWarning())\n"
     ]
    },
    {
     "name": "stdout",
     "output_type": "stream",
     "text": [
      "Epoch 25 end: 1.6683573722839355, TRAIN MSE is: 1741.7520751953125\n",
      "Validation loss: 321682.7187500 - MSE score: 1539.1517334\n",
      "Validation pearson is: nan\n",
      "Validation r2_score is: -0.7148209141456559\n",
      "-------------------------\n"
     ]
    },
    {
     "name": "stderr",
     "output_type": "stream",
     "text": [
      "/home/mbosnjak/.conda/envs/pero/lib/python3.7/site-packages/scipy/stats/stats.py:3399: PearsonRConstantInputWarning: An input array is constant; the correlation coefficent is not defined.\n",
      "  warnings.warn(PearsonRConstantInputWarning())\n"
     ]
    },
    {
     "name": "stdout",
     "output_type": "stream",
     "text": [
      "Epoch 26 end: 1.7087595462799072, TRAIN MSE is: 1741.852783203125\n",
      "Validation loss: 316390.9687500 - MSE score: 1513.8325195\n",
      "Validation pearson is: nan\n",
      "Validation r2_score is: -0.6866117348556895\n",
      "-------------------------\n"
     ]
    },
    {
     "name": "stderr",
     "output_type": "stream",
     "text": [
      "/home/mbosnjak/.conda/envs/pero/lib/python3.7/site-packages/scipy/stats/stats.py:3399: PearsonRConstantInputWarning: An input array is constant; the correlation coefficent is not defined.\n",
      "  warnings.warn(PearsonRConstantInputWarning())\n"
     ]
    },
    {
     "name": "stdout",
     "output_type": "stream",
     "text": [
      "Epoch 27 end: 1.7796471118927002, TRAIN MSE is: 1670.463623046875\n",
      "Validation loss: 311181.7812500 - MSE score: 1488.9082031\n",
      "Validation pearson is: nan\n",
      "Validation r2_score is: -0.658842844528003\n",
      "-------------------------\n"
     ]
    },
    {
     "name": "stderr",
     "output_type": "stream",
     "text": [
      "/home/mbosnjak/.conda/envs/pero/lib/python3.7/site-packages/scipy/stats/stats.py:3399: PearsonRConstantInputWarning: An input array is constant; the correlation coefficent is not defined.\n",
      "  warnings.warn(PearsonRConstantInputWarning())\n"
     ]
    },
    {
     "name": "stdout",
     "output_type": "stream",
     "text": [
      "Epoch 28 end: 1.6524198055267334, TRAIN MSE is: 1692.212890625\n",
      "Validation loss: 306080.4375000 - MSE score: 1464.4997559\n",
      "Validation pearson is: nan\n",
      "Validation r2_score is: -0.6316484745164019\n",
      "-------------------------\n"
     ]
    },
    {
     "name": "stderr",
     "output_type": "stream",
     "text": [
      "/home/mbosnjak/.conda/envs/pero/lib/python3.7/site-packages/scipy/stats/stats.py:3399: PearsonRConstantInputWarning: An input array is constant; the correlation coefficent is not defined.\n",
      "  warnings.warn(PearsonRConstantInputWarning())\n"
     ]
    },
    {
     "name": "stdout",
     "output_type": "stream",
     "text": [
      "Epoch 29 end: 1.5991618633270264, TRAIN MSE is: 1634.08642578125\n",
      "Validation loss: 301275.0312500 - MSE score: 1441.5072021\n",
      "Validation pearson is: nan\n",
      "Validation r2_score is: -0.6060319234298659\n",
      "-------------------------\n"
     ]
    },
    {
     "name": "stderr",
     "output_type": "stream",
     "text": [
      "/home/mbosnjak/.conda/envs/pero/lib/python3.7/site-packages/scipy/stats/stats.py:3399: PearsonRConstantInputWarning: An input array is constant; the correlation coefficent is not defined.\n",
      "  warnings.warn(PearsonRConstantInputWarning())\n"
     ]
    },
    {
     "name": "stdout",
     "output_type": "stream",
     "text": [
      "Epoch 30 end: 1.8318407535552979, TRAIN MSE is: 1631.757080078125\n",
      "Validation loss: 296689.2812500 - MSE score: 1419.5657959\n",
      "Validation pearson is: nan\n",
      "Validation r2_score is: -0.5815863373602927\n",
      "-------------------------\n"
     ]
    },
    {
     "name": "stderr",
     "output_type": "stream",
     "text": [
      "/home/mbosnjak/.conda/envs/pero/lib/python3.7/site-packages/scipy/stats/stats.py:3399: PearsonRConstantInputWarning: An input array is constant; the correlation coefficent is not defined.\n",
      "  warnings.warn(PearsonRConstantInputWarning())\n"
     ]
    },
    {
     "name": "stdout",
     "output_type": "stream",
     "text": [
      "Epoch 31 end: 1.6638643741607666, TRAIN MSE is: 1666.186767578125\n",
      "Validation loss: 292418.6250000 - MSE score: 1399.1322021\n",
      "Validation pearson is: nan\n",
      "Validation r2_score is: -0.5588202361225281\n",
      "-------------------------\n"
     ]
    },
    {
     "name": "stderr",
     "output_type": "stream",
     "text": [
      "/home/mbosnjak/.conda/envs/pero/lib/python3.7/site-packages/scipy/stats/stats.py:3399: PearsonRConstantInputWarning: An input array is constant; the correlation coefficent is not defined.\n",
      "  warnings.warn(PearsonRConstantInputWarning())\n"
     ]
    },
    {
     "name": "stdout",
     "output_type": "stream",
     "text": [
      "Epoch 32 end: 1.6155095100402832, TRAIN MSE is: 1583.362548828125\n",
      "Validation loss: 288233.4062500 - MSE score: 1379.1070557\n",
      "Validation pearson is: nan\n",
      "Validation r2_score is: -0.5365097566733414\n",
      "-------------------------\n"
     ]
    },
    {
     "name": "stderr",
     "output_type": "stream",
     "text": [
      "/home/mbosnjak/.conda/envs/pero/lib/python3.7/site-packages/scipy/stats/stats.py:3399: PearsonRConstantInputWarning: An input array is constant; the correlation coefficent is not defined.\n",
      "  warnings.warn(PearsonRConstantInputWarning())\n"
     ]
    },
    {
     "name": "stdout",
     "output_type": "stream",
     "text": [
      "Epoch 33 end: 1.4820127487182617, TRAIN MSE is: 1597.2122802734375\n",
      "Validation loss: 284187.4375000 - MSE score: 1359.7486572\n",
      "Validation pearson is: nan\n",
      "Validation r2_score is: -0.5149417210121872\n",
      "-------------------------\n"
     ]
    },
    {
     "name": "stderr",
     "output_type": "stream",
     "text": [
      "/home/mbosnjak/.conda/envs/pero/lib/python3.7/site-packages/scipy/stats/stats.py:3399: PearsonRConstantInputWarning: An input array is constant; the correlation coefficent is not defined.\n",
      "  warnings.warn(PearsonRConstantInputWarning())\n"
     ]
    },
    {
     "name": "stdout",
     "output_type": "stream",
     "text": [
      "Epoch 34 end: 1.594331979751587, TRAIN MSE is: 1568.100830078125\n",
      "Validation loss: 280253.8437500 - MSE score: 1340.9276123\n",
      "Validation pearson is: nan\n",
      "Validation r2_score is: -0.4939725875313181\n",
      "-------------------------\n"
     ]
    },
    {
     "name": "stderr",
     "output_type": "stream",
     "text": [
      "/home/mbosnjak/.conda/envs/pero/lib/python3.7/site-packages/scipy/stats/stats.py:3399: PearsonRConstantInputWarning: An input array is constant; the correlation coefficent is not defined.\n",
      "  warnings.warn(PearsonRConstantInputWarning())\n"
     ]
    },
    {
     "name": "stdout",
     "output_type": "stream",
     "text": [
      "Epoch 35 end: 1.7867538928985596, TRAIN MSE is: 1533.64697265625\n",
      "Validation loss: 276406.8125000 - MSE score: 1322.5206299\n",
      "Validation pearson is: nan\n",
      "Validation r2_score is: -0.47346489110825396\n",
      "-------------------------\n"
     ]
    },
    {
     "name": "stderr",
     "output_type": "stream",
     "text": [
      "/home/mbosnjak/.conda/envs/pero/lib/python3.7/site-packages/scipy/stats/stats.py:3399: PearsonRConstantInputWarning: An input array is constant; the correlation coefficent is not defined.\n",
      "  warnings.warn(PearsonRConstantInputWarning())\n"
     ]
    },
    {
     "name": "stdout",
     "output_type": "stream",
     "text": [
      "Epoch 36 end: 1.642951250076294, TRAIN MSE is: 1532.03662109375\n",
      "Validation loss: 272717.9375000 - MSE score: 1304.8704834\n",
      "Validation pearson is: nan\n",
      "Validation r2_score is: -0.4538001608921409\n",
      "-------------------------\n"
     ]
    },
    {
     "name": "stderr",
     "output_type": "stream",
     "text": [
      "/home/mbosnjak/.conda/envs/pero/lib/python3.7/site-packages/scipy/stats/stats.py:3399: PearsonRConstantInputWarning: An input array is constant; the correlation coefficent is not defined.\n",
      "  warnings.warn(PearsonRConstantInputWarning())\n"
     ]
    },
    {
     "name": "stdout",
     "output_type": "stream",
     "text": [
      "Epoch 37 end: 1.7132620811462402, TRAIN MSE is: 1515.953125\n",
      "Validation loss: 269285.2500000 - MSE score: 1288.4460449\n",
      "Validation pearson is: nan\n",
      "Validation r2_score is: -0.4355011836703888\n",
      "-------------------------\n"
     ]
    },
    {
     "name": "stderr",
     "output_type": "stream",
     "text": [
      "/home/mbosnjak/.conda/envs/pero/lib/python3.7/site-packages/scipy/stats/stats.py:3399: PearsonRConstantInputWarning: An input array is constant; the correlation coefficent is not defined.\n",
      "  warnings.warn(PearsonRConstantInputWarning())\n"
     ]
    },
    {
     "name": "stdout",
     "output_type": "stream",
     "text": [
      "Epoch 38 end: 1.685171365737915, TRAIN MSE is: 1471.880859375\n",
      "Validation loss: 265845.5937500 - MSE score: 1271.9882812\n",
      "Validation pearson is: nan\n",
      "Validation r2_score is: -0.4171651446555982\n",
      "-------------------------\n"
     ]
    },
    {
     "name": "stderr",
     "output_type": "stream",
     "text": [
      "/home/mbosnjak/.conda/envs/pero/lib/python3.7/site-packages/scipy/stats/stats.py:3399: PearsonRConstantInputWarning: An input array is constant; the correlation coefficent is not defined.\n",
      "  warnings.warn(PearsonRConstantInputWarning())\n"
     ]
    },
    {
     "name": "stdout",
     "output_type": "stream",
     "text": [
      "Epoch 39 end: 1.7126944065093994, TRAIN MSE is: 1506.1319580078125\n",
      "Validation loss: 262597.7187500 - MSE score: 1256.4483643\n",
      "Validation pearson is: nan\n",
      "Validation r2_score is: -0.3998515831306577\n",
      "-------------------------\n"
     ]
    },
    {
     "name": "stderr",
     "output_type": "stream",
     "text": [
      "/home/mbosnjak/.conda/envs/pero/lib/python3.7/site-packages/scipy/stats/stats.py:3399: PearsonRConstantInputWarning: An input array is constant; the correlation coefficent is not defined.\n",
      "  warnings.warn(PearsonRConstantInputWarning())\n"
     ]
    },
    {
     "name": "stdout",
     "output_type": "stream",
     "text": [
      "Epoch 40 end: 1.681473970413208, TRAIN MSE is: 1487.0103759765625\n",
      "Validation loss: 259415.0000000 - MSE score: 1241.2200928\n",
      "Validation pearson is: nan\n",
      "Validation r2_score is: -0.3828850976781346\n",
      "-------------------------\n"
     ]
    },
    {
     "name": "stderr",
     "output_type": "stream",
     "text": [
      "/home/mbosnjak/.conda/envs/pero/lib/python3.7/site-packages/scipy/stats/stats.py:3399: PearsonRConstantInputWarning: An input array is constant; the correlation coefficent is not defined.\n",
      "  warnings.warn(PearsonRConstantInputWarning())\n"
     ]
    },
    {
     "name": "stdout",
     "output_type": "stream",
     "text": [
      "Epoch 41 end: 1.8883106708526611, TRAIN MSE is: 1464.7427978515625\n",
      "Validation loss: 256329.5312500 - MSE score: 1226.4570312\n",
      "Validation pearson is: nan\n",
      "Validation r2_score is: -0.36643717607193205\n",
      "-------------------------\n"
     ]
    },
    {
     "name": "stderr",
     "output_type": "stream",
     "text": [
      "/home/mbosnjak/.conda/envs/pero/lib/python3.7/site-packages/scipy/stats/stats.py:3399: PearsonRConstantInputWarning: An input array is constant; the correlation coefficent is not defined.\n",
      "  warnings.warn(PearsonRConstantInputWarning())\n"
     ]
    },
    {
     "name": "stdout",
     "output_type": "stream",
     "text": [
      "Epoch 42 end: 1.732396125793457, TRAIN MSE is: 1372.4422607421875\n",
      "Validation loss: 253389.2656250 - MSE score: 1212.3887939\n",
      "Validation pearson is: nan\n",
      "Validation r2_score is: -0.35076325394014907\n",
      "-------------------------\n"
     ]
    },
    {
     "name": "stderr",
     "output_type": "stream",
     "text": [
      "/home/mbosnjak/.conda/envs/pero/lib/python3.7/site-packages/scipy/stats/stats.py:3399: PearsonRConstantInputWarning: An input array is constant; the correlation coefficent is not defined.\n",
      "  warnings.warn(PearsonRConstantInputWarning())\n"
     ]
    },
    {
     "name": "stdout",
     "output_type": "stream",
     "text": [
      "Epoch 43 end: 1.6630971431732178, TRAIN MSE is: 1483.9744873046875\n",
      "Validation loss: 250734.1562500 - MSE score: 1199.6849365\n",
      "Validation pearson is: nan\n",
      "Validation r2_score is: -0.3366094037657714\n",
      "-------------------------\n"
     ]
    },
    {
     "name": "stderr",
     "output_type": "stream",
     "text": [
      "/home/mbosnjak/.conda/envs/pero/lib/python3.7/site-packages/scipy/stats/stats.py:3399: PearsonRConstantInputWarning: An input array is constant; the correlation coefficent is not defined.\n",
      "  warnings.warn(PearsonRConstantInputWarning())\n"
     ]
    },
    {
     "name": "stdout",
     "output_type": "stream",
     "text": [
      "Epoch 44 end: 1.813218116760254, TRAIN MSE is: 1453.0162353515625\n",
      "Validation loss: 248056.9375000 - MSE score: 1186.8753662\n",
      "Validation pearson is: nan\n",
      "Validation r2_score is: -0.3223378513770576\n",
      "-------------------------\n"
     ]
    },
    {
     "name": "stderr",
     "output_type": "stream",
     "text": [
      "/home/mbosnjak/.conda/envs/pero/lib/python3.7/site-packages/scipy/stats/stats.py:3399: PearsonRConstantInputWarning: An input array is constant; the correlation coefficent is not defined.\n",
      "  warnings.warn(PearsonRConstantInputWarning())\n"
     ]
    },
    {
     "name": "stdout",
     "output_type": "stream",
     "text": [
      "Epoch 45 end: 1.638838291168213, TRAIN MSE is: 1434.56494140625\n",
      "Validation loss: 245593.4687500 - MSE score: 1175.0883789\n",
      "Validation pearson is: nan\n",
      "Validation r2_score is: -0.30920554141713974\n",
      "-------------------------\n"
     ]
    },
    {
     "name": "stderr",
     "output_type": "stream",
     "text": [
      "/home/mbosnjak/.conda/envs/pero/lib/python3.7/site-packages/scipy/stats/stats.py:3399: PearsonRConstantInputWarning: An input array is constant; the correlation coefficent is not defined.\n",
      "  warnings.warn(PearsonRConstantInputWarning())\n"
     ]
    },
    {
     "name": "stdout",
     "output_type": "stream",
     "text": [
      "Epoch 46 end: 1.599027395248413, TRAIN MSE is: 1389.59912109375\n",
      "Validation loss: 243227.3437500 - MSE score: 1163.7672119\n",
      "Validation pearson is: nan\n",
      "Validation r2_score is: -0.29659230683869464\n",
      "-------------------------\n"
     ]
    },
    {
     "name": "stderr",
     "output_type": "stream",
     "text": [
      "/home/mbosnjak/.conda/envs/pero/lib/python3.7/site-packages/scipy/stats/stats.py:3399: PearsonRConstantInputWarning: An input array is constant; the correlation coefficent is not defined.\n",
      "  warnings.warn(PearsonRConstantInputWarning())\n"
     ]
    },
    {
     "name": "stdout",
     "output_type": "stream",
     "text": [
      "Epoch 47 end: 1.7128162384033203, TRAIN MSE is: 1368.265380859375\n",
      "Validation loss: 240951.7656250 - MSE score: 1152.8791504\n",
      "Validation pearson is: nan\n",
      "Validation r2_score is: -0.2844617113381429\n",
      "-------------------------\n"
     ]
    },
    {
     "name": "stderr",
     "output_type": "stream",
     "text": [
      "/home/mbosnjak/.conda/envs/pero/lib/python3.7/site-packages/scipy/stats/stats.py:3399: PearsonRConstantInputWarning: An input array is constant; the correlation coefficent is not defined.\n",
      "  warnings.warn(PearsonRConstantInputWarning())\n"
     ]
    },
    {
     "name": "stdout",
     "output_type": "stream",
     "text": [
      "Epoch 48 end: 1.571152925491333, TRAIN MSE is: 1397.9696044921875\n",
      "Validation loss: 238651.9531250 - MSE score: 1141.8753662\n",
      "Validation pearson is: nan\n",
      "Validation r2_score is: -0.2722018469958758\n",
      "-------------------------\n"
     ]
    },
    {
     "name": "stderr",
     "output_type": "stream",
     "text": [
      "/home/mbosnjak/.conda/envs/pero/lib/python3.7/site-packages/scipy/stats/stats.py:3399: PearsonRConstantInputWarning: An input array is constant; the correlation coefficent is not defined.\n",
      "  warnings.warn(PearsonRConstantInputWarning())\n"
     ]
    },
    {
     "name": "stdout",
     "output_type": "stream",
     "text": [
      "Epoch 49 end: 1.6882359981536865, TRAIN MSE is: 1401.449462890625\n",
      "Validation loss: 236583.7500000 - MSE score: 1131.9796143\n",
      "Validation pearson is: nan\n",
      "Validation r2_score is: -0.26117674100685084\n",
      "-------------------------\n"
     ]
    },
    {
     "name": "stderr",
     "output_type": "stream",
     "text": [
      "/home/mbosnjak/.conda/envs/pero/lib/python3.7/site-packages/scipy/stats/stats.py:3399: PearsonRConstantInputWarning: An input array is constant; the correlation coefficent is not defined.\n",
      "  warnings.warn(PearsonRConstantInputWarning())\n"
     ]
    },
    {
     "name": "stdout",
     "output_type": "stream",
     "text": [
      "Epoch 50 end: 1.7474992275238037, TRAIN MSE is: 1369.3299560546875\n",
      "Validation loss: 234534.0000000 - MSE score: 1122.1722412\n",
      "Validation pearson is: nan\n",
      "Validation r2_score is: -0.25025002739960467\n",
      "-------------------------\n"
     ]
    },
    {
     "name": "stderr",
     "output_type": "stream",
     "text": [
      "/home/mbosnjak/.conda/envs/pero/lib/python3.7/site-packages/scipy/stats/stats.py:3399: PearsonRConstantInputWarning: An input array is constant; the correlation coefficent is not defined.\n",
      "  warnings.warn(PearsonRConstantInputWarning())\n"
     ]
    },
    {
     "name": "stdout",
     "output_type": "stream",
     "text": [
      "Epoch 51 end: 1.6387033462524414, TRAIN MSE is: 1325.15966796875\n",
      "Validation loss: 232497.2968750 - MSE score: 1112.4271240\n",
      "Validation pearson is: nan\n",
      "Validation r2_score is: -0.23939270410246372\n",
      "-------------------------\n"
     ]
    },
    {
     "name": "stderr",
     "output_type": "stream",
     "text": [
      "/home/mbosnjak/.conda/envs/pero/lib/python3.7/site-packages/scipy/stats/stats.py:3399: PearsonRConstantInputWarning: An input array is constant; the correlation coefficent is not defined.\n",
      "  warnings.warn(PearsonRConstantInputWarning())\n"
     ]
    },
    {
     "name": "stdout",
     "output_type": "stream",
     "text": [
      "Epoch 52 end: 1.6417336463928223, TRAIN MSE is: 1362.22412109375\n",
      "Validation loss: 230629.7656250 - MSE score: 1103.4918213\n",
      "Validation pearson is: nan\n",
      "Validation r2_score is: -0.22943731883102036\n",
      "-------------------------\n"
     ]
    },
    {
     "name": "stderr",
     "output_type": "stream",
     "text": [
      "/home/mbosnjak/.conda/envs/pero/lib/python3.7/site-packages/scipy/stats/stats.py:3399: PearsonRConstantInputWarning: An input array is constant; the correlation coefficent is not defined.\n",
      "  warnings.warn(PearsonRConstantInputWarning())\n"
     ]
    },
    {
     "name": "stdout",
     "output_type": "stream",
     "text": [
      "Epoch 53 end: 1.605675220489502, TRAIN MSE is: 1344.8172607421875\n",
      "Validation loss: 228776.8281250 - MSE score: 1094.6259766\n",
      "Validation pearson is: nan\n",
      "Validation r2_score is: -0.21955967881729754\n",
      "-------------------------\n"
     ]
    },
    {
     "name": "stderr",
     "output_type": "stream",
     "text": [
      "/home/mbosnjak/.conda/envs/pero/lib/python3.7/site-packages/scipy/stats/stats.py:3399: PearsonRConstantInputWarning: An input array is constant; the correlation coefficent is not defined.\n",
      "  warnings.warn(PearsonRConstantInputWarning())\n"
     ]
    },
    {
     "name": "stdout",
     "output_type": "stream",
     "text": [
      "Epoch 54 end: 1.6444129943847656, TRAIN MSE is: 1353.57568359375\n",
      "Validation loss: 227220.8906250 - MSE score: 1087.1812744\n",
      "Validation pearson is: nan\n",
      "Validation r2_score is: -0.21126531901961654\n",
      "-------------------------\n"
     ]
    },
    {
     "name": "stderr",
     "output_type": "stream",
     "text": [
      "/home/mbosnjak/.conda/envs/pero/lib/python3.7/site-packages/scipy/stats/stats.py:3399: PearsonRConstantInputWarning: An input array is constant; the correlation coefficent is not defined.\n",
      "  warnings.warn(PearsonRConstantInputWarning())\n"
     ]
    },
    {
     "name": "stdout",
     "output_type": "stream",
     "text": [
      "Epoch 55 end: 1.6266400814056396, TRAIN MSE is: 1347.15380859375\n",
      "Validation loss: 225610.0937500 - MSE score: 1079.4741211\n",
      "Validation pearson is: nan\n",
      "Validation r2_score is: -0.20267852241151707\n",
      "-------------------------\n"
     ]
    },
    {
     "name": "stderr",
     "output_type": "stream",
     "text": [
      "/home/mbosnjak/.conda/envs/pero/lib/python3.7/site-packages/scipy/stats/stats.py:3399: PearsonRConstantInputWarning: An input array is constant; the correlation coefficent is not defined.\n",
      "  warnings.warn(PearsonRConstantInputWarning())\n"
     ]
    },
    {
     "name": "stdout",
     "output_type": "stream",
     "text": [
      "Epoch 56 end: 1.5547199249267578, TRAIN MSE is: 1341.566162109375\n",
      "Validation loss: 224118.2031250 - MSE score: 1072.3358154\n",
      "Validation pearson is: nan\n",
      "Validation r2_score is: -0.19472557227007337\n",
      "-------------------------\n"
     ]
    },
    {
     "name": "stderr",
     "output_type": "stream",
     "text": [
      "/home/mbosnjak/.conda/envs/pero/lib/python3.7/site-packages/scipy/stats/stats.py:3399: PearsonRConstantInputWarning: An input array is constant; the correlation coefficent is not defined.\n",
      "  warnings.warn(PearsonRConstantInputWarning())\n"
     ]
    },
    {
     "name": "stdout",
     "output_type": "stream",
     "text": [
      "Epoch 57 end: 1.61700439453125, TRAIN MSE is: 1283.9705810546875\n",
      "Validation loss: 222553.4218750 - MSE score: 1064.8488770\n",
      "Validation pearson is: nan\n",
      "Validation r2_score is: -0.1863840496202429\n",
      "-------------------------\n"
     ]
    },
    {
     "name": "stderr",
     "output_type": "stream",
     "text": [
      "/home/mbosnjak/.conda/envs/pero/lib/python3.7/site-packages/scipy/stats/stats.py:3399: PearsonRConstantInputWarning: An input array is constant; the correlation coefficent is not defined.\n",
      "  warnings.warn(PearsonRConstantInputWarning())\n"
     ]
    },
    {
     "name": "stdout",
     "output_type": "stream",
     "text": [
      "Epoch 58 end: 1.6703836917877197, TRAIN MSE is: 1315.750244140625\n",
      "Validation loss: 221148.9843750 - MSE score: 1058.1291504\n",
      "Validation pearson is: nan\n",
      "Validation r2_score is: -0.17889732468021413\n",
      "-------------------------\n"
     ]
    },
    {
     "name": "stderr",
     "output_type": "stream",
     "text": [
      "/home/mbosnjak/.conda/envs/pero/lib/python3.7/site-packages/scipy/stats/stats.py:3399: PearsonRConstantInputWarning: An input array is constant; the correlation coefficent is not defined.\n",
      "  warnings.warn(PearsonRConstantInputWarning())\n"
     ]
    },
    {
     "name": "stdout",
     "output_type": "stream",
     "text": [
      "Epoch 59 end: 1.6807222366333008, TRAIN MSE is: 1311.135498046875\n",
      "Validation loss: 219949.4375000 - MSE score: 1052.3895264\n",
      "Validation pearson is: nan\n",
      "Validation r2_score is: -0.1725027400783823\n",
      "-------------------------\n"
     ]
    },
    {
     "name": "stderr",
     "output_type": "stream",
     "text": [
      "/home/mbosnjak/.conda/envs/pero/lib/python3.7/site-packages/scipy/stats/stats.py:3399: PearsonRConstantInputWarning: An input array is constant; the correlation coefficent is not defined.\n",
      "  warnings.warn(PearsonRConstantInputWarning())\n"
     ]
    },
    {
     "name": "stdout",
     "output_type": "stream",
     "text": [
      "Epoch 60 end: 1.7888782024383545, TRAIN MSE is: 1281.707763671875\n",
      "Validation loss: 218593.9375000 - MSE score: 1045.9039307\n",
      "Validation pearson is: nan\n",
      "Validation r2_score is: -0.16527684499971507\n",
      "-------------------------\n"
     ]
    },
    {
     "name": "stderr",
     "output_type": "stream",
     "text": [
      "/home/mbosnjak/.conda/envs/pero/lib/python3.7/site-packages/scipy/stats/stats.py:3399: PearsonRConstantInputWarning: An input array is constant; the correlation coefficent is not defined.\n",
      "  warnings.warn(PearsonRConstantInputWarning())\n"
     ]
    },
    {
     "name": "stdout",
     "output_type": "stream",
     "text": [
      "Epoch 61 end: 1.7953612804412842, TRAIN MSE is: 1338.7791748046875\n",
      "Validation loss: 217379.3593750 - MSE score: 1040.0926514\n",
      "Validation pearson is: nan\n",
      "Validation r2_score is: -0.15880226319662283\n",
      "-------------------------\n"
     ]
    },
    {
     "name": "stderr",
     "output_type": "stream",
     "text": [
      "/home/mbosnjak/.conda/envs/pero/lib/python3.7/site-packages/scipy/stats/stats.py:3399: PearsonRConstantInputWarning: An input array is constant; the correlation coefficent is not defined.\n",
      "  warnings.warn(PearsonRConstantInputWarning())\n"
     ]
    },
    {
     "name": "stdout",
     "output_type": "stream",
     "text": [
      "Epoch 62 end: 1.7201435565948486, TRAIN MSE is: 1305.414794921875\n",
      "Validation loss: 216130.9375000 - MSE score: 1034.1191406\n",
      "Validation pearson is: nan\n",
      "Validation r2_score is: -0.15214707707861685\n",
      "-------------------------\n"
     ]
    },
    {
     "name": "stderr",
     "output_type": "stream",
     "text": [
      "/home/mbosnjak/.conda/envs/pero/lib/python3.7/site-packages/scipy/stats/stats.py:3399: PearsonRConstantInputWarning: An input array is constant; the correlation coefficent is not defined.\n",
      "  warnings.warn(PearsonRConstantInputWarning())\n"
     ]
    },
    {
     "name": "stdout",
     "output_type": "stream",
     "text": [
      "Epoch 63 end: 1.8605647087097168, TRAIN MSE is: 1346.403564453125\n",
      "Validation loss: 215077.6718750 - MSE score: 1029.0797119\n",
      "Validation pearson is: nan\n",
      "Validation r2_score is: -0.14653248209896397\n",
      "-------------------------\n"
     ]
    },
    {
     "name": "stderr",
     "output_type": "stream",
     "text": [
      "/home/mbosnjak/.conda/envs/pero/lib/python3.7/site-packages/scipy/stats/stats.py:3399: PearsonRConstantInputWarning: An input array is constant; the correlation coefficent is not defined.\n",
      "  warnings.warn(PearsonRConstantInputWarning())\n"
     ]
    },
    {
     "name": "stdout",
     "output_type": "stream",
     "text": [
      "Epoch 64 end: 1.803558111190796, TRAIN MSE is: 1278.322509765625\n",
      "Validation loss: 214046.7812500 - MSE score: 1024.1473389\n",
      "Validation pearson is: nan\n",
      "Validation r2_score is: -0.14103707869749504\n",
      "-------------------------\n"
     ]
    },
    {
     "name": "stderr",
     "output_type": "stream",
     "text": [
      "/home/mbosnjak/.conda/envs/pero/lib/python3.7/site-packages/scipy/stats/stats.py:3399: PearsonRConstantInputWarning: An input array is constant; the correlation coefficent is not defined.\n",
      "  warnings.warn(PearsonRConstantInputWarning())\n"
     ]
    },
    {
     "name": "stdout",
     "output_type": "stream",
     "text": [
      "Epoch 65 end: 1.7279689311981201, TRAIN MSE is: 1241.327392578125\n",
      "Validation loss: 213033.4531250 - MSE score: 1019.2988281\n",
      "Validation pearson is: nan\n",
      "Validation r2_score is: -0.13563517487270027\n",
      "-------------------------\n"
     ]
    },
    {
     "name": "stderr",
     "output_type": "stream",
     "text": [
      "/home/mbosnjak/.conda/envs/pero/lib/python3.7/site-packages/scipy/stats/stats.py:3399: PearsonRConstantInputWarning: An input array is constant; the correlation coefficent is not defined.\n",
      "  warnings.warn(PearsonRConstantInputWarning())\n"
     ]
    },
    {
     "name": "stdout",
     "output_type": "stream",
     "text": [
      "Epoch 66 end: 1.7490301132202148, TRAIN MSE is: 1331.723876953125\n",
      "Validation loss: 212111.4687500 - MSE score: 1014.8873901\n",
      "Validation pearson is: nan\n",
      "Validation r2_score is: -0.13072025309569368\n",
      "-------------------------\n"
     ]
    },
    {
     "name": "stderr",
     "output_type": "stream",
     "text": [
      "/home/mbosnjak/.conda/envs/pero/lib/python3.7/site-packages/scipy/stats/stats.py:3399: PearsonRConstantInputWarning: An input array is constant; the correlation coefficent is not defined.\n",
      "  warnings.warn(PearsonRConstantInputWarning())\n"
     ]
    },
    {
     "name": "stdout",
     "output_type": "stream",
     "text": [
      "Epoch 67 end: 1.7478318214416504, TRAIN MSE is: 1271.640625\n",
      "Validation loss: 211128.1093750 - MSE score: 1010.1822510\n",
      "Validation pearson is: nan\n",
      "Validation r2_score is: -0.1254781935878908\n",
      "-------------------------\n"
     ]
    },
    {
     "name": "stderr",
     "output_type": "stream",
     "text": [
      "/home/mbosnjak/.conda/envs/pero/lib/python3.7/site-packages/scipy/stats/stats.py:3399: PearsonRConstantInputWarning: An input array is constant; the correlation coefficent is not defined.\n",
      "  warnings.warn(PearsonRConstantInputWarning())\n"
     ]
    },
    {
     "name": "stdout",
     "output_type": "stream",
     "text": [
      "Epoch 68 end: 1.7432982921600342, TRAIN MSE is: 1294.7628173828125\n",
      "Validation loss: 210307.1875000 - MSE score: 1006.2544556\n",
      "Validation pearson is: nan\n",
      "Validation r2_score is: -0.12110206711410254\n",
      "-------------------------\n"
     ]
    },
    {
     "name": "stderr",
     "output_type": "stream",
     "text": [
      "/home/mbosnjak/.conda/envs/pero/lib/python3.7/site-packages/scipy/stats/stats.py:3399: PearsonRConstantInputWarning: An input array is constant; the correlation coefficent is not defined.\n",
      "  warnings.warn(PearsonRConstantInputWarning())\n"
     ]
    },
    {
     "name": "stdout",
     "output_type": "stream",
     "text": [
      "Epoch 69 end: 1.698293685913086, TRAIN MSE is: 1271.5906982421875\n",
      "Validation loss: 209475.2968750 - MSE score: 1002.2742310\n",
      "Validation pearson is: nan\n",
      "Validation r2_score is: -0.11666746037903941\n",
      "-------------------------\n"
     ]
    },
    {
     "name": "stderr",
     "output_type": "stream",
     "text": [
      "/home/mbosnjak/.conda/envs/pero/lib/python3.7/site-packages/scipy/stats/stats.py:3399: PearsonRConstantInputWarning: An input array is constant; the correlation coefficent is not defined.\n",
      "  warnings.warn(PearsonRConstantInputWarning())\n"
     ]
    },
    {
     "name": "stdout",
     "output_type": "stream",
     "text": [
      "Epoch 70 end: 1.601090908050537, TRAIN MSE is: 1241.090087890625\n",
      "Validation loss: 208615.2968750 - MSE score: 998.1593018\n",
      "Validation pearson is: nan\n",
      "Validation r2_score is: -0.11208288591554072\n",
      "-------------------------\n"
     ]
    },
    {
     "name": "stderr",
     "output_type": "stream",
     "text": [
      "/home/mbosnjak/.conda/envs/pero/lib/python3.7/site-packages/scipy/stats/stats.py:3399: PearsonRConstantInputWarning: An input array is constant; the correlation coefficent is not defined.\n",
      "  warnings.warn(PearsonRConstantInputWarning())\n"
     ]
    },
    {
     "name": "stdout",
     "output_type": "stream",
     "text": [
      "Epoch 71 end: 1.6898036003112793, TRAIN MSE is: 1269.0174560546875\n",
      "Validation loss: 207773.7656250 - MSE score: 994.1327515\n",
      "Validation pearson is: nan\n",
      "Validation r2_score is: -0.10759688244757437\n",
      "-------------------------\n"
     ]
    },
    {
     "name": "stderr",
     "output_type": "stream",
     "text": [
      "/home/mbosnjak/.conda/envs/pero/lib/python3.7/site-packages/scipy/stats/stats.py:3399: PearsonRConstantInputWarning: An input array is constant; the correlation coefficent is not defined.\n",
      "  warnings.warn(PearsonRConstantInputWarning())\n"
     ]
    },
    {
     "name": "stdout",
     "output_type": "stream",
     "text": [
      "Epoch 72 end: 1.7082746028900146, TRAIN MSE is: 1297.8653564453125\n",
      "Validation loss: 207087.2656250 - MSE score: 990.8481445\n",
      "Validation pearson is: nan\n",
      "Validation r2_score is: -0.10393736382952201\n",
      "-------------------------\n"
     ]
    },
    {
     "name": "stderr",
     "output_type": "stream",
     "text": [
      "/home/mbosnjak/.conda/envs/pero/lib/python3.7/site-packages/scipy/stats/stats.py:3399: PearsonRConstantInputWarning: An input array is constant; the correlation coefficent is not defined.\n",
      "  warnings.warn(PearsonRConstantInputWarning())\n"
     ]
    },
    {
     "name": "stdout",
     "output_type": "stream",
     "text": [
      "Epoch 73 end: 1.7321972846984863, TRAIN MSE is: 1262.681396484375\n",
      "Validation loss: 206458.6562500 - MSE score: 987.8404541\n",
      "Validation pearson is: nan\n",
      "Validation r2_score is: -0.10058640278877973\n",
      "-------------------------\n"
     ]
    },
    {
     "name": "stderr",
     "output_type": "stream",
     "text": [
      "/home/mbosnjak/.conda/envs/pero/lib/python3.7/site-packages/scipy/stats/stats.py:3399: PearsonRConstantInputWarning: An input array is constant; the correlation coefficent is not defined.\n",
      "  warnings.warn(PearsonRConstantInputWarning())\n"
     ]
    },
    {
     "name": "stdout",
     "output_type": "stream",
     "text": [
      "Epoch 74 end: 1.6697008609771729, TRAIN MSE is: 1294.9921875\n",
      "Validation loss: 205827.0000000 - MSE score: 984.8181763\n",
      "Validation pearson is: nan\n",
      "Validation r2_score is: -0.09721917729488183\n",
      "-------------------------\n"
     ]
    },
    {
     "name": "stderr",
     "output_type": "stream",
     "text": [
      "/home/mbosnjak/.conda/envs/pero/lib/python3.7/site-packages/scipy/stats/stats.py:3399: PearsonRConstantInputWarning: An input array is constant; the correlation coefficent is not defined.\n",
      "  warnings.warn(PearsonRConstantInputWarning())\n"
     ]
    },
    {
     "name": "stdout",
     "output_type": "stream",
     "text": [
      "Epoch 75 end: 1.7427210807800293, TRAIN MSE is: 1306.819091796875\n",
      "Validation loss: 205268.4531250 - MSE score: 982.1458130\n",
      "Validation pearson is: nan\n",
      "Validation r2_score is: -0.09424170213917149\n",
      "-------------------------\n"
     ]
    },
    {
     "name": "stderr",
     "output_type": "stream",
     "text": [
      "/home/mbosnjak/.conda/envs/pero/lib/python3.7/site-packages/scipy/stats/stats.py:3399: PearsonRConstantInputWarning: An input array is constant; the correlation coefficent is not defined.\n",
      "  warnings.warn(PearsonRConstantInputWarning())\n"
     ]
    },
    {
     "name": "stdout",
     "output_type": "stream",
     "text": [
      "Epoch 76 end: 1.639936923980713, TRAIN MSE is: 1234.5\n",
      "Validation loss: 204727.0312500 - MSE score: 979.5551758\n",
      "Validation pearson is: nan\n",
      "Validation r2_score is: -0.09135548470958166\n",
      "-------------------------\n"
     ]
    },
    {
     "name": "stderr",
     "output_type": "stream",
     "text": [
      "/home/mbosnjak/.conda/envs/pero/lib/python3.7/site-packages/scipy/stats/stats.py:3399: PearsonRConstantInputWarning: An input array is constant; the correlation coefficent is not defined.\n",
      "  warnings.warn(PearsonRConstantInputWarning())\n"
     ]
    },
    {
     "name": "stdout",
     "output_type": "stream",
     "text": [
      "Epoch 77 end: 1.7517855167388916, TRAIN MSE is: 1218.3199462890625\n",
      "Validation loss: 204091.3906250 - MSE score: 976.5138550\n",
      "Validation pearson is: nan\n",
      "Validation r2_score is: -0.08796698537333913\n",
      "-------------------------\n"
     ]
    },
    {
     "name": "stderr",
     "output_type": "stream",
     "text": [
      "/home/mbosnjak/.conda/envs/pero/lib/python3.7/site-packages/scipy/stats/stats.py:3399: PearsonRConstantInputWarning: An input array is constant; the correlation coefficent is not defined.\n",
      "  warnings.warn(PearsonRConstantInputWarning())\n"
     ]
    },
    {
     "name": "stdout",
     "output_type": "stream",
     "text": [
      "Epoch 78 end: 1.628373146057129, TRAIN MSE is: 1239.8013916015625\n",
      "Validation loss: 203514.6093750 - MSE score: 973.7540894\n",
      "Validation pearson is: nan\n",
      "Validation r2_score is: -0.08489226529705762\n",
      "-------------------------\n"
     ]
    },
    {
     "name": "stderr",
     "output_type": "stream",
     "text": [
      "/home/mbosnjak/.conda/envs/pero/lib/python3.7/site-packages/scipy/stats/stats.py:3399: PearsonRConstantInputWarning: An input array is constant; the correlation coefficent is not defined.\n",
      "  warnings.warn(PearsonRConstantInputWarning())\n"
     ]
    },
    {
     "name": "stdout",
     "output_type": "stream",
     "text": [
      "Epoch 79 end: 1.7671246528625488, TRAIN MSE is: 1223.33740234375\n",
      "Validation loss: 203007.3906250 - MSE score: 971.3272095\n",
      "Validation pearson is: nan\n",
      "Validation r2_score is: -0.08218839846949266\n",
      "-------------------------\n"
     ]
    },
    {
     "name": "stderr",
     "output_type": "stream",
     "text": [
      "/home/mbosnjak/.conda/envs/pero/lib/python3.7/site-packages/scipy/stats/stats.py:3399: PearsonRConstantInputWarning: An input array is constant; the correlation coefficent is not defined.\n",
      "  warnings.warn(PearsonRConstantInputWarning())\n"
     ]
    },
    {
     "name": "stdout",
     "output_type": "stream",
     "text": [
      "Epoch 80 end: 1.8697373867034912, TRAIN MSE is: 1285.8157958984375\n",
      "Validation loss: 202521.8593750 - MSE score: 969.0040894\n",
      "Validation pearson is: nan\n",
      "Validation r2_score is: -0.07960013423770329\n",
      "-------------------------\n"
     ]
    },
    {
     "name": "stderr",
     "output_type": "stream",
     "text": [
      "/home/mbosnjak/.conda/envs/pero/lib/python3.7/site-packages/scipy/stats/stats.py:3399: PearsonRConstantInputWarning: An input array is constant; the correlation coefficent is not defined.\n",
      "  warnings.warn(PearsonRConstantInputWarning())\n"
     ]
    },
    {
     "name": "stdout",
     "output_type": "stream",
     "text": [
      "Epoch 81 end: 1.8238565921783447, TRAIN MSE is: 1262.5645751953125\n",
      "Validation loss: 201988.4375000 - MSE score: 966.4518433\n",
      "Validation pearson is: nan\n",
      "Validation r2_score is: -0.07675658723920553\n",
      "-------------------------\n"
     ]
    },
    {
     "name": "stderr",
     "output_type": "stream",
     "text": [
      "/home/mbosnjak/.conda/envs/pero/lib/python3.7/site-packages/scipy/stats/stats.py:3399: PearsonRConstantInputWarning: An input array is constant; the correlation coefficent is not defined.\n",
      "  warnings.warn(PearsonRConstantInputWarning())\n"
     ]
    },
    {
     "name": "stdout",
     "output_type": "stream",
     "text": [
      "Epoch 82 end: 1.6360478401184082, TRAIN MSE is: 1249.435546875\n",
      "Validation loss: 201521.5937500 - MSE score: 964.2181396\n",
      "Validation pearson is: nan\n",
      "Validation r2_score is: -0.07426793628026207\n",
      "-------------------------\n"
     ]
    },
    {
     "name": "stderr",
     "output_type": "stream",
     "text": [
      "/home/mbosnjak/.conda/envs/pero/lib/python3.7/site-packages/scipy/stats/stats.py:3399: PearsonRConstantInputWarning: An input array is constant; the correlation coefficent is not defined.\n",
      "  warnings.warn(PearsonRConstantInputWarning())\n"
     ]
    },
    {
     "name": "stdout",
     "output_type": "stream",
     "text": [
      "Epoch 83 end: 1.5057194232940674, TRAIN MSE is: 1231.1895751953125\n",
      "Validation loss: 201025.6875000 - MSE score: 961.8453979\n",
      "Validation pearson is: nan\n",
      "Validation r2_score is: -0.07162437210267969\n",
      "-------------------------\n"
     ]
    },
    {
     "name": "stderr",
     "output_type": "stream",
     "text": [
      "/home/mbosnjak/.conda/envs/pero/lib/python3.7/site-packages/scipy/stats/stats.py:3399: PearsonRConstantInputWarning: An input array is constant; the correlation coefficent is not defined.\n",
      "  warnings.warn(PearsonRConstantInputWarning())\n"
     ]
    },
    {
     "name": "stdout",
     "output_type": "stream",
     "text": [
      "Epoch 84 end: 1.460157871246338, TRAIN MSE is: 1234.0482177734375\n",
      "Validation loss: 200638.3906250 - MSE score: 959.9923706\n",
      "Validation pearson is: nan\n",
      "Validation r2_score is: -0.06955974984088509\n",
      "-------------------------\n"
     ]
    },
    {
     "name": "stderr",
     "output_type": "stream",
     "text": [
      "/home/mbosnjak/.conda/envs/pero/lib/python3.7/site-packages/scipy/stats/stats.py:3399: PearsonRConstantInputWarning: An input array is constant; the correlation coefficent is not defined.\n",
      "  warnings.warn(PearsonRConstantInputWarning())\n"
     ]
    },
    {
     "name": "stdout",
     "output_type": "stream",
     "text": [
      "Epoch 85 end: 1.4782261848449707, TRAIN MSE is: 1273.3665771484375\n",
      "Validation loss: 200279.2812500 - MSE score: 958.2741699\n",
      "Validation pearson is: nan\n",
      "Validation r2_score is: -0.06764549718770252\n",
      "-------------------------\n"
     ]
    },
    {
     "name": "stderr",
     "output_type": "stream",
     "text": [
      "/home/mbosnjak/.conda/envs/pero/lib/python3.7/site-packages/scipy/stats/stats.py:3399: PearsonRConstantInputWarning: An input array is constant; the correlation coefficent is not defined.\n",
      "  warnings.warn(PearsonRConstantInputWarning())\n"
     ]
    },
    {
     "name": "stdout",
     "output_type": "stream",
     "text": [
      "Epoch 86 end: 1.4840941429138184, TRAIN MSE is: 1293.10791015625\n",
      "Validation loss: 200001.4687500 - MSE score: 956.9448242\n",
      "Validation pearson is: nan\n",
      "Validation r2_score is: -0.06616449036313976\n",
      "-------------------------\n"
     ]
    },
    {
     "name": "stderr",
     "output_type": "stream",
     "text": [
      "/home/mbosnjak/.conda/envs/pero/lib/python3.7/site-packages/scipy/stats/stats.py:3399: PearsonRConstantInputWarning: An input array is constant; the correlation coefficent is not defined.\n",
      "  warnings.warn(PearsonRConstantInputWarning())\n"
     ]
    },
    {
     "name": "stdout",
     "output_type": "stream",
     "text": [
      "Epoch 87 end: 1.637695550918579, TRAIN MSE is: 1250.182861328125\n",
      "Validation loss: 199645.8906250 - MSE score: 955.2434082\n",
      "Validation pearson is: nan\n",
      "Validation r2_score is: -0.06426894077851641\n",
      "-------------------------\n"
     ]
    },
    {
     "name": "stderr",
     "output_type": "stream",
     "text": [
      "/home/mbosnjak/.conda/envs/pero/lib/python3.7/site-packages/scipy/stats/stats.py:3399: PearsonRConstantInputWarning: An input array is constant; the correlation coefficent is not defined.\n",
      "  warnings.warn(PearsonRConstantInputWarning())\n"
     ]
    },
    {
     "name": "stdout",
     "output_type": "stream",
     "text": [
      "Epoch 88 end: 1.6587474346160889, TRAIN MSE is: 1252.4376220703125\n",
      "Validation loss: 199354.7187500 - MSE score: 953.8503418\n",
      "Validation pearson is: nan\n",
      "Validation r2_score is: -0.06271681029667642\n",
      "-------------------------\n"
     ]
    },
    {
     "name": "stderr",
     "output_type": "stream",
     "text": [
      "/home/mbosnjak/.conda/envs/pero/lib/python3.7/site-packages/scipy/stats/stats.py:3399: PearsonRConstantInputWarning: An input array is constant; the correlation coefficent is not defined.\n",
      "  warnings.warn(PearsonRConstantInputWarning())\n"
     ]
    },
    {
     "name": "stdout",
     "output_type": "stream",
     "text": [
      "Epoch 89 end: 1.6839301586151123, TRAIN MSE is: 1253.122314453125\n",
      "Validation loss: 198972.3750000 - MSE score: 952.0209351\n",
      "Validation pearson is: nan\n",
      "Validation r2_score is: -0.060678674848022585\n",
      "-------------------------\n"
     ]
    },
    {
     "name": "stderr",
     "output_type": "stream",
     "text": [
      "/home/mbosnjak/.conda/envs/pero/lib/python3.7/site-packages/scipy/stats/stats.py:3399: PearsonRConstantInputWarning: An input array is constant; the correlation coefficent is not defined.\n",
      "  warnings.warn(PearsonRConstantInputWarning())\n"
     ]
    },
    {
     "name": "stdout",
     "output_type": "stream",
     "text": [
      "Epoch 90 end: 1.7738535404205322, TRAIN MSE is: 1245.6759033203125\n",
      "Validation loss: 198736.3437500 - MSE score: 950.8916016\n",
      "Validation pearson is: nan\n",
      "Validation r2_score is: -0.05942037021993918\n",
      "-------------------------\n"
     ]
    },
    {
     "name": "stderr",
     "output_type": "stream",
     "text": [
      "/home/mbosnjak/.conda/envs/pero/lib/python3.7/site-packages/scipy/stats/stats.py:3399: PearsonRConstantInputWarning: An input array is constant; the correlation coefficent is not defined.\n",
      "  warnings.warn(PearsonRConstantInputWarning())\n"
     ]
    },
    {
     "name": "stdout",
     "output_type": "stream",
     "text": [
      "Epoch 91 end: 1.710411787033081, TRAIN MSE is: 1243.5447998046875\n",
      "Validation loss: 198397.4531250 - MSE score: 949.2702026\n",
      "Validation pearson is: nan\n",
      "Validation r2_score is: -0.057613872004325106\n",
      "-------------------------\n"
     ]
    },
    {
     "name": "stderr",
     "output_type": "stream",
     "text": [
      "/home/mbosnjak/.conda/envs/pero/lib/python3.7/site-packages/scipy/stats/stats.py:3399: PearsonRConstantInputWarning: An input array is constant; the correlation coefficent is not defined.\n",
      "  warnings.warn(PearsonRConstantInputWarning())\n"
     ]
    },
    {
     "name": "stdout",
     "output_type": "stream",
     "text": [
      "Epoch 92 end: 1.8094482421875, TRAIN MSE is: 1251.5791015625\n",
      "Validation loss: 198079.8906250 - MSE score: 947.7506714\n",
      "Validation pearson is: nan\n",
      "Validation r2_score is: -0.05592097569487775\n",
      "-------------------------\n"
     ]
    },
    {
     "name": "stderr",
     "output_type": "stream",
     "text": [
      "/home/mbosnjak/.conda/envs/pero/lib/python3.7/site-packages/scipy/stats/stats.py:3399: PearsonRConstantInputWarning: An input array is constant; the correlation coefficent is not defined.\n",
      "  warnings.warn(PearsonRConstantInputWarning())\n"
     ]
    },
    {
     "name": "stdout",
     "output_type": "stream",
     "text": [
      "Epoch 93 end: 1.665879249572754, TRAIN MSE is: 1221.4075927734375\n",
      "Validation loss: 197802.5625000 - MSE score: 946.4238281\n",
      "Validation pearson is: nan\n",
      "Validation r2_score is: -0.05444268083740034\n",
      "-------------------------\n"
     ]
    },
    {
     "name": "stderr",
     "output_type": "stream",
     "text": [
      "/home/mbosnjak/.conda/envs/pero/lib/python3.7/site-packages/scipy/stats/stats.py:3399: PearsonRConstantInputWarning: An input array is constant; the correlation coefficent is not defined.\n",
      "  warnings.warn(PearsonRConstantInputWarning())\n"
     ]
    },
    {
     "name": "stdout",
     "output_type": "stream",
     "text": [
      "Epoch 94 end: 1.6515734195709229, TRAIN MSE is: 1247.5623779296875\n",
      "Validation loss: 197535.5937500 - MSE score: 945.1463623\n",
      "Validation pearson is: nan\n",
      "Validation r2_score is: -0.05301939345505846\n",
      "-------------------------\n"
     ]
    },
    {
     "name": "stderr",
     "output_type": "stream",
     "text": [
      "/home/mbosnjak/.conda/envs/pero/lib/python3.7/site-packages/scipy/stats/stats.py:3399: PearsonRConstantInputWarning: An input array is constant; the correlation coefficent is not defined.\n",
      "  warnings.warn(PearsonRConstantInputWarning())\n"
     ]
    },
    {
     "name": "stdout",
     "output_type": "stream",
     "text": [
      "Epoch 95 end: 1.6705529689788818, TRAIN MSE is: 1210.1575927734375\n",
      "Validation loss: 197316.8593750 - MSE score: 944.0997314\n",
      "Validation pearson is: nan\n",
      "Validation r2_score is: -0.05185342480068211\n",
      "-------------------------\n"
     ]
    },
    {
     "name": "stderr",
     "output_type": "stream",
     "text": [
      "/home/mbosnjak/.conda/envs/pero/lib/python3.7/site-packages/scipy/stats/stats.py:3399: PearsonRConstantInputWarning: An input array is constant; the correlation coefficent is not defined.\n",
      "  warnings.warn(PearsonRConstantInputWarning())\n"
     ]
    },
    {
     "name": "stdout",
     "output_type": "stream",
     "text": [
      "Epoch 96 end: 1.7039954662322998, TRAIN MSE is: 1148.966552734375\n",
      "Validation loss: 197096.0000000 - MSE score: 943.0429077\n",
      "Validation pearson is: nan\n",
      "Validation r2_score is: -0.050675993227617955\n",
      "-------------------------\n"
     ]
    },
    {
     "name": "stderr",
     "output_type": "stream",
     "text": [
      "/home/mbosnjak/.conda/envs/pero/lib/python3.7/site-packages/scipy/stats/stats.py:3399: PearsonRConstantInputWarning: An input array is constant; the correlation coefficent is not defined.\n",
      "  warnings.warn(PearsonRConstantInputWarning())\n"
     ]
    },
    {
     "name": "stdout",
     "output_type": "stream",
     "text": [
      "Epoch 97 end: 1.7541701793670654, TRAIN MSE is: 1235.580322265625\n",
      "Validation loss: 196893.7812500 - MSE score: 942.0755005\n",
      "Validation pearson is: nan\n",
      "Validation r2_score is: -0.04959807092931756\n",
      "-------------------------\n"
     ]
    },
    {
     "name": "stderr",
     "output_type": "stream",
     "text": [
      "/home/mbosnjak/.conda/envs/pero/lib/python3.7/site-packages/scipy/stats/stats.py:3399: PearsonRConstantInputWarning: An input array is constant; the correlation coefficent is not defined.\n",
      "  warnings.warn(PearsonRConstantInputWarning())\n"
     ]
    },
    {
     "name": "stdout",
     "output_type": "stream",
     "text": [
      "Epoch 98 end: 1.5104138851165771, TRAIN MSE is: 1221.8489990234375\n",
      "Validation loss: 196722.9375000 - MSE score: 941.2580566\n",
      "Validation pearson is: nan\n",
      "Validation r2_score is: -0.048687363944464934\n",
      "-------------------------\n"
     ]
    },
    {
     "name": "stderr",
     "output_type": "stream",
     "text": [
      "/home/mbosnjak/.conda/envs/pero/lib/python3.7/site-packages/scipy/stats/stats.py:3399: PearsonRConstantInputWarning: An input array is constant; the correlation coefficent is not defined.\n",
      "  warnings.warn(PearsonRConstantInputWarning())\n"
     ]
    },
    {
     "name": "stdout",
     "output_type": "stream",
     "text": [
      "Epoch 99 end: 1.8129222393035889, TRAIN MSE is: 1188.75048828125\n",
      "Validation loss: 196561.6093750 - MSE score: 940.4860840\n",
      "Validation pearson is: nan\n",
      "Validation r2_score is: -0.04782727899865025\n",
      "-------------------------\n"
     ]
    },
    {
     "name": "stderr",
     "output_type": "stream",
     "text": [
      "/home/mbosnjak/.conda/envs/pero/lib/python3.7/site-packages/scipy/stats/stats.py:3399: PearsonRConstantInputWarning: An input array is constant; the correlation coefficent is not defined.\n",
      "  warnings.warn(PearsonRConstantInputWarning())\n"
     ]
    },
    {
     "name": "stdout",
     "output_type": "stream",
     "text": [
      "Epoch 100 end: 1.6388065814971924, TRAIN MSE is: 1209.70263671875\n",
      "Validation loss: 196321.3125000 - MSE score: 939.3364258\n",
      "Validation pearson is: nan\n",
      "Validation r2_score is: -0.04654635354638059\n",
      "-------------------------\n"
     ]
    },
    {
     "name": "stderr",
     "output_type": "stream",
     "text": [
      "/home/mbosnjak/.conda/envs/pero/lib/python3.7/site-packages/scipy/stats/stats.py:3399: PearsonRConstantInputWarning: An input array is constant; the correlation coefficent is not defined.\n",
      "  warnings.warn(PearsonRConstantInputWarning())\n"
     ]
    },
    {
     "name": "stdout",
     "output_type": "stream",
     "text": [
      "Epoch 101 end: 1.6603527069091797, TRAIN MSE is: 1242.140625\n",
      "Validation loss: 196162.7031250 - MSE score: 938.5775757\n",
      "Validation pearson is: nan\n",
      "Validation r2_score is: -0.045700930907760506\n",
      "-------------------------\n"
     ]
    },
    {
     "name": "stderr",
     "output_type": "stream",
     "text": [
      "/home/mbosnjak/.conda/envs/pero/lib/python3.7/site-packages/scipy/stats/stats.py:3399: PearsonRConstantInputWarning: An input array is constant; the correlation coefficent is not defined.\n",
      "  warnings.warn(PearsonRConstantInputWarning())\n"
     ]
    },
    {
     "name": "stdout",
     "output_type": "stream",
     "text": [
      "Epoch 102 end: 1.6619975566864014, TRAIN MSE is: 1214.338134765625\n",
      "Validation loss: 196014.1250000 - MSE score: 937.8666382\n",
      "Validation pearson is: nan\n",
      "Validation r2_score is: -0.04490885648468401\n",
      "-------------------------\n"
     ]
    },
    {
     "name": "stderr",
     "output_type": "stream",
     "text": [
      "/home/mbosnjak/.conda/envs/pero/lib/python3.7/site-packages/scipy/stats/stats.py:3399: PearsonRConstantInputWarning: An input array is constant; the correlation coefficent is not defined.\n",
      "  warnings.warn(PearsonRConstantInputWarning())\n"
     ]
    },
    {
     "name": "stdout",
     "output_type": "stream",
     "text": [
      "Epoch 103 end: 1.674384355545044, TRAIN MSE is: 1249.85986328125\n",
      "Validation loss: 195832.2500000 - MSE score: 936.9965820\n",
      "Validation pearson is: nan\n",
      "Validation r2_score is: -0.04393930219418718\n",
      "-------------------------\n"
     ]
    },
    {
     "name": "stderr",
     "output_type": "stream",
     "text": [
      "/home/mbosnjak/.conda/envs/pero/lib/python3.7/site-packages/scipy/stats/stats.py:3399: PearsonRConstantInputWarning: An input array is constant; the correlation coefficent is not defined.\n",
      "  warnings.warn(PearsonRConstantInputWarning())\n"
     ]
    },
    {
     "name": "stdout",
     "output_type": "stream",
     "text": [
      "Epoch 104 end: 1.663405418395996, TRAIN MSE is: 1240.068603515625\n",
      "Validation loss: 195676.1875000 - MSE score: 936.2496948\n",
      "Validation pearson is: nan\n",
      "Validation r2_score is: -0.04310733394240995\n",
      "-------------------------\n"
     ]
    },
    {
     "name": "stderr",
     "output_type": "stream",
     "text": [
      "/home/mbosnjak/.conda/envs/pero/lib/python3.7/site-packages/scipy/stats/stats.py:3399: PearsonRConstantInputWarning: An input array is constant; the correlation coefficent is not defined.\n",
      "  warnings.warn(PearsonRConstantInputWarning())\n"
     ]
    },
    {
     "name": "stdout",
     "output_type": "stream",
     "text": [
      "Epoch 105 end: 1.7430200576782227, TRAIN MSE is: 1199.4844970703125\n",
      "Validation loss: 195525.5312500 - MSE score: 935.5288696\n",
      "Validation pearson is: nan\n",
      "Validation r2_score is: -0.042304271959731965\n",
      "-------------------------\n"
     ]
    },
    {
     "name": "stderr",
     "output_type": "stream",
     "text": [
      "/home/mbosnjak/.conda/envs/pero/lib/python3.7/site-packages/scipy/stats/stats.py:3399: PearsonRConstantInputWarning: An input array is constant; the correlation coefficent is not defined.\n",
      "  warnings.warn(PearsonRConstantInputWarning())\n"
     ]
    },
    {
     "name": "stdout",
     "output_type": "stream",
     "text": [
      "Epoch 106 end: 1.4968740940093994, TRAIN MSE is: 1256.8084716796875\n",
      "Validation loss: 195415.4375000 - MSE score: 935.0020752\n",
      "Validation pearson is: nan\n",
      "Validation r2_score is: -0.04171737708240353\n",
      "-------------------------\n"
     ]
    },
    {
     "name": "stderr",
     "output_type": "stream",
     "text": [
      "/home/mbosnjak/.conda/envs/pero/lib/python3.7/site-packages/scipy/stats/stats.py:3399: PearsonRConstantInputWarning: An input array is constant; the correlation coefficent is not defined.\n",
      "  warnings.warn(PearsonRConstantInputWarning())\n"
     ]
    },
    {
     "name": "stdout",
     "output_type": "stream",
     "text": [
      "Epoch 107 end: 1.704693078994751, TRAIN MSE is: 1203.7938232421875\n",
      "Validation loss: 195237.8593750 - MSE score: 934.1525269\n",
      "Validation pearson is: nan\n",
      "Validation r2_score is: -0.040770800254515294\n",
      "-------------------------\n"
     ]
    },
    {
     "name": "stderr",
     "output_type": "stream",
     "text": [
      "/home/mbosnjak/.conda/envs/pero/lib/python3.7/site-packages/scipy/stats/stats.py:3399: PearsonRConstantInputWarning: An input array is constant; the correlation coefficent is not defined.\n",
      "  warnings.warn(PearsonRConstantInputWarning())\n"
     ]
    },
    {
     "name": "stdout",
     "output_type": "stream",
     "text": [
      "Epoch 108 end: 1.6425840854644775, TRAIN MSE is: 1166.8992919921875\n",
      "Validation loss: 195053.6562500 - MSE score: 933.2711792\n",
      "Validation pearson is: nan\n",
      "Validation r2_score is: -0.039788801324545986\n",
      "-------------------------\n"
     ]
    },
    {
     "name": "stderr",
     "output_type": "stream",
     "text": [
      "/home/mbosnjak/.conda/envs/pero/lib/python3.7/site-packages/scipy/stats/stats.py:3399: PearsonRConstantInputWarning: An input array is constant; the correlation coefficent is not defined.\n",
      "  warnings.warn(PearsonRConstantInputWarning())\n"
     ]
    },
    {
     "name": "stdout",
     "output_type": "stream",
     "text": [
      "Epoch 109 end: 1.7006821632385254, TRAIN MSE is: 1184.9251708984375\n",
      "Validation loss: 194836.7656250 - MSE score: 932.2333374\n",
      "Validation pearson is: nan\n",
      "Validation r2_score is: -0.03863259492271642\n",
      "-------------------------\n"
     ]
    },
    {
     "name": "stderr",
     "output_type": "stream",
     "text": [
      "/home/mbosnjak/.conda/envs/pero/lib/python3.7/site-packages/scipy/stats/stats.py:3399: PearsonRConstantInputWarning: An input array is constant; the correlation coefficent is not defined.\n",
      "  warnings.warn(PearsonRConstantInputWarning())\n"
     ]
    },
    {
     "name": "stdout",
     "output_type": "stream",
     "text": [
      "Epoch 110 end: 1.676783561706543, TRAIN MSE is: 1201.3328857421875\n",
      "Validation loss: 194707.2500000 - MSE score: 931.6136475\n",
      "Validation pearson is: nan\n",
      "Validation r2_score is: -0.037942168881940574\n",
      "-------------------------\n"
     ]
    },
    {
     "name": "stderr",
     "output_type": "stream",
     "text": [
      "/home/mbosnjak/.conda/envs/pero/lib/python3.7/site-packages/scipy/stats/stats.py:3399: PearsonRConstantInputWarning: An input array is constant; the correlation coefficent is not defined.\n",
      "  warnings.warn(PearsonRConstantInputWarning())\n"
     ]
    },
    {
     "name": "stdout",
     "output_type": "stream",
     "text": [
      "Epoch 111 end: 1.7688915729522705, TRAIN MSE is: 1179.935302734375\n",
      "Validation loss: 194581.9531250 - MSE score: 931.0141602\n",
      "Validation pearson is: nan\n",
      "Validation r2_score is: -0.037274230221494786\n",
      "-------------------------\n"
     ]
    },
    {
     "name": "stderr",
     "output_type": "stream",
     "text": [
      "/home/mbosnjak/.conda/envs/pero/lib/python3.7/site-packages/scipy/stats/stats.py:3399: PearsonRConstantInputWarning: An input array is constant; the correlation coefficent is not defined.\n",
      "  warnings.warn(PearsonRConstantInputWarning())\n"
     ]
    },
    {
     "name": "stdout",
     "output_type": "stream",
     "text": [
      "Epoch 112 end: 1.7237920761108398, TRAIN MSE is: 1193.4708251953125\n",
      "Validation loss: 194453.5312500 - MSE score: 930.3996582\n",
      "Validation pearson is: nan\n",
      "Validation r2_score is: -0.036589623392519366\n",
      "-------------------------\n"
     ]
    },
    {
     "name": "stderr",
     "output_type": "stream",
     "text": [
      "/home/mbosnjak/.conda/envs/pero/lib/python3.7/site-packages/scipy/stats/stats.py:3399: PearsonRConstantInputWarning: An input array is constant; the correlation coefficent is not defined.\n",
      "  warnings.warn(PearsonRConstantInputWarning())\n"
     ]
    },
    {
     "name": "stdout",
     "output_type": "stream",
     "text": [
      "Epoch 113 end: 1.6354916095733643, TRAIN MSE is: 1221.950439453125\n",
      "Validation loss: 194340.4375000 - MSE score: 929.8587036\n",
      "Validation pearson is: nan\n",
      "Validation r2_score is: -0.03598683202552588\n",
      "-------------------------\n"
     ]
    },
    {
     "name": "stderr",
     "output_type": "stream",
     "text": [
      "/home/mbosnjak/.conda/envs/pero/lib/python3.7/site-packages/scipy/stats/stats.py:3399: PearsonRConstantInputWarning: An input array is constant; the correlation coefficent is not defined.\n",
      "  warnings.warn(PearsonRConstantInputWarning())\n"
     ]
    },
    {
     "name": "stdout",
     "output_type": "stream",
     "text": [
      "Epoch 114 end: 1.7453100681304932, TRAIN MSE is: 1216.887939453125\n",
      "Validation loss: 194300.9843750 - MSE score: 929.6698608\n",
      "Validation pearson is: nan\n",
      "Validation r2_score is: -0.035776512094001234\n",
      "-------------------------\n"
     ]
    },
    {
     "name": "stderr",
     "output_type": "stream",
     "text": [
      "/home/mbosnjak/.conda/envs/pero/lib/python3.7/site-packages/scipy/stats/stats.py:3399: PearsonRConstantInputWarning: An input array is constant; the correlation coefficent is not defined.\n",
      "  warnings.warn(PearsonRConstantInputWarning())\n"
     ]
    },
    {
     "name": "stdout",
     "output_type": "stream",
     "text": [
      "Epoch 115 end: 1.6825830936431885, TRAIN MSE is: 1210.7352294921875\n",
      "Validation loss: 194232.1562500 - MSE score: 929.3405151\n",
      "Validation pearson is: nan\n",
      "Validation r2_score is: -0.03540959414192635\n",
      "-------------------------\n"
     ]
    },
    {
     "name": "stderr",
     "output_type": "stream",
     "text": [
      "/home/mbosnjak/.conda/envs/pero/lib/python3.7/site-packages/scipy/stats/stats.py:3399: PearsonRConstantInputWarning: An input array is constant; the correlation coefficent is not defined.\n",
      "  warnings.warn(PearsonRConstantInputWarning())\n"
     ]
    },
    {
     "name": "stdout",
     "output_type": "stream",
     "text": [
      "Epoch 116 end: 1.7810814380645752, TRAIN MSE is: 1190.176513671875\n",
      "Validation loss: 194145.0312500 - MSE score: 928.9235840\n",
      "Validation pearson is: nan\n",
      "Validation r2_score is: -0.03494509373768251\n",
      "-------------------------\n"
     ]
    },
    {
     "name": "stderr",
     "output_type": "stream",
     "text": [
      "/home/mbosnjak/.conda/envs/pero/lib/python3.7/site-packages/scipy/stats/stats.py:3399: PearsonRConstantInputWarning: An input array is constant; the correlation coefficent is not defined.\n",
      "  warnings.warn(PearsonRConstantInputWarning())\n"
     ]
    },
    {
     "name": "stdout",
     "output_type": "stream",
     "text": [
      "Epoch 117 end: 1.5246877670288086, TRAIN MSE is: 1207.628173828125\n",
      "Validation loss: 194035.8750000 - MSE score: 928.4013062\n",
      "Validation pearson is: nan\n",
      "Validation r2_score is: -0.03436319709474378\n",
      "-------------------------\n"
     ]
    },
    {
     "name": "stderr",
     "output_type": "stream",
     "text": [
      "/home/mbosnjak/.conda/envs/pero/lib/python3.7/site-packages/scipy/stats/stats.py:3399: PearsonRConstantInputWarning: An input array is constant; the correlation coefficent is not defined.\n",
      "  warnings.warn(PearsonRConstantInputWarning())\n"
     ]
    },
    {
     "name": "stdout",
     "output_type": "stream",
     "text": [
      "Epoch 118 end: 1.8617932796478271, TRAIN MSE is: 1211.033447265625\n",
      "Validation loss: 193894.0312500 - MSE score: 927.7226562\n",
      "Validation pearson is: nan\n",
      "Validation r2_score is: -0.03360703654369934\n",
      "-------------------------\n"
     ]
    },
    {
     "name": "stderr",
     "output_type": "stream",
     "text": [
      "/home/mbosnjak/.conda/envs/pero/lib/python3.7/site-packages/scipy/stats/stats.py:3399: PearsonRConstantInputWarning: An input array is constant; the correlation coefficent is not defined.\n",
      "  warnings.warn(PearsonRConstantInputWarning())\n"
     ]
    },
    {
     "name": "stdout",
     "output_type": "stream",
     "text": [
      "Epoch 119 end: 1.7633700370788574, TRAIN MSE is: 1170.362548828125\n",
      "Validation loss: 193789.8750000 - MSE score: 927.2243042\n",
      "Validation pearson is: nan\n",
      "Validation r2_score is: -0.03305185217992279\n",
      "-------------------------\n"
     ]
    },
    {
     "name": "stderr",
     "output_type": "stream",
     "text": [
      "/home/mbosnjak/.conda/envs/pero/lib/python3.7/site-packages/scipy/stats/stats.py:3399: PearsonRConstantInputWarning: An input array is constant; the correlation coefficent is not defined.\n",
      "  warnings.warn(PearsonRConstantInputWarning())\n"
     ]
    },
    {
     "name": "stdout",
     "output_type": "stream",
     "text": [
      "Epoch 120 end: 1.7040116786956787, TRAIN MSE is: 1251.3006591796875\n",
      "Validation loss: 193762.0625000 - MSE score: 927.0911865\n",
      "Validation pearson is: nan\n",
      "Validation r2_score is: -0.032903576699209625\n",
      "-------------------------\n"
     ]
    },
    {
     "name": "stderr",
     "output_type": "stream",
     "text": [
      "/home/mbosnjak/.conda/envs/pero/lib/python3.7/site-packages/scipy/stats/stats.py:3399: PearsonRConstantInputWarning: An input array is constant; the correlation coefficent is not defined.\n",
      "  warnings.warn(PearsonRConstantInputWarning())\n"
     ]
    },
    {
     "name": "stdout",
     "output_type": "stream",
     "text": [
      "Epoch 121 end: 1.7015104293823242, TRAIN MSE is: 1190.13525390625\n",
      "Validation loss: 193634.1406250 - MSE score: 926.4790649\n",
      "Validation pearson is: nan\n",
      "Validation r2_score is: -0.03222159360817711\n",
      "-------------------------\n"
     ]
    },
    {
     "name": "stderr",
     "output_type": "stream",
     "text": [
      "/home/mbosnjak/.conda/envs/pero/lib/python3.7/site-packages/scipy/stats/stats.py:3399: PearsonRConstantInputWarning: An input array is constant; the correlation coefficent is not defined.\n",
      "  warnings.warn(PearsonRConstantInputWarning())\n"
     ]
    },
    {
     "name": "stdout",
     "output_type": "stream",
     "text": [
      "Epoch 122 end: 1.6482324600219727, TRAIN MSE is: 1205.7032470703125\n",
      "Validation loss: 193507.9531250 - MSE score: 925.8753052\n",
      "Validation pearson is: nan\n",
      "Validation r2_score is: -0.03154893014815441\n",
      "-------------------------\n"
     ]
    },
    {
     "name": "stderr",
     "output_type": "stream",
     "text": [
      "/home/mbosnjak/.conda/envs/pero/lib/python3.7/site-packages/scipy/stats/stats.py:3399: PearsonRConstantInputWarning: An input array is constant; the correlation coefficent is not defined.\n",
      "  warnings.warn(PearsonRConstantInputWarning())\n"
     ]
    },
    {
     "name": "stdout",
     "output_type": "stream",
     "text": [
      "Epoch 123 end: 1.6514196395874023, TRAIN MSE is: 1166.9822998046875\n",
      "Validation loss: 193429.1718750 - MSE score: 925.4984131\n",
      "Validation pearson is: nan\n",
      "Validation r2_score is: -0.031129030206229702\n",
      "-------------------------\n"
     ]
    },
    {
     "name": "stderr",
     "output_type": "stream",
     "text": [
      "/home/mbosnjak/.conda/envs/pero/lib/python3.7/site-packages/scipy/stats/stats.py:3399: PearsonRConstantInputWarning: An input array is constant; the correlation coefficent is not defined.\n",
      "  warnings.warn(PearsonRConstantInputWarning())\n"
     ]
    },
    {
     "name": "stdout",
     "output_type": "stream",
     "text": [
      "Epoch 124 end: 1.7050318717956543, TRAIN MSE is: 1228.417236328125\n",
      "Validation loss: 193332.8593750 - MSE score: 925.0376587\n",
      "Validation pearson is: nan\n",
      "Validation r2_score is: -0.03061572554254699\n",
      "-------------------------\n"
     ]
    },
    {
     "name": "stderr",
     "output_type": "stream",
     "text": [
      "/home/mbosnjak/.conda/envs/pero/lib/python3.7/site-packages/scipy/stats/stats.py:3399: PearsonRConstantInputWarning: An input array is constant; the correlation coefficent is not defined.\n",
      "  warnings.warn(PearsonRConstantInputWarning())\n"
     ]
    },
    {
     "name": "stdout",
     "output_type": "stream",
     "text": [
      "Epoch 125 end: 1.6300108432769775, TRAIN MSE is: 1200.9425048828125\n",
      "Validation loss: 193235.1718750 - MSE score: 924.5702515\n",
      "Validation pearson is: nan\n",
      "Validation r2_score is: -0.03009484802936835\n",
      "-------------------------\n"
     ]
    },
    {
     "name": "stderr",
     "output_type": "stream",
     "text": [
      "/home/mbosnjak/.conda/envs/pero/lib/python3.7/site-packages/scipy/stats/stats.py:3399: PearsonRConstantInputWarning: An input array is constant; the correlation coefficent is not defined.\n",
      "  warnings.warn(PearsonRConstantInputWarning())\n"
     ]
    },
    {
     "name": "stdout",
     "output_type": "stream",
     "text": [
      "Epoch 126 end: 1.6540601253509521, TRAIN MSE is: 1234.3509521484375\n",
      "Validation loss: 193196.7656250 - MSE score: 924.3865356\n",
      "Validation pearson is: nan\n",
      "Validation r2_score is: -0.029890166145414065\n",
      "-------------------------\n"
     ]
    },
    {
     "name": "stderr",
     "output_type": "stream",
     "text": [
      "/home/mbosnjak/.conda/envs/pero/lib/python3.7/site-packages/scipy/stats/stats.py:3399: PearsonRConstantInputWarning: An input array is constant; the correlation coefficent is not defined.\n",
      "  warnings.warn(PearsonRConstantInputWarning())\n"
     ]
    },
    {
     "name": "stdout",
     "output_type": "stream",
     "text": [
      "Epoch 127 end: 1.5794737339019775, TRAIN MSE is: 1223.313232421875\n",
      "Validation loss: 193165.0625000 - MSE score: 924.2347412\n",
      "Validation pearson is: nan\n",
      "Validation r2_score is: -0.02972110352468116\n",
      "-------------------------\n"
     ]
    },
    {
     "name": "stderr",
     "output_type": "stream",
     "text": [
      "/home/mbosnjak/.conda/envs/pero/lib/python3.7/site-packages/scipy/stats/stats.py:3399: PearsonRConstantInputWarning: An input array is constant; the correlation coefficent is not defined.\n",
      "  warnings.warn(PearsonRConstantInputWarning())\n"
     ]
    },
    {
     "name": "stdout",
     "output_type": "stream",
     "text": [
      "Epoch 128 end: 1.6714320182800293, TRAIN MSE is: 1279.484130859375\n",
      "Validation loss: 193139.7343750 - MSE score: 924.1136475\n",
      "Validation pearson is: nan\n",
      "Validation r2_score is: -0.0295861350317983\n",
      "-------------------------\n"
     ]
    },
    {
     "name": "stderr",
     "output_type": "stream",
     "text": [
      "/home/mbosnjak/.conda/envs/pero/lib/python3.7/site-packages/scipy/stats/stats.py:3399: PearsonRConstantInputWarning: An input array is constant; the correlation coefficent is not defined.\n",
      "  warnings.warn(PearsonRConstantInputWarning())\n"
     ]
    },
    {
     "name": "stdout",
     "output_type": "stream",
     "text": [
      "Epoch 129 end: 1.6273963451385498, TRAIN MSE is: 1231.097900390625\n",
      "Validation loss: 193136.9218750 - MSE score: 924.1000366\n",
      "Validation pearson is: nan\n",
      "Validation r2_score is: -0.029571063233917894\n",
      "-------------------------\n"
     ]
    },
    {
     "name": "stderr",
     "output_type": "stream",
     "text": [
      "/home/mbosnjak/.conda/envs/pero/lib/python3.7/site-packages/scipy/stats/stats.py:3399: PearsonRConstantInputWarning: An input array is constant; the correlation coefficent is not defined.\n",
      "  warnings.warn(PearsonRConstantInputWarning())\n"
     ]
    },
    {
     "name": "stdout",
     "output_type": "stream",
     "text": [
      "Epoch 130 end: 1.6928131580352783, TRAIN MSE is: 1199.1934814453125\n",
      "Validation loss: 193076.3281250 - MSE score: 923.8101807\n",
      "Validation pearson is: nan\n",
      "Validation r2_score is: -0.029248072550863702\n",
      "-------------------------\n"
     ]
    },
    {
     "name": "stderr",
     "output_type": "stream",
     "text": [
      "/home/mbosnjak/.conda/envs/pero/lib/python3.7/site-packages/scipy/stats/stats.py:3399: PearsonRConstantInputWarning: An input array is constant; the correlation coefficent is not defined.\n",
      "  warnings.warn(PearsonRConstantInputWarning())\n"
     ]
    },
    {
     "name": "stdout",
     "output_type": "stream",
     "text": [
      "Epoch 131 end: 1.6316628456115723, TRAIN MSE is: 1186.91552734375\n",
      "Validation loss: 192995.3125000 - MSE score: 923.4225464\n",
      "Validation pearson is: nan\n",
      "Validation r2_score is: -0.028816251135411752\n",
      "-------------------------\n"
     ]
    },
    {
     "name": "stderr",
     "output_type": "stream",
     "text": [
      "/home/mbosnjak/.conda/envs/pero/lib/python3.7/site-packages/scipy/stats/stats.py:3399: PearsonRConstantInputWarning: An input array is constant; the correlation coefficent is not defined.\n",
      "  warnings.warn(PearsonRConstantInputWarning())\n"
     ]
    },
    {
     "name": "stdout",
     "output_type": "stream",
     "text": [
      "Epoch 132 end: 1.7065677642822266, TRAIN MSE is: 1222.783935546875\n",
      "Validation loss: 192957.1875000 - MSE score: 923.2401123\n",
      "Validation pearson is: nan\n",
      "Validation r2_score is: -0.02861299478695023\n",
      "-------------------------\n"
     ]
    },
    {
     "name": "stderr",
     "output_type": "stream",
     "text": [
      "/home/mbosnjak/.conda/envs/pero/lib/python3.7/site-packages/scipy/stats/stats.py:3399: PearsonRConstantInputWarning: An input array is constant; the correlation coefficent is not defined.\n",
      "  warnings.warn(PearsonRConstantInputWarning())\n"
     ]
    },
    {
     "name": "stdout",
     "output_type": "stream",
     "text": [
      "Epoch 133 end: 1.4984869956970215, TRAIN MSE is: 1197.55712890625\n",
      "Validation loss: 192922.3593750 - MSE score: 923.0734253\n",
      "Validation pearson is: nan\n",
      "Validation r2_score is: -0.02842725086106812\n",
      "-------------------------\n"
     ]
    },
    {
     "name": "stderr",
     "output_type": "stream",
     "text": [
      "/home/mbosnjak/.conda/envs/pero/lib/python3.7/site-packages/scipy/stats/stats.py:3399: PearsonRConstantInputWarning: An input array is constant; the correlation coefficent is not defined.\n",
      "  warnings.warn(PearsonRConstantInputWarning())\n"
     ]
    },
    {
     "name": "stdout",
     "output_type": "stream",
     "text": [
      "Epoch 134 end: 1.4589512348175049, TRAIN MSE is: 1218.64599609375\n",
      "Validation loss: 192868.0468750 - MSE score: 922.8135376\n",
      "Validation pearson is: nan\n",
      "Validation r2_score is: -0.028137715172963595\n",
      "-------------------------\n"
     ]
    },
    {
     "name": "stderr",
     "output_type": "stream",
     "text": [
      "/home/mbosnjak/.conda/envs/pero/lib/python3.7/site-packages/scipy/stats/stats.py:3399: PearsonRConstantInputWarning: An input array is constant; the correlation coefficent is not defined.\n",
      "  warnings.warn(PearsonRConstantInputWarning())\n"
     ]
    },
    {
     "name": "stdout",
     "output_type": "stream",
     "text": [
      "Epoch 135 end: 1.562941312789917, TRAIN MSE is: 1218.4285888671875\n",
      "Validation loss: 192797.1875000 - MSE score: 922.4746094\n",
      "Validation pearson is: nan\n",
      "Validation r2_score is: -0.02776007486648946\n",
      "-------------------------\n"
     ]
    },
    {
     "name": "stderr",
     "output_type": "stream",
     "text": [
      "/home/mbosnjak/.conda/envs/pero/lib/python3.7/site-packages/scipy/stats/stats.py:3399: PearsonRConstantInputWarning: An input array is constant; the correlation coefficent is not defined.\n",
      "  warnings.warn(PearsonRConstantInputWarning())\n"
     ]
    },
    {
     "name": "stdout",
     "output_type": "stream",
     "text": [
      "Epoch 136 end: 1.6953516006469727, TRAIN MSE is: 1194.264892578125\n",
      "Validation loss: 192711.8593750 - MSE score: 922.0662231\n",
      "Validation pearson is: nan\n",
      "Validation r2_score is: -0.027305123862724656\n",
      "-------------------------\n"
     ]
    },
    {
     "name": "stderr",
     "output_type": "stream",
     "text": [
      "/home/mbosnjak/.conda/envs/pero/lib/python3.7/site-packages/scipy/stats/stats.py:3399: PearsonRConstantInputWarning: An input array is constant; the correlation coefficent is not defined.\n",
      "  warnings.warn(PearsonRConstantInputWarning())\n"
     ]
    },
    {
     "name": "stdout",
     "output_type": "stream",
     "text": [
      "Epoch 137 end: 1.6565234661102295, TRAIN MSE is: 1243.1710205078125\n",
      "Validation loss: 192645.0000000 - MSE score: 921.7463989\n",
      "Validation pearson is: nan\n",
      "Validation r2_score is: -0.02694873066765191\n",
      "-------------------------\n"
     ]
    },
    {
     "name": "stderr",
     "output_type": "stream",
     "text": [
      "/home/mbosnjak/.conda/envs/pero/lib/python3.7/site-packages/scipy/stats/stats.py:3399: PearsonRConstantInputWarning: An input array is constant; the correlation coefficent is not defined.\n",
      "  warnings.warn(PearsonRConstantInputWarning())\n"
     ]
    },
    {
     "name": "stdout",
     "output_type": "stream",
     "text": [
      "Epoch 138 end: 1.7313594818115234, TRAIN MSE is: 1190.6094970703125\n",
      "Validation loss: 192609.2500000 - MSE score: 921.5753784\n",
      "Validation pearson is: nan\n",
      "Validation r2_score is: -0.02675814547066735\n",
      "-------------------------\n"
     ]
    },
    {
     "name": "stderr",
     "output_type": "stream",
     "text": [
      "/home/mbosnjak/.conda/envs/pero/lib/python3.7/site-packages/scipy/stats/stats.py:3399: PearsonRConstantInputWarning: An input array is constant; the correlation coefficent is not defined.\n",
      "  warnings.warn(PearsonRConstantInputWarning())\n"
     ]
    },
    {
     "name": "stdout",
     "output_type": "stream",
     "text": [
      "Epoch 139 end: 1.7292850017547607, TRAIN MSE is: 1180.7435302734375\n",
      "Validation loss: 192552.0625000 - MSE score: 921.3016357\n",
      "Validation pearson is: nan\n",
      "Validation r2_score is: -0.026453260206689144\n",
      "-------------------------\n"
     ]
    },
    {
     "name": "stderr",
     "output_type": "stream",
     "text": [
      "/home/mbosnjak/.conda/envs/pero/lib/python3.7/site-packages/scipy/stats/stats.py:3399: PearsonRConstantInputWarning: An input array is constant; the correlation coefficent is not defined.\n",
      "  warnings.warn(PearsonRConstantInputWarning())\n"
     ]
    },
    {
     "name": "stdout",
     "output_type": "stream",
     "text": [
      "Epoch 140 end: 1.7372498512268066, TRAIN MSE is: 1195.33203125\n",
      "Validation loss: 192440.9375000 - MSE score: 920.7700195\n",
      "Validation pearson is: nan\n",
      "Validation r2_score is: -0.025860968047269006\n",
      "-------------------------\n"
     ]
    },
    {
     "name": "stderr",
     "output_type": "stream",
     "text": [
      "/home/mbosnjak/.conda/envs/pero/lib/python3.7/site-packages/scipy/stats/stats.py:3399: PearsonRConstantInputWarning: An input array is constant; the correlation coefficent is not defined.\n",
      "  warnings.warn(PearsonRConstantInputWarning())\n"
     ]
    },
    {
     "name": "stdout",
     "output_type": "stream",
     "text": [
      "Epoch 141 end: 1.6842100620269775, TRAIN MSE is: 1239.418212890625\n",
      "Validation loss: 192383.5937500 - MSE score: 920.4956665\n",
      "Validation pearson is: nan\n",
      "Validation r2_score is: -0.02555534949783711\n",
      "-------------------------\n"
     ]
    },
    {
     "name": "stderr",
     "output_type": "stream",
     "text": [
      "/home/mbosnjak/.conda/envs/pero/lib/python3.7/site-packages/scipy/stats/stats.py:3399: PearsonRConstantInputWarning: An input array is constant; the correlation coefficent is not defined.\n",
      "  warnings.warn(PearsonRConstantInputWarning())\n"
     ]
    },
    {
     "name": "stdout",
     "output_type": "stream",
     "text": [
      "Epoch 142 end: 1.723506212234497, TRAIN MSE is: 1195.6973876953125\n",
      "Validation loss: 192355.9843750 - MSE score: 920.3636475\n",
      "Validation pearson is: nan\n",
      "Validation r2_score is: -0.025408147542109516\n",
      "-------------------------\n"
     ]
    },
    {
     "name": "stderr",
     "output_type": "stream",
     "text": [
      "/home/mbosnjak/.conda/envs/pero/lib/python3.7/site-packages/scipy/stats/stats.py:3399: PearsonRConstantInputWarning: An input array is constant; the correlation coefficent is not defined.\n",
      "  warnings.warn(PearsonRConstantInputWarning())\n"
     ]
    },
    {
     "name": "stdout",
     "output_type": "stream",
     "text": [
      "Epoch 143 end: 1.7301406860351562, TRAIN MSE is: 1213.2591552734375\n",
      "Validation loss: 192290.1718750 - MSE score: 920.0486450\n",
      "Validation pearson is: nan\n",
      "Validation r2_score is: -0.025057272243182105\n",
      "-------------------------\n"
     ]
    },
    {
     "name": "stderr",
     "output_type": "stream",
     "text": [
      "/home/mbosnjak/.conda/envs/pero/lib/python3.7/site-packages/scipy/stats/stats.py:3399: PearsonRConstantInputWarning: An input array is constant; the correlation coefficent is not defined.\n",
      "  warnings.warn(PearsonRConstantInputWarning())\n"
     ]
    },
    {
     "name": "stdout",
     "output_type": "stream",
     "text": [
      "Epoch 144 end: 1.6602776050567627, TRAIN MSE is: 1173.518798828125\n",
      "Validation loss: 192182.4843750 - MSE score: 919.5333252\n",
      "Validation pearson is: nan\n",
      "Validation r2_score is: -0.02448310062739445\n",
      "-------------------------\n"
     ]
    },
    {
     "name": "stderr",
     "output_type": "stream",
     "text": [
      "/home/mbosnjak/.conda/envs/pero/lib/python3.7/site-packages/scipy/stats/stats.py:3399: PearsonRConstantInputWarning: An input array is constant; the correlation coefficent is not defined.\n",
      "  warnings.warn(PearsonRConstantInputWarning())\n"
     ]
    },
    {
     "name": "stdout",
     "output_type": "stream",
     "text": [
      "Epoch 145 end: 1.6006381511688232, TRAIN MSE is: 1213.7576904296875\n",
      "Validation loss: 192140.7500000 - MSE score: 919.3337402\n",
      "Validation pearson is: nan\n",
      "Validation r2_score is: -0.02426066296453544\n",
      "-------------------------\n"
     ]
    },
    {
     "name": "stderr",
     "output_type": "stream",
     "text": [
      "/home/mbosnjak/.conda/envs/pero/lib/python3.7/site-packages/scipy/stats/stats.py:3399: PearsonRConstantInputWarning: An input array is constant; the correlation coefficent is not defined.\n",
      "  warnings.warn(PearsonRConstantInputWarning())\n"
     ]
    },
    {
     "name": "stdout",
     "output_type": "stream",
     "text": [
      "Epoch 146 end: 1.63594388961792, TRAIN MSE is: 1149.38671875\n",
      "Validation loss: 192074.0781250 - MSE score: 919.0147095\n",
      "Validation pearson is: nan\n",
      "Validation r2_score is: -0.02390533578419962\n",
      "-------------------------\n"
     ]
    },
    {
     "name": "stderr",
     "output_type": "stream",
     "text": [
      "/home/mbosnjak/.conda/envs/pero/lib/python3.7/site-packages/scipy/stats/stats.py:3399: PearsonRConstantInputWarning: An input array is constant; the correlation coefficent is not defined.\n",
      "  warnings.warn(PearsonRConstantInputWarning())\n"
     ]
    },
    {
     "name": "stdout",
     "output_type": "stream",
     "text": [
      "Epoch 147 end: 1.6680569648742676, TRAIN MSE is: 1267.7821044921875\n",
      "Validation loss: 192045.7656250 - MSE score: 918.8792725\n",
      "Validation pearson is: nan\n",
      "Validation r2_score is: -0.02375438193056323\n",
      "-------------------------\n"
     ]
    },
    {
     "name": "stderr",
     "output_type": "stream",
     "text": [
      "/home/mbosnjak/.conda/envs/pero/lib/python3.7/site-packages/scipy/stats/stats.py:3399: PearsonRConstantInputWarning: An input array is constant; the correlation coefficent is not defined.\n",
      "  warnings.warn(PearsonRConstantInputWarning())\n"
     ]
    },
    {
     "name": "stdout",
     "output_type": "stream",
     "text": [
      "Epoch 148 end: 1.665978193283081, TRAIN MSE is: 1290.235595703125\n",
      "Validation loss: 192049.1562500 - MSE score: 918.8953857\n",
      "Validation pearson is: nan\n",
      "Validation r2_score is: -0.023772377739220696\n",
      "-------------------------\n"
     ]
    },
    {
     "name": "stderr",
     "output_type": "stream",
     "text": [
      "/home/mbosnjak/.conda/envs/pero/lib/python3.7/site-packages/scipy/stats/stats.py:3399: PearsonRConstantInputWarning: An input array is constant; the correlation coefficent is not defined.\n",
      "  warnings.warn(PearsonRConstantInputWarning())\n"
     ]
    },
    {
     "name": "stdout",
     "output_type": "stream",
     "text": [
      "Epoch 149 end: 1.7730565071105957, TRAIN MSE is: 1251.2696533203125\n",
      "Validation loss: 192041.3125000 - MSE score: 918.8579712\n",
      "Validation pearson is: nan\n",
      "Validation r2_score is: -0.02373064845173878\n",
      "-------------------------\n"
     ]
    },
    {
     "name": "stderr",
     "output_type": "stream",
     "text": [
      "/home/mbosnjak/.conda/envs/pero/lib/python3.7/site-packages/scipy/stats/stats.py:3399: PearsonRConstantInputWarning: An input array is constant; the correlation coefficent is not defined.\n",
      "  warnings.warn(PearsonRConstantInputWarning())\n"
     ]
    },
    {
     "name": "stdout",
     "output_type": "stream",
     "text": [
      "Epoch 150 end: 1.7128350734710693, TRAIN MSE is: 1119.324951171875\n",
      "Validation loss: 192011.1250000 - MSE score: 918.7135010\n",
      "Validation pearson is: nan\n",
      "Validation r2_score is: -0.023569760791196215\n",
      "-------------------------\n"
     ]
    },
    {
     "name": "stderr",
     "output_type": "stream",
     "text": [
      "/home/mbosnjak/.conda/envs/pero/lib/python3.7/site-packages/scipy/stats/stats.py:3399: PearsonRConstantInputWarning: An input array is constant; the correlation coefficent is not defined.\n",
      "  warnings.warn(PearsonRConstantInputWarning())\n"
     ]
    },
    {
     "name": "stdout",
     "output_type": "stream",
     "text": [
      "Epoch 151 end: 1.873631238937378, TRAIN MSE is: 1210.173583984375\n",
      "Validation loss: 191949.5000000 - MSE score: 918.4185181\n",
      "Validation pearson is: nan\n",
      "Validation r2_score is: -0.023241104240735666\n",
      "-------------------------\n"
     ]
    },
    {
     "name": "stderr",
     "output_type": "stream",
     "text": [
      "/home/mbosnjak/.conda/envs/pero/lib/python3.7/site-packages/scipy/stats/stats.py:3399: PearsonRConstantInputWarning: An input array is constant; the correlation coefficent is not defined.\n",
      "  warnings.warn(PearsonRConstantInputWarning())\n"
     ]
    },
    {
     "name": "stdout",
     "output_type": "stream",
     "text": [
      "Epoch 152 end: 1.784442663192749, TRAIN MSE is: 1235.8494873046875\n",
      "Validation loss: 191926.8750000 - MSE score: 918.3102417\n",
      "Validation pearson is: nan\n",
      "Validation r2_score is: -0.023120550398276984\n",
      "-------------------------\n"
     ]
    },
    {
     "name": "stderr",
     "output_type": "stream",
     "text": [
      "/home/mbosnjak/.conda/envs/pero/lib/python3.7/site-packages/scipy/stats/stats.py:3399: PearsonRConstantInputWarning: An input array is constant; the correlation coefficent is not defined.\n",
      "  warnings.warn(PearsonRConstantInputWarning())\n"
     ]
    },
    {
     "name": "stdout",
     "output_type": "stream",
     "text": [
      "Epoch 153 end: 1.6656904220581055, TRAIN MSE is: 1226.1776123046875\n",
      "Validation loss: 191902.1718750 - MSE score: 918.1921997\n",
      "Validation pearson is: nan\n",
      "Validation r2_score is: -0.022988926509705854\n",
      "-------------------------\n"
     ]
    },
    {
     "name": "stderr",
     "output_type": "stream",
     "text": [
      "/home/mbosnjak/.conda/envs/pero/lib/python3.7/site-packages/scipy/stats/stats.py:3399: PearsonRConstantInputWarning: An input array is constant; the correlation coefficent is not defined.\n",
      "  warnings.warn(PearsonRConstantInputWarning())\n"
     ]
    },
    {
     "name": "stdout",
     "output_type": "stream",
     "text": [
      "Epoch 154 end: 1.5792498588562012, TRAIN MSE is: 1230.9698486328125\n",
      "Validation loss: 191950.1406250 - MSE score: 918.4217529\n",
      "Validation pearson is: nan\n",
      "Validation r2_score is: -0.023244633134324566\n",
      "-------------------------\n"
     ]
    },
    {
     "name": "stderr",
     "output_type": "stream",
     "text": [
      "/home/mbosnjak/.conda/envs/pero/lib/python3.7/site-packages/scipy/stats/stats.py:3399: PearsonRConstantInputWarning: An input array is constant; the correlation coefficent is not defined.\n",
      "  warnings.warn(PearsonRConstantInputWarning())\n"
     ]
    },
    {
     "name": "stdout",
     "output_type": "stream",
     "text": [
      "Epoch 155 end: 1.5212631225585938, TRAIN MSE is: 1239.91650390625\n",
      "Validation loss: 191973.0625000 - MSE score: 918.5313721\n",
      "Validation pearson is: nan\n",
      "Validation r2_score is: -0.023366821712246466\n",
      "-------------------------\n"
     ]
    },
    {
     "name": "stderr",
     "output_type": "stream",
     "text": [
      "/home/mbosnjak/.conda/envs/pero/lib/python3.7/site-packages/scipy/stats/stats.py:3399: PearsonRConstantInputWarning: An input array is constant; the correlation coefficent is not defined.\n",
      "  warnings.warn(PearsonRConstantInputWarning())\n"
     ]
    },
    {
     "name": "stdout",
     "output_type": "stream",
     "text": [
      "Epoch 156 end: 1.4570953845977783, TRAIN MSE is: 1207.9188232421875\n",
      "Validation loss: 192011.7812500 - MSE score: 918.7166748\n",
      "Validation pearson is: nan\n",
      "Validation r2_score is: -0.023573160654608127\n",
      "-------------------------\n"
     ]
    },
    {
     "name": "stderr",
     "output_type": "stream",
     "text": [
      "/home/mbosnjak/.conda/envs/pero/lib/python3.7/site-packages/scipy/stats/stats.py:3399: PearsonRConstantInputWarning: An input array is constant; the correlation coefficent is not defined.\n",
      "  warnings.warn(PearsonRConstantInputWarning())\n"
     ]
    },
    {
     "name": "stdout",
     "output_type": "stream",
     "text": [
      "Epoch 157 end: 1.5680255889892578, TRAIN MSE is: 1211.753662109375\n",
      "Validation loss: 192003.1875000 - MSE score: 918.6755371\n",
      "Validation pearson is: nan\n",
      "Validation r2_score is: -0.023527445052967888\n",
      "-------------------------\n"
     ]
    },
    {
     "name": "stderr",
     "output_type": "stream",
     "text": [
      "/home/mbosnjak/.conda/envs/pero/lib/python3.7/site-packages/scipy/stats/stats.py:3399: PearsonRConstantInputWarning: An input array is constant; the correlation coefficent is not defined.\n",
      "  warnings.warn(PearsonRConstantInputWarning())\n"
     ]
    },
    {
     "name": "stdout",
     "output_type": "stream",
     "text": [
      "Epoch 158 end: 1.686870813369751, TRAIN MSE is: 1244.7821044921875\n",
      "Validation loss: 192016.1875000 - MSE score: 918.7377319\n",
      "Validation pearson is: nan\n",
      "Validation r2_score is: -0.023596674815525853\n",
      "-------------------------\n"
     ]
    },
    {
     "name": "stderr",
     "output_type": "stream",
     "text": [
      "/home/mbosnjak/.conda/envs/pero/lib/python3.7/site-packages/scipy/stats/stats.py:3399: PearsonRConstantInputWarning: An input array is constant; the correlation coefficent is not defined.\n",
      "  warnings.warn(PearsonRConstantInputWarning())\n"
     ]
    },
    {
     "name": "stdout",
     "output_type": "stream",
     "text": [
      "Epoch 159 end: 1.7664198875427246, TRAIN MSE is: 1156.2381591796875\n",
      "Validation loss: 192030.0937500 - MSE score: 918.8042603\n",
      "Validation pearson is: nan\n",
      "Validation r2_score is: -0.023670823839763377\n",
      "-------------------------\n",
      "Starting training for: {'learning_rate': 0.09, 'act_func': 'sig', 'batch_size': 64, 'kernels_count': 8, 'sentences_count': 2, 'hidden_layers': [8, 6, 4], 'dropout': 0.5, 'alpha': 0.1978, 'regularization_type': 'None'}\n",
      "-------------------------\n"
     ]
    },
    {
     "name": "stderr",
     "output_type": "stream",
     "text": [
      "/home/mbosnjak/.conda/envs/pero/lib/python3.7/site-packages/scipy/stats/stats.py:3399: PearsonRConstantInputWarning: An input array is constant; the correlation coefficent is not defined.\n",
      "  warnings.warn(PearsonRConstantInputWarning())\n"
     ]
    },
    {
     "name": "stdout",
     "output_type": "stream",
     "text": [
      "Epoch 0 end: 1.832505226135254, TRAIN MSE is: 2628.441162109375\n",
      "Validation loss: 456042.1875000 - MSE score: 2182.0200195\n",
      "Validation pearson is: nan\n",
      "Validation r2_score is: -1.431061996307859\n",
      "-------------------------\n"
     ]
    },
    {
     "name": "stderr",
     "output_type": "stream",
     "text": [
      "/home/mbosnjak/.conda/envs/pero/lib/python3.7/site-packages/scipy/stats/stats.py:3399: PearsonRConstantInputWarning: An input array is constant; the correlation coefficent is not defined.\n",
      "  warnings.warn(PearsonRConstantInputWarning())\n"
     ]
    },
    {
     "name": "stdout",
     "output_type": "stream",
     "text": [
      "Epoch 1 end: 1.7055656909942627, TRAIN MSE is: 2180.73095703125\n",
      "Validation loss: 377293.6250000 - MSE score: 1805.2322998\n",
      "Validation pearson is: nan\n",
      "Validation r2_score is: -1.011270412740934\n",
      "-------------------------\n"
     ]
    },
    {
     "name": "stderr",
     "output_type": "stream",
     "text": [
      "/home/mbosnjak/.conda/envs/pero/lib/python3.7/site-packages/scipy/stats/stats.py:3399: PearsonRConstantInputWarning: An input array is constant; the correlation coefficent is not defined.\n",
      "  warnings.warn(PearsonRConstantInputWarning())\n"
     ]
    },
    {
     "name": "stdout",
     "output_type": "stream",
     "text": [
      "Epoch 2 end: 1.5416390895843506, TRAIN MSE is: 1835.808349609375\n",
      "Validation loss: 316325.5625000 - MSE score: 1513.5192871\n",
      "Validation pearson is: nan\n",
      "Validation r2_score is: -0.6862629226333998\n",
      "-------------------------\n"
     ]
    },
    {
     "name": "stderr",
     "output_type": "stream",
     "text": [
      "/home/mbosnjak/.conda/envs/pero/lib/python3.7/site-packages/scipy/stats/stats.py:3399: PearsonRConstantInputWarning: An input array is constant; the correlation coefficent is not defined.\n",
      "  warnings.warn(PearsonRConstantInputWarning())\n"
     ]
    },
    {
     "name": "stdout",
     "output_type": "stream",
     "text": [
      "Epoch 3 end: 1.6821491718292236, TRAIN MSE is: 1607.115478515625\n",
      "Validation loss: 272971.5625000 - MSE score: 1306.0839844\n",
      "Validation pearson is: nan\n",
      "Validation r2_score is: -0.455152293027393\n",
      "-------------------------\n"
     ]
    },
    {
     "name": "stderr",
     "output_type": "stream",
     "text": [
      "/home/mbosnjak/.conda/envs/pero/lib/python3.7/site-packages/scipy/stats/stats.py:3399: PearsonRConstantInputWarning: An input array is constant; the correlation coefficent is not defined.\n",
      "  warnings.warn(PearsonRConstantInputWarning())\n"
     ]
    },
    {
     "name": "stdout",
     "output_type": "stream",
     "text": [
      "Epoch 4 end: 1.6022753715515137, TRAIN MSE is: 1417.509033203125\n",
      "Validation loss: 242619.6093750 - MSE score: 1160.8594971\n",
      "Validation pearson is: nan\n",
      "Validation r2_score is: -0.2933525740332481\n",
      "-------------------------\n"
     ]
    },
    {
     "name": "stderr",
     "output_type": "stream",
     "text": [
      "/home/mbosnjak/.conda/envs/pero/lib/python3.7/site-packages/scipy/stats/stats.py:3399: PearsonRConstantInputWarning: An input array is constant; the correlation coefficent is not defined.\n",
      "  warnings.warn(PearsonRConstantInputWarning())\n"
     ]
    },
    {
     "name": "stdout",
     "output_type": "stream",
     "text": [
      "Epoch 5 end: 1.7681491374969482, TRAIN MSE is: 1296.933349609375\n",
      "Validation loss: 222917.2031250 - MSE score: 1066.5895996\n",
      "Validation pearson is: nan\n",
      "Validation r2_score is: -0.18832334946678952\n",
      "-------------------------\n"
     ]
    },
    {
     "name": "stderr",
     "output_type": "stream",
     "text": [
      "/home/mbosnjak/.conda/envs/pero/lib/python3.7/site-packages/scipy/stats/stats.py:3399: PearsonRConstantInputWarning: An input array is constant; the correlation coefficent is not defined.\n",
      "  warnings.warn(PearsonRConstantInputWarning())\n"
     ]
    },
    {
     "name": "stdout",
     "output_type": "stream",
     "text": [
      "Epoch 6 end: 1.493056058883667, TRAIN MSE is: 1324.27392578125\n",
      "Validation loss: 210396.0937500 - MSE score: 1006.6798706\n",
      "Validation pearson is: nan\n",
      "Validation r2_score is: -0.12157595853460701\n",
      "-------------------------\n"
     ]
    },
    {
     "name": "stderr",
     "output_type": "stream",
     "text": [
      "/home/mbosnjak/.conda/envs/pero/lib/python3.7/site-packages/scipy/stats/stats.py:3399: PearsonRConstantInputWarning: An input array is constant; the correlation coefficent is not defined.\n",
      "  warnings.warn(PearsonRConstantInputWarning())\n"
     ]
    },
    {
     "name": "stdout",
     "output_type": "stream",
     "text": [
      "Epoch 7 end: 1.5713675022125244, TRAIN MSE is: 1309.2774658203125\n",
      "Validation loss: 203103.6562500 - MSE score: 971.7879639\n",
      "Validation pearson is: nan\n",
      "Validation r2_score is: -0.08270169457168586\n",
      "-------------------------\n"
     ]
    },
    {
     "name": "stderr",
     "output_type": "stream",
     "text": [
      "/home/mbosnjak/.conda/envs/pero/lib/python3.7/site-packages/scipy/stats/stats.py:3399: PearsonRConstantInputWarning: An input array is constant; the correlation coefficent is not defined.\n",
      "  warnings.warn(PearsonRConstantInputWarning())\n"
     ]
    },
    {
     "name": "stdout",
     "output_type": "stream",
     "text": [
      "Epoch 8 end: 1.5121843814849854, TRAIN MSE is: 1181.4498291015625\n",
      "Validation loss: 198346.9687500 - MSE score: 949.0286255\n",
      "Validation pearson is: nan\n",
      "Validation r2_score is: -0.057344794263466614\n",
      "-------------------------\n"
     ]
    },
    {
     "name": "stderr",
     "output_type": "stream",
     "text": [
      "/home/mbosnjak/.conda/envs/pero/lib/python3.7/site-packages/scipy/stats/stats.py:3399: PearsonRConstantInputWarning: An input array is constant; the correlation coefficent is not defined.\n",
      "  warnings.warn(PearsonRConstantInputWarning())\n"
     ]
    },
    {
     "name": "stdout",
     "output_type": "stream",
     "text": [
      "Epoch 9 end: 1.6508309841156006, TRAIN MSE is: 1234.0281982421875\n",
      "Validation loss: 195495.7343750 - MSE score: 935.3863525\n",
      "Validation pearson is: nan\n",
      "Validation r2_score is: -0.04214544155932831\n",
      "-------------------------\n"
     ]
    },
    {
     "name": "stderr",
     "output_type": "stream",
     "text": [
      "/home/mbosnjak/.conda/envs/pero/lib/python3.7/site-packages/scipy/stats/stats.py:3399: PearsonRConstantInputWarning: An input array is constant; the correlation coefficent is not defined.\n",
      "  warnings.warn(PearsonRConstantInputWarning())\n"
     ]
    },
    {
     "name": "stdout",
     "output_type": "stream",
     "text": [
      "Epoch 10 end: 1.7647809982299805, TRAIN MSE is: 1203.38330078125\n",
      "Validation loss: 193982.7812500 - MSE score: 928.1472778\n",
      "Validation pearson is: nan\n",
      "Validation r2_score is: -0.03408017019819698\n",
      "-------------------------\n"
     ]
    },
    {
     "name": "stderr",
     "output_type": "stream",
     "text": [
      "/home/mbosnjak/.conda/envs/pero/lib/python3.7/site-packages/scipy/stats/stats.py:3399: PearsonRConstantInputWarning: An input array is constant; the correlation coefficent is not defined.\n",
      "  warnings.warn(PearsonRConstantInputWarning())\n"
     ]
    },
    {
     "name": "stdout",
     "output_type": "stream",
     "text": [
      "Epoch 11 end: 1.7559502124786377, TRAIN MSE is: 1245.6356201171875\n",
      "Validation loss: 192371.2656250 - MSE score: 920.4367065\n",
      "Validation pearson is: nan\n",
      "Validation r2_score is: -0.025489528163993525\n",
      "-------------------------\n"
     ]
    },
    {
     "name": "stderr",
     "output_type": "stream",
     "text": [
      "/home/mbosnjak/.conda/envs/pero/lib/python3.7/site-packages/scipy/stats/stats.py:3399: PearsonRConstantInputWarning: An input array is constant; the correlation coefficent is not defined.\n",
      "  warnings.warn(PearsonRConstantInputWarning())\n"
     ]
    },
    {
     "name": "stdout",
     "output_type": "stream",
     "text": [
      "Epoch 12 end: 1.6815979480743408, TRAIN MSE is: 1269.7530517578125\n",
      "Validation loss: 191952.9843750 - MSE score: 918.4354248\n",
      "Validation pearson is: nan\n",
      "Validation r2_score is: -0.02325981416530798\n",
      "-------------------------\n"
     ]
    },
    {
     "name": "stderr",
     "output_type": "stream",
     "text": [
      "/home/mbosnjak/.conda/envs/pero/lib/python3.7/site-packages/scipy/stats/stats.py:3399: PearsonRConstantInputWarning: An input array is constant; the correlation coefficent is not defined.\n",
      "  warnings.warn(PearsonRConstantInputWarning())\n"
     ]
    },
    {
     "name": "stdout",
     "output_type": "stream",
     "text": [
      "Epoch 13 end: 1.6725292205810547, TRAIN MSE is: 1222.2532958984375\n",
      "Validation loss: 191420.5312500 - MSE score: 915.8876953\n",
      "Validation pearson is: nan\n",
      "Validation r2_score is: -0.020421359104251247\n",
      "-------------------------\n"
     ]
    },
    {
     "name": "stderr",
     "output_type": "stream",
     "text": [
      "/home/mbosnjak/.conda/envs/pero/lib/python3.7/site-packages/scipy/stats/stats.py:3399: PearsonRConstantInputWarning: An input array is constant; the correlation coefficent is not defined.\n",
      "  warnings.warn(PearsonRConstantInputWarning())\n"
     ]
    },
    {
     "name": "stdout",
     "output_type": "stream",
     "text": [
      "Epoch 14 end: 1.60988187789917, TRAIN MSE is: 1217.9888916015625\n",
      "Validation loss: 191718.4375000 - MSE score: 917.3131104\n",
      "Validation pearson is: nan\n",
      "Validation r2_score is: -0.02200941259795841\n",
      "-------------------------\n"
     ]
    },
    {
     "name": "stderr",
     "output_type": "stream",
     "text": [
      "/home/mbosnjak/.conda/envs/pero/lib/python3.7/site-packages/scipy/stats/stats.py:3399: PearsonRConstantInputWarning: An input array is constant; the correlation coefficent is not defined.\n",
      "  warnings.warn(PearsonRConstantInputWarning())\n"
     ]
    },
    {
     "name": "stdout",
     "output_type": "stream",
     "text": [
      "Epoch 15 end: 1.6276495456695557, TRAIN MSE is: 1240.7919921875\n",
      "Validation loss: 191526.3750000 - MSE score: 916.3941650\n",
      "Validation pearson is: nan\n",
      "Validation r2_score is: -0.020985673819325035\n",
      "-------------------------\n"
     ]
    },
    {
     "name": "stderr",
     "output_type": "stream",
     "text": [
      "/home/mbosnjak/.conda/envs/pero/lib/python3.7/site-packages/scipy/stats/stats.py:3399: PearsonRConstantInputWarning: An input array is constant; the correlation coefficent is not defined.\n",
      "  warnings.warn(PearsonRConstantInputWarning())\n"
     ]
    },
    {
     "name": "stdout",
     "output_type": "stream",
     "text": [
      "Epoch 16 end: 1.6654925346374512, TRAIN MSE is: 1172.372802734375\n",
      "Validation loss: 191438.1718750 - MSE score: 915.9720459\n",
      "Validation pearson is: nan\n",
      "Validation r2_score is: -0.02051538454805324\n",
      "-------------------------\n"
     ]
    },
    {
     "name": "stderr",
     "output_type": "stream",
     "text": [
      "/home/mbosnjak/.conda/envs/pero/lib/python3.7/site-packages/scipy/stats/stats.py:3399: PearsonRConstantInputWarning: An input array is constant; the correlation coefficent is not defined.\n",
      "  warnings.warn(PearsonRConstantInputWarning())\n"
     ]
    },
    {
     "name": "stdout",
     "output_type": "stream",
     "text": [
      "Epoch 17 end: 1.7393145561218262, TRAIN MSE is: 1190.79638671875\n",
      "Validation loss: 191433.6250000 - MSE score: 915.9503784\n",
      "Validation pearson is: nan\n",
      "Validation r2_score is: -0.020491212374613932\n",
      "-------------------------\n"
     ]
    },
    {
     "name": "stderr",
     "output_type": "stream",
     "text": [
      "/home/mbosnjak/.conda/envs/pero/lib/python3.7/site-packages/scipy/stats/stats.py:3399: PearsonRConstantInputWarning: An input array is constant; the correlation coefficent is not defined.\n",
      "  warnings.warn(PearsonRConstantInputWarning())\n"
     ]
    },
    {
     "name": "stdout",
     "output_type": "stream",
     "text": [
      "Epoch 18 end: 1.6690938472747803, TRAIN MSE is: 1135.275634765625\n",
      "Validation loss: 191190.3906250 - MSE score: 914.7866821\n",
      "Validation pearson is: nan\n",
      "Validation r2_score is: -0.019194653039169784\n",
      "-------------------------\n"
     ]
    },
    {
     "name": "stderr",
     "output_type": "stream",
     "text": [
      "/home/mbosnjak/.conda/envs/pero/lib/python3.7/site-packages/scipy/stats/stats.py:3399: PearsonRConstantInputWarning: An input array is constant; the correlation coefficent is not defined.\n",
      "  warnings.warn(PearsonRConstantInputWarning())\n"
     ]
    },
    {
     "name": "stdout",
     "output_type": "stream",
     "text": [
      "Epoch 19 end: 1.7489428520202637, TRAIN MSE is: 1218.1019287109375\n",
      "Validation loss: 190572.6406250 - MSE score: 911.8308105\n",
      "Validation pearson is: nan\n",
      "Validation r2_score is: -0.01590147058143976\n",
      "-------------------------\n"
     ]
    },
    {
     "name": "stderr",
     "output_type": "stream",
     "text": [
      "/home/mbosnjak/.conda/envs/pero/lib/python3.7/site-packages/scipy/stats/stats.py:3399: PearsonRConstantInputWarning: An input array is constant; the correlation coefficent is not defined.\n",
      "  warnings.warn(PearsonRConstantInputWarning())\n"
     ]
    },
    {
     "name": "stdout",
     "output_type": "stream",
     "text": [
      "Epoch 20 end: 1.6355090141296387, TRAIN MSE is: 1153.3746337890625\n",
      "Validation loss: 190567.5312500 - MSE score: 911.8063965\n",
      "Validation pearson is: nan\n",
      "Validation r2_score is: -0.015874215664306135\n",
      "-------------------------\n"
     ]
    },
    {
     "name": "stderr",
     "output_type": "stream",
     "text": [
      "/home/mbosnjak/.conda/envs/pero/lib/python3.7/site-packages/scipy/stats/stats.py:3399: PearsonRConstantInputWarning: An input array is constant; the correlation coefficent is not defined.\n",
      "  warnings.warn(PearsonRConstantInputWarning())\n"
     ]
    },
    {
     "name": "stdout",
     "output_type": "stream",
     "text": [
      "Epoch 21 end: 1.7312352657318115, TRAIN MSE is: 1217.0093994140625\n",
      "Validation loss: 190874.5468750 - MSE score: 913.2752686\n",
      "Validation pearson is: nan\n",
      "Validation r2_score is: -0.017510795236823196\n",
      "-------------------------\n"
     ]
    },
    {
     "name": "stderr",
     "output_type": "stream",
     "text": [
      "/home/mbosnjak/.conda/envs/pero/lib/python3.7/site-packages/scipy/stats/stats.py:3399: PearsonRConstantInputWarning: An input array is constant; the correlation coefficent is not defined.\n",
      "  warnings.warn(PearsonRConstantInputWarning())\n"
     ]
    },
    {
     "name": "stdout",
     "output_type": "stream",
     "text": [
      "Epoch 22 end: 1.6748790740966797, TRAIN MSE is: 1141.328857421875\n",
      "Validation loss: 190758.4218750 - MSE score: 912.7197876\n",
      "Validation pearson is: nan\n",
      "Validation r2_score is: -0.016891855074866013\n",
      "-------------------------\n"
     ]
    },
    {
     "name": "stderr",
     "output_type": "stream",
     "text": [
      "/home/mbosnjak/.conda/envs/pero/lib/python3.7/site-packages/scipy/stats/stats.py:3399: PearsonRConstantInputWarning: An input array is constant; the correlation coefficent is not defined.\n",
      "  warnings.warn(PearsonRConstantInputWarning())\n"
     ]
    },
    {
     "name": "stdout",
     "output_type": "stream",
     "text": [
      "Epoch 23 end: 1.7559394836425781, TRAIN MSE is: 1224.3267822265625\n",
      "Validation loss: 190924.3906250 - MSE score: 913.5138550\n",
      "Validation pearson is: nan\n",
      "Validation r2_score is: -0.01777659263546849\n",
      "-------------------------\n"
     ]
    },
    {
     "name": "stderr",
     "output_type": "stream",
     "text": [
      "/home/mbosnjak/.conda/envs/pero/lib/python3.7/site-packages/scipy/stats/stats.py:3399: PearsonRConstantInputWarning: An input array is constant; the correlation coefficent is not defined.\n",
      "  warnings.warn(PearsonRConstantInputWarning())\n"
     ]
    },
    {
     "name": "stdout",
     "output_type": "stream",
     "text": [
      "Epoch 24 end: 1.6835052967071533, TRAIN MSE is: 1132.9715576171875\n",
      "Validation loss: 191017.4062500 - MSE score: 913.9589844\n",
      "Validation pearson is: nan\n",
      "Validation r2_score is: -0.018272471543721247\n",
      "-------------------------\n"
     ]
    },
    {
     "name": "stderr",
     "output_type": "stream",
     "text": [
      "/home/mbosnjak/.conda/envs/pero/lib/python3.7/site-packages/scipy/stats/stats.py:3399: PearsonRConstantInputWarning: An input array is constant; the correlation coefficent is not defined.\n",
      "  warnings.warn(PearsonRConstantInputWarning())\n"
     ]
    },
    {
     "name": "stdout",
     "output_type": "stream",
     "text": [
      "Epoch 25 end: 1.6338536739349365, TRAIN MSE is: 1128.6182861328125\n",
      "Validation loss: 190813.8750000 - MSE score: 912.9850464\n",
      "Validation pearson is: nan\n",
      "Validation r2_score is: -0.017187434749991626\n",
      "-------------------------\n"
     ]
    },
    {
     "name": "stderr",
     "output_type": "stream",
     "text": [
      "/home/mbosnjak/.conda/envs/pero/lib/python3.7/site-packages/scipy/stats/stats.py:3399: PearsonRConstantInputWarning: An input array is constant; the correlation coefficent is not defined.\n",
      "  warnings.warn(PearsonRConstantInputWarning())\n"
     ]
    },
    {
     "name": "stdout",
     "output_type": "stream",
     "text": [
      "Epoch 26 end: 1.6709911823272705, TRAIN MSE is: 1160.0379638671875\n",
      "Validation loss: 191071.5000000 - MSE score: 914.2177734\n",
      "Validation pearson is: nan\n",
      "Validation r2_score is: -0.018560855928725584\n",
      "-------------------------\n",
      "Starting training for: {'learning_rate': 0.3, 'act_func': 'sig', 'batch_size': 64, 'kernels_count': 8, 'sentences_count': 2, 'hidden_layers': [8, 6, 4], 'dropout': 0.5, 'alpha': 0.1978, 'regularization_type': 'None'}\n",
      "-------------------------\n"
     ]
    },
    {
     "name": "stderr",
     "output_type": "stream",
     "text": [
      "/home/mbosnjak/.conda/envs/pero/lib/python3.7/site-packages/scipy/stats/stats.py:3399: PearsonRConstantInputWarning: An input array is constant; the correlation coefficent is not defined.\n",
      "  warnings.warn(PearsonRConstantInputWarning())\n"
     ]
    },
    {
     "name": "stdout",
     "output_type": "stream",
     "text": [
      "Epoch 0 end: 1.7592697143554688, TRAIN MSE is: 2407.562744140625\n",
      "Validation loss: 343223.9687500 - MSE score: 1642.2199707\n",
      "Validation pearson is: nan\n",
      "Validation r2_score is: -0.8296526224423391\n",
      "-------------------------\n"
     ]
    },
    {
     "name": "stderr",
     "output_type": "stream",
     "text": [
      "/home/mbosnjak/.conda/envs/pero/lib/python3.7/site-packages/scipy/stats/stats.py:3399: PearsonRConstantInputWarning: An input array is constant; the correlation coefficent is not defined.\n",
      "  warnings.warn(PearsonRConstantInputWarning())\n"
     ]
    },
    {
     "name": "stdout",
     "output_type": "stream",
     "text": [
      "Epoch 1 end: 1.682750940322876, TRAIN MSE is: 1522.7552490234375\n",
      "Validation loss: 205426.1875000 - MSE score: 982.9003906\n",
      "Validation pearson is: nan\n",
      "Validation r2_score is: -0.0950824727815367\n",
      "-------------------------\n"
     ]
    },
    {
     "name": "stderr",
     "output_type": "stream",
     "text": [
      "/home/mbosnjak/.conda/envs/pero/lib/python3.7/site-packages/scipy/stats/stats.py:3399: PearsonRConstantInputWarning: An input array is constant; the correlation coefficent is not defined.\n",
      "  warnings.warn(PearsonRConstantInputWarning())\n"
     ]
    },
    {
     "name": "stdout",
     "output_type": "stream",
     "text": [
      "Epoch 2 end: 1.6988389492034912, TRAIN MSE is: 1197.3756103515625\n",
      "Validation loss: 187795.5625000 - MSE score: 898.5432739\n",
      "Validation pearson is: nan\n",
      "Validation r2_score is: -0.0010973960551590167\n",
      "-------------------------\n"
     ]
    },
    {
     "name": "stderr",
     "output_type": "stream",
     "text": [
      "/home/mbosnjak/.conda/envs/pero/lib/python3.7/site-packages/scipy/stats/stats.py:3399: PearsonRConstantInputWarning: An input array is constant; the correlation coefficent is not defined.\n",
      "  warnings.warn(PearsonRConstantInputWarning())\n"
     ]
    },
    {
     "name": "stdout",
     "output_type": "stream",
     "text": [
      "Epoch 3 end: 1.7047908306121826, TRAIN MSE is: 1261.2642822265625\n",
      "Validation loss: 188537.6250000 - MSE score: 902.0938721\n",
      "Validation pearson is: nan\n",
      "Validation r2_score is: -0.005053197433581902\n",
      "-------------------------\n"
     ]
    },
    {
     "name": "stderr",
     "output_type": "stream",
     "text": [
      "/home/mbosnjak/.conda/envs/pero/lib/python3.7/site-packages/scipy/stats/stats.py:3399: PearsonRConstantInputWarning: An input array is constant; the correlation coefficent is not defined.\n",
      "  warnings.warn(PearsonRConstantInputWarning())\n"
     ]
    },
    {
     "name": "stdout",
     "output_type": "stream",
     "text": [
      "Epoch 4 end: 1.696256160736084, TRAIN MSE is: 1180.3548583984375\n",
      "Validation loss: 192962.3281250 - MSE score: 923.2646484\n",
      "Validation pearson is: nan\n",
      "Validation r2_score is: -0.028640320655938467\n",
      "-------------------------\n"
     ]
    },
    {
     "name": "stderr",
     "output_type": "stream",
     "text": [
      "/home/mbosnjak/.conda/envs/pero/lib/python3.7/site-packages/scipy/stats/stats.py:3399: PearsonRConstantInputWarning: An input array is constant; the correlation coefficent is not defined.\n",
      "  warnings.warn(PearsonRConstantInputWarning())\n"
     ]
    },
    {
     "name": "stdout",
     "output_type": "stream",
     "text": [
      "Epoch 5 end: 1.6769320964813232, TRAIN MSE is: 1230.2418212890625\n",
      "Validation loss: 193689.9843750 - MSE score: 926.7463989\n",
      "Validation pearson is: nan\n",
      "Validation r2_score is: -0.03251936449717041\n",
      "-------------------------\n"
     ]
    },
    {
     "name": "stderr",
     "output_type": "stream",
     "text": [
      "/home/mbosnjak/.conda/envs/pero/lib/python3.7/site-packages/scipy/stats/stats.py:3399: PearsonRConstantInputWarning: An input array is constant; the correlation coefficent is not defined.\n",
      "  warnings.warn(PearsonRConstantInputWarning())\n"
     ]
    },
    {
     "name": "stdout",
     "output_type": "stream",
     "text": [
      "Epoch 6 end: 1.673743486404419, TRAIN MSE is: 1193.129638671875\n",
      "Validation loss: 190799.4375000 - MSE score: 912.9160156\n",
      "Validation pearson is: nan\n",
      "Validation r2_score is: -0.017110511190188138\n",
      "-------------------------\n"
     ]
    },
    {
     "name": "stderr",
     "output_type": "stream",
     "text": [
      "/home/mbosnjak/.conda/envs/pero/lib/python3.7/site-packages/scipy/stats/stats.py:3399: PearsonRConstantInputWarning: An input array is constant; the correlation coefficent is not defined.\n",
      "  warnings.warn(PearsonRConstantInputWarning())\n"
     ]
    },
    {
     "name": "stdout",
     "output_type": "stream",
     "text": [
      "Epoch 7 end: 1.750551700592041, TRAIN MSE is: 1154.30908203125\n",
      "Validation loss: 190116.7812500 - MSE score: 909.6496582\n",
      "Validation pearson is: nan\n",
      "Validation r2_score is: -0.0134713900523733\n",
      "-------------------------\n"
     ]
    },
    {
     "name": "stderr",
     "output_type": "stream",
     "text": [
      "/home/mbosnjak/.conda/envs/pero/lib/python3.7/site-packages/scipy/stats/stats.py:3399: PearsonRConstantInputWarning: An input array is constant; the correlation coefficent is not defined.\n",
      "  warnings.warn(PearsonRConstantInputWarning())\n"
     ]
    },
    {
     "name": "stdout",
     "output_type": "stream",
     "text": [
      "Epoch 8 end: 1.8616993427276611, TRAIN MSE is: 1171.9542236328125\n",
      "Validation loss: 191875.6406250 - MSE score: 918.0652466\n",
      "Validation pearson is: nan\n",
      "Validation r2_score is: -0.022847453129568374\n",
      "-------------------------\n",
      "Apply best model to test for ['agreeableness'] on fold 0.\n"
     ]
    },
    {
     "name": "stderr",
     "output_type": "stream",
     "text": [
      "/home/mbosnjak/.conda/envs/pero/lib/python3.7/site-packages/scipy/stats/stats.py:3399: PearsonRConstantInputWarning: An input array is constant; the correlation coefficent is not defined.\n",
      "  warnings.warn(PearsonRConstantInputWarning())\n"
     ]
    },
    {
     "name": "stdout",
     "output_type": "stream",
     "text": [
      "Test loss: 233732.95312 - MSE score: 885.3524170 \n",
      "Test pearson is: nan\n",
      "Test r2_score is: -0.019967783988472654\n",
      "-------------------------\n",
      "+++ Finished with training and testing model for ['agreeableness'] on fold 0. +++\n",
      "-------------------------\n",
      "-------------------------\n",
      "Processing fold: 0 and target: ['openness']\n",
      "-------------------------\n",
      "Train size: 826\n",
      "Validation size: 207\n",
      "Test size: 259\n",
      "-------------------------\n",
      "Starting training for: {'learning_rate': 0.01, 'act_func': 'sig', 'batch_size': 64, 'kernels_count': 8, 'sentences_count': 2, 'hidden_layers': [8, 6, 4], 'dropout': 0.5, 'alpha': 0.1978, 'regularization_type': 'None'}\n",
      "-------------------------\n",
      "Epoch 0 end: 1.9721238613128662, TRAIN MSE is: 4651.31396484375\n",
      "Validation loss: 960926.5000000 - MSE score: 4642.1572266\n",
      "Validation pearson is: 0.07701905955184032\n",
      "Validation r2_score is: -5.470793452426945\n",
      "-------------------------\n",
      "Epoch 1 end: 1.72660493850708, TRAIN MSE is: 4594.74072265625\n",
      "Validation loss: 949472.1250000 - MSE score: 4586.8217773\n",
      "Validation pearson is: 0.08725156980905824\n",
      "Validation r2_score is: -5.393660954889654\n",
      "-------------------------\n",
      "Epoch 2 end: 1.6849339008331299, TRAIN MSE is: 4539.0751953125\n",
      "Validation loss: 936986.5000000 - MSE score: 4526.5048828\n",
      "Validation pearson is: 0.09413542386466564\n",
      "Validation r2_score is: -5.3095836238954375\n",
      "-------------------------\n",
      "Epoch 3 end: 1.549950122833252, TRAIN MSE is: 4482.05615234375\n",
      "Validation loss: 923460.0000000 - MSE score: 4461.1591797\n",
      "Validation pearson is: 0.0873889705945376\n",
      "Validation r2_score is: -5.218497729178337\n",
      "-------------------------\n",
      "Epoch 4 end: 1.817168951034546, TRAIN MSE is: 4425.57373046875\n",
      "Validation loss: 910677.5000000 - MSE score: 4399.4082031\n",
      "Validation pearson is: 0.08478537265394992\n",
      "Validation r2_score is: -5.132421387291213\n",
      "-------------------------\n",
      "Epoch 5 end: 1.6426215171813965, TRAIN MSE is: 4361.95263671875\n",
      "Validation loss: 898662.1875000 - MSE score: 4341.3627930\n",
      "Validation pearson is: 0.07582233294706531\n",
      "Validation r2_score is: -5.051511049626203\n",
      "-------------------------\n",
      "Epoch 6 end: 1.8693156242370605, TRAIN MSE is: 4303.61767578125\n",
      "Validation loss: 886539.3750000 - MSE score: 4282.7988281\n",
      "Validation pearson is: 0.0746750879940611\n",
      "Validation r2_score is: -4.969877589327909\n",
      "-------------------------\n",
      "Epoch 7 end: 1.7442607879638672, TRAIN MSE is: 4236.37744140625\n",
      "Validation loss: 872590.2500000 - MSE score: 4215.4116211\n",
      "Validation pearson is: 0.08693366802823588\n",
      "Validation r2_score is: -4.875945151097326\n",
      "-------------------------\n",
      "Epoch 8 end: 1.7798197269439697, TRAIN MSE is: 4150.947265625\n",
      "Validation loss: 852280.3125000 - MSE score: 4117.2963867\n",
      "Validation pearson is: 0.09422696442218512\n",
      "Validation r2_score is: -4.739179782823636\n",
      "-------------------------\n",
      "Epoch 9 end: 1.6402971744537354, TRAIN MSE is: 4049.18310546875\n",
      "Validation loss: 827869.0625000 - MSE score: 3999.3671875\n",
      "Validation pearson is: 0.07932217008351455\n",
      "Validation r2_score is: -4.574796615574743\n",
      "-------------------------\n",
      "Epoch 10 end: 1.6486520767211914, TRAIN MSE is: 3953.896484375\n",
      "Validation loss: 804993.8125000 - MSE score: 3888.8593750\n",
      "Validation pearson is: 0.11530614135001849\n",
      "Validation r2_score is: -4.42075684050244\n",
      "-------------------------\n",
      "Epoch 11 end: 1.6836185455322266, TRAIN MSE is: 3845.947998046875\n",
      "Validation loss: 784557.5000000 - MSE score: 3790.1325684\n",
      "Validation pearson is: 0.07937516994233985\n",
      "Validation r2_score is: -4.283139860770307\n",
      "-------------------------\n",
      "Epoch 12 end: 1.8760268688201904, TRAIN MSE is: 3761.6650390625\n",
      "Validation loss: 765426.3750000 - MSE score: 3697.7116699\n",
      "Validation pearson is: 0.00029834648177024664\n",
      "Validation r2_score is: -4.1543126816015645\n",
      "-------------------------\n",
      "Epoch 13 end: 1.7671794891357422, TRAIN MSE is: 3649.67578125\n",
      "Validation loss: 747312.8125000 - MSE score: 3610.2067871\n",
      "Validation pearson is: 0.07851084195711086\n",
      "Validation r2_score is: -4.032337779462999\n",
      "-------------------------\n"
     ]
    },
    {
     "name": "stderr",
     "output_type": "stream",
     "text": [
      "/home/mbosnjak/.conda/envs/pero/lib/python3.7/site-packages/scipy/stats/stats.py:3399: PearsonRConstantInputWarning: An input array is constant; the correlation coefficent is not defined.\n",
      "  warnings.warn(PearsonRConstantInputWarning())\n"
     ]
    },
    {
     "name": "stdout",
     "output_type": "stream",
     "text": [
      "Epoch 14 end: 1.8713228702545166, TRAIN MSE is: 3586.635009765625\n",
      "Validation loss: 730232.6250000 - MSE score: 3527.6938477\n",
      "Validation pearson is: nan\n",
      "Validation r2_score is: -3.9173215899387994\n",
      "-------------------------\n"
     ]
    },
    {
     "name": "stderr",
     "output_type": "stream",
     "text": [
      "/home/mbosnjak/.conda/envs/pero/lib/python3.7/site-packages/scipy/stats/stats.py:3399: PearsonRConstantInputWarning: An input array is constant; the correlation coefficent is not defined.\n",
      "  warnings.warn(PearsonRConstantInputWarning())\n"
     ]
    },
    {
     "name": "stdout",
     "output_type": "stream",
     "text": [
      "Epoch 15 end: 1.7981107234954834, TRAIN MSE is: 3498.7099609375\n",
      "Validation loss: 714013.4375000 - MSE score: 3449.3403320\n",
      "Validation pearson is: nan\n",
      "Validation r2_score is: -3.808102874704554\n",
      "-------------------------\n"
     ]
    },
    {
     "name": "stderr",
     "output_type": "stream",
     "text": [
      "/home/mbosnjak/.conda/envs/pero/lib/python3.7/site-packages/scipy/stats/stats.py:3399: PearsonRConstantInputWarning: An input array is constant; the correlation coefficent is not defined.\n",
      "  warnings.warn(PearsonRConstantInputWarning())\n"
     ]
    },
    {
     "name": "stdout",
     "output_type": "stream",
     "text": [
      "Epoch 16 end: 1.7335386276245117, TRAIN MSE is: 3460.37158203125\n",
      "Validation loss: 698566.9375000 - MSE score: 3374.7192383\n",
      "Validation pearson is: nan\n",
      "Validation r2_score is: -3.7040875486361875\n",
      "-------------------------\n",
      "Epoch 17 end: 1.69124436378479, TRAIN MSE is: 3362.4521484375\n",
      "Validation loss: 683857.7500000 - MSE score: 3303.6606445\n",
      "Validation pearson is: 0.07851084195711086\n",
      "Validation r2_score is: -3.605037325751251\n",
      "-------------------------\n"
     ]
    },
    {
     "name": "stderr",
     "output_type": "stream",
     "text": [
      "/home/mbosnjak/.conda/envs/pero/lib/python3.7/site-packages/scipy/stats/stats.py:3399: PearsonRConstantInputWarning: An input array is constant; the correlation coefficent is not defined.\n",
      "  warnings.warn(PearsonRConstantInputWarning())\n"
     ]
    },
    {
     "name": "stdout",
     "output_type": "stream",
     "text": [
      "Epoch 18 end: 1.5981898307800293, TRAIN MSE is: 3291.547119140625\n",
      "Validation loss: 669736.8750000 - MSE score: 3235.4438477\n",
      "Validation pearson is: nan\n",
      "Validation r2_score is: -3.509948238133491\n",
      "-------------------------\n",
      "Epoch 19 end: 1.6047120094299316, TRAIN MSE is: 3228.52783203125\n",
      "Validation loss: 655863.7500000 - MSE score: 3168.4243164\n",
      "Validation pearson is: 0.03901119266589803\n",
      "Validation r2_score is: -3.416528277728551\n",
      "-------------------------\n"
     ]
    },
    {
     "name": "stderr",
     "output_type": "stream",
     "text": [
      "/home/mbosnjak/.conda/envs/pero/lib/python3.7/site-packages/scipy/stats/stats.py:3399: PearsonRConstantInputWarning: An input array is constant; the correlation coefficent is not defined.\n",
      "  warnings.warn(PearsonRConstantInputWarning())\n"
     ]
    },
    {
     "name": "stdout",
     "output_type": "stream",
     "text": [
      "Epoch 20 end: 1.6297123432159424, TRAIN MSE is: 3154.61572265625\n",
      "Validation loss: 642270.3750000 - MSE score: 3102.7553711\n",
      "Validation pearson is: nan\n",
      "Validation r2_score is: -3.3249917772673845\n",
      "-------------------------\n"
     ]
    },
    {
     "name": "stderr",
     "output_type": "stream",
     "text": [
      "/home/mbosnjak/.conda/envs/pero/lib/python3.7/site-packages/scipy/stats/stats.py:3399: PearsonRConstantInputWarning: An input array is constant; the correlation coefficent is not defined.\n",
      "  warnings.warn(PearsonRConstantInputWarning())\n"
     ]
    },
    {
     "name": "stdout",
     "output_type": "stream",
     "text": [
      "Epoch 21 end: 1.7035717964172363, TRAIN MSE is: 3091.284912109375\n",
      "Validation loss: 629253.8125000 - MSE score: 3039.8735352\n",
      "Validation pearson is: nan\n",
      "Validation r2_score is: -3.237339242445638\n",
      "-------------------------\n"
     ]
    },
    {
     "name": "stderr",
     "output_type": "stream",
     "text": [
      "/home/mbosnjak/.conda/envs/pero/lib/python3.7/site-packages/scipy/stats/stats.py:3399: PearsonRConstantInputWarning: An input array is constant; the correlation coefficent is not defined.\n",
      "  warnings.warn(PearsonRConstantInputWarning())\n"
     ]
    },
    {
     "name": "stdout",
     "output_type": "stream",
     "text": [
      "Epoch 22 end: 1.652855396270752, TRAIN MSE is: 3039.49267578125\n",
      "Validation loss: 616536.0000000 - MSE score: 2978.4345703\n",
      "Validation pearson is: nan\n",
      "Validation r2_score is: -3.1516984384393973\n",
      "-------------------------\n"
     ]
    },
    {
     "name": "stderr",
     "output_type": "stream",
     "text": [
      "/home/mbosnjak/.conda/envs/pero/lib/python3.7/site-packages/scipy/stats/stats.py:3399: PearsonRConstantInputWarning: An input array is constant; the correlation coefficent is not defined.\n",
      "  warnings.warn(PearsonRConstantInputWarning())\n"
     ]
    },
    {
     "name": "stdout",
     "output_type": "stream",
     "text": [
      "Epoch 23 end: 1.7456812858581543, TRAIN MSE is: 2956.98779296875\n",
      "Validation loss: 604199.6875000 - MSE score: 2918.8391113\n",
      "Validation pearson is: nan\n",
      "Validation r2_score is: -3.0686269823710397\n",
      "-------------------------\n"
     ]
    },
    {
     "name": "stderr",
     "output_type": "stream",
     "text": [
      "/home/mbosnjak/.conda/envs/pero/lib/python3.7/site-packages/scipy/stats/stats.py:3399: PearsonRConstantInputWarning: An input array is constant; the correlation coefficent is not defined.\n",
      "  warnings.warn(PearsonRConstantInputWarning())\n"
     ]
    },
    {
     "name": "stdout",
     "output_type": "stream",
     "text": [
      "Epoch 24 end: 1.6157078742980957, TRAIN MSE is: 2940.314697265625\n",
      "Validation loss: 592158.5000000 - MSE score: 2860.6691895\n",
      "Validation pearson is: nan\n",
      "Validation r2_score is: -2.98754292089665\n",
      "-------------------------\n"
     ]
    },
    {
     "name": "stderr",
     "output_type": "stream",
     "text": [
      "/home/mbosnjak/.conda/envs/pero/lib/python3.7/site-packages/scipy/stats/stats.py:3399: PearsonRConstantInputWarning: An input array is constant; the correlation coefficent is not defined.\n",
      "  warnings.warn(PearsonRConstantInputWarning())\n"
     ]
    },
    {
     "name": "stdout",
     "output_type": "stream",
     "text": [
      "Epoch 25 end: 1.6558332443237305, TRAIN MSE is: 2870.11279296875\n",
      "Validation loss: 580607.5625000 - MSE score: 2804.8676758\n",
      "Validation pearson is: nan\n",
      "Validation r2_score is: -2.9097598673286122\n",
      "-------------------------\n"
     ]
    },
    {
     "name": "stderr",
     "output_type": "stream",
     "text": [
      "/home/mbosnjak/.conda/envs/pero/lib/python3.7/site-packages/scipy/stats/stats.py:3399: PearsonRConstantInputWarning: An input array is constant; the correlation coefficent is not defined.\n",
      "  warnings.warn(PearsonRConstantInputWarning())\n"
     ]
    },
    {
     "name": "stdout",
     "output_type": "stream",
     "text": [
      "Epoch 26 end: 1.6492054462432861, TRAIN MSE is: 2799.149169921875\n",
      "Validation loss: 569185.2500000 - MSE score: 2749.6872559\n",
      "Validation pearson is: nan\n",
      "Validation r2_score is: -2.8328427373563074\n",
      "-------------------------\n"
     ]
    },
    {
     "name": "stderr",
     "output_type": "stream",
     "text": [
      "/home/mbosnjak/.conda/envs/pero/lib/python3.7/site-packages/scipy/stats/stats.py:3399: PearsonRConstantInputWarning: An input array is constant; the correlation coefficent is not defined.\n",
      "  warnings.warn(PearsonRConstantInputWarning())\n"
     ]
    },
    {
     "name": "stdout",
     "output_type": "stream",
     "text": [
      "Epoch 27 end: 1.617164134979248, TRAIN MSE is: 2809.09326171875\n",
      "Validation loss: 558215.0000000 - MSE score: 2696.6909180\n",
      "Validation pearson is: nan\n",
      "Validation r2_score is: -2.7589700151780665\n",
      "-------------------------\n"
     ]
    },
    {
     "name": "stderr",
     "output_type": "stream",
     "text": [
      "/home/mbosnjak/.conda/envs/pero/lib/python3.7/site-packages/scipy/stats/stats.py:3399: PearsonRConstantInputWarning: An input array is constant; the correlation coefficent is not defined.\n",
      "  warnings.warn(PearsonRConstantInputWarning())\n"
     ]
    },
    {
     "name": "stdout",
     "output_type": "stream",
     "text": [
      "Epoch 28 end: 1.6365814208984375, TRAIN MSE is: 2704.82421875\n",
      "Validation loss: 547453.0000000 - MSE score: 2644.7004395\n",
      "Validation pearson is: nan\n",
      "Validation r2_score is: -2.6864998031988523\n",
      "-------------------------\n"
     ]
    },
    {
     "name": "stderr",
     "output_type": "stream",
     "text": [
      "/home/mbosnjak/.conda/envs/pero/lib/python3.7/site-packages/scipy/stats/stats.py:3399: PearsonRConstantInputWarning: An input array is constant; the correlation coefficent is not defined.\n",
      "  warnings.warn(PearsonRConstantInputWarning())\n"
     ]
    },
    {
     "name": "stdout",
     "output_type": "stream",
     "text": [
      "Epoch 29 end: 1.6323552131652832, TRAIN MSE is: 2644.64404296875\n",
      "Validation loss: 537022.2500000 - MSE score: 2594.3110352\n",
      "Validation pearson is: nan\n",
      "Validation r2_score is: -2.6162604491333026\n",
      "-------------------------\n"
     ]
    },
    {
     "name": "stderr",
     "output_type": "stream",
     "text": [
      "/home/mbosnjak/.conda/envs/pero/lib/python3.7/site-packages/scipy/stats/stats.py:3399: PearsonRConstantInputWarning: An input array is constant; the correlation coefficent is not defined.\n",
      "  warnings.warn(PearsonRConstantInputWarning())\n"
     ]
    },
    {
     "name": "stdout",
     "output_type": "stream",
     "text": [
      "Epoch 30 end: 1.7944798469543457, TRAIN MSE is: 2639.101318359375\n",
      "Validation loss: 526901.8125000 - MSE score: 2545.4196777\n",
      "Validation pearson is: nan\n",
      "Validation r2_score is: -2.5481100053747876\n",
      "-------------------------\n"
     ]
    },
    {
     "name": "stderr",
     "output_type": "stream",
     "text": [
      "/home/mbosnjak/.conda/envs/pero/lib/python3.7/site-packages/scipy/stats/stats.py:3399: PearsonRConstantInputWarning: An input array is constant; the correlation coefficent is not defined.\n",
      "  warnings.warn(PearsonRConstantInputWarning())\n"
     ]
    },
    {
     "name": "stdout",
     "output_type": "stream",
     "text": [
      "Epoch 31 end: 1.6986753940582275, TRAIN MSE is: 2547.711669921875\n",
      "Validation loss: 516865.9375000 - MSE score: 2496.9367676\n",
      "Validation pearson is: nan\n",
      "Validation r2_score is: -2.4805291362142836\n",
      "-------------------------\n"
     ]
    },
    {
     "name": "stderr",
     "output_type": "stream",
     "text": [
      "/home/mbosnjak/.conda/envs/pero/lib/python3.7/site-packages/scipy/stats/stats.py:3399: PearsonRConstantInputWarning: An input array is constant; the correlation coefficent is not defined.\n",
      "  warnings.warn(PearsonRConstantInputWarning())\n"
     ]
    },
    {
     "name": "stdout",
     "output_type": "stream",
     "text": [
      "Epoch 32 end: 1.7976884841918945, TRAIN MSE is: 2533.720703125\n",
      "Validation loss: 507166.9375000 - MSE score: 2450.0812988\n",
      "Validation pearson is: nan\n",
      "Validation r2_score is: -2.4152167609287827\n",
      "-------------------------\n"
     ]
    },
    {
     "name": "stderr",
     "output_type": "stream",
     "text": [
      "/home/mbosnjak/.conda/envs/pero/lib/python3.7/site-packages/scipy/stats/stats.py:3399: PearsonRConstantInputWarning: An input array is constant; the correlation coefficent is not defined.\n",
      "  warnings.warn(PearsonRConstantInputWarning())\n"
     ]
    },
    {
     "name": "stdout",
     "output_type": "stream",
     "text": [
      "Epoch 33 end: 1.7598600387573242, TRAIN MSE is: 2499.45556640625\n",
      "Validation loss: 497828.0937500 - MSE score: 2404.9665527\n",
      "Validation pearson is: nan\n",
      "Validation r2_score is: -2.3523299583583666\n",
      "-------------------------\n"
     ]
    },
    {
     "name": "stderr",
     "output_type": "stream",
     "text": [
      "/home/mbosnjak/.conda/envs/pero/lib/python3.7/site-packages/scipy/stats/stats.py:3399: PearsonRConstantInputWarning: An input array is constant; the correlation coefficent is not defined.\n",
      "  warnings.warn(PearsonRConstantInputWarning())\n"
     ]
    },
    {
     "name": "stdout",
     "output_type": "stream",
     "text": [
      "Epoch 34 end: 1.6971771717071533, TRAIN MSE is: 2472.303466796875\n",
      "Validation loss: 488663.7500000 - MSE score: 2360.6943359\n",
      "Validation pearson is: nan\n",
      "Validation r2_score is: -2.2906183326770564\n",
      "-------------------------\n"
     ]
    },
    {
     "name": "stderr",
     "output_type": "stream",
     "text": [
      "/home/mbosnjak/.conda/envs/pero/lib/python3.7/site-packages/scipy/stats/stats.py:3399: PearsonRConstantInputWarning: An input array is constant; the correlation coefficent is not defined.\n",
      "  warnings.warn(PearsonRConstantInputWarning())\n"
     ]
    },
    {
     "name": "stdout",
     "output_type": "stream",
     "text": [
      "Epoch 35 end: 1.8137426376342773, TRAIN MSE is: 2437.321533203125\n",
      "Validation loss: 479754.5000000 - MSE score: 2317.6547852\n",
      "Validation pearson is: nan\n",
      "Validation r2_score is: -2.230624266943538\n",
      "-------------------------\n"
     ]
    },
    {
     "name": "stderr",
     "output_type": "stream",
     "text": [
      "/home/mbosnjak/.conda/envs/pero/lib/python3.7/site-packages/scipy/stats/stats.py:3399: PearsonRConstantInputWarning: An input array is constant; the correlation coefficent is not defined.\n",
      "  warnings.warn(PearsonRConstantInputWarning())\n"
     ]
    },
    {
     "name": "stdout",
     "output_type": "stream",
     "text": [
      "Epoch 36 end: 1.723557472229004, TRAIN MSE is: 2344.375244140625\n",
      "Validation loss: 470985.5625000 - MSE score: 2275.2927246\n",
      "Validation pearson is: nan\n",
      "Validation r2_score is: -2.1715750054661243\n",
      "-------------------------\n"
     ]
    },
    {
     "name": "stderr",
     "output_type": "stream",
     "text": [
      "/home/mbosnjak/.conda/envs/pero/lib/python3.7/site-packages/scipy/stats/stats.py:3399: PearsonRConstantInputWarning: An input array is constant; the correlation coefficent is not defined.\n",
      "  warnings.warn(PearsonRConstantInputWarning())\n"
     ]
    },
    {
     "name": "stdout",
     "output_type": "stream",
     "text": [
      "Epoch 37 end: 1.6650481224060059, TRAIN MSE is: 2298.45458984375\n",
      "Validation loss: 462349.5000000 - MSE score: 2233.5725098\n",
      "Validation pearson is: nan\n",
      "Validation r2_score is: -2.11342049488752\n",
      "-------------------------\n"
     ]
    },
    {
     "name": "stderr",
     "output_type": "stream",
     "text": [
      "/home/mbosnjak/.conda/envs/pero/lib/python3.7/site-packages/scipy/stats/stats.py:3399: PearsonRConstantInputWarning: An input array is constant; the correlation coefficent is not defined.\n",
      "  warnings.warn(PearsonRConstantInputWarning())\n"
     ]
    },
    {
     "name": "stdout",
     "output_type": "stream",
     "text": [
      "Epoch 38 end: 1.603158950805664, TRAIN MSE is: 2281.03369140625\n",
      "Validation loss: 454012.0000000 - MSE score: 2193.2949219\n",
      "Validation pearson is: nan\n",
      "Validation r2_score is: -2.057276637161032\n",
      "-------------------------\n"
     ]
    },
    {
     "name": "stderr",
     "output_type": "stream",
     "text": [
      "/home/mbosnjak/.conda/envs/pero/lib/python3.7/site-packages/scipy/stats/stats.py:3399: PearsonRConstantInputWarning: An input array is constant; the correlation coefficent is not defined.\n",
      "  warnings.warn(PearsonRConstantInputWarning())\n"
     ]
    },
    {
     "name": "stdout",
     "output_type": "stream",
     "text": [
      "Epoch 39 end: 1.7390611171722412, TRAIN MSE is: 2289.84130859375\n",
      "Validation loss: 445945.4375000 - MSE score: 2154.3256836\n",
      "Validation pearson is: nan\n",
      "Validation r2_score is: -2.002957078377278\n",
      "-------------------------\n"
     ]
    },
    {
     "name": "stderr",
     "output_type": "stream",
     "text": [
      "/home/mbosnjak/.conda/envs/pero/lib/python3.7/site-packages/scipy/stats/stats.py:3399: PearsonRConstantInputWarning: An input array is constant; the correlation coefficent is not defined.\n",
      "  warnings.warn(PearsonRConstantInputWarning())\n"
     ]
    },
    {
     "name": "stdout",
     "output_type": "stream",
     "text": [
      "Epoch 40 end: 1.7199833393096924, TRAIN MSE is: 2192.543701171875\n",
      "Validation loss: 437959.6875000 - MSE score: 2115.7473145\n",
      "Validation pearson is: nan\n",
      "Validation r2_score is: -1.9491815220605062\n",
      "-------------------------\n"
     ]
    },
    {
     "name": "stderr",
     "output_type": "stream",
     "text": [
      "/home/mbosnjak/.conda/envs/pero/lib/python3.7/site-packages/scipy/stats/stats.py:3399: PearsonRConstantInputWarning: An input array is constant; the correlation coefficent is not defined.\n",
      "  warnings.warn(PearsonRConstantInputWarning())\n"
     ]
    },
    {
     "name": "stdout",
     "output_type": "stream",
     "text": [
      "Epoch 41 end: 1.7433273792266846, TRAIN MSE is: 2168.973388671875\n",
      "Validation loss: 430175.3750000 - MSE score: 2078.1418457\n",
      "Validation pearson is: nan\n",
      "Validation r2_score is: -1.896762795208868\n",
      "-------------------------\n"
     ]
    },
    {
     "name": "stderr",
     "output_type": "stream",
     "text": [
      "/home/mbosnjak/.conda/envs/pero/lib/python3.7/site-packages/scipy/stats/stats.py:3399: PearsonRConstantInputWarning: An input array is constant; the correlation coefficent is not defined.\n",
      "  warnings.warn(PearsonRConstantInputWarning())\n"
     ]
    },
    {
     "name": "stdout",
     "output_type": "stream",
     "text": [
      "Epoch 42 end: 1.7516005039215088, TRAIN MSE is: 2156.62548828125\n",
      "Validation loss: 422640.2500000 - MSE score: 2041.7403564\n",
      "Validation pearson is: nan\n",
      "Validation r2_score is: -1.8460217916361459\n",
      "-------------------------\n"
     ]
    },
    {
     "name": "stderr",
     "output_type": "stream",
     "text": [
      "/home/mbosnjak/.conda/envs/pero/lib/python3.7/site-packages/scipy/stats/stats.py:3399: PearsonRConstantInputWarning: An input array is constant; the correlation coefficent is not defined.\n",
      "  warnings.warn(PearsonRConstantInputWarning())\n"
     ]
    },
    {
     "name": "stdout",
     "output_type": "stream",
     "text": [
      "Epoch 43 end: 1.7200496196746826, TRAIN MSE is: 2149.569091796875\n",
      "Validation loss: 415322.6562500 - MSE score: 2006.3895264\n",
      "Validation pearson is: nan\n",
      "Validation r2_score is: -1.7967457183550866\n",
      "-------------------------\n"
     ]
    },
    {
     "name": "stderr",
     "output_type": "stream",
     "text": [
      "/home/mbosnjak/.conda/envs/pero/lib/python3.7/site-packages/scipy/stats/stats.py:3399: PearsonRConstantInputWarning: An input array is constant; the correlation coefficent is not defined.\n",
      "  warnings.warn(PearsonRConstantInputWarning())\n"
     ]
    },
    {
     "name": "stdout",
     "output_type": "stream",
     "text": [
      "Epoch 44 end: 1.7677803039550781, TRAIN MSE is: 2140.66162109375\n",
      "Validation loss: 408157.5625000 - MSE score: 1971.7760010\n",
      "Validation pearson is: nan\n",
      "Validation r2_score is: -1.7484968771127551\n",
      "-------------------------\n"
     ]
    },
    {
     "name": "stderr",
     "output_type": "stream",
     "text": [
      "/home/mbosnjak/.conda/envs/pero/lib/python3.7/site-packages/scipy/stats/stats.py:3399: PearsonRConstantInputWarning: An input array is constant; the correlation coefficent is not defined.\n",
      "  warnings.warn(PearsonRConstantInputWarning())\n"
     ]
    },
    {
     "name": "stdout",
     "output_type": "stream",
     "text": [
      "Epoch 45 end: 1.6716210842132568, TRAIN MSE is: 2092.697021484375\n",
      "Validation loss: 401177.1562500 - MSE score: 1938.0540771\n",
      "Validation pearson is: nan\n",
      "Validation r2_score is: -1.7014914228360434\n",
      "-------------------------\n"
     ]
    },
    {
     "name": "stderr",
     "output_type": "stream",
     "text": [
      "/home/mbosnjak/.conda/envs/pero/lib/python3.7/site-packages/scipy/stats/stats.py:3399: PearsonRConstantInputWarning: An input array is constant; the correlation coefficent is not defined.\n",
      "  warnings.warn(PearsonRConstantInputWarning())\n"
     ]
    },
    {
     "name": "stdout",
     "output_type": "stream",
     "text": [
      "Epoch 46 end: 1.826073169708252, TRAIN MSE is: 1964.2159423828125\n",
      "Validation loss: 394443.3125000 - MSE score: 1905.5231934\n",
      "Validation pearson is: nan\n",
      "Validation r2_score is: -1.6561462504117395\n",
      "-------------------------\n"
     ]
    },
    {
     "name": "stderr",
     "output_type": "stream",
     "text": [
      "/home/mbosnjak/.conda/envs/pero/lib/python3.7/site-packages/scipy/stats/stats.py:3399: PearsonRConstantInputWarning: An input array is constant; the correlation coefficent is not defined.\n",
      "  warnings.warn(PearsonRConstantInputWarning())\n"
     ]
    },
    {
     "name": "stdout",
     "output_type": "stream",
     "text": [
      "Epoch 47 end: 1.7816710472106934, TRAIN MSE is: 2036.597412109375\n",
      "Validation loss: 387756.9687500 - MSE score: 1873.2220459\n",
      "Validation pearson is: nan\n",
      "Validation r2_score is: -1.6111207433453338\n",
      "-------------------------\n"
     ]
    },
    {
     "name": "stderr",
     "output_type": "stream",
     "text": [
      "/home/mbosnjak/.conda/envs/pero/lib/python3.7/site-packages/scipy/stats/stats.py:3399: PearsonRConstantInputWarning: An input array is constant; the correlation coefficent is not defined.\n",
      "  warnings.warn(PearsonRConstantInputWarning())\n"
     ]
    },
    {
     "name": "stdout",
     "output_type": "stream",
     "text": [
      "Epoch 48 end: 1.6552038192749023, TRAIN MSE is: 2003.3428955078125\n",
      "Validation loss: 381379.2812500 - MSE score: 1842.4119873\n",
      "Validation pearson is: nan\n",
      "Validation r2_score is: -1.5681740427392818\n",
      "-------------------------\n"
     ]
    },
    {
     "name": "stderr",
     "output_type": "stream",
     "text": [
      "/home/mbosnjak/.conda/envs/pero/lib/python3.7/site-packages/scipy/stats/stats.py:3399: PearsonRConstantInputWarning: An input array is constant; the correlation coefficent is not defined.\n",
      "  warnings.warn(PearsonRConstantInputWarning())\n"
     ]
    },
    {
     "name": "stdout",
     "output_type": "stream",
     "text": [
      "Epoch 49 end: 1.661970853805542, TRAIN MSE is: 1985.0084228515625\n",
      "Validation loss: 375135.7187500 - MSE score: 1812.2500000\n",
      "Validation pearson is: nan\n",
      "Validation r2_score is: -1.5261305082012622\n",
      "-------------------------\n"
     ]
    },
    {
     "name": "stderr",
     "output_type": "stream",
     "text": [
      "/home/mbosnjak/.conda/envs/pero/lib/python3.7/site-packages/scipy/stats/stats.py:3399: PearsonRConstantInputWarning: An input array is constant; the correlation coefficent is not defined.\n",
      "  warnings.warn(PearsonRConstantInputWarning())\n"
     ]
    },
    {
     "name": "stdout",
     "output_type": "stream",
     "text": [
      "Epoch 50 end: 1.7197988033294678, TRAIN MSE is: 1976.72021484375\n",
      "Validation loss: 369160.6250000 - MSE score: 1783.3846436\n",
      "Validation pearson is: nan\n",
      "Validation r2_score is: -1.4858948072803106\n",
      "-------------------------\n"
     ]
    },
    {
     "name": "stderr",
     "output_type": "stream",
     "text": [
      "/home/mbosnjak/.conda/envs/pero/lib/python3.7/site-packages/scipy/stats/stats.py:3399: PearsonRConstantInputWarning: An input array is constant; the correlation coefficent is not defined.\n",
      "  warnings.warn(PearsonRConstantInputWarning())\n"
     ]
    },
    {
     "name": "stdout",
     "output_type": "stream",
     "text": [
      "Epoch 51 end: 1.9015462398529053, TRAIN MSE is: 1915.3819580078125\n",
      "Validation loss: 363287.0625000 - MSE score: 1755.0100098\n",
      "Validation pearson is: nan\n",
      "Validation r2_score is: -1.4463428431183534\n",
      "-------------------------\n"
     ]
    },
    {
     "name": "stderr",
     "output_type": "stream",
     "text": [
      "/home/mbosnjak/.conda/envs/pero/lib/python3.7/site-packages/scipy/stats/stats.py:3399: PearsonRConstantInputWarning: An input array is constant; the correlation coefficent is not defined.\n",
      "  warnings.warn(PearsonRConstantInputWarning())\n"
     ]
    },
    {
     "name": "stdout",
     "output_type": "stream",
     "text": [
      "Epoch 52 end: 1.6197607517242432, TRAIN MSE is: 1899.5699462890625\n",
      "Validation loss: 357424.1250000 - MSE score: 1726.6866455\n",
      "Validation pearson is: nan\n",
      "Validation r2_score is: -1.4068622900549648\n",
      "-------------------------\n"
     ]
    },
    {
     "name": "stderr",
     "output_type": "stream",
     "text": [
      "/home/mbosnjak/.conda/envs/pero/lib/python3.7/site-packages/scipy/stats/stats.py:3399: PearsonRConstantInputWarning: An input array is constant; the correlation coefficent is not defined.\n",
      "  warnings.warn(PearsonRConstantInputWarning())\n"
     ]
    },
    {
     "name": "stdout",
     "output_type": "stream",
     "text": [
      "Epoch 53 end: 1.6141955852508545, TRAIN MSE is: 1805.3692626953125\n",
      "Validation loss: 351654.2187500 - MSE score: 1698.8127441\n",
      "Validation pearson is: nan\n",
      "Validation r2_score is: -1.3680082849634672\n",
      "-------------------------\n"
     ]
    },
    {
     "name": "stderr",
     "output_type": "stream",
     "text": [
      "/home/mbosnjak/.conda/envs/pero/lib/python3.7/site-packages/scipy/stats/stats.py:3399: PearsonRConstantInputWarning: An input array is constant; the correlation coefficent is not defined.\n",
      "  warnings.warn(PearsonRConstantInputWarning())\n"
     ]
    },
    {
     "name": "stdout",
     "output_type": "stream",
     "text": [
      "Epoch 54 end: 1.6882457733154297, TRAIN MSE is: 1883.5206298828125\n",
      "Validation loss: 346051.0000000 - MSE score: 1671.7437744\n",
      "Validation pearson is: nan\n",
      "Validation r2_score is: -1.330276521946843\n",
      "-------------------------\n"
     ]
    },
    {
     "name": "stderr",
     "output_type": "stream",
     "text": [
      "/home/mbosnjak/.conda/envs/pero/lib/python3.7/site-packages/scipy/stats/stats.py:3399: PearsonRConstantInputWarning: An input array is constant; the correlation coefficent is not defined.\n",
      "  warnings.warn(PearsonRConstantInputWarning())\n"
     ]
    },
    {
     "name": "stdout",
     "output_type": "stream",
     "text": [
      "Epoch 55 end: 1.6238844394683838, TRAIN MSE is: 1743.8126220703125\n",
      "Validation loss: 340666.0312500 - MSE score: 1645.7296143\n",
      "Validation pearson is: nan\n",
      "Validation r2_score is: -1.2940147792621057\n",
      "-------------------------\n"
     ]
    },
    {
     "name": "stderr",
     "output_type": "stream",
     "text": [
      "/home/mbosnjak/.conda/envs/pero/lib/python3.7/site-packages/scipy/stats/stats.py:3399: PearsonRConstantInputWarning: An input array is constant; the correlation coefficent is not defined.\n",
      "  warnings.warn(PearsonRConstantInputWarning())\n"
     ]
    },
    {
     "name": "stdout",
     "output_type": "stream",
     "text": [
      "Epoch 56 end: 1.6072793006896973, TRAIN MSE is: 1806.3892822265625\n",
      "Validation loss: 335360.2187500 - MSE score: 1620.0977783\n",
      "Validation pearson is: nan\n",
      "Validation r2_score is: -1.2582858356572273\n",
      "-------------------------\n"
     ]
    },
    {
     "name": "stderr",
     "output_type": "stream",
     "text": [
      "/home/mbosnjak/.conda/envs/pero/lib/python3.7/site-packages/scipy/stats/stats.py:3399: PearsonRConstantInputWarning: An input array is constant; the correlation coefficent is not defined.\n",
      "  warnings.warn(PearsonRConstantInputWarning())\n"
     ]
    },
    {
     "name": "stdout",
     "output_type": "stream",
     "text": [
      "Epoch 57 end: 1.715113878250122, TRAIN MSE is: 1767.8900146484375\n",
      "Validation loss: 330336.0000000 - MSE score: 1595.8260498\n",
      "Validation pearson is: nan\n",
      "Validation r2_score is: -1.224453226023106\n",
      "-------------------------\n"
     ]
    },
    {
     "name": "stderr",
     "output_type": "stream",
     "text": [
      "/home/mbosnjak/.conda/envs/pero/lib/python3.7/site-packages/scipy/stats/stats.py:3399: PearsonRConstantInputWarning: An input array is constant; the correlation coefficent is not defined.\n",
      "  warnings.warn(PearsonRConstantInputWarning())\n"
     ]
    },
    {
     "name": "stdout",
     "output_type": "stream",
     "text": [
      "Epoch 58 end: 1.6419920921325684, TRAIN MSE is: 1659.144775390625\n",
      "Validation loss: 325424.1562500 - MSE score: 1572.0975342\n",
      "Validation pearson is: nan\n",
      "Validation r2_score is: -1.191377374495986\n",
      "-------------------------\n"
     ]
    },
    {
     "name": "stderr",
     "output_type": "stream",
     "text": [
      "/home/mbosnjak/.conda/envs/pero/lib/python3.7/site-packages/scipy/stats/stats.py:3399: PearsonRConstantInputWarning: An input array is constant; the correlation coefficent is not defined.\n",
      "  warnings.warn(PearsonRConstantInputWarning())\n"
     ]
    },
    {
     "name": "stdout",
     "output_type": "stream",
     "text": [
      "Epoch 59 end: 1.6733074188232422, TRAIN MSE is: 1776.0889892578125\n",
      "Validation loss: 320566.6875000 - MSE score: 1548.6313477\n",
      "Validation pearson is: nan\n",
      "Validation r2_score is: -1.1586675780673215\n",
      "-------------------------\n"
     ]
    },
    {
     "name": "stderr",
     "output_type": "stream",
     "text": [
      "/home/mbosnjak/.conda/envs/pero/lib/python3.7/site-packages/scipy/stats/stats.py:3399: PearsonRConstantInputWarning: An input array is constant; the correlation coefficent is not defined.\n",
      "  warnings.warn(PearsonRConstantInputWarning())\n"
     ]
    },
    {
     "name": "stdout",
     "output_type": "stream",
     "text": [
      "Epoch 60 end: 1.740058183670044, TRAIN MSE is: 1720.323974609375\n",
      "Validation loss: 315889.6250000 - MSE score: 1526.0368652\n",
      "Validation pearson is: nan\n",
      "Validation r2_score is: -1.1271726993597082\n",
      "-------------------------\n"
     ]
    },
    {
     "name": "stderr",
     "output_type": "stream",
     "text": [
      "/home/mbosnjak/.conda/envs/pero/lib/python3.7/site-packages/scipy/stats/stats.py:3399: PearsonRConstantInputWarning: An input array is constant; the correlation coefficent is not defined.\n",
      "  warnings.warn(PearsonRConstantInputWarning())\n"
     ]
    },
    {
     "name": "stdout",
     "output_type": "stream",
     "text": [
      "Epoch 61 end: 2.084552764892578, TRAIN MSE is: 1700.2596435546875\n",
      "Validation loss: 311341.8125000 - MSE score: 1504.0667725\n",
      "Validation pearson is: nan\n",
      "Validation r2_score is: -1.09654807427764\n",
      "-------------------------\n"
     ]
    },
    {
     "name": "stderr",
     "output_type": "stream",
     "text": [
      "/home/mbosnjak/.conda/envs/pero/lib/python3.7/site-packages/scipy/stats/stats.py:3399: PearsonRConstantInputWarning: An input array is constant; the correlation coefficent is not defined.\n",
      "  warnings.warn(PearsonRConstantInputWarning())\n"
     ]
    },
    {
     "name": "stdout",
     "output_type": "stream",
     "text": [
      "Epoch 62 end: 1.8244445323944092, TRAIN MSE is: 1685.0263671875\n",
      "Validation loss: 306946.2187500 - MSE score: 1482.8321533\n",
      "Validation pearson is: nan\n",
      "Validation r2_score is: -1.066948602144795\n",
      "-------------------------\n"
     ]
    },
    {
     "name": "stderr",
     "output_type": "stream",
     "text": [
      "/home/mbosnjak/.conda/envs/pero/lib/python3.7/site-packages/scipy/stats/stats.py:3399: PearsonRConstantInputWarning: An input array is constant; the correlation coefficent is not defined.\n",
      "  warnings.warn(PearsonRConstantInputWarning())\n"
     ]
    },
    {
     "name": "stdout",
     "output_type": "stream",
     "text": [
      "Epoch 63 end: 1.7495040893554688, TRAIN MSE is: 1652.0765380859375\n",
      "Validation loss: 302727.6250000 - MSE score: 1462.4522705\n",
      "Validation pearson is: nan\n",
      "Validation r2_score is: -1.0385406269648914\n",
      "-------------------------\n"
     ]
    },
    {
     "name": "stderr",
     "output_type": "stream",
     "text": [
      "/home/mbosnjak/.conda/envs/pero/lib/python3.7/site-packages/scipy/stats/stats.py:3399: PearsonRConstantInputWarning: An input array is constant; the correlation coefficent is not defined.\n",
      "  warnings.warn(PearsonRConstantInputWarning())\n"
     ]
    },
    {
     "name": "stdout",
     "output_type": "stream",
     "text": [
      "Epoch 64 end: 1.6459434032440186, TRAIN MSE is: 1644.4129638671875\n",
      "Validation loss: 298542.8437500 - MSE score: 1442.2359619\n",
      "Validation pearson is: nan\n",
      "Validation r2_score is: -1.010361054080732\n",
      "-------------------------\n"
     ]
    },
    {
     "name": "stderr",
     "output_type": "stream",
     "text": [
      "/home/mbosnjak/.conda/envs/pero/lib/python3.7/site-packages/scipy/stats/stats.py:3399: PearsonRConstantInputWarning: An input array is constant; the correlation coefficent is not defined.\n",
      "  warnings.warn(PearsonRConstantInputWarning())\n"
     ]
    },
    {
     "name": "stdout",
     "output_type": "stream",
     "text": [
      "Epoch 65 end: 1.6757631301879883, TRAIN MSE is: 1646.83642578125\n",
      "Validation loss: 294543.6562500 - MSE score: 1422.9162598\n",
      "Validation pearson is: nan\n",
      "Validation r2_score is: -0.9834307298797305\n",
      "-------------------------\n"
     ]
    },
    {
     "name": "stderr",
     "output_type": "stream",
     "text": [
      "/home/mbosnjak/.conda/envs/pero/lib/python3.7/site-packages/scipy/stats/stats.py:3399: PearsonRConstantInputWarning: An input array is constant; the correlation coefficent is not defined.\n",
      "  warnings.warn(PearsonRConstantInputWarning())\n"
     ]
    },
    {
     "name": "stdout",
     "output_type": "stream",
     "text": [
      "Epoch 66 end: 1.6625216007232666, TRAIN MSE is: 1675.603515625\n",
      "Validation loss: 290581.2500000 - MSE score: 1403.7741699\n",
      "Validation pearson is: nan\n",
      "Validation r2_score is: -0.9567482503570066\n",
      "-------------------------\n"
     ]
    },
    {
     "name": "stderr",
     "output_type": "stream",
     "text": [
      "/home/mbosnjak/.conda/envs/pero/lib/python3.7/site-packages/scipy/stats/stats.py:3399: PearsonRConstantInputWarning: An input array is constant; the correlation coefficent is not defined.\n",
      "  warnings.warn(PearsonRConstantInputWarning())\n"
     ]
    },
    {
     "name": "stdout",
     "output_type": "stream",
     "text": [
      "Epoch 67 end: 1.5555102825164795, TRAIN MSE is: 1586.9097900390625\n",
      "Validation loss: 286769.3437500 - MSE score: 1385.3592529\n",
      "Validation pearson is: nan\n",
      "Validation r2_score is: -0.9310793519258618\n",
      "-------------------------\n"
     ]
    },
    {
     "name": "stderr",
     "output_type": "stream",
     "text": [
      "/home/mbosnjak/.conda/envs/pero/lib/python3.7/site-packages/scipy/stats/stats.py:3399: PearsonRConstantInputWarning: An input array is constant; the correlation coefficent is not defined.\n",
      "  warnings.warn(PearsonRConstantInputWarning())\n"
     ]
    },
    {
     "name": "stdout",
     "output_type": "stream",
     "text": [
      "Epoch 68 end: 1.739013433456421, TRAIN MSE is: 1647.2052001953125\n",
      "Validation loss: 283089.1875000 - MSE score: 1367.5805664\n",
      "Validation pearson is: nan\n",
      "Validation r2_score is: -0.9062974153918641\n",
      "-------------------------\n"
     ]
    },
    {
     "name": "stderr",
     "output_type": "stream",
     "text": [
      "/home/mbosnjak/.conda/envs/pero/lib/python3.7/site-packages/scipy/stats/stats.py:3399: PearsonRConstantInputWarning: An input array is constant; the correlation coefficent is not defined.\n",
      "  warnings.warn(PearsonRConstantInputWarning())\n"
     ]
    },
    {
     "name": "stdout",
     "output_type": "stream",
     "text": [
      "Epoch 69 end: 1.6992237567901611, TRAIN MSE is: 1622.02294921875\n",
      "Validation loss: 279668.1875000 - MSE score: 1351.0543213\n",
      "Validation pearson is: nan\n",
      "Validation r2_score is: -0.8832608007798468\n",
      "-------------------------\n"
     ]
    },
    {
     "name": "stderr",
     "output_type": "stream",
     "text": [
      "/home/mbosnjak/.conda/envs/pero/lib/python3.7/site-packages/scipy/stats/stats.py:3399: PearsonRConstantInputWarning: An input array is constant; the correlation coefficent is not defined.\n",
      "  warnings.warn(PearsonRConstantInputWarning())\n"
     ]
    },
    {
     "name": "stdout",
     "output_type": "stream",
     "text": [
      "Epoch 70 end: 1.8101754188537598, TRAIN MSE is: 1554.3486328125\n",
      "Validation loss: 276189.5937500 - MSE score: 1334.2493896\n",
      "Validation pearson is: nan\n",
      "Validation r2_score is: -0.8598362454109159\n",
      "-------------------------\n"
     ]
    },
    {
     "name": "stderr",
     "output_type": "stream",
     "text": [
      "/home/mbosnjak/.conda/envs/pero/lib/python3.7/site-packages/scipy/stats/stats.py:3399: PearsonRConstantInputWarning: An input array is constant; the correlation coefficent is not defined.\n",
      "  warnings.warn(PearsonRConstantInputWarning())\n"
     ]
    },
    {
     "name": "stdout",
     "output_type": "stream",
     "text": [
      "Epoch 71 end: 1.6597416400909424, TRAIN MSE is: 1591.4747314453125\n",
      "Validation loss: 272870.1875000 - MSE score: 1318.2135010\n",
      "Validation pearson is: nan\n",
      "Validation r2_score is: -0.8374835690654894\n",
      "-------------------------\n"
     ]
    },
    {
     "name": "stderr",
     "output_type": "stream",
     "text": [
      "/home/mbosnjak/.conda/envs/pero/lib/python3.7/site-packages/scipy/stats/stats.py:3399: PearsonRConstantInputWarning: An input array is constant; the correlation coefficent is not defined.\n",
      "  warnings.warn(PearsonRConstantInputWarning())\n"
     ]
    },
    {
     "name": "stdout",
     "output_type": "stream",
     "text": [
      "Epoch 72 end: 1.6765120029449463, TRAIN MSE is: 1588.3883056640625\n",
      "Validation loss: 269716.9375000 - MSE score: 1302.9803467\n",
      "Validation pearson is: nan\n",
      "Validation r2_score is: -0.8162498654514012\n",
      "-------------------------\n"
     ]
    },
    {
     "name": "stderr",
     "output_type": "stream",
     "text": [
      "/home/mbosnjak/.conda/envs/pero/lib/python3.7/site-packages/scipy/stats/stats.py:3399: PearsonRConstantInputWarning: An input array is constant; the correlation coefficent is not defined.\n",
      "  warnings.warn(PearsonRConstantInputWarning())\n"
     ]
    },
    {
     "name": "stdout",
     "output_type": "stream",
     "text": [
      "Epoch 73 end: 1.5998170375823975, TRAIN MSE is: 1493.88330078125\n",
      "Validation loss: 266513.5312500 - MSE score: 1287.5051270\n",
      "Validation pearson is: nan\n",
      "Validation r2_score is: -0.7946784998724523\n",
      "-------------------------\n"
     ]
    },
    {
     "name": "stderr",
     "output_type": "stream",
     "text": [
      "/home/mbosnjak/.conda/envs/pero/lib/python3.7/site-packages/scipy/stats/stats.py:3399: PearsonRConstantInputWarning: An input array is constant; the correlation coefficent is not defined.\n",
      "  warnings.warn(PearsonRConstantInputWarning())\n"
     ]
    },
    {
     "name": "stdout",
     "output_type": "stream",
     "text": [
      "Epoch 74 end: 1.6735153198242188, TRAIN MSE is: 1540.316162109375\n",
      "Validation loss: 263449.5312500 - MSE score: 1272.7028809\n",
      "Validation pearson is: nan\n",
      "Validation r2_score is: -0.7740457438313706\n",
      "-------------------------\n"
     ]
    },
    {
     "name": "stderr",
     "output_type": "stream",
     "text": [
      "/home/mbosnjak/.conda/envs/pero/lib/python3.7/site-packages/scipy/stats/stats.py:3399: PearsonRConstantInputWarning: An input array is constant; the correlation coefficent is not defined.\n",
      "  warnings.warn(PearsonRConstantInputWarning())\n"
     ]
    },
    {
     "name": "stdout",
     "output_type": "stream",
     "text": [
      "Epoch 75 end: 1.596665620803833, TRAIN MSE is: 1552.2371826171875\n",
      "Validation loss: 260452.8125000 - MSE score: 1258.2261963\n",
      "Validation pearson is: nan\n",
      "Validation r2_score is: -0.7538660987519092\n",
      "-------------------------\n"
     ]
    },
    {
     "name": "stderr",
     "output_type": "stream",
     "text": [
      "/home/mbosnjak/.conda/envs/pero/lib/python3.7/site-packages/scipy/stats/stats.py:3399: PearsonRConstantInputWarning: An input array is constant; the correlation coefficent is not defined.\n",
      "  warnings.warn(PearsonRConstantInputWarning())\n"
     ]
    },
    {
     "name": "stdout",
     "output_type": "stream",
     "text": [
      "Epoch 76 end: 1.7819428443908691, TRAIN MSE is: 1542.511474609375\n",
      "Validation loss: 257450.5781250 - MSE score: 1243.7227783\n",
      "Validation pearson is: nan\n",
      "Validation r2_score is: -0.7336494320714282\n",
      "-------------------------\n"
     ]
    },
    {
     "name": "stderr",
     "output_type": "stream",
     "text": [
      "/home/mbosnjak/.conda/envs/pero/lib/python3.7/site-packages/scipy/stats/stats.py:3399: PearsonRConstantInputWarning: An input array is constant; the correlation coefficent is not defined.\n",
      "  warnings.warn(PearsonRConstantInputWarning())\n"
     ]
    },
    {
     "name": "stdout",
     "output_type": "stream",
     "text": [
      "Epoch 77 end: 1.538907766342163, TRAIN MSE is: 1535.333251953125\n",
      "Validation loss: 254630.2500000 - MSE score: 1230.0977783\n",
      "Validation pearson is: nan\n",
      "Validation r2_score is: -0.7146574386530513\n",
      "-------------------------\n"
     ]
    },
    {
     "name": "stderr",
     "output_type": "stream",
     "text": [
      "/home/mbosnjak/.conda/envs/pero/lib/python3.7/site-packages/scipy/stats/stats.py:3399: PearsonRConstantInputWarning: An input array is constant; the correlation coefficent is not defined.\n",
      "  warnings.warn(PearsonRConstantInputWarning())\n"
     ]
    },
    {
     "name": "stdout",
     "output_type": "stream",
     "text": [
      "Epoch 78 end: 1.909571886062622, TRAIN MSE is: 1472.4019775390625\n",
      "Validation loss: 251960.7187500 - MSE score: 1217.2015381\n",
      "Validation pearson is: nan\n",
      "Validation r2_score is: -0.6966810492425088\n",
      "-------------------------\n"
     ]
    },
    {
     "name": "stderr",
     "output_type": "stream",
     "text": [
      "/home/mbosnjak/.conda/envs/pero/lib/python3.7/site-packages/scipy/stats/stats.py:3399: PearsonRConstantInputWarning: An input array is constant; the correlation coefficent is not defined.\n",
      "  warnings.warn(PearsonRConstantInputWarning())\n"
     ]
    },
    {
     "name": "stdout",
     "output_type": "stream",
     "text": [
      "Epoch 79 end: 1.9566535949707031, TRAIN MSE is: 1452.3468017578125\n",
      "Validation loss: 249309.7031250 - MSE score: 1204.3947754\n",
      "Validation pearson is: nan\n",
      "Validation r2_score is: -0.6788294311663472\n",
      "-------------------------\n"
     ]
    },
    {
     "name": "stderr",
     "output_type": "stream",
     "text": [
      "/home/mbosnjak/.conda/envs/pero/lib/python3.7/site-packages/scipy/stats/stats.py:3399: PearsonRConstantInputWarning: An input array is constant; the correlation coefficent is not defined.\n",
      "  warnings.warn(PearsonRConstantInputWarning())\n"
     ]
    },
    {
     "name": "stdout",
     "output_type": "stream",
     "text": [
      "Epoch 80 end: 1.543717861175537, TRAIN MSE is: 1419.04150390625\n",
      "Validation loss: 246722.4687500 - MSE score: 1191.8958740\n",
      "Validation pearson is: nan\n",
      "Validation r2_score is: -0.6614070913281533\n",
      "-------------------------\n"
     ]
    },
    {
     "name": "stderr",
     "output_type": "stream",
     "text": [
      "/home/mbosnjak/.conda/envs/pero/lib/python3.7/site-packages/scipy/stats/stats.py:3399: PearsonRConstantInputWarning: An input array is constant; the correlation coefficent is not defined.\n",
      "  warnings.warn(PearsonRConstantInputWarning())\n"
     ]
    },
    {
     "name": "stdout",
     "output_type": "stream",
     "text": [
      "Epoch 81 end: 1.6151466369628906, TRAIN MSE is: 1485.595947265625\n",
      "Validation loss: 244227.2031250 - MSE score: 1179.8415527\n",
      "Validation pearson is: nan\n",
      "Validation r2_score is: -0.6446042915761308\n",
      "-------------------------\n"
     ]
    },
    {
     "name": "stderr",
     "output_type": "stream",
     "text": [
      "/home/mbosnjak/.conda/envs/pero/lib/python3.7/site-packages/scipy/stats/stats.py:3399: PearsonRConstantInputWarning: An input array is constant; the correlation coefficent is not defined.\n",
      "  warnings.warn(PearsonRConstantInputWarning())\n"
     ]
    },
    {
     "name": "stdout",
     "output_type": "stream",
     "text": [
      "Epoch 82 end: 1.7023537158966064, TRAIN MSE is: 1440.0220947265625\n",
      "Validation loss: 241934.8750000 - MSE score: 1168.7674561\n",
      "Validation pearson is: nan\n",
      "Validation r2_score is: -0.6291678962945113\n",
      "-------------------------\n"
     ]
    },
    {
     "name": "stderr",
     "output_type": "stream",
     "text": [
      "/home/mbosnjak/.conda/envs/pero/lib/python3.7/site-packages/scipy/stats/stats.py:3399: PearsonRConstantInputWarning: An input array is constant; the correlation coefficent is not defined.\n",
      "  warnings.warn(PearsonRConstantInputWarning())\n"
     ]
    },
    {
     "name": "stdout",
     "output_type": "stream",
     "text": [
      "Epoch 83 end: 1.616997241973877, TRAIN MSE is: 1490.1927490234375\n",
      "Validation loss: 239518.7968750 - MSE score: 1157.0957031\n",
      "Validation pearson is: nan\n",
      "Validation r2_score is: -0.6128983471569514\n",
      "-------------------------\n"
     ]
    },
    {
     "name": "stderr",
     "output_type": "stream",
     "text": [
      "/home/mbosnjak/.conda/envs/pero/lib/python3.7/site-packages/scipy/stats/stats.py:3399: PearsonRConstantInputWarning: An input array is constant; the correlation coefficent is not defined.\n",
      "  warnings.warn(PearsonRConstantInputWarning())\n"
     ]
    },
    {
     "name": "stdout",
     "output_type": "stream",
     "text": [
      "Epoch 84 end: 1.5262408256530762, TRAIN MSE is: 1457.58837890625\n",
      "Validation loss: 237331.8906250 - MSE score: 1146.5307617\n",
      "Validation pearson is: nan\n",
      "Validation r2_score is: -0.5981718319592328\n",
      "-------------------------\n"
     ]
    },
    {
     "name": "stderr",
     "output_type": "stream",
     "text": [
      "/home/mbosnjak/.conda/envs/pero/lib/python3.7/site-packages/scipy/stats/stats.py:3399: PearsonRConstantInputWarning: An input array is constant; the correlation coefficent is not defined.\n",
      "  warnings.warn(PearsonRConstantInputWarning())\n"
     ]
    },
    {
     "name": "stdout",
     "output_type": "stream",
     "text": [
      "Epoch 85 end: 1.7263858318328857, TRAIN MSE is: 1426.769775390625\n",
      "Validation loss: 235308.9062500 - MSE score: 1136.7581787\n",
      "Validation pearson is: nan\n",
      "Validation r2_score is: -0.5845493840953069\n",
      "-------------------------\n"
     ]
    },
    {
     "name": "stderr",
     "output_type": "stream",
     "text": [
      "/home/mbosnjak/.conda/envs/pero/lib/python3.7/site-packages/scipy/stats/stats.py:3399: PearsonRConstantInputWarning: An input array is constant; the correlation coefficent is not defined.\n",
      "  warnings.warn(PearsonRConstantInputWarning())\n"
     ]
    },
    {
     "name": "stdout",
     "output_type": "stream",
     "text": [
      "Epoch 86 end: 1.864042043685913, TRAIN MSE is: 1421.171630859375\n",
      "Validation loss: 233284.4843750 - MSE score: 1126.9782715\n",
      "Validation pearson is: nan\n",
      "Validation r2_score is: -0.5709169959577696\n",
      "-------------------------\n"
     ]
    },
    {
     "name": "stderr",
     "output_type": "stream",
     "text": [
      "/home/mbosnjak/.conda/envs/pero/lib/python3.7/site-packages/scipy/stats/stats.py:3399: PearsonRConstantInputWarning: An input array is constant; the correlation coefficent is not defined.\n",
      "  warnings.warn(PearsonRConstantInputWarning())\n"
     ]
    },
    {
     "name": "stdout",
     "output_type": "stream",
     "text": [
      "Epoch 87 end: 1.6089863777160645, TRAIN MSE is: 1464.33203125\n",
      "Validation loss: 231277.9531250 - MSE score: 1117.2849121\n",
      "Validation pearson is: nan\n",
      "Validation r2_score is: -0.5574052884678249\n",
      "-------------------------\n"
     ]
    },
    {
     "name": "stderr",
     "output_type": "stream",
     "text": [
      "/home/mbosnjak/.conda/envs/pero/lib/python3.7/site-packages/scipy/stats/stats.py:3399: PearsonRConstantInputWarning: An input array is constant; the correlation coefficent is not defined.\n",
      "  warnings.warn(PearsonRConstantInputWarning())\n"
     ]
    },
    {
     "name": "stdout",
     "output_type": "stream",
     "text": [
      "Epoch 88 end: 1.7650330066680908, TRAIN MSE is: 1351.085693359375\n",
      "Validation loss: 229289.0468750 - MSE score: 1107.6766357\n",
      "Validation pearson is: nan\n",
      "Validation r2_score is: -0.5440121096894075\n",
      "-------------------------\n"
     ]
    },
    {
     "name": "stderr",
     "output_type": "stream",
     "text": [
      "/home/mbosnjak/.conda/envs/pero/lib/python3.7/site-packages/scipy/stats/stats.py:3399: PearsonRConstantInputWarning: An input array is constant; the correlation coefficent is not defined.\n",
      "  warnings.warn(PearsonRConstantInputWarning())\n"
     ]
    },
    {
     "name": "stdout",
     "output_type": "stream",
     "text": [
      "Epoch 89 end: 1.6563084125518799, TRAIN MSE is: 1453.6839599609375\n",
      "Validation loss: 227274.2187500 - MSE score: 1097.9431152\n",
      "Validation pearson is: nan\n",
      "Validation r2_score is: -0.5304443979528797\n",
      "-------------------------\n"
     ]
    },
    {
     "name": "stderr",
     "output_type": "stream",
     "text": [
      "/home/mbosnjak/.conda/envs/pero/lib/python3.7/site-packages/scipy/stats/stats.py:3399: PearsonRConstantInputWarning: An input array is constant; the correlation coefficent is not defined.\n",
      "  warnings.warn(PearsonRConstantInputWarning())\n"
     ]
    },
    {
     "name": "stdout",
     "output_type": "stream",
     "text": [
      "Epoch 90 end: 1.6862847805023193, TRAIN MSE is: 1367.5517578125\n",
      "Validation loss: 225328.4062500 - MSE score: 1088.5429688\n",
      "Validation pearson is: nan\n",
      "Validation r2_score is: -0.5173413864943972\n",
      "-------------------------\n"
     ]
    },
    {
     "name": "stderr",
     "output_type": "stream",
     "text": [
      "/home/mbosnjak/.conda/envs/pero/lib/python3.7/site-packages/scipy/stats/stats.py:3399: PearsonRConstantInputWarning: An input array is constant; the correlation coefficent is not defined.\n",
      "  warnings.warn(PearsonRConstantInputWarning())\n"
     ]
    },
    {
     "name": "stdout",
     "output_type": "stream",
     "text": [
      "Epoch 91 end: 1.651669979095459, TRAIN MSE is: 1445.602294921875\n",
      "Validation loss: 223579.0781250 - MSE score: 1080.0920410\n",
      "Validation pearson is: nan\n",
      "Validation r2_score is: -0.5055614864341897\n",
      "-------------------------\n"
     ]
    },
    {
     "name": "stderr",
     "output_type": "stream",
     "text": [
      "/home/mbosnjak/.conda/envs/pero/lib/python3.7/site-packages/scipy/stats/stats.py:3399: PearsonRConstantInputWarning: An input array is constant; the correlation coefficent is not defined.\n",
      "  warnings.warn(PearsonRConstantInputWarning())\n"
     ]
    },
    {
     "name": "stdout",
     "output_type": "stream",
     "text": [
      "Epoch 92 end: 1.6453394889831543, TRAIN MSE is: 1381.32177734375\n",
      "Validation loss: 221845.0312500 - MSE score: 1071.7150879\n",
      "Validation pearson is: nan\n",
      "Validation r2_score is: -0.49388477728849534\n",
      "-------------------------\n"
     ]
    },
    {
     "name": "stderr",
     "output_type": "stream",
     "text": [
      "/home/mbosnjak/.conda/envs/pero/lib/python3.7/site-packages/scipy/stats/stats.py:3399: PearsonRConstantInputWarning: An input array is constant; the correlation coefficent is not defined.\n",
      "  warnings.warn(PearsonRConstantInputWarning())\n"
     ]
    },
    {
     "name": "stdout",
     "output_type": "stream",
     "text": [
      "Epoch 93 end: 1.6756305694580078, TRAIN MSE is: 1340.27880859375\n",
      "Validation loss: 220147.2187500 - MSE score: 1063.5130615\n",
      "Validation pearson is: nan\n",
      "Validation r2_score is: -0.4824517531279182\n",
      "-------------------------\n"
     ]
    },
    {
     "name": "stderr",
     "output_type": "stream",
     "text": [
      "/home/mbosnjak/.conda/envs/pero/lib/python3.7/site-packages/scipy/stats/stats.py:3399: PearsonRConstantInputWarning: An input array is constant; the correlation coefficent is not defined.\n",
      "  warnings.warn(PearsonRConstantInputWarning())\n"
     ]
    },
    {
     "name": "stdout",
     "output_type": "stream",
     "text": [
      "Epoch 94 end: 1.5824923515319824, TRAIN MSE is: 1327.0732421875\n",
      "Validation loss: 218413.7968750 - MSE score: 1055.1391602\n",
      "Validation pearson is: nan\n",
      "Validation r2_score is: -0.4707790723335996\n",
      "-------------------------\n"
     ]
    },
    {
     "name": "stderr",
     "output_type": "stream",
     "text": [
      "/home/mbosnjak/.conda/envs/pero/lib/python3.7/site-packages/scipy/stats/stats.py:3399: PearsonRConstantInputWarning: An input array is constant; the correlation coefficent is not defined.\n",
      "  warnings.warn(PearsonRConstantInputWarning())\n"
     ]
    },
    {
     "name": "stdout",
     "output_type": "stream",
     "text": [
      "Epoch 95 end: 1.6495606899261475, TRAIN MSE is: 1318.598876953125\n",
      "Validation loss: 216798.3437500 - MSE score: 1047.3349609\n",
      "Validation pearson is: nan\n",
      "Validation r2_score is: -0.45990082632803486\n",
      "-------------------------\n"
     ]
    },
    {
     "name": "stderr",
     "output_type": "stream",
     "text": [
      "/home/mbosnjak/.conda/envs/pero/lib/python3.7/site-packages/scipy/stats/stats.py:3399: PearsonRConstantInputWarning: An input array is constant; the correlation coefficent is not defined.\n",
      "  warnings.warn(PearsonRConstantInputWarning())\n"
     ]
    },
    {
     "name": "stdout",
     "output_type": "stream",
     "text": [
      "Epoch 96 end: 1.7105863094329834, TRAIN MSE is: 1339.4947509765625\n",
      "Validation loss: 215284.3906250 - MSE score: 1040.0211182\n",
      "Validation pearson is: nan\n",
      "Validation r2_score is: -0.44970582717817\n",
      "-------------------------\n"
     ]
    },
    {
     "name": "stderr",
     "output_type": "stream",
     "text": [
      "/home/mbosnjak/.conda/envs/pero/lib/python3.7/site-packages/scipy/stats/stats.py:3399: PearsonRConstantInputWarning: An input array is constant; the correlation coefficent is not defined.\n",
      "  warnings.warn(PearsonRConstantInputWarning())\n"
     ]
    },
    {
     "name": "stdout",
     "output_type": "stream",
     "text": [
      "Epoch 97 end: 1.7219769954681396, TRAIN MSE is: 1428.49853515625\n",
      "Validation loss: 213926.0781250 - MSE score: 1033.4593506\n",
      "Validation pearson is: nan\n",
      "Validation r2_score is: -0.4405591439140395\n",
      "-------------------------\n"
     ]
    },
    {
     "name": "stderr",
     "output_type": "stream",
     "text": [
      "/home/mbosnjak/.conda/envs/pero/lib/python3.7/site-packages/scipy/stats/stats.py:3399: PearsonRConstantInputWarning: An input array is constant; the correlation coefficent is not defined.\n",
      "  warnings.warn(PearsonRConstantInputWarning())\n"
     ]
    },
    {
     "name": "stdout",
     "output_type": "stream",
     "text": [
      "Epoch 98 end: 1.674525260925293, TRAIN MSE is: 1432.368896484375\n",
      "Validation loss: 212624.0468750 - MSE score: 1027.1694336\n",
      "Validation pearson is: nan\n",
      "Validation r2_score is: -0.4317914403102725\n",
      "-------------------------\n"
     ]
    },
    {
     "name": "stderr",
     "output_type": "stream",
     "text": [
      "/home/mbosnjak/.conda/envs/pero/lib/python3.7/site-packages/scipy/stats/stats.py:3399: PearsonRConstantInputWarning: An input array is constant; the correlation coefficent is not defined.\n",
      "  warnings.warn(PearsonRConstantInputWarning())\n"
     ]
    },
    {
     "name": "stdout",
     "output_type": "stream",
     "text": [
      "Epoch 99 end: 1.7021350860595703, TRAIN MSE is: 1381.405517578125\n",
      "Validation loss: 211303.2968750 - MSE score: 1020.7888184\n",
      "Validation pearson is: nan\n",
      "Validation r2_score is: -0.42289752983998996\n",
      "-------------------------\n"
     ]
    },
    {
     "name": "stderr",
     "output_type": "stream",
     "text": [
      "/home/mbosnjak/.conda/envs/pero/lib/python3.7/site-packages/scipy/stats/stats.py:3399: PearsonRConstantInputWarning: An input array is constant; the correlation coefficent is not defined.\n",
      "  warnings.warn(PearsonRConstantInputWarning())\n"
     ]
    },
    {
     "name": "stdout",
     "output_type": "stream",
     "text": [
      "Epoch 100 end: 1.7030186653137207, TRAIN MSE is: 1434.4090576171875\n",
      "Validation loss: 210095.9375000 - MSE score: 1014.9560547\n",
      "Validation pearson is: nan\n",
      "Validation r2_score is: -0.41476733083110595\n",
      "-------------------------\n"
     ]
    },
    {
     "name": "stderr",
     "output_type": "stream",
     "text": [
      "/home/mbosnjak/.conda/envs/pero/lib/python3.7/site-packages/scipy/stats/stats.py:3399: PearsonRConstantInputWarning: An input array is constant; the correlation coefficent is not defined.\n",
      "  warnings.warn(PearsonRConstantInputWarning())\n"
     ]
    },
    {
     "name": "stdout",
     "output_type": "stream",
     "text": [
      "Epoch 101 end: 1.7232716083526611, TRAIN MSE is: 1444.9942626953125\n",
      "Validation loss: 208766.6562500 - MSE score: 1008.5344849\n",
      "Validation pearson is: nan\n",
      "Validation r2_score is: -0.40581601277962465\n",
      "-------------------------\n"
     ]
    },
    {
     "name": "stderr",
     "output_type": "stream",
     "text": [
      "/home/mbosnjak/.conda/envs/pero/lib/python3.7/site-packages/scipy/stats/stats.py:3399: PearsonRConstantInputWarning: An input array is constant; the correlation coefficent is not defined.\n",
      "  warnings.warn(PearsonRConstantInputWarning())\n"
     ]
    },
    {
     "name": "stdout",
     "output_type": "stream",
     "text": [
      "Epoch 102 end: 1.7862606048583984, TRAIN MSE is: 1378.4234619140625\n",
      "Validation loss: 207506.3750000 - MSE score: 1002.4462280\n",
      "Validation pearson is: nan\n",
      "Validation r2_score is: -0.39732947886248193\n",
      "-------------------------\n"
     ]
    },
    {
     "name": "stderr",
     "output_type": "stream",
     "text": [
      "/home/mbosnjak/.conda/envs/pero/lib/python3.7/site-packages/scipy/stats/stats.py:3399: PearsonRConstantInputWarning: An input array is constant; the correlation coefficent is not defined.\n",
      "  warnings.warn(PearsonRConstantInputWarning())\n"
     ]
    },
    {
     "name": "stdout",
     "output_type": "stream",
     "text": [
      "Epoch 103 end: 1.7191665172576904, TRAIN MSE is: 1316.33154296875\n",
      "Validation loss: 206367.0625000 - MSE score: 996.9423218\n",
      "Validation pearson is: nan\n",
      "Validation r2_score is: -0.38965739362446916\n",
      "-------------------------\n"
     ]
    },
    {
     "name": "stderr",
     "output_type": "stream",
     "text": [
      "/home/mbosnjak/.conda/envs/pero/lib/python3.7/site-packages/scipy/stats/stats.py:3399: PearsonRConstantInputWarning: An input array is constant; the correlation coefficent is not defined.\n",
      "  warnings.warn(PearsonRConstantInputWarning())\n"
     ]
    },
    {
     "name": "stdout",
     "output_type": "stream",
     "text": [
      "Epoch 104 end: 1.7634727954864502, TRAIN MSE is: 1374.75048828125\n",
      "Validation loss: 205282.3437500 - MSE score: 991.7021484\n",
      "Validation pearson is: nan\n",
      "Validation r2_score is: -0.38235311183334675\n",
      "-------------------------\n"
     ]
    },
    {
     "name": "stderr",
     "output_type": "stream",
     "text": [
      "/home/mbosnjak/.conda/envs/pero/lib/python3.7/site-packages/scipy/stats/stats.py:3399: PearsonRConstantInputWarning: An input array is constant; the correlation coefficent is not defined.\n",
      "  warnings.warn(PearsonRConstantInputWarning())\n"
     ]
    },
    {
     "name": "stdout",
     "output_type": "stream",
     "text": [
      "Epoch 105 end: 1.6843469142913818, TRAIN MSE is: 1372.3253173828125\n",
      "Validation loss: 204130.6406250 - MSE score: 986.1383667\n",
      "Validation pearson is: nan\n",
      "Validation r2_score is: -0.3745975503510004\n",
      "-------------------------\n"
     ]
    },
    {
     "name": "stderr",
     "output_type": "stream",
     "text": [
      "/home/mbosnjak/.conda/envs/pero/lib/python3.7/site-packages/scipy/stats/stats.py:3399: PearsonRConstantInputWarning: An input array is constant; the correlation coefficent is not defined.\n",
      "  warnings.warn(PearsonRConstantInputWarning())\n"
     ]
    },
    {
     "name": "stdout",
     "output_type": "stream",
     "text": [
      "Epoch 106 end: 1.6995699405670166, TRAIN MSE is: 1342.7454833984375\n",
      "Validation loss: 203062.4062500 - MSE score: 980.9777832\n",
      "Validation pearson is: nan\n",
      "Validation r2_score is: -0.36740419192656204\n",
      "-------------------------\n"
     ]
    },
    {
     "name": "stderr",
     "output_type": "stream",
     "text": [
      "/home/mbosnjak/.conda/envs/pero/lib/python3.7/site-packages/scipy/stats/stats.py:3399: PearsonRConstantInputWarning: An input array is constant; the correlation coefficent is not defined.\n",
      "  warnings.warn(PearsonRConstantInputWarning())\n"
     ]
    },
    {
     "name": "stdout",
     "output_type": "stream",
     "text": [
      "Epoch 107 end: 1.7966394424438477, TRAIN MSE is: 1286.395263671875\n",
      "Validation loss: 202030.5625000 - MSE score: 975.9930420\n",
      "Validation pearson is: nan\n",
      "Validation r2_score is: -0.360455864409982\n",
      "-------------------------\n"
     ]
    },
    {
     "name": "stderr",
     "output_type": "stream",
     "text": [
      "/home/mbosnjak/.conda/envs/pero/lib/python3.7/site-packages/scipy/stats/stats.py:3399: PearsonRConstantInputWarning: An input array is constant; the correlation coefficent is not defined.\n",
      "  warnings.warn(PearsonRConstantInputWarning())\n"
     ]
    },
    {
     "name": "stdout",
     "output_type": "stream",
     "text": [
      "Epoch 108 end: 1.7418363094329834, TRAIN MSE is: 1270.1661376953125\n",
      "Validation loss: 200944.5156250 - MSE score: 970.7465210\n",
      "Validation pearson is: nan\n",
      "Validation r2_score is: -0.3531425845020668\n",
      "-------------------------\n"
     ]
    },
    {
     "name": "stderr",
     "output_type": "stream",
     "text": [
      "/home/mbosnjak/.conda/envs/pero/lib/python3.7/site-packages/scipy/stats/stats.py:3399: PearsonRConstantInputWarning: An input array is constant; the correlation coefficent is not defined.\n",
      "  warnings.warn(PearsonRConstantInputWarning())\n"
     ]
    },
    {
     "name": "stdout",
     "output_type": "stream",
     "text": [
      "Epoch 109 end: 1.8252527713775635, TRAIN MSE is: 1215.5882568359375\n",
      "Validation loss: 199936.6875000 - MSE score: 965.8777466\n",
      "Validation pearson is: nan\n",
      "Validation r2_score is: -0.34635589311271575\n",
      "-------------------------\n"
     ]
    },
    {
     "name": "stderr",
     "output_type": "stream",
     "text": [
      "/home/mbosnjak/.conda/envs/pero/lib/python3.7/site-packages/scipy/stats/stats.py:3399: PearsonRConstantInputWarning: An input array is constant; the correlation coefficent is not defined.\n",
      "  warnings.warn(PearsonRConstantInputWarning())\n"
     ]
    },
    {
     "name": "stdout",
     "output_type": "stream",
     "text": [
      "Epoch 110 end: 1.7371318340301514, TRAIN MSE is: 1279.48095703125\n",
      "Validation loss: 198974.9062500 - MSE score: 961.2314453\n",
      "Validation pearson is: nan\n",
      "Validation r2_score is: -0.3398793028187743\n",
      "-------------------------\n"
     ]
    },
    {
     "name": "stderr",
     "output_type": "stream",
     "text": [
      "/home/mbosnjak/.conda/envs/pero/lib/python3.7/site-packages/scipy/stats/stats.py:3399: PearsonRConstantInputWarning: An input array is constant; the correlation coefficent is not defined.\n",
      "  warnings.warn(PearsonRConstantInputWarning())\n"
     ]
    },
    {
     "name": "stdout",
     "output_type": "stream",
     "text": [
      "Epoch 111 end: 1.6429879665374756, TRAIN MSE is: 1410.8175048828125\n",
      "Validation loss: 198029.6250000 - MSE score: 956.6648560\n",
      "Validation pearson is: nan\n",
      "Validation r2_score is: -0.33351382249270833\n",
      "-------------------------\n"
     ]
    },
    {
     "name": "stderr",
     "output_type": "stream",
     "text": [
      "/home/mbosnjak/.conda/envs/pero/lib/python3.7/site-packages/scipy/stats/stats.py:3399: PearsonRConstantInputWarning: An input array is constant; the correlation coefficent is not defined.\n",
      "  warnings.warn(PearsonRConstantInputWarning())\n"
     ]
    },
    {
     "name": "stdout",
     "output_type": "stream",
     "text": [
      "Epoch 112 end: 1.6479721069335938, TRAIN MSE is: 1379.6964111328125\n",
      "Validation loss: 197160.9687500 - MSE score: 952.4684448\n",
      "Validation pearson is: nan\n",
      "Validation r2_score is: -0.32766441149643777\n",
      "-------------------------\n"
     ]
    },
    {
     "name": "stderr",
     "output_type": "stream",
     "text": [
      "/home/mbosnjak/.conda/envs/pero/lib/python3.7/site-packages/scipy/stats/stats.py:3399: PearsonRConstantInputWarning: An input array is constant; the correlation coefficent is not defined.\n",
      "  warnings.warn(PearsonRConstantInputWarning())\n"
     ]
    },
    {
     "name": "stdout",
     "output_type": "stream",
     "text": [
      "Epoch 113 end: 1.6240789890289307, TRAIN MSE is: 1270.7803955078125\n",
      "Validation loss: 196290.7812500 - MSE score: 948.2645874\n",
      "Validation pearson is: nan\n",
      "Validation r2_score is: -0.3218045291911722\n",
      "-------------------------\n"
     ]
    },
    {
     "name": "stderr",
     "output_type": "stream",
     "text": [
      "/home/mbosnjak/.conda/envs/pero/lib/python3.7/site-packages/scipy/stats/stats.py:3399: PearsonRConstantInputWarning: An input array is constant; the correlation coefficent is not defined.\n",
      "  warnings.warn(PearsonRConstantInputWarning())\n"
     ]
    },
    {
     "name": "stdout",
     "output_type": "stream",
     "text": [
      "Epoch 114 end: 1.613276481628418, TRAIN MSE is: 1392.2379150390625\n",
      "Validation loss: 195562.4843750 - MSE score: 944.7463989\n",
      "Validation pearson is: nan\n",
      "Validation r2_score is: -0.3169004736428458\n",
      "-------------------------\n"
     ]
    },
    {
     "name": "stderr",
     "output_type": "stream",
     "text": [
      "/home/mbosnjak/.conda/envs/pero/lib/python3.7/site-packages/scipy/stats/stats.py:3399: PearsonRConstantInputWarning: An input array is constant; the correlation coefficent is not defined.\n",
      "  warnings.warn(PearsonRConstantInputWarning())\n"
     ]
    },
    {
     "name": "stdout",
     "output_type": "stream",
     "text": [
      "Epoch 115 end: 1.6398253440856934, TRAIN MSE is: 1338.5137939453125\n",
      "Validation loss: 194721.4062500 - MSE score: 940.6831055\n",
      "Validation pearson is: nan\n",
      "Validation r2_score is: -0.31123661082880716\n",
      "-------------------------\n"
     ]
    },
    {
     "name": "stderr",
     "output_type": "stream",
     "text": [
      "/home/mbosnjak/.conda/envs/pero/lib/python3.7/site-packages/scipy/stats/stats.py:3399: PearsonRConstantInputWarning: An input array is constant; the correlation coefficent is not defined.\n",
      "  warnings.warn(PearsonRConstantInputWarning())\n"
     ]
    },
    {
     "name": "stdout",
     "output_type": "stream",
     "text": [
      "Epoch 116 end: 1.6005802154541016, TRAIN MSE is: 1268.745361328125\n",
      "Validation loss: 193908.5937500 - MSE score: 936.7564697\n",
      "Validation pearson is: nan\n",
      "Validation r2_score is: -0.3057632115253357\n",
      "-------------------------\n"
     ]
    },
    {
     "name": "stderr",
     "output_type": "stream",
     "text": [
      "/home/mbosnjak/.conda/envs/pero/lib/python3.7/site-packages/scipy/stats/stats.py:3399: PearsonRConstantInputWarning: An input array is constant; the correlation coefficent is not defined.\n",
      "  warnings.warn(PearsonRConstantInputWarning())\n"
     ]
    },
    {
     "name": "stdout",
     "output_type": "stream",
     "text": [
      "Epoch 117 end: 1.6994545459747314, TRAIN MSE is: 1267.15673828125\n",
      "Validation loss: 193182.7656250 - MSE score: 933.2501221\n",
      "Validation pearson is: nan\n",
      "Validation r2_score is: -0.3008755901213853\n",
      "-------------------------\n"
     ]
    },
    {
     "name": "stderr",
     "output_type": "stream",
     "text": [
      "/home/mbosnjak/.conda/envs/pero/lib/python3.7/site-packages/scipy/stats/stats.py:3399: PearsonRConstantInputWarning: An input array is constant; the correlation coefficent is not defined.\n",
      "  warnings.warn(PearsonRConstantInputWarning())\n"
     ]
    },
    {
     "name": "stdout",
     "output_type": "stream",
     "text": [
      "Epoch 118 end: 1.6268773078918457, TRAIN MSE is: 1199.0892333984375\n",
      "Validation loss: 192441.4218750 - MSE score: 929.6687622\n",
      "Validation pearson is: nan\n",
      "Validation r2_score is: -0.29588352771862203\n",
      "-------------------------\n"
     ]
    },
    {
     "name": "stderr",
     "output_type": "stream",
     "text": [
      "/home/mbosnjak/.conda/envs/pero/lib/python3.7/site-packages/scipy/stats/stats.py:3399: PearsonRConstantInputWarning: An input array is constant; the correlation coefficent is not defined.\n",
      "  warnings.warn(PearsonRConstantInputWarning())\n"
     ]
    },
    {
     "name": "stdout",
     "output_type": "stream",
     "text": [
      "Epoch 119 end: 1.758277177810669, TRAIN MSE is: 1306.2330322265625\n",
      "Validation loss: 191791.6718750 - MSE score: 926.5297241\n",
      "Validation pearson is: nan\n",
      "Validation r2_score is: -0.2915080094501692\n",
      "-------------------------\n"
     ]
    },
    {
     "name": "stderr",
     "output_type": "stream",
     "text": [
      "/home/mbosnjak/.conda/envs/pero/lib/python3.7/site-packages/scipy/stats/stats.py:3399: PearsonRConstantInputWarning: An input array is constant; the correlation coefficent is not defined.\n",
      "  warnings.warn(PearsonRConstantInputWarning())\n"
     ]
    },
    {
     "name": "stdout",
     "output_type": "stream",
     "text": [
      "Epoch 120 end: 1.7423593997955322, TRAIN MSE is: 1256.012451171875\n",
      "Validation loss: 191029.0937500 - MSE score: 922.8458862\n",
      "Validation pearson is: nan\n",
      "Validation r2_score is: -0.28637293753377646\n",
      "-------------------------\n"
     ]
    },
    {
     "name": "stderr",
     "output_type": "stream",
     "text": [
      "/home/mbosnjak/.conda/envs/pero/lib/python3.7/site-packages/scipy/stats/stats.py:3399: PearsonRConstantInputWarning: An input array is constant; the correlation coefficent is not defined.\n",
      "  warnings.warn(PearsonRConstantInputWarning())\n"
     ]
    },
    {
     "name": "stdout",
     "output_type": "stream",
     "text": [
      "Epoch 121 end: 1.8574259281158447, TRAIN MSE is: 1411.697998046875\n",
      "Validation loss: 190414.1562500 - MSE score: 919.8750610\n",
      "Validation pearson is: nan\n",
      "Validation r2_score is: -0.2822319711779564\n",
      "-------------------------\n"
     ]
    },
    {
     "name": "stderr",
     "output_type": "stream",
     "text": [
      "/home/mbosnjak/.conda/envs/pero/lib/python3.7/site-packages/scipy/stats/stats.py:3399: PearsonRConstantInputWarning: An input array is constant; the correlation coefficent is not defined.\n",
      "  warnings.warn(PearsonRConstantInputWarning())\n"
     ]
    },
    {
     "name": "stdout",
     "output_type": "stream",
     "text": [
      "Epoch 122 end: 1.7553560733795166, TRAIN MSE is: 1312.8289794921875\n",
      "Validation loss: 189750.7031250 - MSE score: 916.6700439\n",
      "Validation pearson is: nan\n",
      "Validation r2_score is: -0.27776435656348974\n",
      "-------------------------\n"
     ]
    },
    {
     "name": "stderr",
     "output_type": "stream",
     "text": [
      "/home/mbosnjak/.conda/envs/pero/lib/python3.7/site-packages/scipy/stats/stats.py:3399: PearsonRConstantInputWarning: An input array is constant; the correlation coefficent is not defined.\n",
      "  warnings.warn(PearsonRConstantInputWarning())\n"
     ]
    },
    {
     "name": "stdout",
     "output_type": "stream",
     "text": [
      "Epoch 123 end: 1.6777141094207764, TRAIN MSE is: 1297.189208984375\n",
      "Validation loss: 189132.7187500 - MSE score: 913.6846313\n",
      "Validation pearson is: nan\n",
      "Validation r2_score is: -0.2736028899830152\n",
      "-------------------------\n"
     ]
    },
    {
     "name": "stderr",
     "output_type": "stream",
     "text": [
      "/home/mbosnjak/.conda/envs/pero/lib/python3.7/site-packages/scipy/stats/stats.py:3399: PearsonRConstantInputWarning: An input array is constant; the correlation coefficent is not defined.\n",
      "  warnings.warn(PearsonRConstantInputWarning())\n"
     ]
    },
    {
     "name": "stdout",
     "output_type": "stream",
     "text": [
      "Epoch 124 end: 1.9306738376617432, TRAIN MSE is: 1294.7578125\n",
      "Validation loss: 188485.0625000 - MSE score: 910.5558472\n",
      "Validation pearson is: nan\n",
      "Validation r2_score is: -0.26924160264713404\n",
      "-------------------------\n"
     ]
    },
    {
     "name": "stderr",
     "output_type": "stream",
     "text": [
      "/home/mbosnjak/.conda/envs/pero/lib/python3.7/site-packages/scipy/stats/stats.py:3399: PearsonRConstantInputWarning: An input array is constant; the correlation coefficent is not defined.\n",
      "  warnings.warn(PearsonRConstantInputWarning())\n"
     ]
    },
    {
     "name": "stdout",
     "output_type": "stream",
     "text": [
      "Epoch 125 end: 1.7613651752471924, TRAIN MSE is: 1283.51904296875\n",
      "Validation loss: 187877.6406250 - MSE score: 907.6215820\n",
      "Validation pearson is: nan\n",
      "Validation r2_score is: -0.2651514851617751\n",
      "-------------------------\n"
     ]
    },
    {
     "name": "stderr",
     "output_type": "stream",
     "text": [
      "/home/mbosnjak/.conda/envs/pero/lib/python3.7/site-packages/scipy/stats/stats.py:3399: PearsonRConstantInputWarning: An input array is constant; the correlation coefficent is not defined.\n",
      "  warnings.warn(PearsonRConstantInputWarning())\n"
     ]
    },
    {
     "name": "stdout",
     "output_type": "stream",
     "text": [
      "Epoch 126 end: 1.6099767684936523, TRAIN MSE is: 1293.7049560546875\n",
      "Validation loss: 187323.4375000 - MSE score: 904.9441528\n",
      "Validation pearson is: nan\n",
      "Validation r2_score is: -0.26141935696896645\n",
      "-------------------------\n"
     ]
    },
    {
     "name": "stderr",
     "output_type": "stream",
     "text": [
      "/home/mbosnjak/.conda/envs/pero/lib/python3.7/site-packages/scipy/stats/stats.py:3399: PearsonRConstantInputWarning: An input array is constant; the correlation coefficent is not defined.\n",
      "  warnings.warn(PearsonRConstantInputWarning())\n"
     ]
    },
    {
     "name": "stdout",
     "output_type": "stream",
     "text": [
      "Epoch 127 end: 1.915158987045288, TRAIN MSE is: 1348.564453125\n",
      "Validation loss: 186823.1562500 - MSE score: 902.5274048\n",
      "Validation pearson is: nan\n",
      "Validation r2_score is: -0.2580505830963067\n",
      "-------------------------\n"
     ]
    },
    {
     "name": "stderr",
     "output_type": "stream",
     "text": [
      "/home/mbosnjak/.conda/envs/pero/lib/python3.7/site-packages/scipy/stats/stats.py:3399: PearsonRConstantInputWarning: An input array is constant; the correlation coefficent is not defined.\n",
      "  warnings.warn(PearsonRConstantInputWarning())\n"
     ]
    },
    {
     "name": "stdout",
     "output_type": "stream",
     "text": [
      "Epoch 128 end: 1.7269556522369385, TRAIN MSE is: 1314.62939453125\n",
      "Validation loss: 186382.7968750 - MSE score: 900.4000854\n",
      "Validation pearson is: nan\n",
      "Validation r2_score is: -0.2550851927764841\n",
      "-------------------------\n"
     ]
    },
    {
     "name": "stderr",
     "output_type": "stream",
     "text": [
      "/home/mbosnjak/.conda/envs/pero/lib/python3.7/site-packages/scipy/stats/stats.py:3399: PearsonRConstantInputWarning: An input array is constant; the correlation coefficent is not defined.\n",
      "  warnings.warn(PearsonRConstantInputWarning())\n"
     ]
    },
    {
     "name": "stdout",
     "output_type": "stream",
     "text": [
      "Epoch 129 end: 1.6124625205993652, TRAIN MSE is: 1226.904541015625\n",
      "Validation loss: 185925.0156250 - MSE score: 898.1884766\n",
      "Validation pearson is: nan\n",
      "Validation r2_score is: -0.2520024936905365\n",
      "-------------------------\n"
     ]
    },
    {
     "name": "stderr",
     "output_type": "stream",
     "text": [
      "/home/mbosnjak/.conda/envs/pero/lib/python3.7/site-packages/scipy/stats/stats.py:3399: PearsonRConstantInputWarning: An input array is constant; the correlation coefficent is not defined.\n",
      "  warnings.warn(PearsonRConstantInputWarning())\n"
     ]
    },
    {
     "name": "stdout",
     "output_type": "stream",
     "text": [
      "Epoch 130 end: 1.6473548412322998, TRAIN MSE is: 1221.6591796875\n",
      "Validation loss: 185418.1718750 - MSE score: 895.7398682\n",
      "Validation pearson is: nan\n",
      "Validation r2_score is: -0.24858946645096225\n",
      "-------------------------\n"
     ]
    },
    {
     "name": "stderr",
     "output_type": "stream",
     "text": [
      "/home/mbosnjak/.conda/envs/pero/lib/python3.7/site-packages/scipy/stats/stats.py:3399: PearsonRConstantInputWarning: An input array is constant; the correlation coefficent is not defined.\n",
      "  warnings.warn(PearsonRConstantInputWarning())\n"
     ]
    },
    {
     "name": "stdout",
     "output_type": "stream",
     "text": [
      "Epoch 131 end: 1.624335765838623, TRAIN MSE is: 1206.867431640625\n",
      "Validation loss: 184949.6250000 - MSE score: 893.4764404\n",
      "Validation pearson is: nan\n",
      "Validation r2_score is: -0.2454343475304579\n",
      "-------------------------\n"
     ]
    },
    {
     "name": "stderr",
     "output_type": "stream",
     "text": [
      "/home/mbosnjak/.conda/envs/pero/lib/python3.7/site-packages/scipy/stats/stats.py:3399: PearsonRConstantInputWarning: An input array is constant; the correlation coefficent is not defined.\n",
      "  warnings.warn(PearsonRConstantInputWarning())\n"
     ]
    },
    {
     "name": "stdout",
     "output_type": "stream",
     "text": [
      "Epoch 132 end: 1.5872154235839844, TRAIN MSE is: 1287.3341064453125\n",
      "Validation loss: 184496.9375000 - MSE score: 891.2897339\n",
      "Validation pearson is: nan\n",
      "Validation r2_score is: -0.24238602135919285\n",
      "-------------------------\n"
     ]
    },
    {
     "name": "stderr",
     "output_type": "stream",
     "text": [
      "/home/mbosnjak/.conda/envs/pero/lib/python3.7/site-packages/scipy/stats/stats.py:3399: PearsonRConstantInputWarning: An input array is constant; the correlation coefficent is not defined.\n",
      "  warnings.warn(PearsonRConstantInputWarning())\n"
     ]
    },
    {
     "name": "stdout",
     "output_type": "stream",
     "text": [
      "Epoch 133 end: 1.594468116760254, TRAIN MSE is: 1249.0166015625\n",
      "Validation loss: 184039.5937500 - MSE score: 889.0801392\n",
      "Validation pearson is: nan\n",
      "Validation r2_score is: -0.2393061565338248\n",
      "-------------------------\n"
     ]
    },
    {
     "name": "stderr",
     "output_type": "stream",
     "text": [
      "/home/mbosnjak/.conda/envs/pero/lib/python3.7/site-packages/scipy/stats/stats.py:3399: PearsonRConstantInputWarning: An input array is constant; the correlation coefficent is not defined.\n",
      "  warnings.warn(PearsonRConstantInputWarning())\n"
     ]
    },
    {
     "name": "stdout",
     "output_type": "stream",
     "text": [
      "Epoch 134 end: 1.60878324508667, TRAIN MSE is: 1277.443603515625\n",
      "Validation loss: 183570.7968750 - MSE score: 886.8154297\n",
      "Validation pearson is: nan\n",
      "Validation r2_score is: -0.23614937149197823\n",
      "-------------------------\n"
     ]
    },
    {
     "name": "stderr",
     "output_type": "stream",
     "text": [
      "/home/mbosnjak/.conda/envs/pero/lib/python3.7/site-packages/scipy/stats/stats.py:3399: PearsonRConstantInputWarning: An input array is constant; the correlation coefficent is not defined.\n",
      "  warnings.warn(PearsonRConstantInputWarning())\n"
     ]
    },
    {
     "name": "stdout",
     "output_type": "stream",
     "text": [
      "Epoch 135 end: 1.6057689189910889, TRAIN MSE is: 1312.7532958984375\n",
      "Validation loss: 183078.5468750 - MSE score: 884.4374390\n",
      "Validation pearson is: nan\n",
      "Validation r2_score is: -0.23283467726157325\n",
      "-------------------------\n"
     ]
    },
    {
     "name": "stderr",
     "output_type": "stream",
     "text": [
      "/home/mbosnjak/.conda/envs/pero/lib/python3.7/site-packages/scipy/stats/stats.py:3399: PearsonRConstantInputWarning: An input array is constant; the correlation coefficent is not defined.\n",
      "  warnings.warn(PearsonRConstantInputWarning())\n"
     ]
    },
    {
     "name": "stdout",
     "output_type": "stream",
     "text": [
      "Epoch 136 end: 1.6877706050872803, TRAIN MSE is: 1272.3798828125\n",
      "Validation loss: 182622.1406250 - MSE score: 882.2326660\n",
      "Validation pearson is: nan\n",
      "Validation r2_score is: -0.2297612831169329\n",
      "-------------------------\n"
     ]
    },
    {
     "name": "stderr",
     "output_type": "stream",
     "text": [
      "/home/mbosnjak/.conda/envs/pero/lib/python3.7/site-packages/scipy/stats/stats.py:3399: PearsonRConstantInputWarning: An input array is constant; the correlation coefficent is not defined.\n",
      "  warnings.warn(PearsonRConstantInputWarning())\n"
     ]
    },
    {
     "name": "stdout",
     "output_type": "stream",
     "text": [
      "Epoch 137 end: 1.5541410446166992, TRAIN MSE is: 1267.746826171875\n",
      "Validation loss: 182118.6875000 - MSE score: 879.8004150\n",
      "Validation pearson is: nan\n",
      "Validation r2_score is: -0.22637100840520397\n",
      "-------------------------\n"
     ]
    },
    {
     "name": "stderr",
     "output_type": "stream",
     "text": [
      "/home/mbosnjak/.conda/envs/pero/lib/python3.7/site-packages/scipy/stats/stats.py:3399: PearsonRConstantInputWarning: An input array is constant; the correlation coefficent is not defined.\n",
      "  warnings.warn(PearsonRConstantInputWarning())\n"
     ]
    },
    {
     "name": "stdout",
     "output_type": "stream",
     "text": [
      "Epoch 138 end: 1.557849645614624, TRAIN MSE is: 1274.8687744140625\n",
      "Validation loss: 181551.9687500 - MSE score: 877.0627441\n",
      "Validation pearson is: nan\n",
      "Validation r2_score is: -0.22255484843910778\n",
      "-------------------------\n"
     ]
    },
    {
     "name": "stderr",
     "output_type": "stream",
     "text": [
      "/home/mbosnjak/.conda/envs/pero/lib/python3.7/site-packages/scipy/stats/stats.py:3399: PearsonRConstantInputWarning: An input array is constant; the correlation coefficent is not defined.\n",
      "  warnings.warn(PearsonRConstantInputWarning())\n"
     ]
    },
    {
     "name": "stdout",
     "output_type": "stream",
     "text": [
      "Epoch 139 end: 1.695194959640503, TRAIN MSE is: 1267.7454833984375\n",
      "Validation loss: 181096.1406250 - MSE score: 874.8605347\n",
      "Validation pearson is: nan\n",
      "Validation r2_score is: -0.21948529072887157\n",
      "-------------------------\n"
     ]
    },
    {
     "name": "stderr",
     "output_type": "stream",
     "text": [
      "/home/mbosnjak/.conda/envs/pero/lib/python3.7/site-packages/scipy/stats/stats.py:3399: PearsonRConstantInputWarning: An input array is constant; the correlation coefficent is not defined.\n",
      "  warnings.warn(PearsonRConstantInputWarning())\n"
     ]
    },
    {
     "name": "stdout",
     "output_type": "stream",
     "text": [
      "Epoch 140 end: 1.5949978828430176, TRAIN MSE is: 1205.6409912109375\n",
      "Validation loss: 180678.7031250 - MSE score: 872.8439941\n",
      "Validation pearson is: nan\n",
      "Validation r2_score is: -0.2166743398273625\n",
      "-------------------------\n"
     ]
    },
    {
     "name": "stderr",
     "output_type": "stream",
     "text": [
      "/home/mbosnjak/.conda/envs/pero/lib/python3.7/site-packages/scipy/stats/stats.py:3399: PearsonRConstantInputWarning: An input array is constant; the correlation coefficent is not defined.\n",
      "  warnings.warn(PearsonRConstantInputWarning())\n"
     ]
    },
    {
     "name": "stdout",
     "output_type": "stream",
     "text": [
      "Epoch 141 end: 1.6901419162750244, TRAIN MSE is: 1273.6925048828125\n",
      "Validation loss: 180339.2500000 - MSE score: 871.2039795\n",
      "Validation pearson is: nan\n",
      "Validation r2_score is: -0.21438843295774435\n",
      "-------------------------\n"
     ]
    },
    {
     "name": "stderr",
     "output_type": "stream",
     "text": [
      "/home/mbosnjak/.conda/envs/pero/lib/python3.7/site-packages/scipy/stats/stats.py:3399: PearsonRConstantInputWarning: An input array is constant; the correlation coefficent is not defined.\n",
      "  warnings.warn(PearsonRConstantInputWarning())\n"
     ]
    },
    {
     "name": "stdout",
     "output_type": "stream",
     "text": [
      "Epoch 142 end: 1.7290349006652832, TRAIN MSE is: 1261.518310546875\n",
      "Validation loss: 179977.2656250 - MSE score: 869.4553833\n",
      "Validation pearson is: nan\n",
      "Validation r2_score is: -0.2119508431228354\n",
      "-------------------------\n"
     ]
    },
    {
     "name": "stderr",
     "output_type": "stream",
     "text": [
      "/home/mbosnjak/.conda/envs/pero/lib/python3.7/site-packages/scipy/stats/stats.py:3399: PearsonRConstantInputWarning: An input array is constant; the correlation coefficent is not defined.\n",
      "  warnings.warn(PearsonRConstantInputWarning())\n"
     ]
    },
    {
     "name": "stdout",
     "output_type": "stream",
     "text": [
      "Epoch 143 end: 1.8006892204284668, TRAIN MSE is: 1237.837158203125\n",
      "Validation loss: 179553.7187500 - MSE score: 867.4092407\n",
      "Validation pearson is: nan\n",
      "Validation r2_score is: -0.2090986757021862\n",
      "-------------------------\n"
     ]
    },
    {
     "name": "stderr",
     "output_type": "stream",
     "text": [
      "/home/mbosnjak/.conda/envs/pero/lib/python3.7/site-packages/scipy/stats/stats.py:3399: PearsonRConstantInputWarning: An input array is constant; the correlation coefficent is not defined.\n",
      "  warnings.warn(PearsonRConstantInputWarning())\n"
     ]
    },
    {
     "name": "stdout",
     "output_type": "stream",
     "text": [
      "Epoch 144 end: 1.8450686931610107, TRAIN MSE is: 1247.39892578125\n",
      "Validation loss: 179245.0781250 - MSE score: 865.9182739\n",
      "Validation pearson is: nan\n",
      "Validation r2_score is: -0.2070203759586382\n",
      "-------------------------\n"
     ]
    },
    {
     "name": "stderr",
     "output_type": "stream",
     "text": [
      "/home/mbosnjak/.conda/envs/pero/lib/python3.7/site-packages/scipy/stats/stats.py:3399: PearsonRConstantInputWarning: An input array is constant; the correlation coefficent is not defined.\n",
      "  warnings.warn(PearsonRConstantInputWarning())\n"
     ]
    },
    {
     "name": "stdout",
     "output_type": "stream",
     "text": [
      "Epoch 145 end: 1.830955982208252, TRAIN MSE is: 1282.411865234375\n",
      "Validation loss: 178904.1093750 - MSE score: 864.2709961\n",
      "Validation pearson is: nan\n",
      "Validation r2_score is: -0.20472436785454984\n",
      "-------------------------\n"
     ]
    },
    {
     "name": "stderr",
     "output_type": "stream",
     "text": [
      "/home/mbosnjak/.conda/envs/pero/lib/python3.7/site-packages/scipy/stats/stats.py:3399: PearsonRConstantInputWarning: An input array is constant; the correlation coefficent is not defined.\n",
      "  warnings.warn(PearsonRConstantInputWarning())\n"
     ]
    },
    {
     "name": "stdout",
     "output_type": "stream",
     "text": [
      "Epoch 146 end: 1.7132911682128906, TRAIN MSE is: 1252.24755859375\n",
      "Validation loss: 178535.5156250 - MSE score: 862.4903564\n",
      "Validation pearson is: nan\n",
      "Validation r2_score is: -0.20224228175731995\n",
      "-------------------------\n"
     ]
    },
    {
     "name": "stderr",
     "output_type": "stream",
     "text": [
      "/home/mbosnjak/.conda/envs/pero/lib/python3.7/site-packages/scipy/stats/stats.py:3399: PearsonRConstantInputWarning: An input array is constant; the correlation coefficent is not defined.\n",
      "  warnings.warn(PearsonRConstantInputWarning())\n"
     ]
    },
    {
     "name": "stdout",
     "output_type": "stream",
     "text": [
      "Epoch 147 end: 1.7586138248443604, TRAIN MSE is: 1270.1990966796875\n",
      "Validation loss: 178172.5000000 - MSE score: 860.7366943\n",
      "Validation pearson is: nan\n",
      "Validation r2_score is: -0.1997977987204913\n",
      "-------------------------\n"
     ]
    },
    {
     "name": "stderr",
     "output_type": "stream",
     "text": [
      "/home/mbosnjak/.conda/envs/pero/lib/python3.7/site-packages/scipy/stats/stats.py:3399: PearsonRConstantInputWarning: An input array is constant; the correlation coefficent is not defined.\n",
      "  warnings.warn(PearsonRConstantInputWarning())\n"
     ]
    },
    {
     "name": "stdout",
     "output_type": "stream",
     "text": [
      "Epoch 148 end: 1.8100149631500244, TRAIN MSE is: 1222.54248046875\n",
      "Validation loss: 177816.6093750 - MSE score: 859.0173340\n",
      "Validation pearson is: nan\n",
      "Validation r2_score is: -0.19740119210629992\n",
      "-------------------------\n"
     ]
    },
    {
     "name": "stderr",
     "output_type": "stream",
     "text": [
      "/home/mbosnjak/.conda/envs/pero/lib/python3.7/site-packages/scipy/stats/stats.py:3399: PearsonRConstantInputWarning: An input array is constant; the correlation coefficent is not defined.\n",
      "  warnings.warn(PearsonRConstantInputWarning())\n"
     ]
    },
    {
     "name": "stdout",
     "output_type": "stream",
     "text": [
      "Epoch 149 end: 1.62315034866333, TRAIN MSE is: 1216.724853515625\n",
      "Validation loss: 177454.2500000 - MSE score: 857.2669067\n",
      "Validation pearson is: nan\n",
      "Validation r2_score is: -0.19496117819320213\n",
      "-------------------------\n"
     ]
    },
    {
     "name": "stderr",
     "output_type": "stream",
     "text": [
      "/home/mbosnjak/.conda/envs/pero/lib/python3.7/site-packages/scipy/stats/stats.py:3399: PearsonRConstantInputWarning: An input array is constant; the correlation coefficent is not defined.\n",
      "  warnings.warn(PearsonRConstantInputWarning())\n"
     ]
    },
    {
     "name": "stdout",
     "output_type": "stream",
     "text": [
      "Epoch 150 end: 1.725487232208252, TRAIN MSE is: 1243.2144775390625\n",
      "Validation loss: 177079.5937500 - MSE score: 855.4569702\n",
      "Validation pearson is: nan\n",
      "Validation r2_score is: -0.19243823050448472\n",
      "-------------------------\n"
     ]
    },
    {
     "name": "stderr",
     "output_type": "stream",
     "text": [
      "/home/mbosnjak/.conda/envs/pero/lib/python3.7/site-packages/scipy/stats/stats.py:3399: PearsonRConstantInputWarning: An input array is constant; the correlation coefficent is not defined.\n",
      "  warnings.warn(PearsonRConstantInputWarning())\n"
     ]
    },
    {
     "name": "stdout",
     "output_type": "stream",
     "text": [
      "Epoch 151 end: 1.763681411743164, TRAIN MSE is: 1266.8369140625\n",
      "Validation loss: 176760.9843750 - MSE score: 853.9178467\n",
      "Validation pearson is: nan\n",
      "Validation r2_score is: -0.19029279449668968\n",
      "-------------------------\n"
     ]
    },
    {
     "name": "stderr",
     "output_type": "stream",
     "text": [
      "/home/mbosnjak/.conda/envs/pero/lib/python3.7/site-packages/scipy/stats/stats.py:3399: PearsonRConstantInputWarning: An input array is constant; the correlation coefficent is not defined.\n",
      "  warnings.warn(PearsonRConstantInputWarning())\n"
     ]
    },
    {
     "name": "stdout",
     "output_type": "stream",
     "text": [
      "Epoch 152 end: 1.7053349018096924, TRAIN MSE is: 1345.5635986328125\n",
      "Validation loss: 176456.9687500 - MSE score: 852.4492798\n",
      "Validation pearson is: nan\n",
      "Validation r2_score is: -0.18824559198158353\n",
      "-------------------------\n"
     ]
    },
    {
     "name": "stderr",
     "output_type": "stream",
     "text": [
      "/home/mbosnjak/.conda/envs/pero/lib/python3.7/site-packages/scipy/stats/stats.py:3399: PearsonRConstantInputWarning: An input array is constant; the correlation coefficent is not defined.\n",
      "  warnings.warn(PearsonRConstantInputWarning())\n"
     ]
    },
    {
     "name": "stdout",
     "output_type": "stream",
     "text": [
      "Epoch 153 end: 1.7303149700164795, TRAIN MSE is: 1279.3912353515625\n",
      "Validation loss: 176221.6562500 - MSE score: 851.3123779\n",
      "Validation pearson is: nan\n",
      "Validation r2_score is: -0.18666097133942405\n",
      "-------------------------\n"
     ]
    },
    {
     "name": "stderr",
     "output_type": "stream",
     "text": [
      "/home/mbosnjak/.conda/envs/pero/lib/python3.7/site-packages/scipy/stats/stats.py:3399: PearsonRConstantInputWarning: An input array is constant; the correlation coefficent is not defined.\n",
      "  warnings.warn(PearsonRConstantInputWarning())\n"
     ]
    },
    {
     "name": "stdout",
     "output_type": "stream",
     "text": [
      "Epoch 154 end: 1.7802083492279053, TRAIN MSE is: 1309.250732421875\n",
      "Validation loss: 175946.9843750 - MSE score: 849.9853516\n",
      "Validation pearson is: nan\n",
      "Validation r2_score is: -0.1848112265376769\n",
      "-------------------------\n"
     ]
    },
    {
     "name": "stderr",
     "output_type": "stream",
     "text": [
      "/home/mbosnjak/.conda/envs/pero/lib/python3.7/site-packages/scipy/stats/stats.py:3399: PearsonRConstantInputWarning: An input array is constant; the correlation coefficent is not defined.\n",
      "  warnings.warn(PearsonRConstantInputWarning())\n"
     ]
    },
    {
     "name": "stdout",
     "output_type": "stream",
     "text": [
      "Epoch 155 end: 1.8039112091064453, TRAIN MSE is: 1178.201904296875\n",
      "Validation loss: 175644.8593750 - MSE score: 848.5259399\n",
      "Validation pearson is: nan\n",
      "Validation r2_score is: -0.18277689090347704\n",
      "-------------------------\n"
     ]
    },
    {
     "name": "stderr",
     "output_type": "stream",
     "text": [
      "/home/mbosnjak/.conda/envs/pero/lib/python3.7/site-packages/scipy/stats/stats.py:3399: PearsonRConstantInputWarning: An input array is constant; the correlation coefficent is not defined.\n",
      "  warnings.warn(PearsonRConstantInputWarning())\n"
     ]
    },
    {
     "name": "stdout",
     "output_type": "stream",
     "text": [
      "Epoch 156 end: 1.6543149948120117, TRAIN MSE is: 1260.7239990234375\n",
      "Validation loss: 175395.0468750 - MSE score: 847.3190918\n",
      "Validation pearson is: nan\n",
      "Validation r2_score is: -0.181094630467296\n",
      "-------------------------\n"
     ]
    },
    {
     "name": "stderr",
     "output_type": "stream",
     "text": [
      "/home/mbosnjak/.conda/envs/pero/lib/python3.7/site-packages/scipy/stats/stats.py:3399: PearsonRConstantInputWarning: An input array is constant; the correlation coefficent is not defined.\n",
      "  warnings.warn(PearsonRConstantInputWarning())\n"
     ]
    },
    {
     "name": "stdout",
     "output_type": "stream",
     "text": [
      "Epoch 157 end: 1.636495590209961, TRAIN MSE is: 1202.2642822265625\n",
      "Validation loss: 175078.4062500 - MSE score: 845.7894287\n",
      "Validation pearson is: nan\n",
      "Validation r2_score is: -0.1789623330027148\n",
      "-------------------------\n"
     ]
    },
    {
     "name": "stderr",
     "output_type": "stream",
     "text": [
      "/home/mbosnjak/.conda/envs/pero/lib/python3.7/site-packages/scipy/stats/stats.py:3399: PearsonRConstantInputWarning: An input array is constant; the correlation coefficent is not defined.\n",
      "  warnings.warn(PearsonRConstantInputWarning())\n"
     ]
    },
    {
     "name": "stdout",
     "output_type": "stream",
     "text": [
      "Epoch 158 end: 1.7381153106689453, TRAIN MSE is: 1326.580078125\n",
      "Validation loss: 174893.1875000 - MSE score: 844.8946533\n",
      "Validation pearson is: nan\n",
      "Validation r2_score is: -0.17771528484421095\n",
      "-------------------------\n"
     ]
    },
    {
     "name": "stderr",
     "output_type": "stream",
     "text": [
      "/home/mbosnjak/.conda/envs/pero/lib/python3.7/site-packages/scipy/stats/stats.py:3399: PearsonRConstantInputWarning: An input array is constant; the correlation coefficent is not defined.\n",
      "  warnings.warn(PearsonRConstantInputWarning())\n"
     ]
    },
    {
     "name": "stdout",
     "output_type": "stream",
     "text": [
      "Epoch 159 end: 1.7031371593475342, TRAIN MSE is: 1264.0174560546875\n",
      "Validation loss: 174689.4062500 - MSE score: 843.9101562\n",
      "Validation pearson is: nan\n",
      "Validation r2_score is: -0.1763429046331133\n",
      "-------------------------\n"
     ]
    },
    {
     "name": "stderr",
     "output_type": "stream",
     "text": [
      "/home/mbosnjak/.conda/envs/pero/lib/python3.7/site-packages/scipy/stats/stats.py:3399: PearsonRConstantInputWarning: An input array is constant; the correlation coefficent is not defined.\n",
      "  warnings.warn(PearsonRConstantInputWarning())\n"
     ]
    },
    {
     "name": "stdout",
     "output_type": "stream",
     "text": [
      "Epoch 160 end: 1.6580898761749268, TRAIN MSE is: 1188.3135986328125\n",
      "Validation loss: 174487.4062500 - MSE score: 842.9343262\n",
      "Validation pearson is: nan\n",
      "Validation r2_score is: -0.17498264436965094\n",
      "-------------------------\n"
     ]
    },
    {
     "name": "stderr",
     "output_type": "stream",
     "text": [
      "/home/mbosnjak/.conda/envs/pero/lib/python3.7/site-packages/scipy/stats/stats.py:3399: PearsonRConstantInputWarning: An input array is constant; the correlation coefficent is not defined.\n",
      "  warnings.warn(PearsonRConstantInputWarning())\n"
     ]
    },
    {
     "name": "stdout",
     "output_type": "stream",
     "text": [
      "Epoch 161 end: 1.687199592590332, TRAIN MSE is: 1310.1671142578125\n",
      "Validation loss: 174301.6718750 - MSE score: 842.0370483\n",
      "Validation pearson is: nan\n",
      "Validation r2_score is: -0.17373197462007006\n",
      "-------------------------\n"
     ]
    },
    {
     "name": "stderr",
     "output_type": "stream",
     "text": [
      "/home/mbosnjak/.conda/envs/pero/lib/python3.7/site-packages/scipy/stats/stats.py:3399: PearsonRConstantInputWarning: An input array is constant; the correlation coefficent is not defined.\n",
      "  warnings.warn(PearsonRConstantInputWarning())\n"
     ]
    },
    {
     "name": "stdout",
     "output_type": "stream",
     "text": [
      "Epoch 162 end: 1.729537010192871, TRAIN MSE is: 1225.568603515625\n",
      "Validation loss: 174112.2812500 - MSE score: 841.1221313\n",
      "Validation pearson is: nan\n",
      "Validation r2_score is: -0.17245659952655257\n",
      "-------------------------\n"
     ]
    },
    {
     "name": "stderr",
     "output_type": "stream",
     "text": [
      "/home/mbosnjak/.conda/envs/pero/lib/python3.7/site-packages/scipy/stats/stats.py:3399: PearsonRConstantInputWarning: An input array is constant; the correlation coefficent is not defined.\n",
      "  warnings.warn(PearsonRConstantInputWarning())\n"
     ]
    },
    {
     "name": "stdout",
     "output_type": "stream",
     "text": [
      "Epoch 163 end: 1.8212940692901611, TRAIN MSE is: 1274.3909912109375\n",
      "Validation loss: 173944.3281250 - MSE score: 840.3106689\n",
      "Validation pearson is: nan\n",
      "Validation r2_score is: -0.1713255858464926\n",
      "-------------------------\n"
     ]
    },
    {
     "name": "stderr",
     "output_type": "stream",
     "text": [
      "/home/mbosnjak/.conda/envs/pero/lib/python3.7/site-packages/scipy/stats/stats.py:3399: PearsonRConstantInputWarning: An input array is constant; the correlation coefficent is not defined.\n",
      "  warnings.warn(PearsonRConstantInputWarning())\n"
     ]
    },
    {
     "name": "stdout",
     "output_type": "stream",
     "text": [
      "Epoch 164 end: 1.7194416522979736, TRAIN MSE is: 1224.635498046875\n",
      "Validation loss: 173727.3906250 - MSE score: 839.2627563\n",
      "Validation pearson is: nan\n",
      "Validation r2_score is: -0.1698648516879746\n",
      "-------------------------\n"
     ]
    },
    {
     "name": "stderr",
     "output_type": "stream",
     "text": [
      "/home/mbosnjak/.conda/envs/pero/lib/python3.7/site-packages/scipy/stats/stats.py:3399: PearsonRConstantInputWarning: An input array is constant; the correlation coefficent is not defined.\n",
      "  warnings.warn(PearsonRConstantInputWarning())\n"
     ]
    },
    {
     "name": "stdout",
     "output_type": "stream",
     "text": [
      "Epoch 165 end: 1.632523775100708, TRAIN MSE is: 1213.286376953125\n",
      "Validation loss: 173499.8906250 - MSE score: 838.1636963\n",
      "Validation pearson is: nan\n",
      "Validation r2_score is: -0.1683327423513985\n",
      "-------------------------\n"
     ]
    },
    {
     "name": "stderr",
     "output_type": "stream",
     "text": [
      "/home/mbosnjak/.conda/envs/pero/lib/python3.7/site-packages/scipy/stats/stats.py:3399: PearsonRConstantInputWarning: An input array is constant; the correlation coefficent is not defined.\n",
      "  warnings.warn(PearsonRConstantInputWarning())\n"
     ]
    },
    {
     "name": "stdout",
     "output_type": "stream",
     "text": [
      "Epoch 166 end: 1.6677815914154053, TRAIN MSE is: 1213.590087890625\n",
      "Validation loss: 173301.7500000 - MSE score: 837.2065430\n",
      "Validation pearson is: nan\n",
      "Validation r2_score is: -0.16699855351559867\n",
      "-------------------------\n"
     ]
    },
    {
     "name": "stderr",
     "output_type": "stream",
     "text": [
      "/home/mbosnjak/.conda/envs/pero/lib/python3.7/site-packages/scipy/stats/stats.py:3399: PearsonRConstantInputWarning: An input array is constant; the correlation coefficent is not defined.\n",
      "  warnings.warn(PearsonRConstantInputWarning())\n"
     ]
    },
    {
     "name": "stdout",
     "output_type": "stream",
     "text": [
      "Epoch 167 end: 1.6942367553710938, TRAIN MSE is: 1176.6326904296875\n",
      "Validation loss: 173113.3125000 - MSE score: 836.2962036\n",
      "Validation pearson is: nan\n",
      "Validation r2_score is: -0.16572963596196022\n",
      "-------------------------\n"
     ]
    },
    {
     "name": "stderr",
     "output_type": "stream",
     "text": [
      "/home/mbosnjak/.conda/envs/pero/lib/python3.7/site-packages/scipy/stats/stats.py:3399: PearsonRConstantInputWarning: An input array is constant; the correlation coefficent is not defined.\n",
      "  warnings.warn(PearsonRConstantInputWarning())\n"
     ]
    },
    {
     "name": "stdout",
     "output_type": "stream",
     "text": [
      "Epoch 168 end: 1.6408746242523193, TRAIN MSE is: 1275.484619140625\n",
      "Validation loss: 172862.6406250 - MSE score: 835.0852661\n",
      "Validation pearson is: nan\n",
      "Validation r2_score is: -0.16404172896380298\n",
      "-------------------------\n"
     ]
    },
    {
     "name": "stderr",
     "output_type": "stream",
     "text": [
      "/home/mbosnjak/.conda/envs/pero/lib/python3.7/site-packages/scipy/stats/stats.py:3399: PearsonRConstantInputWarning: An input array is constant; the correlation coefficent is not defined.\n",
      "  warnings.warn(PearsonRConstantInputWarning())\n"
     ]
    },
    {
     "name": "stdout",
     "output_type": "stream",
     "text": [
      "Epoch 169 end: 1.6821610927581787, TRAIN MSE is: 1229.6640625\n",
      "Validation loss: 172620.4531250 - MSE score: 833.9152832\n",
      "Validation pearson is: nan\n",
      "Validation r2_score is: -0.16241081374565813\n",
      "-------------------------\n"
     ]
    },
    {
     "name": "stderr",
     "output_type": "stream",
     "text": [
      "/home/mbosnjak/.conda/envs/pero/lib/python3.7/site-packages/scipy/stats/stats.py:3399: PearsonRConstantInputWarning: An input array is constant; the correlation coefficent is not defined.\n",
      "  warnings.warn(PearsonRConstantInputWarning())\n"
     ]
    },
    {
     "name": "stdout",
     "output_type": "stream",
     "text": [
      "Epoch 170 end: 1.679053783416748, TRAIN MSE is: 1246.2177734375\n",
      "Validation loss: 172357.4218750 - MSE score: 832.6445312\n",
      "Validation pearson is: nan\n",
      "Validation r2_score is: -0.1606395825285738\n",
      "-------------------------\n"
     ]
    },
    {
     "name": "stderr",
     "output_type": "stream",
     "text": [
      "/home/mbosnjak/.conda/envs/pero/lib/python3.7/site-packages/scipy/stats/stats.py:3399: PearsonRConstantInputWarning: An input array is constant; the correlation coefficent is not defined.\n",
      "  warnings.warn(PearsonRConstantInputWarning())\n"
     ]
    },
    {
     "name": "stdout",
     "output_type": "stream",
     "text": [
      "Epoch 171 end: 1.663287878036499, TRAIN MSE is: 1211.3214111328125\n",
      "Validation loss: 172180.6250000 - MSE score: 831.7905884\n",
      "Validation pearson is: nan\n",
      "Validation r2_score is: -0.15944900488506852\n",
      "-------------------------\n"
     ]
    },
    {
     "name": "stderr",
     "output_type": "stream",
     "text": [
      "/home/mbosnjak/.conda/envs/pero/lib/python3.7/site-packages/scipy/stats/stats.py:3399: PearsonRConstantInputWarning: An input array is constant; the correlation coefficent is not defined.\n",
      "  warnings.warn(PearsonRConstantInputWarning())\n"
     ]
    },
    {
     "name": "stdout",
     "output_type": "stream",
     "text": [
      "Epoch 172 end: 1.6518919467926025, TRAIN MSE is: 1223.70166015625\n",
      "Validation loss: 171994.2500000 - MSE score: 830.8900757\n",
      "Validation pearson is: nan\n",
      "Validation r2_score is: -0.15819395498864974\n",
      "-------------------------\n"
     ]
    },
    {
     "name": "stderr",
     "output_type": "stream",
     "text": [
      "/home/mbosnjak/.conda/envs/pero/lib/python3.7/site-packages/scipy/stats/stats.py:3399: PearsonRConstantInputWarning: An input array is constant; the correlation coefficent is not defined.\n",
      "  warnings.warn(PearsonRConstantInputWarning())\n"
     ]
    },
    {
     "name": "stdout",
     "output_type": "stream",
     "text": [
      "Epoch 173 end: 1.7217519283294678, TRAIN MSE is: 1298.26025390625\n",
      "Validation loss: 171756.8750000 - MSE score: 829.7433472\n",
      "Validation pearson is: nan\n",
      "Validation r2_score is: -0.15659547022220033\n",
      "-------------------------\n"
     ]
    },
    {
     "name": "stderr",
     "output_type": "stream",
     "text": [
      "/home/mbosnjak/.conda/envs/pero/lib/python3.7/site-packages/scipy/stats/stats.py:3399: PearsonRConstantInputWarning: An input array is constant; the correlation coefficent is not defined.\n",
      "  warnings.warn(PearsonRConstantInputWarning())\n"
     ]
    },
    {
     "name": "stdout",
     "output_type": "stream",
     "text": [
      "Epoch 174 end: 1.7409842014312744, TRAIN MSE is: 1213.4268798828125\n",
      "Validation loss: 171616.8906250 - MSE score: 829.0670166\n",
      "Validation pearson is: nan\n",
      "Validation r2_score is: -0.15565287944725115\n",
      "-------------------------\n"
     ]
    },
    {
     "name": "stderr",
     "output_type": "stream",
     "text": [
      "/home/mbosnjak/.conda/envs/pero/lib/python3.7/site-packages/scipy/stats/stats.py:3399: PearsonRConstantInputWarning: An input array is constant; the correlation coefficent is not defined.\n",
      "  warnings.warn(PearsonRConstantInputWarning())\n"
     ]
    },
    {
     "name": "stdout",
     "output_type": "stream",
     "text": [
      "Epoch 175 end: 1.5986082553863525, TRAIN MSE is: 1210.4544677734375\n",
      "Validation loss: 171469.2500000 - MSE score: 828.3538818\n",
      "Validation pearson is: nan\n",
      "Validation r2_score is: -0.1546586598168498\n",
      "-------------------------\n"
     ]
    },
    {
     "name": "stderr",
     "output_type": "stream",
     "text": [
      "/home/mbosnjak/.conda/envs/pero/lib/python3.7/site-packages/scipy/stats/stats.py:3399: PearsonRConstantInputWarning: An input array is constant; the correlation coefficent is not defined.\n",
      "  warnings.warn(PearsonRConstantInputWarning())\n"
     ]
    },
    {
     "name": "stdout",
     "output_type": "stream",
     "text": [
      "Epoch 176 end: 1.5746097564697266, TRAIN MSE is: 1254.1712646484375\n",
      "Validation loss: 171288.9687500 - MSE score: 827.4829712\n",
      "Validation pearson is: nan\n",
      "Validation r2_score is: -0.1534446343956899\n",
      "-------------------------\n"
     ]
    },
    {
     "name": "stderr",
     "output_type": "stream",
     "text": [
      "/home/mbosnjak/.conda/envs/pero/lib/python3.7/site-packages/scipy/stats/stats.py:3399: PearsonRConstantInputWarning: An input array is constant; the correlation coefficent is not defined.\n",
      "  warnings.warn(PearsonRConstantInputWarning())\n"
     ]
    },
    {
     "name": "stdout",
     "output_type": "stream",
     "text": [
      "Epoch 177 end: 1.6061780452728271, TRAIN MSE is: 1209.52294921875\n",
      "Validation loss: 171067.7031250 - MSE score: 826.4140015\n",
      "Validation pearson is: nan\n",
      "Validation r2_score is: -0.15195476805354446\n",
      "-------------------------\n"
     ]
    },
    {
     "name": "stderr",
     "output_type": "stream",
     "text": [
      "/home/mbosnjak/.conda/envs/pero/lib/python3.7/site-packages/scipy/stats/stats.py:3399: PearsonRConstantInputWarning: An input array is constant; the correlation coefficent is not defined.\n",
      "  warnings.warn(PearsonRConstantInputWarning())\n"
     ]
    },
    {
     "name": "stdout",
     "output_type": "stream",
     "text": [
      "Epoch 178 end: 1.692828893661499, TRAIN MSE is: 1291.2847900390625\n",
      "Validation loss: 170913.3593750 - MSE score: 825.6684570\n",
      "Validation pearson is: nan\n",
      "Validation r2_score is: -0.1509154772281034\n",
      "-------------------------\n"
     ]
    },
    {
     "name": "stderr",
     "output_type": "stream",
     "text": [
      "/home/mbosnjak/.conda/envs/pero/lib/python3.7/site-packages/scipy/stats/stats.py:3399: PearsonRConstantInputWarning: An input array is constant; the correlation coefficent is not defined.\n",
      "  warnings.warn(PearsonRConstantInputWarning())\n"
     ]
    },
    {
     "name": "stdout",
     "output_type": "stream",
     "text": [
      "Epoch 179 end: 1.6861011981964111, TRAIN MSE is: 1292.6767578125\n",
      "Validation loss: 170828.2500000 - MSE score: 825.2573242\n",
      "Validation pearson is: nan\n",
      "Validation r2_score is: -0.1503422752193826\n",
      "-------------------------\n"
     ]
    },
    {
     "name": "stderr",
     "output_type": "stream",
     "text": [
      "/home/mbosnjak/.conda/envs/pero/lib/python3.7/site-packages/scipy/stats/stats.py:3399: PearsonRConstantInputWarning: An input array is constant; the correlation coefficent is not defined.\n",
      "  warnings.warn(PearsonRConstantInputWarning())\n"
     ]
    },
    {
     "name": "stdout",
     "output_type": "stream",
     "text": [
      "Epoch 180 end: 1.762953281402588, TRAIN MSE is: 1224.0426025390625\n",
      "Validation loss: 170692.7812500 - MSE score: 824.6027832\n",
      "Validation pearson is: nan\n",
      "Validation r2_score is: -0.1494299409690174\n",
      "-------------------------\n"
     ]
    },
    {
     "name": "stderr",
     "output_type": "stream",
     "text": [
      "/home/mbosnjak/.conda/envs/pero/lib/python3.7/site-packages/scipy/stats/stats.py:3399: PearsonRConstantInputWarning: An input array is constant; the correlation coefficent is not defined.\n",
      "  warnings.warn(PearsonRConstantInputWarning())\n"
     ]
    },
    {
     "name": "stdout",
     "output_type": "stream",
     "text": [
      "Epoch 181 end: 1.6991560459136963, TRAIN MSE is: 1239.857421875\n",
      "Validation loss: 170546.2031250 - MSE score: 823.8947754\n",
      "Validation pearson is: nan\n",
      "Validation r2_score is: -0.148443009353864\n",
      "-------------------------\n"
     ]
    },
    {
     "name": "stderr",
     "output_type": "stream",
     "text": [
      "/home/mbosnjak/.conda/envs/pero/lib/python3.7/site-packages/scipy/stats/stats.py:3399: PearsonRConstantInputWarning: An input array is constant; the correlation coefficent is not defined.\n",
      "  warnings.warn(PearsonRConstantInputWarning())\n"
     ]
    },
    {
     "name": "stdout",
     "output_type": "stream",
     "text": [
      "Epoch 182 end: 1.8152670860290527, TRAIN MSE is: 1276.3817138671875\n",
      "Validation loss: 170462.7656250 - MSE score: 823.4916992\n",
      "Validation pearson is: nan\n",
      "Validation r2_score is: -0.14788120366915813\n",
      "-------------------------\n"
     ]
    },
    {
     "name": "stderr",
     "output_type": "stream",
     "text": [
      "/home/mbosnjak/.conda/envs/pero/lib/python3.7/site-packages/scipy/stats/stats.py:3399: PearsonRConstantInputWarning: An input array is constant; the correlation coefficent is not defined.\n",
      "  warnings.warn(PearsonRConstantInputWarning())\n"
     ]
    },
    {
     "name": "stdout",
     "output_type": "stream",
     "text": [
      "Epoch 183 end: 1.8252952098846436, TRAIN MSE is: 1304.703125\n",
      "Validation loss: 170295.2343750 - MSE score: 822.6821899\n",
      "Validation pearson is: nan\n",
      "Validation r2_score is: -0.14675293155889868\n",
      "-------------------------\n"
     ]
    },
    {
     "name": "stderr",
     "output_type": "stream",
     "text": [
      "/home/mbosnjak/.conda/envs/pero/lib/python3.7/site-packages/scipy/stats/stats.py:3399: PearsonRConstantInputWarning: An input array is constant; the correlation coefficent is not defined.\n",
      "  warnings.warn(PearsonRConstantInputWarning())\n"
     ]
    },
    {
     "name": "stdout",
     "output_type": "stream",
     "text": [
      "Epoch 184 end: 1.7580795288085938, TRAIN MSE is: 1225.6201171875\n",
      "Validation loss: 170206.4375000 - MSE score: 822.2532959\n",
      "Validation pearson is: nan\n",
      "Validation r2_score is: -0.14615502562549398\n",
      "-------------------------\n"
     ]
    },
    {
     "name": "stderr",
     "output_type": "stream",
     "text": [
      "/home/mbosnjak/.conda/envs/pero/lib/python3.7/site-packages/scipy/stats/stats.py:3399: PearsonRConstantInputWarning: An input array is constant; the correlation coefficent is not defined.\n",
      "  warnings.warn(PearsonRConstantInputWarning())\n"
     ]
    },
    {
     "name": "stdout",
     "output_type": "stream",
     "text": [
      "Epoch 185 end: 1.692427635192871, TRAIN MSE is: 1176.905517578125\n",
      "Validation loss: 170101.2500000 - MSE score: 821.7451782\n",
      "Validation pearson is: nan\n",
      "Validation r2_score is: -0.145446632611258\n",
      "-------------------------\n"
     ]
    },
    {
     "name": "stderr",
     "output_type": "stream",
     "text": [
      "/home/mbosnjak/.conda/envs/pero/lib/python3.7/site-packages/scipy/stats/stats.py:3399: PearsonRConstantInputWarning: An input array is constant; the correlation coefficent is not defined.\n",
      "  warnings.warn(PearsonRConstantInputWarning())\n"
     ]
    },
    {
     "name": "stdout",
     "output_type": "stream",
     "text": [
      "Epoch 186 end: 1.7250592708587646, TRAIN MSE is: 1235.200439453125\n",
      "Validation loss: 169976.1718750 - MSE score: 821.1409912\n",
      "Validation pearson is: nan\n",
      "Validation r2_score is: -0.14460444352908963\n",
      "-------------------------\n"
     ]
    },
    {
     "name": "stderr",
     "output_type": "stream",
     "text": [
      "/home/mbosnjak/.conda/envs/pero/lib/python3.7/site-packages/scipy/stats/stats.py:3399: PearsonRConstantInputWarning: An input array is constant; the correlation coefficent is not defined.\n",
      "  warnings.warn(PearsonRConstantInputWarning())\n"
     ]
    },
    {
     "name": "stdout",
     "output_type": "stream",
     "text": [
      "Epoch 187 end: 1.6716866493225098, TRAIN MSE is: 1248.4371337890625\n",
      "Validation loss: 169762.2343750 - MSE score: 820.1074829\n",
      "Validation pearson is: nan\n",
      "Validation r2_score is: -0.14316391346037904\n",
      "-------------------------\n"
     ]
    },
    {
     "name": "stderr",
     "output_type": "stream",
     "text": [
      "/home/mbosnjak/.conda/envs/pero/lib/python3.7/site-packages/scipy/stats/stats.py:3399: PearsonRConstantInputWarning: An input array is constant; the correlation coefficent is not defined.\n",
      "  warnings.warn(PearsonRConstantInputWarning())\n"
     ]
    },
    {
     "name": "stdout",
     "output_type": "stream",
     "text": [
      "Epoch 188 end: 1.5657539367675781, TRAIN MSE is: 1239.07080078125\n",
      "Validation loss: 169558.7187500 - MSE score: 819.1242676\n",
      "Validation pearson is: nan\n",
      "Validation r2_score is: -0.1417932870749783\n",
      "-------------------------\n"
     ]
    },
    {
     "name": "stderr",
     "output_type": "stream",
     "text": [
      "/home/mbosnjak/.conda/envs/pero/lib/python3.7/site-packages/scipy/stats/stats.py:3399: PearsonRConstantInputWarning: An input array is constant; the correlation coefficent is not defined.\n",
      "  warnings.warn(PearsonRConstantInputWarning())\n"
     ]
    },
    {
     "name": "stdout",
     "output_type": "stream",
     "text": [
      "Epoch 189 end: 1.580171823501587, TRAIN MSE is: 1297.9697265625\n",
      "Validation loss: 169553.1718750 - MSE score: 819.0974731\n",
      "Validation pearson is: nan\n",
      "Validation r2_score is: -0.14175597200535273\n",
      "-------------------------\n"
     ]
    },
    {
     "name": "stderr",
     "output_type": "stream",
     "text": [
      "/home/mbosnjak/.conda/envs/pero/lib/python3.7/site-packages/scipy/stats/stats.py:3399: PearsonRConstantInputWarning: An input array is constant; the correlation coefficent is not defined.\n",
      "  warnings.warn(PearsonRConstantInputWarning())\n"
     ]
    },
    {
     "name": "stdout",
     "output_type": "stream",
     "text": [
      "Epoch 190 end: 1.6161773204803467, TRAIN MSE is: 1196.223388671875\n",
      "Validation loss: 169489.1093750 - MSE score: 818.7879028\n",
      "Validation pearson is: nan\n",
      "Validation r2_score is: -0.14132452765169545\n",
      "-------------------------\n"
     ]
    },
    {
     "name": "stderr",
     "output_type": "stream",
     "text": [
      "/home/mbosnjak/.conda/envs/pero/lib/python3.7/site-packages/scipy/stats/stats.py:3399: PearsonRConstantInputWarning: An input array is constant; the correlation coefficent is not defined.\n",
      "  warnings.warn(PearsonRConstantInputWarning())\n"
     ]
    },
    {
     "name": "stdout",
     "output_type": "stream",
     "text": [
      "Epoch 191 end: 1.633213758468628, TRAIN MSE is: 1245.3265380859375\n",
      "Validation loss: 169287.1250000 - MSE score: 817.8122559\n",
      "Validation pearson is: nan\n",
      "Validation r2_score is: -0.13996444311347433\n",
      "-------------------------\n"
     ]
    },
    {
     "name": "stderr",
     "output_type": "stream",
     "text": [
      "/home/mbosnjak/.conda/envs/pero/lib/python3.7/site-packages/scipy/stats/stats.py:3399: PearsonRConstantInputWarning: An input array is constant; the correlation coefficent is not defined.\n",
      "  warnings.warn(PearsonRConstantInputWarning())\n"
     ]
    },
    {
     "name": "stdout",
     "output_type": "stream",
     "text": [
      "Epoch 192 end: 1.6321454048156738, TRAIN MSE is: 1285.314453125\n",
      "Validation loss: 169126.7187500 - MSE score: 817.0372314\n",
      "Validation pearson is: nan\n",
      "Validation r2_score is: -0.13888425794893688\n",
      "-------------------------\n"
     ]
    },
    {
     "name": "stderr",
     "output_type": "stream",
     "text": [
      "/home/mbosnjak/.conda/envs/pero/lib/python3.7/site-packages/scipy/stats/stats.py:3399: PearsonRConstantInputWarning: An input array is constant; the correlation coefficent is not defined.\n",
      "  warnings.warn(PearsonRConstantInputWarning())\n"
     ]
    },
    {
     "name": "stdout",
     "output_type": "stream",
     "text": [
      "Epoch 193 end: 1.5976247787475586, TRAIN MSE is: 1238.2261962890625\n",
      "Validation loss: 169044.7031250 - MSE score: 816.6409912\n",
      "Validation pearson is: nan\n",
      "Validation r2_score is: -0.13833194949083438\n",
      "-------------------------\n"
     ]
    },
    {
     "name": "stderr",
     "output_type": "stream",
     "text": [
      "/home/mbosnjak/.conda/envs/pero/lib/python3.7/site-packages/scipy/stats/stats.py:3399: PearsonRConstantInputWarning: An input array is constant; the correlation coefficent is not defined.\n",
      "  warnings.warn(PearsonRConstantInputWarning())\n"
     ]
    },
    {
     "name": "stdout",
     "output_type": "stream",
     "text": [
      "Epoch 194 end: 1.6748809814453125, TRAIN MSE is: 1249.8082275390625\n",
      "Validation loss: 168981.8750000 - MSE score: 816.3374634\n",
      "Validation pearson is: nan\n",
      "Validation r2_score is: -0.13790893625212197\n",
      "-------------------------\n"
     ]
    },
    {
     "name": "stderr",
     "output_type": "stream",
     "text": [
      "/home/mbosnjak/.conda/envs/pero/lib/python3.7/site-packages/scipy/stats/stats.py:3399: PearsonRConstantInputWarning: An input array is constant; the correlation coefficent is not defined.\n",
      "  warnings.warn(PearsonRConstantInputWarning())\n"
     ]
    },
    {
     "name": "stdout",
     "output_type": "stream",
     "text": [
      "Epoch 195 end: 1.6354560852050781, TRAIN MSE is: 1183.4803466796875\n",
      "Validation loss: 168850.5468750 - MSE score: 815.7030640\n",
      "Validation pearson is: nan\n",
      "Validation r2_score is: -0.13702445775439953\n",
      "-------------------------\n"
     ]
    },
    {
     "name": "stderr",
     "output_type": "stream",
     "text": [
      "/home/mbosnjak/.conda/envs/pero/lib/python3.7/site-packages/scipy/stats/stats.py:3399: PearsonRConstantInputWarning: An input array is constant; the correlation coefficent is not defined.\n",
      "  warnings.warn(PearsonRConstantInputWarning())\n"
     ]
    },
    {
     "name": "stdout",
     "output_type": "stream",
     "text": [
      "Epoch 196 end: 1.663130283355713, TRAIN MSE is: 1107.5648193359375\n",
      "Validation loss: 168727.2343750 - MSE score: 815.1073608\n",
      "Validation pearson is: nan\n",
      "Validation r2_score is: -0.1361942102694489\n",
      "-------------------------\n"
     ]
    },
    {
     "name": "stderr",
     "output_type": "stream",
     "text": [
      "/home/mbosnjak/.conda/envs/pero/lib/python3.7/site-packages/scipy/stats/stats.py:3399: PearsonRConstantInputWarning: An input array is constant; the correlation coefficent is not defined.\n",
      "  warnings.warn(PearsonRConstantInputWarning())\n"
     ]
    },
    {
     "name": "stdout",
     "output_type": "stream",
     "text": [
      "Epoch 197 end: 1.62066650390625, TRAIN MSE is: 1256.8531494140625\n",
      "Validation loss: 168651.5312500 - MSE score: 814.7416382\n",
      "Validation pearson is: nan\n",
      "Validation r2_score is: -0.13568433323084195\n",
      "-------------------------\n"
     ]
    },
    {
     "name": "stderr",
     "output_type": "stream",
     "text": [
      "/home/mbosnjak/.conda/envs/pero/lib/python3.7/site-packages/scipy/stats/stats.py:3399: PearsonRConstantInputWarning: An input array is constant; the correlation coefficent is not defined.\n",
      "  warnings.warn(PearsonRConstantInputWarning())\n"
     ]
    },
    {
     "name": "stdout",
     "output_type": "stream",
     "text": [
      "Epoch 198 end: 1.6252567768096924, TRAIN MSE is: 1243.322509765625\n",
      "Validation loss: 168536.5000000 - MSE score: 814.1859741\n",
      "Validation pearson is: nan\n",
      "Validation r2_score is: -0.13490983620195784\n",
      "-------------------------\n"
     ]
    },
    {
     "name": "stderr",
     "output_type": "stream",
     "text": [
      "/home/mbosnjak/.conda/envs/pero/lib/python3.7/site-packages/scipy/stats/stats.py:3399: PearsonRConstantInputWarning: An input array is constant; the correlation coefficent is not defined.\n",
      "  warnings.warn(PearsonRConstantInputWarning())\n"
     ]
    },
    {
     "name": "stdout",
     "output_type": "stream",
     "text": [
      "Epoch 199 end: 1.666595697402954, TRAIN MSE is: 1223.9351806640625\n",
      "Validation loss: 168470.5781250 - MSE score: 813.8676147\n",
      "Validation pearson is: nan\n",
      "Validation r2_score is: -0.13446594846416815\n",
      "-------------------------\n"
     ]
    },
    {
     "name": "stderr",
     "output_type": "stream",
     "text": [
      "/home/mbosnjak/.conda/envs/pero/lib/python3.7/site-packages/scipy/stats/stats.py:3399: PearsonRConstantInputWarning: An input array is constant; the correlation coefficent is not defined.\n",
      "  warnings.warn(PearsonRConstantInputWarning())\n"
     ]
    },
    {
     "name": "stdout",
     "output_type": "stream",
     "text": [
      "Epoch 200 end: 1.7129740715026855, TRAIN MSE is: 1241.4493408203125\n",
      "Validation loss: 168373.8750000 - MSE score: 813.4004517\n",
      "Validation pearson is: nan\n",
      "Validation r2_score is: -0.1338147770834619\n",
      "-------------------------\n"
     ]
    },
    {
     "name": "stderr",
     "output_type": "stream",
     "text": [
      "/home/mbosnjak/.conda/envs/pero/lib/python3.7/site-packages/scipy/stats/stats.py:3399: PearsonRConstantInputWarning: An input array is constant; the correlation coefficent is not defined.\n",
      "  warnings.warn(PearsonRConstantInputWarning())\n"
     ]
    },
    {
     "name": "stdout",
     "output_type": "stream",
     "text": [
      "Epoch 201 end: 1.7580182552337646, TRAIN MSE is: 1191.2459716796875\n",
      "Validation loss: 168224.9218750 - MSE score: 812.6807251\n",
      "Validation pearson is: nan\n",
      "Validation r2_score is: -0.13281157895570073\n",
      "-------------------------\n"
     ]
    },
    {
     "name": "stderr",
     "output_type": "stream",
     "text": [
      "/home/mbosnjak/.conda/envs/pero/lib/python3.7/site-packages/scipy/stats/stats.py:3399: PearsonRConstantInputWarning: An input array is constant; the correlation coefficent is not defined.\n",
      "  warnings.warn(PearsonRConstantInputWarning())\n"
     ]
    },
    {
     "name": "stdout",
     "output_type": "stream",
     "text": [
      "Epoch 202 end: 1.6868197917938232, TRAIN MSE is: 1197.5548095703125\n",
      "Validation loss: 168128.0781250 - MSE score: 812.2130127\n",
      "Validation pearson is: nan\n",
      "Validation r2_score is: -0.132159522048795\n",
      "-------------------------\n"
     ]
    },
    {
     "name": "stderr",
     "output_type": "stream",
     "text": [
      "/home/mbosnjak/.conda/envs/pero/lib/python3.7/site-packages/scipy/stats/stats.py:3399: PearsonRConstantInputWarning: An input array is constant; the correlation coefficent is not defined.\n",
      "  warnings.warn(PearsonRConstantInputWarning())\n"
     ]
    },
    {
     "name": "stdout",
     "output_type": "stream",
     "text": [
      "Epoch 203 end: 1.8256680965423584, TRAIN MSE is: 1275.722412109375\n",
      "Validation loss: 167999.7968750 - MSE score: 811.5931396\n",
      "Validation pearson is: nan\n",
      "Validation r2_score is: -0.1312956542060113\n",
      "-------------------------\n"
     ]
    },
    {
     "name": "stderr",
     "output_type": "stream",
     "text": [
      "/home/mbosnjak/.conda/envs/pero/lib/python3.7/site-packages/scipy/stats/stats.py:3399: PearsonRConstantInputWarning: An input array is constant; the correlation coefficent is not defined.\n",
      "  warnings.warn(PearsonRConstantInputWarning())\n"
     ]
    },
    {
     "name": "stdout",
     "output_type": "stream",
     "text": [
      "Epoch 204 end: 1.8339881896972656, TRAIN MSE is: 1183.49169921875\n",
      "Validation loss: 167847.7187500 - MSE score: 810.8585205\n",
      "Validation pearson is: nan\n",
      "Validation r2_score is: -0.13027163210111836\n",
      "-------------------------\n"
     ]
    },
    {
     "name": "stderr",
     "output_type": "stream",
     "text": [
      "/home/mbosnjak/.conda/envs/pero/lib/python3.7/site-packages/scipy/stats/stats.py:3399: PearsonRConstantInputWarning: An input array is constant; the correlation coefficent is not defined.\n",
      "  warnings.warn(PearsonRConstantInputWarning())\n"
     ]
    },
    {
     "name": "stdout",
     "output_type": "stream",
     "text": [
      "Epoch 205 end: 1.7205631732940674, TRAIN MSE is: 1195.90966796875\n",
      "Validation loss: 167726.7656250 - MSE score: 810.2741699\n",
      "Validation pearson is: nan\n",
      "Validation r2_score is: -0.1294570036468996\n",
      "-------------------------\n"
     ]
    },
    {
     "name": "stderr",
     "output_type": "stream",
     "text": [
      "/home/mbosnjak/.conda/envs/pero/lib/python3.7/site-packages/scipy/stats/stats.py:3399: PearsonRConstantInputWarning: An input array is constant; the correlation coefficent is not defined.\n",
      "  warnings.warn(PearsonRConstantInputWarning())\n"
     ]
    },
    {
     "name": "stdout",
     "output_type": "stream",
     "text": [
      "Epoch 206 end: 1.7335026264190674, TRAIN MSE is: 1198.87890625\n",
      "Validation loss: 167613.7500000 - MSE score: 809.7282104\n",
      "Validation pearson is: nan\n",
      "Validation r2_score is: -0.12869602736106311\n",
      "-------------------------\n"
     ]
    },
    {
     "name": "stderr",
     "output_type": "stream",
     "text": [
      "/home/mbosnjak/.conda/envs/pero/lib/python3.7/site-packages/scipy/stats/stats.py:3399: PearsonRConstantInputWarning: An input array is constant; the correlation coefficent is not defined.\n",
      "  warnings.warn(PearsonRConstantInputWarning())\n"
     ]
    },
    {
     "name": "stdout",
     "output_type": "stream",
     "text": [
      "Epoch 207 end: 1.7400603294372559, TRAIN MSE is: 1196.3115234375\n",
      "Validation loss: 167454.2968750 - MSE score: 808.9580078\n",
      "Validation pearson is: nan\n",
      "Validation r2_score is: -0.1276224588406154\n",
      "-------------------------\n"
     ]
    },
    {
     "name": "stderr",
     "output_type": "stream",
     "text": [
      "/home/mbosnjak/.conda/envs/pero/lib/python3.7/site-packages/scipy/stats/stats.py:3399: PearsonRConstantInputWarning: An input array is constant; the correlation coefficent is not defined.\n",
      "  warnings.warn(PearsonRConstantInputWarning())\n"
     ]
    },
    {
     "name": "stdout",
     "output_type": "stream",
     "text": [
      "Epoch 208 end: 1.6010549068450928, TRAIN MSE is: 1243.0992431640625\n",
      "Validation loss: 167315.3906250 - MSE score: 808.2868652\n",
      "Validation pearson is: nan\n",
      "Validation r2_score is: -0.12668687957829383\n",
      "-------------------------\n"
     ]
    },
    {
     "name": "stderr",
     "output_type": "stream",
     "text": [
      "/home/mbosnjak/.conda/envs/pero/lib/python3.7/site-packages/scipy/stats/stats.py:3399: PearsonRConstantInputWarning: An input array is constant; the correlation coefficent is not defined.\n",
      "  warnings.warn(PearsonRConstantInputWarning())\n"
     ]
    },
    {
     "name": "stdout",
     "output_type": "stream",
     "text": [
      "Epoch 209 end: 1.5756027698516846, TRAIN MSE is: 1179.175537109375\n",
      "Validation loss: 167193.8906250 - MSE score: 807.7000122\n",
      "Validation pearson is: nan\n",
      "Validation r2_score is: -0.12586881104532677\n",
      "-------------------------\n"
     ]
    },
    {
     "name": "stderr",
     "output_type": "stream",
     "text": [
      "/home/mbosnjak/.conda/envs/pero/lib/python3.7/site-packages/scipy/stats/stats.py:3399: PearsonRConstantInputWarning: An input array is constant; the correlation coefficent is not defined.\n",
      "  warnings.warn(PearsonRConstantInputWarning())\n"
     ]
    },
    {
     "name": "stdout",
     "output_type": "stream",
     "text": [
      "Epoch 210 end: 1.6514010429382324, TRAIN MSE is: 1253.8055419921875\n",
      "Validation loss: 167133.2968750 - MSE score: 807.4071655\n",
      "Validation pearson is: nan\n",
      "Validation r2_score is: -0.1254607620958481\n",
      "-------------------------\n"
     ]
    },
    {
     "name": "stderr",
     "output_type": "stream",
     "text": [
      "/home/mbosnjak/.conda/envs/pero/lib/python3.7/site-packages/scipy/stats/stats.py:3399: PearsonRConstantInputWarning: An input array is constant; the correlation coefficent is not defined.\n",
      "  warnings.warn(PearsonRConstantInputWarning())\n"
     ]
    },
    {
     "name": "stdout",
     "output_type": "stream",
     "text": [
      "Epoch 211 end: 1.685591220855713, TRAIN MSE is: 1352.7535400390625\n",
      "Validation loss: 167140.3125000 - MSE score: 807.4411011\n",
      "Validation pearson is: nan\n",
      "Validation r2_score is: -0.12550798717085399\n",
      "-------------------------\n"
     ]
    },
    {
     "name": "stderr",
     "output_type": "stream",
     "text": [
      "/home/mbosnjak/.conda/envs/pero/lib/python3.7/site-packages/scipy/stats/stats.py:3399: PearsonRConstantInputWarning: An input array is constant; the correlation coefficent is not defined.\n",
      "  warnings.warn(PearsonRConstantInputWarning())\n"
     ]
    },
    {
     "name": "stdout",
     "output_type": "stream",
     "text": [
      "Epoch 212 end: 1.5929417610168457, TRAIN MSE is: 1149.3890380859375\n",
      "Validation loss: 167106.5937500 - MSE score: 807.2782593\n",
      "Validation pearson is: nan\n",
      "Validation r2_score is: -0.12528094334112683\n",
      "-------------------------\n"
     ]
    },
    {
     "name": "stderr",
     "output_type": "stream",
     "text": [
      "/home/mbosnjak/.conda/envs/pero/lib/python3.7/site-packages/scipy/stats/stats.py:3399: PearsonRConstantInputWarning: An input array is constant; the correlation coefficent is not defined.\n",
      "  warnings.warn(PearsonRConstantInputWarning())\n"
     ]
    },
    {
     "name": "stdout",
     "output_type": "stream",
     "text": [
      "Epoch 213 end: 1.6965649127960205, TRAIN MSE is: 1210.687255859375\n",
      "Validation loss: 167012.7656250 - MSE score: 806.8248901\n",
      "Validation pearson is: nan\n",
      "Validation r2_score is: -0.12464908380605855\n",
      "-------------------------\n"
     ]
    },
    {
     "name": "stderr",
     "output_type": "stream",
     "text": [
      "/home/mbosnjak/.conda/envs/pero/lib/python3.7/site-packages/scipy/stats/stats.py:3399: PearsonRConstantInputWarning: An input array is constant; the correlation coefficent is not defined.\n",
      "  warnings.warn(PearsonRConstantInputWarning())\n"
     ]
    },
    {
     "name": "stdout",
     "output_type": "stream",
     "text": [
      "Epoch 214 end: 1.6892502307891846, TRAIN MSE is: 1164.10546875\n",
      "Validation loss: 166953.7656250 - MSE score: 806.5398560\n",
      "Validation pearson is: nan\n",
      "Validation r2_score is: -0.12425176388135895\n",
      "-------------------------\n"
     ]
    },
    {
     "name": "stderr",
     "output_type": "stream",
     "text": [
      "/home/mbosnjak/.conda/envs/pero/lib/python3.7/site-packages/scipy/stats/stats.py:3399: PearsonRConstantInputWarning: An input array is constant; the correlation coefficent is not defined.\n",
      "  warnings.warn(PearsonRConstantInputWarning())\n"
     ]
    },
    {
     "name": "stdout",
     "output_type": "stream",
     "text": [
      "Epoch 215 end: 1.6864979267120361, TRAIN MSE is: 1163.05419921875\n",
      "Validation loss: 166843.3125000 - MSE score: 806.0063477\n",
      "Validation pearson is: nan\n",
      "Validation r2_score is: -0.12350806793762525\n",
      "-------------------------\n"
     ]
    },
    {
     "name": "stderr",
     "output_type": "stream",
     "text": [
      "/home/mbosnjak/.conda/envs/pero/lib/python3.7/site-packages/scipy/stats/stats.py:3399: PearsonRConstantInputWarning: An input array is constant; the correlation coefficent is not defined.\n",
      "  warnings.warn(PearsonRConstantInputWarning())\n"
     ]
    },
    {
     "name": "stdout",
     "output_type": "stream",
     "text": [
      "Epoch 216 end: 1.5903825759887695, TRAIN MSE is: 1243.46142578125\n",
      "Validation loss: 166808.4843750 - MSE score: 805.8380127\n",
      "Validation pearson is: nan\n",
      "Validation r2_score is: -0.12327342460119572\n",
      "-------------------------\n"
     ]
    },
    {
     "name": "stderr",
     "output_type": "stream",
     "text": [
      "/home/mbosnjak/.conda/envs/pero/lib/python3.7/site-packages/scipy/stats/stats.py:3399: PearsonRConstantInputWarning: An input array is constant; the correlation coefficent is not defined.\n",
      "  warnings.warn(PearsonRConstantInputWarning())\n"
     ]
    },
    {
     "name": "stdout",
     "output_type": "stream",
     "text": [
      "Epoch 217 end: 1.6412575244903564, TRAIN MSE is: 1232.3446044921875\n",
      "Validation loss: 166755.1875000 - MSE score: 805.5805664\n",
      "Validation pearson is: nan\n",
      "Validation r2_score is: -0.12291455897116998\n",
      "-------------------------\n"
     ]
    },
    {
     "name": "stderr",
     "output_type": "stream",
     "text": [
      "/home/mbosnjak/.conda/envs/pero/lib/python3.7/site-packages/scipy/stats/stats.py:3399: PearsonRConstantInputWarning: An input array is constant; the correlation coefficent is not defined.\n",
      "  warnings.warn(PearsonRConstantInputWarning())\n"
     ]
    },
    {
     "name": "stdout",
     "output_type": "stream",
     "text": [
      "Epoch 218 end: 1.626727819442749, TRAIN MSE is: 1128.4609375\n",
      "Validation loss: 166697.0625000 - MSE score: 805.2998047\n",
      "Validation pearson is: nan\n",
      "Validation r2_score is: -0.1225231979821173\n",
      "-------------------------\n"
     ]
    },
    {
     "name": "stderr",
     "output_type": "stream",
     "text": [
      "/home/mbosnjak/.conda/envs/pero/lib/python3.7/site-packages/scipy/stats/stats.py:3399: PearsonRConstantInputWarning: An input array is constant; the correlation coefficent is not defined.\n",
      "  warnings.warn(PearsonRConstantInputWarning())\n"
     ]
    },
    {
     "name": "stdout",
     "output_type": "stream",
     "text": [
      "Epoch 219 end: 1.626856803894043, TRAIN MSE is: 1226.4208984375\n",
      "Validation loss: 166635.6875000 - MSE score: 805.0032959\n",
      "Validation pearson is: nan\n",
      "Validation r2_score is: -0.12210977685223057\n",
      "-------------------------\n"
     ]
    },
    {
     "name": "stderr",
     "output_type": "stream",
     "text": [
      "/home/mbosnjak/.conda/envs/pero/lib/python3.7/site-packages/scipy/stats/stats.py:3399: PearsonRConstantInputWarning: An input array is constant; the correlation coefficent is not defined.\n",
      "  warnings.warn(PearsonRConstantInputWarning())\n"
     ]
    },
    {
     "name": "stdout",
     "output_type": "stream",
     "text": [
      "Epoch 220 end: 1.6968038082122803, TRAIN MSE is: 1185.1531982421875\n",
      "Validation loss: 166595.1250000 - MSE score: 804.8071899\n",
      "Validation pearson is: nan\n",
      "Validation r2_score is: -0.121836598823029\n",
      "-------------------------\n"
     ]
    },
    {
     "name": "stderr",
     "output_type": "stream",
     "text": [
      "/home/mbosnjak/.conda/envs/pero/lib/python3.7/site-packages/scipy/stats/stats.py:3399: PearsonRConstantInputWarning: An input array is constant; the correlation coefficent is not defined.\n",
      "  warnings.warn(PearsonRConstantInputWarning())\n"
     ]
    },
    {
     "name": "stdout",
     "output_type": "stream",
     "text": [
      "Epoch 221 end: 1.71712064743042, TRAIN MSE is: 1226.477783203125\n",
      "Validation loss: 166561.0156250 - MSE score: 804.6426392\n",
      "Validation pearson is: nan\n",
      "Validation r2_score is: -0.12160712404217144\n",
      "-------------------------\n"
     ]
    },
    {
     "name": "stderr",
     "output_type": "stream",
     "text": [
      "/home/mbosnjak/.conda/envs/pero/lib/python3.7/site-packages/scipy/stats/stats.py:3399: PearsonRConstantInputWarning: An input array is constant; the correlation coefficent is not defined.\n",
      "  warnings.warn(PearsonRConstantInputWarning())\n"
     ]
    },
    {
     "name": "stdout",
     "output_type": "stream",
     "text": [
      "Epoch 222 end: 1.6683926582336426, TRAIN MSE is: 1242.5418701171875\n",
      "Validation loss: 166554.8750000 - MSE score: 804.6129150\n",
      "Validation pearson is: nan\n",
      "Validation r2_score is: -0.12156570596992222\n",
      "-------------------------\n"
     ]
    },
    {
     "name": "stderr",
     "output_type": "stream",
     "text": [
      "/home/mbosnjak/.conda/envs/pero/lib/python3.7/site-packages/scipy/stats/stats.py:3399: PearsonRConstantInputWarning: An input array is constant; the correlation coefficent is not defined.\n",
      "  warnings.warn(PearsonRConstantInputWarning())\n"
     ]
    },
    {
     "name": "stdout",
     "output_type": "stream",
     "text": [
      "Epoch 223 end: 1.6658413410186768, TRAIN MSE is: 1101.57958984375\n",
      "Validation loss: 166477.0937500 - MSE score: 804.2371216\n",
      "Validation pearson is: nan\n",
      "Validation r2_score is: -0.12104189153925748\n",
      "-------------------------\n"
     ]
    },
    {
     "name": "stderr",
     "output_type": "stream",
     "text": [
      "/home/mbosnjak/.conda/envs/pero/lib/python3.7/site-packages/scipy/stats/stats.py:3399: PearsonRConstantInputWarning: An input array is constant; the correlation coefficent is not defined.\n",
      "  warnings.warn(PearsonRConstantInputWarning())\n"
     ]
    },
    {
     "name": "stdout",
     "output_type": "stream",
     "text": [
      "Epoch 224 end: 1.8415915966033936, TRAIN MSE is: 1267.802490234375\n",
      "Validation loss: 166454.2812500 - MSE score: 804.1270142\n",
      "Validation pearson is: nan\n",
      "Validation r2_score is: -0.1208883508537495\n",
      "-------------------------\n"
     ]
    },
    {
     "name": "stderr",
     "output_type": "stream",
     "text": [
      "/home/mbosnjak/.conda/envs/pero/lib/python3.7/site-packages/scipy/stats/stats.py:3399: PearsonRConstantInputWarning: An input array is constant; the correlation coefficent is not defined.\n",
      "  warnings.warn(PearsonRConstantInputWarning())\n"
     ]
    },
    {
     "name": "stdout",
     "output_type": "stream",
     "text": [
      "Epoch 225 end: 1.6775109767913818, TRAIN MSE is: 1226.722412109375\n",
      "Validation loss: 166398.4531250 - MSE score: 803.8573608\n",
      "Validation pearson is: nan\n",
      "Validation r2_score is: -0.12051248571986561\n",
      "-------------------------\n"
     ]
    },
    {
     "name": "stderr",
     "output_type": "stream",
     "text": [
      "/home/mbosnjak/.conda/envs/pero/lib/python3.7/site-packages/scipy/stats/stats.py:3399: PearsonRConstantInputWarning: An input array is constant; the correlation coefficent is not defined.\n",
      "  warnings.warn(PearsonRConstantInputWarning())\n"
     ]
    },
    {
     "name": "stdout",
     "output_type": "stream",
     "text": [
      "Epoch 226 end: 1.780893325805664, TRAIN MSE is: 1221.0859375\n",
      "Validation loss: 166342.5156250 - MSE score: 803.5870972\n",
      "Validation pearson is: nan\n",
      "Validation r2_score is: -0.1201357354134922\n",
      "-------------------------\n"
     ]
    },
    {
     "name": "stderr",
     "output_type": "stream",
     "text": [
      "/home/mbosnjak/.conda/envs/pero/lib/python3.7/site-packages/scipy/stats/stats.py:3399: PearsonRConstantInputWarning: An input array is constant; the correlation coefficent is not defined.\n",
      "  warnings.warn(PearsonRConstantInputWarning())\n"
     ]
    },
    {
     "name": "stdout",
     "output_type": "stream",
     "text": [
      "Epoch 227 end: 1.7373847961425781, TRAIN MSE is: 1213.8782958984375\n",
      "Validation loss: 166306.7968750 - MSE score: 803.4144287\n",
      "Validation pearson is: nan\n",
      "Validation r2_score is: -0.11989505915574306\n",
      "-------------------------\n"
     ]
    },
    {
     "name": "stderr",
     "output_type": "stream",
     "text": [
      "/home/mbosnjak/.conda/envs/pero/lib/python3.7/site-packages/scipy/stats/stats.py:3399: PearsonRConstantInputWarning: An input array is constant; the correlation coefficent is not defined.\n",
      "  warnings.warn(PearsonRConstantInputWarning())\n"
     ]
    },
    {
     "name": "stdout",
     "output_type": "stream",
     "text": [
      "Epoch 228 end: 1.658735752105713, TRAIN MSE is: 1238.40576171875\n",
      "Validation loss: 166301.3750000 - MSE score: 803.3883667\n",
      "Validation pearson is: nan\n",
      "Validation r2_score is: -0.1198587649124363\n",
      "-------------------------\n"
     ]
    },
    {
     "name": "stderr",
     "output_type": "stream",
     "text": [
      "/home/mbosnjak/.conda/envs/pero/lib/python3.7/site-packages/scipy/stats/stats.py:3399: PearsonRConstantInputWarning: An input array is constant; the correlation coefficent is not defined.\n",
      "  warnings.warn(PearsonRConstantInputWarning())\n"
     ]
    },
    {
     "name": "stdout",
     "output_type": "stream",
     "text": [
      "Epoch 229 end: 1.7662608623504639, TRAIN MSE is: 1282.9527587890625\n",
      "Validation loss: 166275.8281250 - MSE score: 803.2649536\n",
      "Validation pearson is: nan\n",
      "Validation r2_score is: -0.11968664390421968\n",
      "-------------------------\n"
     ]
    },
    {
     "name": "stderr",
     "output_type": "stream",
     "text": [
      "/home/mbosnjak/.conda/envs/pero/lib/python3.7/site-packages/scipy/stats/stats.py:3399: PearsonRConstantInputWarning: An input array is constant; the correlation coefficent is not defined.\n",
      "  warnings.warn(PearsonRConstantInputWarning())\n"
     ]
    },
    {
     "name": "stdout",
     "output_type": "stream",
     "text": [
      "Epoch 230 end: 1.754087209701538, TRAIN MSE is: 1229.745361328125\n",
      "Validation loss: 166324.8125000 - MSE score: 803.5015259\n",
      "Validation pearson is: nan\n",
      "Validation r2_score is: -0.12001650069525938\n",
      "-------------------------\n"
     ]
    },
    {
     "name": "stderr",
     "output_type": "stream",
     "text": [
      "/home/mbosnjak/.conda/envs/pero/lib/python3.7/site-packages/scipy/stats/stats.py:3399: PearsonRConstantInputWarning: An input array is constant; the correlation coefficent is not defined.\n",
      "  warnings.warn(PearsonRConstantInputWarning())\n"
     ]
    },
    {
     "name": "stdout",
     "output_type": "stream",
     "text": [
      "Epoch 231 end: 1.692883014678955, TRAIN MSE is: 1220.17724609375\n",
      "Validation loss: 166290.7812500 - MSE score: 803.3370972\n",
      "Validation pearson is: nan\n",
      "Validation r2_score is: -0.11978736535632484\n",
      "-------------------------\n"
     ]
    },
    {
     "name": "stderr",
     "output_type": "stream",
     "text": [
      "/home/mbosnjak/.conda/envs/pero/lib/python3.7/site-packages/scipy/stats/stats.py:3399: PearsonRConstantInputWarning: An input array is constant; the correlation coefficent is not defined.\n",
      "  warnings.warn(PearsonRConstantInputWarning())\n"
     ]
    },
    {
     "name": "stdout",
     "output_type": "stream",
     "text": [
      "Epoch 232 end: 1.597555160522461, TRAIN MSE is: 1246.3634033203125\n",
      "Validation loss: 166300.6718750 - MSE score: 803.3848267\n",
      "Validation pearson is: nan\n",
      "Validation r2_score is: -0.11985384121287801\n",
      "-------------------------\n"
     ]
    },
    {
     "name": "stderr",
     "output_type": "stream",
     "text": [
      "/home/mbosnjak/.conda/envs/pero/lib/python3.7/site-packages/scipy/stats/stats.py:3399: PearsonRConstantInputWarning: An input array is constant; the correlation coefficent is not defined.\n",
      "  warnings.warn(PearsonRConstantInputWarning())\n"
     ]
    },
    {
     "name": "stdout",
     "output_type": "stream",
     "text": [
      "Epoch 233 end: 1.6822593212127686, TRAIN MSE is: 1201.2142333984375\n",
      "Validation loss: 166277.5937500 - MSE score: 803.2734985\n",
      "Validation pearson is: nan\n",
      "Validation r2_score is: -0.11969847449749182\n",
      "-------------------------\n"
     ]
    },
    {
     "name": "stderr",
     "output_type": "stream",
     "text": [
      "/home/mbosnjak/.conda/envs/pero/lib/python3.7/site-packages/scipy/stats/stats.py:3399: PearsonRConstantInputWarning: An input array is constant; the correlation coefficent is not defined.\n",
      "  warnings.warn(PearsonRConstantInputWarning())\n"
     ]
    },
    {
     "name": "stdout",
     "output_type": "stream",
     "text": [
      "Epoch 234 end: 1.7082524299621582, TRAIN MSE is: 1205.9481201171875\n",
      "Validation loss: 166218.2812500 - MSE score: 802.9868774\n",
      "Validation pearson is: nan\n",
      "Validation r2_score is: -0.11929917589297223\n",
      "-------------------------\n"
     ]
    },
    {
     "name": "stderr",
     "output_type": "stream",
     "text": [
      "/home/mbosnjak/.conda/envs/pero/lib/python3.7/site-packages/scipy/stats/stats.py:3399: PearsonRConstantInputWarning: An input array is constant; the correlation coefficent is not defined.\n",
      "  warnings.warn(PearsonRConstantInputWarning())\n"
     ]
    },
    {
     "name": "stdout",
     "output_type": "stream",
     "text": [
      "Epoch 235 end: 1.6335396766662598, TRAIN MSE is: 1207.065185546875\n",
      "Validation loss: 166172.0781250 - MSE score: 802.7636108\n",
      "Validation pearson is: nan\n",
      "Validation r2_score is: -0.11898791036364376\n",
      "-------------------------\n"
     ]
    },
    {
     "name": "stderr",
     "output_type": "stream",
     "text": [
      "/home/mbosnjak/.conda/envs/pero/lib/python3.7/site-packages/scipy/stats/stats.py:3399: PearsonRConstantInputWarning: An input array is constant; the correlation coefficent is not defined.\n",
      "  warnings.warn(PearsonRConstantInputWarning())\n"
     ]
    },
    {
     "name": "stdout",
     "output_type": "stream",
     "text": [
      "Epoch 236 end: 1.7766973972320557, TRAIN MSE is: 1144.7542724609375\n",
      "Validation loss: 166021.5312500 - MSE score: 802.0363770\n",
      "Validation pearson is: nan\n",
      "Validation r2_score is: -0.11797430143357279\n",
      "-------------------------\n"
     ]
    },
    {
     "name": "stderr",
     "output_type": "stream",
     "text": [
      "/home/mbosnjak/.conda/envs/pero/lib/python3.7/site-packages/scipy/stats/stats.py:3399: PearsonRConstantInputWarning: An input array is constant; the correlation coefficent is not defined.\n",
      "  warnings.warn(PearsonRConstantInputWarning())\n"
     ]
    },
    {
     "name": "stdout",
     "output_type": "stream",
     "text": [
      "Epoch 237 end: 1.6702356338500977, TRAIN MSE is: 1197.7200927734375\n",
      "Validation loss: 165960.0937500 - MSE score: 801.7395630\n",
      "Validation pearson is: nan\n",
      "Validation r2_score is: -0.11756051560360015\n",
      "-------------------------\n"
     ]
    },
    {
     "name": "stderr",
     "output_type": "stream",
     "text": [
      "/home/mbosnjak/.conda/envs/pero/lib/python3.7/site-packages/scipy/stats/stats.py:3399: PearsonRConstantInputWarning: An input array is constant; the correlation coefficent is not defined.\n",
      "  warnings.warn(PearsonRConstantInputWarning())\n"
     ]
    },
    {
     "name": "stdout",
     "output_type": "stream",
     "text": [
      "Epoch 238 end: 1.6932792663574219, TRAIN MSE is: 1134.7352294921875\n",
      "Validation loss: 165912.5781250 - MSE score: 801.5100098\n",
      "Validation pearson is: nan\n",
      "Validation r2_score is: -0.11724058597861697\n",
      "-------------------------\n"
     ]
    },
    {
     "name": "stderr",
     "output_type": "stream",
     "text": [
      "/home/mbosnjak/.conda/envs/pero/lib/python3.7/site-packages/scipy/stats/stats.py:3399: PearsonRConstantInputWarning: An input array is constant; the correlation coefficent is not defined.\n",
      "  warnings.warn(PearsonRConstantInputWarning())\n"
     ]
    },
    {
     "name": "stdout",
     "output_type": "stream",
     "text": [
      "Epoch 239 end: 1.8857624530792236, TRAIN MSE is: 1193.316162109375\n",
      "Validation loss: 165806.5000000 - MSE score: 800.9975586\n",
      "Validation pearson is: nan\n",
      "Validation r2_score is: -0.1165261862117879\n",
      "-------------------------\n"
     ]
    },
    {
     "name": "stderr",
     "output_type": "stream",
     "text": [
      "/home/mbosnjak/.conda/envs/pero/lib/python3.7/site-packages/scipy/stats/stats.py:3399: PearsonRConstantInputWarning: An input array is constant; the correlation coefficent is not defined.\n",
      "  warnings.warn(PearsonRConstantInputWarning())\n"
     ]
    },
    {
     "name": "stdout",
     "output_type": "stream",
     "text": [
      "Epoch 240 end: 1.6627388000488281, TRAIN MSE is: 1188.580078125\n",
      "Validation loss: 165719.1718750 - MSE score: 800.5756226\n",
      "Validation pearson is: nan\n",
      "Validation r2_score is: -0.11593817480609236\n",
      "-------------------------\n"
     ]
    },
    {
     "name": "stderr",
     "output_type": "stream",
     "text": [
      "/home/mbosnjak/.conda/envs/pero/lib/python3.7/site-packages/scipy/stats/stats.py:3399: PearsonRConstantInputWarning: An input array is constant; the correlation coefficent is not defined.\n",
      "  warnings.warn(PearsonRConstantInputWarning())\n"
     ]
    },
    {
     "name": "stdout",
     "output_type": "stream",
     "text": [
      "Epoch 241 end: 1.6471636295318604, TRAIN MSE is: 1151.81884765625\n",
      "Validation loss: 165661.8593750 - MSE score: 800.2988281\n",
      "Validation pearson is: nan\n",
      "Validation r2_score is: -0.11555220636358388\n",
      "-------------------------\n"
     ]
    },
    {
     "name": "stderr",
     "output_type": "stream",
     "text": [
      "/home/mbosnjak/.conda/envs/pero/lib/python3.7/site-packages/scipy/stats/stats.py:3399: PearsonRConstantInputWarning: An input array is constant; the correlation coefficent is not defined.\n",
      "  warnings.warn(PearsonRConstantInputWarning())\n"
     ]
    },
    {
     "name": "stdout",
     "output_type": "stream",
     "text": [
      "Epoch 242 end: 1.814629077911377, TRAIN MSE is: 1144.4766845703125\n",
      "Validation loss: 165610.5937500 - MSE score: 800.0511475\n",
      "Validation pearson is: nan\n",
      "Validation r2_score is: -0.11520697603731289\n",
      "-------------------------\n"
     ]
    },
    {
     "name": "stderr",
     "output_type": "stream",
     "text": [
      "/home/mbosnjak/.conda/envs/pero/lib/python3.7/site-packages/scipy/stats/stats.py:3399: PearsonRConstantInputWarning: An input array is constant; the correlation coefficent is not defined.\n",
      "  warnings.warn(PearsonRConstantInputWarning())\n"
     ]
    },
    {
     "name": "stdout",
     "output_type": "stream",
     "text": [
      "Epoch 243 end: 1.7251417636871338, TRAIN MSE is: 1183.92724609375\n",
      "Validation loss: 165621.6562500 - MSE score: 800.1046143\n",
      "Validation pearson is: nan\n",
      "Validation r2_score is: -0.1152815190701788\n",
      "-------------------------\n"
     ]
    },
    {
     "name": "stderr",
     "output_type": "stream",
     "text": [
      "/home/mbosnjak/.conda/envs/pero/lib/python3.7/site-packages/scipy/stats/stats.py:3399: PearsonRConstantInputWarning: An input array is constant; the correlation coefficent is not defined.\n",
      "  warnings.warn(PearsonRConstantInputWarning())\n"
     ]
    },
    {
     "name": "stdout",
     "output_type": "stream",
     "text": [
      "Epoch 244 end: 1.6712772846221924, TRAIN MSE is: 1245.98046875\n",
      "Validation loss: 165630.2656250 - MSE score: 800.1463013\n",
      "Validation pearson is: nan\n",
      "Validation r2_score is: -0.11533955453597122\n",
      "-------------------------\n"
     ]
    },
    {
     "name": "stderr",
     "output_type": "stream",
     "text": [
      "/home/mbosnjak/.conda/envs/pero/lib/python3.7/site-packages/scipy/stats/stats.py:3399: PearsonRConstantInputWarning: An input array is constant; the correlation coefficent is not defined.\n",
      "  warnings.warn(PearsonRConstantInputWarning())\n"
     ]
    },
    {
     "name": "stdout",
     "output_type": "stream",
     "text": [
      "Epoch 245 end: 1.6797914505004883, TRAIN MSE is: 1208.5472412109375\n",
      "Validation loss: 165635.6875000 - MSE score: 800.1722412\n",
      "Validation pearson is: nan\n",
      "Validation r2_score is: -0.1153758302204213\n",
      "-------------------------\n"
     ]
    },
    {
     "name": "stderr",
     "output_type": "stream",
     "text": [
      "/home/mbosnjak/.conda/envs/pero/lib/python3.7/site-packages/scipy/stats/stats.py:3399: PearsonRConstantInputWarning: An input array is constant; the correlation coefficent is not defined.\n",
      "  warnings.warn(PearsonRConstantInputWarning())\n"
     ]
    },
    {
     "name": "stdout",
     "output_type": "stream",
     "text": [
      "Epoch 246 end: 1.7480332851409912, TRAIN MSE is: 1223.13232421875\n",
      "Validation loss: 165598.7343750 - MSE score: 799.9938354\n",
      "Validation pearson is: nan\n",
      "Validation r2_score is: -0.11512711455681268\n",
      "-------------------------\n"
     ]
    },
    {
     "name": "stderr",
     "output_type": "stream",
     "text": [
      "/home/mbosnjak/.conda/envs/pero/lib/python3.7/site-packages/scipy/stats/stats.py:3399: PearsonRConstantInputWarning: An input array is constant; the correlation coefficent is not defined.\n",
      "  warnings.warn(PearsonRConstantInputWarning())\n"
     ]
    },
    {
     "name": "stdout",
     "output_type": "stream",
     "text": [
      "Epoch 247 end: 1.6998984813690186, TRAIN MSE is: 1169.4581298828125\n",
      "Validation loss: 165548.9843750 - MSE score: 799.7536011\n",
      "Validation pearson is: nan\n",
      "Validation r2_score is: -0.11479218354234222\n",
      "-------------------------\n"
     ]
    },
    {
     "name": "stderr",
     "output_type": "stream",
     "text": [
      "/home/mbosnjak/.conda/envs/pero/lib/python3.7/site-packages/scipy/stats/stats.py:3399: PearsonRConstantInputWarning: An input array is constant; the correlation coefficent is not defined.\n",
      "  warnings.warn(PearsonRConstantInputWarning())\n"
     ]
    },
    {
     "name": "stdout",
     "output_type": "stream",
     "text": [
      "Epoch 248 end: 1.7663280963897705, TRAIN MSE is: 1236.8843994140625\n",
      "Validation loss: 165498.6406250 - MSE score: 799.5102539\n",
      "Validation pearson is: nan\n",
      "Validation r2_score is: -0.11445312236939631\n",
      "-------------------------\n"
     ]
    },
    {
     "name": "stderr",
     "output_type": "stream",
     "text": [
      "/home/mbosnjak/.conda/envs/pero/lib/python3.7/site-packages/scipy/stats/stats.py:3399: PearsonRConstantInputWarning: An input array is constant; the correlation coefficent is not defined.\n",
      "  warnings.warn(PearsonRConstantInputWarning())\n"
     ]
    },
    {
     "name": "stdout",
     "output_type": "stream",
     "text": [
      "Epoch 249 end: 1.6685147285461426, TRAIN MSE is: 1156.757080078125\n",
      "Validation loss: 165454.5156250 - MSE score: 799.2972412\n",
      "Validation pearson is: nan\n",
      "Validation r2_score is: -0.11415600941738901\n",
      "-------------------------\n"
     ]
    },
    {
     "name": "stderr",
     "output_type": "stream",
     "text": [
      "/home/mbosnjak/.conda/envs/pero/lib/python3.7/site-packages/scipy/stats/stats.py:3399: PearsonRConstantInputWarning: An input array is constant; the correlation coefficent is not defined.\n",
      "  warnings.warn(PearsonRConstantInputWarning())\n"
     ]
    },
    {
     "name": "stdout",
     "output_type": "stream",
     "text": [
      "Epoch 250 end: 1.7696380615234375, TRAIN MSE is: 1133.5281982421875\n",
      "Validation loss: 165397.8281250 - MSE score: 799.0232544\n",
      "Validation pearson is: nan\n",
      "Validation r2_score is: -0.11377426987419659\n",
      "-------------------------\n"
     ]
    },
    {
     "name": "stderr",
     "output_type": "stream",
     "text": [
      "/home/mbosnjak/.conda/envs/pero/lib/python3.7/site-packages/scipy/stats/stats.py:3399: PearsonRConstantInputWarning: An input array is constant; the correlation coefficent is not defined.\n",
      "  warnings.warn(PearsonRConstantInputWarning())\n"
     ]
    },
    {
     "name": "stdout",
     "output_type": "stream",
     "text": [
      "Epoch 251 end: 1.6758348941802979, TRAIN MSE is: 1201.9664306640625\n",
      "Validation loss: 165285.0312500 - MSE score: 798.4783325\n",
      "Validation pearson is: nan\n",
      "Validation r2_score is: -0.11301469296316502\n",
      "-------------------------\n"
     ]
    },
    {
     "name": "stderr",
     "output_type": "stream",
     "text": [
      "/home/mbosnjak/.conda/envs/pero/lib/python3.7/site-packages/scipy/stats/stats.py:3399: PearsonRConstantInputWarning: An input array is constant; the correlation coefficent is not defined.\n",
      "  warnings.warn(PearsonRConstantInputWarning())\n"
     ]
    },
    {
     "name": "stdout",
     "output_type": "stream",
     "text": [
      "Epoch 252 end: 1.630056381225586, TRAIN MSE is: 1201.586669921875\n",
      "Validation loss: 165228.3750000 - MSE score: 798.2047119\n",
      "Validation pearson is: nan\n",
      "Validation r2_score is: -0.11263321773692758\n",
      "-------------------------\n"
     ]
    },
    {
     "name": "stderr",
     "output_type": "stream",
     "text": [
      "/home/mbosnjak/.conda/envs/pero/lib/python3.7/site-packages/scipy/stats/stats.py:3399: PearsonRConstantInputWarning: An input array is constant; the correlation coefficent is not defined.\n",
      "  warnings.warn(PearsonRConstantInputWarning())\n"
     ]
    },
    {
     "name": "stdout",
     "output_type": "stream",
     "text": [
      "Epoch 253 end: 1.6240742206573486, TRAIN MSE is: 1270.0726318359375\n",
      "Validation loss: 165265.1406250 - MSE score: 798.3823242\n",
      "Validation pearson is: nan\n",
      "Validation r2_score is: -0.11288084523695252\n",
      "-------------------------\n"
     ]
    },
    {
     "name": "stderr",
     "output_type": "stream",
     "text": [
      "/home/mbosnjak/.conda/envs/pero/lib/python3.7/site-packages/scipy/stats/stats.py:3399: PearsonRConstantInputWarning: An input array is constant; the correlation coefficent is not defined.\n",
      "  warnings.warn(PearsonRConstantInputWarning())\n"
     ]
    },
    {
     "name": "stdout",
     "output_type": "stream",
     "text": [
      "Epoch 254 end: 1.6333792209625244, TRAIN MSE is: 1102.7322998046875\n",
      "Validation loss: 165210.8281250 - MSE score: 798.1199951\n",
      "Validation pearson is: nan\n",
      "Validation r2_score is: -0.11251498540531402\n",
      "-------------------------\n"
     ]
    },
    {
     "name": "stderr",
     "output_type": "stream",
     "text": [
      "/home/mbosnjak/.conda/envs/pero/lib/python3.7/site-packages/scipy/stats/stats.py:3399: PearsonRConstantInputWarning: An input array is constant; the correlation coefficent is not defined.\n",
      "  warnings.warn(PearsonRConstantInputWarning())\n"
     ]
    },
    {
     "name": "stdout",
     "output_type": "stream",
     "text": [
      "Epoch 255 end: 1.6070833206176758, TRAIN MSE is: 1241.412353515625\n",
      "Validation loss: 165260.0312500 - MSE score: 798.3576660\n",
      "Validation pearson is: nan\n",
      "Validation r2_score is: -0.11284631153392599\n",
      "-------------------------\n"
     ]
    },
    {
     "name": "stderr",
     "output_type": "stream",
     "text": [
      "/home/mbosnjak/.conda/envs/pero/lib/python3.7/site-packages/scipy/stats/stats.py:3399: PearsonRConstantInputWarning: An input array is constant; the correlation coefficent is not defined.\n",
      "  warnings.warn(PearsonRConstantInputWarning())\n"
     ]
    },
    {
     "name": "stdout",
     "output_type": "stream",
     "text": [
      "Epoch 256 end: 1.836500644683838, TRAIN MSE is: 1186.7430419921875\n",
      "Validation loss: 165210.8281250 - MSE score: 798.1199951\n",
      "Validation pearson is: nan\n",
      "Validation r2_score is: -0.11251509411734828\n",
      "-------------------------\n"
     ]
    },
    {
     "name": "stderr",
     "output_type": "stream",
     "text": [
      "/home/mbosnjak/.conda/envs/pero/lib/python3.7/site-packages/scipy/stats/stats.py:3399: PearsonRConstantInputWarning: An input array is constant; the correlation coefficent is not defined.\n",
      "  warnings.warn(PearsonRConstantInputWarning())\n"
     ]
    },
    {
     "name": "stdout",
     "output_type": "stream",
     "text": [
      "Epoch 257 end: 1.8552091121673584, TRAIN MSE is: 1212.0457763671875\n",
      "Validation loss: 165150.3437500 - MSE score: 797.8277588\n",
      "Validation pearson is: nan\n",
      "Validation r2_score is: -0.11210776242760567\n",
      "-------------------------\n"
     ]
    },
    {
     "name": "stderr",
     "output_type": "stream",
     "text": [
      "/home/mbosnjak/.conda/envs/pero/lib/python3.7/site-packages/scipy/stats/stats.py:3399: PearsonRConstantInputWarning: An input array is constant; the correlation coefficent is not defined.\n",
      "  warnings.warn(PearsonRConstantInputWarning())\n"
     ]
    },
    {
     "name": "stdout",
     "output_type": "stream",
     "text": [
      "Epoch 258 end: 1.7067334651947021, TRAIN MSE is: 1177.100830078125\n",
      "Validation loss: 165076.9218750 - MSE score: 797.4731445\n",
      "Validation pearson is: nan\n",
      "Validation r2_score is: -0.11161332293043058\n",
      "-------------------------\n"
     ]
    },
    {
     "name": "stderr",
     "output_type": "stream",
     "text": [
      "/home/mbosnjak/.conda/envs/pero/lib/python3.7/site-packages/scipy/stats/stats.py:3399: PearsonRConstantInputWarning: An input array is constant; the correlation coefficent is not defined.\n",
      "  warnings.warn(PearsonRConstantInputWarning())\n"
     ]
    },
    {
     "name": "stdout",
     "output_type": "stream",
     "text": [
      "Epoch 259 end: 1.6373238563537598, TRAIN MSE is: 1202.6796875\n",
      "Validation loss: 165034.8281250 - MSE score: 797.2697754\n",
      "Validation pearson is: nan\n",
      "Validation r2_score is: -0.11132991825249117\n",
      "-------------------------\n"
     ]
    },
    {
     "name": "stderr",
     "output_type": "stream",
     "text": [
      "/home/mbosnjak/.conda/envs/pero/lib/python3.7/site-packages/scipy/stats/stats.py:3399: PearsonRConstantInputWarning: An input array is constant; the correlation coefficent is not defined.\n",
      "  warnings.warn(PearsonRConstantInputWarning())\n"
     ]
    },
    {
     "name": "stdout",
     "output_type": "stream",
     "text": [
      "Epoch 260 end: 1.6585235595703125, TRAIN MSE is: 1221.38671875\n",
      "Validation loss: 165033.1250000 - MSE score: 797.2614746\n",
      "Validation pearson is: nan\n",
      "Validation r2_score is: -0.11131832740734304\n",
      "-------------------------\n"
     ]
    },
    {
     "name": "stderr",
     "output_type": "stream",
     "text": [
      "/home/mbosnjak/.conda/envs/pero/lib/python3.7/site-packages/scipy/stats/stats.py:3399: PearsonRConstantInputWarning: An input array is constant; the correlation coefficent is not defined.\n",
      "  warnings.warn(PearsonRConstantInputWarning())\n"
     ]
    },
    {
     "name": "stdout",
     "output_type": "stream",
     "text": [
      "Epoch 261 end: 1.6380112171173096, TRAIN MSE is: 1187.926513671875\n",
      "Validation loss: 165027.0156250 - MSE score: 797.2318726\n",
      "Validation pearson is: nan\n",
      "Validation r2_score is: -0.1112772674629201\n",
      "-------------------------\n"
     ]
    },
    {
     "name": "stderr",
     "output_type": "stream",
     "text": [
      "/home/mbosnjak/.conda/envs/pero/lib/python3.7/site-packages/scipy/stats/stats.py:3399: PearsonRConstantInputWarning: An input array is constant; the correlation coefficent is not defined.\n",
      "  warnings.warn(PearsonRConstantInputWarning())\n"
     ]
    },
    {
     "name": "stdout",
     "output_type": "stream",
     "text": [
      "Epoch 262 end: 1.6044225692749023, TRAIN MSE is: 1222.4771728515625\n",
      "Validation loss: 164961.7187500 - MSE score: 796.9165039\n",
      "Validation pearson is: nan\n",
      "Validation r2_score is: -0.11083756807446021\n",
      "-------------------------\n"
     ]
    },
    {
     "name": "stderr",
     "output_type": "stream",
     "text": [
      "/home/mbosnjak/.conda/envs/pero/lib/python3.7/site-packages/scipy/stats/stats.py:3399: PearsonRConstantInputWarning: An input array is constant; the correlation coefficent is not defined.\n",
      "  warnings.warn(PearsonRConstantInputWarning())\n"
     ]
    },
    {
     "name": "stdout",
     "output_type": "stream",
     "text": [
      "Epoch 263 end: 1.587395429611206, TRAIN MSE is: 1235.670166015625\n",
      "Validation loss: 164923.6250000 - MSE score: 796.7326660\n",
      "Validation pearson is: nan\n",
      "Validation r2_score is: -0.11058110277338318\n",
      "-------------------------\n"
     ]
    },
    {
     "name": "stderr",
     "output_type": "stream",
     "text": [
      "/home/mbosnjak/.conda/envs/pero/lib/python3.7/site-packages/scipy/stats/stats.py:3399: PearsonRConstantInputWarning: An input array is constant; the correlation coefficent is not defined.\n",
      "  warnings.warn(PearsonRConstantInputWarning())\n"
     ]
    },
    {
     "name": "stdout",
     "output_type": "stream",
     "text": [
      "Epoch 264 end: 1.7042438983917236, TRAIN MSE is: 1233.2874755859375\n",
      "Validation loss: 164824.1250000 - MSE score: 796.2518311\n",
      "Validation pearson is: nan\n",
      "Validation r2_score is: -0.10991092333223729\n",
      "-------------------------\n"
     ]
    },
    {
     "name": "stderr",
     "output_type": "stream",
     "text": [
      "/home/mbosnjak/.conda/envs/pero/lib/python3.7/site-packages/scipy/stats/stats.py:3399: PearsonRConstantInputWarning: An input array is constant; the correlation coefficent is not defined.\n",
      "  warnings.warn(PearsonRConstantInputWarning())\n"
     ]
    },
    {
     "name": "stdout",
     "output_type": "stream",
     "text": [
      "Epoch 265 end: 1.6753065586090088, TRAIN MSE is: 1260.1318359375\n",
      "Validation loss: 164773.0156250 - MSE score: 796.0048828\n",
      "Validation pearson is: nan\n",
      "Validation r2_score is: -0.10956679471413389\n",
      "-------------------------\n"
     ]
    },
    {
     "name": "stderr",
     "output_type": "stream",
     "text": [
      "/home/mbosnjak/.conda/envs/pero/lib/python3.7/site-packages/scipy/stats/stats.py:3399: PearsonRConstantInputWarning: An input array is constant; the correlation coefficent is not defined.\n",
      "  warnings.warn(PearsonRConstantInputWarning())\n"
     ]
    },
    {
     "name": "stdout",
     "output_type": "stream",
     "text": [
      "Epoch 266 end: 1.6969738006591797, TRAIN MSE is: 1233.9412841796875\n",
      "Validation loss: 164739.8906250 - MSE score: 795.8450317\n",
      "Validation pearson is: nan\n",
      "Validation r2_score is: -0.10934393388164865\n",
      "-------------------------\n"
     ]
    },
    {
     "name": "stderr",
     "output_type": "stream",
     "text": [
      "/home/mbosnjak/.conda/envs/pero/lib/python3.7/site-packages/scipy/stats/stats.py:3399: PearsonRConstantInputWarning: An input array is constant; the correlation coefficent is not defined.\n",
      "  warnings.warn(PearsonRConstantInputWarning())\n"
     ]
    },
    {
     "name": "stdout",
     "output_type": "stream",
     "text": [
      "Epoch 267 end: 1.6695020198822021, TRAIN MSE is: 1243.4427490234375\n",
      "Validation loss: 164737.7031250 - MSE score: 795.8342896\n",
      "Validation pearson is: nan\n",
      "Validation r2_score is: -0.10932912837214426\n",
      "-------------------------\n"
     ]
    },
    {
     "name": "stderr",
     "output_type": "stream",
     "text": [
      "/home/mbosnjak/.conda/envs/pero/lib/python3.7/site-packages/scipy/stats/stats.py:3399: PearsonRConstantInputWarning: An input array is constant; the correlation coefficent is not defined.\n",
      "  warnings.warn(PearsonRConstantInputWarning())\n"
     ]
    },
    {
     "name": "stdout",
     "output_type": "stream",
     "text": [
      "Epoch 268 end: 1.6828384399414062, TRAIN MSE is: 1164.7491455078125\n",
      "Validation loss: 164661.9687500 - MSE score: 795.4684448\n",
      "Validation pearson is: nan\n",
      "Validation r2_score is: -0.10881915646513574\n",
      "-------------------------\n"
     ]
    },
    {
     "name": "stderr",
     "output_type": "stream",
     "text": [
      "/home/mbosnjak/.conda/envs/pero/lib/python3.7/site-packages/scipy/stats/stats.py:3399: PearsonRConstantInputWarning: An input array is constant; the correlation coefficent is not defined.\n",
      "  warnings.warn(PearsonRConstantInputWarning())\n"
     ]
    },
    {
     "name": "stdout",
     "output_type": "stream",
     "text": [
      "Epoch 269 end: 1.6916098594665527, TRAIN MSE is: 1155.9967041015625\n",
      "Validation loss: 164634.2187500 - MSE score: 795.3344116\n",
      "Validation pearson is: nan\n",
      "Validation r2_score is: -0.10863225212342797\n",
      "-------------------------\n"
     ]
    },
    {
     "name": "stderr",
     "output_type": "stream",
     "text": [
      "/home/mbosnjak/.conda/envs/pero/lib/python3.7/site-packages/scipy/stats/stats.py:3399: PearsonRConstantInputWarning: An input array is constant; the correlation coefficent is not defined.\n",
      "  warnings.warn(PearsonRConstantInputWarning())\n"
     ]
    },
    {
     "name": "stdout",
     "output_type": "stream",
     "text": [
      "Epoch 270 end: 1.8939027786254883, TRAIN MSE is: 1204.1156005859375\n",
      "Validation loss: 164592.7656250 - MSE score: 795.1340332\n",
      "Validation pearson is: nan\n",
      "Validation r2_score is: -0.10835303113833539\n",
      "-------------------------\n"
     ]
    },
    {
     "name": "stderr",
     "output_type": "stream",
     "text": [
      "/home/mbosnjak/.conda/envs/pero/lib/python3.7/site-packages/scipy/stats/stats.py:3399: PearsonRConstantInputWarning: An input array is constant; the correlation coefficent is not defined.\n",
      "  warnings.warn(PearsonRConstantInputWarning())\n"
     ]
    },
    {
     "name": "stdout",
     "output_type": "stream",
     "text": [
      "Epoch 271 end: 1.7856872081756592, TRAIN MSE is: 1217.4140625\n",
      "Validation loss: 164564.2343750 - MSE score: 794.9963989\n",
      "Validation pearson is: nan\n",
      "Validation r2_score is: -0.10816100102351078\n",
      "-------------------------\n"
     ]
    },
    {
     "name": "stderr",
     "output_type": "stream",
     "text": [
      "/home/mbosnjak/.conda/envs/pero/lib/python3.7/site-packages/scipy/stats/stats.py:3399: PearsonRConstantInputWarning: An input array is constant; the correlation coefficent is not defined.\n",
      "  warnings.warn(PearsonRConstantInputWarning())\n"
     ]
    },
    {
     "name": "stdout",
     "output_type": "stream",
     "text": [
      "Epoch 272 end: 1.5602190494537354, TRAIN MSE is: 1186.552001953125\n",
      "Validation loss: 164543.6093750 - MSE score: 794.8967285\n",
      "Validation pearson is: nan\n",
      "Validation r2_score is: -0.10802211804116424\n",
      "-------------------------\n"
     ]
    },
    {
     "name": "stderr",
     "output_type": "stream",
     "text": [
      "/home/mbosnjak/.conda/envs/pero/lib/python3.7/site-packages/scipy/stats/stats.py:3399: PearsonRConstantInputWarning: An input array is constant; the correlation coefficent is not defined.\n",
      "  warnings.warn(PearsonRConstantInputWarning())\n"
     ]
    },
    {
     "name": "stdout",
     "output_type": "stream",
     "text": [
      "Epoch 273 end: 1.5732369422912598, TRAIN MSE is: 1199.61962890625\n",
      "Validation loss: 164489.4062500 - MSE score: 794.6348877\n",
      "Validation pearson is: nan\n",
      "Validation r2_score is: -0.107657132965707\n",
      "-------------------------\n"
     ]
    },
    {
     "name": "stderr",
     "output_type": "stream",
     "text": [
      "/home/mbosnjak/.conda/envs/pero/lib/python3.7/site-packages/scipy/stats/stats.py:3399: PearsonRConstantInputWarning: An input array is constant; the correlation coefficent is not defined.\n",
      "  warnings.warn(PearsonRConstantInputWarning())\n"
     ]
    },
    {
     "name": "stdout",
     "output_type": "stream",
     "text": [
      "Epoch 274 end: 1.651275396347046, TRAIN MSE is: 1240.3775634765625\n",
      "Validation loss: 164482.2187500 - MSE score: 794.6002197\n",
      "Validation pearson is: nan\n",
      "Validation r2_score is: -0.10760871098451563\n",
      "-------------------------\n"
     ]
    },
    {
     "name": "stderr",
     "output_type": "stream",
     "text": [
      "/home/mbosnjak/.conda/envs/pero/lib/python3.7/site-packages/scipy/stats/stats.py:3399: PearsonRConstantInputWarning: An input array is constant; the correlation coefficent is not defined.\n",
      "  warnings.warn(PearsonRConstantInputWarning())\n"
     ]
    },
    {
     "name": "stdout",
     "output_type": "stream",
     "text": [
      "Epoch 275 end: 1.5790183544158936, TRAIN MSE is: 1178.670654296875\n",
      "Validation loss: 164486.4218750 - MSE score: 794.6203003\n",
      "Validation pearson is: nan\n",
      "Validation r2_score is: -0.1076369451549859\n",
      "-------------------------\n"
     ]
    },
    {
     "name": "stderr",
     "output_type": "stream",
     "text": [
      "/home/mbosnjak/.conda/envs/pero/lib/python3.7/site-packages/scipy/stats/stats.py:3399: PearsonRConstantInputWarning: An input array is constant; the correlation coefficent is not defined.\n",
      "  warnings.warn(PearsonRConstantInputWarning())\n"
     ]
    },
    {
     "name": "stdout",
     "output_type": "stream",
     "text": [
      "Epoch 276 end: 1.6900956630706787, TRAIN MSE is: 1189.552001953125\n",
      "Validation loss: 164459.8750000 - MSE score: 794.4922485\n",
      "Validation pearson is: nan\n",
      "Validation r2_score is: -0.10745823946589961\n",
      "-------------------------\n"
     ]
    },
    {
     "name": "stderr",
     "output_type": "stream",
     "text": [
      "/home/mbosnjak/.conda/envs/pero/lib/python3.7/site-packages/scipy/stats/stats.py:3399: PearsonRConstantInputWarning: An input array is constant; the correlation coefficent is not defined.\n",
      "  warnings.warn(PearsonRConstantInputWarning())\n"
     ]
    },
    {
     "name": "stdout",
     "output_type": "stream",
     "text": [
      "Epoch 277 end: 1.8358349800109863, TRAIN MSE is: 1150.8201904296875\n",
      "Validation loss: 164401.3750000 - MSE score: 794.2095337\n",
      "Validation pearson is: nan\n",
      "Validation r2_score is: -0.10706427343446889\n",
      "-------------------------\n"
     ]
    },
    {
     "name": "stderr",
     "output_type": "stream",
     "text": [
      "/home/mbosnjak/.conda/envs/pero/lib/python3.7/site-packages/scipy/stats/stats.py:3399: PearsonRConstantInputWarning: An input array is constant; the correlation coefficent is not defined.\n",
      "  warnings.warn(PearsonRConstantInputWarning())\n"
     ]
    },
    {
     "name": "stdout",
     "output_type": "stream",
     "text": [
      "Epoch 278 end: 1.739091396331787, TRAIN MSE is: 1232.937255859375\n",
      "Validation loss: 164403.0312500 - MSE score: 794.2174683\n",
      "Validation pearson is: nan\n",
      "Validation r2_score is: -0.1070752857525461\n",
      "-------------------------\n"
     ]
    },
    {
     "name": "stderr",
     "output_type": "stream",
     "text": [
      "/home/mbosnjak/.conda/envs/pero/lib/python3.7/site-packages/scipy/stats/stats.py:3399: PearsonRConstantInputWarning: An input array is constant; the correlation coefficent is not defined.\n",
      "  warnings.warn(PearsonRConstantInputWarning())\n"
     ]
    },
    {
     "name": "stdout",
     "output_type": "stream",
     "text": [
      "Epoch 279 end: 1.796107530593872, TRAIN MSE is: 1104.6788330078125\n",
      "Validation loss: 164428.7968750 - MSE score: 794.3421021\n",
      "Validation pearson is: nan\n",
      "Validation r2_score is: -0.1072488950078081\n",
      "-------------------------\n"
     ]
    },
    {
     "name": "stderr",
     "output_type": "stream",
     "text": [
      "/home/mbosnjak/.conda/envs/pero/lib/python3.7/site-packages/scipy/stats/stats.py:3399: PearsonRConstantInputWarning: An input array is constant; the correlation coefficent is not defined.\n",
      "  warnings.warn(PearsonRConstantInputWarning())\n"
     ]
    },
    {
     "name": "stdout",
     "output_type": "stream",
     "text": [
      "Epoch 280 end: 1.6585991382598877, TRAIN MSE is: 1278.6661376953125\n",
      "Validation loss: 164424.3593750 - MSE score: 794.3205566\n",
      "Validation pearson is: nan\n",
      "Validation r2_score is: -0.10721905257639519\n",
      "-------------------------\n"
     ]
    },
    {
     "name": "stderr",
     "output_type": "stream",
     "text": [
      "/home/mbosnjak/.conda/envs/pero/lib/python3.7/site-packages/scipy/stats/stats.py:3399: PearsonRConstantInputWarning: An input array is constant; the correlation coefficent is not defined.\n",
      "  warnings.warn(PearsonRConstantInputWarning())\n"
     ]
    },
    {
     "name": "stdout",
     "output_type": "stream",
     "text": [
      "Epoch 281 end: 1.7299132347106934, TRAIN MSE is: 1157.765380859375\n",
      "Validation loss: 164384.4843750 - MSE score: 794.1279907\n",
      "Validation pearson is: nan\n",
      "Validation r2_score is: -0.1069504972122346\n",
      "-------------------------\n"
     ]
    },
    {
     "name": "stderr",
     "output_type": "stream",
     "text": [
      "/home/mbosnjak/.conda/envs/pero/lib/python3.7/site-packages/scipy/stats/stats.py:3399: PearsonRConstantInputWarning: An input array is constant; the correlation coefficent is not defined.\n",
      "  warnings.warn(PearsonRConstantInputWarning())\n"
     ]
    },
    {
     "name": "stdout",
     "output_type": "stream",
     "text": [
      "Epoch 282 end: 1.7472350597381592, TRAIN MSE is: 1161.0504150390625\n",
      "Validation loss: 164354.4218750 - MSE score: 793.9826660\n",
      "Validation pearson is: nan\n",
      "Validation r2_score is: -0.10674799556788805\n",
      "-------------------------\n"
     ]
    },
    {
     "name": "stderr",
     "output_type": "stream",
     "text": [
      "/home/mbosnjak/.conda/envs/pero/lib/python3.7/site-packages/scipy/stats/stats.py:3399: PearsonRConstantInputWarning: An input array is constant; the correlation coefficent is not defined.\n",
      "  warnings.warn(PearsonRConstantInputWarning())\n"
     ]
    },
    {
     "name": "stdout",
     "output_type": "stream",
     "text": [
      "Epoch 283 end: 1.7694282531738281, TRAIN MSE is: 1144.466796875\n",
      "Validation loss: 164309.8750000 - MSE score: 793.7676392\n",
      "Validation pearson is: nan\n",
      "Validation r2_score is: -0.1064481468351306\n",
      "-------------------------\n"
     ]
    },
    {
     "name": "stderr",
     "output_type": "stream",
     "text": [
      "/home/mbosnjak/.conda/envs/pero/lib/python3.7/site-packages/scipy/stats/stats.py:3399: PearsonRConstantInputWarning: An input array is constant; the correlation coefficent is not defined.\n",
      "  warnings.warn(PearsonRConstantInputWarning())\n"
     ]
    },
    {
     "name": "stdout",
     "output_type": "stream",
     "text": [
      "Epoch 284 end: 1.666076898574829, TRAIN MSE is: 1156.83203125\n",
      "Validation loss: 164317.5781250 - MSE score: 793.8047485\n",
      "Validation pearson is: nan\n",
      "Validation r2_score is: -0.10650002682071147\n",
      "-------------------------\n"
     ]
    },
    {
     "name": "stderr",
     "output_type": "stream",
     "text": [
      "/home/mbosnjak/.conda/envs/pero/lib/python3.7/site-packages/scipy/stats/stats.py:3399: PearsonRConstantInputWarning: An input array is constant; the correlation coefficent is not defined.\n",
      "  warnings.warn(PearsonRConstantInputWarning())\n"
     ]
    },
    {
     "name": "stdout",
     "output_type": "stream",
     "text": [
      "Epoch 285 end: 1.8298797607421875, TRAIN MSE is: 1165.8836669921875\n",
      "Validation loss: 164296.8437500 - MSE score: 793.7044678\n",
      "Validation pearson is: nan\n",
      "Validation r2_score is: -0.10636035464459925\n",
      "-------------------------\n"
     ]
    },
    {
     "name": "stderr",
     "output_type": "stream",
     "text": [
      "/home/mbosnjak/.conda/envs/pero/lib/python3.7/site-packages/scipy/stats/stats.py:3399: PearsonRConstantInputWarning: An input array is constant; the correlation coefficent is not defined.\n",
      "  warnings.warn(PearsonRConstantInputWarning())\n"
     ]
    },
    {
     "name": "stdout",
     "output_type": "stream",
     "text": [
      "Epoch 286 end: 1.6459178924560547, TRAIN MSE is: 1183.926025390625\n",
      "Validation loss: 164301.4531250 - MSE score: 793.7267456\n",
      "Validation pearson is: nan\n",
      "Validation r2_score is: -0.10639138825749983\n",
      "-------------------------\n"
     ]
    },
    {
     "name": "stderr",
     "output_type": "stream",
     "text": [
      "/home/mbosnjak/.conda/envs/pero/lib/python3.7/site-packages/scipy/stats/stats.py:3399: PearsonRConstantInputWarning: An input array is constant; the correlation coefficent is not defined.\n",
      "  warnings.warn(PearsonRConstantInputWarning())\n"
     ]
    },
    {
     "name": "stdout",
     "output_type": "stream",
     "text": [
      "Epoch 287 end: 1.7634611129760742, TRAIN MSE is: 1142.489013671875\n",
      "Validation loss: 164277.6562500 - MSE score: 793.6118774\n",
      "Validation pearson is: nan\n",
      "Validation r2_score is: -0.10623114992592542\n",
      "-------------------------\n"
     ]
    },
    {
     "name": "stderr",
     "output_type": "stream",
     "text": [
      "/home/mbosnjak/.conda/envs/pero/lib/python3.7/site-packages/scipy/stats/stats.py:3399: PearsonRConstantInputWarning: An input array is constant; the correlation coefficent is not defined.\n",
      "  warnings.warn(PearsonRConstantInputWarning())\n"
     ]
    },
    {
     "name": "stdout",
     "output_type": "stream",
     "text": [
      "Epoch 288 end: 1.6623942852020264, TRAIN MSE is: 1172.9888916015625\n",
      "Validation loss: 164266.3125000 - MSE score: 793.5570679\n",
      "Validation pearson is: nan\n",
      "Validation r2_score is: -0.10615477917566163\n",
      "-------------------------\n"
     ]
    },
    {
     "name": "stderr",
     "output_type": "stream",
     "text": [
      "/home/mbosnjak/.conda/envs/pero/lib/python3.7/site-packages/scipy/stats/stats.py:3399: PearsonRConstantInputWarning: An input array is constant; the correlation coefficent is not defined.\n",
      "  warnings.warn(PearsonRConstantInputWarning())\n"
     ]
    },
    {
     "name": "stdout",
     "output_type": "stream",
     "text": [
      "Epoch 289 end: 1.6706993579864502, TRAIN MSE is: 1219.5543212890625\n",
      "Validation loss: 164239.4531250 - MSE score: 793.4273071\n",
      "Validation pearson is: nan\n",
      "Validation r2_score is: -0.10597379558096809\n",
      "-------------------------\n"
     ]
    },
    {
     "name": "stderr",
     "output_type": "stream",
     "text": [
      "/home/mbosnjak/.conda/envs/pero/lib/python3.7/site-packages/scipy/stats/stats.py:3399: PearsonRConstantInputWarning: An input array is constant; the correlation coefficent is not defined.\n",
      "  warnings.warn(PearsonRConstantInputWarning())\n"
     ]
    },
    {
     "name": "stdout",
     "output_type": "stream",
     "text": [
      "Epoch 290 end: 1.677227258682251, TRAIN MSE is: 1132.63525390625\n",
      "Validation loss: 164139.5312500 - MSE score: 792.9445801\n",
      "Validation pearson is: nan\n",
      "Validation r2_score is: -0.10530101331645936\n",
      "-------------------------\n"
     ]
    },
    {
     "name": "stderr",
     "output_type": "stream",
     "text": [
      "/home/mbosnjak/.conda/envs/pero/lib/python3.7/site-packages/scipy/stats/stats.py:3399: PearsonRConstantInputWarning: An input array is constant; the correlation coefficent is not defined.\n",
      "  warnings.warn(PearsonRConstantInputWarning())\n"
     ]
    },
    {
     "name": "stdout",
     "output_type": "stream",
     "text": [
      "Epoch 291 end: 1.725524663925171, TRAIN MSE is: 1154.049072265625\n",
      "Validation loss: 164023.4687500 - MSE score: 792.3839111\n",
      "Validation pearson is: nan\n",
      "Validation r2_score is: -0.10451949737668897\n",
      "-------------------------\n"
     ]
    },
    {
     "name": "stderr",
     "output_type": "stream",
     "text": [
      "/home/mbosnjak/.conda/envs/pero/lib/python3.7/site-packages/scipy/stats/stats.py:3399: PearsonRConstantInputWarning: An input array is constant; the correlation coefficent is not defined.\n",
      "  warnings.warn(PearsonRConstantInputWarning())\n"
     ]
    },
    {
     "name": "stdout",
     "output_type": "stream",
     "text": [
      "Epoch 292 end: 1.649186134338379, TRAIN MSE is: 1221.5811767578125\n",
      "Validation loss: 163947.6093750 - MSE score: 792.0174561\n",
      "Validation pearson is: nan\n",
      "Validation r2_score is: -0.10400863994584086\n",
      "-------------------------\n"
     ]
    },
    {
     "name": "stderr",
     "output_type": "stream",
     "text": [
      "/home/mbosnjak/.conda/envs/pero/lib/python3.7/site-packages/scipy/stats/stats.py:3399: PearsonRConstantInputWarning: An input array is constant; the correlation coefficent is not defined.\n",
      "  warnings.warn(PearsonRConstantInputWarning())\n"
     ]
    },
    {
     "name": "stdout",
     "output_type": "stream",
     "text": [
      "Epoch 293 end: 1.6620159149169922, TRAIN MSE is: 1134.7657470703125\n",
      "Validation loss: 163910.8437500 - MSE score: 791.8398438\n",
      "Validation pearson is: nan\n",
      "Validation r2_score is: -0.10376102850452407\n",
      "-------------------------\n"
     ]
    },
    {
     "name": "stderr",
     "output_type": "stream",
     "text": [
      "/home/mbosnjak/.conda/envs/pero/lib/python3.7/site-packages/scipy/stats/stats.py:3399: PearsonRConstantInputWarning: An input array is constant; the correlation coefficent is not defined.\n",
      "  warnings.warn(PearsonRConstantInputWarning())\n"
     ]
    },
    {
     "name": "stdout",
     "output_type": "stream",
     "text": [
      "Epoch 294 end: 1.4803190231323242, TRAIN MSE is: 1081.498779296875\n",
      "Validation loss: 163826.8281250 - MSE score: 791.4339600\n",
      "Validation pearson is: nan\n",
      "Validation r2_score is: -0.10319522058586816\n",
      "-------------------------\n"
     ]
    },
    {
     "name": "stderr",
     "output_type": "stream",
     "text": [
      "/home/mbosnjak/.conda/envs/pero/lib/python3.7/site-packages/scipy/stats/stats.py:3399: PearsonRConstantInputWarning: An input array is constant; the correlation coefficent is not defined.\n",
      "  warnings.warn(PearsonRConstantInputWarning())\n"
     ]
    },
    {
     "name": "stdout",
     "output_type": "stream",
     "text": [
      "Epoch 295 end: 1.5237607955932617, TRAIN MSE is: 1221.562255859375\n",
      "Validation loss: 163777.6718750 - MSE score: 791.1964722\n",
      "Validation pearson is: nan\n",
      "Validation r2_score is: -0.10286424450012621\n",
      "-------------------------\n"
     ]
    },
    {
     "name": "stderr",
     "output_type": "stream",
     "text": [
      "/home/mbosnjak/.conda/envs/pero/lib/python3.7/site-packages/scipy/stats/stats.py:3399: PearsonRConstantInputWarning: An input array is constant; the correlation coefficent is not defined.\n",
      "  warnings.warn(PearsonRConstantInputWarning())\n"
     ]
    },
    {
     "name": "stdout",
     "output_type": "stream",
     "text": [
      "Epoch 296 end: 1.6526825428009033, TRAIN MSE is: 1198.1300048828125\n",
      "Validation loss: 163755.2500000 - MSE score: 791.0881348\n",
      "Validation pearson is: nan\n",
      "Validation r2_score is: -0.10271329012951935\n",
      "-------------------------\n"
     ]
    },
    {
     "name": "stderr",
     "output_type": "stream",
     "text": [
      "/home/mbosnjak/.conda/envs/pero/lib/python3.7/site-packages/scipy/stats/stats.py:3399: PearsonRConstantInputWarning: An input array is constant; the correlation coefficent is not defined.\n",
      "  warnings.warn(PearsonRConstantInputWarning())\n"
     ]
    },
    {
     "name": "stdout",
     "output_type": "stream",
     "text": [
      "Epoch 297 end: 1.7483785152435303, TRAIN MSE is: 1183.45751953125\n",
      "Validation loss: 163707.9687500 - MSE score: 790.8597412\n",
      "Validation pearson is: nan\n",
      "Validation r2_score is: -0.10239493607948158\n",
      "-------------------------\n"
     ]
    },
    {
     "name": "stderr",
     "output_type": "stream",
     "text": [
      "/home/mbosnjak/.conda/envs/pero/lib/python3.7/site-packages/scipy/stats/stats.py:3399: PearsonRConstantInputWarning: An input array is constant; the correlation coefficent is not defined.\n",
      "  warnings.warn(PearsonRConstantInputWarning())\n"
     ]
    },
    {
     "name": "stdout",
     "output_type": "stream",
     "text": [
      "Epoch 298 end: 1.9121816158294678, TRAIN MSE is: 1093.1943359375\n",
      "Validation loss: 163677.8906250 - MSE score: 790.7145386\n",
      "Validation pearson is: nan\n",
      "Validation r2_score is: -0.10219240513071992\n",
      "-------------------------\n"
     ]
    },
    {
     "name": "stderr",
     "output_type": "stream",
     "text": [
      "/home/mbosnjak/.conda/envs/pero/lib/python3.7/site-packages/scipy/stats/stats.py:3399: PearsonRConstantInputWarning: An input array is constant; the correlation coefficent is not defined.\n",
      "  warnings.warn(PearsonRConstantInputWarning())\n"
     ]
    },
    {
     "name": "stdout",
     "output_type": "stream",
     "text": [
      "Epoch 299 end: 1.9142496585845947, TRAIN MSE is: 1176.3773193359375\n",
      "Validation loss: 163667.2187500 - MSE score: 790.6629028\n",
      "Validation pearson is: nan\n",
      "Validation r2_score is: -0.1021204813884311\n",
      "-------------------------\n"
     ]
    },
    {
     "name": "stderr",
     "output_type": "stream",
     "text": [
      "/home/mbosnjak/.conda/envs/pero/lib/python3.7/site-packages/scipy/stats/stats.py:3399: PearsonRConstantInputWarning: An input array is constant; the correlation coefficent is not defined.\n",
      "  warnings.warn(PearsonRConstantInputWarning())\n"
     ]
    },
    {
     "name": "stdout",
     "output_type": "stream",
     "text": [
      "Epoch 300 end: 1.7274343967437744, TRAIN MSE is: 1216.6915283203125\n",
      "Validation loss: 163629.3437500 - MSE score: 790.4799194\n",
      "Validation pearson is: nan\n",
      "Validation r2_score is: -0.10186540481403838\n",
      "-------------------------\n"
     ]
    },
    {
     "name": "stderr",
     "output_type": "stream",
     "text": [
      "/home/mbosnjak/.conda/envs/pero/lib/python3.7/site-packages/scipy/stats/stats.py:3399: PearsonRConstantInputWarning: An input array is constant; the correlation coefficent is not defined.\n",
      "  warnings.warn(PearsonRConstantInputWarning())\n"
     ]
    },
    {
     "name": "stdout",
     "output_type": "stream",
     "text": [
      "Epoch 301 end: 1.6706879138946533, TRAIN MSE is: 1212.763916015625\n",
      "Validation loss: 163604.2343750 - MSE score: 790.3587036\n",
      "Validation pearson is: nan\n",
      "Validation r2_score is: -0.1016963865674878\n",
      "-------------------------\n"
     ]
    },
    {
     "name": "stderr",
     "output_type": "stream",
     "text": [
      "/home/mbosnjak/.conda/envs/pero/lib/python3.7/site-packages/scipy/stats/stats.py:3399: PearsonRConstantInputWarning: An input array is constant; the correlation coefficent is not defined.\n",
      "  warnings.warn(PearsonRConstantInputWarning())\n"
     ]
    },
    {
     "name": "stdout",
     "output_type": "stream",
     "text": [
      "Epoch 302 end: 1.631934642791748, TRAIN MSE is: 1177.3857421875\n",
      "Validation loss: 163577.6093750 - MSE score: 790.2299194\n",
      "Validation pearson is: nan\n",
      "Validation r2_score is: -0.10151696840572755\n",
      "-------------------------\n"
     ]
    },
    {
     "name": "stderr",
     "output_type": "stream",
     "text": [
      "/home/mbosnjak/.conda/envs/pero/lib/python3.7/site-packages/scipy/stats/stats.py:3399: PearsonRConstantInputWarning: An input array is constant; the correlation coefficent is not defined.\n",
      "  warnings.warn(PearsonRConstantInputWarning())\n"
     ]
    },
    {
     "name": "stdout",
     "output_type": "stream",
     "text": [
      "Epoch 303 end: 1.657520055770874, TRAIN MSE is: 1172.638916015625\n",
      "Validation loss: 163555.3593750 - MSE score: 790.1225586\n",
      "Validation pearson is: nan\n",
      "Validation r2_score is: -0.10136727556691194\n",
      "-------------------------\n"
     ]
    },
    {
     "name": "stderr",
     "output_type": "stream",
     "text": [
      "/home/mbosnjak/.conda/envs/pero/lib/python3.7/site-packages/scipy/stats/stats.py:3399: PearsonRConstantInputWarning: An input array is constant; the correlation coefficent is not defined.\n",
      "  warnings.warn(PearsonRConstantInputWarning())\n"
     ]
    },
    {
     "name": "stdout",
     "output_type": "stream",
     "text": [
      "Epoch 304 end: 1.6513276100158691, TRAIN MSE is: 1211.5201416015625\n",
      "Validation loss: 163511.3593750 - MSE score: 789.9098511\n",
      "Validation pearson is: nan\n",
      "Validation r2_score is: -0.10107094405225214\n",
      "-------------------------\n"
     ]
    },
    {
     "name": "stderr",
     "output_type": "stream",
     "text": [
      "/home/mbosnjak/.conda/envs/pero/lib/python3.7/site-packages/scipy/stats/stats.py:3399: PearsonRConstantInputWarning: An input array is constant; the correlation coefficent is not defined.\n",
      "  warnings.warn(PearsonRConstantInputWarning())\n"
     ]
    },
    {
     "name": "stdout",
     "output_type": "stream",
     "text": [
      "Epoch 305 end: 1.6268999576568604, TRAIN MSE is: 1127.4735107421875\n",
      "Validation loss: 163457.8750000 - MSE score: 789.6515503\n",
      "Validation pearson is: nan\n",
      "Validation r2_score is: -0.10071074619822418\n",
      "-------------------------\n"
     ]
    },
    {
     "name": "stderr",
     "output_type": "stream",
     "text": [
      "/home/mbosnjak/.conda/envs/pero/lib/python3.7/site-packages/scipy/stats/stats.py:3399: PearsonRConstantInputWarning: An input array is constant; the correlation coefficent is not defined.\n",
      "  warnings.warn(PearsonRConstantInputWarning())\n"
     ]
    },
    {
     "name": "stdout",
     "output_type": "stream",
     "text": [
      "Epoch 306 end: 1.6261045932769775, TRAIN MSE is: 1251.690185546875\n",
      "Validation loss: 163393.8906250 - MSE score: 789.3425293\n",
      "Validation pearson is: nan\n",
      "Validation r2_score is: -0.10027993903209409\n",
      "-------------------------\n"
     ]
    },
    {
     "name": "stderr",
     "output_type": "stream",
     "text": [
      "/home/mbosnjak/.conda/envs/pero/lib/python3.7/site-packages/scipy/stats/stats.py:3399: PearsonRConstantInputWarning: An input array is constant; the correlation coefficent is not defined.\n",
      "  warnings.warn(PearsonRConstantInputWarning())\n"
     ]
    },
    {
     "name": "stdout",
     "output_type": "stream",
     "text": [
      "Epoch 307 end: 1.6680328845977783, TRAIN MSE is: 1134.8187255859375\n",
      "Validation loss: 163326.7812500 - MSE score: 789.0182495\n",
      "Validation pearson is: nan\n",
      "Validation r2_score is: -0.09982799176975488\n",
      "-------------------------\n"
     ]
    },
    {
     "name": "stderr",
     "output_type": "stream",
     "text": [
      "/home/mbosnjak/.conda/envs/pero/lib/python3.7/site-packages/scipy/stats/stats.py:3399: PearsonRConstantInputWarning: An input array is constant; the correlation coefficent is not defined.\n",
      "  warnings.warn(PearsonRConstantInputWarning())\n"
     ]
    },
    {
     "name": "stdout",
     "output_type": "stream",
     "text": [
      "Epoch 308 end: 1.6496484279632568, TRAIN MSE is: 1118.52490234375\n",
      "Validation loss: 163268.1875000 - MSE score: 788.7352295\n",
      "Validation pearson is: nan\n",
      "Validation r2_score is: -0.09943346289814947\n",
      "-------------------------\n"
     ]
    },
    {
     "name": "stderr",
     "output_type": "stream",
     "text": [
      "/home/mbosnjak/.conda/envs/pero/lib/python3.7/site-packages/scipy/stats/stats.py:3399: PearsonRConstantInputWarning: An input array is constant; the correlation coefficent is not defined.\n",
      "  warnings.warn(PearsonRConstantInputWarning())\n"
     ]
    },
    {
     "name": "stdout",
     "output_type": "stream",
     "text": [
      "Epoch 309 end: 1.6806533336639404, TRAIN MSE is: 1186.8675537109375\n",
      "Validation loss: 163312.0937500 - MSE score: 788.9471436\n",
      "Validation pearson is: nan\n",
      "Validation r2_score is: -0.09972901466985484\n",
      "-------------------------\n"
     ]
    },
    {
     "name": "stderr",
     "output_type": "stream",
     "text": [
      "/home/mbosnjak/.conda/envs/pero/lib/python3.7/site-packages/scipy/stats/stats.py:3399: PearsonRConstantInputWarning: An input array is constant; the correlation coefficent is not defined.\n",
      "  warnings.warn(PearsonRConstantInputWarning())\n"
     ]
    },
    {
     "name": "stdout",
     "output_type": "stream",
     "text": [
      "Epoch 310 end: 1.6434106826782227, TRAIN MSE is: 1198.36962890625\n",
      "Validation loss: 163298.7812500 - MSE score: 788.8830566\n",
      "Validation pearson is: nan\n",
      "Validation r2_score is: -0.09963953417428084\n",
      "-------------------------\n"
     ]
    },
    {
     "name": "stderr",
     "output_type": "stream",
     "text": [
      "/home/mbosnjak/.conda/envs/pero/lib/python3.7/site-packages/scipy/stats/stats.py:3399: PearsonRConstantInputWarning: An input array is constant; the correlation coefficent is not defined.\n",
      "  warnings.warn(PearsonRConstantInputWarning())\n"
     ]
    },
    {
     "name": "stdout",
     "output_type": "stream",
     "text": [
      "Epoch 311 end: 1.600198745727539, TRAIN MSE is: 1140.5491943359375\n",
      "Validation loss: 163271.7500000 - MSE score: 788.7524414\n",
      "Validation pearson is: nan\n",
      "Validation r2_score is: -0.09945745809379058\n",
      "-------------------------\n"
     ]
    },
    {
     "name": "stderr",
     "output_type": "stream",
     "text": [
      "/home/mbosnjak/.conda/envs/pero/lib/python3.7/site-packages/scipy/stats/stats.py:3399: PearsonRConstantInputWarning: An input array is constant; the correlation coefficent is not defined.\n",
      "  warnings.warn(PearsonRConstantInputWarning())\n"
     ]
    },
    {
     "name": "stdout",
     "output_type": "stream",
     "text": [
      "Epoch 312 end: 1.703615427017212, TRAIN MSE is: 1131.5439453125\n",
      "Validation loss: 163244.8437500 - MSE score: 788.6224365\n",
      "Validation pearson is: nan\n",
      "Validation r2_score is: -0.09927626334545936\n",
      "-------------------------\n"
     ]
    },
    {
     "name": "stderr",
     "output_type": "stream",
     "text": [
      "/home/mbosnjak/.conda/envs/pero/lib/python3.7/site-packages/scipy/stats/stats.py:3399: PearsonRConstantInputWarning: An input array is constant; the correlation coefficent is not defined.\n",
      "  warnings.warn(PearsonRConstantInputWarning())\n"
     ]
    },
    {
     "name": "stdout",
     "output_type": "stream",
     "text": [
      "Epoch 313 end: 1.6585021018981934, TRAIN MSE is: 1127.5751953125\n",
      "Validation loss: 163220.1875000 - MSE score: 788.5034180\n",
      "Validation pearson is: nan\n",
      "Validation r2_score is: -0.09911029710543229\n",
      "-------------------------\n"
     ]
    },
    {
     "name": "stderr",
     "output_type": "stream",
     "text": [
      "/home/mbosnjak/.conda/envs/pero/lib/python3.7/site-packages/scipy/stats/stats.py:3399: PearsonRConstantInputWarning: An input array is constant; the correlation coefficent is not defined.\n",
      "  warnings.warn(PearsonRConstantInputWarning())\n"
     ]
    },
    {
     "name": "stdout",
     "output_type": "stream",
     "text": [
      "Epoch 314 end: 1.7019262313842773, TRAIN MSE is: 1147.1380615234375\n",
      "Validation loss: 163184.5937500 - MSE score: 788.3313599\n",
      "Validation pearson is: nan\n",
      "Validation r2_score is: -0.0988705516222963\n",
      "-------------------------\n"
     ]
    },
    {
     "name": "stderr",
     "output_type": "stream",
     "text": [
      "/home/mbosnjak/.conda/envs/pero/lib/python3.7/site-packages/scipy/stats/stats.py:3399: PearsonRConstantInputWarning: An input array is constant; the correlation coefficent is not defined.\n",
      "  warnings.warn(PearsonRConstantInputWarning())\n"
     ]
    },
    {
     "name": "stdout",
     "output_type": "stream",
     "text": [
      "Epoch 315 end: 1.6701490879058838, TRAIN MSE is: 1166.44189453125\n",
      "Validation loss: 163157.2968750 - MSE score: 788.1994019\n",
      "Validation pearson is: nan\n",
      "Validation r2_score is: -0.09868667506770867\n",
      "-------------------------\n"
     ]
    },
    {
     "name": "stderr",
     "output_type": "stream",
     "text": [
      "/home/mbosnjak/.conda/envs/pero/lib/python3.7/site-packages/scipy/stats/stats.py:3399: PearsonRConstantInputWarning: An input array is constant; the correlation coefficent is not defined.\n",
      "  warnings.warn(PearsonRConstantInputWarning())\n"
     ]
    },
    {
     "name": "stdout",
     "output_type": "stream",
     "text": [
      "Epoch 316 end: 1.640467643737793, TRAIN MSE is: 1141.5751953125\n",
      "Validation loss: 163116.2812500 - MSE score: 788.0013428\n",
      "Validation pearson is: nan\n",
      "Validation r2_score is: -0.09841053284691625\n",
      "-------------------------\n"
     ]
    },
    {
     "name": "stderr",
     "output_type": "stream",
     "text": [
      "/home/mbosnjak/.conda/envs/pero/lib/python3.7/site-packages/scipy/stats/stats.py:3399: PearsonRConstantInputWarning: An input array is constant; the correlation coefficent is not defined.\n",
      "  warnings.warn(PearsonRConstantInputWarning())\n"
     ]
    },
    {
     "name": "stdout",
     "output_type": "stream",
     "text": [
      "Epoch 317 end: 1.7845706939697266, TRAIN MSE is: 1132.766357421875\n",
      "Validation loss: 163068.9218750 - MSE score: 787.7725220\n",
      "Validation pearson is: nan\n",
      "Validation r2_score is: -0.0980916048965681\n",
      "-------------------------\n"
     ]
    },
    {
     "name": "stderr",
     "output_type": "stream",
     "text": [
      "/home/mbosnjak/.conda/envs/pero/lib/python3.7/site-packages/scipy/stats/stats.py:3399: PearsonRConstantInputWarning: An input array is constant; the correlation coefficent is not defined.\n",
      "  warnings.warn(PearsonRConstantInputWarning())\n"
     ]
    },
    {
     "name": "stdout",
     "output_type": "stream",
     "text": [
      "Epoch 318 end: 1.7121891975402832, TRAIN MSE is: 1198.54931640625\n",
      "Validation loss: 163108.5156250 - MSE score: 787.9638672\n",
      "Validation pearson is: nan\n",
      "Validation r2_score is: -0.09835818856527245\n",
      "-------------------------\n"
     ]
    },
    {
     "name": "stderr",
     "output_type": "stream",
     "text": [
      "/home/mbosnjak/.conda/envs/pero/lib/python3.7/site-packages/scipy/stats/stats.py:3399: PearsonRConstantInputWarning: An input array is constant; the correlation coefficent is not defined.\n",
      "  warnings.warn(PearsonRConstantInputWarning())\n"
     ]
    },
    {
     "name": "stdout",
     "output_type": "stream",
     "text": [
      "Epoch 319 end: 1.7812986373901367, TRAIN MSE is: 1139.734375\n",
      "Validation loss: 163098.5000000 - MSE score: 787.9155884\n",
      "Validation pearson is: nan\n",
      "Validation r2_score is: -0.09829084350673578\n",
      "-------------------------\n"
     ]
    },
    {
     "name": "stderr",
     "output_type": "stream",
     "text": [
      "/home/mbosnjak/.conda/envs/pero/lib/python3.7/site-packages/scipy/stats/stats.py:3399: PearsonRConstantInputWarning: An input array is constant; the correlation coefficent is not defined.\n",
      "  warnings.warn(PearsonRConstantInputWarning())\n"
     ]
    },
    {
     "name": "stdout",
     "output_type": "stream",
     "text": [
      "Epoch 320 end: 1.7241530418395996, TRAIN MSE is: 1156.13818359375\n",
      "Validation loss: 163075.6718750 - MSE score: 787.8052368\n",
      "Validation pearson is: nan\n",
      "Validation r2_score is: -0.09813711881436982\n",
      "-------------------------\n"
     ]
    },
    {
     "name": "stderr",
     "output_type": "stream",
     "text": [
      "/home/mbosnjak/.conda/envs/pero/lib/python3.7/site-packages/scipy/stats/stats.py:3399: PearsonRConstantInputWarning: An input array is constant; the correlation coefficent is not defined.\n",
      "  warnings.warn(PearsonRConstantInputWarning())\n"
     ]
    },
    {
     "name": "stdout",
     "output_type": "stream",
     "text": [
      "Epoch 321 end: 1.8708932399749756, TRAIN MSE is: 1102.87158203125\n",
      "Validation loss: 163073.0625000 - MSE score: 787.7926636\n",
      "Validation pearson is: nan\n",
      "Validation r2_score is: -0.09811954284435331\n",
      "-------------------------\n"
     ]
    },
    {
     "name": "stderr",
     "output_type": "stream",
     "text": [
      "/home/mbosnjak/.conda/envs/pero/lib/python3.7/site-packages/scipy/stats/stats.py:3399: PearsonRConstantInputWarning: An input array is constant; the correlation coefficent is not defined.\n",
      "  warnings.warn(PearsonRConstantInputWarning())\n"
     ]
    },
    {
     "name": "stdout",
     "output_type": "stream",
     "text": [
      "Epoch 322 end: 1.7117645740509033, TRAIN MSE is: 1133.1944580078125\n",
      "Validation loss: 163040.1406250 - MSE score: 787.6334839\n",
      "Validation pearson is: nan\n",
      "Validation r2_score is: -0.09789776730742061\n",
      "-------------------------\n"
     ]
    },
    {
     "name": "stderr",
     "output_type": "stream",
     "text": [
      "/home/mbosnjak/.conda/envs/pero/lib/python3.7/site-packages/scipy/stats/stats.py:3399: PearsonRConstantInputWarning: An input array is constant; the correlation coefficent is not defined.\n",
      "  warnings.warn(PearsonRConstantInputWarning())\n"
     ]
    },
    {
     "name": "stdout",
     "output_type": "stream",
     "text": [
      "Epoch 323 end: 1.6538996696472168, TRAIN MSE is: 1185.2646484375\n",
      "Validation loss: 163022.8906250 - MSE score: 787.5501709\n",
      "Validation pearson is: nan\n",
      "Validation r2_score is: -0.0977816630587176\n",
      "-------------------------\n"
     ]
    },
    {
     "name": "stderr",
     "output_type": "stream",
     "text": [
      "/home/mbosnjak/.conda/envs/pero/lib/python3.7/site-packages/scipy/stats/stats.py:3399: PearsonRConstantInputWarning: An input array is constant; the correlation coefficent is not defined.\n",
      "  warnings.warn(PearsonRConstantInputWarning())\n"
     ]
    },
    {
     "name": "stdout",
     "output_type": "stream",
     "text": [
      "Epoch 324 end: 1.6568481922149658, TRAIN MSE is: 1122.9598388671875\n",
      "Validation loss: 163043.2968750 - MSE score: 787.6486816\n",
      "Validation pearson is: nan\n",
      "Validation r2_score is: -0.09791897019492635\n",
      "-------------------------\n"
     ]
    },
    {
     "name": "stderr",
     "output_type": "stream",
     "text": [
      "/home/mbosnjak/.conda/envs/pero/lib/python3.7/site-packages/scipy/stats/stats.py:3399: PearsonRConstantInputWarning: An input array is constant; the correlation coefficent is not defined.\n",
      "  warnings.warn(PearsonRConstantInputWarning())\n"
     ]
    },
    {
     "name": "stdout",
     "output_type": "stream",
     "text": [
      "Epoch 325 end: 1.6521763801574707, TRAIN MSE is: 1146.3251953125\n",
      "Validation loss: 162978.4218750 - MSE score: 787.3352661\n",
      "Validation pearson is: nan\n",
      "Validation r2_score is: -0.09748217309862262\n",
      "-------------------------\n"
     ]
    },
    {
     "name": "stderr",
     "output_type": "stream",
     "text": [
      "/home/mbosnjak/.conda/envs/pero/lib/python3.7/site-packages/scipy/stats/stats.py:3399: PearsonRConstantInputWarning: An input array is constant; the correlation coefficent is not defined.\n",
      "  warnings.warn(PearsonRConstantInputWarning())\n"
     ]
    },
    {
     "name": "stdout",
     "output_type": "stream",
     "text": [
      "Epoch 326 end: 1.6903889179229736, TRAIN MSE is: 1139.3408203125\n",
      "Validation loss: 162957.7343750 - MSE score: 787.2353516\n",
      "Validation pearson is: nan\n",
      "Validation r2_score is: -0.09734278806805863\n",
      "-------------------------\n"
     ]
    },
    {
     "name": "stderr",
     "output_type": "stream",
     "text": [
      "/home/mbosnjak/.conda/envs/pero/lib/python3.7/site-packages/scipy/stats/stats.py:3399: PearsonRConstantInputWarning: An input array is constant; the correlation coefficent is not defined.\n",
      "  warnings.warn(PearsonRConstantInputWarning())\n"
     ]
    },
    {
     "name": "stdout",
     "output_type": "stream",
     "text": [
      "Epoch 327 end: 1.5794508457183838, TRAIN MSE is: 1145.793701171875\n",
      "Validation loss: 162915.9843750 - MSE score: 787.0338135\n",
      "Validation pearson is: nan\n",
      "Validation r2_score is: -0.09706178886392469\n",
      "-------------------------\n"
     ]
    },
    {
     "name": "stderr",
     "output_type": "stream",
     "text": [
      "/home/mbosnjak/.conda/envs/pero/lib/python3.7/site-packages/scipy/stats/stats.py:3399: PearsonRConstantInputWarning: An input array is constant; the correlation coefficent is not defined.\n",
      "  warnings.warn(PearsonRConstantInputWarning())\n"
     ]
    },
    {
     "name": "stdout",
     "output_type": "stream",
     "text": [
      "Epoch 328 end: 1.6966540813446045, TRAIN MSE is: 1135.885009765625\n",
      "Validation loss: 162849.0312500 - MSE score: 786.7102661\n",
      "Validation pearson is: nan\n",
      "Validation r2_score is: -0.0966109794306107\n",
      "-------------------------\n"
     ]
    },
    {
     "name": "stderr",
     "output_type": "stream",
     "text": [
      "/home/mbosnjak/.conda/envs/pero/lib/python3.7/site-packages/scipy/stats/stats.py:3399: PearsonRConstantInputWarning: An input array is constant; the correlation coefficent is not defined.\n",
      "  warnings.warn(PearsonRConstantInputWarning())\n"
     ]
    },
    {
     "name": "stdout",
     "output_type": "stream",
     "text": [
      "Epoch 329 end: 1.6509838104248047, TRAIN MSE is: 1119.467041015625\n",
      "Validation loss: 162828.7187500 - MSE score: 786.6121826\n",
      "Validation pearson is: nan\n",
      "Validation r2_score is: -0.09647414466202564\n",
      "-------------------------\n"
     ]
    },
    {
     "name": "stderr",
     "output_type": "stream",
     "text": [
      "/home/mbosnjak/.conda/envs/pero/lib/python3.7/site-packages/scipy/stats/stats.py:3399: PearsonRConstantInputWarning: An input array is constant; the correlation coefficent is not defined.\n",
      "  warnings.warn(PearsonRConstantInputWarning())\n"
     ]
    },
    {
     "name": "stdout",
     "output_type": "stream",
     "text": [
      "Epoch 330 end: 1.6407525539398193, TRAIN MSE is: 1195.2347412109375\n",
      "Validation loss: 162835.7031250 - MSE score: 786.6459961\n",
      "Validation pearson is: nan\n",
      "Validation r2_score is: -0.09652122202296631\n",
      "-------------------------\n"
     ]
    },
    {
     "name": "stderr",
     "output_type": "stream",
     "text": [
      "/home/mbosnjak/.conda/envs/pero/lib/python3.7/site-packages/scipy/stats/stats.py:3399: PearsonRConstantInputWarning: An input array is constant; the correlation coefficent is not defined.\n",
      "  warnings.warn(PearsonRConstantInputWarning())\n"
     ]
    },
    {
     "name": "stdout",
     "output_type": "stream",
     "text": [
      "Epoch 331 end: 1.6603021621704102, TRAIN MSE is: 1192.62890625\n",
      "Validation loss: 162813.3437500 - MSE score: 786.5378418\n",
      "Validation pearson is: nan\n",
      "Validation r2_score is: -0.09637048143929183\n",
      "-------------------------\n"
     ]
    },
    {
     "name": "stderr",
     "output_type": "stream",
     "text": [
      "/home/mbosnjak/.conda/envs/pero/lib/python3.7/site-packages/scipy/stats/stats.py:3399: PearsonRConstantInputWarning: An input array is constant; the correlation coefficent is not defined.\n",
      "  warnings.warn(PearsonRConstantInputWarning())\n"
     ]
    },
    {
     "name": "stdout",
     "output_type": "stream",
     "text": [
      "Epoch 332 end: 1.655388355255127, TRAIN MSE is: 1158.4307861328125\n",
      "Validation loss: 162749.8281250 - MSE score: 786.2311401\n",
      "Validation pearson is: nan\n",
      "Validation r2_score is: -0.0959429725562313\n",
      "-------------------------\n"
     ]
    },
    {
     "name": "stderr",
     "output_type": "stream",
     "text": [
      "/home/mbosnjak/.conda/envs/pero/lib/python3.7/site-packages/scipy/stats/stats.py:3399: PearsonRConstantInputWarning: An input array is constant; the correlation coefficent is not defined.\n",
      "  warnings.warn(PearsonRConstantInputWarning())\n"
     ]
    },
    {
     "name": "stdout",
     "output_type": "stream",
     "text": [
      "Epoch 333 end: 1.559525489807129, TRAIN MSE is: 1166.6412353515625\n",
      "Validation loss: 162753.9062500 - MSE score: 786.2507324\n",
      "Validation pearson is: nan\n",
      "Validation r2_score is: -0.09597030481042346\n",
      "-------------------------\n"
     ]
    },
    {
     "name": "stderr",
     "output_type": "stream",
     "text": [
      "/home/mbosnjak/.conda/envs/pero/lib/python3.7/site-packages/scipy/stats/stats.py:3399: PearsonRConstantInputWarning: An input array is constant; the correlation coefficent is not defined.\n",
      "  warnings.warn(PearsonRConstantInputWarning())\n"
     ]
    },
    {
     "name": "stdout",
     "output_type": "stream",
     "text": [
      "Epoch 334 end: 1.5158398151397705, TRAIN MSE is: 1131.3514404296875\n",
      "Validation loss: 162765.7812500 - MSE score: 786.3082886\n",
      "Validation pearson is: nan\n",
      "Validation r2_score is: -0.09605036879603102\n",
      "-------------------------\n"
     ]
    },
    {
     "name": "stderr",
     "output_type": "stream",
     "text": [
      "/home/mbosnjak/.conda/envs/pero/lib/python3.7/site-packages/scipy/stats/stats.py:3399: PearsonRConstantInputWarning: An input array is constant; the correlation coefficent is not defined.\n",
      "  warnings.warn(PearsonRConstantInputWarning())\n"
     ]
    },
    {
     "name": "stdout",
     "output_type": "stream",
     "text": [
      "Epoch 335 end: 1.4735667705535889, TRAIN MSE is: 1128.59716796875\n",
      "Validation loss: 162779.5312500 - MSE score: 786.3744507\n",
      "Validation pearson is: nan\n",
      "Validation r2_score is: -0.0961428258444117\n",
      "-------------------------\n"
     ]
    },
    {
     "name": "stderr",
     "output_type": "stream",
     "text": [
      "/home/mbosnjak/.conda/envs/pero/lib/python3.7/site-packages/scipy/stats/stats.py:3399: PearsonRConstantInputWarning: An input array is constant; the correlation coefficent is not defined.\n",
      "  warnings.warn(PearsonRConstantInputWarning())\n"
     ]
    },
    {
     "name": "stdout",
     "output_type": "stream",
     "text": [
      "Epoch 336 end: 1.5277519226074219, TRAIN MSE is: 1201.068603515625\n",
      "Validation loss: 162806.6718750 - MSE score: 786.5057373\n",
      "Validation pearson is: nan\n",
      "Validation r2_score is: -0.09632574418717255\n",
      "-------------------------\n"
     ]
    },
    {
     "name": "stderr",
     "output_type": "stream",
     "text": [
      "/home/mbosnjak/.conda/envs/pero/lib/python3.7/site-packages/scipy/stats/stats.py:3399: PearsonRConstantInputWarning: An input array is constant; the correlation coefficent is not defined.\n",
      "  warnings.warn(PearsonRConstantInputWarning())\n"
     ]
    },
    {
     "name": "stdout",
     "output_type": "stream",
     "text": [
      "Epoch 337 end: 1.7353019714355469, TRAIN MSE is: 1130.185791015625\n",
      "Validation loss: 162789.6875000 - MSE score: 786.4235229\n",
      "Validation pearson is: nan\n",
      "Validation r2_score is: -0.09621119337770323\n",
      "-------------------------\n"
     ]
    },
    {
     "name": "stderr",
     "output_type": "stream",
     "text": [
      "/home/mbosnjak/.conda/envs/pero/lib/python3.7/site-packages/scipy/stats/stats.py:3399: PearsonRConstantInputWarning: An input array is constant; the correlation coefficent is not defined.\n",
      "  warnings.warn(PearsonRConstantInputWarning())\n"
     ]
    },
    {
     "name": "stdout",
     "output_type": "stream",
     "text": [
      "Epoch 338 end: 1.6582543849945068, TRAIN MSE is: 1182.2489013671875\n",
      "Validation loss: 162794.1093750 - MSE score: 786.4450684\n",
      "Validation pearson is: nan\n",
      "Validation r2_score is: -0.09624107691065076\n",
      "-------------------------\n",
      "Starting training for: {'learning_rate': 0.09, 'act_func': 'sig', 'batch_size': 64, 'kernels_count': 8, 'sentences_count': 2, 'hidden_layers': [8, 6, 4], 'dropout': 0.5, 'alpha': 0.1978, 'regularization_type': 'None'}\n",
      "-------------------------\n"
     ]
    },
    {
     "name": "stderr",
     "output_type": "stream",
     "text": [
      "/home/mbosnjak/.conda/envs/pero/lib/python3.7/site-packages/scipy/stats/stats.py:3399: PearsonRConstantInputWarning: An input array is constant; the correlation coefficent is not defined.\n",
      "  warnings.warn(PearsonRConstantInputWarning())\n"
     ]
    },
    {
     "name": "stdout",
     "output_type": "stream",
     "text": [
      "Epoch 0 end: 1.8770456314086914, TRAIN MSE is: 4471.7138671875\n",
      "Validation loss: 882130.5000000 - MSE score: 4261.5000000\n",
      "Validation pearson is: nan\n",
      "Validation r2_score is: -4.94018831332587\n",
      "-------------------------\n"
     ]
    },
    {
     "name": "stderr",
     "output_type": "stream",
     "text": [
      "/home/mbosnjak/.conda/envs/pero/lib/python3.7/site-packages/scipy/stats/stats.py:3399: PearsonRConstantInputWarning: An input array is constant; the correlation coefficent is not defined.\n",
      "  warnings.warn(PearsonRConstantInputWarning())\n"
     ]
    },
    {
     "name": "stdout",
     "output_type": "stream",
     "text": [
      "Epoch 1 end: 1.681384563446045, TRAIN MSE is: 3920.07958984375\n",
      "Validation loss: 717120.7500000 - MSE score: 3464.3515625\n",
      "Validation pearson is: nan\n",
      "Validation r2_score is: -3.829027108495408\n",
      "-------------------------\n"
     ]
    },
    {
     "name": "stderr",
     "output_type": "stream",
     "text": [
      "/home/mbosnjak/.conda/envs/pero/lib/python3.7/site-packages/scipy/stats/stats.py:3399: PearsonRConstantInputWarning: An input array is constant; the correlation coefficent is not defined.\n",
      "  warnings.warn(PearsonRConstantInputWarning())\n"
     ]
    },
    {
     "name": "stdout",
     "output_type": "stream",
     "text": [
      "Epoch 2 end: 1.6050634384155273, TRAIN MSE is: 3197.733154296875\n",
      "Validation loss: 582748.0000000 - MSE score: 2815.2080078\n",
      "Validation pearson is: nan\n",
      "Validation r2_score is: -2.9241735793742865\n",
      "-------------------------\n"
     ]
    },
    {
     "name": "stderr",
     "output_type": "stream",
     "text": [
      "/home/mbosnjak/.conda/envs/pero/lib/python3.7/site-packages/scipy/stats/stats.py:3399: PearsonRConstantInputWarning: An input array is constant; the correlation coefficent is not defined.\n",
      "  warnings.warn(PearsonRConstantInputWarning())\n"
     ]
    },
    {
     "name": "stdout",
     "output_type": "stream",
     "text": [
      "Epoch 3 end: 1.6967096328735352, TRAIN MSE is: 2617.576904296875\n",
      "Validation loss: 477156.8750000 - MSE score: 2305.1057129\n",
      "Validation pearson is: nan\n",
      "Validation r2_score is: -2.213132064916099\n",
      "-------------------------\n"
     ]
    },
    {
     "name": "stderr",
     "output_type": "stream",
     "text": [
      "/home/mbosnjak/.conda/envs/pero/lib/python3.7/site-packages/scipy/stats/stats.py:3399: PearsonRConstantInputWarning: An input array is constant; the correlation coefficent is not defined.\n",
      "  warnings.warn(PearsonRConstantInputWarning())\n"
     ]
    },
    {
     "name": "stdout",
     "output_type": "stream",
     "text": [
      "Epoch 4 end: 1.6595709323883057, TRAIN MSE is: 2175.921630859375\n",
      "Validation loss: 394430.1875000 - MSE score: 1905.4599609\n",
      "Validation pearson is: nan\n",
      "Validation r2_score is: -1.6560577962661203\n",
      "-------------------------\n"
     ]
    },
    {
     "name": "stderr",
     "output_type": "stream",
     "text": [
      "/home/mbosnjak/.conda/envs/pero/lib/python3.7/site-packages/scipy/stats/stats.py:3399: PearsonRConstantInputWarning: An input array is constant; the correlation coefficent is not defined.\n",
      "  warnings.warn(PearsonRConstantInputWarning())\n"
     ]
    },
    {
     "name": "stdout",
     "output_type": "stream",
     "text": [
      "Epoch 5 end: 1.8456692695617676, TRAIN MSE is: 1860.7587890625\n",
      "Validation loss: 331005.0625000 - MSE score: 1599.0582275\n",
      "Validation pearson is: nan\n",
      "Validation r2_score is: -1.228958665518399\n",
      "-------------------------\n"
     ]
    },
    {
     "name": "stderr",
     "output_type": "stream",
     "text": [
      "/home/mbosnjak/.conda/envs/pero/lib/python3.7/site-packages/scipy/stats/stats.py:3399: PearsonRConstantInputWarning: An input array is constant; the correlation coefficent is not defined.\n",
      "  warnings.warn(PearsonRConstantInputWarning())\n"
     ]
    },
    {
     "name": "stdout",
     "output_type": "stream",
     "text": [
      "Epoch 6 end: 1.7641942501068115, TRAIN MSE is: 1630.8692626953125\n",
      "Validation loss: 285378.3125000 - MSE score: 1378.6391602\n",
      "Validation pearson is: nan\n",
      "Validation r2_score is: -0.9217121100701393\n",
      "-------------------------\n"
     ]
    },
    {
     "name": "stderr",
     "output_type": "stream",
     "text": [
      "/home/mbosnjak/.conda/envs/pero/lib/python3.7/site-packages/scipy/stats/stats.py:3399: PearsonRConstantInputWarning: An input array is constant; the correlation coefficent is not defined.\n",
      "  warnings.warn(PearsonRConstantInputWarning())\n"
     ]
    },
    {
     "name": "stdout",
     "output_type": "stream",
     "text": [
      "Epoch 7 end: 1.7189335823059082, TRAIN MSE is: 1526.50634765625\n",
      "Validation loss: 251216.0156250 - MSE score: 1213.6038818\n",
      "Validation pearson is: nan\n",
      "Validation r2_score is: -0.6916663716388449\n",
      "-------------------------\n"
     ]
    },
    {
     "name": "stderr",
     "output_type": "stream",
     "text": [
      "/home/mbosnjak/.conda/envs/pero/lib/python3.7/site-packages/scipy/stats/stats.py:3399: PearsonRConstantInputWarning: An input array is constant; the correlation coefficent is not defined.\n",
      "  warnings.warn(PearsonRConstantInputWarning())\n"
     ]
    },
    {
     "name": "stdout",
     "output_type": "stream",
     "text": [
      "Epoch 8 end: 1.7619080543518066, TRAIN MSE is: 1444.1458740234375\n",
      "Validation loss: 226238.9218750 - MSE score: 1092.9417725\n",
      "Validation pearson is: nan\n",
      "Validation r2_score is: -0.5234728387937562\n",
      "-------------------------\n"
     ]
    },
    {
     "name": "stderr",
     "output_type": "stream",
     "text": [
      "/home/mbosnjak/.conda/envs/pero/lib/python3.7/site-packages/scipy/stats/stats.py:3399: PearsonRConstantInputWarning: An input array is constant; the correlation coefficent is not defined.\n",
      "  warnings.warn(PearsonRConstantInputWarning())\n"
     ]
    },
    {
     "name": "stdout",
     "output_type": "stream",
     "text": [
      "Epoch 9 end: 1.6670112609863281, TRAIN MSE is: 1355.82275390625\n",
      "Validation loss: 208003.2031250 - MSE score: 1004.8463745\n",
      "Validation pearson is: nan\n",
      "Validation r2_score is: -0.4006750707900242\n",
      "-------------------------\n"
     ]
    },
    {
     "name": "stderr",
     "output_type": "stream",
     "text": [
      "/home/mbosnjak/.conda/envs/pero/lib/python3.7/site-packages/scipy/stats/stats.py:3399: PearsonRConstantInputWarning: An input array is constant; the correlation coefficent is not defined.\n",
      "  warnings.warn(PearsonRConstantInputWarning())\n"
     ]
    },
    {
     "name": "stdout",
     "output_type": "stream",
     "text": [
      "Epoch 10 end: 1.6901559829711914, TRAIN MSE is: 1347.4805908203125\n",
      "Validation loss: 196085.6093750 - MSE score: 947.2733765\n",
      "Validation pearson is: nan\n",
      "Validation r2_score is: -0.3204230163254187\n",
      "-------------------------\n"
     ]
    },
    {
     "name": "stderr",
     "output_type": "stream",
     "text": [
      "/home/mbosnjak/.conda/envs/pero/lib/python3.7/site-packages/scipy/stats/stats.py:3399: PearsonRConstantInputWarning: An input array is constant; the correlation coefficent is not defined.\n",
      "  warnings.warn(PearsonRConstantInputWarning())\n"
     ]
    },
    {
     "name": "stdout",
     "output_type": "stream",
     "text": [
      "Epoch 11 end: 1.672440767288208, TRAIN MSE is: 1340.614501953125\n",
      "Validation loss: 186833.7187500 - MSE score: 902.5782471\n",
      "Validation pearson is: nan\n",
      "Validation r2_score is: -0.25812165077237603\n",
      "-------------------------\n"
     ]
    },
    {
     "name": "stderr",
     "output_type": "stream",
     "text": [
      "/home/mbosnjak/.conda/envs/pero/lib/python3.7/site-packages/scipy/stats/stats.py:3399: PearsonRConstantInputWarning: An input array is constant; the correlation coefficent is not defined.\n",
      "  warnings.warn(PearsonRConstantInputWarning())\n"
     ]
    },
    {
     "name": "stdout",
     "output_type": "stream",
     "text": [
      "Epoch 12 end: 1.6680395603179932, TRAIN MSE is: 1327.3023681640625\n",
      "Validation loss: 180614.0625000 - MSE score: 872.5316162\n",
      "Validation pearson is: nan\n",
      "Validation r2_score is: -0.21623899331494578\n",
      "-------------------------\n"
     ]
    },
    {
     "name": "stderr",
     "output_type": "stream",
     "text": [
      "/home/mbosnjak/.conda/envs/pero/lib/python3.7/site-packages/scipy/stats/stats.py:3399: PearsonRConstantInputWarning: An input array is constant; the correlation coefficent is not defined.\n",
      "  warnings.warn(PearsonRConstantInputWarning())\n"
     ]
    },
    {
     "name": "stdout",
     "output_type": "stream",
     "text": [
      "Epoch 13 end: 1.6516077518463135, TRAIN MSE is: 1374.96484375\n",
      "Validation loss: 175854.6250000 - MSE score: 849.5391846\n",
      "Validation pearson is: nan\n",
      "Validation r2_score is: -0.18418933872732057\n",
      "-------------------------\n"
     ]
    },
    {
     "name": "stderr",
     "output_type": "stream",
     "text": [
      "/home/mbosnjak/.conda/envs/pero/lib/python3.7/site-packages/scipy/stats/stats.py:3399: PearsonRConstantInputWarning: An input array is constant; the correlation coefficent is not defined.\n",
      "  warnings.warn(PearsonRConstantInputWarning())\n"
     ]
    },
    {
     "name": "stdout",
     "output_type": "stream",
     "text": [
      "Epoch 14 end: 1.6719632148742676, TRAIN MSE is: 1276.1171875\n",
      "Validation loss: 172678.8750000 - MSE score: 834.1974487\n",
      "Validation pearson is: nan\n",
      "Validation r2_score is: -0.16280420573311893\n",
      "-------------------------\n"
     ]
    },
    {
     "name": "stderr",
     "output_type": "stream",
     "text": [
      "/home/mbosnjak/.conda/envs/pero/lib/python3.7/site-packages/scipy/stats/stats.py:3399: PearsonRConstantInputWarning: An input array is constant; the correlation coefficent is not defined.\n",
      "  warnings.warn(PearsonRConstantInputWarning())\n"
     ]
    },
    {
     "name": "stdout",
     "output_type": "stream",
     "text": [
      "Epoch 15 end: 1.6623461246490479, TRAIN MSE is: 1287.2685546875\n",
      "Validation loss: 170733.0156250 - MSE score: 824.7972412\n",
      "Validation pearson is: nan\n",
      "Validation r2_score is: -0.1497009337692643\n",
      "-------------------------\n"
     ]
    },
    {
     "name": "stderr",
     "output_type": "stream",
     "text": [
      "/home/mbosnjak/.conda/envs/pero/lib/python3.7/site-packages/scipy/stats/stats.py:3399: PearsonRConstantInputWarning: An input array is constant; the correlation coefficent is not defined.\n",
      "  warnings.warn(PearsonRConstantInputWarning())\n"
     ]
    },
    {
     "name": "stdout",
     "output_type": "stream",
     "text": [
      "Epoch 16 end: 1.7576713562011719, TRAIN MSE is: 1282.6773681640625\n",
      "Validation loss: 169811.6406250 - MSE score: 820.3461914\n",
      "Validation pearson is: nan\n",
      "Validation r2_score is: -0.14349652122948786\n",
      "-------------------------\n"
     ]
    },
    {
     "name": "stderr",
     "output_type": "stream",
     "text": [
      "/home/mbosnjak/.conda/envs/pero/lib/python3.7/site-packages/scipy/stats/stats.py:3399: PearsonRConstantInputWarning: An input array is constant; the correlation coefficent is not defined.\n",
      "  warnings.warn(PearsonRConstantInputWarning())\n"
     ]
    },
    {
     "name": "stdout",
     "output_type": "stream",
     "text": [
      "Epoch 17 end: 1.6795997619628906, TRAIN MSE is: 1189.1427001953125\n",
      "Validation loss: 168511.5312500 - MSE score: 814.0653687\n",
      "Validation pearson is: nan\n",
      "Validation r2_score is: -0.1347416530975578\n",
      "-------------------------\n"
     ]
    },
    {
     "name": "stderr",
     "output_type": "stream",
     "text": [
      "/home/mbosnjak/.conda/envs/pero/lib/python3.7/site-packages/scipy/stats/stats.py:3399: PearsonRConstantInputWarning: An input array is constant; the correlation coefficent is not defined.\n",
      "  warnings.warn(PearsonRConstantInputWarning())\n"
     ]
    },
    {
     "name": "stdout",
     "output_type": "stream",
     "text": [
      "Epoch 18 end: 1.6007845401763916, TRAIN MSE is: 1231.9818115234375\n",
      "Validation loss: 167555.3437500 - MSE score: 809.4461060\n",
      "Validation pearson is: nan\n",
      "Validation r2_score is: -0.12830281757498696\n",
      "-------------------------\n"
     ]
    },
    {
     "name": "stderr",
     "output_type": "stream",
     "text": [
      "/home/mbosnjak/.conda/envs/pero/lib/python3.7/site-packages/scipy/stats/stats.py:3399: PearsonRConstantInputWarning: An input array is constant; the correlation coefficent is not defined.\n",
      "  warnings.warn(PearsonRConstantInputWarning())\n"
     ]
    },
    {
     "name": "stdout",
     "output_type": "stream",
     "text": [
      "Epoch 19 end: 1.658731460571289, TRAIN MSE is: 1206.6463623046875\n",
      "Validation loss: 166085.0781250 - MSE score: 802.3433228\n",
      "Validation pearson is: nan\n",
      "Validation r2_score is: -0.11840203431563268\n",
      "-------------------------\n"
     ]
    },
    {
     "name": "stderr",
     "output_type": "stream",
     "text": [
      "/home/mbosnjak/.conda/envs/pero/lib/python3.7/site-packages/scipy/stats/stats.py:3399: PearsonRConstantInputWarning: An input array is constant; the correlation coefficent is not defined.\n",
      "  warnings.warn(PearsonRConstantInputWarning())\n"
     ]
    },
    {
     "name": "stdout",
     "output_type": "stream",
     "text": [
      "Epoch 20 end: 1.6834282875061035, TRAIN MSE is: 1415.7994384765625\n",
      "Validation loss: 166308.6250000 - MSE score: 803.4232788\n",
      "Validation pearson is: nan\n",
      "Validation r2_score is: -0.11990747316493611\n",
      "-------------------------\n"
     ]
    },
    {
     "name": "stderr",
     "output_type": "stream",
     "text": [
      "/home/mbosnjak/.conda/envs/pero/lib/python3.7/site-packages/scipy/stats/stats.py:3399: PearsonRConstantInputWarning: An input array is constant; the correlation coefficent is not defined.\n",
      "  warnings.warn(PearsonRConstantInputWarning())\n"
     ]
    },
    {
     "name": "stdout",
     "output_type": "stream",
     "text": [
      "Epoch 21 end: 1.626086711883545, TRAIN MSE is: 1218.45947265625\n",
      "Validation loss: 166747.6406250 - MSE score: 805.5441284\n",
      "Validation pearson is: nan\n",
      "Validation r2_score is: -0.12286373041370413\n",
      "-------------------------\n"
     ]
    },
    {
     "name": "stderr",
     "output_type": "stream",
     "text": [
      "/home/mbosnjak/.conda/envs/pero/lib/python3.7/site-packages/scipy/stats/stats.py:3399: PearsonRConstantInputWarning: An input array is constant; the correlation coefficent is not defined.\n",
      "  warnings.warn(PearsonRConstantInputWarning())\n"
     ]
    },
    {
     "name": "stdout",
     "output_type": "stream",
     "text": [
      "Epoch 22 end: 1.81754469871521, TRAIN MSE is: 1164.87744140625\n",
      "Validation loss: 166641.6406250 - MSE score: 805.0321045\n",
      "Validation pearson is: nan\n",
      "Validation r2_score is: -0.12214998924781928\n",
      "-------------------------\n"
     ]
    },
    {
     "name": "stderr",
     "output_type": "stream",
     "text": [
      "/home/mbosnjak/.conda/envs/pero/lib/python3.7/site-packages/scipy/stats/stats.py:3399: PearsonRConstantInputWarning: An input array is constant; the correlation coefficent is not defined.\n",
      "  warnings.warn(PearsonRConstantInputWarning())\n"
     ]
    },
    {
     "name": "stdout",
     "output_type": "stream",
     "text": [
      "Epoch 23 end: 1.6641619205474854, TRAIN MSE is: 1275.014404296875\n",
      "Validation loss: 166040.8281250 - MSE score: 802.1296997\n",
      "Validation pearson is: nan\n",
      "Validation r2_score is: -0.11810416133773805\n",
      "-------------------------\n"
     ]
    },
    {
     "name": "stderr",
     "output_type": "stream",
     "text": [
      "/home/mbosnjak/.conda/envs/pero/lib/python3.7/site-packages/scipy/stats/stats.py:3399: PearsonRConstantInputWarning: An input array is constant; the correlation coefficent is not defined.\n",
      "  warnings.warn(PearsonRConstantInputWarning())\n"
     ]
    },
    {
     "name": "stdout",
     "output_type": "stream",
     "text": [
      "Epoch 24 end: 1.520808458328247, TRAIN MSE is: 1179.0238037109375\n",
      "Validation loss: 164693.4687500 - MSE score: 795.6206055\n",
      "Validation pearson is: nan\n",
      "Validation r2_score is: -0.10903115562619337\n",
      "-------------------------\n"
     ]
    },
    {
     "name": "stderr",
     "output_type": "stream",
     "text": [
      "/home/mbosnjak/.conda/envs/pero/lib/python3.7/site-packages/scipy/stats/stats.py:3399: PearsonRConstantInputWarning: An input array is constant; the correlation coefficent is not defined.\n",
      "  warnings.warn(PearsonRConstantInputWarning())\n"
     ]
    },
    {
     "name": "stdout",
     "output_type": "stream",
     "text": [
      "Epoch 25 end: 1.4512836933135986, TRAIN MSE is: 1127.3511962890625\n",
      "Validation loss: 163351.9375000 - MSE score: 789.1397705\n",
      "Validation pearson is: nan\n",
      "Validation r2_score is: -0.0999974507995105\n",
      "-------------------------\n"
     ]
    },
    {
     "name": "stderr",
     "output_type": "stream",
     "text": [
      "/home/mbosnjak/.conda/envs/pero/lib/python3.7/site-packages/scipy/stats/stats.py:3399: PearsonRConstantInputWarning: An input array is constant; the correlation coefficent is not defined.\n",
      "  warnings.warn(PearsonRConstantInputWarning())\n"
     ]
    },
    {
     "name": "stdout",
     "output_type": "stream",
     "text": [
      "Epoch 26 end: 1.5610086917877197, TRAIN MSE is: 1118.794189453125\n",
      "Validation loss: 163115.4843750 - MSE score: 787.9975586\n",
      "Validation pearson is: nan\n",
      "Validation r2_score is: -0.0984051775386976\n",
      "-------------------------\n"
     ]
    },
    {
     "name": "stderr",
     "output_type": "stream",
     "text": [
      "/home/mbosnjak/.conda/envs/pero/lib/python3.7/site-packages/scipy/stats/stats.py:3399: PearsonRConstantInputWarning: An input array is constant; the correlation coefficent is not defined.\n",
      "  warnings.warn(PearsonRConstantInputWarning())\n"
     ]
    },
    {
     "name": "stdout",
     "output_type": "stream",
     "text": [
      "Epoch 27 end: 1.598710536956787, TRAIN MSE is: 1172.728515625\n",
      "Validation loss: 163439.4687500 - MSE score: 789.5626221\n",
      "Validation pearson is: nan\n",
      "Validation r2_score is: -0.10058686000788564\n",
      "-------------------------\n"
     ]
    },
    {
     "name": "stderr",
     "output_type": "stream",
     "text": [
      "/home/mbosnjak/.conda/envs/pero/lib/python3.7/site-packages/scipy/stats/stats.py:3399: PearsonRConstantInputWarning: An input array is constant; the correlation coefficent is not defined.\n",
      "  warnings.warn(PearsonRConstantInputWarning())\n"
     ]
    },
    {
     "name": "stdout",
     "output_type": "stream",
     "text": [
      "Epoch 28 end: 1.8605823516845703, TRAIN MSE is: 1191.1097412109375\n",
      "Validation loss: 162483.7343750 - MSE score: 784.9456787\n",
      "Validation pearson is: nan\n",
      "Validation r2_score is: -0.09415100390311704\n",
      "-------------------------\n"
     ]
    },
    {
     "name": "stderr",
     "output_type": "stream",
     "text": [
      "/home/mbosnjak/.conda/envs/pero/lib/python3.7/site-packages/scipy/stats/stats.py:3399: PearsonRConstantInputWarning: An input array is constant; the correlation coefficent is not defined.\n",
      "  warnings.warn(PearsonRConstantInputWarning())\n"
     ]
    },
    {
     "name": "stdout",
     "output_type": "stream",
     "text": [
      "Epoch 29 end: 1.6637864112854004, TRAIN MSE is: 1177.960693359375\n",
      "Validation loss: 162837.5468750 - MSE score: 786.6548462\n",
      "Validation pearson is: nan\n",
      "Validation r2_score is: -0.09653360701414071\n",
      "-------------------------\n"
     ]
    },
    {
     "name": "stderr",
     "output_type": "stream",
     "text": [
      "/home/mbosnjak/.conda/envs/pero/lib/python3.7/site-packages/scipy/stats/stats.py:3399: PearsonRConstantInputWarning: An input array is constant; the correlation coefficent is not defined.\n",
      "  warnings.warn(PearsonRConstantInputWarning())\n"
     ]
    },
    {
     "name": "stdout",
     "output_type": "stream",
     "text": [
      "Epoch 30 end: 1.664078950881958, TRAIN MSE is: 1172.524658203125\n",
      "Validation loss: 163773.3593750 - MSE score: 791.1755981\n",
      "Validation pearson is: nan\n",
      "Validation r2_score is: -0.10283519172779787\n",
      "-------------------------\n"
     ]
    },
    {
     "name": "stderr",
     "output_type": "stream",
     "text": [
      "/home/mbosnjak/.conda/envs/pero/lib/python3.7/site-packages/scipy/stats/stats.py:3399: PearsonRConstantInputWarning: An input array is constant; the correlation coefficent is not defined.\n",
      "  warnings.warn(PearsonRConstantInputWarning())\n"
     ]
    },
    {
     "name": "stdout",
     "output_type": "stream",
     "text": [
      "Epoch 31 end: 1.6337080001831055, TRAIN MSE is: 1180.6080322265625\n",
      "Validation loss: 163003.9843750 - MSE score: 787.4589233\n",
      "Validation pearson is: nan\n",
      "Validation r2_score is: -0.09765442567178728\n",
      "-------------------------\n"
     ]
    },
    {
     "name": "stderr",
     "output_type": "stream",
     "text": [
      "/home/mbosnjak/.conda/envs/pero/lib/python3.7/site-packages/scipy/stats/stats.py:3399: PearsonRConstantInputWarning: An input array is constant; the correlation coefficent is not defined.\n",
      "  warnings.warn(PearsonRConstantInputWarning())\n"
     ]
    },
    {
     "name": "stdout",
     "output_type": "stream",
     "text": [
      "Epoch 32 end: 1.652552843093872, TRAIN MSE is: 1143.713134765625\n",
      "Validation loss: 162939.7031250 - MSE score: 787.1482544\n",
      "Validation pearson is: nan\n",
      "Validation r2_score is: -0.0972214099241051\n",
      "-------------------------\n"
     ]
    },
    {
     "name": "stderr",
     "output_type": "stream",
     "text": [
      "/home/mbosnjak/.conda/envs/pero/lib/python3.7/site-packages/scipy/stats/stats.py:3399: PearsonRConstantInputWarning: An input array is constant; the correlation coefficent is not defined.\n",
      "  warnings.warn(PearsonRConstantInputWarning())\n"
     ]
    },
    {
     "name": "stdout",
     "output_type": "stream",
     "text": [
      "Epoch 33 end: 1.620222806930542, TRAIN MSE is: 1142.1080322265625\n",
      "Validation loss: 162942.5468750 - MSE score: 787.1620483\n",
      "Validation pearson is: nan\n",
      "Validation r2_score is: -0.09724060309276195\n",
      "-------------------------\n"
     ]
    },
    {
     "name": "stderr",
     "output_type": "stream",
     "text": [
      "/home/mbosnjak/.conda/envs/pero/lib/python3.7/site-packages/scipy/stats/stats.py:3399: PearsonRConstantInputWarning: An input array is constant; the correlation coefficent is not defined.\n",
      "  warnings.warn(PearsonRConstantInputWarning())\n"
     ]
    },
    {
     "name": "stdout",
     "output_type": "stream",
     "text": [
      "Epoch 34 end: 1.7181663513183594, TRAIN MSE is: 1120.855224609375\n",
      "Validation loss: 162413.7343750 - MSE score: 784.6074829\n",
      "Validation pearson is: nan\n",
      "Validation r2_score is: -0.0936797013330839\n",
      "-------------------------\n"
     ]
    },
    {
     "name": "stderr",
     "output_type": "stream",
     "text": [
      "/home/mbosnjak/.conda/envs/pero/lib/python3.7/site-packages/scipy/stats/stats.py:3399: PearsonRConstantInputWarning: An input array is constant; the correlation coefficent is not defined.\n",
      "  warnings.warn(PearsonRConstantInputWarning())\n"
     ]
    },
    {
     "name": "stdout",
     "output_type": "stream",
     "text": [
      "Epoch 35 end: 1.627197504043579, TRAIN MSE is: 1068.16796875\n",
      "Validation loss: 162322.5156250 - MSE score: 784.1666870\n",
      "Validation pearson is: nan\n",
      "Validation r2_score is: -0.09306529814320985\n",
      "-------------------------\n"
     ]
    },
    {
     "name": "stderr",
     "output_type": "stream",
     "text": [
      "/home/mbosnjak/.conda/envs/pero/lib/python3.7/site-packages/scipy/stats/stats.py:3399: PearsonRConstantInputWarning: An input array is constant; the correlation coefficent is not defined.\n",
      "  warnings.warn(PearsonRConstantInputWarning())\n"
     ]
    },
    {
     "name": "stdout",
     "output_type": "stream",
     "text": [
      "Epoch 36 end: 1.703679084777832, TRAIN MSE is: 1124.4005126953125\n",
      "Validation loss: 162572.8750000 - MSE score: 785.3762817\n",
      "Validation pearson is: nan\n",
      "Validation r2_score is: -0.09475135812934687\n",
      "-------------------------\n"
     ]
    },
    {
     "name": "stderr",
     "output_type": "stream",
     "text": [
      "/home/mbosnjak/.conda/envs/pero/lib/python3.7/site-packages/scipy/stats/stats.py:3399: PearsonRConstantInputWarning: An input array is constant; the correlation coefficent is not defined.\n",
      "  warnings.warn(PearsonRConstantInputWarning())\n"
     ]
    },
    {
     "name": "stdout",
     "output_type": "stream",
     "text": [
      "Epoch 37 end: 1.652534008026123, TRAIN MSE is: 1114.102294921875\n",
      "Validation loss: 160770.2968750 - MSE score: 776.6680908\n",
      "Validation pearson is: nan\n",
      "Validation r2_score is: -0.08261289801324168\n",
      "-------------------------\n"
     ]
    },
    {
     "name": "stderr",
     "output_type": "stream",
     "text": [
      "/home/mbosnjak/.conda/envs/pero/lib/python3.7/site-packages/scipy/stats/stats.py:3399: PearsonRConstantInputWarning: An input array is constant; the correlation coefficent is not defined.\n",
      "  warnings.warn(PearsonRConstantInputWarning())\n"
     ]
    },
    {
     "name": "stdout",
     "output_type": "stream",
     "text": [
      "Epoch 38 end: 1.735722541809082, TRAIN MSE is: 1093.8101806640625\n",
      "Validation loss: 160887.7656250 - MSE score: 777.2355347\n",
      "Validation pearson is: nan\n",
      "Validation r2_score is: -0.08340394203469392\n",
      "-------------------------\n"
     ]
    },
    {
     "name": "stderr",
     "output_type": "stream",
     "text": [
      "/home/mbosnjak/.conda/envs/pero/lib/python3.7/site-packages/scipy/stats/stats.py:3399: PearsonRConstantInputWarning: An input array is constant; the correlation coefficent is not defined.\n",
      "  warnings.warn(PearsonRConstantInputWarning())\n"
     ]
    },
    {
     "name": "stdout",
     "output_type": "stream",
     "text": [
      "Epoch 39 end: 1.657480001449585, TRAIN MSE is: 1086.99267578125\n",
      "Validation loss: 160307.5468750 - MSE score: 774.4326172\n",
      "Validation pearson is: nan\n",
      "Validation r2_score is: -0.07949676272191053\n",
      "-------------------------\n"
     ]
    },
    {
     "name": "stderr",
     "output_type": "stream",
     "text": [
      "/home/mbosnjak/.conda/envs/pero/lib/python3.7/site-packages/scipy/stats/stats.py:3399: PearsonRConstantInputWarning: An input array is constant; the correlation coefficent is not defined.\n",
      "  warnings.warn(PearsonRConstantInputWarning())\n"
     ]
    },
    {
     "name": "stdout",
     "output_type": "stream",
     "text": [
      "Epoch 40 end: 1.8245561122894287, TRAIN MSE is: 1130.246826171875\n",
      "Validation loss: 160622.8750000 - MSE score: 775.9559326\n",
      "Validation pearson is: nan\n",
      "Validation r2_score is: -0.08162017437804203\n",
      "-------------------------\n"
     ]
    },
    {
     "name": "stderr",
     "output_type": "stream",
     "text": [
      "/home/mbosnjak/.conda/envs/pero/lib/python3.7/site-packages/scipy/stats/stats.py:3399: PearsonRConstantInputWarning: An input array is constant; the correlation coefficent is not defined.\n",
      "  warnings.warn(PearsonRConstantInputWarning())\n"
     ]
    },
    {
     "name": "stdout",
     "output_type": "stream",
     "text": [
      "Epoch 41 end: 1.7372455596923828, TRAIN MSE is: 1125.7138671875\n",
      "Validation loss: 160640.6250000 - MSE score: 776.0416870\n",
      "Validation pearson is: nan\n",
      "Validation r2_score is: -0.08173967887972089\n",
      "-------------------------\n"
     ]
    },
    {
     "name": "stderr",
     "output_type": "stream",
     "text": [
      "/home/mbosnjak/.conda/envs/pero/lib/python3.7/site-packages/scipy/stats/stats.py:3399: PearsonRConstantInputWarning: An input array is constant; the correlation coefficent is not defined.\n",
      "  warnings.warn(PearsonRConstantInputWarning())\n"
     ]
    },
    {
     "name": "stdout",
     "output_type": "stream",
     "text": [
      "Epoch 42 end: 1.7116775512695312, TRAIN MSE is: 1086.3529052734375\n",
      "Validation loss: 160489.1875000 - MSE score: 775.3100586\n",
      "Validation pearson is: nan\n",
      "Validation r2_score is: -0.08071993398938138\n",
      "-------------------------\n"
     ]
    },
    {
     "name": "stderr",
     "output_type": "stream",
     "text": [
      "/home/mbosnjak/.conda/envs/pero/lib/python3.7/site-packages/scipy/stats/stats.py:3399: PearsonRConstantInputWarning: An input array is constant; the correlation coefficent is not defined.\n",
      "  warnings.warn(PearsonRConstantInputWarning())\n"
     ]
    },
    {
     "name": "stdout",
     "output_type": "stream",
     "text": [
      "Epoch 43 end: 1.6669807434082031, TRAIN MSE is: 1038.585693359375\n",
      "Validation loss: 160204.5000000 - MSE score: 773.9347534\n",
      "Validation pearson is: nan\n",
      "Validation r2_score is: -0.07880285495401029\n",
      "-------------------------\n"
     ]
    },
    {
     "name": "stderr",
     "output_type": "stream",
     "text": [
      "/home/mbosnjak/.conda/envs/pero/lib/python3.7/site-packages/scipy/stats/stats.py:3399: PearsonRConstantInputWarning: An input array is constant; the correlation coefficent is not defined.\n",
      "  warnings.warn(PearsonRConstantInputWarning())\n"
     ]
    },
    {
     "name": "stdout",
     "output_type": "stream",
     "text": [
      "Epoch 44 end: 1.608365535736084, TRAIN MSE is: 1083.215576171875\n",
      "Validation loss: 160233.6718750 - MSE score: 774.0756836\n",
      "Validation pearson is: nan\n",
      "Validation r2_score is: -0.07899928156998204\n",
      "-------------------------\n"
     ]
    },
    {
     "name": "stderr",
     "output_type": "stream",
     "text": [
      "/home/mbosnjak/.conda/envs/pero/lib/python3.7/site-packages/scipy/stats/stats.py:3399: PearsonRConstantInputWarning: An input array is constant; the correlation coefficent is not defined.\n",
      "  warnings.warn(PearsonRConstantInputWarning())\n"
     ]
    },
    {
     "name": "stdout",
     "output_type": "stream",
     "text": [
      "Epoch 45 end: 1.5678973197937012, TRAIN MSE is: 1046.0045166015625\n",
      "Validation loss: 160741.7187500 - MSE score: 776.5302124\n",
      "Validation pearson is: nan\n",
      "Validation r2_score is: -0.0824204984148793\n",
      "-------------------------\n"
     ]
    },
    {
     "name": "stderr",
     "output_type": "stream",
     "text": [
      "/home/mbosnjak/.conda/envs/pero/lib/python3.7/site-packages/scipy/stats/stats.py:3399: PearsonRConstantInputWarning: An input array is constant; the correlation coefficent is not defined.\n",
      "  warnings.warn(PearsonRConstantInputWarning())\n"
     ]
    },
    {
     "name": "stdout",
     "output_type": "stream",
     "text": [
      "Epoch 46 end: 1.5887436866760254, TRAIN MSE is: 1024.6478271484375\n",
      "Validation loss: 160089.9531250 - MSE score: 773.3814087\n",
      "Validation pearson is: nan\n",
      "Validation r2_score is: -0.07803152537394609\n",
      "-------------------------\n"
     ]
    },
    {
     "name": "stderr",
     "output_type": "stream",
     "text": [
      "/home/mbosnjak/.conda/envs/pero/lib/python3.7/site-packages/scipy/stats/stats.py:3399: PearsonRConstantInputWarning: An input array is constant; the correlation coefficent is not defined.\n",
      "  warnings.warn(PearsonRConstantInputWarning())\n"
     ]
    },
    {
     "name": "stdout",
     "output_type": "stream",
     "text": [
      "Epoch 47 end: 1.6864569187164307, TRAIN MSE is: 1012.3004150390625\n",
      "Validation loss: 158989.0156250 - MSE score: 768.0628662\n",
      "Validation pearson is: nan\n",
      "Validation r2_score is: -0.07061791962475206\n",
      "-------------------------\n"
     ]
    },
    {
     "name": "stderr",
     "output_type": "stream",
     "text": [
      "/home/mbosnjak/.conda/envs/pero/lib/python3.7/site-packages/scipy/stats/stats.py:3399: PearsonRConstantInputWarning: An input array is constant; the correlation coefficent is not defined.\n",
      "  warnings.warn(PearsonRConstantInputWarning())\n"
     ]
    },
    {
     "name": "stdout",
     "output_type": "stream",
     "text": [
      "Epoch 48 end: 1.658888578414917, TRAIN MSE is: 1025.8597412109375\n",
      "Validation loss: 158259.2343750 - MSE score: 764.5374146\n",
      "Validation pearson is: nan\n",
      "Validation r2_score is: -0.06570362353346804\n",
      "-------------------------\n"
     ]
    },
    {
     "name": "stderr",
     "output_type": "stream",
     "text": [
      "/home/mbosnjak/.conda/envs/pero/lib/python3.7/site-packages/scipy/stats/stats.py:3399: PearsonRConstantInputWarning: An input array is constant; the correlation coefficent is not defined.\n",
      "  warnings.warn(PearsonRConstantInputWarning())\n"
     ]
    },
    {
     "name": "stdout",
     "output_type": "stream",
     "text": [
      "Epoch 49 end: 1.6067333221435547, TRAIN MSE is: 1048.3284912109375\n",
      "Validation loss: 157734.1875000 - MSE score: 762.0009155\n",
      "Validation pearson is: nan\n",
      "Validation r2_score is: -0.062167972314669084\n",
      "-------------------------\n"
     ]
    },
    {
     "name": "stderr",
     "output_type": "stream",
     "text": [
      "/home/mbosnjak/.conda/envs/pero/lib/python3.7/site-packages/scipy/stats/stats.py:3399: PearsonRConstantInputWarning: An input array is constant; the correlation coefficent is not defined.\n",
      "  warnings.warn(PearsonRConstantInputWarning())\n"
     ]
    },
    {
     "name": "stdout",
     "output_type": "stream",
     "text": [
      "Epoch 50 end: 1.637831687927246, TRAIN MSE is: 1033.1661376953125\n",
      "Validation loss: 157866.9062500 - MSE score: 762.6420288\n",
      "Validation pearson is: nan\n",
      "Validation r2_score is: -0.06306171817624628\n",
      "-------------------------\n"
     ]
    },
    {
     "name": "stderr",
     "output_type": "stream",
     "text": [
      "/home/mbosnjak/.conda/envs/pero/lib/python3.7/site-packages/scipy/stats/stats.py:3399: PearsonRConstantInputWarning: An input array is constant; the correlation coefficent is not defined.\n",
      "  warnings.warn(PearsonRConstantInputWarning())\n"
     ]
    },
    {
     "name": "stdout",
     "output_type": "stream",
     "text": [
      "Epoch 51 end: 1.738358736038208, TRAIN MSE is: 988.28955078125\n",
      "Validation loss: 158080.9375000 - MSE score: 763.6759033\n",
      "Validation pearson is: nan\n",
      "Validation r2_score is: -0.06450290506355683\n",
      "-------------------------\n"
     ]
    },
    {
     "name": "stderr",
     "output_type": "stream",
     "text": [
      "/home/mbosnjak/.conda/envs/pero/lib/python3.7/site-packages/scipy/stats/stats.py:3399: PearsonRConstantInputWarning: An input array is constant; the correlation coefficent is not defined.\n",
      "  warnings.warn(PearsonRConstantInputWarning())\n"
     ]
    },
    {
     "name": "stdout",
     "output_type": "stream",
     "text": [
      "Epoch 52 end: 1.760481357574463, TRAIN MSE is: 991.7369995117188\n",
      "Validation loss: 157359.9375000 - MSE score: 760.1929321\n",
      "Validation pearson is: nan\n",
      "Validation r2_score is: -0.05964783860336631\n",
      "-------------------------\n"
     ]
    },
    {
     "name": "stderr",
     "output_type": "stream",
     "text": [
      "/home/mbosnjak/.conda/envs/pero/lib/python3.7/site-packages/scipy/stats/stats.py:3399: PearsonRConstantInputWarning: An input array is constant; the correlation coefficent is not defined.\n",
      "  warnings.warn(PearsonRConstantInputWarning())\n"
     ]
    },
    {
     "name": "stdout",
     "output_type": "stream",
     "text": [
      "Epoch 53 end: 1.7997527122497559, TRAIN MSE is: 978.3027954101562\n",
      "Validation loss: 156789.6250000 - MSE score: 757.4378052\n",
      "Validation pearson is: nan\n",
      "Validation r2_score is: -0.0558073397411325\n",
      "-------------------------\n"
     ]
    },
    {
     "name": "stderr",
     "output_type": "stream",
     "text": [
      "/home/mbosnjak/.conda/envs/pero/lib/python3.7/site-packages/scipy/stats/stats.py:3399: PearsonRConstantInputWarning: An input array is constant; the correlation coefficent is not defined.\n",
      "  warnings.warn(PearsonRConstantInputWarning())\n"
     ]
    },
    {
     "name": "stdout",
     "output_type": "stream",
     "text": [
      "Epoch 54 end: 1.6863720417022705, TRAIN MSE is: 966.5739135742188\n",
      "Validation loss: 156229.4843750 - MSE score: 754.7318115\n",
      "Validation pearson is: nan\n",
      "Validation r2_score is: -0.05203539585730432\n",
      "-------------------------\n"
     ]
    },
    {
     "name": "stderr",
     "output_type": "stream",
     "text": [
      "/home/mbosnjak/.conda/envs/pero/lib/python3.7/site-packages/scipy/stats/stats.py:3399: PearsonRConstantInputWarning: An input array is constant; the correlation coefficent is not defined.\n",
      "  warnings.warn(PearsonRConstantInputWarning())\n"
     ]
    },
    {
     "name": "stdout",
     "output_type": "stream",
     "text": [
      "Epoch 55 end: 1.671152114868164, TRAIN MSE is: 959.9892578125\n",
      "Validation loss: 156263.8281250 - MSE score: 754.8977051\n",
      "Validation pearson is: nan\n",
      "Validation r2_score is: -0.05226671746805933\n",
      "-------------------------\n"
     ]
    },
    {
     "name": "stderr",
     "output_type": "stream",
     "text": [
      "/home/mbosnjak/.conda/envs/pero/lib/python3.7/site-packages/scipy/stats/stats.py:3399: PearsonRConstantInputWarning: An input array is constant; the correlation coefficent is not defined.\n",
      "  warnings.warn(PearsonRConstantInputWarning())\n"
     ]
    },
    {
     "name": "stdout",
     "output_type": "stream",
     "text": [
      "Epoch 56 end: 1.834136962890625, TRAIN MSE is: 998.0053100585938\n",
      "Validation loss: 155940.1875000 - MSE score: 753.3342285\n",
      "Validation pearson is: nan\n",
      "Validation r2_score is: -0.05008732414770001\n",
      "-------------------------\n"
     ]
    },
    {
     "name": "stderr",
     "output_type": "stream",
     "text": [
      "/home/mbosnjak/.conda/envs/pero/lib/python3.7/site-packages/scipy/stats/stats.py:3399: PearsonRConstantInputWarning: An input array is constant; the correlation coefficent is not defined.\n",
      "  warnings.warn(PearsonRConstantInputWarning())\n"
     ]
    },
    {
     "name": "stdout",
     "output_type": "stream",
     "text": [
      "Epoch 57 end: 1.7863526344299316, TRAIN MSE is: 963.0059814453125\n",
      "Validation loss: 156549.0781250 - MSE score: 756.2758179\n",
      "Validation pearson is: nan\n",
      "Validation r2_score is: -0.054187538485148234\n",
      "-------------------------\n"
     ]
    },
    {
     "name": "stderr",
     "output_type": "stream",
     "text": [
      "/home/mbosnjak/.conda/envs/pero/lib/python3.7/site-packages/scipy/stats/stats.py:3399: PearsonRConstantInputWarning: An input array is constant; the correlation coefficent is not defined.\n",
      "  warnings.warn(PearsonRConstantInputWarning())\n"
     ]
    },
    {
     "name": "stdout",
     "output_type": "stream",
     "text": [
      "Epoch 58 end: 1.6918754577636719, TRAIN MSE is: 945.1339111328125\n",
      "Validation loss: 156161.5312500 - MSE score: 754.4035034\n",
      "Validation pearson is: nan\n",
      "Validation r2_score is: -0.051577792606507966\n",
      "-------------------------\n"
     ]
    },
    {
     "name": "stderr",
     "output_type": "stream",
     "text": [
      "/home/mbosnjak/.conda/envs/pero/lib/python3.7/site-packages/scipy/stats/stats.py:3399: PearsonRConstantInputWarning: An input array is constant; the correlation coefficent is not defined.\n",
      "  warnings.warn(PearsonRConstantInputWarning())\n"
     ]
    },
    {
     "name": "stdout",
     "output_type": "stream",
     "text": [
      "Epoch 59 end: 1.6721763610839844, TRAIN MSE is: 997.4691162109375\n",
      "Validation loss: 156686.3906250 - MSE score: 756.9391479\n",
      "Validation pearson is: nan\n",
      "Validation r2_score is: -0.055112245712508834\n",
      "-------------------------\n"
     ]
    },
    {
     "name": "stderr",
     "output_type": "stream",
     "text": [
      "/home/mbosnjak/.conda/envs/pero/lib/python3.7/site-packages/scipy/stats/stats.py:3399: PearsonRConstantInputWarning: An input array is constant; the correlation coefficent is not defined.\n",
      "  warnings.warn(PearsonRConstantInputWarning())\n"
     ]
    },
    {
     "name": "stdout",
     "output_type": "stream",
     "text": [
      "Epoch 60 end: 1.6931672096252441, TRAIN MSE is: 979.3043212890625\n",
      "Validation loss: 156844.5625000 - MSE score: 757.7031860\n",
      "Validation pearson is: nan\n",
      "Validation r2_score is: -0.05617736641730864\n",
      "-------------------------\n"
     ]
    },
    {
     "name": "stderr",
     "output_type": "stream",
     "text": [
      "/home/mbosnjak/.conda/envs/pero/lib/python3.7/site-packages/scipy/stats/stats.py:3399: PearsonRConstantInputWarning: An input array is constant; the correlation coefficent is not defined.\n",
      "  warnings.warn(PearsonRConstantInputWarning())\n"
     ]
    },
    {
     "name": "stdout",
     "output_type": "stream",
     "text": [
      "Epoch 61 end: 1.6327922344207764, TRAIN MSE is: 971.7085571289062\n",
      "Validation loss: 156991.5468750 - MSE score: 758.4133301\n",
      "Validation pearson is: nan\n",
      "Validation r2_score is: -0.05716724502484505\n",
      "-------------------------\n"
     ]
    },
    {
     "name": "stderr",
     "output_type": "stream",
     "text": [
      "/home/mbosnjak/.conda/envs/pero/lib/python3.7/site-packages/scipy/stats/stats.py:3399: PearsonRConstantInputWarning: An input array is constant; the correlation coefficent is not defined.\n",
      "  warnings.warn(PearsonRConstantInputWarning())\n"
     ]
    },
    {
     "name": "stdout",
     "output_type": "stream",
     "text": [
      "Epoch 62 end: 1.649066686630249, TRAIN MSE is: 929.2730102539062\n",
      "Validation loss: 156244.2500000 - MSE score: 754.8031616\n",
      "Validation pearson is: nan\n",
      "Validation r2_score is: -0.05213491771976142\n",
      "-------------------------\n",
      "Starting training for: {'learning_rate': 0.3, 'act_func': 'sig', 'batch_size': 64, 'kernels_count': 8, 'sentences_count': 2, 'hidden_layers': [8, 6, 4], 'dropout': 0.5, 'alpha': 0.1978, 'regularization_type': 'None'}\n",
      "-------------------------\n"
     ]
    },
    {
     "name": "stderr",
     "output_type": "stream",
     "text": [
      "/home/mbosnjak/.conda/envs/pero/lib/python3.7/site-packages/scipy/stats/stats.py:3399: PearsonRConstantInputWarning: An input array is constant; the correlation coefficent is not defined.\n",
      "  warnings.warn(PearsonRConstantInputWarning())\n"
     ]
    },
    {
     "name": "stdout",
     "output_type": "stream",
     "text": [
      "Epoch 0 end: 1.8809928894042969, TRAIN MSE is: 3913.839599609375\n",
      "Validation loss: 622400.8750000 - MSE score: 3006.7675781\n",
      "Validation pearson is: nan\n",
      "Validation r2_score is: -3.191192127056657\n",
      "-------------------------\n"
     ]
    },
    {
     "name": "stderr",
     "output_type": "stream",
     "text": [
      "/home/mbosnjak/.conda/envs/pero/lib/python3.7/site-packages/scipy/stats/stats.py:3399: PearsonRConstantInputWarning: An input array is constant; the correlation coefficent is not defined.\n",
      "  warnings.warn(PearsonRConstantInputWarning())\n"
     ]
    },
    {
     "name": "stdout",
     "output_type": "stream",
     "text": [
      "Epoch 1 end: 1.6367805004119873, TRAIN MSE is: 2314.48388671875\n",
      "Validation loss: 312388.5625000 - MSE score: 1509.1235352\n",
      "Validation pearson is: nan\n",
      "Validation r2_score is: -1.1035966458925022\n",
      "-------------------------\n"
     ]
    },
    {
     "name": "stderr",
     "output_type": "stream",
     "text": [
      "/home/mbosnjak/.conda/envs/pero/lib/python3.7/site-packages/scipy/stats/stats.py:3399: PearsonRConstantInputWarning: An input array is constant; the correlation coefficent is not defined.\n",
      "  warnings.warn(PearsonRConstantInputWarning())\n"
     ]
    },
    {
     "name": "stdout",
     "output_type": "stream",
     "text": [
      "Epoch 2 end: 1.5524251461029053, TRAIN MSE is: 1409.4049072265625\n",
      "Validation loss: 187810.9062500 - MSE score: 907.2990723\n",
      "Validation pearson is: nan\n",
      "Validation r2_score is: -0.26470196414048286\n",
      "-------------------------\n"
     ]
    },
    {
     "name": "stderr",
     "output_type": "stream",
     "text": [
      "/home/mbosnjak/.conda/envs/pero/lib/python3.7/site-packages/scipy/stats/stats.py:3399: PearsonRConstantInputWarning: An input array is constant; the correlation coefficent is not defined.\n",
      "  warnings.warn(PearsonRConstantInputWarning())\n"
     ]
    },
    {
     "name": "stdout",
     "output_type": "stream",
     "text": [
      "Epoch 3 end: 1.709730863571167, TRAIN MSE is: 1376.432861328125\n",
      "Validation loss: 159844.8437500 - MSE score: 772.1972656\n",
      "Validation pearson is: nan\n",
      "Validation r2_score is: -0.07638087174494745\n",
      "-------------------------\n"
     ]
    },
    {
     "name": "stderr",
     "output_type": "stream",
     "text": [
      "/home/mbosnjak/.conda/envs/pero/lib/python3.7/site-packages/scipy/stats/stats.py:3399: PearsonRConstantInputWarning: An input array is constant; the correlation coefficent is not defined.\n",
      "  warnings.warn(PearsonRConstantInputWarning())\n"
     ]
    },
    {
     "name": "stdout",
     "output_type": "stream",
     "text": [
      "Epoch 4 end: 1.5696051120758057, TRAIN MSE is: 1238.80224609375\n",
      "Validation loss: 157070.7968750 - MSE score: 758.7962036\n",
      "Validation pearson is: nan\n",
      "Validation r2_score is: -0.05770080791432863\n",
      "-------------------------\n"
     ]
    },
    {
     "name": "stderr",
     "output_type": "stream",
     "text": [
      "/home/mbosnjak/.conda/envs/pero/lib/python3.7/site-packages/scipy/stats/stats.py:3399: PearsonRConstantInputWarning: An input array is constant; the correlation coefficent is not defined.\n",
      "  warnings.warn(PearsonRConstantInputWarning())\n"
     ]
    },
    {
     "name": "stdout",
     "output_type": "stream",
     "text": [
      "Epoch 5 end: 1.7163686752319336, TRAIN MSE is: 1238.389404296875\n",
      "Validation loss: 162524.2031250 - MSE score: 785.1410522\n",
      "Validation pearson is: nan\n",
      "Validation r2_score is: -0.09442354757341298\n",
      "-------------------------\n"
     ]
    },
    {
     "name": "stderr",
     "output_type": "stream",
     "text": [
      "/home/mbosnjak/.conda/envs/pero/lib/python3.7/site-packages/scipy/stats/stats.py:3399: PearsonRConstantInputWarning: An input array is constant; the correlation coefficent is not defined.\n",
      "  warnings.warn(PearsonRConstantInputWarning())\n"
     ]
    },
    {
     "name": "stdout",
     "output_type": "stream",
     "text": [
      "Epoch 6 end: 1.9224958419799805, TRAIN MSE is: 1225.1011962890625\n",
      "Validation loss: 165549.6875000 - MSE score: 799.7569580\n",
      "Validation pearson is: nan\n",
      "Validation r2_score is: -0.11479682648543532\n",
      "-------------------------\n"
     ]
    },
    {
     "name": "stderr",
     "output_type": "stream",
     "text": [
      "/home/mbosnjak/.conda/envs/pero/lib/python3.7/site-packages/scipy/stats/stats.py:3399: PearsonRConstantInputWarning: An input array is constant; the correlation coefficent is not defined.\n",
      "  warnings.warn(PearsonRConstantInputWarning())\n"
     ]
    },
    {
     "name": "stdout",
     "output_type": "stream",
     "text": [
      "Epoch 7 end: 1.8178439140319824, TRAIN MSE is: 1120.770263671875\n",
      "Validation loss: 164956.8125000 - MSE score: 796.8928223\n",
      "Validation pearson is: nan\n",
      "Validation r2_score is: -0.11080457077052852\n",
      "-------------------------\n"
     ]
    },
    {
     "name": "stderr",
     "output_type": "stream",
     "text": [
      "/home/mbosnjak/.conda/envs/pero/lib/python3.7/site-packages/scipy/stats/stats.py:3399: PearsonRConstantInputWarning: An input array is constant; the correlation coefficent is not defined.\n",
      "  warnings.warn(PearsonRConstantInputWarning())\n"
     ]
    },
    {
     "name": "stdout",
     "output_type": "stream",
     "text": [
      "Epoch 8 end: 1.712202548980713, TRAIN MSE is: 1147.7056884765625\n",
      "Validation loss: 161167.7656250 - MSE score: 778.5883179\n",
      "Validation pearson is: nan\n",
      "Validation r2_score is: -0.08528948814148563\n",
      "-------------------------\n"
     ]
    },
    {
     "name": "stderr",
     "output_type": "stream",
     "text": [
      "/home/mbosnjak/.conda/envs/pero/lib/python3.7/site-packages/scipy/stats/stats.py:3399: PearsonRConstantInputWarning: An input array is constant; the correlation coefficent is not defined.\n",
      "  warnings.warn(PearsonRConstantInputWarning())\n"
     ]
    },
    {
     "name": "stdout",
     "output_type": "stream",
     "text": [
      "Epoch 9 end: 1.68186354637146, TRAIN MSE is: 1118.0213623046875\n",
      "Validation loss: 160396.1562500 - MSE score: 774.8606567\n",
      "Validation pearson is: nan\n",
      "Validation r2_score is: -0.08009348472608857\n",
      "-------------------------\n"
     ]
    },
    {
     "name": "stderr",
     "output_type": "stream",
     "text": [
      "/home/mbosnjak/.conda/envs/pero/lib/python3.7/site-packages/scipy/stats/stats.py:3399: PearsonRConstantInputWarning: An input array is constant; the correlation coefficent is not defined.\n",
      "  warnings.warn(PearsonRConstantInputWarning())\n"
     ]
    },
    {
     "name": "stdout",
     "output_type": "stream",
     "text": [
      "Epoch 10 end: 1.6162796020507812, TRAIN MSE is: 1084.288818359375\n",
      "Validation loss: 161948.8906250 - MSE score: 782.3618774\n",
      "Validation pearson is: nan\n",
      "Validation r2_score is: -0.09054948921208483\n",
      "-------------------------\n",
      "Apply best model to test for ['openness'] on fold 0.\n"
     ]
    },
    {
     "name": "stderr",
     "output_type": "stream",
     "text": [
      "/home/mbosnjak/.conda/envs/pero/lib/python3.7/site-packages/scipy/stats/stats.py:3399: PearsonRConstantInputWarning: An input array is constant; the correlation coefficent is not defined.\n",
      "  warnings.warn(PearsonRConstantInputWarning())\n"
     ]
    },
    {
     "name": "stdout",
     "output_type": "stream",
     "text": [
      "Test loss: 228007.59375 - MSE score: 880.3380127 \n",
      "Test pearson is: nan\n",
      "Test r2_score is: -0.023292224814820406\n",
      "-------------------------\n",
      "+++ Finished with training and testing model for ['openness'] on fold 0. +++\n",
      "-------------------------\n",
      "-------------------------\n",
      "Processing fold: 0 and target: ['conscientiousness']\n",
      "-------------------------\n",
      "Train size: 832\n",
      "Validation size: 208\n",
      "Test size: 263\n",
      "-------------------------\n",
      "Starting training for: {'learning_rate': 0.01, 'act_func': 'sig', 'batch_size': 64, 'kernels_count': 8, 'sentences_count': 2, 'hidden_layers': [8, 6, 4], 'dropout': 0.5, 'alpha': 0.1978, 'regularization_type': 'None'}\n",
      "-------------------------\n",
      "Epoch 0 end: 1.743234634399414, TRAIN MSE is: 2451.5673828125\n",
      "Validation loss: 509691.9062500 - MSE score: 2450.4416504\n",
      "Validation pearson is: -0.08597363572832191\n",
      "Validation r2_score is: -1.6398682412151335\n",
      "-------------------------\n",
      "Epoch 1 end: 1.6078479290008545, TRAIN MSE is: 2403.37109375\n",
      "Validation loss: 498151.2187500 - MSE score: 2394.9580078\n",
      "Validation pearson is: -0.03938183412444202\n",
      "Validation r2_score is: -1.5800954693760754\n",
      "-------------------------\n",
      "Epoch 2 end: 1.4412686824798584, TRAIN MSE is: 2337.5380859375\n",
      "Validation loss: 484607.6250000 - MSE score: 2329.8442383\n",
      "Validation pearson is: -0.03743693519415695\n",
      "Validation r2_score is: -1.5099483633021222\n",
      "-------------------------\n",
      "Epoch 3 end: 1.7233357429504395, TRAIN MSE is: 2280.586669921875\n",
      "Validation loss: 471505.5937500 - MSE score: 2266.8537598\n",
      "Validation pearson is: -0.036886935701801\n",
      "Validation r2_score is: -1.442088411550705\n",
      "-------------------------\n",
      "Epoch 4 end: 1.6818711757659912, TRAIN MSE is: 2223.454833984375\n",
      "Validation loss: 459675.3750000 - MSE score: 2209.9777832\n",
      "Validation pearson is: -0.04171008656941422\n",
      "Validation r2_score is: -1.380815683571349\n",
      "-------------------------\n",
      "Epoch 5 end: 1.7038414478302002, TRAIN MSE is: 2158.238037109375\n",
      "Validation loss: 448671.5000000 - MSE score: 2157.0744629\n",
      "Validation pearson is: -0.04052061974374388\n",
      "Validation r2_score is: -1.3238229100121215\n",
      "-------------------------\n",
      "Epoch 6 end: 1.7402629852294922, TRAIN MSE is: 2129.152099609375\n",
      "Validation loss: 438573.1875000 - MSE score: 2108.5249023\n",
      "Validation pearson is: -0.04746140346389978\n",
      "Validation r2_score is: -1.2715203487859976\n",
      "-------------------------\n",
      "Epoch 7 end: 1.7335543632507324, TRAIN MSE is: 2080.708740234375\n",
      "Validation loss: 429241.4375000 - MSE score: 2063.6606445\n",
      "Validation pearson is: -0.029640541536521244\n",
      "Validation r2_score is: -1.2231880372569433\n",
      "-------------------------\n",
      "Epoch 8 end: 1.773329734802246, TRAIN MSE is: 2030.47119140625\n",
      "Validation loss: 420218.8750000 - MSE score: 2020.2830811\n",
      "Validation pearson is: -0.02964054153652131\n",
      "Validation r2_score is: -1.1764571093793115\n",
      "-------------------------\n",
      "Epoch 9 end: 1.720860242843628, TRAIN MSE is: 1975.1080322265625\n",
      "Validation loss: 411357.1875000 - MSE score: 1977.6789551\n",
      "Validation pearson is: -0.029640541536521306\n",
      "Validation r2_score is: -1.130559426298685\n",
      "-------------------------\n",
      "Epoch 10 end: 1.7990260124206543, TRAIN MSE is: 1949.4393310546875\n",
      "Validation loss: 402902.7812500 - MSE score: 1937.0329590\n",
      "Validation pearson is: -0.029640541536521306\n",
      "Validation r2_score is: -1.0867713928690064\n",
      "-------------------------\n"
     ]
    },
    {
     "name": "stderr",
     "output_type": "stream",
     "text": [
      "/home/mbosnjak/.conda/envs/pero/lib/python3.7/site-packages/scipy/stats/stats.py:3399: PearsonRConstantInputWarning: An input array is constant; the correlation coefficent is not defined.\n",
      "  warnings.warn(PearsonRConstantInputWarning())\n"
     ]
    },
    {
     "name": "stdout",
     "output_type": "stream",
     "text": [
      "Epoch 11 end: 1.7524726390838623, TRAIN MSE is: 1902.5631103515625\n",
      "Validation loss: 394806.0625000 - MSE score: 1898.1060791\n",
      "Validation pearson is: nan\n",
      "Validation r2_score is: -1.0448354451053676\n",
      "-------------------------\n",
      "Epoch 12 end: 1.6778554916381836, TRAIN MSE is: 1856.6673583984375\n",
      "Validation loss: 386926.0625000 - MSE score: 1860.2215576\n",
      "Validation pearson is: -0.029640541536521306\n",
      "Validation r2_score is: -1.004022331554106\n",
      "-------------------------\n"
     ]
    },
    {
     "name": "stderr",
     "output_type": "stream",
     "text": [
      "/home/mbosnjak/.conda/envs/pero/lib/python3.7/site-packages/scipy/stats/stats.py:3399: PearsonRConstantInputWarning: An input array is constant; the correlation coefficent is not defined.\n",
      "  warnings.warn(PearsonRConstantInputWarning())\n"
     ]
    },
    {
     "name": "stdout",
     "output_type": "stream",
     "text": [
      "Epoch 13 end: 1.7535979747772217, TRAIN MSE is: 1832.339599609375\n",
      "Validation loss: 379391.1875000 - MSE score: 1823.9960938\n",
      "Validation pearson is: nan\n",
      "Validation r2_score is: -0.9649965253677075\n",
      "-------------------------\n",
      "Epoch 14 end: 2.002039670944214, TRAIN MSE is: 1795.5323486328125\n",
      "Validation loss: 372044.8437500 - MSE score: 1788.6771240\n",
      "Validation pearson is: -0.033082911019422484\n",
      "Validation r2_score is: -0.9269472635379876\n",
      "-------------------------\n"
     ]
    },
    {
     "name": "stderr",
     "output_type": "stream",
     "text": [
      "/home/mbosnjak/.conda/envs/pero/lib/python3.7/site-packages/scipy/stats/stats.py:3399: PearsonRConstantInputWarning: An input array is constant; the correlation coefficent is not defined.\n",
      "  warnings.warn(PearsonRConstantInputWarning())\n"
     ]
    },
    {
     "name": "stdout",
     "output_type": "stream",
     "text": [
      "Epoch 15 end: 1.7123477458953857, TRAIN MSE is: 1769.0631103515625\n",
      "Validation loss: 365216.1562500 - MSE score: 1755.8470459\n",
      "Validation pearson is: nan\n",
      "Validation r2_score is: -0.8915792711207493\n",
      "-------------------------\n"
     ]
    },
    {
     "name": "stderr",
     "output_type": "stream",
     "text": [
      "/home/mbosnjak/.conda/envs/pero/lib/python3.7/site-packages/scipy/stats/stats.py:3399: PearsonRConstantInputWarning: An input array is constant; the correlation coefficent is not defined.\n",
      "  warnings.warn(PearsonRConstantInputWarning())\n"
     ]
    },
    {
     "name": "stdout",
     "output_type": "stream",
     "text": [
      "Epoch 16 end: 1.56624174118042, TRAIN MSE is: 1755.9161376953125\n",
      "Validation loss: 358589.9375000 - MSE score: 1723.9901123\n",
      "Validation pearson is: nan\n",
      "Validation r2_score is: -0.857259622079241\n",
      "-------------------------\n"
     ]
    },
    {
     "name": "stderr",
     "output_type": "stream",
     "text": [
      "/home/mbosnjak/.conda/envs/pero/lib/python3.7/site-packages/scipy/stats/stats.py:3399: PearsonRConstantInputWarning: An input array is constant; the correlation coefficent is not defined.\n",
      "  warnings.warn(PearsonRConstantInputWarning())\n"
     ]
    },
    {
     "name": "stdout",
     "output_type": "stream",
     "text": [
      "Epoch 17 end: 1.5642659664154053, TRAIN MSE is: 1735.84375\n",
      "Validation loss: 352269.9687500 - MSE score: 1693.6053467\n",
      "Validation pearson is: nan\n",
      "Validation r2_score is: -0.82452630862763\n",
      "-------------------------\n"
     ]
    },
    {
     "name": "stderr",
     "output_type": "stream",
     "text": [
      "/home/mbosnjak/.conda/envs/pero/lib/python3.7/site-packages/scipy/stats/stats.py:3399: PearsonRConstantInputWarning: An input array is constant; the correlation coefficent is not defined.\n",
      "  warnings.warn(PearsonRConstantInputWarning())\n"
     ]
    },
    {
     "name": "stdout",
     "output_type": "stream",
     "text": [
      "Epoch 18 end: 1.645073413848877, TRAIN MSE is: 1688.5985107421875\n",
      "Validation loss: 346201.0312500 - MSE score: 1664.4282227\n",
      "Validation pearson is: nan\n",
      "Validation r2_score is: -0.79309348889791\n",
      "-------------------------\n"
     ]
    },
    {
     "name": "stderr",
     "output_type": "stream",
     "text": [
      "/home/mbosnjak/.conda/envs/pero/lib/python3.7/site-packages/scipy/stats/stats.py:3399: PearsonRConstantInputWarning: An input array is constant; the correlation coefficent is not defined.\n",
      "  warnings.warn(PearsonRConstantInputWarning())\n"
     ]
    },
    {
     "name": "stdout",
     "output_type": "stream",
     "text": [
      "Epoch 19 end: 1.6594324111938477, TRAIN MSE is: 1657.617431640625\n",
      "Validation loss: 340088.3750000 - MSE score: 1635.0402832\n",
      "Validation pearson is: nan\n",
      "Validation r2_score is: -0.7614338592846079\n",
      "-------------------------\n"
     ]
    },
    {
     "name": "stderr",
     "output_type": "stream",
     "text": [
      "/home/mbosnjak/.conda/envs/pero/lib/python3.7/site-packages/scipy/stats/stats.py:3399: PearsonRConstantInputWarning: An input array is constant; the correlation coefficent is not defined.\n",
      "  warnings.warn(PearsonRConstantInputWarning())\n"
     ]
    },
    {
     "name": "stdout",
     "output_type": "stream",
     "text": [
      "Epoch 20 end: 1.6260604858398438, TRAIN MSE is: 1630.4114990234375\n",
      "Validation loss: 334438.3125000 - MSE score: 1607.8764648\n",
      "Validation pearson is: nan\n",
      "Validation r2_score is: -0.7321703035998368\n",
      "-------------------------\n"
     ]
    },
    {
     "name": "stderr",
     "output_type": "stream",
     "text": [
      "/home/mbosnjak/.conda/envs/pero/lib/python3.7/site-packages/scipy/stats/stats.py:3399: PearsonRConstantInputWarning: An input array is constant; the correlation coefficent is not defined.\n",
      "  warnings.warn(PearsonRConstantInputWarning())\n"
     ]
    },
    {
     "name": "stdout",
     "output_type": "stream",
     "text": [
      "Epoch 21 end: 1.667224407196045, TRAIN MSE is: 1584.476806640625\n",
      "Validation loss: 328812.0000000 - MSE score: 1580.8269043\n",
      "Validation pearson is: nan\n",
      "Validation r2_score is: -0.7030296340860602\n",
      "-------------------------\n"
     ]
    },
    {
     "name": "stderr",
     "output_type": "stream",
     "text": [
      "/home/mbosnjak/.conda/envs/pero/lib/python3.7/site-packages/scipy/stats/stats.py:3399: PearsonRConstantInputWarning: An input array is constant; the correlation coefficent is not defined.\n",
      "  warnings.warn(PearsonRConstantInputWarning())\n"
     ]
    },
    {
     "name": "stdout",
     "output_type": "stream",
     "text": [
      "Epoch 22 end: 1.8202383518218994, TRAIN MSE is: 1571.090576171875\n",
      "Validation loss: 323363.2500000 - MSE score: 1554.6309814\n",
      "Validation pearson is: nan\n",
      "Validation r2_score is: -0.6748087361237087\n",
      "-------------------------\n"
     ]
    },
    {
     "name": "stderr",
     "output_type": "stream",
     "text": [
      "/home/mbosnjak/.conda/envs/pero/lib/python3.7/site-packages/scipy/stats/stats.py:3399: PearsonRConstantInputWarning: An input array is constant; the correlation coefficent is not defined.\n",
      "  warnings.warn(PearsonRConstantInputWarning())\n"
     ]
    },
    {
     "name": "stdout",
     "output_type": "stream",
     "text": [
      "Epoch 23 end: 1.8233051300048828, TRAIN MSE is: 1556.909423828125\n",
      "Validation loss: 318052.3750000 - MSE score: 1529.0979004\n",
      "Validation pearson is: nan\n",
      "Validation r2_score is: -0.6473018329962366\n",
      "-------------------------\n"
     ]
    },
    {
     "name": "stderr",
     "output_type": "stream",
     "text": [
      "/home/mbosnjak/.conda/envs/pero/lib/python3.7/site-packages/scipy/stats/stats.py:3399: PearsonRConstantInputWarning: An input array is constant; the correlation coefficent is not defined.\n",
      "  warnings.warn(PearsonRConstantInputWarning())\n"
     ]
    },
    {
     "name": "stdout",
     "output_type": "stream",
     "text": [
      "Epoch 24 end: 1.685469388961792, TRAIN MSE is: 1530.31396484375\n",
      "Validation loss: 313072.2500000 - MSE score: 1505.1551514\n",
      "Validation pearson is: nan\n",
      "Validation r2_score is: -0.621508202935777\n",
      "-------------------------\n"
     ]
    },
    {
     "name": "stderr",
     "output_type": "stream",
     "text": [
      "/home/mbosnjak/.conda/envs/pero/lib/python3.7/site-packages/scipy/stats/stats.py:3399: PearsonRConstantInputWarning: An input array is constant; the correlation coefficent is not defined.\n",
      "  warnings.warn(PearsonRConstantInputWarning())\n"
     ]
    },
    {
     "name": "stdout",
     "output_type": "stream",
     "text": [
      "Epoch 25 end: 1.5945179462432861, TRAIN MSE is: 1500.86962890625\n",
      "Validation loss: 308146.9062500 - MSE score: 1481.4753418\n",
      "Validation pearson is: nan\n",
      "Validation r2_score is: -0.595998071433326\n",
      "-------------------------\n"
     ]
    },
    {
     "name": "stderr",
     "output_type": "stream",
     "text": [
      "/home/mbosnjak/.conda/envs/pero/lib/python3.7/site-packages/scipy/stats/stats.py:3399: PearsonRConstantInputWarning: An input array is constant; the correlation coefficent is not defined.\n",
      "  warnings.warn(PearsonRConstantInputWarning())\n"
     ]
    },
    {
     "name": "stdout",
     "output_type": "stream",
     "text": [
      "Epoch 26 end: 1.620544672012329, TRAIN MSE is: 1482.519287109375\n",
      "Validation loss: 303474.0625000 - MSE score: 1459.0097656\n",
      "Validation pearson is: nan\n",
      "Validation r2_score is: -0.5717956905423722\n",
      "-------------------------\n"
     ]
    },
    {
     "name": "stderr",
     "output_type": "stream",
     "text": [
      "/home/mbosnjak/.conda/envs/pero/lib/python3.7/site-packages/scipy/stats/stats.py:3399: PearsonRConstantInputWarning: An input array is constant; the correlation coefficent is not defined.\n",
      "  warnings.warn(PearsonRConstantInputWarning())\n"
     ]
    },
    {
     "name": "stdout",
     "output_type": "stream",
     "text": [
      "Epoch 27 end: 1.604276418685913, TRAIN MSE is: 1490.8585205078125\n",
      "Validation loss: 299027.0937500 - MSE score: 1437.6301270\n",
      "Validation pearson is: nan\n",
      "Validation r2_score is: -0.5487634659996106\n",
      "-------------------------\n"
     ]
    },
    {
     "name": "stderr",
     "output_type": "stream",
     "text": [
      "/home/mbosnjak/.conda/envs/pero/lib/python3.7/site-packages/scipy/stats/stats.py:3399: PearsonRConstantInputWarning: An input array is constant; the correlation coefficent is not defined.\n",
      "  warnings.warn(PearsonRConstantInputWarning())\n"
     ]
    },
    {
     "name": "stdout",
     "output_type": "stream",
     "text": [
      "Epoch 28 end: 1.6382133960723877, TRAIN MSE is: 1424.656005859375\n",
      "Validation loss: 294683.5937500 - MSE score: 1416.7480469\n",
      "Validation pearson is: nan\n",
      "Validation r2_score is: -0.5262669506947353\n",
      "-------------------------\n"
     ]
    },
    {
     "name": "stderr",
     "output_type": "stream",
     "text": [
      "/home/mbosnjak/.conda/envs/pero/lib/python3.7/site-packages/scipy/stats/stats.py:3399: PearsonRConstantInputWarning: An input array is constant; the correlation coefficent is not defined.\n",
      "  warnings.warn(PearsonRConstantInputWarning())\n"
     ]
    },
    {
     "name": "stdout",
     "output_type": "stream",
     "text": [
      "Epoch 29 end: 1.683671474456787, TRAIN MSE is: 1424.1915283203125\n",
      "Validation loss: 290429.7187500 - MSE score: 1396.2968750\n",
      "Validation pearson is: nan\n",
      "Validation r2_score is: -0.5042347569542072\n",
      "-------------------------\n"
     ]
    },
    {
     "name": "stderr",
     "output_type": "stream",
     "text": [
      "/home/mbosnjak/.conda/envs/pero/lib/python3.7/site-packages/scipy/stats/stats.py:3399: PearsonRConstantInputWarning: An input array is constant; the correlation coefficent is not defined.\n",
      "  warnings.warn(PearsonRConstantInputWarning())\n"
     ]
    },
    {
     "name": "stdout",
     "output_type": "stream",
     "text": [
      "Epoch 30 end: 1.6816825866699219, TRAIN MSE is: 1410.388671875\n",
      "Validation loss: 286306.9062500 - MSE score: 1376.4754639\n",
      "Validation pearson is: nan\n",
      "Validation r2_score is: -0.4828812251838268\n",
      "-------------------------\n"
     ]
    },
    {
     "name": "stderr",
     "output_type": "stream",
     "text": [
      "/home/mbosnjak/.conda/envs/pero/lib/python3.7/site-packages/scipy/stats/stats.py:3399: PearsonRConstantInputWarning: An input array is constant; the correlation coefficent is not defined.\n",
      "  warnings.warn(PearsonRConstantInputWarning())\n"
     ]
    },
    {
     "name": "stdout",
     "output_type": "stream",
     "text": [
      "Epoch 31 end: 1.6863768100738525, TRAIN MSE is: 1372.5655517578125\n",
      "Validation loss: 282291.5312500 - MSE score: 1357.1710205\n",
      "Validation pearson is: nan\n",
      "Validation r2_score is: -0.46208423661583864\n",
      "-------------------------\n"
     ]
    },
    {
     "name": "stderr",
     "output_type": "stream",
     "text": [
      "/home/mbosnjak/.conda/envs/pero/lib/python3.7/site-packages/scipy/stats/stats.py:3399: PearsonRConstantInputWarning: An input array is constant; the correlation coefficent is not defined.\n",
      "  warnings.warn(PearsonRConstantInputWarning())\n"
     ]
    },
    {
     "name": "stdout",
     "output_type": "stream",
     "text": [
      "Epoch 32 end: 1.863713264465332, TRAIN MSE is: 1356.945068359375\n",
      "Validation loss: 278562.7812500 - MSE score: 1339.2441406\n",
      "Validation pearson is: nan\n",
      "Validation r2_score is: -0.442771743540044\n",
      "-------------------------\n"
     ]
    },
    {
     "name": "stderr",
     "output_type": "stream",
     "text": [
      "/home/mbosnjak/.conda/envs/pero/lib/python3.7/site-packages/scipy/stats/stats.py:3399: PearsonRConstantInputWarning: An input array is constant; the correlation coefficent is not defined.\n",
      "  warnings.warn(PearsonRConstantInputWarning())\n"
     ]
    },
    {
     "name": "stdout",
     "output_type": "stream",
     "text": [
      "Epoch 33 end: 1.607952356338501, TRAIN MSE is: 1340.4185791015625\n",
      "Validation loss: 274935.0312500 - MSE score: 1321.8032227\n",
      "Validation pearson is: nan\n",
      "Validation r2_score is: -0.42398246534957407\n",
      "-------------------------\n"
     ]
    },
    {
     "name": "stderr",
     "output_type": "stream",
     "text": [
      "/home/mbosnjak/.conda/envs/pero/lib/python3.7/site-packages/scipy/stats/stats.py:3399: PearsonRConstantInputWarning: An input array is constant; the correlation coefficent is not defined.\n",
      "  warnings.warn(PearsonRConstantInputWarning())\n"
     ]
    },
    {
     "name": "stdout",
     "output_type": "stream",
     "text": [
      "Epoch 34 end: 1.6078360080718994, TRAIN MSE is: 1328.611083984375\n",
      "Validation loss: 271478.0000000 - MSE score: 1305.1827393\n",
      "Validation pearson is: nan\n",
      "Validation r2_score is: -0.4060772871456739\n",
      "-------------------------\n"
     ]
    },
    {
     "name": "stderr",
     "output_type": "stream",
     "text": [
      "/home/mbosnjak/.conda/envs/pero/lib/python3.7/site-packages/scipy/stats/stats.py:3399: PearsonRConstantInputWarning: An input array is constant; the correlation coefficent is not defined.\n",
      "  warnings.warn(PearsonRConstantInputWarning())\n"
     ]
    },
    {
     "name": "stdout",
     "output_type": "stream",
     "text": [
      "Epoch 35 end: 1.646550178527832, TRAIN MSE is: 1319.210205078125\n",
      "Validation loss: 268145.4375000 - MSE score: 1289.1608887\n",
      "Validation pearson is: nan\n",
      "Validation r2_score is: -0.388816827243623\n",
      "-------------------------\n"
     ]
    },
    {
     "name": "stderr",
     "output_type": "stream",
     "text": [
      "/home/mbosnjak/.conda/envs/pero/lib/python3.7/site-packages/scipy/stats/stats.py:3399: PearsonRConstantInputWarning: An input array is constant; the correlation coefficent is not defined.\n",
      "  warnings.warn(PearsonRConstantInputWarning())\n"
     ]
    },
    {
     "name": "stdout",
     "output_type": "stream",
     "text": [
      "Epoch 36 end: 1.6622698307037354, TRAIN MSE is: 1335.01171875\n",
      "Validation loss: 264985.0937500 - MSE score: 1273.9666748\n",
      "Validation pearson is: nan\n",
      "Validation r2_score is: -0.3724481941176181\n",
      "-------------------------\n"
     ]
    },
    {
     "name": "stderr",
     "output_type": "stream",
     "text": [
      "/home/mbosnjak/.conda/envs/pero/lib/python3.7/site-packages/scipy/stats/stats.py:3399: PearsonRConstantInputWarning: An input array is constant; the correlation coefficent is not defined.\n",
      "  warnings.warn(PearsonRConstantInputWarning())\n"
     ]
    },
    {
     "name": "stdout",
     "output_type": "stream",
     "text": [
      "Epoch 37 end: 1.7138416767120361, TRAIN MSE is: 1344.565673828125\n",
      "Validation loss: 261991.1875000 - MSE score: 1259.5728760\n",
      "Validation pearson is: nan\n",
      "Validation r2_score is: -0.35694175122475014\n",
      "-------------------------\n"
     ]
    },
    {
     "name": "stderr",
     "output_type": "stream",
     "text": [
      "/home/mbosnjak/.conda/envs/pero/lib/python3.7/site-packages/scipy/stats/stats.py:3399: PearsonRConstantInputWarning: An input array is constant; the correlation coefficent is not defined.\n",
      "  warnings.warn(PearsonRConstantInputWarning())\n"
     ]
    },
    {
     "name": "stdout",
     "output_type": "stream",
     "text": [
      "Epoch 38 end: 1.5874152183532715, TRAIN MSE is: 1326.303955078125\n",
      "Validation loss: 259132.6250000 - MSE score: 1245.8298340\n",
      "Validation pearson is: nan\n",
      "Validation r2_score is: -0.34213626010066855\n",
      "-------------------------\n"
     ]
    },
    {
     "name": "stderr",
     "output_type": "stream",
     "text": [
      "/home/mbosnjak/.conda/envs/pero/lib/python3.7/site-packages/scipy/stats/stats.py:3399: PearsonRConstantInputWarning: An input array is constant; the correlation coefficent is not defined.\n",
      "  warnings.warn(PearsonRConstantInputWarning())\n"
     ]
    },
    {
     "name": "stdout",
     "output_type": "stream",
     "text": [
      "Epoch 39 end: 1.663785696029663, TRAIN MSE is: 1260.501220703125\n",
      "Validation loss: 256453.5625000 - MSE score: 1232.9499512\n",
      "Validation pearson is: nan\n",
      "Validation r2_score is: -0.32826062052247695\n",
      "-------------------------\n"
     ]
    },
    {
     "name": "stderr",
     "output_type": "stream",
     "text": [
      "/home/mbosnjak/.conda/envs/pero/lib/python3.7/site-packages/scipy/stats/stats.py:3399: PearsonRConstantInputWarning: An input array is constant; the correlation coefficent is not defined.\n",
      "  warnings.warn(PearsonRConstantInputWarning())\n"
     ]
    },
    {
     "name": "stdout",
     "output_type": "stream",
     "text": [
      "Epoch 40 end: 1.7121074199676514, TRAIN MSE is: 1288.8638916015625\n",
      "Validation loss: 253929.6875000 - MSE score: 1220.8157959\n",
      "Validation pearson is: nan\n",
      "Validation r2_score is: -0.31518859378991104\n",
      "-------------------------\n"
     ]
    },
    {
     "name": "stderr",
     "output_type": "stream",
     "text": [
      "/home/mbosnjak/.conda/envs/pero/lib/python3.7/site-packages/scipy/stats/stats.py:3399: PearsonRConstantInputWarning: An input array is constant; the correlation coefficent is not defined.\n",
      "  warnings.warn(PearsonRConstantInputWarning())\n"
     ]
    },
    {
     "name": "stdout",
     "output_type": "stream",
     "text": [
      "Epoch 41 end: 1.942281723022461, TRAIN MSE is: 1240.8751220703125\n",
      "Validation loss: 251349.4843750 - MSE score: 1208.4110107\n",
      "Validation pearson is: nan\n",
      "Validation r2_score is: -0.30182481284097573\n",
      "-------------------------\n"
     ]
    },
    {
     "name": "stderr",
     "output_type": "stream",
     "text": [
      "/home/mbosnjak/.conda/envs/pero/lib/python3.7/site-packages/scipy/stats/stats.py:3399: PearsonRConstantInputWarning: An input array is constant; the correlation coefficent is not defined.\n",
      "  warnings.warn(PearsonRConstantInputWarning())\n"
     ]
    },
    {
     "name": "stdout",
     "output_type": "stream",
     "text": [
      "Epoch 42 end: 1.6915132999420166, TRAIN MSE is: 1250.31005859375\n",
      "Validation loss: 248903.0000000 - MSE score: 1196.6490479\n",
      "Validation pearson is: nan\n",
      "Validation r2_score is: -0.2891536224385425\n",
      "-------------------------\n"
     ]
    },
    {
     "name": "stderr",
     "output_type": "stream",
     "text": [
      "/home/mbosnjak/.conda/envs/pero/lib/python3.7/site-packages/scipy/stats/stats.py:3399: PearsonRConstantInputWarning: An input array is constant; the correlation coefficent is not defined.\n",
      "  warnings.warn(PearsonRConstantInputWarning())\n"
     ]
    },
    {
     "name": "stdout",
     "output_type": "stream",
     "text": [
      "Epoch 43 end: 1.6386361122131348, TRAIN MSE is: 1256.34765625\n",
      "Validation loss: 246493.4687500 - MSE score: 1185.0646973\n",
      "Validation pearson is: nan\n",
      "Validation r2_score is: -0.27667380568494115\n",
      "-------------------------\n"
     ]
    },
    {
     "name": "stderr",
     "output_type": "stream",
     "text": [
      "/home/mbosnjak/.conda/envs/pero/lib/python3.7/site-packages/scipy/stats/stats.py:3399: PearsonRConstantInputWarning: An input array is constant; the correlation coefficent is not defined.\n",
      "  warnings.warn(PearsonRConstantInputWarning())\n"
     ]
    },
    {
     "name": "stdout",
     "output_type": "stream",
     "text": [
      "Epoch 44 end: 1.6775505542755127, TRAIN MSE is: 1243.3221435546875\n",
      "Validation loss: 244341.4375000 - MSE score: 1174.7185059\n",
      "Validation pearson is: nan\n",
      "Validation r2_score is: -0.2655276933834614\n",
      "-------------------------\n"
     ]
    },
    {
     "name": "stderr",
     "output_type": "stream",
     "text": [
      "/home/mbosnjak/.conda/envs/pero/lib/python3.7/site-packages/scipy/stats/stats.py:3399: PearsonRConstantInputWarning: An input array is constant; the correlation coefficent is not defined.\n",
      "  warnings.warn(PearsonRConstantInputWarning())\n"
     ]
    },
    {
     "name": "stdout",
     "output_type": "stream",
     "text": [
      "Epoch 45 end: 1.8298046588897705, TRAIN MSE is: 1221.57568359375\n",
      "Validation loss: 242205.3437500 - MSE score: 1164.4488525\n",
      "Validation pearson is: nan\n",
      "Validation r2_score is: -0.25446425747719603\n",
      "-------------------------\n"
     ]
    },
    {
     "name": "stderr",
     "output_type": "stream",
     "text": [
      "/home/mbosnjak/.conda/envs/pero/lib/python3.7/site-packages/scipy/stats/stats.py:3399: PearsonRConstantInputWarning: An input array is constant; the correlation coefficent is not defined.\n",
      "  warnings.warn(PearsonRConstantInputWarning())\n"
     ]
    },
    {
     "name": "stdout",
     "output_type": "stream",
     "text": [
      "Epoch 46 end: 1.7208137512207031, TRAIN MSE is: 1214.903076171875\n",
      "Validation loss: 240255.0000000 - MSE score: 1155.0721436\n",
      "Validation pearson is: nan\n",
      "Validation r2_score is: -0.2443626718726739\n",
      "-------------------------\n"
     ]
    },
    {
     "name": "stderr",
     "output_type": "stream",
     "text": [
      "/home/mbosnjak/.conda/envs/pero/lib/python3.7/site-packages/scipy/stats/stats.py:3399: PearsonRConstantInputWarning: An input array is constant; the correlation coefficent is not defined.\n",
      "  warnings.warn(PearsonRConstantInputWarning())\n"
     ]
    },
    {
     "name": "stdout",
     "output_type": "stream",
     "text": [
      "Epoch 47 end: 1.6066405773162842, TRAIN MSE is: 1199.3607177734375\n",
      "Validation loss: 238229.3593750 - MSE score: 1145.3334961\n",
      "Validation pearson is: nan\n",
      "Validation r2_score is: -0.2338711748275093\n",
      "-------------------------\n"
     ]
    },
    {
     "name": "stderr",
     "output_type": "stream",
     "text": [
      "/home/mbosnjak/.conda/envs/pero/lib/python3.7/site-packages/scipy/stats/stats.py:3399: PearsonRConstantInputWarning: An input array is constant; the correlation coefficent is not defined.\n",
      "  warnings.warn(PearsonRConstantInputWarning())\n"
     ]
    },
    {
     "name": "stdout",
     "output_type": "stream",
     "text": [
      "Epoch 48 end: 1.6831669807434082, TRAIN MSE is: 1227.95947265625\n",
      "Validation loss: 236333.5156250 - MSE score: 1136.2187500\n",
      "Validation pearson is: nan\n",
      "Validation r2_score is: -0.22405191324142004\n",
      "-------------------------\n"
     ]
    },
    {
     "name": "stderr",
     "output_type": "stream",
     "text": [
      "/home/mbosnjak/.conda/envs/pero/lib/python3.7/site-packages/scipy/stats/stats.py:3399: PearsonRConstantInputWarning: An input array is constant; the correlation coefficent is not defined.\n",
      "  warnings.warn(PearsonRConstantInputWarning())\n"
     ]
    },
    {
     "name": "stdout",
     "output_type": "stream",
     "text": [
      "Epoch 49 end: 1.6380951404571533, TRAIN MSE is: 1179.679931640625\n",
      "Validation loss: 234617.6562500 - MSE score: 1127.9693604\n",
      "Validation pearson is: nan\n",
      "Validation r2_score is: -0.21516483756988025\n",
      "-------------------------\n"
     ]
    },
    {
     "name": "stderr",
     "output_type": "stream",
     "text": [
      "/home/mbosnjak/.conda/envs/pero/lib/python3.7/site-packages/scipy/stats/stats.py:3399: PearsonRConstantInputWarning: An input array is constant; the correlation coefficent is not defined.\n",
      "  warnings.warn(PearsonRConstantInputWarning())\n"
     ]
    },
    {
     "name": "stdout",
     "output_type": "stream",
     "text": [
      "Epoch 50 end: 1.704085350036621, TRAIN MSE is: 1195.8485107421875\n",
      "Validation loss: 232844.2812500 - MSE score: 1119.4438477\n",
      "Validation pearson is: nan\n",
      "Validation r2_score is: -0.20598012198216975\n",
      "-------------------------\n"
     ]
    },
    {
     "name": "stderr",
     "output_type": "stream",
     "text": [
      "/home/mbosnjak/.conda/envs/pero/lib/python3.7/site-packages/scipy/stats/stats.py:3399: PearsonRConstantInputWarning: An input array is constant; the correlation coefficent is not defined.\n",
      "  warnings.warn(PearsonRConstantInputWarning())\n"
     ]
    },
    {
     "name": "stdout",
     "output_type": "stream",
     "text": [
      "Epoch 51 end: 1.646714210510254, TRAIN MSE is: 1174.071044921875\n",
      "Validation loss: 231266.8750000 - MSE score: 1111.8599854\n",
      "Validation pearson is: nan\n",
      "Validation r2_score is: -0.19781013616641174\n",
      "-------------------------\n"
     ]
    },
    {
     "name": "stderr",
     "output_type": "stream",
     "text": [
      "/home/mbosnjak/.conda/envs/pero/lib/python3.7/site-packages/scipy/stats/stats.py:3399: PearsonRConstantInputWarning: An input array is constant; the correlation coefficent is not defined.\n",
      "  warnings.warn(PearsonRConstantInputWarning())\n"
     ]
    },
    {
     "name": "stdout",
     "output_type": "stream",
     "text": [
      "Epoch 52 end: 1.678483486175537, TRAIN MSE is: 1204.305908203125\n",
      "Validation loss: 229712.4062500 - MSE score: 1104.3865967\n",
      "Validation pearson is: nan\n",
      "Validation r2_score is: -0.1897590437430159\n",
      "-------------------------\n"
     ]
    },
    {
     "name": "stderr",
     "output_type": "stream",
     "text": [
      "/home/mbosnjak/.conda/envs/pero/lib/python3.7/site-packages/scipy/stats/stats.py:3399: PearsonRConstantInputWarning: An input array is constant; the correlation coefficent is not defined.\n",
      "  warnings.warn(PearsonRConstantInputWarning())\n"
     ]
    },
    {
     "name": "stdout",
     "output_type": "stream",
     "text": [
      "Epoch 53 end: 1.6936583518981934, TRAIN MSE is: 1128.1600341796875\n",
      "Validation loss: 228135.3437500 - MSE score: 1096.8045654\n",
      "Validation pearson is: nan\n",
      "Validation r2_score is: -0.18159087075370262\n",
      "-------------------------\n"
     ]
    },
    {
     "name": "stderr",
     "output_type": "stream",
     "text": [
      "/home/mbosnjak/.conda/envs/pero/lib/python3.7/site-packages/scipy/stats/stats.py:3399: PearsonRConstantInputWarning: An input array is constant; the correlation coefficent is not defined.\n",
      "  warnings.warn(PearsonRConstantInputWarning())\n"
     ]
    },
    {
     "name": "stdout",
     "output_type": "stream",
     "text": [
      "Epoch 54 end: 1.8974978923797607, TRAIN MSE is: 1165.30126953125\n",
      "Validation loss: 226692.4687500 - MSE score: 1089.8674316\n",
      "Validation pearson is: nan\n",
      "Validation r2_score is: -0.17411757462723276\n",
      "-------------------------\n"
     ]
    },
    {
     "name": "stderr",
     "output_type": "stream",
     "text": [
      "/home/mbosnjak/.conda/envs/pero/lib/python3.7/site-packages/scipy/stats/stats.py:3399: PearsonRConstantInputWarning: An input array is constant; the correlation coefficent is not defined.\n",
      "  warnings.warn(PearsonRConstantInputWarning())\n"
     ]
    },
    {
     "name": "stdout",
     "output_type": "stream",
     "text": [
      "Epoch 55 end: 1.680354118347168, TRAIN MSE is: 1195.8807373046875\n",
      "Validation loss: 225456.7500000 - MSE score: 1083.9265137\n",
      "Validation pearson is: nan\n",
      "Validation r2_score is: -0.1677174228459679\n",
      "-------------------------\n"
     ]
    },
    {
     "name": "stderr",
     "output_type": "stream",
     "text": [
      "/home/mbosnjak/.conda/envs/pero/lib/python3.7/site-packages/scipy/stats/stats.py:3399: PearsonRConstantInputWarning: An input array is constant; the correlation coefficent is not defined.\n",
      "  warnings.warn(PearsonRConstantInputWarning())\n"
     ]
    },
    {
     "name": "stdout",
     "output_type": "stream",
     "text": [
      "Epoch 56 end: 1.644087314605713, TRAIN MSE is: 1200.430419921875\n",
      "Validation loss: 224224.1406250 - MSE score: 1078.0006104\n",
      "Validation pearson is: nan\n",
      "Validation r2_score is: -0.16133334254824017\n",
      "-------------------------\n"
     ]
    },
    {
     "name": "stderr",
     "output_type": "stream",
     "text": [
      "/home/mbosnjak/.conda/envs/pero/lib/python3.7/site-packages/scipy/stats/stats.py:3399: PearsonRConstantInputWarning: An input array is constant; the correlation coefficent is not defined.\n",
      "  warnings.warn(PearsonRConstantInputWarning())\n"
     ]
    },
    {
     "name": "stdout",
     "output_type": "stream",
     "text": [
      "Epoch 57 end: 1.7340729236602783, TRAIN MSE is: 1149.6561279296875\n",
      "Validation loss: 222968.0312500 - MSE score: 1071.9616699\n",
      "Validation pearson is: nan\n",
      "Validation r2_score is: -0.1548275217897066\n",
      "-------------------------\n"
     ]
    },
    {
     "name": "stderr",
     "output_type": "stream",
     "text": [
      "/home/mbosnjak/.conda/envs/pero/lib/python3.7/site-packages/scipy/stats/stats.py:3399: PearsonRConstantInputWarning: An input array is constant; the correlation coefficent is not defined.\n",
      "  warnings.warn(PearsonRConstantInputWarning())\n"
     ]
    },
    {
     "name": "stdout",
     "output_type": "stream",
     "text": [
      "Epoch 58 end: 1.6066157817840576, TRAIN MSE is: 1137.7882080078125\n",
      "Validation loss: 221798.8906250 - MSE score: 1066.3408203\n",
      "Validation pearson is: nan\n",
      "Validation r2_score is: -0.14877215138675082\n",
      "-------------------------\n"
     ]
    },
    {
     "name": "stderr",
     "output_type": "stream",
     "text": [
      "/home/mbosnjak/.conda/envs/pero/lib/python3.7/site-packages/scipy/stats/stats.py:3399: PearsonRConstantInputWarning: An input array is constant; the correlation coefficent is not defined.\n",
      "  warnings.warn(PearsonRConstantInputWarning())\n"
     ]
    },
    {
     "name": "stdout",
     "output_type": "stream",
     "text": [
      "Epoch 59 end: 1.6200568675994873, TRAIN MSE is: 1105.59326171875\n",
      "Validation loss: 220656.8125000 - MSE score: 1060.8500977\n",
      "Validation pearson is: nan\n",
      "Validation r2_score is: -0.14285702114377052\n",
      "-------------------------\n"
     ]
    },
    {
     "name": "stderr",
     "output_type": "stream",
     "text": [
      "/home/mbosnjak/.conda/envs/pero/lib/python3.7/site-packages/scipy/stats/stats.py:3399: PearsonRConstantInputWarning: An input array is constant; the correlation coefficent is not defined.\n",
      "  warnings.warn(PearsonRConstantInputWarning())\n"
     ]
    },
    {
     "name": "stdout",
     "output_type": "stream",
     "text": [
      "Epoch 60 end: 1.74302339553833, TRAIN MSE is: 1103.8818359375\n",
      "Validation loss: 219517.3750000 - MSE score: 1055.3719482\n",
      "Validation pearson is: nan\n",
      "Validation r2_score is: -0.1369554816792029\n",
      "-------------------------\n"
     ]
    },
    {
     "name": "stderr",
     "output_type": "stream",
     "text": [
      "/home/mbosnjak/.conda/envs/pero/lib/python3.7/site-packages/scipy/stats/stats.py:3399: PearsonRConstantInputWarning: An input array is constant; the correlation coefficent is not defined.\n",
      "  warnings.warn(PearsonRConstantInputWarning())\n"
     ]
    },
    {
     "name": "stdout",
     "output_type": "stream",
     "text": [
      "Epoch 61 end: 1.6585156917572021, TRAIN MSE is: 1120.4727783203125\n",
      "Validation loss: 218491.7500000 - MSE score: 1050.4411621\n",
      "Validation pearson is: nan\n",
      "Validation r2_score is: -0.13164344163951625\n",
      "-------------------------\n"
     ]
    },
    {
     "name": "stderr",
     "output_type": "stream",
     "text": [
      "/home/mbosnjak/.conda/envs/pero/lib/python3.7/site-packages/scipy/stats/stats.py:3399: PearsonRConstantInputWarning: An input array is constant; the correlation coefficent is not defined.\n",
      "  warnings.warn(PearsonRConstantInputWarning())\n"
     ]
    },
    {
     "name": "stdout",
     "output_type": "stream",
     "text": [
      "Epoch 62 end: 1.6501827239990234, TRAIN MSE is: 1154.839599609375\n",
      "Validation loss: 217633.1093750 - MSE score: 1046.3129883\n",
      "Validation pearson is: nan\n",
      "Validation r2_score is: -0.12719614003550594\n",
      "-------------------------\n"
     ]
    },
    {
     "name": "stderr",
     "output_type": "stream",
     "text": [
      "/home/mbosnjak/.conda/envs/pero/lib/python3.7/site-packages/scipy/stats/stats.py:3399: PearsonRConstantInputWarning: An input array is constant; the correlation coefficent is not defined.\n",
      "  warnings.warn(PearsonRConstantInputWarning())\n"
     ]
    },
    {
     "name": "stdout",
     "output_type": "stream",
     "text": [
      "Epoch 63 end: 1.6589579582214355, TRAIN MSE is: 1136.8299560546875\n",
      "Validation loss: 216697.6093750 - MSE score: 1041.8154297\n",
      "Validation pearson is: nan\n",
      "Validation r2_score is: -0.12235088210893763\n",
      "-------------------------\n"
     ]
    },
    {
     "name": "stderr",
     "output_type": "stream",
     "text": [
      "/home/mbosnjak/.conda/envs/pero/lib/python3.7/site-packages/scipy/stats/stats.py:3399: PearsonRConstantInputWarning: An input array is constant; the correlation coefficent is not defined.\n",
      "  warnings.warn(PearsonRConstantInputWarning())\n"
     ]
    },
    {
     "name": "stdout",
     "output_type": "stream",
     "text": [
      "Epoch 64 end: 1.5626602172851562, TRAIN MSE is: 1174.806396484375\n",
      "Validation loss: 215949.7187500 - MSE score: 1038.2198486\n",
      "Validation pearson is: nan\n",
      "Validation r2_score is: -0.11847741156570124\n",
      "-------------------------\n"
     ]
    },
    {
     "name": "stderr",
     "output_type": "stream",
     "text": [
      "/home/mbosnjak/.conda/envs/pero/lib/python3.7/site-packages/scipy/stats/stats.py:3399: PearsonRConstantInputWarning: An input array is constant; the correlation coefficent is not defined.\n",
      "  warnings.warn(PearsonRConstantInputWarning())\n"
     ]
    },
    {
     "name": "stdout",
     "output_type": "stream",
     "text": [
      "Epoch 65 end: 1.548086166381836, TRAIN MSE is: 1136.2484130859375\n",
      "Validation loss: 215220.9843750 - MSE score: 1034.7163086\n",
      "Validation pearson is: nan\n",
      "Validation r2_score is: -0.11470300408512712\n",
      "-------------------------\n"
     ]
    },
    {
     "name": "stderr",
     "output_type": "stream",
     "text": [
      "/home/mbosnjak/.conda/envs/pero/lib/python3.7/site-packages/scipy/stats/stats.py:3399: PearsonRConstantInputWarning: An input array is constant; the correlation coefficent is not defined.\n",
      "  warnings.warn(PearsonRConstantInputWarning())\n"
     ]
    },
    {
     "name": "stdout",
     "output_type": "stream",
     "text": [
      "Epoch 66 end: 1.7042038440704346, TRAIN MSE is: 1115.447265625\n",
      "Validation loss: 214431.8437500 - MSE score: 1030.9223633\n",
      "Validation pearson is: nan\n",
      "Validation r2_score is: -0.11061573512494394\n",
      "-------------------------\n"
     ]
    },
    {
     "name": "stderr",
     "output_type": "stream",
     "text": [
      "/home/mbosnjak/.conda/envs/pero/lib/python3.7/site-packages/scipy/stats/stats.py:3399: PearsonRConstantInputWarning: An input array is constant; the correlation coefficent is not defined.\n",
      "  warnings.warn(PearsonRConstantInputWarning())\n"
     ]
    },
    {
     "name": "stdout",
     "output_type": "stream",
     "text": [
      "Epoch 67 end: 1.7359423637390137, TRAIN MSE is: 1149.4974365234375\n",
      "Validation loss: 213710.2187500 - MSE score: 1027.4530029\n",
      "Validation pearson is: nan\n",
      "Validation r2_score is: -0.10687822989034235\n",
      "-------------------------\n"
     ]
    },
    {
     "name": "stderr",
     "output_type": "stream",
     "text": [
      "/home/mbosnjak/.conda/envs/pero/lib/python3.7/site-packages/scipy/stats/stats.py:3399: PearsonRConstantInputWarning: An input array is constant; the correlation coefficent is not defined.\n",
      "  warnings.warn(PearsonRConstantInputWarning())\n"
     ]
    },
    {
     "name": "stdout",
     "output_type": "stream",
     "text": [
      "Epoch 68 end: 1.689392328262329, TRAIN MSE is: 1118.57666015625\n",
      "Validation loss: 213028.6250000 - MSE score: 1024.1760254\n",
      "Validation pearson is: nan\n",
      "Validation r2_score is: -0.10334799377573356\n",
      "-------------------------\n"
     ]
    },
    {
     "name": "stderr",
     "output_type": "stream",
     "text": [
      "/home/mbosnjak/.conda/envs/pero/lib/python3.7/site-packages/scipy/stats/stats.py:3399: PearsonRConstantInputWarning: An input array is constant; the correlation coefficent is not defined.\n",
      "  warnings.warn(PearsonRConstantInputWarning())\n"
     ]
    },
    {
     "name": "stdout",
     "output_type": "stream",
     "text": [
      "Epoch 69 end: 1.699094533920288, TRAIN MSE is: 1129.2164306640625\n",
      "Validation loss: 212360.5937500 - MSE score: 1020.9644165\n",
      "Validation pearson is: nan\n",
      "Validation r2_score is: -0.09988799476972021\n",
      "-------------------------\n"
     ]
    },
    {
     "name": "stderr",
     "output_type": "stream",
     "text": [
      "/home/mbosnjak/.conda/envs/pero/lib/python3.7/site-packages/scipy/stats/stats.py:3399: PearsonRConstantInputWarning: An input array is constant; the correlation coefficent is not defined.\n",
      "  warnings.warn(PearsonRConstantInputWarning())\n"
     ]
    },
    {
     "name": "stdout",
     "output_type": "stream",
     "text": [
      "Epoch 70 end: 1.6347076892852783, TRAIN MSE is: 1125.509521484375\n",
      "Validation loss: 211672.5156250 - MSE score: 1017.6563110\n",
      "Validation pearson is: nan\n",
      "Validation r2_score is: -0.09632425281406731\n",
      "-------------------------\n"
     ]
    },
    {
     "name": "stderr",
     "output_type": "stream",
     "text": [
      "/home/mbosnjak/.conda/envs/pero/lib/python3.7/site-packages/scipy/stats/stats.py:3399: PearsonRConstantInputWarning: An input array is constant; the correlation coefficent is not defined.\n",
      "  warnings.warn(PearsonRConstantInputWarning())\n"
     ]
    },
    {
     "name": "stdout",
     "output_type": "stream",
     "text": [
      "Epoch 71 end: 1.635648250579834, TRAIN MSE is: 1086.2589111328125\n",
      "Validation loss: 211063.4687500 - MSE score: 1014.7282104\n",
      "Validation pearson is: nan\n",
      "Validation r2_score is: -0.09316982267393858\n",
      "-------------------------\n"
     ]
    },
    {
     "name": "stderr",
     "output_type": "stream",
     "text": [
      "/home/mbosnjak/.conda/envs/pero/lib/python3.7/site-packages/scipy/stats/stats.py:3399: PearsonRConstantInputWarning: An input array is constant; the correlation coefficent is not defined.\n",
      "  warnings.warn(PearsonRConstantInputWarning())\n"
     ]
    },
    {
     "name": "stdout",
     "output_type": "stream",
     "text": [
      "Epoch 72 end: 1.6571052074432373, TRAIN MSE is: 1107.911376953125\n",
      "Validation loss: 210458.9843750 - MSE score: 1011.8221436\n",
      "Validation pearson is: nan\n",
      "Validation r2_score is: -0.0900389656359668\n",
      "-------------------------\n"
     ]
    },
    {
     "name": "stderr",
     "output_type": "stream",
     "text": [
      "/home/mbosnjak/.conda/envs/pero/lib/python3.7/site-packages/scipy/stats/stats.py:3399: PearsonRConstantInputWarning: An input array is constant; the correlation coefficent is not defined.\n",
      "  warnings.warn(PearsonRConstantInputWarning())\n"
     ]
    },
    {
     "name": "stdout",
     "output_type": "stream",
     "text": [
      "Epoch 73 end: 1.6896145343780518, TRAIN MSE is: 1094.4705810546875\n",
      "Validation loss: 209901.0937500 - MSE score: 1009.1399536\n",
      "Validation pearson is: nan\n",
      "Validation r2_score is: -0.08714949572636521\n",
      "-------------------------\n"
     ]
    },
    {
     "name": "stderr",
     "output_type": "stream",
     "text": [
      "/home/mbosnjak/.conda/envs/pero/lib/python3.7/site-packages/scipy/stats/stats.py:3399: PearsonRConstantInputWarning: An input array is constant; the correlation coefficent is not defined.\n",
      "  warnings.warn(PearsonRConstantInputWarning())\n"
     ]
    },
    {
     "name": "stdout",
     "output_type": "stream",
     "text": [
      "Epoch 74 end: 1.7449936866760254, TRAIN MSE is: 1113.59814453125\n",
      "Validation loss: 209384.9062500 - MSE score: 1006.6582642\n",
      "Validation pearson is: nan\n",
      "Validation r2_score is: -0.08447597181367139\n",
      "-------------------------\n"
     ]
    },
    {
     "name": "stderr",
     "output_type": "stream",
     "text": [
      "/home/mbosnjak/.conda/envs/pero/lib/python3.7/site-packages/scipy/stats/stats.py:3399: PearsonRConstantInputWarning: An input array is constant; the correlation coefficent is not defined.\n",
      "  warnings.warn(PearsonRConstantInputWarning())\n"
     ]
    },
    {
     "name": "stdout",
     "output_type": "stream",
     "text": [
      "Epoch 75 end: 1.57106351852417, TRAIN MSE is: 1096.941650390625\n",
      "Validation loss: 208881.5781250 - MSE score: 1004.2383423\n",
      "Validation pearson is: nan\n",
      "Validation r2_score is: -0.08186901813886194\n",
      "-------------------------\n"
     ]
    },
    {
     "name": "stderr",
     "output_type": "stream",
     "text": [
      "/home/mbosnjak/.conda/envs/pero/lib/python3.7/site-packages/scipy/stats/stats.py:3399: PearsonRConstantInputWarning: An input array is constant; the correlation coefficent is not defined.\n",
      "  warnings.warn(PearsonRConstantInputWarning())\n"
     ]
    },
    {
     "name": "stdout",
     "output_type": "stream",
     "text": [
      "Epoch 76 end: 1.681781530380249, TRAIN MSE is: 1092.1202392578125\n",
      "Validation loss: 208397.4375000 - MSE score: 1001.9105835\n",
      "Validation pearson is: nan\n",
      "Validation r2_score is: -0.07936140451986406\n",
      "-------------------------\n"
     ]
    },
    {
     "name": "stderr",
     "output_type": "stream",
     "text": [
      "/home/mbosnjak/.conda/envs/pero/lib/python3.7/site-packages/scipy/stats/stats.py:3399: PearsonRConstantInputWarning: An input array is constant; the correlation coefficent is not defined.\n",
      "  warnings.warn(PearsonRConstantInputWarning())\n"
     ]
    },
    {
     "name": "stdout",
     "output_type": "stream",
     "text": [
      "Epoch 77 end: 1.8220405578613281, TRAIN MSE is: 1098.432861328125\n",
      "Validation loss: 207927.7500000 - MSE score: 999.6525879\n",
      "Validation pearson is: nan\n",
      "Validation r2_score is: -0.07692875201588723\n",
      "-------------------------\n"
     ]
    },
    {
     "name": "stderr",
     "output_type": "stream",
     "text": [
      "/home/mbosnjak/.conda/envs/pero/lib/python3.7/site-packages/scipy/stats/stats.py:3399: PearsonRConstantInputWarning: An input array is constant; the correlation coefficent is not defined.\n",
      "  warnings.warn(PearsonRConstantInputWarning())\n"
     ]
    },
    {
     "name": "stdout",
     "output_type": "stream",
     "text": [
      "Epoch 78 end: 1.7321805953979492, TRAIN MSE is: 1083.8197021484375\n",
      "Validation loss: 207461.3125000 - MSE score: 997.4101562\n",
      "Validation pearson is: nan\n",
      "Validation r2_score is: -0.07451295664849478\n",
      "-------------------------\n"
     ]
    },
    {
     "name": "stderr",
     "output_type": "stream",
     "text": [
      "/home/mbosnjak/.conda/envs/pero/lib/python3.7/site-packages/scipy/stats/stats.py:3399: PearsonRConstantInputWarning: An input array is constant; the correlation coefficent is not defined.\n",
      "  warnings.warn(PearsonRConstantInputWarning())\n"
     ]
    },
    {
     "name": "stdout",
     "output_type": "stream",
     "text": [
      "Epoch 79 end: 1.7094144821166992, TRAIN MSE is: 1136.8660888671875\n",
      "Validation loss: 207052.7031250 - MSE score: 995.4457397\n",
      "Validation pearson is: nan\n",
      "Validation r2_score is: -0.0723967301537316\n",
      "-------------------------\n"
     ]
    },
    {
     "name": "stderr",
     "output_type": "stream",
     "text": [
      "/home/mbosnjak/.conda/envs/pero/lib/python3.7/site-packages/scipy/stats/stats.py:3399: PearsonRConstantInputWarning: An input array is constant; the correlation coefficent is not defined.\n",
      "  warnings.warn(PearsonRConstantInputWarning())\n"
     ]
    },
    {
     "name": "stdout",
     "output_type": "stream",
     "text": [
      "Epoch 80 end: 1.6781425476074219, TRAIN MSE is: 1055.1456298828125\n",
      "Validation loss: 206677.6562500 - MSE score: 993.6425781\n",
      "Validation pearson is: nan\n",
      "Validation r2_score is: -0.07045413258453737\n",
      "-------------------------\n"
     ]
    },
    {
     "name": "stderr",
     "output_type": "stream",
     "text": [
      "/home/mbosnjak/.conda/envs/pero/lib/python3.7/site-packages/scipy/stats/stats.py:3399: PearsonRConstantInputWarning: An input array is constant; the correlation coefficent is not defined.\n",
      "  warnings.warn(PearsonRConstantInputWarning())\n"
     ]
    },
    {
     "name": "stdout",
     "output_type": "stream",
     "text": [
      "Epoch 81 end: 1.7020201683044434, TRAIN MSE is: 1054.14453125\n",
      "Validation loss: 206278.1250000 - MSE score: 991.7217407\n",
      "Validation pearson is: nan\n",
      "Validation r2_score is: -0.06838491763608423\n",
      "-------------------------\n"
     ]
    },
    {
     "name": "stderr",
     "output_type": "stream",
     "text": [
      "/home/mbosnjak/.conda/envs/pero/lib/python3.7/site-packages/scipy/stats/stats.py:3399: PearsonRConstantInputWarning: An input array is constant; the correlation coefficent is not defined.\n",
      "  warnings.warn(PearsonRConstantInputWarning())\n"
     ]
    },
    {
     "name": "stdout",
     "output_type": "stream",
     "text": [
      "Epoch 82 end: 1.7743895053863525, TRAIN MSE is: 1146.257568359375\n",
      "Validation loss: 205937.9218750 - MSE score: 990.0860596\n",
      "Validation pearson is: nan\n",
      "Validation r2_score is: -0.0666227754325095\n",
      "-------------------------\n"
     ]
    },
    {
     "name": "stderr",
     "output_type": "stream",
     "text": [
      "/home/mbosnjak/.conda/envs/pero/lib/python3.7/site-packages/scipy/stats/stats.py:3399: PearsonRConstantInputWarning: An input array is constant; the correlation coefficent is not defined.\n",
      "  warnings.warn(PearsonRConstantInputWarning())\n"
     ]
    },
    {
     "name": "stdout",
     "output_type": "stream",
     "text": [
      "Epoch 83 end: 1.7773396968841553, TRAIN MSE is: 1083.23388671875\n",
      "Validation loss: 205661.4687500 - MSE score: 988.7570801\n",
      "Validation pearson is: nan\n",
      "Validation r2_score is: -0.0651909874626655\n",
      "-------------------------\n"
     ]
    },
    {
     "name": "stderr",
     "output_type": "stream",
     "text": [
      "/home/mbosnjak/.conda/envs/pero/lib/python3.7/site-packages/scipy/stats/stats.py:3399: PearsonRConstantInputWarning: An input array is constant; the correlation coefficent is not defined.\n",
      "  warnings.warn(PearsonRConstantInputWarning())\n"
     ]
    },
    {
     "name": "stdout",
     "output_type": "stream",
     "text": [
      "Epoch 84 end: 1.7828865051269531, TRAIN MSE is: 1107.3682861328125\n",
      "Validation loss: 205345.9218750 - MSE score: 987.2399292\n",
      "Validation pearson is: nan\n",
      "Validation r2_score is: -0.06355665066082161\n",
      "-------------------------\n"
     ]
    },
    {
     "name": "stderr",
     "output_type": "stream",
     "text": [
      "/home/mbosnjak/.conda/envs/pero/lib/python3.7/site-packages/scipy/stats/stats.py:3399: PearsonRConstantInputWarning: An input array is constant; the correlation coefficent is not defined.\n",
      "  warnings.warn(PearsonRConstantInputWarning())\n"
     ]
    },
    {
     "name": "stdout",
     "output_type": "stream",
     "text": [
      "Epoch 85 end: 1.618257999420166, TRAIN MSE is: 1099.6593017578125\n",
      "Validation loss: 205050.2656250 - MSE score: 985.8186035\n",
      "Validation pearson is: nan\n",
      "Validation r2_score is: -0.06202534038567675\n",
      "-------------------------\n"
     ]
    },
    {
     "name": "stderr",
     "output_type": "stream",
     "text": [
      "/home/mbosnjak/.conda/envs/pero/lib/python3.7/site-packages/scipy/stats/stats.py:3399: PearsonRConstantInputWarning: An input array is constant; the correlation coefficent is not defined.\n",
      "  warnings.warn(PearsonRConstantInputWarning())\n"
     ]
    },
    {
     "name": "stdout",
     "output_type": "stream",
     "text": [
      "Epoch 86 end: 1.6399056911468506, TRAIN MSE is: 1099.76806640625\n",
      "Validation loss: 204692.5625000 - MSE score: 984.0988770\n",
      "Validation pearson is: nan\n",
      "Validation r2_score is: -0.06017261309859823\n",
      "-------------------------\n"
     ]
    },
    {
     "name": "stderr",
     "output_type": "stream",
     "text": [
      "/home/mbosnjak/.conda/envs/pero/lib/python3.7/site-packages/scipy/stats/stats.py:3399: PearsonRConstantInputWarning: An input array is constant; the correlation coefficent is not defined.\n",
      "  warnings.warn(PearsonRConstantInputWarning())\n"
     ]
    },
    {
     "name": "stdout",
     "output_type": "stream",
     "text": [
      "Epoch 87 end: 1.64154052734375, TRAIN MSE is: 1112.6910400390625\n",
      "Validation loss: 204482.4062500 - MSE score: 983.0885010\n",
      "Validation pearson is: nan\n",
      "Validation r2_score is: -0.05908414877821988\n",
      "-------------------------\n"
     ]
    },
    {
     "name": "stderr",
     "output_type": "stream",
     "text": [
      "/home/mbosnjak/.conda/envs/pero/lib/python3.7/site-packages/scipy/stats/stats.py:3399: PearsonRConstantInputWarning: An input array is constant; the correlation coefficent is not defined.\n",
      "  warnings.warn(PearsonRConstantInputWarning())\n"
     ]
    },
    {
     "name": "stdout",
     "output_type": "stream",
     "text": [
      "Epoch 88 end: 1.6385140419006348, TRAIN MSE is: 1111.9793701171875\n",
      "Validation loss: 204273.9375000 - MSE score: 982.0861816\n",
      "Validation pearson is: nan\n",
      "Validation r2_score is: -0.05800443368337338\n",
      "-------------------------\n"
     ]
    },
    {
     "name": "stderr",
     "output_type": "stream",
     "text": [
      "/home/mbosnjak/.conda/envs/pero/lib/python3.7/site-packages/scipy/stats/stats.py:3399: PearsonRConstantInputWarning: An input array is constant; the correlation coefficent is not defined.\n",
      "  warnings.warn(PearsonRConstantInputWarning())\n"
     ]
    },
    {
     "name": "stdout",
     "output_type": "stream",
     "text": [
      "Epoch 89 end: 1.613703966140747, TRAIN MSE is: 1044.7357177734375\n",
      "Validation loss: 204029.9531250 - MSE score: 980.9133301\n",
      "Validation pearson is: nan\n",
      "Validation r2_score is: -0.056740838632285184\n",
      "-------------------------\n"
     ]
    },
    {
     "name": "stderr",
     "output_type": "stream",
     "text": [
      "/home/mbosnjak/.conda/envs/pero/lib/python3.7/site-packages/scipy/stats/stats.py:3399: PearsonRConstantInputWarning: An input array is constant; the correlation coefficent is not defined.\n",
      "  warnings.warn(PearsonRConstantInputWarning())\n"
     ]
    },
    {
     "name": "stdout",
     "output_type": "stream",
     "text": [
      "Epoch 90 end: 1.5782172679901123, TRAIN MSE is: 1015.9501342773438\n",
      "Validation loss: 203662.7812500 - MSE score: 979.1480103\n",
      "Validation pearson is: nan\n",
      "Validation r2_score is: -0.05483907322414239\n",
      "-------------------------\n"
     ]
    },
    {
     "name": "stderr",
     "output_type": "stream",
     "text": [
      "/home/mbosnjak/.conda/envs/pero/lib/python3.7/site-packages/scipy/stats/stats.py:3399: PearsonRConstantInputWarning: An input array is constant; the correlation coefficent is not defined.\n",
      "  warnings.warn(PearsonRConstantInputWarning())\n"
     ]
    },
    {
     "name": "stdout",
     "output_type": "stream",
     "text": [
      "Epoch 91 end: 1.624666690826416, TRAIN MSE is: 1110.6376953125\n",
      "Validation loss: 203438.1875000 - MSE score: 978.0682373\n",
      "Validation pearson is: nan\n",
      "Validation r2_score is: -0.053675833058211664\n",
      "-------------------------\n"
     ]
    },
    {
     "name": "stderr",
     "output_type": "stream",
     "text": [
      "/home/mbosnjak/.conda/envs/pero/lib/python3.7/site-packages/scipy/stats/stats.py:3399: PearsonRConstantInputWarning: An input array is constant; the correlation coefficent is not defined.\n",
      "  warnings.warn(PearsonRConstantInputWarning())\n"
     ]
    },
    {
     "name": "stdout",
     "output_type": "stream",
     "text": [
      "Epoch 92 end: 1.553318738937378, TRAIN MSE is: 1074.987548828125\n",
      "Validation loss: 203189.6562500 - MSE score: 976.8732910\n",
      "Validation pearson is: nan\n",
      "Validation r2_score is: -0.052388542439186114\n",
      "-------------------------\n"
     ]
    },
    {
     "name": "stderr",
     "output_type": "stream",
     "text": [
      "/home/mbosnjak/.conda/envs/pero/lib/python3.7/site-packages/scipy/stats/stats.py:3399: PearsonRConstantInputWarning: An input array is constant; the correlation coefficent is not defined.\n",
      "  warnings.warn(PearsonRConstantInputWarning())\n"
     ]
    },
    {
     "name": "stdout",
     "output_type": "stream",
     "text": [
      "Epoch 93 end: 1.6093244552612305, TRAIN MSE is: 1078.8807373046875\n",
      "Validation loss: 202948.5468750 - MSE score: 975.7141724\n",
      "Validation pearson is: nan\n",
      "Validation r2_score is: -0.05113988876915565\n",
      "-------------------------\n"
     ]
    },
    {
     "name": "stderr",
     "output_type": "stream",
     "text": [
      "/home/mbosnjak/.conda/envs/pero/lib/python3.7/site-packages/scipy/stats/stats.py:3399: PearsonRConstantInputWarning: An input array is constant; the correlation coefficent is not defined.\n",
      "  warnings.warn(PearsonRConstantInputWarning())\n"
     ]
    },
    {
     "name": "stdout",
     "output_type": "stream",
     "text": [
      "Epoch 94 end: 1.6878726482391357, TRAIN MSE is: 1124.2652587890625\n",
      "Validation loss: 202829.1875000 - MSE score: 975.1403198\n",
      "Validation pearson is: nan\n",
      "Validation r2_score is: -0.050521651860543804\n",
      "-------------------------\n"
     ]
    },
    {
     "name": "stderr",
     "output_type": "stream",
     "text": [
      "/home/mbosnjak/.conda/envs/pero/lib/python3.7/site-packages/scipy/stats/stats.py:3399: PearsonRConstantInputWarning: An input array is constant; the correlation coefficent is not defined.\n",
      "  warnings.warn(PearsonRConstantInputWarning())\n"
     ]
    },
    {
     "name": "stdout",
     "output_type": "stream",
     "text": [
      "Epoch 95 end: 1.7114393711090088, TRAIN MSE is: 1115.3411865234375\n",
      "Validation loss: 202671.1875000 - MSE score: 974.3807983\n",
      "Validation pearson is: nan\n",
      "Validation r2_score is: -0.049703365201324345\n",
      "-------------------------\n"
     ]
    },
    {
     "name": "stderr",
     "output_type": "stream",
     "text": [
      "/home/mbosnjak/.conda/envs/pero/lib/python3.7/site-packages/scipy/stats/stats.py:3399: PearsonRConstantInputWarning: An input array is constant; the correlation coefficent is not defined.\n",
      "  warnings.warn(PearsonRConstantInputWarning())\n"
     ]
    },
    {
     "name": "stdout",
     "output_type": "stream",
     "text": [
      "Epoch 96 end: 1.7082264423370361, TRAIN MSE is: 1056.6087646484375\n",
      "Validation loss: 202459.6250000 - MSE score: 973.3635864\n",
      "Validation pearson is: nan\n",
      "Validation r2_score is: -0.04860758570607637\n",
      "-------------------------\n"
     ]
    },
    {
     "name": "stderr",
     "output_type": "stream",
     "text": [
      "/home/mbosnjak/.conda/envs/pero/lib/python3.7/site-packages/scipy/stats/stats.py:3399: PearsonRConstantInputWarning: An input array is constant; the correlation coefficent is not defined.\n",
      "  warnings.warn(PearsonRConstantInputWarning())\n"
     ]
    },
    {
     "name": "stdout",
     "output_type": "stream",
     "text": [
      "Epoch 97 end: 1.648644208908081, TRAIN MSE is: 1123.2274169921875\n",
      "Validation loss: 202275.5000000 - MSE score: 972.4783936\n",
      "Validation pearson is: nan\n",
      "Validation r2_score is: -0.04765387946678912\n",
      "-------------------------\n"
     ]
    },
    {
     "name": "stderr",
     "output_type": "stream",
     "text": [
      "/home/mbosnjak/.conda/envs/pero/lib/python3.7/site-packages/scipy/stats/stats.py:3399: PearsonRConstantInputWarning: An input array is constant; the correlation coefficent is not defined.\n",
      "  warnings.warn(PearsonRConstantInputWarning())\n"
     ]
    },
    {
     "name": "stdout",
     "output_type": "stream",
     "text": [
      "Epoch 98 end: 1.6775367259979248, TRAIN MSE is: 1147.23681640625\n",
      "Validation loss: 202114.0781250 - MSE score: 971.7022095\n",
      "Validation pearson is: nan\n",
      "Validation r2_score is: -0.04681777129857534\n",
      "-------------------------\n"
     ]
    },
    {
     "name": "stderr",
     "output_type": "stream",
     "text": [
      "/home/mbosnjak/.conda/envs/pero/lib/python3.7/site-packages/scipy/stats/stats.py:3399: PearsonRConstantInputWarning: An input array is constant; the correlation coefficent is not defined.\n",
      "  warnings.warn(PearsonRConstantInputWarning())\n"
     ]
    },
    {
     "name": "stdout",
     "output_type": "stream",
     "text": [
      "Epoch 99 end: 1.6206762790679932, TRAIN MSE is: 1092.3446044921875\n",
      "Validation loss: 201950.4843750 - MSE score: 970.9158936\n",
      "Validation pearson is: nan\n",
      "Validation r2_score is: -0.045970604395439985\n",
      "-------------------------\n"
     ]
    },
    {
     "name": "stderr",
     "output_type": "stream",
     "text": [
      "/home/mbosnjak/.conda/envs/pero/lib/python3.7/site-packages/scipy/stats/stats.py:3399: PearsonRConstantInputWarning: An input array is constant; the correlation coefficent is not defined.\n",
      "  warnings.warn(PearsonRConstantInputWarning())\n"
     ]
    },
    {
     "name": "stdout",
     "output_type": "stream",
     "text": [
      "Epoch 100 end: 1.7422733306884766, TRAIN MSE is: 1090.5208740234375\n",
      "Validation loss: 201839.5156250 - MSE score: 970.3822632\n",
      "Validation pearson is: nan\n",
      "Validation r2_score is: -0.04539574803201907\n",
      "-------------------------\n"
     ]
    },
    {
     "name": "stderr",
     "output_type": "stream",
     "text": [
      "/home/mbosnjak/.conda/envs/pero/lib/python3.7/site-packages/scipy/stats/stats.py:3399: PearsonRConstantInputWarning: An input array is constant; the correlation coefficent is not defined.\n",
      "  warnings.warn(PearsonRConstantInputWarning())\n"
     ]
    },
    {
     "name": "stdout",
     "output_type": "stream",
     "text": [
      "Epoch 101 end: 1.7109203338623047, TRAIN MSE is: 1062.3736572265625\n",
      "Validation loss: 201714.3281250 - MSE score: 969.7803345\n",
      "Validation pearson is: nan\n",
      "Validation r2_score is: -0.044747368982082536\n",
      "-------------------------\n"
     ]
    },
    {
     "name": "stderr",
     "output_type": "stream",
     "text": [
      "/home/mbosnjak/.conda/envs/pero/lib/python3.7/site-packages/scipy/stats/stats.py:3399: PearsonRConstantInputWarning: An input array is constant; the correlation coefficent is not defined.\n",
      "  warnings.warn(PearsonRConstantInputWarning())\n"
     ]
    },
    {
     "name": "stdout",
     "output_type": "stream",
     "text": [
      "Epoch 102 end: 1.4926784038543701, TRAIN MSE is: 1081.611572265625\n",
      "Validation loss: 201524.5156250 - MSE score: 968.8679199\n",
      "Validation pearson is: nan\n",
      "Validation r2_score is: -0.04376433934581048\n",
      "-------------------------\n"
     ]
    },
    {
     "name": "stderr",
     "output_type": "stream",
     "text": [
      "/home/mbosnjak/.conda/envs/pero/lib/python3.7/site-packages/scipy/stats/stats.py:3399: PearsonRConstantInputWarning: An input array is constant; the correlation coefficent is not defined.\n",
      "  warnings.warn(PearsonRConstantInputWarning())\n"
     ]
    },
    {
     "name": "stdout",
     "output_type": "stream",
     "text": [
      "Epoch 103 end: 1.440772533416748, TRAIN MSE is: 1091.1881103515625\n",
      "Validation loss: 201369.1875000 - MSE score: 968.1210938\n",
      "Validation pearson is: nan\n",
      "Validation r2_score is: -0.04295969007907208\n",
      "-------------------------\n"
     ]
    },
    {
     "name": "stderr",
     "output_type": "stream",
     "text": [
      "/home/mbosnjak/.conda/envs/pero/lib/python3.7/site-packages/scipy/stats/stats.py:3399: PearsonRConstantInputWarning: An input array is constant; the correlation coefficent is not defined.\n",
      "  warnings.warn(PearsonRConstantInputWarning())\n"
     ]
    },
    {
     "name": "stdout",
     "output_type": "stream",
     "text": [
      "Epoch 104 end: 1.5497088432312012, TRAIN MSE is: 1146.8721923828125\n",
      "Validation loss: 201299.9375000 - MSE score: 967.7881470\n",
      "Validation pearson is: nan\n",
      "Validation r2_score is: -0.0426011001338793\n",
      "-------------------------\n"
     ]
    },
    {
     "name": "stderr",
     "output_type": "stream",
     "text": [
      "/home/mbosnjak/.conda/envs/pero/lib/python3.7/site-packages/scipy/stats/stats.py:3399: PearsonRConstantInputWarning: An input array is constant; the correlation coefficent is not defined.\n",
      "  warnings.warn(PearsonRConstantInputWarning())\n"
     ]
    },
    {
     "name": "stdout",
     "output_type": "stream",
     "text": [
      "Epoch 105 end: 1.7640867233276367, TRAIN MSE is: 1117.1114501953125\n",
      "Validation loss: 201207.7187500 - MSE score: 967.3446655\n",
      "Validation pearson is: nan\n",
      "Validation r2_score is: -0.0421233921043449\n",
      "-------------------------\n"
     ]
    },
    {
     "name": "stderr",
     "output_type": "stream",
     "text": [
      "/home/mbosnjak/.conda/envs/pero/lib/python3.7/site-packages/scipy/stats/stats.py:3399: PearsonRConstantInputWarning: An input array is constant; the correlation coefficent is not defined.\n",
      "  warnings.warn(PearsonRConstantInputWarning())\n"
     ]
    },
    {
     "name": "stdout",
     "output_type": "stream",
     "text": [
      "Epoch 106 end: 1.6585190296173096, TRAIN MSE is: 1077.685791015625\n",
      "Validation loss: 201116.1093750 - MSE score: 966.9042969\n",
      "Validation pearson is: nan\n",
      "Validation r2_score is: -0.041648971758788456\n",
      "-------------------------\n"
     ]
    },
    {
     "name": "stderr",
     "output_type": "stream",
     "text": [
      "/home/mbosnjak/.conda/envs/pero/lib/python3.7/site-packages/scipy/stats/stats.py:3399: PearsonRConstantInputWarning: An input array is constant; the correlation coefficent is not defined.\n",
      "  warnings.warn(PearsonRConstantInputWarning())\n"
     ]
    },
    {
     "name": "stdout",
     "output_type": "stream",
     "text": [
      "Epoch 107 end: 1.7136046886444092, TRAIN MSE is: 1067.431396484375\n",
      "Validation loss: 200998.3125000 - MSE score: 966.3380127\n",
      "Validation pearson is: nan\n",
      "Validation r2_score is: -0.04103886879920049\n",
      "-------------------------\n"
     ]
    },
    {
     "name": "stderr",
     "output_type": "stream",
     "text": [
      "/home/mbosnjak/.conda/envs/pero/lib/python3.7/site-packages/scipy/stats/stats.py:3399: PearsonRConstantInputWarning: An input array is constant; the correlation coefficent is not defined.\n",
      "  warnings.warn(PearsonRConstantInputWarning())\n"
     ]
    },
    {
     "name": "stdout",
     "output_type": "stream",
     "text": [
      "Epoch 108 end: 1.637019157409668, TRAIN MSE is: 1064.234619140625\n",
      "Validation loss: 200838.7031250 - MSE score: 965.5706787\n",
      "Validation pearson is: nan\n",
      "Validation r2_score is: -0.040212198229128804\n",
      "-------------------------\n"
     ]
    },
    {
     "name": "stderr",
     "output_type": "stream",
     "text": [
      "/home/mbosnjak/.conda/envs/pero/lib/python3.7/site-packages/scipy/stats/stats.py:3399: PearsonRConstantInputWarning: An input array is constant; the correlation coefficent is not defined.\n",
      "  warnings.warn(PearsonRConstantInputWarning())\n"
     ]
    },
    {
     "name": "stdout",
     "output_type": "stream",
     "text": [
      "Epoch 109 end: 1.615607500076294, TRAIN MSE is: 1108.9158935546875\n",
      "Validation loss: 200774.2343750 - MSE score: 965.2607422\n",
      "Validation pearson is: nan\n",
      "Validation r2_score is: -0.03987832172225492\n",
      "-------------------------\n"
     ]
    },
    {
     "name": "stderr",
     "output_type": "stream",
     "text": [
      "/home/mbosnjak/.conda/envs/pero/lib/python3.7/site-packages/scipy/stats/stats.py:3399: PearsonRConstantInputWarning: An input array is constant; the correlation coefficent is not defined.\n",
      "  warnings.warn(PearsonRConstantInputWarning())\n"
     ]
    },
    {
     "name": "stdout",
     "output_type": "stream",
     "text": [
      "Epoch 110 end: 1.730513572692871, TRAIN MSE is: 1050.0404052734375\n",
      "Validation loss: 200680.6250000 - MSE score: 964.8106689\n",
      "Validation pearson is: nan\n",
      "Validation r2_score is: -0.03939353663187495\n",
      "-------------------------\n"
     ]
    },
    {
     "name": "stderr",
     "output_type": "stream",
     "text": [
      "/home/mbosnjak/.conda/envs/pero/lib/python3.7/site-packages/scipy/stats/stats.py:3399: PearsonRConstantInputWarning: An input array is constant; the correlation coefficent is not defined.\n",
      "  warnings.warn(PearsonRConstantInputWarning())\n"
     ]
    },
    {
     "name": "stdout",
     "output_type": "stream",
     "text": [
      "Epoch 111 end: 1.6478936672210693, TRAIN MSE is: 1074.52490234375\n",
      "Validation loss: 200534.0156250 - MSE score: 964.1057739\n",
      "Validation pearson is: nan\n",
      "Validation r2_score is: -0.03863408873953067\n",
      "-------------------------\n"
     ]
    },
    {
     "name": "stderr",
     "output_type": "stream",
     "text": [
      "/home/mbosnjak/.conda/envs/pero/lib/python3.7/site-packages/scipy/stats/stats.py:3399: PearsonRConstantInputWarning: An input array is constant; the correlation coefficent is not defined.\n",
      "  warnings.warn(PearsonRConstantInputWarning())\n"
     ]
    },
    {
     "name": "stdout",
     "output_type": "stream",
     "text": [
      "Epoch 112 end: 1.6709749698638916, TRAIN MSE is: 1081.585205078125\n",
      "Validation loss: 200441.7656250 - MSE score: 963.6622314\n",
      "Validation pearson is: nan\n",
      "Validation r2_score is: -0.03815633049724032\n",
      "-------------------------\n"
     ]
    },
    {
     "name": "stderr",
     "output_type": "stream",
     "text": [
      "/home/mbosnjak/.conda/envs/pero/lib/python3.7/site-packages/scipy/stats/stats.py:3399: PearsonRConstantInputWarning: An input array is constant; the correlation coefficent is not defined.\n",
      "  warnings.warn(PearsonRConstantInputWarning())\n"
     ]
    },
    {
     "name": "stdout",
     "output_type": "stream",
     "text": [
      "Epoch 113 end: 1.6427438259124756, TRAIN MSE is: 1088.581298828125\n",
      "Validation loss: 200385.0625000 - MSE score: 963.3897095\n",
      "Validation pearson is: nan\n",
      "Validation r2_score is: -0.037862654299381404\n",
      "-------------------------\n"
     ]
    },
    {
     "name": "stderr",
     "output_type": "stream",
     "text": [
      "/home/mbosnjak/.conda/envs/pero/lib/python3.7/site-packages/scipy/stats/stats.py:3399: PearsonRConstantInputWarning: An input array is constant; the correlation coefficent is not defined.\n",
      "  warnings.warn(PearsonRConstantInputWarning())\n"
     ]
    },
    {
     "name": "stdout",
     "output_type": "stream",
     "text": [
      "Epoch 114 end: 1.8138887882232666, TRAIN MSE is: 1100.176513671875\n",
      "Validation loss: 200304.5000000 - MSE score: 963.0023804\n",
      "Validation pearson is: nan\n",
      "Validation r2_score is: -0.037445460743584125\n",
      "-------------------------\n"
     ]
    },
    {
     "name": "stderr",
     "output_type": "stream",
     "text": [
      "/home/mbosnjak/.conda/envs/pero/lib/python3.7/site-packages/scipy/stats/stats.py:3399: PearsonRConstantInputWarning: An input array is constant; the correlation coefficent is not defined.\n",
      "  warnings.warn(PearsonRConstantInputWarning())\n"
     ]
    },
    {
     "name": "stdout",
     "output_type": "stream",
     "text": [
      "Epoch 115 end: 1.9355041980743408, TRAIN MSE is: 995.5527954101562\n",
      "Validation loss: 200189.5312500 - MSE score: 962.4496460\n",
      "Validation pearson is: nan\n",
      "Validation r2_score is: -0.0368499357517027\n",
      "-------------------------\n"
     ]
    },
    {
     "name": "stderr",
     "output_type": "stream",
     "text": [
      "/home/mbosnjak/.conda/envs/pero/lib/python3.7/site-packages/scipy/stats/stats.py:3399: PearsonRConstantInputWarning: An input array is constant; the correlation coefficent is not defined.\n",
      "  warnings.warn(PearsonRConstantInputWarning())\n"
     ]
    },
    {
     "name": "stdout",
     "output_type": "stream",
     "text": [
      "Epoch 116 end: 1.7384471893310547, TRAIN MSE is: 1059.132568359375\n",
      "Validation loss: 200073.5156250 - MSE score: 961.8919067\n",
      "Validation pearson is: nan\n",
      "Validation r2_score is: -0.03624904787006478\n",
      "-------------------------\n"
     ]
    },
    {
     "name": "stderr",
     "output_type": "stream",
     "text": [
      "/home/mbosnjak/.conda/envs/pero/lib/python3.7/site-packages/scipy/stats/stats.py:3399: PearsonRConstantInputWarning: An input array is constant; the correlation coefficent is not defined.\n",
      "  warnings.warn(PearsonRConstantInputWarning())\n"
     ]
    },
    {
     "name": "stdout",
     "output_type": "stream",
     "text": [
      "Epoch 117 end: 1.6756296157836914, TRAIN MSE is: 1090.800048828125\n",
      "Validation loss: 200010.9687500 - MSE score: 961.5912476\n",
      "Validation pearson is: nan\n",
      "Validation r2_score is: -0.03592513262531316\n",
      "-------------------------\n"
     ]
    },
    {
     "name": "stderr",
     "output_type": "stream",
     "text": [
      "/home/mbosnjak/.conda/envs/pero/lib/python3.7/site-packages/scipy/stats/stats.py:3399: PearsonRConstantInputWarning: An input array is constant; the correlation coefficent is not defined.\n",
      "  warnings.warn(PearsonRConstantInputWarning())\n"
     ]
    },
    {
     "name": "stdout",
     "output_type": "stream",
     "text": [
      "Epoch 118 end: 1.6873900890350342, TRAIN MSE is: 1066.65283203125\n",
      "Validation loss: 199910.5937500 - MSE score: 961.1086426\n",
      "Validation pearson is: nan\n",
      "Validation r2_score is: -0.03540524881621465\n",
      "-------------------------\n"
     ]
    },
    {
     "name": "stderr",
     "output_type": "stream",
     "text": [
      "/home/mbosnjak/.conda/envs/pero/lib/python3.7/site-packages/scipy/stats/stats.py:3399: PearsonRConstantInputWarning: An input array is constant; the correlation coefficent is not defined.\n",
      "  warnings.warn(PearsonRConstantInputWarning())\n"
     ]
    },
    {
     "name": "stdout",
     "output_type": "stream",
     "text": [
      "Epoch 119 end: 1.6646499633789062, TRAIN MSE is: 1089.8597412109375\n",
      "Validation loss: 199818.7500000 - MSE score: 960.6670532\n",
      "Validation pearson is: nan\n",
      "Validation r2_score is: -0.03492954296088713\n",
      "-------------------------\n"
     ]
    },
    {
     "name": "stderr",
     "output_type": "stream",
     "text": [
      "/home/mbosnjak/.conda/envs/pero/lib/python3.7/site-packages/scipy/stats/stats.py:3399: PearsonRConstantInputWarning: An input array is constant; the correlation coefficent is not defined.\n",
      "  warnings.warn(PearsonRConstantInputWarning())\n"
     ]
    },
    {
     "name": "stdout",
     "output_type": "stream",
     "text": [
      "Epoch 120 end: 1.6345806121826172, TRAIN MSE is: 1061.900146484375\n",
      "Validation loss: 199704.0937500 - MSE score: 960.1158447\n",
      "Validation pearson is: nan\n",
      "Validation r2_score is: -0.034335693742395534\n",
      "-------------------------\n"
     ]
    },
    {
     "name": "stderr",
     "output_type": "stream",
     "text": [
      "/home/mbosnjak/.conda/envs/pero/lib/python3.7/site-packages/scipy/stats/stats.py:3399: PearsonRConstantInputWarning: An input array is constant; the correlation coefficent is not defined.\n",
      "  warnings.warn(PearsonRConstantInputWarning())\n"
     ]
    },
    {
     "name": "stdout",
     "output_type": "stream",
     "text": [
      "Epoch 121 end: 1.6841416358947754, TRAIN MSE is: 1020.0430297851562\n",
      "Validation loss: 199578.0625000 - MSE score: 959.5098877\n",
      "Validation pearson is: nan\n",
      "Validation r2_score is: -0.03368295046394065\n",
      "-------------------------\n"
     ]
    },
    {
     "name": "stderr",
     "output_type": "stream",
     "text": [
      "/home/mbosnjak/.conda/envs/pero/lib/python3.7/site-packages/scipy/stats/stats.py:3399: PearsonRConstantInputWarning: An input array is constant; the correlation coefficent is not defined.\n",
      "  warnings.warn(PearsonRConstantInputWarning())\n"
     ]
    },
    {
     "name": "stdout",
     "output_type": "stream",
     "text": [
      "Epoch 122 end: 1.8009233474731445, TRAIN MSE is: 1089.70751953125\n",
      "Validation loss: 199435.1718750 - MSE score: 958.8228760\n",
      "Validation pearson is: nan\n",
      "Validation r2_score is: -0.032942813046766384\n",
      "-------------------------\n"
     ]
    },
    {
     "name": "stderr",
     "output_type": "stream",
     "text": [
      "/home/mbosnjak/.conda/envs/pero/lib/python3.7/site-packages/scipy/stats/stats.py:3399: PearsonRConstantInputWarning: An input array is constant; the correlation coefficent is not defined.\n",
      "  warnings.warn(PearsonRConstantInputWarning())\n"
     ]
    },
    {
     "name": "stdout",
     "output_type": "stream",
     "text": [
      "Epoch 123 end: 1.981269121170044, TRAIN MSE is: 1079.633056640625\n",
      "Validation loss: 199405.2031250 - MSE score: 958.6787720\n",
      "Validation pearson is: nan\n",
      "Validation r2_score is: -0.03278759370009543\n",
      "-------------------------\n"
     ]
    },
    {
     "name": "stderr",
     "output_type": "stream",
     "text": [
      "/home/mbosnjak/.conda/envs/pero/lib/python3.7/site-packages/scipy/stats/stats.py:3399: PearsonRConstantInputWarning: An input array is constant; the correlation coefficent is not defined.\n",
      "  warnings.warn(PearsonRConstantInputWarning())\n"
     ]
    },
    {
     "name": "stdout",
     "output_type": "stream",
     "text": [
      "Epoch 124 end: 1.9717228412628174, TRAIN MSE is: 1067.13330078125\n",
      "Validation loss: 199310.2656250 - MSE score: 958.2225342\n",
      "Validation pearson is: nan\n",
      "Validation r2_score is: -0.03229597887598867\n",
      "-------------------------\n"
     ]
    },
    {
     "name": "stderr",
     "output_type": "stream",
     "text": [
      "/home/mbosnjak/.conda/envs/pero/lib/python3.7/site-packages/scipy/stats/stats.py:3399: PearsonRConstantInputWarning: An input array is constant; the correlation coefficent is not defined.\n",
      "  warnings.warn(PearsonRConstantInputWarning())\n"
     ]
    },
    {
     "name": "stdout",
     "output_type": "stream",
     "text": [
      "Epoch 125 end: 1.7701566219329834, TRAIN MSE is: 1085.473876953125\n",
      "Validation loss: 199266.2031250 - MSE score: 958.0104980\n",
      "Validation pearson is: nan\n",
      "Validation r2_score is: -0.03206769524705577\n",
      "-------------------------\n"
     ]
    },
    {
     "name": "stderr",
     "output_type": "stream",
     "text": [
      "/home/mbosnjak/.conda/envs/pero/lib/python3.7/site-packages/scipy/stats/stats.py:3399: PearsonRConstantInputWarning: An input array is constant; the correlation coefficent is not defined.\n",
      "  warnings.warn(PearsonRConstantInputWarning())\n"
     ]
    },
    {
     "name": "stdout",
     "output_type": "stream",
     "text": [
      "Epoch 126 end: 1.6546144485473633, TRAIN MSE is: 1100.67578125\n",
      "Validation loss: 199275.8906250 - MSE score: 958.0572510\n",
      "Validation pearson is: nan\n",
      "Validation r2_score is: -0.03211798242849517\n",
      "-------------------------\n"
     ]
    },
    {
     "name": "stderr",
     "output_type": "stream",
     "text": [
      "/home/mbosnjak/.conda/envs/pero/lib/python3.7/site-packages/scipy/stats/stats.py:3399: PearsonRConstantInputWarning: An input array is constant; the correlation coefficent is not defined.\n",
      "  warnings.warn(PearsonRConstantInputWarning())\n"
     ]
    },
    {
     "name": "stdout",
     "output_type": "stream",
     "text": [
      "Epoch 127 end: 1.6860358715057373, TRAIN MSE is: 1086.1533203125\n",
      "Validation loss: 199223.2500000 - MSE score: 957.8040771\n",
      "Validation pearson is: nan\n",
      "Validation r2_score is: -0.031845255846098874\n",
      "-------------------------\n"
     ]
    },
    {
     "name": "stderr",
     "output_type": "stream",
     "text": [
      "/home/mbosnjak/.conda/envs/pero/lib/python3.7/site-packages/scipy/stats/stats.py:3399: PearsonRConstantInputWarning: An input array is constant; the correlation coefficent is not defined.\n",
      "  warnings.warn(PearsonRConstantInputWarning())\n"
     ]
    },
    {
     "name": "stdout",
     "output_type": "stream",
     "text": [
      "Epoch 128 end: 1.6407506465911865, TRAIN MSE is: 1061.365478515625\n",
      "Validation loss: 199165.3750000 - MSE score: 957.5259399\n",
      "Validation pearson is: nan\n",
      "Validation r2_score is: -0.03154553445192998\n",
      "-------------------------\n"
     ]
    },
    {
     "name": "stderr",
     "output_type": "stream",
     "text": [
      "/home/mbosnjak/.conda/envs/pero/lib/python3.7/site-packages/scipy/stats/stats.py:3399: PearsonRConstantInputWarning: An input array is constant; the correlation coefficent is not defined.\n",
      "  warnings.warn(PearsonRConstantInputWarning())\n"
     ]
    },
    {
     "name": "stdout",
     "output_type": "stream",
     "text": [
      "Epoch 129 end: 1.5311455726623535, TRAIN MSE is: 1134.071044921875\n",
      "Validation loss: 199124.9375000 - MSE score: 957.3314819\n",
      "Validation pearson is: nan\n",
      "Validation r2_score is: -0.0313360930771549\n",
      "-------------------------\n"
     ]
    },
    {
     "name": "stderr",
     "output_type": "stream",
     "text": [
      "/home/mbosnjak/.conda/envs/pero/lib/python3.7/site-packages/scipy/stats/stats.py:3399: PearsonRConstantInputWarning: An input array is constant; the correlation coefficent is not defined.\n",
      "  warnings.warn(PearsonRConstantInputWarning())\n"
     ]
    },
    {
     "name": "stdout",
     "output_type": "stream",
     "text": [
      "Epoch 130 end: 1.6163501739501953, TRAIN MSE is: 1014.8329467773438\n",
      "Validation loss: 199053.0000000 - MSE score: 956.9855957\n",
      "Validation pearson is: nan\n",
      "Validation r2_score is: -0.03096346696449581\n",
      "-------------------------\n"
     ]
    },
    {
     "name": "stderr",
     "output_type": "stream",
     "text": [
      "/home/mbosnjak/.conda/envs/pero/lib/python3.7/site-packages/scipy/stats/stats.py:3399: PearsonRConstantInputWarning: An input array is constant; the correlation coefficent is not defined.\n",
      "  warnings.warn(PearsonRConstantInputWarning())\n"
     ]
    },
    {
     "name": "stdout",
     "output_type": "stream",
     "text": [
      "Epoch 131 end: 1.6652865409851074, TRAIN MSE is: 1075.2586669921875\n",
      "Validation loss: 198949.1718750 - MSE score: 956.4864502\n",
      "Validation pearson is: nan\n",
      "Validation r2_score is: -0.03042568752646413\n",
      "-------------------------\n"
     ]
    },
    {
     "name": "stderr",
     "output_type": "stream",
     "text": [
      "/home/mbosnjak/.conda/envs/pero/lib/python3.7/site-packages/scipy/stats/stats.py:3399: PearsonRConstantInputWarning: An input array is constant; the correlation coefficent is not defined.\n",
      "  warnings.warn(PearsonRConstantInputWarning())\n"
     ]
    },
    {
     "name": "stdout",
     "output_type": "stream",
     "text": [
      "Epoch 132 end: 1.6852469444274902, TRAIN MSE is: 1095.963134765625\n",
      "Validation loss: 198921.8125000 - MSE score: 956.3550415\n",
      "Validation pearson is: nan\n",
      "Validation r2_score is: -0.030284078739728937\n",
      "-------------------------\n"
     ]
    },
    {
     "name": "stderr",
     "output_type": "stream",
     "text": [
      "/home/mbosnjak/.conda/envs/pero/lib/python3.7/site-packages/scipy/stats/stats.py:3399: PearsonRConstantInputWarning: An input array is constant; the correlation coefficent is not defined.\n",
      "  warnings.warn(PearsonRConstantInputWarning())\n"
     ]
    },
    {
     "name": "stdout",
     "output_type": "stream",
     "text": [
      "Epoch 133 end: 1.6626906394958496, TRAIN MSE is: 1090.238525390625\n",
      "Validation loss: 198901.1562500 - MSE score: 956.2555542\n",
      "Validation pearson is: nan\n",
      "Validation r2_score is: -0.030176999705979757\n",
      "-------------------------\n"
     ]
    },
    {
     "name": "stderr",
     "output_type": "stream",
     "text": [
      "/home/mbosnjak/.conda/envs/pero/lib/python3.7/site-packages/scipy/stats/stats.py:3399: PearsonRConstantInputWarning: An input array is constant; the correlation coefficent is not defined.\n",
      "  warnings.warn(PearsonRConstantInputWarning())\n"
     ]
    },
    {
     "name": "stdout",
     "output_type": "stream",
     "text": [
      "Epoch 134 end: 1.6762266159057617, TRAIN MSE is: 1073.2911376953125\n",
      "Validation loss: 198818.7031250 - MSE score: 955.8590698\n",
      "Validation pearson is: nan\n",
      "Validation r2_score is: -0.029749929860643176\n",
      "-------------------------\n"
     ]
    },
    {
     "name": "stderr",
     "output_type": "stream",
     "text": [
      "/home/mbosnjak/.conda/envs/pero/lib/python3.7/site-packages/scipy/stats/stats.py:3399: PearsonRConstantInputWarning: An input array is constant; the correlation coefficent is not defined.\n",
      "  warnings.warn(PearsonRConstantInputWarning())\n"
     ]
    },
    {
     "name": "stdout",
     "output_type": "stream",
     "text": [
      "Epoch 135 end: 1.7405827045440674, TRAIN MSE is: 1072.954833984375\n",
      "Validation loss: 198771.4375000 - MSE score: 955.6318970\n",
      "Validation pearson is: nan\n",
      "Validation r2_score is: -0.029505087355169657\n",
      "-------------------------\n"
     ]
    },
    {
     "name": "stderr",
     "output_type": "stream",
     "text": [
      "/home/mbosnjak/.conda/envs/pero/lib/python3.7/site-packages/scipy/stats/stats.py:3399: PearsonRConstantInputWarning: An input array is constant; the correlation coefficent is not defined.\n",
      "  warnings.warn(PearsonRConstantInputWarning())\n"
     ]
    },
    {
     "name": "stdout",
     "output_type": "stream",
     "text": [
      "Epoch 136 end: 1.7585680484771729, TRAIN MSE is: 1070.3009033203125\n",
      "Validation loss: 198706.7187500 - MSE score: 955.3207397\n",
      "Validation pearson is: nan\n",
      "Validation r2_score is: -0.029169986141673654\n",
      "-------------------------\n"
     ]
    },
    {
     "name": "stderr",
     "output_type": "stream",
     "text": [
      "/home/mbosnjak/.conda/envs/pero/lib/python3.7/site-packages/scipy/stats/stats.py:3399: PearsonRConstantInputWarning: An input array is constant; the correlation coefficent is not defined.\n",
      "  warnings.warn(PearsonRConstantInputWarning())\n"
     ]
    },
    {
     "name": "stdout",
     "output_type": "stream",
     "text": [
      "Epoch 137 end: 1.7288644313812256, TRAIN MSE is: 1073.2781982421875\n",
      "Validation loss: 198688.8437500 - MSE score: 955.2348022\n",
      "Validation pearson is: nan\n",
      "Validation r2_score is: -0.029077375620269796\n",
      "-------------------------\n"
     ]
    },
    {
     "name": "stderr",
     "output_type": "stream",
     "text": [
      "/home/mbosnjak/.conda/envs/pero/lib/python3.7/site-packages/scipy/stats/stats.py:3399: PearsonRConstantInputWarning: An input array is constant; the correlation coefficent is not defined.\n",
      "  warnings.warn(PearsonRConstantInputWarning())\n"
     ]
    },
    {
     "name": "stdout",
     "output_type": "stream",
     "text": [
      "Epoch 138 end: 1.6890151500701904, TRAIN MSE is: 1048.9384765625\n",
      "Validation loss: 198671.7031250 - MSE score: 955.1524658\n",
      "Validation pearson is: nan\n",
      "Validation r2_score is: -0.028988620175375956\n",
      "-------------------------\n"
     ]
    },
    {
     "name": "stderr",
     "output_type": "stream",
     "text": [
      "/home/mbosnjak/.conda/envs/pero/lib/python3.7/site-packages/scipy/stats/stats.py:3399: PearsonRConstantInputWarning: An input array is constant; the correlation coefficent is not defined.\n",
      "  warnings.warn(PearsonRConstantInputWarning())\n"
     ]
    },
    {
     "name": "stdout",
     "output_type": "stream",
     "text": [
      "Epoch 139 end: 1.8574392795562744, TRAIN MSE is: 962.6236572265625\n",
      "Validation loss: 198599.7500000 - MSE score: 954.8063965\n",
      "Validation pearson is: nan\n",
      "Validation r2_score is: -0.028615867949830065\n",
      "-------------------------\n"
     ]
    },
    {
     "name": "stderr",
     "output_type": "stream",
     "text": [
      "/home/mbosnjak/.conda/envs/pero/lib/python3.7/site-packages/scipy/stats/stats.py:3399: PearsonRConstantInputWarning: An input array is constant; the correlation coefficent is not defined.\n",
      "  warnings.warn(PearsonRConstantInputWarning())\n"
     ]
    },
    {
     "name": "stdout",
     "output_type": "stream",
     "text": [
      "Epoch 140 end: 1.7473015785217285, TRAIN MSE is: 1075.6016845703125\n",
      "Validation loss: 198531.3906250 - MSE score: 954.4777832\n",
      "Validation pearson is: nan\n",
      "Validation r2_score is: -0.028261868304162663\n",
      "-------------------------\n"
     ]
    },
    {
     "name": "stderr",
     "output_type": "stream",
     "text": [
      "/home/mbosnjak/.conda/envs/pero/lib/python3.7/site-packages/scipy/stats/stats.py:3399: PearsonRConstantInputWarning: An input array is constant; the correlation coefficent is not defined.\n",
      "  warnings.warn(PearsonRConstantInputWarning())\n"
     ]
    },
    {
     "name": "stdout",
     "output_type": "stream",
     "text": [
      "Epoch 141 end: 1.827787160873413, TRAIN MSE is: 1094.4991455078125\n",
      "Validation loss: 198495.8593750 - MSE score: 954.3069458\n",
      "Validation pearson is: nan\n",
      "Validation r2_score is: -0.02807782695857597\n",
      "-------------------------\n"
     ]
    },
    {
     "name": "stderr",
     "output_type": "stream",
     "text": [
      "/home/mbosnjak/.conda/envs/pero/lib/python3.7/site-packages/scipy/stats/stats.py:3399: PearsonRConstantInputWarning: An input array is constant; the correlation coefficent is not defined.\n",
      "  warnings.warn(PearsonRConstantInputWarning())\n"
     ]
    },
    {
     "name": "stdout",
     "output_type": "stream",
     "text": [
      "Epoch 142 end: 1.6609950065612793, TRAIN MSE is: 1072.6951904296875\n",
      "Validation loss: 198487.7656250 - MSE score: 954.2681885\n",
      "Validation pearson is: nan\n",
      "Validation r2_score is: -0.02803591891606061\n",
      "-------------------------\n"
     ]
    },
    {
     "name": "stderr",
     "output_type": "stream",
     "text": [
      "/home/mbosnjak/.conda/envs/pero/lib/python3.7/site-packages/scipy/stats/stats.py:3399: PearsonRConstantInputWarning: An input array is constant; the correlation coefficent is not defined.\n",
      "  warnings.warn(PearsonRConstantInputWarning())\n"
     ]
    },
    {
     "name": "stdout",
     "output_type": "stream",
     "text": [
      "Epoch 143 end: 1.7529151439666748, TRAIN MSE is: 1095.869140625\n",
      "Validation loss: 198439.3281250 - MSE score: 954.0352173\n",
      "Validation pearson is: nan\n",
      "Validation r2_score is: -0.02778503192709514\n",
      "-------------------------\n"
     ]
    },
    {
     "name": "stderr",
     "output_type": "stream",
     "text": [
      "/home/mbosnjak/.conda/envs/pero/lib/python3.7/site-packages/scipy/stats/stats.py:3399: PearsonRConstantInputWarning: An input array is constant; the correlation coefficent is not defined.\n",
      "  warnings.warn(PearsonRConstantInputWarning())\n"
     ]
    },
    {
     "name": "stdout",
     "output_type": "stream",
     "text": [
      "Epoch 144 end: 1.6541950702667236, TRAIN MSE is: 1015.1661376953125\n",
      "Validation loss: 198383.3281250 - MSE score: 953.7659912\n",
      "Validation pearson is: nan\n",
      "Validation r2_score is: -0.02749502122212344\n",
      "-------------------------\n"
     ]
    },
    {
     "name": "stderr",
     "output_type": "stream",
     "text": [
      "/home/mbosnjak/.conda/envs/pero/lib/python3.7/site-packages/scipy/stats/stats.py:3399: PearsonRConstantInputWarning: An input array is constant; the correlation coefficent is not defined.\n",
      "  warnings.warn(PearsonRConstantInputWarning())\n"
     ]
    },
    {
     "name": "stdout",
     "output_type": "stream",
     "text": [
      "Epoch 145 end: 1.8070242404937744, TRAIN MSE is: 1114.24853515625\n",
      "Validation loss: 198419.2656250 - MSE score: 953.9387817\n",
      "Validation pearson is: nan\n",
      "Validation r2_score is: -0.027681116792131588\n",
      "-------------------------\n"
     ]
    },
    {
     "name": "stderr",
     "output_type": "stream",
     "text": [
      "/home/mbosnjak/.conda/envs/pero/lib/python3.7/site-packages/scipy/stats/stats.py:3399: PearsonRConstantInputWarning: An input array is constant; the correlation coefficent is not defined.\n",
      "  warnings.warn(PearsonRConstantInputWarning())\n"
     ]
    },
    {
     "name": "stdout",
     "output_type": "stream",
     "text": [
      "Epoch 146 end: 1.808439016342163, TRAIN MSE is: 1074.9139404296875\n",
      "Validation loss: 198429.2968750 - MSE score: 953.9869995\n",
      "Validation pearson is: nan\n",
      "Validation r2_score is: -0.027733089690600288\n",
      "-------------------------\n"
     ]
    },
    {
     "name": "stderr",
     "output_type": "stream",
     "text": [
      "/home/mbosnjak/.conda/envs/pero/lib/python3.7/site-packages/scipy/stats/stats.py:3399: PearsonRConstantInputWarning: An input array is constant; the correlation coefficent is not defined.\n",
      "  warnings.warn(PearsonRConstantInputWarning())\n"
     ]
    },
    {
     "name": "stdout",
     "output_type": "stream",
     "text": [
      "Epoch 147 end: 1.6649420261383057, TRAIN MSE is: 1122.1864013671875\n",
      "Validation loss: 198476.9687500 - MSE score: 954.2161865\n",
      "Validation pearson is: nan\n",
      "Validation r2_score is: -0.027980016514437267\n",
      "-------------------------\n"
     ]
    },
    {
     "name": "stderr",
     "output_type": "stream",
     "text": [
      "/home/mbosnjak/.conda/envs/pero/lib/python3.7/site-packages/scipy/stats/stats.py:3399: PearsonRConstantInputWarning: An input array is constant; the correlation coefficent is not defined.\n",
      "  warnings.warn(PearsonRConstantInputWarning())\n"
     ]
    },
    {
     "name": "stdout",
     "output_type": "stream",
     "text": [
      "Epoch 148 end: 1.802954912185669, TRAIN MSE is: 1057.8076171875\n",
      "Validation loss: 198439.4687500 - MSE score: 954.0358887\n",
      "Validation pearson is: nan\n",
      "Validation r2_score is: -0.027785743992328138\n",
      "-------------------------\n"
     ]
    },
    {
     "name": "stderr",
     "output_type": "stream",
     "text": [
      "/home/mbosnjak/.conda/envs/pero/lib/python3.7/site-packages/scipy/stats/stats.py:3399: PearsonRConstantInputWarning: An input array is constant; the correlation coefficent is not defined.\n",
      "  warnings.warn(PearsonRConstantInputWarning())\n"
     ]
    },
    {
     "name": "stdout",
     "output_type": "stream",
     "text": [
      "Epoch 149 end: 1.7496581077575684, TRAIN MSE is: 1020.8377685546875\n",
      "Validation loss: 198424.0625000 - MSE score: 953.9618530\n",
      "Validation pearson is: nan\n",
      "Validation r2_score is: -0.027705996663082377\n",
      "-------------------------\n"
     ]
    },
    {
     "name": "stderr",
     "output_type": "stream",
     "text": [
      "/home/mbosnjak/.conda/envs/pero/lib/python3.7/site-packages/scipy/stats/stats.py:3399: PearsonRConstantInputWarning: An input array is constant; the correlation coefficent is not defined.\n",
      "  warnings.warn(PearsonRConstantInputWarning())\n"
     ]
    },
    {
     "name": "stdout",
     "output_type": "stream",
     "text": [
      "Epoch 150 end: 1.7860441207885742, TRAIN MSE is: 1055.26708984375\n",
      "Validation loss: 198327.7031250 - MSE score: 953.4984741\n",
      "Validation pearson is: nan\n",
      "Validation r2_score is: -0.02720683276859437\n",
      "-------------------------\n"
     ]
    },
    {
     "name": "stderr",
     "output_type": "stream",
     "text": [
      "/home/mbosnjak/.conda/envs/pero/lib/python3.7/site-packages/scipy/stats/stats.py:3399: PearsonRConstantInputWarning: An input array is constant; the correlation coefficent is not defined.\n",
      "  warnings.warn(PearsonRConstantInputWarning())\n"
     ]
    },
    {
     "name": "stdout",
     "output_type": "stream",
     "text": [
      "Epoch 151 end: 1.674889087677002, TRAIN MSE is: 1048.069091796875\n",
      "Validation loss: 198337.8750000 - MSE score: 953.5474854\n",
      "Validation pearson is: nan\n",
      "Validation r2_score is: -0.027259562818566785\n",
      "-------------------------\n"
     ]
    },
    {
     "name": "stderr",
     "output_type": "stream",
     "text": [
      "/home/mbosnjak/.conda/envs/pero/lib/python3.7/site-packages/scipy/stats/stats.py:3399: PearsonRConstantInputWarning: An input array is constant; the correlation coefficent is not defined.\n",
      "  warnings.warn(PearsonRConstantInputWarning())\n"
     ]
    },
    {
     "name": "stdout",
     "output_type": "stream",
     "text": [
      "Epoch 152 end: 1.6708195209503174, TRAIN MSE is: 1039.9180908203125\n",
      "Validation loss: 198284.8437500 - MSE score: 953.2925415\n",
      "Validation pearson is: nan\n",
      "Validation r2_score is: -0.026984899006648577\n",
      "-------------------------\n"
     ]
    },
    {
     "name": "stderr",
     "output_type": "stream",
     "text": [
      "/home/mbosnjak/.conda/envs/pero/lib/python3.7/site-packages/scipy/stats/stats.py:3399: PearsonRConstantInputWarning: An input array is constant; the correlation coefficent is not defined.\n",
      "  warnings.warn(PearsonRConstantInputWarning())\n"
     ]
    },
    {
     "name": "stdout",
     "output_type": "stream",
     "text": [
      "Epoch 153 end: 1.7508561611175537, TRAIN MSE is: 1043.457275390625\n",
      "Validation loss: 198251.6875000 - MSE score: 953.1331177\n",
      "Validation pearson is: nan\n",
      "Validation r2_score is: -0.026813123365665437\n",
      "-------------------------\n"
     ]
    },
    {
     "name": "stderr",
     "output_type": "stream",
     "text": [
      "/home/mbosnjak/.conda/envs/pero/lib/python3.7/site-packages/scipy/stats/stats.py:3399: PearsonRConstantInputWarning: An input array is constant; the correlation coefficent is not defined.\n",
      "  warnings.warn(PearsonRConstantInputWarning())\n"
     ]
    },
    {
     "name": "stdout",
     "output_type": "stream",
     "text": [
      "Epoch 154 end: 1.6085124015808105, TRAIN MSE is: 1062.7763671875\n",
      "Validation loss: 198235.4687500 - MSE score: 953.0551147\n",
      "Validation pearson is: nan\n",
      "Validation r2_score is: -0.02672915570959189\n",
      "-------------------------\n"
     ]
    },
    {
     "name": "stderr",
     "output_type": "stream",
     "text": [
      "/home/mbosnjak/.conda/envs/pero/lib/python3.7/site-packages/scipy/stats/stats.py:3399: PearsonRConstantInputWarning: An input array is constant; the correlation coefficent is not defined.\n",
      "  warnings.warn(PearsonRConstantInputWarning())\n"
     ]
    },
    {
     "name": "stdout",
     "output_type": "stream",
     "text": [
      "Epoch 155 end: 1.7177021503448486, TRAIN MSE is: 1023.5377197265625\n",
      "Validation loss: 198206.2343750 - MSE score: 952.9146118\n",
      "Validation pearson is: nan\n",
      "Validation r2_score is: -0.026577722392570058\n",
      "-------------------------\n"
     ]
    },
    {
     "name": "stderr",
     "output_type": "stream",
     "text": [
      "/home/mbosnjak/.conda/envs/pero/lib/python3.7/site-packages/scipy/stats/stats.py:3399: PearsonRConstantInputWarning: An input array is constant; the correlation coefficent is not defined.\n",
      "  warnings.warn(PearsonRConstantInputWarning())\n"
     ]
    },
    {
     "name": "stdout",
     "output_type": "stream",
     "text": [
      "Epoch 156 end: 1.7248516082763672, TRAIN MSE is: 1069.45751953125\n",
      "Validation loss: 198207.8281250 - MSE score: 952.9222412\n",
      "Validation pearson is: nan\n",
      "Validation r2_score is: -0.026585970600526476\n",
      "-------------------------\n"
     ]
    },
    {
     "name": "stderr",
     "output_type": "stream",
     "text": [
      "/home/mbosnjak/.conda/envs/pero/lib/python3.7/site-packages/scipy/stats/stats.py:3399: PearsonRConstantInputWarning: An input array is constant; the correlation coefficent is not defined.\n",
      "  warnings.warn(PearsonRConstantInputWarning())\n"
     ]
    },
    {
     "name": "stdout",
     "output_type": "stream",
     "text": [
      "Epoch 157 end: 1.6623475551605225, TRAIN MSE is: 1054.6121826171875\n",
      "Validation loss: 198252.0000000 - MSE score: 953.1346436\n",
      "Validation pearson is: nan\n",
      "Validation r2_score is: -0.02681481489498516\n",
      "-------------------------\n"
     ]
    },
    {
     "name": "stderr",
     "output_type": "stream",
     "text": [
      "/home/mbosnjak/.conda/envs/pero/lib/python3.7/site-packages/scipy/stats/stats.py:3399: PearsonRConstantInputWarning: An input array is constant; the correlation coefficent is not defined.\n",
      "  warnings.warn(PearsonRConstantInputWarning())\n"
     ]
    },
    {
     "name": "stdout",
     "output_type": "stream",
     "text": [
      "Epoch 158 end: 1.7295544147491455, TRAIN MSE is: 1077.1376953125\n",
      "Validation loss: 198253.9218750 - MSE score: 953.1439209\n",
      "Validation pearson is: nan\n",
      "Validation r2_score is: -0.0268247899598113\n",
      "-------------------------\n"
     ]
    },
    {
     "name": "stderr",
     "output_type": "stream",
     "text": [
      "/home/mbosnjak/.conda/envs/pero/lib/python3.7/site-packages/scipy/stats/stats.py:3399: PearsonRConstantInputWarning: An input array is constant; the correlation coefficent is not defined.\n",
      "  warnings.warn(PearsonRConstantInputWarning())\n"
     ]
    },
    {
     "name": "stdout",
     "output_type": "stream",
     "text": [
      "Epoch 159 end: 1.7288119792938232, TRAIN MSE is: 1033.3221435546875\n",
      "Validation loss: 198225.3906250 - MSE score: 953.0067139\n",
      "Validation pearson is: nan\n",
      "Validation r2_score is: -0.026676975862868213\n",
      "-------------------------\n"
     ]
    },
    {
     "name": "stderr",
     "output_type": "stream",
     "text": [
      "/home/mbosnjak/.conda/envs/pero/lib/python3.7/site-packages/scipy/stats/stats.py:3399: PearsonRConstantInputWarning: An input array is constant; the correlation coefficent is not defined.\n",
      "  warnings.warn(PearsonRConstantInputWarning())\n"
     ]
    },
    {
     "name": "stdout",
     "output_type": "stream",
     "text": [
      "Epoch 160 end: 1.7217230796813965, TRAIN MSE is: 1093.7744140625\n",
      "Validation loss: 198177.7968750 - MSE score: 952.7778931\n",
      "Validation pearson is: nan\n",
      "Validation r2_score is: -0.026430461873878208\n",
      "-------------------------\n"
     ]
    },
    {
     "name": "stderr",
     "output_type": "stream",
     "text": [
      "/home/mbosnjak/.conda/envs/pero/lib/python3.7/site-packages/scipy/stats/stats.py:3399: PearsonRConstantInputWarning: An input array is constant; the correlation coefficent is not defined.\n",
      "  warnings.warn(PearsonRConstantInputWarning())\n"
     ]
    },
    {
     "name": "stdout",
     "output_type": "stream",
     "text": [
      "Epoch 161 end: 1.6008262634277344, TRAIN MSE is: 1070.4669189453125\n",
      "Validation loss: 198143.5937500 - MSE score: 952.6134033\n",
      "Validation pearson is: nan\n",
      "Validation r2_score is: -0.026253383085703907\n",
      "-------------------------\n"
     ]
    },
    {
     "name": "stderr",
     "output_type": "stream",
     "text": [
      "/home/mbosnjak/.conda/envs/pero/lib/python3.7/site-packages/scipy/stats/stats.py:3399: PearsonRConstantInputWarning: An input array is constant; the correlation coefficent is not defined.\n",
      "  warnings.warn(PearsonRConstantInputWarning())\n"
     ]
    },
    {
     "name": "stdout",
     "output_type": "stream",
     "text": [
      "Epoch 162 end: 1.7402305603027344, TRAIN MSE is: 1072.7410888671875\n",
      "Validation loss: 198141.3281250 - MSE score: 952.6026001\n",
      "Validation pearson is: nan\n",
      "Validation r2_score is: -0.026241628192594568\n",
      "-------------------------\n"
     ]
    },
    {
     "name": "stderr",
     "output_type": "stream",
     "text": [
      "/home/mbosnjak/.conda/envs/pero/lib/python3.7/site-packages/scipy/stats/stats.py:3399: PearsonRConstantInputWarning: An input array is constant; the correlation coefficent is not defined.\n",
      "  warnings.warn(PearsonRConstantInputWarning())\n"
     ]
    },
    {
     "name": "stdout",
     "output_type": "stream",
     "text": [
      "Epoch 163 end: 1.9164056777954102, TRAIN MSE is: 1076.629150390625\n",
      "Validation loss: 198141.8750000 - MSE score: 952.6051636\n",
      "Validation pearson is: nan\n",
      "Validation r2_score is: -0.026244507378522908\n",
      "-------------------------\n"
     ]
    },
    {
     "name": "stderr",
     "output_type": "stream",
     "text": [
      "/home/mbosnjak/.conda/envs/pero/lib/python3.7/site-packages/scipy/stats/stats.py:3399: PearsonRConstantInputWarning: An input array is constant; the correlation coefficent is not defined.\n",
      "  warnings.warn(PearsonRConstantInputWarning())\n"
     ]
    },
    {
     "name": "stdout",
     "output_type": "stream",
     "text": [
      "Epoch 164 end: 1.7925307750701904, TRAIN MSE is: 1014.0032348632812\n",
      "Validation loss: 198104.1093750 - MSE score: 952.4237061\n",
      "Validation pearson is: nan\n",
      "Validation r2_score is: -0.026048838580795985\n",
      "-------------------------\n"
     ]
    },
    {
     "name": "stderr",
     "output_type": "stream",
     "text": [
      "/home/mbosnjak/.conda/envs/pero/lib/python3.7/site-packages/scipy/stats/stats.py:3399: PearsonRConstantInputWarning: An input array is constant; the correlation coefficent is not defined.\n",
      "  warnings.warn(PearsonRConstantInputWarning())\n"
     ]
    },
    {
     "name": "stdout",
     "output_type": "stream",
     "text": [
      "Epoch 165 end: 1.6640331745147705, TRAIN MSE is: 1060.2642822265625\n",
      "Validation loss: 198078.0312500 - MSE score: 952.2982178\n",
      "Validation pearson is: nan\n",
      "Validation r2_score is: -0.025913710882514263\n",
      "-------------------------\n"
     ]
    },
    {
     "name": "stderr",
     "output_type": "stream",
     "text": [
      "/home/mbosnjak/.conda/envs/pero/lib/python3.7/site-packages/scipy/stats/stats.py:3399: PearsonRConstantInputWarning: An input array is constant; the correlation coefficent is not defined.\n",
      "  warnings.warn(PearsonRConstantInputWarning())\n"
     ]
    },
    {
     "name": "stdout",
     "output_type": "stream",
     "text": [
      "Epoch 166 end: 1.7760016918182373, TRAIN MSE is: 1071.8411865234375\n",
      "Validation loss: 198085.0000000 - MSE score: 952.3317261\n",
      "Validation pearson is: nan\n",
      "Validation r2_score is: -0.025949914278617037\n",
      "-------------------------\n"
     ]
    },
    {
     "name": "stderr",
     "output_type": "stream",
     "text": [
      "/home/mbosnjak/.conda/envs/pero/lib/python3.7/site-packages/scipy/stats/stats.py:3399: PearsonRConstantInputWarning: An input array is constant; the correlation coefficent is not defined.\n",
      "  warnings.warn(PearsonRConstantInputWarning())\n"
     ]
    },
    {
     "name": "stdout",
     "output_type": "stream",
     "text": [
      "Epoch 167 end: 1.8143410682678223, TRAIN MSE is: 1068.53662109375\n",
      "Validation loss: 198106.9687500 - MSE score: 952.4373779\n",
      "Validation pearson is: nan\n",
      "Validation r2_score is: -0.026063570103797007\n",
      "-------------------------\n"
     ]
    },
    {
     "name": "stderr",
     "output_type": "stream",
     "text": [
      "/home/mbosnjak/.conda/envs/pero/lib/python3.7/site-packages/scipy/stats/stats.py:3399: PearsonRConstantInputWarning: An input array is constant; the correlation coefficent is not defined.\n",
      "  warnings.warn(PearsonRConstantInputWarning())\n"
     ]
    },
    {
     "name": "stdout",
     "output_type": "stream",
     "text": [
      "Epoch 168 end: 1.7524702548980713, TRAIN MSE is: 1101.32080078125\n",
      "Validation loss: 198102.1562500 - MSE score: 952.4141846\n",
      "Validation pearson is: nan\n",
      "Validation r2_score is: -0.026038741623958916\n",
      "-------------------------\n"
     ]
    },
    {
     "name": "stderr",
     "output_type": "stream",
     "text": [
      "/home/mbosnjak/.conda/envs/pero/lib/python3.7/site-packages/scipy/stats/stats.py:3399: PearsonRConstantInputWarning: An input array is constant; the correlation coefficent is not defined.\n",
      "  warnings.warn(PearsonRConstantInputWarning())\n"
     ]
    },
    {
     "name": "stdout",
     "output_type": "stream",
     "text": [
      "Epoch 169 end: 1.6494975090026855, TRAIN MSE is: 1071.9912109375\n",
      "Validation loss: 198116.5937500 - MSE score: 952.4836426\n",
      "Validation pearson is: nan\n",
      "Validation r2_score is: -0.026113432206530618\n",
      "-------------------------\n"
     ]
    },
    {
     "name": "stderr",
     "output_type": "stream",
     "text": [
      "/home/mbosnjak/.conda/envs/pero/lib/python3.7/site-packages/scipy/stats/stats.py:3399: PearsonRConstantInputWarning: An input array is constant; the correlation coefficent is not defined.\n",
      "  warnings.warn(PearsonRConstantInputWarning())\n"
     ]
    },
    {
     "name": "stdout",
     "output_type": "stream",
     "text": [
      "Epoch 170 end: 1.5968821048736572, TRAIN MSE is: 1066.24267578125\n",
      "Validation loss: 198089.9375000 - MSE score: 952.3555298\n",
      "Validation pearson is: nan\n",
      "Validation r2_score is: -0.025975543344153307\n",
      "-------------------------\n"
     ]
    },
    {
     "name": "stderr",
     "output_type": "stream",
     "text": [
      "/home/mbosnjak/.conda/envs/pero/lib/python3.7/site-packages/scipy/stats/stats.py:3399: PearsonRConstantInputWarning: An input array is constant; the correlation coefficent is not defined.\n",
      "  warnings.warn(PearsonRConstantInputWarning())\n"
     ]
    },
    {
     "name": "stdout",
     "output_type": "stream",
     "text": [
      "Epoch 171 end: 1.6547582149505615, TRAIN MSE is: 1064.5816650390625\n",
      "Validation loss: 198101.3125000 - MSE score: 952.4102173\n",
      "Validation pearson is: nan\n",
      "Validation r2_score is: -0.02603441664055617\n",
      "-------------------------\n",
      "Starting training for: {'learning_rate': 0.09, 'act_func': 'sig', 'batch_size': 64, 'kernels_count': 8, 'sentences_count': 2, 'hidden_layers': [8, 6, 4], 'dropout': 0.5, 'alpha': 0.1978, 'regularization_type': 'None'}\n",
      "-------------------------\n"
     ]
    },
    {
     "name": "stderr",
     "output_type": "stream",
     "text": [
      "/home/mbosnjak/.conda/envs/pero/lib/python3.7/site-packages/scipy/stats/stats.py:3399: PearsonRConstantInputWarning: An input array is constant; the correlation coefficent is not defined.\n",
      "  warnings.warn(PearsonRConstantInputWarning())\n"
     ]
    },
    {
     "name": "stdout",
     "output_type": "stream",
     "text": [
      "Epoch 0 end: 1.7509214878082275, TRAIN MSE is: 2279.458251953125\n",
      "Validation loss: 431171.7812500 - MSE score: 2072.9411621\n",
      "Validation pearson is: nan\n",
      "Validation r2_score is: -1.2331858841059957\n",
      "-------------------------\n"
     ]
    },
    {
     "name": "stderr",
     "output_type": "stream",
     "text": [
      "/home/mbosnjak/.conda/envs/pero/lib/python3.7/site-packages/scipy/stats/stats.py:3399: PearsonRConstantInputWarning: An input array is constant; the correlation coefficent is not defined.\n",
      "  warnings.warn(PearsonRConstantInputWarning())\n"
     ]
    },
    {
     "name": "stdout",
     "output_type": "stream",
     "text": [
      "Epoch 1 end: 1.6021206378936768, TRAIN MSE is: 1875.75634765625\n",
      "Validation loss: 350537.1250000 - MSE score: 1685.2747803\n",
      "Validation pearson is: nan\n",
      "Validation r2_score is: -0.8155515516004908\n",
      "-------------------------\n"
     ]
    },
    {
     "name": "stderr",
     "output_type": "stream",
     "text": [
      "/home/mbosnjak/.conda/envs/pero/lib/python3.7/site-packages/scipy/stats/stats.py:3399: PearsonRConstantInputWarning: An input array is constant; the correlation coefficent is not defined.\n",
      "  warnings.warn(PearsonRConstantInputWarning())\n"
     ]
    },
    {
     "name": "stdout",
     "output_type": "stream",
     "text": [
      "Epoch 2 end: 1.5617396831512451, TRAIN MSE is: 1548.291015625\n",
      "Validation loss: 292670.9375000 - MSE score: 1407.0717773\n",
      "Validation pearson is: nan\n",
      "Validation r2_score is: -0.5158426931566611\n",
      "-------------------------\n"
     ]
    },
    {
     "name": "stderr",
     "output_type": "stream",
     "text": [
      "/home/mbosnjak/.conda/envs/pero/lib/python3.7/site-packages/scipy/stats/stats.py:3399: PearsonRConstantInputWarning: An input array is constant; the correlation coefficent is not defined.\n",
      "  warnings.warn(PearsonRConstantInputWarning())\n"
     ]
    },
    {
     "name": "stdout",
     "output_type": "stream",
     "text": [
      "Epoch 3 end: 1.676260232925415, TRAIN MSE is: 1349.642578125\n",
      "Validation loss: 254929.4375000 - MSE score: 1225.6221924\n",
      "Validation pearson is: nan\n",
      "Validation r2_score is: -0.32036659005251034\n",
      "-------------------------\n"
     ]
    },
    {
     "name": "stderr",
     "output_type": "stream",
     "text": [
      "/home/mbosnjak/.conda/envs/pero/lib/python3.7/site-packages/scipy/stats/stats.py:3399: PearsonRConstantInputWarning: An input array is constant; the correlation coefficent is not defined.\n",
      "  warnings.warn(PearsonRConstantInputWarning())\n"
     ]
    },
    {
     "name": "stdout",
     "output_type": "stream",
     "text": [
      "Epoch 4 end: 1.902740478515625, TRAIN MSE is: 1223.34326171875\n",
      "Validation loss: 231070.2031250 - MSE score: 1110.9145508\n",
      "Validation pearson is: nan\n",
      "Validation r2_score is: -0.1967914959069068\n",
      "-------------------------\n"
     ]
    },
    {
     "name": "stderr",
     "output_type": "stream",
     "text": [
      "/home/mbosnjak/.conda/envs/pero/lib/python3.7/site-packages/scipy/stats/stats.py:3399: PearsonRConstantInputWarning: An input array is constant; the correlation coefficent is not defined.\n",
      "  warnings.warn(PearsonRConstantInputWarning())\n"
     ]
    },
    {
     "name": "stdout",
     "output_type": "stream",
     "text": [
      "Epoch 5 end: 1.7012524604797363, TRAIN MSE is: 1162.5460205078125\n",
      "Validation loss: 216402.5468750 - MSE score: 1040.3968506\n",
      "Validation pearson is: nan\n",
      "Validation r2_score is: -0.12082266859879853\n",
      "-------------------------\n"
     ]
    },
    {
     "name": "stderr",
     "output_type": "stream",
     "text": [
      "/home/mbosnjak/.conda/envs/pero/lib/python3.7/site-packages/scipy/stats/stats.py:3399: PearsonRConstantInputWarning: An input array is constant; the correlation coefficent is not defined.\n",
      "  warnings.warn(PearsonRConstantInputWarning())\n"
     ]
    },
    {
     "name": "stdout",
     "output_type": "stream",
     "text": [
      "Epoch 6 end: 1.746614694595337, TRAIN MSE is: 1177.3953857421875\n",
      "Validation loss: 208235.2187500 - MSE score: 1001.1308594\n",
      "Validation pearson is: nan\n",
      "Validation r2_score is: -0.07852134414407286\n",
      "-------------------------\n"
     ]
    },
    {
     "name": "stderr",
     "output_type": "stream",
     "text": [
      "/home/mbosnjak/.conda/envs/pero/lib/python3.7/site-packages/scipy/stats/stats.py:3399: PearsonRConstantInputWarning: An input array is constant; the correlation coefficent is not defined.\n",
      "  warnings.warn(PearsonRConstantInputWarning())\n"
     ]
    },
    {
     "name": "stdout",
     "output_type": "stream",
     "text": [
      "Epoch 7 end: 1.758976936340332, TRAIN MSE is: 1085.63623046875\n",
      "Validation loss: 203221.5937500 - MSE score: 977.0269165\n",
      "Validation pearson is: nan\n",
      "Validation r2_score is: -0.052554012848269105\n",
      "-------------------------\n"
     ]
    },
    {
     "name": "stderr",
     "output_type": "stream",
     "text": [
      "/home/mbosnjak/.conda/envs/pero/lib/python3.7/site-packages/scipy/stats/stats.py:3399: PearsonRConstantInputWarning: An input array is constant; the correlation coefficent is not defined.\n",
      "  warnings.warn(PearsonRConstantInputWarning())\n"
     ]
    },
    {
     "name": "stdout",
     "output_type": "stream",
     "text": [
      "Epoch 8 end: 1.783461332321167, TRAIN MSE is: 1038.310546875\n",
      "Validation loss: 200896.2812500 - MSE score: 965.8475342\n",
      "Validation pearson is: nan\n",
      "Validation r2_score is: -0.040510424315389315\n",
      "-------------------------\n"
     ]
    },
    {
     "name": "stderr",
     "output_type": "stream",
     "text": [
      "/home/mbosnjak/.conda/envs/pero/lib/python3.7/site-packages/scipy/stats/stats.py:3399: PearsonRConstantInputWarning: An input array is constant; the correlation coefficent is not defined.\n",
      "  warnings.warn(PearsonRConstantInputWarning())\n"
     ]
    },
    {
     "name": "stdout",
     "output_type": "stream",
     "text": [
      "Epoch 9 end: 1.8070464134216309, TRAIN MSE is: 1066.8365478515625\n",
      "Validation loss: 199063.4375000 - MSE score: 957.0358276\n",
      "Validation pearson is: nan\n",
      "Validation r2_score is: -0.03101755737351164\n",
      "-------------------------\n"
     ]
    },
    {
     "name": "stderr",
     "output_type": "stream",
     "text": [
      "/home/mbosnjak/.conda/envs/pero/lib/python3.7/site-packages/scipy/stats/stats.py:3399: PearsonRConstantInputWarning: An input array is constant; the correlation coefficent is not defined.\n",
      "  warnings.warn(PearsonRConstantInputWarning())\n"
     ]
    },
    {
     "name": "stdout",
     "output_type": "stream",
     "text": [
      "Epoch 10 end: 1.729278802871704, TRAIN MSE is: 1064.3631591796875\n",
      "Validation loss: 198565.6562500 - MSE score: 954.6425781\n",
      "Validation pearson is: nan\n",
      "Validation r2_score is: -0.028439371889496634\n",
      "-------------------------\n"
     ]
    },
    {
     "name": "stderr",
     "output_type": "stream",
     "text": [
      "/home/mbosnjak/.conda/envs/pero/lib/python3.7/site-packages/scipy/stats/stats.py:3399: PearsonRConstantInputWarning: An input array is constant; the correlation coefficent is not defined.\n",
      "  warnings.warn(PearsonRConstantInputWarning())\n"
     ]
    },
    {
     "name": "stdout",
     "output_type": "stream",
     "text": [
      "Epoch 11 end: 1.6667520999908447, TRAIN MSE is: 1066.2376708984375\n",
      "Validation loss: 198320.7500000 - MSE score: 953.4651489\n",
      "Validation pearson is: nan\n",
      "Validation r2_score is: -0.0271709033552634\n",
      "-------------------------\n"
     ]
    },
    {
     "name": "stderr",
     "output_type": "stream",
     "text": [
      "/home/mbosnjak/.conda/envs/pero/lib/python3.7/site-packages/scipy/stats/stats.py:3399: PearsonRConstantInputWarning: An input array is constant; the correlation coefficent is not defined.\n",
      "  warnings.warn(PearsonRConstantInputWarning())\n"
     ]
    },
    {
     "name": "stdout",
     "output_type": "stream",
     "text": [
      "Epoch 12 end: 1.6908371448516846, TRAIN MSE is: 1059.7415771484375\n",
      "Validation loss: 198380.5312500 - MSE score: 953.7525635\n",
      "Validation pearson is: nan\n",
      "Validation r2_score is: -0.02748053302285336\n",
      "-------------------------\n"
     ]
    },
    {
     "name": "stderr",
     "output_type": "stream",
     "text": [
      "/home/mbosnjak/.conda/envs/pero/lib/python3.7/site-packages/scipy/stats/stats.py:3399: PearsonRConstantInputWarning: An input array is constant; the correlation coefficent is not defined.\n",
      "  warnings.warn(PearsonRConstantInputWarning())\n"
     ]
    },
    {
     "name": "stdout",
     "output_type": "stream",
     "text": [
      "Epoch 13 end: 1.5311238765716553, TRAIN MSE is: 1064.4259033203125\n",
      "Validation loss: 198174.1250000 - MSE score: 952.7601929\n",
      "Validation pearson is: nan\n",
      "Validation r2_score is: -0.02641145811013157\n",
      "-------------------------\n"
     ]
    },
    {
     "name": "stderr",
     "output_type": "stream",
     "text": [
      "/home/mbosnjak/.conda/envs/pero/lib/python3.7/site-packages/scipy/stats/stats.py:3399: PearsonRConstantInputWarning: An input array is constant; the correlation coefficent is not defined.\n",
      "  warnings.warn(PearsonRConstantInputWarning())\n"
     ]
    },
    {
     "name": "stdout",
     "output_type": "stream",
     "text": [
      "Epoch 14 end: 1.8524374961853027, TRAIN MSE is: 1049.046142578125\n",
      "Validation loss: 198179.6562500 - MSE score: 952.7868652\n",
      "Validation pearson is: nan\n",
      "Validation r2_score is: -0.026440192130064766\n",
      "-------------------------\n"
     ]
    },
    {
     "name": "stderr",
     "output_type": "stream",
     "text": [
      "/home/mbosnjak/.conda/envs/pero/lib/python3.7/site-packages/scipy/stats/stats.py:3399: PearsonRConstantInputWarning: An input array is constant; the correlation coefficent is not defined.\n",
      "  warnings.warn(PearsonRConstantInputWarning())\n"
     ]
    },
    {
     "name": "stdout",
     "output_type": "stream",
     "text": [
      "Epoch 15 end: 1.7798247337341309, TRAIN MSE is: 1028.089111328125\n",
      "Validation loss: 197862.4531250 - MSE score: 951.2618408\n",
      "Validation pearson is: nan\n",
      "Validation r2_score is: -0.02479720679442199\n",
      "-------------------------\n"
     ]
    },
    {
     "name": "stderr",
     "output_type": "stream",
     "text": [
      "/home/mbosnjak/.conda/envs/pero/lib/python3.7/site-packages/scipy/stats/stats.py:3399: PearsonRConstantInputWarning: An input array is constant; the correlation coefficent is not defined.\n",
      "  warnings.warn(PearsonRConstantInputWarning())\n"
     ]
    },
    {
     "name": "stdout",
     "output_type": "stream",
     "text": [
      "Epoch 16 end: 1.7445287704467773, TRAIN MSE is: 1053.14599609375\n",
      "Validation loss: 197426.7812500 - MSE score: 949.1672363\n",
      "Validation pearson is: nan\n",
      "Validation r2_score is: -0.022540683342463064\n",
      "-------------------------\n"
     ]
    },
    {
     "name": "stderr",
     "output_type": "stream",
     "text": [
      "/home/mbosnjak/.conda/envs/pero/lib/python3.7/site-packages/scipy/stats/stats.py:3399: PearsonRConstantInputWarning: An input array is constant; the correlation coefficent is not defined.\n",
      "  warnings.warn(PearsonRConstantInputWarning())\n"
     ]
    },
    {
     "name": "stdout",
     "output_type": "stream",
     "text": [
      "Epoch 17 end: 1.7222199440002441, TRAIN MSE is: 1025.370361328125\n",
      "Validation loss: 197328.7187500 - MSE score: 948.6957397\n",
      "Validation pearson is: nan\n",
      "Validation r2_score is: -0.022032843612697528\n",
      "-------------------------\n"
     ]
    },
    {
     "name": "stderr",
     "output_type": "stream",
     "text": [
      "/home/mbosnjak/.conda/envs/pero/lib/python3.7/site-packages/scipy/stats/stats.py:3399: PearsonRConstantInputWarning: An input array is constant; the correlation coefficent is not defined.\n",
      "  warnings.warn(PearsonRConstantInputWarning())\n"
     ]
    },
    {
     "name": "stdout",
     "output_type": "stream",
     "text": [
      "Epoch 18 end: 1.6989378929138184, TRAIN MSE is: 1078.302490234375\n",
      "Validation loss: 197407.5312500 - MSE score: 949.0746460\n",
      "Validation pearson is: nan\n",
      "Validation r2_score is: -0.02244104709652972\n",
      "-------------------------\n"
     ]
    },
    {
     "name": "stderr",
     "output_type": "stream",
     "text": [
      "/home/mbosnjak/.conda/envs/pero/lib/python3.7/site-packages/scipy/stats/stats.py:3399: PearsonRConstantInputWarning: An input array is constant; the correlation coefficent is not defined.\n",
      "  warnings.warn(PearsonRConstantInputWarning())\n"
     ]
    },
    {
     "name": "stdout",
     "output_type": "stream",
     "text": [
      "Epoch 19 end: 1.7234008312225342, TRAIN MSE is: 1025.9298095703125\n",
      "Validation loss: 196924.9062500 - MSE score: 946.7545166\n",
      "Validation pearson is: nan\n",
      "Validation r2_score is: -0.01994140987433979\n",
      "-------------------------\n"
     ]
    },
    {
     "name": "stderr",
     "output_type": "stream",
     "text": [
      "/home/mbosnjak/.conda/envs/pero/lib/python3.7/site-packages/scipy/stats/stats.py:3399: PearsonRConstantInputWarning: An input array is constant; the correlation coefficent is not defined.\n",
      "  warnings.warn(PearsonRConstantInputWarning())\n"
     ]
    },
    {
     "name": "stdout",
     "output_type": "stream",
     "text": [
      "Epoch 20 end: 1.6386311054229736, TRAIN MSE is: 1044.57421875\n",
      "Validation loss: 197011.3437500 - MSE score: 947.1699219\n",
      "Validation pearson is: nan\n",
      "Validation r2_score is: -0.020389069353294875\n",
      "-------------------------\n"
     ]
    },
    {
     "name": "stderr",
     "output_type": "stream",
     "text": [
      "/home/mbosnjak/.conda/envs/pero/lib/python3.7/site-packages/scipy/stats/stats.py:3399: PearsonRConstantInputWarning: An input array is constant; the correlation coefficent is not defined.\n",
      "  warnings.warn(PearsonRConstantInputWarning())\n"
     ]
    },
    {
     "name": "stdout",
     "output_type": "stream",
     "text": [
      "Epoch 21 end: 1.6654016971588135, TRAIN MSE is: 1010.9174194335938\n",
      "Validation loss: 196654.3281250 - MSE score: 945.4534302\n",
      "Validation pearson is: nan\n",
      "Validation r2_score is: -0.018539870705362338\n",
      "-------------------------\n"
     ]
    },
    {
     "name": "stderr",
     "output_type": "stream",
     "text": [
      "/home/mbosnjak/.conda/envs/pero/lib/python3.7/site-packages/scipy/stats/stats.py:3399: PearsonRConstantInputWarning: An input array is constant; the correlation coefficent is not defined.\n",
      "  warnings.warn(PearsonRConstantInputWarning())\n"
     ]
    },
    {
     "name": "stdout",
     "output_type": "stream",
     "text": [
      "Epoch 22 end: 1.6955244541168213, TRAIN MSE is: 1012.6131591796875\n",
      "Validation loss: 196278.3125000 - MSE score: 943.6457520\n",
      "Validation pearson is: nan\n",
      "Validation r2_score is: -0.01659238278809072\n",
      "-------------------------\n"
     ]
    },
    {
     "name": "stderr",
     "output_type": "stream",
     "text": [
      "/home/mbosnjak/.conda/envs/pero/lib/python3.7/site-packages/scipy/stats/stats.py:3399: PearsonRConstantInputWarning: An input array is constant; the correlation coefficent is not defined.\n",
      "  warnings.warn(PearsonRConstantInputWarning())\n"
     ]
    },
    {
     "name": "stdout",
     "output_type": "stream",
     "text": [
      "Epoch 23 end: 1.6797208786010742, TRAIN MSE is: 1068.319091796875\n",
      "Validation loss: 196482.2343750 - MSE score: 944.6260376\n",
      "Validation pearson is: nan\n",
      "Validation r2_score is: -0.017648512616098788\n",
      "-------------------------\n"
     ]
    },
    {
     "name": "stderr",
     "output_type": "stream",
     "text": [
      "/home/mbosnjak/.conda/envs/pero/lib/python3.7/site-packages/scipy/stats/stats.py:3399: PearsonRConstantInputWarning: An input array is constant; the correlation coefficent is not defined.\n",
      "  warnings.warn(PearsonRConstantInputWarning())\n"
     ]
    },
    {
     "name": "stdout",
     "output_type": "stream",
     "text": [
      "Epoch 24 end: 1.7090399265289307, TRAIN MSE is: 1030.6600341796875\n",
      "Validation loss: 196957.8437500 - MSE score: 946.9127197\n",
      "Validation pearson is: nan\n",
      "Validation r2_score is: -0.020111932116546383\n",
      "-------------------------\n"
     ]
    },
    {
     "name": "stderr",
     "output_type": "stream",
     "text": [
      "/home/mbosnjak/.conda/envs/pero/lib/python3.7/site-packages/scipy/stats/stats.py:3399: PearsonRConstantInputWarning: An input array is constant; the correlation coefficent is not defined.\n",
      "  warnings.warn(PearsonRConstantInputWarning())\n"
     ]
    },
    {
     "name": "stdout",
     "output_type": "stream",
     "text": [
      "Epoch 25 end: 1.7863764762878418, TRAIN MSE is: 1008.9078979492188\n",
      "Validation loss: 197096.5625000 - MSE score: 947.5795288\n",
      "Validation pearson is: nan\n",
      "Validation r2_score is: -0.02083033451672489\n",
      "-------------------------\n"
     ]
    },
    {
     "name": "stderr",
     "output_type": "stream",
     "text": [
      "/home/mbosnjak/.conda/envs/pero/lib/python3.7/site-packages/scipy/stats/stats.py:3399: PearsonRConstantInputWarning: An input array is constant; the correlation coefficent is not defined.\n",
      "  warnings.warn(PearsonRConstantInputWarning())\n"
     ]
    },
    {
     "name": "stdout",
     "output_type": "stream",
     "text": [
      "Epoch 26 end: 1.6739497184753418, TRAIN MSE is: 974.526611328125\n",
      "Validation loss: 196397.0937500 - MSE score: 944.2168579\n",
      "Validation pearson is: nan\n",
      "Validation r2_score is: -0.01720768629185243\n",
      "-------------------------\n"
     ]
    },
    {
     "name": "stderr",
     "output_type": "stream",
     "text": [
      "/home/mbosnjak/.conda/envs/pero/lib/python3.7/site-packages/scipy/stats/stats.py:3399: PearsonRConstantInputWarning: An input array is constant; the correlation coefficent is not defined.\n",
      "  warnings.warn(PearsonRConstantInputWarning())\n"
     ]
    },
    {
     "name": "stdout",
     "output_type": "stream",
     "text": [
      "Epoch 27 end: 1.6061134338378906, TRAIN MSE is: 1019.4963989257812\n",
      "Validation loss: 196401.2500000 - MSE score: 944.2368774\n",
      "Validation pearson is: nan\n",
      "Validation r2_score is: -0.017229205832835826\n",
      "-------------------------\n"
     ]
    },
    {
     "name": "stderr",
     "output_type": "stream",
     "text": [
      "/home/mbosnjak/.conda/envs/pero/lib/python3.7/site-packages/scipy/stats/stats.py:3399: PearsonRConstantInputWarning: An input array is constant; the correlation coefficent is not defined.\n",
      "  warnings.warn(PearsonRConstantInputWarning())\n"
     ]
    },
    {
     "name": "stdout",
     "output_type": "stream",
     "text": [
      "Epoch 28 end: 1.7243037223815918, TRAIN MSE is: 1008.5123291015625\n",
      "Validation loss: 196590.4218750 - MSE score: 945.1461792\n",
      "Validation pearson is: nan\n",
      "Validation r2_score is: -0.018208881642484576\n",
      "-------------------------\n",
      "Starting training for: {'learning_rate': 0.3, 'act_func': 'sig', 'batch_size': 64, 'kernels_count': 8, 'sentences_count': 2, 'hidden_layers': [8, 6, 4], 'dropout': 0.5, 'alpha': 0.1978, 'regularization_type': 'None'}\n",
      "-------------------------\n"
     ]
    },
    {
     "name": "stderr",
     "output_type": "stream",
     "text": [
      "/home/mbosnjak/.conda/envs/pero/lib/python3.7/site-packages/scipy/stats/stats.py:3399: PearsonRConstantInputWarning: An input array is constant; the correlation coefficent is not defined.\n",
      "  warnings.warn(PearsonRConstantInputWarning())\n"
     ]
    },
    {
     "name": "stdout",
     "output_type": "stream",
     "text": [
      "Epoch 0 end: 1.7346270084381104, TRAIN MSE is: 1876.61962890625\n",
      "Validation loss: 281226.7812500 - MSE score: 1352.0516357\n",
      "Validation pearson is: nan\n",
      "Validation r2_score is: -0.4565695310649116\n",
      "-------------------------\n"
     ]
    },
    {
     "name": "stderr",
     "output_type": "stream",
     "text": [
      "/home/mbosnjak/.conda/envs/pero/lib/python3.7/site-packages/scipy/stats/stats.py:3399: PearsonRConstantInputWarning: An input array is constant; the correlation coefficent is not defined.\n",
      "  warnings.warn(PearsonRConstantInputWarning())\n"
     ]
    },
    {
     "name": "stdout",
     "output_type": "stream",
     "text": [
      "Epoch 1 end: 1.6144087314605713, TRAIN MSE is: 1169.3990478515625\n",
      "Validation loss: 201596.2968750 - MSE score: 969.2130127\n",
      "Validation pearson is: nan\n",
      "Validation r2_score is: -0.044136059136936856\n",
      "-------------------------\n"
     ]
    },
    {
     "name": "stderr",
     "output_type": "stream",
     "text": [
      "/home/mbosnjak/.conda/envs/pero/lib/python3.7/site-packages/scipy/stats/stats.py:3399: PearsonRConstantInputWarning: An input array is constant; the correlation coefficent is not defined.\n",
      "  warnings.warn(PearsonRConstantInputWarning())\n"
     ]
    },
    {
     "name": "stdout",
     "output_type": "stream",
     "text": [
      "Epoch 2 end: 1.612874984741211, TRAIN MSE is: 1169.3760986328125\n",
      "Validation loss: 193503.2656250 - MSE score: 930.3041382\n",
      "Validation pearson is: nan\n",
      "Validation r2_score is: -0.0022195077860149848\n",
      "-------------------------\n"
     ]
    },
    {
     "name": "stderr",
     "output_type": "stream",
     "text": [
      "/home/mbosnjak/.conda/envs/pero/lib/python3.7/site-packages/scipy/stats/stats.py:3399: PearsonRConstantInputWarning: An input array is constant; the correlation coefficent is not defined.\n",
      "  warnings.warn(PearsonRConstantInputWarning())\n"
     ]
    },
    {
     "name": "stdout",
     "output_type": "stream",
     "text": [
      "Epoch 3 end: 1.6005699634552002, TRAIN MSE is: 1062.5438232421875\n",
      "Validation loss: 195414.6875000 - MSE score: 939.4935913\n",
      "Validation pearson is: nan\n",
      "Validation r2_score is: -0.012119382095841846\n",
      "-------------------------\n"
     ]
    },
    {
     "name": "stderr",
     "output_type": "stream",
     "text": [
      "/home/mbosnjak/.conda/envs/pero/lib/python3.7/site-packages/scipy/stats/stats.py:3399: PearsonRConstantInputWarning: An input array is constant; the correlation coefficent is not defined.\n",
      "  warnings.warn(PearsonRConstantInputWarning())\n"
     ]
    },
    {
     "name": "stdout",
     "output_type": "stream",
     "text": [
      "Epoch 4 end: 1.6481208801269531, TRAIN MSE is: 1042.959228515625\n",
      "Validation loss: 198768.0156250 - MSE score: 955.6155396\n",
      "Validation pearson is: nan\n",
      "Validation r2_score is: -0.029487457691582453\n",
      "-------------------------\n"
     ]
    },
    {
     "name": "stderr",
     "output_type": "stream",
     "text": [
      "/home/mbosnjak/.conda/envs/pero/lib/python3.7/site-packages/scipy/stats/stats.py:3399: PearsonRConstantInputWarning: An input array is constant; the correlation coefficent is not defined.\n",
      "  warnings.warn(PearsonRConstantInputWarning())\n"
     ]
    },
    {
     "name": "stdout",
     "output_type": "stream",
     "text": [
      "Epoch 5 end: 1.720740795135498, TRAIN MSE is: 1072.975341796875\n",
      "Validation loss: 200425.1250000 - MSE score: 963.5823364\n",
      "Validation pearson is: nan\n",
      "Validation r2_score is: -0.03807013003240556\n",
      "-------------------------\n"
     ]
    },
    {
     "name": "stderr",
     "output_type": "stream",
     "text": [
      "/home/mbosnjak/.conda/envs/pero/lib/python3.7/site-packages/scipy/stats/stats.py:3399: PearsonRConstantInputWarning: An input array is constant; the correlation coefficent is not defined.\n",
      "  warnings.warn(PearsonRConstantInputWarning())\n"
     ]
    },
    {
     "name": "stdout",
     "output_type": "stream",
     "text": [
      "Epoch 6 end: 1.648698329925537, TRAIN MSE is: 1027.3458251953125\n",
      "Validation loss: 198429.5000000 - MSE score: 953.9879761\n",
      "Validation pearson is: nan\n",
      "Validation r2_score is: -0.027734164223876645\n",
      "-------------------------\n"
     ]
    },
    {
     "name": "stderr",
     "output_type": "stream",
     "text": [
      "/home/mbosnjak/.conda/envs/pero/lib/python3.7/site-packages/scipy/stats/stats.py:3399: PearsonRConstantInputWarning: An input array is constant; the correlation coefficent is not defined.\n",
      "  warnings.warn(PearsonRConstantInputWarning())\n"
     ]
    },
    {
     "name": "stdout",
     "output_type": "stream",
     "text": [
      "Epoch 7 end: 1.889195442199707, TRAIN MSE is: 1003.033935546875\n",
      "Validation loss: 194086.2500000 - MSE score: 933.1069946\n",
      "Validation pearson is: nan\n",
      "Validation r2_score is: -0.0052389848170262265\n",
      "-------------------------\n"
     ]
    },
    {
     "name": "stderr",
     "output_type": "stream",
     "text": [
      "/home/mbosnjak/.conda/envs/pero/lib/python3.7/site-packages/scipy/stats/stats.py:3399: PearsonRConstantInputWarning: An input array is constant; the correlation coefficent is not defined.\n",
      "  warnings.warn(PearsonRConstantInputWarning())\n"
     ]
    },
    {
     "name": "stdout",
     "output_type": "stream",
     "text": [
      "Epoch 8 end: 1.7996609210968018, TRAIN MSE is: 978.2398071289062\n",
      "Validation loss: 195461.1250000 - MSE score: 939.7169189\n",
      "Validation pearson is: nan\n",
      "Validation r2_score is: -0.01235994329429202\n",
      "-------------------------\n",
      "Apply best model to test for ['conscientiousness'] on fold 0.\n"
     ]
    },
    {
     "name": "stderr",
     "output_type": "stream",
     "text": [
      "/home/mbosnjak/.conda/envs/pero/lib/python3.7/site-packages/scipy/stats/stats.py:3399: PearsonRConstantInputWarning: An input array is constant; the correlation coefficent is not defined.\n",
      "  warnings.warn(PearsonRConstantInputWarning())\n"
     ]
    },
    {
     "name": "stdout",
     "output_type": "stream",
     "text": [
      "Test loss: 274796.00000 - MSE score: 1044.8515625 \n",
      "Test pearson is: nan\n",
      "Test r2_score is: -0.02964229730957868\n",
      "-------------------------\n",
      "+++ Finished with training and testing model for ['conscientiousness'] on fold 0. +++\n",
      "-------------------------\n",
      "-------------------------\n",
      "Processing fold: 0 and target: ['extraversion']\n",
      "-------------------------\n",
      "Train size: 836\n",
      "Validation size: 209\n",
      "Test size: 262\n",
      "-------------------------\n",
      "Starting training for: {'learning_rate': 0.01, 'act_func': 'sig', 'batch_size': 64, 'kernels_count': 8, 'sentences_count': 2, 'hidden_layers': [8, 6, 4], 'dropout': 0.5, 'alpha': 0.1978, 'regularization_type': 'None'}\n",
      "-------------------------\n",
      "Epoch 0 end: 1.9521846771240234, TRAIN MSE is: 2229.5419921875\n",
      "Validation loss: 493038.3125000 - MSE score: 2359.0349121\n",
      "Validation pearson is: 0.04392872666135073\n",
      "Validation r2_score is: -1.568865829377378\n",
      "-------------------------\n",
      "Epoch 1 end: 1.6642866134643555, TRAIN MSE is: 2178.498779296875\n",
      "Validation loss: 480272.8750000 - MSE score: 2297.9562988\n",
      "Validation pearson is: -0.02617983260740442\n",
      "Validation r2_score is: -1.502354287626341\n",
      "-------------------------\n",
      "Epoch 2 end: 1.593257188796997, TRAIN MSE is: 2129.547607421875\n",
      "Validation loss: 467082.1562500 - MSE score: 2234.8427734\n",
      "Validation pearson is: 0.09711022456075233\n",
      "Validation r2_score is: -1.4336270966855165\n",
      "-------------------------\n",
      "Epoch 3 end: 1.6044745445251465, TRAIN MSE is: 2072.80322265625\n",
      "Validation loss: 454981.6875000 - MSE score: 2176.9462891\n",
      "Validation pearson is: 0.07976341381952175\n",
      "Validation r2_score is: -1.3705805188002373\n",
      "-------------------------\n"
     ]
    },
    {
     "name": "stderr",
     "output_type": "stream",
     "text": [
      "/home/mbosnjak/.conda/envs/pero/lib/python3.7/site-packages/scipy/stats/stats.py:3399: PearsonRConstantInputWarning: An input array is constant; the correlation coefficent is not defined.\n",
      "  warnings.warn(PearsonRConstantInputWarning())\n"
     ]
    },
    {
     "name": "stdout",
     "output_type": "stream",
     "text": [
      "Epoch 4 end: 1.5483694076538086, TRAIN MSE is: 2024.6221923828125\n",
      "Validation loss: 443777.5625000 - MSE score: 2123.3374023\n",
      "Validation pearson is: nan\n",
      "Validation r2_score is: -1.3122035852643998\n",
      "-------------------------\n"
     ]
    },
    {
     "name": "stderr",
     "output_type": "stream",
     "text": [
      "/home/mbosnjak/.conda/envs/pero/lib/python3.7/site-packages/scipy/stats/stats.py:3399: PearsonRConstantInputWarning: An input array is constant; the correlation coefficent is not defined.\n",
      "  warnings.warn(PearsonRConstantInputWarning())\n"
     ]
    },
    {
     "name": "stdout",
     "output_type": "stream",
     "text": [
      "Epoch 5 end: 1.5481781959533691, TRAIN MSE is: 1964.8118896484375\n",
      "Validation loss: 432973.2187500 - MSE score: 2071.6423340\n",
      "Validation pearson is: nan\n",
      "Validation r2_score is: -1.2559102034778449\n",
      "-------------------------\n"
     ]
    },
    {
     "name": "stderr",
     "output_type": "stream",
     "text": [
      "/home/mbosnjak/.conda/envs/pero/lib/python3.7/site-packages/scipy/stats/stats.py:3399: PearsonRConstantInputWarning: An input array is constant; the correlation coefficent is not defined.\n",
      "  warnings.warn(PearsonRConstantInputWarning())\n"
     ]
    },
    {
     "name": "stdout",
     "output_type": "stream",
     "text": [
      "Epoch 6 end: 1.4829659461975098, TRAIN MSE is: 1930.45751953125\n",
      "Validation loss: 423182.2187500 - MSE score: 2024.7951660\n",
      "Validation pearson is: nan\n",
      "Validation r2_score is: -1.2048961873003972\n",
      "-------------------------\n"
     ]
    },
    {
     "name": "stderr",
     "output_type": "stream",
     "text": [
      "/home/mbosnjak/.conda/envs/pero/lib/python3.7/site-packages/scipy/stats/stats.py:3399: PearsonRConstantInputWarning: An input array is constant; the correlation coefficent is not defined.\n",
      "  warnings.warn(PearsonRConstantInputWarning())\n"
     ]
    },
    {
     "name": "stdout",
     "output_type": "stream",
     "text": [
      "Epoch 7 end: 1.491349697113037, TRAIN MSE is: 1873.6387939453125\n",
      "Validation loss: 413628.4062500 - MSE score: 1979.0833740\n",
      "Validation pearson is: nan\n",
      "Validation r2_score is: -1.1551183794224316\n",
      "-------------------------\n"
     ]
    },
    {
     "name": "stderr",
     "output_type": "stream",
     "text": [
      "/home/mbosnjak/.conda/envs/pero/lib/python3.7/site-packages/scipy/stats/stats.py:3399: PearsonRConstantInputWarning: An input array is constant; the correlation coefficent is not defined.\n",
      "  warnings.warn(PearsonRConstantInputWarning())\n"
     ]
    },
    {
     "name": "stdout",
     "output_type": "stream",
     "text": [
      "Epoch 8 end: 1.599442958831787, TRAIN MSE is: 1834.6644287109375\n",
      "Validation loss: 404579.0000000 - MSE score: 1935.7846680\n",
      "Validation pearson is: nan\n",
      "Validation r2_score is: -1.107968476222688\n",
      "-------------------------\n"
     ]
    },
    {
     "name": "stderr",
     "output_type": "stream",
     "text": [
      "/home/mbosnjak/.conda/envs/pero/lib/python3.7/site-packages/scipy/stats/stats.py:3399: PearsonRConstantInputWarning: An input array is constant; the correlation coefficent is not defined.\n",
      "  warnings.warn(PearsonRConstantInputWarning())\n"
     ]
    },
    {
     "name": "stdout",
     "output_type": "stream",
     "text": [
      "Epoch 9 end: 1.6287682056427002, TRAIN MSE is: 1800.84228515625\n",
      "Validation loss: 395954.7500000 - MSE score: 1894.5203857\n",
      "Validation pearson is: nan\n",
      "Validation r2_score is: -1.063033605601516\n",
      "-------------------------\n"
     ]
    },
    {
     "name": "stderr",
     "output_type": "stream",
     "text": [
      "/home/mbosnjak/.conda/envs/pero/lib/python3.7/site-packages/scipy/stats/stats.py:3399: PearsonRConstantInputWarning: An input array is constant; the correlation coefficent is not defined.\n",
      "  warnings.warn(PearsonRConstantInputWarning())\n"
     ]
    },
    {
     "name": "stdout",
     "output_type": "stream",
     "text": [
      "Epoch 10 end: 1.5666821002960205, TRAIN MSE is: 1759.4239501953125\n",
      "Validation loss: 387565.8750000 - MSE score: 1854.3822021\n",
      "Validation pearson is: nan\n",
      "Validation r2_score is: -1.0193252332802714\n",
      "-------------------------\n"
     ]
    },
    {
     "name": "stderr",
     "output_type": "stream",
     "text": [
      "/home/mbosnjak/.conda/envs/pero/lib/python3.7/site-packages/scipy/stats/stats.py:3399: PearsonRConstantInputWarning: An input array is constant; the correlation coefficent is not defined.\n",
      "  warnings.warn(PearsonRConstantInputWarning())\n"
     ]
    },
    {
     "name": "stdout",
     "output_type": "stream",
     "text": [
      "Epoch 11 end: 1.7327227592468262, TRAIN MSE is: 1731.954833984375\n",
      "Validation loss: 379704.1250000 - MSE score: 1816.7661133\n",
      "Validation pearson is: nan\n",
      "Validation r2_score is: -0.9783633865007213\n",
      "-------------------------\n"
     ]
    },
    {
     "name": "stderr",
     "output_type": "stream",
     "text": [
      "/home/mbosnjak/.conda/envs/pero/lib/python3.7/site-packages/scipy/stats/stats.py:3399: PearsonRConstantInputWarning: An input array is constant; the correlation coefficent is not defined.\n",
      "  warnings.warn(PearsonRConstantInputWarning())\n"
     ]
    },
    {
     "name": "stdout",
     "output_type": "stream",
     "text": [
      "Epoch 12 end: 1.5998549461364746, TRAIN MSE is: 1692.646240234375\n",
      "Validation loss: 372031.3125000 - MSE score: 1780.0540771\n",
      "Validation pearson is: nan\n",
      "Validation r2_score is: -0.9383858249313652\n",
      "-------------------------\n"
     ]
    },
    {
     "name": "stderr",
     "output_type": "stream",
     "text": [
      "/home/mbosnjak/.conda/envs/pero/lib/python3.7/site-packages/scipy/stats/stats.py:3399: PearsonRConstantInputWarning: An input array is constant; the correlation coefficent is not defined.\n",
      "  warnings.warn(PearsonRConstantInputWarning())\n"
     ]
    },
    {
     "name": "stdout",
     "output_type": "stream",
     "text": [
      "Epoch 13 end: 1.527306079864502, TRAIN MSE is: 1662.4481201171875\n",
      "Validation loss: 364660.2500000 - MSE score: 1744.7858887\n",
      "Validation pearson is: nan\n",
      "Validation r2_score is: -0.8999805945758126\n",
      "-------------------------\n"
     ]
    },
    {
     "name": "stderr",
     "output_type": "stream",
     "text": [
      "/home/mbosnjak/.conda/envs/pero/lib/python3.7/site-packages/scipy/stats/stats.py:3399: PearsonRConstantInputWarning: An input array is constant; the correlation coefficent is not defined.\n",
      "  warnings.warn(PearsonRConstantInputWarning())\n"
     ]
    },
    {
     "name": "stdout",
     "output_type": "stream",
     "text": [
      "Epoch 14 end: 1.4699690341949463, TRAIN MSE is: 1622.3975830078125\n",
      "Validation loss: 357515.8437500 - MSE score: 1710.6021729\n",
      "Validation pearson is: nan\n",
      "Validation r2_score is: -0.8627563582771149\n",
      "-------------------------\n"
     ]
    },
    {
     "name": "stderr",
     "output_type": "stream",
     "text": [
      "/home/mbosnjak/.conda/envs/pero/lib/python3.7/site-packages/scipy/stats/stats.py:3399: PearsonRConstantInputWarning: An input array is constant; the correlation coefficent is not defined.\n",
      "  warnings.warn(PearsonRConstantInputWarning())\n"
     ]
    },
    {
     "name": "stdout",
     "output_type": "stream",
     "text": [
      "Epoch 15 end: 1.5841903686523438, TRAIN MSE is: 1621.9468994140625\n",
      "Validation loss: 350830.1562500 - MSE score: 1678.6132812\n",
      "Validation pearson is: nan\n",
      "Validation r2_score is: -0.8279220876339006\n",
      "-------------------------\n"
     ]
    },
    {
     "name": "stderr",
     "output_type": "stream",
     "text": [
      "/home/mbosnjak/.conda/envs/pero/lib/python3.7/site-packages/scipy/stats/stats.py:3399: PearsonRConstantInputWarning: An input array is constant; the correlation coefficent is not defined.\n",
      "  warnings.warn(PearsonRConstantInputWarning())\n"
     ]
    },
    {
     "name": "stdout",
     "output_type": "stream",
     "text": [
      "Epoch 16 end: 1.5136165618896484, TRAIN MSE is: 1561.78564453125\n",
      "Validation loss: 344234.4062500 - MSE score: 1647.0545654\n",
      "Validation pearson is: nan\n",
      "Validation r2_score is: -0.7935563002531383\n",
      "-------------------------\n"
     ]
    },
    {
     "name": "stderr",
     "output_type": "stream",
     "text": [
      "/home/mbosnjak/.conda/envs/pero/lib/python3.7/site-packages/scipy/stats/stats.py:3399: PearsonRConstantInputWarning: An input array is constant; the correlation coefficent is not defined.\n",
      "  warnings.warn(PearsonRConstantInputWarning())\n"
     ]
    },
    {
     "name": "stdout",
     "output_type": "stream",
     "text": [
      "Epoch 17 end: 1.5245356559753418, TRAIN MSE is: 1540.0804443359375\n",
      "Validation loss: 337892.1875000 - MSE score: 1616.7089844\n",
      "Validation pearson is: nan\n",
      "Validation r2_score is: -0.7605116380283468\n",
      "-------------------------\n"
     ]
    },
    {
     "name": "stderr",
     "output_type": "stream",
     "text": [
      "/home/mbosnjak/.conda/envs/pero/lib/python3.7/site-packages/scipy/stats/stats.py:3399: PearsonRConstantInputWarning: An input array is constant; the correlation coefficent is not defined.\n",
      "  warnings.warn(PearsonRConstantInputWarning())\n"
     ]
    },
    {
     "name": "stdout",
     "output_type": "stream",
     "text": [
      "Epoch 18 end: 1.494159460067749, TRAIN MSE is: 1518.694580078125\n",
      "Validation loss: 331863.3750000 - MSE score: 1587.8630371\n",
      "Validation pearson is: nan\n",
      "Validation r2_score is: -0.7290998258766199\n",
      "-------------------------\n"
     ]
    },
    {
     "name": "stderr",
     "output_type": "stream",
     "text": [
      "/home/mbosnjak/.conda/envs/pero/lib/python3.7/site-packages/scipy/stats/stats.py:3399: PearsonRConstantInputWarning: An input array is constant; the correlation coefficent is not defined.\n",
      "  warnings.warn(PearsonRConstantInputWarning())\n"
     ]
    },
    {
     "name": "stdout",
     "output_type": "stream",
     "text": [
      "Epoch 19 end: 1.5398261547088623, TRAIN MSE is: 1501.6763916015625\n",
      "Validation loss: 326113.0937500 - MSE score: 1560.3496094\n",
      "Validation pearson is: nan\n",
      "Validation r2_score is: -0.6991392312783216\n",
      "-------------------------\n"
     ]
    },
    {
     "name": "stderr",
     "output_type": "stream",
     "text": [
      "/home/mbosnjak/.conda/envs/pero/lib/python3.7/site-packages/scipy/stats/stats.py:3399: PearsonRConstantInputWarning: An input array is constant; the correlation coefficent is not defined.\n",
      "  warnings.warn(PearsonRConstantInputWarning())\n"
     ]
    },
    {
     "name": "stdout",
     "output_type": "stream",
     "text": [
      "Epoch 20 end: 1.5461030006408691, TRAIN MSE is: 1453.625244140625\n",
      "Validation loss: 320380.2812500 - MSE score: 1532.9201660\n",
      "Validation pearson is: nan\n",
      "Validation r2_score is: -0.6692698235935404\n",
      "-------------------------\n"
     ]
    },
    {
     "name": "stderr",
     "output_type": "stream",
     "text": [
      "/home/mbosnjak/.conda/envs/pero/lib/python3.7/site-packages/scipy/stats/stats.py:3399: PearsonRConstantInputWarning: An input array is constant; the correlation coefficent is not defined.\n",
      "  warnings.warn(PearsonRConstantInputWarning())\n"
     ]
    },
    {
     "name": "stdout",
     "output_type": "stream",
     "text": [
      "Epoch 21 end: 1.575944185256958, TRAIN MSE is: 1437.0819091796875\n",
      "Validation loss: 314875.0937500 - MSE score: 1506.5793457\n",
      "Validation pearson is: nan\n",
      "Validation r2_score is: -0.640586183040291\n",
      "-------------------------\n"
     ]
    },
    {
     "name": "stderr",
     "output_type": "stream",
     "text": [
      "/home/mbosnjak/.conda/envs/pero/lib/python3.7/site-packages/scipy/stats/stats.py:3399: PearsonRConstantInputWarning: An input array is constant; the correlation coefficent is not defined.\n",
      "  warnings.warn(PearsonRConstantInputWarning())\n"
     ]
    },
    {
     "name": "stdout",
     "output_type": "stream",
     "text": [
      "Epoch 22 end: 1.6048610210418701, TRAIN MSE is: 1453.3399658203125\n",
      "Validation loss: 309879.1875000 - MSE score: 1482.6755371\n",
      "Validation pearson is: nan\n",
      "Validation r2_score is: -0.6145561906088055\n",
      "-------------------------\n"
     ]
    },
    {
     "name": "stderr",
     "output_type": "stream",
     "text": [
      "/home/mbosnjak/.conda/envs/pero/lib/python3.7/site-packages/scipy/stats/stats.py:3399: PearsonRConstantInputWarning: An input array is constant; the correlation coefficent is not defined.\n",
      "  warnings.warn(PearsonRConstantInputWarning())\n"
     ]
    },
    {
     "name": "stdout",
     "output_type": "stream",
     "text": [
      "Epoch 23 end: 1.6422007083892822, TRAIN MSE is: 1397.5208740234375\n",
      "Validation loss: 304927.0312500 - MSE score: 1458.9808350\n",
      "Validation pearson is: nan\n",
      "Validation r2_score is: -0.588754064821509\n",
      "-------------------------\n"
     ]
    },
    {
     "name": "stderr",
     "output_type": "stream",
     "text": [
      "/home/mbosnjak/.conda/envs/pero/lib/python3.7/site-packages/scipy/stats/stats.py:3399: PearsonRConstantInputWarning: An input array is constant; the correlation coefficent is not defined.\n",
      "  warnings.warn(PearsonRConstantInputWarning())\n"
     ]
    },
    {
     "name": "stdout",
     "output_type": "stream",
     "text": [
      "Epoch 24 end: 1.5873427391052246, TRAIN MSE is: 1392.225341796875\n",
      "Validation loss: 300112.2187500 - MSE score: 1435.9434814\n",
      "Validation pearson is: nan\n",
      "Validation r2_score is: -0.563667451650069\n",
      "-------------------------\n"
     ]
    },
    {
     "name": "stderr",
     "output_type": "stream",
     "text": [
      "/home/mbosnjak/.conda/envs/pero/lib/python3.7/site-packages/scipy/stats/stats.py:3399: PearsonRConstantInputWarning: An input array is constant; the correlation coefficent is not defined.\n",
      "  warnings.warn(PearsonRConstantInputWarning())\n"
     ]
    },
    {
     "name": "stdout",
     "output_type": "stream",
     "text": [
      "Epoch 25 end: 1.582413911819458, TRAIN MSE is: 1361.471923828125\n",
      "Validation loss: 295473.2187500 - MSE score: 1413.7473145\n",
      "Validation pearson is: nan\n",
      "Validation r2_score is: -0.539496953985918\n",
      "-------------------------\n"
     ]
    },
    {
     "name": "stderr",
     "output_type": "stream",
     "text": [
      "/home/mbosnjak/.conda/envs/pero/lib/python3.7/site-packages/scipy/stats/stats.py:3399: PearsonRConstantInputWarning: An input array is constant; the correlation coefficent is not defined.\n",
      "  warnings.warn(PearsonRConstantInputWarning())\n"
     ]
    },
    {
     "name": "stdout",
     "output_type": "stream",
     "text": [
      "Epoch 26 end: 1.6225638389587402, TRAIN MSE is: 1345.9854736328125\n",
      "Validation loss: 291220.1875000 - MSE score: 1393.3980713\n",
      "Validation pearson is: nan\n",
      "Validation r2_score is: -0.5173375835716911\n",
      "-------------------------\n"
     ]
    },
    {
     "name": "stderr",
     "output_type": "stream",
     "text": [
      "/home/mbosnjak/.conda/envs/pero/lib/python3.7/site-packages/scipy/stats/stats.py:3399: PearsonRConstantInputWarning: An input array is constant; the correlation coefficent is not defined.\n",
      "  warnings.warn(PearsonRConstantInputWarning())\n"
     ]
    },
    {
     "name": "stdout",
     "output_type": "stream",
     "text": [
      "Epoch 27 end: 1.6407344341278076, TRAIN MSE is: 1315.0804443359375\n",
      "Validation loss: 286930.6250000 - MSE score: 1372.8737793\n",
      "Validation pearson is: nan\n",
      "Validation r2_score is: -0.49498773334586343\n",
      "-------------------------\n"
     ]
    },
    {
     "name": "stderr",
     "output_type": "stream",
     "text": [
      "/home/mbosnjak/.conda/envs/pero/lib/python3.7/site-packages/scipy/stats/stats.py:3399: PearsonRConstantInputWarning: An input array is constant; the correlation coefficent is not defined.\n",
      "  warnings.warn(PearsonRConstantInputWarning())\n"
     ]
    },
    {
     "name": "stdout",
     "output_type": "stream",
     "text": [
      "Epoch 28 end: 1.7042572498321533, TRAIN MSE is: 1329.219482421875\n",
      "Validation loss: 282877.3125000 - MSE score: 1353.4799805\n",
      "Validation pearson is: nan\n",
      "Validation r2_score is: -0.4738688748527693\n",
      "-------------------------\n"
     ]
    },
    {
     "name": "stderr",
     "output_type": "stream",
     "text": [
      "/home/mbosnjak/.conda/envs/pero/lib/python3.7/site-packages/scipy/stats/stats.py:3399: PearsonRConstantInputWarning: An input array is constant; the correlation coefficent is not defined.\n",
      "  warnings.warn(PearsonRConstantInputWarning())\n"
     ]
    },
    {
     "name": "stdout",
     "output_type": "stream",
     "text": [
      "Epoch 29 end: 1.5720758438110352, TRAIN MSE is: 1327.9302978515625\n",
      "Validation loss: 279118.0000000 - MSE score: 1335.4929199\n",
      "Validation pearson is: nan\n",
      "Validation r2_score is: -0.4542819562522402\n",
      "-------------------------\n"
     ]
    },
    {
     "name": "stderr",
     "output_type": "stream",
     "text": [
      "/home/mbosnjak/.conda/envs/pero/lib/python3.7/site-packages/scipy/stats/stats.py:3399: PearsonRConstantInputWarning: An input array is constant; the correlation coefficent is not defined.\n",
      "  warnings.warn(PearsonRConstantInputWarning())\n"
     ]
    },
    {
     "name": "stdout",
     "output_type": "stream",
     "text": [
      "Epoch 30 end: 1.5324208736419678, TRAIN MSE is: 1317.9852294921875\n",
      "Validation loss: 275558.8125000 - MSE score: 1318.4632568\n",
      "Validation pearson is: nan\n",
      "Validation r2_score is: -0.4357375712284166\n",
      "-------------------------\n"
     ]
    },
    {
     "name": "stderr",
     "output_type": "stream",
     "text": [
      "/home/mbosnjak/.conda/envs/pero/lib/python3.7/site-packages/scipy/stats/stats.py:3399: PearsonRConstantInputWarning: An input array is constant; the correlation coefficent is not defined.\n",
      "  warnings.warn(PearsonRConstantInputWarning())\n"
     ]
    },
    {
     "name": "stdout",
     "output_type": "stream",
     "text": [
      "Epoch 31 end: 1.5892367362976074, TRAIN MSE is: 1255.3519287109375\n",
      "Validation loss: 272057.7812500 - MSE score: 1301.7116699\n",
      "Validation pearson is: nan\n",
      "Validation r2_score is: -0.4174961683965628\n",
      "-------------------------\n"
     ]
    },
    {
     "name": "stderr",
     "output_type": "stream",
     "text": [
      "/home/mbosnjak/.conda/envs/pero/lib/python3.7/site-packages/scipy/stats/stats.py:3399: PearsonRConstantInputWarning: An input array is constant; the correlation coefficent is not defined.\n",
      "  warnings.warn(PearsonRConstantInputWarning())\n"
     ]
    },
    {
     "name": "stdout",
     "output_type": "stream",
     "text": [
      "Epoch 32 end: 1.5958850383758545, TRAIN MSE is: 1298.5677490234375\n",
      "Validation loss: 268809.4687500 - MSE score: 1286.1696777\n",
      "Validation pearson is: nan\n",
      "Validation r2_score is: -0.40057155898231733\n",
      "-------------------------\n"
     ]
    },
    {
     "name": "stderr",
     "output_type": "stream",
     "text": [
      "/home/mbosnjak/.conda/envs/pero/lib/python3.7/site-packages/scipy/stats/stats.py:3399: PearsonRConstantInputWarning: An input array is constant; the correlation coefficent is not defined.\n",
      "  warnings.warn(PearsonRConstantInputWarning())\n"
     ]
    },
    {
     "name": "stdout",
     "output_type": "stream",
     "text": [
      "Epoch 33 end: 1.6557600498199463, TRAIN MSE is: 1249.5645751953125\n",
      "Validation loss: 265536.9375000 - MSE score: 1270.5117188\n",
      "Validation pearson is: nan\n",
      "Validation r2_score is: -0.38352081472303046\n",
      "-------------------------\n"
     ]
    },
    {
     "name": "stderr",
     "output_type": "stream",
     "text": [
      "/home/mbosnjak/.conda/envs/pero/lib/python3.7/site-packages/scipy/stats/stats.py:3399: PearsonRConstantInputWarning: An input array is constant; the correlation coefficent is not defined.\n",
      "  warnings.warn(PearsonRConstantInputWarning())\n"
     ]
    },
    {
     "name": "stdout",
     "output_type": "stream",
     "text": [
      "Epoch 34 end: 1.6638753414154053, TRAIN MSE is: 1289.0218505859375\n",
      "Validation loss: 262479.4687500 - MSE score: 1255.8825684\n",
      "Validation pearson is: nan\n",
      "Validation r2_score is: -0.3675905938440831\n",
      "-------------------------\n"
     ]
    },
    {
     "name": "stderr",
     "output_type": "stream",
     "text": [
      "/home/mbosnjak/.conda/envs/pero/lib/python3.7/site-packages/scipy/stats/stats.py:3399: PearsonRConstantInputWarning: An input array is constant; the correlation coefficent is not defined.\n",
      "  warnings.warn(PearsonRConstantInputWarning())\n"
     ]
    },
    {
     "name": "stdout",
     "output_type": "stream",
     "text": [
      "Epoch 35 end: 1.6508533954620361, TRAIN MSE is: 1252.9144287109375\n",
      "Validation loss: 259622.7500000 - MSE score: 1242.2141113\n",
      "Validation pearson is: nan\n",
      "Validation r2_score is: -0.3527062513280623\n",
      "-------------------------\n"
     ]
    },
    {
     "name": "stderr",
     "output_type": "stream",
     "text": [
      "/home/mbosnjak/.conda/envs/pero/lib/python3.7/site-packages/scipy/stats/stats.py:3399: PearsonRConstantInputWarning: An input array is constant; the correlation coefficent is not defined.\n",
      "  warnings.warn(PearsonRConstantInputWarning())\n"
     ]
    },
    {
     "name": "stdout",
     "output_type": "stream",
     "text": [
      "Epoch 36 end: 1.5812225341796875, TRAIN MSE is: 1227.44921875\n",
      "Validation loss: 256796.8437500 - MSE score: 1228.6929932\n",
      "Validation pearson is: nan\n",
      "Validation r2_score is: -0.33798253752007135\n",
      "-------------------------\n"
     ]
    },
    {
     "name": "stderr",
     "output_type": "stream",
     "text": [
      "/home/mbosnjak/.conda/envs/pero/lib/python3.7/site-packages/scipy/stats/stats.py:3399: PearsonRConstantInputWarning: An input array is constant; the correlation coefficent is not defined.\n",
      "  warnings.warn(PearsonRConstantInputWarning())\n"
     ]
    },
    {
     "name": "stdout",
     "output_type": "stream",
     "text": [
      "Epoch 37 end: 1.5491595268249512, TRAIN MSE is: 1216.952392578125\n",
      "Validation loss: 253942.4687500 - MSE score: 1215.0357666\n",
      "Validation pearson is: nan\n",
      "Validation r2_score is: -0.3231104142649899\n",
      "-------------------------\n"
     ]
    },
    {
     "name": "stderr",
     "output_type": "stream",
     "text": [
      "/home/mbosnjak/.conda/envs/pero/lib/python3.7/site-packages/scipy/stats/stats.py:3399: PearsonRConstantInputWarning: An input array is constant; the correlation coefficent is not defined.\n",
      "  warnings.warn(PearsonRConstantInputWarning())\n"
     ]
    },
    {
     "name": "stdout",
     "output_type": "stream",
     "text": [
      "Epoch 38 end: 1.4749605655670166, TRAIN MSE is: 1240.879150390625\n",
      "Validation loss: 251411.4218750 - MSE score: 1202.9255371\n",
      "Validation pearson is: nan\n",
      "Validation r2_score is: -0.30992304879582067\n",
      "-------------------------\n"
     ]
    },
    {
     "name": "stderr",
     "output_type": "stream",
     "text": [
      "/home/mbosnjak/.conda/envs/pero/lib/python3.7/site-packages/scipy/stats/stats.py:3399: PearsonRConstantInputWarning: An input array is constant; the correlation coefficent is not defined.\n",
      "  warnings.warn(PearsonRConstantInputWarning())\n"
     ]
    },
    {
     "name": "stdout",
     "output_type": "stream",
     "text": [
      "Epoch 39 end: 1.584420919418335, TRAIN MSE is: 1198.2498779296875\n",
      "Validation loss: 248967.8125000 - MSE score: 1191.2333984\n",
      "Validation pearson is: nan\n",
      "Validation r2_score is: -0.29719102409933496\n",
      "-------------------------\n"
     ]
    },
    {
     "name": "stderr",
     "output_type": "stream",
     "text": [
      "/home/mbosnjak/.conda/envs/pero/lib/python3.7/site-packages/scipy/stats/stats.py:3399: PearsonRConstantInputWarning: An input array is constant; the correlation coefficent is not defined.\n",
      "  warnings.warn(PearsonRConstantInputWarning())\n"
     ]
    },
    {
     "name": "stdout",
     "output_type": "stream",
     "text": [
      "Epoch 40 end: 1.566971778869629, TRAIN MSE is: 1188.240234375\n",
      "Validation loss: 246702.8281250 - MSE score: 1180.3963623\n",
      "Validation pearson is: nan\n",
      "Validation r2_score is: -0.2853899597794791\n",
      "-------------------------\n"
     ]
    },
    {
     "name": "stderr",
     "output_type": "stream",
     "text": [
      "/home/mbosnjak/.conda/envs/pero/lib/python3.7/site-packages/scipy/stats/stats.py:3399: PearsonRConstantInputWarning: An input array is constant; the correlation coefficent is not defined.\n",
      "  warnings.warn(PearsonRConstantInputWarning())\n"
     ]
    },
    {
     "name": "stdout",
     "output_type": "stream",
     "text": [
      "Epoch 41 end: 1.5370473861694336, TRAIN MSE is: 1171.96728515625\n",
      "Validation loss: 244526.2812500 - MSE score: 1169.9821777\n",
      "Validation pearson is: nan\n",
      "Validation r2_score is: -0.2740495256833808\n",
      "-------------------------\n"
     ]
    },
    {
     "name": "stderr",
     "output_type": "stream",
     "text": [
      "/home/mbosnjak/.conda/envs/pero/lib/python3.7/site-packages/scipy/stats/stats.py:3399: PearsonRConstantInputWarning: An input array is constant; the correlation coefficent is not defined.\n",
      "  warnings.warn(PearsonRConstantInputWarning())\n"
     ]
    },
    {
     "name": "stdout",
     "output_type": "stream",
     "text": [
      "Epoch 42 end: 1.5354928970336914, TRAIN MSE is: 1194.0640869140625\n",
      "Validation loss: 242423.9531250 - MSE score: 1159.9233398\n",
      "Validation pearson is: nan\n",
      "Validation r2_score is: -0.26309581945356353\n",
      "-------------------------\n"
     ]
    },
    {
     "name": "stderr",
     "output_type": "stream",
     "text": [
      "/home/mbosnjak/.conda/envs/pero/lib/python3.7/site-packages/scipy/stats/stats.py:3399: PearsonRConstantInputWarning: An input array is constant; the correlation coefficent is not defined.\n",
      "  warnings.warn(PearsonRConstantInputWarning())\n"
     ]
    },
    {
     "name": "stdout",
     "output_type": "stream",
     "text": [
      "Epoch 43 end: 1.5677998065948486, TRAIN MSE is: 1186.4359130859375\n",
      "Validation loss: 240417.5156250 - MSE score: 1150.3229980\n",
      "Validation pearson is: nan\n",
      "Validation r2_score is: -0.25264165701803365\n",
      "-------------------------\n"
     ]
    },
    {
     "name": "stderr",
     "output_type": "stream",
     "text": [
      "/home/mbosnjak/.conda/envs/pero/lib/python3.7/site-packages/scipy/stats/stats.py:3399: PearsonRConstantInputWarning: An input array is constant; the correlation coefficent is not defined.\n",
      "  warnings.warn(PearsonRConstantInputWarning())\n"
     ]
    },
    {
     "name": "stdout",
     "output_type": "stream",
     "text": [
      "Epoch 44 end: 1.4908013343811035, TRAIN MSE is: 1149.457763671875\n",
      "Validation loss: 238423.9218750 - MSE score: 1140.7844238\n",
      "Validation pearson is: nan\n",
      "Validation r2_score is: -0.2422545085194343\n",
      "-------------------------\n"
     ]
    },
    {
     "name": "stderr",
     "output_type": "stream",
     "text": [
      "/home/mbosnjak/.conda/envs/pero/lib/python3.7/site-packages/scipy/stats/stats.py:3399: PearsonRConstantInputWarning: An input array is constant; the correlation coefficent is not defined.\n",
      "  warnings.warn(PearsonRConstantInputWarning())\n"
     ]
    },
    {
     "name": "stdout",
     "output_type": "stream",
     "text": [
      "Epoch 45 end: 1.507356882095337, TRAIN MSE is: 1176.2412109375\n",
      "Validation loss: 236575.6562500 - MSE score: 1131.9409180\n",
      "Validation pearson is: nan\n",
      "Validation r2_score is: -0.232624452921524\n",
      "-------------------------\n"
     ]
    },
    {
     "name": "stderr",
     "output_type": "stream",
     "text": [
      "/home/mbosnjak/.conda/envs/pero/lib/python3.7/site-packages/scipy/stats/stats.py:3399: PearsonRConstantInputWarning: An input array is constant; the correlation coefficent is not defined.\n",
      "  warnings.warn(PearsonRConstantInputWarning())\n"
     ]
    },
    {
     "name": "stdout",
     "output_type": "stream",
     "text": [
      "Epoch 46 end: 1.6945371627807617, TRAIN MSE is: 1152.4052734375\n",
      "Validation loss: 234757.7031250 - MSE score: 1123.2425537\n",
      "Validation pearson is: nan\n",
      "Validation r2_score is: -0.22315236245171133\n",
      "-------------------------\n"
     ]
    },
    {
     "name": "stderr",
     "output_type": "stream",
     "text": [
      "/home/mbosnjak/.conda/envs/pero/lib/python3.7/site-packages/scipy/stats/stats.py:3399: PearsonRConstantInputWarning: An input array is constant; the correlation coefficent is not defined.\n",
      "  warnings.warn(PearsonRConstantInputWarning())\n"
     ]
    },
    {
     "name": "stdout",
     "output_type": "stream",
     "text": [
      "Epoch 47 end: 1.715116262435913, TRAIN MSE is: 1166.45654296875\n",
      "Validation loss: 233110.8281250 - MSE score: 1115.3627930\n",
      "Validation pearson is: nan\n",
      "Validation r2_score is: -0.21457172434242033\n",
      "-------------------------\n"
     ]
    },
    {
     "name": "stderr",
     "output_type": "stream",
     "text": [
      "/home/mbosnjak/.conda/envs/pero/lib/python3.7/site-packages/scipy/stats/stats.py:3399: PearsonRConstantInputWarning: An input array is constant; the correlation coefficent is not defined.\n",
      "  warnings.warn(PearsonRConstantInputWarning())\n"
     ]
    },
    {
     "name": "stdout",
     "output_type": "stream",
     "text": [
      "Epoch 48 end: 1.5794951915740967, TRAIN MSE is: 1184.919677734375\n",
      "Validation loss: 231648.3281250 - MSE score: 1108.3653564\n",
      "Validation pearson is: nan\n",
      "Validation r2_score is: -0.20695184116247978\n",
      "-------------------------\n"
     ]
    },
    {
     "name": "stderr",
     "output_type": "stream",
     "text": [
      "/home/mbosnjak/.conda/envs/pero/lib/python3.7/site-packages/scipy/stats/stats.py:3399: PearsonRConstantInputWarning: An input array is constant; the correlation coefficent is not defined.\n",
      "  warnings.warn(PearsonRConstantInputWarning())\n"
     ]
    },
    {
     "name": "stdout",
     "output_type": "stream",
     "text": [
      "Epoch 49 end: 1.541369915008545, TRAIN MSE is: 1143.350830078125\n",
      "Validation loss: 230307.3593750 - MSE score: 1101.9490967\n",
      "Validation pearson is: nan\n",
      "Validation r2_score is: -0.19996493722951136\n",
      "-------------------------\n"
     ]
    },
    {
     "name": "stderr",
     "output_type": "stream",
     "text": [
      "/home/mbosnjak/.conda/envs/pero/lib/python3.7/site-packages/scipy/stats/stats.py:3399: PearsonRConstantInputWarning: An input array is constant; the correlation coefficent is not defined.\n",
      "  warnings.warn(PearsonRConstantInputWarning())\n"
     ]
    },
    {
     "name": "stdout",
     "output_type": "stream",
     "text": [
      "Epoch 50 end: 1.6021828651428223, TRAIN MSE is: 1145.7322998046875\n",
      "Validation loss: 228886.4375000 - MSE score: 1095.1503906\n",
      "Validation pearson is: nan\n",
      "Validation r2_score is: -0.19256148385847038\n",
      "-------------------------\n"
     ]
    },
    {
     "name": "stderr",
     "output_type": "stream",
     "text": [
      "/home/mbosnjak/.conda/envs/pero/lib/python3.7/site-packages/scipy/stats/stats.py:3399: PearsonRConstantInputWarning: An input array is constant; the correlation coefficent is not defined.\n",
      "  warnings.warn(PearsonRConstantInputWarning())\n"
     ]
    },
    {
     "name": "stdout",
     "output_type": "stream",
     "text": [
      "Epoch 51 end: 1.5904321670532227, TRAIN MSE is: 1144.386962890625\n",
      "Validation loss: 227528.1875000 - MSE score: 1088.6516113\n",
      "Validation pearson is: nan\n",
      "Validation r2_score is: -0.1854846843807465\n",
      "-------------------------\n"
     ]
    },
    {
     "name": "stderr",
     "output_type": "stream",
     "text": [
      "/home/mbosnjak/.conda/envs/pero/lib/python3.7/site-packages/scipy/stats/stats.py:3399: PearsonRConstantInputWarning: An input array is constant; the correlation coefficent is not defined.\n",
      "  warnings.warn(PearsonRConstantInputWarning())\n"
     ]
    },
    {
     "name": "stdout",
     "output_type": "stream",
     "text": [
      "Epoch 52 end: 1.472085952758789, TRAIN MSE is: 1164.41162109375\n",
      "Validation loss: 226343.7343750 - MSE score: 1082.9842529\n",
      "Validation pearson is: nan\n",
      "Validation r2_score is: -0.1793134015143112\n",
      "-------------------------\n"
     ]
    },
    {
     "name": "stderr",
     "output_type": "stream",
     "text": [
      "/home/mbosnjak/.conda/envs/pero/lib/python3.7/site-packages/scipy/stats/stats.py:3399: PearsonRConstantInputWarning: An input array is constant; the correlation coefficent is not defined.\n",
      "  warnings.warn(PearsonRConstantInputWarning())\n"
     ]
    },
    {
     "name": "stdout",
     "output_type": "stream",
     "text": [
      "Epoch 53 end: 1.544553279876709, TRAIN MSE is: 1164.2718505859375\n",
      "Validation loss: 225217.5625000 - MSE score: 1077.5960693\n",
      "Validation pearson is: nan\n",
      "Validation r2_score is: -0.1734457867286816\n",
      "-------------------------\n"
     ]
    },
    {
     "name": "stderr",
     "output_type": "stream",
     "text": [
      "/home/mbosnjak/.conda/envs/pero/lib/python3.7/site-packages/scipy/stats/stats.py:3399: PearsonRConstantInputWarning: An input array is constant; the correlation coefficent is not defined.\n",
      "  warnings.warn(PearsonRConstantInputWarning())\n"
     ]
    },
    {
     "name": "stdout",
     "output_type": "stream",
     "text": [
      "Epoch 54 end: 1.7193784713745117, TRAIN MSE is: 1087.500244140625\n",
      "Validation loss: 223993.4062500 - MSE score: 1071.7387695\n",
      "Validation pearson is: nan\n",
      "Validation r2_score is: -0.16706758917810594\n",
      "-------------------------\n"
     ]
    },
    {
     "name": "stderr",
     "output_type": "stream",
     "text": [
      "/home/mbosnjak/.conda/envs/pero/lib/python3.7/site-packages/scipy/stats/stats.py:3399: PearsonRConstantInputWarning: An input array is constant; the correlation coefficent is not defined.\n",
      "  warnings.warn(PearsonRConstantInputWarning())\n"
     ]
    },
    {
     "name": "stdout",
     "output_type": "stream",
     "text": [
      "Epoch 55 end: 1.5398962497711182, TRAIN MSE is: 1125.60888671875\n",
      "Validation loss: 222882.2031250 - MSE score: 1066.4219971\n",
      "Validation pearson is: nan\n",
      "Validation r2_score is: -0.16127777156489298\n",
      "-------------------------\n"
     ]
    },
    {
     "name": "stderr",
     "output_type": "stream",
     "text": [
      "/home/mbosnjak/.conda/envs/pero/lib/python3.7/site-packages/scipy/stats/stats.py:3399: PearsonRConstantInputWarning: An input array is constant; the correlation coefficent is not defined.\n",
      "  warnings.warn(PearsonRConstantInputWarning())\n"
     ]
    },
    {
     "name": "stdout",
     "output_type": "stream",
     "text": [
      "Epoch 56 end: 1.4378976821899414, TRAIN MSE is: 1130.209228515625\n",
      "Validation loss: 221814.5937500 - MSE score: 1061.3138428\n",
      "Validation pearson is: nan\n",
      "Validation r2_score is: -0.15571533298967388\n",
      "-------------------------\n"
     ]
    },
    {
     "name": "stderr",
     "output_type": "stream",
     "text": [
      "/home/mbosnjak/.conda/envs/pero/lib/python3.7/site-packages/scipy/stats/stats.py:3399: PearsonRConstantInputWarning: An input array is constant; the correlation coefficent is not defined.\n",
      "  warnings.warn(PearsonRConstantInputWarning())\n"
     ]
    },
    {
     "name": "stdout",
     "output_type": "stream",
     "text": [
      "Epoch 57 end: 1.4565355777740479, TRAIN MSE is: 1110.285400390625\n",
      "Validation loss: 220777.0625000 - MSE score: 1056.3496094\n",
      "Validation pearson is: nan\n",
      "Validation r2_score is: -0.15030948141287692\n",
      "-------------------------\n"
     ]
    },
    {
     "name": "stderr",
     "output_type": "stream",
     "text": [
      "/home/mbosnjak/.conda/envs/pero/lib/python3.7/site-packages/scipy/stats/stats.py:3399: PearsonRConstantInputWarning: An input array is constant; the correlation coefficent is not defined.\n",
      "  warnings.warn(PearsonRConstantInputWarning())\n"
     ]
    },
    {
     "name": "stdout",
     "output_type": "stream",
     "text": [
      "Epoch 58 end: 1.4667091369628906, TRAIN MSE is: 1108.9715576171875\n",
      "Validation loss: 219729.3125000 - MSE score: 1051.3363037\n",
      "Validation pearson is: nan\n",
      "Validation r2_score is: -0.14485036707242105\n",
      "-------------------------\n"
     ]
    },
    {
     "name": "stderr",
     "output_type": "stream",
     "text": [
      "/home/mbosnjak/.conda/envs/pero/lib/python3.7/site-packages/scipy/stats/stats.py:3399: PearsonRConstantInputWarning: An input array is constant; the correlation coefficent is not defined.\n",
      "  warnings.warn(PearsonRConstantInputWarning())\n"
     ]
    },
    {
     "name": "stdout",
     "output_type": "stream",
     "text": [
      "Epoch 59 end: 1.4207580089569092, TRAIN MSE is: 1078.332763671875\n",
      "Validation loss: 218837.7500000 - MSE score: 1047.0705566\n",
      "Validation pearson is: nan\n",
      "Validation r2_score is: -0.14020509405762205\n",
      "-------------------------\n"
     ]
    },
    {
     "name": "stderr",
     "output_type": "stream",
     "text": [
      "/home/mbosnjak/.conda/envs/pero/lib/python3.7/site-packages/scipy/stats/stats.py:3399: PearsonRConstantInputWarning: An input array is constant; the correlation coefficent is not defined.\n",
      "  warnings.warn(PearsonRConstantInputWarning())\n"
     ]
    },
    {
     "name": "stdout",
     "output_type": "stream",
     "text": [
      "Epoch 60 end: 1.4554274082183838, TRAIN MSE is: 1085.58642578125\n",
      "Validation loss: 217953.2968750 - MSE score: 1042.8388672\n",
      "Validation pearson is: nan\n",
      "Validation r2_score is: -0.13559686959400286\n",
      "-------------------------\n"
     ]
    },
    {
     "name": "stderr",
     "output_type": "stream",
     "text": [
      "/home/mbosnjak/.conda/envs/pero/lib/python3.7/site-packages/scipy/stats/stats.py:3399: PearsonRConstantInputWarning: An input array is constant; the correlation coefficent is not defined.\n",
      "  warnings.warn(PearsonRConstantInputWarning())\n"
     ]
    },
    {
     "name": "stdout",
     "output_type": "stream",
     "text": [
      "Epoch 61 end: 1.4668240547180176, TRAIN MSE is: 1107.9317626953125\n",
      "Validation loss: 217112.9218750 - MSE score: 1038.8178711\n",
      "Validation pearson is: nan\n",
      "Validation r2_score is: -0.1312184038680686\n",
      "-------------------------\n"
     ]
    },
    {
     "name": "stderr",
     "output_type": "stream",
     "text": [
      "/home/mbosnjak/.conda/envs/pero/lib/python3.7/site-packages/scipy/stats/stats.py:3399: PearsonRConstantInputWarning: An input array is constant; the correlation coefficent is not defined.\n",
      "  warnings.warn(PearsonRConstantInputWarning())\n"
     ]
    },
    {
     "name": "stdout",
     "output_type": "stream",
     "text": [
      "Epoch 62 end: 1.470710277557373, TRAIN MSE is: 1083.383544921875\n",
      "Validation loss: 216329.9062500 - MSE score: 1035.0712891\n",
      "Validation pearson is: nan\n",
      "Validation r2_score is: -0.12713857785988014\n",
      "-------------------------\n"
     ]
    },
    {
     "name": "stderr",
     "output_type": "stream",
     "text": [
      "/home/mbosnjak/.conda/envs/pero/lib/python3.7/site-packages/scipy/stats/stats.py:3399: PearsonRConstantInputWarning: An input array is constant; the correlation coefficent is not defined.\n",
      "  warnings.warn(PearsonRConstantInputWarning())\n"
     ]
    },
    {
     "name": "stdout",
     "output_type": "stream",
     "text": [
      "Epoch 63 end: 1.65236496925354, TRAIN MSE is: 1096.5223388671875\n",
      "Validation loss: 215721.2031250 - MSE score: 1032.1589355\n",
      "Validation pearson is: nan\n",
      "Validation r2_score is: -0.12396709110019954\n",
      "-------------------------\n"
     ]
    },
    {
     "name": "stderr",
     "output_type": "stream",
     "text": [
      "/home/mbosnjak/.conda/envs/pero/lib/python3.7/site-packages/scipy/stats/stats.py:3399: PearsonRConstantInputWarning: An input array is constant; the correlation coefficent is not defined.\n",
      "  warnings.warn(PearsonRConstantInputWarning())\n"
     ]
    },
    {
     "name": "stdout",
     "output_type": "stream",
     "text": [
      "Epoch 64 end: 1.5633788108825684, TRAIN MSE is: 1123.2318115234375\n",
      "Validation loss: 215104.2187500 - MSE score: 1029.2067871\n",
      "Validation pearson is: nan\n",
      "Validation r2_score is: -0.12075236609102347\n",
      "-------------------------\n"
     ]
    },
    {
     "name": "stderr",
     "output_type": "stream",
     "text": [
      "/home/mbosnjak/.conda/envs/pero/lib/python3.7/site-packages/scipy/stats/stats.py:3399: PearsonRConstantInputWarning: An input array is constant; the correlation coefficent is not defined.\n",
      "  warnings.warn(PearsonRConstantInputWarning())\n"
     ]
    },
    {
     "name": "stdout",
     "output_type": "stream",
     "text": [
      "Epoch 65 end: 1.6211507320404053, TRAIN MSE is: 1142.67138671875\n",
      "Validation loss: 214454.4843750 - MSE score: 1026.0980225\n",
      "Validation pearson is: nan\n",
      "Validation r2_score is: -0.11736711484502171\n",
      "-------------------------\n"
     ]
    },
    {
     "name": "stderr",
     "output_type": "stream",
     "text": [
      "/home/mbosnjak/.conda/envs/pero/lib/python3.7/site-packages/scipy/stats/stats.py:3399: PearsonRConstantInputWarning: An input array is constant; the correlation coefficent is not defined.\n",
      "  warnings.warn(PearsonRConstantInputWarning())\n"
     ]
    },
    {
     "name": "stdout",
     "output_type": "stream",
     "text": [
      "Epoch 66 end: 1.6931612491607666, TRAIN MSE is: 1099.714111328125\n",
      "Validation loss: 213853.0468750 - MSE score: 1023.2203369\n",
      "Validation pearson is: nan\n",
      "Validation r2_score is: -0.11423344407760427\n",
      "-------------------------\n"
     ]
    },
    {
     "name": "stderr",
     "output_type": "stream",
     "text": [
      "/home/mbosnjak/.conda/envs/pero/lib/python3.7/site-packages/scipy/stats/stats.py:3399: PearsonRConstantInputWarning: An input array is constant; the correlation coefficent is not defined.\n",
      "  warnings.warn(PearsonRConstantInputWarning())\n"
     ]
    },
    {
     "name": "stdout",
     "output_type": "stream",
     "text": [
      "Epoch 67 end: 1.5779876708984375, TRAIN MSE is: 1071.7412109375\n",
      "Validation loss: 213249.8281250 - MSE score: 1020.3341675\n",
      "Validation pearson is: nan\n",
      "Validation r2_score is: -0.1110905350762732\n",
      "-------------------------\n"
     ]
    },
    {
     "name": "stderr",
     "output_type": "stream",
     "text": [
      "/home/mbosnjak/.conda/envs/pero/lib/python3.7/site-packages/scipy/stats/stats.py:3399: PearsonRConstantInputWarning: An input array is constant; the correlation coefficent is not defined.\n",
      "  warnings.warn(PearsonRConstantInputWarning())\n"
     ]
    },
    {
     "name": "stdout",
     "output_type": "stream",
     "text": [
      "Epoch 68 end: 1.587996006011963, TRAIN MSE is: 1088.6856689453125\n",
      "Validation loss: 212668.7968750 - MSE score: 1017.5539551\n",
      "Validation pearson is: nan\n",
      "Validation r2_score is: -0.10806313846050086\n",
      "-------------------------\n"
     ]
    },
    {
     "name": "stderr",
     "output_type": "stream",
     "text": [
      "/home/mbosnjak/.conda/envs/pero/lib/python3.7/site-packages/scipy/stats/stats.py:3399: PearsonRConstantInputWarning: An input array is constant; the correlation coefficent is not defined.\n",
      "  warnings.warn(PearsonRConstantInputWarning())\n"
     ]
    },
    {
     "name": "stdout",
     "output_type": "stream",
     "text": [
      "Epoch 69 end: 1.572697639465332, TRAIN MSE is: 1083.8363037109375\n",
      "Validation loss: 212132.2187500 - MSE score: 1014.9866943\n",
      "Validation pearson is: nan\n",
      "Validation r2_score is: -0.10526748381916584\n",
      "-------------------------\n"
     ]
    },
    {
     "name": "stderr",
     "output_type": "stream",
     "text": [
      "/home/mbosnjak/.conda/envs/pero/lib/python3.7/site-packages/scipy/stats/stats.py:3399: PearsonRConstantInputWarning: An input array is constant; the correlation coefficent is not defined.\n",
      "  warnings.warn(PearsonRConstantInputWarning())\n"
     ]
    },
    {
     "name": "stdout",
     "output_type": "stream",
     "text": [
      "Epoch 70 end: 1.4174633026123047, TRAIN MSE is: 1100.52685546875\n",
      "Validation loss: 211655.0312500 - MSE score: 1012.7034912\n",
      "Validation pearson is: nan\n",
      "Validation r2_score is: -0.10278121165373433\n",
      "-------------------------\n"
     ]
    },
    {
     "name": "stderr",
     "output_type": "stream",
     "text": [
      "/home/mbosnjak/.conda/envs/pero/lib/python3.7/site-packages/scipy/stats/stats.py:3399: PearsonRConstantInputWarning: An input array is constant; the correlation coefficent is not defined.\n",
      "  warnings.warn(PearsonRConstantInputWarning())\n"
     ]
    },
    {
     "name": "stdout",
     "output_type": "stream",
     "text": [
      "Epoch 71 end: 1.5472099781036377, TRAIN MSE is: 1091.4271240234375\n",
      "Validation loss: 211084.0468750 - MSE score: 1009.9714966\n",
      "Validation pearson is: nan\n",
      "Validation r2_score is: -0.0998062332347458\n",
      "-------------------------\n"
     ]
    },
    {
     "name": "stderr",
     "output_type": "stream",
     "text": [
      "/home/mbosnjak/.conda/envs/pero/lib/python3.7/site-packages/scipy/stats/stats.py:3399: PearsonRConstantInputWarning: An input array is constant; the correlation coefficent is not defined.\n",
      "  warnings.warn(PearsonRConstantInputWarning())\n"
     ]
    },
    {
     "name": "stdout",
     "output_type": "stream",
     "text": [
      "Epoch 72 end: 1.4426791667938232, TRAIN MSE is: 1105.7791748046875\n",
      "Validation loss: 210638.9843750 - MSE score: 1007.8421021\n",
      "Validation pearson is: nan\n",
      "Validation r2_score is: -0.09748734974253215\n",
      "-------------------------\n"
     ]
    },
    {
     "name": "stderr",
     "output_type": "stream",
     "text": [
      "/home/mbosnjak/.conda/envs/pero/lib/python3.7/site-packages/scipy/stats/stats.py:3399: PearsonRConstantInputWarning: An input array is constant; the correlation coefficent is not defined.\n",
      "  warnings.warn(PearsonRConstantInputWarning())\n"
     ]
    },
    {
     "name": "stdout",
     "output_type": "stream",
     "text": [
      "Epoch 73 end: 1.5196161270141602, TRAIN MSE is: 1072.9481201171875\n",
      "Validation loss: 210231.2031250 - MSE score: 1005.8909912\n",
      "Validation pearson is: nan\n",
      "Validation r2_score is: -0.09536262876083579\n",
      "-------------------------\n"
     ]
    },
    {
     "name": "stderr",
     "output_type": "stream",
     "text": [
      "/home/mbosnjak/.conda/envs/pero/lib/python3.7/site-packages/scipy/stats/stats.py:3399: PearsonRConstantInputWarning: An input array is constant; the correlation coefficent is not defined.\n",
      "  warnings.warn(PearsonRConstantInputWarning())\n"
     ]
    },
    {
     "name": "stdout",
     "output_type": "stream",
     "text": [
      "Epoch 74 end: 1.574192762374878, TRAIN MSE is: 1081.1571044921875\n",
      "Validation loss: 209799.3125000 - MSE score: 1003.8244629\n",
      "Validation pearson is: nan\n",
      "Validation r2_score is: -0.0931124156354417\n",
      "-------------------------\n"
     ]
    },
    {
     "name": "stderr",
     "output_type": "stream",
     "text": [
      "/home/mbosnjak/.conda/envs/pero/lib/python3.7/site-packages/scipy/stats/stats.py:3399: PearsonRConstantInputWarning: An input array is constant; the correlation coefficent is not defined.\n",
      "  warnings.warn(PearsonRConstantInputWarning())\n"
     ]
    },
    {
     "name": "stdout",
     "output_type": "stream",
     "text": [
      "Epoch 75 end: 1.5221772193908691, TRAIN MSE is: 1084.226318359375\n",
      "Validation loss: 209476.1093750 - MSE score: 1002.2781372\n",
      "Validation pearson is: nan\n",
      "Validation r2_score is: -0.0914283823856501\n",
      "-------------------------\n"
     ]
    },
    {
     "name": "stderr",
     "output_type": "stream",
     "text": [
      "/home/mbosnjak/.conda/envs/pero/lib/python3.7/site-packages/scipy/stats/stats.py:3399: PearsonRConstantInputWarning: An input array is constant; the correlation coefficent is not defined.\n",
      "  warnings.warn(PearsonRConstantInputWarning())\n"
     ]
    },
    {
     "name": "stdout",
     "output_type": "stream",
     "text": [
      "Epoch 76 end: 1.6520183086395264, TRAIN MSE is: 1123.38623046875\n",
      "Validation loss: 209241.8750000 - MSE score: 1001.1572876\n",
      "Validation pearson is: nan\n",
      "Validation r2_score is: -0.09020795962844175\n",
      "-------------------------\n"
     ]
    },
    {
     "name": "stderr",
     "output_type": "stream",
     "text": [
      "/home/mbosnjak/.conda/envs/pero/lib/python3.7/site-packages/scipy/stats/stats.py:3399: PearsonRConstantInputWarning: An input array is constant; the correlation coefficent is not defined.\n",
      "  warnings.warn(PearsonRConstantInputWarning())\n"
     ]
    },
    {
     "name": "stdout",
     "output_type": "stream",
     "text": [
      "Epoch 77 end: 1.6402661800384521, TRAIN MSE is: 1112.5028076171875\n",
      "Validation loss: 208969.9843750 - MSE score: 999.8564453\n",
      "Validation pearson is: nan\n",
      "Validation r2_score is: -0.08879137147961425\n",
      "-------------------------\n"
     ]
    },
    {
     "name": "stderr",
     "output_type": "stream",
     "text": [
      "/home/mbosnjak/.conda/envs/pero/lib/python3.7/site-packages/scipy/stats/stats.py:3399: PearsonRConstantInputWarning: An input array is constant; the correlation coefficent is not defined.\n",
      "  warnings.warn(PearsonRConstantInputWarning())\n"
     ]
    },
    {
     "name": "stdout",
     "output_type": "stream",
     "text": [
      "Epoch 78 end: 1.6200037002563477, TRAIN MSE is: 1090.9437255859375\n",
      "Validation loss: 208632.5937500 - MSE score: 998.2420044\n",
      "Validation pearson is: nan\n",
      "Validation r2_score is: -0.0870333901933229\n",
      "-------------------------\n"
     ]
    },
    {
     "name": "stderr",
     "output_type": "stream",
     "text": [
      "/home/mbosnjak/.conda/envs/pero/lib/python3.7/site-packages/scipy/stats/stats.py:3399: PearsonRConstantInputWarning: An input array is constant; the correlation coefficent is not defined.\n",
      "  warnings.warn(PearsonRConstantInputWarning())\n"
     ]
    },
    {
     "name": "stdout",
     "output_type": "stream",
     "text": [
      "Epoch 79 end: 1.5775580406188965, TRAIN MSE is: 1107.348388671875\n",
      "Validation loss: 208372.1250000 - MSE score: 996.9957886\n",
      "Validation pearson is: nan\n",
      "Validation r2_score is: -0.08567624451660882\n",
      "-------------------------\n"
     ]
    },
    {
     "name": "stderr",
     "output_type": "stream",
     "text": [
      "/home/mbosnjak/.conda/envs/pero/lib/python3.7/site-packages/scipy/stats/stats.py:3399: PearsonRConstantInputWarning: An input array is constant; the correlation coefficent is not defined.\n",
      "  warnings.warn(PearsonRConstantInputWarning())\n"
     ]
    },
    {
     "name": "stdout",
     "output_type": "stream",
     "text": [
      "Epoch 80 end: 1.5132060050964355, TRAIN MSE is: 1044.4974365234375\n",
      "Validation loss: 208029.6562500 - MSE score: 995.3571777\n",
      "Validation pearson is: nan\n",
      "Validation r2_score is: -0.08389199853525442\n",
      "-------------------------\n"
     ]
    },
    {
     "name": "stderr",
     "output_type": "stream",
     "text": [
      "/home/mbosnjak/.conda/envs/pero/lib/python3.7/site-packages/scipy/stats/stats.py:3399: PearsonRConstantInputWarning: An input array is constant; the correlation coefficent is not defined.\n",
      "  warnings.warn(PearsonRConstantInputWarning())\n"
     ]
    },
    {
     "name": "stdout",
     "output_type": "stream",
     "text": [
      "Epoch 81 end: 1.589200496673584, TRAIN MSE is: 1081.98681640625\n",
      "Validation loss: 207774.4843750 - MSE score: 994.1363525\n",
      "Validation pearson is: nan\n",
      "Validation r2_score is: -0.08256250645590169\n",
      "-------------------------\n"
     ]
    },
    {
     "name": "stderr",
     "output_type": "stream",
     "text": [
      "/home/mbosnjak/.conda/envs/pero/lib/python3.7/site-packages/scipy/stats/stats.py:3399: PearsonRConstantInputWarning: An input array is constant; the correlation coefficent is not defined.\n",
      "  warnings.warn(PearsonRConstantInputWarning())\n"
     ]
    },
    {
     "name": "stdout",
     "output_type": "stream",
     "text": [
      "Epoch 82 end: 1.536520004272461, TRAIN MSE is: 1064.4114990234375\n",
      "Validation loss: 207378.1250000 - MSE score: 992.2398071\n",
      "Validation pearson is: nan\n",
      "Validation r2_score is: -0.08049728388590327\n",
      "-------------------------\n"
     ]
    },
    {
     "name": "stderr",
     "output_type": "stream",
     "text": [
      "/home/mbosnjak/.conda/envs/pero/lib/python3.7/site-packages/scipy/stats/stats.py:3399: PearsonRConstantInputWarning: An input array is constant; the correlation coefficent is not defined.\n",
      "  warnings.warn(PearsonRConstantInputWarning())\n"
     ]
    },
    {
     "name": "stdout",
     "output_type": "stream",
     "text": [
      "Epoch 83 end: 1.5487322807312012, TRAIN MSE is: 1084.56689453125\n",
      "Validation loss: 207061.8593750 - MSE score: 990.7265015\n",
      "Validation pearson is: nan\n",
      "Validation r2_score is: -0.07884945200744231\n",
      "-------------------------\n"
     ]
    },
    {
     "name": "stderr",
     "output_type": "stream",
     "text": [
      "/home/mbosnjak/.conda/envs/pero/lib/python3.7/site-packages/scipy/stats/stats.py:3399: PearsonRConstantInputWarning: An input array is constant; the correlation coefficent is not defined.\n",
      "  warnings.warn(PearsonRConstantInputWarning())\n"
     ]
    },
    {
     "name": "stdout",
     "output_type": "stream",
     "text": [
      "Epoch 84 end: 1.5800933837890625, TRAIN MSE is: 1089.2841796875\n",
      "Validation loss: 206750.2500000 - MSE score: 989.2356567\n",
      "Validation pearson is: nan\n",
      "Validation r2_score is: -0.07722594397678728\n",
      "-------------------------\n"
     ]
    },
    {
     "name": "stderr",
     "output_type": "stream",
     "text": [
      "/home/mbosnjak/.conda/envs/pero/lib/python3.7/site-packages/scipy/stats/stats.py:3399: PearsonRConstantInputWarning: An input array is constant; the correlation coefficent is not defined.\n",
      "  warnings.warn(PearsonRConstantInputWarning())\n"
     ]
    },
    {
     "name": "stdout",
     "output_type": "stream",
     "text": [
      "Epoch 85 end: 1.6270413398742676, TRAIN MSE is: 1103.443359375\n",
      "Validation loss: 206510.3125000 - MSE score: 988.0876465\n",
      "Validation pearson is: nan\n",
      "Validation r2_score is: -0.07597573301090965\n",
      "-------------------------\n"
     ]
    },
    {
     "name": "stderr",
     "output_type": "stream",
     "text": [
      "/home/mbosnjak/.conda/envs/pero/lib/python3.7/site-packages/scipy/stats/stats.py:3399: PearsonRConstantInputWarning: An input array is constant; the correlation coefficent is not defined.\n",
      "  warnings.warn(PearsonRConstantInputWarning())\n"
     ]
    },
    {
     "name": "stdout",
     "output_type": "stream",
     "text": [
      "Epoch 86 end: 1.618896484375, TRAIN MSE is: 1048.3575439453125\n",
      "Validation loss: 206251.8906250 - MSE score: 986.8511963\n",
      "Validation pearson is: nan\n",
      "Validation r2_score is: -0.07462936270116827\n",
      "-------------------------\n"
     ]
    },
    {
     "name": "stderr",
     "output_type": "stream",
     "text": [
      "/home/mbosnjak/.conda/envs/pero/lib/python3.7/site-packages/scipy/stats/stats.py:3399: PearsonRConstantInputWarning: An input array is constant; the correlation coefficent is not defined.\n",
      "  warnings.warn(PearsonRConstantInputWarning())\n"
     ]
    },
    {
     "name": "stdout",
     "output_type": "stream",
     "text": [
      "Epoch 87 end: 1.6226606369018555, TRAIN MSE is: 1117.507568359375\n",
      "Validation loss: 206073.1406250 - MSE score: 985.9959717\n",
      "Validation pearson is: nan\n",
      "Validation r2_score is: -0.07369801119743946\n",
      "-------------------------\n"
     ]
    },
    {
     "name": "stderr",
     "output_type": "stream",
     "text": [
      "/home/mbosnjak/.conda/envs/pero/lib/python3.7/site-packages/scipy/stats/stats.py:3399: PearsonRConstantInputWarning: An input array is constant; the correlation coefficent is not defined.\n",
      "  warnings.warn(PearsonRConstantInputWarning())\n"
     ]
    },
    {
     "name": "stdout",
     "output_type": "stream",
     "text": [
      "Epoch 88 end: 1.5129461288452148, TRAIN MSE is: 1064.9005126953125\n",
      "Validation loss: 205855.0937500 - MSE score: 984.9525757\n",
      "Validation pearson is: nan\n",
      "Validation r2_score is: -0.07256191038785853\n",
      "-------------------------\n"
     ]
    },
    {
     "name": "stderr",
     "output_type": "stream",
     "text": [
      "/home/mbosnjak/.conda/envs/pero/lib/python3.7/site-packages/scipy/stats/stats.py:3399: PearsonRConstantInputWarning: An input array is constant; the correlation coefficent is not defined.\n",
      "  warnings.warn(PearsonRConstantInputWarning())\n"
     ]
    },
    {
     "name": "stdout",
     "output_type": "stream",
     "text": [
      "Epoch 89 end: 1.531238079071045, TRAIN MSE is: 1078.4979248046875\n",
      "Validation loss: 205587.8281250 - MSE score: 983.6738281\n",
      "Validation pearson is: nan\n",
      "Validation r2_score is: -0.07116937069549678\n",
      "-------------------------\n"
     ]
    },
    {
     "name": "stderr",
     "output_type": "stream",
     "text": [
      "/home/mbosnjak/.conda/envs/pero/lib/python3.7/site-packages/scipy/stats/stats.py:3399: PearsonRConstantInputWarning: An input array is constant; the correlation coefficent is not defined.\n",
      "  warnings.warn(PearsonRConstantInputWarning())\n"
     ]
    },
    {
     "name": "stdout",
     "output_type": "stream",
     "text": [
      "Epoch 90 end: 1.5938642024993896, TRAIN MSE is: 1093.6927490234375\n",
      "Validation loss: 205344.3125000 - MSE score: 982.5086670\n",
      "Validation pearson is: nan\n",
      "Validation r2_score is: -0.06990062465019964\n",
      "-------------------------\n"
     ]
    },
    {
     "name": "stderr",
     "output_type": "stream",
     "text": [
      "/home/mbosnjak/.conda/envs/pero/lib/python3.7/site-packages/scipy/stats/stats.py:3399: PearsonRConstantInputWarning: An input array is constant; the correlation coefficent is not defined.\n",
      "  warnings.warn(PearsonRConstantInputWarning())\n"
     ]
    },
    {
     "name": "stdout",
     "output_type": "stream",
     "text": [
      "Epoch 91 end: 1.5215861797332764, TRAIN MSE is: 1071.5208740234375\n",
      "Validation loss: 205250.4375000 - MSE score: 982.0595703\n",
      "Validation pearson is: nan\n",
      "Validation r2_score is: -0.06941154453356058\n",
      "-------------------------\n"
     ]
    },
    {
     "name": "stderr",
     "output_type": "stream",
     "text": [
      "/home/mbosnjak/.conda/envs/pero/lib/python3.7/site-packages/scipy/stats/stats.py:3399: PearsonRConstantInputWarning: An input array is constant; the correlation coefficent is not defined.\n",
      "  warnings.warn(PearsonRConstantInputWarning())\n"
     ]
    },
    {
     "name": "stdout",
     "output_type": "stream",
     "text": [
      "Epoch 92 end: 1.603025197982788, TRAIN MSE is: 1111.0716552734375\n",
      "Validation loss: 205172.8125000 - MSE score: 981.6881104\n",
      "Validation pearson is: nan\n",
      "Validation r2_score is: -0.06900702277433557\n",
      "-------------------------\n"
     ]
    },
    {
     "name": "stderr",
     "output_type": "stream",
     "text": [
      "/home/mbosnjak/.conda/envs/pero/lib/python3.7/site-packages/scipy/stats/stats.py:3399: PearsonRConstantInputWarning: An input array is constant; the correlation coefficent is not defined.\n",
      "  warnings.warn(PearsonRConstantInputWarning())\n"
     ]
    },
    {
     "name": "stdout",
     "output_type": "stream",
     "text": [
      "Epoch 93 end: 1.7425389289855957, TRAIN MSE is: 1009.9169311523438\n",
      "Validation loss: 205000.6875000 - MSE score: 980.8645630\n",
      "Validation pearson is: nan\n",
      "Validation r2_score is: -0.06811020708666593\n",
      "-------------------------\n"
     ]
    },
    {
     "name": "stderr",
     "output_type": "stream",
     "text": [
      "/home/mbosnjak/.conda/envs/pero/lib/python3.7/site-packages/scipy/stats/stats.py:3399: PearsonRConstantInputWarning: An input array is constant; the correlation coefficent is not defined.\n",
      "  warnings.warn(PearsonRConstantInputWarning())\n"
     ]
    },
    {
     "name": "stdout",
     "output_type": "stream",
     "text": [
      "Epoch 94 end: 1.5239324569702148, TRAIN MSE is: 1039.07861328125\n",
      "Validation loss: 204754.2343750 - MSE score: 979.6853027\n",
      "Validation pearson is: nan\n",
      "Validation r2_score is: -0.06682611992295318\n",
      "-------------------------\n"
     ]
    },
    {
     "name": "stderr",
     "output_type": "stream",
     "text": [
      "/home/mbosnjak/.conda/envs/pero/lib/python3.7/site-packages/scipy/stats/stats.py:3399: PearsonRConstantInputWarning: An input array is constant; the correlation coefficent is not defined.\n",
      "  warnings.warn(PearsonRConstantInputWarning())\n"
     ]
    },
    {
     "name": "stdout",
     "output_type": "stream",
     "text": [
      "Epoch 95 end: 1.4864788055419922, TRAIN MSE is: 1099.34130859375\n",
      "Validation loss: 204649.1562500 - MSE score: 979.1825562\n",
      "Validation pearson is: nan\n",
      "Validation r2_score is: -0.06627862268702289\n",
      "-------------------------\n"
     ]
    },
    {
     "name": "stderr",
     "output_type": "stream",
     "text": [
      "/home/mbosnjak/.conda/envs/pero/lib/python3.7/site-packages/scipy/stats/stats.py:3399: PearsonRConstantInputWarning: An input array is constant; the correlation coefficent is not defined.\n",
      "  warnings.warn(PearsonRConstantInputWarning())\n"
     ]
    },
    {
     "name": "stdout",
     "output_type": "stream",
     "text": [
      "Epoch 96 end: 1.5785810947418213, TRAIN MSE is: 1000.2902221679688\n",
      "Validation loss: 204446.9062500 - MSE score: 978.2148438\n",
      "Validation pearson is: nan\n",
      "Validation r2_score is: -0.06522485898814678\n",
      "-------------------------\n"
     ]
    },
    {
     "name": "stderr",
     "output_type": "stream",
     "text": [
      "/home/mbosnjak/.conda/envs/pero/lib/python3.7/site-packages/scipy/stats/stats.py:3399: PearsonRConstantInputWarning: An input array is constant; the correlation coefficent is not defined.\n",
      "  warnings.warn(PearsonRConstantInputWarning())\n"
     ]
    },
    {
     "name": "stdout",
     "output_type": "stream",
     "text": [
      "Epoch 97 end: 1.701781988143921, TRAIN MSE is: 1058.645751953125\n",
      "Validation loss: 204287.2656250 - MSE score: 977.4509277\n",
      "Validation pearson is: nan\n",
      "Validation r2_score is: -0.06439301359266647\n",
      "-------------------------\n"
     ]
    },
    {
     "name": "stderr",
     "output_type": "stream",
     "text": [
      "/home/mbosnjak/.conda/envs/pero/lib/python3.7/site-packages/scipy/stats/stats.py:3399: PearsonRConstantInputWarning: An input array is constant; the correlation coefficent is not defined.\n",
      "  warnings.warn(PearsonRConstantInputWarning())\n"
     ]
    },
    {
     "name": "stdout",
     "output_type": "stream",
     "text": [
      "Epoch 98 end: 1.8358268737792969, TRAIN MSE is: 1087.96484375\n",
      "Validation loss: 204151.2500000 - MSE score: 976.8001709\n",
      "Validation pearson is: nan\n",
      "Validation r2_score is: -0.06368438748661043\n",
      "-------------------------\n"
     ]
    },
    {
     "name": "stderr",
     "output_type": "stream",
     "text": [
      "/home/mbosnjak/.conda/envs/pero/lib/python3.7/site-packages/scipy/stats/stats.py:3399: PearsonRConstantInputWarning: An input array is constant; the correlation coefficent is not defined.\n",
      "  warnings.warn(PearsonRConstantInputWarning())\n"
     ]
    },
    {
     "name": "stdout",
     "output_type": "stream",
     "text": [
      "Epoch 99 end: 1.5361404418945312, TRAIN MSE is: 1068.009521484375\n",
      "Validation loss: 203963.3437500 - MSE score: 975.9011841\n",
      "Validation pearson is: nan\n",
      "Validation r2_score is: -0.06270540557502313\n",
      "-------------------------\n"
     ]
    },
    {
     "name": "stderr",
     "output_type": "stream",
     "text": [
      "/home/mbosnjak/.conda/envs/pero/lib/python3.7/site-packages/scipy/stats/stats.py:3399: PearsonRConstantInputWarning: An input array is constant; the correlation coefficent is not defined.\n",
      "  warnings.warn(PearsonRConstantInputWarning())\n"
     ]
    },
    {
     "name": "stdout",
     "output_type": "stream",
     "text": [
      "Epoch 100 end: 1.592151403427124, TRAIN MSE is: 1051.17431640625\n",
      "Validation loss: 203767.9843750 - MSE score: 974.9663696\n",
      "Validation pearson is: nan\n",
      "Validation r2_score is: -0.061687409976114216\n",
      "-------------------------\n"
     ]
    },
    {
     "name": "stderr",
     "output_type": "stream",
     "text": [
      "/home/mbosnjak/.conda/envs/pero/lib/python3.7/site-packages/scipy/stats/stats.py:3399: PearsonRConstantInputWarning: An input array is constant; the correlation coefficent is not defined.\n",
      "  warnings.warn(PearsonRConstantInputWarning())\n"
     ]
    },
    {
     "name": "stdout",
     "output_type": "stream",
     "text": [
      "Epoch 101 end: 1.6528558731079102, TRAIN MSE is: 1078.2655029296875\n",
      "Validation loss: 203673.5625000 - MSE score: 974.5147095\n",
      "Validation pearson is: nan\n",
      "Validation r2_score is: -0.06119561187955025\n",
      "-------------------------\n"
     ]
    },
    {
     "name": "stderr",
     "output_type": "stream",
     "text": [
      "/home/mbosnjak/.conda/envs/pero/lib/python3.7/site-packages/scipy/stats/stats.py:3399: PearsonRConstantInputWarning: An input array is constant; the correlation coefficent is not defined.\n",
      "  warnings.warn(PearsonRConstantInputWarning())\n"
     ]
    },
    {
     "name": "stdout",
     "output_type": "stream",
     "text": [
      "Epoch 102 end: 1.6457734107971191, TRAIN MSE is: 1079.9510498046875\n",
      "Validation loss: 203564.9218750 - MSE score: 973.9949341\n",
      "Validation pearson is: nan\n",
      "Validation r2_score is: -0.06062947007112962\n",
      "-------------------------\n"
     ]
    },
    {
     "name": "stderr",
     "output_type": "stream",
     "text": [
      "/home/mbosnjak/.conda/envs/pero/lib/python3.7/site-packages/scipy/stats/stats.py:3399: PearsonRConstantInputWarning: An input array is constant; the correlation coefficent is not defined.\n",
      "  warnings.warn(PearsonRConstantInputWarning())\n"
     ]
    },
    {
     "name": "stdout",
     "output_type": "stream",
     "text": [
      "Epoch 103 end: 1.555527925491333, TRAIN MSE is: 1062.7281494140625\n",
      "Validation loss: 203450.1562500 - MSE score: 973.4457397\n",
      "Validation pearson is: nan\n",
      "Validation r2_score is: -0.060031464987961636\n",
      "-------------------------\n"
     ]
    },
    {
     "name": "stderr",
     "output_type": "stream",
     "text": [
      "/home/mbosnjak/.conda/envs/pero/lib/python3.7/site-packages/scipy/stats/stats.py:3399: PearsonRConstantInputWarning: An input array is constant; the correlation coefficent is not defined.\n",
      "  warnings.warn(PearsonRConstantInputWarning())\n"
     ]
    },
    {
     "name": "stdout",
     "output_type": "stream",
     "text": [
      "Epoch 104 end: 1.5385737419128418, TRAIN MSE is: 1056.7811279296875\n",
      "Validation loss: 203345.2656250 - MSE score: 972.9438477\n",
      "Validation pearson is: nan\n",
      "Validation r2_score is: -0.0594850317573381\n",
      "-------------------------\n"
     ]
    },
    {
     "name": "stderr",
     "output_type": "stream",
     "text": [
      "/home/mbosnjak/.conda/envs/pero/lib/python3.7/site-packages/scipy/stats/stats.py:3399: PearsonRConstantInputWarning: An input array is constant; the correlation coefficent is not defined.\n",
      "  warnings.warn(PearsonRConstantInputWarning())\n"
     ]
    },
    {
     "name": "stdout",
     "output_type": "stream",
     "text": [
      "Epoch 105 end: 1.5948524475097656, TRAIN MSE is: 1045.6734619140625\n",
      "Validation loss: 203299.7031250 - MSE score: 972.7259521\n",
      "Validation pearson is: nan\n",
      "Validation r2_score is: -0.059247656474605837\n",
      "-------------------------\n"
     ]
    },
    {
     "name": "stderr",
     "output_type": "stream",
     "text": [
      "/home/mbosnjak/.conda/envs/pero/lib/python3.7/site-packages/scipy/stats/stats.py:3399: PearsonRConstantInputWarning: An input array is constant; the correlation coefficent is not defined.\n",
      "  warnings.warn(PearsonRConstantInputWarning())\n"
     ]
    },
    {
     "name": "stdout",
     "output_type": "stream",
     "text": [
      "Epoch 106 end: 1.594848871231079, TRAIN MSE is: 1083.16259765625\n",
      "Validation loss: 203190.6875000 - MSE score: 972.2042236\n",
      "Validation pearson is: nan\n",
      "Validation r2_score is: -0.05867963761068795\n",
      "-------------------------\n"
     ]
    },
    {
     "name": "stderr",
     "output_type": "stream",
     "text": [
      "/home/mbosnjak/.conda/envs/pero/lib/python3.7/site-packages/scipy/stats/stats.py:3399: PearsonRConstantInputWarning: An input array is constant; the correlation coefficent is not defined.\n",
      "  warnings.warn(PearsonRConstantInputWarning())\n"
     ]
    },
    {
     "name": "stdout",
     "output_type": "stream",
     "text": [
      "Epoch 107 end: 1.5925023555755615, TRAIN MSE is: 1098.2886962890625\n",
      "Validation loss: 203169.6250000 - MSE score: 972.1033936\n",
      "Validation pearson is: nan\n",
      "Validation r2_score is: -0.05856979195043732\n",
      "-------------------------\n"
     ]
    },
    {
     "name": "stderr",
     "output_type": "stream",
     "text": [
      "/home/mbosnjak/.conda/envs/pero/lib/python3.7/site-packages/scipy/stats/stats.py:3399: PearsonRConstantInputWarning: An input array is constant; the correlation coefficent is not defined.\n",
      "  warnings.warn(PearsonRConstantInputWarning())\n"
     ]
    },
    {
     "name": "stdout",
     "output_type": "stream",
     "text": [
      "Epoch 108 end: 1.5882322788238525, TRAIN MSE is: 1077.2938232421875\n",
      "Validation loss: 203109.6250000 - MSE score: 971.8164062\n",
      "Validation pearson is: nan\n",
      "Validation r2_score is: -0.05825729671486224\n",
      "-------------------------\n"
     ]
    },
    {
     "name": "stderr",
     "output_type": "stream",
     "text": [
      "/home/mbosnjak/.conda/envs/pero/lib/python3.7/site-packages/scipy/stats/stats.py:3399: PearsonRConstantInputWarning: An input array is constant; the correlation coefficent is not defined.\n",
      "  warnings.warn(PearsonRConstantInputWarning())\n"
     ]
    },
    {
     "name": "stdout",
     "output_type": "stream",
     "text": [
      "Epoch 109 end: 1.571397066116333, TRAIN MSE is: 1047.4921875\n",
      "Validation loss: 203005.9843750 - MSE score: 971.3205566\n",
      "Validation pearson is: nan\n",
      "Validation r2_score is: -0.057717324714972484\n",
      "-------------------------\n"
     ]
    },
    {
     "name": "stderr",
     "output_type": "stream",
     "text": [
      "/home/mbosnjak/.conda/envs/pero/lib/python3.7/site-packages/scipy/stats/stats.py:3399: PearsonRConstantInputWarning: An input array is constant; the correlation coefficent is not defined.\n",
      "  warnings.warn(PearsonRConstantInputWarning())\n"
     ]
    },
    {
     "name": "stdout",
     "output_type": "stream",
     "text": [
      "Epoch 110 end: 1.5786468982696533, TRAIN MSE is: 1048.2841796875\n",
      "Validation loss: 202982.9687500 - MSE score: 971.2103882\n",
      "Validation pearson is: nan\n",
      "Validation r2_score is: -0.05759738341977738\n",
      "-------------------------\n"
     ]
    },
    {
     "name": "stderr",
     "output_type": "stream",
     "text": [
      "/home/mbosnjak/.conda/envs/pero/lib/python3.7/site-packages/scipy/stats/stats.py:3399: PearsonRConstantInputWarning: An input array is constant; the correlation coefficent is not defined.\n",
      "  warnings.warn(PearsonRConstantInputWarning())\n"
     ]
    },
    {
     "name": "stdout",
     "output_type": "stream",
     "text": [
      "Epoch 111 end: 1.7082338333129883, TRAIN MSE is: 1080.6727294921875\n",
      "Validation loss: 202959.0781250 - MSE score: 971.0961304\n",
      "Validation pearson is: nan\n",
      "Validation r2_score is: -0.05747286380784211\n",
      "-------------------------\n"
     ]
    },
    {
     "name": "stderr",
     "output_type": "stream",
     "text": [
      "/home/mbosnjak/.conda/envs/pero/lib/python3.7/site-packages/scipy/stats/stats.py:3399: PearsonRConstantInputWarning: An input array is constant; the correlation coefficent is not defined.\n",
      "  warnings.warn(PearsonRConstantInputWarning())\n"
     ]
    },
    {
     "name": "stdout",
     "output_type": "stream",
     "text": [
      "Epoch 112 end: 1.5860254764556885, TRAIN MSE is: 1071.307373046875\n",
      "Validation loss: 202985.5000000 - MSE score: 971.2224731\n",
      "Validation pearson is: nan\n",
      "Validation r2_score is: -0.05761052422012769\n",
      "-------------------------\n"
     ]
    },
    {
     "name": "stderr",
     "output_type": "stream",
     "text": [
      "/home/mbosnjak/.conda/envs/pero/lib/python3.7/site-packages/scipy/stats/stats.py:3399: PearsonRConstantInputWarning: An input array is constant; the correlation coefficent is not defined.\n",
      "  warnings.warn(PearsonRConstantInputWarning())\n"
     ]
    },
    {
     "name": "stdout",
     "output_type": "stream",
     "text": [
      "Epoch 113 end: 1.697033166885376, TRAIN MSE is: 1015.5771484375\n",
      "Validation loss: 202857.0468750 - MSE score: 970.6079712\n",
      "Validation pearson is: nan\n",
      "Validation r2_score is: -0.056941278440868937\n",
      "-------------------------\n"
     ]
    },
    {
     "name": "stderr",
     "output_type": "stream",
     "text": [
      "/home/mbosnjak/.conda/envs/pero/lib/python3.7/site-packages/scipy/stats/stats.py:3399: PearsonRConstantInputWarning: An input array is constant; the correlation coefficent is not defined.\n",
      "  warnings.warn(PearsonRConstantInputWarning())\n"
     ]
    },
    {
     "name": "stdout",
     "output_type": "stream",
     "text": [
      "Epoch 114 end: 1.589369535446167, TRAIN MSE is: 1061.8236083984375\n",
      "Validation loss: 202747.5625000 - MSE score: 970.0840454\n",
      "Validation pearson is: nan\n",
      "Validation r2_score is: -0.05637079949649948\n",
      "-------------------------\n"
     ]
    },
    {
     "name": "stderr",
     "output_type": "stream",
     "text": [
      "/home/mbosnjak/.conda/envs/pero/lib/python3.7/site-packages/scipy/stats/stats.py:3399: PearsonRConstantInputWarning: An input array is constant; the correlation coefficent is not defined.\n",
      "  warnings.warn(PearsonRConstantInputWarning())\n"
     ]
    },
    {
     "name": "stdout",
     "output_type": "stream",
     "text": [
      "Epoch 115 end: 1.6128966808319092, TRAIN MSE is: 1022.714111328125\n",
      "Validation loss: 202666.2968750 - MSE score: 969.6951904\n",
      "Validation pearson is: nan\n",
      "Validation r2_score is: -0.05594735289984487\n",
      "-------------------------\n"
     ]
    },
    {
     "name": "stderr",
     "output_type": "stream",
     "text": [
      "/home/mbosnjak/.conda/envs/pero/lib/python3.7/site-packages/scipy/stats/stats.py:3399: PearsonRConstantInputWarning: An input array is constant; the correlation coefficent is not defined.\n",
      "  warnings.warn(PearsonRConstantInputWarning())\n"
     ]
    },
    {
     "name": "stdout",
     "output_type": "stream",
     "text": [
      "Epoch 116 end: 1.6426537036895752, TRAIN MSE is: 1071.6334228515625\n",
      "Validation loss: 202638.2968750 - MSE score: 969.5611572\n",
      "Validation pearson is: nan\n",
      "Validation r2_score is: -0.05580145906614331\n",
      "-------------------------\n"
     ]
    },
    {
     "name": "stderr",
     "output_type": "stream",
     "text": [
      "/home/mbosnjak/.conda/envs/pero/lib/python3.7/site-packages/scipy/stats/stats.py:3399: PearsonRConstantInputWarning: An input array is constant; the correlation coefficent is not defined.\n",
      "  warnings.warn(PearsonRConstantInputWarning())\n"
     ]
    },
    {
     "name": "stdout",
     "output_type": "stream",
     "text": [
      "Epoch 117 end: 1.577965259552002, TRAIN MSE is: 1080.8087158203125\n",
      "Validation loss: 202517.5468750 - MSE score: 968.9834595\n",
      "Validation pearson is: nan\n",
      "Validation r2_score is: -0.05517237763739069\n",
      "-------------------------\n"
     ]
    },
    {
     "name": "stderr",
     "output_type": "stream",
     "text": [
      "/home/mbosnjak/.conda/envs/pero/lib/python3.7/site-packages/scipy/stats/stats.py:3399: PearsonRConstantInputWarning: An input array is constant; the correlation coefficent is not defined.\n",
      "  warnings.warn(PearsonRConstantInputWarning())\n"
     ]
    },
    {
     "name": "stdout",
     "output_type": "stream",
     "text": [
      "Epoch 118 end: 1.5713257789611816, TRAIN MSE is: 1052.652099609375\n",
      "Validation loss: 202461.9843750 - MSE score: 968.7175293\n",
      "Validation pearson is: nan\n",
      "Validation r2_score is: -0.05488285738154963\n",
      "-------------------------\n"
     ]
    },
    {
     "name": "stderr",
     "output_type": "stream",
     "text": [
      "/home/mbosnjak/.conda/envs/pero/lib/python3.7/site-packages/scipy/stats/stats.py:3399: PearsonRConstantInputWarning: An input array is constant; the correlation coefficent is not defined.\n",
      "  warnings.warn(PearsonRConstantInputWarning())\n"
     ]
    },
    {
     "name": "stdout",
     "output_type": "stream",
     "text": [
      "Epoch 119 end: 1.6064493656158447, TRAIN MSE is: 1084.6783447265625\n",
      "Validation loss: 202327.0156250 - MSE score: 968.0717773\n",
      "Validation pearson is: nan\n",
      "Validation r2_score is: -0.054179561680629096\n",
      "-------------------------\n"
     ]
    },
    {
     "name": "stderr",
     "output_type": "stream",
     "text": [
      "/home/mbosnjak/.conda/envs/pero/lib/python3.7/site-packages/scipy/stats/stats.py:3399: PearsonRConstantInputWarning: An input array is constant; the correlation coefficent is not defined.\n",
      "  warnings.warn(PearsonRConstantInputWarning())\n"
     ]
    },
    {
     "name": "stdout",
     "output_type": "stream",
     "text": [
      "Epoch 120 end: 1.7805650234222412, TRAIN MSE is: 1044.026123046875\n",
      "Validation loss: 202239.8750000 - MSE score: 967.6549072\n",
      "Validation pearson is: nan\n",
      "Validation r2_score is: -0.05372561372598206\n",
      "-------------------------\n"
     ]
    },
    {
     "name": "stderr",
     "output_type": "stream",
     "text": [
      "/home/mbosnjak/.conda/envs/pero/lib/python3.7/site-packages/scipy/stats/stats.py:3399: PearsonRConstantInputWarning: An input array is constant; the correlation coefficent is not defined.\n",
      "  warnings.warn(PearsonRConstantInputWarning())\n"
     ]
    },
    {
     "name": "stdout",
     "output_type": "stream",
     "text": [
      "Epoch 121 end: 1.530778408050537, TRAIN MSE is: 1023.4397583007812\n",
      "Validation loss: 202132.3750000 - MSE score: 967.1405640\n",
      "Validation pearson is: nan\n",
      "Validation r2_score is: -0.05316554610622015\n",
      "-------------------------\n"
     ]
    },
    {
     "name": "stderr",
     "output_type": "stream",
     "text": [
      "/home/mbosnjak/.conda/envs/pero/lib/python3.7/site-packages/scipy/stats/stats.py:3399: PearsonRConstantInputWarning: An input array is constant; the correlation coefficent is not defined.\n",
      "  warnings.warn(PearsonRConstantInputWarning())\n"
     ]
    },
    {
     "name": "stdout",
     "output_type": "stream",
     "text": [
      "Epoch 122 end: 1.595276117324829, TRAIN MSE is: 1022.84716796875\n",
      "Validation loss: 201987.9531250 - MSE score: 966.4495239\n",
      "Validation pearson is: nan\n",
      "Validation r2_score is: -0.05241300464019494\n",
      "-------------------------\n"
     ]
    },
    {
     "name": "stderr",
     "output_type": "stream",
     "text": [
      "/home/mbosnjak/.conda/envs/pero/lib/python3.7/site-packages/scipy/stats/stats.py:3399: PearsonRConstantInputWarning: An input array is constant; the correlation coefficent is not defined.\n",
      "  warnings.warn(PearsonRConstantInputWarning())\n"
     ]
    },
    {
     "name": "stdout",
     "output_type": "stream",
     "text": [
      "Epoch 123 end: 1.5390126705169678, TRAIN MSE is: 1060.7127685546875\n",
      "Validation loss: 201912.6875000 - MSE score: 966.0894165\n",
      "Validation pearson is: nan\n",
      "Validation r2_score is: -0.05202085766752762\n",
      "-------------------------\n"
     ]
    },
    {
     "name": "stderr",
     "output_type": "stream",
     "text": [
      "/home/mbosnjak/.conda/envs/pero/lib/python3.7/site-packages/scipy/stats/stats.py:3399: PearsonRConstantInputWarning: An input array is constant; the correlation coefficent is not defined.\n",
      "  warnings.warn(PearsonRConstantInputWarning())\n"
     ]
    },
    {
     "name": "stdout",
     "output_type": "stream",
     "text": [
      "Epoch 124 end: 1.5221498012542725, TRAIN MSE is: 1063.8292236328125\n",
      "Validation loss: 201885.3906250 - MSE score: 965.9588013\n",
      "Validation pearson is: nan\n",
      "Validation r2_score is: -0.051878640988296976\n",
      "-------------------------\n"
     ]
    },
    {
     "name": "stderr",
     "output_type": "stream",
     "text": [
      "/home/mbosnjak/.conda/envs/pero/lib/python3.7/site-packages/scipy/stats/stats.py:3399: PearsonRConstantInputWarning: An input array is constant; the correlation coefficent is not defined.\n",
      "  warnings.warn(PearsonRConstantInputWarning())\n"
     ]
    },
    {
     "name": "stdout",
     "output_type": "stream",
     "text": [
      "Epoch 125 end: 1.540799617767334, TRAIN MSE is: 1036.17626953125\n",
      "Validation loss: 201770.7031250 - MSE score: 965.4101562\n",
      "Validation pearson is: nan\n",
      "Validation r2_score is: -0.05128114858961941\n",
      "-------------------------\n"
     ]
    },
    {
     "name": "stderr",
     "output_type": "stream",
     "text": [
      "/home/mbosnjak/.conda/envs/pero/lib/python3.7/site-packages/scipy/stats/stats.py:3399: PearsonRConstantInputWarning: An input array is constant; the correlation coefficent is not defined.\n",
      "  warnings.warn(PearsonRConstantInputWarning())\n"
     ]
    },
    {
     "name": "stdout",
     "output_type": "stream",
     "text": [
      "Epoch 126 end: 1.5817852020263672, TRAIN MSE is: 1066.3597412109375\n",
      "Validation loss: 201645.3906250 - MSE score: 964.8105469\n",
      "Validation pearson is: nan\n",
      "Validation r2_score is: -0.050628238116737334\n",
      "-------------------------\n"
     ]
    },
    {
     "name": "stderr",
     "output_type": "stream",
     "text": [
      "/home/mbosnjak/.conda/envs/pero/lib/python3.7/site-packages/scipy/stats/stats.py:3399: PearsonRConstantInputWarning: An input array is constant; the correlation coefficent is not defined.\n",
      "  warnings.warn(PearsonRConstantInputWarning())\n"
     ]
    },
    {
     "name": "stdout",
     "output_type": "stream",
     "text": [
      "Epoch 127 end: 1.513129711151123, TRAIN MSE is: 1052.4921875\n",
      "Validation loss: 201652.8750000 - MSE score: 964.8463135\n",
      "Validation pearson is: nan\n",
      "Validation r2_score is: -0.05066722654058009\n",
      "-------------------------\n"
     ]
    },
    {
     "name": "stderr",
     "output_type": "stream",
     "text": [
      "/home/mbosnjak/.conda/envs/pero/lib/python3.7/site-packages/scipy/stats/stats.py:3399: PearsonRConstantInputWarning: An input array is constant; the correlation coefficent is not defined.\n",
      "  warnings.warn(PearsonRConstantInputWarning())\n"
     ]
    },
    {
     "name": "stdout",
     "output_type": "stream",
     "text": [
      "Epoch 128 end: 1.5284411907196045, TRAIN MSE is: 1065.6148681640625\n",
      "Validation loss: 201594.7656250 - MSE score: 964.5682373\n",
      "Validation pearson is: nan\n",
      "Validation r2_score is: -0.05036441486585175\n",
      "-------------------------\n"
     ]
    },
    {
     "name": "stderr",
     "output_type": "stream",
     "text": [
      "/home/mbosnjak/.conda/envs/pero/lib/python3.7/site-packages/scipy/stats/stats.py:3399: PearsonRConstantInputWarning: An input array is constant; the correlation coefficent is not defined.\n",
      "  warnings.warn(PearsonRConstantInputWarning())\n"
     ]
    },
    {
     "name": "stdout",
     "output_type": "stream",
     "text": [
      "Epoch 129 end: 1.5762546062469482, TRAIN MSE is: 1082.1368408203125\n",
      "Validation loss: 201601.9531250 - MSE score: 964.6027222\n",
      "Validation pearson is: nan\n",
      "Validation r2_score is: -0.0504019029812659\n",
      "-------------------------\n"
     ]
    },
    {
     "name": "stderr",
     "output_type": "stream",
     "text": [
      "/home/mbosnjak/.conda/envs/pero/lib/python3.7/site-packages/scipy/stats/stats.py:3399: PearsonRConstantInputWarning: An input array is constant; the correlation coefficent is not defined.\n",
      "  warnings.warn(PearsonRConstantInputWarning())\n"
     ]
    },
    {
     "name": "stdout",
     "output_type": "stream",
     "text": [
      "Epoch 130 end: 1.495384693145752, TRAIN MSE is: 1057.241943359375\n",
      "Validation loss: 201592.5781250 - MSE score: 964.5578003\n",
      "Validation pearson is: nan\n",
      "Validation r2_score is: -0.05035299419772987\n",
      "-------------------------\n"
     ]
    },
    {
     "name": "stderr",
     "output_type": "stream",
     "text": [
      "/home/mbosnjak/.conda/envs/pero/lib/python3.7/site-packages/scipy/stats/stats.py:3399: PearsonRConstantInputWarning: An input array is constant; the correlation coefficent is not defined.\n",
      "  warnings.warn(PearsonRConstantInputWarning())\n"
     ]
    },
    {
     "name": "stdout",
     "output_type": "stream",
     "text": [
      "Epoch 131 end: 1.5770494937896729, TRAIN MSE is: 1040.5472412109375\n",
      "Validation loss: 201548.6250000 - MSE score: 964.3474121\n",
      "Validation pearson is: nan\n",
      "Validation r2_score is: -0.0501240027802381\n",
      "-------------------------\n"
     ]
    },
    {
     "name": "stderr",
     "output_type": "stream",
     "text": [
      "/home/mbosnjak/.conda/envs/pero/lib/python3.7/site-packages/scipy/stats/stats.py:3399: PearsonRConstantInputWarning: An input array is constant; the correlation coefficent is not defined.\n",
      "  warnings.warn(PearsonRConstantInputWarning())\n"
     ]
    },
    {
     "name": "stdout",
     "output_type": "stream",
     "text": [
      "Epoch 132 end: 1.5530500411987305, TRAIN MSE is: 1058.9622802734375\n",
      "Validation loss: 201532.2500000 - MSE score: 964.2690430\n",
      "Validation pearson is: nan\n",
      "Validation r2_score is: -0.0500386323779245\n",
      "-------------------------\n"
     ]
    },
    {
     "name": "stderr",
     "output_type": "stream",
     "text": [
      "/home/mbosnjak/.conda/envs/pero/lib/python3.7/site-packages/scipy/stats/stats.py:3399: PearsonRConstantInputWarning: An input array is constant; the correlation coefficent is not defined.\n",
      "  warnings.warn(PearsonRConstantInputWarning())\n"
     ]
    },
    {
     "name": "stdout",
     "output_type": "stream",
     "text": [
      "Epoch 133 end: 1.4942200183868408, TRAIN MSE is: 1023.76220703125\n",
      "Validation loss: 201495.4062500 - MSE score: 964.0928345\n",
      "Validation pearson is: nan\n",
      "Validation r2_score is: -0.049846732826736684\n",
      "-------------------------\n"
     ]
    },
    {
     "name": "stderr",
     "output_type": "stream",
     "text": [
      "/home/mbosnjak/.conda/envs/pero/lib/python3.7/site-packages/scipy/stats/stats.py:3399: PearsonRConstantInputWarning: An input array is constant; the correlation coefficent is not defined.\n",
      "  warnings.warn(PearsonRConstantInputWarning())\n"
     ]
    },
    {
     "name": "stdout",
     "output_type": "stream",
     "text": [
      "Epoch 134 end: 1.4409115314483643, TRAIN MSE is: 1012.6810913085938\n",
      "Validation loss: 201445.8906250 - MSE score: 963.8560181\n",
      "Validation pearson is: nan\n",
      "Validation r2_score is: -0.04958881558451367\n",
      "-------------------------\n"
     ]
    },
    {
     "name": "stderr",
     "output_type": "stream",
     "text": [
      "/home/mbosnjak/.conda/envs/pero/lib/python3.7/site-packages/scipy/stats/stats.py:3399: PearsonRConstantInputWarning: An input array is constant; the correlation coefficent is not defined.\n",
      "  warnings.warn(PearsonRConstantInputWarning())\n"
     ]
    },
    {
     "name": "stdout",
     "output_type": "stream",
     "text": [
      "Epoch 135 end: 1.5745306015014648, TRAIN MSE is: 1065.7103271484375\n",
      "Validation loss: 201444.7343750 - MSE score: 963.8504028\n",
      "Validation pearson is: nan\n",
      "Validation r2_score is: -0.049582696983313745\n",
      "-------------------------\n"
     ]
    },
    {
     "name": "stderr",
     "output_type": "stream",
     "text": [
      "/home/mbosnjak/.conda/envs/pero/lib/python3.7/site-packages/scipy/stats/stats.py:3399: PearsonRConstantInputWarning: An input array is constant; the correlation coefficent is not defined.\n",
      "  warnings.warn(PearsonRConstantInputWarning())\n"
     ]
    },
    {
     "name": "stdout",
     "output_type": "stream",
     "text": [
      "Epoch 136 end: 1.4774219989776611, TRAIN MSE is: 1080.9632568359375\n",
      "Validation loss: 201510.0781250 - MSE score: 964.1630249\n",
      "Validation pearson is: nan\n",
      "Validation r2_score is: -0.0499231947061467\n",
      "-------------------------\n"
     ]
    },
    {
     "name": "stderr",
     "output_type": "stream",
     "text": [
      "/home/mbosnjak/.conda/envs/pero/lib/python3.7/site-packages/scipy/stats/stats.py:3399: PearsonRConstantInputWarning: An input array is constant; the correlation coefficent is not defined.\n",
      "  warnings.warn(PearsonRConstantInputWarning())\n"
     ]
    },
    {
     "name": "stdout",
     "output_type": "stream",
     "text": [
      "Epoch 137 end: 1.6670951843261719, TRAIN MSE is: 1037.48779296875\n",
      "Validation loss: 201498.4375000 - MSE score: 964.1073608\n",
      "Validation pearson is: nan\n",
      "Validation r2_score is: -0.04986246842552311\n",
      "-------------------------\n"
     ]
    },
    {
     "name": "stderr",
     "output_type": "stream",
     "text": [
      "/home/mbosnjak/.conda/envs/pero/lib/python3.7/site-packages/scipy/stats/stats.py:3399: PearsonRConstantInputWarning: An input array is constant; the correlation coefficent is not defined.\n",
      "  warnings.warn(PearsonRConstantInputWarning())\n"
     ]
    },
    {
     "name": "stdout",
     "output_type": "stream",
     "text": [
      "Epoch 138 end: 1.592881202697754, TRAIN MSE is: 1025.0106201171875\n",
      "Validation loss: 201470.5781250 - MSE score: 963.9741211\n",
      "Validation pearson is: nan\n",
      "Validation r2_score is: -0.0497174114492549\n",
      "-------------------------\n"
     ]
    },
    {
     "name": "stderr",
     "output_type": "stream",
     "text": [
      "/home/mbosnjak/.conda/envs/pero/lib/python3.7/site-packages/scipy/stats/stats.py:3399: PearsonRConstantInputWarning: An input array is constant; the correlation coefficent is not defined.\n",
      "  warnings.warn(PearsonRConstantInputWarning())\n"
     ]
    },
    {
     "name": "stdout",
     "output_type": "stream",
     "text": [
      "Epoch 139 end: 1.6460344791412354, TRAIN MSE is: 1078.39013671875\n",
      "Validation loss: 201548.8750000 - MSE score: 964.3488159\n",
      "Validation pearson is: nan\n",
      "Validation r2_score is: -0.050125359851038054\n",
      "-------------------------\n"
     ]
    },
    {
     "name": "stderr",
     "output_type": "stream",
     "text": [
      "/home/mbosnjak/.conda/envs/pero/lib/python3.7/site-packages/scipy/stats/stats.py:3399: PearsonRConstantInputWarning: An input array is constant; the correlation coefficent is not defined.\n",
      "  warnings.warn(PearsonRConstantInputWarning())\n"
     ]
    },
    {
     "name": "stdout",
     "output_type": "stream",
     "text": [
      "Epoch 140 end: 1.6581203937530518, TRAIN MSE is: 1008.9307861328125\n",
      "Validation loss: 201416.4062500 - MSE score: 963.7148438\n",
      "Validation pearson is: nan\n",
      "Validation r2_score is: -0.04943511602412043\n",
      "-------------------------\n"
     ]
    },
    {
     "name": "stderr",
     "output_type": "stream",
     "text": [
      "/home/mbosnjak/.conda/envs/pero/lib/python3.7/site-packages/scipy/stats/stats.py:3399: PearsonRConstantInputWarning: An input array is constant; the correlation coefficent is not defined.\n",
      "  warnings.warn(PearsonRConstantInputWarning())\n"
     ]
    },
    {
     "name": "stdout",
     "output_type": "stream",
     "text": [
      "Epoch 141 end: 1.5110878944396973, TRAIN MSE is: 1048.8245849609375\n",
      "Validation loss: 201385.0781250 - MSE score: 963.5650635\n",
      "Validation pearson is: nan\n",
      "Validation r2_score is: -0.04927191198735548\n",
      "-------------------------\n"
     ]
    },
    {
     "name": "stderr",
     "output_type": "stream",
     "text": [
      "/home/mbosnjak/.conda/envs/pero/lib/python3.7/site-packages/scipy/stats/stats.py:3399: PearsonRConstantInputWarning: An input array is constant; the correlation coefficent is not defined.\n",
      "  warnings.warn(PearsonRConstantInputWarning())\n"
     ]
    },
    {
     "name": "stdout",
     "output_type": "stream",
     "text": [
      "Epoch 142 end: 1.6108577251434326, TRAIN MSE is: 1093.850341796875\n",
      "Validation loss: 201449.6250000 - MSE score: 963.8737793\n",
      "Validation pearson is: nan\n",
      "Validation r2_score is: -0.049608233030809856\n",
      "-------------------------\n"
     ]
    },
    {
     "name": "stderr",
     "output_type": "stream",
     "text": [
      "/home/mbosnjak/.conda/envs/pero/lib/python3.7/site-packages/scipy/stats/stats.py:3399: PearsonRConstantInputWarning: An input array is constant; the correlation coefficent is not defined.\n",
      "  warnings.warn(PearsonRConstantInputWarning())\n"
     ]
    },
    {
     "name": "stdout",
     "output_type": "stream",
     "text": [
      "Epoch 143 end: 1.55739426612854, TRAIN MSE is: 1059.28515625\n",
      "Validation loss: 201394.5312500 - MSE score: 963.6102905\n",
      "Validation pearson is: nan\n",
      "Validation r2_score is: -0.049321187466494054\n",
      "-------------------------\n"
     ]
    },
    {
     "name": "stderr",
     "output_type": "stream",
     "text": [
      "/home/mbosnjak/.conda/envs/pero/lib/python3.7/site-packages/scipy/stats/stats.py:3399: PearsonRConstantInputWarning: An input array is constant; the correlation coefficent is not defined.\n",
      "  warnings.warn(PearsonRConstantInputWarning())\n"
     ]
    },
    {
     "name": "stdout",
     "output_type": "stream",
     "text": [
      "Epoch 144 end: 1.6485857963562012, TRAIN MSE is: 1060.94970703125\n",
      "Validation loss: 201376.1406250 - MSE score: 963.5222168\n",
      "Validation pearson is: nan\n",
      "Validation r2_score is: -0.04922531290846943\n",
      "-------------------------\n"
     ]
    },
    {
     "name": "stderr",
     "output_type": "stream",
     "text": [
      "/home/mbosnjak/.conda/envs/pero/lib/python3.7/site-packages/scipy/stats/stats.py:3399: PearsonRConstantInputWarning: An input array is constant; the correlation coefficent is not defined.\n",
      "  warnings.warn(PearsonRConstantInputWarning())\n"
     ]
    },
    {
     "name": "stdout",
     "output_type": "stream",
     "text": [
      "Epoch 145 end: 1.562868356704712, TRAIN MSE is: 1039.7777099609375\n",
      "Validation loss: 201307.1093750 - MSE score: 963.1919556\n",
      "Validation pearson is: nan\n",
      "Validation r2_score is: -0.04886568677251657\n",
      "-------------------------\n"
     ]
    },
    {
     "name": "stderr",
     "output_type": "stream",
     "text": [
      "/home/mbosnjak/.conda/envs/pero/lib/python3.7/site-packages/scipy/stats/stats.py:3399: PearsonRConstantInputWarning: An input array is constant; the correlation coefficent is not defined.\n",
      "  warnings.warn(PearsonRConstantInputWarning())\n"
     ]
    },
    {
     "name": "stdout",
     "output_type": "stream",
     "text": [
      "Epoch 146 end: 1.4634575843811035, TRAIN MSE is: 1012.3766479492188\n",
      "Validation loss: 201315.9843750 - MSE score: 963.2343750\n",
      "Validation pearson is: nan\n",
      "Validation r2_score is: -0.048911892436722226\n",
      "-------------------------\n"
     ]
    },
    {
     "name": "stderr",
     "output_type": "stream",
     "text": [
      "/home/mbosnjak/.conda/envs/pero/lib/python3.7/site-packages/scipy/stats/stats.py:3399: PearsonRConstantInputWarning: An input array is constant; the correlation coefficent is not defined.\n",
      "  warnings.warn(PearsonRConstantInputWarning())\n"
     ]
    },
    {
     "name": "stdout",
     "output_type": "stream",
     "text": [
      "Epoch 147 end: 1.5077500343322754, TRAIN MSE is: 1043.7451171875\n",
      "Validation loss: 201194.9843750 - MSE score: 962.6555176\n",
      "Validation pearson is: nan\n",
      "Validation r2_score is: -0.048281517391051354\n",
      "-------------------------\n"
     ]
    },
    {
     "name": "stderr",
     "output_type": "stream",
     "text": [
      "/home/mbosnjak/.conda/envs/pero/lib/python3.7/site-packages/scipy/stats/stats.py:3399: PearsonRConstantInputWarning: An input array is constant; the correlation coefficent is not defined.\n",
      "  warnings.warn(PearsonRConstantInputWarning())\n"
     ]
    },
    {
     "name": "stdout",
     "output_type": "stream",
     "text": [
      "Epoch 148 end: 1.5567235946655273, TRAIN MSE is: 1113.785888671875\n",
      "Validation loss: 201181.1875000 - MSE score: 962.5894165\n",
      "Validation pearson is: nan\n",
      "Validation r2_score is: -0.048209523291519174\n",
      "-------------------------\n"
     ]
    },
    {
     "name": "stderr",
     "output_type": "stream",
     "text": [
      "/home/mbosnjak/.conda/envs/pero/lib/python3.7/site-packages/scipy/stats/stats.py:3399: PearsonRConstantInputWarning: An input array is constant; the correlation coefficent is not defined.\n",
      "  warnings.warn(PearsonRConstantInputWarning())\n"
     ]
    },
    {
     "name": "stdout",
     "output_type": "stream",
     "text": [
      "Epoch 149 end: 1.5419793128967285, TRAIN MSE is: 1077.9542236328125\n",
      "Validation loss: 201225.2343750 - MSE score: 962.8001709\n",
      "Validation pearson is: nan\n",
      "Validation r2_score is: -0.048439044250354835\n",
      "-------------------------\n"
     ]
    },
    {
     "name": "stderr",
     "output_type": "stream",
     "text": [
      "/home/mbosnjak/.conda/envs/pero/lib/python3.7/site-packages/scipy/stats/stats.py:3399: PearsonRConstantInputWarning: An input array is constant; the correlation coefficent is not defined.\n",
      "  warnings.warn(PearsonRConstantInputWarning())\n"
     ]
    },
    {
     "name": "stdout",
     "output_type": "stream",
     "text": [
      "Epoch 150 end: 1.540595531463623, TRAIN MSE is: 1008.78271484375\n",
      "Validation loss: 201172.3437500 - MSE score: 962.5471191\n",
      "Validation pearson is: nan\n",
      "Validation r2_score is: -0.04816342747024649\n",
      "-------------------------\n"
     ]
    },
    {
     "name": "stderr",
     "output_type": "stream",
     "text": [
      "/home/mbosnjak/.conda/envs/pero/lib/python3.7/site-packages/scipy/stats/stats.py:3399: PearsonRConstantInputWarning: An input array is constant; the correlation coefficent is not defined.\n",
      "  warnings.warn(PearsonRConstantInputWarning())\n"
     ]
    },
    {
     "name": "stdout",
     "output_type": "stream",
     "text": [
      "Epoch 151 end: 1.5574288368225098, TRAIN MSE is: 1085.8551025390625\n",
      "Validation loss: 201113.0468750 - MSE score: 962.2634277\n",
      "Validation pearson is: nan\n",
      "Validation r2_score is: -0.04785458087262806\n",
      "-------------------------\n"
     ]
    },
    {
     "name": "stderr",
     "output_type": "stream",
     "text": [
      "/home/mbosnjak/.conda/envs/pero/lib/python3.7/site-packages/scipy/stats/stats.py:3399: PearsonRConstantInputWarning: An input array is constant; the correlation coefficent is not defined.\n",
      "  warnings.warn(PearsonRConstantInputWarning())\n"
     ]
    },
    {
     "name": "stdout",
     "output_type": "stream",
     "text": [
      "Epoch 152 end: 1.5170488357543945, TRAIN MSE is: 1053.3023681640625\n",
      "Validation loss: 201100.9531250 - MSE score: 962.2054443\n",
      "Validation pearson is: nan\n",
      "Validation r2_score is: -0.0477914545335385\n",
      "-------------------------\n"
     ]
    },
    {
     "name": "stderr",
     "output_type": "stream",
     "text": [
      "/home/mbosnjak/.conda/envs/pero/lib/python3.7/site-packages/scipy/stats/stats.py:3399: PearsonRConstantInputWarning: An input array is constant; the correlation coefficent is not defined.\n",
      "  warnings.warn(PearsonRConstantInputWarning())\n"
     ]
    },
    {
     "name": "stdout",
     "output_type": "stream",
     "text": [
      "Epoch 153 end: 1.4796981811523438, TRAIN MSE is: 1044.083984375\n",
      "Validation loss: 201030.2656250 - MSE score: 961.8672485\n",
      "Validation pearson is: nan\n",
      "Validation r2_score is: -0.04742315135294861\n",
      "-------------------------\n"
     ]
    },
    {
     "name": "stderr",
     "output_type": "stream",
     "text": [
      "/home/mbosnjak/.conda/envs/pero/lib/python3.7/site-packages/scipy/stats/stats.py:3399: PearsonRConstantInputWarning: An input array is constant; the correlation coefficent is not defined.\n",
      "  warnings.warn(PearsonRConstantInputWarning())\n"
     ]
    },
    {
     "name": "stdout",
     "output_type": "stream",
     "text": [
      "Epoch 154 end: 1.5203046798706055, TRAIN MSE is: 1036.8819580078125\n",
      "Validation loss: 201007.7968750 - MSE score: 961.7597046\n",
      "Validation pearson is: nan\n",
      "Validation r2_score is: -0.047306104242207825\n",
      "-------------------------\n"
     ]
    },
    {
     "name": "stderr",
     "output_type": "stream",
     "text": [
      "/home/mbosnjak/.conda/envs/pero/lib/python3.7/site-packages/scipy/stats/stats.py:3399: PearsonRConstantInputWarning: An input array is constant; the correlation coefficent is not defined.\n",
      "  warnings.warn(PearsonRConstantInputWarning())\n"
     ]
    },
    {
     "name": "stdout",
     "output_type": "stream",
     "text": [
      "Epoch 155 end: 1.530731201171875, TRAIN MSE is: 1056.310546875\n",
      "Validation loss: 200996.2656250 - MSE score: 961.7045288\n",
      "Validation pearson is: nan\n",
      "Validation r2_score is: -0.04724601451408783\n",
      "-------------------------\n"
     ]
    },
    {
     "name": "stderr",
     "output_type": "stream",
     "text": [
      "/home/mbosnjak/.conda/envs/pero/lib/python3.7/site-packages/scipy/stats/stats.py:3399: PearsonRConstantInputWarning: An input array is constant; the correlation coefficent is not defined.\n",
      "  warnings.warn(PearsonRConstantInputWarning())\n"
     ]
    },
    {
     "name": "stdout",
     "output_type": "stream",
     "text": [
      "Epoch 156 end: 1.5758299827575684, TRAIN MSE is: 1063.1796875\n",
      "Validation loss: 201008.7187500 - MSE score: 961.7642212\n",
      "Validation pearson is: nan\n",
      "Validation r2_score is: -0.0473110353052415\n",
      "-------------------------\n"
     ]
    },
    {
     "name": "stderr",
     "output_type": "stream",
     "text": [
      "/home/mbosnjak/.conda/envs/pero/lib/python3.7/site-packages/scipy/stats/stats.py:3399: PearsonRConstantInputWarning: An input array is constant; the correlation coefficent is not defined.\n",
      "  warnings.warn(PearsonRConstantInputWarning())\n"
     ]
    },
    {
     "name": "stdout",
     "output_type": "stream",
     "text": [
      "Epoch 157 end: 1.7096002101898193, TRAIN MSE is: 1014.640380859375\n",
      "Validation loss: 201040.8281250 - MSE score: 961.9179077\n",
      "Validation pearson is: nan\n",
      "Validation r2_score is: -0.047478318251183316\n",
      "-------------------------\n"
     ]
    },
    {
     "name": "stderr",
     "output_type": "stream",
     "text": [
      "/home/mbosnjak/.conda/envs/pero/lib/python3.7/site-packages/scipy/stats/stats.py:3399: PearsonRConstantInputWarning: An input array is constant; the correlation coefficent is not defined.\n",
      "  warnings.warn(PearsonRConstantInputWarning())\n"
     ]
    },
    {
     "name": "stdout",
     "output_type": "stream",
     "text": [
      "Epoch 158 end: 1.5928397178649902, TRAIN MSE is: 1054.161865234375\n",
      "Validation loss: 200987.8593750 - MSE score: 961.6643066\n",
      "Validation pearson is: nan\n",
      "Validation r2_score is: -0.04720223801911194\n",
      "-------------------------\n"
     ]
    },
    {
     "name": "stderr",
     "output_type": "stream",
     "text": [
      "/home/mbosnjak/.conda/envs/pero/lib/python3.7/site-packages/scipy/stats/stats.py:3399: PearsonRConstantInputWarning: An input array is constant; the correlation coefficent is not defined.\n",
      "  warnings.warn(PearsonRConstantInputWarning())\n"
     ]
    },
    {
     "name": "stdout",
     "output_type": "stream",
     "text": [
      "Epoch 159 end: 1.8570733070373535, TRAIN MSE is: 1057.2373046875\n",
      "Validation loss: 200969.1562500 - MSE score: 961.5748901\n",
      "Validation pearson is: nan\n",
      "Validation r2_score is: -0.047104850768648676\n",
      "-------------------------\n"
     ]
    },
    {
     "name": "stderr",
     "output_type": "stream",
     "text": [
      "/home/mbosnjak/.conda/envs/pero/lib/python3.7/site-packages/scipy/stats/stats.py:3399: PearsonRConstantInputWarning: An input array is constant; the correlation coefficent is not defined.\n",
      "  warnings.warn(PearsonRConstantInputWarning())\n"
     ]
    },
    {
     "name": "stdout",
     "output_type": "stream",
     "text": [
      "Epoch 160 end: 1.6791455745697021, TRAIN MSE is: 1057.5506591796875\n",
      "Validation loss: 200952.9375000 - MSE score: 961.4973755\n",
      "Validation pearson is: nan\n",
      "Validation r2_score is: -0.047020371529480576\n",
      "-------------------------\n"
     ]
    },
    {
     "name": "stderr",
     "output_type": "stream",
     "text": [
      "/home/mbosnjak/.conda/envs/pero/lib/python3.7/site-packages/scipy/stats/stats.py:3399: PearsonRConstantInputWarning: An input array is constant; the correlation coefficent is not defined.\n",
      "  warnings.warn(PearsonRConstantInputWarning())\n"
     ]
    },
    {
     "name": "stdout",
     "output_type": "stream",
     "text": [
      "Epoch 161 end: 1.5058729648590088, TRAIN MSE is: 1044.025390625\n",
      "Validation loss: 200994.2968750 - MSE score: 961.6952515\n",
      "Validation pearson is: nan\n",
      "Validation r2_score is: -0.047235823622490125\n",
      "-------------------------\n"
     ]
    },
    {
     "name": "stderr",
     "output_type": "stream",
     "text": [
      "/home/mbosnjak/.conda/envs/pero/lib/python3.7/site-packages/scipy/stats/stats.py:3399: PearsonRConstantInputWarning: An input array is constant; the correlation coefficent is not defined.\n",
      "  warnings.warn(PearsonRConstantInputWarning())\n"
     ]
    },
    {
     "name": "stdout",
     "output_type": "stream",
     "text": [
      "Epoch 162 end: 1.4939992427825928, TRAIN MSE is: 1065.7943115234375\n",
      "Validation loss: 200993.1718750 - MSE score: 961.6897583\n",
      "Validation pearson is: nan\n",
      "Validation r2_score is: -0.04722986894699854\n",
      "-------------------------\n"
     ]
    },
    {
     "name": "stderr",
     "output_type": "stream",
     "text": [
      "/home/mbosnjak/.conda/envs/pero/lib/python3.7/site-packages/scipy/stats/stats.py:3399: PearsonRConstantInputWarning: An input array is constant; the correlation coefficent is not defined.\n",
      "  warnings.warn(PearsonRConstantInputWarning())\n"
     ]
    },
    {
     "name": "stdout",
     "output_type": "stream",
     "text": [
      "Epoch 163 end: 1.6039795875549316, TRAIN MSE is: 1036.824462890625\n",
      "Validation loss: 200892.4687500 - MSE score: 961.2080078\n",
      "Validation pearson is: nan\n",
      "Validation r2_score is: -0.04670525279318394\n",
      "-------------------------\n"
     ]
    },
    {
     "name": "stderr",
     "output_type": "stream",
     "text": [
      "/home/mbosnjak/.conda/envs/pero/lib/python3.7/site-packages/scipy/stats/stats.py:3399: PearsonRConstantInputWarning: An input array is constant; the correlation coefficent is not defined.\n",
      "  warnings.warn(PearsonRConstantInputWarning())\n"
     ]
    },
    {
     "name": "stdout",
     "output_type": "stream",
     "text": [
      "Epoch 164 end: 1.6843914985656738, TRAIN MSE is: 1056.692626953125\n",
      "Validation loss: 200889.6718750 - MSE score: 961.1947021\n",
      "Validation pearson is: nan\n",
      "Validation r2_score is: -0.04669063858917588\n",
      "-------------------------\n"
     ]
    },
    {
     "name": "stderr",
     "output_type": "stream",
     "text": [
      "/home/mbosnjak/.conda/envs/pero/lib/python3.7/site-packages/scipy/stats/stats.py:3399: PearsonRConstantInputWarning: An input array is constant; the correlation coefficent is not defined.\n",
      "  warnings.warn(PearsonRConstantInputWarning())\n"
     ]
    },
    {
     "name": "stdout",
     "output_type": "stream",
     "text": [
      "Epoch 165 end: 1.5986003875732422, TRAIN MSE is: 1059.1561279296875\n",
      "Validation loss: 200921.6875000 - MSE score: 961.3477783\n",
      "Validation pearson is: nan\n",
      "Validation r2_score is: -0.04685750566912317\n",
      "-------------------------\n"
     ]
    },
    {
     "name": "stderr",
     "output_type": "stream",
     "text": [
      "/home/mbosnjak/.conda/envs/pero/lib/python3.7/site-packages/scipy/stats/stats.py:3399: PearsonRConstantInputWarning: An input array is constant; the correlation coefficent is not defined.\n",
      "  warnings.warn(PearsonRConstantInputWarning())\n"
     ]
    },
    {
     "name": "stdout",
     "output_type": "stream",
     "text": [
      "Epoch 166 end: 1.5180583000183105, TRAIN MSE is: 1051.4542236328125\n",
      "Validation loss: 200888.6250000 - MSE score: 961.1897583\n",
      "Validation pearson is: nan\n",
      "Validation r2_score is: -0.0466853343930651\n",
      "-------------------------\n"
     ]
    },
    {
     "name": "stderr",
     "output_type": "stream",
     "text": [
      "/home/mbosnjak/.conda/envs/pero/lib/python3.7/site-packages/scipy/stats/stats.py:3399: PearsonRConstantInputWarning: An input array is constant; the correlation coefficent is not defined.\n",
      "  warnings.warn(PearsonRConstantInputWarning())\n"
     ]
    },
    {
     "name": "stdout",
     "output_type": "stream",
     "text": [
      "Epoch 167 end: 1.5918903350830078, TRAIN MSE is: 1045.720703125\n",
      "Validation loss: 200876.8593750 - MSE score: 961.1332397\n",
      "Validation pearson is: nan\n",
      "Validation r2_score is: -0.04662388350061519\n",
      "-------------------------\n"
     ]
    },
    {
     "name": "stderr",
     "output_type": "stream",
     "text": [
      "/home/mbosnjak/.conda/envs/pero/lib/python3.7/site-packages/scipy/stats/stats.py:3399: PearsonRConstantInputWarning: An input array is constant; the correlation coefficent is not defined.\n",
      "  warnings.warn(PearsonRConstantInputWarning())\n"
     ]
    },
    {
     "name": "stdout",
     "output_type": "stream",
     "text": [
      "Epoch 168 end: 1.592414140701294, TRAIN MSE is: 1049.0660400390625\n",
      "Validation loss: 200821.7343750 - MSE score: 960.8695679\n",
      "Validation pearson is: nan\n",
      "Validation r2_score is: -0.04633674839838364\n",
      "-------------------------\n"
     ]
    },
    {
     "name": "stderr",
     "output_type": "stream",
     "text": [
      "/home/mbosnjak/.conda/envs/pero/lib/python3.7/site-packages/scipy/stats/stats.py:3399: PearsonRConstantInputWarning: An input array is constant; the correlation coefficent is not defined.\n",
      "  warnings.warn(PearsonRConstantInputWarning())\n"
     ]
    },
    {
     "name": "stdout",
     "output_type": "stream",
     "text": [
      "Epoch 169 end: 1.5689270496368408, TRAIN MSE is: 1014.1061401367188\n",
      "Validation loss: 200824.6093750 - MSE score: 960.8832397\n",
      "Validation pearson is: nan\n",
      "Validation r2_score is: -0.046351647074093005\n",
      "-------------------------\n"
     ]
    },
    {
     "name": "stderr",
     "output_type": "stream",
     "text": [
      "/home/mbosnjak/.conda/envs/pero/lib/python3.7/site-packages/scipy/stats/stats.py:3399: PearsonRConstantInputWarning: An input array is constant; the correlation coefficent is not defined.\n",
      "  warnings.warn(PearsonRConstantInputWarning())\n"
     ]
    },
    {
     "name": "stdout",
     "output_type": "stream",
     "text": [
      "Epoch 170 end: 1.4951977729797363, TRAIN MSE is: 1080.282470703125\n",
      "Validation loss: 200903.6093750 - MSE score: 961.2613525\n",
      "Validation pearson is: nan\n",
      "Validation r2_score is: -0.04676332922739701\n",
      "-------------------------\n"
     ]
    },
    {
     "name": "stderr",
     "output_type": "stream",
     "text": [
      "/home/mbosnjak/.conda/envs/pero/lib/python3.7/site-packages/scipy/stats/stats.py:3399: PearsonRConstantInputWarning: An input array is constant; the correlation coefficent is not defined.\n",
      "  warnings.warn(PearsonRConstantInputWarning())\n"
     ]
    },
    {
     "name": "stdout",
     "output_type": "stream",
     "text": [
      "Epoch 171 end: 1.6089441776275635, TRAIN MSE is: 1045.08642578125\n",
      "Validation loss: 200851.8906250 - MSE score: 961.0139160\n",
      "Validation pearson is: nan\n",
      "Validation r2_score is: -0.04649383733625778\n",
      "-------------------------\n"
     ]
    },
    {
     "name": "stderr",
     "output_type": "stream",
     "text": [
      "/home/mbosnjak/.conda/envs/pero/lib/python3.7/site-packages/scipy/stats/stats.py:3399: PearsonRConstantInputWarning: An input array is constant; the correlation coefficent is not defined.\n",
      "  warnings.warn(PearsonRConstantInputWarning())\n"
     ]
    },
    {
     "name": "stdout",
     "output_type": "stream",
     "text": [
      "Epoch 172 end: 1.5638647079467773, TRAIN MSE is: 1043.867919921875\n",
      "Validation loss: 200772.2968750 - MSE score: 960.6330566\n",
      "Validation pearson is: nan\n",
      "Validation r2_score is: -0.04607915547975372\n",
      "-------------------------\n"
     ]
    },
    {
     "name": "stderr",
     "output_type": "stream",
     "text": [
      "/home/mbosnjak/.conda/envs/pero/lib/python3.7/site-packages/scipy/stats/stats.py:3399: PearsonRConstantInputWarning: An input array is constant; the correlation coefficent is not defined.\n",
      "  warnings.warn(PearsonRConstantInputWarning())\n"
     ]
    },
    {
     "name": "stdout",
     "output_type": "stream",
     "text": [
      "Epoch 173 end: 1.5554847717285156, TRAIN MSE is: 1014.6845092773438\n",
      "Validation loss: 200703.4687500 - MSE score: 960.3036499\n",
      "Validation pearson is: nan\n",
      "Validation r2_score is: -0.04572046167480215\n",
      "-------------------------\n"
     ]
    },
    {
     "name": "stderr",
     "output_type": "stream",
     "text": [
      "/home/mbosnjak/.conda/envs/pero/lib/python3.7/site-packages/scipy/stats/stats.py:3399: PearsonRConstantInputWarning: An input array is constant; the correlation coefficent is not defined.\n",
      "  warnings.warn(PearsonRConstantInputWarning())\n"
     ]
    },
    {
     "name": "stdout",
     "output_type": "stream",
     "text": [
      "Epoch 174 end: 1.4862921237945557, TRAIN MSE is: 1033.0804443359375\n",
      "Validation loss: 200653.7343750 - MSE score: 960.0657349\n",
      "Validation pearson is: nan\n",
      "Validation r2_score is: -0.045461381325281325\n",
      "-------------------------\n"
     ]
    },
    {
     "name": "stderr",
     "output_type": "stream",
     "text": [
      "/home/mbosnjak/.conda/envs/pero/lib/python3.7/site-packages/scipy/stats/stats.py:3399: PearsonRConstantInputWarning: An input array is constant; the correlation coefficent is not defined.\n",
      "  warnings.warn(PearsonRConstantInputWarning())\n"
     ]
    },
    {
     "name": "stdout",
     "output_type": "stream",
     "text": [
      "Epoch 175 end: 1.6139717102050781, TRAIN MSE is: 1004.5491943359375\n",
      "Validation loss: 200637.2968750 - MSE score: 959.9870605\n",
      "Validation pearson is: nan\n",
      "Validation r2_score is: -0.04537567248977492\n",
      "-------------------------\n"
     ]
    },
    {
     "name": "stderr",
     "output_type": "stream",
     "text": [
      "/home/mbosnjak/.conda/envs/pero/lib/python3.7/site-packages/scipy/stats/stats.py:3399: PearsonRConstantInputWarning: An input array is constant; the correlation coefficent is not defined.\n",
      "  warnings.warn(PearsonRConstantInputWarning())\n"
     ]
    },
    {
     "name": "stdout",
     "output_type": "stream",
     "text": [
      "Epoch 176 end: 1.505129098892212, TRAIN MSE is: 1056.1956787109375\n",
      "Validation loss: 200650.7656250 - MSE score: 960.0515137\n",
      "Validation pearson is: nan\n",
      "Validation r2_score is: -0.04544589038282032\n",
      "-------------------------\n"
     ]
    },
    {
     "name": "stderr",
     "output_type": "stream",
     "text": [
      "/home/mbosnjak/.conda/envs/pero/lib/python3.7/site-packages/scipy/stats/stats.py:3399: PearsonRConstantInputWarning: An input array is constant; the correlation coefficent is not defined.\n",
      "  warnings.warn(PearsonRConstantInputWarning())\n"
     ]
    },
    {
     "name": "stdout",
     "output_type": "stream",
     "text": [
      "Epoch 177 end: 1.6509084701538086, TRAIN MSE is: 1021.1725463867188\n",
      "Validation loss: 200654.0312500 - MSE score: 960.0671387\n",
      "Validation pearson is: nan\n",
      "Validation r2_score is: -0.04546295952243318\n",
      "-------------------------\n"
     ]
    },
    {
     "name": "stderr",
     "output_type": "stream",
     "text": [
      "/home/mbosnjak/.conda/envs/pero/lib/python3.7/site-packages/scipy/stats/stats.py:3399: PearsonRConstantInputWarning: An input array is constant; the correlation coefficent is not defined.\n",
      "  warnings.warn(PearsonRConstantInputWarning())\n"
     ]
    },
    {
     "name": "stdout",
     "output_type": "stream",
     "text": [
      "Epoch 178 end: 1.5528631210327148, TRAIN MSE is: 1037.5377197265625\n",
      "Validation loss: 200622.2187500 - MSE score: 959.9148560\n",
      "Validation pearson is: nan\n",
      "Validation r2_score is: -0.045297118568497385\n",
      "-------------------------\n"
     ]
    },
    {
     "name": "stderr",
     "output_type": "stream",
     "text": [
      "/home/mbosnjak/.conda/envs/pero/lib/python3.7/site-packages/scipy/stats/stats.py:3399: PearsonRConstantInputWarning: An input array is constant; the correlation coefficent is not defined.\n",
      "  warnings.warn(PearsonRConstantInputWarning())\n"
     ]
    },
    {
     "name": "stdout",
     "output_type": "stream",
     "text": [
      "Epoch 179 end: 1.5907602310180664, TRAIN MSE is: 1058.941650390625\n",
      "Validation loss: 200578.1250000 - MSE score: 959.7039185\n",
      "Validation pearson is: nan\n",
      "Validation r2_score is: -0.045067436863869714\n",
      "-------------------------\n"
     ]
    },
    {
     "name": "stderr",
     "output_type": "stream",
     "text": [
      "/home/mbosnjak/.conda/envs/pero/lib/python3.7/site-packages/scipy/stats/stats.py:3399: PearsonRConstantInputWarning: An input array is constant; the correlation coefficent is not defined.\n",
      "  warnings.warn(PearsonRConstantInputWarning())\n"
     ]
    },
    {
     "name": "stdout",
     "output_type": "stream",
     "text": [
      "Epoch 180 end: 1.5558571815490723, TRAIN MSE is: 1045.380859375\n",
      "Validation loss: 200666.2656250 - MSE score: 960.1257324\n",
      "Validation pearson is: nan\n",
      "Validation r2_score is: -0.04552674858677164\n",
      "-------------------------\n"
     ]
    },
    {
     "name": "stderr",
     "output_type": "stream",
     "text": [
      "/home/mbosnjak/.conda/envs/pero/lib/python3.7/site-packages/scipy/stats/stats.py:3399: PearsonRConstantInputWarning: An input array is constant; the correlation coefficent is not defined.\n",
      "  warnings.warn(PearsonRConstantInputWarning())\n"
     ]
    },
    {
     "name": "stdout",
     "output_type": "stream",
     "text": [
      "Epoch 181 end: 1.5489051342010498, TRAIN MSE is: 1017.7763061523438\n",
      "Validation loss: 200652.2968750 - MSE score: 960.0587769\n",
      "Validation pearson is: nan\n",
      "Validation r2_score is: -0.04545383296514305\n",
      "-------------------------\n"
     ]
    },
    {
     "name": "stderr",
     "output_type": "stream",
     "text": [
      "/home/mbosnjak/.conda/envs/pero/lib/python3.7/site-packages/scipy/stats/stats.py:3399: PearsonRConstantInputWarning: An input array is constant; the correlation coefficent is not defined.\n",
      "  warnings.warn(PearsonRConstantInputWarning())\n"
     ]
    },
    {
     "name": "stdout",
     "output_type": "stream",
     "text": [
      "Epoch 182 end: 1.5828769207000732, TRAIN MSE is: 1026.1527099609375\n",
      "Validation loss: 200620.7812500 - MSE score: 959.9080200\n",
      "Validation pearson is: nan\n",
      "Validation r2_score is: -0.045289626375501824\n",
      "-------------------------\n"
     ]
    },
    {
     "name": "stderr",
     "output_type": "stream",
     "text": [
      "/home/mbosnjak/.conda/envs/pero/lib/python3.7/site-packages/scipy/stats/stats.py:3399: PearsonRConstantInputWarning: An input array is constant; the correlation coefficent is not defined.\n",
      "  warnings.warn(PearsonRConstantInputWarning())\n"
     ]
    },
    {
     "name": "stdout",
     "output_type": "stream",
     "text": [
      "Epoch 183 end: 1.6001489162445068, TRAIN MSE is: 1067.7635498046875\n",
      "Validation loss: 200621.8281250 - MSE score: 959.9129639\n",
      "Validation pearson is: nan\n",
      "Validation r2_score is: -0.04529509559371925\n",
      "-------------------------\n"
     ]
    },
    {
     "name": "stderr",
     "output_type": "stream",
     "text": [
      "/home/mbosnjak/.conda/envs/pero/lib/python3.7/site-packages/scipy/stats/stats.py:3399: PearsonRConstantInputWarning: An input array is constant; the correlation coefficent is not defined.\n",
      "  warnings.warn(PearsonRConstantInputWarning())\n"
     ]
    },
    {
     "name": "stdout",
     "output_type": "stream",
     "text": [
      "Epoch 184 end: 1.550654411315918, TRAIN MSE is: 1047.6795654296875\n",
      "Validation loss: 200720.7343750 - MSE score: 960.3862305\n",
      "Validation pearson is: nan\n",
      "Validation r2_score is: -0.045810397281270454\n",
      "-------------------------\n"
     ]
    },
    {
     "name": "stderr",
     "output_type": "stream",
     "text": [
      "/home/mbosnjak/.conda/envs/pero/lib/python3.7/site-packages/scipy/stats/stats.py:3399: PearsonRConstantInputWarning: An input array is constant; the correlation coefficent is not defined.\n",
      "  warnings.warn(PearsonRConstantInputWarning())\n"
     ]
    },
    {
     "name": "stdout",
     "output_type": "stream",
     "text": [
      "Epoch 185 end: 1.586125135421753, TRAIN MSE is: 1047.20947265625\n",
      "Validation loss: 200718.9062500 - MSE score: 960.3775635\n",
      "Validation pearson is: nan\n",
      "Validation r2_score is: -0.045800923538960925\n",
      "-------------------------\n",
      "Starting training for: {'learning_rate': 0.09, 'act_func': 'sig', 'batch_size': 64, 'kernels_count': 8, 'sentences_count': 2, 'hidden_layers': [8, 6, 4], 'dropout': 0.5, 'alpha': 0.1978, 'regularization_type': 'None'}\n",
      "-------------------------\n"
     ]
    },
    {
     "name": "stderr",
     "output_type": "stream",
     "text": [
      "/home/mbosnjak/.conda/envs/pero/lib/python3.7/site-packages/scipy/stats/stats.py:3399: PearsonRConstantInputWarning: An input array is constant; the correlation coefficent is not defined.\n",
      "  warnings.warn(PearsonRConstantInputWarning())\n"
     ]
    },
    {
     "name": "stdout",
     "output_type": "stream",
     "text": [
      "Epoch 0 end: 2.0609982013702393, TRAIN MSE is: 2209.88720703125\n",
      "Validation loss: 462683.0312500 - MSE score: 2213.7946777\n",
      "Validation pearson is: nan\n",
      "Validation r2_score is: -1.4107063416321934\n",
      "-------------------------\n"
     ]
    },
    {
     "name": "stderr",
     "output_type": "stream",
     "text": [
      "/home/mbosnjak/.conda/envs/pero/lib/python3.7/site-packages/scipy/stats/stats.py:3399: PearsonRConstantInputWarning: An input array is constant; the correlation coefficent is not defined.\n",
      "  warnings.warn(PearsonRConstantInputWarning())\n"
     ]
    },
    {
     "name": "stdout",
     "output_type": "stream",
     "text": [
      "Epoch 1 end: 1.6075506210327148, TRAIN MSE is: 1916.0902099609375\n",
      "Validation loss: 367553.1875000 - MSE score: 1758.6276855\n",
      "Validation pearson is: nan\n",
      "Validation r2_score is: -0.9150536712461068\n",
      "-------------------------\n"
     ]
    },
    {
     "name": "stderr",
     "output_type": "stream",
     "text": [
      "/home/mbosnjak/.conda/envs/pero/lib/python3.7/site-packages/scipy/stats/stats.py:3399: PearsonRConstantInputWarning: An input array is constant; the correlation coefficent is not defined.\n",
      "  warnings.warn(PearsonRConstantInputWarning())\n"
     ]
    },
    {
     "name": "stdout",
     "output_type": "stream",
     "text": [
      "Epoch 2 end: 1.600895881652832, TRAIN MSE is: 1533.67578125\n",
      "Validation loss: 293131.0625000 - MSE score: 1402.5410156\n",
      "Validation pearson is: nan\n",
      "Validation r2_score is: -0.5272938766933657\n",
      "-------------------------\n"
     ]
    },
    {
     "name": "stderr",
     "output_type": "stream",
     "text": [
      "/home/mbosnjak/.conda/envs/pero/lib/python3.7/site-packages/scipy/stats/stats.py:3399: PearsonRConstantInputWarning: An input array is constant; the correlation coefficent is not defined.\n",
      "  warnings.warn(PearsonRConstantInputWarning())\n"
     ]
    },
    {
     "name": "stdout",
     "output_type": "stream",
     "text": [
      "Epoch 3 end: 1.66868257522583, TRAIN MSE is: 1288.690673828125\n",
      "Validation loss: 248846.1875000 - MSE score: 1190.6514893\n",
      "Validation pearson is: nan\n",
      "Validation r2_score is: -0.29655735280823814\n",
      "-------------------------\n"
     ]
    },
    {
     "name": "stderr",
     "output_type": "stream",
     "text": [
      "/home/mbosnjak/.conda/envs/pero/lib/python3.7/site-packages/scipy/stats/stats.py:3399: PearsonRConstantInputWarning: An input array is constant; the correlation coefficent is not defined.\n",
      "  warnings.warn(PearsonRConstantInputWarning())\n"
     ]
    },
    {
     "name": "stdout",
     "output_type": "stream",
     "text": [
      "Epoch 4 end: 1.5977067947387695, TRAIN MSE is: 1154.4215087890625\n",
      "Validation loss: 224042.5937500 - MSE score: 1071.9739990\n",
      "Validation pearson is: nan\n",
      "Validation r2_score is: -0.16732376967929352\n",
      "-------------------------\n"
     ]
    },
    {
     "name": "stderr",
     "output_type": "stream",
     "text": [
      "/home/mbosnjak/.conda/envs/pero/lib/python3.7/site-packages/scipy/stats/stats.py:3399: PearsonRConstantInputWarning: An input array is constant; the correlation coefficent is not defined.\n",
      "  warnings.warn(PearsonRConstantInputWarning())\n"
     ]
    },
    {
     "name": "stdout",
     "output_type": "stream",
     "text": [
      "Epoch 5 end: 1.5478546619415283, TRAIN MSE is: 1150.7342529296875\n",
      "Validation loss: 212491.2812500 - MSE score: 1016.7047119\n",
      "Validation pearson is: nan\n",
      "Validation r2_score is: -0.10713829765506766\n",
      "-------------------------\n"
     ]
    },
    {
     "name": "stderr",
     "output_type": "stream",
     "text": [
      "/home/mbosnjak/.conda/envs/pero/lib/python3.7/site-packages/scipy/stats/stats.py:3399: PearsonRConstantInputWarning: An input array is constant; the correlation coefficent is not defined.\n",
      "  warnings.warn(PearsonRConstantInputWarning())\n"
     ]
    },
    {
     "name": "stdout",
     "output_type": "stream",
     "text": [
      "Epoch 6 end: 1.5643138885498047, TRAIN MSE is: 1062.1544189453125\n",
      "Validation loss: 206883.2968750 - MSE score: 989.8721313\n",
      "Validation pearson is: nan\n",
      "Validation r2_score is: -0.07791905118993037\n",
      "-------------------------\n"
     ]
    },
    {
     "name": "stderr",
     "output_type": "stream",
     "text": [
      "/home/mbosnjak/.conda/envs/pero/lib/python3.7/site-packages/scipy/stats/stats.py:3399: PearsonRConstantInputWarning: An input array is constant; the correlation coefficent is not defined.\n",
      "  warnings.warn(PearsonRConstantInputWarning())\n"
     ]
    },
    {
     "name": "stdout",
     "output_type": "stream",
     "text": [
      "Epoch 7 end: 1.545703411102295, TRAIN MSE is: 1063.474365234375\n",
      "Validation loss: 203297.7343750 - MSE score: 972.7164307\n",
      "Validation pearson is: nan\n",
      "Validation r2_score is: -0.05923736459471152\n",
      "-------------------------\n"
     ]
    },
    {
     "name": "stderr",
     "output_type": "stream",
     "text": [
      "/home/mbosnjak/.conda/envs/pero/lib/python3.7/site-packages/scipy/stats/stats.py:3399: PearsonRConstantInputWarning: An input array is constant; the correlation coefficent is not defined.\n",
      "  warnings.warn(PearsonRConstantInputWarning())\n"
     ]
    },
    {
     "name": "stdout",
     "output_type": "stream",
     "text": [
      "Epoch 8 end: 1.5581307411193848, TRAIN MSE is: 1106.872802734375\n",
      "Validation loss: 202890.6250000 - MSE score: 970.7686768\n",
      "Validation pearson is: nan\n",
      "Validation r2_score is: -0.05711631040521947\n",
      "-------------------------\n"
     ]
    },
    {
     "name": "stderr",
     "output_type": "stream",
     "text": [
      "/home/mbosnjak/.conda/envs/pero/lib/python3.7/site-packages/scipy/stats/stats.py:3399: PearsonRConstantInputWarning: An input array is constant; the correlation coefficent is not defined.\n",
      "  warnings.warn(PearsonRConstantInputWarning())\n"
     ]
    },
    {
     "name": "stdout",
     "output_type": "stream",
     "text": [
      "Epoch 9 end: 1.5021278858184814, TRAIN MSE is: 1097.8255615234375\n",
      "Validation loss: 203635.9062500 - MSE score: 974.3344727\n",
      "Validation pearson is: nan\n",
      "Validation r2_score is: -0.06099936059125666\n",
      "-------------------------\n"
     ]
    },
    {
     "name": "stderr",
     "output_type": "stream",
     "text": [
      "/home/mbosnjak/.conda/envs/pero/lib/python3.7/site-packages/scipy/stats/stats.py:3399: PearsonRConstantInputWarning: An input array is constant; the correlation coefficent is not defined.\n",
      "  warnings.warn(PearsonRConstantInputWarning())\n"
     ]
    },
    {
     "name": "stdout",
     "output_type": "stream",
     "text": [
      "Epoch 10 end: 1.5071132183074951, TRAIN MSE is: 1097.9837646484375\n",
      "Validation loss: 202117.1875000 - MSE score: 967.0677490\n",
      "Validation pearson is: nan\n",
      "Validation r2_score is: -0.05308627187874415\n",
      "-------------------------\n"
     ]
    },
    {
     "name": "stderr",
     "output_type": "stream",
     "text": [
      "/home/mbosnjak/.conda/envs/pero/lib/python3.7/site-packages/scipy/stats/stats.py:3399: PearsonRConstantInputWarning: An input array is constant; the correlation coefficent is not defined.\n",
      "  warnings.warn(PearsonRConstantInputWarning())\n"
     ]
    },
    {
     "name": "stdout",
     "output_type": "stream",
     "text": [
      "Epoch 11 end: 1.5735695362091064, TRAIN MSE is: 1055.093994140625\n",
      "Validation loss: 201285.8281250 - MSE score: 963.0901489\n",
      "Validation pearson is: nan\n",
      "Validation r2_score is: -0.04875477544112572\n",
      "-------------------------\n"
     ]
    },
    {
     "name": "stderr",
     "output_type": "stream",
     "text": [
      "/home/mbosnjak/.conda/envs/pero/lib/python3.7/site-packages/scipy/stats/stats.py:3399: PearsonRConstantInputWarning: An input array is constant; the correlation coefficent is not defined.\n",
      "  warnings.warn(PearsonRConstantInputWarning())\n"
     ]
    },
    {
     "name": "stdout",
     "output_type": "stream",
     "text": [
      "Epoch 12 end: 1.5618107318878174, TRAIN MSE is: 1064.1826171875\n",
      "Validation loss: 200875.1093750 - MSE score: 961.1250000\n",
      "Validation pearson is: nan\n",
      "Validation r2_score is: -0.04661486344092136\n",
      "-------------------------\n"
     ]
    },
    {
     "name": "stderr",
     "output_type": "stream",
     "text": [
      "/home/mbosnjak/.conda/envs/pero/lib/python3.7/site-packages/scipy/stats/stats.py:3399: PearsonRConstantInputWarning: An input array is constant; the correlation coefficent is not defined.\n",
      "  warnings.warn(PearsonRConstantInputWarning())\n"
     ]
    },
    {
     "name": "stdout",
     "output_type": "stream",
     "text": [
      "Epoch 13 end: 1.5193891525268555, TRAIN MSE is: 1078.033203125\n",
      "Validation loss: 201981.6562500 - MSE score: 966.4194336\n",
      "Validation pearson is: nan\n",
      "Validation r2_score is: -0.05238022654790431\n",
      "-------------------------\n"
     ]
    },
    {
     "name": "stderr",
     "output_type": "stream",
     "text": [
      "/home/mbosnjak/.conda/envs/pero/lib/python3.7/site-packages/scipy/stats/stats.py:3399: PearsonRConstantInputWarning: An input array is constant; the correlation coefficent is not defined.\n",
      "  warnings.warn(PearsonRConstantInputWarning())\n"
     ]
    },
    {
     "name": "stdout",
     "output_type": "stream",
     "text": [
      "Epoch 14 end: 1.5374209880828857, TRAIN MSE is: 1047.69580078125\n",
      "Validation loss: 202790.9375000 - MSE score: 970.2915649\n",
      "Validation pearson is: nan\n",
      "Validation r2_score is: -0.056596712684864325\n",
      "-------------------------\n"
     ]
    },
    {
     "name": "stderr",
     "output_type": "stream",
     "text": [
      "/home/mbosnjak/.conda/envs/pero/lib/python3.7/site-packages/scipy/stats/stats.py:3399: PearsonRConstantInputWarning: An input array is constant; the correlation coefficent is not defined.\n",
      "  warnings.warn(PearsonRConstantInputWarning())\n"
     ]
    },
    {
     "name": "stdout",
     "output_type": "stream",
     "text": [
      "Epoch 15 end: 1.4461455345153809, TRAIN MSE is: 1058.3306884765625\n",
      "Validation loss: 202644.1562500 - MSE score: 969.5892944\n",
      "Validation pearson is: nan\n",
      "Validation r2_score is: -0.05583197385388683\n",
      "-------------------------\n"
     ]
    },
    {
     "name": "stderr",
     "output_type": "stream",
     "text": [
      "/home/mbosnjak/.conda/envs/pero/lib/python3.7/site-packages/scipy/stats/stats.py:3399: PearsonRConstantInputWarning: An input array is constant; the correlation coefficent is not defined.\n",
      "  warnings.warn(PearsonRConstantInputWarning())\n"
     ]
    },
    {
     "name": "stdout",
     "output_type": "stream",
     "text": [
      "Epoch 16 end: 1.550771713256836, TRAIN MSE is: 1117.73388671875\n",
      "Validation loss: 203895.1250000 - MSE score: 975.5747681\n",
      "Validation pearson is: nan\n",
      "Validation r2_score is: -0.06234995537979926\n",
      "-------------------------\n"
     ]
    },
    {
     "name": "stderr",
     "output_type": "stream",
     "text": [
      "/home/mbosnjak/.conda/envs/pero/lib/python3.7/site-packages/scipy/stats/stats.py:3399: PearsonRConstantInputWarning: An input array is constant; the correlation coefficent is not defined.\n",
      "  warnings.warn(PearsonRConstantInputWarning())\n"
     ]
    },
    {
     "name": "stdout",
     "output_type": "stream",
     "text": [
      "Epoch 17 end: 1.7238643169403076, TRAIN MSE is: 1040.13427734375\n",
      "Validation loss: 203459.5937500 - MSE score: 973.4909058\n",
      "Validation pearson is: nan\n",
      "Validation r2_score is: -0.06008068546416534\n",
      "-------------------------\n"
     ]
    },
    {
     "name": "stderr",
     "output_type": "stream",
     "text": [
      "/home/mbosnjak/.conda/envs/pero/lib/python3.7/site-packages/scipy/stats/stats.py:3399: PearsonRConstantInputWarning: An input array is constant; the correlation coefficent is not defined.\n",
      "  warnings.warn(PearsonRConstantInputWarning())\n"
     ]
    },
    {
     "name": "stdout",
     "output_type": "stream",
     "text": [
      "Epoch 18 end: 1.739675760269165, TRAIN MSE is: 1026.470947265625\n",
      "Validation loss: 202506.1250000 - MSE score: 968.9288330\n",
      "Validation pearson is: nan\n",
      "Validation r2_score is: -0.05511287744362359\n",
      "-------------------------\n",
      "Starting training for: {'learning_rate': 0.3, 'act_func': 'sig', 'batch_size': 64, 'kernels_count': 8, 'sentences_count': 2, 'hidden_layers': [8, 6, 4], 'dropout': 0.5, 'alpha': 0.1978, 'regularization_type': 'None'}\n",
      "-------------------------\n"
     ]
    },
    {
     "name": "stderr",
     "output_type": "stream",
     "text": [
      "/home/mbosnjak/.conda/envs/pero/lib/python3.7/site-packages/scipy/stats/stats.py:3399: PearsonRConstantInputWarning: An input array is constant; the correlation coefficent is not defined.\n",
      "  warnings.warn(PearsonRConstantInputWarning())\n"
     ]
    },
    {
     "name": "stdout",
     "output_type": "stream",
     "text": [
      "Epoch 0 end: 1.874929666519165, TRAIN MSE is: 1793.7462158203125\n",
      "Validation loss: 266673.7187500 - MSE score: 1275.9506836\n",
      "Validation pearson is: nan\n",
      "Validation r2_score is: -0.38944364967429435\n",
      "-------------------------\n"
     ]
    },
    {
     "name": "stderr",
     "output_type": "stream",
     "text": [
      "/home/mbosnjak/.conda/envs/pero/lib/python3.7/site-packages/scipy/stats/stats.py:3399: PearsonRConstantInputWarning: An input array is constant; the correlation coefficent is not defined.\n",
      "  warnings.warn(PearsonRConstantInputWarning())\n"
     ]
    },
    {
     "name": "stdout",
     "output_type": "stream",
     "text": [
      "Epoch 1 end: 1.5094289779663086, TRAIN MSE is: 1171.5001220703125\n",
      "Validation loss: 198916.4843750 - MSE score: 951.7535400\n",
      "Validation pearson is: nan\n",
      "Validation r2_score is: -0.036409832813346865\n",
      "-------------------------\n"
     ]
    },
    {
     "name": "stderr",
     "output_type": "stream",
     "text": [
      "/home/mbosnjak/.conda/envs/pero/lib/python3.7/site-packages/scipy/stats/stats.py:3399: PearsonRConstantInputWarning: An input array is constant; the correlation coefficent is not defined.\n",
      "  warnings.warn(PearsonRConstantInputWarning())\n"
     ]
    },
    {
     "name": "stdout",
     "output_type": "stream",
     "text": [
      "Epoch 2 end: 1.4927442073822021, TRAIN MSE is: 1092.142333984375\n",
      "Validation loss: 195558.8750000 - MSE score: 935.6884155\n",
      "Validation pearson is: nan\n",
      "Validation r2_score is: -0.018915741249403872\n",
      "-------------------------\n"
     ]
    },
    {
     "name": "stderr",
     "output_type": "stream",
     "text": [
      "/home/mbosnjak/.conda/envs/pero/lib/python3.7/site-packages/scipy/stats/stats.py:3399: PearsonRConstantInputWarning: An input array is constant; the correlation coefficent is not defined.\n",
      "  warnings.warn(PearsonRConstantInputWarning())\n"
     ]
    },
    {
     "name": "stdout",
     "output_type": "stream",
     "text": [
      "Epoch 3 end: 1.5157499313354492, TRAIN MSE is: 1117.1978759765625\n",
      "Validation loss: 201316.1562500 - MSE score: 963.2351685\n",
      "Validation pearson is: nan\n",
      "Validation r2_score is: -0.048912865355329016\n",
      "-------------------------\n"
     ]
    },
    {
     "name": "stderr",
     "output_type": "stream",
     "text": [
      "/home/mbosnjak/.conda/envs/pero/lib/python3.7/site-packages/scipy/stats/stats.py:3399: PearsonRConstantInputWarning: An input array is constant; the correlation coefficent is not defined.\n",
      "  warnings.warn(PearsonRConstantInputWarning())\n"
     ]
    },
    {
     "name": "stdout",
     "output_type": "stream",
     "text": [
      "Epoch 4 end: 1.479280948638916, TRAIN MSE is: 1083.1644287109375\n",
      "Validation loss: 205072.9843750 - MSE score: 981.2103882\n",
      "Validation pearson is: nan\n",
      "Validation r2_score is: -0.06848685640337449\n",
      "-------------------------\n"
     ]
    },
    {
     "name": "stderr",
     "output_type": "stream",
     "text": [
      "/home/mbosnjak/.conda/envs/pero/lib/python3.7/site-packages/scipy/stats/stats.py:3399: PearsonRConstantInputWarning: An input array is constant; the correlation coefficent is not defined.\n",
      "  warnings.warn(PearsonRConstantInputWarning())\n"
     ]
    },
    {
     "name": "stdout",
     "output_type": "stream",
     "text": [
      "Epoch 5 end: 1.510033130645752, TRAIN MSE is: 998.9600219726562\n",
      "Validation loss: 199663.4687500 - MSE score: 955.3275757\n",
      "Validation pearson is: nan\n",
      "Validation r2_score is: -0.040301800707733815\n",
      "-------------------------\n"
     ]
    },
    {
     "name": "stderr",
     "output_type": "stream",
     "text": [
      "/home/mbosnjak/.conda/envs/pero/lib/python3.7/site-packages/scipy/stats/stats.py:3399: PearsonRConstantInputWarning: An input array is constant; the correlation coefficent is not defined.\n",
      "  warnings.warn(PearsonRConstantInputWarning())\n"
     ]
    },
    {
     "name": "stdout",
     "output_type": "stream",
     "text": [
      "Epoch 6 end: 1.5252685546875, TRAIN MSE is: 1026.3018798828125\n",
      "Validation loss: 197978.0312500 - MSE score: 947.2633057\n",
      "Validation pearson is: nan\n",
      "Validation r2_score is: -0.031520253950138466\n",
      "-------------------------\n"
     ]
    },
    {
     "name": "stderr",
     "output_type": "stream",
     "text": [
      "/home/mbosnjak/.conda/envs/pero/lib/python3.7/site-packages/scipy/stats/stats.py:3399: PearsonRConstantInputWarning: An input array is constant; the correlation coefficent is not defined.\n",
      "  warnings.warn(PearsonRConstantInputWarning())\n"
     ]
    },
    {
     "name": "stdout",
     "output_type": "stream",
     "text": [
      "Epoch 7 end: 1.5548450946807861, TRAIN MSE is: 1033.004638671875\n",
      "Validation loss: 198938.5000000 - MSE score: 951.8588257\n",
      "Validation pearson is: nan\n",
      "Validation r2_score is: -0.036524526165539806\n",
      "-------------------------\n"
     ]
    },
    {
     "name": "stderr",
     "output_type": "stream",
     "text": [
      "/home/mbosnjak/.conda/envs/pero/lib/python3.7/site-packages/scipy/stats/stats.py:3399: PearsonRConstantInputWarning: An input array is constant; the correlation coefficent is not defined.\n",
      "  warnings.warn(PearsonRConstantInputWarning())\n"
     ]
    },
    {
     "name": "stdout",
     "output_type": "stream",
     "text": [
      "Epoch 8 end: 1.5106596946716309, TRAIN MSE is: 1007.7467041015625\n",
      "Validation loss: 199952.7343750 - MSE score: 956.7117310\n",
      "Validation pearson is: nan\n",
      "Validation r2_score is: -0.041809064237947835\n",
      "-------------------------\n",
      "Apply best model to test for ['extraversion'] on fold 0.\n"
     ]
    },
    {
     "name": "stderr",
     "output_type": "stream",
     "text": [
      "/home/mbosnjak/.conda/envs/pero/lib/python3.7/site-packages/scipy/stats/stats.py:3399: PearsonRConstantInputWarning: An input array is constant; the correlation coefficent is not defined.\n",
      "  warnings.warn(PearsonRConstantInputWarning())\n"
     ]
    },
    {
     "name": "stdout",
     "output_type": "stream",
     "text": [
      "Test loss: 242941.59375 - MSE score: 927.2575684 \n",
      "Test pearson is: nan\n",
      "Test r2_score is: -0.026917026689974977\n",
      "-------------------------\n",
      "+++ Finished with training and testing model for ['extraversion'] on fold 0. +++\n",
      "-------------------------\n",
      "-------------------------\n",
      "Processing fold: 0 and target: ['neuroticism']\n",
      "-------------------------\n",
      "Train size: 833\n",
      "Validation size: 209\n",
      "Test size: 260\n",
      "-------------------------\n",
      "Starting training for: {'learning_rate': 0.01, 'act_func': 'sig', 'batch_size': 64, 'kernels_count': 8, 'sentences_count': 2, 'hidden_layers': [8, 6, 4], 'dropout': 0.5, 'alpha': 0.1978, 'regularization_type': 'None'}\n",
      "-------------------------\n",
      "Epoch 0 end: 1.7780418395996094, TRAIN MSE is: 3330.183349609375\n",
      "Validation loss: 728682.5625000 - MSE score: 3486.5197754\n",
      "Validation pearson is: -0.0315958026608304\n",
      "Validation r2_score is: -2.3501012647255495\n",
      "-------------------------\n",
      "Epoch 1 end: 1.4348223209381104, TRAIN MSE is: 3282.838623046875\n",
      "Validation loss: 717993.4375000 - MSE score: 3435.3752441\n",
      "Validation pearson is: -0.04315907184489448\n",
      "Validation r2_score is: -2.3009580825956792\n",
      "-------------------------\n",
      "Epoch 2 end: 1.7239930629730225, TRAIN MSE is: 3230.597900390625\n",
      "Validation loss: 705156.3750000 - MSE score: 3373.9538574\n",
      "Validation pearson is: -0.03356261436940748\n",
      "Validation r2_score is: -2.2419402196839058\n",
      "-------------------------\n",
      "Epoch 3 end: 1.5662600994110107, TRAIN MSE is: 3168.416748046875\n",
      "Validation loss: 689733.3125000 - MSE score: 3300.1594238\n",
      "Validation pearson is: -0.06186701327840437\n",
      "Validation r2_score is: -2.1710327829345943\n",
      "-------------------------\n",
      "Epoch 4 end: 1.6043262481689453, TRAIN MSE is: 3097.1962890625\n",
      "Validation loss: 672503.4375000 - MSE score: 3217.7194824\n",
      "Validation pearson is: -0.061476366835728886\n",
      "Validation r2_score is: -2.0918190046832756\n",
      "-------------------------\n",
      "Epoch 5 end: 1.5551602840423584, TRAIN MSE is: 3039.29150390625\n",
      "Validation loss: 655623.5625000 - MSE score: 3136.9545898\n",
      "Validation pearson is: -0.0602195008209174\n",
      "Validation r2_score is: -2.014214072288381\n",
      "-------------------------\n",
      "Epoch 6 end: 1.569800615310669, TRAIN MSE is: 2952.21630859375\n",
      "Validation loss: 639763.3125000 - MSE score: 3061.0683594\n",
      "Validation pearson is: -0.0383277315286756\n",
      "Validation r2_score is: -1.9412969629606769\n",
      "-------------------------\n"
     ]
    },
    {
     "name": "stderr",
     "output_type": "stream",
     "text": [
      "/home/mbosnjak/.conda/envs/pero/lib/python3.7/site-packages/scipy/stats/stats.py:3399: PearsonRConstantInputWarning: An input array is constant; the correlation coefficent is not defined.\n",
      "  warnings.warn(PearsonRConstantInputWarning())\n"
     ]
    },
    {
     "name": "stdout",
     "output_type": "stream",
     "text": [
      "Epoch 7 end: 1.5394296646118164, TRAIN MSE is: 2876.71435546875\n",
      "Validation loss: 624599.8750000 - MSE score: 2988.5161133\n",
      "Validation pearson is: nan\n",
      "Validation r2_score is: -1.8715833503520782\n",
      "-------------------------\n"
     ]
    },
    {
     "name": "stderr",
     "output_type": "stream",
     "text": [
      "/home/mbosnjak/.conda/envs/pero/lib/python3.7/site-packages/scipy/stats/stats.py:3399: PearsonRConstantInputWarning: An input array is constant; the correlation coefficent is not defined.\n",
      "  warnings.warn(PearsonRConstantInputWarning())\n"
     ]
    },
    {
     "name": "stdout",
     "output_type": "stream",
     "text": [
      "Epoch 8 end: 1.6058907508850098, TRAIN MSE is: 2817.52392578125\n",
      "Validation loss: 610411.3125000 - MSE score: 2920.6279297\n",
      "Validation pearson is: nan\n",
      "Validation r2_score is: -1.8063517509218845\n",
      "-------------------------\n"
     ]
    },
    {
     "name": "stderr",
     "output_type": "stream",
     "text": [
      "/home/mbosnjak/.conda/envs/pero/lib/python3.7/site-packages/scipy/stats/stats.py:3399: PearsonRConstantInputWarning: An input array is constant; the correlation coefficent is not defined.\n",
      "  warnings.warn(PearsonRConstantInputWarning())\n"
     ]
    },
    {
     "name": "stdout",
     "output_type": "stream",
     "text": [
      "Epoch 9 end: 1.6714186668395996, TRAIN MSE is: 2752.53955078125\n",
      "Validation loss: 597205.3125000 - MSE score: 2857.4414062\n",
      "Validation pearson is: nan\n",
      "Validation r2_score is: -1.7456374776448076\n",
      "-------------------------\n"
     ]
    },
    {
     "name": "stderr",
     "output_type": "stream",
     "text": [
      "/home/mbosnjak/.conda/envs/pero/lib/python3.7/site-packages/scipy/stats/stats.py:3399: PearsonRConstantInputWarning: An input array is constant; the correlation coefficent is not defined.\n",
      "  warnings.warn(PearsonRConstantInputWarning())\n"
     ]
    },
    {
     "name": "stdout",
     "output_type": "stream",
     "text": [
      "Epoch 10 end: 1.610581398010254, TRAIN MSE is: 2700.491943359375\n",
      "Validation loss: 584335.7500000 - MSE score: 2795.8645020\n",
      "Validation pearson is: nan\n",
      "Validation r2_score is: -1.6864699015347169\n",
      "-------------------------\n"
     ]
    },
    {
     "name": "stderr",
     "output_type": "stream",
     "text": [
      "/home/mbosnjak/.conda/envs/pero/lib/python3.7/site-packages/scipy/stats/stats.py:3399: PearsonRConstantInputWarning: An input array is constant; the correlation coefficent is not defined.\n",
      "  warnings.warn(PearsonRConstantInputWarning())\n"
     ]
    },
    {
     "name": "stdout",
     "output_type": "stream",
     "text": [
      "Epoch 11 end: 1.7536587715148926, TRAIN MSE is: 2628.799560546875\n",
      "Validation loss: 572156.0000000 - MSE score: 2737.5881348\n",
      "Validation pearson is: nan\n",
      "Validation r2_score is: -1.6304737277823795\n",
      "-------------------------\n"
     ]
    },
    {
     "name": "stderr",
     "output_type": "stream",
     "text": [
      "/home/mbosnjak/.conda/envs/pero/lib/python3.7/site-packages/scipy/stats/stats.py:3399: PearsonRConstantInputWarning: An input array is constant; the correlation coefficent is not defined.\n",
      "  warnings.warn(PearsonRConstantInputWarning())\n"
     ]
    },
    {
     "name": "stdout",
     "output_type": "stream",
     "text": [
      "Epoch 12 end: 1.515350580215454, TRAIN MSE is: 2611.239013671875\n",
      "Validation loss: 560774.8750000 - MSE score: 2683.1337891\n",
      "Validation pearson is: nan\n",
      "Validation r2_score is: -1.578149710272747\n",
      "-------------------------\n"
     ]
    },
    {
     "name": "stderr",
     "output_type": "stream",
     "text": [
      "/home/mbosnjak/.conda/envs/pero/lib/python3.7/site-packages/scipy/stats/stats.py:3399: PearsonRConstantInputWarning: An input array is constant; the correlation coefficent is not defined.\n",
      "  warnings.warn(PearsonRConstantInputWarning())\n"
     ]
    },
    {
     "name": "stdout",
     "output_type": "stream",
     "text": [
      "Epoch 13 end: 1.5797975063323975, TRAIN MSE is: 2523.84521484375\n",
      "Validation loss: 549375.8750000 - MSE score: 2628.5927734\n",
      "Validation pearson is: nan\n",
      "Validation r2_score is: -1.5257430356156316\n",
      "-------------------------\n"
     ]
    },
    {
     "name": "stderr",
     "output_type": "stream",
     "text": [
      "/home/mbosnjak/.conda/envs/pero/lib/python3.7/site-packages/scipy/stats/stats.py:3399: PearsonRConstantInputWarning: An input array is constant; the correlation coefficent is not defined.\n",
      "  warnings.warn(PearsonRConstantInputWarning())\n"
     ]
    },
    {
     "name": "stdout",
     "output_type": "stream",
     "text": [
      "Epoch 14 end: 1.4983406066894531, TRAIN MSE is: 2486.11767578125\n",
      "Validation loss: 538621.3750000 - MSE score: 2577.1354980\n",
      "Validation pearson is: nan\n",
      "Validation r2_score is: -1.4762990885298297\n",
      "-------------------------\n"
     ]
    },
    {
     "name": "stderr",
     "output_type": "stream",
     "text": [
      "/home/mbosnjak/.conda/envs/pero/lib/python3.7/site-packages/scipy/stats/stats.py:3399: PearsonRConstantInputWarning: An input array is constant; the correlation coefficent is not defined.\n",
      "  warnings.warn(PearsonRConstantInputWarning())\n"
     ]
    },
    {
     "name": "stdout",
     "output_type": "stream",
     "text": [
      "Epoch 15 end: 1.5187079906463623, TRAIN MSE is: 2435.349853515625\n",
      "Validation loss: 527956.3750000 - MSE score: 2526.1071777\n",
      "Validation pearson is: nan\n",
      "Validation r2_score is: -1.4272670952213855\n",
      "-------------------------\n"
     ]
    },
    {
     "name": "stderr",
     "output_type": "stream",
     "text": [
      "/home/mbosnjak/.conda/envs/pero/lib/python3.7/site-packages/scipy/stats/stats.py:3399: PearsonRConstantInputWarning: An input array is constant; the correlation coefficent is not defined.\n",
      "  warnings.warn(PearsonRConstantInputWarning())\n"
     ]
    },
    {
     "name": "stdout",
     "output_type": "stream",
     "text": [
      "Epoch 16 end: 1.5341057777404785, TRAIN MSE is: 2413.18359375\n",
      "Validation loss: 517966.7187500 - MSE score: 2478.3095703\n",
      "Validation pearson is: nan\n",
      "Validation r2_score is: -1.381339869880518\n",
      "-------------------------\n"
     ]
    },
    {
     "name": "stderr",
     "output_type": "stream",
     "text": [
      "/home/mbosnjak/.conda/envs/pero/lib/python3.7/site-packages/scipy/stats/stats.py:3399: PearsonRConstantInputWarning: An input array is constant; the correlation coefficent is not defined.\n",
      "  warnings.warn(PearsonRConstantInputWarning())\n"
     ]
    },
    {
     "name": "stdout",
     "output_type": "stream",
     "text": [
      "Epoch 17 end: 1.5128567218780518, TRAIN MSE is: 2343.9921875\n",
      "Validation loss: 508295.8750000 - MSE score: 2432.0375977\n",
      "Validation pearson is: nan\n",
      "Validation r2_score is: -1.336878398960783\n",
      "-------------------------\n"
     ]
    },
    {
     "name": "stderr",
     "output_type": "stream",
     "text": [
      "/home/mbosnjak/.conda/envs/pero/lib/python3.7/site-packages/scipy/stats/stats.py:3399: PearsonRConstantInputWarning: An input array is constant; the correlation coefficent is not defined.\n",
      "  warnings.warn(PearsonRConstantInputWarning())\n"
     ]
    },
    {
     "name": "stdout",
     "output_type": "stream",
     "text": [
      "Epoch 18 end: 1.5214898586273193, TRAIN MSE is: 2303.366943359375\n",
      "Validation loss: 498734.0625000 - MSE score: 2386.2873535\n",
      "Validation pearson is: nan\n",
      "Validation r2_score is: -1.2929183371808994\n",
      "-------------------------\n"
     ]
    },
    {
     "name": "stderr",
     "output_type": "stream",
     "text": [
      "/home/mbosnjak/.conda/envs/pero/lib/python3.7/site-packages/scipy/stats/stats.py:3399: PearsonRConstantInputWarning: An input array is constant; the correlation coefficent is not defined.\n",
      "  warnings.warn(PearsonRConstantInputWarning())\n"
     ]
    },
    {
     "name": "stdout",
     "output_type": "stream",
     "text": [
      "Epoch 19 end: 1.6386168003082275, TRAIN MSE is: 2238.451171875\n",
      "Validation loss: 489314.9062500 - MSE score: 2341.2194824\n",
      "Validation pearson is: nan\n",
      "Validation r2_score is: -1.2496138179304581\n",
      "-------------------------\n"
     ]
    },
    {
     "name": "stderr",
     "output_type": "stream",
     "text": [
      "/home/mbosnjak/.conda/envs/pero/lib/python3.7/site-packages/scipy/stats/stats.py:3399: PearsonRConstantInputWarning: An input array is constant; the correlation coefficent is not defined.\n",
      "  warnings.warn(PearsonRConstantInputWarning())\n"
     ]
    },
    {
     "name": "stdout",
     "output_type": "stream",
     "text": [
      "Epoch 20 end: 1.508962869644165, TRAIN MSE is: 2213.619384765625\n",
      "Validation loss: 480313.1250000 - MSE score: 2298.1489258\n",
      "Validation pearson is: nan\n",
      "Validation r2_score is: -1.2082284368150762\n",
      "-------------------------\n"
     ]
    },
    {
     "name": "stderr",
     "output_type": "stream",
     "text": [
      "/home/mbosnjak/.conda/envs/pero/lib/python3.7/site-packages/scipy/stats/stats.py:3399: PearsonRConstantInputWarning: An input array is constant; the correlation coefficent is not defined.\n",
      "  warnings.warn(PearsonRConstantInputWarning())\n"
     ]
    },
    {
     "name": "stdout",
     "output_type": "stream",
     "text": [
      "Epoch 21 end: 1.573624849319458, TRAIN MSE is: 2189.2177734375\n",
      "Validation loss: 471643.2187500 - MSE score: 2256.6660156\n",
      "Validation pearson is: nan\n",
      "Validation r2_score is: -1.1683686293078956\n",
      "-------------------------\n"
     ]
    },
    {
     "name": "stderr",
     "output_type": "stream",
     "text": [
      "/home/mbosnjak/.conda/envs/pero/lib/python3.7/site-packages/scipy/stats/stats.py:3399: PearsonRConstantInputWarning: An input array is constant; the correlation coefficent is not defined.\n",
      "  warnings.warn(PearsonRConstantInputWarning())\n"
     ]
    },
    {
     "name": "stdout",
     "output_type": "stream",
     "text": [
      "Epoch 22 end: 1.4411108493804932, TRAIN MSE is: 2149.064208984375\n",
      "Validation loss: 463345.2500000 - MSE score: 2216.9628906\n",
      "Validation pearson is: nan\n",
      "Validation r2_score is: -1.1302188927648178\n",
      "-------------------------\n"
     ]
    },
    {
     "name": "stderr",
     "output_type": "stream",
     "text": [
      "/home/mbosnjak/.conda/envs/pero/lib/python3.7/site-packages/scipy/stats/stats.py:3399: PearsonRConstantInputWarning: An input array is constant; the correlation coefficent is not defined.\n",
      "  warnings.warn(PearsonRConstantInputWarning())\n"
     ]
    },
    {
     "name": "stdout",
     "output_type": "stream",
     "text": [
      "Epoch 23 end: 1.3121564388275146, TRAIN MSE is: 2097.60693359375\n",
      "Validation loss: 455107.9375000 - MSE score: 2177.5500488\n",
      "Validation pearson is: nan\n",
      "Validation r2_score is: -1.0923483200047683\n",
      "-------------------------\n"
     ]
    },
    {
     "name": "stderr",
     "output_type": "stream",
     "text": [
      "/home/mbosnjak/.conda/envs/pero/lib/python3.7/site-packages/scipy/stats/stats.py:3399: PearsonRConstantInputWarning: An input array is constant; the correlation coefficent is not defined.\n",
      "  warnings.warn(PearsonRConstantInputWarning())\n"
     ]
    },
    {
     "name": "stdout",
     "output_type": "stream",
     "text": [
      "Epoch 24 end: 1.4791388511657715, TRAIN MSE is: 2101.31201171875\n",
      "Validation loss: 447295.5000000 - MSE score: 2140.1699219\n",
      "Validation pearson is: nan\n",
      "Validation r2_score is: -1.0564306717564382\n",
      "-------------------------\n"
     ]
    },
    {
     "name": "stderr",
     "output_type": "stream",
     "text": [
      "/home/mbosnjak/.conda/envs/pero/lib/python3.7/site-packages/scipy/stats/stats.py:3399: PearsonRConstantInputWarning: An input array is constant; the correlation coefficent is not defined.\n",
      "  warnings.warn(PearsonRConstantInputWarning())\n"
     ]
    },
    {
     "name": "stdout",
     "output_type": "stream",
     "text": [
      "Epoch 25 end: 1.6271886825561523, TRAIN MSE is: 2060.398193359375\n",
      "Validation loss: 439742.7812500 - MSE score: 2104.0322266\n",
      "Validation pearson is: nan\n",
      "Validation r2_score is: -1.0217070355176814\n",
      "-------------------------\n"
     ]
    },
    {
     "name": "stderr",
     "output_type": "stream",
     "text": [
      "/home/mbosnjak/.conda/envs/pero/lib/python3.7/site-packages/scipy/stats/stats.py:3399: PearsonRConstantInputWarning: An input array is constant; the correlation coefficent is not defined.\n",
      "  warnings.warn(PearsonRConstantInputWarning())\n"
     ]
    },
    {
     "name": "stdout",
     "output_type": "stream",
     "text": [
      "Epoch 26 end: 1.7270209789276123, TRAIN MSE is: 2035.377685546875\n",
      "Validation loss: 432524.8750000 - MSE score: 2069.4970703\n",
      "Validation pearson is: nan\n",
      "Validation r2_score is: -0.988523210453609\n",
      "-------------------------\n"
     ]
    },
    {
     "name": "stderr",
     "output_type": "stream",
     "text": [
      "/home/mbosnjak/.conda/envs/pero/lib/python3.7/site-packages/scipy/stats/stats.py:3399: PearsonRConstantInputWarning: An input array is constant; the correlation coefficent is not defined.\n",
      "  warnings.warn(PearsonRConstantInputWarning())\n"
     ]
    },
    {
     "name": "stdout",
     "output_type": "stream",
     "text": [
      "Epoch 27 end: 1.8809690475463867, TRAIN MSE is: 2006.363037109375\n",
      "Validation loss: 425461.2500000 - MSE score: 2035.6997070\n",
      "Validation pearson is: nan\n",
      "Validation r2_score is: -0.9560481440494557\n",
      "-------------------------\n"
     ]
    },
    {
     "name": "stderr",
     "output_type": "stream",
     "text": [
      "/home/mbosnjak/.conda/envs/pero/lib/python3.7/site-packages/scipy/stats/stats.py:3399: PearsonRConstantInputWarning: An input array is constant; the correlation coefficent is not defined.\n",
      "  warnings.warn(PearsonRConstantInputWarning())\n"
     ]
    },
    {
     "name": "stdout",
     "output_type": "stream",
     "text": [
      "Epoch 28 end: 1.5498709678649902, TRAIN MSE is: 1965.60400390625\n",
      "Validation loss: 418645.2187500 - MSE score: 2003.0870361\n",
      "Validation pearson is: nan\n",
      "Validation r2_score is: -0.9247116685866867\n",
      "-------------------------\n"
     ]
    },
    {
     "name": "stderr",
     "output_type": "stream",
     "text": [
      "/home/mbosnjak/.conda/envs/pero/lib/python3.7/site-packages/scipy/stats/stats.py:3399: PearsonRConstantInputWarning: An input array is constant; the correlation coefficent is not defined.\n",
      "  warnings.warn(PearsonRConstantInputWarning())\n"
     ]
    },
    {
     "name": "stdout",
     "output_type": "stream",
     "text": [
      "Epoch 29 end: 1.543895959854126, TRAIN MSE is: 1930.5296630859375\n",
      "Validation loss: 411930.6875000 - MSE score: 1970.9602051\n",
      "Validation pearson is: nan\n",
      "Validation r2_score is: -0.8938418192134112\n",
      "-------------------------\n"
     ]
    },
    {
     "name": "stderr",
     "output_type": "stream",
     "text": [
      "/home/mbosnjak/.conda/envs/pero/lib/python3.7/site-packages/scipy/stats/stats.py:3399: PearsonRConstantInputWarning: An input array is constant; the correlation coefficent is not defined.\n",
      "  warnings.warn(PearsonRConstantInputWarning())\n"
     ]
    },
    {
     "name": "stdout",
     "output_type": "stream",
     "text": [
      "Epoch 30 end: 1.3981716632843018, TRAIN MSE is: 1880.9495849609375\n",
      "Validation loss: 405395.4062500 - MSE score: 1939.6907959\n",
      "Validation pearson is: nan\n",
      "Validation r2_score is: -0.8637958934416257\n",
      "-------------------------\n"
     ]
    },
    {
     "name": "stderr",
     "output_type": "stream",
     "text": [
      "/home/mbosnjak/.conda/envs/pero/lib/python3.7/site-packages/scipy/stats/stats.py:3399: PearsonRConstantInputWarning: An input array is constant; the correlation coefficent is not defined.\n",
      "  warnings.warn(PearsonRConstantInputWarning())\n"
     ]
    },
    {
     "name": "stdout",
     "output_type": "stream",
     "text": [
      "Epoch 31 end: 1.4861209392547607, TRAIN MSE is: 1857.723876953125\n",
      "Validation loss: 399063.5312500 - MSE score: 1909.3947754\n",
      "Validation pearson is: nan\n",
      "Validation r2_score is: -0.8346852938030322\n",
      "-------------------------\n"
     ]
    },
    {
     "name": "stderr",
     "output_type": "stream",
     "text": [
      "/home/mbosnjak/.conda/envs/pero/lib/python3.7/site-packages/scipy/stats/stats.py:3399: PearsonRConstantInputWarning: An input array is constant; the correlation coefficent is not defined.\n",
      "  warnings.warn(PearsonRConstantInputWarning())\n"
     ]
    },
    {
     "name": "stdout",
     "output_type": "stream",
     "text": [
      "Epoch 32 end: 1.4373493194580078, TRAIN MSE is: 1820.931884765625\n",
      "Validation loss: 392910.9062500 - MSE score: 1879.9562988\n",
      "Validation pearson is: nan\n",
      "Validation r2_score is: -0.8063986744277236\n",
      "-------------------------\n"
     ]
    },
    {
     "name": "stderr",
     "output_type": "stream",
     "text": [
      "/home/mbosnjak/.conda/envs/pero/lib/python3.7/site-packages/scipy/stats/stats.py:3399: PearsonRConstantInputWarning: An input array is constant; the correlation coefficent is not defined.\n",
      "  warnings.warn(PearsonRConstantInputWarning())\n"
     ]
    },
    {
     "name": "stdout",
     "output_type": "stream",
     "text": [
      "Epoch 33 end: 1.4365570545196533, TRAIN MSE is: 1832.1143798828125\n",
      "Validation loss: 386943.8437500 - MSE score: 1851.4060059\n",
      "Validation pearson is: nan\n",
      "Validation r2_score is: -0.7789653144290785\n",
      "-------------------------\n"
     ]
    },
    {
     "name": "stderr",
     "output_type": "stream",
     "text": [
      "/home/mbosnjak/.conda/envs/pero/lib/python3.7/site-packages/scipy/stats/stats.py:3399: PearsonRConstantInputWarning: An input array is constant; the correlation coefficent is not defined.\n",
      "  warnings.warn(PearsonRConstantInputWarning())\n"
     ]
    },
    {
     "name": "stdout",
     "output_type": "stream",
     "text": [
      "Epoch 34 end: 1.4033079147338867, TRAIN MSE is: 1864.90771484375\n",
      "Validation loss: 381523.0000000 - MSE score: 1825.4688721\n",
      "Validation pearson is: nan\n",
      "Validation r2_score is: -0.754043136474948\n",
      "-------------------------\n"
     ]
    },
    {
     "name": "stderr",
     "output_type": "stream",
     "text": [
      "/home/mbosnjak/.conda/envs/pero/lib/python3.7/site-packages/scipy/stats/stats.py:3399: PearsonRConstantInputWarning: An input array is constant; the correlation coefficent is not defined.\n",
      "  warnings.warn(PearsonRConstantInputWarning())\n"
     ]
    },
    {
     "name": "stdout",
     "output_type": "stream",
     "text": [
      "Epoch 35 end: 1.4052040576934814, TRAIN MSE is: 1760.7298583984375\n",
      "Validation loss: 376085.5625000 - MSE score: 1799.4523926\n",
      "Validation pearson is: nan\n",
      "Validation r2_score is: -0.7290446580738856\n",
      "-------------------------\n"
     ]
    },
    {
     "name": "stderr",
     "output_type": "stream",
     "text": [
      "/home/mbosnjak/.conda/envs/pero/lib/python3.7/site-packages/scipy/stats/stats.py:3399: PearsonRConstantInputWarning: An input array is constant; the correlation coefficent is not defined.\n",
      "  warnings.warn(PearsonRConstantInputWarning())\n"
     ]
    },
    {
     "name": "stdout",
     "output_type": "stream",
     "text": [
      "Epoch 36 end: 1.6016757488250732, TRAIN MSE is: 1760.60595703125\n",
      "Validation loss: 370734.2500000 - MSE score: 1773.8481445\n",
      "Validation pearson is: nan\n",
      "Validation r2_score is: -0.7044421023872276\n",
      "-------------------------\n"
     ]
    },
    {
     "name": "stderr",
     "output_type": "stream",
     "text": [
      "/home/mbosnjak/.conda/envs/pero/lib/python3.7/site-packages/scipy/stats/stats.py:3399: PearsonRConstantInputWarning: An input array is constant; the correlation coefficent is not defined.\n",
      "  warnings.warn(PearsonRConstantInputWarning())\n"
     ]
    },
    {
     "name": "stdout",
     "output_type": "stream",
     "text": [
      "Epoch 37 end: 1.8297979831695557, TRAIN MSE is: 1750.67578125\n",
      "Validation loss: 365616.4375000 - MSE score: 1749.3610840\n",
      "Validation pearson is: nan\n",
      "Validation r2_score is: -0.6809132432614524\n",
      "-------------------------\n"
     ]
    },
    {
     "name": "stderr",
     "output_type": "stream",
     "text": [
      "/home/mbosnjak/.conda/envs/pero/lib/python3.7/site-packages/scipy/stats/stats.py:3399: PearsonRConstantInputWarning: An input array is constant; the correlation coefficent is not defined.\n",
      "  warnings.warn(PearsonRConstantInputWarning())\n"
     ]
    },
    {
     "name": "stdout",
     "output_type": "stream",
     "text": [
      "Epoch 38 end: 1.5145103931427002, TRAIN MSE is: 1736.5460205078125\n",
      "Validation loss: 360608.2812500 - MSE score: 1725.3984375\n",
      "Validation pearson is: nan\n",
      "Validation r2_score is: -0.6578881684206175\n",
      "-------------------------\n"
     ]
    },
    {
     "name": "stderr",
     "output_type": "stream",
     "text": [
      "/home/mbosnjak/.conda/envs/pero/lib/python3.7/site-packages/scipy/stats/stats.py:3399: PearsonRConstantInputWarning: An input array is constant; the correlation coefficent is not defined.\n",
      "  warnings.warn(PearsonRConstantInputWarning())\n"
     ]
    },
    {
     "name": "stdout",
     "output_type": "stream",
     "text": [
      "Epoch 39 end: 1.4730689525604248, TRAIN MSE is: 1722.9267578125\n",
      "Validation loss: 355812.5000000 - MSE score: 1702.4521484\n",
      "Validation pearson is: nan\n",
      "Validation r2_score is: -0.6358397403929241\n",
      "-------------------------\n"
     ]
    },
    {
     "name": "stderr",
     "output_type": "stream",
     "text": [
      "/home/mbosnjak/.conda/envs/pero/lib/python3.7/site-packages/scipy/stats/stats.py:3399: PearsonRConstantInputWarning: An input array is constant; the correlation coefficent is not defined.\n",
      "  warnings.warn(PearsonRConstantInputWarning())\n"
     ]
    },
    {
     "name": "stdout",
     "output_type": "stream",
     "text": [
      "Epoch 40 end: 1.445904016494751, TRAIN MSE is: 1742.01025390625\n",
      "Validation loss: 351342.5312500 - MSE score: 1681.0649414\n",
      "Validation pearson is: nan\n",
      "Validation r2_score is: -0.6152892166819923\n",
      "-------------------------\n"
     ]
    },
    {
     "name": "stderr",
     "output_type": "stream",
     "text": [
      "/home/mbosnjak/.conda/envs/pero/lib/python3.7/site-packages/scipy/stats/stats.py:3399: PearsonRConstantInputWarning: An input array is constant; the correlation coefficent is not defined.\n",
      "  warnings.warn(PearsonRConstantInputWarning())\n"
     ]
    },
    {
     "name": "stdout",
     "output_type": "stream",
     "text": [
      "Epoch 41 end: 1.5060181617736816, TRAIN MSE is: 1692.340576171875\n",
      "Validation loss: 346805.0937500 - MSE score: 1659.3546143\n",
      "Validation pearson is: nan\n",
      "Validation r2_score is: -0.5944283958548922\n",
      "-------------------------\n"
     ]
    },
    {
     "name": "stderr",
     "output_type": "stream",
     "text": [
      "/home/mbosnjak/.conda/envs/pero/lib/python3.7/site-packages/scipy/stats/stats.py:3399: PearsonRConstantInputWarning: An input array is constant; the correlation coefficent is not defined.\n",
      "  warnings.warn(PearsonRConstantInputWarning())\n"
     ]
    },
    {
     "name": "stdout",
     "output_type": "stream",
     "text": [
      "Epoch 42 end: 1.4483721256256104, TRAIN MSE is: 1659.4632568359375\n",
      "Validation loss: 342530.3750000 - MSE score: 1638.9013672\n",
      "Validation pearson is: nan\n",
      "Validation r2_score is: -0.5747753487732274\n",
      "-------------------------\n"
     ]
    },
    {
     "name": "stderr",
     "output_type": "stream",
     "text": [
      "/home/mbosnjak/.conda/envs/pero/lib/python3.7/site-packages/scipy/stats/stats.py:3399: PearsonRConstantInputWarning: An input array is constant; the correlation coefficent is not defined.\n",
      "  warnings.warn(PearsonRConstantInputWarning())\n"
     ]
    },
    {
     "name": "stdout",
     "output_type": "stream",
     "text": [
      "Epoch 43 end: 1.492417573928833, TRAIN MSE is: 1643.650634765625\n",
      "Validation loss: 338387.7187500 - MSE score: 1619.0799561\n",
      "Validation pearson is: nan\n",
      "Validation r2_score is: -0.5557296384585007\n",
      "-------------------------\n"
     ]
    },
    {
     "name": "stderr",
     "output_type": "stream",
     "text": [
      "/home/mbosnjak/.conda/envs/pero/lib/python3.7/site-packages/scipy/stats/stats.py:3399: PearsonRConstantInputWarning: An input array is constant; the correlation coefficent is not defined.\n",
      "  warnings.warn(PearsonRConstantInputWarning())\n"
     ]
    },
    {
     "name": "stdout",
     "output_type": "stream",
     "text": [
      "Epoch 44 end: 1.482607126235962, TRAIN MSE is: 1654.981689453125\n",
      "Validation loss: 334348.6250000 - MSE score: 1599.7541504\n",
      "Validation pearson is: nan\n",
      "Validation r2_score is: -0.5371600219983836\n",
      "-------------------------\n"
     ]
    },
    {
     "name": "stderr",
     "output_type": "stream",
     "text": [
      "/home/mbosnjak/.conda/envs/pero/lib/python3.7/site-packages/scipy/stats/stats.py:3399: PearsonRConstantInputWarning: An input array is constant; the correlation coefficent is not defined.\n",
      "  warnings.warn(PearsonRConstantInputWarning())\n"
     ]
    },
    {
     "name": "stdout",
     "output_type": "stream",
     "text": [
      "Epoch 45 end: 1.4727239608764648, TRAIN MSE is: 1601.396728515625\n",
      "Validation loss: 330357.1875000 - MSE score: 1580.6563721\n",
      "Validation pearson is: nan\n",
      "Validation r2_score is: -0.5188095225046783\n",
      "-------------------------\n"
     ]
    },
    {
     "name": "stderr",
     "output_type": "stream",
     "text": [
      "/home/mbosnjak/.conda/envs/pero/lib/python3.7/site-packages/scipy/stats/stats.py:3399: PearsonRConstantInputWarning: An input array is constant; the correlation coefficent is not defined.\n",
      "  warnings.warn(PearsonRConstantInputWarning())\n"
     ]
    },
    {
     "name": "stdout",
     "output_type": "stream",
     "text": [
      "Epoch 46 end: 1.7026150226593018, TRAIN MSE is: 1568.3658447265625\n",
      "Validation loss: 326418.3750000 - MSE score: 1561.8106689\n",
      "Validation pearson is: nan\n",
      "Validation r2_score is: -0.500701071243006\n",
      "-------------------------\n"
     ]
    },
    {
     "name": "stderr",
     "output_type": "stream",
     "text": [
      "/home/mbosnjak/.conda/envs/pero/lib/python3.7/site-packages/scipy/stats/stats.py:3399: PearsonRConstantInputWarning: An input array is constant; the correlation coefficent is not defined.\n",
      "  warnings.warn(PearsonRConstantInputWarning())\n"
     ]
    },
    {
     "name": "stdout",
     "output_type": "stream",
     "text": [
      "Epoch 47 end: 1.615661382675171, TRAIN MSE is: 1623.5792236328125\n",
      "Validation loss: 322815.0625000 - MSE score: 1544.5697021\n",
      "Validation pearson is: nan\n",
      "Validation r2_score is: -0.48413472271547775\n",
      "-------------------------\n"
     ]
    },
    {
     "name": "stderr",
     "output_type": "stream",
     "text": [
      "/home/mbosnjak/.conda/envs/pero/lib/python3.7/site-packages/scipy/stats/stats.py:3399: PearsonRConstantInputWarning: An input array is constant; the correlation coefficent is not defined.\n",
      "  warnings.warn(PearsonRConstantInputWarning())\n"
     ]
    },
    {
     "name": "stdout",
     "output_type": "stream",
     "text": [
      "Epoch 48 end: 1.6855204105377197, TRAIN MSE is: 1583.6761474609375\n",
      "Validation loss: 319395.7500000 - MSE score: 1528.2092285\n",
      "Validation pearson is: nan\n",
      "Validation r2_score is: -0.4684145729290201\n",
      "-------------------------\n"
     ]
    },
    {
     "name": "stderr",
     "output_type": "stream",
     "text": [
      "/home/mbosnjak/.conda/envs/pero/lib/python3.7/site-packages/scipy/stats/stats.py:3399: PearsonRConstantInputWarning: An input array is constant; the correlation coefficent is not defined.\n",
      "  warnings.warn(PearsonRConstantInputWarning())\n"
     ]
    },
    {
     "name": "stdout",
     "output_type": "stream",
     "text": [
      "Epoch 49 end: 1.6818599700927734, TRAIN MSE is: 1541.845947265625\n",
      "Validation loss: 316061.7500000 - MSE score: 1512.2574463\n",
      "Validation pearson is: nan\n",
      "Validation r2_score is: -0.4530867566560046\n",
      "-------------------------\n"
     ]
    },
    {
     "name": "stderr",
     "output_type": "stream",
     "text": [
      "/home/mbosnjak/.conda/envs/pero/lib/python3.7/site-packages/scipy/stats/stats.py:3399: PearsonRConstantInputWarning: An input array is constant; the correlation coefficent is not defined.\n",
      "  warnings.warn(PearsonRConstantInputWarning())\n"
     ]
    },
    {
     "name": "stdout",
     "output_type": "stream",
     "text": [
      "Epoch 50 end: 1.5859112739562988, TRAIN MSE is: 1590.6728515625\n",
      "Validation loss: 312827.2812500 - MSE score: 1496.7813721\n",
      "Validation pearson is: nan\n",
      "Validation r2_score is: -0.43821624746118726\n",
      "-------------------------\n"
     ]
    },
    {
     "name": "stderr",
     "output_type": "stream",
     "text": [
      "/home/mbosnjak/.conda/envs/pero/lib/python3.7/site-packages/scipy/stats/stats.py:3399: PearsonRConstantInputWarning: An input array is constant; the correlation coefficent is not defined.\n",
      "  warnings.warn(PearsonRConstantInputWarning())\n"
     ]
    },
    {
     "name": "stdout",
     "output_type": "stream",
     "text": [
      "Epoch 51 end: 1.675795078277588, TRAIN MSE is: 1523.9599609375\n",
      "Validation loss: 309720.5937500 - MSE score: 1481.9166260\n",
      "Validation pearson is: nan\n",
      "Validation r2_score is: -0.42393327260047853\n",
      "-------------------------\n"
     ]
    },
    {
     "name": "stderr",
     "output_type": "stream",
     "text": [
      "/home/mbosnjak/.conda/envs/pero/lib/python3.7/site-packages/scipy/stats/stats.py:3399: PearsonRConstantInputWarning: An input array is constant; the correlation coefficent is not defined.\n",
      "  warnings.warn(PearsonRConstantInputWarning())\n"
     ]
    },
    {
     "name": "stdout",
     "output_type": "stream",
     "text": [
      "Epoch 52 end: 1.6476988792419434, TRAIN MSE is: 1508.421630859375\n",
      "Validation loss: 306698.6250000 - MSE score: 1467.4575195\n",
      "Validation pearson is: nan\n",
      "Validation r2_score is: -0.410039778815003\n",
      "-------------------------\n"
     ]
    },
    {
     "name": "stderr",
     "output_type": "stream",
     "text": [
      "/home/mbosnjak/.conda/envs/pero/lib/python3.7/site-packages/scipy/stats/stats.py:3399: PearsonRConstantInputWarning: An input array is constant; the correlation coefficent is not defined.\n",
      "  warnings.warn(PearsonRConstantInputWarning())\n"
     ]
    },
    {
     "name": "stdout",
     "output_type": "stream",
     "text": [
      "Epoch 53 end: 1.6521098613739014, TRAIN MSE is: 1486.8228759765625\n",
      "Validation loss: 303757.4375000 - MSE score: 1453.3850098\n",
      "Validation pearson is: nan\n",
      "Validation r2_score is: -0.3965178235142117\n",
      "-------------------------\n"
     ]
    },
    {
     "name": "stderr",
     "output_type": "stream",
     "text": [
      "/home/mbosnjak/.conda/envs/pero/lib/python3.7/site-packages/scipy/stats/stats.py:3399: PearsonRConstantInputWarning: An input array is constant; the correlation coefficent is not defined.\n",
      "  warnings.warn(PearsonRConstantInputWarning())\n"
     ]
    },
    {
     "name": "stdout",
     "output_type": "stream",
     "text": [
      "Epoch 54 end: 1.567619800567627, TRAIN MSE is: 1570.2314453125\n",
      "Validation loss: 300966.3125000 - MSE score: 1440.0301514\n",
      "Validation pearson is: nan\n",
      "Validation r2_score is: -0.3836857218874554\n",
      "-------------------------\n"
     ]
    },
    {
     "name": "stderr",
     "output_type": "stream",
     "text": [
      "/home/mbosnjak/.conda/envs/pero/lib/python3.7/site-packages/scipy/stats/stats.py:3399: PearsonRConstantInputWarning: An input array is constant; the correlation coefficent is not defined.\n",
      "  warnings.warn(PearsonRConstantInputWarning())\n"
     ]
    },
    {
     "name": "stdout",
     "output_type": "stream",
     "text": [
      "Epoch 55 end: 1.5494606494903564, TRAIN MSE is: 1525.88330078125\n",
      "Validation loss: 298297.7812500 - MSE score: 1427.2620850\n",
      "Validation pearson is: nan\n",
      "Validation r2_score is: -0.3714171908184458\n",
      "-------------------------\n"
     ]
    },
    {
     "name": "stderr",
     "output_type": "stream",
     "text": [
      "/home/mbosnjak/.conda/envs/pero/lib/python3.7/site-packages/scipy/stats/stats.py:3399: PearsonRConstantInputWarning: An input array is constant; the correlation coefficent is not defined.\n",
      "  warnings.warn(PearsonRConstantInputWarning())\n"
     ]
    },
    {
     "name": "stdout",
     "output_type": "stream",
     "text": [
      "Epoch 56 end: 1.5831241607666016, TRAIN MSE is: 1492.0870361328125\n",
      "Validation loss: 295758.3125000 - MSE score: 1415.1115723\n",
      "Validation pearson is: nan\n",
      "Validation r2_score is: -0.3597419242120594\n",
      "-------------------------\n"
     ]
    },
    {
     "name": "stderr",
     "output_type": "stream",
     "text": [
      "/home/mbosnjak/.conda/envs/pero/lib/python3.7/site-packages/scipy/stats/stats.py:3399: PearsonRConstantInputWarning: An input array is constant; the correlation coefficent is not defined.\n",
      "  warnings.warn(PearsonRConstantInputWarning())\n"
     ]
    },
    {
     "name": "stdout",
     "output_type": "stream",
     "text": [
      "Epoch 57 end: 1.5745368003845215, TRAIN MSE is: 1525.8526611328125\n",
      "Validation loss: 293401.8437500 - MSE score: 1403.8365479\n",
      "Validation pearson is: nan\n",
      "Validation r2_score is: -0.3489082232290286\n",
      "-------------------------\n"
     ]
    },
    {
     "name": "stderr",
     "output_type": "stream",
     "text": [
      "/home/mbosnjak/.conda/envs/pero/lib/python3.7/site-packages/scipy/stats/stats.py:3399: PearsonRConstantInputWarning: An input array is constant; the correlation coefficent is not defined.\n",
      "  warnings.warn(PearsonRConstantInputWarning())\n"
     ]
    },
    {
     "name": "stdout",
     "output_type": "stream",
     "text": [
      "Epoch 58 end: 1.6765189170837402, TRAIN MSE is: 1473.003662109375\n",
      "Validation loss: 290909.0937500 - MSE score: 1391.9096680\n",
      "Validation pearson is: nan\n",
      "Validation r2_score is: -0.33744784462107713\n",
      "-------------------------\n"
     ]
    },
    {
     "name": "stderr",
     "output_type": "stream",
     "text": [
      "/home/mbosnjak/.conda/envs/pero/lib/python3.7/site-packages/scipy/stats/stats.py:3399: PearsonRConstantInputWarning: An input array is constant; the correlation coefficent is not defined.\n",
      "  warnings.warn(PearsonRConstantInputWarning())\n"
     ]
    },
    {
     "name": "stdout",
     "output_type": "stream",
     "text": [
      "Epoch 59 end: 1.808915615081787, TRAIN MSE is: 1425.24462890625\n",
      "Validation loss: 288554.5937500 - MSE score: 1380.6440430\n",
      "Validation pearson is: nan\n",
      "Validation r2_score is: -0.3266230712624467\n",
      "-------------------------\n"
     ]
    },
    {
     "name": "stderr",
     "output_type": "stream",
     "text": [
      "/home/mbosnjak/.conda/envs/pero/lib/python3.7/site-packages/scipy/stats/stats.py:3399: PearsonRConstantInputWarning: An input array is constant; the correlation coefficent is not defined.\n",
      "  warnings.warn(PearsonRConstantInputWarning())\n"
     ]
    },
    {
     "name": "stdout",
     "output_type": "stream",
     "text": [
      "Epoch 60 end: 1.6739566326141357, TRAIN MSE is: 1505.185791015625\n",
      "Validation loss: 286471.7187500 - MSE score: 1370.6781006\n",
      "Validation pearson is: nan\n",
      "Validation r2_score is: -0.3170470555640812\n",
      "-------------------------\n"
     ]
    },
    {
     "name": "stderr",
     "output_type": "stream",
     "text": [
      "/home/mbosnjak/.conda/envs/pero/lib/python3.7/site-packages/scipy/stats/stats.py:3399: PearsonRConstantInputWarning: An input array is constant; the correlation coefficent is not defined.\n",
      "  warnings.warn(PearsonRConstantInputWarning())\n"
     ]
    },
    {
     "name": "stdout",
     "output_type": "stream",
     "text": [
      "Epoch 61 end: 1.5871331691741943, TRAIN MSE is: 1435.682373046875\n",
      "Validation loss: 284511.6562500 - MSE score: 1361.2996826\n",
      "Validation pearson is: nan\n",
      "Validation r2_score is: -0.3080357092253103\n",
      "-------------------------\n"
     ]
    },
    {
     "name": "stderr",
     "output_type": "stream",
     "text": [
      "/home/mbosnjak/.conda/envs/pero/lib/python3.7/site-packages/scipy/stats/stats.py:3399: PearsonRConstantInputWarning: An input array is constant; the correlation coefficent is not defined.\n",
      "  warnings.warn(PearsonRConstantInputWarning())\n"
     ]
    },
    {
     "name": "stdout",
     "output_type": "stream",
     "text": [
      "Epoch 62 end: 1.5153391361236572, TRAIN MSE is: 1391.830078125\n",
      "Validation loss: 282362.7812500 - MSE score: 1351.0181885\n",
      "Validation pearson is: nan\n",
      "Validation r2_score is: -0.29815641990042496\n",
      "-------------------------\n"
     ]
    },
    {
     "name": "stderr",
     "output_type": "stream",
     "text": [
      "/home/mbosnjak/.conda/envs/pero/lib/python3.7/site-packages/scipy/stats/stats.py:3399: PearsonRConstantInputWarning: An input array is constant; the correlation coefficent is not defined.\n",
      "  warnings.warn(PearsonRConstantInputWarning())\n"
     ]
    },
    {
     "name": "stdout",
     "output_type": "stream",
     "text": [
      "Epoch 63 end: 1.5094656944274902, TRAIN MSE is: 1418.4166259765625\n",
      "Validation loss: 280276.4375000 - MSE score: 1341.0356445\n",
      "Validation pearson is: nan\n",
      "Validation r2_score is: -0.288564393334098\n",
      "-------------------------\n"
     ]
    },
    {
     "name": "stderr",
     "output_type": "stream",
     "text": [
      "/home/mbosnjak/.conda/envs/pero/lib/python3.7/site-packages/scipy/stats/stats.py:3399: PearsonRConstantInputWarning: An input array is constant; the correlation coefficent is not defined.\n",
      "  warnings.warn(PearsonRConstantInputWarning())\n"
     ]
    },
    {
     "name": "stdout",
     "output_type": "stream",
     "text": [
      "Epoch 64 end: 1.6782217025756836, TRAIN MSE is: 1438.6866455078125\n",
      "Validation loss: 278288.5625000 - MSE score: 1331.5241699\n",
      "Validation pearson is: nan\n",
      "Validation r2_score is: -0.2794252672548654\n",
      "-------------------------\n"
     ]
    },
    {
     "name": "stderr",
     "output_type": "stream",
     "text": [
      "/home/mbosnjak/.conda/envs/pero/lib/python3.7/site-packages/scipy/stats/stats.py:3399: PearsonRConstantInputWarning: An input array is constant; the correlation coefficent is not defined.\n",
      "  warnings.warn(PearsonRConstantInputWarning())\n"
     ]
    },
    {
     "name": "stdout",
     "output_type": "stream",
     "text": [
      "Epoch 65 end: 1.5376603603363037, TRAIN MSE is: 1355.193603515625\n",
      "Validation loss: 276408.4687500 - MSE score: 1322.5284424\n",
      "Validation pearson is: nan\n",
      "Validation r2_score is: -0.2707815410839176\n",
      "-------------------------\n"
     ]
    },
    {
     "name": "stderr",
     "output_type": "stream",
     "text": [
      "/home/mbosnjak/.conda/envs/pero/lib/python3.7/site-packages/scipy/stats/stats.py:3399: PearsonRConstantInputWarning: An input array is constant; the correlation coefficent is not defined.\n",
      "  warnings.warn(PearsonRConstantInputWarning())\n"
     ]
    },
    {
     "name": "stdout",
     "output_type": "stream",
     "text": [
      "Epoch 66 end: 1.5932066440582275, TRAIN MSE is: 1428.702392578125\n",
      "Validation loss: 274561.5000000 - MSE score: 1313.6912842\n",
      "Validation pearson is: nan\n",
      "Validation r2_score is: -0.26229001451045364\n",
      "-------------------------\n"
     ]
    },
    {
     "name": "stderr",
     "output_type": "stream",
     "text": [
      "/home/mbosnjak/.conda/envs/pero/lib/python3.7/site-packages/scipy/stats/stats.py:3399: PearsonRConstantInputWarning: An input array is constant; the correlation coefficent is not defined.\n",
      "  warnings.warn(PearsonRConstantInputWarning())\n"
     ]
    },
    {
     "name": "stdout",
     "output_type": "stream",
     "text": [
      "Epoch 67 end: 1.5456602573394775, TRAIN MSE is: 1443.239990234375\n",
      "Validation loss: 272921.4375000 - MSE score: 1305.8442383\n",
      "Validation pearson is: nan\n",
      "Validation r2_score is: -0.2547499666707269\n",
      "-------------------------\n"
     ]
    },
    {
     "name": "stderr",
     "output_type": "stream",
     "text": [
      "/home/mbosnjak/.conda/envs/pero/lib/python3.7/site-packages/scipy/stats/stats.py:3399: PearsonRConstantInputWarning: An input array is constant; the correlation coefficent is not defined.\n",
      "  warnings.warn(PearsonRConstantInputWarning())\n"
     ]
    },
    {
     "name": "stdout",
     "output_type": "stream",
     "text": [
      "Epoch 68 end: 1.5216343402862549, TRAIN MSE is: 1432.615234375\n",
      "Validation loss: 271311.0937500 - MSE score: 1298.1394043\n",
      "Validation pearson is: nan\n",
      "Validation r2_score is: -0.2473465834037223\n",
      "-------------------------\n"
     ]
    },
    {
     "name": "stderr",
     "output_type": "stream",
     "text": [
      "/home/mbosnjak/.conda/envs/pero/lib/python3.7/site-packages/scipy/stats/stats.py:3399: PearsonRConstantInputWarning: An input array is constant; the correlation coefficent is not defined.\n",
      "  warnings.warn(PearsonRConstantInputWarning())\n"
     ]
    },
    {
     "name": "stdout",
     "output_type": "stream",
     "text": [
      "Epoch 69 end: 1.4742112159729004, TRAIN MSE is: 1413.87548828125\n",
      "Validation loss: 269898.4062500 - MSE score: 1291.3797607\n",
      "Validation pearson is: nan\n",
      "Validation r2_score is: -0.24085159345570917\n",
      "-------------------------\n"
     ]
    },
    {
     "name": "stderr",
     "output_type": "stream",
     "text": [
      "/home/mbosnjak/.conda/envs/pero/lib/python3.7/site-packages/scipy/stats/stats.py:3399: PearsonRConstantInputWarning: An input array is constant; the correlation coefficent is not defined.\n",
      "  warnings.warn(PearsonRConstantInputWarning())\n"
     ]
    },
    {
     "name": "stdout",
     "output_type": "stream",
     "text": [
      "Epoch 70 end: 1.5591559410095215, TRAIN MSE is: 1371.156005859375\n",
      "Validation loss: 268522.5625000 - MSE score: 1284.7969971\n",
      "Validation pearson is: nan\n",
      "Validation r2_score is: -0.23452618382014956\n",
      "-------------------------\n"
     ]
    },
    {
     "name": "stderr",
     "output_type": "stream",
     "text": [
      "/home/mbosnjak/.conda/envs/pero/lib/python3.7/site-packages/scipy/stats/stats.py:3399: PearsonRConstantInputWarning: An input array is constant; the correlation coefficent is not defined.\n",
      "  warnings.warn(PearsonRConstantInputWarning())\n"
     ]
    },
    {
     "name": "stdout",
     "output_type": "stream",
     "text": [
      "Epoch 71 end: 1.521505355834961, TRAIN MSE is: 1401.35595703125\n",
      "Validation loss: 267054.2500000 - MSE score: 1277.7714844\n",
      "Validation pearson is: nan\n",
      "Validation r2_score is: -0.2277757085149601\n",
      "-------------------------\n"
     ]
    },
    {
     "name": "stderr",
     "output_type": "stream",
     "text": [
      "/home/mbosnjak/.conda/envs/pero/lib/python3.7/site-packages/scipy/stats/stats.py:3399: PearsonRConstantInputWarning: An input array is constant; the correlation coefficent is not defined.\n",
      "  warnings.warn(PearsonRConstantInputWarning())\n"
     ]
    },
    {
     "name": "stdout",
     "output_type": "stream",
     "text": [
      "Epoch 72 end: 1.557431697845459, TRAIN MSE is: 1394.93994140625\n",
      "Validation loss: 265650.7500000 - MSE score: 1271.0562744\n",
      "Validation pearson is: nan\n",
      "Validation r2_score is: -0.22132316041049616\n",
      "-------------------------\n"
     ]
    },
    {
     "name": "stderr",
     "output_type": "stream",
     "text": [
      "/home/mbosnjak/.conda/envs/pero/lib/python3.7/site-packages/scipy/stats/stats.py:3399: PearsonRConstantInputWarning: An input array is constant; the correlation coefficent is not defined.\n",
      "  warnings.warn(PearsonRConstantInputWarning())\n"
     ]
    },
    {
     "name": "stdout",
     "output_type": "stream",
     "text": [
      "Epoch 73 end: 1.5668814182281494, TRAIN MSE is: 1388.5399169921875\n",
      "Validation loss: 264291.9687500 - MSE score: 1264.5546875\n",
      "Validation pearson is: nan\n",
      "Validation r2_score is: -0.21507616869002755\n",
      "-------------------------\n"
     ]
    },
    {
     "name": "stderr",
     "output_type": "stream",
     "text": [
      "/home/mbosnjak/.conda/envs/pero/lib/python3.7/site-packages/scipy/stats/stats.py:3399: PearsonRConstantInputWarning: An input array is constant; the correlation coefficent is not defined.\n",
      "  warnings.warn(PearsonRConstantInputWarning())\n"
     ]
    },
    {
     "name": "stdout",
     "output_type": "stream",
     "text": [
      "Epoch 74 end: 1.5470917224884033, TRAIN MSE is: 1402.2879638671875\n",
      "Validation loss: 263001.6250000 - MSE score: 1258.3809814\n",
      "Validation pearson is: nan\n",
      "Validation r2_score is: -0.20914380999085957\n",
      "-------------------------\n"
     ]
    },
    {
     "name": "stderr",
     "output_type": "stream",
     "text": [
      "/home/mbosnjak/.conda/envs/pero/lib/python3.7/site-packages/scipy/stats/stats.py:3399: PearsonRConstantInputWarning: An input array is constant; the correlation coefficent is not defined.\n",
      "  warnings.warn(PearsonRConstantInputWarning())\n"
     ]
    },
    {
     "name": "stdout",
     "output_type": "stream",
     "text": [
      "Epoch 75 end: 1.535435438156128, TRAIN MSE is: 1392.516845703125\n",
      "Validation loss: 261597.4062500 - MSE score: 1251.6622314\n",
      "Validation pearson is: nan\n",
      "Validation r2_score is: -0.20268805262806167\n",
      "-------------------------\n"
     ]
    },
    {
     "name": "stderr",
     "output_type": "stream",
     "text": [
      "/home/mbosnjak/.conda/envs/pero/lib/python3.7/site-packages/scipy/stats/stats.py:3399: PearsonRConstantInputWarning: An input array is constant; the correlation coefficent is not defined.\n",
      "  warnings.warn(PearsonRConstantInputWarning())\n"
     ]
    },
    {
     "name": "stdout",
     "output_type": "stream",
     "text": [
      "Epoch 76 end: 1.5318396091461182, TRAIN MSE is: 1394.380859375\n",
      "Validation loss: 260321.3906250 - MSE score: 1245.5570068\n",
      "Validation pearson is: nan\n",
      "Validation r2_score is: -0.1968215725850495\n",
      "-------------------------\n"
     ]
    },
    {
     "name": "stderr",
     "output_type": "stream",
     "text": [
      "/home/mbosnjak/.conda/envs/pero/lib/python3.7/site-packages/scipy/stats/stats.py:3399: PearsonRConstantInputWarning: An input array is constant; the correlation coefficent is not defined.\n",
      "  warnings.warn(PearsonRConstantInputWarning())\n"
     ]
    },
    {
     "name": "stdout",
     "output_type": "stream",
     "text": [
      "Epoch 77 end: 1.473940372467041, TRAIN MSE is: 1344.078369140625\n",
      "Validation loss: 259090.5625000 - MSE score: 1239.6677246\n",
      "Validation pearson is: nan\n",
      "Validation r2_score is: -0.19116284956911866\n",
      "-------------------------\n"
     ]
    },
    {
     "name": "stderr",
     "output_type": "stream",
     "text": [
      "/home/mbosnjak/.conda/envs/pero/lib/python3.7/site-packages/scipy/stats/stats.py:3399: PearsonRConstantInputWarning: An input array is constant; the correlation coefficent is not defined.\n",
      "  warnings.warn(PearsonRConstantInputWarning())\n"
     ]
    },
    {
     "name": "stdout",
     "output_type": "stream",
     "text": [
      "Epoch 78 end: 1.6908454895019531, TRAIN MSE is: 1397.51220703125\n",
      "Validation loss: 257926.5781250 - MSE score: 1234.0985107\n",
      "Validation pearson is: nan\n",
      "Validation r2_score is: -0.18581146872481025\n",
      "-------------------------\n"
     ]
    },
    {
     "name": "stderr",
     "output_type": "stream",
     "text": [
      "/home/mbosnjak/.conda/envs/pero/lib/python3.7/site-packages/scipy/stats/stats.py:3399: PearsonRConstantInputWarning: An input array is constant; the correlation coefficent is not defined.\n",
      "  warnings.warn(PearsonRConstantInputWarning())\n"
     ]
    },
    {
     "name": "stdout",
     "output_type": "stream",
     "text": [
      "Epoch 79 end: 1.651087760925293, TRAIN MSE is: 1334.4281005859375\n",
      "Validation loss: 256856.2812500 - MSE score: 1228.9774170\n",
      "Validation pearson is: nan\n",
      "Validation r2_score is: -0.18089084721228188\n",
      "-------------------------\n"
     ]
    },
    {
     "name": "stderr",
     "output_type": "stream",
     "text": [
      "/home/mbosnjak/.conda/envs/pero/lib/python3.7/site-packages/scipy/stats/stats.py:3399: PearsonRConstantInputWarning: An input array is constant; the correlation coefficent is not defined.\n",
      "  warnings.warn(PearsonRConstantInputWarning())\n"
     ]
    },
    {
     "name": "stdout",
     "output_type": "stream",
     "text": [
      "Epoch 80 end: 1.6386945247650146, TRAIN MSE is: 1359.0069580078125\n",
      "Validation loss: 255823.4375000 - MSE score: 1224.0356445\n",
      "Validation pearson is: nan\n",
      "Validation r2_score is: -0.17614225643456294\n",
      "-------------------------\n"
     ]
    },
    {
     "name": "stderr",
     "output_type": "stream",
     "text": [
      "/home/mbosnjak/.conda/envs/pero/lib/python3.7/site-packages/scipy/stats/stats.py:3399: PearsonRConstantInputWarning: An input array is constant; the correlation coefficent is not defined.\n",
      "  warnings.warn(PearsonRConstantInputWarning())\n"
     ]
    },
    {
     "name": "stdout",
     "output_type": "stream",
     "text": [
      "Epoch 81 end: 1.5410938262939453, TRAIN MSE is: 1425.5711669921875\n",
      "Validation loss: 254977.1718750 - MSE score: 1219.9865723\n",
      "Validation pearson is: nan\n",
      "Validation r2_score is: -0.17225170573836324\n",
      "-------------------------\n"
     ]
    },
    {
     "name": "stderr",
     "output_type": "stream",
     "text": [
      "/home/mbosnjak/.conda/envs/pero/lib/python3.7/site-packages/scipy/stats/stats.py:3399: PearsonRConstantInputWarning: An input array is constant; the correlation coefficent is not defined.\n",
      "  warnings.warn(PearsonRConstantInputWarning())\n"
     ]
    },
    {
     "name": "stdout",
     "output_type": "stream",
     "text": [
      "Epoch 82 end: 1.4732952117919922, TRAIN MSE is: 1381.1461181640625\n",
      "Validation loss: 254154.5156250 - MSE score: 1216.0504150\n",
      "Validation pearson is: nan\n",
      "Validation r2_score is: -0.16846947106304233\n",
      "-------------------------\n"
     ]
    },
    {
     "name": "stderr",
     "output_type": "stream",
     "text": [
      "/home/mbosnjak/.conda/envs/pero/lib/python3.7/site-packages/scipy/stats/stats.py:3399: PearsonRConstantInputWarning: An input array is constant; the correlation coefficent is not defined.\n",
      "  warnings.warn(PearsonRConstantInputWarning())\n"
     ]
    },
    {
     "name": "stdout",
     "output_type": "stream",
     "text": [
      "Epoch 83 end: 1.5859861373901367, TRAIN MSE is: 1442.9222412109375\n",
      "Validation loss: 253459.1093750 - MSE score: 1212.7229004\n",
      "Validation pearson is: nan\n",
      "Validation r2_score is: -0.1652723614720455\n",
      "-------------------------\n"
     ]
    },
    {
     "name": "stderr",
     "output_type": "stream",
     "text": [
      "/home/mbosnjak/.conda/envs/pero/lib/python3.7/site-packages/scipy/stats/stats.py:3399: PearsonRConstantInputWarning: An input array is constant; the correlation coefficent is not defined.\n",
      "  warnings.warn(PearsonRConstantInputWarning())\n"
     ]
    },
    {
     "name": "stdout",
     "output_type": "stream",
     "text": [
      "Epoch 84 end: 1.5671007633209229, TRAIN MSE is: 1393.4886474609375\n",
      "Validation loss: 252689.5156250 - MSE score: 1209.0406494\n",
      "Validation pearson is: nan\n",
      "Validation r2_score is: -0.1617341643262835\n",
      "-------------------------\n"
     ]
    },
    {
     "name": "stderr",
     "output_type": "stream",
     "text": [
      "/home/mbosnjak/.conda/envs/pero/lib/python3.7/site-packages/scipy/stats/stats.py:3399: PearsonRConstantInputWarning: An input array is constant; the correlation coefficent is not defined.\n",
      "  warnings.warn(PearsonRConstantInputWarning())\n"
     ]
    },
    {
     "name": "stdout",
     "output_type": "stream",
     "text": [
      "Epoch 85 end: 1.4789197444915771, TRAIN MSE is: 1335.1590576171875\n",
      "Validation loss: 251944.0468750 - MSE score: 1205.4738770\n",
      "Validation pearson is: nan\n",
      "Validation r2_score is: -0.15830688347591493\n",
      "-------------------------\n"
     ]
    },
    {
     "name": "stderr",
     "output_type": "stream",
     "text": [
      "/home/mbosnjak/.conda/envs/pero/lib/python3.7/site-packages/scipy/stats/stats.py:3399: PearsonRConstantInputWarning: An input array is constant; the correlation coefficent is not defined.\n",
      "  warnings.warn(PearsonRConstantInputWarning())\n"
     ]
    },
    {
     "name": "stdout",
     "output_type": "stream",
     "text": [
      "Epoch 86 end: 1.5038366317749023, TRAIN MSE is: 1340.55908203125\n",
      "Validation loss: 251148.8750000 - MSE score: 1201.6693115\n",
      "Validation pearson is: nan\n",
      "Validation r2_score is: -0.1546511408448521\n",
      "-------------------------\n"
     ]
    },
    {
     "name": "stderr",
     "output_type": "stream",
     "text": [
      "/home/mbosnjak/.conda/envs/pero/lib/python3.7/site-packages/scipy/stats/stats.py:3399: PearsonRConstantInputWarning: An input array is constant; the correlation coefficent is not defined.\n",
      "  warnings.warn(PearsonRConstantInputWarning())\n"
     ]
    },
    {
     "name": "stdout",
     "output_type": "stream",
     "text": [
      "Epoch 87 end: 1.592390537261963, TRAIN MSE is: 1396.821533203125\n",
      "Validation loss: 250466.8437500 - MSE score: 1198.4060059\n",
      "Validation pearson is: nan\n",
      "Validation r2_score is: -0.15151549705825818\n",
      "-------------------------\n"
     ]
    },
    {
     "name": "stderr",
     "output_type": "stream",
     "text": [
      "/home/mbosnjak/.conda/envs/pero/lib/python3.7/site-packages/scipy/stats/stats.py:3399: PearsonRConstantInputWarning: An input array is constant; the correlation coefficent is not defined.\n",
      "  warnings.warn(PearsonRConstantInputWarning())\n"
     ]
    },
    {
     "name": "stdout",
     "output_type": "stream",
     "text": [
      "Epoch 88 end: 1.6933534145355225, TRAIN MSE is: 1300.8489990234375\n",
      "Validation loss: 249816.2968750 - MSE score: 1195.2933350\n",
      "Validation pearson is: nan\n",
      "Validation r2_score is: -0.1485246046080817\n",
      "-------------------------\n"
     ]
    },
    {
     "name": "stderr",
     "output_type": "stream",
     "text": [
      "/home/mbosnjak/.conda/envs/pero/lib/python3.7/site-packages/scipy/stats/stats.py:3399: PearsonRConstantInputWarning: An input array is constant; the correlation coefficent is not defined.\n",
      "  warnings.warn(PearsonRConstantInputWarning())\n"
     ]
    },
    {
     "name": "stdout",
     "output_type": "stream",
     "text": [
      "Epoch 89 end: 1.5688676834106445, TRAIN MSE is: 1360.9241943359375\n",
      "Validation loss: 249181.9687500 - MSE score: 1192.2584229\n",
      "Validation pearson is: nan\n",
      "Validation r2_score is: -0.1456084438642007\n",
      "-------------------------\n"
     ]
    },
    {
     "name": "stderr",
     "output_type": "stream",
     "text": [
      "/home/mbosnjak/.conda/envs/pero/lib/python3.7/site-packages/scipy/stats/stats.py:3399: PearsonRConstantInputWarning: An input array is constant; the correlation coefficent is not defined.\n",
      "  warnings.warn(PearsonRConstantInputWarning())\n"
     ]
    },
    {
     "name": "stdout",
     "output_type": "stream",
     "text": [
      "Epoch 90 end: 1.5278425216674805, TRAIN MSE is: 1290.55029296875\n",
      "Validation loss: 248310.5781250 - MSE score: 1188.0889893\n",
      "Validation pearson is: nan\n",
      "Validation r2_score is: -0.1416021428002734\n",
      "-------------------------\n"
     ]
    },
    {
     "name": "stderr",
     "output_type": "stream",
     "text": [
      "/home/mbosnjak/.conda/envs/pero/lib/python3.7/site-packages/scipy/stats/stats.py:3399: PearsonRConstantInputWarning: An input array is constant; the correlation coefficent is not defined.\n",
      "  warnings.warn(PearsonRConstantInputWarning())\n"
     ]
    },
    {
     "name": "stdout",
     "output_type": "stream",
     "text": [
      "Epoch 91 end: 1.5257289409637451, TRAIN MSE is: 1305.4600830078125\n",
      "Validation loss: 247623.0000000 - MSE score: 1184.7990723\n",
      "Validation pearson is: nan\n",
      "Validation r2_score is: -0.13844103826596\n",
      "-------------------------\n"
     ]
    },
    {
     "name": "stderr",
     "output_type": "stream",
     "text": [
      "/home/mbosnjak/.conda/envs/pero/lib/python3.7/site-packages/scipy/stats/stats.py:3399: PearsonRConstantInputWarning: An input array is constant; the correlation coefficent is not defined.\n",
      "  warnings.warn(PearsonRConstantInputWarning())\n"
     ]
    },
    {
     "name": "stdout",
     "output_type": "stream",
     "text": [
      "Epoch 92 end: 1.5379385948181152, TRAIN MSE is: 1341.1644287109375\n",
      "Validation loss: 246831.1406250 - MSE score: 1181.0103760\n",
      "Validation pearson is: nan\n",
      "Validation r2_score is: -0.13480050689033596\n",
      "-------------------------\n"
     ]
    },
    {
     "name": "stderr",
     "output_type": "stream",
     "text": [
      "/home/mbosnjak/.conda/envs/pero/lib/python3.7/site-packages/scipy/stats/stats.py:3399: PearsonRConstantInputWarning: An input array is constant; the correlation coefficent is not defined.\n",
      "  warnings.warn(PearsonRConstantInputWarning())\n"
     ]
    },
    {
     "name": "stdout",
     "output_type": "stream",
     "text": [
      "Epoch 93 end: 1.5204064846038818, TRAIN MSE is: 1375.062744140625\n",
      "Validation loss: 246256.8750000 - MSE score: 1178.2625732\n",
      "Validation pearson is: nan\n",
      "Validation r2_score is: -0.1321603010972323\n",
      "-------------------------\n"
     ]
    },
    {
     "name": "stderr",
     "output_type": "stream",
     "text": [
      "/home/mbosnjak/.conda/envs/pero/lib/python3.7/site-packages/scipy/stats/stats.py:3399: PearsonRConstantInputWarning: An input array is constant; the correlation coefficent is not defined.\n",
      "  warnings.warn(PearsonRConstantInputWarning())\n"
     ]
    },
    {
     "name": "stdout",
     "output_type": "stream",
     "text": [
      "Epoch 94 end: 1.5559608936309814, TRAIN MSE is: 1323.7703857421875\n",
      "Validation loss: 245661.9687500 - MSE score: 1175.4162598\n",
      "Validation pearson is: nan\n",
      "Validation r2_score is: -0.12942528877220205\n",
      "-------------------------\n"
     ]
    },
    {
     "name": "stderr",
     "output_type": "stream",
     "text": [
      "/home/mbosnjak/.conda/envs/pero/lib/python3.7/site-packages/scipy/stats/stats.py:3399: PearsonRConstantInputWarning: An input array is constant; the correlation coefficent is not defined.\n",
      "  warnings.warn(PearsonRConstantInputWarning())\n"
     ]
    },
    {
     "name": "stdout",
     "output_type": "stream",
     "text": [
      "Epoch 95 end: 1.5325422286987305, TRAIN MSE is: 1290.3060302734375\n",
      "Validation loss: 245094.2968750 - MSE score: 1172.6999512\n",
      "Validation pearson is: nan\n",
      "Validation r2_score is: -0.12681536410205196\n",
      "-------------------------\n"
     ]
    },
    {
     "name": "stderr",
     "output_type": "stream",
     "text": [
      "/home/mbosnjak/.conda/envs/pero/lib/python3.7/site-packages/scipy/stats/stats.py:3399: PearsonRConstantInputWarning: An input array is constant; the correlation coefficent is not defined.\n",
      "  warnings.warn(PearsonRConstantInputWarning())\n"
     ]
    },
    {
     "name": "stdout",
     "output_type": "stream",
     "text": [
      "Epoch 96 end: 1.5752274990081787, TRAIN MSE is: 1314.850830078125\n",
      "Validation loss: 244470.4843750 - MSE score: 1169.7153320\n",
      "Validation pearson is: nan\n",
      "Validation r2_score is: -0.12394743093283456\n",
      "-------------------------\n"
     ]
    },
    {
     "name": "stderr",
     "output_type": "stream",
     "text": [
      "/home/mbosnjak/.conda/envs/pero/lib/python3.7/site-packages/scipy/stats/stats.py:3399: PearsonRConstantInputWarning: An input array is constant; the correlation coefficent is not defined.\n",
      "  warnings.warn(PearsonRConstantInputWarning())\n"
     ]
    },
    {
     "name": "stdout",
     "output_type": "stream",
     "text": [
      "Epoch 97 end: 1.5744953155517578, TRAIN MSE is: 1357.6962890625\n",
      "Validation loss: 243907.7656250 - MSE score: 1167.0228271\n",
      "Validation pearson is: nan\n",
      "Validation r2_score is: -0.12136033290864146\n",
      "-------------------------\n"
     ]
    },
    {
     "name": "stderr",
     "output_type": "stream",
     "text": [
      "/home/mbosnjak/.conda/envs/pero/lib/python3.7/site-packages/scipy/stats/stats.py:3399: PearsonRConstantInputWarning: An input array is constant; the correlation coefficent is not defined.\n",
      "  warnings.warn(PearsonRConstantInputWarning())\n"
     ]
    },
    {
     "name": "stdout",
     "output_type": "stream",
     "text": [
      "Epoch 98 end: 1.4920375347137451, TRAIN MSE is: 1373.0235595703125\n",
      "Validation loss: 243636.5781250 - MSE score: 1165.7252197\n",
      "Validation pearson is: nan\n",
      "Validation r2_score is: -0.12011340396671355\n",
      "-------------------------\n"
     ]
    },
    {
     "name": "stderr",
     "output_type": "stream",
     "text": [
      "/home/mbosnjak/.conda/envs/pero/lib/python3.7/site-packages/scipy/stats/stats.py:3399: PearsonRConstantInputWarning: An input array is constant; the correlation coefficent is not defined.\n",
      "  warnings.warn(PearsonRConstantInputWarning())\n"
     ]
    },
    {
     "name": "stdout",
     "output_type": "stream",
     "text": [
      "Epoch 99 end: 1.5878732204437256, TRAIN MSE is: 1365.115234375\n",
      "Validation loss: 243274.1875000 - MSE score: 1163.9914551\n",
      "Validation pearson is: nan\n",
      "Validation r2_score is: -0.11844750364632906\n",
      "-------------------------\n"
     ]
    },
    {
     "name": "stderr",
     "output_type": "stream",
     "text": [
      "/home/mbosnjak/.conda/envs/pero/lib/python3.7/site-packages/scipy/stats/stats.py:3399: PearsonRConstantInputWarning: An input array is constant; the correlation coefficent is not defined.\n",
      "  warnings.warn(PearsonRConstantInputWarning())\n"
     ]
    },
    {
     "name": "stdout",
     "output_type": "stream",
     "text": [
      "Epoch 100 end: 1.516021728515625, TRAIN MSE is: 1376.04638671875\n",
      "Validation loss: 242897.7500000 - MSE score: 1162.1901855\n",
      "Validation pearson is: nan\n",
      "Validation r2_score is: -0.11671679467801077\n",
      "-------------------------\n"
     ]
    },
    {
     "name": "stderr",
     "output_type": "stream",
     "text": [
      "/home/mbosnjak/.conda/envs/pero/lib/python3.7/site-packages/scipy/stats/stats.py:3399: PearsonRConstantInputWarning: An input array is constant; the correlation coefficent is not defined.\n",
      "  warnings.warn(PearsonRConstantInputWarning())\n"
     ]
    },
    {
     "name": "stdout",
     "output_type": "stream",
     "text": [
      "Epoch 101 end: 1.5499000549316406, TRAIN MSE is: 1300.149169921875\n",
      "Validation loss: 242517.3437500 - MSE score: 1160.3701172\n",
      "Validation pearson is: nan\n",
      "Validation r2_score is: -0.11496786256730473\n",
      "-------------------------\n"
     ]
    },
    {
     "name": "stderr",
     "output_type": "stream",
     "text": [
      "/home/mbosnjak/.conda/envs/pero/lib/python3.7/site-packages/scipy/stats/stats.py:3399: PearsonRConstantInputWarning: An input array is constant; the correlation coefficent is not defined.\n",
      "  warnings.warn(PearsonRConstantInputWarning())\n"
     ]
    },
    {
     "name": "stdout",
     "output_type": "stream",
     "text": [
      "Epoch 102 end: 1.5365321636199951, TRAIN MSE is: 1332.3472900390625\n",
      "Validation loss: 242176.7187500 - MSE score: 1158.7404785\n",
      "Validation pearson is: nan\n",
      "Validation r2_score is: -0.11340193142754273\n",
      "-------------------------\n"
     ]
    },
    {
     "name": "stderr",
     "output_type": "stream",
     "text": [
      "/home/mbosnjak/.conda/envs/pero/lib/python3.7/site-packages/scipy/stats/stats.py:3399: PearsonRConstantInputWarning: An input array is constant; the correlation coefficent is not defined.\n",
      "  warnings.warn(PearsonRConstantInputWarning())\n"
     ]
    },
    {
     "name": "stdout",
     "output_type": "stream",
     "text": [
      "Epoch 103 end: 1.6940460205078125, TRAIN MSE is: 1310.0849609375\n",
      "Validation loss: 241779.0625000 - MSE score: 1156.8375244\n",
      "Validation pearson is: nan\n",
      "Validation r2_score is: -0.11157357689600311\n",
      "-------------------------\n"
     ]
    },
    {
     "name": "stderr",
     "output_type": "stream",
     "text": [
      "/home/mbosnjak/.conda/envs/pero/lib/python3.7/site-packages/scipy/stats/stats.py:3399: PearsonRConstantInputWarning: An input array is constant; the correlation coefficent is not defined.\n",
      "  warnings.warn(PearsonRConstantInputWarning())\n"
     ]
    },
    {
     "name": "stdout",
     "output_type": "stream",
     "text": [
      "Epoch 104 end: 1.608884334564209, TRAIN MSE is: 1343.096923828125\n",
      "Validation loss: 241508.4062500 - MSE score: 1155.5426025\n",
      "Validation pearson is: nan\n",
      "Validation r2_score is: -0.1103293166945769\n",
      "-------------------------\n"
     ]
    },
    {
     "name": "stderr",
     "output_type": "stream",
     "text": [
      "/home/mbosnjak/.conda/envs/pero/lib/python3.7/site-packages/scipy/stats/stats.py:3399: PearsonRConstantInputWarning: An input array is constant; the correlation coefficent is not defined.\n",
      "  warnings.warn(PearsonRConstantInputWarning())\n"
     ]
    },
    {
     "name": "stdout",
     "output_type": "stream",
     "text": [
      "Epoch 105 end: 1.7930502891540527, TRAIN MSE is: 1321.5423583984375\n",
      "Validation loss: 241215.2343750 - MSE score: 1154.1398926\n",
      "Validation pearson is: nan\n",
      "Validation r2_score is: -0.10898146943102205\n",
      "-------------------------\n"
     ]
    },
    {
     "name": "stderr",
     "output_type": "stream",
     "text": [
      "/home/mbosnjak/.conda/envs/pero/lib/python3.7/site-packages/scipy/stats/stats.py:3399: PearsonRConstantInputWarning: An input array is constant; the correlation coefficent is not defined.\n",
      "  warnings.warn(PearsonRConstantInputWarning())\n"
     ]
    },
    {
     "name": "stdout",
     "output_type": "stream",
     "text": [
      "Epoch 106 end: 1.7171945571899414, TRAIN MSE is: 1307.6173095703125\n",
      "Validation loss: 240911.1093750 - MSE score: 1152.6848145\n",
      "Validation pearson is: nan\n",
      "Validation r2_score is: -0.10758326195733647\n",
      "-------------------------\n"
     ]
    },
    {
     "name": "stderr",
     "output_type": "stream",
     "text": [
      "/home/mbosnjak/.conda/envs/pero/lib/python3.7/site-packages/scipy/stats/stats.py:3399: PearsonRConstantInputWarning: An input array is constant; the correlation coefficent is not defined.\n",
      "  warnings.warn(PearsonRConstantInputWarning())\n"
     ]
    },
    {
     "name": "stdout",
     "output_type": "stream",
     "text": [
      "Epoch 107 end: 1.6807851791381836, TRAIN MSE is: 1323.6326904296875\n",
      "Validation loss: 240587.7500000 - MSE score: 1151.1374512\n",
      "Validation pearson is: nan\n",
      "Validation r2_score is: -0.10609651410775522\n",
      "-------------------------\n"
     ]
    },
    {
     "name": "stderr",
     "output_type": "stream",
     "text": [
      "/home/mbosnjak/.conda/envs/pero/lib/python3.7/site-packages/scipy/stats/stats.py:3399: PearsonRConstantInputWarning: An input array is constant; the correlation coefficent is not defined.\n",
      "  warnings.warn(PearsonRConstantInputWarning())\n"
     ]
    },
    {
     "name": "stdout",
     "output_type": "stream",
     "text": [
      "Epoch 108 end: 1.767643690109253, TRAIN MSE is: 1305.8358154296875\n",
      "Validation loss: 240320.8906250 - MSE score: 1149.8608398\n",
      "Validation pearson is: nan\n",
      "Validation r2_score is: -0.10486971827328628\n",
      "-------------------------\n"
     ]
    },
    {
     "name": "stderr",
     "output_type": "stream",
     "text": [
      "/home/mbosnjak/.conda/envs/pero/lib/python3.7/site-packages/scipy/stats/stats.py:3399: PearsonRConstantInputWarning: An input array is constant; the correlation coefficent is not defined.\n",
      "  warnings.warn(PearsonRConstantInputWarning())\n"
     ]
    },
    {
     "name": "stdout",
     "output_type": "stream",
     "text": [
      "Epoch 109 end: 1.6017463207244873, TRAIN MSE is: 1341.558837890625\n",
      "Validation loss: 239977.5312500 - MSE score: 1148.2178955\n",
      "Validation pearson is: nan\n",
      "Validation r2_score is: -0.10329114130920192\n",
      "-------------------------\n"
     ]
    },
    {
     "name": "stderr",
     "output_type": "stream",
     "text": [
      "/home/mbosnjak/.conda/envs/pero/lib/python3.7/site-packages/scipy/stats/stats.py:3399: PearsonRConstantInputWarning: An input array is constant; the correlation coefficent is not defined.\n",
      "  warnings.warn(PearsonRConstantInputWarning())\n"
     ]
    },
    {
     "name": "stdout",
     "output_type": "stream",
     "text": [
      "Epoch 110 end: 1.646937370300293, TRAIN MSE is: 1335.737060546875\n",
      "Validation loss: 239738.5781250 - MSE score: 1147.0744629\n",
      "Validation pearson is: nan\n",
      "Validation r2_score is: -0.10219251117156092\n",
      "-------------------------\n"
     ]
    },
    {
     "name": "stderr",
     "output_type": "stream",
     "text": [
      "/home/mbosnjak/.conda/envs/pero/lib/python3.7/site-packages/scipy/stats/stats.py:3399: PearsonRConstantInputWarning: An input array is constant; the correlation coefficent is not defined.\n",
      "  warnings.warn(PearsonRConstantInputWarning())\n"
     ]
    },
    {
     "name": "stdout",
     "output_type": "stream",
     "text": [
      "Epoch 111 end: 1.7811894416809082, TRAIN MSE is: 1362.4188232421875\n",
      "Validation loss: 239597.2343750 - MSE score: 1146.3981934\n",
      "Validation pearson is: nan\n",
      "Validation r2_score is: -0.10154269276671957\n",
      "-------------------------\n"
     ]
    },
    {
     "name": "stderr",
     "output_type": "stream",
     "text": [
      "/home/mbosnjak/.conda/envs/pero/lib/python3.7/site-packages/scipy/stats/stats.py:3399: PearsonRConstantInputWarning: An input array is constant; the correlation coefficent is not defined.\n",
      "  warnings.warn(PearsonRConstantInputWarning())\n"
     ]
    },
    {
     "name": "stdout",
     "output_type": "stream",
     "text": [
      "Epoch 112 end: 1.5705382823944092, TRAIN MSE is: 1376.1734619140625\n",
      "Validation loss: 239423.1406250 - MSE score: 1145.5653076\n",
      "Validation pearson is: nan\n",
      "Validation r2_score is: -0.1007423522419999\n",
      "-------------------------\n"
     ]
    },
    {
     "name": "stderr",
     "output_type": "stream",
     "text": [
      "/home/mbosnjak/.conda/envs/pero/lib/python3.7/site-packages/scipy/stats/stats.py:3399: PearsonRConstantInputWarning: An input array is constant; the correlation coefficent is not defined.\n",
      "  warnings.warn(PearsonRConstantInputWarning())\n"
     ]
    },
    {
     "name": "stdout",
     "output_type": "stream",
     "text": [
      "Epoch 113 end: 1.4677300453186035, TRAIN MSE is: 1319.1781005859375\n",
      "Validation loss: 239195.3437500 - MSE score: 1144.4754639\n",
      "Validation pearson is: nan\n",
      "Validation r2_score is: -0.09969510800840098\n",
      "-------------------------\n"
     ]
    },
    {
     "name": "stderr",
     "output_type": "stream",
     "text": [
      "/home/mbosnjak/.conda/envs/pero/lib/python3.7/site-packages/scipy/stats/stats.py:3399: PearsonRConstantInputWarning: An input array is constant; the correlation coefficent is not defined.\n",
      "  warnings.warn(PearsonRConstantInputWarning())\n"
     ]
    },
    {
     "name": "stdout",
     "output_type": "stream",
     "text": [
      "Epoch 114 end: 1.5057919025421143, TRAIN MSE is: 1359.8089599609375\n",
      "Validation loss: 238931.8125000 - MSE score: 1143.2145996\n",
      "Validation pearson is: nan\n",
      "Validation r2_score is: -0.09848352278198136\n",
      "-------------------------\n"
     ]
    },
    {
     "name": "stderr",
     "output_type": "stream",
     "text": [
      "/home/mbosnjak/.conda/envs/pero/lib/python3.7/site-packages/scipy/stats/stats.py:3399: PearsonRConstantInputWarning: An input array is constant; the correlation coefficent is not defined.\n",
      "  warnings.warn(PearsonRConstantInputWarning())\n"
     ]
    },
    {
     "name": "stdout",
     "output_type": "stream",
     "text": [
      "Epoch 115 end: 1.567603588104248, TRAIN MSE is: 1324.641845703125\n",
      "Validation loss: 238654.5000000 - MSE score: 1141.8875732\n",
      "Validation pearson is: nan\n",
      "Validation r2_score is: -0.09720853758586423\n",
      "-------------------------\n"
     ]
    },
    {
     "name": "stderr",
     "output_type": "stream",
     "text": [
      "/home/mbosnjak/.conda/envs/pero/lib/python3.7/site-packages/scipy/stats/stats.py:3399: PearsonRConstantInputWarning: An input array is constant; the correlation coefficent is not defined.\n",
      "  warnings.warn(PearsonRConstantInputWarning())\n"
     ]
    },
    {
     "name": "stdout",
     "output_type": "stream",
     "text": [
      "Epoch 116 end: 1.5229294300079346, TRAIN MSE is: 1308.198974609375\n",
      "Validation loss: 238318.1718750 - MSE score: 1140.2783203\n",
      "Validation pearson is: nan\n",
      "Validation r2_score is: -0.0956622391603752\n",
      "-------------------------\n"
     ]
    },
    {
     "name": "stderr",
     "output_type": "stream",
     "text": [
      "/home/mbosnjak/.conda/envs/pero/lib/python3.7/site-packages/scipy/stats/stats.py:3399: PearsonRConstantInputWarning: An input array is constant; the correlation coefficent is not defined.\n",
      "  warnings.warn(PearsonRConstantInputWarning())\n"
     ]
    },
    {
     "name": "stdout",
     "output_type": "stream",
     "text": [
      "Epoch 117 end: 1.5492477416992188, TRAIN MSE is: 1312.3853759765625\n",
      "Validation loss: 238006.8125000 - MSE score: 1138.7884521\n",
      "Validation pearson is: nan\n",
      "Validation r2_score is: -0.09423073535034243\n",
      "-------------------------\n"
     ]
    },
    {
     "name": "stderr",
     "output_type": "stream",
     "text": [
      "/home/mbosnjak/.conda/envs/pero/lib/python3.7/site-packages/scipy/stats/stats.py:3399: PearsonRConstantInputWarning: An input array is constant; the correlation coefficent is not defined.\n",
      "  warnings.warn(PearsonRConstantInputWarning())\n"
     ]
    },
    {
     "name": "stdout",
     "output_type": "stream",
     "text": [
      "Epoch 118 end: 1.5525410175323486, TRAIN MSE is: 1297.283935546875\n",
      "Validation loss: 237777.1250000 - MSE score: 1137.6895752\n",
      "Validation pearson is: nan\n",
      "Validation r2_score is: -0.09317481301019015\n",
      "-------------------------\n"
     ]
    },
    {
     "name": "stderr",
     "output_type": "stream",
     "text": [
      "/home/mbosnjak/.conda/envs/pero/lib/python3.7/site-packages/scipy/stats/stats.py:3399: PearsonRConstantInputWarning: An input array is constant; the correlation coefficent is not defined.\n",
      "  warnings.warn(PearsonRConstantInputWarning())\n"
     ]
    },
    {
     "name": "stdout",
     "output_type": "stream",
     "text": [
      "Epoch 119 end: 1.6762893199920654, TRAIN MSE is: 1356.7532958984375\n",
      "Validation loss: 237579.3125000 - MSE score: 1136.7431641\n",
      "Validation pearson is: nan\n",
      "Validation r2_score is: -0.09226544417725635\n",
      "-------------------------\n"
     ]
    },
    {
     "name": "stderr",
     "output_type": "stream",
     "text": [
      "/home/mbosnjak/.conda/envs/pero/lib/python3.7/site-packages/scipy/stats/stats.py:3399: PearsonRConstantInputWarning: An input array is constant; the correlation coefficent is not defined.\n",
      "  warnings.warn(PearsonRConstantInputWarning())\n"
     ]
    },
    {
     "name": "stdout",
     "output_type": "stream",
     "text": [
      "Epoch 120 end: 1.5644021034240723, TRAIN MSE is: 1317.1787109375\n",
      "Validation loss: 237379.4218750 - MSE score: 1135.7867432\n",
      "Validation pearson is: nan\n",
      "Validation r2_score is: -0.09134638757943914\n",
      "-------------------------\n"
     ]
    },
    {
     "name": "stderr",
     "output_type": "stream",
     "text": [
      "/home/mbosnjak/.conda/envs/pero/lib/python3.7/site-packages/scipy/stats/stats.py:3399: PearsonRConstantInputWarning: An input array is constant; the correlation coefficent is not defined.\n",
      "  warnings.warn(PearsonRConstantInputWarning())\n"
     ]
    },
    {
     "name": "stdout",
     "output_type": "stream",
     "text": [
      "Epoch 121 end: 1.572669267654419, TRAIN MSE is: 1297.125732421875\n",
      "Validation loss: 237154.5000000 - MSE score: 1134.7105713\n",
      "Validation pearson is: nan\n",
      "Validation r2_score is: -0.09031232148248458\n",
      "-------------------------\n"
     ]
    },
    {
     "name": "stderr",
     "output_type": "stream",
     "text": [
      "/home/mbosnjak/.conda/envs/pero/lib/python3.7/site-packages/scipy/stats/stats.py:3399: PearsonRConstantInputWarning: An input array is constant; the correlation coefficent is not defined.\n",
      "  warnings.warn(PearsonRConstantInputWarning())\n"
     ]
    },
    {
     "name": "stdout",
     "output_type": "stream",
     "text": [
      "Epoch 122 end: 1.601097822189331, TRAIN MSE is: 1391.7191162109375\n",
      "Validation loss: 237071.5156250 - MSE score: 1134.3134766\n",
      "Validation pearson is: nan\n",
      "Validation r2_score is: -0.08993079535699677\n",
      "-------------------------\n"
     ]
    },
    {
     "name": "stderr",
     "output_type": "stream",
     "text": [
      "/home/mbosnjak/.conda/envs/pero/lib/python3.7/site-packages/scipy/stats/stats.py:3399: PearsonRConstantInputWarning: An input array is constant; the correlation coefficent is not defined.\n",
      "  warnings.warn(PearsonRConstantInputWarning())\n"
     ]
    },
    {
     "name": "stdout",
     "output_type": "stream",
     "text": [
      "Epoch 123 end: 1.5496509075164795, TRAIN MSE is: 1331.68701171875\n",
      "Validation loss: 236884.6875000 - MSE score: 1133.4196777\n",
      "Validation pearson is: nan\n",
      "Validation r2_score is: -0.0890719227679293\n",
      "-------------------------\n"
     ]
    },
    {
     "name": "stderr",
     "output_type": "stream",
     "text": [
      "/home/mbosnjak/.conda/envs/pero/lib/python3.7/site-packages/scipy/stats/stats.py:3399: PearsonRConstantInputWarning: An input array is constant; the correlation coefficent is not defined.\n",
      "  warnings.warn(PearsonRConstantInputWarning())\n"
     ]
    },
    {
     "name": "stdout",
     "output_type": "stream",
     "text": [
      "Epoch 124 end: 1.583202838897705, TRAIN MSE is: 1294.8121337890625\n",
      "Validation loss: 236648.1562500 - MSE score: 1132.2878418\n",
      "Validation pearson is: nan\n",
      "Validation r2_score is: -0.08798442543427787\n",
      "-------------------------\n"
     ]
    },
    {
     "name": "stderr",
     "output_type": "stream",
     "text": [
      "/home/mbosnjak/.conda/envs/pero/lib/python3.7/site-packages/scipy/stats/stats.py:3399: PearsonRConstantInputWarning: An input array is constant; the correlation coefficent is not defined.\n",
      "  warnings.warn(PearsonRConstantInputWarning())\n"
     ]
    },
    {
     "name": "stdout",
     "output_type": "stream",
     "text": [
      "Epoch 125 end: 1.63517427444458, TRAIN MSE is: 1262.3345947265625\n",
      "Validation loss: 236463.9375000 - MSE score: 1131.4063721\n",
      "Validation pearson is: nan\n",
      "Validation r2_score is: -0.08713752133965635\n",
      "-------------------------\n"
     ]
    },
    {
     "name": "stderr",
     "output_type": "stream",
     "text": [
      "/home/mbosnjak/.conda/envs/pero/lib/python3.7/site-packages/scipy/stats/stats.py:3399: PearsonRConstantInputWarning: An input array is constant; the correlation coefficent is not defined.\n",
      "  warnings.warn(PearsonRConstantInputWarning())\n"
     ]
    },
    {
     "name": "stdout",
     "output_type": "stream",
     "text": [
      "Epoch 126 end: 1.5328598022460938, TRAIN MSE is: 1305.13720703125\n",
      "Validation loss: 236321.7187500 - MSE score: 1130.7259521\n",
      "Validation pearson is: nan\n",
      "Validation r2_score is: -0.08648364259306174\n",
      "-------------------------\n"
     ]
    },
    {
     "name": "stderr",
     "output_type": "stream",
     "text": [
      "/home/mbosnjak/.conda/envs/pero/lib/python3.7/site-packages/scipy/stats/stats.py:3399: PearsonRConstantInputWarning: An input array is constant; the correlation coefficent is not defined.\n",
      "  warnings.warn(PearsonRConstantInputWarning())\n"
     ]
    },
    {
     "name": "stdout",
     "output_type": "stream",
     "text": [
      "Epoch 127 end: 1.5407497882843018, TRAIN MSE is: 1316.9254150390625\n",
      "Validation loss: 236094.5781250 - MSE score: 1129.6391602\n",
      "Validation pearson is: nan\n",
      "Validation r2_score is: -0.08543940908955183\n",
      "-------------------------\n"
     ]
    },
    {
     "name": "stderr",
     "output_type": "stream",
     "text": [
      "/home/mbosnjak/.conda/envs/pero/lib/python3.7/site-packages/scipy/stats/stats.py:3399: PearsonRConstantInputWarning: An input array is constant; the correlation coefficent is not defined.\n",
      "  warnings.warn(PearsonRConstantInputWarning())\n"
     ]
    },
    {
     "name": "stdout",
     "output_type": "stream",
     "text": [
      "Epoch 128 end: 1.506011724472046, TRAIN MSE is: 1321.0689697265625\n",
      "Validation loss: 235960.9687500 - MSE score: 1128.9998779\n",
      "Validation pearson is: nan\n",
      "Validation r2_score is: -0.08482508018826751\n",
      "-------------------------\n"
     ]
    },
    {
     "name": "stderr",
     "output_type": "stream",
     "text": [
      "/home/mbosnjak/.conda/envs/pero/lib/python3.7/site-packages/scipy/stats/stats.py:3399: PearsonRConstantInputWarning: An input array is constant; the correlation coefficent is not defined.\n",
      "  warnings.warn(PearsonRConstantInputWarning())\n"
     ]
    },
    {
     "name": "stdout",
     "output_type": "stream",
     "text": [
      "Epoch 129 end: 1.527146577835083, TRAIN MSE is: 1341.808837890625\n",
      "Validation loss: 235869.0625000 - MSE score: 1128.5603027\n",
      "Validation pearson is: nan\n",
      "Validation r2_score is: -0.08440262188049674\n",
      "-------------------------\n"
     ]
    },
    {
     "name": "stderr",
     "output_type": "stream",
     "text": [
      "/home/mbosnjak/.conda/envs/pero/lib/python3.7/site-packages/scipy/stats/stats.py:3399: PearsonRConstantInputWarning: An input array is constant; the correlation coefficent is not defined.\n",
      "  warnings.warn(PearsonRConstantInputWarning())\n"
     ]
    },
    {
     "name": "stdout",
     "output_type": "stream",
     "text": [
      "Epoch 130 end: 1.557967185974121, TRAIN MSE is: 1325.4923095703125\n",
      "Validation loss: 235642.3593750 - MSE score: 1127.4754639\n",
      "Validation pearson is: nan\n",
      "Validation r2_score is: -0.08336025861264273\n",
      "-------------------------\n"
     ]
    },
    {
     "name": "stderr",
     "output_type": "stream",
     "text": [
      "/home/mbosnjak/.conda/envs/pero/lib/python3.7/site-packages/scipy/stats/stats.py:3399: PearsonRConstantInputWarning: An input array is constant; the correlation coefficent is not defined.\n",
      "  warnings.warn(PearsonRConstantInputWarning())\n"
     ]
    },
    {
     "name": "stdout",
     "output_type": "stream",
     "text": [
      "Epoch 131 end: 1.5133607387542725, TRAIN MSE is: 1328.475341796875\n",
      "Validation loss: 235432.7500000 - MSE score: 1126.4725342\n",
      "Validation pearson is: nan\n",
      "Validation r2_score is: -0.08239662432984773\n",
      "-------------------------\n"
     ]
    },
    {
     "name": "stderr",
     "output_type": "stream",
     "text": [
      "/home/mbosnjak/.conda/envs/pero/lib/python3.7/site-packages/scipy/stats/stats.py:3399: PearsonRConstantInputWarning: An input array is constant; the correlation coefficent is not defined.\n",
      "  warnings.warn(PearsonRConstantInputWarning())\n"
     ]
    },
    {
     "name": "stdout",
     "output_type": "stream",
     "text": [
      "Epoch 132 end: 1.6308200359344482, TRAIN MSE is: 1280.0391845703125\n",
      "Validation loss: 235281.9531250 - MSE score: 1125.7508545\n",
      "Validation pearson is: nan\n",
      "Validation r2_score is: -0.08170321665826474\n",
      "-------------------------\n"
     ]
    },
    {
     "name": "stderr",
     "output_type": "stream",
     "text": [
      "/home/mbosnjak/.conda/envs/pero/lib/python3.7/site-packages/scipy/stats/stats.py:3399: PearsonRConstantInputWarning: An input array is constant; the correlation coefficent is not defined.\n",
      "  warnings.warn(PearsonRConstantInputWarning())\n"
     ]
    },
    {
     "name": "stdout",
     "output_type": "stream",
     "text": [
      "Epoch 133 end: 1.5993857383728027, TRAIN MSE is: 1364.0596923828125\n",
      "Validation loss: 235195.2031250 - MSE score: 1125.3358154\n",
      "Validation pearson is: nan\n",
      "Validation r2_score is: -0.08130438691405772\n",
      "-------------------------\n"
     ]
    },
    {
     "name": "stderr",
     "output_type": "stream",
     "text": [
      "/home/mbosnjak/.conda/envs/pero/lib/python3.7/site-packages/scipy/stats/stats.py:3399: PearsonRConstantInputWarning: An input array is constant; the correlation coefficent is not defined.\n",
      "  warnings.warn(PearsonRConstantInputWarning())\n"
     ]
    },
    {
     "name": "stdout",
     "output_type": "stream",
     "text": [
      "Epoch 134 end: 1.5425209999084473, TRAIN MSE is: 1319.1551513671875\n",
      "Validation loss: 235105.7656250 - MSE score: 1124.9080811\n",
      "Validation pearson is: nan\n",
      "Validation r2_score is: -0.08089336113335488\n",
      "-------------------------\n"
     ]
    },
    {
     "name": "stderr",
     "output_type": "stream",
     "text": [
      "/home/mbosnjak/.conda/envs/pero/lib/python3.7/site-packages/scipy/stats/stats.py:3399: PearsonRConstantInputWarning: An input array is constant; the correlation coefficent is not defined.\n",
      "  warnings.warn(PearsonRConstantInputWarning())\n"
     ]
    },
    {
     "name": "stdout",
     "output_type": "stream",
     "text": [
      "Epoch 135 end: 1.5829706192016602, TRAIN MSE is: 1378.9229736328125\n",
      "Validation loss: 235065.3281250 - MSE score: 1124.7145996\n",
      "Validation pearson is: nan\n",
      "Validation r2_score is: -0.08070741540455528\n",
      "-------------------------\n"
     ]
    },
    {
     "name": "stderr",
     "output_type": "stream",
     "text": [
      "/home/mbosnjak/.conda/envs/pero/lib/python3.7/site-packages/scipy/stats/stats.py:3399: PearsonRConstantInputWarning: An input array is constant; the correlation coefficent is not defined.\n",
      "  warnings.warn(PearsonRConstantInputWarning())\n"
     ]
    },
    {
     "name": "stdout",
     "output_type": "stream",
     "text": [
      "Epoch 136 end: 1.5578687191009521, TRAIN MSE is: 1327.5296630859375\n",
      "Validation loss: 234911.3593750 - MSE score: 1123.9777832\n",
      "Validation pearson is: nan\n",
      "Validation r2_score is: -0.07999955733943565\n",
      "-------------------------\n"
     ]
    },
    {
     "name": "stderr",
     "output_type": "stream",
     "text": [
      "/home/mbosnjak/.conda/envs/pero/lib/python3.7/site-packages/scipy/stats/stats.py:3399: PearsonRConstantInputWarning: An input array is constant; the correlation coefficent is not defined.\n",
      "  warnings.warn(PearsonRConstantInputWarning())\n"
     ]
    },
    {
     "name": "stdout",
     "output_type": "stream",
     "text": [
      "Epoch 137 end: 1.5706827640533447, TRAIN MSE is: 1365.0518798828125\n",
      "Validation loss: 234815.0312500 - MSE score: 1123.5168457\n",
      "Validation pearson is: nan\n",
      "Validation r2_score is: -0.07955668109518799\n",
      "-------------------------\n"
     ]
    },
    {
     "name": "stderr",
     "output_type": "stream",
     "text": [
      "/home/mbosnjak/.conda/envs/pero/lib/python3.7/site-packages/scipy/stats/stats.py:3399: PearsonRConstantInputWarning: An input array is constant; the correlation coefficent is not defined.\n",
      "  warnings.warn(PearsonRConstantInputWarning())\n"
     ]
    },
    {
     "name": "stdout",
     "output_type": "stream",
     "text": [
      "Epoch 138 end: 1.4937326908111572, TRAIN MSE is: 1308.0706787109375\n",
      "Validation loss: 234670.8750000 - MSE score: 1122.8270264\n",
      "Validation pearson is: nan\n",
      "Validation r2_score is: -0.07889387951660831\n",
      "-------------------------\n"
     ]
    },
    {
     "name": "stderr",
     "output_type": "stream",
     "text": [
      "/home/mbosnjak/.conda/envs/pero/lib/python3.7/site-packages/scipy/stats/stats.py:3399: PearsonRConstantInputWarning: An input array is constant; the correlation coefficent is not defined.\n",
      "  warnings.warn(PearsonRConstantInputWarning())\n"
     ]
    },
    {
     "name": "stdout",
     "output_type": "stream",
     "text": [
      "Epoch 139 end: 1.6044201850891113, TRAIN MSE is: 1298.2003173828125\n",
      "Validation loss: 234629.2187500 - MSE score: 1122.6278076\n",
      "Validation pearson is: nan\n",
      "Validation r2_score is: -0.0787023548109822\n",
      "-------------------------\n"
     ]
    },
    {
     "name": "stderr",
     "output_type": "stream",
     "text": [
      "/home/mbosnjak/.conda/envs/pero/lib/python3.7/site-packages/scipy/stats/stats.py:3399: PearsonRConstantInputWarning: An input array is constant; the correlation coefficent is not defined.\n",
      "  warnings.warn(PearsonRConstantInputWarning())\n"
     ]
    },
    {
     "name": "stdout",
     "output_type": "stream",
     "text": [
      "Epoch 140 end: 1.758103847503662, TRAIN MSE is: 1335.3487548828125\n",
      "Validation loss: 234537.1406250 - MSE score: 1122.1872559\n",
      "Validation pearson is: nan\n",
      "Validation r2_score is: -0.07827905264156532\n",
      "-------------------------\n"
     ]
    },
    {
     "name": "stderr",
     "output_type": "stream",
     "text": [
      "/home/mbosnjak/.conda/envs/pero/lib/python3.7/site-packages/scipy/stats/stats.py:3399: PearsonRConstantInputWarning: An input array is constant; the correlation coefficent is not defined.\n",
      "  warnings.warn(PearsonRConstantInputWarning())\n"
     ]
    },
    {
     "name": "stdout",
     "output_type": "stream",
     "text": [
      "Epoch 141 end: 1.7460331916809082, TRAIN MSE is: 1233.448974609375\n",
      "Validation loss: 234502.8437500 - MSE score: 1122.0231934\n",
      "Validation pearson is: nan\n",
      "Validation r2_score is: -0.07812137868710778\n",
      "-------------------------\n"
     ]
    },
    {
     "name": "stderr",
     "output_type": "stream",
     "text": [
      "/home/mbosnjak/.conda/envs/pero/lib/python3.7/site-packages/scipy/stats/stats.py:3399: PearsonRConstantInputWarning: An input array is constant; the correlation coefficent is not defined.\n",
      "  warnings.warn(PearsonRConstantInputWarning())\n"
     ]
    },
    {
     "name": "stdout",
     "output_type": "stream",
     "text": [
      "Epoch 142 end: 1.5645380020141602, TRAIN MSE is: 1303.4423828125\n",
      "Validation loss: 234382.7343750 - MSE score: 1121.4486084\n",
      "Validation pearson is: nan\n",
      "Validation r2_score is: -0.07756922405514555\n",
      "-------------------------\n"
     ]
    },
    {
     "name": "stderr",
     "output_type": "stream",
     "text": [
      "/home/mbosnjak/.conda/envs/pero/lib/python3.7/site-packages/scipy/stats/stats.py:3399: PearsonRConstantInputWarning: An input array is constant; the correlation coefficent is not defined.\n",
      "  warnings.warn(PearsonRConstantInputWarning())\n"
     ]
    },
    {
     "name": "stdout",
     "output_type": "stream",
     "text": [
      "Epoch 143 end: 1.6231133937835693, TRAIN MSE is: 1312.1602783203125\n",
      "Validation loss: 234393.0156250 - MSE score: 1121.4976807\n",
      "Validation pearson is: nan\n",
      "Validation r2_score is: -0.07761645732188494\n",
      "-------------------------\n"
     ]
    },
    {
     "name": "stderr",
     "output_type": "stream",
     "text": [
      "/home/mbosnjak/.conda/envs/pero/lib/python3.7/site-packages/scipy/stats/stats.py:3399: PearsonRConstantInputWarning: An input array is constant; the correlation coefficent is not defined.\n",
      "  warnings.warn(PearsonRConstantInputWarning())\n"
     ]
    },
    {
     "name": "stdout",
     "output_type": "stream",
     "text": [
      "Epoch 144 end: 1.5519435405731201, TRAIN MSE is: 1310.0164794921875\n",
      "Validation loss: 234295.6875000 - MSE score: 1121.0319824\n",
      "Validation pearson is: nan\n",
      "Validation r2_score is: -0.0771690032864969\n",
      "-------------------------\n"
     ]
    },
    {
     "name": "stderr",
     "output_type": "stream",
     "text": [
      "/home/mbosnjak/.conda/envs/pero/lib/python3.7/site-packages/scipy/stats/stats.py:3399: PearsonRConstantInputWarning: An input array is constant; the correlation coefficent is not defined.\n",
      "  warnings.warn(PearsonRConstantInputWarning())\n"
     ]
    },
    {
     "name": "stdout",
     "output_type": "stream",
     "text": [
      "Epoch 145 end: 1.497248649597168, TRAIN MSE is: 1359.5462646484375\n",
      "Validation loss: 234201.7656250 - MSE score: 1120.5826416\n",
      "Validation pearson is: nan\n",
      "Validation r2_score is: -0.0767372023649795\n",
      "-------------------------\n"
     ]
    },
    {
     "name": "stderr",
     "output_type": "stream",
     "text": [
      "/home/mbosnjak/.conda/envs/pero/lib/python3.7/site-packages/scipy/stats/stats.py:3399: PearsonRConstantInputWarning: An input array is constant; the correlation coefficent is not defined.\n",
      "  warnings.warn(PearsonRConstantInputWarning())\n"
     ]
    },
    {
     "name": "stdout",
     "output_type": "stream",
     "text": [
      "Epoch 146 end: 1.4949612617492676, TRAIN MSE is: 1290.6910400390625\n",
      "Validation loss: 234175.4687500 - MSE score: 1120.4567871\n",
      "Validation pearson is: nan\n",
      "Validation r2_score is: -0.07661624449105209\n",
      "-------------------------\n"
     ]
    },
    {
     "name": "stderr",
     "output_type": "stream",
     "text": [
      "/home/mbosnjak/.conda/envs/pero/lib/python3.7/site-packages/scipy/stats/stats.py:3399: PearsonRConstantInputWarning: An input array is constant; the correlation coefficent is not defined.\n",
      "  warnings.warn(PearsonRConstantInputWarning())\n"
     ]
    },
    {
     "name": "stdout",
     "output_type": "stream",
     "text": [
      "Epoch 147 end: 1.5300612449645996, TRAIN MSE is: 1381.4520263671875\n",
      "Validation loss: 234019.1406250 - MSE score: 1119.7088623\n",
      "Validation pearson is: nan\n",
      "Validation r2_score is: -0.07589759936614393\n",
      "-------------------------\n"
     ]
    },
    {
     "name": "stderr",
     "output_type": "stream",
     "text": [
      "/home/mbosnjak/.conda/envs/pero/lib/python3.7/site-packages/scipy/stats/stats.py:3399: PearsonRConstantInputWarning: An input array is constant; the correlation coefficent is not defined.\n",
      "  warnings.warn(PearsonRConstantInputWarning())\n"
     ]
    },
    {
     "name": "stdout",
     "output_type": "stream",
     "text": [
      "Epoch 148 end: 1.5102698802947998, TRAIN MSE is: 1309.4024658203125\n",
      "Validation loss: 233968.1406250 - MSE score: 1119.4648438\n",
      "Validation pearson is: nan\n",
      "Validation r2_score is: -0.07566309347783706\n",
      "-------------------------\n"
     ]
    },
    {
     "name": "stderr",
     "output_type": "stream",
     "text": [
      "/home/mbosnjak/.conda/envs/pero/lib/python3.7/site-packages/scipy/stats/stats.py:3399: PearsonRConstantInputWarning: An input array is constant; the correlation coefficent is not defined.\n",
      "  warnings.warn(PearsonRConstantInputWarning())\n"
     ]
    },
    {
     "name": "stdout",
     "output_type": "stream",
     "text": [
      "Epoch 149 end: 1.5264642238616943, TRAIN MSE is: 1233.4849853515625\n",
      "Validation loss: 233783.9531250 - MSE score: 1118.5834961\n",
      "Validation pearson is: nan\n",
      "Validation r2_score is: -0.07481627906850452\n",
      "-------------------------\n"
     ]
    },
    {
     "name": "stderr",
     "output_type": "stream",
     "text": [
      "/home/mbosnjak/.conda/envs/pero/lib/python3.7/site-packages/scipy/stats/stats.py:3399: PearsonRConstantInputWarning: An input array is constant; the correlation coefficent is not defined.\n",
      "  warnings.warn(PearsonRConstantInputWarning())\n"
     ]
    },
    {
     "name": "stdout",
     "output_type": "stream",
     "text": [
      "Epoch 150 end: 1.546004295349121, TRAIN MSE is: 1335.176025390625\n",
      "Validation loss: 233744.9531250 - MSE score: 1118.3969727\n",
      "Validation pearson is: nan\n",
      "Validation r2_score is: -0.07463707318434643\n",
      "-------------------------\n"
     ]
    },
    {
     "name": "stderr",
     "output_type": "stream",
     "text": [
      "/home/mbosnjak/.conda/envs/pero/lib/python3.7/site-packages/scipy/stats/stats.py:3399: PearsonRConstantInputWarning: An input array is constant; the correlation coefficent is not defined.\n",
      "  warnings.warn(PearsonRConstantInputWarning())\n"
     ]
    },
    {
     "name": "stdout",
     "output_type": "stream",
     "text": [
      "Epoch 151 end: 1.5201406478881836, TRAIN MSE is: 1325.4019775390625\n",
      "Validation loss: 233690.7343750 - MSE score: 1118.1374512\n",
      "Validation pearson is: nan\n",
      "Validation r2_score is: -0.07438770296038566\n",
      "-------------------------\n"
     ]
    },
    {
     "name": "stderr",
     "output_type": "stream",
     "text": [
      "/home/mbosnjak/.conda/envs/pero/lib/python3.7/site-packages/scipy/stats/stats.py:3399: PearsonRConstantInputWarning: An input array is constant; the correlation coefficent is not defined.\n",
      "  warnings.warn(PearsonRConstantInputWarning())\n"
     ]
    },
    {
     "name": "stdout",
     "output_type": "stream",
     "text": [
      "Epoch 152 end: 1.6271023750305176, TRAIN MSE is: 1303.6865234375\n",
      "Validation loss: 233581.3750000 - MSE score: 1117.6143799\n",
      "Validation pearson is: nan\n",
      "Validation r2_score is: -0.07388505228875686\n",
      "-------------------------\n"
     ]
    },
    {
     "name": "stderr",
     "output_type": "stream",
     "text": [
      "/home/mbosnjak/.conda/envs/pero/lib/python3.7/site-packages/scipy/stats/stats.py:3399: PearsonRConstantInputWarning: An input array is constant; the correlation coefficent is not defined.\n",
      "  warnings.warn(PearsonRConstantInputWarning())\n"
     ]
    },
    {
     "name": "stdout",
     "output_type": "stream",
     "text": [
      "Epoch 153 end: 1.5861554145812988, TRAIN MSE is: 1349.0252685546875\n",
      "Validation loss: 233561.8125000 - MSE score: 1117.5207520\n",
      "Validation pearson is: nan\n",
      "Validation r2_score is: -0.07379506470176822\n",
      "-------------------------\n"
     ]
    },
    {
     "name": "stderr",
     "output_type": "stream",
     "text": [
      "/home/mbosnjak/.conda/envs/pero/lib/python3.7/site-packages/scipy/stats/stats.py:3399: PearsonRConstantInputWarning: An input array is constant; the correlation coefficent is not defined.\n",
      "  warnings.warn(PearsonRConstantInputWarning())\n"
     ]
    },
    {
     "name": "stdout",
     "output_type": "stream",
     "text": [
      "Epoch 154 end: 1.6151659488677979, TRAIN MSE is: 1259.8736572265625\n",
      "Validation loss: 233514.8125000 - MSE score: 1117.2956543\n",
      "Validation pearson is: nan\n",
      "Validation r2_score is: -0.0735788509243065\n",
      "-------------------------\n"
     ]
    },
    {
     "name": "stderr",
     "output_type": "stream",
     "text": [
      "/home/mbosnjak/.conda/envs/pero/lib/python3.7/site-packages/scipy/stats/stats.py:3399: PearsonRConstantInputWarning: An input array is constant; the correlation coefficent is not defined.\n",
      "  warnings.warn(PearsonRConstantInputWarning())\n"
     ]
    },
    {
     "name": "stdout",
     "output_type": "stream",
     "text": [
      "Epoch 155 end: 1.665221929550171, TRAIN MSE is: 1293.684326171875\n",
      "Validation loss: 233427.7187500 - MSE score: 1116.8790283\n",
      "Validation pearson is: nan\n",
      "Validation r2_score is: -0.07317853853117606\n",
      "-------------------------\n"
     ]
    },
    {
     "name": "stderr",
     "output_type": "stream",
     "text": [
      "/home/mbosnjak/.conda/envs/pero/lib/python3.7/site-packages/scipy/stats/stats.py:3399: PearsonRConstantInputWarning: An input array is constant; the correlation coefficent is not defined.\n",
      "  warnings.warn(PearsonRConstantInputWarning())\n"
     ]
    },
    {
     "name": "stdout",
     "output_type": "stream",
     "text": [
      "Epoch 156 end: 1.5717639923095703, TRAIN MSE is: 1393.279541015625\n",
      "Validation loss: 233455.2968750 - MSE score: 1117.0109863\n",
      "Validation pearson is: nan\n",
      "Validation r2_score is: -0.07330531204507928\n",
      "-------------------------\n"
     ]
    },
    {
     "name": "stderr",
     "output_type": "stream",
     "text": [
      "/home/mbosnjak/.conda/envs/pero/lib/python3.7/site-packages/scipy/stats/stats.py:3399: PearsonRConstantInputWarning: An input array is constant; the correlation coefficent is not defined.\n",
      "  warnings.warn(PearsonRConstantInputWarning())\n"
     ]
    },
    {
     "name": "stdout",
     "output_type": "stream",
     "text": [
      "Epoch 157 end: 1.5594677925109863, TRAIN MSE is: 1324.8626708984375\n",
      "Validation loss: 233449.9531250 - MSE score: 1116.9854736\n",
      "Validation pearson is: nan\n",
      "Validation r2_score is: -0.07328072664621677\n",
      "-------------------------\n"
     ]
    },
    {
     "name": "stderr",
     "output_type": "stream",
     "text": [
      "/home/mbosnjak/.conda/envs/pero/lib/python3.7/site-packages/scipy/stats/stats.py:3399: PearsonRConstantInputWarning: An input array is constant; the correlation coefficent is not defined.\n",
      "  warnings.warn(PearsonRConstantInputWarning())\n"
     ]
    },
    {
     "name": "stdout",
     "output_type": "stream",
     "text": [
      "Epoch 158 end: 1.5786988735198975, TRAIN MSE is: 1309.52734375\n",
      "Validation loss: 233389.7968750 - MSE score: 1116.6975098\n",
      "Validation pearson is: nan\n",
      "Validation r2_score is: -0.07300410820617365\n",
      "-------------------------\n"
     ]
    },
    {
     "name": "stderr",
     "output_type": "stream",
     "text": [
      "/home/mbosnjak/.conda/envs/pero/lib/python3.7/site-packages/scipy/stats/stats.py:3399: PearsonRConstantInputWarning: An input array is constant; the correlation coefficent is not defined.\n",
      "  warnings.warn(PearsonRConstantInputWarning())\n"
     ]
    },
    {
     "name": "stdout",
     "output_type": "stream",
     "text": [
      "Epoch 159 end: 1.7425100803375244, TRAIN MSE is: 1240.95556640625\n",
      "Validation loss: 233293.6406250 - MSE score: 1116.2374268\n",
      "Validation pearson is: nan\n",
      "Validation r2_score is: -0.07256207349117338\n",
      "-------------------------\n"
     ]
    },
    {
     "name": "stderr",
     "output_type": "stream",
     "text": [
      "/home/mbosnjak/.conda/envs/pero/lib/python3.7/site-packages/scipy/stats/stats.py:3399: PearsonRConstantInputWarning: An input array is constant; the correlation coefficent is not defined.\n",
      "  warnings.warn(PearsonRConstantInputWarning())\n"
     ]
    },
    {
     "name": "stdout",
     "output_type": "stream",
     "text": [
      "Epoch 160 end: 1.6675732135772705, TRAIN MSE is: 1268.620361328125\n",
      "Validation loss: 233183.3906250 - MSE score: 1115.7099609\n",
      "Validation pearson is: nan\n",
      "Validation r2_score is: -0.07205523437878525\n",
      "-------------------------\n"
     ]
    },
    {
     "name": "stderr",
     "output_type": "stream",
     "text": [
      "/home/mbosnjak/.conda/envs/pero/lib/python3.7/site-packages/scipy/stats/stats.py:3399: PearsonRConstantInputWarning: An input array is constant; the correlation coefficent is not defined.\n",
      "  warnings.warn(PearsonRConstantInputWarning())\n"
     ]
    },
    {
     "name": "stdout",
     "output_type": "stream",
     "text": [
      "Epoch 161 end: 1.673539400100708, TRAIN MSE is: 1289.4771728515625\n",
      "Validation loss: 233052.8281250 - MSE score: 1115.0853271\n",
      "Validation pearson is: nan\n",
      "Validation r2_score is: -0.07145499508510444\n",
      "-------------------------\n"
     ]
    },
    {
     "name": "stderr",
     "output_type": "stream",
     "text": [
      "/home/mbosnjak/.conda/envs/pero/lib/python3.7/site-packages/scipy/stats/stats.py:3399: PearsonRConstantInputWarning: An input array is constant; the correlation coefficent is not defined.\n",
      "  warnings.warn(PearsonRConstantInputWarning())\n"
     ]
    },
    {
     "name": "stdout",
     "output_type": "stream",
     "text": [
      "Epoch 162 end: 1.7234489917755127, TRAIN MSE is: 1308.1998291015625\n",
      "Validation loss: 233005.1250000 - MSE score: 1114.8570557\n",
      "Validation pearson is: nan\n",
      "Validation r2_score is: -0.07123566666961256\n",
      "-------------------------\n"
     ]
    },
    {
     "name": "stderr",
     "output_type": "stream",
     "text": [
      "/home/mbosnjak/.conda/envs/pero/lib/python3.7/site-packages/scipy/stats/stats.py:3399: PearsonRConstantInputWarning: An input array is constant; the correlation coefficent is not defined.\n",
      "  warnings.warn(PearsonRConstantInputWarning())\n"
     ]
    },
    {
     "name": "stdout",
     "output_type": "stream",
     "text": [
      "Epoch 163 end: 1.4996042251586914, TRAIN MSE is: 1317.8162841796875\n",
      "Validation loss: 232949.7968750 - MSE score: 1114.5924072\n",
      "Validation pearson is: nan\n",
      "Validation r2_score is: -0.07098133337772072\n",
      "-------------------------\n"
     ]
    },
    {
     "name": "stderr",
     "output_type": "stream",
     "text": [
      "/home/mbosnjak/.conda/envs/pero/lib/python3.7/site-packages/scipy/stats/stats.py:3399: PearsonRConstantInputWarning: An input array is constant; the correlation coefficent is not defined.\n",
      "  warnings.warn(PearsonRConstantInputWarning())\n"
     ]
    },
    {
     "name": "stdout",
     "output_type": "stream",
     "text": [
      "Epoch 164 end: 1.7522258758544922, TRAIN MSE is: 1345.0655517578125\n",
      "Validation loss: 232942.9218750 - MSE score: 1114.5593262\n",
      "Validation pearson is: nan\n",
      "Validation r2_score is: -0.07094964955441374\n",
      "-------------------------\n"
     ]
    },
    {
     "name": "stderr",
     "output_type": "stream",
     "text": [
      "/home/mbosnjak/.conda/envs/pero/lib/python3.7/site-packages/scipy/stats/stats.py:3399: PearsonRConstantInputWarning: An input array is constant; the correlation coefficent is not defined.\n",
      "  warnings.warn(PearsonRConstantInputWarning())\n"
     ]
    },
    {
     "name": "stdout",
     "output_type": "stream",
     "text": [
      "Epoch 165 end: 1.5610578060150146, TRAIN MSE is: 1350.94091796875\n",
      "Validation loss: 232966.5312500 - MSE score: 1114.6723633\n",
      "Validation pearson is: nan\n",
      "Validation r2_score is: -0.07105822579804966\n",
      "-------------------------\n"
     ]
    },
    {
     "name": "stderr",
     "output_type": "stream",
     "text": [
      "/home/mbosnjak/.conda/envs/pero/lib/python3.7/site-packages/scipy/stats/stats.py:3399: PearsonRConstantInputWarning: An input array is constant; the correlation coefficent is not defined.\n",
      "  warnings.warn(PearsonRConstantInputWarning())\n"
     ]
    },
    {
     "name": "stdout",
     "output_type": "stream",
     "text": [
      "Epoch 166 end: 1.5645461082458496, TRAIN MSE is: 1277.400634765625\n",
      "Validation loss: 232903.7343750 - MSE score: 1114.3720703\n",
      "Validation pearson is: nan\n",
      "Validation r2_score is: -0.07076952895285915\n",
      "-------------------------\n"
     ]
    },
    {
     "name": "stderr",
     "output_type": "stream",
     "text": [
      "/home/mbosnjak/.conda/envs/pero/lib/python3.7/site-packages/scipy/stats/stats.py:3399: PearsonRConstantInputWarning: An input array is constant; the correlation coefficent is not defined.\n",
      "  warnings.warn(PearsonRConstantInputWarning())\n"
     ]
    },
    {
     "name": "stdout",
     "output_type": "stream",
     "text": [
      "Epoch 167 end: 1.5346174240112305, TRAIN MSE is: 1322.443603515625\n",
      "Validation loss: 232796.8593750 - MSE score: 1113.8605957\n",
      "Validation pearson is: nan\n",
      "Validation r2_score is: -0.07027815263712567\n",
      "-------------------------\n"
     ]
    },
    {
     "name": "stderr",
     "output_type": "stream",
     "text": [
      "/home/mbosnjak/.conda/envs/pero/lib/python3.7/site-packages/scipy/stats/stats.py:3399: PearsonRConstantInputWarning: An input array is constant; the correlation coefficent is not defined.\n",
      "  warnings.warn(PearsonRConstantInputWarning())\n"
     ]
    },
    {
     "name": "stdout",
     "output_type": "stream",
     "text": [
      "Epoch 168 end: 1.5559182167053223, TRAIN MSE is: 1295.8358154296875\n",
      "Validation loss: 232798.3125000 - MSE score: 1113.8674316\n",
      "Validation pearson is: nan\n",
      "Validation r2_score is: -0.07028486922226662\n",
      "-------------------------\n"
     ]
    },
    {
     "name": "stderr",
     "output_type": "stream",
     "text": [
      "/home/mbosnjak/.conda/envs/pero/lib/python3.7/site-packages/scipy/stats/stats.py:3399: PearsonRConstantInputWarning: An input array is constant; the correlation coefficent is not defined.\n",
      "  warnings.warn(PearsonRConstantInputWarning())\n"
     ]
    },
    {
     "name": "stdout",
     "output_type": "stream",
     "text": [
      "Epoch 169 end: 1.6329092979431152, TRAIN MSE is: 1312.979248046875\n",
      "Validation loss: 232731.1093750 - MSE score: 1113.5460205\n",
      "Validation pearson is: nan\n",
      "Validation r2_score is: -0.06997598125381788\n",
      "-------------------------\n"
     ]
    },
    {
     "name": "stderr",
     "output_type": "stream",
     "text": [
      "/home/mbosnjak/.conda/envs/pero/lib/python3.7/site-packages/scipy/stats/stats.py:3399: PearsonRConstantInputWarning: An input array is constant; the correlation coefficent is not defined.\n",
      "  warnings.warn(PearsonRConstantInputWarning())\n"
     ]
    },
    {
     "name": "stdout",
     "output_type": "stream",
     "text": [
      "Epoch 170 end: 1.5967738628387451, TRAIN MSE is: 1341.0032958984375\n",
      "Validation loss: 232712.9531250 - MSE score: 1113.4592285\n",
      "Validation pearson is: nan\n",
      "Validation r2_score is: -0.06989242245442728\n",
      "-------------------------\n"
     ]
    },
    {
     "name": "stderr",
     "output_type": "stream",
     "text": [
      "/home/mbosnjak/.conda/envs/pero/lib/python3.7/site-packages/scipy/stats/stats.py:3399: PearsonRConstantInputWarning: An input array is constant; the correlation coefficent is not defined.\n",
      "  warnings.warn(PearsonRConstantInputWarning())\n"
     ]
    },
    {
     "name": "stdout",
     "output_type": "stream",
     "text": [
      "Epoch 171 end: 1.5836870670318604, TRAIN MSE is: 1255.4776611328125\n",
      "Validation loss: 232597.9687500 - MSE score: 1112.9089355\n",
      "Validation pearson is: nan\n",
      "Validation r2_score is: -0.06936373364637483\n",
      "-------------------------\n"
     ]
    },
    {
     "name": "stderr",
     "output_type": "stream",
     "text": [
      "/home/mbosnjak/.conda/envs/pero/lib/python3.7/site-packages/scipy/stats/stats.py:3399: PearsonRConstantInputWarning: An input array is constant; the correlation coefficent is not defined.\n",
      "  warnings.warn(PearsonRConstantInputWarning())\n"
     ]
    },
    {
     "name": "stdout",
     "output_type": "stream",
     "text": [
      "Epoch 172 end: 1.5895695686340332, TRAIN MSE is: 1329.7060546875\n",
      "Validation loss: 232509.5312500 - MSE score: 1112.4858398\n",
      "Validation pearson is: nan\n",
      "Validation r2_score is: -0.06895717269976931\n",
      "-------------------------\n"
     ]
    },
    {
     "name": "stderr",
     "output_type": "stream",
     "text": [
      "/home/mbosnjak/.conda/envs/pero/lib/python3.7/site-packages/scipy/stats/stats.py:3399: PearsonRConstantInputWarning: An input array is constant; the correlation coefficent is not defined.\n",
      "  warnings.warn(PearsonRConstantInputWarning())\n"
     ]
    },
    {
     "name": "stdout",
     "output_type": "stream",
     "text": [
      "Epoch 173 end: 1.601435899734497, TRAIN MSE is: 1305.5718994140625\n",
      "Validation loss: 232432.8750000 - MSE score: 1112.1190186\n",
      "Validation pearson is: nan\n",
      "Validation r2_score is: -0.06860474405427897\n",
      "-------------------------\n"
     ]
    },
    {
     "name": "stderr",
     "output_type": "stream",
     "text": [
      "/home/mbosnjak/.conda/envs/pero/lib/python3.7/site-packages/scipy/stats/stats.py:3399: PearsonRConstantInputWarning: An input array is constant; the correlation coefficent is not defined.\n",
      "  warnings.warn(PearsonRConstantInputWarning())\n"
     ]
    },
    {
     "name": "stdout",
     "output_type": "stream",
     "text": [
      "Epoch 174 end: 1.619781732559204, TRAIN MSE is: 1335.73291015625\n",
      "Validation loss: 232417.0468750 - MSE score: 1112.0433350\n",
      "Validation pearson is: nan\n",
      "Validation r2_score is: -0.06853197503044828\n",
      "-------------------------\n"
     ]
    },
    {
     "name": "stderr",
     "output_type": "stream",
     "text": [
      "/home/mbosnjak/.conda/envs/pero/lib/python3.7/site-packages/scipy/stats/stats.py:3399: PearsonRConstantInputWarning: An input array is constant; the correlation coefficent is not defined.\n",
      "  warnings.warn(PearsonRConstantInputWarning())\n"
     ]
    },
    {
     "name": "stdout",
     "output_type": "stream",
     "text": [
      "Epoch 175 end: 1.5929160118103027, TRAIN MSE is: 1274.344970703125\n",
      "Validation loss: 232313.3906250 - MSE score: 1111.5473633\n",
      "Validation pearson is: nan\n",
      "Validation r2_score is: -0.0680554680117067\n",
      "-------------------------\n"
     ]
    },
    {
     "name": "stderr",
     "output_type": "stream",
     "text": [
      "/home/mbosnjak/.conda/envs/pero/lib/python3.7/site-packages/scipy/stats/stats.py:3399: PearsonRConstantInputWarning: An input array is constant; the correlation coefficent is not defined.\n",
      "  warnings.warn(PearsonRConstantInputWarning())\n"
     ]
    },
    {
     "name": "stdout",
     "output_type": "stream",
     "text": [
      "Epoch 176 end: 1.556553602218628, TRAIN MSE is: 1348.4866943359375\n",
      "Validation loss: 232273.5937500 - MSE score: 1111.3569336\n",
      "Validation pearson is: nan\n",
      "Validation r2_score is: -0.06787248117156386\n",
      "-------------------------\n"
     ]
    },
    {
     "name": "stderr",
     "output_type": "stream",
     "text": [
      "/home/mbosnjak/.conda/envs/pero/lib/python3.7/site-packages/scipy/stats/stats.py:3399: PearsonRConstantInputWarning: An input array is constant; the correlation coefficent is not defined.\n",
      "  warnings.warn(PearsonRConstantInputWarning())\n"
     ]
    },
    {
     "name": "stdout",
     "output_type": "stream",
     "text": [
      "Epoch 177 end: 1.5479414463043213, TRAIN MSE is: 1267.0263671875\n",
      "Validation loss: 232199.6406250 - MSE score: 1111.0031738\n",
      "Validation pearson is: nan\n",
      "Validation r2_score is: -0.06753250867138516\n",
      "-------------------------\n"
     ]
    },
    {
     "name": "stderr",
     "output_type": "stream",
     "text": [
      "/home/mbosnjak/.conda/envs/pero/lib/python3.7/site-packages/scipy/stats/stats.py:3399: PearsonRConstantInputWarning: An input array is constant; the correlation coefficent is not defined.\n",
      "  warnings.warn(PearsonRConstantInputWarning())\n"
     ]
    },
    {
     "name": "stdout",
     "output_type": "stream",
     "text": [
      "Epoch 178 end: 1.5362560749053955, TRAIN MSE is: 1284.4503173828125\n",
      "Validation loss: 232085.1875000 - MSE score: 1110.4555664\n",
      "Validation pearson is: nan\n",
      "Validation r2_score is: -0.0670063432150978\n",
      "-------------------------\n"
     ]
    },
    {
     "name": "stderr",
     "output_type": "stream",
     "text": [
      "/home/mbosnjak/.conda/envs/pero/lib/python3.7/site-packages/scipy/stats/stats.py:3399: PearsonRConstantInputWarning: An input array is constant; the correlation coefficent is not defined.\n",
      "  warnings.warn(PearsonRConstantInputWarning())\n"
     ]
    },
    {
     "name": "stdout",
     "output_type": "stream",
     "text": [
      "Epoch 179 end: 1.4824209213256836, TRAIN MSE is: 1396.95703125\n",
      "Validation loss: 232052.1250000 - MSE score: 1110.2972412\n",
      "Validation pearson is: nan\n",
      "Validation r2_score is: -0.06685423637829557\n",
      "-------------------------\n"
     ]
    },
    {
     "name": "stderr",
     "output_type": "stream",
     "text": [
      "/home/mbosnjak/.conda/envs/pero/lib/python3.7/site-packages/scipy/stats/stats.py:3399: PearsonRConstantInputWarning: An input array is constant; the correlation coefficent is not defined.\n",
      "  warnings.warn(PearsonRConstantInputWarning())\n"
     ]
    },
    {
     "name": "stdout",
     "output_type": "stream",
     "text": [
      "Epoch 180 end: 1.6063339710235596, TRAIN MSE is: 1303.143798828125\n",
      "Validation loss: 231923.0156250 - MSE score: 1109.6794434\n",
      "Validation pearson is: nan\n",
      "Validation r2_score is: -0.06626066116188278\n",
      "-------------------------\n"
     ]
    },
    {
     "name": "stderr",
     "output_type": "stream",
     "text": [
      "/home/mbosnjak/.conda/envs/pero/lib/python3.7/site-packages/scipy/stats/stats.py:3399: PearsonRConstantInputWarning: An input array is constant; the correlation coefficent is not defined.\n",
      "  warnings.warn(PearsonRConstantInputWarning())\n"
     ]
    },
    {
     "name": "stdout",
     "output_type": "stream",
     "text": [
      "Epoch 181 end: 1.5748727321624756, TRAIN MSE is: 1221.4759521484375\n",
      "Validation loss: 231821.0937500 - MSE score: 1109.1918945\n",
      "Validation pearson is: nan\n",
      "Validation r2_score is: -0.06579206611071897\n",
      "-------------------------\n"
     ]
    },
    {
     "name": "stderr",
     "output_type": "stream",
     "text": [
      "/home/mbosnjak/.conda/envs/pero/lib/python3.7/site-packages/scipy/stats/stats.py:3399: PearsonRConstantInputWarning: An input array is constant; the correlation coefficent is not defined.\n",
      "  warnings.warn(PearsonRConstantInputWarning())\n"
     ]
    },
    {
     "name": "stdout",
     "output_type": "stream",
     "text": [
      "Epoch 182 end: 1.5691442489624023, TRAIN MSE is: 1317.404541015625\n",
      "Validation loss: 231777.8125000 - MSE score: 1108.9847412\n",
      "Validation pearson is: nan\n",
      "Validation r2_score is: -0.06559312273214402\n",
      "-------------------------\n"
     ]
    },
    {
     "name": "stderr",
     "output_type": "stream",
     "text": [
      "/home/mbosnjak/.conda/envs/pero/lib/python3.7/site-packages/scipy/stats/stats.py:3399: PearsonRConstantInputWarning: An input array is constant; the correlation coefficent is not defined.\n",
      "  warnings.warn(PearsonRConstantInputWarning())\n"
     ]
    },
    {
     "name": "stdout",
     "output_type": "stream",
     "text": [
      "Epoch 183 end: 1.5878992080688477, TRAIN MSE is: 1306.1143798828125\n",
      "Validation loss: 231746.0000000 - MSE score: 1108.8326416\n",
      "Validation pearson is: nan\n",
      "Validation r2_score is: -0.06544687244311609\n",
      "-------------------------\n"
     ]
    },
    {
     "name": "stderr",
     "output_type": "stream",
     "text": [
      "/home/mbosnjak/.conda/envs/pero/lib/python3.7/site-packages/scipy/stats/stats.py:3399: PearsonRConstantInputWarning: An input array is constant; the correlation coefficent is not defined.\n",
      "  warnings.warn(PearsonRConstantInputWarning())\n"
     ]
    },
    {
     "name": "stdout",
     "output_type": "stream",
     "text": [
      "Epoch 184 end: 1.548008680343628, TRAIN MSE is: 1237.8807373046875\n",
      "Validation loss: 231768.9375000 - MSE score: 1108.9422607\n",
      "Validation pearson is: nan\n",
      "Validation r2_score is: -0.06555236071126713\n",
      "-------------------------\n"
     ]
    },
    {
     "name": "stderr",
     "output_type": "stream",
     "text": [
      "/home/mbosnjak/.conda/envs/pero/lib/python3.7/site-packages/scipy/stats/stats.py:3399: PearsonRConstantInputWarning: An input array is constant; the correlation coefficent is not defined.\n",
      "  warnings.warn(PearsonRConstantInputWarning())\n"
     ]
    },
    {
     "name": "stdout",
     "output_type": "stream",
     "text": [
      "Epoch 185 end: 1.5075478553771973, TRAIN MSE is: 1239.704345703125\n",
      "Validation loss: 231661.5468750 - MSE score: 1108.4283447\n",
      "Validation pearson is: nan\n",
      "Validation r2_score is: -0.06505854389768895\n",
      "-------------------------\n"
     ]
    },
    {
     "name": "stderr",
     "output_type": "stream",
     "text": [
      "/home/mbosnjak/.conda/envs/pero/lib/python3.7/site-packages/scipy/stats/stats.py:3399: PearsonRConstantInputWarning: An input array is constant; the correlation coefficent is not defined.\n",
      "  warnings.warn(PearsonRConstantInputWarning())\n"
     ]
    },
    {
     "name": "stdout",
     "output_type": "stream",
     "text": [
      "Epoch 186 end: 1.543095350265503, TRAIN MSE is: 1257.263916015625\n",
      "Validation loss: 231510.6875000 - MSE score: 1107.7066650\n",
      "Validation pearson is: nan\n",
      "Validation r2_score is: -0.06436507005095726\n",
      "-------------------------\n"
     ]
    },
    {
     "name": "stderr",
     "output_type": "stream",
     "text": [
      "/home/mbosnjak/.conda/envs/pero/lib/python3.7/site-packages/scipy/stats/stats.py:3399: PearsonRConstantInputWarning: An input array is constant; the correlation coefficent is not defined.\n",
      "  warnings.warn(PearsonRConstantInputWarning())\n"
     ]
    },
    {
     "name": "stdout",
     "output_type": "stream",
     "text": [
      "Epoch 187 end: 1.6108474731445312, TRAIN MSE is: 1271.0308837890625\n",
      "Validation loss: 231489.9218750 - MSE score: 1107.6071777\n",
      "Validation pearson is: nan\n",
      "Validation r2_score is: -0.06426952064452962\n",
      "-------------------------\n"
     ]
    },
    {
     "name": "stderr",
     "output_type": "stream",
     "text": [
      "/home/mbosnjak/.conda/envs/pero/lib/python3.7/site-packages/scipy/stats/stats.py:3399: PearsonRConstantInputWarning: An input array is constant; the correlation coefficent is not defined.\n",
      "  warnings.warn(PearsonRConstantInputWarning())\n"
     ]
    },
    {
     "name": "stdout",
     "output_type": "stream",
     "text": [
      "Epoch 188 end: 1.6058666706085205, TRAIN MSE is: 1326.1414794921875\n",
      "Validation loss: 231523.4687500 - MSE score: 1107.7678223\n",
      "Validation pearson is: nan\n",
      "Validation r2_score is: -0.06442376211522438\n",
      "-------------------------\n"
     ]
    },
    {
     "name": "stderr",
     "output_type": "stream",
     "text": [
      "/home/mbosnjak/.conda/envs/pero/lib/python3.7/site-packages/scipy/stats/stats.py:3399: PearsonRConstantInputWarning: An input array is constant; the correlation coefficent is not defined.\n",
      "  warnings.warn(PearsonRConstantInputWarning())\n"
     ]
    },
    {
     "name": "stdout",
     "output_type": "stream",
     "text": [
      "Epoch 189 end: 1.6104357242584229, TRAIN MSE is: 1223.933837890625\n",
      "Validation loss: 231430.3750000 - MSE score: 1107.3222656\n",
      "Validation pearson is: nan\n",
      "Validation r2_score is: -0.06399570670412813\n",
      "-------------------------\n"
     ]
    },
    {
     "name": "stderr",
     "output_type": "stream",
     "text": [
      "/home/mbosnjak/.conda/envs/pero/lib/python3.7/site-packages/scipy/stats/stats.py:3399: PearsonRConstantInputWarning: An input array is constant; the correlation coefficent is not defined.\n",
      "  warnings.warn(PearsonRConstantInputWarning())\n"
     ]
    },
    {
     "name": "stdout",
     "output_type": "stream",
     "text": [
      "Epoch 190 end: 1.6747000217437744, TRAIN MSE is: 1213.8153076171875\n",
      "Validation loss: 231292.8125000 - MSE score: 1106.6643066\n",
      "Validation pearson is: nan\n",
      "Validation r2_score is: -0.06336340067903912\n",
      "-------------------------\n"
     ]
    },
    {
     "name": "stderr",
     "output_type": "stream",
     "text": [
      "/home/mbosnjak/.conda/envs/pero/lib/python3.7/site-packages/scipy/stats/stats.py:3399: PearsonRConstantInputWarning: An input array is constant; the correlation coefficent is not defined.\n",
      "  warnings.warn(PearsonRConstantInputWarning())\n"
     ]
    },
    {
     "name": "stdout",
     "output_type": "stream",
     "text": [
      "Epoch 191 end: 1.6135568618774414, TRAIN MSE is: 1261.5728759765625\n",
      "Validation loss: 231227.1875000 - MSE score: 1106.3502197\n",
      "Validation pearson is: nan\n",
      "Validation r2_score is: -0.06306170697496949\n",
      "-------------------------\n"
     ]
    },
    {
     "name": "stderr",
     "output_type": "stream",
     "text": [
      "/home/mbosnjak/.conda/envs/pero/lib/python3.7/site-packages/scipy/stats/stats.py:3399: PearsonRConstantInputWarning: An input array is constant; the correlation coefficent is not defined.\n",
      "  warnings.warn(PearsonRConstantInputWarning())\n"
     ]
    },
    {
     "name": "stdout",
     "output_type": "stream",
     "text": [
      "Epoch 192 end: 1.6258578300476074, TRAIN MSE is: 1215.8717041015625\n",
      "Validation loss: 231117.5468750 - MSE score: 1105.8255615\n",
      "Validation pearson is: nan\n",
      "Validation r2_score is: -0.06255754870057428\n",
      "-------------------------\n"
     ]
    },
    {
     "name": "stderr",
     "output_type": "stream",
     "text": [
      "/home/mbosnjak/.conda/envs/pero/lib/python3.7/site-packages/scipy/stats/stats.py:3399: PearsonRConstantInputWarning: An input array is constant; the correlation coefficent is not defined.\n",
      "  warnings.warn(PearsonRConstantInputWarning())\n"
     ]
    },
    {
     "name": "stdout",
     "output_type": "stream",
     "text": [
      "Epoch 193 end: 1.5279426574707031, TRAIN MSE is: 1333.805419921875\n",
      "Validation loss: 231064.2343750 - MSE score: 1105.5704346\n",
      "Validation pearson is: nan\n",
      "Validation r2_score is: -0.0623123802507779\n",
      "-------------------------\n"
     ]
    },
    {
     "name": "stderr",
     "output_type": "stream",
     "text": [
      "/home/mbosnjak/.conda/envs/pero/lib/python3.7/site-packages/scipy/stats/stats.py:3399: PearsonRConstantInputWarning: An input array is constant; the correlation coefficent is not defined.\n",
      "  warnings.warn(PearsonRConstantInputWarning())\n"
     ]
    },
    {
     "name": "stdout",
     "output_type": "stream",
     "text": [
      "Epoch 194 end: 1.5602819919586182, TRAIN MSE is: 1236.119873046875\n",
      "Validation loss: 231022.7656250 - MSE score: 1105.3721924\n",
      "Validation pearson is: nan\n",
      "Validation r2_score is: -0.062121890841631\n",
      "-------------------------\n"
     ]
    },
    {
     "name": "stderr",
     "output_type": "stream",
     "text": [
      "/home/mbosnjak/.conda/envs/pero/lib/python3.7/site-packages/scipy/stats/stats.py:3399: PearsonRConstantInputWarning: An input array is constant; the correlation coefficent is not defined.\n",
      "  warnings.warn(PearsonRConstantInputWarning())\n"
     ]
    },
    {
     "name": "stdout",
     "output_type": "stream",
     "text": [
      "Epoch 195 end: 1.5190541744232178, TRAIN MSE is: 1340.7569580078125\n",
      "Validation loss: 230953.7812500 - MSE score: 1105.0419922\n",
      "Validation pearson is: nan\n",
      "Validation r2_score is: -0.06180464041959999\n",
      "-------------------------\n"
     ]
    },
    {
     "name": "stderr",
     "output_type": "stream",
     "text": [
      "/home/mbosnjak/.conda/envs/pero/lib/python3.7/site-packages/scipy/stats/stats.py:3399: PearsonRConstantInputWarning: An input array is constant; the correlation coefficent is not defined.\n",
      "  warnings.warn(PearsonRConstantInputWarning())\n"
     ]
    },
    {
     "name": "stdout",
     "output_type": "stream",
     "text": [
      "Epoch 196 end: 1.6591885089874268, TRAIN MSE is: 1308.475341796875\n",
      "Validation loss: 230994.2187500 - MSE score: 1105.2355957\n",
      "Validation pearson is: nan\n",
      "Validation r2_score is: -0.06199062400920363\n",
      "-------------------------\n"
     ]
    },
    {
     "name": "stderr",
     "output_type": "stream",
     "text": [
      "/home/mbosnjak/.conda/envs/pero/lib/python3.7/site-packages/scipy/stats/stats.py:3399: PearsonRConstantInputWarning: An input array is constant; the correlation coefficent is not defined.\n",
      "  warnings.warn(PearsonRConstantInputWarning())\n"
     ]
    },
    {
     "name": "stdout",
     "output_type": "stream",
     "text": [
      "Epoch 197 end: 1.6703128814697266, TRAIN MSE is: 1287.2972412109375\n",
      "Validation loss: 231026.3281250 - MSE score: 1105.3890381\n",
      "Validation pearson is: nan\n",
      "Validation r2_score is: -0.06213815520569921\n",
      "-------------------------\n"
     ]
    },
    {
     "name": "stderr",
     "output_type": "stream",
     "text": [
      "/home/mbosnjak/.conda/envs/pero/lib/python3.7/site-packages/scipy/stats/stats.py:3399: PearsonRConstantInputWarning: An input array is constant; the correlation coefficent is not defined.\n",
      "  warnings.warn(PearsonRConstantInputWarning())\n"
     ]
    },
    {
     "name": "stdout",
     "output_type": "stream",
     "text": [
      "Epoch 198 end: 1.812368631362915, TRAIN MSE is: 1297.83642578125\n",
      "Validation loss: 230994.9687500 - MSE score: 1105.2390137\n",
      "Validation pearson is: nan\n",
      "Validation r2_score is: -0.06199395364938254\n",
      "-------------------------\n"
     ]
    },
    {
     "name": "stderr",
     "output_type": "stream",
     "text": [
      "/home/mbosnjak/.conda/envs/pero/lib/python3.7/site-packages/scipy/stats/stats.py:3399: PearsonRConstantInputWarning: An input array is constant; the correlation coefficent is not defined.\n",
      "  warnings.warn(PearsonRConstantInputWarning())\n"
     ]
    },
    {
     "name": "stdout",
     "output_type": "stream",
     "text": [
      "Epoch 199 end: 1.5756025314331055, TRAIN MSE is: 1312.1507568359375\n",
      "Validation loss: 230988.0781250 - MSE score: 1105.2061768\n",
      "Validation pearson is: nan\n",
      "Validation r2_score is: -0.06196237592161946\n",
      "-------------------------\n"
     ]
    },
    {
     "name": "stderr",
     "output_type": "stream",
     "text": [
      "/home/mbosnjak/.conda/envs/pero/lib/python3.7/site-packages/scipy/stats/stats.py:3399: PearsonRConstantInputWarning: An input array is constant; the correlation coefficent is not defined.\n",
      "  warnings.warn(PearsonRConstantInputWarning())\n"
     ]
    },
    {
     "name": "stdout",
     "output_type": "stream",
     "text": [
      "Epoch 200 end: 1.5523555278778076, TRAIN MSE is: 1277.0594482421875\n",
      "Validation loss: 230950.9687500 - MSE score: 1105.0285645\n",
      "Validation pearson is: nan\n",
      "Validation r2_score is: -0.0617917610603802\n",
      "-------------------------\n"
     ]
    },
    {
     "name": "stderr",
     "output_type": "stream",
     "text": [
      "/home/mbosnjak/.conda/envs/pero/lib/python3.7/site-packages/scipy/stats/stats.py:3399: PearsonRConstantInputWarning: An input array is constant; the correlation coefficent is not defined.\n",
      "  warnings.warn(PearsonRConstantInputWarning())\n"
     ]
    },
    {
     "name": "stdout",
     "output_type": "stream",
     "text": [
      "Epoch 201 end: 1.5580482482910156, TRAIN MSE is: 1329.5223388671875\n",
      "Validation loss: 230995.4218750 - MSE score: 1105.2412109\n",
      "Validation pearson is: nan\n",
      "Validation r2_score is: -0.06199605687497667\n",
      "-------------------------\n"
     ]
    },
    {
     "name": "stderr",
     "output_type": "stream",
     "text": [
      "/home/mbosnjak/.conda/envs/pero/lib/python3.7/site-packages/scipy/stats/stats.py:3399: PearsonRConstantInputWarning: An input array is constant; the correlation coefficent is not defined.\n",
      "  warnings.warn(PearsonRConstantInputWarning())\n"
     ]
    },
    {
     "name": "stdout",
     "output_type": "stream",
     "text": [
      "Epoch 202 end: 1.6045160293579102, TRAIN MSE is: 1241.04931640625\n",
      "Validation loss: 231035.2343750 - MSE score: 1105.4317627\n",
      "Validation pearson is: nan\n",
      "Validation r2_score is: -0.06217914273009684\n",
      "-------------------------\n"
     ]
    },
    {
     "name": "stderr",
     "output_type": "stream",
     "text": [
      "/home/mbosnjak/.conda/envs/pero/lib/python3.7/site-packages/scipy/stats/stats.py:3399: PearsonRConstantInputWarning: An input array is constant; the correlation coefficent is not defined.\n",
      "  warnings.warn(PearsonRConstantInputWarning())\n"
     ]
    },
    {
     "name": "stdout",
     "output_type": "stream",
     "text": [
      "Epoch 203 end: 1.5700366497039795, TRAIN MSE is: 1270.964599609375\n",
      "Validation loss: 231009.0937500 - MSE score: 1105.3066406\n",
      "Validation pearson is: nan\n",
      "Validation r2_score is: -0.062058973437358\n",
      "-------------------------\n"
     ]
    },
    {
     "name": "stderr",
     "output_type": "stream",
     "text": [
      "/home/mbosnjak/.conda/envs/pero/lib/python3.7/site-packages/scipy/stats/stats.py:3399: PearsonRConstantInputWarning: An input array is constant; the correlation coefficent is not defined.\n",
      "  warnings.warn(PearsonRConstantInputWarning())\n"
     ]
    },
    {
     "name": "stdout",
     "output_type": "stream",
     "text": [
      "Epoch 204 end: 1.5376818180084229, TRAIN MSE is: 1253.240966796875\n",
      "Validation loss: 230960.0156250 - MSE score: 1105.0718994\n",
      "Validation pearson is: nan\n",
      "Validation r2_score is: -0.06183327894034729\n",
      "-------------------------\n"
     ]
    },
    {
     "name": "stderr",
     "output_type": "stream",
     "text": [
      "/home/mbosnjak/.conda/envs/pero/lib/python3.7/site-packages/scipy/stats/stats.py:3399: PearsonRConstantInputWarning: An input array is constant; the correlation coefficent is not defined.\n",
      "  warnings.warn(PearsonRConstantInputWarning())\n"
     ]
    },
    {
     "name": "stdout",
     "output_type": "stream",
     "text": [
      "Epoch 205 end: 1.4987616539001465, TRAIN MSE is: 1277.6971435546875\n",
      "Validation loss: 230940.2968750 - MSE score: 1104.9775391\n",
      "Validation pearson is: nan\n",
      "Validation r2_score is: -0.061742644471256325\n",
      "-------------------------\n"
     ]
    },
    {
     "name": "stderr",
     "output_type": "stream",
     "text": [
      "/home/mbosnjak/.conda/envs/pero/lib/python3.7/site-packages/scipy/stats/stats.py:3399: PearsonRConstantInputWarning: An input array is constant; the correlation coefficent is not defined.\n",
      "  warnings.warn(PearsonRConstantInputWarning())\n"
     ]
    },
    {
     "name": "stdout",
     "output_type": "stream",
     "text": [
      "Epoch 206 end: 1.5093743801116943, TRAIN MSE is: 1297.59033203125\n",
      "Validation loss: 230897.1875000 - MSE score: 1104.7712402\n",
      "Validation pearson is: nan\n",
      "Validation r2_score is: -0.06154447263450402\n",
      "-------------------------\n"
     ]
    },
    {
     "name": "stderr",
     "output_type": "stream",
     "text": [
      "/home/mbosnjak/.conda/envs/pero/lib/python3.7/site-packages/scipy/stats/stats.py:3399: PearsonRConstantInputWarning: An input array is constant; the correlation coefficent is not defined.\n",
      "  warnings.warn(PearsonRConstantInputWarning())\n"
     ]
    },
    {
     "name": "stdout",
     "output_type": "stream",
     "text": [
      "Epoch 207 end: 1.5259296894073486, TRAIN MSE is: 1314.50390625\n",
      "Validation loss: 230859.6093750 - MSE score: 1104.5913086\n",
      "Validation pearson is: nan\n",
      "Validation r2_score is: -0.061371630343064254\n",
      "-------------------------\n"
     ]
    },
    {
     "name": "stderr",
     "output_type": "stream",
     "text": [
      "/home/mbosnjak/.conda/envs/pero/lib/python3.7/site-packages/scipy/stats/stats.py:3399: PearsonRConstantInputWarning: An input array is constant; the correlation coefficent is not defined.\n",
      "  warnings.warn(PearsonRConstantInputWarning())\n"
     ]
    },
    {
     "name": "stdout",
     "output_type": "stream",
     "text": [
      "Epoch 208 end: 1.5741147994995117, TRAIN MSE is: 1211.9395751953125\n",
      "Validation loss: 230760.3437500 - MSE score: 1104.1164551\n",
      "Validation pearson is: nan\n",
      "Validation r2_score is: -0.0609153083013072\n",
      "-------------------------\n"
     ]
    },
    {
     "name": "stderr",
     "output_type": "stream",
     "text": [
      "/home/mbosnjak/.conda/envs/pero/lib/python3.7/site-packages/scipy/stats/stats.py:3399: PearsonRConstantInputWarning: An input array is constant; the correlation coefficent is not defined.\n",
      "  warnings.warn(PearsonRConstantInputWarning())\n"
     ]
    },
    {
     "name": "stdout",
     "output_type": "stream",
     "text": [
      "Epoch 209 end: 1.609908103942871, TRAIN MSE is: 1275.0357666015625\n",
      "Validation loss: 230719.2500000 - MSE score: 1103.9197998\n",
      "Validation pearson is: nan\n",
      "Validation r2_score is: -0.06072640178596389\n",
      "-------------------------\n"
     ]
    },
    {
     "name": "stderr",
     "output_type": "stream",
     "text": [
      "/home/mbosnjak/.conda/envs/pero/lib/python3.7/site-packages/scipy/stats/stats.py:3399: PearsonRConstantInputWarning: An input array is constant; the correlation coefficent is not defined.\n",
      "  warnings.warn(PearsonRConstantInputWarning())\n"
     ]
    },
    {
     "name": "stdout",
     "output_type": "stream",
     "text": [
      "Epoch 210 end: 1.6436121463775635, TRAIN MSE is: 1277.8084716796875\n",
      "Validation loss: 230685.7031250 - MSE score: 1103.7593994\n",
      "Validation pearson is: nan\n",
      "Validation r2_score is: -0.06057223659566069\n",
      "-------------------------\n"
     ]
    },
    {
     "name": "stderr",
     "output_type": "stream",
     "text": [
      "/home/mbosnjak/.conda/envs/pero/lib/python3.7/site-packages/scipy/stats/stats.py:3399: PearsonRConstantInputWarning: An input array is constant; the correlation coefficent is not defined.\n",
      "  warnings.warn(PearsonRConstantInputWarning())\n"
     ]
    },
    {
     "name": "stdout",
     "output_type": "stream",
     "text": [
      "Epoch 211 end: 1.5387253761291504, TRAIN MSE is: 1257.2108154296875\n",
      "Validation loss: 230670.5625000 - MSE score: 1103.6868896\n",
      "Validation pearson is: nan\n",
      "Validation r2_score is: -0.06050253416972606\n",
      "-------------------------\n"
     ]
    },
    {
     "name": "stderr",
     "output_type": "stream",
     "text": [
      "/home/mbosnjak/.conda/envs/pero/lib/python3.7/site-packages/scipy/stats/stats.py:3399: PearsonRConstantInputWarning: An input array is constant; the correlation coefficent is not defined.\n",
      "  warnings.warn(PearsonRConstantInputWarning())\n"
     ]
    },
    {
     "name": "stdout",
     "output_type": "stream",
     "text": [
      "Epoch 212 end: 1.5783464908599854, TRAIN MSE is: 1285.7139892578125\n",
      "Validation loss: 230696.9843750 - MSE score: 1103.8132324\n",
      "Validation pearson is: nan\n",
      "Validation r2_score is: -0.0606240425800284\n",
      "-------------------------\n"
     ]
    },
    {
     "name": "stderr",
     "output_type": "stream",
     "text": [
      "/home/mbosnjak/.conda/envs/pero/lib/python3.7/site-packages/scipy/stats/stats.py:3399: PearsonRConstantInputWarning: An input array is constant; the correlation coefficent is not defined.\n",
      "  warnings.warn(PearsonRConstantInputWarning())\n"
     ]
    },
    {
     "name": "stdout",
     "output_type": "stream",
     "text": [
      "Epoch 213 end: 1.5595457553863525, TRAIN MSE is: 1246.5\n",
      "Validation loss: 230650.2812500 - MSE score: 1103.5897217\n",
      "Validation pearson is: nan\n",
      "Validation r2_score is: -0.060409254022443015\n",
      "-------------------------\n"
     ]
    },
    {
     "name": "stderr",
     "output_type": "stream",
     "text": [
      "/home/mbosnjak/.conda/envs/pero/lib/python3.7/site-packages/scipy/stats/stats.py:3399: PearsonRConstantInputWarning: An input array is constant; the correlation coefficent is not defined.\n",
      "  warnings.warn(PearsonRConstantInputWarning())\n"
     ]
    },
    {
     "name": "stdout",
     "output_type": "stream",
     "text": [
      "Epoch 214 end: 1.5853066444396973, TRAIN MSE is: 1269.9329833984375\n",
      "Validation loss: 230618.3750000 - MSE score: 1103.4372559\n",
      "Validation pearson is: nan\n",
      "Validation r2_score is: -0.0602626906513426\n",
      "-------------------------\n"
     ]
    },
    {
     "name": "stderr",
     "output_type": "stream",
     "text": [
      "/home/mbosnjak/.conda/envs/pero/lib/python3.7/site-packages/scipy/stats/stats.py:3399: PearsonRConstantInputWarning: An input array is constant; the correlation coefficent is not defined.\n",
      "  warnings.warn(PearsonRConstantInputWarning())\n"
     ]
    },
    {
     "name": "stdout",
     "output_type": "stream",
     "text": [
      "Epoch 215 end: 1.5324196815490723, TRAIN MSE is: 1273.11962890625\n",
      "Validation loss: 230600.4843750 - MSE score: 1103.3515625\n",
      "Validation pearson is: nan\n",
      "Validation r2_score is: -0.06018034425317542\n",
      "-------------------------\n"
     ]
    },
    {
     "name": "stderr",
     "output_type": "stream",
     "text": [
      "/home/mbosnjak/.conda/envs/pero/lib/python3.7/site-packages/scipy/stats/stats.py:3399: PearsonRConstantInputWarning: An input array is constant; the correlation coefficent is not defined.\n",
      "  warnings.warn(PearsonRConstantInputWarning())\n"
     ]
    },
    {
     "name": "stdout",
     "output_type": "stream",
     "text": [
      "Epoch 216 end: 1.5552921295166016, TRAIN MSE is: 1250.0074462890625\n",
      "Validation loss: 230540.9218750 - MSE score: 1103.0666504\n",
      "Validation pearson is: nan\n",
      "Validation r2_score is: -0.0599065327431032\n",
      "-------------------------\n"
     ]
    },
    {
     "name": "stderr",
     "output_type": "stream",
     "text": [
      "/home/mbosnjak/.conda/envs/pero/lib/python3.7/site-packages/scipy/stats/stats.py:3399: PearsonRConstantInputWarning: An input array is constant; the correlation coefficent is not defined.\n",
      "  warnings.warn(PearsonRConstantInputWarning())\n"
     ]
    },
    {
     "name": "stdout",
     "output_type": "stream",
     "text": [
      "Epoch 217 end: 1.5094916820526123, TRAIN MSE is: 1288.311279296875\n",
      "Validation loss: 230550.3281250 - MSE score: 1103.1116943\n",
      "Validation pearson is: nan\n",
      "Validation r2_score is: -0.0599498866321575\n",
      "-------------------------\n"
     ]
    },
    {
     "name": "stderr",
     "output_type": "stream",
     "text": [
      "/home/mbosnjak/.conda/envs/pero/lib/python3.7/site-packages/scipy/stats/stats.py:3399: PearsonRConstantInputWarning: An input array is constant; the correlation coefficent is not defined.\n",
      "  warnings.warn(PearsonRConstantInputWarning())\n"
     ]
    },
    {
     "name": "stdout",
     "output_type": "stream",
     "text": [
      "Epoch 218 end: 1.627326488494873, TRAIN MSE is: 1259.8057861328125\n",
      "Validation loss: 230560.4375000 - MSE score: 1103.1600342\n",
      "Validation pearson is: nan\n",
      "Validation r2_score is: -0.05999628050811889\n",
      "-------------------------\n"
     ]
    },
    {
     "name": "stderr",
     "output_type": "stream",
     "text": [
      "/home/mbosnjak/.conda/envs/pero/lib/python3.7/site-packages/scipy/stats/stats.py:3399: PearsonRConstantInputWarning: An input array is constant; the correlation coefficent is not defined.\n",
      "  warnings.warn(PearsonRConstantInputWarning())\n"
     ]
    },
    {
     "name": "stdout",
     "output_type": "stream",
     "text": [
      "Epoch 219 end: 1.6736664772033691, TRAIN MSE is: 1282.1016845703125\n",
      "Validation loss: 230489.5156250 - MSE score: 1102.8205566\n",
      "Validation pearson is: nan\n",
      "Validation r2_score is: -0.05967017444433864\n",
      "-------------------------\n"
     ]
    },
    {
     "name": "stderr",
     "output_type": "stream",
     "text": [
      "/home/mbosnjak/.conda/envs/pero/lib/python3.7/site-packages/scipy/stats/stats.py:3399: PearsonRConstantInputWarning: An input array is constant; the correlation coefficent is not defined.\n",
      "  warnings.warn(PearsonRConstantInputWarning())\n"
     ]
    },
    {
     "name": "stdout",
     "output_type": "stream",
     "text": [
      "Epoch 220 end: 1.560746669769287, TRAIN MSE is: 1260.0\n",
      "Validation loss: 230457.1250000 - MSE score: 1102.6656494\n",
      "Validation pearson is: nan\n",
      "Validation r2_score is: -0.059521282023790034\n",
      "-------------------------\n"
     ]
    },
    {
     "name": "stderr",
     "output_type": "stream",
     "text": [
      "/home/mbosnjak/.conda/envs/pero/lib/python3.7/site-packages/scipy/stats/stats.py:3399: PearsonRConstantInputWarning: An input array is constant; the correlation coefficent is not defined.\n",
      "  warnings.warn(PearsonRConstantInputWarning())\n"
     ]
    },
    {
     "name": "stdout",
     "output_type": "stream",
     "text": [
      "Epoch 221 end: 1.604841947555542, TRAIN MSE is: 1283.89794921875\n",
      "Validation loss: 230403.7031250 - MSE score: 1102.4101562\n",
      "Validation pearson is: nan\n",
      "Validation r2_score is: -0.05927570078504152\n",
      "-------------------------\n"
     ]
    },
    {
     "name": "stderr",
     "output_type": "stream",
     "text": [
      "/home/mbosnjak/.conda/envs/pero/lib/python3.7/site-packages/scipy/stats/stats.py:3399: PearsonRConstantInputWarning: An input array is constant; the correlation coefficent is not defined.\n",
      "  warnings.warn(PearsonRConstantInputWarning())\n"
     ]
    },
    {
     "name": "stdout",
     "output_type": "stream",
     "text": [
      "Epoch 222 end: 1.6066200733184814, TRAIN MSE is: 1216.1053466796875\n",
      "Validation loss: 230283.5468750 - MSE score: 1101.8352051\n",
      "Validation pearson is: nan\n",
      "Validation r2_score is: -0.05872330048684771\n",
      "-------------------------\n"
     ]
    },
    {
     "name": "stderr",
     "output_type": "stream",
     "text": [
      "/home/mbosnjak/.conda/envs/pero/lib/python3.7/site-packages/scipy/stats/stats.py:3399: PearsonRConstantInputWarning: An input array is constant; the correlation coefficent is not defined.\n",
      "  warnings.warn(PearsonRConstantInputWarning())\n"
     ]
    },
    {
     "name": "stdout",
     "output_type": "stream",
     "text": [
      "Epoch 223 end: 1.5864934921264648, TRAIN MSE is: 1281.477294921875\n",
      "Validation loss: 230274.1562500 - MSE score: 1101.7901611\n",
      "Validation pearson is: nan\n",
      "Validation r2_score is: -0.0586801098011176\n",
      "-------------------------\n"
     ]
    },
    {
     "name": "stderr",
     "output_type": "stream",
     "text": [
      "/home/mbosnjak/.conda/envs/pero/lib/python3.7/site-packages/scipy/stats/stats.py:3399: PearsonRConstantInputWarning: An input array is constant; the correlation coefficent is not defined.\n",
      "  warnings.warn(PearsonRConstantInputWarning())\n"
     ]
    },
    {
     "name": "stdout",
     "output_type": "stream",
     "text": [
      "Epoch 224 end: 1.5814862251281738, TRAIN MSE is: 1234.89013671875\n",
      "Validation loss: 230223.1250000 - MSE score: 1101.5460205\n",
      "Validation pearson is: nan\n",
      "Validation r2_score is: -0.058445458405105066\n",
      "-------------------------\n"
     ]
    },
    {
     "name": "stderr",
     "output_type": "stream",
     "text": [
      "/home/mbosnjak/.conda/envs/pero/lib/python3.7/site-packages/scipy/stats/stats.py:3399: PearsonRConstantInputWarning: An input array is constant; the correlation coefficent is not defined.\n",
      "  warnings.warn(PearsonRConstantInputWarning())\n"
     ]
    },
    {
     "name": "stdout",
     "output_type": "stream",
     "text": [
      "Epoch 225 end: 1.5517544746398926, TRAIN MSE is: 1305.754150390625\n",
      "Validation loss: 230272.6406250 - MSE score: 1101.7828369\n",
      "Validation pearson is: nan\n",
      "Validation r2_score is: -0.05867306260066618\n",
      "-------------------------\n"
     ]
    },
    {
     "name": "stderr",
     "output_type": "stream",
     "text": [
      "/home/mbosnjak/.conda/envs/pero/lib/python3.7/site-packages/scipy/stats/stats.py:3399: PearsonRConstantInputWarning: An input array is constant; the correlation coefficent is not defined.\n",
      "  warnings.warn(PearsonRConstantInputWarning())\n"
     ]
    },
    {
     "name": "stdout",
     "output_type": "stream",
     "text": [
      "Epoch 226 end: 1.6449840068817139, TRAIN MSE is: 1290.204345703125\n",
      "Validation loss: 230267.9843750 - MSE score: 1101.7607422\n",
      "Validation pearson is: nan\n",
      "Validation r2_score is: -0.05865175839419745\n",
      "-------------------------\n"
     ]
    },
    {
     "name": "stderr",
     "output_type": "stream",
     "text": [
      "/home/mbosnjak/.conda/envs/pero/lib/python3.7/site-packages/scipy/stats/stats.py:3399: PearsonRConstantInputWarning: An input array is constant; the correlation coefficent is not defined.\n",
      "  warnings.warn(PearsonRConstantInputWarning())\n"
     ]
    },
    {
     "name": "stdout",
     "output_type": "stream",
     "text": [
      "Epoch 227 end: 1.5616719722747803, TRAIN MSE is: 1297.5423583984375\n",
      "Validation loss: 230241.3437500 - MSE score: 1101.6331787\n",
      "Validation pearson is: nan\n",
      "Validation r2_score is: -0.058529194010614516\n",
      "-------------------------\n"
     ]
    },
    {
     "name": "stderr",
     "output_type": "stream",
     "text": [
      "/home/mbosnjak/.conda/envs/pero/lib/python3.7/site-packages/scipy/stats/stats.py:3399: PearsonRConstantInputWarning: An input array is constant; the correlation coefficent is not defined.\n",
      "  warnings.warn(PearsonRConstantInputWarning())\n"
     ]
    },
    {
     "name": "stdout",
     "output_type": "stream",
     "text": [
      "Epoch 228 end: 1.6717824935913086, TRAIN MSE is: 1313.1361083984375\n",
      "Validation loss: 230273.7968750 - MSE score: 1101.7884521\n",
      "Validation pearson is: nan\n",
      "Validation r2_score is: -0.05867839204982217\n",
      "-------------------------\n"
     ]
    },
    {
     "name": "stderr",
     "output_type": "stream",
     "text": [
      "/home/mbosnjak/.conda/envs/pero/lib/python3.7/site-packages/scipy/stats/stats.py:3399: PearsonRConstantInputWarning: An input array is constant; the correlation coefficent is not defined.\n",
      "  warnings.warn(PearsonRConstantInputWarning())\n"
     ]
    },
    {
     "name": "stdout",
     "output_type": "stream",
     "text": [
      "Epoch 229 end: 1.6040432453155518, TRAIN MSE is: 1248.334716796875\n",
      "Validation loss: 230217.1406250 - MSE score: 1101.5174561\n",
      "Validation pearson is: nan\n",
      "Validation r2_score is: -0.05841796341162997\n",
      "-------------------------\n"
     ]
    },
    {
     "name": "stderr",
     "output_type": "stream",
     "text": [
      "/home/mbosnjak/.conda/envs/pero/lib/python3.7/site-packages/scipy/stats/stats.py:3399: PearsonRConstantInputWarning: An input array is constant; the correlation coefficent is not defined.\n",
      "  warnings.warn(PearsonRConstantInputWarning())\n"
     ]
    },
    {
     "name": "stdout",
     "output_type": "stream",
     "text": [
      "Epoch 230 end: 1.6396605968475342, TRAIN MSE is: 1212.9130859375\n",
      "Validation loss: 230173.4062500 - MSE score: 1101.3082275\n",
      "Validation pearson is: nan\n",
      "Validation r2_score is: -0.05821691879879243\n",
      "-------------------------\n"
     ]
    },
    {
     "name": "stderr",
     "output_type": "stream",
     "text": [
      "/home/mbosnjak/.conda/envs/pero/lib/python3.7/site-packages/scipy/stats/stats.py:3399: PearsonRConstantInputWarning: An input array is constant; the correlation coefficent is not defined.\n",
      "  warnings.warn(PearsonRConstantInputWarning())\n"
     ]
    },
    {
     "name": "stdout",
     "output_type": "stream",
     "text": [
      "Epoch 231 end: 1.6557114124298096, TRAIN MSE is: 1342.3951416015625\n",
      "Validation loss: 230151.4843750 - MSE score: 1101.2033691\n",
      "Validation pearson is: nan\n",
      "Validation r2_score is: -0.05811609350855673\n",
      "-------------------------\n"
     ]
    },
    {
     "name": "stderr",
     "output_type": "stream",
     "text": [
      "/home/mbosnjak/.conda/envs/pero/lib/python3.7/site-packages/scipy/stats/stats.py:3399: PearsonRConstantInputWarning: An input array is constant; the correlation coefficent is not defined.\n",
      "  warnings.warn(PearsonRConstantInputWarning())\n"
     ]
    },
    {
     "name": "stdout",
     "output_type": "stream",
     "text": [
      "Epoch 232 end: 1.557917833328247, TRAIN MSE is: 1288.0933837890625\n",
      "Validation loss: 230148.4531250 - MSE score: 1101.1887207\n",
      "Validation pearson is: nan\n",
      "Validation r2_score is: -0.058102175154672864\n",
      "-------------------------\n"
     ]
    },
    {
     "name": "stderr",
     "output_type": "stream",
     "text": [
      "/home/mbosnjak/.conda/envs/pero/lib/python3.7/site-packages/scipy/stats/stats.py:3399: PearsonRConstantInputWarning: An input array is constant; the correlation coefficent is not defined.\n",
      "  warnings.warn(PearsonRConstantInputWarning())\n"
     ]
    },
    {
     "name": "stdout",
     "output_type": "stream",
     "text": [
      "Epoch 233 end: 1.650728702545166, TRAIN MSE is: 1226.421875\n",
      "Validation loss: 230096.0156250 - MSE score: 1100.9379883\n",
      "Validation pearson is: nan\n",
      "Validation r2_score is: -0.057861124756105164\n",
      "-------------------------\n"
     ]
    },
    {
     "name": "stderr",
     "output_type": "stream",
     "text": [
      "/home/mbosnjak/.conda/envs/pero/lib/python3.7/site-packages/scipy/stats/stats.py:3399: PearsonRConstantInputWarning: An input array is constant; the correlation coefficent is not defined.\n",
      "  warnings.warn(PearsonRConstantInputWarning())\n"
     ]
    },
    {
     "name": "stdout",
     "output_type": "stream",
     "text": [
      "Epoch 234 end: 1.6554045677185059, TRAIN MSE is: 1267.4459228515625\n",
      "Validation loss: 230074.1562500 - MSE score: 1100.8332520\n",
      "Validation pearson is: nan\n",
      "Validation r2_score is: -0.05776060130670313\n",
      "-------------------------\n"
     ]
    },
    {
     "name": "stderr",
     "output_type": "stream",
     "text": [
      "/home/mbosnjak/.conda/envs/pero/lib/python3.7/site-packages/scipy/stats/stats.py:3399: PearsonRConstantInputWarning: An input array is constant; the correlation coefficent is not defined.\n",
      "  warnings.warn(PearsonRConstantInputWarning())\n"
     ]
    },
    {
     "name": "stdout",
     "output_type": "stream",
     "text": [
      "Epoch 235 end: 1.6457762718200684, TRAIN MSE is: 1301.355224609375\n",
      "Validation loss: 230062.7656250 - MSE score: 1100.7788086\n",
      "Validation pearson is: nan\n",
      "Validation r2_score is: -0.05770825065926655\n",
      "-------------------------\n"
     ]
    },
    {
     "name": "stderr",
     "output_type": "stream",
     "text": [
      "/home/mbosnjak/.conda/envs/pero/lib/python3.7/site-packages/scipy/stats/stats.py:3399: PearsonRConstantInputWarning: An input array is constant; the correlation coefficent is not defined.\n",
      "  warnings.warn(PearsonRConstantInputWarning())\n"
     ]
    },
    {
     "name": "stdout",
     "output_type": "stream",
     "text": [
      "Epoch 236 end: 1.4465172290802002, TRAIN MSE is: 1345.977783203125\n",
      "Validation loss: 230098.9843750 - MSE score: 1100.9520264\n",
      "Validation pearson is: nan\n",
      "Validation r2_score is: -0.05787477988131795\n",
      "-------------------------\n"
     ]
    },
    {
     "name": "stderr",
     "output_type": "stream",
     "text": [
      "/home/mbosnjak/.conda/envs/pero/lib/python3.7/site-packages/scipy/stats/stats.py:3399: PearsonRConstantInputWarning: An input array is constant; the correlation coefficent is not defined.\n",
      "  warnings.warn(PearsonRConstantInputWarning())\n"
     ]
    },
    {
     "name": "stdout",
     "output_type": "stream",
     "text": [
      "Epoch 237 end: 1.5808663368225098, TRAIN MSE is: 1316.496337890625\n",
      "Validation loss: 230113.9218750 - MSE score: 1101.0236816\n",
      "Validation pearson is: nan\n",
      "Validation r2_score is: -0.05794347004112432\n",
      "-------------------------\n"
     ]
    },
    {
     "name": "stderr",
     "output_type": "stream",
     "text": [
      "/home/mbosnjak/.conda/envs/pero/lib/python3.7/site-packages/scipy/stats/stats.py:3399: PearsonRConstantInputWarning: An input array is constant; the correlation coefficent is not defined.\n",
      "  warnings.warn(PearsonRConstantInputWarning())\n"
     ]
    },
    {
     "name": "stdout",
     "output_type": "stream",
     "text": [
      "Epoch 238 end: 1.8790926933288574, TRAIN MSE is: 1218.5625\n",
      "Validation loss: 230094.2812500 - MSE score: 1100.9295654\n",
      "Validation pearson is: nan\n",
      "Validation r2_score is: -0.05785315682943448\n",
      "-------------------------\n"
     ]
    },
    {
     "name": "stderr",
     "output_type": "stream",
     "text": [
      "/home/mbosnjak/.conda/envs/pero/lib/python3.7/site-packages/scipy/stats/stats.py:3399: PearsonRConstantInputWarning: An input array is constant; the correlation coefficent is not defined.\n",
      "  warnings.warn(PearsonRConstantInputWarning())\n"
     ]
    },
    {
     "name": "stdout",
     "output_type": "stream",
     "text": [
      "Epoch 239 end: 1.6173155307769775, TRAIN MSE is: 1285.624755859375\n",
      "Validation loss: 230120.1875000 - MSE score: 1101.0535889\n",
      "Validation pearson is: nan\n",
      "Validation r2_score is: -0.05797228113499986\n",
      "-------------------------\n"
     ]
    },
    {
     "name": "stderr",
     "output_type": "stream",
     "text": [
      "/home/mbosnjak/.conda/envs/pero/lib/python3.7/site-packages/scipy/stats/stats.py:3399: PearsonRConstantInputWarning: An input array is constant; the correlation coefficent is not defined.\n",
      "  warnings.warn(PearsonRConstantInputWarning())\n"
     ]
    },
    {
     "name": "stdout",
     "output_type": "stream",
     "text": [
      "Epoch 240 end: 1.5617318153381348, TRAIN MSE is: 1290.59765625\n",
      "Validation loss: 230139.1406250 - MSE score: 1101.1441650\n",
      "Validation pearson is: nan\n",
      "Validation r2_score is: -0.05805937326572996\n",
      "-------------------------\n"
     ]
    },
    {
     "name": "stderr",
     "output_type": "stream",
     "text": [
      "/home/mbosnjak/.conda/envs/pero/lib/python3.7/site-packages/scipy/stats/stats.py:3399: PearsonRConstantInputWarning: An input array is constant; the correlation coefficent is not defined.\n",
      "  warnings.warn(PearsonRConstantInputWarning())\n"
     ]
    },
    {
     "name": "stdout",
     "output_type": "stream",
     "text": [
      "Epoch 241 end: 1.571385383605957, TRAIN MSE is: 1241.9141845703125\n",
      "Validation loss: 230134.5000000 - MSE score: 1101.1220703\n",
      "Validation pearson is: nan\n",
      "Validation r2_score is: -0.058038083318325606\n",
      "-------------------------\n",
      "Starting training for: {'learning_rate': 0.09, 'act_func': 'sig', 'batch_size': 64, 'kernels_count': 8, 'sentences_count': 2, 'hidden_layers': [8, 6, 4], 'dropout': 0.5, 'alpha': 0.1978, 'regularization_type': 'None'}\n",
      "-------------------------\n"
     ]
    },
    {
     "name": "stderr",
     "output_type": "stream",
     "text": [
      "/home/mbosnjak/.conda/envs/pero/lib/python3.7/site-packages/scipy/stats/stats.py:3399: PearsonRConstantInputWarning: An input array is constant; the correlation coefficent is not defined.\n",
      "  warnings.warn(PearsonRConstantInputWarning())\n"
     ]
    },
    {
     "name": "stdout",
     "output_type": "stream",
     "text": [
      "Epoch 0 end: 1.8843493461608887, TRAIN MSE is: 3053.857666015625\n",
      "Validation loss: 603107.5000000 - MSE score: 2885.6818848\n",
      "Validation pearson is: nan\n",
      "Validation r2_score is: -1.7727726381901574\n",
      "-------------------------\n"
     ]
    },
    {
     "name": "stderr",
     "output_type": "stream",
     "text": [
      "/home/mbosnjak/.conda/envs/pero/lib/python3.7/site-packages/scipy/stats/stats.py:3399: PearsonRConstantInputWarning: An input array is constant; the correlation coefficent is not defined.\n",
      "  warnings.warn(PearsonRConstantInputWarning())\n"
     ]
    },
    {
     "name": "stdout",
     "output_type": "stream",
     "text": [
      "Epoch 1 end: 1.557891607284546, TRAIN MSE is: 2543.3642578125\n",
      "Validation loss: 504993.5937500 - MSE score: 2416.2375488\n",
      "Validation pearson is: nan\n",
      "Validation r2_score is: -1.3216963645120199\n",
      "-------------------------\n"
     ]
    },
    {
     "name": "stderr",
     "output_type": "stream",
     "text": [
      "/home/mbosnjak/.conda/envs/pero/lib/python3.7/site-packages/scipy/stats/stats.py:3399: PearsonRConstantInputWarning: An input array is constant; the correlation coefficent is not defined.\n",
      "  warnings.warn(PearsonRConstantInputWarning())\n"
     ]
    },
    {
     "name": "stdout",
     "output_type": "stream",
     "text": [
      "Epoch 2 end: 1.5077252388000488, TRAIN MSE is: 2123.92236328125\n",
      "Validation loss: 426641.5625000 - MSE score: 2041.3471680\n",
      "Validation pearson is: nan\n",
      "Validation r2_score is: -0.9614747114963753\n",
      "-------------------------\n"
     ]
    },
    {
     "name": "stderr",
     "output_type": "stream",
     "text": [
      "/home/mbosnjak/.conda/envs/pero/lib/python3.7/site-packages/scipy/stats/stats.py:3399: PearsonRConstantInputWarning: An input array is constant; the correlation coefficent is not defined.\n",
      "  warnings.warn(PearsonRConstantInputWarning())\n"
     ]
    },
    {
     "name": "stdout",
     "output_type": "stream",
     "text": [
      "Epoch 3 end: 1.639538288116455, TRAIN MSE is: 1887.80029296875\n",
      "Validation loss: 367960.6875000 - MSE score: 1760.5773926\n",
      "Validation pearson is: nan\n",
      "Validation r2_score is: -0.6916906611103373\n",
      "-------------------------\n"
     ]
    },
    {
     "name": "stderr",
     "output_type": "stream",
     "text": [
      "/home/mbosnjak/.conda/envs/pero/lib/python3.7/site-packages/scipy/stats/stats.py:3399: PearsonRConstantInputWarning: An input array is constant; the correlation coefficent is not defined.\n",
      "  warnings.warn(PearsonRConstantInputWarning())\n"
     ]
    },
    {
     "name": "stdout",
     "output_type": "stream",
     "text": [
      "Epoch 4 end: 1.5219578742980957, TRAIN MSE is: 1680.0633544921875\n",
      "Validation loss: 324475.5625000 - MSE score: 1552.5145264\n",
      "Validation pearson is: nan\n",
      "Validation r2_score is: -0.49176881566546915\n",
      "-------------------------\n"
     ]
    },
    {
     "name": "stderr",
     "output_type": "stream",
     "text": [
      "/home/mbosnjak/.conda/envs/pero/lib/python3.7/site-packages/scipy/stats/stats.py:3399: PearsonRConstantInputWarning: An input array is constant; the correlation coefficent is not defined.\n",
      "  warnings.warn(PearsonRConstantInputWarning())\n"
     ]
    },
    {
     "name": "stdout",
     "output_type": "stream",
     "text": [
      "Epoch 5 end: 1.5547916889190674, TRAIN MSE is: 1521.5374755859375\n",
      "Validation loss: 294489.2187500 - MSE score: 1409.0393066\n",
      "Validation pearson is: nan\n",
      "Validation r2_score is: -0.3539073625715259\n",
      "-------------------------\n"
     ]
    },
    {
     "name": "stderr",
     "output_type": "stream",
     "text": [
      "/home/mbosnjak/.conda/envs/pero/lib/python3.7/site-packages/scipy/stats/stats.py:3399: PearsonRConstantInputWarning: An input array is constant; the correlation coefficent is not defined.\n",
      "  warnings.warn(PearsonRConstantInputWarning())\n"
     ]
    },
    {
     "name": "stdout",
     "output_type": "stream",
     "text": [
      "Epoch 6 end: 1.5395970344543457, TRAIN MSE is: 1449.2286376953125\n",
      "Validation loss: 273871.3750000 - MSE score: 1310.3894043\n",
      "Validation pearson is: nan\n",
      "Validation r2_score is: -0.2591172674544042\n",
      "-------------------------\n"
     ]
    },
    {
     "name": "stderr",
     "output_type": "stream",
     "text": [
      "/home/mbosnjak/.conda/envs/pero/lib/python3.7/site-packages/scipy/stats/stats.py:3399: PearsonRConstantInputWarning: An input array is constant; the correlation coefficent is not defined.\n",
      "  warnings.warn(PearsonRConstantInputWarning())\n"
     ]
    },
    {
     "name": "stdout",
     "output_type": "stream",
     "text": [
      "Epoch 7 end: 1.6956143379211426, TRAIN MSE is: 1407.6866455078125\n",
      "Validation loss: 258870.5937500 - MSE score: 1238.6154785\n",
      "Validation pearson is: nan\n",
      "Validation r2_score is: -0.19015167556086188\n",
      "-------------------------\n"
     ]
    },
    {
     "name": "stderr",
     "output_type": "stream",
     "text": [
      "/home/mbosnjak/.conda/envs/pero/lib/python3.7/site-packages/scipy/stats/stats.py:3399: PearsonRConstantInputWarning: An input array is constant; the correlation coefficent is not defined.\n",
      "  warnings.warn(PearsonRConstantInputWarning())\n"
     ]
    },
    {
     "name": "stdout",
     "output_type": "stream",
     "text": [
      "Epoch 8 end: 1.637871265411377, TRAIN MSE is: 1470.8756103515625\n",
      "Validation loss: 250940.0625000 - MSE score: 1200.6701660\n",
      "Validation pearson is: nan\n",
      "Validation r2_score is: -0.1536911582038325\n",
      "-------------------------\n"
     ]
    },
    {
     "name": "stderr",
     "output_type": "stream",
     "text": [
      "/home/mbosnjak/.conda/envs/pero/lib/python3.7/site-packages/scipy/stats/stats.py:3399: PearsonRConstantInputWarning: An input array is constant; the correlation coefficent is not defined.\n",
      "  warnings.warn(PearsonRConstantInputWarning())\n"
     ]
    },
    {
     "name": "stdout",
     "output_type": "stream",
     "text": [
      "Epoch 9 end: 1.5327370166778564, TRAIN MSE is: 1384.3634033203125\n",
      "Validation loss: 245903.7187500 - MSE score: 1176.5726318\n",
      "Validation pearson is: nan\n",
      "Validation r2_score is: -0.1305365226847892\n",
      "-------------------------\n"
     ]
    },
    {
     "name": "stderr",
     "output_type": "stream",
     "text": [
      "/home/mbosnjak/.conda/envs/pero/lib/python3.7/site-packages/scipy/stats/stats.py:3399: PearsonRConstantInputWarning: An input array is constant; the correlation coefficent is not defined.\n",
      "  warnings.warn(PearsonRConstantInputWarning())\n"
     ]
    },
    {
     "name": "stdout",
     "output_type": "stream",
     "text": [
      "Epoch 10 end: 1.488771915435791, TRAIN MSE is: 1403.103271484375\n",
      "Validation loss: 241929.4062500 - MSE score: 1157.5570068\n",
      "Validation pearson is: nan\n",
      "Validation r2_score is: -0.11226483454444702\n",
      "-------------------------\n"
     ]
    },
    {
     "name": "stderr",
     "output_type": "stream",
     "text": [
      "/home/mbosnjak/.conda/envs/pero/lib/python3.7/site-packages/scipy/stats/stats.py:3399: PearsonRConstantInputWarning: An input array is constant; the correlation coefficent is not defined.\n",
      "  warnings.warn(PearsonRConstantInputWarning())\n"
     ]
    },
    {
     "name": "stdout",
     "output_type": "stream",
     "text": [
      "Epoch 11 end: 1.5572566986083984, TRAIN MSE is: 1304.413818359375\n",
      "Validation loss: 239239.4687500 - MSE score: 1144.6864014\n",
      "Validation pearson is: nan\n",
      "Validation r2_score is: -0.09989787265247152\n",
      "-------------------------\n"
     ]
    },
    {
     "name": "stderr",
     "output_type": "stream",
     "text": [
      "/home/mbosnjak/.conda/envs/pero/lib/python3.7/site-packages/scipy/stats/stats.py:3399: PearsonRConstantInputWarning: An input array is constant; the correlation coefficent is not defined.\n",
      "  warnings.warn(PearsonRConstantInputWarning())\n"
     ]
    },
    {
     "name": "stdout",
     "output_type": "stream",
     "text": [
      "Epoch 12 end: 1.4866249561309814, TRAIN MSE is: 1328.0577392578125\n",
      "Validation loss: 236537.0937500 - MSE score: 1131.7564697\n",
      "Validation pearson is: nan\n",
      "Validation r2_score is: -0.08747378046413656\n",
      "-------------------------\n"
     ]
    },
    {
     "name": "stderr",
     "output_type": "stream",
     "text": [
      "/home/mbosnjak/.conda/envs/pero/lib/python3.7/site-packages/scipy/stats/stats.py:3399: PearsonRConstantInputWarning: An input array is constant; the correlation coefficent is not defined.\n",
      "  warnings.warn(PearsonRConstantInputWarning())\n"
     ]
    },
    {
     "name": "stdout",
     "output_type": "stream",
     "text": [
      "Epoch 13 end: 1.5449128150939941, TRAIN MSE is: 1362.6700439453125\n",
      "Validation loss: 236333.9687500 - MSE score: 1130.7844238\n",
      "Validation pearson is: nan\n",
      "Validation r2_score is: -0.08653992070190375\n",
      "-------------------------\n"
     ]
    },
    {
     "name": "stderr",
     "output_type": "stream",
     "text": [
      "/home/mbosnjak/.conda/envs/pero/lib/python3.7/site-packages/scipy/stats/stats.py:3399: PearsonRConstantInputWarning: An input array is constant; the correlation coefficent is not defined.\n",
      "  warnings.warn(PearsonRConstantInputWarning())\n"
     ]
    },
    {
     "name": "stdout",
     "output_type": "stream",
     "text": [
      "Epoch 14 end: 1.6658728122711182, TRAIN MSE is: 1257.4671630859375\n",
      "Validation loss: 234104.1406250 - MSE score: 1120.1156006\n",
      "Validation pearson is: nan\n",
      "Validation r2_score is: -0.07628837309214243\n",
      "-------------------------\n"
     ]
    },
    {
     "name": "stderr",
     "output_type": "stream",
     "text": [
      "/home/mbosnjak/.conda/envs/pero/lib/python3.7/site-packages/scipy/stats/stats.py:3399: PearsonRConstantInputWarning: An input array is constant; the correlation coefficent is not defined.\n",
      "  warnings.warn(PearsonRConstantInputWarning())\n"
     ]
    },
    {
     "name": "stdout",
     "output_type": "stream",
     "text": [
      "Epoch 15 end: 1.500105381011963, TRAIN MSE is: 1382.1663818359375\n",
      "Validation loss: 232629.6562500 - MSE score: 1113.0605469\n",
      "Validation pearson is: nan\n",
      "Validation r2_score is: -0.06950942774374358\n",
      "-------------------------\n"
     ]
    },
    {
     "name": "stderr",
     "output_type": "stream",
     "text": [
      "/home/mbosnjak/.conda/envs/pero/lib/python3.7/site-packages/scipy/stats/stats.py:3399: PearsonRConstantInputWarning: An input array is constant; the correlation coefficent is not defined.\n",
      "  warnings.warn(PearsonRConstantInputWarning())\n"
     ]
    },
    {
     "name": "stdout",
     "output_type": "stream",
     "text": [
      "Epoch 16 end: 1.5030872821807861, TRAIN MSE is: 1278.3531494140625\n",
      "Validation loss: 231982.9375000 - MSE score: 1109.9661865\n",
      "Validation pearson is: nan\n",
      "Validation r2_score is: -0.06653619151132473\n",
      "-------------------------\n"
     ]
    },
    {
     "name": "stderr",
     "output_type": "stream",
     "text": [
      "/home/mbosnjak/.conda/envs/pero/lib/python3.7/site-packages/scipy/stats/stats.py:3399: PearsonRConstantInputWarning: An input array is constant; the correlation coefficent is not defined.\n",
      "  warnings.warn(PearsonRConstantInputWarning())\n"
     ]
    },
    {
     "name": "stdout",
     "output_type": "stream",
     "text": [
      "Epoch 17 end: 1.5097074508666992, TRAIN MSE is: 1286.1810302734375\n",
      "Validation loss: 231843.5625000 - MSE score: 1109.2993164\n",
      "Validation pearson is: nan\n",
      "Validation r2_score is: -0.06589539845443126\n",
      "-------------------------\n"
     ]
    },
    {
     "name": "stderr",
     "output_type": "stream",
     "text": [
      "/home/mbosnjak/.conda/envs/pero/lib/python3.7/site-packages/scipy/stats/stats.py:3399: PearsonRConstantInputWarning: An input array is constant; the correlation coefficent is not defined.\n",
      "  warnings.warn(PearsonRConstantInputWarning())\n"
     ]
    },
    {
     "name": "stdout",
     "output_type": "stream",
     "text": [
      "Epoch 18 end: 1.6881039142608643, TRAIN MSE is: 1242.9637451171875\n",
      "Validation loss: 230222.3593750 - MSE score: 1101.5424805\n",
      "Validation pearson is: nan\n",
      "Validation r2_score is: -0.05844203225525968\n",
      "-------------------------\n"
     ]
    },
    {
     "name": "stderr",
     "output_type": "stream",
     "text": [
      "/home/mbosnjak/.conda/envs/pero/lib/python3.7/site-packages/scipy/stats/stats.py:3399: PearsonRConstantInputWarning: An input array is constant; the correlation coefficent is not defined.\n",
      "  warnings.warn(PearsonRConstantInputWarning())\n"
     ]
    },
    {
     "name": "stdout",
     "output_type": "stream",
     "text": [
      "Epoch 19 end: 1.5802814960479736, TRAIN MSE is: 1262.4251708984375\n",
      "Validation loss: 229146.9375000 - MSE score: 1096.3967285\n",
      "Validation pearson is: nan\n",
      "Validation r2_score is: -0.05349764769504883\n",
      "-------------------------\n"
     ]
    },
    {
     "name": "stderr",
     "output_type": "stream",
     "text": [
      "/home/mbosnjak/.conda/envs/pero/lib/python3.7/site-packages/scipy/stats/stats.py:3399: PearsonRConstantInputWarning: An input array is constant; the correlation coefficent is not defined.\n",
      "  warnings.warn(PearsonRConstantInputWarning())\n"
     ]
    },
    {
     "name": "stdout",
     "output_type": "stream",
     "text": [
      "Epoch 20 end: 1.6535608768463135, TRAIN MSE is: 1312.6011962890625\n",
      "Validation loss: 229652.3906250 - MSE score: 1098.8153076\n",
      "Validation pearson is: nan\n",
      "Validation r2_score is: -0.05582151879734787\n",
      "-------------------------\n"
     ]
    },
    {
     "name": "stderr",
     "output_type": "stream",
     "text": [
      "/home/mbosnjak/.conda/envs/pero/lib/python3.7/site-packages/scipy/stats/stats.py:3399: PearsonRConstantInputWarning: An input array is constant; the correlation coefficent is not defined.\n",
      "  warnings.warn(PearsonRConstantInputWarning())\n"
     ]
    },
    {
     "name": "stdout",
     "output_type": "stream",
     "text": [
      "Epoch 21 end: 1.6654300689697266, TRAIN MSE is: 1269.1055908203125\n",
      "Validation loss: 230300.8750000 - MSE score: 1101.9180908\n",
      "Validation pearson is: nan\n",
      "Validation r2_score is: -0.05880294498861516\n",
      "-------------------------\n"
     ]
    },
    {
     "name": "stderr",
     "output_type": "stream",
     "text": [
      "/home/mbosnjak/.conda/envs/pero/lib/python3.7/site-packages/scipy/stats/stats.py:3399: PearsonRConstantInputWarning: An input array is constant; the correlation coefficent is not defined.\n",
      "  warnings.warn(PearsonRConstantInputWarning())\n"
     ]
    },
    {
     "name": "stdout",
     "output_type": "stream",
     "text": [
      "Epoch 22 end: 1.6629557609558105, TRAIN MSE is: 1290.1185302734375\n",
      "Validation loss: 231003.7500000 - MSE score: 1105.2811279\n",
      "Validation pearson is: nan\n",
      "Validation r2_score is: -0.06203439690545265\n",
      "-------------------------\n"
     ]
    },
    {
     "name": "stderr",
     "output_type": "stream",
     "text": [
      "/home/mbosnjak/.conda/envs/pero/lib/python3.7/site-packages/scipy/stats/stats.py:3399: PearsonRConstantInputWarning: An input array is constant; the correlation coefficent is not defined.\n",
      "  warnings.warn(PearsonRConstantInputWarning())\n"
     ]
    },
    {
     "name": "stdout",
     "output_type": "stream",
     "text": [
      "Epoch 23 end: 1.6300311088562012, TRAIN MSE is: 1285.168701171875\n",
      "Validation loss: 231200.3125000 - MSE score: 1106.2215576\n",
      "Validation pearson is: nan\n",
      "Validation r2_score is: -0.06293800332889266\n",
      "-------------------------\n"
     ]
    },
    {
     "name": "stderr",
     "output_type": "stream",
     "text": [
      "/home/mbosnjak/.conda/envs/pero/lib/python3.7/site-packages/scipy/stats/stats.py:3399: PearsonRConstantInputWarning: An input array is constant; the correlation coefficent is not defined.\n",
      "  warnings.warn(PearsonRConstantInputWarning())\n"
     ]
    },
    {
     "name": "stdout",
     "output_type": "stream",
     "text": [
      "Epoch 24 end: 1.6373372077941895, TRAIN MSE is: 1236.654052734375\n",
      "Validation loss: 230151.0312500 - MSE score: 1101.2010498\n",
      "Validation pearson is: nan\n",
      "Validation r2_score is: -0.058113969917049424\n",
      "-------------------------\n"
     ]
    },
    {
     "name": "stderr",
     "output_type": "stream",
     "text": [
      "/home/mbosnjak/.conda/envs/pero/lib/python3.7/site-packages/scipy/stats/stats.py:3399: PearsonRConstantInputWarning: An input array is constant; the correlation coefficent is not defined.\n",
      "  warnings.warn(PearsonRConstantInputWarning())\n"
     ]
    },
    {
     "name": "stdout",
     "output_type": "stream",
     "text": [
      "Epoch 25 end: 1.7016630172729492, TRAIN MSE is: 1262.4384765625\n",
      "Validation loss: 229487.3281250 - MSE score: 1098.0255127\n",
      "Validation pearson is: nan\n",
      "Validation r2_score is: -0.0550626863063457\n",
      "-------------------------\n",
      "Starting training for: {'learning_rate': 0.3, 'act_func': 'sig', 'batch_size': 64, 'kernels_count': 8, 'sentences_count': 2, 'hidden_layers': [8, 6, 4], 'dropout': 0.5, 'alpha': 0.1978, 'regularization_type': 'None'}\n",
      "-------------------------\n"
     ]
    },
    {
     "name": "stderr",
     "output_type": "stream",
     "text": [
      "/home/mbosnjak/.conda/envs/pero/lib/python3.7/site-packages/scipy/stats/stats.py:3399: PearsonRConstantInputWarning: An input array is constant; the correlation coefficent is not defined.\n",
      "  warnings.warn(PearsonRConstantInputWarning())\n"
     ]
    },
    {
     "name": "stdout",
     "output_type": "stream",
     "text": [
      "Epoch 0 end: 2.059950113296509, TRAIN MSE is: 2634.44482421875\n",
      "Validation loss: 400702.6250000 - MSE score: 1917.2373047\n",
      "Validation pearson is: nan\n",
      "Validation r2_score is: -0.8422209527524114\n",
      "-------------------------\n"
     ]
    },
    {
     "name": "stderr",
     "output_type": "stream",
     "text": [
      "/home/mbosnjak/.conda/envs/pero/lib/python3.7/site-packages/scipy/stats/stats.py:3399: PearsonRConstantInputWarning: An input array is constant; the correlation coefficent is not defined.\n",
      "  warnings.warn(PearsonRConstantInputWarning())\n"
     ]
    },
    {
     "name": "stdout",
     "output_type": "stream",
     "text": [
      "Epoch 1 end: 1.5893917083740234, TRAIN MSE is: 1539.5584716796875\n",
      "Validation loss: 253893.7187500 - MSE score: 1214.8024902\n",
      "Validation pearson is: nan\n",
      "Validation r2_score is: -0.16727046702192006\n",
      "-------------------------\n"
     ]
    },
    {
     "name": "stderr",
     "output_type": "stream",
     "text": [
      "/home/mbosnjak/.conda/envs/pero/lib/python3.7/site-packages/scipy/stats/stats.py:3399: PearsonRConstantInputWarning: An input array is constant; the correlation coefficent is not defined.\n",
      "  warnings.warn(PearsonRConstantInputWarning())\n"
     ]
    },
    {
     "name": "stdout",
     "output_type": "stream",
     "text": [
      "Epoch 2 end: 1.6839971542358398, TRAIN MSE is: 1422.74560546875\n",
      "Validation loss: 226392.0625000 - MSE score: 1083.2155762\n",
      "Validation pearson is: nan\n",
      "Validation r2_score is: -0.04083220739227178\n",
      "-------------------------\n"
     ]
    },
    {
     "name": "stderr",
     "output_type": "stream",
     "text": [
      "/home/mbosnjak/.conda/envs/pero/lib/python3.7/site-packages/scipy/stats/stats.py:3399: PearsonRConstantInputWarning: An input array is constant; the correlation coefficent is not defined.\n",
      "  warnings.warn(PearsonRConstantInputWarning())\n"
     ]
    },
    {
     "name": "stdout",
     "output_type": "stream",
     "text": [
      "Epoch 3 end: 1.5967998504638672, TRAIN MSE is: 1333.946533203125\n",
      "Validation loss: 226560.9687500 - MSE score: 1084.0236816\n",
      "Validation pearson is: nan\n",
      "Validation r2_score is: -0.04160875059042901\n",
      "-------------------------\n"
     ]
    },
    {
     "name": "stderr",
     "output_type": "stream",
     "text": [
      "/home/mbosnjak/.conda/envs/pero/lib/python3.7/site-packages/scipy/stats/stats.py:3399: PearsonRConstantInputWarning: An input array is constant; the correlation coefficent is not defined.\n",
      "  warnings.warn(PearsonRConstantInputWarning())\n"
     ]
    },
    {
     "name": "stdout",
     "output_type": "stream",
     "text": [
      "Epoch 4 end: 1.5643229484558105, TRAIN MSE is: 1296.5931396484375\n",
      "Validation loss: 231483.0937500 - MSE score: 1107.5745850\n",
      "Validation pearson is: nan\n",
      "Validation r2_score is: -0.06423811978121985\n",
      "-------------------------\n"
     ]
    },
    {
     "name": "stderr",
     "output_type": "stream",
     "text": [
      "/home/mbosnjak/.conda/envs/pero/lib/python3.7/site-packages/scipy/stats/stats.py:3399: PearsonRConstantInputWarning: An input array is constant; the correlation coefficent is not defined.\n",
      "  warnings.warn(PearsonRConstantInputWarning())\n"
     ]
    },
    {
     "name": "stdout",
     "output_type": "stream",
     "text": [
      "Epoch 5 end: 1.5142226219177246, TRAIN MSE is: 1229.5341796875\n",
      "Validation loss: 230278.1875000 - MSE score: 1101.8094482\n",
      "Validation pearson is: nan\n",
      "Validation r2_score is: -0.058698564269490605\n",
      "-------------------------\n"
     ]
    },
    {
     "name": "stderr",
     "output_type": "stream",
     "text": [
      "/home/mbosnjak/.conda/envs/pero/lib/python3.7/site-packages/scipy/stats/stats.py:3399: PearsonRConstantInputWarning: An input array is constant; the correlation coefficent is not defined.\n",
      "  warnings.warn(PearsonRConstantInputWarning())\n"
     ]
    },
    {
     "name": "stdout",
     "output_type": "stream",
     "text": [
      "Epoch 6 end: 1.4862518310546875, TRAIN MSE is: 1241.0089111328125\n",
      "Validation loss: 228961.3125000 - MSE score: 1095.5086670\n",
      "Validation pearson is: nan\n",
      "Validation r2_score is: -0.0526443100294236\n",
      "-------------------------\n"
     ]
    },
    {
     "name": "stderr",
     "output_type": "stream",
     "text": [
      "/home/mbosnjak/.conda/envs/pero/lib/python3.7/site-packages/scipy/stats/stats.py:3399: PearsonRConstantInputWarning: An input array is constant; the correlation coefficent is not defined.\n",
      "  warnings.warn(PearsonRConstantInputWarning())\n"
     ]
    },
    {
     "name": "stdout",
     "output_type": "stream",
     "text": [
      "Epoch 7 end: 1.5127108097076416, TRAIN MSE is: 1264.0765380859375\n",
      "Validation loss: 228934.4375000 - MSE score: 1095.3800049\n",
      "Validation pearson is: nan\n",
      "Validation r2_score is: -0.05252071212330578\n",
      "-------------------------\n"
     ]
    },
    {
     "name": "stderr",
     "output_type": "stream",
     "text": [
      "/home/mbosnjak/.conda/envs/pero/lib/python3.7/site-packages/scipy/stats/stats.py:3399: PearsonRConstantInputWarning: An input array is constant; the correlation coefficent is not defined.\n",
      "  warnings.warn(PearsonRConstantInputWarning())\n"
     ]
    },
    {
     "name": "stdout",
     "output_type": "stream",
     "text": [
      "Epoch 8 end: 1.5213592052459717, TRAIN MSE is: 1218.75830078125\n",
      "Validation loss: 228561.9375000 - MSE score: 1093.5976562\n",
      "Validation pearson is: nan\n",
      "Validation r2_score is: -0.05080813904723147\n",
      "-------------------------\n",
      "Apply best model to test for ['neuroticism'] on fold 0.\n",
      "Test loss: 289995.68750 - MSE score: 1115.3679199 \n",
      "Test pearson is: nan\n",
      "Test r2_score is: -0.05638762034559486\n",
      "-------------------------\n",
      "+++ Finished with training and testing model for ['neuroticism'] on fold 0. +++\n",
      "-------------------------\n",
      "-------------------------\n",
      "Experiment finished!\n"
     ]
    },
    {
     "name": "stderr",
     "output_type": "stream",
     "text": [
      "/home/mbosnjak/.conda/envs/pero/lib/python3.7/site-packages/scipy/stats/stats.py:3399: PearsonRConstantInputWarning: An input array is constant; the correlation coefficent is not defined.\n",
      "  warnings.warn(PearsonRConstantInputWarning())\n"
     ]
    }
   ],
   "source": [
    "# ------ POCETAK PODUPLANOG DIJELA \n",
    "location = '/home/mbosnjak/PERO/persil2/persil/modelsData'\n",
    "print(f'Parsing the {location} to obtain model and parameters.')\n",
    "models_data = json.load(open(location, 'r'))\n",
    "debugger = Debugger(models_data[DEBUG_STATUS])\n",
    "\n",
    "print(models_data)\n",
    "models_name = models_data[MODELS_NAME]\n",
    "\n",
    "nrows = get_optional(models_data, NUMBER_OF_ROWS)\n",
    "output_directory = get_output_directory_name(models_data[OUTPUT_DIRECTORYS_LOCATION], models_name)    \n",
    "if(not os.path.isdir(output_directory)):\n",
    "    os.makedirs(output_directory)\n",
    "    \n",
    "# ------ KRAJ PODUPLANOG DIJELA \n",
    "    \n",
    "print(\"Starting the experiments.\")\n",
    "experiment = Experiment(debugger, output_directory,get_optional(models_data,RESULTS_IMPORT_LOCATION), data_frame, models_data[BALANCE_DATA], models_data[EXPERIMENTS_NAME], models_name,\\\n",
    "     models_data[RUN_IDENTIFICATOR], models_data[FOLDS], models_data[PREDICTION_TYPE], models_data[TARGETS], models_data[OPTIMIZATION_PARAMETERS],\\\n",
    "         models_data[PRINT_BATCH_STATUS], models_data[MAX_CONSTANT_F1], models_data[NUMBER_OF_EPOCHS], models_data[DECAY_RATE], models_data[DECAY_EPOCH],\\\n",
    "         models_data[VALIDATION_SET_PERCENTAGE], models_data[CUDA_DEVICE], models_data[USE_GPU], models_data[RANDOM_STATE])\n",
    "\n",
    "experiment.start()\n",
    "print(\"Experiment finished!\")"
   ]
  }
 ],
 "metadata": {
  "kernelspec": {
   "display_name": "Python 3",
   "language": "python",
   "name": "python3"
  },
  "language_info": {
   "codemirror_mode": {
    "name": "ipython",
    "version": 3
   },
   "file_extension": ".py",
   "mimetype": "text/x-python",
   "name": "python",
   "nbconvert_exporter": "python",
   "pygments_lexer": "ipython3",
   "version": "3.7.4"
  }
 },
 "nbformat": 4,
 "nbformat_minor": 2
}
